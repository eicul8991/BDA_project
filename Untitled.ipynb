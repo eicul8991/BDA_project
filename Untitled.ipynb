{
 "cells": [
  {
   "cell_type": "code",
   "execution_count": 88,
   "id": "537e95f5",
   "metadata": {},
   "outputs": [],
   "source": [
    "import monpa\n",
    "from monpa import utils\n",
    "import csv\n",
    "import pandas as pd\n",
    "import os\n",
    "from datetime import datetime,timedelta\n",
    "import copy"
   ]
  },
  {
   "attachments": {},
   "cell_type": "markdown",
   "id": "543447f5",
   "metadata": {},
   "source": [
    "# 讀取csv File 做成字典"
   ]
  },
  {
   "cell_type": "code",
   "execution_count": 114,
   "id": "36df9c69",
   "metadata": {},
   "outputs": [
    {
     "name": "stdout",
     "output_type": "stream",
     "text": [
      "****************start to read data*******************\n",
      "Current Filename : bda2023_mid_bbs_2019-2021.csv, With 104466 datas\n",
      "Current Filename : bda2023_mid_bbs_2022-2023.csv, With 34630 datas\n",
      "Current Filename : bda2023_mid_forum_2019.csv, With 178236 datas\n",
      "Current Filename : bda2023_mid_forum_2020.csv, With 188939 datas\n",
      "Current Filename : bda2023_mid_forum_2021.csv, With 151782 datas\n",
      "Current Filename : bda2023_mid_forum_2022-2023.csv, With 118956 datas\n",
      "Current Filename : bda2023_mid_news_2019.csv, With 249509 datas\n",
      "Current Filename : bda2023_mid_news_2020.csv, With 157045 datas\n",
      "Current Filename : bda2023_mid_news_2021.csv, With 180838 datas\n",
      "Current Filename : bda2023_mid_news_2022-2023.csv, With 293954 datas\n",
      "Current Filename : bda2023_mid_news_2022.csv, With 225128 datas\n",
      "Current Filename : bda2023_mid_news_2023.csv, With 68826 datas\n",
      "****************End to read data*******************\n"
     ]
    }
   ],
   "source": [
    "def remove_marker(sentence)->str:\n",
    "    return_sentence=\"\"\n",
    "    marker=\"[A-Za-z0-9!#$%&'()*+,-./:;<=>?@[]^_`{|}~]\"\n",
    "    try:\n",
    "        return_sentence=re.sub(r'<[^>]+>','',str(sentence))\n",
    "        return_sentence=re.sub(marker,'',return_sentence)\n",
    "        return_sentence=str(sentence).lower().strip()\n",
    "    except:\n",
    "        print(\"remote_makeker Fail\")\n",
    "        \n",
    "    return return_sentence\n",
    "\n",
    "def dataloader(path,usecols,company,code):\n",
    "    file_dat={}\n",
    "    file_list=os.listdir(path) ## 給定一個path，回傳一個字串陣列，包含路徑下所有檔案的名稱\n",
    "    print(\"****************start to read data*******************\")   \n",
    "    for ff in file_list: #ff是在file_list陣列裡的元素\n",
    "        data=pd.read_csv(f'{path}/{ff}',usecols=usecols) #吃路徑下的所有檔案\n",
    "        data_rows=data.shape[0] #shape=回傳陣列大小(0=列,1=行)\n",
    "        print(f\"Current Filename : {ff}, With {data_rows} datas\") \n",
    "        # print(data[\"content\"],len(data[\"content\"]))\n",
    "        for _company,_code in zip(company,code): #zip:像mapping/allignment\n",
    "            temp=[]   \n",
    "            for i in range(data_rows): #range從零開始\n",
    "                content_=remove_marker(data.at[i,'content'])\n",
    "                title_=remove_marker(data.at[i,'title'])\n",
    "                if _company in str(data.at[i,'content']) or _company in str(data.at[i,'title']): #if指定字串有在指定座標的內容裡\n",
    "                    temp.append([datetime.strptime(data.at[i,\"post_time\"],'%Y-%m-%d %H:%M:%S'),datetime.strptime(data.at[i,\"post_time\"],'%Y-%m-%d %H:%M:%S').weekday(),title_,content_]) \n",
    "                    #append指定欄位+把時間字串轉成時間格式&轉成星期制\n",
    "            if _company in file_dat: #把_company陣列assign到file_dat裡的key\n",
    "                # print(file_dat.keys())\n",
    "                file_dat[_company]+=temp \n",
    "            else:    \n",
    "                file_dat[_company]=temp\n",
    "        # break\n",
    "    print(\"****************End to read data*******************\")\n",
    "    return file_dat\n",
    "\n",
    "\n",
    "usecols=[\"post_time\",'title','content']\n",
    "file_path=r\".\\bda\"\n",
    "\n",
    "Company=[\"台達電\",\"緯創\",\"晶心科\"]\n",
    "Code=[\"2308\",\"3665\",\"6533\"]\n",
    "stock_status=[\"上市\",\"上市\",\"上市\"]\n",
    "file_data=dataloader(file_path,usecols,Company,Code)\n",
    "for i in Company:\n",
    "    print(f\"{i} have {len(file_data[i])} rows of datas\")\n"
   ]
  },
  {
   "attachments": {},
   "cell_type": "markdown",
   "id": "b582c3c3",
   "metadata": {},
   "source": [
    "# 讀取Excel 利用時間建立標籤"
   ]
  },
  {
   "cell_type": "code",
   "execution_count": 91,
   "id": "1384b333",
   "metadata": {},
   "outputs": [
    {
     "name": "stdout",
     "output_type": "stream",
     "text": [
      "['上市2023', '上市2022', '上市2021', '上市2020', '上市2019', '上櫃2023', '上櫃2022', '上櫃2021', '上櫃2020', '上櫃2019']\n"
     ]
    }
   ],
   "source": [
    "# cols=[\"證券代碼\",\"年月日\",\"開盤價(元)\",\"最高價(元)\",\"最低價(元)\",\"收盤價(元)\",\"成交筆數(筆)\"]\n",
    "cols=[\"證券代碼\",\"年月日\",\"開盤價(元)\",\"收盤價(元)\"]\n",
    "Year=[\"2023\",\"2022\",\"2021\",\"2020\",\"2019\"]\n",
    "sheetname=[\"上市\",\"上櫃\"]\n",
    "\n",
    "combine=[i+k for i in sheetname for k in Year]\n",
    "print(combine)\n",
    "\n",
    "stock_analysis=pd.read_excel(\"./stock_data_2019-2023.xlsx\",usecols=cols,sheet_name=combine)\n"
   ]
  },
  {
   "cell_type": "code",
   "execution_count": 93,
   "id": "3cc855fe",
   "metadata": {},
   "outputs": [],
   "source": [
    "def Read_Stock_table(stockexcel,Company,combine): #從stock analysis抓資料出來\n",
    "    stcok_Time={}\n",
    "    for comname in Company:\n",
    "        stock_list=[]\n",
    "        for shhet in combine:\n",
    "            df=stockexcel[shhet]\n",
    "            row_count=df.shape[0]\n",
    "            # print(f\"Current sheet name{shhet}\")\n",
    "            for i in range(row_count):\n",
    "                if comname in df.at[i,\"證券代碼\"]:\n",
    "                    # timedata=[df.at[i,k] for k in cols]\n",
    "                    timedata=[comname,datetime.strptime(df.at[i,\"年月日\"],'%Y/%m/%d').date(),datetime.strptime(df.at[i,\"年月日\"],'%Y/%m/%d').weekday(),df.at[i,\"開盤價(元)\"],df.at[i,\"收盤價(元)\"]]\n",
    "                    stock_list.append(timedata)\n",
    "        if comname not in stcok_Time:            \n",
    "            stcok_Time[comname]=stock_list\n",
    "        else:\n",
    "            stcok_Time[comname]+=stock_list\n",
    "    return stcok_Time\n",
    "\n",
    "strck_table=Read_Stock_table(stock_analysis,Company,combine) #把stockanalysis傳進去readstocktable ## 型態 : dictionary \n"
   ]
  },
  {
   "cell_type": "code",
   "execution_count": 94,
   "id": "50396516",
   "metadata": {},
   "outputs": [],
   "source": [
    "## 寫進CSV File 中\n",
    "def write_to_csvFile(stock_name,stock_list,Filename,First_row):\n",
    "    with open(f\"{Filename} {stock_name}.csv\",\"w+\") as csvfile:\n",
    "        writer=csv.writer(csvfile)\n",
    "        writer.writerow(First_row)\n",
    "        writer.writerows(stock_list)\n",
    "\n",
    "first_stock_row=[\"證券代碼\",\"年月日\",\"週別\",\"開盤價(元)\",\"收盤價(元)\"]\n",
    "for key,value in strck_table.items():\n",
    "    write_to_csvFile(key,value,\"Stock of \",first_stock_row)"
   ]
  },
  {
   "cell_type": "code",
   "execution_count": 95,
   "id": "9bc61e75",
   "metadata": {},
   "outputs": [
    {
     "name": "stdout",
     "output_type": "stream",
     "text": [
      "漲共有: 4411 篇，跌共有: 4040 篇\n"
     ]
    }
   ],
   "source": [
    "## file_data 型態 : Dictionary; Key : 公司名稱, value : [日期, 星期別, Title,Content]\n",
    "## strck_table  型態 : dictionary ; Key: 公司名稱 value :[公司名稱, 日期 , 星期別 , 開盤價(元) , 收盤價(元)]\n",
    "## 目的: 在file_data 的Value 中加入label[漲, 跌] => key : 公司名稱, value:[日期, 星期別, Title,Content, label]\n",
    "file_with_label=copy.copy(file_data)\n",
    "up_count,down_count=0,0\n",
    "for cc in Company:\n",
    "    for i in file_with_label[cc]:\n",
    "        post_time=i[0] ## Post 的時間 型態 是一個 datetime\n",
    "\n",
    "        if i[1]==4:\n",
    "            next_day=post_time+timedelta(days=3)\n",
    "        elif i[1]==5:\n",
    "            next_day=post_time+timedelta(days=2)\n",
    "        else:\n",
    "            next_day=post_time+timedelta(days=1)\n",
    "        # print(post_time,next_day)\n",
    "\n",
    "        for stock_value in strck_table[cc]:\n",
    "\n",
    "            if post_time==stock_value[1]: ## stock table 的時間\n",
    "                post_Final_value=stock_value[4] ## post 當天的收盤價\n",
    "        \n",
    "            if next_day==stock_value[1]: ## stock table 的時間\n",
    "                next_Final_value=stock_value[4] ## next 天的收盤價\n",
    "        if post_Final_value >next_Final_value:\n",
    "            i.append(\"跌\")\n",
    "            down_count+=1\n",
    "        elif post_Final_value <next_Final_value:\n",
    "            i.append(\"漲\")\n",
    "            up_count+=1\n",
    "        else:\n",
    "            i.append(\"持平\")\n",
    "    if cc==\"台達電\":\n",
    "        break\n",
    "\n",
    "\n",
    "print(f\"漲共有: {up_count} 篇，跌共有: {down_count} 篇\")\n",
    "\n",
    "\n"
   ]
  },
  {
   "cell_type": "code",
   "execution_count": 96,
   "id": "d8222529",
   "metadata": {},
   "outputs": [],
   "source": [
    "## Write into csv\n",
    "first_post_row=[\"年月日\",\"週別\",'標題','內容']\n",
    "for cc in Company:\n",
    "    write_to_csvFile(cc,file_with_label[cc],\"Post of \",first_post_row)"
   ]
  },
  {
   "attachments": {},
   "cell_type": "markdown",
   "id": "264d7cbc",
   "metadata": {},
   "source": [
    "## 斷句 使用monpa 擷取字詞\n"
   ]
  },
  {
   "cell_type": "code",
   "execution_count": 97,
   "id": "0305eba5",
   "metadata": {},
   "outputs": [
    {
     "ename": "ValueError",
     "evalue": "too many values to unpack (expected 4)",
     "output_type": "error",
     "traceback": [
      "\u001b[1;31m---------------------------------------------------------------------------\u001b[0m",
      "\u001b[1;31mValueError\u001b[0m                                Traceback (most recent call last)",
      "\u001b[1;32m~\\AppData\\Local\\Temp\\ipykernel_20888\\2057398622.py\u001b[0m in \u001b[0;36m<module>\u001b[1;34m\u001b[0m\n\u001b[0;32m     29\u001b[0m     \u001b[1;32mreturn\u001b[0m \u001b[0mtitle_list\u001b[0m\u001b[1;33m,\u001b[0m\u001b[0mcontent_list\u001b[0m\u001b[1;33m\u001b[0m\u001b[1;33m\u001b[0m\u001b[0m\n\u001b[0;32m     30\u001b[0m \u001b[1;33m\u001b[0m\u001b[0m\n\u001b[1;32m---> 31\u001b[1;33m \u001b[0malfa_title\u001b[0m\u001b[1;33m,\u001b[0m\u001b[0malfa_content\u001b[0m\u001b[1;33m=\u001b[0m\u001b[0msplitword\u001b[0m\u001b[1;33m(\u001b[0m\u001b[0mfile_data\u001b[0m\u001b[1;33m[\u001b[0m\u001b[1;34m\"台達電\"\u001b[0m\u001b[1;33m]\u001b[0m\u001b[1;33m)\u001b[0m\u001b[1;33m\u001b[0m\u001b[1;33m\u001b[0m\u001b[0m\n\u001b[0m\u001b[0;32m     32\u001b[0m \u001b[0mbeta_title\u001b[0m\u001b[1;33m,\u001b[0m\u001b[0mbeta_content\u001b[0m\u001b[1;33m=\u001b[0m\u001b[0msplitword\u001b[0m\u001b[1;33m(\u001b[0m\u001b[0mfile_data\u001b[0m\u001b[1;33m[\u001b[0m\u001b[1;34m\"貿聯\"\u001b[0m\u001b[1;33m]\u001b[0m\u001b[1;33m)\u001b[0m\u001b[1;33m\u001b[0m\u001b[1;33m\u001b[0m\u001b[0m\n\u001b[0;32m     33\u001b[0m \u001b[0mprint\u001b[0m\u001b[1;33m(\u001b[0m\u001b[0malfa_title\u001b[0m\u001b[1;33m)\u001b[0m\u001b[1;33m\u001b[0m\u001b[1;33m\u001b[0m\u001b[0m\n",
      "\u001b[1;32m~\\AppData\\Local\\Temp\\ipykernel_20888\\2057398622.py\u001b[0m in \u001b[0;36msplitword\u001b[1;34m(ll)\u001b[0m\n\u001b[0;32m      6\u001b[0m     \u001b[1;32mfor\u001b[0m \u001b[0mi\u001b[0m \u001b[1;32min\u001b[0m \u001b[0mll\u001b[0m\u001b[1;33m:\u001b[0m\u001b[1;33m\u001b[0m\u001b[1;33m\u001b[0m\u001b[0m\n\u001b[0;32m      7\u001b[0m         \u001b[1;31m# print(i)\u001b[0m\u001b[1;33m\u001b[0m\u001b[1;33m\u001b[0m\u001b[0m\n\u001b[1;32m----> 8\u001b[1;33m         \u001b[0mtime\u001b[0m\u001b[1;33m,\u001b[0m\u001b[0mweekday\u001b[0m\u001b[1;33m,\u001b[0m\u001b[0mtitle\u001b[0m\u001b[1;33m,\u001b[0m\u001b[0mcontent\u001b[0m\u001b[1;33m=\u001b[0m\u001b[0mi\u001b[0m\u001b[1;33m\u001b[0m\u001b[1;33m\u001b[0m\u001b[0m\n\u001b[0m\u001b[0;32m      9\u001b[0m         \u001b[0mtitle_str\u001b[0m\u001b[1;33m+=\u001b[0m\u001b[0mtitle\u001b[0m\u001b[1;33m+\u001b[0m\u001b[1;34m\"。\"\u001b[0m\u001b[1;33m\u001b[0m\u001b[1;33m\u001b[0m\u001b[0m\n\u001b[0;32m     10\u001b[0m         \u001b[0mcontent_str\u001b[0m\u001b[1;33m+=\u001b[0m\u001b[0mcontent\u001b[0m\u001b[1;33m+\u001b[0m\u001b[1;34m\"。\"\u001b[0m\u001b[1;33m\u001b[0m\u001b[1;33m\u001b[0m\u001b[0m\n",
      "\u001b[1;31mValueError\u001b[0m: too many values to unpack (expected 4)"
     ]
    }
   ],
   "source": [
    "## 目標: 陣列 [\"詞彙\",\"漲 or 跌\",TFIDF 值, Chi-square 值, Mutual_information 值] \n",
    "\n",
    "def splitword(ll):\n",
    "    title_str,content_str=\"\",\"\"\n",
    "    \n",
    "    for i in ll:\n",
    "        # print(i)\n",
    "        time,weekday,title,content=i\n",
    "        title_str+=title+\"。\"\n",
    "        content_str+=content+\"。\"\n",
    "    title_sentence=utils.short_sentence(title_str) ## list\n",
    "    content_sentence=utils.short_sentence(content_str)\n",
    "    def extract_words(sentencelist):\n",
    "        word_list={}\n",
    "        for item in sentencelist:\n",
    "            reslutcut=monpa.cut(item) ## list\n",
    "            for term in reslutcut:\n",
    "                term=term.strip()\n",
    "                if len(term)>1 and not term.isdigit(): ## 長度>1 就是詞\n",
    "                    if term in word_list:\n",
    "                        word_list[term]+=1\n",
    "                    else:\n",
    "                        word_list[term]=1\n",
    "        return word_list\n",
    "    \n",
    "    title_list=extract_words(title_sentence)\n",
    "    content_list=extract_words(content_sentence)\n",
    "\n",
    "    return title_list,content_list\n",
    "\n",
    "alfa_title,alfa_content=splitword(file_data[\"台達電\"])\n",
    "beta_title,beta_content=splitword(file_data[\"貿聯\"])\n",
    "print(alfa_title)\n",
    "print(alfa_content)\n"
   ]
  }
 ],
 "metadata": {
  "kernelspec": {
   "display_name": "Python 3 (ipykernel)",
   "language": "python",
   "name": "python3"
  },
  "language_info": {
   "codemirror_mode": {
    "name": "ipython",
    "version": 3
   },
   "file_extension": ".py",
   "mimetype": "text/x-python",
   "name": "python",
   "nbconvert_exporter": "python",
   "pygments_lexer": "ipython3",
   "version": "3.9.13"
  }
 },
 "nbformat": 4,
 "nbformat_minor": 5
}
