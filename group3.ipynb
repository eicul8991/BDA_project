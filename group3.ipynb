{
 "cells": [
  {
   "attachments": {},
   "cell_type": "markdown",
   "metadata": {},
   "source": [
    "### Step1. Read stock price dataset"
   ]
  },
  {
   "cell_type": "code",
   "execution_count": 9,
   "metadata": {},
   "outputs": [
    {
     "data": {
      "text/plain": [
       "{'上市2023':                 證券代碼         年月日    開盤價(元)    最高價(元)    最低價(元)    收盤價(元)  \\\n",
       " 0        0050 元大台灣50  2023/03/24       122     122.3    121.55    122.20   \n",
       " 1       0051 元大中型100  2023/03/24     57.35     57.45     57.15     57.40   \n",
       " 2          0052 富邦科技  2023/03/24     109.7     110.1     109.5    110.10   \n",
       " 3          0053 元大電子  2023/03/24      61.2      61.3      61.1     61.30   \n",
       " 4      0055 元大MSCI金融  2023/03/24     21.86     21.86     21.74     21.83   \n",
       " ...              ...         ...       ...       ...       ...       ...   \n",
       " 61821     Y8886 未含金電  2023/01/03  14256.55  14263.22  14102.72  14249.89   \n",
       " 61822    Y8887 TR未金電  2023/01/03         -         -         -  30316.15   \n",
       " 61823     Y8888 不含金融  2023/01/03  12093.34  12215.15   12006.5  12204.82   \n",
       " 61824     Y9997 報酬指數  2023/01/03         -         -         -  29568.47   \n",
       " 61825     Y9999 加權指數  2023/01/03  14108.16  14237.94  14001.97  14224.12   \n",
       " \n",
       "        成交量(千股)    成交值(千元)  成交筆數(筆)  流通在外股數(千股) 本益比-TSE 股價淨值比-TSE  \n",
       " 0        13919    1697778    10776     2298000       -         -  \n",
       " 1           41       2369      149       16000       -         -  \n",
       " 2          383      42150      489       57000       -         -  \n",
       " 3            5        322     1013        4988       -         -  \n",
       " 4          220       4804      319       75654       -         -  \n",
       " ...        ...        ...      ...         ...     ...       ...  \n",
       " 61821   901796   59040940   524887   271095601       -         -  \n",
       " 61822   901796   59040940   524887   271095601       -         -  \n",
       " 61823  1611396  133105315   981464   505993472       -         -  \n",
       " 61824  4427323  151313914  1312918   747819751       -         -  \n",
       " 61825  4427323  151313914  1312918   747819751       -         -  \n",
       " \n",
       " [61826 rows x 12 columns],\n",
       " '上市2022':                  證券代碼         年月日    開盤價(元)    最高價(元)    最低價(元)      收盤價(元)  \\\n",
       " 0         0050 元大台灣50  2022/12/30  108.1651  108.3118  107.7739    107.7739   \n",
       " 1        0051 元大中型100  2022/12/30     51.55     51.55     51.25     51.2500   \n",
       " 2           0052 富邦科技  2022/12/30      93.5      93.6      92.5     92.5000   \n",
       " 3           0053 元大電子  2022/12/30     52.35      52.4      51.4     51.4000   \n",
       " 4       0055 元大MSCI金融  2022/12/30     21.45     21.58     21.44     21.5000   \n",
       " ...               ...         ...       ...       ...       ...         ...   \n",
       " 312779     Y8886 未含金電  2022/01/03  17096.01  17156.24  16935.47  16975.9000   \n",
       " 312780    Y8887 TR未金電  2022/01/03         -         -         -  34024.5300   \n",
       " 312781     Y8888 不含金融  2022/01/03  15900.55  16015.01  15889.17  15926.4100   \n",
       " 312782     Y9997 報酬指數  2022/01/03         -         -         -  36240.9600   \n",
       " 312783     Y9999 加權指數  2022/01/03  18260.23  18379.69  18238.47  18270.5100   \n",
       " \n",
       "         成交量(千股)    成交值(千元)  成交筆數(筆) 流通在外股數(千股) 本益比-TSE 股價淨值比-TSE  \n",
       " 0          8890     982130     7376    2307000       -         -  \n",
       " 1            12        625      133      15500       -         -  \n",
       " 2           112      10464      286      60500       -         -  \n",
       " 3             7        371     1010       4988       -         -  \n",
       " 4           239       5142      236      75654       -         -  \n",
       " ...         ...        ...      ...        ...     ...       ...  \n",
       " 312779  1407511   90349846   647027  269249087       -         -  \n",
       " 312780  1407511   90349846   647027  269249087       -         -  \n",
       " 312781  3929498  308242779  1967936  501721259       -         -  \n",
       " 312782  6970218  331140316  2338749  732739813       -         -  \n",
       " 312783  6970218  331140316  2338749  732739813       -         -  \n",
       " \n",
       " [312784 rows x 12 columns],\n",
       " '上市2021':                 證券代碼         年月日    開盤價(元)    最高價(元)    最低價(元)      收盤價(元)  \\\n",
       " 0        0050 元大台灣50  2021/12/30  142.8176  142.8665  142.2305    142.3773   \n",
       " 1       0051 元大中型100  2021/12/30        61        61      60.8     60.8000   \n",
       " 2          0052 富邦科技  2021/12/30     134.4     134.4     133.8    134.1500   \n",
       " 3          0053 元大電子  2021/12/30        70        70     69.95     69.9500   \n",
       " 4        0054 元大台商50  2021/12/30     31.62     31.68     31.62     31.6800   \n",
       " ...              ...         ...       ...       ...       ...         ...   \n",
       " 307019    Y8886 未含金電  2021/01/04  13686.74  13778.54     13619  13759.0400   \n",
       " 307020   Y8887 TR未金電  2021/01/04         -         -         -  26884.2700   \n",
       " 307021    Y8888 不含金融  2021/01/04  12929.97  13147.01  12929.97  13113.5000   \n",
       " 307022    Y9997 報酬指數  2021/01/04         -         -         -  28768.5700   \n",
       " 307023    Y9999 加權指數  2021/01/04  14720.25  14937.13  14720.25  14902.0300   \n",
       " \n",
       "         成交量(千股)    成交值(千元)  成交筆數(筆)  流通在外股數(千股) 本益比-TSE 股價淨值比-TSE  \n",
       " 0          6421     935379     5369     1209000       -         -  \n",
       " 1            47       2877       83       12500       -         -  \n",
       " 2           479      64233      251       53000       -         -  \n",
       " 3             2        152        8        4988       -         -  \n",
       " 4             2         86       10        6624       -         -  \n",
       " ...         ...        ...      ...         ...     ...       ...  \n",
       " 307019  2580614   88240552   901945   261707278       -         -  \n",
       " 307020  2580614   88240552   901945   261707278       -         -  \n",
       " 307021  6132620  327636974  2429094   491859466       -         -  \n",
       " 307022  9339297  349548269  2722333   719254926       -         -  \n",
       " 307023  9339297  349548269  2722333   719254926       -         -  \n",
       " \n",
       " [307024 rows x 12 columns],\n",
       " '上市2020':                 證券代碼         年月日    開盤價(元)    最高價(元)    最低價(元)    收盤價(元)  \\\n",
       " 0            1101 台泥  2020/12/31     43.30     43.75     43.20     43.20   \n",
       " 1            1102 亞泥  2020/12/31     43.30     43.65     43.20     43.20   \n",
       " 2            1103 嘉泥  2020/12/31     19.10     19.20     19.00     19.05   \n",
       " 3            1104 環泥  2020/12/31     23.50     23.60     23.20     23.20   \n",
       " 4            1108 幸福  2020/12/31     12.90     12.95     12.65     12.70   \n",
       " ...              ...         ...       ...       ...       ...       ...   \n",
       " 238120  TWN50 台灣50指數  2020/01/02   9382.64   9458.51   9376.50   9450.90   \n",
       " 238121    Y5555 不含電子  2020/01/02  15184.96  15217.06  15170.14  15203.12   \n",
       " 238122    Y8886 未含金電  2020/01/02  12558.52  12595.63  12546.79  12578.50   \n",
       " 238123    Y8888 不含金融  2020/01/02  10199.11  10281.39  10199.11  10271.14   \n",
       " 238124    Y9999 加權指數  2020/01/02  12026.50  12110.74  12026.23  12100.48   \n",
       " \n",
       "         成交量(千股)    成交值(千元)  成交筆數(筆)  流通在外股數(千股) 本益比-TSE 股價淨值比-TSE  \n",
       " 0         12485     541368     4638     5810254   10.29      1.32  \n",
       " 1          3214     139295     1429     3361447   10.12      1.02  \n",
       " 2          1274      24334      463      774780   35.94      0.55  \n",
       " 3           706      16494      293      653609    11.6      0.85  \n",
       " 4          1782      22703      579      404738    13.8      1.12  \n",
       " ...         ...        ...      ...         ...     ...       ...  \n",
       " 238120   400657   37335137   173161   355830808       -         -  \n",
       " 238121   668539   20684777   258924   479766580       -         -  \n",
       " 238122   461643   16830608   196095   258088091       -         -  \n",
       " 238123  1840092  125646483   827519   489492844       -         -  \n",
       " 238124  4335855  142714556  1060157   711171333       -         -  \n",
       " \n",
       " [238125 rows x 12 columns],\n",
       " '上市2019':                 證券代碼         年月日      開盤價(元)      最高價(元)      最低價(元)  \\\n",
       " 0            1101 台泥  2019/12/31     39.3319     39.4671     39.1968   \n",
       " 1            1102 亞泥  2019/12/31     45.0301     45.1704     44.7963   \n",
       " 2            1103 嘉泥  2019/12/31     21.4838     21.4838     21.0588   \n",
       " 3            1104 環泥  2019/12/31     18.2984     18.6766     18.2984   \n",
       " 4            1108 幸福  2019/12/31      8.4470      8.5948      8.2597   \n",
       " ...              ...         ...         ...         ...         ...   \n",
       " 236624  TWN50 台灣50指數  2019/01/02   7329.1800   7330.8300   7153.3900   \n",
       " 236625    Y5555 不含電子  2019/01/02  13835.6900  13860.2000  13621.1700   \n",
       " 236626    Y8886 未含金電  2019/01/02  11664.4000  11688.6400  11471.1500   \n",
       " 236627    Y8888 不含金融  2019/01/02   8143.8300   8154.8500   7982.6900   \n",
       " 236628    Y9999 加權指數  2019/01/02   9725.2700   9737.6800   9542.5200   \n",
       " \n",
       "             收盤價(元)  成交量(千股)   成交值(千元)  成交筆數(筆)  流通在外股數(千股) 本益比-TSE 股價淨值比-TSE  \n",
       " 0          39.3770     8465    369694     3374     5465619   10.76      1.35  \n",
       " 1          44.8431     7053    339250     2835     3361447   10.56      1.13  \n",
       " 2          21.1060     3657     82346     1347      774780   11.06      0.66  \n",
       " 3          18.5348     5789    112880      877      653609   12.81      0.72  \n",
       " 4           8.2597      753      6408      315      404738       0       0.8  \n",
       " ...            ...      ...       ...      ...         ...     ...       ...  \n",
       " 236624   7163.8100   387749  28425456   149129   359365501       -         -  \n",
       " 236625  13637.3100   527495  17996025   212165   473541845       -         -  \n",
       " 236626  11482.0300   292213  13834070   144018   257338660       -         -  \n",
       " 236627   7991.8600  1010365  57542541   474357   489143036       -         -  \n",
       " 236628   9554.1400  3181887  72547773   660838   705346221       -         -  \n",
       " \n",
       " [236629 rows x 12 columns]}"
      ]
     },
     "execution_count": 9,
     "metadata": {},
     "output_type": "execute_result"
    }
   ],
   "source": [
    "import pandas as pd\n",
    "import re\n",
    "\n",
    "\n",
    "all_df = pd.read_excel(open('stock_data_2019-2023.xlsx', 'rb'),['上市2023','上市2022','上市2021','上市2020','上市2019'])\n",
    "all_df\n"
   ]
  },
  {
   "attachments": {},
   "cell_type": "markdown",
   "metadata": {},
   "source": [
    "### Step2. Merge all stock prices between 2019 to 2023"
   ]
  },
  {
   "cell_type": "code",
   "execution_count": 10,
   "metadata": {},
   "outputs": [
    {
     "data": {
      "text/html": [
       "<div>\n",
       "<style scoped>\n",
       "    .dataframe tbody tr th:only-of-type {\n",
       "        vertical-align: middle;\n",
       "    }\n",
       "\n",
       "    .dataframe tbody tr th {\n",
       "        vertical-align: top;\n",
       "    }\n",
       "\n",
       "    .dataframe thead th {\n",
       "        text-align: right;\n",
       "    }\n",
       "</style>\n",
       "<table border=\"1\" class=\"dataframe\">\n",
       "  <thead>\n",
       "    <tr style=\"text-align: right;\">\n",
       "      <th></th>\n",
       "      <th>證券代碼</th>\n",
       "      <th>年月日</th>\n",
       "      <th>開盤價(元)</th>\n",
       "      <th>最高價(元)</th>\n",
       "      <th>最低價(元)</th>\n",
       "      <th>收盤價(元)</th>\n",
       "      <th>成交量(千股)</th>\n",
       "      <th>成交值(千元)</th>\n",
       "      <th>成交筆數(筆)</th>\n",
       "      <th>流通在外股數(千股)</th>\n",
       "      <th>本益比-TSE</th>\n",
       "      <th>股價淨值比-TSE</th>\n",
       "    </tr>\n",
       "  </thead>\n",
       "  <tbody>\n",
       "    <tr>\n",
       "      <th>0</th>\n",
       "      <td>0050 元大台灣50</td>\n",
       "      <td>2023/03/24</td>\n",
       "      <td>122</td>\n",
       "      <td>122.3</td>\n",
       "      <td>121.55</td>\n",
       "      <td>122.20</td>\n",
       "      <td>13919</td>\n",
       "      <td>1697778</td>\n",
       "      <td>10776</td>\n",
       "      <td>2298000</td>\n",
       "      <td>-</td>\n",
       "      <td>-</td>\n",
       "    </tr>\n",
       "    <tr>\n",
       "      <th>1</th>\n",
       "      <td>0051 元大中型100</td>\n",
       "      <td>2023/03/24</td>\n",
       "      <td>57.35</td>\n",
       "      <td>57.45</td>\n",
       "      <td>57.15</td>\n",
       "      <td>57.40</td>\n",
       "      <td>41</td>\n",
       "      <td>2369</td>\n",
       "      <td>149</td>\n",
       "      <td>16000</td>\n",
       "      <td>-</td>\n",
       "      <td>-</td>\n",
       "    </tr>\n",
       "    <tr>\n",
       "      <th>2</th>\n",
       "      <td>0052 富邦科技</td>\n",
       "      <td>2023/03/24</td>\n",
       "      <td>109.7</td>\n",
       "      <td>110.1</td>\n",
       "      <td>109.5</td>\n",
       "      <td>110.10</td>\n",
       "      <td>383</td>\n",
       "      <td>42150</td>\n",
       "      <td>489</td>\n",
       "      <td>57000</td>\n",
       "      <td>-</td>\n",
       "      <td>-</td>\n",
       "    </tr>\n",
       "    <tr>\n",
       "      <th>3</th>\n",
       "      <td>0053 元大電子</td>\n",
       "      <td>2023/03/24</td>\n",
       "      <td>61.2</td>\n",
       "      <td>61.3</td>\n",
       "      <td>61.1</td>\n",
       "      <td>61.30</td>\n",
       "      <td>5</td>\n",
       "      <td>322</td>\n",
       "      <td>1013</td>\n",
       "      <td>4988</td>\n",
       "      <td>-</td>\n",
       "      <td>-</td>\n",
       "    </tr>\n",
       "    <tr>\n",
       "      <th>4</th>\n",
       "      <td>0055 元大MSCI金融</td>\n",
       "      <td>2023/03/24</td>\n",
       "      <td>21.86</td>\n",
       "      <td>21.86</td>\n",
       "      <td>21.74</td>\n",
       "      <td>21.83</td>\n",
       "      <td>220</td>\n",
       "      <td>4804</td>\n",
       "      <td>319</td>\n",
       "      <td>75654</td>\n",
       "      <td>-</td>\n",
       "      <td>-</td>\n",
       "    </tr>\n",
       "  </tbody>\n",
       "</table>\n",
       "</div>"
      ],
      "text/plain": [
       "            證券代碼         年月日 開盤價(元) 最高價(元)  最低價(元)  收盤價(元)  成交量(千股)  成交值(千元)  \\\n",
       "0    0050 元大台灣50  2023/03/24    122  122.3  121.55  122.20    13919  1697778   \n",
       "1   0051 元大中型100  2023/03/24  57.35  57.45   57.15   57.40       41     2369   \n",
       "2      0052 富邦科技  2023/03/24  109.7  110.1   109.5  110.10      383    42150   \n",
       "3      0053 元大電子  2023/03/24   61.2   61.3    61.1   61.30        5      322   \n",
       "4  0055 元大MSCI金融  2023/03/24  21.86  21.86   21.74   21.83      220     4804   \n",
       "\n",
       "   成交筆數(筆) 流通在外股數(千股) 本益比-TSE 股價淨值比-TSE  \n",
       "0    10776    2298000       -         -  \n",
       "1      149      16000       -         -  \n",
       "2      489      57000       -         -  \n",
       "3     1013       4988       -         -  \n",
       "4      319      75654       -         -  "
      ]
     },
     "execution_count": 10,
     "metadata": {},
     "output_type": "execute_result"
    }
   ],
   "source": [
    "wistron_df = pd.concat([all_df['上市2023'],all_df['上市2022'],all_df['上市2021'],all_df['上市2020'],all_df['上市2019']])\n",
    "wistron_df.head()"
   ]
  },
  {
   "attachments": {},
   "cell_type": "markdown",
   "metadata": {},
   "source": [
    "### Step3. Extract 緯創 and rename columns"
   ]
  },
  {
   "cell_type": "code",
   "execution_count": 11,
   "metadata": {},
   "outputs": [
    {
     "data": {
      "text/html": [
       "<div>\n",
       "<style scoped>\n",
       "    .dataframe tbody tr th:only-of-type {\n",
       "        vertical-align: middle;\n",
       "    }\n",
       "\n",
       "    .dataframe tbody tr th {\n",
       "        vertical-align: top;\n",
       "    }\n",
       "\n",
       "    .dataframe thead th {\n",
       "        text-align: right;\n",
       "    }\n",
       "</style>\n",
       "<table border=\"1\" class=\"dataframe\">\n",
       "  <thead>\n",
       "    <tr style=\"text-align: right;\">\n",
       "      <th></th>\n",
       "      <th>證券代碼</th>\n",
       "      <th>date</th>\n",
       "      <th>開盤價(元)</th>\n",
       "      <th>最高價(元)</th>\n",
       "      <th>最低價(元)</th>\n",
       "      <th>close</th>\n",
       "      <th>成交量(千股)</th>\n",
       "      <th>成交值(千元)</th>\n",
       "      <th>成交筆數(筆)</th>\n",
       "      <th>流通在外股數(千股)</th>\n",
       "      <th>本益比-TSE</th>\n",
       "      <th>股價淨值比-TSE</th>\n",
       "    </tr>\n",
       "  </thead>\n",
       "  <tbody>\n",
       "    <tr>\n",
       "      <th>744</th>\n",
       "      <td>3231 緯創</td>\n",
       "      <td>2023-03-24</td>\n",
       "      <td>40.2</td>\n",
       "      <td>40.35</td>\n",
       "      <td>38.65</td>\n",
       "      <td>40.00</td>\n",
       "      <td>69939</td>\n",
       "      <td>2766859</td>\n",
       "      <td>29215</td>\n",
       "      <td>2900166</td>\n",
       "      <td>10.2</td>\n",
       "      <td>1.18</td>\n",
       "    </tr>\n",
       "    <tr>\n",
       "      <th>2005</th>\n",
       "      <td>3231 緯創</td>\n",
       "      <td>2023-03-23</td>\n",
       "      <td>38.2</td>\n",
       "      <td>39.8</td>\n",
       "      <td>37.85</td>\n",
       "      <td>39.65</td>\n",
       "      <td>79210</td>\n",
       "      <td>3102975</td>\n",
       "      <td>36220</td>\n",
       "      <td>2900166</td>\n",
       "      <td>10.11</td>\n",
       "      <td>1.17</td>\n",
       "    </tr>\n",
       "    <tr>\n",
       "      <th>3266</th>\n",
       "      <td>3231 緯創</td>\n",
       "      <td>2023-03-22</td>\n",
       "      <td>38.45</td>\n",
       "      <td>38.45</td>\n",
       "      <td>37.3</td>\n",
       "      <td>38.20</td>\n",
       "      <td>50786</td>\n",
       "      <td>1930533</td>\n",
       "      <td>23001</td>\n",
       "      <td>2900166</td>\n",
       "      <td>9.74</td>\n",
       "      <td>1.13</td>\n",
       "    </tr>\n",
       "    <tr>\n",
       "      <th>4527</th>\n",
       "      <td>3231 緯創</td>\n",
       "      <td>2023-03-21</td>\n",
       "      <td>37</td>\n",
       "      <td>37.95</td>\n",
       "      <td>36.55</td>\n",
       "      <td>37.55</td>\n",
       "      <td>67075</td>\n",
       "      <td>2500129</td>\n",
       "      <td>29866</td>\n",
       "      <td>2900166</td>\n",
       "      <td>9.58</td>\n",
       "      <td>1.11</td>\n",
       "    </tr>\n",
       "    <tr>\n",
       "      <th>5784</th>\n",
       "      <td>3231 緯創</td>\n",
       "      <td>2023-03-20</td>\n",
       "      <td>35</td>\n",
       "      <td>35.9</td>\n",
       "      <td>35</td>\n",
       "      <td>35.90</td>\n",
       "      <td>28645</td>\n",
       "      <td>1019862</td>\n",
       "      <td>13347</td>\n",
       "      <td>2900166</td>\n",
       "      <td>9.16</td>\n",
       "      <td>1.06</td>\n",
       "    </tr>\n",
       "  </tbody>\n",
       "</table>\n",
       "</div>"
      ],
      "text/plain": [
       "         證券代碼       date 開盤價(元) 最高價(元) 最低價(元)  close  成交量(千股)  成交值(千元)  \\\n",
       "744   3231 緯創 2023-03-24   40.2  40.35  38.65  40.00    69939  2766859   \n",
       "2005  3231 緯創 2023-03-23   38.2   39.8  37.85  39.65    79210  3102975   \n",
       "3266  3231 緯創 2023-03-22  38.45  38.45   37.3  38.20    50786  1930533   \n",
       "4527  3231 緯創 2023-03-21     37  37.95  36.55  37.55    67075  2500129   \n",
       "5784  3231 緯創 2023-03-20     35   35.9     35  35.90    28645  1019862   \n",
       "\n",
       "      成交筆數(筆) 流通在外股數(千股) 本益比-TSE 股價淨值比-TSE  \n",
       "744     29215    2900166    10.2      1.18  \n",
       "2005    36220    2900166   10.11      1.17  \n",
       "3266    23001    2900166    9.74      1.13  \n",
       "4527    29866    2900166    9.58      1.11  \n",
       "5784    13347    2900166    9.16      1.06  "
      ]
     },
     "execution_count": 11,
     "metadata": {},
     "output_type": "execute_result"
    }
   ],
   "source": [
    "from datetime import timedelta\n",
    "import numpy as np\n",
    "wistron_df = wistron_df[wistron_df['證券代碼']==r'3231 緯創']\n",
    "wistron_df['年月日']  = pd.to_datetime(wistron_df['年月日'])\n",
    "wistron_df = wistron_df.rename(columns={\"年月日\":\"date\",\"收盤價(元)\":\"close\"})\n",
    "wistron_df.head()"
   ]
  },
  {
   "attachments": {},
   "cell_type": "markdown",
   "metadata": {},
   "source": [
    "### Step4. Label price trend"
   ]
  },
  {
   "cell_type": "code",
   "execution_count": 12,
   "metadata": {},
   "outputs": [
    {
     "data": {
      "text/html": [
       "<div>\n",
       "<style scoped>\n",
       "    .dataframe tbody tr th:only-of-type {\n",
       "        vertical-align: middle;\n",
       "    }\n",
       "\n",
       "    .dataframe tbody tr th {\n",
       "        vertical-align: top;\n",
       "    }\n",
       "\n",
       "    .dataframe thead th {\n",
       "        text-align: right;\n",
       "    }\n",
       "</style>\n",
       "<table border=\"1\" class=\"dataframe\">\n",
       "  <thead>\n",
       "    <tr style=\"text-align: right;\">\n",
       "      <th></th>\n",
       "      <th>date</th>\n",
       "      <th>label</th>\n",
       "    </tr>\n",
       "  </thead>\n",
       "  <tbody>\n",
       "    <tr>\n",
       "      <th>6</th>\n",
       "      <td>2023-03-16</td>\n",
       "      <td>up</td>\n",
       "    </tr>\n",
       "    <tr>\n",
       "      <th>7</th>\n",
       "      <td>2023-03-15</td>\n",
       "      <td>up</td>\n",
       "    </tr>\n",
       "    <tr>\n",
       "      <th>8</th>\n",
       "      <td>2023-03-14</td>\n",
       "      <td>up</td>\n",
       "    </tr>\n",
       "    <tr>\n",
       "      <th>9</th>\n",
       "      <td>2023-03-13</td>\n",
       "      <td>up</td>\n",
       "    </tr>\n",
       "    <tr>\n",
       "      <th>10</th>\n",
       "      <td>2023-03-10</td>\n",
       "      <td>up</td>\n",
       "    </tr>\n",
       "    <tr>\n",
       "      <th>...</th>\n",
       "      <td>...</td>\n",
       "      <td>...</td>\n",
       "    </tr>\n",
       "    <tr>\n",
       "      <th>1017</th>\n",
       "      <td>2019-01-14</td>\n",
       "      <td>up</td>\n",
       "    </tr>\n",
       "    <tr>\n",
       "      <th>1018</th>\n",
       "      <td>2019-01-11</td>\n",
       "      <td>up</td>\n",
       "    </tr>\n",
       "    <tr>\n",
       "      <th>1019</th>\n",
       "      <td>2019-01-10</td>\n",
       "      <td>up</td>\n",
       "    </tr>\n",
       "    <tr>\n",
       "      <th>1021</th>\n",
       "      <td>2019-01-08</td>\n",
       "      <td>up</td>\n",
       "    </tr>\n",
       "    <tr>\n",
       "      <th>1023</th>\n",
       "      <td>2019-01-04</td>\n",
       "      <td>up</td>\n",
       "    </tr>\n",
       "  </tbody>\n",
       "</table>\n",
       "<p>209 rows × 2 columns</p>\n",
       "</div>"
      ],
      "text/plain": [
       "            date label\n",
       "6     2023-03-16    up\n",
       "7     2023-03-15    up\n",
       "8     2023-03-14    up\n",
       "9     2023-03-13    up\n",
       "10    2023-03-10    up\n",
       "...          ...   ...\n",
       "1017  2019-01-14    up\n",
       "1018  2019-01-11    up\n",
       "1019  2019-01-10    up\n",
       "1021  2019-01-08    up\n",
       "1023  2019-01-04    up\n",
       "\n",
       "[209 rows x 2 columns]"
      ]
     },
     "execution_count": 12,
     "metadata": {},
     "output_type": "execute_result"
    }
   ],
   "source": [
    "import datetime as dt\n",
    "dates = []\n",
    "labels= []\n",
    "\n",
    "for date in wistron_df['date'].values: #要計算一週多一天的日期\n",
    "    after_weekday = np.datetime64(date,'D').astype(dt.datetime).weekday()\n",
    "    if after_weekday ==4: #星期五\n",
    "      after_days = date+np.timedelta64(10, 'D')\n",
    "    else:\n",
    "      after_days = date+np.timedelta64(8, 'D')\n",
    "    original_close_val = wistron_df[wistron_df['date']==date].close.values[0]\n",
    "    if after_days not in wistron_df['date'].values :\n",
    "      label  = 'last'\n",
    "    elif wistron_df[wistron_df.date==after_days].close.values[0] > (original_close_val*1.03 ) :\n",
    "      label = 'up'\n",
    "    elif wistron_df[wistron_df.date==after_days].close.values[0] < (original_close_val-original_close_val*0.03)  :\n",
    "      label = 'down'\n",
    "    else:\n",
    "      label = 'keep'\n",
    "    dates.append(date)\n",
    "    labels.append(label)\n",
    "\n",
    "new_df = {\"date\":dates,\"label\":labels}\n",
    "new_df = pd.DataFrame(data=new_df)\n",
    "new_df[\"date\"] = pd.to_datetime(new_df[\"date\"]).dt.date\n",
    "new_df[new_df['label']=='up']"
   ]
  },
  {
   "cell_type": "code",
   "execution_count": 13,
   "metadata": {},
   "outputs": [
    {
     "data": {
      "text/plain": [
       "keep    614\n",
       "up      209\n",
       "down    127\n",
       "last     76\n",
       "Name: label, dtype: int64"
      ]
     },
     "execution_count": 13,
     "metadata": {},
     "output_type": "execute_result"
    }
   ],
   "source": [
    "new_df['label'].value_counts()"
   ]
  },
  {
   "cell_type": "code",
   "execution_count": 14,
   "metadata": {},
   "outputs": [
    {
     "data": {
      "text/html": [
       "<div>\n",
       "<style scoped>\n",
       "    .dataframe tbody tr th:only-of-type {\n",
       "        vertical-align: middle;\n",
       "    }\n",
       "\n",
       "    .dataframe tbody tr th {\n",
       "        vertical-align: top;\n",
       "    }\n",
       "\n",
       "    .dataframe thead th {\n",
       "        text-align: right;\n",
       "    }\n",
       "</style>\n",
       "<table border=\"1\" class=\"dataframe\">\n",
       "  <thead>\n",
       "    <tr style=\"text-align: right;\">\n",
       "      <th></th>\n",
       "      <th>date</th>\n",
       "      <th>label</th>\n",
       "    </tr>\n",
       "  </thead>\n",
       "  <tbody>\n",
       "    <tr>\n",
       "      <th>1023</th>\n",
       "      <td>2019-01-04</td>\n",
       "      <td>up</td>\n",
       "    </tr>\n",
       "    <tr>\n",
       "      <th>1021</th>\n",
       "      <td>2019-01-08</td>\n",
       "      <td>up</td>\n",
       "    </tr>\n",
       "    <tr>\n",
       "      <th>1019</th>\n",
       "      <td>2019-01-10</td>\n",
       "      <td>up</td>\n",
       "    </tr>\n",
       "    <tr>\n",
       "      <th>1018</th>\n",
       "      <td>2019-01-11</td>\n",
       "      <td>up</td>\n",
       "    </tr>\n",
       "    <tr>\n",
       "      <th>1017</th>\n",
       "      <td>2019-01-14</td>\n",
       "      <td>up</td>\n",
       "    </tr>\n",
       "    <tr>\n",
       "      <th>...</th>\n",
       "      <td>...</td>\n",
       "      <td>...</td>\n",
       "    </tr>\n",
       "    <tr>\n",
       "      <th>4</th>\n",
       "      <td>2023-03-20</td>\n",
       "      <td>last</td>\n",
       "    </tr>\n",
       "    <tr>\n",
       "      <th>3</th>\n",
       "      <td>2023-03-21</td>\n",
       "      <td>last</td>\n",
       "    </tr>\n",
       "    <tr>\n",
       "      <th>2</th>\n",
       "      <td>2023-03-22</td>\n",
       "      <td>last</td>\n",
       "    </tr>\n",
       "    <tr>\n",
       "      <th>1</th>\n",
       "      <td>2023-03-23</td>\n",
       "      <td>last</td>\n",
       "    </tr>\n",
       "    <tr>\n",
       "      <th>0</th>\n",
       "      <td>2023-03-24</td>\n",
       "      <td>last</td>\n",
       "    </tr>\n",
       "  </tbody>\n",
       "</table>\n",
       "<p>285 rows × 2 columns</p>\n",
       "</div>"
      ],
      "text/plain": [
       "            date label\n",
       "1023  2019-01-04    up\n",
       "1021  2019-01-08    up\n",
       "1019  2019-01-10    up\n",
       "1018  2019-01-11    up\n",
       "1017  2019-01-14    up\n",
       "...          ...   ...\n",
       "4     2023-03-20  last\n",
       "3     2023-03-21  last\n",
       "2     2023-03-22  last\n",
       "1     2023-03-23  last\n",
       "0     2023-03-24  last\n",
       "\n",
       "[285 rows x 2 columns]"
      ]
     },
     "execution_count": 14,
     "metadata": {},
     "output_type": "execute_result"
    }
   ],
   "source": [
    "new_df_ase = pd.concat([new_df[new_df['label']=='up'],new_df[new_df['label']=='last']])\n",
    "new_df_ase = new_df_ase.sort_values('date',ascending = True)\n",
    "new_df_ase"
   ]
  },
  {
   "attachments": {},
   "cell_type": "markdown",
   "metadata": {},
   "source": [
    "### Step5. Read all docs and concat them"
   ]
  },
  {
   "cell_type": "code",
   "execution_count": 15,
   "metadata": {},
   "outputs": [],
   "source": [
    "\n",
    "import os\n",
    "import re\n",
    "import pandas as pd\n",
    "\n",
    "path=os.path.join(os.getcwd(),\"bda\")\n",
    "try:\n",
    "    filename=os.listdir(path)\n",
    "    usecol=['post_time','title','content']\n",
    "    data=[]\n",
    "    for fname in filename:\n",
    "        if not re.search(\".*/.xlsx\",fname):\n",
    "            data.append(pd. read_csv(os.path.join(path,fname),usecols=usecol))\n",
    "    all_term_df = pd.concat(data)\n",
    "    all_term_df.head()\n",
    "except:\n",
    "    bbs1_df = pd.read_csv('bbs_2019-2021.csv')\n",
    "    bbs2_df = pd.read_csv('bbs_2022-2023.csv')\n",
    "    forum1_df = pd.read_csv('forum_2019.csv')\n",
    "    forum2_df = pd.read_csv('forum_2020.csv')\n",
    "    forum3_df = pd.read_csv('forum_2021.csv')\n",
    "    forum4_df = pd.read_csv('forum_2022-2023.csv')\n",
    "    news1_df = pd.read_csv('news_2019.csv')\n",
    "    news2_df = pd.read_csv('news_2020.csv')\n",
    "    news3_df = pd.read_csv('news_2021.csv')\n",
    "    news4_df = pd.read_csv('news_2022.csv')\n",
    "    news5_df = pd.read_csv('news_2023.csv')\n",
    "    news6_df = pd.read_csv('news_2022-2023.csv')\n",
    "    all_term_df = pd.concat([bbs1_df,bbs2_df,forum1_df,forum2_df,forum3_df,forum4_df,news1_df,news2_df,news3_df,news4_df,news5_df,news6_df])\n",
    "    all_term_df.head()\n"
   ]
  },
  {
   "attachments": {},
   "cell_type": "markdown",
   "metadata": {},
   "source": [
    "### Step6. Extract time, title, and content, then drop null columns"
   ]
  },
  {
   "cell_type": "code",
   "execution_count": 16,
   "metadata": {},
   "outputs": [
    {
     "data": {
      "text/plain": [
       "(1942413, 3)"
      ]
     },
     "execution_count": 16,
     "metadata": {},
     "output_type": "execute_result"
    }
   ],
   "source": [
    "term_df = all_term_df[['post_time','title','content']]\n",
    "term_df = term_df.dropna()\n",
    "term_df.shape"
   ]
  },
  {
   "cell_type": "code",
   "execution_count": 17,
   "metadata": {},
   "outputs": [
    {
     "data": {
      "text/html": [
       "<div>\n",
       "<style scoped>\n",
       "    .dataframe tbody tr th:only-of-type {\n",
       "        vertical-align: middle;\n",
       "    }\n",
       "\n",
       "    .dataframe tbody tr th {\n",
       "        vertical-align: top;\n",
       "    }\n",
       "\n",
       "    .dataframe thead th {\n",
       "        text-align: right;\n",
       "    }\n",
       "</style>\n",
       "<table border=\"1\" class=\"dataframe\">\n",
       "  <thead>\n",
       "    <tr style=\"text-align: right;\">\n",
       "      <th></th>\n",
       "      <th>post_time</th>\n",
       "      <th>title</th>\n",
       "      <th>content</th>\n",
       "    </tr>\n",
       "  </thead>\n",
       "  <tbody>\n",
       "    <tr>\n",
       "      <th>0</th>\n",
       "      <td>2019-01-01 00:31:32</td>\n",
       "      <td>[公告] n199808m HitMaker 警告一次</td>\n",
       "      <td>1. 主旨：n199808m 違反板規4-2-1 警告一次          HitMake...</td>\n",
       "    </tr>\n",
       "    <tr>\n",
       "      <th>1</th>\n",
       "      <td>2019-01-01 01:28:28</td>\n",
       "      <td>Re: [新聞] 貿戰讓台商錢匯不出？ 海基會：漣漪效應</td>\n",
       "      <td>小弟有個想法不知可不可行 如果有人民幣想洗出來 出國一趟，比方去歐洲 用海外刷卡買黃金，存在...</td>\n",
       "    </tr>\n",
       "    <tr>\n",
       "      <th>2</th>\n",
       "      <td>2019-01-01 01:32:39</td>\n",
       "      <td>Re: [新聞] 貿易戰搶出口 透支效應2019衝擊中國經濟!</td>\n",
       "      <td>分身帳號好像要連坐水桶  《ＩＤ暱稱》tangolosss (配息配股變成大富翁)《經濟狀況...</td>\n",
       "    </tr>\n",
       "    <tr>\n",
       "      <th>3</th>\n",
       "      <td>2019-01-01 07:07:37</td>\n",
       "      <td>Re: [新聞]  陸媒：俄羅斯想聯手中國去美元化</td>\n",
       "      <td>所以說不要小看俄羅斯的險惡奸詐  俄國一直鼓勵中國發展人民幣石油 去美元化的種種行為  俄羅...</td>\n",
       "    </tr>\n",
       "    <tr>\n",
       "      <th>4</th>\n",
       "      <td>2019-01-01 07:35:29</td>\n",
       "      <td>[標的] (伺機作多)日元正二</td>\n",
       "      <td>1. 標的：元大日元指數正二  2. 分類：(伺機作多)多  3. 分析/正文：     (...</td>\n",
       "    </tr>\n",
       "  </tbody>\n",
       "</table>\n",
       "</div>"
      ],
      "text/plain": [
       "             post_time                            title  \\\n",
       "0  2019-01-01 00:31:32      [公告] n199808m HitMaker 警告一次   \n",
       "1  2019-01-01 01:28:28     Re: [新聞] 貿戰讓台商錢匯不出？ 海基會：漣漪效應   \n",
       "2  2019-01-01 01:32:39  Re: [新聞] 貿易戰搶出口 透支效應2019衝擊中國經濟!   \n",
       "3  2019-01-01 07:07:37        Re: [新聞]  陸媒：俄羅斯想聯手中國去美元化   \n",
       "4  2019-01-01 07:35:29                  [標的] (伺機作多)日元正二   \n",
       "\n",
       "                                             content  \n",
       "0  1. 主旨：n199808m 違反板規4-2-1 警告一次          HitMake...  \n",
       "1  小弟有個想法不知可不可行 如果有人民幣想洗出來 出國一趟，比方去歐洲 用海外刷卡買黃金，存在...  \n",
       "2  分身帳號好像要連坐水桶  《ＩＤ暱稱》tangolosss (配息配股變成大富翁)《經濟狀況...  \n",
       "3  所以說不要小看俄羅斯的險惡奸詐  俄國一直鼓勵中國發展人民幣石油 去美元化的種種行為  俄羅...  \n",
       "4  1. 標的：元大日元指數正二  2. 分類：(伺機作多)多  3. 分析/正文：     (...  "
      ]
     },
     "execution_count": 17,
     "metadata": {},
     "output_type": "execute_result"
    }
   ],
   "source": [
    "term_df.head()"
   ]
  },
  {
   "attachments": {},
   "cell_type": "markdown",
   "metadata": {},
   "source": [
    "### Step7. Preprocessing "
   ]
  },
  {
   "cell_type": "code",
   "execution_count": 18,
   "metadata": {},
   "outputs": [
    {
     "data": {
      "text/html": [
       "<div>\n",
       "<style scoped>\n",
       "    .dataframe tbody tr th:only-of-type {\n",
       "        vertical-align: middle;\n",
       "    }\n",
       "\n",
       "    .dataframe tbody tr th {\n",
       "        vertical-align: top;\n",
       "    }\n",
       "\n",
       "    .dataframe thead th {\n",
       "        text-align: right;\n",
       "    }\n",
       "</style>\n",
       "<table border=\"1\" class=\"dataframe\">\n",
       "  <thead>\n",
       "    <tr style=\"text-align: right;\">\n",
       "      <th></th>\n",
       "      <th>post_time</th>\n",
       "      <th>title</th>\n",
       "      <th>content</th>\n",
       "    </tr>\n",
       "  </thead>\n",
       "  <tbody>\n",
       "    <tr>\n",
       "      <th>0</th>\n",
       "      <td>2019-01-01</td>\n",
       "      <td>。公告。警告一次</td>\n",
       "      <td>。主旨。違反板規。警告一次。違反板規。警告一次。說明。經板主巡視板面。發無意義閒聊文。違反板...</td>\n",
       "    </tr>\n",
       "    <tr>\n",
       "      <th>1</th>\n",
       "      <td>2019-01-01</td>\n",
       "      <td>。新聞。貿戰讓台商錢匯不出。海基會。漣漪效應</td>\n",
       "      <td>小弟有個想法不知可不可行。如果有人民幣想洗出來。出國一趟。比方去歐洲。用海外刷卡買黃金。存在...</td>\n",
       "    </tr>\n",
       "    <tr>\n",
       "      <th>2</th>\n",
       "      <td>2019-01-01</td>\n",
       "      <td>。新聞。貿易戰搶出口。透支效應。衝擊中國經濟。</td>\n",
       "      <td>分身帳號好像要連坐水桶。暱稱。配息配股變成大富翁。經濟狀況。小康。登入次數。次。同天內只計一...</td>\n",
       "    </tr>\n",
       "    <tr>\n",
       "      <th>3</th>\n",
       "      <td>2019-01-01</td>\n",
       "      <td>。新聞。陸媒。俄羅斯想聯手中國去美元化</td>\n",
       "      <td>所以說不要小看俄羅斯的險惡奸詐。俄國一直鼓勵中國發展人民幣石油。去美元化的種種行為。俄羅斯真...</td>\n",
       "    </tr>\n",
       "    <tr>\n",
       "      <th>4</th>\n",
       "      <td>2019-01-01</td>\n",
       "      <td>。標的。伺機作多。日元正二</td>\n",
       "      <td>。標的。元大日元指數正二。分類。伺機作多。多。分析。正文。均線多頭排列。站上年線。棒型態破。...</td>\n",
       "    </tr>\n",
       "  </tbody>\n",
       "</table>\n",
       "</div>"
      ],
      "text/plain": [
       "    post_time                    title  \\\n",
       "0  2019-01-01                 。公告。警告一次   \n",
       "1  2019-01-01   。新聞。貿戰讓台商錢匯不出。海基會。漣漪效應   \n",
       "2  2019-01-01  。新聞。貿易戰搶出口。透支效應。衝擊中國經濟。   \n",
       "3  2019-01-01      。新聞。陸媒。俄羅斯想聯手中國去美元化   \n",
       "4  2019-01-01            。標的。伺機作多。日元正二   \n",
       "\n",
       "                                             content  \n",
       "0  。主旨。違反板規。警告一次。違反板規。警告一次。說明。經板主巡視板面。發無意義閒聊文。違反板...  \n",
       "1  小弟有個想法不知可不可行。如果有人民幣想洗出來。出國一趟。比方去歐洲。用海外刷卡買黃金。存在...  \n",
       "2  分身帳號好像要連坐水桶。暱稱。配息配股變成大富翁。經濟狀況。小康。登入次數。次。同天內只計一...  \n",
       "3  所以說不要小看俄羅斯的險惡奸詐。俄國一直鼓勵中國發展人民幣石油。去美元化的種種行為。俄羅斯真...  \n",
       "4  。標的。元大日元指數正二。分類。伺機作多。多。分析。正文。均線多頭排列。站上年線。棒型態破。...  "
      ]
     },
     "execution_count": 18,
     "metadata": {},
     "output_type": "execute_result"
    }
   ],
   "source": [
    "import re\n",
    "def remove_tag_num(sentence):\n",
    "  processed_word=[]\n",
    "  processed_sentence=''\n",
    "  try:\n",
    "    # processed_sentence = re.sub(r'<[^>]+>', '', sentence) # remove html tag\n",
    "    # processed_sentence = re.sub(r'[^\\w\\s]','。', sentence) # remove punctuation\n",
    "    processed_sentence = re.sub(r'[^\\u4e00-\\u9fa5]+', '', sentence) #將字串以正則化處理去除中文字元以外的字元\n",
    "    for word in processed_sentence.split():\n",
    "      if not word.isdigit():\n",
    "        processed_word.append(word)\n",
    "    processed_sentence=' '.join(processed_word)\n",
    "  except:\n",
    "    print(sentence)\n",
    "  \n",
    "  return processed_sentence\n",
    "term_df['post_time'] = pd.to_datetime(term_df['post_time']).dt.date\n",
    "term_df['content'] = term_df['content'].apply(lambda x: remove_tag_num(x))\n",
    "term_df['title'] = term_df['title'].apply(lambda x: remove_tag_num(x))\n",
    "\n",
    "term_df.head()\n"
   ]
  },
  {
   "attachments": {},
   "cell_type": "markdown",
   "metadata": {},
   "source": [
    "### Step8. Extract Wistron's related docs  "
   ]
  },
  {
   "cell_type": "code",
   "execution_count": 19,
   "metadata": {},
   "outputs": [
    {
     "name": "stdout",
     "output_type": "stream",
     "text": [
      "Num of Document : 7122\n"
     ]
    },
    {
     "data": {
      "text/html": [
       "<div>\n",
       "<style scoped>\n",
       "    .dataframe tbody tr th:only-of-type {\n",
       "        vertical-align: middle;\n",
       "    }\n",
       "\n",
       "    .dataframe tbody tr th {\n",
       "        vertical-align: top;\n",
       "    }\n",
       "\n",
       "    .dataframe thead th {\n",
       "        text-align: right;\n",
       "    }\n",
       "</style>\n",
       "<table border=\"1\" class=\"dataframe\">\n",
       "  <thead>\n",
       "    <tr style=\"text-align: right;\">\n",
       "      <th></th>\n",
       "      <th>post_time</th>\n",
       "      <th>title</th>\n",
       "      <th>content</th>\n",
       "    </tr>\n",
       "  </thead>\n",
       "  <tbody>\n",
       "    <tr>\n",
       "      <th>65</th>\n",
       "      <td>2019-01-02</td>\n",
       "      <td>。其他。加權股價指數成分股暨市值比重</td>\n",
       "      <td>大家新年快樂。雖然今天大盤有點糟就是了。然後我因為空手限制。期貨什麼空單都沒有。反而還進場買...</td>\n",
       "    </tr>\n",
       "    <tr>\n",
       "      <th>80</th>\n",
       "      <td>2019-01-02</td>\n",
       "      <td>。新聞。台灣製造。中美貿易戰的意外贏家</td>\n",
       "      <td>。原文連結。原文內容。台灣。中美貿易戰的意外贏家。史上最大。最急的電子業回台潮。正風起雲湧展...</td>\n",
       "    </tr>\n",
       "    <tr>\n",
       "      <th>118</th>\n",
       "      <td>2019-01-03</td>\n",
       "      <td>。其他。加權股價指數成分股暨市值比重</td>\n",
       "      <td>慘。拉高又殺低。到底今年怎麼走呢。經過了一天。資料應該是準的了。但還是一樣。以下資料為個人試...</td>\n",
       "    </tr>\n",
       "    <tr>\n",
       "      <th>146</th>\n",
       "      <td>2019-01-03</td>\n",
       "      <td>。其他。台灣集中市場三大法人買賣超前。名</td>\n",
       "      <td>。台灣集中市場三大法人買賣超前。名。買超。代碼。名稱。外資。投信。自營商。合計買賣超。元大台...</td>\n",
       "    </tr>\n",
       "    <tr>\n",
       "      <th>227</th>\n",
       "      <td>2019-01-04</td>\n",
       "      <td>。其他。加權股價指數成分股暨市值比重</td>\n",
       "      <td>。搞得我心情很差。今天的大盤真的是狠狠修正電子股。不過說起來。總是有些人會說台積電如果剩。的...</td>\n",
       "    </tr>\n",
       "    <tr>\n",
       "      <th>...</th>\n",
       "      <td>...</td>\n",
       "      <td>...</td>\n",
       "      <td>...</td>\n",
       "    </tr>\n",
       "    <tr>\n",
       "      <th>68449</th>\n",
       "      <td>2023-03-21</td>\n",
       "      <td>瑞信危機初步解除。國際股市反彈。台股在金融止穩盤堅挑戰月線</td>\n",
       "      <td>。財訊快報。方亞申。在瑞信被瑞銀收購下。未免金融事態繼續擴大。美國聯準會。加拿大。英國。日本...</td>\n",
       "    </tr>\n",
       "    <tr>\n",
       "      <th>68491</th>\n",
       "      <td>2023-03-21</td>\n",
       "      <td>。台北股市。升息太難料。外資有疑慮。三大法人賣超。億元</td>\n",
       "      <td>。時報。台北電。瑞銀拆彈救援瑞信危機。美股漲聲響起也帶動台股拉炮歡呼。強彈近百點挺進。關。月...</td>\n",
       "    </tr>\n",
       "    <tr>\n",
       "      <th>68562</th>\n",
       "      <td>2023-03-21</td>\n",
       "      <td>。台北股市。外資。日買超前十大。逾萬張。這金釵也回補</td>\n",
       "      <td>。時報。台北電。台股今日跟隨美股反彈腳步站上。關。日加權指數收。點。漲。點或。總成交值。億元...</td>\n",
       "    </tr>\n",
       "    <tr>\n",
       "      <th>68563</th>\n",
       "      <td>2023-03-21</td>\n",
       "      <td>。台北股市。投信。日連。買。前。大電傳各半。最愛這檔綠電股</td>\n",
       "      <td>。時報。台北電。台股。日加權指數收。點。漲。點或。總成交值。億元。三大法人賣超。億元。其中外...</td>\n",
       "    </tr>\n",
       "    <tr>\n",
       "      <th>68567</th>\n",
       "      <td>2023-03-21</td>\n",
       "      <td>。台北股市。三大法人。日買超前十大。最愛電子。心頭好是。它。</td>\n",
       "      <td>。時報。台北電。台股今日叩關。點。月線未竟其功。日加權指數收。點。漲。點或。總成交值。億元。...</td>\n",
       "    </tr>\n",
       "  </tbody>\n",
       "</table>\n",
       "<p>7122 rows × 3 columns</p>\n",
       "</div>"
      ],
      "text/plain": [
       "        post_time                           title  \\\n",
       "65     2019-01-02              。其他。加權股價指數成分股暨市值比重   \n",
       "80     2019-01-02             。新聞。台灣製造。中美貿易戰的意外贏家   \n",
       "118    2019-01-03              。其他。加權股價指數成分股暨市值比重   \n",
       "146    2019-01-03            。其他。台灣集中市場三大法人買賣超前。名   \n",
       "227    2019-01-04              。其他。加權股價指數成分股暨市值比重   \n",
       "...           ...                             ...   \n",
       "68449  2023-03-21   瑞信危機初步解除。國際股市反彈。台股在金融止穩盤堅挑戰月線   \n",
       "68491  2023-03-21     。台北股市。升息太難料。外資有疑慮。三大法人賣超。億元   \n",
       "68562  2023-03-21      。台北股市。外資。日買超前十大。逾萬張。這金釵也回補   \n",
       "68563  2023-03-21   。台北股市。投信。日連。買。前。大電傳各半。最愛這檔綠電股   \n",
       "68567  2023-03-21  。台北股市。三大法人。日買超前十大。最愛電子。心頭好是。它。   \n",
       "\n",
       "                                                 content  \n",
       "65     大家新年快樂。雖然今天大盤有點糟就是了。然後我因為空手限制。期貨什麼空單都沒有。反而還進場買...  \n",
       "80     。原文連結。原文內容。台灣。中美貿易戰的意外贏家。史上最大。最急的電子業回台潮。正風起雲湧展...  \n",
       "118    慘。拉高又殺低。到底今年怎麼走呢。經過了一天。資料應該是準的了。但還是一樣。以下資料為個人試...  \n",
       "146    。台灣集中市場三大法人買賣超前。名。買超。代碼。名稱。外資。投信。自營商。合計買賣超。元大台...  \n",
       "227    。搞得我心情很差。今天的大盤真的是狠狠修正電子股。不過說起來。總是有些人會說台積電如果剩。的...  \n",
       "...                                                  ...  \n",
       "68449  。財訊快報。方亞申。在瑞信被瑞銀收購下。未免金融事態繼續擴大。美國聯準會。加拿大。英國。日本...  \n",
       "68491  。時報。台北電。瑞銀拆彈救援瑞信危機。美股漲聲響起也帶動台股拉炮歡呼。強彈近百點挺進。關。月...  \n",
       "68562  。時報。台北電。台股今日跟隨美股反彈腳步站上。關。日加權指數收。點。漲。點或。總成交值。億元...  \n",
       "68563  。時報。台北電。台股。日加權指數收。點。漲。點或。總成交值。億元。三大法人賣超。億元。其中外...  \n",
       "68567  。時報。台北電。台股今日叩關。點。月線未竟其功。日加權指數收。點。漲。點或。總成交值。億元。...  \n",
       "\n",
       "[7122 rows x 3 columns]"
      ]
     },
     "execution_count": 19,
     "metadata": {},
     "output_type": "execute_result"
    }
   ],
   "source": [
    "wistron_term_df = term_df[term_df['title'].str.contains(r'緯創')| term_df['content'].str.contains(r'緯創')]\n",
    "print(\"Num of Document :\",len(wistron_term_df))\n",
    "wistron_term_df"
   ]
  },
  {
   "attachments": {},
   "cell_type": "markdown",
   "metadata": {},
   "source": [
    "### Step9. Merge label df & Wistron's term df"
   ]
  },
  {
   "cell_type": "code",
   "execution_count": 20,
   "metadata": {},
   "outputs": [
    {
     "name": "stdout",
     "output_type": "stream",
     "text": [
      "up trend documents: 1292\n",
      "down trend documents: 629\n"
     ]
    },
    {
     "data": {
      "text/html": [
       "<div>\n",
       "<style scoped>\n",
       "    .dataframe tbody tr th:only-of-type {\n",
       "        vertical-align: middle;\n",
       "    }\n",
       "\n",
       "    .dataframe tbody tr th {\n",
       "        vertical-align: top;\n",
       "    }\n",
       "\n",
       "    .dataframe thead th {\n",
       "        text-align: right;\n",
       "    }\n",
       "</style>\n",
       "<table border=\"1\" class=\"dataframe\">\n",
       "  <thead>\n",
       "    <tr style=\"text-align: right;\">\n",
       "      <th></th>\n",
       "      <th>date</th>\n",
       "      <th>label</th>\n",
       "      <th>title</th>\n",
       "      <th>content</th>\n",
       "    </tr>\n",
       "  </thead>\n",
       "  <tbody>\n",
       "    <tr>\n",
       "      <th>0</th>\n",
       "      <td>2023-03-21</td>\n",
       "      <td>last</td>\n",
       "      <td>。新聞。外資大砍金融股。中信金遭賣。萬張最</td>\n",
       "      <td>原文標題。外資大砍金融股。中信金遭賣。萬張最慘。新光金。玉山金同步遭砍。原文連結。發布時間。...</td>\n",
       "    </tr>\n",
       "    <tr>\n",
       "      <th>1</th>\n",
       "      <td>2023-03-21</td>\n",
       "      <td>last</td>\n",
       "      <td>。閒聊。盤後閒聊</td>\n",
       "      <td>台股。成交量。億。台指。成交量。口。櫃買指。成交量。億。台指期。自營商。投信。外資。台指選。...</td>\n",
       "    </tr>\n",
       "    <tr>\n",
       "      <th>2</th>\n",
       "      <td>2023-03-21</td>\n",
       "      <td>last</td>\n",
       "      <td>。情報。上市投信買賣超排行</td>\n",
       "      <td>。標題。投信買賣超排行。來源。富邦證券。網址。內文。買超。中興電。中鋼。緯創。英業達。欣興。...</td>\n",
       "    </tr>\n",
       "    <tr>\n",
       "      <th>3</th>\n",
       "      <td>2023-03-21</td>\n",
       "      <td>last</td>\n",
       "      <td>。情報。上市外資買賣超排行</td>\n",
       "      <td>。標題。外資買賣超排行。來源。台灣證交所。網址。內文。買超。緯創。鴻海。英業達。金像電。元大...</td>\n",
       "    </tr>\n",
       "    <tr>\n",
       "      <th>4</th>\n",
       "      <td>2023-03-21</td>\n",
       "      <td>last</td>\n",
       "      <td>。標的。緯創。領錢聊勝於無多</td>\n",
       "      <td>。個月過去了。這一趟抱了。年。個月。今天了結。其中。張已參與去年除息。遲來的紅包啊。績效比前...</td>\n",
       "    </tr>\n",
       "  </tbody>\n",
       "</table>\n",
       "</div>"
      ],
      "text/plain": [
       "         date label                  title  \\\n",
       "0  2023-03-21  last  。新聞。外資大砍金融股。中信金遭賣。萬張最   \n",
       "1  2023-03-21  last               。閒聊。盤後閒聊   \n",
       "2  2023-03-21  last          。情報。上市投信買賣超排行   \n",
       "3  2023-03-21  last          。情報。上市外資買賣超排行   \n",
       "4  2023-03-21  last         。標的。緯創。領錢聊勝於無多   \n",
       "\n",
       "                                             content  \n",
       "0  原文標題。外資大砍金融股。中信金遭賣。萬張最慘。新光金。玉山金同步遭砍。原文連結。發布時間。...  \n",
       "1  台股。成交量。億。台指。成交量。口。櫃買指。成交量。億。台指期。自營商。投信。外資。台指選。...  \n",
       "2  。標題。投信買賣超排行。來源。富邦證券。網址。內文。買超。中興電。中鋼。緯創。英業達。欣興。...  \n",
       "3  。標題。外資買賣超排行。來源。台灣證交所。網址。內文。買超。緯創。鴻海。英業達。金像電。元大...  \n",
       "4  。個月過去了。這一趟抱了。年。個月。今天了結。其中。張已參與去年除息。遲來的紅包啊。績效比前...  "
      ]
     },
     "execution_count": 20,
     "metadata": {},
     "output_type": "execute_result"
    }
   ],
   "source": [
    "wistron_term_df = wistron_term_df.rename(columns={'post_time':'date'})\n",
    "all_term_trend_df = pd.merge(new_df, wistron_term_df) #把相同date的merge在一起\n",
    "print('up trend documents:',len(all_term_trend_df[all_term_trend_df['label']=='up']))\n",
    "print('down trend documents:',len(all_term_trend_df[all_term_trend_df['label']=='down']))\n",
    "all_term_trend_df.head()\n"
   ]
  },
  {
   "attachments": {},
   "cell_type": "markdown",
   "metadata": {},
   "source": [
    "### Step10. Tokenize title & content"
   ]
  },
  {
   "cell_type": "code",
   "execution_count": 21,
   "metadata": {},
   "outputs": [
    {
     "name": "stdout",
     "output_type": "stream",
     "text": [
      "+---------------------------------------------------------------------+\n",
      "  Welcome to MONPA: Multi-Objective NER POS Annotator for Chinese\n",
      "+---------------------------------------------------------------------+\n",
      "已找到 model檔。Found model file.\n",
      "GPU unavailable.\n"
     ]
    },
    {
     "data": {
      "text/html": [
       "<div>\n",
       "<style scoped>\n",
       "    .dataframe tbody tr th:only-of-type {\n",
       "        vertical-align: middle;\n",
       "    }\n",
       "\n",
       "    .dataframe tbody tr th {\n",
       "        vertical-align: top;\n",
       "    }\n",
       "\n",
       "    .dataframe thead th {\n",
       "        text-align: right;\n",
       "    }\n",
       "</style>\n",
       "<table border=\"1\" class=\"dataframe\">\n",
       "  <thead>\n",
       "    <tr style=\"text-align: right;\">\n",
       "      <th></th>\n",
       "      <th>date</th>\n",
       "      <th>label</th>\n",
       "      <th>title</th>\n",
       "      <th>content</th>\n",
       "    </tr>\n",
       "  </thead>\n",
       "  <tbody>\n",
       "    <tr>\n",
       "      <th>0</th>\n",
       "      <td>2023-03-21</td>\n",
       "      <td>last</td>\n",
       "      <td>[。, 新聞, 。, 外資, 大, 砍, 金融股, 。, 中信金, 遭, 賣, 。, 萬, ...</td>\n",
       "      <td>[原文, 標題, 。, 外資, 大, 砍, 金融股, 。, 中信金, 遭, 賣, 。, 萬,...</td>\n",
       "    </tr>\n",
       "    <tr>\n",
       "      <th>1</th>\n",
       "      <td>2023-03-21</td>\n",
       "      <td>last</td>\n",
       "      <td>[。, 閒聊, 。, 盤, 後, 閒聊]</td>\n",
       "      <td>[台股, 。, 成交量, 。, 億, 。, 台, 指, 。, 成交量, 。, 口, 。, 櫃...</td>\n",
       "    </tr>\n",
       "    <tr>\n",
       "      <th>2</th>\n",
       "      <td>2023-03-21</td>\n",
       "      <td>last</td>\n",
       "      <td>[。, 情報, 。, 上市, 投信, 買賣, 超, 排行]</td>\n",
       "      <td>[。, 標題, 。, 投信, 買賣, 超, 排行, 。, 來源, 。, 富邦證券, 。, 網...</td>\n",
       "    </tr>\n",
       "    <tr>\n",
       "      <th>3</th>\n",
       "      <td>2023-03-21</td>\n",
       "      <td>last</td>\n",
       "      <td>[。, 情報, 。, 上市, 外資, 買賣, 超, 排行]</td>\n",
       "      <td>[。, 標題, 。, 外資, 買賣, 超, 排行, 。, 來源, 。, 台灣, 證交所, 。...</td>\n",
       "    </tr>\n",
       "    <tr>\n",
       "      <th>4</th>\n",
       "      <td>2023-03-21</td>\n",
       "      <td>last</td>\n",
       "      <td>[。, 標的, 。, 緯創, 。, 領, 錢, 聊勝, 於, 無多]</td>\n",
       "      <td>[。, 個, 月, 過去, 了, 。, 這, 一, 趟, 抱, 了, 。, 年, 。, 個,...</td>\n",
       "    </tr>\n",
       "  </tbody>\n",
       "</table>\n",
       "</div>"
      ],
      "text/plain": [
       "         date label                                              title  \\\n",
       "0  2023-03-21  last  [。, 新聞, 。, 外資, 大, 砍, 金融股, 。, 中信金, 遭, 賣, 。, 萬, ...   \n",
       "1  2023-03-21  last                               [。, 閒聊, 。, 盤, 後, 閒聊]   \n",
       "2  2023-03-21  last                      [。, 情報, 。, 上市, 投信, 買賣, 超, 排行]   \n",
       "3  2023-03-21  last                      [。, 情報, 。, 上市, 外資, 買賣, 超, 排行]   \n",
       "4  2023-03-21  last                 [。, 標的, 。, 緯創, 。, 領, 錢, 聊勝, 於, 無多]   \n",
       "\n",
       "                                             content  \n",
       "0  [原文, 標題, 。, 外資, 大, 砍, 金融股, 。, 中信金, 遭, 賣, 。, 萬,...  \n",
       "1  [台股, 。, 成交量, 。, 億, 。, 台, 指, 。, 成交量, 。, 口, 。, 櫃...  \n",
       "2  [。, 標題, 。, 投信, 買賣, 超, 排行, 。, 來源, 。, 富邦證券, 。, 網...  \n",
       "3  [。, 標題, 。, 外資, 買賣, 超, 排行, 。, 來源, 。, 台灣, 證交所, 。...  \n",
       "4  [。, 個, 月, 過去, 了, 。, 這, 一, 趟, 抱, 了, 。, 年, 。, 個,...  "
      ]
     },
     "execution_count": 21,
     "metadata": {},
     "output_type": "execute_result"
    }
   ],
   "source": [
    "#不要重跑\n",
    "import monpa\n",
    "monpa.use_gpu(True)\n",
    "all_term_trend_df['title'] = all_term_trend_df['title'].apply(lambda x: monpa.cut_batch(x)[0])\n",
    "all_term_trend_df['content'] = all_term_trend_df['content'].apply(lambda x: monpa.cut_batch(x)[0])\n",
    "all_term_trend_df.head()"
   ]
  },
  {
   "cell_type": "code",
   "execution_count": 22,
   "metadata": {},
   "outputs": [
    {
     "data": {
      "text/html": [
       "<div>\n",
       "<style scoped>\n",
       "    .dataframe tbody tr th:only-of-type {\n",
       "        vertical-align: middle;\n",
       "    }\n",
       "\n",
       "    .dataframe tbody tr th {\n",
       "        vertical-align: top;\n",
       "    }\n",
       "\n",
       "    .dataframe thead th {\n",
       "        text-align: right;\n",
       "    }\n",
       "</style>\n",
       "<table border=\"1\" class=\"dataframe\">\n",
       "  <thead>\n",
       "    <tr style=\"text-align: right;\">\n",
       "      <th></th>\n",
       "      <th>date</th>\n",
       "      <th>label</th>\n",
       "      <th>title</th>\n",
       "      <th>content</th>\n",
       "    </tr>\n",
       "  </thead>\n",
       "  <tbody>\n",
       "    <tr>\n",
       "      <th>0</th>\n",
       "      <td>2023-03-21</td>\n",
       "      <td>last</td>\n",
       "      <td>[新聞, 外資, 金融股, 中信金]</td>\n",
       "      <td>[原文, 標題, 外資, 金融股, 中信金, 新光金, 玉山金, 同步, 原文, 連結, 發...</td>\n",
       "    </tr>\n",
       "    <tr>\n",
       "      <th>1</th>\n",
       "      <td>2023-03-21</td>\n",
       "      <td>last</td>\n",
       "      <td>[閒聊, 閒聊]</td>\n",
       "      <td>[台股, 成交量, 成交量, 買指, 成交量, 指期, 自營商, 投信, 外資, 指選, 自...</td>\n",
       "    </tr>\n",
       "    <tr>\n",
       "      <th>2</th>\n",
       "      <td>2023-03-21</td>\n",
       "      <td>last</td>\n",
       "      <td>[情報, 上市, 投信, 買賣, 排行]</td>\n",
       "      <td>[標題, 投信, 買賣, 排行, 來源, 富邦證券, 網址, 內文, 買超, 中興電, 中鋼...</td>\n",
       "    </tr>\n",
       "    <tr>\n",
       "      <th>3</th>\n",
       "      <td>2023-03-21</td>\n",
       "      <td>last</td>\n",
       "      <td>[情報, 上市, 外資, 買賣, 排行]</td>\n",
       "      <td>[標題, 外資, 買賣, 排行, 來源, 台灣, 證交所, 網址, 內文, 買超, 緯創, ...</td>\n",
       "    </tr>\n",
       "    <tr>\n",
       "      <th>4</th>\n",
       "      <td>2023-03-21</td>\n",
       "      <td>last</td>\n",
       "      <td>[標的, 緯創, 聊勝, 無多]</td>\n",
       "      <td>[過去, 今天, 了結, 其中, 參與, 去年, 除息, 遲來, 紅包, 績效, 一點, 就...</td>\n",
       "    </tr>\n",
       "  </tbody>\n",
       "</table>\n",
       "</div>"
      ],
      "text/plain": [
       "         date label                 title  \\\n",
       "0  2023-03-21  last    [新聞, 外資, 金融股, 中信金]   \n",
       "1  2023-03-21  last              [閒聊, 閒聊]   \n",
       "2  2023-03-21  last  [情報, 上市, 投信, 買賣, 排行]   \n",
       "3  2023-03-21  last  [情報, 上市, 外資, 買賣, 排行]   \n",
       "4  2023-03-21  last      [標的, 緯創, 聊勝, 無多]   \n",
       "\n",
       "                                             content  \n",
       "0  [原文, 標題, 外資, 金融股, 中信金, 新光金, 玉山金, 同步, 原文, 連結, 發...  \n",
       "1  [台股, 成交量, 成交量, 買指, 成交量, 指期, 自營商, 投信, 外資, 指選, 自...  \n",
       "2  [標題, 投信, 買賣, 排行, 來源, 富邦證券, 網址, 內文, 買超, 中興電, 中鋼...  \n",
       "3  [標題, 外資, 買賣, 排行, 來源, 台灣, 證交所, 網址, 內文, 買超, 緯創, ...  \n",
       "4  [過去, 今天, 了結, 其中, 參與, 去年, 除息, 遲來, 紅包, 績效, 一點, 就...  "
      ]
     },
     "execution_count": 22,
     "metadata": {},
     "output_type": "execute_result"
    }
   ],
   "source": [
    "def filter_gram(terms): #過濾掉一字詞語\n",
    "    return [term for term in terms if len(term)>1 and len(term)<6]\n",
    "all_term_trend_df['title'] = all_term_trend_df['title'].apply(lambda x: filter_gram(x))\n",
    "all_term_trend_df['content'] = all_term_trend_df['content'].apply(lambda x: filter_gram(x))\n",
    "all_term_trend_df.head()"
   ]
  },
  {
   "attachments": {},
   "cell_type": "markdown",
   "metadata": {},
   "source": [
    "### Step11. Extract up & down trend docs"
   ]
  },
  {
   "cell_type": "code",
   "execution_count": 23,
   "metadata": {},
   "outputs": [
    {
     "data": {
      "text/plain": [
       "<bound method NDFrame.head of             date label                                 title  \\\n",
       "83    2023-03-16    up                  [情報, 上市, 投信, 買賣, 排行]   \n",
       "84    2023-03-16    up                  [情報, 上市, 外資, 買賣, 排行]   \n",
       "85    2023-03-16    up                    [情報, 公股銀行, 買賣, 排行]   \n",
       "86    2023-03-16    up                 [情報, 上市櫃, 外資, 投信, 排行]   \n",
       "87    2023-03-16    up                                  [友達]   \n",
       "...          ...   ...                                   ...   \n",
       "6282  2019-01-08    up        [營收, 緯軟, 營收, 續創, 新高, 月增率, 年增率]   \n",
       "6286  2019-01-04    up         [其他, 加權, 股價, 指數, 成分股, 市值, 比重]   \n",
       "6287  2019-01-04    up                         [上市, 自營商, 排行]   \n",
       "6288  2019-01-04    up  [台股, 蘋果, 自爆, 美股, 血洗, 台股, 難逃, 殺機, 難守]   \n",
       "6289  2019-01-04    up                     [上櫃, 認購, 權證, 彙總表]   \n",
       "\n",
       "                                                content  \n",
       "83    [標題, 投信, 買賣, 排行, 來源, 富邦證券, 網址, 內文, 買超, 仁寶, 元大,...  \n",
       "84    [標題, 外資, 買賣, 排行, 來源, 台灣證交所, 網址, 內文, 買超, 聯電, 英業...  \n",
       "85    [標題, 公股銀行, 買賣, 排行, 來源, 股網, 網址, 內文, 以下, 資訊, 張數,...  \n",
       "86    [排行, 股票, 名稱, 成交, 漲跌, 投信, 外資, 仁寶, 英業達, 宏碁, 廣達, ...  \n",
       "87    [緯創, 衝刺, 毛利率, 產品, 有成, 董事長, 林憲銘, 指出, 毛利率, 產品線, ...  \n",
       "...                                                 ...  \n",
       "6282  [緯創, 軟體, 自結, 營收, 元續, 新高, 相較, 增加, 金額, 增加, 相較, 增...  \n",
       "6286  [心情, 今天, 大盤, 真的, 狠狠, 修正, 電子股, 不過, 起來, 總是, 有些, ...  \n",
       "6287  [名次, 股票, 名稱, 買賣, 張數, 收盤價, 漲跌, 買進, 張數, 賣出, 張數, ...  \n",
       "6288  [國際, 情勢, 台股, 指數, 表現, 不佳, 蘋果, 財測, 利空, 襲擊, 終場, 跌...  \n",
       "6289  [認購, 美式, 代號, 簡稱, 標的, 數量, 單位, 存續, 期間, 履約價, 認購, ...  \n",
       "\n",
       "[1921 rows x 4 columns]>"
      ]
     },
     "execution_count": 23,
     "metadata": {},
     "output_type": "execute_result"
    }
   ],
   "source": [
    "wistron_term_trend_df = all_term_trend_df[(all_term_trend_df['label']=='up') | (all_term_trend_df['label']=='down')]\n",
    "wistron_term_trend_df.to_csv('./Group3_wistron.csv', index = False)\n",
    "wistron_term_trend_df.head"
   ]
  },
  {
   "cell_type": "code",
   "execution_count": 24,
   "metadata": {},
   "outputs": [
    {
     "name": "stdout",
     "output_type": "stream",
     "text": [
      "up trend documents: 1292\n",
      "down trend documents: 629\n"
     ]
    }
   ],
   "source": [
    "print('up trend documents:',len(all_term_trend_df[all_term_trend_df['label']=='up']))\n",
    "print('down trend documents:',len(all_term_trend_df[all_term_trend_df['label']=='down']))"
   ]
  },
  {
   "attachments": {},
   "cell_type": "markdown",
   "metadata": {},
   "source": [
    "# FROM HERE"
   ]
  },
  {
   "attachments": {},
   "cell_type": "markdown",
   "metadata": {},
   "source": [
    "### Step12. Record up & down trend terms"
   ]
  },
  {
   "cell_type": "code",
   "execution_count": 25,
   "metadata": {},
   "outputs": [
    {
     "name": "stdout",
     "output_type": "stream",
     "text": [
      "up trend terms: 8184\n",
      "down trend terms: 5793\n",
      "content terms:  ['情報 上市 投信 買賣 排行標題 投信 買賣 排行 來源 富邦證券 網址 內文 買超 仁寶 元大 股息 開發金 英業達 永豐金 宏碁 中鋼 元大金 元大 台灣 中信金 廣達 奇鋐 承業醫 第一 遠東新 聯強 台泥 慧洋 台塑 緯創 上海商銀 富邦金 台灣 南亞 國泰金 裕民 微星 南亞科 兆豐金 中華電 新興 亞泥 華碩 元晶 遠百 可成 智原 光寶科 聯詠 新纖 中華 光罩 金像電 世芯 群電 台勝科 瑞昱', '情報 上市 外資 買賣 排行標題 外資 買賣 排行 來源 台灣證交所 網址 內文 買超 聯電 英業達 仁寶 友達 中興電 飛宏 總太 京元電子 廣達 東森 群創 裕隆 國泰 智能 電動車 興農 緯創 合勤 東元 富邦 越南 太極 神基 統一 威健 微星 亞太電 技嘉 佳世達 日月光 投控 南緯 誠美材 羅門 凌群 中華電 普安 中信 中國 建準 台光電 三陽工業 中磊 晟銘電 富邦 恒生 國企 光罩 三商電 華夏 明泰', '情報 公股銀行 買賣 排行標題 公股銀行 買賣 排行 來源 股網 網址 內文 以下 資訊 張數 排列 買超 排名 股票 張數 排名 股票 張數 國泰 永續 股息 元大 台灣 街口布蘭 特正 群創 富邦 越南 國泰 臺灣 加權 中信金 英業達 臺企銀 緯創 元大 石油 元大 股息 長榮 仁寶 玉山金 元大 美債 開發金 國泰 年美債 長榮航 遠東銀 潤泰 富邦台 永豐金 元大 滬深 元大 台灣 高息低波 華夏 華南金', '情報 上市櫃 外資 投信 排行排行 股票 名稱 成交 漲跌 投信 外資 仁寶 英業達 宏碁 廣達 慧洋 優群 緯創 台灣 微星 中華電 亞泥 合晶 家登 光寶科 聯詠 資料 來源 以上 謝謝', '友達緯創 衝刺 毛利率 產品 有成 董事長 林憲銘 指出 毛利率 產品線 營收 新台幣 毛利率 雙位數 包括 伺服器 產業 電腦 服務 物聯網 產品線 預估 毛利率 產品線 營收 衝到 緯創 總經理 林建勳 指出 緯創 全球 第三 因此 外界 通常 關注 表現 事實 營收 緯創 比重 已經 降到 以下 因此 帶動 毛利率 拉高 提高 分點 林憲銘 指出 長期']\n",
      "content terms:  1921\n"
     ]
    },
    {
     "data": {
      "text/plain": [
       "<bound method NDFrame.head of             date label                                 title  \\\n",
       "0     2023-03-16    up                  [情報, 上市, 投信, 買賣, 排行]   \n",
       "1     2023-03-16    up                  [情報, 上市, 外資, 買賣, 排行]   \n",
       "2     2023-03-16    up                    [情報, 公股銀行, 買賣, 排行]   \n",
       "3     2023-03-16    up                 [情報, 上市櫃, 外資, 投信, 排行]   \n",
       "4     2023-03-16    up                                  [友達]   \n",
       "...          ...   ...                                   ...   \n",
       "1916  2019-01-08    up        [營收, 緯軟, 營收, 續創, 新高, 月增率, 年增率]   \n",
       "1917  2019-01-04    up         [其他, 加權, 股價, 指數, 成分股, 市值, 比重]   \n",
       "1918  2019-01-04    up                         [上市, 自營商, 排行]   \n",
       "1919  2019-01-04    up  [台股, 蘋果, 自爆, 美股, 血洗, 台股, 難逃, 殺機, 難守]   \n",
       "1920  2019-01-04    up                     [上櫃, 認購, 權證, 彙總表]   \n",
       "\n",
       "                                                content  \n",
       "0     [標題, 投信, 買賣, 排行, 來源, 富邦證券, 網址, 內文, 買超, 仁寶, 元大,...  \n",
       "1     [標題, 外資, 買賣, 排行, 來源, 台灣證交所, 網址, 內文, 買超, 聯電, 英業...  \n",
       "2     [標題, 公股銀行, 買賣, 排行, 來源, 股網, 網址, 內文, 以下, 資訊, 張數,...  \n",
       "3     [排行, 股票, 名稱, 成交, 漲跌, 投信, 外資, 仁寶, 英業達, 宏碁, 廣達, ...  \n",
       "4     [緯創, 衝刺, 毛利率, 產品, 有成, 董事長, 林憲銘, 指出, 毛利率, 產品線, ...  \n",
       "...                                                 ...  \n",
       "1916  [緯創, 軟體, 自結, 營收, 元續, 新高, 相較, 增加, 金額, 增加, 相較, 增...  \n",
       "1917  [心情, 今天, 大盤, 真的, 狠狠, 修正, 電子股, 不過, 起來, 總是, 有些, ...  \n",
       "1918  [名次, 股票, 名稱, 買賣, 張數, 收盤價, 漲跌, 買進, 張數, 賣出, 張數, ...  \n",
       "1919  [國際, 情勢, 台股, 指數, 表現, 不佳, 蘋果, 財測, 利空, 襲擊, 終場, 跌...  \n",
       "1920  [認購, 美式, 代號, 簡稱, 標的, 數量, 單位, 存續, 期間, 履約價, 認購, ...  \n",
       "\n",
       "[1921 rows x 4 columns]>"
      ]
     },
     "execution_count": 25,
     "metadata": {},
     "output_type": "execute_result"
    }
   ],
   "source": [
    "import pandas as pd\n",
    "#From here\n",
    "wistron_term_trend_df = pd.read_csv(\"Group3_wistron.csv\")\n",
    "\n",
    "term_dict={'up':set(),'down':set()}\n",
    "remove =[]\n",
    "content = [] #用於建立向量空間\n",
    "\n",
    "for idx,row in wistron_term_trend_df.iterrows():\n",
    "    row['title'] = eval(row['title'])\n",
    "    row['content'] = eval(row['content'])\n",
    "    content.append(\" \".join(row['title'])+\" \".join(row['content']))\n",
    "    for term in row['title']:\n",
    "        if term not in term_dict[row['label']]:\n",
    "            term_dict[row['label']].add(term)\n",
    "    for term in row['content']:\n",
    "        if term not in term_dict[row['label']]:\n",
    "            term_dict[row['label']].add(term)\n",
    "\n",
    "print('up trend terms:',len(term_dict['up']))\n",
    "print('down trend terms:',len(term_dict['down']))\n",
    "print('content terms: ', content[0:5])\n",
    "print('content terms: ', len(content))\n",
    "wistron_term_trend_df.head\n"
   ]
  },
  {
   "cell_type": "code",
   "execution_count": 26,
   "metadata": {},
   "outputs": [
    {
     "name": "stdout",
     "output_type": "stream",
     "text": [
      "['情報 上市 投信 買賣 排行標題 投信 買賣 排行 來源 富邦證券 網址 內文 買超 仁寶 元大 股息 開發金 英業達 永豐金 宏碁 中鋼 元大金 元大 台灣 中信金 廣達 奇鋐 承業醫 第一 遠東新 聯強 台泥 慧洋 台塑 緯創 上海商銀 富邦金 台灣 南亞 國泰金 裕民 微星 南亞科 兆豐金 中華電 新興 亞泥 華碩 元晶 遠百 可成 智原 光寶科 聯詠 新纖 中華 光罩 金像電 世芯 群電 台勝科 瑞昱', '情報 上市 外資 買賣 排行標題 外資 買賣 排行 來源 台灣證交所 網址 內文 買超 聯電 英業達 仁寶 友達 中興電 飛宏 總太 京元電子 廣達 東森 群創 裕隆 國泰 智能 電動車 興農 緯創 合勤 東元 富邦 越南 太極 神基 統一 威健 微星 亞太電 技嘉 佳世達 日月光 投控 南緯 誠美材 羅門 凌群 中華電 普安 中信 中國 建準 台光電 三陽工業 中磊 晟銘電 富邦 恒生 國企 光罩 三商電 華夏 明泰', '情報 公股銀行 買賣 排行標題 公股銀行 買賣 排行 來源 股網 網址 內文 以下 資訊 張數 排列 買超 排名 股票 張數 排名 股票 張數 國泰 永續 股息 元大 台灣 街口布蘭 特正 群創 富邦 越南 國泰 臺灣 加權 中信金 英業達 臺企銀 緯創 元大 石油 元大 股息 長榮 仁寶 玉山金 元大 美債 開發金 國泰 年美債 長榮航 遠東銀 潤泰 富邦台 永豐金 元大 滬深 元大 台灣 高息低波 華夏 華南金', '情報 上市櫃 外資 投信 排行排行 股票 名稱 成交 漲跌 投信 外資 仁寶 英業達 宏碁 廣達 慧洋 優群 緯創 台灣 微星 中華電 亞泥 合晶 家登 光寶科 聯詠 資料 來源 以上 謝謝', '友達緯創 衝刺 毛利率 產品 有成 董事長 林憲銘 指出 毛利率 產品線 營收 新台幣 毛利率 雙位數 包括 伺服器 產業 電腦 服務 物聯網 產品線 預估 毛利率 產品線 營收 衝到 緯創 總經理 林建勳 指出 緯創 全球 第三 因此 外界 通常 關注 表現 事實 營收 緯創 比重 已經 降到 以下 因此 帶動 毛利率 拉高 提高 分點 林憲銘 指出 長期', '廣達 去年 獲利 歷史 次高毛利 伺服器 車用 產品 出貨 順暢 匯兌 收益 帶動 廣達 去年 第四季 獲利 優於 預期 不僅 第四季 毛利率 創下 歷史 第三 純益 創史 同業 仁寶 緯創 英業 獲利 不及 廣達 然而 伺服器 雜音 終於 影響 廣達 今年 伺服器 營收 成長率 下修 個位數 百分比 另外 廣達 董事會 通過 配發 現金 股利 現金 殖利率 筆電 代工廠 僅次於 緯創 廣達 營收 筆電 出貨量 反應 筆電 市況 不佳 不過 去年', '台北 股市 外資 聯電時報 台北電 台股 日加權 指數 成交值 法人 其中 外資 投信 營商 分別 買超 外資 買超 類別 電子股 傳產股 價分 百元股 價位股 銅板股 買超 張數 方面 買超 上萬 榜首 聯電 買超 緯創 元晶 名列 分別 買超 買超 第四 第五 名為 華新 京元 電子 其他 依序 日月光 投控', '台北 股市 投信 榜首 玉山金時報 台北電 台股 日加權 指數 成交值 法人 其中 外資 投信 營商 分別 買超 投信 買超 類別 電子股 金融股 傳產股 價分 價位股 銅板股 買超 張數 方面 榜首 玉山金 買超 仁寶 開發金 名列 分別 買超 買超 第四 第五 兆豐金 緯創 其他 依序 光寶科 永豐金 元大金 英業達', '台北 股市 法人 聯電時報 台北電 台股 日加權 指數 成交值 法人 其中 外資 投信 營商 分別 買超 法人 買超 類別 電子股 傳產股 價分 價位股 銅板股 買超 張數 方面 買超 上萬 榜首 聯電 緯創 元晶 名列 分別 買超 買超 第四 第五 名為 華新 京元 電子 其他 依序 日月光', '掃瞄 基本面 實質 薪資 衰退 幅度 新普 去年 賺近 股本時報 台北 基本面 交易日 新台幣 美元 收市 升值 成交值 美元 集中 市場 融資 增為 融券 減為 集中 市場 自營商 投信 外資 萬物 薪資 漲幅 通膨 光光 員工 實質 經常性 薪資 實質 薪資 落入 負成長 主計 總處 公布 薪資 統計 全體 員工 經常性 薪資 平均 年增 不過 通膨 超過 考量 物價 因素 實質 經常性 薪資', '統一 證券 晨訊 台股 振盪 加劇日期 盤勢 分析 瑞士央行 聲明 瑞士 信貸 支持 流動性 台股 振盪 加劇 昨日 盤勢 儘管 美國 矽谷銀行 驚傳 倒閉 聯準會 介入 市場 期待 升息 幅度 放緩 國際 股市 早盤 反彈 台股 開盤 指數 開高 短多 買盤 出場 壓回 類股 相對 整齊 強勢股 創意 上漲 世芯 上漲 智原 電股 台半 上漲 德微 上漲 飛宏 上漲 台達電 上漲 光頡 上漲 貨櫃 雙雄 儘管 股息 護體 但是 不敵 賣壓 調節 長榮下跌 陽明 下跌 終場 指數 上漲', '熱門 族群 連環 代工 五哥 法寶時報 台北電 瑞士 大銀行 瑞士 信貸 股東 排除 挹注 資金 加劇 市場 銀行業 憂心 經過 美股 一夜 震撼 洗禮 台股 早盤 下跌 來到 殖利率 再成 資金 避風港 代工 族群 廣達 擬發 元股息 殖利率 次於 緯創 早盤 吸引 買盤 搶進 彈逾 奇鋐 英業達 建碁 微星 技嘉 和碩 電腦 設備 族群 跟上 步伐 表現 抗跌 觀察 代工 表現 廣達 去年 純益 創史 同業 仁寶', '百億 上市 公司 大立光 穩居 第一 長榮 賺逾 元躍 第二規模 百億 以上 上市 公司 第四 季度 財報 以前 必須 上傳 完畢 依照 公布 資訊 基本 盈餘 排行 大立光 排行 第一 去年 業績 爆發 長榮 第二 緯創 旗下 雲端 伺服器廠 緯穎 元排 第三 台積電 元排第 統計 截至 今日 中午 為止 百億 上市 公司 財報 公布 排行 大立光 長榮 緯穎 第三 觀察 排行 普遍 電子股 貨櫃 三雄 成為 亮點 長榮 躍居 第二 之外 陽明 元排 第五 萬海', '廣達 去年 獲利 歷史 次高毛利 伺服器 車用 產品 出貨 順暢 匯兌 收益 帶動 廣達 去年 第四季 獲利 優於 預期 不僅 第四季 毛利率 創下 歷史 第三 純益 創史 同業 仁寶 緯創 英業 獲利 不及 廣達 然而 伺服器 雜音 終於 影響 廣達 今年 伺服器 營收 成長率 下修 個位數 百分比 另外 廣達 董事會 通過 配發 現金 股利 現金 殖利率 筆電 代工廠 僅次於 緯創 廣達 營收 筆電 出貨量 反應 筆電 市況 不佳 不過 去年', '台北 股市 外資 聯電時報 台北電 台股 日加權 指數 成交值 法人 其中 外資 投信 營商 分別 買超 外資 買超 類別 電子股 傳產股 價分 百元股 價位股 銅板股 買超 張數 方面 買超 上萬 榜首 聯電 買超 緯創 元晶 名列 分別 買超 買超 第四 第五 名為 華新 京元 電子 其他 依序 日月光 投控', '台北 股市 投信 榜首 玉山金時報 台北電 台股 日加權 指數 成交值 法人 其中 外資 投信 營商 分別 買超 投信 買超 類別 電子股 金融股 傳產股 價分 價位股 銅板股 買超 張數 方面 榜首 玉山金 買超 仁寶 開發金 名列 分別 買超 買超 第四 第五 兆豐金 緯創 其他 依序 光寶科 永豐金 元大金 英業達', '台北 股市 法人 聯電時報 台北電 台股 日加權 指數 成交值 法人 其中 外資 投信 營商 分別 買超 法人 買超 類別 電子股 傳產股 價分 價位股 銅板股 買超 張數 方面 買超 上萬 榜首 聯電 緯創 元晶 名列 分別 買超 買超 第四 第五 名為 華新 京元 電子 其他 依序 日月光', '掃瞄 基本面 實質 薪資 衰退 幅度 新普 去年 賺近 股本時報 台北 基本面 交易日 新台幣 美元 收市 升值 成交值 美元 集中 市場 融資 增為 融券 減為 集中 市場 自營商 投信 外資 萬物 薪資 漲幅 通膨 光光 員工 實質 經常性 薪資 實質 薪資 落入 負成長 主計 總處 公布 薪資 統計 全體 員工 經常性 薪資 平均 年增 不過 通膨 超過 考量 物價 因素 實質 經常性 薪資', '統一 證券 晨訊 台股 振盪 加劇日期 盤勢 分析 瑞士央行 聲明 瑞士 信貸 支持 流動性 台股 振盪 加劇 昨日 盤勢 儘管 美國 矽谷銀行 驚傳 倒閉 聯準會 介入 市場 期待 升息 幅度 放緩 國際 股市 早盤 反彈 台股 開盤 指數 開高 短多 買盤 出場 壓回 類股 相對 整齊 強勢股 創意 上漲 世芯 上漲 智原 電股 台半 上漲 德微 上漲 飛宏 上漲 台達電 上漲 光頡 上漲 貨櫃 雙雄 儘管 股息 護體 但是 不敵 賣壓 調節 長榮下跌 陽明 下跌 終場 指數 上漲', '熱門 族群 連環 代工 五哥 法寶時報 台北電 瑞士 大銀行 瑞士 信貸 股東 排除 挹注 資金 加劇 市場 銀行業 憂心 經過 美股 一夜 震撼 洗禮 台股 早盤 下跌 來到 殖利率 再成 資金 避風港 代工 族群 廣達 擬發 元股息 殖利率 次於 緯創 早盤 吸引 買盤 搶進 彈逾 奇鋐 英業達 建碁 微星 技嘉 和碩 電腦 設備 族群 跟上 步伐 表現 抗跌 觀察 代工 表現 廣達 去年 純益 創史 同業 仁寶', '百億 上市 公司 大立光 穩居 第一 長榮 賺逾 元躍 第二規模 百億 以上 上市 公司 第四 季度 財報 以前 必須 上傳 完畢 依照 公布 資訊 基本 盈餘 排行 大立光 排行 第一 去年 業績 爆發 長榮 第二 緯創 旗下 雲端 伺服器廠 緯穎 元排 第三 台積電 元排第 統計 截至 今日 中午 為止 百億 上市 公司 財報 公布 排行 大立光 長榮 緯穎 第三 觀察 排行 普遍 電子股 貨櫃 三雄 成為 亮點 長榮 躍居 第二 之外 陽明 元排 第五 萬海', '情報 上市 投信 買賣 排行標題 投信 買賣 排行 來源 富邦證券 網址 內文 買超 仁寶 開發金 緯創 光寶科 永豐金 元大金 英業達 宏碁 中華電 中鋼 東元 兆豐金 第一 台泥 國泰金 廣達 奇鋐 聯強 大聯大 日月光 投控 遠東新 台塑 上海商銀 中信金 南亞科 漢翔 南亞 台灣大 同欣電 京元電子 遠傳 元大 台灣 元大 滬深 智邦 富邦金 群光 矽格 創見 台表科 微星 華碩 聯發科 遠百 承業醫 台勝科 聚陽', '情報 上市 外資 買賣 排行標題 外資 買賣 排行 來源 台灣 證交所 網址 內文 買超 聯電 緯創 元晶 華新 京元電子 日月光 投控 盛達 中鋼 元大 滬深 中工 元大 股息 裕隆 元大 台灣 聯合 再生 中華 元大 台灣 富邦 越南 國泰 智能 電動車 漢翔 技嘉 宏碁 泰金寶 映泰 中信 中國 富邦 恒生 國企 寶成 智邦 東陽 裕民 富邦 証正 上曜 台聚 建準 智原 亞力 中化 佳龍 安集 合勤控 康舒', '情報 上市櫃 外資 投信 買超 金額 排行外資 排行 股票 名稱 百萬 收盤價 漲跌 聯電 智邦 保瑞 日月 緯創 華新 元晶 京元 電子 矽力 資料 來源 投信 排行 股票 名稱 百萬 收盤價 漲跌 譜瑞 聯發科 光寶科 中華電 智邦 同欣電 台積電 奇鋐 德微 祥碩 資料 來源 以上 謝謝', '情報 上市櫃 外資 投信 排行排行 股票 名稱 成交 漲跌 投信 外資 緯創 宏碁 中鋼 台泥 欣銓 日月 榮剛 漢翔 合晶 南亞 京元電子 智邦 矽格 德微 創見 資料 來源 以上 謝謝', '情報 公股銀行 買賣 排行標題 公股銀行 買賣 排行 來源 股網 網址 內文 以下 資訊 張數 排列 買超 排名 股票 張數 排名 股票 張數 街口 布蘭 特正 元大 台灣 國泰 永續 股息 期元 原油 新光金 聯電 期元 石油 京元 電子 元大 滬深 緯創 中信金 國票金 合庫金 群創 陽明 國泰 智能 電動車 元大 台灣 息低波 富邦 開發金 華南金 茂迪 中信 評級 公司 亞泥 大成鋼 華新 元大 美債', '新聞 金控 外資 空襲 入賣 超前原文 標題 金控 外資 空襲 大之列 原文 連結 發布 時間 記者 署名 陳蕙綾 原文 內容 台股 終場 小漲 外資 合計 賣超 外資 賣超 提款 額度 一半 觀察 外資 今日 操作 賣超 金控股 一半 金控 外資 空襲 現貨 部分 外資 自營商 投信 買超 法人 合計 賣超', '個人 研究 觀察 記錄 鴻海 分析 宏碁 轉型鴻海 獲利 元寫 配息 序言 今天 鴻海 召開 法人 說明會 公佈 全年 獲利 股息 第四 獲利 第四 衰退 如果 沒有 任何 事件 發生 這樣 不如 預期 大家 記得 去年 鴻海 鄭州廠 事件 那時 蘋果 手機 生產 旺季 鴻海 為了 手機 生產 順利 重金 激勵 員工 加班 生產 蘋果 手機 中國 嚴格 動態 清零 那時 病毒 傳播力 速度 超級 中國 官媒 嚇唬人', '緯創 看衰 聚焦 毛利 業務身為 全球 第三 筆電 代工廠 緯創 日法說會 今年 整體 市況 看衰 隨著 導入 相關 伺服器 業務 服務 高階 手持 裝置 毛利 產品線 加速 成長 達成 增長 目標 前進 緯創 年度 合併 營收 寫下 新猷 營益率 毛利率 分別 分別 歷年 第二 創高 表現 純益 稅後 純益 同樣 刷新 歷年 新高 董事會 決議 配發 現金 股利 緯創 董事長 林憲銘 直言 對於 今年 整體 經濟環', '檔法人 逆勢 買超 抗震美國 矽谷銀行 風暴 持續 延燒 市場 擔憂 美國銀行 倒閉 出現 連鎖 效應 大盤 震盪 加劇 台股 大跌 法人 逆勢 超股 股市 海神針 包括 京元 電子 大成鋼 緯創 欣銓 統一 慧洋 鴻海 微星 中光電 保瑞 大學光 合勤 譜瑞 研華 大樹 以來 法人 連手 買超 其中 京元電 大成鋼 獲法人 以來 買盤 積極 京元電 純益 年增 三成 純益 董事', '掃瞄 國內 消息 台股 基金 規模 重返 長榮豪 股息時報 台北電 國內 消息 台股 基金 規模 即將 挑戰 大關 根據 投信 投顧 公會 統計 台股 基金 規模 增加 創下 去年 以來 新高 負眾望 長榮 去年 純益 董事會 決議 配發 現金 股利 優於 市場 預期 不論 營收 獲利 配息 收盤價 計算 現金 殖利率 傲視 群雄 外資 台股 創下 去年 加權 指數 大跌 作收', '電腦 設備 緯創 去年 獲利 登次高 殖息率 今年 逐季時報 記者 林資傑 台北 報導 電子 代工 大廠 緯創 公布 併營 收創 新高 歸屬 公司 淨利 改寫 盈餘 董事會 決議 配息 高點 配發 收盤價 計算 現金 殖利率 達約 緯創 年前 結合 營收 公司 晚間 應邀 召開 線上 總經理 林建勳 表示 上半年 市況 低迷 預期 庫存 第二季 恢復 正常 水位 下半年 重啟 拉貨 營運動 回升 今年 力拚 逐季 成長', '台北 股市 檔法人 逆勢 買超 抗震時報 台北電 美國 矽谷銀行 風暴 持續 延燒 市場 擔憂 美國銀行 倒閉 出現 連鎖 效應 大盤 震盪 加劇 台股 大跌 法人 逆勢 超股 股市 定海 神針 包括 京元 電子 大成鋼 緯創 欣銓 統一 慧洋 鴻海 微星 中光電 保瑞 大學光 合勤 譜瑞 研華 大樹 以來 法人 連手 買超 其中 京元電 大成鋼 獲法人 以來 買盤 積極 京元電 純益 年增 三成 新高', '台股 續收 月線 之下 法人 技術面 轉強中央社 記者 吳家豪 台北 日電 美國 通貨 膨脹 持續 降溫 加上 矽谷銀行 倒閉 衝擊 重挫 銀行 出現 反彈 美股 收高 法人 表示 台股 連續 月線 之下 技術面 籌碼面 轉強 留意 國際 股市 走勢 美股 道瓊 工業 指數 標準 普爾 指數 那斯達克 指數 費城 半導體 指數 飆升 台股 開低 加權 指數 終場 下跌 失守 關卡', '產業 筆電 出貨 月增 月續 反彈時報 記者 林資傑 台北 報導 研究中心 指出 出貨 基期 加上 巿場 回補 部分 存貨 全球 筆電 品牌 整體 出貨 增達 規模 大致 重返 水準 展望 後市 通路 料件 庫存 開始 有效 下降 品牌 庫存 回補 新品 放量 更為 顯著 預期 出貨 可望 研究中心 分析師 蕭聖倫 分析 通路 庫存 高於 往年 春節 提早 導致 出貨 低於 平均 水準 搭載 英特爾 代及 超微 系列 處理器 筆電 新品 陸續 上市 中美 市場 部分 通路 出現', '品牌 筆電 出貨 彈升 美中 市場 零星 補貨市場 展望 依然 冷清 品牌 筆電 出貨 彈升 研究中心 分析師 蕭聖倫 觀察 全球 品牌 蘋果 代工廠 出貨 出貨 基期 加上 巿場 回補 部分 存貨 整體 銷售 出現 以上 反彈 出貨 規模 回到 疫情 水準 研究中心 表示 品牌 出貨 排名 出現 變化 中國 巿場 回補 庫存 出貨 排名 重回 第一 惠普 成熟 巿場 平價 消費機 銷售 衰退 整體 出貨 戴爾 表現 低於 預期 商務', '緯創 去年 今年 業務 千億 成長 看淡 法人財訊 快報 記者 王宜弘 報導 筆電 大廠 緯創 去年 財報 逆勢 繳出 亮麗 成績單 配發 現金 股利 發放率 週二 收盤價 計算 殖利率 緯創 週二 傍晚 召開 法說會 今年 營運 審慎 樂觀 預估 全年 營收 維持 成長 桌機 筆電 產品線 評估 個位數 衰退 雲端 需求 伺服器 出貨 優於 去年 由於 母公司 本體 業務 產品 結構 調整 效益 發揮 旗下 雲端 伺服器 大廠 緯穎 獲利 年年 緯創 近年 營運 蒸蒸日 去年 不畏', '庫存 回補 力道 新品 放量 出貨 研調 機構 筆電 出貨量 可望財訊 快報 記者 王宜弘 報導 基期 偏低 筆電 品牌 代工 大廠 出貨 出現 反彈 研調 機構 研判 回補 新品 放量 顯著 預期 出貨 增可達 以上 研究中心 分析師 蕭聖倫 指出 觀察 全球 品牌 蘋果 代工廠 今年 出貨 卸式 外觀 機種 出貨 基期 加上 巿場 回補 部分 存貨 因而 整體 出貨 出現 以上 反彈 出貨 規模 回到 疫情 水準 品牌 排名 聯想 受惠 中國', '美國 符合 預期 台股 反彈 虎頭 蛇尾財訊 快報 黃俊超 美國 勞工部 週二 公布 年增 月增 核心 年增 月增 基本 符合 市場 原先 預期 帶動 昨晚 道瓊 上漲 上漲 上漲 費城 半導體 指數 上漲 台股 出現 反彈 走勢 加權 指數 挑戰 五日線 不過 追價 力道 加上 指期貨 結算 影響 漲勢 收斂 終場 上漲 收在 成交量能 櫃檯 指數 受到 影響 終場 上漲 成交量能 數據 符合 預期 加上 銀行股 連環 市場 預期', '台北 股市 投信時報 台北電 台股 反彈 電子 止穩 一度 漲破 航運 金融股 相繼 翻黑 牽動 大盤 漲幅 收斂 加權 指數 總成交值 法人 賣超 其中 外資 賣超 投信 自營商 分別 買超 賣超 投信 買超 類別 電子股 金融股 傳產股 價分 價位 銅板股 買超 張數 方面 榜首 仁寶 買超 開發金 緯創 名列', '台北 股市 法人 電子 重災區 破萬時報 台北電 台股 日加權 指數 成交值 法人 其中 外資 投信 營商 分別 買超 法人 買超 類別 電子股 傳產股 價分 價位股 銅板股 買超 張數 方面 買超 上萬 榜首 聯電 緯創 元晶 名列 分別 買超 買超 第四 第五 名為 華新 京元 電子 其他 依序 日月光', '台北 股市 外資 寵妃 抱逾時報 台北電 船長 長榮 配息 鐵板 殺低 金融 鋼鐵 航運 翻黑 電子 漲幅 回吐 台股 日加權 指數 總成交值 法人 賣超 其中 外資 賣超 投信 自營商 分別 買超 賣超 外資 買超 類別 電子 傳產股 價分 價位股 銅板股 買超 張數 方面 買超 上萬 榜首 聯電 買超 緯創 元晶 名列', '外資 提款 金融 航運 面板股中央社 記者 吳家豪 台北 日電 台股 今天 上漲 外資 陸資 新台幣 連續 交易日 主要 減碼 金融 航運 面板股 中信金 最多 台股 今天 電子股 止穩 航運股 力挺 早盤 上漲 突破 大關 午盤 金融 貨櫃 族群 翻黑 大盤 漲勢 收斂 終場 今天 上漲 成交值 新台幣 觀察 外資 超前 金融股 半數 中信金 新光金 賣超', '緯創 看衰 聚焦 毛利 業務身為 全球 第三 筆電 代工廠 緯創 日法說會 今年 整體 市況 看衰 隨著 導入 相關 伺服器 業務 服務 高階 手持 裝置 毛利 產品線 加速 成長 達成 增長 目標 前進 緯創 年度 合併 營收 寫下 新猷 營益率 毛利率 分別 分別 歷年 第二 創高 表現 純益 稅後 純益 同樣 刷新 歷年 新高 董事會 決議 配發 現金 股利 緯創 董事長 林憲銘 直言 對於 今年 整體 經濟環', '檔法人 逆勢 買超 抗震美國 矽谷銀行 風暴 持續 延燒 市場 擔憂 美國銀行 倒閉 出現 連鎖 效應 大盤 震盪 加劇 台股 大跌 法人 逆勢 超股 股市 海神針 包括 京元 電子 大成鋼 緯創 欣銓 統一 慧洋 鴻海 微星 中光電 保瑞 大學光 合勤 譜瑞 研華 大樹 以來 法人 連手 買超 其中 京元電 大成鋼 獲法人 以來 買盤 積極 京元電 純益 年增 三成 純益 董事', '掃瞄 國內 消息 台股 基金 規模 重返 長榮豪 股息時報 台北電 國內 消息 台股 基金 規模 即將 挑戰 大關 根據 投信 投顧 公會 統計 台股 基金 規模 增加 創下 去年 以來 新高 負眾望 長榮 去年 純益 董事會 決議 配發 現金 股利 優於 市場 預期 不論 營收 獲利 配息 收盤價 計算 現金 殖利率 傲視 群雄 外資 台股 創下 去年 加權 指數 大跌 作收', '電腦 設備 緯創 去年 獲利 登次高 殖息率 今年 逐季時報 記者 林資傑 台北 報導 電子 代工 大廠 緯創 公布 併營 收創 新高 歸屬 公司 淨利 改寫 盈餘 董事會 決議 配息 高點 配發 收盤價 計算 現金 殖利率 達約 緯創 年前 結合 營收 公司 晚間 應邀 召開 線上 總經理 林建勳 表示 上半年 市況 低迷 預期 庫存 第二季 恢復 正常 水位 下半年 重啟 拉貨 營運動 回升 今年 力拚 逐季 成長', '台北 股市 檔法人 逆勢 買超 抗震時報 台北電 美國 矽谷銀行 風暴 持續 延燒 市場 擔憂 美國銀行 倒閉 出現 連鎖 效應 大盤 震盪 加劇 台股 大跌 法人 逆勢 超股 股市 定海 神針 包括 京元 電子 大成鋼 緯創 欣銓 統一 慧洋 鴻海 微星 中光電 保瑞 大學光 合勤 譜瑞 研華 大樹 以來 法人 連手 買超 其中 京元電 大成鋼 獲法人 以來 買盤 積極 京元電 純益 年增 三成 新高', '台股 續收 月線 之下 法人 技術面 轉強中央社 記者 吳家豪 台北 日電 美國 通貨 膨脹 持續 降溫 加上 矽谷銀行 倒閉 衝擊 重挫 銀行 出現 反彈 美股 收高 法人 表示 台股 連續 月線 之下 技術面 籌碼面 轉強 留意 國際 股市 走勢 美股 道瓊 工業 指數 標準 普爾 指數 那斯達克 指數 費城 半導體 指數 飆升 台股 開低 加權 指數 終場 下跌 失守 關卡', '產業 筆電 出貨 月增 月續 反彈時報 記者 林資傑 台北 報導 研究中心 指出 出貨 基期 加上 巿場 回補 部分 存貨 全球 筆電 品牌 整體 出貨 增達 規模 大致 重返 水準 展望 後市 通路 料件 庫存 開始 有效 下降 品牌 庫存 回補 新品 放量 更為 顯著 預期 出貨 可望 研究中心 分析師 蕭聖倫 分析 通路 庫存 高於 往年 春節 提早 導致 出貨 低於 平均 水準 搭載 英特爾 代及 超微 系列 處理器 筆電 新品 陸續 上市 中美 市場 部分 通路 出現', '品牌 筆電 出貨 彈升 美中 市場 零星 補貨市場 展望 依然 冷清 品牌 筆電 出貨 彈升 研究中心 分析師 蕭聖倫 觀察 全球 品牌 蘋果 代工廠 出貨 出貨 基期 加上 巿場 回補 部分 存貨 整體 銷售 出現 以上 反彈 出貨 規模 回到 疫情 水準 研究中心 表示 品牌 出貨 排名 出現 變化 中國 巿場 回補 庫存 出貨 排名 重回 第一 惠普 成熟 巿場 平價 消費機 銷售 衰退 整體 出貨 戴爾 表現 低於 預期 商務', '緯創 去年 今年 業務 千億 成長 看淡 法人財訊 快報 記者 王宜弘 報導 筆電 大廠 緯創 去年 財報 逆勢 繳出 亮麗 成績單 配發 現金 股利 發放率 週二 收盤價 計算 殖利率 緯創 週二 傍晚 召開 法說會 今年 營運 審慎 樂觀 預估 全年 營收 維持 成長 桌機 筆電 產品線 評估 個位數 衰退 雲端 需求 伺服器 出貨 優於 去年 由於 母公司 本體 業務 產品 結構 調整 效益 發揮 旗下 雲端 伺服器 大廠 緯穎 獲利 年年 緯創 近年 營運 蒸蒸日 去年 不畏', '庫存 回補 力道 新品 放量 出貨 研調 機構 筆電 出貨量 可望財訊 快報 記者 王宜弘 報導 基期 偏低 筆電 品牌 代工 大廠 出貨 出現 反彈 研調 機構 研判 回補 新品 放量 顯著 預期 出貨 增可達 以上 研究中心 分析師 蕭聖倫 指出 觀察 全球 品牌 蘋果 代工廠 今年 出貨 卸式 外觀 機種 出貨 基期 加上 巿場 回補 部分 存貨 因而 整體 出貨 出現 以上 反彈 出貨 規模 回到 疫情 水準 品牌 排名 聯想 受惠 中國', '美國 符合 預期 台股 反彈 虎頭 蛇尾財訊 快報 黃俊超 美國 勞工部 週二 公布 年增 月增 核心 年增 月增 基本 符合 市場 原先 預期 帶動 昨晚 道瓊 上漲 上漲 上漲 費城 半導體 指數 上漲 台股 出現 反彈 走勢 加權 指數 挑戰 五日線 不過 追價 力道 加上 指期貨 結算 影響 漲勢 收斂 終場 上漲 收在 成交量能 櫃檯 指數 受到 影響 終場 上漲 成交量能 數據 符合 預期 加上 銀行股 連環 市場 預期', '台北 股市 投信時報 台北電 台股 反彈 電子 止穩 一度 漲破 航運 金融股 相繼 翻黑 牽動 大盤 漲幅 收斂 加權 指數 總成交值 法人 賣超 其中 外資 賣超 投信 自營商 分別 買超 賣超 投信 買超 類別 電子股 金融股 傳產股 價分 價位 銅板股 買超 張數 方面 榜首 仁寶 買超 開發金 緯創 名列', '台北 股市 法人 電子 重災區 破萬時報 台北電 台股 日加權 指數 成交值 法人 其中 外資 投信 營商 分別 買超 法人 買超 類別 電子股 傳產股 價分 價位股 銅板股 買超 張數 方面 買超 上萬 榜首 聯電 緯創 元晶 名列 分別 買超 買超 第四 第五 名為 華新 京元 電子 其他 依序 日月光', '台北 股市 外資 寵妃 抱逾時報 台北電 船長 長榮 配息 鐵板 殺低 金融 鋼鐵 航運 翻黑 電子 漲幅 回吐 台股 日加權 指數 總成交值 法人 賣超 其中 外資 賣超 投信 自營商 分別 買超 賣超 外資 買超 類別 電子 傳產股 價分 價位股 銅板股 買超 張數 方面 買超 上萬 榜首 聯電 買超 緯創 元晶 名列', '外資 提款 金融 航運 面板股中央社 記者 吳家豪 台北 日電 台股 今天 上漲 外資 陸資 新台幣 連續 交易日 主要 減碼 金融 航運 面板股 中信金 最多 台股 今天 電子股 止穩 航運股 力挺 早盤 上漲 突破 大關 午盤 金融 貨櫃 族群 翻黑 大盤 漲勢 收斂 終場 今天 上漲 成交值 新台幣 觀察 外資 超前 金融股 半數 中信金 新光金 賣超', '情報 上市 投信 買賣 排行標題 投信 買賣 排行 來源 富邦證券 網址 內文 買超 開發金 仁寶 永豐金 元大金 光寶科 英業達 中信金 東元 台泥 兆豐金 中鋼 遠東 第一 廣達 宏碁 國泰金 大聯大 聯強 上海商銀 中華電 慧洋 富邦金 南亞 台灣大 遠傳 南亞科 日月光 投控 元大 滬深 微星 漢翔 華碩 台塑 亞泥 可成 瑞昱 遠百 智邦 聯發科 承業醫 大成鋼 新興 新光金 台勝科 祥碩 宏全 新纖', '情報 上市 外資 買賣 排行標題 外資 買賣 排行 來源 台灣 證交所 網址 內文 買超 元大 台灣 漢翔 京元 電子 宏達電 大成鋼 中鴻 元晶 元大 股息 康舒 日月 投控 中磊 南帝 統一 緯創 建準 富邦 台灣 半導體 華孚 神基 華夏 環科 中工 太極 東元 台汽電 裕民 大亞 中信 關鍵 半導體 和碩 智原 天鈺 聯華 元大 美債 台聚 景碩 台肥 正文 中化生 慧洋 富邦 基因 免疫 生技 葡萄王 希華 建碁 台驊 投控', '情報 公股銀行 買賣 排行標題 公股銀行 買賣 排行 來源 股網 網址 內文 以下 資訊 張數 排列 買超 排名 股票 張數 排名 股票 張數 國泰 永續 股息 元大 台灣 開發金 期元 中信金 新光 臺灣 半導體 永豐金 中工 期街口 布蘭 特正 中信 關鍵 半導體 長榮航 華夏 聯電 元晶 漢翔 華航 國票金 元大金 中石化 仁寶 精確 光寶科 擎邦 元大 滬深 國泰 年美債 兆豐金 元大 美債 新光', '情報 緯創 股利標題 緯創 股利 配發 公佈 來源 公開 資訊 觀測 網址 內文 董事會 擬議 日期 股利 所屬 年度 股利 所屬 期間 股東 配發 內容 盈餘 分配 現金 股利 法定 盈餘 公積 發放 現金 資本 公積 發放 現金 股東 配發 現金 股利 金額 盈餘 增資 配股 法定 盈餘 公積 配股 資本 公積 增資 配股 股東 配股 總股數 其他 敘明事項 普通股 面額', '今日 股市 備忘錄法說會 英業達 緯創 聯亞 智伸科 譜瑞 中華電 和碩 新金 力成 新光金 環球晶 宏達電 京元 電子 旺宏 富邦媒 瑞昱 國巨 遠傳 智易 台灣 美時 暫停 沖銷 元大 台灣 低波 華新 東鹼 興農 降低 融資 比率 提高 融券 保證 成數 八貫 立益 物流 榮星 威盛 凌群 冠西電 資通 連宇 晶睿 暫停 融券 賣出 東元 華新 注意 股票 環科 三商電 銘旺科 凌群 雲品 淘帝', '台北 股市 外資 超股 聯電 大成鋼 京元電子時報 台北電 台股 日加權 指數 成交值 法人 買超 其中 外資 買超 投信 營商 分別 買超 賣超 外資 買超 類別 電子股 金融股 傳產股 價分 價位股 銅板股 買超 張數 方面 買超 榜首 聯電 買超 大成鋼 京元 電子 名列 分別 買超 買超 第四 第五 華邦電 臺企銀 其他 依序', '台北 股市 法人 超股 聯電 大成鋼 中鋼時報 台北電 台股 日加權 指數 成交值 法人 買超 其中 外資 買超 投信 營商 分別 買超 法人 買超 類別 電子股 傳產股 價分 價位 銅板股 買超 張數 方面 買超 上萬 榜首 聯電 買超 大成鋼 中鋼 名列 分別 買超 買超 第四 第五 京元 電子 緯創 其他 依序 華邦電', '台北 股市 股市 備忘時報 台北電 股市 備忘錄 法說會 英業達 緯創 聯亞 智伸科 譜瑞 中華電 和碩 新金 力成 新光金 環球晶 宏達電 京元電子 旺宏 富邦媒 瑞昱 國巨 遠傳 智易 台灣 美時 暫停 沖銷 元大 台灣 息低波 八貫 華新 東鹼 興農 降低 融資 比率 提高 融券 保證金 成數 立益 物流 榮星 威盛 凌群 冠西電 資通 連宇 晶睿 暫停 融券 賣出 東元 華新 注意 股票', '公告 緯創 董事會 決議 股利 分派公司 名稱 緯創 董事會 決議 股利 分派 發言人 石慶堂 董事會 擬議 日期 股利 所屬 年度 股利 所屬 期間 股東 配發 內容 盈餘 分配 現金 股利 法定 盈餘 公積 發放 現金 資本 公積 發放 現金 股東 配發 現金 股利 金額 盈餘 增資 配股 法定 盈餘 公積 轉增資 配股 資本 公積 增資 配股 股東 配股 總股數 其他 敘明事', '今日 股市 備忘錄法說會 英業達 緯創 聯亞 智伸科 譜瑞 中華電 和碩 新金 力成 新光金 環球晶 宏達電 京元 電子 旺宏 富邦媒 瑞昱 國巨 遠傳 智易 台灣 美時 暫停 沖銷 元大 台灣 低波 華新 東鹼 興農 降低 融資 比率 提高 融券 保證 成數 八貫 立益 物流 榮星 威盛 凌群 冠西電 資通 連宇 晶睿 暫停 融券 賣出 東元 華新 注意 股票 環科 三商電 銘旺科 凌群 雲品 淘帝', '台北 股市 外資 超股 聯電 大成鋼 京元電子時報 台北電 台股 日加權 指數 成交值 法人 買超 其中 外資 買超 投信 營商 分別 買超 賣超 外資 買超 類別 電子股 金融股 傳產股 價分 價位股 銅板股 買超 張數 方面 買超 榜首 聯電 買超 大成鋼 京元 電子 名列 分別 買超 買超 第四 第五 華邦電 臺企銀 其他 依序', '台北 股市 法人 超股 聯電 大成鋼 中鋼時報 台北電 台股 日加權 指數 成交值 法人 買超 其中 外資 買超 投信 營商 分別 買超 法人 買超 類別 電子股 傳產股 價分 價位 銅板股 買超 張數 方面 買超 上萬 榜首 聯電 買超 大成鋼 中鋼 名列 分別 買超 買超 第四 第五 京元 電子 緯創 其他 依序 華邦電', '台北 股市 股市 備忘時報 台北電 股市 備忘錄 法說會 英業達 緯創 聯亞 智伸科 譜瑞 中華電 和碩 新金 力成 新光金 環球晶 宏達電 京元電子 旺宏 富邦媒 瑞昱 國巨 遠傳 智易 台灣 美時 暫停 沖銷 元大 台灣 息低波 八貫 華新 東鹼 興農 降低 融資 比率 提高 融券 保證金 成數 立益 物流 榮星 威盛 凌群 冠西電 資通 連宇 晶睿 暫停 融券 賣出 東元 華新 注意 股票', '公告 緯創 董事會 決議 股利 分派公司 名稱 緯創 董事會 決議 股利 分派 發言人 石慶堂 董事會 擬議 日期 股利 所屬 年度 股利 所屬 期間 股東 配發 內容 盈餘 分配 現金 股利 法定 盈餘 公積 發放 現金 資本 公積 發放 現金 股東 配發 現金 股利 金額 盈餘 增資 配股 法定 盈餘 公積 轉增資 配股 資本 公積 增資 配股 股東 配股 總股數 其他 敘明事', '情報 上市 投信 買賣 排行標題 投信 買賣 排行 來源 富邦證券 網址 內文 買超 開發金 仁寶 中鋼 英業達 元大金 光寶 中信金 兆豐金 第一 廣達 宏碁 遠東新 中華電 國泰金 台塑 大聯大 聯強 台灣 上海商銀 緯創 富邦金 南亞科 日月光 投控 南亞 華新 遠傳 欣興 亞泥 東元 遠百 微星 金像電 華碩 承業醫 聯電 力智 中化生 新纖 可成 長榮 聯發科 慧洋 寶成 國產 聚陽 群光 遠雄 瑞昱 新光金', '情報 上市 外資 買賣 排行標題 外資 買賣 排行 來源 台灣證交所 網址 內文 買超 聯電 大成鋼 京元電子 華邦電 元大 股息 臺企銀 鴻海 緯創 富邦 恒生 國企 群創 康舒 新金 欣興 元大 滬深 台驊 投控 中興電 裕民 中信中國 富邦越南 中鴻 華夏 宏達電 裕隆 中鋼 統一 國票金 富邦 台灣 半導體 長榮航 英業達 虹堡 中磊 彩晶 聯詠 中租 富邦 特選 股息 中信 關鍵 半導體 華航 台積電 日月光 投控 華新', '情報 公股銀行 買賣 排行標題 公股銀行 買賣 排行 來源 股網 網址 內文 以下 資訊 張數 排列 買超 排名 股票 張數 排名 股票 張數 國泰 永續 股息 大成鋼 期街口 布蘭 特正 富邦 恒生 國企 華航 期元 陽明 長榮 台泥 富邦 台灣 半導體 華通 聯電 富時 動產 群創 新光金 元大 美債 富邦 元大 滬深 元大 台灣 高息低波 緯創 仁寶 富邦 臺灣 加權 遠東 三商壽 漢翔 裕隆 元大', '情報 上市櫃 外資 投信 排行排行 股票 名稱 成交 漲跌 投信 外資 中鋼 英業達 宏碁 欣銓 緯創 日月光 南亞 華新 欣興 亞泥 微星 承業醫 聯電 和碩 中化生 資料 來源 以上 謝謝', '台股週報 外資 狂砍 波動 看俏記者 陳鑫 報導 台北 股市 收在 跌破 月線 支撐 單週 下跌 週線 紅止步 法人 認為 聯準會 可能 擴大 升息 台股 短線 波動 加劇 須慎 防漲 回檔 資金 可望 聚焦 概念股 外資 單週 大舉 賣超 所幸 投信 力挺 持續 天天 買超 單週 買超 營商 單週 賣超 法人 上週 合計 金額 其中 外資 不僅 賣超 創去 下旬 以來 單週 賣超 主要 賣超 標的 面板 雙虎 航空 雙雄 以及', '金融 首季 聯貸 商機 上看時報 台北電 今年 首季 聯貸圈 熱氣 爆棚 除了 友達 華邦電 金士頓 高科技 巨頭 聯貸案 同步 登場 倘若 加上 先前 籌組 簽約 和泰 緯創 資通 恒耀 大成鋼 台北港 貨櫃 碼頭 大型 聯貸案 今年 首季 聯貸 商機 目前 上看 聯貸圈 具有 代表性 統計 相較 幾年 首季 聯貸案量 去年 第一季 當時 聯貸案量 約當 其次 第一季 今年 以來 浮上 檯面 將近 聯貸 商機', '台股 法人 短線 保守 關注 台積電 除息中央社 記者 鍾榮峰 台北 日電 美國 矽谷銀行 倒閉 接管 引發 風暴 美股 下挫 台股 大跌 失守 短期 均線 月線 法人 表示 台股 短線 保守 關注 美國 公布 重要 經濟 數據 鴻海 工廠 法說 以及 台積電 大立光 現金 股利 股價 表現 矽谷銀行 倒閉 接管 引發 風暴 業界 恐慌 美股 收黑 道瓊 工業 指數 終場下跌 收在 標準 普爾 指數 下跌 收在 科技股 為主 那斯達', '電子 代工 重量法 登場 市場 寄望 翻紅 領軍 抗跌台股 美國 矽谷銀行 倒閉 衝擊 漲多 資金 急於 縮手 周五 加權 指數 失守 月線 之後 今年 領漲 指數 跌破 月線 短線 回測 農曆年 多方 缺口 支撐 電子 代工 大廠 包括 鴻海 和碩 仁寶 緯創 英業達 重磅 登場 外界 關注 五哥 本業 景氣 好轉 聚焦 轉型 車用 布局 策略 是否 進展 寄望法 展望 台股 形成 抗跌 支撐 加權 指數 周五 失守 月線 電子股 成交比 滑落 造成 科技股 資金 急於 落袋 情況 跌勢 更加 兇猛', '台北 股市 法人 聯電時報 台北電 台股 日加權 指數 成交值 法人 買超 其中 外資 買超 投信 營商 分別 買超 法人 買超 類別 電子股 傳產股 價分 價位 銅板股 買超 張數 方面 買超 上萬 榜首 聯電 買超 大成鋼 中鋼 名列 分別 買超 買超 第四 第五 京元 電子 緯創 其他 依序 華邦電', '台北 股市 外資 聯電時報 台北電 台股 日加權 指數 成交值 法人 買超 其中 外資 買超 投信 營商 分別 買超 賣超 外資 買超 類別 電子股 金融股 傳產股 價分 價位股 銅板股 買超 張數 方面 買超 榜首 聯電 買超 大成鋼 京元 電子 名列 分別 買超 買超 第四 第五 華邦電 臺企銀 其他 依序', '台股週報 外資 狂砍 波動 看俏記者 陳鑫 報導 台北 股市 收在 跌破 月線 支撐 單週 下跌 週線 紅止步 法人 認為 聯準會 可能 擴大 升息 台股 短線 波動 加劇 須慎 防漲 回檔 資金 可望 聚焦 概念股 外資 單週 大舉 賣超 所幸 投信 力挺 持續 天天 買超 單週 買超 營商 單週 賣超 法人 上週 合計 金額 其中 外資 不僅 賣超 創去 下旬 以來 單週 賣超 主要 賣超 標的 面板 雙虎 航空 雙雄 以及', '金融 首季 聯貸 商機 上看時報 台北電 今年 首季 聯貸圈 熱氣 爆棚 除了 友達 華邦電 金士頓 高科技 巨頭 聯貸案 同步 登場 倘若 加上 先前 籌組 簽約 和泰 緯創 資通 恒耀 大成鋼 台北港 貨櫃 碼頭 大型 聯貸案 今年 首季 聯貸 商機 目前 上看 聯貸圈 具有 代表性 統計 相較 幾年 首季 聯貸案量 去年 第一季 當時 聯貸案量 約當 其次 第一季 今年 以來 浮上 檯面 將近 聯貸 商機', '台股 法人 短線 保守 關注 台積電 除息中央社 記者 鍾榮峰 台北 日電 美國 矽谷銀行 倒閉 接管 引發 風暴 美股 下挫 台股 大跌 失守 短期 均線 月線 法人 表示 台股 短線 保守 關注 美國 公布 重要 經濟 數據 鴻海 工廠 法說 以及 台積電 大立光 現金 股利 股價 表現 矽谷銀行 倒閉 接管 引發 風暴 業界 恐慌 美股 收黑 道瓊 工業 指數 終場下跌 收在 標準 普爾 指數 下跌 收在 科技股 為主 那斯達', '電子 代工 重量法 登場 市場 寄望 翻紅 領軍 抗跌台股 美國 矽谷銀行 倒閉 衝擊 漲多 資金 急於 縮手 周五 加權 指數 失守 月線 之後 今年 領漲 指數 跌破 月線 短線 回測 農曆年 多方 缺口 支撐 電子 代工 大廠 包括 鴻海 和碩 仁寶 緯創 英業達 重磅 登場 外界 關注 五哥 本業 景氣 好轉 聚焦 轉型 車用 布局 策略 是否 進展 寄望法 展望 台股 形成 抗跌 支撐 加權 指數 周五 失守 月線 電子股 成交比 滑落 造成 科技股 資金 急於 落袋 情況 跌勢 更加 兇猛', '台北 股市 法人 聯電時報 台北電 台股 日加權 指數 成交值 法人 買超 其中 外資 買超 投信 營商 分別 買超 法人 買超 類別 電子股 傳產股 價分 價位 銅板股 買超 張數 方面 買超 上萬 榜首 聯電 買超 大成鋼 中鋼 名列 分別 買超 買超 第四 第五 京元 電子 緯創 其他 依序 華邦電', '台北 股市 外資 聯電時報 台北電 台股 日加權 指數 成交值 法人 買超 其中 外資 買超 投信 營商 分別 買超 賣超 外資 買超 類別 電子股 金融股 傳產股 價分 價位股 銅板股 買超 張數 方面 買超 榜首 聯電 買超 大成鋼 京元 電子 名列 分別 買超 買超 第四 第五 華邦電 臺企銀 其他 依序', '情報 上市 投信 買賣 排行標題 投信 買賣 排行 來源 富邦證券 網址 內文 買超 仁寶 開發金 中鋼 英業達 元大金 中信金 兆豐金 第一 宏碁 緯創 遠東新 光寶科 力智 台灣 亞泥 大聯大 遠百 南亞科 聯電 華碩 國泰金 聯強 上海商銀 南亞 遠傳 愛普 新纖 富邦金 廣達 宏全 微星 祥碩 永豐金 中華電 國產 遠雄 寶成 群光 京元電子 力積電 南茂 創見 可成 瑞儀 鴻海 新光金 台塑 玉山金 矽格 中保', '情報 公股銀行 買賣 排行標題 公股銀行 買賣 排行 來源 股網 網址 內文 以下 資訊 張數 排列 買超 排名 股票 張數 排名 股票 張數 國泰 永續 股息 元大 台灣 華航 期元 新光金 統一實 富邦 恒生 國企 元大 美債 長榮航 飛宏 期街 布蘭 特正 正德 開發金 緯創 玉山金 建碁 華邦電 大成鋼 元大 台灣 高息低波 天鈺 群益 台灣 低碳 國泰 臺灣 加權 中信金 毅嘉 華通 裕民 國泰金 元晶', '緯創 醫學 業務 齊步 今年 營收 增逾中央社 記者 吳家豪 台北 日電 代工 大廠 緯創 資通 旗下 緯創 醫學 科技 董事長 黃俊東 今天 表示 去年 營收 新台幣 年增 今年 業務 成長 營收 機會 年增 力拚 損益 智慧 輔具 產品 拓展 東南亞 歐洲 市場 緯創 醫學 今天 台北 市立 萬芳醫院 舉辦 智世代 變形 載具 合作 儀式 透過 緯創 醫學 變形 電動車 骨骼 智慧 輔具 結合 萬芳醫院 復健 配套 治療 復健 醫學 注入 創新 能量 黃俊東 指出 緯創', '緯創 旗下 緯創 醫學 攜手 萬芳 醫院 世代 變型 電動車 領域 復能 市場財訊 快報 記者 王宜弘 報導 緯創 旗下 緯創 醫學 科技 週五 宣布 台北 市立 萬芳醫院 攜手 醫療 場域 驗證 舉辦 智世代 變形 載具 合作 簽訂 儀式 緯創 醫學 表示 公司 智世代 變形 電動車 骨骼 輔助 設備 智慧 輔具 產品 進軍 領域 復能 市場 萬芳醫院 擁有 完整 復健 配套 治療 雙方 合作為 復健 醫學 注入 創新 能量 根據 國健署 調查 資料 跌倒 長者 事故 傷害 死亡 首因 之一 跌倒 事故 往往 造成 長者 輕則 挫傷 重則 骨折 甚至 因傷 腦部', '英媒 蘋果 鴻海 遊說 鬆綁 勞動法 有利 印度 生產中央社 倫敦 綜合 外電 報導 英國 金融時報 引述 知情 人士 說法 報導 蘋果公司 企業 成功 遊說 印度 卡納塔卡省 修訂 勞動法 有助於 推動 印度 生產 計畫 他們 成功 遊說 修訂 新法 意味著 印度 實施 兩班制 生產 蘋果 鴻海 主要 製造 基地 中國 做法 類似 印度 企圖 成為 替代 中國 製造 基地 依據 新法 卡納塔卡省 印度 工作 制度 彈性 地區 全球 供應鏈 先前 中國 冠狀 病毒 疾病 疫情 封鎖', '緯創 醫學 科技 業務 動能 今年 營收緯創 集團 積極 耕耘 投入 智慧 醫療 商機 旗下 緯創 醫學 科技 分別 自軟 硬體 整合 解決 方案 代工 自有 品牌 面向 切入 去年 營收 強勁 力道 成長 今年 設下 年增 翻倍 增揚 目標 其中 自有 品牌 醫材 產品 部分 除了 先前 跨向 海外 市場 布局 骨骼 行動 輔具 系列 產品 緯醫 台北 市立 萬芳醫院 合作 進行 簽約 研發 智世代 變形 載具 導入 萬芳 醫療 場域 驗證 緯醫 預計 今年 台灣 擴展 進入 醫療 照護 機關 地方 社區 落地', '公告 緯創 參加 台灣 摩根士丹利 證券 舉辦 電話 說明會公司 名稱 緯創 緯創 參加 台灣 舉辦 電話 說明會 發言人 石慶堂 符合 條款 第四 事實 發生日 召開 法人 說明會 日期 召開 法人 說明會 時間 召開 法人 說明會 地點 電話 會議 法人 說明會 訊息 公司 參加 台灣 舉辦 電話 說明會 說明 公司 業務 簡介 現況 說明 其他 敘明 事項 完整 財務 業務 資訊 公開 資訊 觀測站 法人 說明會', '公告 緯創 參加 美銀 證券 舉辦公司 名稱 緯創 緯創 參加 美銀 證券 舉辦 發言人 石慶堂 符合 條款 第四 事實 發生日 召開 法人 說明會 日期 召開 法人 說明會 時間 召開 法人 說明會 地點 台北 君悅 酒店 法人 說明會 訊息 公司 參加 美銀 證券 舉辦 說明 公司 業務 簡介 現況 說明 其他 敘明 事項 完整 財務 業務 資訊 公開 資訊 觀測站 法人 說明會 一覽表 法說會 項目 查閱', '電腦 設備 緯創 醫學 科技 業務 動能 今年 營收 翻倍時報 台北 緯創 集團 積極 耕耘 投入 智慧 醫療 商機 旗下 緯創 醫學 科技 分別 自軟 硬體 整合 解決 方案 代工 自有 品牌 面向 切入 去年 營收 強勁 力道 成長 今年 設下 年增 翻倍 增揚 目標 其中 自有 品牌 醫材 產品 部分 除了 先前 跨向 海外 市場 布局 骨骼 行動 輔具 系列 產品 日緯醫 台北 市立 萬芳醫院 合作 進行 簽約 研發 智世代 變形 載具 導入 萬芳 醫療 場域 驗證 緯醫 預計 今年 台灣 擴展 進入 醫療 照護 機關 地方', '緯創 醫學 業務 齊步 今年 營收 增逾中央社 記者 吳家豪 台北 日電 代工 大廠 緯創 資通 旗下 緯創 醫學 科技 董事長 黃俊東 今天 表示 去年 營收 新台幣 年增 今年 業務 成長 營收 機會 年增 力拚 損益 智慧 輔具 產品 拓展 東南亞 歐洲 市場 緯創 醫學 今天 台北 市立 萬芳醫院 舉辦 智世代 變形 載具 合作 儀式 透過 緯創 醫學 變形 電動車 骨骼 智慧 輔具 結合 萬芳醫院 復健 配套 治療 復健 醫學 注入 創新 能量 黃俊東 指出 緯創', '緯創 旗下 緯創 醫學 攜手 萬芳 醫院 世代 變型 電動車 領域 復能 市場財訊 快報 記者 王宜弘 報導 緯創 旗下 緯創 醫學 科技 週五 宣布 台北 市立 萬芳醫院 攜手 醫療 場域 驗證 舉辦 智世代 變形 載具 合作 簽訂 儀式 緯創 醫學 表示 公司 智世代 變形 電動車 骨骼 輔助 設備 智慧 輔具 產品 進軍 領域 復能 市場 萬芳醫院 擁有 完整 復健 配套 治療 雙方 合作為 復健 醫學 注入 創新 能量 根據 國健署 調查 資料 跌倒 長者 事故 傷害 死亡 首因 之一 跌倒 事故 往往 造成 長者 輕則 挫傷 重則 骨折 甚至 因傷 腦部', '英媒 蘋果 鴻海 遊說 鬆綁 勞動法 有利 印度 生產中央社 倫敦 綜合 外電 報導 英國 金融時報 引述 知情 人士 說法 報導 蘋果公司 企業 成功 遊說 印度 卡納塔卡省 修訂 勞動法 有助於 推動 印度 生產 計畫 他們 成功 遊說 修訂 新法 意味著 印度 實施 兩班制 生產 蘋果 鴻海 主要 製造 基地 中國 做法 類似 印度 企圖 成為 替代 中國 製造 基地 依據 新法 卡納塔卡省 印度 工作 制度 彈性 地區 全球 供應鏈 先前 中國 冠狀 病毒 疾病 疫情 封鎖', '緯創 醫學 科技 業務 動能 今年 營收緯創 集團 積極 耕耘 投入 智慧 醫療 商機 旗下 緯創 醫學 科技 分別 自軟 硬體 整合 解決 方案 代工 自有 品牌 面向 切入 去年 營收 強勁 力道 成長 今年 設下 年增 翻倍 增揚 目標 其中 自有 品牌 醫材 產品 部分 除了 先前 跨向 海外 市場 布局 骨骼 行動 輔具 系列 產品 緯醫 台北 市立 萬芳醫院 合作 進行 簽約 研發 智世代 變形 載具 導入 萬芳 醫療 場域 驗證 緯醫 預計 今年 台灣 擴展 進入 醫療 照護 機關 地方 社區 落地', '公告 緯創 參加 台灣 摩根士丹利 證券 舉辦 電話 說明會公司 名稱 緯創 緯創 參加 台灣 舉辦 電話 說明會 發言人 石慶堂 符合 條款 第四 事實 發生日 召開 法人 說明會 日期 召開 法人 說明會 時間 召開 法人 說明會 地點 電話 會議 法人 說明會 訊息 公司 參加 台灣 舉辦 電話 說明會 說明 公司 業務 簡介 現況 說明 其他 敘明 事項 完整 財務 業務 資訊 公開 資訊 觀測站 法人 說明會', '公告 緯創 參加 美銀 證券 舉辦公司 名稱 緯創 緯創 參加 美銀 證券 舉辦 發言人 石慶堂 符合 條款 第四 事實 發生日 召開 法人 說明會 日期 召開 法人 說明會 時間 召開 法人 說明會 地點 台北 君悅 酒店 法人 說明會 訊息 公司 參加 美銀 證券 舉辦 說明 公司 業務 簡介 現況 說明 其他 敘明 事項 完整 財務 業務 資訊 公開 資訊 觀測站 法人 說明會 一覽表 法說會 項目 查閱', '電腦 設備 緯創 醫學 科技 業務 動能 今年 營收 翻倍時報 台北 緯創 集團 積極 耕耘 投入 智慧 醫療 商機 旗下 緯創 醫學 科技 分別 自軟 硬體 整合 解決 方案 代工 自有 品牌 面向 切入 去年 營收 強勁 力道 成長 今年 設下 年增 翻倍 增揚 目標 其中 自有 品牌 醫材 產品 部分 除了 先前 跨向 海外 市場 布局 骨骼 行動 輔具 系列 產品 日緯醫 台北 市立 萬芳醫院 合作 進行 簽約 研發 智世代 變形 載具 導入 萬芳 醫療 場域 驗證 緯醫 預計 今年 台灣 擴展 進入 醫療 照護 機關 地方', '情報 上市 投信 買賣 排行標題 投信 買賣 排行 來源 富邦證券 網址 內文 買超 群創 國泰 台灣 華新 日月光 投控 中鋼 光寶科 英業達 中華電 仁寶 聯電 台積電 上銀 東元 力積電 中信金 台塑 宏碁 開發金 大聯大 鴻海 玉山金 元大金 承業醫 緯創 富邦金 第一 新光金 國泰金 台新金 兆豐金 華城 華南金 亞泥 聯強 台達電 臺企銀 台灣 台耀 遠百 界霖 中石化 聚陽 彩晶 宏全 統一 聯詠 國產 新纖', '情報 上市 外資 買賣 排行標題 外資 買賣 排行 來源 台灣 證交所 網址 內文 買超 鴻海 開發金 長榮 臺企銀 大成鋼 華孚 華新 玉山金 中鴻 街口 布蘭 特正 兆豐金 元大金 京元電子 台達電 緯創 裕民 新光金 中鋼 漢翔 中信中國 股息 普安 台新金 國泰 台灣 台中銀 晟銘電 華通 永豐金 明泰 日月光 投控 金像電 啟碁 和碩 中信 關鍵 半導體 中石化 聯詠 凌巨 萬海 中纖 元大 滬深 大同 三商壽 潤泰 神基', '情報 上市櫃 外資 投信 排行排行 股票 名稱 成交 漲跌 投信 外資 華新 日月 中鋼 台半 欣銓 英業達 榮剛 台積電 開發金 大聯大 鴻海 玉山金 元大金 緯創 第一 資料 來源 以上 謝謝', '情報 公股銀行 買賣 排行標題 公股銀行 買賣 排行 來源 股網 網址 內文 以下 資訊 張數 排列 買超 排名 股票 張數 排名 股票 張數 期元 原油 榮剛 群創 期街口布蘭 特正 華邦電 國泰金 元大 滬深 玉山金 國泰智能 電動車 東元 強茂 漢翔 富時 動產 元大 台灣 元大 公司 臺企銀 友達 兆豐金 晟銘電 華新 欣興 元大金 康舒 鴻海 佳世達 期元 石油 力積電 元大 美債 旺宏', '電纜股 華新 合併 營收 新高時報 台北電 國際 銅價 止跌 回穩 華新麗華 不鏽鋼 資源 事業 營收 增長 合併 營收 締造 新高 二月 合併 營收 期次 華新 公布 自結 合併 營收 成長 二月 合併 營收 增幅 改寫 期次 華新 表示 華新 營收 成長 主因 國際 鎳價 止跌 回升 不銹鋼 資源 事業 營收 成長 所致 電力 線纜 事業 營收 持平 英國 倫敦 金屬 交易中心 期貨 現貨 價格', '迎戰 大數據 時代 緯謙 攜手 獨角獸 搶攻 企業 數位 轉型 商機財訊 快報 記者 王宜弘 報導 緯創 集團 旗下 緯謙 科技 宣布 指標性 公司 建立 夥伴 結盟 關係 雙方 攜手 提供 完整 雲端 技術 垂直 產業 解決 方案 協助 企業 洞悉 數據 價值 實踐 數據 驅動 決策 數位 轉型 激盪 商機 緯謙 表示 美國 知名 獨角 企業 主要 投資人 包括 開源 技術 基礎 專注 巨量 資料 分析 應用 服務 範圍 橫跨 科技 零售 金融 醫療 產業 協助 全球 企業 重塑 商業 價值 緯謙 指出 取得', '電腦 設備 緯謙 結盟 獨角 公司 企業 數據力 商機時報 記者 任珮云 台北 報導 緯創 集團 旗下 創新 雲端 服務 供應商 緯謙 科技 今日 宣布 指標性 數據 公司 建立 夥伴 結盟 關係 攜手 提供 完整 雲端 技術 垂直 產業 解決 方案 協助 企業 客戶 洞悉 數據 價值 實踐 數據 驅動 決策 數位 轉型 激盪 商機 美國 知名 獨角 企業 主要 投資人 包括 知名 企業 先進 開源 技術 基礎 專注 巨量 資料 分析 應用 服務 範疇 橫跨 高科技 零售 金融 醫療 產業 協助 全球 超過 家企業 透過', '緯謙 結盟 獨角獸 企業 數位 轉型 商機中央社 記者 吳家豪 台北 日電 代工廠 緯創 集團 旗下 雲端 服務 供應商 緯謙 科技 今天 宣布 公司 建立 夥伴 合作 關係 攜手 提供 雲端 技術 垂直 產業 解決 方案 緯謙 發布 新聞稿 表示 美國 知名 獨角獸 企業 成立 不到 估值 超過 美元 上市 公司 主要 投資人 包括 亞馬遜 網路 服務 微軟 知名 企業 開源 技術 基礎 專注於 巨量 資料 分析 人工 智慧 應用 服務 範疇 橫跨 高科技 零售 金融 醫療 產業 協助', '電纜股 華新 合併 營收 新高時報 台北電 國際 銅價 止跌 回穩 華新麗華 不鏽鋼 資源 事業 營收 增長 合併 營收 締造 新高 二月 合併 營收 期次 華新 公布 自結 合併 營收 成長 二月 合併 營收 增幅 改寫 期次 華新 表示 華新 營收 成長 主因 國際 鎳價 止跌 回升 不銹鋼 資源 事業 營收 成長 所致 電力 線纜 事業 營收 持平 英國 倫敦 金屬 交易中心 期貨 現貨 價格', '迎戰 大數據 時代 緯謙 攜手 獨角獸 搶攻 企業 數位 轉型 商機財訊 快報 記者 王宜弘 報導 緯創 集團 旗下 緯謙 科技 宣布 指標性 公司 建立 夥伴 結盟 關係 雙方 攜手 提供 完整 雲端 技術 垂直 產業 解決 方案 協助 企業 洞悉 數據 價值 實踐 數據 驅動 決策 數位 轉型 激盪 商機 緯謙 表示 美國 知名 獨角 企業 主要 投資人 包括 開源 技術 基礎 專注 巨量 資料 分析 應用 服務 範圍 橫跨 科技 零售 金融 醫療 產業 協助 全球 企業 重塑 商業 價值 緯謙 指出 取得', '電腦 設備 緯謙 結盟 獨角 公司 企業 數據力 商機時報 記者 任珮云 台北 報導 緯創 集團 旗下 創新 雲端 服務 供應商 緯謙 科技 今日 宣布 指標性 數據 公司 建立 夥伴 結盟 關係 攜手 提供 完整 雲端 技術 垂直 產業 解決 方案 協助 企業 客戶 洞悉 數據 價值 實踐 數據 驅動 決策 數位 轉型 激盪 商機 美國 知名 獨角 企業 主要 投資人 包括 知名 企業 先進 開源 技術 基礎 專注 巨量 資料 分析 應用 服務 範疇 橫跨 高科技 零售 金融 醫療 產業 協助 全球 超過 家企業 透過', '緯謙 結盟 獨角獸 企業 數位 轉型 商機中央社 記者 吳家豪 台北 日電 代工廠 緯創 集團 旗下 雲端 服務 供應商 緯謙 科技 今天 宣布 公司 建立 夥伴 合作 關係 攜手 提供 雲端 技術 垂直 產業 解決 方案 緯謙 發布 新聞稿 表示 美國 知名 獨角獸 企業 成立 不到 估值 超過 美元 上市 公司 主要 投資人 包括 亞馬遜 網路 服務 微軟 知名 企業 開源 技術 基礎 專注於 巨量 資料 分析 人工 智慧 應用 服務 範疇 橫跨 高科技 零售 金融 醫療 產業 協助', '情報 上市 投信 買賣 排行標題 投信 買賣 排行 來源 富邦證券 網址 內文 買超 群創 聯電 日月光 投控 力積電 開發金 南電 台積電 新光金 玉山金 元大金 華邦電 仁寶 廣達 欣興 台新金 中信金 華南金 鴻海 國泰金 富邦金 裕民 英業達 光寶科 京元電子 緯創 聯詠 台達電 臺企銀 力智 中華電 統一 台灣大 凱美 上海 商銀 來頡 台耀 長榮 亞泥 遠東 台塑 眾達 寶成 亞力 遠百 立隆電 聯發科 承業醫', '情報 上市櫃 外資 投信 排行排行 股票 名稱 成交 漲跌 投信 外資 群創 聯電 力積電 南電 新光金 元大金 仁寶 欣興 台新金 鴻海 國泰金 台半 京元電 緯創 資料 來源 以上 謝謝', '情報 上市 投信 買賣 排行標題 投信 買賣 排行 來源 富邦證券 網址 內文 買超 開發金 仁寶 元大金 華邦電 英業達 台泥 第一 中鋼 兆豐金 遠東 裕民 國泰金 宏碁 慧洋 陽明 光寶科 廣達 日月光 投控 上海商銀 富邦金 大聯大 南亞 微星 遠傳 台灣 聯強 聯發科 欣興 新興 南電 緯創 來頡 亞泥 台塑 可成 遠百 華碩 元大 股息 中華電 上銀 元大 台灣 瑞鼎 晶睿 矽力 亞力 華夏 長榮 新纖', '情報 公股銀行 買賣 排行標題 公股銀行 買賣 排行 來源 股網 網址 內文 以下 資訊 張數 排列 買超 排名 股票 張數 排名 股票 張數 元大 台灣 華邦電 國泰 永續 股息 富邦 富時 動產 街口 布蘭 特正 期元 原油 陽明 仁寶 日月光 投控 台泥 華孚 中信 評級 公司 維航 群創 仲琦 元大 滬深 友達 臺企銀 大亞 元大 公司 慧洋 中鋼 緯創 玉山金 長榮 中信金 期元 石油', '情報 上市櫃 外資 投信 排行排行 股票 名稱 成交 漲跌 投信 外資 華邦電 裕民 宏碁 慧洋 陽明 日月 微星 欣興 南電 緯創 遠百 威剛 晶睿 長榮 承業醫 資料 來源 以上 謝謝', '伺服器 需求 概念股儘管 景氣 放緩 企業 資本 支出 縮手 消費性 電子 市況 疲軟 市場 預期 伺服器 平台 採用 規格 大幅 升級 網通 硬體 升級 需求 有望 業者 帶來 穩健 成長 動能 包括 緯創 伺服器 概念股 包括 緯創 仁寶 金像電 英業達 台積電 微星 宏碁 技嘉 緯穎 廣達 勤誠 嘉澤 健鼎 伺服器 概念股 法人 買超 買盤 推升 本益 之下 後續 上漲 力道 可期 大型 本土 投顧 分析 伺服器 成長 動能 來自 北美 興建 資料', '平台 導入 龜速 伺服器 出貨考量 全球 經濟 持續 下行 市調 機構 年度 全球 伺服器 成長 預期 大型 雲端 服務 供應商 調降 伺服器 採購量 品牌 伺服器 業者 放緩 導入 平台 調降 出貨 展望 下修 伺服器 出貨 總量 年增 修正 下調 出貨 總量 萬台 先前 點名 北美 總體 經濟 針對 今年 伺服器 採購量 已經 修正 預估 業者 伺服器 採購量 原先 年增 降至 使得 整體 伺服器 出貨', '熱門 族群 伺服器 需求 概念時報 台北電 儘管 景氣 放緩 企業 資本 支出 縮手 消費性 電子 市況 疲軟 市場 預期 伺服器 平台 採用 規格 大幅 升級 網通 硬體 升級 需求 業者 帶來 穩健 成長 動能 包括 緯創 伺服器 概念股 包括 緯創 仁寶 金像電 英業達 台積電 微星 宏碁 技嘉 緯穎 廣達 勤誠 嘉澤 健鼎 伺服器 概念股 法人 買超 買盤 推升 本益 之下 後續 上漲 力道 可期 大型 本土 投顧 分析 伺服器 成長 動能 來自', '伺服器 需求 概念股儘管 景氣 放緩 企業 資本 支出 縮手 消費性 電子 市況 疲軟 市場 預期 伺服器 平台 採用 規格 大幅 升級 網通 硬體 升級 需求 有望 業者 帶來 穩健 成長 動能 包括 緯創 伺服器 概念股 包括 緯創 仁寶 金像電 英業達 台積電 微星 宏碁 技嘉 緯穎 廣達 勤誠 嘉澤 健鼎 伺服器 概念股 法人 買超 買盤 推升 本益 之下 後續 上漲 力道 可期 大型 本土 投顧 分析 伺服器 成長 動能 來自 北美 興建 資料', '平台 導入 龜速 伺服器 出貨考量 全球 經濟 持續 下行 市調 機構 年度 全球 伺服器 成長 預期 大型 雲端 服務 供應商 調降 伺服器 採購量 品牌 伺服器 業者 放緩 導入 平台 調降 出貨 展望 下修 伺服器 出貨 總量 年增 修正 下調 出貨 總量 萬台 先前 點名 北美 總體 經濟 針對 今年 伺服器 採購量 已經 修正 預估 業者 伺服器 採購量 原先 年增 降至 使得 整體 伺服器 出貨', '熱門 族群 伺服器 需求 概念時報 台北電 儘管 景氣 放緩 企業 資本 支出 縮手 消費性 電子 市況 疲軟 市場 預期 伺服器 平台 採用 規格 大幅 升級 網通 硬體 升級 需求 業者 帶來 穩健 成長 動能 包括 緯創 伺服器 概念股 包括 緯創 仁寶 金像電 英業達 台積電 微星 宏碁 技嘉 緯穎 廣達 勤誠 嘉澤 健鼎 伺服器 概念股 法人 買超 買盤 推升 本益 之下 後續 上漲 力道 可期 大型 本土 投顧 分析 伺服器 成長 動能 來自', '新聞 在線 華新 一城 前景 可期原文 標題 在線 華新 攻綠 一城 前景 可期 原文 連結 發布 時間 記者 署名 新聞 記者 周瑩慈 報導 原文 內容 電線 電纜 大廠 華新 過去 風力 發電 市場 主要 提供 風機 線纜 開始 跨入 海纜 市場 去年 取得 高雄 港土地 作為 海纜 製造 基地 華新 順利 丹麥 集團 旗下 以下 簡稱 公司 取得 風電 海纜 相關 專門 技術 授權 服務 規劃 成立 合資 公司 華纜 系統 力求 通過 國際 認證 量產 趕上 台灣 離岸 風電 第三', '情報 上市 投信 買賣 排行標題 投信 買賣 排行 來源 富邦證券 網址 內文 買超 群創 開發金 仁寶 永豐金 日月光 投控 元大金 英業達 宏碁 兆豐金 第一 台泥 慧洋 裕民 國泰金 上銀 廣達 上海商銀 陽明 南亞 富邦金 大聯大 聯強 遠傳 台灣大 南亞科 聯發科 新唐 微星 晶睿 光寶科 晶華 緯創 華碩 中華電 台塑 新興 可成 亞泥 技嘉 玉山金 遠百 奇鋐 東元 東和 鋼鐵 聚陽 長榮 新光金', '情報 上市 外資 買賣 排行標題 外資 買賣 排行 來源 台灣證交所 網址 內文 買超 聯電 元大 滬深 臺企銀 富邦 台積電 中興電 欣興 街口 布蘭 特正 鴻海 東和鋼鐵 王道銀行 英業達 裕隆 聯發科 華泰 台新金 景碩 中磊 華孚 聯詠 康舒 中租 京元 電子 盛達 合勤 世芯 明泰 高力 矽格 臻鼎 大亞 亞翔 晶心科 敦泰 期元大 石油 富邦 恒生 國企 羅門 富邦 台灣 半導體 毅嘉 凌巨 基材 中信中國', '情報 公股銀行 買賣 排行標題 公股銀行 買賣 排行 來源 股網 網址 內文 以下 資訊 張數 排列 買超 排名 股票 張數 排名 股票 張數 國泰 永續 股息 聯電 中鋼 元大 滬深 華新 開發金 臺企銀 台泥 中信 關鍵 半導體 元大金 台積電 富邦 新光金 期街口 布蘭 特正 元大 台灣 中興電 國泰金 富邦 証正 華邦電 元大 美債 富時 動產 期元 石油 潤泰 國泰 臺灣 加權', '台股 早盤 承壓 個股 各自 表述 空間財訊 快報 編輯部 台股 二二八 連假 休市 美國 交易日 累積 跌幅 分別 美國 道瓊 指數 下跌 指數 下跌 指數 下跌 費城 半導體 下跌 加上 台積電 累積 跌幅約 雖然 台股 台積電 已經 先行 下跌 台股 期貨 貨盤 收跌 基本 今天 開低 機率 相對 不過 預期 幅度 不會 個股 表現 相當 具有 空間 台股 週五 受惠 大漲 帶動 開盤 來到 反彈 高點', '統一 證券 晨訊 維持 高檔 震盪 格局日期 盤勢 分析 尾盤 調整 台股 維持 高檔 震盪 格局 昨日 盤勢 美國 科技股 大漲 激勵 台股 早盤 跳空 高點 波段 新高 二二 連假 到來 獲利 了結 賣壓 湧現 大盤 翻黑 終場 季度 調整 生效 收在 低點 下跌 成交量 放大 來到 新高 台積電 最後 遭到 灌壓 翻黑下跌 聯發科 大跌 盤面 焦點 方面 航運股 隨著 運價 重啟 漲勢 新興 亮燈 漲停 四維航 上漲', '在線 華新 一城 前景 可期新聞 記者 周瑩慈 報導 電線 電纜 大廠 華新 過去 風力 發電 市場 主要 提供 風機 線纜 開始 跨入 海纜 市場 去年 取得 高雄 港土地 作為 海纜 製造 基地 華新 順利 丹麥 集團 旗下 以下 簡稱 公司 取得 風電 海纜 相關 專門 技術 授權 服務 規劃 成立 合資 公司 華纜 系統 力求 通過 國際 認證 量產 趕上 台灣 離岸 風電 第三 階段 區域 開發 商機 營運 成長 動能 至於 今年 法人 指出 華新 不鏽鋼 相關 投資', '台股 早盤 承壓 個股 各自 表述 空間財訊 快報 編輯部 台股 二二八 連假 休市 美國 交易日 累積 跌幅 分別 美國 道瓊 指數 下跌 指數 下跌 指數 下跌 費城 半導體 下跌 加上 台積電 累積 跌幅約 雖然 台股 台積電 已經 先行 下跌 台股 期貨 貨盤 收跌 基本 今天 開低 機率 相對 不過 預期 幅度 不會 個股 表現 相當 具有 空間 台股 週五 受惠 大漲 帶動 開盤 來到 反彈 高點', '統一 證券 晨訊 維持 高檔 震盪 格局日期 盤勢 分析 尾盤 調整 台股 維持 高檔 震盪 格局 昨日 盤勢 美國 科技股 大漲 激勵 台股 早盤 跳空 高點 波段 新高 二二 連假 到來 獲利 了結 賣壓 湧現 大盤 翻黑 終場 季度 調整 生效 收在 低點 下跌 成交量 放大 來到 新高 台積電 最後 遭到 灌壓 翻黑下跌 聯發科 大跌 盤面 焦點 方面 航運股 隨著 運價 重啟 漲勢 新興 亮燈 漲停 四維航 上漲', '在線 華新 一城 前景 可期新聞 記者 周瑩慈 報導 電線 電纜 大廠 華新 過去 風力 發電 市場 主要 提供 風機 線纜 開始 跨入 海纜 市場 去年 取得 高雄 港土地 作為 海纜 製造 基地 華新 順利 丹麥 集團 旗下 以下 簡稱 公司 取得 風電 海纜 相關 專門 技術 授權 服務 規劃 成立 合資 公司 華纜 系統 力求 通過 國際 認證 量產 趕上 台灣 離岸 風電 第三 階段 區域 開發 商機 營運 成長 動能 至於 今年 法人 指出 華新 不鏽鋼 相關 投資', '情報 上市 投信 買賣 排行標題 投信 買賣 排行 來源 富邦證券 網址 內文 買超 群創 開發金 仁寶 友達 元晶 永豐金 中信金 元大金 宏碁 遠東新 台泥 英業達 兆豐金 第一 裕隆 中興電 全新 華航 富邦金 上海商銀 廣達 光寶科 長榮航 南亞 遠傳 聯強 貿聯 愛普 南亞科 微星 國巨 中鋼 大聯大 台灣 華夏 創意 美時 晶華 中租 森崴 能源 華碩 聯嘉 國泰金 可成 南電 上緯投控 安集 立隆電 中華電', '情報 上市 外資 買賣 排行標題 外資 買賣 排行 來源 台灣證交所 網址 內文 買超 華航 群創 長榮航 友達 華邦電 寶成 鴻海 彩晶 華新 臺企銀 兆豐金 元大 滬深 飛宏 三商壽 宏達電 台積電 長榮 國泰 費城 半導體 華通 日月光 投控 雄獅 中磊 宏碁 開發金 台新金 元大 股息 仁寶 聯邦銀 漢翔 富邦 恒生 國企 中信 中國 富邦 宇宙 美時 合勤 光寶科 遠東新 台達電 天鈺 中鴻 華新科 威盛 世芯 瑞昱', '權證 市場 焦點 華新 法人華新 不鏽鋼 電線 電纜 資源 事業 主要 事業 齊步 增溫 元月 營收 扛住 逆風 單月 繳出 佳績 月增 年增 新高 法人 回補 助攻 股價 上漲 國際 報價 看漲 全球 第二 銅礦場 印尼 天災 影響 被迫 停產 原本 趨緊 全球 供應 加霜 加上 大陸 解封 祭出 刺激 措施 提振 經濟 倫敦 金屬 交易所 銅價 居於 高點 附近 華新 今年 不鏽鋼 冰鎳 投資 有望 逐步 發酵 營收 獲利', '良率 堪憂 蘋果 印度 難超中蘋果 推動 供應鏈 多元化 分散 風險 逐漸 產品 供應鏈 部分 任務 轉移 印度 外媒 分析 印度 廠商 產品 良率 加上 政府 效率 基礎 設施 方面 不如 中國 蘋果 道阻 英國 金融 引述 知情 人士 表示 擺脫 過於 依賴 中國 供應鏈 狀況 蘋果 持續 美國 中國 派遣 設計師 工程師 前往 印度 扶持 當地 供應鏈 進度 似乎 不佳 最近 例子 印度 巨頭 塔塔集團 霍蘇爾 經營 外殼 工廠 至今 良率 零件', '大陸 產業 良率 堪憂 蘋果 印度 超中時報 台北 蘋果 推動 供應鏈 多元化 分散 風險 逐漸 產品 供應鏈 部分 任務 轉移 印度 外媒 分析 印度 廠商 產品 良率 僅有 加上 政府 效率 基礎 設施 方面 不如 中國 蘋果 道阻 英國 金融 引述 知情 人士 表示 擺脫 過於 依賴 中國 供應鏈 狀況 蘋果 持續 美國 中國 派遣 設計師 工程師 前往 印度 扶持 當地 供應鏈 進度 似乎 最近 例子 印度 霍蘇爾 經營 外殼 工廠 至今 良率', '生技 產業 積極 投入 生醫 領域 位科技 大老任 生策會 理監事生策年會 登場 身兼 生策會 顧問 金仁寶 集團 董事長 許勝雄 致詞 表示 台灣 生技 醫療 產業 蓬勃 發展 未來 台灣 生技 產業 應該 可以 重新 塑造成 兆元 護國 神山 產業 國人 法規 研發 人才 國際 合作 面向 提出 看法 今年 生策年會 行政院長 陳建仁 會長 翁啟惠 透過 視訊 方式 致詞 值得 注意 生策會 理監事 改選 選出 理事 代表 以及 監事 生醫 領域 學界 金融業 新金 董事長 吳東亮', '翁啟惠 續任 生策會 會長 吳東亮 首位 金融業 理事中央社 記者 韓婷婷 台北 生策會 今天 舉行 年會 第七 理監事 名單 除了 華碩 電腦 董事長 施崇棠 重量級 科技業 老闆 入列 出現 首位 金融 業者 台新銀行 董事長 吳東亮 新任 理監事 推舉 會長 翁啟惠 副會長 林百里 楊泮池 蔡長海 續任 生策會 今年 理監事 改選 報名 相當 踴躍 角逐 席次 最後 選出 理事 監事 學術 單位 營利 組織 代表 科技界 醫院 代表 生技 產業界代', '權證 市場 焦點 華新 法人華新 不鏽鋼 電線 電纜 資源 事業 主要 事業 齊步 增溫 元月 營收 扛住 逆風 單月 繳出 佳績 月增 年增 新高 法人 回補 助攻 股價 上漲 國際 報價 看漲 全球 第二 銅礦場 印尼 天災 影響 被迫 停產 原本 趨緊 全球 供應 加霜 加上 大陸 解封 祭出 刺激 措施 提振 經濟 倫敦 金屬 交易所 銅價 居於 高點 附近 華新 今年 不鏽鋼 冰鎳 投資 有望 逐步 發酵 營收 獲利', '良率 堪憂 蘋果 印度 難超中蘋果 推動 供應鏈 多元化 分散 風險 逐漸 產品 供應鏈 部分 任務 轉移 印度 外媒 分析 印度 廠商 產品 良率 加上 政府 效率 基礎 設施 方面 不如 中國 蘋果 道阻 英國 金融 引述 知情 人士 表示 擺脫 過於 依賴 中國 供應鏈 狀況 蘋果 持續 美國 中國 派遣 設計師 工程師 前往 印度 扶持 當地 供應鏈 進度 似乎 不佳 最近 例子 印度 巨頭 塔塔集團 霍蘇爾 經營 外殼 工廠 至今 良率 零件', '大陸 產業 良率 堪憂 蘋果 印度 超中時報 台北 蘋果 推動 供應鏈 多元化 分散 風險 逐漸 產品 供應鏈 部分 任務 轉移 印度 外媒 分析 印度 廠商 產品 良率 僅有 加上 政府 效率 基礎 設施 方面 不如 中國 蘋果 道阻 英國 金融 引述 知情 人士 表示 擺脫 過於 依賴 中國 供應鏈 狀況 蘋果 持續 美國 中國 派遣 設計師 工程師 前往 印度 扶持 當地 供應鏈 進度 似乎 最近 例子 印度 霍蘇爾 經營 外殼 工廠 至今 良率', '生技 產業 積極 投入 生醫 領域 位科技 大老任 生策會 理監事生策年會 登場 身兼 生策會 顧問 金仁寶 集團 董事長 許勝雄 致詞 表示 台灣 生技 醫療 產業 蓬勃 發展 未來 台灣 生技 產業 應該 可以 重新 塑造成 兆元 護國 神山 產業 國人 法規 研發 人才 國際 合作 面向 提出 看法 今年 生策年會 行政院長 陳建仁 會長 翁啟惠 透過 視訊 方式 致詞 值得 注意 生策會 理監事 改選 選出 理事 代表 以及 監事 生醫 領域 學界 金融業 新金 董事長 吳東亮', '翁啟惠 續任 生策會 會長 吳東亮 首位 金融業 理事中央社 記者 韓婷婷 台北 生策會 今天 舉行 年會 第七 理監事 名單 除了 華碩 電腦 董事長 施崇棠 重量級 科技業 老闆 入列 出現 首位 金融 業者 台新銀行 董事長 吳東亮 新任 理監事 推舉 會長 翁啟惠 副會長 林百里 楊泮池 蔡長海 續任 生策會 今年 理監事 改選 報名 相當 踴躍 角逐 席次 最後 選出 理事 監事 學術 單位 營利 組織 代表 科技界 醫院 代表 生技 產業界代', '情報 上市 投信 買賣 排行標題 投信 買賣 排行 來源 富邦證券 網址 內文 買超 中信金 第一 中鋼 中興電 華城 開發金 友達 仁寶 聯詠 永豐金 華新 英業達 裕隆 元大金 宏碁 元大 台灣 慧洋 兆豐金 遠東新 聯強 華擎 緯創 陽明 大聯大 長榮航 台泥 上緯 投控 中華電 技嘉 世芯 東陽 中鴻 聯電 富邦金 光寶科 力積電 台塑 南亞科 廣達 南亞 國泰金 遠傳 旺宏 台灣 京元電子 萬海 台積電 華碩 智邦', '情報 上市 外資 買賣 排行標題 外資 買賣 排行 來源 台灣 證交所 網址 內文 聯電 中興電 臺企銀 新光金 力積電 宏達電 技嘉 聯詠 街口 布蘭 特正 南亞科 智原 天鈺 開發金 富邦越南 仁寶 欣興 華通 元大 股息 宏碁 日月光 投控 中石化 訊舟 元大金 大同 材料 盛達 康舒 光罩 華航 大成鋼 新唐 威盛 聚陽 羅門 友達 南茂 瑞鼎 誠美材 南電 晶豪科 廣宇 國票金 兆勁 長榮航 樂事 綠能 慧洋', '情報 上市 外資 買賣 排行標題 外資 買賣 排行 來源 台灣 證交所 網址 內文 買超 國泰 臺灣 加權 新光金 力積電 緯創 玉山金 英業達 合庫金 寶成 台積電 富邦越南 大同 台灣 高鐵 元大 台灣 仁寶 盛達 鴻海 華航 中信金 華邦電 生達 台玻 元大金 日月光 投控 高力 台新金 臺企銀 華南金 友達 兆豐金 彰銀 永豐金 遠東新 聯電 期街口 布蘭 特正 宏碁 東陽 光寶科 第一 中興電 華新 統一 長榮航 旺宏', '情報 公股銀行 買賣 排行手機 介面 圖片 讀版 以下 資訊 張數 排列 買超 排名 股票 張數 排名 股票 張數 元大 台灣 街口 布蘭 特正 中鴻 元大 台灣 華航 兆豐金 長榮 彰銀 富邦 臺灣 富邦 燁輝 國票金 陽明 元大 滬深 中鋼 新光金 美吾華 緯創 太景 元大 國泰美 道瓊 玉山金 元大 美債 合庫金 國泰金 第一 永豐金 元太 富邦 越南 力積電 中化 英業達 新漢 松瑞藥 中信 關鍵 半導體', '統一 證券 晨訊 美國 增幅 低於 預期 台股 有望 站上 月均線中央社 財經 統一 證券 晨訊 美國 增幅 低於 預期 台股 有望 站上 均線 閱讀 全文 中央社 上午 日期 盤勢 分析 昨日 盤勢 美股 指數 全數 上漲 激勵 台股 以上 開出 雖然 盤面 氣氛 一度 樂觀 大型 電子股 包括 台積電 聯發科 欣興 開高 走低 拖累 指數 表現 大盤 翻黑 電子股 賣壓 湧現 盤面 生技股 鋼鐵股 表現 相對抗跌 成為 短線 資金 避風港 生技股 主要 反映 中國 解封 搶購 藥品', '統一 證券 晨訊 美國 增幅 低於 預期 台股 有望 站上 月均線日期 盤勢 分析 昨日 盤勢 美股 指數 全數 上漲 激勵 台股 以上 開出 雖然 盤面 氣氛 樂觀 大型 電子股 包括 台積電 聯發科 欣興 開高 走低 拖累 指數 表現 大盤 翻黑 電子股 賣壓 湧現 盤面 生技股 鋼鐵股 表現 相對 抗跌 成為 短線 資金 避風港 生技股 主要 反映 中國 解封 搶購 藥品 利多 以及 歐美 抗生素 缺貨 生技股 包括 永日 生達 南光 中化 亮燈 漲停 鋼鐵股 受到 中國大陸 寶鋼 以及', '統一 證券 晨訊 美國 增幅 低於 預期 台股 有望 站上 月均線中央社 財經 統一 證券 晨訊 美國 增幅 低於 預期 台股 有望 站上 均線 閱讀 全文 中央社 上午 日期 盤勢 分析 昨日 盤勢 美股 指數 全數 上漲 激勵 台股 以上 開出 雖然 盤面 氣氛 一度 樂觀 大型 電子股 包括 台積電 聯發科 欣興 開高 走低 拖累 指數 表現 大盤 翻黑 電子股 賣壓 湧現 盤面 生技股 鋼鐵股 表現 相對抗跌 成為 短線 資金 避風港 生技股 主要 反映 中國 解封 搶購 藥品', '統一 證券 晨訊 美國 增幅 低於 預期 台股 有望 站上 月均線日期 盤勢 分析 昨日 盤勢 美股 指數 全數 上漲 激勵 台股 以上 開出 雖然 盤面 氣氛 樂觀 大型 電子股 包括 台積電 聯發科 欣興 開高 走低 拖累 指數 表現 大盤 翻黑 電子股 賣壓 湧現 盤面 生技股 鋼鐵股 表現 相對 抗跌 成為 短線 資金 避風港 生技股 主要 反映 中國 解封 搶購 藥品 利多 以及 歐美 抗生素 缺貨 生技股 包括 永日 生達 南光 中化 亮燈 漲停 鋼鐵股 受到 中國大陸 寶鋼 以及', '情報 上市 投信 買賣 排行標題 投信 買賣 排行 來源 富邦證券 網址 內文 買超 中鋼 中鴻 華新 緯創 大成鋼 開發金 仁寶 森崴 能源 裕隆 元大金 中信金 裕民 英業達 宏碁 技嘉 視陽 元大 滬深 東新 台塑 永豐金 亞聚 台灣 南亞科 南光 中華 中華電 建準 兆豐金 神達 第一金 富邦金 三陽 工業 世紀鋼 台達電 元大 股息 南亞 東陽 光寶科 正崴 愛之味 華擎 美利達 巨大 國泰金 台玻 大聯大', '情報 上市 外資 買賣 排行標題 外資 買賣 排行 來源 台灣 證交所 網址 內文 買超 元大 台灣 大同 聯電 緯創 大成鋼 新光金 陽明 金寶 中鋼 富采 威盛 力積電 街口 布蘭 特正 鴻準 中鴻 元大 台灣 矽格 旺宏 普安 富邦金 彰源 寶成 光罩 第一 長榮 新纖 台玻 中纖 華新 三商壽 新金 東聯 和碩 台船 強茂 康舒 台聚 新光鋼 國泰智能 電動車 新興 兆赫 技嘉 喬山 香港 台達電 百和 中工', '情報 上市櫃 外資 投信 買超 金額 排行外資 排行 股票 名稱 百萬 收盤價 漲跌 聯電 大成鋼 陽明 大同 威盛 長榮 台達電 創意 緯創 晶心科 資料 來源 投信 排行 股票 名稱 百萬 收盤價 漲跌 視陽 群聯 中鋼 華新 胡連 森崴 能源 亞德客 台達電 技嘉 榮剛 資料 來源 以上 謝謝', '情報 上市櫃 外資 投信 排行排行 股票 名稱 成交 漲跌 投信 外資 中鋼 中鴻 華新 榮剛 緯創 大成鋼 聯合 技嘉 富邦金 世紀鋼 台達電 中裕 華擎 台玻 資料 來源 以上 謝謝', '情報 公股銀行 買賣 排行手機 介面 圖片 讀版 以下 資訊 張數 排列 買超 排名 股票 張數 排名 股票 張數 國泰 永續 股息 中鴻 國泰美國 道瓊 中鋼 鴻海 元大 台灣 永豐金 大成鋼 期街口 布蘭 特正 元大美債 第一 中石化 國泰金 亞太電 國票金 新纖 華航 期元大 長榮航 中信 中國 富邦越南 三商壽 兆豐金 大同 台積電 緯創 玉山金 中纖 元大 台灣 息低波 永日 元太 美亞 光寶科 太景', '股市 菜鳥 技術 分析剛剛 看到 艾蜜莉 緯創 今天 停利 自己 緯創 還是 好難 決定', '股市 菜鳥 技術 分析緯創 庫存 賣出 成交 資金 轉入 福懋', '股市 菜鳥 技術 分析分析 緯創 獲利 來源 複雜', '股市 菜鳥 技術 分析貓大 緯創 原本 主要 後來 因為 高階 經理人 緯穎 釋股 行為 公司 經理人 感冒 出清', '股市 菜鳥 技術 分析緯創 因為 突然 大跌 價格 不錯 買進 而且 董事長 加碼 一千 當時 董事 加碼 他們 買進 均價 他們 均價 元多 所以 今天 賣到', '股市 菜鳥 技術 分析不過 緯創 經理人 問題 應該 還是 長期 持有 畢竟 台灣 代工廠 廣達 仁寶 緯創 已經 一定 經濟 規模 獲利 穩定 論壇 討論 可以 逢低 買進 標的', '伺服器 產業 避風港 轉向工商 時報 伺服器 產業鏈 避風港 轉向 閱讀 全文 翁毓嵐 台北 報導 上午 地緣 政治 升溫 促使 美系 主要 大型 雲端服 供應商 臉書 微軟 規劃 加強 擴增 台灣 以外 產線 作為 配套 措施 牽動 伺服器 供應鏈 重組 研調 機構 認為 東南亞 美洲 成為 未來 伺服器 產業鏈 核心 所在 因應 中美 貿易 摩擦 逐步 升溫 伺服器 供應鏈 啟動 明顯 產線 移轉 伺服器 主板 產線 產線 轉移 中國 轉往 台灣 後續', '伺服器 產業 避風港 轉向地緣 政治 升溫 促使 美系 主要 大型 雲端服 供應商 臉書 微軟 規劃 加強 擴增 台灣 以外 產線 作為 配套 措施 牽動 伺服器 供應鏈 重組 研調 機構 認為 東南亞 美洲 成為 未來 伺服器 產業鏈 核心 所在 因應 年時 中美 貿易 摩擦 逐步 升溫 伺服器 供應鏈 啟動 明顯 產線 移轉 伺服器 主板 產線 產線 轉移 中國 轉往 台灣 後續 隨著 業者 亞太 建置 資料 中心 板接 產線 擴建 需求 馬來西亞 泰國 東南亞 地區', '檔尖兵 成長 異軍 突起今年 進入 尾聲 台股 上市 櫃公司 結算 完畢 合併 營收 概況 目前 全球 經濟 雜音 頗多 部分 消費性 電子業 大幅度 修正 營運 遭遇 逆風 異軍突起 公司 繳出 成長 優異 成績單 緯創 台新 投顧 副總 黃文清 認為 疫情 紅利 消散 全球 需求 回歸 基本面 先前 貨幣 政策 寬鬆 進行 補貼 烏戰爭 因素 使得 通膨 不斷 上漲 為了 抑制 通膨 美國 為首 聯準會 進行 升息 企圖 藉由 緊縮 財政 政策 降低 通膨 民眾', '營收 衝破上市 公司 今年 累計 營收 依序 鴻海 台積電 公司 公司 合計 營收 超過 表現 亮眼 台股 營收 除了 組裝 龍頭 鴻海 晶圓 代工 龍頭 台積電 和碩 廣達 仁寶 緯創 台塑化 大聯大 日月光 投控 長榮 其中 全球 晶圓 代工 龍頭 台積電 營收 月增 歷史 新高 第四 營收 可望 達成 季增 財測 高標 展望 第一季 法人 認為 台積電 營運動 主要 蘋果 奈米 晶片 進入 淡季 投片', '在線 營收 明年 應用 需求 續強理財網 在線 營收 明年 應用 需求 續強 閱讀 全文 下午 新聞 記者 周瑩慈 報導 工業 電腦 累計 今年 營收 表現 強勁 其中 樺漢 新漢 虹堡 合併 營收 歷史 新高 累計 超過 歷年 今年 營收 創高 無虞 研華 安勤 泓格 廣積 艾訊 研揚 鑫創 電子 維田 營收 新高 紀錄 累計 超過 歷年 創高 其餘 凌華 磐儀', '在線 營收 明年 應用 需求 續強新聞 記者 周瑩慈 報導 工業 電腦 累計 今年 營收 表現 強勁 其中 樺漢 新漢 虹堡 合併 營收 同步 歷史 新高 累計 超過 歷年 今年 營收 無虞 研華 安勤 立端 其陽 泓格 廣積 艾訊 研揚 電子 維田 營收 新高 紀錄 累計 超過 歷年 其餘 凌華 磐儀 融程電 營邦 威強電 累計 營收 同步 改寫 新高 振樺電 期次', '外資 調節 鴻海 台積電 面板 雙虎中央社 財經 外資 調節 鴻海 台積電 面板 雙虎 閱讀 全文 中央社 下午 中央社 記者 賴言曦 台北 日電 台股 今天 開高 走低 終場 下跌 收在 法人 合計 賣超 新台幣 外資 今天 賣超 調節 包含 鴻海 群創 友達 台積電 電子股 台股 今天 收在 成交值 法人 自營商 投信 買超 外資 陸資 觀察 外資 今天 其中 調節', '外資 調節 鴻海 台積電 面板 雙虎中央社 記者 賴言曦 台北 日電 台股 今天 開高 走低 終場 下跌 收在 法人 合計 新台幣 外資 今天 調節 包含 鴻海 群創 友達 台積電 電子股 台股 今天 收在 成交值 法人 自營商 投信 買超 外資 陸資 觀察 外資 今天 其中 調節約 鴻海 居冠 玉山金 友達 分別 超約 至於 台積電 外資 調節', '伺服器 產業 避風港 轉向工商 時報 伺服器 產業鏈 避風港 轉向 閱讀 全文 翁毓嵐 台北 報導 上午 地緣 政治 升溫 促使 美系 主要 大型 雲端服 供應商 臉書 微軟 規劃 加強 擴增 台灣 以外 產線 作為 配套 措施 牽動 伺服器 供應鏈 重組 研調 機構 認為 東南亞 美洲 成為 未來 伺服器 產業鏈 核心 所在 因應 中美 貿易 摩擦 逐步 升溫 伺服器 供應鏈 啟動 明顯 產線 移轉 伺服器 主板 產線 產線 轉移 中國 轉往 台灣 後續', '在線 營收 明年 應用 需求 續強理財網 在線 營收 明年 應用 需求 續強 閱讀 全文 下午 新聞 記者 周瑩慈 報導 工業 電腦 累計 今年 營收 表現 強勁 其中 樺漢 新漢 虹堡 合併 營收 歷史 新高 累計 超過 歷年 今年 營收 創高 無虞 研華 安勤 泓格 廣積 艾訊 研揚 鑫創 電子 維田 營收 新高 紀錄 累計 超過 歷年 創高 其餘 凌華 磐儀', '外資 調節 鴻海 台積電 面板 雙虎中央社 財經 外資 調節 鴻海 台積電 面板 雙虎 閱讀 全文 中央社 下午 中央社 記者 賴言曦 台北 日電 台股 今天 開高 走低 終場 下跌 收在 法人 合計 賣超 新台幣 外資 今天 賣超 調節 包含 鴻海 群創 友達 台積電 電子股 台股 今天 收在 成交值 法人 自營商 投信 買超 外資 陸資 觀察 外資 今天 其中 調節', '伺服器 產業 避風港 轉向地緣 政治 升溫 促使 美系 主要 大型 雲端服 供應商 臉書 微軟 規劃 加強 擴增 台灣 以外 產線 作為 配套 措施 牽動 伺服器 供應鏈 重組 研調 機構 認為 東南亞 美洲 成為 未來 伺服器 產業鏈 核心 所在 因應 年時 中美 貿易 摩擦 逐步 升溫 伺服器 供應鏈 啟動 明顯 產線 移轉 伺服器 主板 產線 產線 轉移 中國 轉往 台灣 後續 隨著 業者 亞太 建置 資料 中心 板接 產線 擴建 需求 馬來西亞 泰國 東南亞 地區', '檔尖兵 成長 異軍 突起今年 進入 尾聲 台股 上市 櫃公司 結算 完畢 合併 營收 概況 目前 全球 經濟 雜音 頗多 部分 消費性 電子業 大幅度 修正 營運 遭遇 逆風 異軍突起 公司 繳出 成長 優異 成績單 緯創 台新 投顧 副總 黃文清 認為 疫情 紅利 消散 全球 需求 回歸 基本面 先前 貨幣 政策 寬鬆 進行 補貼 烏戰爭 因素 使得 通膨 不斷 上漲 為了 抑制 通膨 美國 為首 聯準會 進行 升息 企圖 藉由 緊縮 財政 政策 降低 通膨 民眾', '營收 衝破上市 公司 今年 累計 營收 依序 鴻海 台積電 公司 公司 合計 營收 超過 表現 亮眼 台股 營收 除了 組裝 龍頭 鴻海 晶圓 代工 龍頭 台積電 和碩 廣達 仁寶 緯創 台塑化 大聯大 日月光 投控 長榮 其中 全球 晶圓 代工 龍頭 台積電 營收 月增 歷史 新高 第四 營收 可望 達成 季增 財測 高標 展望 第一季 法人 認為 台積電 營運動 主要 蘋果 奈米 晶片 進入 淡季 投片', '在線 營收 明年 應用 需求 續強新聞 記者 周瑩慈 報導 工業 電腦 累計 今年 營收 表現 強勁 其中 樺漢 新漢 虹堡 合併 營收 同步 歷史 新高 累計 超過 歷年 今年 營收 無虞 研華 安勤 立端 其陽 泓格 廣積 艾訊 研揚 電子 維田 營收 新高 紀錄 累計 超過 歷年 其餘 凌華 磐儀 融程電 營邦 威強電 累計 營收 同步 改寫 新高 振樺電 期次', '外資 調節 鴻海 台積電 面板 雙虎中央社 記者 賴言曦 台北 日電 台股 今天 開高 走低 終場 下跌 收在 法人 合計 新台幣 外資 今天 調節 包含 鴻海 群創 友達 台積電 電子股 台股 今天 收在 成交值 法人 自營商 投信 買超 外資 陸資 觀察 外資 今天 其中 調節約 鴻海 居冠 玉山金 友達 分別 超約 至於 台積電 外資 調節', '情報 上市 投信 買賣 排行標題 投信 買賣 排行 來源 富邦證券 網址 內文 買超 中鋼 中信金 裕民 開發金 仁寶 中興電 永豐金 元大金 宏碁 英業達 南亞科 大聯 第一 兆豐金 遠東 華夏 眾達 台灣 旺宏 友達 視陽 富邦金 美食 台塑 南亞 南光 台泥 光寶科 遠傳 麗豐 聯強 光鋼 三陽 工業 晶技 中鴻 國產 華碩 投控 可成 廣達 豐泰 中華電 中華 宏全 漢翔 永冠 雄獅 美利達', '情報 上市 外資 買賣 排行標題 外資 買賣 排行 來源 台灣 證交所 網址 內文 買超 元大 台灣 新光金 英業達 永豐金 國泰 臺灣 加權 大成鋼 臺企銀 富邦 越南 聯電 緯創 旺宏 連宇 中鴻 建漢 遠東 第一 開發金 寶成 上海商銀 遠東銀 華新 台新金 大同 欣興 華夏 中華電 中信金 台灣 高鐵 台泥 羅門 合庫金 漢翔 中鼎 奇鋐 和碩 兆勁 廷鑫 百和 台玻 嘉聯益 台亞 合機 技嘉 亞翔 新興', '情報 公股銀行 買賣 排行手機 介面 圖片 讀版 以下 資訊 張數 排列 買超 排名 股票 張數 排名 股票 張數 國泰 永續 股息 聯電 群創 華航 兆勁 力積電 新光金 國泰金 期元 原油 元晶 大成鋼 兆豐金 威盛 台塑 國票金 聯合 再生 中鴻 元大 台灣 榮剛 富邦 恒生 國企 松瑞藥 元大 台灣 息低波 旺宏 長榮航 精剛 日月光 投控 裕隆 杏輝 大國鋼 宜特 遠東銀 富邦 元太 仁寶 中化', '友達友達 也許 貿然 跑去 人生 不熟 美國 車用 模組廠 浪費 冤枉 友達 應該 考慮 借用 集團 佳世達 緯創 墨西哥廠 資源 訂單 包給 緯創作 宏碁集團 緯創 美墨 已經 生產 管理 經驗', '鼎立 頭號 角響工商時報 三足 鼎立 角響 閱讀 全文 陳昱光 台北 報導 上午 市場 觀望 利率 決策 會議 動向 成交 動能 明顯 萎縮 投資 專家 認為 指數 月線 震盪 整理 行情 表態 為主 建議 挑選 股價 守在 月線 之上 三大 法人 延續 買超 動作 營收 成長 技術 籌碼面 基本面 穩健 緯創 健喬 有望 持續 吸納 盤面 資金 群益 投顧 研究部 副總裁 曾炎裕 認為 今年 暴力 升息 接近 尾聲 預期 會議 升息 升息', '鼎立 頭號 角響市場 觀望 利率 決策 會議 動向 成交動能 明顯 萎縮 投資 專家 認為 指數 月線 震盪 整理 行情 個股 表態 為主 建議 挑選 股價 月線 之上 法人 延續 買超 動作 營收 成長 技術面 籌碼面 基本面 穩健 緯創 健喬 檔有望 持續 吸納 盤面 資金 副總裁 曾炎裕 認為 今年 暴力 升息 接近 尾聲 預期 會議 升息 升息 速度 放緩 未來 經濟 數據 表現 迫使 聯準會 持續 緊縮 政策 整體 年底 作帳', '熱門 族群 鼎立 角響時報 資訊 熱門 族群 三足 鼎立 角響 閱讀 全文 上午 時報 台北 市場 觀望 利率 決策 會議 動向 成交動能 明顯 萎縮 投資 專家 認為 指數 月線 震盪 整理 行情 表態 為主 建議 挑選 股價 守在 月線 三大 法人 延續 買超 動作 營收 成長 技術面 籌碼面 基本面 穩健 緯創 健喬 有望 持續 吸納 盤面 資金 副總裁 曾炎裕 認為 今年 暴力 升息 接近 尾聲 預期 會議 升息', '熱門 族群 鼎立 角響時報 台北 市場 觀望 利率 決策 會議 動向 成交 動能 明顯 萎縮 投資 專家 認為 指數 月線 震盪 整理 行情 表態 為主 建議 挑選 股價 月線 之上 法人 延續 買超 動作 營收 成長 技術面 籌碼面 基本面 穩健 緯創 健喬 檔有望 持續 吸納 盤面 資金 副總裁 曾炎裕 認為 今年 暴力 升息 接近 尾聲 預期 會議 升息 升息 速度 放緩 未來 經濟 數據 表現 迫使 聯準會 持續 緊縮 政策 整體', '熱門 族群 代工 營收 揭曉 外資 上周 吃貨時報 資訊 熱門 族群 代工 營收 揭曉 外資 上周 吃貨 閱讀 全文 上午 時報 記者 任珮云 台北 報導 代工 營收 受到 終端 需求 疲弱 影響 呈現 旺季 不旺 包含 仁寶 和碩 英業達 營收 呈現 月減 年減 走勢 廣達 營收 表現 相對 持穩 營收 月增 累計 營收 超越 去年 緯創 營收 唯一 繳出 月增 年增 成績 主要 受惠於 公司 緯穎 動能 挹注 外資 近期', '熱門 族群 代工 營收 揭曉 外資 上周 吃貨時報 記者 任珮云 台北 報導 代工 營收 受到 終端 需求 疲弱 影響 呈現 旺季 不旺 包含 仁寶 和碩 英業達 營收 呈現 走勢 廣達 營收 表現 相對 營收 月增 累計 營收 超越 去年 緯創 營收 唯一 繳出 月增 年增 成績 主要 受惠於 公司 緯穎 動能 挹注 外資 近期 進出 方面 周四 五計 交易日 緯創 外資 持股 增至 英業達', '外資 減碼 面板 金融股 群創 居首中央社 記者 吳家豪 台北 日電 台股 今天 震盪 終場 下跌 收在 外資 陸資 新台幣 減碼 面板 金融 航空 類股 群創 居首 市場 觀望 美國聯準會 召開 利率 決策 會議 台股 今天 早盤 下跌 失守 關卡 隨著 金融股 止穩 指數 跌勢 逐步 收斂 終場 收在 下跌 成交值 今年 觀察 外資 排行榜 包括 群創 國泰 永續 股息 聯合 再生', '塔塔 搶搭 印度 蘋果 專賣店路透社 塔塔 搶搭 印度 蘋果 專賣店 閱讀 全文 路透社 中文 新聞 下午 路透 日電 印度 經濟時報 今天 引述 知情 人士 說法 報導 事業 版圖 橫跨 鹽業 軟體 印度塔塔 集團 計劃 印度 開設 專賣 美國 蘋果 公司 產品 商店 塔塔 集團 旗下 負責 經營 消費 電子 產品 連鎖店 克羅馬 零售商 成為 蘋果 公司 授權 經銷商 購物 中心 商業街 社區 地點 開設 商店 知情 零售業 顧問 告訴', '塔塔 搶搭 印度 蘋果 專賣店路透 日電 印度 經濟時報 今天 引述 知情 人士 說法 報導 事業 版圖 橫跨 鹽業 軟體 印度 塔塔 集團 計劃 印度 開設 專賣 美國 蘋果 公司 產品 商店 塔塔 集團 旗下 負責 經營 消費 電子 產品 連鎖店 克羅馬 零售商 成為 蘋果 公司 授權 經銷商 購物中心 商業街 社區 地點 開設 商店 知情 零售業 顧問 告訴 經濟時報 塔塔 已經 開始 高級 商場 商業街 討論店 租賃 事宜 租約 包括 商場 附近 開設 哪些', '鼎立 頭號 角響工商時報 三足 鼎立 角響 閱讀 全文 陳昱光 台北 報導 上午 市場 觀望 利率 決策 會議 動向 成交 動能 明顯 萎縮 投資 專家 認為 指數 月線 震盪 整理 行情 表態 為主 建議 挑選 股價 守在 月線 之上 三大 法人 延續 買超 動作 營收 成長 技術 籌碼面 基本面 穩健 緯創 健喬 有望 持續 吸納 盤面 資金 群益 投顧 研究部 副總裁 曾炎裕 認為 今年 暴力 升息 接近 尾聲 預期 會議 升息 升息', '熱門 族群 鼎立 角響時報 資訊 熱門 族群 三足 鼎立 角響 閱讀 全文 上午 時報 台北 市場 觀望 利率 決策 會議 動向 成交動能 明顯 萎縮 投資 專家 認為 指數 月線 震盪 整理 行情 表態 為主 建議 挑選 股價 守在 月線 三大 法人 延續 買超 動作 營收 成長 技術面 籌碼面 基本面 穩健 緯創 健喬 有望 持續 吸納 盤面 資金 副總裁 曾炎裕 認為 今年 暴力 升息 接近 尾聲 預期 會議 升息', '熱門 族群 代工 營收 揭曉 外資 上周 吃貨時報 資訊 熱門 族群 代工 營收 揭曉 外資 上周 吃貨 閱讀 全文 上午 時報 記者 任珮云 台北 報導 代工 營收 受到 終端 需求 疲弱 影響 呈現 旺季 不旺 包含 仁寶 和碩 英業達 營收 呈現 月減 年減 走勢 廣達 營收 表現 相對 持穩 營收 月增 累計 營收 超越 去年 緯創 營收 唯一 繳出 月增 年增 成績 主要 受惠於 公司 緯穎 動能 挹注 外資 近期', '塔塔 搶搭 印度 蘋果 專賣店路透社 塔塔 搶搭 印度 蘋果 專賣店 閱讀 全文 路透社 中文 新聞 下午 路透 日電 印度 經濟時報 今天 引述 知情 人士 說法 報導 事業 版圖 橫跨 鹽業 軟體 印度塔塔 集團 計劃 印度 開設 專賣 美國 蘋果 公司 產品 商店 塔塔 集團 旗下 負責 經營 消費 電子 產品 連鎖店 克羅馬 零售商 成為 蘋果 公司 授權 經銷商 購物 中心 商業街 社區 地點 開設 商店 知情 零售業 顧問 告訴', '鼎立 頭號 角響市場 觀望 利率 決策 會議 動向 成交動能 明顯 萎縮 投資 專家 認為 指數 月線 震盪 整理 行情 個股 表態 為主 建議 挑選 股價 月線 之上 法人 延續 買超 動作 營收 成長 技術面 籌碼面 基本面 穩健 緯創 健喬 檔有望 持續 吸納 盤面 資金 副總裁 曾炎裕 認為 今年 暴力 升息 接近 尾聲 預期 會議 升息 升息 速度 放緩 未來 經濟 數據 表現 迫使 聯準會 持續 緊縮 政策 整體 年底 作帳', '熱門 族群 鼎立 角響時報 台北 市場 觀望 利率 決策 會議 動向 成交 動能 明顯 萎縮 投資 專家 認為 指數 月線 震盪 整理 行情 表態 為主 建議 挑選 股價 月線 之上 法人 延續 買超 動作 營收 成長 技術面 籌碼面 基本面 穩健 緯創 健喬 檔有望 持續 吸納 盤面 資金 副總裁 曾炎裕 認為 今年 暴力 升息 接近 尾聲 預期 會議 升息 升息 速度 放緩 未來 經濟 數據 表現 迫使 聯準會 持續 緊縮 政策 整體', '熱門 族群 代工 營收 揭曉 外資 上周 吃貨時報 記者 任珮云 台北 報導 代工 營收 受到 終端 需求 疲弱 影響 呈現 旺季 不旺 包含 仁寶 和碩 英業達 營收 呈現 走勢 廣達 營收 表現 相對 營收 月增 累計 營收 超越 去年 緯創 營收 唯一 繳出 月增 年增 成績 主要 受惠於 公司 緯穎 動能 挹注 外資 近期 進出 方面 周四 五計 交易日 緯創 外資 持股 增至 英業達', '外資 減碼 面板 金融股 群創 居首中央社 記者 吳家豪 台北 日電 台股 今天 震盪 終場 下跌 收在 外資 陸資 新台幣 減碼 面板 金融 航空 類股 群創 居首 市場 觀望 美國聯準會 召開 利率 決策 會議 台股 今天 早盤 下跌 失守 關卡 隨著 金融股 止穩 指數 跌勢 逐步 收斂 終場 收在 下跌 成交值 今年 觀察 外資 排行榜 包括 群創 國泰 永續 股息 聯合 再生', '塔塔 搶搭 印度 蘋果 專賣店路透 日電 印度 經濟時報 今天 引述 知情 人士 說法 報導 事業 版圖 橫跨 鹽業 軟體 印度 塔塔 集團 計劃 印度 開設 專賣 美國 蘋果 公司 產品 商店 塔塔 集團 旗下 負責 經營 消費 電子 產品 連鎖店 克羅馬 零售商 成為 蘋果 公司 授權 經銷商 購物中心 商業街 社區 地點 開設 商店 知情 零售業 顧問 告訴 經濟時報 塔塔 已經 開始 高級 商場 商業街 討論店 租賃 事宜 租約 包括 商場 附近 開設 哪些', '情報 上市 投信 買賣 排行標題 投信 買賣 排行 來源 富邦證券 網址 內文 買超 中鋼 中信金 元晶 視陽 華夏 裕民 華航 大聯大 麗豐 亞聚 光罩 統一 聚陽 世紀鋼 葡萄王 中興電 新唐 元大 台灣 材料 漢翔 矽力 豐泰 上品 大成鋼 投控 南光 雲品 志強 鈺齊 昇陽 半導體 寶齡 富錦 華孚 台塑 晶碩 台灣大 台積電 順德 三陽 工業 雄獅 富邦媒 元大金 開發金 中華電 臺企銀 世芯 美食 致茂 國巨', '情報 上市 外資 買賣 排行標題 外資 買賣 排行 來源 台灣證交所 網址 內文 買超 華航 臺企銀 陽明 聯合 再生 聯電 緯創 長榮航 大同 新光金 台泥 日月光 投控 威盛 長榮 元大金 仁寶 台新金 彩晶 統一 台玻 遠東 富邦金 力積電 元晶 康那香 英業達 亞泥 中信 中國 股息 合庫金 中華電 慧洋 華南金 上海 商銀 永豐金 元大 滬深 台灣高鐵 華夏 國產 南亞 台中銀 和碩 第一 富邦', '情報 公股銀行 買賣 排行手機 介面 圖片 讀版 以下 資訊 張數 排列 買超 排名 股票 張數 排名 股票 張數 元大 台灣 原油 街口 布蘭 特正 華航 中鋼 臺企銀 國泰臺灣 加權 上海商銀 國泰 永續 股息 合一 華通 台新金 新光金 陽明 富邦越南 聯合 再生 鴻海 緯創 元大 茂迪 華邦電 亞太電 國喬 亞泥 康舒 漢翔 元大 石油 台化 大聯大 長榮航 富邦 臺灣 加權 華新 富邦恒生 國企 聯電', '出貨 緯創 緯穎 營收 去年工商 時報 出貨 緯創 緯穎 營收 去年 閱讀 全文 翁毓嵐 台北 報導 上午 緯創 旗下 緯穎 同步 受惠 伺服器 產品 出貨 動能 持續 強勁 挹注 合併 營收 步調 同步 登上 歷年 新高 累計 營收 超越 去年 年度 表現 今年 營收 新猷 受到 市況 需求 低迷 影響 緯創 筆電 桌機 顯示器 產品線 出貨 動能 顯疲軟 或是 持平 其中 筆電 單月 出貨 桌機 出貨 顯示器 降至', '掃瞄 基本面 台達電 營收史 國巨 營收 重返 百億時報 資訊 掃瞄 基本面 台達電 營收史 國巨 營收 重返 百億 閱讀 全文 上午 時報 台北電 基本面 交易日 新台幣 美元 收市 貶值 成交 值為 美元 集中 市場 融資 增為 融券 增為 集中 市場 營商 賣超 投信 買超 外資 台達電 電動車 部門 營收 續創 歷史 樓宇 自動化 工業 自動 電源 風扇 事業 續強 營收 改寫 歷史次', '掃瞄 基本面 台達電 營收史 國巨 營收 重返 百億時報 台北電 基本面 交易日 新台幣 美元 收市 貶值 成交值 美元 集中 市場 融資 增為 融券 增為 集中 市場 自營商 投信 外資 台達電 電動車 部門營 續創 歷史 新高 樓宇 自動 工業 自動 電源 風扇 事業 續強 月營 改寫 歷史次 工業 電腦 營運 佳績 廣積 受惠 網通 大單 出貨 放量 加上 自動 工控 需求 延續 推升 月營 衝上', '焦點 美科技 反彈 會議 台股 觀望中央社 財經 焦點 美科技股 反彈 會議 台股 觀望 閱讀 全文 中央社 上午 中央社 記者 鍾榮峰 台北 美科技 反彈 台股 跌近 失守 月線 法人 表示 市場 觀望 氣氛 美國 會議 預期 大盤 橫盤 整理 美科技 反彈 標準 普爾 指數 結束 交易 跌勢 道瓊 工業 指數 上漲 作收 標準 普爾 指數 上揚 科技股 那斯達克 指數 揚升', '焦點 美科技 反彈 會議 台股 觀望中央社 記者 鍾榮峰 台北 日電 美科技 反彈 台股 失守 月線 法人 表示 市場 觀望 氣氛 美國 會議 預期 大盤 橫盤 整理 美科技 反彈 標準 普爾 指數 結束 交易日 跌勢 道瓊 工業 指數 作收 標準 普爾 指數 科技股 那斯達克 指數 揚升 費城 半導體 指數 勁揚 台股 加權 指數 失守月線約', '統一 證券 晨訊 美股 轉強 台股 有望 站回 月均線中央社 財經 統一 證券 晨訊 美股 轉強 台股 有望 站回 月均線 閱讀 全文 中央社 上午 日期 盤勢 分析 昨日 盤勢 美股 受到 殖利率 倒掛 引發 經濟 衰退 擔憂 下跌 昨日 台股 平盤 開出 台積電 賣壓 湧現 壓抑 指數 下跌 點至 隨著 台積電 過後 跌幅 收斂 指數 緩步 上攻 加權 指數 雖然 跌破 月均線 指數 表現 相對抗跌 守穩 月均線 之上 盤面 型股 買氣 回溫 尤其 台積電 投資 美元', '統一 證券 晨訊 美股 轉強 台股 有望 站回 月均線日期 盤勢 分析 昨日 盤勢 美股 受到 殖利率 倒掛 引發 經濟 衰退 擔憂 下跌 昨日 台股 平盤 開出 台積電 賣壓 湧現 壓抑 指數 下跌 點至 隨著 台積電 跌幅 收斂 指數 緩步 上攻 加權 指數 雖然 跌破 月均線 指數 表現 相對抗跌 守穩 月均線 盤面 型股 買氣 回溫 尤其 台積電 投資 美元 設廠 帶動 先進 製程 供應鏈 漲勢 上品 宜特 閎康 亮燈 漲停 除此 之外 國防 安控 元宇宙 族群', '通信 網路 首座 中華電 打造 產業 企業 專網 示範 場域時報 資訊 通信 網路 首座 中華電 打造 產業 企業 專網 示範 場域 閱讀 全文 上午 時報 記者 王逸芯 台北 報導 協助 台灣 電路板 產業 數位化 轉型 降低 工廠 導入 專網 服務 門檻 中華電 協助 電電公會 共同 推動 企業 專網 結合 智慧 製造 應用 提供 代買 創新 服務 模式 加速 企業 專網 服務 電子 製造 產業 落地 同時 國產 設備 透過 國內 製造 場域 試煉 提升 國際 競爭', '通信 網路 首座 中華電 打造 產業 企業 專網 示範 場域時報 記者 王逸芯 台北 報導 協助 台灣 電路板 產業 數位化 轉型 降低 工廠 導入 專網 服務 門檻 中華電 協助 台灣 電路板 協會 電電公會 共同 推動 企業 專網 結合 智慧 製造 應用 提供 代買 創新 服務 模式 加速 企業 專網 服務 電子 製造 產業 落地 同時 國產 設備 透過 國內 製造 場域 試煉 提升 國際 競爭力 參與 工業局 示範 計畫 電路板 業者 包含 嘉聯益 敬鵬 燿華 高技 凱喬 公司 中華電信', '把握 東南亞 黃金智富 月刊 把握 東南亞 黃金 閱讀 全文 下午 撰文 張真卿 環顧 歷史 科技 創新 總會 形成 循環 主流 產業 世界 工廠 遷移 世紀 日本 汽車 家電 半導體業 稱霸 全球 美國 年代 推出 電腦 網路 科技 引爆 全球 經濟 成長 榮景 美國 科技 產業 過度 投資 產生 危機 引爆 千禧蟲 危機 科技 泡沫 拖垮 全球 經濟 之後 中國 加入 經貿 開放 全球 經濟主', '把握 東南亞 黃金撰文 張真卿 環顧 歷史 科技 創新 總會 形成 循環 主流 產業 世界 工廠 遷移 世紀 日本 汽車 家電 半導體業 稱霸 全球 接著 美國 年代 推出 電腦 網路 科技 引爆 全球 經濟 成長 榮景 美國 科技 產業 過度 投資 產生 危機 引爆 千禧蟲 危機 科技 泡沫 拖垮 全球 經濟 之後 中國 加入 經貿 開放 全球 經濟 主導權 西方 世界 美國 轉移 東方 世界 中國 台資 紛紛西', '雲端 業務 廣達 業績 穩增 仁寶 和碩 跳水 華碩 板卡 回春 撐盤財訊 快報 雲端 業務 廣達 業績 穩增 仁寶 和碩 跳水 華碩 板卡 回春 撐盤 閱讀 全文 下午 財訊 快報 記者 王宜弘 報導 筆電 大廠 業績 第二 出爐 廣達 表現 相對 優異 合併 營收 增加 年減 累計 年增 仁寶 和碩 業績 呈現 跳水 現象 仁寶 單月 合併 營收 下滑 減逾 累計 突破 大關 年減 下滑 去年 衰退 累計', '雲端 業務 廣達 業績 穩增 仁寶 和碩 跳水 華碩 板卡 回春 撐盤財訊 快報 記者 王宜弘 報導 筆電 大廠 業績 第二 出爐 廣達 表現 相對 優異 合併 營收 增加 累計 年增 仁寶 和碩 業績 呈現 跳水 現象 仁寶 合併 營收 下滑 累計 突破 大關 和碩 下滑 去年 衰退 累計 年增 品牌 方面 華碩 自結 品牌 營收 成長 累計', '出貨 緯創 緯穎 營收 去年工商 時報 出貨 緯創 緯穎 營收 去年 閱讀 全文 翁毓嵐 台北 報導 上午 緯創 旗下 緯穎 同步 受惠 伺服器 產品 出貨 動能 持續 強勁 挹注 合併 營收 步調 同步 登上 歷年 新高 累計 營收 超越 去年 年度 表現 今年 營收 新猷 受到 市況 需求 低迷 影響 緯創 筆電 桌機 顯示器 產品線 出貨 動能 顯疲軟 或是 持平 其中 筆電 單月 出貨 桌機 出貨 顯示器 降至', '掃瞄 基本面 台達電 營收史 國巨 營收 重返 百億時報 資訊 掃瞄 基本面 台達電 營收史 國巨 營收 重返 百億 閱讀 全文 上午 時報 台北電 基本面 交易日 新台幣 美元 收市 貶值 成交 值為 美元 集中 市場 融資 增為 融券 增為 集中 市場 營商 賣超 投信 買超 外資 台達電 電動車 部門 營收 續創 歷史 樓宇 自動化 工業 自動 電源 風扇 事業 續強 營收 改寫 歷史次', '焦點 美科技 反彈 會議 台股 觀望中央社 財經 焦點 美科技股 反彈 會議 台股 觀望 閱讀 全文 中央社 上午 中央社 記者 鍾榮峰 台北 美科技 反彈 台股 跌近 失守 月線 法人 表示 市場 觀望 氣氛 美國 會議 預期 大盤 橫盤 整理 美科技 反彈 標準 普爾 指數 結束 交易 跌勢 道瓊 工業 指數 上漲 作收 標準 普爾 指數 上揚 科技股 那斯達克 指數 揚升', '統一 證券 晨訊 美股 轉強 台股 有望 站回 月均線中央社 財經 統一 證券 晨訊 美股 轉強 台股 有望 站回 月均線 閱讀 全文 中央社 上午 日期 盤勢 分析 昨日 盤勢 美股 受到 殖利率 倒掛 引發 經濟 衰退 擔憂 下跌 昨日 台股 平盤 開出 台積電 賣壓 湧現 壓抑 指數 下跌 點至 隨著 台積電 過後 跌幅 收斂 指數 緩步 上攻 加權 指數 雖然 跌破 月均線 指數 表現 相對抗跌 守穩 月均線 之上 盤面 型股 買氣 回溫 尤其 台積電 投資 美元', '通信 網路 首座 中華電 打造 產業 企業 專網 示範 場域時報 資訊 通信 網路 首座 中華電 打造 產業 企業 專網 示範 場域 閱讀 全文 上午 時報 記者 王逸芯 台北 報導 協助 台灣 電路板 產業 數位化 轉型 降低 工廠 導入 專網 服務 門檻 中華電 協助 電電公會 共同 推動 企業 專網 結合 智慧 製造 應用 提供 代買 創新 服務 模式 加速 企業 專網 服務 電子 製造 產業 落地 同時 國產 設備 透過 國內 製造 場域 試煉 提升 國際 競爭', '把握 東南亞 黃金智富 月刊 把握 東南亞 黃金 閱讀 全文 下午 撰文 張真卿 環顧 歷史 科技 創新 總會 形成 循環 主流 產業 世界 工廠 遷移 世紀 日本 汽車 家電 半導體業 稱霸 全球 美國 年代 推出 電腦 網路 科技 引爆 全球 經濟 成長 榮景 美國 科技 產業 過度 投資 產生 危機 引爆 千禧蟲 危機 科技 泡沫 拖垮 全球 經濟 之後 中國 加入 經貿 開放 全球 經濟主', '雲端 業務 廣達 業績 穩增 仁寶 和碩 跳水 華碩 板卡 回春 撐盤財訊 快報 雲端 業務 廣達 業績 穩增 仁寶 和碩 跳水 華碩 板卡 回春 撐盤 閱讀 全文 下午 財訊 快報 記者 王宜弘 報導 筆電 大廠 業績 第二 出爐 廣達 表現 相對 優異 合併 營收 增加 年減 累計 年增 仁寶 和碩 業績 呈現 跳水 現象 仁寶 單月 合併 營收 下滑 減逾 累計 突破 大關 年減 下滑 去年 衰退 累計', '掃瞄 基本面 台達電 營收史 國巨 營收 重返 百億時報 台北電 基本面 交易日 新台幣 美元 收市 貶值 成交值 美元 集中 市場 融資 增為 融券 增為 集中 市場 自營商 投信 外資 台達電 電動車 部門營 續創 歷史 新高 樓宇 自動 工業 自動 電源 風扇 事業 續強 月營 改寫 歷史次 工業 電腦 營運 佳績 廣積 受惠 網通 大單 出貨 放量 加上 自動 工控 需求 延續 推升 月營 衝上', '焦點 美科技 反彈 會議 台股 觀望中央社 記者 鍾榮峰 台北 日電 美科技 反彈 台股 失守 月線 法人 表示 市場 觀望 氣氛 美國 會議 預期 大盤 橫盤 整理 美科技 反彈 標準 普爾 指數 結束 交易日 跌勢 道瓊 工業 指數 作收 標準 普爾 指數 科技股 那斯達克 指數 揚升 費城 半導體 指數 勁揚 台股 加權 指數 失守月線約', '統一 證券 晨訊 美股 轉強 台股 有望 站回 月均線日期 盤勢 分析 昨日 盤勢 美股 受到 殖利率 倒掛 引發 經濟 衰退 擔憂 下跌 昨日 台股 平盤 開出 台積電 賣壓 湧現 壓抑 指數 下跌 點至 隨著 台積電 跌幅 收斂 指數 緩步 上攻 加權 指數 雖然 跌破 月均線 指數 表現 相對抗跌 守穩 月均線 盤面 型股 買氣 回溫 尤其 台積電 投資 美元 設廠 帶動 先進 製程 供應鏈 漲勢 上品 宜特 閎康 亮燈 漲停 除此 之外 國防 安控 元宇宙 族群', '通信 網路 首座 中華電 打造 產業 企業 專網 示範 場域時報 記者 王逸芯 台北 報導 協助 台灣 電路板 產業 數位化 轉型 降低 工廠 導入 專網 服務 門檻 中華電 協助 台灣 電路板 協會 電電公會 共同 推動 企業 專網 結合 智慧 製造 應用 提供 代買 創新 服務 模式 加速 企業 專網 服務 電子 製造 產業 落地 同時 國產 設備 透過 國內 製造 場域 試煉 提升 國際 競爭力 參與 工業局 示範 計畫 電路板 業者 包含 嘉聯益 敬鵬 燿華 高技 凱喬 公司 中華電信', '把握 東南亞 黃金撰文 張真卿 環顧 歷史 科技 創新 總會 形成 循環 主流 產業 世界 工廠 遷移 世紀 日本 汽車 家電 半導體業 稱霸 全球 接著 美國 年代 推出 電腦 網路 科技 引爆 全球 經濟 成長 榮景 美國 科技 產業 過度 投資 產生 危機 引爆 千禧蟲 危機 科技 泡沫 拖垮 全球 經濟 之後 中國 加入 經貿 開放 全球 經濟 主導權 西方 世界 美國 轉移 東方 世界 中國 台資 紛紛西', '雲端 業務 廣達 業績 穩增 仁寶 和碩 跳水 華碩 板卡 回春 撐盤財訊 快報 記者 王宜弘 報導 筆電 大廠 業績 第二 出爐 廣達 表現 相對 優異 合併 營收 增加 累計 年增 仁寶 和碩 業績 呈現 跳水 現象 仁寶 合併 營收 下滑 累計 突破 大關 和碩 下滑 去年 衰退 累計 年增 品牌 方面 華碩 自結 品牌 營收 成長 累計', '情報 上市 外資 買賣 排行標題 外資 買賣 排行 來源 台灣 證交所 網址 內文 買超 緯創 玉山金 寶成 虹堡 新唐 遠東 大成鋼 環科 臻鼎 世紀鋼 第一 英業達 京城銀 建準 東陽 日月光 投控 泰金寶 普安 大同 晶睿 泰山 高力 瑞儀 富邦 越南 訊舟 元大金 統一 聯茂 三陽 工業 奇偶 華南金 亞翔 景碩 金寶 威盛 雲品 連宇 毅嘉 期街口 布蘭 特正 台灣 高鐵 富邦 基因 免疫 生技 東鹼 微星 合勤控 燿華 元晶', '情報 公股銀行 買賣 排行手機 介面 圖片 讀版 以下 資訊 張數 排列 買超 排名 股票 張數 排名 股票 張數 國泰 永續 股息 元大 台灣 街口 布蘭 特正 期元 原油 臺企銀 開發金 元大 股息 亞太電 大同 緯創 三商壽 寶成 國泰金 宏達電 元大 美債 日月光 投控 新金 宜特 鴻海 陽明 華航 漢翔 群創 大成鋼 中工 亞泥 聯電 新潤 統一 精剛 長榮航 榮剛 友達 國泰 年美債 中鋼 香港 國泰智能', '情報 上市櫃 外資 投信 買超 金額 排行外資 排行 股票 名稱 百萬 收盤價 漲跌 新唐 健喬 宜特 晶睿 臻鼎 虹堡 高力 緯創 創意 緯穎 資料 來源 投信 排行 股票 名稱 百萬 收盤價 漲跌 麗豐 廣積 中鋼 技嘉 閎康 中租 聯詠 新唐 上品 華新 資料 來源 以上 謝謝', '公告 緯創 合併 營收 年增中央社 財經 公告 緯創 合併 營收 年增 閱讀 全文 中央社 下午 日期 上市 公司 緯創 單位', '公告 緯創 合併 營收 年增日期 上市 公司 緯創 單位', '筆電 冷風 伺服器 撐盤 緯創 緯穎 灌頂 年雙 逆勢財訊 筆電 冷風 伺服器 撐盤 緯創 緯穎 灌頂 雙增 逆勢 閱讀 全文 下午 財訊 快報 記者 王宜弘 報導 筆電 代工 大廠 第四季 出貨 冷風 仰賴 伺服器 業務 撐盤 率先 公告 業績 英業達 雙減 營收 緯創 雲端子 公司 緯穎 加持 合併 營收 抗跌 年增 此外 神達 公告 合併 營收 年增率 主要 資料中心 因為 料況 改善 帶動 出貨 增加', '筆電 冷風 伺服器 撐盤 緯創 緯穎 灌頂 年雙 逆勢財訊 快報 記者 王宜弘 報導 筆電 代工 大廠 第四 出貨 冷風 仰賴 伺服器 業務 撐盤 率先 公告 業績 英業達 年雙 營收 緯創 雲端子 公司 緯穎 加持 合併 營收 抗跌 月增 年增 此外 神達 公告 合併 營收 月減 年增率 主要 資料中心 因為 料況 改善 帶動 出貨 增加 此外 產品線 需求 維持 強勁 英業達 合併 營收 今年 相對 低檔 表現 下滑逾', '外資 提款 聯電 鴻海 布局 緯創中央社 財經 外資 提款 聯電 鴻海 布局 緯創 閱讀 全文 中央社 下午 中央社 記者 江明晏 台北 日電 台股 今天 下跌 失守 月線 關卡約 日線 外資 今天 提款 聯電 鴻海 以及 台企銀 金融股 布局 緯創 玉山金 隨著 美股 近期 震盪 台股 今天 下跌 權值 電子股 走勢 壓抑 盤面 聚焦 業績 成長 支撐股 太陽能 餐飲 族群 尾盤 電子 金融 傳產 類股 跌幅', '外資 提款 聯電 鴻海 布局 緯創中央社 記者 江明晏 台北 日電 台股 今天 下跌 失守 月線 關卡約 日線 外資 今天 提款 聯電 鴻海 以及 台企銀 金融股 布局 緯創 玉山金 隨著 美股 近期 震盪 台股 今天 下跌 權值 電子股 走勢 壓抑 盤面 聚焦 業績 成長 支撐股 太陽能 餐飲 族群 尾盤 電子 金融 傳產 類股 跌幅 收斂 台股 加權 指數 終場 下跌 收在 跌幅 加計 成交量 代表 中小型股', '公告 緯創 合併 營收 年增中央社 財經 公告 緯創 合併 營收 年增 閱讀 全文 中央社 下午 日期 上市 公司 緯創 單位', '筆電 冷風 伺服器 撐盤 緯創 緯穎 灌頂 年雙 逆勢財訊 筆電 冷風 伺服器 撐盤 緯創 緯穎 灌頂 雙增 逆勢 閱讀 全文 下午 財訊 快報 記者 王宜弘 報導 筆電 代工 大廠 第四季 出貨 冷風 仰賴 伺服器 業務 撐盤 率先 公告 業績 英業達 雙減 營收 緯創 雲端子 公司 緯穎 加持 合併 營收 抗跌 年增 此外 神達 公告 合併 營收 年增率 主要 資料中心 因為 料況 改善 帶動 出貨 增加', '外資 提款 聯電 鴻海 布局 緯創中央社 財經 外資 提款 聯電 鴻海 布局 緯創 閱讀 全文 中央社 下午 中央社 記者 江明晏 台北 日電 台股 今天 下跌 失守 月線 關卡約 日線 外資 今天 提款 聯電 鴻海 以及 台企銀 金融股 布局 緯創 玉山金 隨著 美股 近期 震盪 台股 今天 下跌 權值 電子股 走勢 壓抑 盤面 聚焦 業績 成長 支撐股 太陽能 餐飲 族群 尾盤 電子 金融 傳產 類股 跌幅', '公告 緯創 合併 營收 年增日期 上市 公司 緯創 單位', '筆電 冷風 伺服器 撐盤 緯創 緯穎 灌頂 年雙 逆勢財訊 快報 記者 王宜弘 報導 筆電 代工 大廠 第四 出貨 冷風 仰賴 伺服器 業務 撐盤 率先 公告 業績 英業達 年雙 營收 緯創 雲端子 公司 緯穎 加持 合併 營收 抗跌 月增 年增 此外 神達 公告 合併 營收 月減 年增率 主要 資料中心 因為 料況 改善 帶動 出貨 增加 此外 產品線 需求 維持 強勁 英業達 合併 營收 今年 相對 低檔 表現 下滑逾', '外資 提款 聯電 鴻海 布局 緯創中央社 記者 江明晏 台北 日電 台股 今天 下跌 失守 月線 關卡約 日線 外資 今天 提款 聯電 鴻海 以及 台企銀 金融股 布局 緯創 玉山金 隨著 美股 近期 震盪 台股 今天 下跌 權值 電子股 走勢 壓抑 盤面 聚焦 業績 成長 支撐股 太陽能 餐飲 族群 尾盤 電子 金融 傳產 類股 跌幅 收斂 台股 加權 指數 終場 下跌 收在 跌幅 加計 成交量 代表 中小型股', '情報 上市 投信 買賣 排行標題 投信 買賣 排行 來源 富邦證券 網址 內文 買超 中鋼 開發金 中信金 建準 聯詠 聯強 中鼎 華通 華新 漢翔 華碩 鈺齊 大成鋼 麗豐 南亞 元大 股息 台塑 台灣 晶碩 怡利電 儒鴻 三陽工業 富邦金 元大金 雲品 瑞儀 富邦 景碩 億豐 眾達 華孚 永冠 元大 台灣 國產 宏碁 志強 中華 智原 宏全 仁寶 南茂 群電 創見 勤誠 國泰金 中保科 矽格 裕隆', '情報 上市 外資 買賣 排行標題 外資 買賣 排行 來源 台灣證交所 網址 內文 買超 臺企銀 中信金 彰銀 台新金 開發金 永豐金 華南金 日月光 投控 新光金 玉山金 遠東 第一 統一 三商壽 中興電 華城 寶成 合庫金 台玻 興富發 中信電池 儲能 裕隆 國泰金 元大金 上海 商銀 大同 慧洋 訊舟 遠傳 華新 兆豐金 中華電 富邦 越南 高力 台灣 台塑 金橋 元大 台灣 技嘉 中鋼 長榮 宏達電 香港', '中華 徵信所 做好 配套 台廠 東進 加分工商時報 中華徵信所 做好 配套 台廠 東進 加分 閱讀 全文 陳碧芬 台北 報導 上午 台積電 美國廠 正式 裝機 中華徵信所 表示 投資 技術 以及 創造 就業 關鍵 因素 台灣 科技業 大舉 東進 帶來 台灣 訂單 增加 核心 技術 保護 創造 就業 可能 成為 失分 項目 需要 政策 做好 配套 避免 供應鏈 台化 美國 台廠 東進 主要 市場 目前 台灣 投資 金額 十分之一 金額 成長 驚人 統計', '要聞 中華 徵信所 做好 配套 台廠 加分時報 資訊 報要聞 中華徵信所 做好 配套 台廠 東進 加分 閱讀 全文 上午 時報 台北 台積電 美國廠 正式 裝機 中華 徵信 表示 投資 技術 以及 創造 就業 關鍵 因素 台灣 科技業 大舉 東進 帶來 台灣 訂單 增加 核心 技術 保護 創造 就業 可能 成為 失分 項目 需要 政策 做好 配套 避免 供應鏈 台化 美國 台廠 主要 市場 目前 台灣 投資 金額 十分之一 金額 成長 驚人 統計', '要聞 中華 徵信所 做好 配套 台廠 加分時報 台北電 台積電 美國廠 正式 裝機 中華徵信 表示 投資 技術 以及 創造 就業 關鍵 因素 台灣 科技業 大舉 東進 帶來 台灣 訂單 增加 核心 技術 保護 創造 就業 可能 成為 失分 項目 需要 政策 做好 配套 避免 供應鏈 台化 美國 台廠 主要 市場 目前 台灣 投資 金額 十分之一 金額 成長 驚人 統計 貿易 台灣 美國 投資 金額 美元 美元 美元', '互聯網 能源 訂單 助攻 緯軟 營收 新高中央社 財經 互聯網 能源 訂單 助攻 緯軟 營收 閱讀 全文 中央社 下午 中央社 記者 吳家豪 台北 日電 資訊 服務商 緯創 軟體 受惠 互聯網 客戶 需求 能源 客戶 訂單 順利 拓展 今天 公布 合併 營收約 新台幣 單月 歷史 新高 緯軟 累計 今年 合併 營收 突破 大關 去年 同期 成長 另外 緯軟 持續 強化 資訊 安全 管理 滿足 交付 品質 旗下 公司 緯軟 資服 近日', '互聯網 能源 訂單 助攻 緯軟 營收 新高中央社 記者 吳家豪 台北 日電 資訊 服務商 緯創 軟體 受惠 互聯網 客戶 需求 能源 客戶 訂單 順利 拓展 今天 公布 合併 收約 新台幣 年增 歷史 緯軟 累計 今年 合併 營收 突破 大關 去年 同期 成長 另外 緯軟 持續 強化 資訊 安全 管理 滿足 交付 品質 旗下 公司 緯軟 資服 近日 取得 資訊 安全 管理 系統 認證 涵蓋 安全 軟體 開發 生命 週期 範圍 緯軟 透過 新聞稿 表示', '中華 徵信所 做好 配套 台廠 東進 加分工商時報 中華徵信所 做好 配套 台廠 東進 加分 閱讀 全文 陳碧芬 台北 報導 上午 台積電 美國廠 正式 裝機 中華徵信所 表示 投資 技術 以及 創造 就業 關鍵 因素 台灣 科技業 大舉 東進 帶來 台灣 訂單 增加 核心 技術 保護 創造 就業 可能 成為 失分 項目 需要 政策 做好 配套 避免 供應鏈 台化 美國 台廠 東進 主要 市場 目前 台灣 投資 金額 十分之一 金額 成長 驚人 統計', '要聞 中華 徵信所 做好 配套 台廠 加分時報 資訊 報要聞 中華徵信所 做好 配套 台廠 東進 加分 閱讀 全文 上午 時報 台北 台積電 美國廠 正式 裝機 中華 徵信 表示 投資 技術 以及 創造 就業 關鍵 因素 台灣 科技業 大舉 東進 帶來 台灣 訂單 增加 核心 技術 保護 創造 就業 可能 成為 失分 項目 需要 政策 做好 配套 避免 供應鏈 台化 美國 台廠 主要 市場 目前 台灣 投資 金額 十分之一 金額 成長 驚人 統計', '互聯網 能源 訂單 助攻 緯軟 營收 新高中央社 財經 互聯網 能源 訂單 助攻 緯軟 營收 閱讀 全文 中央社 下午 中央社 記者 吳家豪 台北 日電 資訊 服務商 緯創 軟體 受惠 互聯網 客戶 需求 能源 客戶 訂單 順利 拓展 今天 公布 合併 營收約 新台幣 單月 歷史 新高 緯軟 累計 今年 合併 營收 突破 大關 去年 同期 成長 另外 緯軟 持續 強化 資訊 安全 管理 滿足 交付 品質 旗下 公司 緯軟 資服 近日', '要聞 中華 徵信所 做好 配套 台廠 加分時報 台北電 台積電 美國廠 正式 裝機 中華徵信 表示 投資 技術 以及 創造 就業 關鍵 因素 台灣 科技業 大舉 東進 帶來 台灣 訂單 增加 核心 技術 保護 創造 就業 可能 成為 失分 項目 需要 政策 做好 配套 避免 供應鏈 台化 美國 台廠 主要 市場 目前 台灣 投資 金額 十分之一 金額 成長 驚人 統計 貿易 台灣 美國 投資 金額 美元 美元 美元', '互聯網 能源 訂單 助攻 緯軟 營收 新高中央社 記者 吳家豪 台北 日電 資訊 服務商 緯創 軟體 受惠 互聯網 客戶 需求 能源 客戶 訂單 順利 拓展 今天 公布 合併 收約 新台幣 年增 歷史 緯軟 累計 今年 合併 營收 突破 大關 去年 同期 成長 另外 緯軟 持續 強化 資訊 安全 管理 滿足 交付 品質 旗下 公司 緯軟 資服 近日 取得 資訊 安全 管理 系統 認證 涵蓋 安全 軟體 開發 生命 週期 範圍 緯軟 透過 新聞稿 表示', '情報 上市 外資 買賣 排行標題 外資 買賣 排行 來源 台灣證交所 網址 內文 買超 臺企銀 元大 滬深 華新 奇鋐 遠東 廣宇 台玻 裕隆 大同 華通 英業達 元大金 金寶 永豐金 啟碁 欣興 台耀 臻鼎 怡利電 光罩 寶成 大成鋼 正崴 台光電 寶齡 富錦 富邦 臺灣 加權 緯創 日月光 投控 聯益 中鼎 國泰 中國 台郡 裕民 南緯 燿華 和碩 富邦金 泰金寶 拓凱 普安 國喬 台達電 南電 宏達電 亞翔 威強電', '情報 公股銀行 買賣 排行手機 介面 圖片 讀版 以下 資訊 張數 排列 買超 排名 股票 張數 排名 股票 張數 華航 元大 滬深 元大 台灣 富邦 越南 國泰 永續 股息 富邦 台灣 半導體 期街口 布蘭 特正 聯上 長榮航 臺企銀 友達 第一 聯電 期元 台積電 元大金 國泰金 奇鋐 群創 永豐金 陽明 廣宇 華邦電 台玻 元大 股息 世紀鋼 中信 中國 景碩 鴻海 健喬 力積電 台耀 華新 東森 三商壽 宜特', '東進 科技 大廠 新東 投資 國安 層級奇摩 股市 科技 大廠 新東進 投資 國安 層級 閱讀 全文 葉憶如 財經 特派 記者 下午 台積電 亞利桑那州 晶圓廠 舉行 移機 典禮 美國 拜登 總統 出席 鴻海 環球晶 國內 科技 大廠 紛紛 設廠 中華徵信 發布 報告 指出 台灣 投資 美元 去年 中美 貿戰 投資 美金 換算 新台幣 東進 投資 供應 就業 三點 台灣 長期 經濟發', '東進 科技 大廠 新東 投資 國安 層級台積電 亞利桑那州 晶圓廠 舉行 移機 典禮 美國 拜登 總統 出席 鴻海 環球晶 國內 科技 大廠 紛紛 設廠 中華徵信所 發布 報告 指出 台灣 投資 美元 去年 中美 貿戰 投資 億美金 換算 新台幣 投資 供應鍊 就業 台灣 長期 經濟 發展 可能 國家 安全 層面 影響 針對 近期 台灣 科技 產業 是否 美國 供應鏈 掏空 市場', '東進 科技 大廠 新東 投資 國安 層級奇摩 股市 科技 大廠 新東進 投資 國安 層級 閱讀 全文 葉憶如 財經 特派 記者 下午 台積電 亞利桑那州 晶圓廠 舉行 移機 典禮 美國 拜登 總統 出席 鴻海 環球晶 國內 科技 大廠 紛紛 設廠 中華徵信 發布 報告 指出 台灣 投資 美元 去年 中美 貿戰 投資 美金 換算 新台幣 東進 投資 供應 就業 三點 台灣 長期 經濟發', '東進 科技 大廠 新東 投資 國安 層級台積電 亞利桑那州 晶圓廠 舉行 移機 典禮 美國 拜登 總統 出席 鴻海 環球晶 國內 科技 大廠 紛紛 設廠 中華徵信所 發布 報告 指出 台灣 投資 美元 去年 中美 貿戰 投資 億美金 換算 新台幣 投資 供應鍊 就業 台灣 長期 經濟 發展 可能 國家 安全 層面 影響 針對 近期 台灣 科技 產業 是否 美國 供應鏈 掏空 市場', '情報 上市 外資 買賣 排行標題 外資 買賣 排行 來源 台灣 證交所 網址 內文 買超 元大 台灣 大成鋼 華航 欣興 永豐金 元大金 中鴻 友達 奇鋐 長榮 元大 台灣 新光金 國泰 臺灣 加權 仁寶 三商壽 旺宏 中信金 元大 台灣 遠東 富邦越南 長榮航 中興電 日月光 投控 和碩 廣宇 國泰 永續 股息 裕隆 統一 潤泰 英業達 第一 康那香 香港 亞泥 亞翔 富發 燁輝 中信中國 潤泰 富邦 臺灣 加權', '情報 公股銀行 買賣 排行手機 介面 圖片 讀版 以下 資訊 張數 排列 買超 排名 股票 張數 排名 股票 張數 富邦 台灣 半導體 泰山 元大 台灣 長榮航 元大 滬深 大成鋼 宏碁 元大金 華新 中鴻 佳世達 三商壽 期元 台泥 瑞昱 聯上 台積電 華航 普誠 欣興 臺企銀 彰銀 元大 台灣 低波 友達 永豐餘 遠東 乙盛 元太 台半 長榮 國泰金 廣積 統一實 漢翔 國泰 永續 股息 台新金 富邦 証正', '醫療 創獎 微軟 莫德納尋寶工商時 醫療 創獎 微軟 莫德納尋寶 閱讀 全文 杜蕙蓉 台北 報導 上午 醫療 科技展 壓軸 大戲 國家 創獎 今年 大秀 亮點 技術 其中 智齡 科技 精能 醫學 睛航生醫 奇翼 醫電 團隊 可望 爭取 科技業 國際 科技 大廠 合作 投資 機會 另外 微軟 莫德納 宣布 透過 國家 創獎 平台 尋找 策略 夥伴 全球 疫苗 商品 資深 副總裁 表示 連結 台灣 加強 合作 提供 平台 台灣 學研界 共同 合作 開發', '結盟 群架 模式 逐步 落地工商時報 結盟 群架 模式 逐步 落地 閱讀 全文 杜蕙蓉 台北 報導 上午 醫療 科技展 日圓 閉幕 今年 除了 東協醫院 尋找 戰略 夥伴 攜手 進軍 國際 市場 結盟 趨勢 英特爾 結合 華碩 醫揚 台灣 生態系 廠商 參展 大江 基因 佳世達 合作 明年 啟動 細胞 新藥 臨床 開發 宏碁 助攻三 個人 腫瘤 新抗原 篩選 突顯 生技 科技 群架 模式 逐步 落地 去年 生策會 簽署 為期 合作 意向書 英特爾 今年', '產業 醫療 創獎 微軟 莫德納尋寶時報 資訊 產業 醫療 創獎 微軟 莫德納尋寶 閱讀 全文 上午 時報 台北 醫療 科技展 壓軸 大戲 國家 創獎 今年 大秀 亮點 技術 其中 智齡 科技 精能 醫學 睛航生醫 奇翼 醫電 團隊 可望 爭取 科技業 國際 科技 大廠 合作 投資 機會 另外 微軟 莫德納 宣布 透過 國家 創獎 平台 尋找 策略 夥伴 全球 疫苗 商品 資深 副總裁 表示 連結 台灣 加強 合作 提供 平台 台灣 學研界 共同 合作', '產業 醫療 創獎 微軟 莫德納尋寶時報 台北 醫療 科技展 壓軸 大戲 國家 新創獎 今年 大秀 亮點 技術 其中 智齡 科技 精能 醫學 睛航生 奇翼 醫電 團隊 可望 爭取 科技業 國際 科技 大廠 合作 投資 機會 另外 微軟 莫德納 宣布 透過 國家 創獎 平台 尋找 策略 夥伴 全球 疫苗 商品 資深 副總裁 表示 連結 台灣 加強 合作 提供 平台 台灣 學研界 共同 合作 開發 目標 發展出 對抗 致命病 原菌 疫苗 開發 重點 包括 流感', '在線 投資 發酵 樂見 明年 營運 添動能理財網 在線 投資 發酵 樂見 明年 營運 添動 閱讀 全文 下午 新聞 記者 周瑩慈 報導 迎接 工業 市場 未來 成長 不少 工業 電腦 陸續 展開 投資 調整 事業 佈局 其中 樺漢 動作 頻繁 引入 聯發科 股東 入主 磐儀 樺漢 磐儀 布局 發酵 營運 擁有 良好 成長 動能 其餘 振樺電 凌華 聯想 華碩 友達 鴻海 策略 結盟 供應鏈 生產 製造 產品', '在線 投資 發酵 樂見 明年 營運 添動能新聞 記者 周瑩慈 報導 迎接 工業 市場 未來 成長 不少 工業 電腦 陸續 展開 投資 調整 事業 佈局 其中 樺漢 動作 頻繁 引入 聯發科 股東 入主 磐儀 樺漢 磐儀 看好 布局 發酵 營運 擁有 良好 成長 動能 其餘 樺電 凌華 大廠 聯想 華碩 友達 鴻海 策略 結盟 供應鏈 生產 製造 產品 研發 方面 合作 樺電 聯想 華碩 合作 接單 營益率 表現', '醫療 創獎 微軟 莫德納尋寶工商時 醫療 創獎 微軟 莫德納尋寶 閱讀 全文 杜蕙蓉 台北 報導 上午 醫療 科技展 壓軸 大戲 國家 創獎 今年 大秀 亮點 技術 其中 智齡 科技 精能 醫學 睛航生醫 奇翼 醫電 團隊 可望 爭取 科技業 國際 科技 大廠 合作 投資 機會 另外 微軟 莫德納 宣布 透過 國家 創獎 平台 尋找 策略 夥伴 全球 疫苗 商品 資深 副總裁 表示 連結 台灣 加強 合作 提供 平台 台灣 學研界 共同 合作 開發', '結盟 群架 模式 逐步 落地工商時報 結盟 群架 模式 逐步 落地 閱讀 全文 杜蕙蓉 台北 報導 上午 醫療 科技展 日圓 閉幕 今年 除了 東協醫院 尋找 戰略 夥伴 攜手 進軍 國際 市場 結盟 趨勢 英特爾 結合 華碩 醫揚 台灣 生態系 廠商 參展 大江 基因 佳世達 合作 明年 啟動 細胞 新藥 臨床 開發 宏碁 助攻三 個人 腫瘤 新抗原 篩選 突顯 生技 科技 群架 模式 逐步 落地 去年 生策會 簽署 為期 合作 意向書 英特爾 今年', '產業 醫療 創獎 微軟 莫德納尋寶時報 資訊 產業 醫療 創獎 微軟 莫德納尋寶 閱讀 全文 上午 時報 台北 醫療 科技展 壓軸 大戲 國家 創獎 今年 大秀 亮點 技術 其中 智齡 科技 精能 醫學 睛航生醫 奇翼 醫電 團隊 可望 爭取 科技業 國際 科技 大廠 合作 投資 機會 另外 微軟 莫德納 宣布 透過 國家 創獎 平台 尋找 策略 夥伴 全球 疫苗 商品 資深 副總裁 表示 連結 台灣 加強 合作 提供 平台 台灣 學研界 共同 合作', '在線 投資 發酵 樂見 明年 營運 添動能理財網 在線 投資 發酵 樂見 明年 營運 添動 閱讀 全文 下午 新聞 記者 周瑩慈 報導 迎接 工業 市場 未來 成長 不少 工業 電腦 陸續 展開 投資 調整 事業 佈局 其中 樺漢 動作 頻繁 引入 聯發科 股東 入主 磐儀 樺漢 磐儀 布局 發酵 營運 擁有 良好 成長 動能 其餘 振樺電 凌華 聯想 華碩 友達 鴻海 策略 結盟 供應鏈 生產 製造 產品', '產業 醫療 創獎 微軟 莫德納尋寶時報 台北 醫療 科技展 壓軸 大戲 國家 新創獎 今年 大秀 亮點 技術 其中 智齡 科技 精能 醫學 睛航生 奇翼 醫電 團隊 可望 爭取 科技業 國際 科技 大廠 合作 投資 機會 另外 微軟 莫德納 宣布 透過 國家 創獎 平台 尋找 策略 夥伴 全球 疫苗 商品 資深 副總裁 表示 連結 台灣 加強 合作 提供 平台 台灣 學研界 共同 合作 開發 目標 發展出 對抗 致命病 原菌 疫苗 開發 重點 包括 流感', '在線 投資 發酵 樂見 明年 營運 添動能新聞 記者 周瑩慈 報導 迎接 工業 市場 未來 成長 不少 工業 電腦 陸續 展開 投資 調整 事業 佈局 其中 樺漢 動作 頻繁 引入 聯發科 股東 入主 磐儀 樺漢 磐儀 看好 布局 發酵 營運 擁有 良好 成長 動能 其餘 樺電 凌華 大廠 聯想 華碩 友達 鴻海 策略 結盟 供應鏈 生產 製造 產品 研發 方面 合作 樺電 聯想 華碩 合作 接單 營益率 表現', '情報 上市 投信 買賣 排行標題 投信 買賣 排行 來源 富邦證券 網址 內文 買超 中鋼 開發金 臺企銀 國泰金 南亞 聯強 中興電 瑞昱 大聯大 鴻準 華碩 怡利電 中信金 亞泥 富鼎 東陽 世紀鋼 聯發科 詮欣 矽力 晶碩 富邦金 南電 天鈺 美食 欣興 啟碁 華通 健策 眾達 寶齡 富錦 中租 力智 元大 股息 視陽 愛普 國巨 遠傳 智原 緯穎 順德 元大 台灣 晶技 葡萄王 台積電 台灣 華孚 台塑', '情報 公股銀行 買賣 排行手機 介面 圖片 讀版 以下 資訊 張數 排列 買超 排名 股票 張數 排名 股票 張數 中鋼 華新 元大 滬深 漢翔 國泰 永續 股息 元大 台灣 台泥 開發金 玉山金 聯上 富邦越南 聯電 臺企銀 元太 期元 原油 三商壽 友達 仁寶 國泰金 力積電 長榮航 光寶科 乙盛 中環 中興電 台積電 鴻海 陽明 廣宇 奇偶 建達 富邦 恒生 國企 期街口布蘭 特正 智擎 元晶 元大 美債', '科技 醫療 科技展 登場 東南亞 醫療 集團 挖寶時報 資訊 科技 醫療科技展 登場 東南亞 醫療 集團 挖寶 閱讀 全文 上午 時報 台北 亞太 規模 台灣 醫療科 技展 登場 今年 聚焦 新南 醫院 合作 除了 生策會 東南亞 醫療集團 代表 簽署 合作 備忘錄 總統 蔡英文 表示 近期 法規 預告 鬆綁 台灣 醫院 更多 空間 更加 便利 東南亞 地區 設立 醫院 持續 發揮 台灣 醫療 影響力 目前 國內 醫院 規劃 前進 插旗 地區 鎖定 馬來西亞 泰國 越南和印尼 率先表', '科技 醫療 科技展 登場 東南亞 醫療 集團 挖寶時報 台北 亞太 規模 台灣 醫療科技展 登場 今年 聚焦 新南 向醫院 合作 除了 生策會 東南亞 醫療 集團 代表 簽署 合作 備忘錄 總統 蔡英文 表示 近期 法規 預告 鬆綁 台灣 醫院 更多 空間 更加 便利 東南亞 地區 設立 醫院 持續 發揮 台灣 醫療 影響力 目前 國內 醫院 規劃 前進 插旗 地區 鎖定 馬來西亞 泰國 越南 印尼 率先 表態 中國 附醫 長庚醫院 計劃 馬來西亞 設立 醫院 可能 合資 策略 生策會 會長', '年底 集團 作帳 大轉股萬寶 週刊 年底 集團 作帳 大轉股 閱讀 全文 下午 撰文 張文赫 年終 作帳 行情 投資人 一定 把握 除了 投信 作帳 小型股 之外 集團 作帳 熱鬧 如果 搭配 明年 第一 財報 空窗期 許多 集團 龍頭 股提值 改變 股價 充滿 想像 空間 裕隆 大利 護身 集團 作帳 兇猛 首推 裕隆 集團 裕隆 股價 之內 過去 市場 幾乎 大牛股 今年 搖身 一變 成為 作帳 指標 主要 原因 電動車 旗下 納智', '年底 集團 作帳 大轉股撰文 張文赫 歲末 年終 作帳 行情 投資人 一定 把握 除了 投信 作帳 小型股 之外 集團 作帳 熱鬧 如果 搭配到 明年 第一季 財報 空窗期 許多 集團 龍頭 提值 改變 股價 充滿 想像 空間 裕隆 大利 護身 集團 作帳 兇猛 首推 裕隆 集團 裕隆 股價 過去 市場 幾乎 大牛股 今年 搖身 變成為 作帳 指標 主要 原因 電動車 旗下 納智捷 全新 電動車 接單 預計 明年 裕隆 集團', '選後 投信 持股 大風 族群 回補 積極陳唯泰 選後 投信 持股 大風吹 族群 回補 積極 閱讀 全文 陳唯泰 分析師 下午 陳唯泰 選舉 終於 落幕 除了 藍綠 版圖 更換 之外 投信 最近 動向 原本 持續 買超 轉為 賣超 到底 只是 巧合 還是 因為 投信 真的 因為 藍綠 版圖 更換 他們 持股 比較 明顯 改變 說到 國內 政經 情勢 發展 國內 投資人 一定 國外 投資人 更為 敏感 尤其 外資 主要 著眼 全球 國際 局勢 一定 因為 國內', '選後 投信 持股 大風 族群 回補 積極陳唯泰 選舉 終於 落幕 除了 藍綠 版圖 更換 之外 投信 最近 動向 原本 持續 買超 轉為 賣超 到底 只是 巧合 還是 因為 投信 真的 因為 藍綠 版圖 更換 他們 持股 比較 明顯 改變 說到 國內 政經 情勢 發展 國內 投資人 一定 國外 投資人 更為 敏感 尤其 外資 主要 著眼 全球 國際 局勢 不一定 因為 國內 政黨 版圖 出現 改變 明顯 變動 但是 國內 法人 比較 容易 瞭解 國內 政經 情勢 發展', '醫療 科技展 醫療科技展 參展 外商 英特爾 華碩 生態系 夥伴秀 醫療 科技奇摩 股市 醫療 科技展 參展 外商 英特爾 華碩 生態系 夥伴秀 醫療 科技 閱讀 全文 呂俊儀 財經 特派 記者 下午 台灣 醫療科技展 邁入 第二 通訊 大廠 大秀 智慧 醫療 精準 醫療 布局 成果 半導體 大廠 英特爾 缺席 今年 擴大 展區 參展 外商 英特爾 展位 攜手 開放式 生態系 廠商 展示 採用 旗下 包含 處理器 技術 打造 智慧 醫療 解決 方案 英特爾 表示 生策會 簽署 為期 合作 意向書 台灣 智慧醫', '醫療 科技展 醫療科技展 參展 外商 英特爾 華碩 生態系 夥伴秀 醫療 科技台灣 醫療 科技展 邁入 第二 通訊 大廠 大秀 智慧 醫療 精準 醫療 布局 成果 半導體 大廠 英特爾 缺席 今年 擴大 展區 參展 外商 英特爾 展位 攜手 開放式 生態 廠商 展示 採用 旗下 包含 處理器 技術 打造 智慧 醫療 解決 方案 英特爾 表示 生策會 簽署 為期 四年 合作 意向書 台灣 智慧 醫療 醫界 數位 轉型 今年 擴大 參展 展示 採用 處理器 連接性 先進 技術 端到 解決 方案 成功 建立 醫療 轉型 基礎 藉由 超過', '科技 醫療 科技展 登場 東南亞 醫療 集團 挖寶時報 資訊 科技 醫療科技展 登場 東南亞 醫療 集團 挖寶 閱讀 全文 上午 時報 台北 亞太 規模 台灣 醫療科 技展 登場 今年 聚焦 新南 醫院 合作 除了 生策會 東南亞 醫療集團 代表 簽署 合作 備忘錄 總統 蔡英文 表示 近期 法規 預告 鬆綁 台灣 醫院 更多 空間 更加 便利 東南亞 地區 設立 醫院 持續 發揮 台灣 醫療 影響力 目前 國內 醫院 規劃 前進 插旗 地區 鎖定 馬來西亞 泰國 越南和印尼 率先表', '年底 集團 作帳 大轉股萬寶 週刊 年底 集團 作帳 大轉股 閱讀 全文 下午 撰文 張文赫 年終 作帳 行情 投資人 一定 把握 除了 投信 作帳 小型股 之外 集團 作帳 熱鬧 如果 搭配 明年 第一 財報 空窗期 許多 集團 龍頭 股提值 改變 股價 充滿 想像 空間 裕隆 大利 護身 集團 作帳 兇猛 首推 裕隆 集團 裕隆 股價 之內 過去 市場 幾乎 大牛股 今年 搖身 一變 成為 作帳 指標 主要 原因 電動車 旗下 納智', '選後 投信 持股 大風 族群 回補 積極陳唯泰 選後 投信 持股 大風吹 族群 回補 積極 閱讀 全文 陳唯泰 分析師 下午 陳唯泰 選舉 終於 落幕 除了 藍綠 版圖 更換 之外 投信 最近 動向 原本 持續 買超 轉為 賣超 到底 只是 巧合 還是 因為 投信 真的 因為 藍綠 版圖 更換 他們 持股 比較 明顯 改變 說到 國內 政經 情勢 發展 國內 投資人 一定 國外 投資人 更為 敏感 尤其 外資 主要 著眼 全球 國際 局勢 一定 因為 國內', '醫療 科技展 醫療科技展 參展 外商 英特爾 華碩 生態系 夥伴秀 醫療 科技奇摩 股市 醫療 科技展 參展 外商 英特爾 華碩 生態系 夥伴秀 醫療 科技 閱讀 全文 呂俊儀 財經 特派 記者 下午 台灣 醫療科技展 邁入 第二 通訊 大廠 大秀 智慧 醫療 精準 醫療 布局 成果 半導體 大廠 英特爾 缺席 今年 擴大 展區 參展 外商 英特爾 展位 攜手 開放式 生態系 廠商 展示 採用 旗下 包含 處理器 技術 打造 智慧 醫療 解決 方案 英特爾 表示 生策會 簽署 為期 合作 意向書 台灣 智慧醫', '科技 醫療 科技展 登場 東南亞 醫療 集團 挖寶時報 台北 亞太 規模 台灣 醫療科技展 登場 今年 聚焦 新南 向醫院 合作 除了 生策會 東南亞 醫療 集團 代表 簽署 合作 備忘錄 總統 蔡英文 表示 近期 法規 預告 鬆綁 台灣 醫院 更多 空間 更加 便利 東南亞 地區 設立 醫院 持續 發揮 台灣 醫療 影響力 目前 國內 醫院 規劃 前進 插旗 地區 鎖定 馬來西亞 泰國 越南 印尼 率先 表態 中國 附醫 長庚醫院 計劃 馬來西亞 設立 醫院 可能 合資 策略 生策會 會長', '年底 集團 作帳 大轉股撰文 張文赫 歲末 年終 作帳 行情 投資人 一定 把握 除了 投信 作帳 小型股 之外 集團 作帳 熱鬧 如果 搭配到 明年 第一季 財報 空窗期 許多 集團 龍頭 提值 改變 股價 充滿 想像 空間 裕隆 大利 護身 集團 作帳 兇猛 首推 裕隆 集團 裕隆 股價 過去 市場 幾乎 大牛股 今年 搖身 變成為 作帳 指標 主要 原因 電動車 旗下 納智捷 全新 電動車 接單 預計 明年 裕隆 集團', '選後 投信 持股 大風 族群 回補 積極陳唯泰 選舉 終於 落幕 除了 藍綠 版圖 更換 之外 投信 最近 動向 原本 持續 買超 轉為 賣超 到底 只是 巧合 還是 因為 投信 真的 因為 藍綠 版圖 更換 他們 持股 比較 明顯 改變 說到 國內 政經 情勢 發展 國內 投資人 一定 國外 投資人 更為 敏感 尤其 外資 主要 著眼 全球 國際 局勢 不一定 因為 國內 政黨 版圖 出現 改變 明顯 變動 但是 國內 法人 比較 容易 瞭解 國內 政經 情勢 發展', '醫療 科技展 醫療科技展 參展 外商 英特爾 華碩 生態系 夥伴秀 醫療 科技台灣 醫療 科技展 邁入 第二 通訊 大廠 大秀 智慧 醫療 精準 醫療 布局 成果 半導體 大廠 英特爾 缺席 今年 擴大 展區 參展 外商 英特爾 展位 攜手 開放式 生態 廠商 展示 採用 旗下 包含 處理器 技術 打造 智慧 醫療 解決 方案 英特爾 表示 生策會 簽署 為期 四年 合作 意向書 台灣 智慧 醫療 醫界 數位 轉型 今年 擴大 參展 展示 採用 處理器 連接性 先進 技術 端到 解決 方案 成功 建立 醫療 轉型 基礎 藉由 超過', '情報 上市 投信 買賣 排行標題 投信 買賣 排行 來源 富邦證券 網址 內文 買超 開發金 中鋼 元大 滬深 國泰金 中信金 南亞 欣興 聯強 智原 瑞昱 元大金 南亞科 旺宏 華碩 景碩 新唐 聯大 裕民 宏碁 聯發科 國巨 鈺齊 台塑 中興電 強茂 遠傳 兆豐金 南電 順德 美食 晶碩 富邦金 台光電 上緯 投控 台積電 全新 致茂 瑞儀 晶睿 眾達 華孚 愛普 上銀 中租 裕隆 統一 台達電 世芯 華新', '情報 公股銀行 買賣 排行手機 介面 圖片 讀版 以下 資訊 張數 排列 買超 排名 股票 張數 排名 股票 張數 臺企銀 元大 台灣 富邦 台灣 半導體 元大 滬深 國泰金 日月光 投控 宏達電 期街口 布蘭 特正 中石化 國泰智能 電動車 英業達 群創 國泰 永續 股息 彰銀 長榮航 力積電 華航 元大金 建達 中環 玉山金 台積電 元大 美債 寶成 中華電 聯上 原油 香港 中信金 緯創 仁寶 金寶 鈺創 友達', '鴻海 模式 共產 國家 有用日子 鴻海 鄭州廠 暴動 中共省 市政府 起來 鴻海 排除 萬難 河南省 吃穿 鄭州廠 鴻海 鄭州 撐住 訂單 清零 台商 離開 中國 看來 全部 離開 中國 應該 除了 語言 文化 共產黨 極權 統治 符合 生產 流程 管理 手段 中國 富士康 富士康 成就 中國 幫水 全球 中國 同時 台商 是否 大量 代工 生產 走到 盡頭 蘋果鏈 中化 鴻海 清奈廠 暴動 緯創傳 億售 印度廠 外媒', '掃瞄 國內 消息 台股 反撲 外資 歲末 行情時報 資訊 掃瞄 國內 消息 台股 反撲 外資 歲末 行情 閱讀 全文 上午 時報 台北 國內 消息 台股 上演 猛虎 反撲 行情 大漲 創史 第二 漲點 漲幅 改寫 年半 新高 此外 上市 市值 單月 增加 兆元 外資 買超 歷史 第五 權王 台積電 市值 激增 兆元 締造 亮點 堪稱 企業界 關切 明年 電力 供應 議題 台積電 董事長 劉德音 直言 電力 供應 政府', '掃瞄 國內 消息 台股 反撲 外資 歲末 行情時報 台北 國內 消息 台股 上演 猛虎 反撲 行情 大漲 創史 第二 漲點 漲幅 改寫 年半 新高 此外 上市 市值 增加 兆元 外資 買超 歷史 第五 權王 台積電 飆漲 市值 激增 兆元 締造 亮點 堪稱 企業界 關切 明年 電力 供應 議題 台積電 董事長 劉德音 直言 電力 供應 政府 解決 課題 而且 關心 三三會 理事長 林伯豐 呼應 指出 想要 穩定', '今日 焦點 新聞 大漲 台股 迎作 行情時報 資訊 今日 焦點 新聞 大漲 台股 迎作 行情 閱讀 全文 上午 時報 台北 今日 焦點 新聞 國內 頭條 權王發威 台股 反撲 工商時報 外資 歲末 行情 工商 時報 台幣 飆升 年來 單月 升幅 工商時報 白宮 證實 拜登 出席 台積電 上機 典禮 工商時報 緯創 印度 工商時報 陳其邁 表態 不會 參選 民進黨 主席 中國時報 大漲 台股 迎作 行情 經濟日報 高階 代工 和碩 首度', '今日 焦點 新聞 大漲 台股 迎作 行情時報 台北 今日 焦點 新聞 國內 頭條 權王 發威 台股 反撲 工商時報 外資 歲末 行情 工商時報 台幣 飆升 年來 單月 升幅 工商時報 白宮 證實 拜登 出席 台積電 上機 典禮 工商時報 緯創 印度 工商時報 陳其邁 表態 不會 參選 民進黨 主席 中國時報 大漲 台股 迎作 行情 經濟日報 高階 代工 和碩 首度 接單 經濟日報 中國 市況 預期 手機 供應鏈 凜冬 電子 時報 晶圓議', '英特爾 參與 台灣 醫療科技展 參展 外商 開放式 生態系 加速 醫療財訊 快報 英特爾 參與 台灣 醫療科 技展 參展 外商 開放式 生態系 加速 醫療 閱讀 全文 上午 財訊 快報 記者 李純君 報導 英特爾 生策會 簽署 為期 合作 意向書 承諾 助力 台灣 智慧 醫療 以及 醫界 數位 轉型 英特爾 今年 擴大 參與 台灣 醫療科 技展 攜手 眾多 開放式 生態系 廠商 會場 展示 採用 處理器 連接性 先進 技術 打造 智慧 醫療 端到 解決 方案 成功 建立 醫療 轉型 基礎 英特爾 耕耘 醫療 健康', '英特爾 參與 台灣 醫療科技展 參展 外商 開放式 生態系 加速 醫療財訊 快報 記者 李純君 報導 英特爾 生策會 簽署 為期 合作 意向書 承諾 助力 台灣 智慧 醫療 以及 醫界 數位 轉型 英特爾 今年 擴大 參與 台灣 醫療科 技展 攜手 眾多 開放式 生態系 廠商 會場 展示 採用 處理器 連接性 先進 技術 打造 智慧 醫療 端到 解決 方案 成功 建立 醫療 轉型 基礎 英特爾 耕耘 醫療 健康 照護 產業 今天 下午 登場 亞洲 醫療科技 創新 論壇 英特爾 資深 副總裁 網路 邊緣 運算 事業群 總經理', '產業 台灣 醫療 科技展 揭幕 英特爾 擴大 參與時報 資訊 產業 台灣 醫療科技展 揭幕 英特爾 擴大 參與 閱讀 全文 上午 時報 記者 林資傑 台北 報導 台灣 醫療科技展 南港 展覽館 登場 英特爾 今年 擴大 參與 攜手 眾多 開放式 生態系 廠商 展示 採用 處理器 連接性 先進 技術 打造 智慧 醫療 端到 解決 方案 同時 英特爾 藉由 超過 場次 媒合 會議 台灣 電子資 通訊 醫療院 合作 成功 案例 解決 方案 推廣給 包括 來自 印度 阿拉伯 聯合 公國', '產業 台灣 醫療 科技展 揭幕 英特爾 擴大 參與時報 記者 林資傑 台北 報導 台灣 醫療科 技展 南港 展覽館 登場 英特爾 今年 擴大 參與 攜手 眾多 開放式 生態系 廠商 展示 採用 處理器 連接性 先進 技術 打造 智慧 醫療 端到 解決 方案 同時 英特爾 藉由 超過 場次 媒合 會議 台灣 電子 通訊 醫療院 合作 成功 案例 解決 方案 推廣 包括 來自 印度 阿拉伯 聯合 公國 越南 醫界 代表 促進 國際 商業 交流 合作 強化 全球 布局 策略 英特爾 耕耘', '醫療科技展 登場 生策會 東協醫院 簽署 合作 意向書成為 亞太 規模 台灣 醫療科技展 登場 總統 蔡英文 表示 政府 積極 建構 健康 產業 戰略 聯盟 透過 台美 合作 協議 合攻 精準 醫療 另外 生策會 東協醫院 院長 簽署 合作 意向書 加速 智慧 醫院 方案 輸出 南向 蔡英文 表示 世代 健康 產業 發展 政府 民間 重要 平台 國際 展現 生技 數位 科技 領域 結果 近年 全球 受到 疫情 衝擊 不過 生醫 產業 全球 布局 沒有 停下 腳步 去年 政府 提出 精準 健康 戰略 產業 方案 透過 部會 整合 提供', '產業 醫療科技展 登場 生策會 東協醫院 簽署 合作 意向書時報 資訊 產業 醫療科技展 登場 生策會 東協醫院 簽署 合作 意向書 閱讀 全文 下午 時報 台北 成為 亞太 規模 台灣 醫療科技展 登場 總統 蔡英文 表示 政府 積極 建構 健康 產業 戰略 聯盟 透過 台美 合作 協議 合攻 精準 醫療 另外 生策會 東協醫院 院長 簽署 合作 意向書 方案 輸出 南向 蔡英文 表示 世代 健康 產業 發展 政府 民間 重要 平台 國際 展現 生技 數位 科技 領域 結果 近年', '產業 醫療科技展 登場 生策會 東協醫院 簽署 合作 意向書時報 台北 成為 亞太 規模 台灣 醫療科技展 登場 總統 蔡英文 表示 政府 積極 建構 健康 產業 戰略 聯盟 透過 台美 合作 協議 合攻 精準 醫療 另外 生策會 東協醫院 院長 簽署 合作 意向書 加速 智慧 醫院 方案 輸出 南向 蔡英文 表示 世代 健康 產業 發展 政府 民間 重要 平台 國際 展現 生技 數位 科技 領域 結果 近年 全球 受到 疫情 衝擊 不過 生醫 產業 全球 布局 沒有 停下 腳步 去年 政府 提出 精準 健康 戰略 產業 方案 透過', '竹科 管理 局長 看好 生醫 產業 竹科 新亮點 第三 生技 大樓 預計 完工財訊 竹科 管理局長 看好 生醫 產業 竹科 新亮點 第三 生技 大樓 預計 完工 閱讀 全文 下午 財訊 快報 記者 李純君 報導 新竹科學 園區 管理局 局長 王永壯 今日 出席 台灣 療科 技展 提到 生醫 產業 成為 近年 竹科 成長 新亮點 廠商 深耕 投入 研發 成果 逐漸 浮現 目前 核准 生醫 廠商 新竹 生醫 園區 興建 第三生技 大樓 預計 第四季 完工 提供 廠商 進駐 竹科 管理局 提到 生醫 產業 近年 竹科 成長 新亮點', '竹科 管理 局長 看好 生醫 產業 竹科 新亮點 第三 生技 大樓 預計 完工財訊 快報 記者 李純君 報導 新竹 科學 園區 管理局 局長 王永壯 今日 出席 台灣 醫療科 技展 提到 生醫 產業 成為 近年 竹科 成長 亮點 廠商 深耕 投入 研發 成果 逐漸 浮現 目前 核准 生醫 廠商 新竹 生醫園區 興建中 第三 生技 大樓 預計 第四季 完工 提供 廠商 進駐 竹科 管理局 提到 生醫 產業 近年 竹科 成長 亮點 營業額 新台幣 大幅 成長 廠商 深耕 投入 研發 成果 逐漸 浮現 目前 核准 生醫 廠商', '竹科生 前景 看俏 醫療展 廠商 新高中時 財經 即時 竹科 前景 看俏 醫療展 廠商 新高 閱讀 全文 新竹 報導 下午 竹科管理局 年度 台灣 醫療科技展 邀請 廠商 設立 科學 園區 主題 共振 臺灣 醫材 產業 聚落 邁向 精準 健康 新紀元 主軸 南港 展覽館 展示 竹科 廠商 融合資 通訊 生醫 技術 研發 成果 瞄準 解封 全球 醫療 趨勢 搶攻 新興 商機 竹科 管理局 王永壯 局長 出席 開幕式 廠商 產品 技術 表示 肯定', '掃瞄 國內 消息 台股 反撲 外資 歲末 行情時報 資訊 掃瞄 國內 消息 台股 反撲 外資 歲末 行情 閱讀 全文 上午 時報 台北 國內 消息 台股 上演 猛虎 反撲 行情 大漲 創史 第二 漲點 漲幅 改寫 年半 新高 此外 上市 市值 單月 增加 兆元 外資 買超 歷史 第五 權王 台積電 市值 激增 兆元 締造 亮點 堪稱 企業界 關切 明年 電力 供應 議題 台積電 董事長 劉德音 直言 電力 供應 政府', '今日 焦點 新聞 大漲 台股 迎作 行情時報 資訊 今日 焦點 新聞 大漲 台股 迎作 行情 閱讀 全文 上午 時報 台北 今日 焦點 新聞 國內 頭條 權王發威 台股 反撲 工商時報 外資 歲末 行情 工商 時報 台幣 飆升 年來 單月 升幅 工商時報 白宮 證實 拜登 出席 台積電 上機 典禮 工商時報 緯創 印度 工商時報 陳其邁 表態 不會 參選 民進黨 主席 中國時報 大漲 台股 迎作 行情 經濟日報 高階 代工 和碩 首度', '英特爾 參與 台灣 醫療科技展 參展 外商 開放式 生態系 加速 醫療財訊 快報 英特爾 參與 台灣 醫療科 技展 參展 外商 開放式 生態系 加速 醫療 閱讀 全文 上午 財訊 快報 記者 李純君 報導 英特爾 生策會 簽署 為期 合作 意向書 承諾 助力 台灣 智慧 醫療 以及 醫界 數位 轉型 英特爾 今年 擴大 參與 台灣 醫療科 技展 攜手 眾多 開放式 生態系 廠商 會場 展示 採用 處理器 連接性 先進 技術 打造 智慧 醫療 端到 解決 方案 成功 建立 醫療 轉型 基礎 英特爾 耕耘 醫療 健康', '產業 台灣 醫療 科技展 揭幕 英特爾 擴大 參與時報 資訊 產業 台灣 醫療科技展 揭幕 英特爾 擴大 參與 閱讀 全文 上午 時報 記者 林資傑 台北 報導 台灣 醫療科技展 南港 展覽館 登場 英特爾 今年 擴大 參與 攜手 眾多 開放式 生態系 廠商 展示 採用 處理器 連接性 先進 技術 打造 智慧 醫療 端到 解決 方案 同時 英特爾 藉由 超過 場次 媒合 會議 台灣 電子資 通訊 醫療院 合作 成功 案例 解決 方案 推廣給 包括 來自 印度 阿拉伯 聯合 公國', '產業 醫療科技展 登場 生策會 東協醫院 簽署 合作 意向書時報 資訊 產業 醫療科技展 登場 生策會 東協醫院 簽署 合作 意向書 閱讀 全文 下午 時報 台北 成為 亞太 規模 台灣 醫療科技展 登場 總統 蔡英文 表示 政府 積極 建構 健康 產業 戰略 聯盟 透過 台美 合作 協議 合攻 精準 醫療 另外 生策會 東協醫院 院長 簽署 合作 意向書 方案 輸出 南向 蔡英文 表示 世代 健康 產業 發展 政府 民間 重要 平台 國際 展現 生技 數位 科技 領域 結果 近年', '竹科 管理 局長 看好 生醫 產業 竹科 新亮點 第三 生技 大樓 預計 完工財訊 竹科 管理局長 看好 生醫 產業 竹科 新亮點 第三 生技 大樓 預計 完工 閱讀 全文 下午 財訊 快報 記者 李純君 報導 新竹科學 園區 管理局 局長 王永壯 今日 出席 台灣 療科 技展 提到 生醫 產業 成為 近年 竹科 成長 新亮點 廠商 深耕 投入 研發 成果 逐漸 浮現 目前 核准 生醫 廠商 新竹 生醫 園區 興建 第三生技 大樓 預計 第四季 完工 提供 廠商 進駐 竹科 管理局 提到 生醫 產業 近年 竹科 成長 新亮點', '竹科生 前景 看俏 醫療展 廠商 新高中時 財經 即時 竹科 前景 看俏 醫療展 廠商 新高 閱讀 全文 新竹 報導 下午 竹科管理局 年度 台灣 醫療科技展 邀請 廠商 設立 科學 園區 主題 共振 臺灣 醫材 產業 聚落 邁向 精準 健康 新紀元 主軸 南港 展覽館 展示 竹科 廠商 融合資 通訊 生醫 技術 研發 成果 瞄準 解封 全球 醫療 趨勢 搶攻 新興 商機 竹科 管理局 王永壯 局長 出席 開幕式 廠商 產品 技術 表示 肯定', '掃瞄 國內 消息 台股 反撲 外資 歲末 行情時報 台北 國內 消息 台股 上演 猛虎 反撲 行情 大漲 創史 第二 漲點 漲幅 改寫 年半 新高 此外 上市 市值 增加 兆元 外資 買超 歷史 第五 權王 台積電 飆漲 市值 激增 兆元 締造 亮點 堪稱 企業界 關切 明年 電力 供應 議題 台積電 董事長 劉德音 直言 電力 供應 政府 解決 課題 而且 關心 三三會 理事長 林伯豐 呼應 指出 想要 穩定', '今日 焦點 新聞 大漲 台股 迎作 行情時報 台北 今日 焦點 新聞 國內 頭條 權王 發威 台股 反撲 工商時報 外資 歲末 行情 工商時報 台幣 飆升 年來 單月 升幅 工商時報 白宮 證實 拜登 出席 台積電 上機 典禮 工商時報 緯創 印度 工商時報 陳其邁 表態 不會 參選 民進黨 主席 中國時報 大漲 台股 迎作 行情 經濟日報 高階 代工 和碩 首度 接單 經濟日報 中國 市況 預期 手機 供應鏈 凜冬 電子 時報 晶圓議', '英特爾 參與 台灣 醫療科技展 參展 外商 開放式 生態系 加速 醫療財訊 快報 記者 李純君 報導 英特爾 生策會 簽署 為期 合作 意向書 承諾 助力 台灣 智慧 醫療 以及 醫界 數位 轉型 英特爾 今年 擴大 參與 台灣 醫療科 技展 攜手 眾多 開放式 生態系 廠商 會場 展示 採用 處理器 連接性 先進 技術 打造 智慧 醫療 端到 解決 方案 成功 建立 醫療 轉型 基礎 英特爾 耕耘 醫療 健康 照護 產業 今天 下午 登場 亞洲 醫療科技 創新 論壇 英特爾 資深 副總裁 網路 邊緣 運算 事業群 總經理', '產業 台灣 醫療 科技展 揭幕 英特爾 擴大 參與時報 記者 林資傑 台北 報導 台灣 醫療科 技展 南港 展覽館 登場 英特爾 今年 擴大 參與 攜手 眾多 開放式 生態系 廠商 展示 採用 處理器 連接性 先進 技術 打造 智慧 醫療 端到 解決 方案 同時 英特爾 藉由 超過 場次 媒合 會議 台灣 電子 通訊 醫療院 合作 成功 案例 解決 方案 推廣 包括 來自 印度 阿拉伯 聯合 公國 越南 醫界 代表 促進 國際 商業 交流 合作 強化 全球 布局 策略 英特爾 耕耘', '醫療科技展 登場 生策會 東協醫院 簽署 合作 意向書成為 亞太 規模 台灣 醫療科技展 登場 總統 蔡英文 表示 政府 積極 建構 健康 產業 戰略 聯盟 透過 台美 合作 協議 合攻 精準 醫療 另外 生策會 東協醫院 院長 簽署 合作 意向書 加速 智慧 醫院 方案 輸出 南向 蔡英文 表示 世代 健康 產業 發展 政府 民間 重要 平台 國際 展現 生技 數位 科技 領域 結果 近年 全球 受到 疫情 衝擊 不過 生醫 產業 全球 布局 沒有 停下 腳步 去年 政府 提出 精準 健康 戰略 產業 方案 透過 部會 整合 提供', '產業 醫療科技展 登場 生策會 東協醫院 簽署 合作 意向書時報 台北 成為 亞太 規模 台灣 醫療科技展 登場 總統 蔡英文 表示 政府 積極 建構 健康 產業 戰略 聯盟 透過 台美 合作 協議 合攻 精準 醫療 另外 生策會 東協醫院 院長 簽署 合作 意向書 加速 智慧 醫院 方案 輸出 南向 蔡英文 表示 世代 健康 產業 發展 政府 民間 重要 平台 國際 展現 生技 數位 科技 領域 結果 近年 全球 受到 疫情 衝擊 不過 生醫 產業 全球 布局 沒有 停下 腳步 去年 政府 提出 精準 健康 戰略 產業 方案 透過', '竹科 管理 局長 看好 生醫 產業 竹科 新亮點 第三 生技 大樓 預計 完工財訊 快報 記者 李純君 報導 新竹 科學 園區 管理局 局長 王永壯 今日 出席 台灣 醫療科 技展 提到 生醫 產業 成為 近年 竹科 成長 亮點 廠商 深耕 投入 研發 成果 逐漸 浮現 目前 核准 生醫 廠商 新竹 生醫園區 興建中 第三 生技 大樓 預計 第四季 完工 提供 廠商 進駐 竹科 管理局 提到 生醫 產業 近年 竹科 成長 亮點 營業額 新台幣 大幅 成長 廠商 深耕 投入 研發 成果 逐漸 浮現 目前 核准 生醫 廠商', '情報 上市 外資 買賣 排行標題 外資 買賣 排行 來源 台灣 證交所 網址 內文 買超 元大 滬深 永豐金 長榮 嘉聯益 長榮航 台玻 第一 富發 新光金 華航 力積電 富邦 恒生 國企 中信中國 股息 農林 慧洋 上海 商銀 南亞 裕民 康舒 開發金 中信中國 群創 聯邦銀 合庫金 兆豐金 毅嘉 中信金 臻鼎 中石化 聚陽 三商壽 富邦 証正 奇鋐 旺宏 遠東銀 中信電池 儲能 台郡 香港 華南金 中工 遠東新 瀚宇博', '高雄 打造 亞灣 企業 總部 旗艦 聚落 國內 金控 電子 五哥 到齊中時 財經 即時 高雄 打造 亞灣 企業 總部 旗艦 聚落 國內 金控 電子 五哥 閱讀 全文 顏瑞田 高雄 報導 下午 高雄 聯手 中央 推動 亞灣 創新 園區 吸引 國內外 大廠 新創 進駐 創造 千億 投資 就業 機會 高市府 宣布 啟動 亞灣 計畫 國內 金控 電子 五哥 表達 高度 關注 興趣 亞灣 盤點 亞灣 現有 廣達 公頃 大型 水岸 基地 推動 國際級 企業 進駐 設置 總部 研發 基地 打造 國際 研訓', '華新 本業 獲利 可望 回到 水準 投資 鎳礦 明年 陸續 貢獻 業績財訊 快報 華新 本業 獲利 可望 回到 水準 投資 鎳礦 明年 陸續 貢獻 業績 閱讀 全文 下午 財訊 快報 記者 戴海茜 報導 華新 下午 舉行 法說會 總經理 潘文虎 指出 預計 第四 本業 獲利 第三 機會 回到 第二 水準 資源 事業 投資 華新 掌控 生鐵 冰鎳 年產 達到 投資 義大利 下季 開始 挹注 獲利 煙台 軋鋼廠 明年 第三季 量產 華新 第三季 受惠 處分 業外 挹注 推升 獲利 亮眼 不過 單季 營業 淨利', '公告 董事會 決議 公司 緯成 資產 管理 公司 增資中央社 財經 公告 董事會 決議 公司 緯成 資產 管理 公司 增資 閱讀 全文 中央社 下午 公司 名稱 緯創 董事會 決議 公司 緯成 資產 管理 公司 增資 發言人 石慶堂 名稱 性質 特別 股者 標明 特別 約定 發行 條件 股息率 緯成 資產 管理 公司 普通股 事實 發生日 交易 數量 單位 價格 交易 總金額 交易 金額 新台幣 交易 相對人 公司', '公告 長榮代子 公司 取得 股權中央社 財經 公告 長榮 代子 公司 取得 股權 閱讀 全文 中央社 上午 公司 名稱 長榮 代子 公司 取得 股權 發言人 謝惠全 名稱 性質 特別 股者 標明 特別股 約定 發行 條件 股息率 股權 事實 發生 交易 數量 單位 價格 交易 總金額 交易 數量 適用 單位 價格 適用 交易 總金額 交易 相對人 公司 關係 交易 相對人 自然人 公司 關係人', '緯創 增逾中央社 財經 緯創 增逾 閱讀 全文 中央社 下午 中央社 記者 江明晏 台北 日電 代工 大廠 緯創 今年 表現 優於 中國大陸 立訊 精密 股票 評價 拖累 淨利 季減 不過 去年 基期 年增 單季 純益 緯創 今天 召開 董事會 通過 財報 緯創 合併 營收 新台幣 營業 淨利 稅前 淨利 淨利 累計', '台股 重返 萬三 外資 持續 提款 權值股中央社 財經 台股 重返 萬三 外資 持續 提款 權值股 閱讀 全文 中央社 下午 中央社 記者 韓婷婷 台北 日電 台股 重返 萬三 關卡 外資 依舊 賣方 新台幣 鴻海 台積電 權值股 再度 外資 提款 台股 今天 收在 成交值 新台幣 自營商 買超 投信 買超 外資 陸資 法人 合計 外資 今天 鴻海 其次 華新 台積電 張數 收斂', '華新 資源 事業 恢復 水準中央社 財經 資源 事業 恢復 水準 閱讀 全文 中央社 下午 中央社 記者 潘智義 台北 電線 電纜 不銹鋼廠 華新麗華 總經理 潘文虎 今天 法人 說明會 表示 資源 事業 營運 可望 恢復到 正常 水準 華新麗華 今天 公布 財務 報告 累計 營收 淨額 新台幣 營業 毛利 營業 利益約 稅後 純益 純益 潘文虎 解釋', '高雄 打造 亞灣 企業 總部 旗艦 聚落 國內 金控 電子 五哥 到齊中時 財經 即時 高雄 打造 亞灣 企業 總部 旗艦 聚落 國內 金控 電子 五哥 閱讀 全文 顏瑞田 高雄 報導 下午 高雄 聯手 中央 推動 亞灣 創新 園區 吸引 國內外 大廠 新創 進駐 創造 千億 投資 就業 機會 高市府 宣布 啟動 亞灣 計畫 國內 金控 電子 五哥 表達 高度 關注 興趣 亞灣 盤點 亞灣 現有 廣達 公頃 大型 水岸 基地 推動 國際級 企業 進駐 設置 總部 研發 基地 打造 國際 研訓', '華新 本業 獲利 可望 回到 水準 投資 鎳礦 明年 陸續 貢獻 業績財訊 快報 華新 本業 獲利 可望 回到 水準 投資 鎳礦 明年 陸續 貢獻 業績 閱讀 全文 下午 財訊 快報 記者 戴海茜 報導 華新 下午 舉行 法說會 總經理 潘文虎 指出 預計 第四 本業 獲利 第三 機會 回到 第二 水準 資源 事業 投資 華新 掌控 生鐵 冰鎳 年產 達到 投資 義大利 下季 開始 挹注 獲利 煙台 軋鋼廠 明年 第三季 量產 華新 第三季 受惠 處分 業外 挹注 推升 獲利 亮眼 不過 單季 營業 淨利', '公告 董事會 決議 公司 緯成 資產 管理 公司 增資中央社 財經 公告 董事會 決議 公司 緯成 資產 管理 公司 增資 閱讀 全文 中央社 下午 公司 名稱 緯創 董事會 決議 公司 緯成 資產 管理 公司 增資 發言人 石慶堂 名稱 性質 特別 股者 標明 特別 約定 發行 條件 股息率 緯成 資產 管理 公司 普通股 事實 發生日 交易 數量 單位 價格 交易 總金額 交易 金額 新台幣 交易 相對人 公司', '公告 長榮代子 公司 取得 股權中央社 財經 公告 長榮 代子 公司 取得 股權 閱讀 全文 中央社 上午 公司 名稱 長榮 代子 公司 取得 股權 發言人 謝惠全 名稱 性質 特別 股者 標明 特別股 約定 發行 條件 股息率 股權 事實 發生 交易 數量 單位 價格 交易 總金額 交易 數量 適用 單位 價格 適用 交易 總金額 交易 相對人 公司 關係 交易 相對人 自然人 公司 關係人', '緯創 增逾中央社 財經 緯創 增逾 閱讀 全文 中央社 下午 中央社 記者 江明晏 台北 日電 代工 大廠 緯創 今年 表現 優於 中國大陸 立訊 精密 股票 評價 拖累 淨利 季減 不過 去年 基期 年增 單季 純益 緯創 今天 召開 董事會 通過 財報 緯創 合併 營收 新台幣 營業 淨利 稅前 淨利 淨利 累計', '台股 重返 萬三 外資 持續 提款 權值股中央社 財經 台股 重返 萬三 外資 持續 提款 權值股 閱讀 全文 中央社 下午 中央社 記者 韓婷婷 台北 日電 台股 重返 萬三 關卡 外資 依舊 賣方 新台幣 鴻海 台積電 權值股 再度 外資 提款 台股 今天 收在 成交值 新台幣 自營商 買超 投信 買超 外資 陸資 法人 合計 外資 今天 鴻海 其次 華新 台積電 張數 收斂', '華新 資源 事業 恢復 水準中央社 財經 資源 事業 恢復 水準 閱讀 全文 中央社 下午 中央社 記者 潘智義 台北 電線 電纜 不銹鋼廠 華新麗華 總經理 潘文虎 今天 法人 說明會 表示 資源 事業 營運 可望 恢復到 正常 水準 華新麗華 今天 公布 財務 報告 累計 營收 淨額 新台幣 營業 毛利 營業 利益約 稅後 純益 純益 潘文虎 解釋', '情報 上市 投信 買賣 排行標題 投信 買賣 排行 來源 富邦證券 網址 內文 買超 聯電 光寶科 技嘉 仁寶 永豐金 英業達 開發金 台泥 元大金 微星 宏碁 兆豐金 中信金 遠東 第一 南電 新唐 光罩 緯穎 大聯大 國泰金 上海商銀 富邦金 國巨 世芯 聯強 廣達 台光電 立積 南亞 創意 南亞科 聯茂 統一 同欣電 可成 中華電 台灣 友達 富邦媒 奇鋐 健策 元大 台灣 中租 晶心科 強茂 華碩', '情報 公股銀行 買賣 排行手機 介面 圖片 讀版 以下 資訊 張數 排列 買超 排名 股票 張數 排名 股票 張數 元大 台灣 聯益 鴻海 富邦 台積電 欣興 國泰 台灣 群創 元大 滬深 臺企銀 國泰 永續 股息 威盛 元大金 陽明 元大 股息 國泰金 日月光 投控 元大 元大 南亞科 長榮航 緯創 富邦公司 治理 富邦越南 中鋼 金寶 中信中國 聯電 富邦 恒生 國企 可成 國泰 臺灣 加權 兆豐金', '情報 上市 投信 買賣 排行標題 投信 買賣 排行 來源 富邦證券 網址 內文 買超 台玻 友達 晶睿 永豐金 開發金 新唐 仁寶 中信金 英業達 兆豐金 元大金 台泥 遠東 光寶科 第一 鴻海 欣興 國泰金 富邦金 群創 宏碁 台積電 健鼎 大聯大 眾達 緯穎 健策 聯發科 南亞科 聯茂 台光電 華新 雄獅 聯強 同欣電 元大 股息 可成 世芯 南亞 微星 台塑 豐泰 元大台灣 威強電 盛達 台化 強茂 振樺電 高力', '情報 上市 外資 買賣 排行標題 外資 買賣 排行 來源 台灣證交所 網址 內文 買超 群創 力積電 友達 景碩 元大 滬深 陽明 嘉聯益 台郡 國票金 宏碁 華邦電 台達電 中鋼 國泰智能 電動車 南電 中鴻 富邦 恒生 國企 中石化 台積電 富邦 証正 瑞儀 泰金寶 臻鼎 聯電 元大 台灣 晶彩科 國泰 台灣 國光生 國泰金 環科 金像電 統一 富時 動產 京城銀 美時 華通 欣興 鈺德 華晶科 慧洋 彩晶 中信 關鍵 半導體', '情報 公股銀行 買賣 排行手機 介面 圖片 讀版 以下 資訊 張數 排列 買超 排名 股票 張數 排名 股票 張數 國泰 永續 股息 元大 台灣 原油 群創 兆豐金 元大 滬深 遠傳 聯電 華新 元大 元大 股息 友達 瀚宇博 富邦 中華電 嘉聯益 國泰全球 品牌 國泰金 中信金 力積電 鴻海 富邦 恒生 國企 群益 道瓊 美國 地產 國泰 美國 道瓊 永豐金 台積電 臺企銀 聯茂 第一 宏碁 中興電 富邦 証正', '營建股 宏普 內湖 舊宗段 商辦時報 資訊 營建股 宏普 內湖 舊宗段 商辦 閱讀 全文 上午 時報 記者 郭鴻慧 台北 報導 宏普 內湖 舊宗段 商辦 賣出 預計 處分 利潤率 落在 左右 之間 宏普 內湖 舊宗段 商辦 基地 預計 興建 地下 地上 商辦 出售 面積 買方 投資 公司戶 宏普建設 董事會 今天 通過 財報 純益 純益 長期 以來 內湖 科學 園區 科技廠 交易 熱絡 第一 太平戴維斯 統計', '林憲銘 新創 合作 掌握 後天 機會 緯創 垂直 加速器 新創財訊 快報 林憲銘 新創 合作 掌握 後天 機會 緯創 垂直 加速器 新創 閱讀 全文 下午 財訊 快報 記者 王宜弘 報導 緯創 新創 旗下 緯創 垂直 加速器 邁入 第四 緯創 表示 新創 加入 第四 招募 據悉 去年 啟動 協助 營運 第四 從即 明年 中旬 開放 包括 限於 物聯網 雲端 資安 教育 醫療科技 新創 申請 緯創 表示 第四 獲選 新創 團隊 明年', '營建股 宏普 內湖 舊宗段 商辦時報 資訊 營建股 宏普 內湖 舊宗段 商辦 閱讀 全文 上午 時報 記者 郭鴻慧 台北 報導 宏普 內湖 舊宗段 商辦 賣出 預計 處分 利潤率 落在 左右 之間 宏普 內湖 舊宗段 商辦 基地 預計 興建 地下 地上 商辦 出售 面積 買方 投資 公司戶 宏普建設 董事會 今天 通過 財報 純益 純益 長期 以來 內湖 科學 園區 科技廠 交易 熱絡 第一 太平戴維斯 統計', '林憲銘 新創 合作 掌握 後天 機會 緯創 垂直 加速器 新創財訊 快報 林憲銘 新創 合作 掌握 後天 機會 緯創 垂直 加速器 新創 閱讀 全文 下午 財訊 快報 記者 王宜弘 報導 緯創 新創 旗下 緯創 垂直 加速器 邁入 第四 緯創 表示 新創 加入 第四 招募 據悉 去年 啟動 協助 營運 第四 從即 明年 中旬 開放 包括 限於 物聯網 雲端 資安 教育 醫療科技 新創 申請 緯創 表示 第四 獲選 新創 團隊 明年', '情報 上市 投信 買賣 排行標題 投信 買賣 排行 來源 富邦證券 網址 內文 買超 奇鋐 欣興 寶齡 富錦 聯電 金像電 聯發科 南亞科 華通 南電 智邦 台達電 上海商銀 華新 台玻 智原 台積電 健鼎 力積電 中華電 台光電 豐泰 鈺齊 元大 股息 緯創 鴻海 創意 中砂 裕隆 萬海 日月光 投控 元大 台灣 彰銀 統一 統一 台泥 世芯 東哥 遊艇 聯詠 國巨 玉山金 拓凱 晶睿 力成 仁寶 信邦 緯穎 台灣 興勤 英業', '退休 志業 蔡明介 蔡明忠 地方 創生身價 百億 企業家 地方 創生 風雨無阻 包括 聯發科 董座 蔡明介 富邦集團 董座 蔡明忠 奈格 颱風 共伴 效應 飛到 台東 參加 池上秋 稻穗 藝術節 幕後 推手 台灣 文化基金會 董座 柯文昌 表示 這些 企業家 正在 退休 準備 下鄉 返鄉 地方 創生 志業 除了 資深 企業家 今年 池上秋 稻穗 藝術節 年輕 企業家 高階 經理人 參與 包括 文曄 科技 董座 鄭文宗 鈺太 董座 邱景宏 青年 總裁 協會 首度 組團 前來 除了 參與 藝文', '退休 志業 蔡明介 蔡明忠 地方 創生身價 百億 企業家 地方 創生 風雨無阻 包括 聯發科 董座 蔡明介 富邦集團 董座 蔡明忠 奈格 颱風 共伴 效應 飛到 台東 參加 池上秋 稻穗 藝術節 幕後 推手 台灣 文化基金會 董座 柯文昌 表示 這些 企業家 正在 退休 準備 下鄉 返鄉 地方 創生 志業 除了 資深 企業家 今年 池上秋 稻穗 藝術節 年輕 企業家 高階 經理人 參與 包括 文曄 科技 董座 鄭文宗 鈺太 董座 邱景宏 青年 總裁 協會 首度 組團 前來 除了 參與 藝文', '熱門 族群 堅持 耕耘 宇宙 雲端 概念股時報 台北 財報 展望 理想 昨夜 股價 崩跌 市值 失守 美元 放棄 宇宙 明年 微幅 上調 資本 支出 支撐 雲端 概念股 今日 抗跌 演出 其中 緯穎 彈近 月線 帶動 嘉澤 智邦 隨之 上漲 信驊 開低 走高 鴻海 緯創 微星 拚守 平盤 其餘 承啟 伊雲谷 神達 英業達 微星 相對 疲弱 整體 而言 相對 大盤 有撐 臉書 公司 上季 財報 出爐 營收 連續 衰退 前景 相當 黯淡 衝擊 股價 周四 早盤', '熱門 族群 堅持 耕耘 宇宙 雲端 概念股時報 台北 財報 展望 理想 昨夜 股價 崩跌 市值 失守 美元 放棄 宇宙 明年 微幅 上調 資本 支出 支撐 雲端 概念股 今日 抗跌 演出 其中 緯穎 彈近 月線 帶動 嘉澤 智邦 隨之 上漲 信驊 開低 走高 鴻海 緯創 微星 拚守 平盤 其餘 承啟 伊雲谷 神達 英業達 微星 相對 疲弱 整體 而言 相對 大盤 有撐 臉書 公司 上季 財報 出爐 營收 連續 衰退 前景 相當 黯淡 衝擊 股價 周四 早盤', '新聞 科技業 匯兌 利益 豐收原文 標題 科技業 匯兌 利益 豐收 原文 連結 發布 時間 記者 署名 原文 內容 新台幣 以來 貶值約 貶勢 可能 延續 出口 導向 科技業 帶來 豐厚 收益 半導 電子 代工 品牌 組件 相關 業者 包括 台積電 鴻海 大立光 指標廠 受惠 台積電 罕見 匯率 議題 發表 看法 直言 美元 新台幣 升值 公司 利益 產生 正面 影響 法人 指出 近期 電子業 雜音不斷 業界 砍單 降價 消息 頻傳 新台幣 貶值 帶來 正面', '情報 上市 投信 買賣 排行標題 投信 買賣 排行 來源 富邦證券 網址 內文 買超 友達 中鋼 聯電 亞泥 台泥 長榮航 廣達 和碩 陽明 光寶科 聯強 華新 金像電 永豐金 奇鋐 兆豐金 華航 第一 華碩 聯詠 開發金 華城 長榮 怡利電 智邦 正新 中信金 元大金 遠東新 華南金 台積電 合庫金 玉山金 燿華 雄獅 宏碁 聯發科 富邦金 啟碁 新唐 中興電 國泰金 元晶 長興 上海商銀 致茂 美食 統一 中鼎 台新金', '情報 上市 外資 買賣 排行標題 外資 買賣 排行 來源 台灣 證交所 網址 內文 買超 長榮航 華新 緯創 仁寶 燿華 國泰智能 電動車 開發金 長榮 京元電子 中興電 欣陸 華城 鴻海 東陽 寶成 群光 東和鋼鐵 元晶 元大金 大聯大 中鴻 正新 啟碁 英業達 宏達電 義隆 康舒 臺企銀 微星 兆豐金 瑞儀 臻鼎 台灣 高鐵 遠雄 耿鼎 訊舟 統一 興農 景碩 中信 電池 儲能 文曄 力麗 健鼎 超豐 中鼎 三陽 工業 台積', '情報 公股銀行 買賣 排行手機 介面 圖片 讀版 以下 資訊 張數 排列 買超 排名 股票 張數 排名 股票 張數 中鋼 日盛金 元大 股息 長榮航 泰山 富邦金 永豐金 華新 群創 開發金 中信金 緯創 南亞科 國泰 臺灣 加權 金像電 期街口 布蘭 特正 富邦 臺灣 加權 鴻海 兆豐金 中信 關鍵 半導體 台泥 精確 元大 滬深 國泰 台灣 遠東銀 富邦 燁輝 長榮 台新金 英業達 欣興 元大 華通 中信中國 期元', '情報 上市櫃 外資 投信 買超 金額 排行外資 排行 股票 名稱 百萬 收盤價 漲跌 長榮航 華新 長榮 台積電 鴻海 緯創 群光 仁寶 中興電 資料 來源 投信 排行 股票 名稱 百萬 收盤價 漲跌 廣達 華碩 聯詠 聯發科 陽明 亞泥 光寶科 聯電 和碩 金像電 資料 來源 以上 謝謝', '熱門 緯創 董座力 買盤 進場緯創 客戶 因應 環境 不確定性 拉貨 力道 轉趨 保守 下修 第三 筆電 出貨量 轉為 季減 不過 伺服器 產品 撐盤 營收 保持 年正 成長 走勢 今年 累計 營收 穩站 歷年 高峰 緯創 董事長 林憲銘 月間 加碼 買進 自家 股票 顯示 營運 信心 公告 帶動 外資 買盤 進場 外資 連續 交易日 買超 緯創 買超 推升 持股 回到 股價 終場 收在 高點 漲幅 成交量 成交金額', '科技 犀動 智能 完成 募資時報 台北 台灣 新創 犀動 智能 宣布 完成 募資 美元 新臺幣 緯創 資通 機構 領投 投資人 基石 創投 成立 犀動 智能 募資 金額 超過 千萬 美元 新臺幣 犀動 創辦人 執行長 沈書緯 資金 優先 用在 方向 擴張 飯店 客戶 數量 預期 今年 簽約 房間數 去年 增加 飯店 集團 簽署 合約 積極 出海 首先 瞄準 日本 泰國 有望 帶動 今年 營收', '統一 證券 晨訊 均線 空頭 排列 上攻 力道 不足日期 盤勢 分析 均線 空頭 排列 再現 低量 謹慎 操作 昨日 盤勢 受到 美股 上周五 持續 下跌 影響 昨日 台股 小漲 開出 遭致 空方 壓制 指數 平盤 一度 回觸 平盤 之後 一路 走低 至近 午盤 得以 止穩 雖然 如此 指數 像樣 權值股 領軍 上攻 使得 盤勢 呈現 止跌 有餘 上攻 力道 不足 現象 權值股 承壓 台積電 大立光 矽力 長榮 陽明 萬海 和泰車 台塑 四寶 走勢 理想 終場 指數 下跌', '外資 終止 買超 加碼 長榮 航居冠中央社 記者 潘智義 台北 日電 市場 靜待 美聯準會 升息 決策 台股 今天 收紅 外資 終止 交易日 轉為 買超 新台幣 其中 買超 長榮航 長榮 買超 加權 指數 今天 終場收在 上漲 漲幅 成交值 新台幣 加計 交易 法人 今天 同步 買超 合計 買超 其中 外資 陸資 買超 自營商 買超 投信 買超 外資 買超 長榮航 居冠 之外 依序為華', '熱門 緯創 董座力 買盤 進場緯創 客戶 因應 環境 不確定性 拉貨 力道 轉趨 保守 下修 第三 筆電 出貨量 轉為 季減 不過 伺服器 產品 撐盤 營收 保持 年正 成長 走勢 今年 累計 營收 穩站 歷年 高峰 緯創 董事長 林憲銘 月間 加碼 買進 自家 股票 顯示 營運 信心 公告 帶動 外資 買盤 進場 外資 連續 交易日 買超 緯創 買超 推升 持股 回到 股價 終場 收在 高點 漲幅 成交量 成交金額', '科技 犀動 智能 完成 募資時報 台北 台灣 新創 犀動 智能 宣布 完成 募資 美元 新臺幣 緯創 資通 機構 領投 投資人 基石 創投 成立 犀動 智能 募資 金額 超過 千萬 美元 新臺幣 犀動 創辦人 執行長 沈書緯 資金 優先 用在 方向 擴張 飯店 客戶 數量 預期 今年 簽約 房間數 去年 增加 飯店 集團 簽署 合約 積極 出海 首先 瞄準 日本 泰國 有望 帶動 今年 營收', '統一 證券 晨訊 均線 空頭 排列 上攻 力道 不足日期 盤勢 分析 均線 空頭 排列 再現 低量 謹慎 操作 昨日 盤勢 受到 美股 上周五 持續 下跌 影響 昨日 台股 小漲 開出 遭致 空方 壓制 指數 平盤 一度 回觸 平盤 之後 一路 走低 至近 午盤 得以 止穩 雖然 如此 指數 像樣 權值股 領軍 上攻 使得 盤勢 呈現 止跌 有餘 上攻 力道 不足 現象 權值股 承壓 台積電 大立光 矽力 長榮 陽明 萬海 和泰車 台塑 四寶 走勢 理想 終場 指數 下跌', '外資 終止 買超 加碼 長榮 航居冠中央社 記者 潘智義 台北 日電 市場 靜待 美聯準會 升息 決策 台股 今天 收紅 外資 終止 交易日 轉為 買超 新台幣 其中 買超 長榮航 長榮 買超 加權 指數 今天 終場收在 上漲 漲幅 成交值 新台幣 加計 交易 法人 今天 同步 買超 合計 買超 其中 外資 陸資 買超 自營商 買超 投信 買超 外資 買超 長榮航 居冠 之外 依序為華', '情報 上市 投信 買賣 排行標題 投信 買賣 排行 來源 富邦證券 網址 內文 買超 華新 眾達 華通 永豐金 智原 仁寶 中信金 中鋼 友達 中華電 技嘉 英業達 亞泥 晶心科 遠東新 開發金 大聯大 台泥 光寶科 高力 新唐 廣達 富邦金 微星 啟碁 中鴻 元大金 佳世達 世芯 第一 兆豐金 緯創 富發 同欣電 京元 電子 國泰金 玉山金 南電 大成鋼 麗清 宏碁 台新金 康普 萬海 聯強 台聚 華南金 合庫金 陽明', '情報 上市 外資 買賣 排行標題 外資 買賣 排行 來源 台灣 證交所 網址 內文 買超 長榮航 華航 新光金 耿鼎 元大 滬深 欣興 華通 燿華 虹堡 華邦電 建漢 國票金 聯邦銀 台泥 力積電 宏碁 威盛 鈺齊 三商壽 金寶 榮運 鴻海 凌巨 富邦 恒生 國企 正文 臺企銀 統一 彰銀 廣達 長榮 大亞 潤泰新 國泰智能 電動車 怡利電 益航 昇陽 半導體 晟銘電 南電 遠東 興農 緯創 富邦 証正 中工 中信中國', '情報 公股銀行 買賣 排行手機 介面 圖片 讀版 以下 資訊 張數 排列 買超 排名 股票 張數 排名 股票 張數 國泰 永續 股息 長榮航 台半 華航 華新 富邦金 虹堡 耿鼎 新金 國票金 開發金 投控 元大 股息 彰銀 合晶 宏達電 全友 中信 關鍵 半導體 元大 台灣 燿華 華通 元晶 普誠 可成 元大 滬深 盛力 台泥 強茂 華邦電 基泰 新光金 台耀 建漢 友達 中信中國 南亞科 元大 全球 未來 通訊', '創攻 商機 揮軍 智慧 自動化 大展 發佈 產業 技術 安全 標準財訊 快報 記者 王宜弘 報導 緯創 商機 近日 揮軍 台灣 機器人 智慧 自動化展 旗下 自主 移動 機器人 團隊 週五 攜手 工研院 自主 移動 機器人 聯盟 舉辦 研討會 正式 發布 產業 技術 安全 標準 移動 機器人 安全 要求 驗證 確效 緯創 總經理 沈慶堯 表示 無人 載具 結合 世代 通訊 技術 在後 時代 成為 發展 重點 緯創 希望 異業 合作 創造 無人 載具 應用 協助 企業 實現 永續 經營 目標 緯創 指出 工作 小組 公司 處長段', '緯創 攜工研院 發布 產業 技術 安全 標準緯創 資通 旗下 團隊 工研院 自主 移動 機器人 聯盟 正式 發布 產業 技術 安全 標準 移動 機器人 安全 要求 驗證 確效 共同 善用 科技 創意 落實 理念 努力 工作 小組 緯創 處長 段龍輝 出任 主席 具體 定義 移動 機器人 產品 基本 安全 設計 要求 希望 透過 標準 產品 共通 依循 規範 確保 人機 協作 安全 提升 移動 機器人 產品 應用 安全性 加速 產業 發展 應用 同時 促進 產業 供需 生態 良性 發展 推升 產業 整體 競爭力', '緯創 產業 技術 安全 標準 開發 機器人緯創 攜手 工研院 自主 移動 機器人 聯盟 共同 發布 產業 技術 安全 標準 緯創 團隊 開發出 自主 移動 機器人 台灣 精品獎 提供 軟硬體 整合 智能 解決 方案 透過 專業 服務型 平台 架構 通用 模組 彈性 優勢 專業 領域 系統 整合商 合作 推出 適用 不同 面向 多元 場域 功能 應用 日益 複雜 工型 任務 導向 場域 營運 效益 工作 人員 只要 專注 提升 價值 任務 建構 完整 智慧 自動化 服務 生態', '創攻 商機 揮軍 智慧 自動化 大展 發佈 產業 技術 安全 標準財訊 快報 記者 王宜弘 報導 緯創 商機 近日 揮軍 台灣 機器人 智慧 自動化展 旗下 自主 移動 機器人 團隊 週五 攜手 工研院 自主 移動 機器人 聯盟 舉辦 研討會 正式 發布 產業 技術 安全 標準 移動 機器人 安全 要求 驗證 確效 緯創 總經理 沈慶堯 表示 無人 載具 結合 世代 通訊 技術 在後 時代 成為 發展 重點 緯創 希望 異業 合作 創造 無人 載具 應用 協助 企業 實現 永續 經營 目標 緯創 指出 工作 小組 公司 處長段', '緯創 攜工研院 發布 產業 技術 安全 標準緯創 資通 旗下 團隊 工研院 自主 移動 機器人 聯盟 正式 發布 產業 技術 安全 標準 移動 機器人 安全 要求 驗證 確效 共同 善用 科技 創意 落實 理念 努力 工作 小組 緯創 處長 段龍輝 出任 主席 具體 定義 移動 機器人 產品 基本 安全 設計 要求 希望 透過 標準 產品 共通 依循 規範 確保 人機 協作 安全 提升 移動 機器人 產品 應用 安全性 加速 產業 發展 應用 同時 促進 產業 供需 生態 良性 發展 推升 產業 整體 競爭力', '緯創 產業 技術 安全 標準 開發 機器人緯創 攜手 工研院 自主 移動 機器人 聯盟 共同 發布 產業 技術 安全 標準 緯創 團隊 開發出 自主 移動 機器人 台灣 精品獎 提供 軟硬體 整合 智能 解決 方案 透過 專業 服務型 平台 架構 通用 模組 彈性 優勢 專業 領域 系統 整合商 合作 推出 適用 不同 面向 多元 場域 功能 應用 日益 複雜 工型 任務 導向 場域 營運 效益 工作 人員 只要 專注 提升 價值 任務 建構 完整 智慧 自動化 服務 生態', '情報 上市 投信 買賣 排行標題 投信 買賣 排行 來源 富邦證券 網址 內文 買超 中信金 智原 友達 永豐金 東陽 仁寶 華新 遠東新 南電 開發金 英業達 正崴 新唐 國泰 永續 股息 台泥 金像電 元大金 宏碁 第一 大聯大 兆豐金 創意 廣達 神基 微星 佳世達 嘉澤 台表科 亞泥 光罩 國泰金 元大 股息 興富發 安集 中鴻 世紀鋼 聯強 可成 大成鋼 南亞 南亞科 上海商銀 凱基 優選 股息 智邦 台聚', '情報 上市 外資 買賣 排行標題 上市 外資 買賣 排行 來源 台灣 證交所 網址 內文 群創 友達 正文 華通 中砂 欣興 聯電 訊舟 富采 精英 永豐金 緯創 華邦電 光寶科 旺宏 正崴 興農 巨庭 仁寶 臻鼎 第一金 富邦 証正 寶齡 富錦 日月光 投控 京元 電子 希華 南亞科 新光金 東哥 遊艇 神隆 聯茂 亞力 台灣 高鐵 國泰金 遠東銀 矽統 廣達 中華電 金像電 台玻 期街口布蘭 特正 達運 彰銀 台達電', '情報 公股銀行 買賣 排行手機 介面 圖片 讀版 以下 資訊 張數 排列 買超 排名 股票 張數 排名 股票 張數 期元 原油 群創 元大 台灣 友達 國泰 永續 股息 大同 中信金 中砂 上海 商銀 期街口 布蘭 特正 宏碁 富邦 証正 玉山金 永豐金 統一 健喬 力積電 元大 滬深 合庫金 國票金 新興 英業達 富邦 期元 石油 華新 華通 華航 新光金 台泥 訊舟 普誠 正文 金橋 盛力 燿華 緯創 富邦 臺灣', '新聞 四川 限電 上海 特斯拉 討電 公文 曝光原文 標題 四川 限電 上海 特斯拉 公文 曝光 挨轟 中國 人命 值錢 原文 連結 發布 時間 週五 上午 記者 署名 張憶漩 原文 內容 中國 四川 鬧電 影響 持續 擴大 重慶 宣布 限電 鴻海 坦言 衝擊 然而 網路 瘋傳 上海 政府 要求 特斯拉 上海廠 函文 引起 中國 民眾 尤其 熱浪 四川人 不滿 四川 高達 電力 供應 來自 水力 然而 降雨 稀少 水力 發電 下降', '新聞 謝金河 工商 大老 嚴責 台灣 對岸原文 連結 內文 中國 四川 連日 高溫 影響 電量 飆升 日前 宣布 工業 停產 對於 祭出 限電 措施 三三會 理事長 林伯豐 表示 受到 影響 財信 傳媒 董事長 謝金河 臉書 發文 感嘆 嚴以 苛責 台灣 對岸 一直 以來 很多 工商 大老 習慣 思維 模式 同樣 限電 國內 企業 大老 完全 不同 反應 謝金河 指出 日一早 社群 媒體 群組 張梗圖 照片 主人翁', '重點 台股 重點 回顧專家 評析 官員 陸續 出來 放鷹派 說法 持續 打壓 市場 樂觀 氣氛 會議 紀錄 提到 重點 不要 低估 打擊 通膨 決心 只要 通膨 沒有 明確 出現 見頂 往下 核心 通膨 重點 不會 放鬆 升息 步調 提及 可能 放緩 升息 步調 市場 對於 偏鴿 看法 想像 空間 現階段 美股 受到 空單 回補 幫助 指數 表現 相對 有撐 有利 台股 維持 現階段 位置 看回 台股 類股 輪動 快速 生技 族群 景氣 影響 族群 明顯 受到 資金', '重點 台股 重點 回顧專家 評析 官員 陸續 出來 放鷹派 說法 持續 打壓 市場 樂觀 氣氛 會議 紀錄 提到 重點 不要 低估 打擊 通膨 決心 只要 通膨 沒有 明確 出現 見頂 往下 核心 通膨 重點 不會 放鬆 升息 步調 提及 可能 放緩 升息 步調 市場 對於 偏鴿 看法 想像 空間 現階段 美股 受到 空單 回補 幫助 指數 表現 相對 有撐 有利 台股 維持 現階段 位置 看回 台股 類股 輪動 快速 生技 族群 景氣 影響 族群 明顯 受到 資金', '情報 上市 投信 買賣 排行圖片 讀版 排行 代號 名稱 張數 排行 代號 名稱 張數 開發金 金像電 元大金 奇鋐 仁寶 漢翔 永豐金 欣興 中鋼 景碩 南亞科 國光 英業達 富邦 未來車 聯強 台塑 宏碁 長榮航 國泰金 定穎 光寶科 安集 台泥 泰鼎 廣達 緯穎 富邦金 同欣電 華通 力智 聯電 豐泰 大聯大 鴻海 緯創 國巨 中信金 新唐 中砂 建大 友達 振樺電 智邦 中華 富發 華新 強茂', '陸企 台企 營收 美企美國 財星 雜誌 公布 世界 企業 榜單 顯示 大陸 加上 台灣 上榜 企業 營收 世界 營收 超越 美國 其中 上榜 陸企 共有 優於 美國 企業 台灣 企業 進榜 企業 排名 方面 亞軍 美國 零售商 沃爾瑪 電商 龍頭 亞馬遜 奪下 大陸 電業 巨擘 國家 電網 排名 第三 稱霸 陸企 大陸 中石油 中石化 緊追 在後 分居 榜單 第四 第五 台灣 企業 進榜 分別 鴻海 台積電 和碩 仁寶', '國際 產業 陸企 台企 營收 美企時報 台北 美國 財星 雜誌 公布 世界 企業 榜單 顯示 大陸 加上 台灣 上榜 企業 營收 世界 營收 超越 美國 其中 上榜 陸企 共有 優於 美國 企業 台灣 企業 進榜 企業 排名 方面 亞軍 美國 零售商 沃爾瑪 電商 龍頭 亞馬遜 奪下 大陸 電業 巨擘 國家 電網 排名 第三 陸企 大陸 中石油 中石化 緊追 在後 分居 榜單 第四 第五 台灣 企業 進榜 分別 鴻海 台積電', '緯軟 上半年 淨利 新高 盈餘中央社 記者 吳家豪 台北 日電 資訊 服務商 緯創 軟體 今天 公布 上半年 財報 由於 聚焦 重點 客戶 布局 關鍵 潛力 產業 合併 營收 新台幣 淨利 歷史 盈餘 歷史次 緯軟 今年 營收 延續 逐季 增長 趨勢 合併 營收 季增 年增 營業 利益 營業 利益率 季增 分點 淨利 季增 累計 緯軟 合併 營收 年增 淨利 年增 盈餘', '陸企 台企 營收 美企美國 財星 雜誌 公布 世界 企業 榜單 顯示 大陸 加上 台灣 上榜 企業 營收 世界 營收 超越 美國 其中 上榜 陸企 共有 優於 美國 企業 台灣 企業 進榜 企業 排名 方面 亞軍 美國 零售商 沃爾瑪 電商 龍頭 亞馬遜 奪下 大陸 電業 巨擘 國家 電網 排名 第三 稱霸 陸企 大陸 中石油 中石化 緊追 在後 分居 榜單 第四 第五 台灣 企業 進榜 分別 鴻海 台積電 和碩 仁寶', '國際 產業 陸企 台企 營收 美企時報 台北 美國 財星 雜誌 公布 世界 企業 榜單 顯示 大陸 加上 台灣 上榜 企業 營收 世界 營收 超越 美國 其中 上榜 陸企 共有 優於 美國 企業 台灣 企業 進榜 企業 排名 方面 亞軍 美國 零售商 沃爾瑪 電商 龍頭 亞馬遜 奪下 大陸 電業 巨擘 國家 電網 排名 第三 陸企 大陸 中石油 中石化 緊追 在後 分居 榜單 第四 第五 台灣 企業 進榜 分別 鴻海 台積電', '緯軟 上半年 淨利 新高 盈餘中央社 記者 吳家豪 台北 日電 資訊 服務商 緯創 軟體 今天 公布 上半年 財報 由於 聚焦 重點 客戶 布局 關鍵 潛力 產業 合併 營收 新台幣 淨利 歷史 盈餘 歷史次 緯軟 今年 營收 延續 逐季 增長 趨勢 合併 營收 季增 年增 營業 利益 營業 利益率 季增 分點 淨利 季增 累計 緯軟 合併 營收 年增 淨利 年增 盈餘', '情報 上市 投信 買賣 排行圖片 讀版 排行 代號 名稱 張數 排行 代號 名稱 張數 仁寶 長榮航 英業達 欣興 南亞科 鈺齊 第一 富邦 未來車 友達 國光生 華通 正文 台泥 華新 中鋼 全新 永豐金 寶成 廣達 力智 智易 緯穎 光寶科 東陽 緯創 奇鋐 強茂 富邦 証正 力成 東元 大聯大 億光 聯電 南電 亞泥 台塑 開發金 矽力 台灣 智伸科 中鴻 森崴 能源 聯強 乙盛 漢翔 高力 金像電', '情報 上市 外資 買賣 排行標題 買賣 排行 來源 台灣 證交所 網址 內文 聯電 台積電 華航 友達 中興電 緯創 華新 日月光 投控 亞太電 台達電 欣陸 聯詠 臻鼎 建漢 振樺電 力智 中信 電池 儲能 統一實 台郡 期街口 布蘭 特正 中信 關鍵 半導體 京元 電子 威盛 台化 合勤 正文 三陽 工業 景碩 東鹼 晶彩科 世芯 大聯大 志信 裕民 鈺齊 東森 福壽 世紀鋼 欣興 奇鋐 香港 金橋 三商壽 啟碁 國喬 中磊', '情報 公股銀行 買賣 排行手機 介面 圖片 讀版 以下 資訊 張數 排列 買超 排名 股票 張數 排名 股票 張數 元大 台灣 天鈺 富邦 特選 股息 亞太電 富邦金 國泰智能 電動車 國泰 永續 股息 京元電子 鴻海 中石化 玉山金 聯合 再生 元大 滬深 緯創 第一 臺企銀 台塑 富邦 宇宙 南亞 中信 關鍵 半導體 開發金 世界 永豐金 聯電 中信金 力積電 大同 驊訊 廣達 允強 群創 普誠 台積電 國泰 台灣 元大 台灣', '情報 上市櫃 外資 投信 排行排行 股票 名稱 成交 漲跌 投信 外資 仁寶 友達 智易 緯創 強茂 大聯大 聯電 京元電子 和碩 台達電 台積電 振樺電 臻鼎 健鼎 瑞儀 資料 來源 以上 謝謝', '熱門 緯創 法人 力挺 翻紅緯創 先前 預期 今年 營收 合理 成長 筆電 出貨量 去年 增加 但是 緯創 客戶 戴爾 商用 筆電 訂單 緯創 下旬 宣布 調整 今年 筆電 出貨量 預估 年增 下修 去年 小減 持平 台股 台海 緊張 情勢 升高 大盤 重挫 不過 緯創 公司 緯穎 獲利 繳出 亮麗 成績單 稅後 純益與 歷史 新高 下半年 筆電 出貨量 戴爾 商用 機種 緯創 似乎 母以子貴 緯創 早盤 小黑 開出然終場 翻紅 上漲 收在 股價 沿著 線走', '熱門 緯創 法人 力挺 翻紅緯創 先前 預期 今年 營收 合理 成長 筆電 出貨量 去年 增加 但是 緯創 客戶 戴爾 商用 筆電 訂單 緯創 下旬 宣布 調整 今年 筆電 出貨量 預估 年增 下修 去年 小減 持平 台股 台海 緊張 情勢 升高 大盤 重挫 不過 緯創 公司 緯穎 獲利 繳出 亮麗 成績單 稅後 純益與 歷史 新高 下半年 筆電 出貨量 戴爾 商用 機種 緯創 似乎 母以子貴 緯創 早盤 小黑 開出然終場 翻紅 上漲 收在 股價 沿著 線走', '情報 上市 投信 買賣 排行標題 投信 買賣 排行 來源 富邦證券 網址 內文 買超 漢翔 遠東新 永豐金 台泥 仁寶 中鋼 光寶科 開發金 英業達 大聯大 中信金 元大金 宏碁 亞泥 台灣 高鐵 友達 兆豐金 第一 鴻海 佳世達 中鴻 力成 台灣 聯電 富邦金 廣達 華新 振樺電 富發 聯強 智邦 微星 遠傳 國泰金 京元電子 緯創 技嘉 大成鋼 強茂 台積電 可成 南亞科 南亞 台聚 萬海 昇陽 半導體 啟碁', '情報 上市 外資 買賣 排行標題 外資 買賣 來源 台灣 證交所 網址 內文 友達 群創 國泰 智能 電動車 欣興 漢翔 中華電 期元 中興電 耿鼎 統一實 臺企銀 新唐 仲琦 華邦電 和碩 富邦 越南 浩鑫 國產 中信 電池 儲能 東陽 富邦 未來車 緯創 奇鋐 威盛 智原 合勤 金橋 高力 中租 興農 如興 三陽 工業 台郡 聯華 新興 三商壽 中砂 定穎 華通 東鹼 景碩 金像電 鈺齊 臻鼎 明泰', '東洋 營收 翻倍台灣 東洋 新任 總經理 侯靜蘭 表示 新藥 上市 海內外 市場 布局 研發 製造 代工 策略 全面 複製 台灣 成功 經驗 前進 東南亞 市場 目標 整體 營收 翻倍 成長 法人 看好 挑戰 百億 機會 上任 侯靜蘭 諾華 腫瘤 亞洲區 負責人 認為 東洋 特色 領域 困難 名藥 有利基 未來 結合 台灣 電子 科技 醫療 產業 跳躍 成長 機會 智慧 醫療 打造 創新 模式 本業 營運 穩定 東洋 惠業 認列 里程碑', '戴爾 商用 代工廠筆電 需求 最後 神木 撐不住 商用 筆電 向來 市場 修正 屹立不搖 機種 尤其 商用 筆電 指標性 大廠 戴爾 不過 業界 傳出 戴爾 正式 下修 商用 筆電 訂單 包括 緯創 仁寶 工廠 下半年 營收 恐怕 受到 程度 影響 商用 機種 上半年 拉貨 積極 歐美 朝向 解封 開放 筆電 需求 隨著 下滑 去年 下半年 首當其衝 消費性 筆電 需求 去年 第四季 開始 不振 僅有 商用 筆電 需求 完全 影響 去年 第四 為例 消費性', '財報 登場 法人 卡位第二季 財報 預計 日前 發布 完畢 近期 財報 法說會 高峰期 台股 反彈 萬五 陷入 震盪 法人 進場 布局 第二 財報 強勁股 其中 財報 優於 首季 長榮 陽明 法人 近期 回補 標的 台股 台積電 領軍 來到 萬五 關卡 兩岸 軍事 風險 攀高 干擾 台股 再度 失守 萬五 不過 小跌 台新 投顧 副總 黃文清 表示 台股 反彈 操作 難度 愈來愈 第二季 財報 強勁 個股 主要 布局 標的 今年 第二季 合併 營收 季增 年增 交易日', '要聞 戴爾 商用 代工廠時報 台北電 筆電 需求 最後 神木 撐不住 商用 筆電 向來 市場 修正 屹立不搖 機種 尤其 商用 筆電 指標性 大廠 戴爾 不過 業界 傳出 戴爾 正式 下修 商用 筆電 訂單 包括 緯創 仁寶 工廠 下半年 營收 恐怕 受到 程度 不一 影響 商用 機種 上半年 拉貨 積極 歐美 朝向 解封 開放 筆電 需求 隨著 下滑 去年 下半年 首當其衝 消費性 筆電 需求 去年 第四季 開始不振 商用 筆電 需求 完全 影響 去年', '掃瞄 國內 消息 製造業 降至 移轉 棟數時報 台北電 國內 消息 隨著 近期 台海 緊張 局勢 升溫 全球 晶圓 代工廠 台積電 董事長 劉德音 接受 全球 公共 廣場 主持人 札卡利亞 專訪 指出 台海 一旦 發生 戰爭 打亂 全球 現有 秩序 透過 武力 拿下 台積電 無法 運作 下去 新增 訂單 生產 指數 大跌 台灣 製造業 採購 經理人 指數 斷崖式 下跌 指數 大跌 指數 創編 以來 單月 跌幅 指數 因而 中斷 先前 擴張 指數 高於 跌至 首度 轉為 緊縮', '熱門 族群 財報 登場 法人 卡位時報 台北電 第二季 財報 預計 日前 發布 完畢 近期 財報 法說會 高峰期 台股 反彈 萬五 陷入 震盪 法人 進場 布局 第二 財報 強勁股 其中 財報 優於 首季 長榮 陽明 法人 近期 回補 標的 台股 台積電 領軍 來到 萬五 關卡 兩岸 軍事 風險 攀高 干擾 台股 再度 失守 萬五 不過 小跌 台新 投顧 副總 黃文清 表示 台股 反彈 操作 難度 愈來愈 第二季 財報 強勁 個股 主要 布局 標的 今年 第二季 合併 營收 季增 年增', '生醫股 東洋 營收 翻倍時報 台北 台灣 東洋 新任 總經理 侯靜蘭 表示 新藥 上市 海內外 市場 布局 研發 製造 代工 策略 全面 複製 台灣 成功 經驗 前進 東南亞 市場 目標 整體 營收 翻倍 成長 法人 看好 挑戰 百億 機會 上任 侯靜蘭 諾華腫瘤 亞洲區 負責人 認為 東洋 特色 領域 困難 名藥 利基 未來 結合 台灣 電子 科技 醫療 產業 跳躍 成長 機會 智慧 醫療 打造 創新 模式 本業 營運 穩定 東洋', '科技 部長 陳良基 正式 加入 見臻 科技 董事會 加速 眼球 追蹤 技術 深耕新創 公司 見臻 科技 宣布 科技 部長 陳良基 正式 加入 見臻 科技 董事會 憑藉 陳良基 國際 視野 豐富 官學 經驗 加速 技術 深耕 公司 治理 國際 拓展 根據 經歷 背景 資料 陳良基 成功大學 電機 工程 博士 科技 部長 教育部 政務次長 國立 台灣大學 講座 教授 電資 學院 副院長 副校長 財團 法人 國家 實驗 研究院 院長 工研院 電子所 所長 智慧 電子 國家型 科技 計畫 共同 主持人 見臻 科技 表示 陳良基 國內 多媒體 晶片 設計 知名學', '東洋 營收 翻倍台灣 東洋 新任 總經理 侯靜蘭 表示 新藥 上市 海內外 市場 布局 研發 製造 代工 策略 全面 複製 台灣 成功 經驗 前進 東南亞 市場 目標 整體 營收 翻倍 成長 法人 看好 挑戰 百億 機會 上任 侯靜蘭 諾華 腫瘤 亞洲區 負責人 認為 東洋 特色 領域 困難 名藥 有利基 未來 結合 台灣 電子 科技 醫療 產業 跳躍 成長 機會 智慧 醫療 打造 創新 模式 本業 營運 穩定 東洋 惠業 認列 里程碑', '戴爾 商用 代工廠筆電 需求 最後 神木 撐不住 商用 筆電 向來 市場 修正 屹立不搖 機種 尤其 商用 筆電 指標性 大廠 戴爾 不過 業界 傳出 戴爾 正式 下修 商用 筆電 訂單 包括 緯創 仁寶 工廠 下半年 營收 恐怕 受到 程度 影響 商用 機種 上半年 拉貨 積極 歐美 朝向 解封 開放 筆電 需求 隨著 下滑 去年 下半年 首當其衝 消費性 筆電 需求 去年 第四季 開始 不振 僅有 商用 筆電 需求 完全 影響 去年 第四 為例 消費性', '財報 登場 法人 卡位第二季 財報 預計 日前 發布 完畢 近期 財報 法說會 高峰期 台股 反彈 萬五 陷入 震盪 法人 進場 布局 第二 財報 強勁股 其中 財報 優於 首季 長榮 陽明 法人 近期 回補 標的 台股 台積電 領軍 來到 萬五 關卡 兩岸 軍事 風險 攀高 干擾 台股 再度 失守 萬五 不過 小跌 台新 投顧 副總 黃文清 表示 台股 反彈 操作 難度 愈來愈 第二季 財報 強勁 個股 主要 布局 標的 今年 第二季 合併 營收 季增 年增 交易日', '要聞 戴爾 商用 代工廠時報 台北電 筆電 需求 最後 神木 撐不住 商用 筆電 向來 市場 修正 屹立不搖 機種 尤其 商用 筆電 指標性 大廠 戴爾 不過 業界 傳出 戴爾 正式 下修 商用 筆電 訂單 包括 緯創 仁寶 工廠 下半年 營收 恐怕 受到 程度 不一 影響 商用 機種 上半年 拉貨 積極 歐美 朝向 解封 開放 筆電 需求 隨著 下滑 去年 下半年 首當其衝 消費性 筆電 需求 去年 第四季 開始不振 商用 筆電 需求 完全 影響 去年', '掃瞄 國內 消息 製造業 降至 移轉 棟數時報 台北電 國內 消息 隨著 近期 台海 緊張 局勢 升溫 全球 晶圓 代工廠 台積電 董事長 劉德音 接受 全球 公共 廣場 主持人 札卡利亞 專訪 指出 台海 一旦 發生 戰爭 打亂 全球 現有 秩序 透過 武力 拿下 台積電 無法 運作 下去 新增 訂單 生產 指數 大跌 台灣 製造業 採購 經理人 指數 斷崖式 下跌 指數 大跌 指數 創編 以來 單月 跌幅 指數 因而 中斷 先前 擴張 指數 高於 跌至 首度 轉為 緊縮', '熱門 族群 財報 登場 法人 卡位時報 台北電 第二季 財報 預計 日前 發布 完畢 近期 財報 法說會 高峰期 台股 反彈 萬五 陷入 震盪 法人 進場 布局 第二 財報 強勁股 其中 財報 優於 首季 長榮 陽明 法人 近期 回補 標的 台股 台積電 領軍 來到 萬五 關卡 兩岸 軍事 風險 攀高 干擾 台股 再度 失守 萬五 不過 小跌 台新 投顧 副總 黃文清 表示 台股 反彈 操作 難度 愈來愈 第二季 財報 強勁 個股 主要 布局 標的 今年 第二季 合併 營收 季增 年增', '生醫股 東洋 營收 翻倍時報 台北 台灣 東洋 新任 總經理 侯靜蘭 表示 新藥 上市 海內外 市場 布局 研發 製造 代工 策略 全面 複製 台灣 成功 經驗 前進 東南亞 市場 目標 整體 營收 翻倍 成長 法人 看好 挑戰 百億 機會 上任 侯靜蘭 諾華腫瘤 亞洲區 負責人 認為 東洋 特色 領域 困難 名藥 利基 未來 結合 台灣 電子 科技 醫療 產業 跳躍 成長 機會 智慧 醫療 打造 創新 模式 本業 營運 穩定 東洋', '科技 部長 陳良基 正式 加入 見臻 科技 董事會 加速 眼球 追蹤 技術 深耕新創 公司 見臻 科技 宣布 科技 部長 陳良基 正式 加入 見臻 科技 董事會 憑藉 陳良基 國際 視野 豐富 官學 經驗 加速 技術 深耕 公司 治理 國際 拓展 根據 經歷 背景 資料 陳良基 成功大學 電機 工程 博士 科技 部長 教育部 政務次長 國立 台灣大學 講座 教授 電資 學院 副院長 副校長 財團 法人 國家 實驗 研究院 院長 工研院 電子所 所長 智慧 電子 國家型 科技 計畫 共同 主持人 見臻 科技 表示 陳良基 國內 多媒體 晶片 設計 知名學', '新聞 網通廠 南向 搶進 印度 市場原文 標題 網通廠 南向 搶進 印度 市場 原文 連結 發布 時間 記者 署名 經濟日報 吳凱中 黃晶琳 原文 內容 鴻海 電子 代工 大廠 強攻 印度 製造 之後 台灣 網通 業者 大舉 進軍 印度 銷售 製造 管齊 啟動 台灣 電子業 南向 包括 網通 品牌廠 友訊 製造商 中磊 智易 當地 設點 智邦 評估 前往 印度 設廠 近年 電子 代工 大廠 搶攻 印度 市場 鴻海 緯創 和碩 業者 積極 關鍵 在於 蘋果 推動 中國大陸 產能', '情報 上市 投信 買賣 排行圖片 讀版 排行 代號 名稱 張數 排行 代號 名稱 張數 仁寶 欣興 第一 定穎 中鋼 統一 英業達 鈺齊 聯電 上銀 友達 智原 光寶科 台灣 高鐵 遠東 健策 台泥 台橡 開發金 上海商銀 乙盛 永豐金 中砂 台積電 矽力 中信金 裕隆 亞泥 嘉澤 元大金 智易 大聯大 華通 兆豐金 寶成 振樺電 景碩 漢翔 慧洋 聯強 智伸科 廣達 潤泰 中鴻 豐泰 緯創 國產', '情報 上市 外資 買賣 排行圖片 讀版 排行 代號 名稱 張數 排行 代號 名稱 張數 群創 元大 台灣 國泰智能 電動車 長榮航 新光金 華新 中鋼 國泰金 臺企銀 台積電 漢翔 堤維西 欣興 國泰 永續 股息 中興電 元大 台灣 中信電池 儲能 永豐金 中鴻 玉山金 元晶 仲琦 國泰 費城 半導體 中信金 中石化 中信 中國 股息 元大 滬深 宏達電 高力 華航 台新金 華邦電 三商壽 燁輝 潤泰全 開發金', '蘋果 財報 概股來勁蘋果 上季 財報 優於 預期 上周 大漲 台廠 供應鏈 股價 來勁 重量級 指標股 鴻海 台積電 獲法人 交易日 買超 買超 張數 之間 投資 專家 看好 第三 之後 概股 拉貨 營收 獲利 機會 衝高 概股 近來 市場 關注 隨著 蘋果 財報 亮眼 目前 台廠 供應鏈 股價 歡顏 精測 美律 陽程 齊步 攻上 漲停 順德 大立光 聚積 瑞儀 康舒 台光電 景碩 全新 台郡 訊芯 中光電', '熱門 族群 蘋果 財報 蘋概股來勁時報 台北電 蘋果 上季 財報 優於 預期 上周 大漲 台廠 供應鏈 股價 來勁 重量級 指標股 鴻海 台積電 獲法人 交易日 買超 買超 張數 之間 投資 專家 看好 第三 之後 蘋概股 拉貨 營收 獲利 機會 衝高 概股 近來 市場 關注 隨著 蘋果 財報 亮眼 目前 台廠 供應鏈 股價 一展 歡顏 精測 美律 陽程 齊步 攻上 漲停 順德 大立光 聚積 瑞儀 康舒 台光電 景碩 全新 台郡', '產業 施振榮 產業 分工 趨勢 英特爾 逆勢 陷困境時報 記者 任珮 台北 報導 宏碁 集團 創辦人 施振榮 表示 上周 半導體 業界 發生 大事 英特爾 巿值 超微 超越 美國 通過 晶片 法案 後續 帶給 台灣 半導體 產業 啟發 影響 值得 大家 關注 施振榮 表示 哈佛 商業 評論 發表 文章 提到 世界 走向 沒有 電腦廠 電腦 公司 沒有 晶圓廠 半導體 公司 發展 指出 個人 電腦 半導體 產業 典範 轉移 始作 俑者 宏碁 台積電 個人 電腦 領域 宏碁', '半導體 製造 移回 美國 施振榮 違反 垂直 分工 趨勢中央社 記者 吳家豪 台北 日電 宏碁 創辦人 施振榮 表示 產業 分工 趨勢 雖然 美國 國安 問題 考量 希望 打破 全球 發展 半導體 製造 移回 美國 本土 違反 產業 典範 轉移 趨勢 一定可行 勉強 相對 效率 競爭力 不足 施振榮 今天 透過 新聞稿 表示 半導體 業界 發生 大事 第一 英特爾 巿值 超微 超越 第二 美國 通過 晶片 法案 後續 帶給 台灣 半導體 產業 啟發 影響 值得 大家 關注 施振榮', '英特爾 市值 超車 施振榮 產業 典範 轉移 大勢 無法最後 半導體 產業 發生 大事 美國 半導體 大廠 英特爾 巿值 超微 超越 美國 通過 晶片 法案 宏碁集團 創辦人 施振榮 微笑 曲線 點出 英特爾 跨入 晶圓 代工 面臨 困境 指出 產業 典範 轉移 走向 垂直 分工 大勢所趨 即使 世界 半導體 公司 擋不住 施振榮 指出 哈佛 商業 評論 發表 文章 提及 世界 走向 沒有 電腦廠 電腦 公司 沒有 晶圓廠 半導體 公司 發展 走勢 當年 哈佛 文章', '東洋 三軌 衝刺 營收 翻倍 成長財訊 快報 記者 何美如 報導 台灣 東洋 新任 總座 侯靜蘭 三十 國際 藥品 營銷 以及 企業 教練 管理 專才 經驗 上任 完成 邁向 國際 計畫 侯靜蘭 表示 除了 困難 學名藥 基石 短期 加速 新藥 上市 研發 製造 代工 努力 爭取 大廠 代工 機會 海外 市場 複製 台灣 成功 模式 持續 擴大 泰國 越南 市場 發展 期望 營收 比達 雙位數 百分比 目標 業績 倍速 成長 侯靜蘭 諾華 腫瘤 亞洲區 負責人 認為 台灣 生技 產業 技術', '生醫股 東洋 座喊 業績 倍增 齊頭 進邁 國際化時報 記者 郭鴻慧 台北 報導 上任甫 東洋 新任 總經理 侯靜蘭 喊出 希望 年內 業績 能夠 倍速 成長 困難 名藥 加速 新藥 上市 擴大 海外 市場 爭取 大廠 代工 疫苗 新品 發展 藉由 方面 齊頭並進 達到 穩定 成長 邁向 國際 雙重 目標 東洋 困難 學名藥 癌症 領域 表現 突出 侯靜蘭 持續 策略 伙伴 合作 持續 推動 新藥 上市 另外 目前 智慧 醫療 領域 發展 空間 智慧 醫療 醫療 進展 台灣 電子業', '東洋 總座 侯靜蘭 重要 策略 創造 公司 穩定 成長 邁向 國際 目標台灣 東洋 新任 總座 侯靜蘭 上任 舉行 記者會 說明 未來 發展 願景 表示 透過 新藥 上市 海內外 市場 布局 研發 製造 代工 重要 策略 創造 公司 穩定 成長 邁向 國際 雙重 目標 老牌 藥廠 東洋 近年 儘管 面臨 接班 股東 經營 團隊 人事 變動 風風 不過 新任 總經理 到任 逐步 規畫出 未來 策略 願景 透露 東洋 任職 主要 就是 因為 董事長 林全 生技 藥業 回歸 關心 健康 本質 初衷 曾任諾', '英特爾 面臨 困境 施振榮 產業 典範 轉移 大勢 所趨 世界 公司 擋不住英特爾 第二 財報 意外 虧損 大幅 下修 財測 目標 宏碁 集團 創辦人 施振榮 微笑 曲線 點出 美國 半導體 大廠 英特爾 跨入 晶圓 代工 面臨 困境 指出 產業 典範 轉移 走向 垂直 分工 大勢所趨 即使 世界 半導體 公司 擋不住 產業 典範 轉移 施振榮 表示 半導體 業界 發生 大事 英特爾 巿值 超微 超越 美國 通過 晶片 法案 後續 帶給 台灣 半導體 產業 啟發 影響 值得 大家 關注 施振榮 表示 哈佛 商業', '蘋果 財報 概股來勁蘋果 上季 財報 優於 預期 上周 大漲 台廠 供應鏈 股價 來勁 重量級 指標股 鴻海 台積電 獲法人 交易日 買超 買超 張數 之間 投資 專家 看好 第三 之後 概股 拉貨 營收 獲利 機會 衝高 概股 近來 市場 關注 隨著 蘋果 財報 亮眼 目前 台廠 供應鏈 股價 歡顏 精測 美律 陽程 齊步 攻上 漲停 順德 大立光 聚積 瑞儀 康舒 台光電 景碩 全新 台郡 訊芯 中光電', '熱門 族群 蘋果 財報 蘋概股來勁時報 台北電 蘋果 上季 財報 優於 預期 上周 大漲 台廠 供應鏈 股價 來勁 重量級 指標股 鴻海 台積電 獲法人 交易日 買超 買超 張數 之間 投資 專家 看好 第三 之後 蘋概股 拉貨 營收 獲利 機會 衝高 概股 近來 市場 關注 隨著 蘋果 財報 亮眼 目前 台廠 供應鏈 股價 一展 歡顏 精測 美律 陽程 齊步 攻上 漲停 順德 大立光 聚積 瑞儀 康舒 台光電 景碩 全新 台郡', '產業 施振榮 產業 分工 趨勢 英特爾 逆勢 陷困境時報 記者 任珮 台北 報導 宏碁 集團 創辦人 施振榮 表示 上周 半導體 業界 發生 大事 英特爾 巿值 超微 超越 美國 通過 晶片 法案 後續 帶給 台灣 半導體 產業 啟發 影響 值得 大家 關注 施振榮 表示 哈佛 商業 評論 發表 文章 提到 世界 走向 沒有 電腦廠 電腦 公司 沒有 晶圓廠 半導體 公司 發展 指出 個人 電腦 半導體 產業 典範 轉移 始作 俑者 宏碁 台積電 個人 電腦 領域 宏碁', '半導體 製造 移回 美國 施振榮 違反 垂直 分工 趨勢中央社 記者 吳家豪 台北 日電 宏碁 創辦人 施振榮 表示 產業 分工 趨勢 雖然 美國 國安 問題 考量 希望 打破 全球 發展 半導體 製造 移回 美國 本土 違反 產業 典範 轉移 趨勢 一定可行 勉強 相對 效率 競爭力 不足 施振榮 今天 透過 新聞稿 表示 半導體 業界 發生 大事 第一 英特爾 巿值 超微 超越 第二 美國 通過 晶片 法案 後續 帶給 台灣 半導體 產業 啟發 影響 值得 大家 關注 施振榮', '英特爾 市值 超車 施振榮 產業 典範 轉移 大勢 無法最後 半導體 產業 發生 大事 美國 半導體 大廠 英特爾 巿值 超微 超越 美國 通過 晶片 法案 宏碁集團 創辦人 施振榮 微笑 曲線 點出 英特爾 跨入 晶圓 代工 面臨 困境 指出 產業 典範 轉移 走向 垂直 分工 大勢所趨 即使 世界 半導體 公司 擋不住 施振榮 指出 哈佛 商業 評論 發表 文章 提及 世界 走向 沒有 電腦廠 電腦 公司 沒有 晶圓廠 半導體 公司 發展 走勢 當年 哈佛 文章', '東洋 三軌 衝刺 營收 翻倍 成長財訊 快報 記者 何美如 報導 台灣 東洋 新任 總座 侯靜蘭 三十 國際 藥品 營銷 以及 企業 教練 管理 專才 經驗 上任 完成 邁向 國際 計畫 侯靜蘭 表示 除了 困難 學名藥 基石 短期 加速 新藥 上市 研發 製造 代工 努力 爭取 大廠 代工 機會 海外 市場 複製 台灣 成功 模式 持續 擴大 泰國 越南 市場 發展 期望 營收 比達 雙位數 百分比 目標 業績 倍速 成長 侯靜蘭 諾華 腫瘤 亞洲區 負責人 認為 台灣 生技 產業 技術', '生醫股 東洋 座喊 業績 倍增 齊頭 進邁 國際化時報 記者 郭鴻慧 台北 報導 上任甫 東洋 新任 總經理 侯靜蘭 喊出 希望 年內 業績 能夠 倍速 成長 困難 名藥 加速 新藥 上市 擴大 海外 市場 爭取 大廠 代工 疫苗 新品 發展 藉由 方面 齊頭並進 達到 穩定 成長 邁向 國際 雙重 目標 東洋 困難 學名藥 癌症 領域 表現 突出 侯靜蘭 持續 策略 伙伴 合作 持續 推動 新藥 上市 另外 目前 智慧 醫療 領域 發展 空間 智慧 醫療 醫療 進展 台灣 電子業', '東洋 總座 侯靜蘭 重要 策略 創造 公司 穩定 成長 邁向 國際 目標台灣 東洋 新任 總座 侯靜蘭 上任 舉行 記者會 說明 未來 發展 願景 表示 透過 新藥 上市 海內外 市場 布局 研發 製造 代工 重要 策略 創造 公司 穩定 成長 邁向 國際 雙重 目標 老牌 藥廠 東洋 近年 儘管 面臨 接班 股東 經營 團隊 人事 變動 風風 不過 新任 總經理 到任 逐步 規畫出 未來 策略 願景 透露 東洋 任職 主要 就是 因為 董事長 林全 生技 藥業 回歸 關心 健康 本質 初衷 曾任諾', '英特爾 面臨 困境 施振榮 產業 典範 轉移 大勢 所趨 世界 公司 擋不住英特爾 第二 財報 意外 虧損 大幅 下修 財測 目標 宏碁 集團 創辦人 施振榮 微笑 曲線 點出 美國 半導體 大廠 英特爾 跨入 晶圓 代工 面臨 困境 指出 產業 典範 轉移 走向 垂直 分工 大勢所趨 即使 世界 半導體 公司 擋不住 產業 典範 轉移 施振榮 表示 半導體 業界 發生 大事 英特爾 巿值 超微 超越 美國 通過 晶片 法案 後續 帶給 台灣 半導體 產業 啟發 影響 值得 大家 關注 施振榮 表示 哈佛 商業', '情報 上市 投信 買賣 排行標題 投信 買賣 排行 來源 富邦證券 網址 內文 買超 遠東新 廣達 仁寶 光寶科 英業達 中鋼 友達 智易 永豐金 聯電 三陽工業 台泥 緯創 鴻海 元大金 中磊 台積電 大聯大 宏碁 中鴻 聯強 漢翔 華通 神基 和大 和碩 亞泥 力成 高力 京元 電子 陽明 智邦 遠傳 智伸科 微星 長榮 臺企銀 玉晶光 華新 上海 商銀 富邦金 奇鋐 技嘉 文曄 台灣 南亞 健策 晶技 台達電', '情報 上市櫃 外資 投信 排行排行 股票 名稱 成交 漲跌 投信 外資 遠東 友達 智易 聯電 三陽 工業 緯創 鴻海 廣積 中磊 台積電 大聯大 台半 中鴻 元太 資料 來源 以上 謝謝', '情報 上市 投信 買賣 排行圖片 讀版 排行 代號 名稱 張數 排行 代號 名稱 張數 欣興 奇鋐 智原 廣達 華通 仁寶 全新 台達電 友達 光寶科 矽格 台泥 昇陽 半導體 英業達 統一 中鋼 南電 緯創 玉晶光 高力 元晶 鴻海 國泰金 聯電 中砂 兆豐金 華航 台積電 臻鼎 亞泥 創意 台聚 達邁 日月光 投控 台塑 智伸科 景碩 大聯大 中鼎 中鴻 群創 金像電 台光電 陽明 儒鴻 中磊 東鹼', '塑化 電子 代工廠 悄悄 升溫高適 近期 隨著 農糧原 物料 價格 回落 油價 跌破 市場 通膨 恐慌 情緒 同步 高峰 回落 取而代 逐步 升溫 衰退 恐慌 儼然 成為 影響 全球 實體 經濟 資本 市場 央行 貨幣 政策 重要 變數 影響 股市 跌深 反彈行情 續航力 重要 關鍵 過去 堅稱 美國 經濟 成長 強勁 美國 財政部長 葉倫 近期 改口 表示 美國 經濟 成長 正在 放緩 承認 經濟 存在 衰退 風險 認為 衰退 並非 不可 避免 因為 衰退 經濟 廣泛 疲軟所致 美國 就業 數據 消費支', '外資 台股 投信 同步 調節 欣興中央社 記者 賴言曦 台北 日電 台股 今天 下跌 外資 新台幣 最多 台灣 另外 欣興 昨天 召開 法人 說明會 管理層 後市 看法 轉趨 保守 今天 外資 投信 同步 調節 股價 收在 跌停價 台股 今天 早盤 站上 萬五 大關 尾盤 電子股 賣壓 湧現 指數 翻黑 終場 下跌 收在 跌幅 成交金額 觀察 法人 動向 自營商 投信 買超 外資 陸資', '塑化 電子 代工廠 悄悄 升溫高適 近期 隨著 農糧原 物料 價格 回落 油價 跌破 市場 通膨 恐慌 情緒 同步 高峰 回落 取而代 逐步 升溫 衰退 恐慌 儼然 成為 影響 全球 實體 經濟 資本 市場 央行 貨幣 政策 重要 變數 影響 股市 跌深 反彈行情 續航力 重要 關鍵 過去 堅稱 美國 經濟 成長 強勁 美國 財政部長 葉倫 近期 改口 表示 美國 經濟 成長 正在 放緩 承認 經濟 存在 衰退 風險 認為 衰退 並非 不可 避免 因為 衰退 經濟 廣泛 疲軟所致 美國 就業 數據 消費支', '外資 台股 投信 同步 調節 欣興中央社 記者 賴言曦 台北 日電 台股 今天 下跌 外資 新台幣 最多 台灣 另外 欣興 昨天 召開 法人 說明會 管理層 後市 看法 轉趨 保守 今天 外資 投信 同步 調節 股價 收在 跌停價 台股 今天 早盤 站上 萬五 大關 尾盤 電子股 賣壓 湧現 指數 翻黑 終場 下跌 收在 跌幅 成交金額 觀察 法人 動向 自營商 投信 買超 外資 陸資', '印度 出貨 蘋果 受惠印度 出頭天不遠 雖然 印度 智慧型 手機 市場 最近 季度 出貨量 連續 下滑 不過 市調 機構 表示 第二 印度 出貨量 去年 大增 市占率 可望 來到 左右 為了 蘋果 印度 設廠 鴻海 緯創 和碩 台廠 機會 受惠 印度 經營 然而 售價 明顯 高於 印度 主流 價位帶 印度 銷售量 始終 不佳 不過 隨著 穆迪 政府 大力 鼓吹 搭配 加大 收取 手機 整機 進口 關稅 作為 配套 加上 印度 去年 上半年 經過 疫情 洗禮 下半年 報復 性購', '攻元 宇宙 商機 緯創 旗下 緯謙 智慧 展演 市場財訊 快報 記者 王宜弘 報導 緯創 集團 積極 佈局 宇宙 商機 旗下 緯謙 科技 攜手 國發會 市府 共推 時代 智慧 展演 環景 演唱會 緯創 副董事長 兼緯謙 董事長 黃柏漙 指出 智慧 展演 如何 發揮 體驗 內容 產業 智能化 思考 緯謙 指出 國發會 推動 智慧 展演 環景 演唱會 計畫 公司 攜手 桃園 市府 共同 推動 週二 桃園 展演中心 舉行 身歷其境 出門 演唱會 成果 發表會 桃園 市長 鄭文燦 文化 內容 策進院 副院長', '緯謙 智慧 製造 醫療 生意 今年 成長 五成 平台 年底 加盟財訊 快報 記者 王宜弘 報導 緯創 旗下 緯謙 科技 商機 定位 軟體 解決 方案 整合商 緯創 副董事長 緯謙 董事長 黃柏漙 指出 智慧 製造 智慧 醫療 緯謙 主要 發展 垂直 領域 今年 重點 項目 業績 今年 成長 超過 五成 此外 緯謙 發展 雲端 加值 服務 打造 緯謙 智慧 市集 服務 平台 目的 透過 微軟 甲骨文 服務 串連 垂直 領域 系統 整合商 緯謙 進行 整合 滿足 單一 客戶 不同 需求 總經理 夏志豪 表示', '印度 出貨 蘋果 受惠印度 出頭天不遠 雖然 印度 智慧型 手機 市場 最近 季度 出貨量 連續 下滑 不過 市調 機構 表示 第二 印度 出貨量 去年 大增 市占率 可望 來到 左右 為了 蘋果 印度 設廠 鴻海 緯創 和碩 台廠 機會 受惠 印度 經營 然而 售價 明顯 高於 印度 主流 價位帶 印度 銷售量 始終 不佳 不過 隨著 穆迪 政府 大力 鼓吹 搭配 加大 收取 手機 整機 進口 關稅 作為 配套 加上 印度 去年 上半年 經過 疫情 洗禮 下半年 報復 性購', '攻元 宇宙 商機 緯創 旗下 緯謙 智慧 展演 市場財訊 快報 記者 王宜弘 報導 緯創 集團 積極 佈局 宇宙 商機 旗下 緯謙 科技 攜手 國發會 市府 共推 時代 智慧 展演 環景 演唱會 緯創 副董事長 兼緯謙 董事長 黃柏漙 指出 智慧 展演 如何 發揮 體驗 內容 產業 智能化 思考 緯謙 指出 國發會 推動 智慧 展演 環景 演唱會 計畫 公司 攜手 桃園 市府 共同 推動 週二 桃園 展演中心 舉行 身歷其境 出門 演唱會 成果 發表會 桃園 市長 鄭文燦 文化 內容 策進院 副院長', '緯謙 智慧 製造 醫療 生意 今年 成長 五成 平台 年底 加盟財訊 快報 記者 王宜弘 報導 緯創 旗下 緯謙 科技 商機 定位 軟體 解決 方案 整合商 緯創 副董事長 緯謙 董事長 黃柏漙 指出 智慧 製造 智慧 醫療 緯謙 主要 發展 垂直 領域 今年 重點 項目 業績 今年 成長 超過 五成 此外 緯謙 發展 雲端 加值 服務 打造 緯謙 智慧 市集 服務 平台 目的 透過 微軟 甲骨文 服務 串連 垂直 領域 系統 整合商 緯謙 進行 整合 滿足 單一 客戶 不同 需求 總經理 夏志豪 表示', '情報 上市 外資 買賣 排行圖片 讀版 排行 代號 名稱 張數 排行 代號 名稱 張數 華新 聯電 鴻海 友達 群創 中鋼 開發金 長榮 臺企銀 玉山金 中石化 華航 寶成 陽明 台塑 兆豐金 彩晶 中信金 裕隆 期街口 布蘭 特正 華通 三晃 國泰金 富邦金 彰銀 亞力 三陽工業 佳世達 台積電 奇鋐 東陽 建漢 金寶 台泥 統一 力積電 新光金 中興電 威健 元大台灣 宏達電 台新金 中鴻 三商壽 國泰', '情報 公股銀行 排行手機 介面 圖片 讀版 以下 資訊 張數 排列 買超 排名 股票 張數 排名 股票 張數 元大 台灣 鴻海 中鋼 華新 聯電 台泥 長榮 元太 友達 群創 遠東 國泰 台灣 元大金 彰銀 華航 台新金 技嘉 欣銓 長榮航 裕隆 期街口 布蘭 特正 華通 中信中國 股息 寶成 兆豐金 開發金 國泰 臺灣 加權 緯創 富邦金 富邦 台灣 半導體 新光金 中信 關鍵 半導體 第一 三陽 工業 威盛 中石化 國泰 永續', '情報 公股銀行 買賣 排行手機 介面 圖片 讀版 以下 資訊 張數 排列 買超 排名 股票 張數 排名 股票 張數 技嘉 臺企銀 中鴻 威盛 大成鋼 陽明 聯電 寶成 群創 英業達 中信金 華通 新唐 富邦 特選 股息 大同 新興 中美晶 南亞 佳世達 聯詠 元大 台灣 富邦 中興電 力積電 欣興 創惟 合庫金 南亞科 統一 富邦 台灣 半導體 智擎 中石化 乙盛 穩懋 正文 元太 慧洋 南電 福裕 開發金 太景 廣達', '台灣 亞洲 四小龍 最後 小龍對岸 補貼 面板 拿來 台灣 產業 台灣 台積電 可以 鴻海 台達電 台塑 四寶 長榮 台泥 中鋼 華碩 宏碁 緯創 廣達 仁寶 聯發科 國巨 華邦電 大立光 日月光 原來 這些 台灣 產業 到底 我們 眼光 發文者', '情報 上市 投信 買賣 排行圖片 讀版 排行 代號 名稱 張數 排行 代號 名稱 張數 永豐金 開發金 中鋼 友達 遠東新 元大金 佳世達 仁寶 亞泥 宏碁 興富發 華新 中鴻 國泰金 廣達 寶成 大聯大 台化 京元電子 和碩 技嘉 南亞 大成鋼 華通 台聚 聯強 聯電 台塑 微星 東和鋼 力成 長榮航 萬海 南亞科 長興 旺宏 欣興 瑞儀 南電 京城銀 臻鼎 奇鋐 可成 裕隆 金像電 裕民 潤泰全 中信金', '電競 概念股 走強企業 資本 支出 呈現 縮減 影響 商用 出貨 加上 居家 上班 降溫 消費性 衰退 剩下 電競 成長 帶動 包括 緯創 電競 概念股 走強 包括 緯創 微星 精英 神基 倫飛 友通 華碩 捷波 技嘉 宏碁 。映泰 仁寶 個股 股價 走揚 表現 相對 大盤 強勢 法人 分析 近期 企業 資本 支出 呈現 縮減 影響 商用 出貨 下修 出貨 衰退 競因 產品 推出 成長 今年 疫情 持續 居家 上班 降溫 加上 月俄', '熱門 族群 電競 概念股 走強時報 台北 企業 資本 支出 呈現 縮減 影響 商用 出貨 加上 居家 上班 降溫 消費性 衰退 剩下 電競 成長 帶動 包括 緯創 電競 概念股 走強 包括 緯創 微星 精英 神基 倫飛 友通 華碩 捷波 技嘉 宏碁 映泰 仁寶 個股 股價 走揚 表現 相對 大盤 強勢 法人 分析 企業 資本 支出 呈現 縮減 影響 商用 出貨 下修 出貨 衰退 競因 產品 推出 成長 今年 疫情 持續 居家 上班', '智邦 科技 智慧 園區 動工 打造 全球 創新 中樞智邦 科技 投入 竹北 國際 智慧 園區 興建 智邦 竹北 科技 園區 縣長 楊文科 智邦 科技 董事長 林明蓉 熱鬧 動土 開工 現場 冠蓋雲集 完工 串聯 先進 技術 優質 研發 智慧 製造 打造 成為 智邦 全球 創新 中樞 楊文科 竹北 智慧園 親子 歡迎 公園 新建 勝利國中 正式 招生 開學 智邦 科技 網路 通訊 產業 佼佼者 創資 通及 普生生技 後第 動工 廠商 月義隆 電子 動工 興建 新竹縣 其中', '公告 補充 緯創 租地 委建 方式 新竹縣 國際 智慧 園區 興建廠 大樓 簽訂 機電 工程 合約公司 名稱 緯創 補充 緯創 租地 委建 方式 新竹縣 國際 智慧 園區 興建廠 大樓 簽訂 機電 工程 合約 發言人 石慶堂 公告 日期 簡述 公告 申報 內容 公司 董事會 通過 新台幣 預算 租地 委建 方式 新竹縣 國際 智慧 園區 興建 大樓 變動 緣由 主要 內容 公司 現與 關係人 英建 工程 股份 有限 公司 簽訂 機電 工程 合約 契約 金額 新台幣 變動 公司 財務 業務', '電競 概念股 走強企業 資本 支出 呈現 縮減 影響 商用 出貨 加上 居家 上班 降溫 消費性 衰退 剩下 電競 成長 帶動 包括 緯創 電競 概念股 走強 包括 緯創 微星 精英 神基 倫飛 友通 華碩 捷波 技嘉 宏碁 。映泰 仁寶 個股 股價 走揚 表現 相對 大盤 強勢 法人 分析 近期 企業 資本 支出 呈現 縮減 影響 商用 出貨 下修 出貨 衰退 競因 產品 推出 成長 今年 疫情 持續 居家 上班 降溫 加上 月俄', '熱門 族群 電競 概念股 走強時報 台北 企業 資本 支出 呈現 縮減 影響 商用 出貨 加上 居家 上班 降溫 消費性 衰退 剩下 電競 成長 帶動 包括 緯創 電競 概念股 走強 包括 緯創 微星 精英 神基 倫飛 友通 華碩 捷波 技嘉 宏碁 映泰 仁寶 個股 股價 走揚 表現 相對 大盤 強勢 法人 分析 企業 資本 支出 呈現 縮減 影響 商用 出貨 下修 出貨 衰退 競因 產品 推出 成長 今年 疫情 持續 居家 上班', '智邦 科技 智慧 園區 動工 打造 全球 創新 中樞智邦 科技 投入 竹北 國際 智慧 園區 興建 智邦 竹北 科技 園區 縣長 楊文科 智邦 科技 董事長 林明蓉 熱鬧 動土 開工 現場 冠蓋雲集 完工 串聯 先進 技術 優質 研發 智慧 製造 打造 成為 智邦 全球 創新 中樞 楊文科 竹北 智慧園 親子 歡迎 公園 新建 勝利國中 正式 招生 開學 智邦 科技 網路 通訊 產業 佼佼者 創資 通及 普生生技 後第 動工 廠商 月義隆 電子 動工 興建 新竹縣 其中', '公告 補充 緯創 租地 委建 方式 新竹縣 國際 智慧 園區 興建廠 大樓 簽訂 機電 工程 合約公司 名稱 緯創 補充 緯創 租地 委建 方式 新竹縣 國際 智慧 園區 興建廠 大樓 簽訂 機電 工程 合約 發言人 石慶堂 公告 日期 簡述 公告 申報 內容 公司 董事會 通過 新台幣 預算 租地 委建 方式 新竹縣 國際 智慧 園區 興建 大樓 變動 緣由 主要 內容 公司 現與 關係人 英建 工程 股份 有限 公司 簽訂 機電 工程 合約 契約 金額 新台幣 變動 公司 財務 業務', '情報 公股銀行 買賣 排行手機 介面 圖片 讀版 以下 資訊 張數 排列 買超 排名 股票 張數 排名 股票 張數 中鋼 元大 台灣 遠東 寶成 富邦金 台泥 玉山金 中信金 亞泥 國泰智能 電動車 開發金 友達 大同 宏碁 期元 國泰 台灣 台灣 國泰 費城 半導體 新光金 宏達電 台聚 中信 關鍵 半導體 富發 群創 兆豐金 瑞儀 南亞 鴻海 遠傳 陽明 台中銀 長榮航 元大 股息 緯創 亞太電 富邦 台新金', '慘兮兮 全球 出貨 年減全球 市況 消費性 需求 有感 降溫 今年 下半年 預期 旺季 至於 品牌廠 寄望 商用 美系 品牌廠 惠普 戴爾 庫存 堆高 歐洲 商用 市場 出現 需求 停滯 下修 訂單 至少 一成 法人 估計 全球 出貨 總量 減幅 擴大 以上 法人 觀察 去年 下半年 市場 消費性 需求 逐步 緩和 漸漸 轉由 商用 需求 帶動 去年 第四季 今年 第二季 主要 品牌廠 教育 商用 出貨 比重 明顯 提升 尤其 商用 高達 戴爾 今年 上半', '有價 建築 資訊 打造 信任 商模 台灣 建築中心 展開 深入 合作以下 簡稱 國際 信任 機器 以下 簡稱 進行 跨域 加值 合作 首創 建築 有價 資訊 整合 區塊 應用 商業 模式 合作 進行 建築 產業 數位 轉型 跨域 合作 有價 建築 資訊 區塊 簽約 儀式 代理 執行長 林杰宏 執行長 陳洲任 共同 簽署 合作 意向書 雙方 展開 資料 全面 合作 代理 執行長 林杰宏 表示 建築中心 建築 產業界 智慧 建築 相關 品質 認證 公正 第三者 所有 認證 過程 結果 產生 資訊 高度', '慘兮兮 全球 出貨 年減全球 市況 消費性 需求 有感 降溫 今年 下半年 預期 旺季 至於 品牌廠 寄望 商用 美系 品牌廠 惠普 戴爾 庫存 堆高 歐洲 商用 市場 出現 需求 停滯 下修 訂單 至少 一成 法人 估計 全球 出貨 總量 減幅 擴大 以上 法人 觀察 去年 下半年 市場 消費性 需求 逐步 緩和 漸漸 轉由 商用 需求 帶動 去年 第四季 今年 第二季 主要 品牌廠 教育 商用 出貨 比重 明顯 提升 尤其 商用 高達 戴爾 今年 上半', '有價 建築 資訊 打造 信任 商模 台灣 建築中心 展開 深入 合作以下 簡稱 國際 信任 機器 以下 簡稱 進行 跨域 加值 合作 首創 建築 有價 資訊 整合 區塊 應用 商業 模式 合作 進行 建築 產業 數位 轉型 跨域 合作 有價 建築 資訊 區塊 簽約 儀式 代理 執行長 林杰宏 執行長 陳洲任 共同 簽署 合作 意向書 雙方 展開 資料 全面 合作 代理 執行長 林杰宏 表示 建築中心 建築 產業界 智慧 建築 相關 品質 認證 公正 第三者 所有 認證 過程 結果 產生 資訊 高度', '情報 上市 外資 買賣 排行標題 外資 買賣 來源 台灣 證交所 網址 內文 手機 排版 見諒 買超 長榮航 華航 長榮 群創 華通 臺企銀 宏碁 台泥 陽明 亞力 元大金 友達 開發金 華邦電 元晶 仁寶 新光金 寶成 力積電 大同 和碩 台塑 旺宏 國碩 三陽 工業 統一 緯創 街口 布蘭 特正 永豐金 昇陽 半導體 聯強 遠傳 台化 合庫金 國喬 建漢 東和鋼鐵 欣陸 聯邦銀 日月光 投控 康舒 正隆 興富發 佳能', '情報 公股銀行 買賣 排行手機 介面 圖片 讀版 以下 資訊 張數 排列 買超 排名 股票 張數 排名 股票 張數 元大 台灣 中信金 大同 台泥 富邦金 群創 期元 原油 永豐金 遠東 寶成 亞泥 和碩 中鋼 長榮航 元大 滬深 華航 玉山金 長榮 開發金 國泰 台灣 富邦 証正 宏碁 台灣 緯創 華新 陽明 大聯大 臺企銀 兆豐金 期街口 布蘭 特正 友達 萬海 中華電 鴻海 台中銀 華邦電 富邦 瑞儀 位速', '股息 指數 成分股 公布台灣 指數 公司 公布 特選 台灣 上市 上櫃 股息 指數 成分股 定期 審核 結果 成分股 新增 包括 亞泥 台聚 遠東 長興 中鋼 中鴻 大成鋼 佳世達 技嘉 微星 瑞昱 廣達 台光電 京元電子 可成 華新科 興富發 萬海 永豐金 潤泰全 鈊象 大聯大 中美晶 新普 頎邦 力成 群聯 台指公司 同時 公布 指數 成分股 調整 成分股 增刪 全數 生效 特選 台灣 智慧 指數 成分股 納入 永豐金', '股息 指數 成分股 公布台灣 指數 公司 公布 特選 台灣 上市 上櫃 股息 指數 成分股 定期 審核 結果 成分股 新增 包括 亞泥 台聚 遠東 長興 中鋼 中鴻 大成鋼 佳世達 技嘉 微星 瑞昱 廣達 台光電 京元電子 可成 華新科 興富發 萬海 永豐金 潤泰全 鈊象 大聯大 中美晶 新普 頎邦 力成 群聯 台指公司 同時 公布 指數 成分股 調整 成分股 增刪 全數 生效 特選 台灣 智慧 指數 成分股 納入 永豐金', '情報 公股銀行 買賣 排行手機 介面 圖片 讀版 以下 資訊 張數 排列 買超 排名 股票 張數 排名 股票 張數 富邦金 中信金 亞泥 群創 元大 台灣 國泰 數位 支付 服務 友達 寶成 台塑化 和碩 中信中國 股息 台中銀 力積電 國泰智能 電動車 東陽 聯電 中鋼 瑞儀 台積電 緯創 元大 股息 元大 國泰金 榮剛 亞太電 台泥 日月光 投控 聯邦銀 南亞 新光金 元大 滬深 富邦 元晶 裕民 台新金 南亞科', '傳產 壽險業 青睞 新竹 商用 動產 交易 首勝 桃園時報 台北 升息 效應 加上 台股 大跌 桃竹苗 地區 商用 不動產 市場 退燒 根據 第一 平戴 維斯 統計 今年 上半年 桃竹苗 大型 交易 規模 去年 減少 四成 不過 近年 壽險業 投資 製造業 持續 布局 新竹 商用 動產 交易 規模 首度 超越 桃園 隨著 開發 建地 設廠 工業 土地 價格 高漲 桃竹苗 地區 大型 商用 動產 土地 交易 規模 回到 水準 其中 金額 以上 商用 不動產 交易 金額 年減 土地', '價值 成長 報酬 指數 成分股 新增 瑞昱公布 指數 公司 特選 價值 成長 報酬 指數 第三 成分股 定期 審核 結果 新增 瑞昱 刪除 台驊 投控 成分股 增刪 生效 成分股 納入 包括 亞聚 大成鋼 國際 中橡 瑞昱 慧洋 緯創 台表科 至上 成分股 刪除 包括 華新 聯強 威盛 台驊 投控 潤泰全 瀚宇博 彩晶 寶成', '傳產 壽險業 青睞 新竹 商用 動產 交易 首勝 桃園時報 台北 升息 效應 加上 台股 大跌 桃竹苗 地區 商用 不動產 市場 退燒 根據 第一 平戴 維斯 統計 今年 上半年 桃竹苗 大型 交易 規模 去年 減少 四成 不過 近年 壽險業 投資 製造業 持續 布局 新竹 商用 動產 交易 規模 首度 超越 桃園 隨著 開發 建地 設廠 工業 土地 價格 高漲 桃竹苗 地區 大型 商用 動產 土地 交易 規模 回到 水準 其中 金額 以上 商用 不動產 交易 金額 年減 土地', '價值 成長 報酬 指數 成分股 新增 瑞昱公布 指數 公司 特選 價值 成長 報酬 指數 第三 成分股 定期 審核 結果 新增 瑞昱 刪除 台驊 投控 成分股 增刪 生效 成分股 納入 包括 亞聚 大成鋼 國際 中橡 瑞昱 慧洋 緯創 台表科 至上 成分股 刪除 包括 華新 聯強 威盛 台驊 投控 潤泰全 瀚宇博 彩晶 寶成', '情報 公股銀行 買賣 排行手機 介面 圖片 讀版 以下 資訊 張數 排列 買超 排名 股票 張數 排名 股票 張數 元大 台灣 中信金 富邦金 聯電 群創 榮剛 中鋼 華通 長榮航 元大金 臺企銀 國泰 台灣 國泰 永續 股息 昇陽 半導體 陽明 國泰智能 電動車 亞泥 緯創 開發金 三陽工業 中信 中國 股息 統一 華新 金橋 中興電 元大 原油 新金 裕隆 元大 股息 富邦 特選 股息 玉山金 國泰 數位 支付 服務 新光金 元大', '新聞 可成 驚爆 內鬼 槍投 國立可成 驚爆 內鬼 帶槍 投靠 中國 立訊 起訴 可成 科技 公司 資料照 記者 錢利忠 台北 報導 蘋果 金屬 機殼 供應商 可成 科技 爆發 內鬼 違反 秘密 帶槍 投靠 中國 立訊 協助 立訊 順利 打入 蘋果 供應鏈 經濟 案件 新北 地檢署 違反 證券 交易法 特別 背信 營業 秘密 法等罪 起訴 可成 中國 研發 團隊 高主 研發處 表面 處理 技術處 副總經理 鄭家福 檢方 調查 鄭家福 進入 可成', '股市 請問 怎麼不用 減碼 不用 出清 靜下心 慢慢 微調 覺得 慢慢 賣出 買進 覺得 股票 心態 一下 不要 在乎 在乎 有沒有 進步 什麼 當成 學費 問題 買貴 技術 追高 太多 基本 分析 不足 為何 貴貴 龍頭 第二 梯隊 競爭力 不足 緯創 和碩 神基 非常 公司 只是 耐心 買點 沒有 基本面 分析 燦星網 莫名其妙 公司 意義 何在 營收 成長 息稅 折舊', '緯創 旗下 緯謙 成為 甲骨文 加值 經銷商 雙方 策略 聯盟 企業 數位 轉型 商機財訊 快報 記者 王宜弘 報導 緯創 集團 旗下 緯謙 科技 搶攻 企業 數位 轉型 商機 週四 甲骨文 共同 舉辦 策略 結盟 發佈會 宣布 公司 正式 取得 甲骨文 加值 經銷商 身分 緯謙 表示 取得 甲骨文 加值 經銷商 資格 共同 推廣 分散式 雲端 服務 甲骨文 系列 產品 期盼 藉由 雙方 聯手 點亮 企業 雲端 現代 轉型 路程 加速 台灣 產業 智慧 發展 布局 緯謙 指出 公司 作為 創新 雲端 服務 供應商 深耕 數據 雲端 加值 服務 智慧', '緯創 旗下 緯謙 成為 甲骨文 加值 經銷商 雙方 策略 聯盟 企業 數位 轉型 商機財訊 快報 記者 王宜弘 報導 緯創 集團 旗下 緯謙 科技 搶攻 企業 數位 轉型 商機 週四 甲骨文 共同 舉辦 策略 結盟 發佈會 宣布 公司 正式 取得 甲骨文 加值 經銷商 身分 緯謙 表示 取得 甲骨文 加值 經銷商 資格 共同 推廣 分散式 雲端 服務 甲骨文 系列 產品 期盼 藉由 雙方 聯手 點亮 企業 雲端 現代 轉型 路程 加速 台灣 產業 智慧 發展 布局 緯謙 指出 公司 作為 創新 雲端 服務 供應商 深耕 數據 雲端 加值 服務 智慧', '公告 代子 公司 緯視晶 光電 昆山 有限 公司 簡稱 取得 機器 設備公司 名稱 緯創 代子 公司 視晶 光電 昆山 有限 公司 簡稱 取得 機器 設備 發言人 石慶堂 名稱 性質 坐落 台中市 北區 土地 機器 設備 事實 發生日 交易 單位 數量 平方 公尺 折合 單位 價格 交易 總金額 交易 數量 交易 總金額 美金 交易 相對人 公司 關係 交易 相對人 自然人 公司 關係人 揭露 姓名 交易 相對人 緯創資', '解析 支腳 升息 動向 關鍵時報 台北 美國 消費 物價 指數 高達 創近 增幅 超乎 市場 預期 促使 聯準會 會議 基準 利率 提高 多達 基點 周四 台股 開盤 驚跌 點報 直接 摜破 關卡 大跌 點至 不過 國安 基金 軍心 買盤 緩步 拉抬 支持 加上 雙王 台積電 大立光 法說 登場 大盤 時初 成功 翻紅 電子 航運 掌舵 高達 高低 隨後 區間 震盪 權值王 貨櫃 三雄 拉尾盤 站穩', '緯謙 科技 雲端 布局 攜甲 骨文 數位 轉型 商機緯創 集團 旗下 緯謙 科技 正式 成為 甲骨文 加值 經銷商 看好 雲端 推動 企業 數位 轉型 重要 關鍵 雙方 進行 策略 結盟 聯手 點亮 企業 雲端 現代 轉型 路程 加速 台灣 產業 智慧 發展 布局 緯謙 科技 專注 架構 打造 創新 雲端 服務 滿足 企業 彈性 需求 解決 轉型 難題 長期 深耕 數據 雲端 加值 服務 同時 智慧 製造 智慧 醫療 智慧 城市 領域 累積 豐富 客戶群 具備 深厚 雲端 技術 能力 產業 經驗 甲骨 文展 開策', '新創 林之晨 資本 寒冬 穿泳褲 上岸 留下 實力 創業家之初 加速器 主辦 正式 登場 董事長 合夥人 林之晨 表示 目前 面臨 資本 寒冬 進入 緊縮 週期 競爭 減少 市場 秩序 提升 真心 想要 創業 企業家 可以 把握 時機 獲得 真正 價值 機會 正式 展開 面對 資本 市場 寒冬 到來 區塊 鏈幣圈 進入 熊市 影響 新創 發展 林之晨 分享 創業 經歷 股災 回顧 以往 經驗 今年 資本 寒冬 金融 海嘯 相像 美國 聯準會 快速 升息 造成 林之晨 提到 市值', '新創 緯創 林憲銘 創新 環境 深耕 台灣 有助 發展筆電 工廠 緯創 成立 緯創 垂直 加速器 舉辦 共有 新創 團隊 發表 緯創 董事長 林憲銘 表示 緯創 運用 所有 想法 目標 理念 創新 動能 環境 台灣 深耕 期望 有助於 台灣 科技 林憲銘 表示 企業 創立 難度 相當 緯創 當初 成立 加速器 初衷 希望 自己 力量 稍微 灌溉 台灣 東南亞 地區 創新 動能 期待 動能 台灣 連結 包括 台灣 人才 資本 市場 營運 範圍 規模', '林憲銘 緯創 灌溉 創新 動能 帶動 未來 發展中央社 記者 吳家豪 台北 日電 筆電 代工廠 緯創 董事長 林憲銘 今天 表示 希望 透過 緯創 力量 灌溉 台灣 東南亞 創新 動能 緯創 有望 成為 直接 間接 惠者 帶動 公司 發展 林憲銘 今天 出席 緯創 成立 新創 速器 協助 營運 緯創 垂直 速器 活動 緯創 垂直 速器 招募 新創 團隊 發表 成果 分別 來自 台灣 美國 印度 香港 市場 林憲銘 致詞 表示 成立 加速器 初衷 希望 緯創 力量 稍微', '緯創 旗下 緯謙 結盟 甲骨文 拓雲端 布局中央社 記者 吳家豪 台北 日電 代工廠 緯創 集團 旗下 緯謙 科技 今天 宣布 取得 資料庫 大廠 甲骨文 加值 經銷商 身分 共同 推廣 分散式 雲端 服務 甲骨 文全 系列 產品 協助 企業 數位 轉型 緯謙 發布 新聞稿 指出 甲骨文 展開 策略 結盟 企業 客戶 提供 資料庫 搬遷 上雲 系統 建置 規劃 技術 支援 服務 協助 企業 資料 無縫 遷移 多雲 環境 緯創 副董事長 緯謙 科技 董事長 黃柏漙 表示 緯謙 積極 推動 產業 數位 轉型 累積 深厚 數位化 專業 知識', '公告 代子 公司 緯視晶 光電 昆山 有限 公司 簡稱 取得 機器 設備公司 名稱 緯創 代子 公司 視晶 光電 昆山 有限 公司 簡稱 取得 機器 設備 發言人 石慶堂 名稱 性質 坐落 台中市 北區 土地 機器 設備 事實 發生日 交易 單位 數量 平方 公尺 折合 單位 價格 交易 總金額 交易 數量 交易 總金額 美金 交易 相對人 公司 關係 交易 相對人 自然人 公司 關係人 揭露 姓名 交易 相對人 緯創資', '解析 支腳 升息 動向 關鍵時報 台北 美國 消費 物價 指數 高達 創近 增幅 超乎 市場 預期 促使 聯準會 會議 基準 利率 提高 多達 基點 周四 台股 開盤 驚跌 點報 直接 摜破 關卡 大跌 點至 不過 國安 基金 軍心 買盤 緩步 拉抬 支持 加上 雙王 台積電 大立光 法說 登場 大盤 時初 成功 翻紅 電子 航運 掌舵 高達 高低 隨後 區間 震盪 權值王 貨櫃 三雄 拉尾盤 站穩', '緯謙 科技 雲端 布局 攜甲 骨文 數位 轉型 商機緯創 集團 旗下 緯謙 科技 正式 成為 甲骨文 加值 經銷商 看好 雲端 推動 企業 數位 轉型 重要 關鍵 雙方 進行 策略 結盟 聯手 點亮 企業 雲端 現代 轉型 路程 加速 台灣 產業 智慧 發展 布局 緯謙 科技 專注 架構 打造 創新 雲端 服務 滿足 企業 彈性 需求 解決 轉型 難題 長期 深耕 數據 雲端 加值 服務 同時 智慧 製造 智慧 醫療 智慧 城市 領域 累積 豐富 客戶群 具備 深厚 雲端 技術 能力 產業 經驗 甲骨 文展 開策', '新創 林之晨 資本 寒冬 穿泳褲 上岸 留下 實力 創業家之初 加速器 主辦 正式 登場 董事長 合夥人 林之晨 表示 目前 面臨 資本 寒冬 進入 緊縮 週期 競爭 減少 市場 秩序 提升 真心 想要 創業 企業家 可以 把握 時機 獲得 真正 價值 機會 正式 展開 面對 資本 市場 寒冬 到來 區塊 鏈幣圈 進入 熊市 影響 新創 發展 林之晨 分享 創業 經歷 股災 回顧 以往 經驗 今年 資本 寒冬 金融 海嘯 相像 美國 聯準會 快速 升息 造成 林之晨 提到 市值', '新創 緯創 林憲銘 創新 環境 深耕 台灣 有助 發展筆電 工廠 緯創 成立 緯創 垂直 加速器 舉辦 共有 新創 團隊 發表 緯創 董事長 林憲銘 表示 緯創 運用 所有 想法 目標 理念 創新 動能 環境 台灣 深耕 期望 有助於 台灣 科技 林憲銘 表示 企業 創立 難度 相當 緯創 當初 成立 加速器 初衷 希望 自己 力量 稍微 灌溉 台灣 東南亞 地區 創新 動能 期待 動能 台灣 連結 包括 台灣 人才 資本 市場 營運 範圍 規模', '林憲銘 緯創 灌溉 創新 動能 帶動 未來 發展中央社 記者 吳家豪 台北 日電 筆電 代工廠 緯創 董事長 林憲銘 今天 表示 希望 透過 緯創 力量 灌溉 台灣 東南亞 創新 動能 緯創 有望 成為 直接 間接 惠者 帶動 公司 發展 林憲銘 今天 出席 緯創 成立 新創 速器 協助 營運 緯創 垂直 速器 活動 緯創 垂直 速器 招募 新創 團隊 發表 成果 分別 來自 台灣 美國 印度 香港 市場 林憲銘 致詞 表示 成立 加速器 初衷 希望 緯創 力量 稍微', '緯創 旗下 緯謙 結盟 甲骨文 拓雲端 布局中央社 記者 吳家豪 台北 日電 代工廠 緯創 集團 旗下 緯謙 科技 今天 宣布 取得 資料庫 大廠 甲骨文 加值 經銷商 身分 共同 推廣 分散式 雲端 服務 甲骨 文全 系列 產品 協助 企業 數位 轉型 緯謙 發布 新聞稿 指出 甲骨文 展開 策略 結盟 企業 客戶 提供 資料庫 搬遷 上雲 系統 建置 規劃 技術 支援 服務 協助 企業 資料 無縫 遷移 多雲 環境 緯創 副董事長 緯謙 科技 董事長 黃柏漙 表示 緯謙 積極 推動 產業 數位 轉型 累積 深厚 數位化 專業 知識', '情報 公股銀行 買賣 排行手機 介面 圖片 讀版 以下 資訊 張數 排列 買超 排名 股票 張數 排名 股票 張數 元大 台灣 長榮航 中信金 期元 原油 玉山金 群創 中鋼 友達 英業達 聯電 元大 股息 力積電 京元電子 國泰 台灣 期街口 布蘭 特正 大同 中信中國 股息 中信 關鍵 半導體 富邦 臺灣 加權 新光金 永豐金 台新金 開發金 國泰金 台塑 華邦電 元太 陽明 遠東 富邦金 新唐 王道銀行 晶彩科 裕隆 期元', '行政院 政務 委員 鄧振中 數位 南向 轉型 商機 潛力新冠 疫情 影響 全球 隨著 逐漸 解封 活力 重新 展現 國際 機構 預測 東協 國家 經濟 成長 高達 相當 看好 東協 國家 成長 活力 回來 我國 南向 地區 發展 可望 創造 高峰 認為 企業 前進 南向 以下 產業 發展 機會 愈來愈 包括 數位 醫療 以及 教育 產業 合作 機會 愈來愈 特別 美中 貿易 戰下 供應鏈 移轉 成為 趨勢 包括 台企 外商 陸續 中國大陸 轉移 東南亞 當地 需要 台灣 技術 管理', '產業 行政院 政務 委員 鄧振中 數位 南向 轉型 商機 潛力時報 台北 新冠 疫情 影響 全球 隨著 逐漸 解封 活力 重新 展現 國際 機構 預測 東協 國家 經濟 成長率 高達 相當 東協 國家 成長 活力 回來 我國 南向 地區 發展 可望 創造 高峰 認為 企業 前進 南向 以下 產業 發展 機會 愈來愈 包括 數位 醫療 以及 教育 產業 合作 機會 愈來愈 特別 美中 貿易 供應鏈 移轉 成為 趨勢 包括 台企 外商 陸續 中國大陸 轉移 東南亞 當地 需要', '法人 外資 布局 航空 面板股中央社 記者 江明晏 台北 日電 國安 基金 決議 進場 護盤 台股 今天 大漲 法人 買超 新台幣 其中 外資 買超 布局 航空 雙雄 面板 金融 個股 國安 基金 決議 進場 護盤 激勵 信心 回籠 電子 金融 權值股 拉抬 指數 大漲 終場 觀望 賣盤 出籠 漲勢 收斂 上漲 站回 萬四 關卡 日均線 法人 外資 陸資 投信 自營商 同步 買超 合計 買超 其中 自營商', '行政院 政務 委員 鄧振中 數位 南向 轉型 商機 潛力新冠 疫情 影響 全球 隨著 逐漸 解封 活力 重新 展現 國際 機構 預測 東協 國家 經濟 成長 高達 相當 看好 東協 國家 成長 活力 回來 我國 南向 地區 發展 可望 創造 高峰 認為 企業 前進 南向 以下 產業 發展 機會 愈來愈 包括 數位 醫療 以及 教育 產業 合作 機會 愈來愈 特別 美中 貿易 戰下 供應鏈 移轉 成為 趨勢 包括 台企 外商 陸續 中國大陸 轉移 東南亞 當地 需要 台灣 技術 管理', '產業 行政院 政務 委員 鄧振中 數位 南向 轉型 商機 潛力時報 台北 新冠 疫情 影響 全球 隨著 逐漸 解封 活力 重新 展現 國際 機構 預測 東協 國家 經濟 成長率 高達 相當 東協 國家 成長 活力 回來 我國 南向 地區 發展 可望 創造 高峰 認為 企業 前進 南向 以下 產業 發展 機會 愈來愈 包括 數位 醫療 以及 教育 產業 合作 機會 愈來愈 特別 美中 貿易 供應鏈 移轉 成為 趨勢 包括 台企 外商 陸續 中國大陸 轉移 東南亞 當地 需要', '法人 外資 布局 航空 面板股中央社 記者 江明晏 台北 日電 國安 基金 決議 進場 護盤 台股 今天 大漲 法人 買超 新台幣 其中 外資 買超 布局 航空 雙雄 面板 金融 個股 國安 基金 決議 進場 護盤 激勵 信心 回籠 電子 金融 權值股 拉抬 指數 大漲 終場 觀望 賣盤 出籠 漲勢 收斂 上漲 站回 萬四 關卡 日均線 法人 外資 陸資 投信 自營商 同步 買超 合計 買超 其中 自營商', '情報 公股銀行 買賣 排行手機 介面 圖片 讀版 以下 資訊 張數 排列 買超 排名 股票 張數 排名 股票 張數 國泰 永續 股息 日盛金 元大 股息 宏碁 南亞 玉山金 開發金 華航 富邦金 緯創 大同 元大 滬深 中信金 華新 聯電 鈺創 東新 榮成 群創 期街口 布蘭 特正 元大金 仁寶 新光金 亞泥 陽明 遠傳 元大 台灣 臺企銀 榮剛 中鋼 宏達電 元太 長榮航 欣興 第一 精材 國泰智能 電動車 漢翔 南紡', '上市櫃 營收上海 解封 新台幣 貶值 效應 上市櫃 公司 營收 創史 第三 新高 月增 年增 累計 營收 兆元 年增 締造史 上半年 法人 指出 通貨 膨脹 削弱 全球 消費力 企業庫 存續 拉高 第三 電子 旺季 投下 不利 變數 上海 解封 拉貨 效應 加上 新台幣 貶值 有利 出口 油電 燃器 觀光 運輸 族群 營收 年增 台股 領頭 新高 家數 不但 長榮 陽明 國巨 台達電 聯電 統一 欣興', '上市櫃 營收時報 台北電 上海 解封 新台幣 貶值 效應 上市 櫃公司 營收 創史 第三 新高 年增 累計 營收 年增 締造史 上半年 法人 指出 通貨 膨脹 削弱 全球 消費力 企業庫 存續 拉高 第三季 電子 旺季 投下 不利 變數 上海 解封 拉貨 效應 加上 新台幣 貶值 有利 出口 油電 燃器 觀光 運輸 族群 營收 年增 台股 領頭 月創 新高 家數 不但 長榮 陽明 國巨 台達電 聯電', '上市櫃 營收上海 解封 新台幣 貶值 效應 上市櫃 公司 營收 創史 第三 新高 月增 年增 累計 營收 兆元 年增 締造史 上半年 法人 指出 通貨 膨脹 削弱 全球 消費力 企業庫 存續 拉高 第三 電子 旺季 投下 不利 變數 上海 解封 拉貨 效應 加上 新台幣 貶值 有利 出口 油電 燃器 觀光 運輸 族群 營收 年增 台股 領頭 新高 家數 不但 長榮 陽明 國巨 台達電 聯電 統一 欣興', '上市櫃 營收時報 台北電 上海 解封 新台幣 貶值 效應 上市 櫃公司 營收 創史 第三 新高 年增 累計 營收 年增 締造史 上半年 法人 指出 通貨 膨脹 削弱 全球 消費力 企業庫 存續 拉高 第三季 電子 旺季 投下 不利 變數 上海 解封 拉貨 效應 加上 新台幣 貶值 有利 出口 油電 燃器 觀光 運輸 族群 營收 年增 台股 領頭 月創 新高 家數 不但 長榮 陽明 國巨 台達電 聯電', '情報 公股銀行 買賣 排行手機 介面 圖片 讀版 以下 資訊 張數 排列 買超 排名 股票 張數 排名 股票 張數 元大 台灣 國泰金 富邦金 宏碁 長榮航 聯電 街口 布蘭 特正 期元 原油 開發金 台積電 台塑 中信金 南亞 緯創 元大 股息 元大 滬深 陽明 華邦電 京元 電子 長榮 國泰 臺灣 加權 欣興 群創 華航 仁寶 漢翔 國泰 台灣 南茂 日月光 投控 宏泰 英業達 中華電 永豐金 富邦 臺灣 加權 台新金 訊舟', '統一 證券 晨訊 短線 蘊釀 跌深 反彈 上檔 壓力 重重日期 盤勢 分析 短線 蘊釀 跌深 反彈 上檔 壓力 重重 昨日 盤勢 受到 道瓊 指數 下跌 影響 昨日 台股 下跌 開出 紐約 原油 價格 跌破 塑化 族群 南亞 昨日 息後 重挫 台塑 台塑 台化 走勢 疲軟 國泰金 富邦金等 金融 權值股 族群 同步 走弱 拖累 指數 開低 震盪 走低 電子 方面 台積電 翻黑 精材 達興 材料 創意 相關 概念股 重挫 貨櫃 三雄 不敵 賣壓 翻黑 尾盤 多方棄守 跌破 關卡', '統一 證券 晨訊 短線 蘊釀 跌深 反彈 上檔 壓力 重重日期 盤勢 分析 短線 蘊釀 跌深 反彈 上檔 壓力 重重 昨日 盤勢 受到 道瓊 指數 下跌 影響 昨日 台股 下跌 開出 紐約 原油 價格 跌破 塑化 族群 南亞 昨日 息後 重挫 台塑 台塑 台化 走勢 疲軟 國泰金 富邦金等 金融 權值股 族群 同步 走弱 拖累 指數 開低 震盪 走低 電子 方面 台積電 翻黑 精材 達興 材料 創意 相關 概念股 重挫 貨櫃 三雄 不敵 賣壓 翻黑 尾盤 多方棄守 跌破 關卡', '新聞 多萬 股民 緊張 南亞 股票原文 標題 多萬 股民 緊張 南亞 股票 除息 大盤 蒸發 原文 連結 發布 時間 記者 署名 記者 陳依旻 台北 報導 原文 內容 多萬 股民 緊張 南亞 股票 除息 大盤 蒸發 南亞 股票 今日 除息 指數 蒸發 資料 記者 陳依旻 台北 報導 南亞 開發金 聯邦銀 股票 除息 合計 股民 期待 大盤 指數 蒸發約 南亞 開發金 聯邦銀 除息 福壽 大億', '情報 公股銀行 買賣 排行手機 介面 圖片 讀版 以下 資訊 張數 排列 買超 排名 股票 張數 排名 股票 張數 京城 樂富 元大 原油 開發金 緯創 國泰 永續 股息 中信金 元大 股息 元大 滬深 南亞 漢翔 長榮航 奇鋐 聯電 日盛金 陽明 元大 台灣 元大金 富邦 台灣 半導體 期街口 布蘭 特正 臺企銀 富邦 越南 順德 中鋼 國泰 費城 半導體 長榮 香港 國泰金 旺宏 華邦電 台積電 新光金 永豐金 華航 元大台灣', '新聞 外資 提款 橫掃 金傳 權值股 回補外資 提款 橫掃 電金 權值股 回補 台積電 鉅亨網 記者 林薏茹 台北 台股 日電金 傳產 權值股 全面 倒地 台股 盤勢 外資 面板 金融 台股 開低 走低 終場 大跌 失守 萬四 外資 提款 橫掃 電金 傳產 權值股 金融股 出脫 上萬 面板 三虎 權王 台積電 外資 回補 法人 方面 外資 持續 賣超 投信 小幅 買超 自營商 反手 賣超 法人 賣超', '台北 股市 影響 指數時報 記者 莊丙農 台北 報導 根據 證交所 統計 今天 計有 南亞 上市 公司 影響 大盤 指數 今天 股票 計有 福壽 南亞 吉茂 新光鋼 六暉 震旦行 盛電 敦吉 嘉里 大榮 華航 台灣 高鐵 聯邦銀 開發金 緯創 訊映 銘鈺 展碁 國際 宏全 其中 南亞 發行 市值 減少 發行量 加權 股價 指數 指數 採樣 股票 除息 減少 市值 發行量 加權 股價 指數', '統一 證券 晨訊 短線 蘊釀 跌深 反彈日期 盤勢 分析 原油 暴跌 通膨 有望 降溫 短線 蘊釀 跌深 反彈 昨日 盤勢 受到 早上 美股 期貨 電子盤 上漲 激勵 昨日 台股 大漲 開出 台積電 開高 走低 短短 小時 時間 當日 高點 一路 殺到 拖累 指數 開盤 高點 一路 下跌 盤面 許多 遭受 重創 不過 午盤 過後 低接 買盤 進場 台積電 單日 出現 神奇 尾盤 甚至 翻紅 帶動 相關 個股 回神 加上 貨櫃 長榮 陽明 漲幅', '解析 電子 反彈 失敗時報 台北 美國 經濟 陷入 衰退 憂慮 鈍化 投資人 焦點 美國 經濟 成長 軌跡 利率 下滑 科技股 成長型 股票 啟動能 量級 科技股 全漲 美股 周二 午後 反攻 道瓊 指數 暴跌 點到 終場 小跌 科技股 為主 呈現 反彈勁揚 標普 指數 費半 小紅 周三 台股 並未 風起色 開跌 點報 南亞 摔苦 貼息 塑膠 族群 重摔 電金傳疲憊 來到 下跌 失守 關卡 截止 上午 左右', '台北 股市 影響 指數時報 記者 莊丙農 台北 報導 根據 證交所 統計 今天 計有 南亞 上市 公司 影響 大盤 指數 今天 股票 計有 福壽 南亞 吉茂 新光鋼 六暉 震旦行 盛電 敦吉 嘉里 大榮 華航 台灣 高鐵 聯邦銀 開發金 緯創 訊映 銘鈺 展碁 國際 宏全 其中 南亞 發行 市值 減少 發行量 加權 股價 指數 指數 採樣 股票 除息 減少 市值 發行量 加權 股價 指數', '統一 證券 晨訊 短線 蘊釀 跌深 反彈日期 盤勢 分析 原油 暴跌 通膨 有望 降溫 短線 蘊釀 跌深 反彈 昨日 盤勢 受到 早上 美股 期貨 電子盤 上漲 激勵 昨日 台股 大漲 開出 台積電 開高 走低 短短 小時 時間 當日 高點 一路 殺到 拖累 指數 開盤 高點 一路 下跌 盤面 許多 遭受 重創 不過 午盤 過後 低接 買盤 進場 台積電 單日 出現 神奇 尾盤 甚至 翻紅 帶動 相關 個股 回神 加上 貨櫃 長榮 陽明 漲幅', '解析 電子 反彈 失敗時報 台北 美國 經濟 陷入 衰退 憂慮 鈍化 投資人 焦點 美國 經濟 成長 軌跡 利率 下滑 科技股 成長型 股票 啟動能 量級 科技股 全漲 美股 周二 午後 反攻 道瓊 指數 暴跌 點到 終場 小跌 科技股 為主 呈現 反彈勁揚 標普 指數 費半 小紅 周三 台股 並未 風起色 開跌 點報 南亞 摔苦 貼息 塑膠 族群 重摔 電金傳疲憊 來到 下跌 失守 關卡 截止 上午 左右', '情報 上市 外資 買賣 排行圖片 讀版 排行 代號 名稱 張數 排行 代號 名稱 張數 長榮航 陽明 友達 元大金 群創 長榮 日月光 投控 國泰金 遠東新 宏碁 漢翔 宏達電 元大 台灣 聯電 欣興 台新金 台泥 新光金 東陽 國泰智能 電動車 國泰 臺灣 加權 緯創 臺股 凱基 富邦金 臺企銀 中信 關鍵 半導體 富邦 越南 昇陽 半導體 美時 東元 智原 兆豐金 中信金 元大台灣 三陽工業 鴻海 華航 台積電', '情報 公股銀行 買賣 排行手機 介面 圖片 讀版 以下 資訊 張數 排列 買超 排名 股票 張數 排名 股票 張數 陽明 元大 滬深 元大 台灣 第一 聯電 富邦 日月光 投控 漢翔 元大金 遠東 元大 股息 中華電 國泰 永續 股息 中信金 宏達電 群創 長榮 南茂 國泰金 力積電 元大 華航 中鋼 長榮航 新光金 上海商銀 國泰 臺灣 加權 友達 台新金 臺企銀 廣積 裕隆 國光生 益得 國票金 建漢', '賠錢 做到 營收 比重 宏碁 資訊 雲端 商機 得從 年前 網通 泡沫 殘局 說起宏碁 資訊 軟體 事業 布局 相當 多元 多數 軟體 方案 日前 通過 上櫃 審議 到底 怎麼 聚焦 雲端 事業 突破 營收 新高 集團 底下 宏碁 資訊 列為 所謂 金虎 代表 公司 宏碁 董事長 陳俊聖 高度 期待 資本 市場 得到 認同 重要 投資 無論 業績 表現 營運 重心 目前 資本額 六億 軟體 公司 確實 抓住 市場 眼光 機會 業績 宏碁 資訊 創下 營收 新高', '賠錢 做到 營收 比重 宏碁 資訊 雲端 商機 得從 年前 網通 泡沫 殘局 說起宏碁 資訊 軟體 事業 布局 相當 多元 多數 軟體 方案 日前 通過 上櫃 審議 到底 怎麼 聚焦 雲端 事業 突破 營收 新高 集團 底下 宏碁 資訊 列為 所謂 金虎 代表 公司 宏碁 董事長 陳俊聖 高度 期待 資本 市場 得到 認同 重要 投資 無論 業績 表現 營運 重心 目前 資本額 六億 軟體 公司 確實 抓住 市場 眼光 機會 業績 宏碁 資訊 創下 營收 新高', '情報 上市 外資 買賣 排行圖片 讀版 排行 代號 名稱 張數 排行 代號 名稱 張數 元大 台灣 長榮 華新 日月光 投控 友達 新光金 元大 滬深 中信金 期街口 布蘭 特正 華孚 昇陽 半導體 陽明 致伸 元大金 開發金 元大 台灣 富邦 臺灣 加權 中鋼 宏達電 聯電 長榮 統一 國泰金 國泰智能 電動車 群創 遠東新 宏碁 第一 中興電 國泰 臺灣 加權 力積電 中信電池 儲能 南亞科 長榮航 緯創 東陽', '伺服器 緯穎 擴廠 商機緯穎 科技 自建 首座 自有 綠色 智慧 工廠 去年 展開 第一 機櫃 組裝廠 工程 第二 伺服器 主機 板廠 正式 動工 分別於 陸續 加入 投產 墨西哥 擴建 預計 近期 動工 持續 增長 超大型 資料中心 服務 需求 緯穎 預計 大馬 新廠 第一 機櫃 組裝 產線 明年 首季 完工 至於 第二 主板 產線 規畫 年底 完工 預計 加入 投產 屆時 緯穎 大馬 具備 前段 後段 組裝 完整 產線 推升', '伺服器 緯穎 擴廠 商機緯穎 科技 自建 首座 自有 綠色 智慧 工廠 去年 展開 第一 機櫃 組裝廠 工程 第二 伺服器 主機 板廠 正式 動工 分別於 陸續 加入 投產 墨西哥 擴建 預計 近期 動工 持續 增長 超大型 資料中心 服務 需求 緯穎 預計 大馬 新廠 第一 機櫃 組裝 產線 明年 首季 完工 至於 第二 主板 產線 規畫 年底 完工 預計 加入 投產 屆時 緯穎 大馬 具備 前段 後段 組裝 完整 產線 推升', '情報 上市 外資 買賣 排行圖片 讀版 排行 代號 名稱 張數 排行 代號 名稱 張數 元大 台灣 元大金 群創 慧洋 新光金 達邁 聯電 宏碁 陽明 富邦 臺灣 加權 富邦 越南 友達 國泰金 華孚 元大 台灣 長榮航 萬海 國泰 臺灣 加權 元大 股息 華航 南亞 台積電 緯創 中電 兆豐金 玉山金 日月光 投控 中石化 永豐金 國泰智能 電動車 宏達電 臺企銀 第一 華通 金寶 南亞科 遠東', '情報 公股銀行 買賣 排行手機 介面 圖片 讀版 以下 資訊 張數 排列 買超 排名 股票 張數 排名 股票 張數 元大 台灣 長榮航 元大 滬深 裕隆 長榮 富邦 中環 元大金 新光金 國泰 臺灣 加權 群創 開發金 國泰智能 電動車 台新金 友達 中鋼 台化 陽明 台泥 元大 股息 華孚 聯合 再生 元大 原油 力麒 台塑 國泰美 國道瓊 台積電 矽格 富邦 臺灣 加權 富邦 越南 中電 國泰金 華航 旺宏', '統一 證券 晨訊 國際 股市 止穩 台股 醞釀 反彈日期 盤勢 分析 國際 股市 止穩 台股 醞釀 跌深 反彈 擇優 操作 昨日 盤勢 受到 美國 道瓊 那斯達克 指數 帶動 周五 台股 指數 以上 開出 多方 買盤 湧入 台積電 聯電 跌回穩 跌深 貨櫃 三雄 陽明 長榮 萬海 台驊 投控 大漲 太陽能 面板 工具機 自行車 生醫 族群 不錯 表現 帶動 早盤 指數 震盪 走高 大漲 兩百 站上 均線 不過 成交量 無法 有效 放大 顯見 市場 投資人 追價 買盤', '統一 證券 晨訊 國際 股市 止穩 台股 醞釀 反彈日期 盤勢 分析 國際 股市 止穩 台股 醞釀 跌深 反彈 擇優 操作 昨日 盤勢 受到 美國 道瓊 那斯達克 指數 帶動 周五 台股 指數 以上 開出 多方 買盤 湧入 台積電 聯電 跌回穩 跌深 貨櫃 三雄 陽明 長榮 萬海 台驊 投控 大漲 太陽能 面板 工具機 自行車 生醫 族群 不錯 表現 帶動 早盤 指數 震盪 走高 大漲 兩百 站上 均線 不過 成交量 無法 有效 放大 顯見 市場 投資人 追價 買盤', '情報 上市 投信 買賣 排行圖片 讀版 排行 代號 名稱 張數 排行 代號 名稱 張數 友達 聯電 緯創 中鋼 長榮 新唐 陽明 長榮航 中華電 文曄 南亞 永豐金 金像電 京元電子 和碩 中砂 中磊 智原 元大金 南茂 中信金 瑞昱 台灣大 華航 華通 台勝科 微星 日月光 投控 東陽 台肥 美利達 聯發科 技嘉 億光 兆豐金 廣達 台橡 錸寶 大聯大 晶華 健鼎 新光鋼 美時 旺宏 華新 橋椿 中興電 聯茂', '情報 上市 外資 買賣 排行圖片 讀版 排行 代號 名稱 張數 排行 代號 名稱 張數 元大 台灣 日月光 投控 友達 中鋼 元大 滬深 陽明 新光金 長榮航 聯電 中興電 元大金 三陽 工業 長榮 富邦 臺灣 加權 慧洋 中石化 緯創 群創 國泰金 聯發科 臺企銀 永豐金 台泥 京元電子 國泰 臺灣 加權 台亞 遠東新 宏達電 亞太電 台積電 台灣 宏碁 玉山金 華新 萬海 矽格 聯合', '情報 自營商 買賣 超彙 總表等等 排版 難得 自營 百億 一下 標題 自營商 買賣 超彙 總表 來源 公司 網址 善用 網址 工具 內文 自營商 證券 代號 證券 名稱 買賣 股數 長榮 台積電 中信金 台新金 開發金 新光金 中鋼 鴻海 合庫金 華南金 彰銀 聯電 國泰金 玉山金 兆豐金 第一 永豐金 富邦金 臺企銀 陽明 台塑化 中華電 南亞 台中銀 群創 台塑 台泥 台化 長榮', '情報 調整 持股 排名 張數 差異符合 以下 文章 格式 違者 刪除 分類 提供 以下 文章 搬運 每日 交易 數據 相關 每日 法人 買買 資券 交易量 公司 重要 訊息 相關 營收 股利 股東會 法說會 內容 整理 現有 資訊 整理 相關 殖利率 排名 金融股 獲利 分布 詳閱 板規 參考 相關 規定 刪除 以上 內容 標題 調整 前後 持股 排名 張數 差異 來源 元大 投信 先前 截圖 網址 內文 理論 今天 調整完 整理 純粹 因為 對於 某些 股票 調整', '情報 上市 投信 買賣 排行標題 上市 投信 買賣 排行 來源 富邦證券 網址 內文 訊號 圖片版 買超 名次 股票 名稱 張數 名次 股票 名稱 張數 聯電 群創 陽明 兆豐金 東和 鋼鐵 華航 文曄 興富發 中華電 中鋼 裕隆 亞泥 上海商銀 裕民 台灣大 長榮航 仁寶 聯強 南亞 英業達 遠傳 長榮 華通 台泥 微星 光寶科 美時 大聯大 廣達 緯創 元大金 智原 玉山金 友達 台達電 中鴻 聯詠 慧洋', '情報 上市 外資 買賣 排行圖片 讀版 排行 代號 名稱 張數 排行 代號 名稱 張數 元大 台灣 聯電 群創 中鋼 兆豐金 華航 富發 元大金 富邦 臺灣 加權 國泰 台灣 國泰智能 電動車 長榮航 裕民 友達 聯強 鴻海 第一金 國泰金 國泰 臺灣 加權 新光金 玉山金 台積電 統一 裕隆 英業達 富邦金 亞泥 宏達電 臺企銀 文曄 中華電 開發金 榮運 長榮 光寶科 東和鋼鐵 華新 元大 台灣 亞太電 宏碁', '情報 元大 台灣 股息 基金 權重標題 元大 台灣 股息 基金 權重 來源 元大 投信 網站 網址 內文 代碼 股票 名稱 股數 權重 陽明 聯詠 華碩 長榮 廣達 仁寶 微星 和碩 聯發科 亞泥 光寶科 聯電 聯大 緯創 友達 台泥 中鋼 英業達 文曄 健鼎 技嘉 群光 聯強 京元 電子 瑞儀 遠雄 義隆 東和鋼鐵 中鴻 超豐 目前 規模 今天 剔除 成分股 賣完 但是 過渡期 明天 所以 成分股 權重 還是 稍微 調整 權重 分布 按照', '情報 公股銀行 買賣 排行手機 介面 圖片 讀版 以下 資訊 張數 排列 買超 排名 股票 張數 排名 股票 張數 聯電 元大 台灣 中鋼 第一 國泰金 富邦 臺灣 加權 長榮 榮剛 元大 股息 力積電 友達 國泰 臺灣 加權 華航 彩晶 群創 玉山金 國泰 永續 股息 國泰 台灣 上海 商銀 中信 關鍵 半導體 京元電子 宏達電 開發金 光罩 聯發科 華邦電 燁輝 華南金 元大 台灣 元太 台積電 裕隆 仁寶', '情報 上市 投信 買賣 排行圖片 讀版 排行 代號 名稱 張數 排行 代號 名稱 張數 聯電 群創 陽明 兆豐金 東和鋼鐵 中鋼 文曄 富發 鴻海 亞泥 國泰金 裕民 中華電 聯強 南亞 慧洋 智易 英業達 微星 長榮 中信金 台泥 聯發科 光寶科 統一 大聯大 裕隆 京元電子 仁寶 緯創 廣達 新唐 定穎 華航 景碩 友達 聯詠 中鴻 正文 漢翔 上海商銀 智原 達邁 同欣電 開發金 和碩 台塑 欣興', '情報 公股銀行 買賣 排行手機 介面 圖片 讀版 以下 資訊 張數 排列 買超 排名 股票 張數 排名 股票 張數 群創 元大 台灣 聯電 台泥 元大 股息 元大 滬深 中鋼 中信金 國泰 永續 股息 國泰智能 電動車 華航 臺企銀 永豐金 仁寶 期街口布蘭 特正 京元 電子 長榮航 期元 國泰 台灣 光寶科 玉山金 正文 台積電 國泰基 免疫 革命 宏碁 長榮 漢翔 華邦電 彩晶 元大金 中信 關鍵 半導體 富邦金 興富發', '操盤 心法 下滑 趨勢 留意 月生 技展 題材經濟 事件 分析 隨著 加重 升息 美國 經濟 下行 風險 成長率 預估 值從 預測 下修 美國 第二 季增 年率 先前 下調 美國 經濟 面臨 艱困期 狂鷹 升息 企業 獲利 紛紛 調降 標普 企業 第二季 獲利 年增 降至 第三季 獲利 年減 第四季 獲利 年減 不過 美國 核心 物價 指數 下來 估計 房屋 銷售 下滑 房價 還是 撐不住 下跌 高油價 真的 影響 消費 汽油 需求 出現 走軟 跡象 天然 氣期貨', '公告 金麗科 股東會 決議 解除 董事 競業 限制案公司 名稱 金麗科 金麗科 股東會 決議 解除 董事 競業 限制案 發言人 呂世民 股東會 決議 許可 從事 競業 行為 董事 姓名 職稱 董事 易建男 董事 陳有諒 董事 呂理達 董事 胡鈞陽 董事 詹顯德 獨立 董事 林進財 獨立 董事 張世穎 獨立 董事 張郁禮 獨立 董事 蕭錫鍊 許可 從事 競業行 為之 項目 董事 陳有諒 蔚華 科技 公司 董事長 李洲 科技 公司 董事 波若威 科技 公司 董事 創資', '操盤 心法 下滑 趨勢 留意 月生 技展 題材經濟 事件 分析 隨著 加重 升息 美國 經濟 下行 風險 成長率 預估 值從 預測 下修 美國 第二 季增 年率 先前 下調 美國 經濟 面臨 艱困期 狂鷹 升息 企業 獲利 紛紛 調降 標普 企業 第二季 獲利 年增 降至 第三季 獲利 年減 第四季 獲利 年減 不過 美國 核心 物價 指數 下來 估計 房屋 銷售 下滑 房價 還是 撐不住 下跌 高油價 真的 影響 消費 汽油 需求 出現 走軟 跡象 天然 氣期貨', '公告 金麗科 股東會 決議 解除 董事 競業 限制案公司 名稱 金麗科 金麗科 股東會 決議 解除 董事 競業 限制案 發言人 呂世民 股東會 決議 許可 從事 競業 行為 董事 姓名 職稱 董事 易建男 董事 陳有諒 董事 呂理達 董事 胡鈞陽 董事 詹顯德 獨立 董事 林進財 獨立 董事 張世穎 獨立 董事 張郁禮 獨立 董事 蕭錫鍊 許可 從事 競業行 為之 項目 董事 陳有諒 蔚華 科技 公司 董事長 李洲 科技 公司 董事 波若威 科技 公司 董事 創資', '情報 上市 外資 買賣 排行圖片 讀版 排行 代號 名稱 張數 排行 代號 名稱 張數 群創 聯電 兆豐金 陽明 元大 台灣 東和 鋼鐵 開發金 友達 第一 文曄 長榮航 元大 滬深 新光金 南亞科 合庫金 南亞 聯強 統一 華孚 日月光 投控 台泥 聯發科 國泰 臺灣 加權 華南金 中鋼 臺企銀 旺宏 裕民 聯詠 台積電 上銀 彰銀 志超 欣興 富邦越南 永豐金 中信 中國 股息 台新金 金像電 國泰', '情報 公股銀行 買賣 排行手機 介面 圖片 讀版 以下 資訊 張數 排列 買超 排名 股票 張數 排名 股票 張數 友達 元大 台灣 中鋼 第一金 華航 開發金 臺企銀 台泥 元大 滬深 群創 富發 長榮航 富邦 越南 新光金 長榮 南亞 元大 股息 華新 元大 原油 永豐金 京城 樂富 富邦 台中銀 中信金 遠東銀 華孚 富邦 元大金 正文 合庫金 國泰 永續 股息 國泰金 光鼎 國泰 臺灣 加權 宏碁 台新金', '國際 信任 機器 公司 共同 創辦人 黃冠寰 完美 解決 成本 問題台南 區塊 產業 國際 博覽會 資工系 教授 國際 信任 機器 公司 共同 創辦人 黃冠寰 即將 參與 台南 區塊 產業 國際 博覽會 國際 信任 機器 公司 開發 透過 百萬 等級 區塊 擴容 解決 方案 不需 支付 礦工費 不需 編寫 智能 合約 協助 個人 企業 產生 大量 資料 存證 公有 區塊 太坊 建立 篡改 人人 信任 資料 近年 發展 迅猛 先是 宣布 加入 聯發科技 生態 系統 攜手 產業鏈 夥伴 打造 軟硬 整合 解決 方案', '國際 信任 機器 公司 共同 創辦人 黃冠寰 完美 解決 成本 問題台南 區塊 產業 國際 博覽會 資工系 教授 國際 信任 機器 公司 共同 創辦人 黃冠寰 即將 參與 台南 區塊 產業 國際 博覽會 國際 信任 機器 公司 開發 透過 百萬 等級 區塊 擴容 解決 方案 不需 支付 礦工費 不需 編寫 智能 合約 協助 個人 企業 產生 大量 資料 存證 公有 區塊 太坊 建立 篡改 人人 信任 資料 近年 發展 迅猛 先是 宣布 加入 聯發科技 生態 系統 攜手 產業鏈 夥伴 打造 軟硬 整合 解決 方案', '情報 上市 投信 買賣 排行圖片 讀版 排行 代號 名稱 張數 排行 代號 名稱 張數 華新 友達 台泥 永豐金 日月光 投控 開發金 仁寶 大成鋼 宏碁 智原 聯大 南亞科 上海商銀 鴻準 元大金 第一 可成 遠傳 華航 聯強 長榮航 兆豐金 文曄 華通 鴻海 中信金 京元電子 中鋼 光罩 統一 台光電 景碩 富邦金 南亞 廣達 遠東新 聯電 亞聚 微星 華邦電 佳世達 華晶科 技嘉 統一 漢翔 金像電', '夢幻 恥股 機會 解套鴻海 分析 鴻海集團 股票 軍事化 沒有 創意 集團 興趣 還是 自已 決定 不準 本益 風險 其實 只是 日電貿 基本面 風險 興富發 營建股 通膨 關係 比較 有利 所以 欣銓 基本 面對 風險 光隆 產業 營收 獲利 正常 也許 永信 業績 殖利率 一點 風險', '夢幻 恥股 機會 解套鴻海 存股 日電 貿剩 存股 興富發剩 存股 欣銓 股利 存股 光隆 認識 存股 永信剩 認識 存股 雲品 解封 行情 存股 正新 跟到 電動車 行情 神腦剩 中華電 好像 有關係 存股 敬鵬 不能 跟到 電動車 行情 允強 老朋友 加減 股利 建大剩 跟到 電動車 行情 寶成剩', '夢幻 恥股 機會 解套鴻海 仁寶 緯創 神腦 康舒 寶成 目前 仁寶 興趣 新巨 入手價 預期 大漲 領息 而已 很多 持有 神腦 那些 康舒 以前 熱門 題材 總是 什麼 進步 寶成 現在 金融業 製鞋業 看看 豐泰 表現 寶成 成績', '公告 緯創代 公司 關係人 取得 動產 使用權 資產公司 名稱 緯創 代子 公司 關係人 取得 不動產 使用權 資產 發言人 石慶堂 名稱 性質 坐落 台中市 北區 土地 位於 華雷斯城 建物 使用權 資產 事實 發生 交易 單位 數量 平方 公尺 折合 單位 價格 交易 總金額 交易 單位 數量 平方 英尺 租金 總金額 使用權 資產 金額 交易 相對人 公司 關係 交易 相對人 自然人 公司 關係人者 免揭', '公告 緯創代 公司 關係人 取得 動產 使用權 資產公司 名稱 緯創 代子 公司 關係人 取得 不動產 使用權 資產 發言人 石慶堂 名稱 性質 坐落 台中市 北區 土地 位於 華雷斯城 建物 使用權 資產 事實 發生 交易 單位 數量 平方 公尺 折合 單位 價格 交易 總金額 交易 單位 數量 平方 英尺 租金 總金額 使用權 資產 金額 交易 相對人 公司 關係 交易 相對人 自然人 公司 關係人者 免揭', '情報 上市 投信 買賣 排行圖片 讀版 排行 代號 名稱 張數 排行 代號 名稱 張數 華新 鴻海 鴻海 奇鋐 奇鋐 仁寶 上海商銀 大聯大 仁寶 宏碁 大聯大 京元電子 台泥 日月光 投控 宏碁 文曄 京元電子 可成 日月光 投控 昇陽 半導體 文曄 漢翔 可成 英業達 昇陽 半導體 光罩 漢翔 微星 臻鼎 中砂 英業達 長榮 光罩 佳世達 微星 東和 鋼鐵 中砂 力成 廣達 長榮 台光電 元大金 順德 佳世達', '情報 上市 外資 買賣 排行圖片 讀版 排行 代號 名稱 張數 排行 代號 名稱 張數 長榮航 新光金 華航 開發金 群創 元大金 鴻海 華新 永豐金 國泰金 華南金 國泰智能 電動車 臺企銀 富邦金 友達 定穎 奇鋐 元大 滬深 聯電 長榮 欣興 元大 台灣 陽明 台積電 宏碁 中信金 彰銀 慧洋 合庫金 四維航 遠東新 富邦 中石化 緯創 金像電 富邦 宇宙 中砂 萬海 東陽 南亞', '情報 公股銀行 買賣 排行手機 介面 圖片 讀版 以下 資訊 張數 排列 買超 排名 股票 張數 排名 股票 張數 元大 台灣 友達 新光金 長榮航 國泰金 華航 元大 滬深 群創 開發金 仁寶 元大金 南亞 大聯大 台泥 全友 鴻海 兆豐新光 鴻準 日月光 投控 漢翔 國泰智能 電動車 聯強 元太 台化 富邦金 昇陽 半導體 富邦 証正 台塑 上海 商銀 華南金 元大 原油 中信金 大同 定穎 亞太電 永豐金 永豐優', '情報 上市 外資 買賣 排行圖片 讀版 排行 代號 名稱 張數 排行 代號 名稱 張數 陽明 開發金 群創 新光金 華新 元大金 大同 聯電 長榮 元大 滬深 長榮航 國泰金 華航 中信金 上海商銀 富邦金 第一 國泰 永續 股息 友達 中鋼 大亞 國泰智能電 動車 合庫金 宏碁 華南金 仁寶 大聯大 南亞 金像電 遠傳 欣興 耿鼎 東鹼 力積電 台積電 萬海 鴻海 漢翔 統一 華通 景碩 東陽 緯創', '恩智浦 採用 積電 奈米 製程 打造 處理器中央社 記者 張建中 新竹 日電 恩智浦 今天 宣布 採用 台積電 奈米 製程 打造 系列 車用 處理器 恩智浦 指出 旗下 處理器 內嵌 鴻海 裕隆 合資 鴻華 先進 科技 恩智浦 總裁 執行長 席福 下午 台北 電腦展 論壇 演講 智慧 邊緣 體驗 奠定 基礎 恩智浦 台積電 合作 奈米 鰭式場 效電 晶體 雷達 車輛 網路 處理器 導入 量產 恩智浦 去年 表示 系列 車用 處理器 可能 採用 台積電 奈米 製程 席福 今天', '恩智浦 牽手 台廠 積電 奈米 打造 處理器 導入 鴻海 電動車台北 國際 電腦展 正式 開展 首日 第二 恩智浦 半導體 總裁 執行長 席福 智慧 邊緣 體驗 奠定 基礎 為題 發表 演說 意外 透露 電子 應用 領域 分別 台積電 鴻海 集團 合作 恩智浦 主打 電子 產品 揭露 新一代 處理器 過去 席福 透露 系列 處理器 可能 台積電 奈米 製程 今日 證實 安全 等級 系統 單晶片 就是 台積電 奈米 技術 製程 此外 台積電 合作 奈米 鰭式 場效 電晶體 雷達', '恩智浦 台積 奈米 打造 晶片 應用 車款半導體 大廠 恩智浦 總裁 執行長 席福 台北 國際 電腦展 論壇 智慧 邊緣 體驗 奠定 基礎 為題 演講 席福 表示 恩智浦 採用 台積電 奈米 製程 打造 處理器 處理器 應用 鴻海 裕隆 合資 打造 車款 席福 表示 恩智浦 先前 已經 採用 台積電 奈米 製程 打造 雷達 網路 晶片 現在 已經 導入 量產 後續 採用 台積電 奈米 製程 安全 等級 打造 處理器 晶片 其中 應用 鴻海 裕隆 合資 鴻華 先進 科技', '恩智浦 採用 積電 奈米 製程 打造 處理器中央社 記者 張建中 新竹 日電 恩智浦 今天 宣布 採用 台積電 奈米 製程 打造 系列 車用 處理器 恩智浦 指出 旗下 處理器 內嵌 鴻海 裕隆 合資 鴻華 先進 科技 恩智浦 總裁 執行長 席福 下午 台北 電腦展 論壇 演講 智慧 邊緣 體驗 奠定 基礎 恩智浦 台積電 合作 奈米 鰭式場 效電 晶體 雷達 車輛 網路 處理器 導入 量產 恩智浦 去年 表示 系列 車用 處理器 可能 採用 台積電 奈米 製程 席福 今天', '恩智浦 牽手 台廠 積電 奈米 打造 處理器 導入 鴻海 電動車台北 國際 電腦展 正式 開展 首日 第二 恩智浦 半導體 總裁 執行長 席福 智慧 邊緣 體驗 奠定 基礎 為題 發表 演說 意外 透露 電子 應用 領域 分別 台積電 鴻海 集團 合作 恩智浦 主打 電子 產品 揭露 新一代 處理器 過去 席福 透露 系列 處理器 可能 台積電 奈米 製程 今日 證實 安全 等級 系統 單晶片 就是 台積電 奈米 技術 製程 此外 台積電 合作 奈米 鰭式 場效 電晶體 雷達', '恩智浦 台積 奈米 打造 晶片 應用 車款半導體 大廠 恩智浦 總裁 執行長 席福 台北 國際 電腦展 論壇 智慧 邊緣 體驗 奠定 基礎 為題 演講 席福 表示 恩智浦 採用 台積電 奈米 製程 打造 處理器 處理器 應用 鴻海 裕隆 合資 打造 車款 席福 表示 恩智浦 先前 已經 採用 台積電 奈米 製程 打造 雷達 網路 晶片 現在 已經 導入 量產 後續 採用 台積電 奈米 製程 安全 等級 打造 處理器 晶片 其中 應用 鴻海 裕隆 合資 鴻華 先進 科技', '情報 緯創提報 董事會 董事會 決議 日期 審計 委員會 通過 日期 財務 報告 年度 自結 財務 資訊 報導 期間 日期 累計 營業 收入 累計 營業 毛利 毛損 累計 營業利益 損失 累計 稅前 淨利 淨損 累計 淨利 淨損 累計 歸屬於 公司 業主 淨利 累計 基本 盈餘 損失 期末 資產', '上季 緯創 軟體 新高緯創 軟體 董事會 通過 第一 財務 報告 淨利 去年 持平 歷年 新高 展望 營運 緯創 軟體 表示 客戶群 進入 快速 長期 大型 指標 客戶 外包 需求 可望 持續 挹注 營收 獲利 部分 隨著 營運 規模 擴展 下半年 營益率 可望 回升 營收 獲利 成長 目標 不變 緯創 軟體 第一 營收 歷史 新高 季增 年增 連續 四季 寫下 單季 新高 記錄 單季 毛利率 相比 持平 營業 毛利 營收', '公告 緯創 合併 營收 年增日期 上市 公司 緯創 單位', '昆山 停工 衝擊 緯創 業績 神基 腰斬 加速 出貨財訊 快報 記者 王宜弘 報導 下游 組裝 業者 陸續 公告 業績 筆電 代工 大廠 緯創 強固 電腦 品牌 組件 業者 神基 昆山 工廠 當地 封控 停工 影響 顯著 下滑 不過 緯創 合併 營收 優於 去年 月中 供應鏈 受到 疫情 爆發 封控 管制 無法 生產 出貨 不少 業者 營收 大幅 下滑 甚至 腰斬 以上 不過 緯創 因為 昆山 製造中心 主要 出貨 產品 加上 全球廠區 分散 衝擊 相對 自結 合併', '公告 緯創 租地 委建 方式 新竹縣 國際 智慧 園區 興建廠 大樓 提高 資本 支出 預算 額度公司 名稱 緯創 緯創 租地 委建 方式 新竹縣 國際 智慧 園區 興建廠 大樓 提高 資本 支出 預算 額度 發言人 石慶堂 契約 種類 租地 委建 事實 發生日 契約 相對 公司 關係 尚未 確定 契約 主要 內容 契約 金額 預計 參與 投入 金額 契約 日期 限制 條款 其他 重要 約定 事項 董事會 通過 預算 金額 新台幣 提高 新台幣 專業 估價 事務所 公司 名稱', '上季 緯創 軟體 新高緯創 軟體 董事會 通過 第一 財務 報告 淨利 去年 持平 歷年 新高 展望 營運 緯創 軟體 表示 客戶群 進入 快速 長期 大型 指標 客戶 外包 需求 可望 持續 挹注 營收 獲利 部分 隨著 營運 規模 擴展 下半年 營益率 可望 回升 營收 獲利 成長 目標 不變 緯創 軟體 第一 營收 歷史 新高 季增 年增 連續 四季 寫下 單季 新高 記錄 單季 毛利率 相比 持平 營業 毛利 營收', '公告 緯創 合併 營收 年增日期 上市 公司 緯創 單位', '昆山 停工 衝擊 緯創 業績 神基 腰斬 加速 出貨財訊 快報 記者 王宜弘 報導 下游 組裝 業者 陸續 公告 業績 筆電 代工 大廠 緯創 強固 電腦 品牌 組件 業者 神基 昆山 工廠 當地 封控 停工 影響 顯著 下滑 不過 緯創 合併 營收 優於 去年 月中 供應鏈 受到 疫情 爆發 封控 管制 無法 生產 出貨 不少 業者 營收 大幅 下滑 甚至 腰斬 以上 不過 緯創 因為 昆山 製造中心 主要 出貨 產品 加上 全球廠區 分散 衝擊 相對 自結 合併', '公告 緯創 租地 委建 方式 新竹縣 國際 智慧 園區 興建廠 大樓 提高 資本 支出 預算 額度公司 名稱 緯創 緯創 租地 委建 方式 新竹縣 國際 智慧 園區 興建廠 大樓 提高 資本 支出 預算 額度 發言人 石慶堂 契約 種類 租地 委建 事實 發生日 契約 相對 公司 關係 尚未 確定 契約 主要 內容 契約 金額 預計 參與 投入 金額 契約 日期 限制 條款 其他 重要 約定 事項 董事會 通過 預算 金額 新台幣 提高 新台幣 專業 估價 事務所 公司 名稱', '情報 上市 外資 買賣 排行名次 股票 名稱 張數 名次 股票 名稱 張數 聯電 台新金 友達 新光金 慧洋 臺企銀 華邦電 華航 鴻海 中信金 元大 台灣 華新 亞太電 元晶 力積電 合庫金 國泰智能 電動車 永豐金 榮運 第一金 華孚 富邦 元大 滬深 國泰金 中信電池 儲能 兆豐金 欣陸 富邦金 東鹼 仁寶 遠傳 華通 長榮航 欣興 日月光 投控 元大金 中信 關鍵 半導體 華南金 宏達電 大同 群創 富邦', '趨勢 攻車 資安 全球 訂單趨勢 科技 宣布 旗下車 聯網 團隊 分拆 趨勢 科技 持股 成立 資安新 公司 專攻 電動車 資安 解決 方案 同時 成立 策略 合作 夥伴 計畫 目前 加入 夥伴 包括 公信 電子 台達 電子 微軟 緯創 公司 執行長 鄭奕立 表示 車子 電動車 車子 連網 汽車 軟體 定義 資安 就是 重中 接下來 提供 資安 解決 方案 以外 幫助 台灣 汽車 供應鏈 達到 品牌廠 資安 要求 搶攻 全球 汽車 訂單 鄭奕立', '科技 趨勢 攻車 資安 全球 搶訂單時報 台北 趨勢 科技 宣布 旗下車 聯網 團隊 分拆 趨勢 科技 持股 成立 資安 公司 專攻 電動車 資安 解決 方案 同時 成立 策略 合作 夥伴 計畫 目前 加入 夥伴 包括 公信 電子 台達 電子 微軟 緯創 公司 執行長 鄭奕立 表示 車子 電動車 車子 連網 汽車 軟體 定義 資安 就是 重中 接下來 提供 資安 解決 方案 以外 幫助 台灣 汽車 供應 達到 品牌廠 資安 要求 搶攻 全球 汽車', '走過 反托 拉斯 風暴 友達 李焜耀 完全 交棒中央社 記者 潘智義 台北 日電 面板廠 控觸 反托 拉斯法 友達 當時 唯一 美國 司法 單位 正面 面板廠 董事長 李焜耀 堅持 沒有 為什麼 認罪 態度 市場 印象 深刻 卸任 董事長 擔任 董事 今年 退出 董事會 完全 交棒 公開 資訊 觀測站 資料 顯示 友達 召開 股東常會 改選 董事 董事 候選人 名單 包括 席一般 董事 獨立 董事 友達 推出 一般 董事 候選人 包括', '緯軟 首季 元創 中國 封控 影響 有限中央社 記者 吳家豪 台北 日電 資訊 服務商 緯創 軟體 今天 董事會 通過 年第 財報 大型 指標 客戶 外包 需求 挹注 合併 營收 新台幣 單季 新高 盈餘 改寫 歷年 新高 緯軟 同時 公告 自結 合併 營收 今年 累計 合併 營收 年增 緯軟 透過 新聞稿 說明 中國 地區 冠狀 病毒 疾病 疫情 封控 影響 短期 業績 增長 暫緩 整體 影響 有限 樂觀 看待 營收 持續', '趨勢 攻車 資安 全球 訂單趨勢 科技 宣布 旗下車 聯網 團隊 分拆 趨勢 科技 持股 成立 資安新 公司 專攻 電動車 資安 解決 方案 同時 成立 策略 合作 夥伴 計畫 目前 加入 夥伴 包括 公信 電子 台達 電子 微軟 緯創 公司 執行長 鄭奕立 表示 車子 電動車 車子 連網 汽車 軟體 定義 資安 就是 重中 接下來 提供 資安 解決 方案 以外 幫助 台灣 汽車 供應鏈 達到 品牌廠 資安 要求 搶攻 全球 汽車 訂單 鄭奕立', '科技 趨勢 攻車 資安 全球 搶訂單時報 台北 趨勢 科技 宣布 旗下車 聯網 團隊 分拆 趨勢 科技 持股 成立 資安 公司 專攻 電動車 資安 解決 方案 同時 成立 策略 合作 夥伴 計畫 目前 加入 夥伴 包括 公信 電子 台達 電子 微軟 緯創 公司 執行長 鄭奕立 表示 車子 電動車 車子 連網 汽車 軟體 定義 資安 就是 重中 接下來 提供 資安 解決 方案 以外 幫助 台灣 汽車 供應 達到 品牌廠 資安 要求 搶攻 全球 汽車', '走過 反托 拉斯 風暴 友達 李焜耀 完全 交棒中央社 記者 潘智義 台北 日電 面板廠 控觸 反托 拉斯法 友達 當時 唯一 美國 司法 單位 正面 面板廠 董事長 李焜耀 堅持 沒有 為什麼 認罪 態度 市場 印象 深刻 卸任 董事長 擔任 董事 今年 退出 董事會 完全 交棒 公開 資訊 觀測站 資料 顯示 友達 召開 股東常會 改選 董事 董事 候選人 名單 包括 席一般 董事 獨立 董事 友達 推出 一般 董事 候選人 包括', '緯軟 首季 元創 中國 封控 影響 有限中央社 記者 吳家豪 台北 日電 資訊 服務商 緯創 軟體 今天 董事會 通過 年第 財報 大型 指標 客戶 外包 需求 挹注 合併 營收 新台幣 單季 新高 盈餘 改寫 歷年 新高 緯軟 同時 公告 自結 合併 營收 今年 累計 合併 營收 年增 緯軟 透過 新聞稿 說明 中國 地區 冠狀 病毒 疾病 疫情 封控 影響 短期 業績 增長 暫緩 整體 影響 有限 樂觀 看待 營收 持續', '情報 上市 外資 買賣 排行名次 股票 名稱 張數 名次 股票 名稱 張數 元大 台灣 新光金 長榮 開發金 陽明 大成鋼 聯電 元晶 友達 玉山金 群創 中鋼 鴻海 華新 遠傳 元大金 大同 文曄 華航 合庫金 宏達電 第一金 華邦電 威健 宏碁 聯詠 欣陸 景碩 富邦金 永豐金 中電 中鴻 慧洋 長興 元大 原油 德律 佳世達 裕民 中信金 友訊 國泰智能 電動車 台積電 富時 動產 金寶 台泥 台勝科', '昆山 台商 復工 上海 名單 企業 員工 下班 返回 社區中國 疫情 逐漸 趨緩 市場 消息 指出 昆山 陸續 開放 企業 復工 復產 條件 台資 企業 包括 仁寶 緯創 等逾 復工 另外 上海 公布 防疫 指引 名單 企業 企業 通過 申請 生產 廠區 轉為 閉環 管理 員工 下班 搭車 社區 疫情 封控 影響 產業 供應鏈 進度 企業 閉環 管理 難度 全面 復工 勢必 打造 當地 全面 防疫 條件 配合 昆山 復工 復產 防疫 方案 仁寶 電腦 分類 管理 方式 人員 車輛 材料 宿舍', '科技 趨勢 科技 新設 結盟 建構 資安 實力時報 記者 林資傑 台北 報導 全球 網路 資安 解決 方案 業者 趨勢 科技 宣布 成立 資安 公司 專注 協助 電動車 產業 建構 資安 防護 全力 協助 台灣 電動車 供應鏈 夥伴 通過 國際 車廠 要求 資安 規格 強化 全球 競爭力 攜手 未來車 市場 占有 研究 報告 指出 全球 道路 超過 汽車 平均 擁有 億行 軟體 程式 超過 波音 客機 意味 電動車 移動 大型 數據 中心 資安 扮演 車廠', '趨勢 科技 攻車 資安 電動車界 莫德納趨勢 科技 宣布 旗下車 聯網 團隊 分拆 成立 資安新 公司 電動車 資安 解決 方案 同時 成立 策略 合作 夥伴 計畫 目前 加入 夥伴 包括 公信 電子 台達 電子 微軟 緯創 執行長 鄭顯聰 形容 提供 資安 解決 方案 如同 電動車 莫德納 面對 未來 層出 不窮 聯網 駭客 攻擊 做出 防護 趨勢 科技 百分百 持股 執行長 鄭奕立 表示 電動車 時代 來臨 汽車 聯網 接下來 提供 電動車 資安 解決 方案', '昆山 台商 復工 上海 名單 企業 員工 下班 返回 社區中國 疫情 逐漸 趨緩 市場 消息 指出 昆山 陸續 開放 企業 復工 復產 條件 台資 企業 包括 仁寶 緯創 等逾 復工 另外 上海 公布 防疫 指引 名單 企業 企業 通過 申請 生產 廠區 轉為 閉環 管理 員工 下班 搭車 社區 疫情 封控 影響 產業 供應鏈 進度 企業 閉環 管理 難度 全面 復工 勢必 打造 當地 全面 防疫 條件 配合 昆山 復工 復產 防疫 方案 仁寶 電腦 分類 管理 方式 人員 車輛 材料 宿舍', '科技 趨勢 科技 新設 結盟 建構 資安 實力時報 記者 林資傑 台北 報導 全球 網路 資安 解決 方案 業者 趨勢 科技 宣布 成立 資安 公司 專注 協助 電動車 產業 建構 資安 防護 全力 協助 台灣 電動車 供應鏈 夥伴 通過 國際 車廠 要求 資安 規格 強化 全球 競爭力 攜手 未來車 市場 占有 研究 報告 指出 全球 道路 超過 汽車 平均 擁有 億行 軟體 程式 超過 波音 客機 意味 電動車 移動 大型 數據 中心 資安 扮演 車廠', '趨勢 科技 攻車 資安 電動車界 莫德納趨勢 科技 宣布 旗下車 聯網 團隊 分拆 成立 資安新 公司 電動車 資安 解決 方案 同時 成立 策略 合作 夥伴 計畫 目前 加入 夥伴 包括 公信 電子 台達 電子 微軟 緯創 執行長 鄭顯聰 形容 提供 資安 解決 方案 如同 電動車 莫德納 面對 未來 層出 不窮 聯網 駭客 攻擊 做出 防護 趨勢 科技 百分百 持股 執行長 鄭奕立 表示 電動車 時代 來臨 汽車 聯網 接下來 提供 電動車 資安 解決 方案', '情報 上市 外資 買賣 排行名次 股票 名稱 張數 名次 股票 名稱 張數 群創 新光金 友達 玉山金 中鋼 中華電 長榮航 富邦 開發金 矽格 聯電 鴻海 元大金 國泰智能 電動車 永豐金 元晶 台積電 大同 榮成 華新 如興 國泰 費城 半導體 台航 緯創 廣達 中信中國 股息 南亞 富邦 宇宙 正文 新唐 長榮 中信中國 台中銀 東鹼 文曄 遠傳 仁寶 中信中國 新興 宏達電 中砂 宏碁 兆豐金', '情報 公股銀行 買賣 排行手機 介面 圖片 讀版 以下 資訊 張數 排列 買超 排名 股票 張數 排名 股票 張數 元大 台灣 群創 國泰 永續 股息 友達 新光金 玉山金 國泰美國 道瓊 中鋼 中信 中國 股息 聯電 新唐 開發金 國泰 台灣 期元 長榮航 富邦金 中砂 長興 元大 台灣 創惟 雅茗 國泰智能 電動車 富邦 臺灣 加權 中信 關鍵 半導體 富邦 台灣 半導體 千興 如興 聯成 福壽 佳世達 矽格', '緯穎 海外 擴產 大馬 先發 明年 投產 墨西哥廠 產能 爆滿財訊 快報 記者 王宜弘 報導 緯穎 掌握 雲端 資料中心 市場 成長 因應 在地 生產 貼近 客戶 需求 趨勢 積極 擴張 自有 廠區 包括 前往 馬來西亞 建廠 墨西哥 擴充 產能 緯穎 表示 緯穎 生產 政策 過去 追求 效率 現在 因應 供應鏈 趨勢 發展 轉而 追求 穩健 永續 因此 重複性 投資 自有 產能 廠區 除了 設立 南科廠 之外 台灣 基地 幅射 出去 初期 租賃 方式 拓展 自有 產能 長期 排除 自購 動產 因應 初期 海外 據點 擴張', '昆山 台資 企業 復工中央社 台北 日電 江蘇省 昆山市 台辦 今天 表示 疫情 發生 昆山 企業 復工 新華社 報導 提到 這些 復工 台企 包括 緯創 仁寶 巨大子 公司 鼎鎂 驊陞 公司 驊盛 根據 報導 緯創集團 昆山 廠區 採取 數位化 防疫 措施 緯創 華東 廠區 副總經理 鄭詠翔 表示 目前 緯創 當地 物流 車輛 運轉 公司 希望 下一步 加快 貨運 審批 提高 物流 速度 企業 復工 復產 營造 有利 外部 環境 報導', '緯穎 海外 擴產 大馬 先發 明年 投產 墨西哥廠 產能 爆滿財訊 快報 記者 王宜弘 報導 緯穎 掌握 雲端 資料中心 市場 成長 因應 在地 生產 貼近 客戶 需求 趨勢 積極 擴張 自有 廠區 包括 前往 馬來西亞 建廠 墨西哥 擴充 產能 緯穎 表示 緯穎 生產 政策 過去 追求 效率 現在 因應 供應鏈 趨勢 發展 轉而 追求 穩健 永續 因此 重複性 投資 自有 產能 廠區 除了 設立 南科廠 之外 台灣 基地 幅射 出去 初期 租賃 方式 拓展 自有 產能 長期 排除 自購 動產 因應 初期 海外 據點 擴張', '昆山 台資 企業 復工中央社 台北 日電 江蘇省 昆山市 台辦 今天 表示 疫情 發生 昆山 企業 復工 新華社 報導 提到 這些 復工 台企 包括 緯創 仁寶 巨大子 公司 鼎鎂 驊陞 公司 驊盛 根據 報導 緯創集團 昆山 廠區 採取 數位化 防疫 措施 緯創 華東 廠區 副總經理 鄭詠翔 表示 目前 緯創 當地 物流 車輛 運轉 公司 希望 下一步 加快 貨運 審批 提高 物流 速度 企業 復工 復產 營造 有利 外部 環境 報導', '情報 上市 投信 買賣 排行名次 股票 名稱 張數 名次 股票 名稱 張數 金像電 中鋼 兆豐金 友達 開發金 景碩 中信金 大成鋼 遠傳 台勝科 永豐金 旺宏 元大金 華邦電 智易 華航 聯電 中鴻 中興電 仁寶 英業達 光罩 宏碁 南電 華新 文曄 台積電 義隆 慧洋 健和興 鴻海 創意 裕民 怡利電 遠東新 華擎 中磊 聯華 中華電 智原 台泥 強茂 國泰金 美利達 新光鋼 同欣電 光寶科', '情報 上市 外資 買賣 排行名次 股票 名稱 張數 名次 股票 名稱 張數 友達 新光金 臺企銀 台積電 華航 國泰智能 電動車 華新 元大 台灣 長榮航 開發金 長榮 仁寶 欣興 元大金 元大 滬深 中鋼 富邦 國泰金 亞太電 日月光 投控 台勝科 富邦金 新唐 群創 彩晶 金寶 中鴻 元晶 力成 永豐金 漢翔 宏碁 國產 聯電 華邦電 緯創 力積電 旺宏 羅門 國泰 台灣 萬海 國泰 永續 股息 永光 台新金', '情報 公股銀行 買賣 排行手機 介面 圖片 讀版 以下 資訊 張數 排列 買超 排名 股票 張數 排名 股票 張數 國泰 台灣 元大 台灣 新光金 友達 群創 華航 國泰 永續 股息 台泥 中鋼 羅門 元大 台灣 元大 滬深 台積電 華新 仁寶 臺企銀 開發金 長榮 緯創 陽明 國泰智能 電動車 彰銀 日月光 投控 亞太電 聯電 長榮航 中信 關鍵 半導體 台郡 欣興 大同 揚智 台塑 華通 永崴 投控 英業達', '碩在 市場 存在感 為何 童子 賢急組 人部隊 養兵 市場 可望撰文 周刊 編輯 團隊 今年 以來 全球 第二 電子 代工廠 關渡總部 變得 熱鬧 幾乎 不斷 長大 生力軍 近期 科技 業界 引發 熱議 人數 超過 一百 工程師 其實 短短 散落 鴻海 緯創 廣達 神達 伺服器 事業 工作 現在 部隊 隸屬 單位 和碩 今年 成立 編號 事業群 內部 簡稱 事業群 事業群 領導人 華碩 時期 追隨 和碩 董事長 童子賢 徐衍珍 而且', '緯創 醫學 攜手 大同醫院 推動 企業 員工 照護 數位 轉型財訊 快報 記者 王宜弘 報導 緯創 週三 宣布 旗下 緯創 醫學 高雄 市立 大同醫院 合作 推動 企業 員工 照護 數位 轉型 打造 員工 健康 福祉 標竿 緯創 進一步 指出 大同醫院 緯創 醫學 科技 近期 共同 舉辦 為期 產業 明星 運動會 競賽 透過 數位 健康 平台 首創 產業 醫療人 科技人 健康 競賽 活動 勞動節 開始 起跑 比賽 期間 利用 進行 健人 腳勤 健康集 點王 體重 回歸 賽制', '碩在 市場 存在感 為何 童子 賢急組 人部隊 養兵 市場 可望撰文 周刊 編輯 團隊 今年 以來 全球 第二 電子 代工廠 關渡總部 變得 熱鬧 幾乎 不斷 長大 生力軍 近期 科技 業界 引發 熱議 人數 超過 一百 工程師 其實 短短 散落 鴻海 緯創 廣達 神達 伺服器 事業 工作 現在 部隊 隸屬 單位 和碩 今年 成立 編號 事業群 內部 簡稱 事業群 事業群 領導人 華碩 時期 追隨 和碩 董事長 童子賢 徐衍珍 而且', '緯創 醫學 攜手 大同醫院 推動 企業 員工 照護 數位 轉型財訊 快報 記者 王宜弘 報導 緯創 週三 宣布 旗下 緯創 醫學 高雄 市立 大同醫院 合作 推動 企業 員工 照護 數位 轉型 打造 員工 健康 福祉 標竿 緯創 進一步 指出 大同醫院 緯創 醫學 科技 近期 共同 舉辦 為期 產業 明星 運動會 競賽 透過 數位 健康 平台 首創 產業 醫療人 科技人 健康 競賽 活動 勞動節 開始 起跑 比賽 期間 利用 進行 健人 腳勤 健康集 點王 體重 回歸 賽制', '情報 上市 投信 買賣名次 股票 名稱 張數 名次 股票 名稱 張數 華航 晶豪科 元晶 強茂 華新 聯電 仁寶 中鴻 裕民 台橡 慧洋 光罩 中興電 景碩 奇鋐 新光鋼 華通 華邦電 長榮航 台勝科 上緯 投控 台表科 新興 元大 滬深 中信金 台積電 永豐金 冠德 開發金 聚陽 順德 義隆 智易 鴻海 森崴 能源 群創 晶技 彩晶 英業達 帆宣 達邁 世紀鋼 第一 智原 安集 聯茂 友達 精元 元大金', '蘇州 昆山 復工 家列 名單上海 蘇州 大陸 製造業 重鎮 陸續 實施 嚴格 疫情 防控 政策 導致 物流 企業 生產 大亂 呼籲 蘇州 上海 腳步 公布 產業 供應鏈 重點 企業 關鍵 配套 企業 名單 要求 蘇州 保障 這些 企業 物流 通暢 友達 仁寶 緯創 和碩 台達電 矽品 日月光 關鍵 台廠 名列 其中 綜合 陸媒 報導 上海市 經信委 公布 企業 復工 復產 指引 列出 名單 企業 外界 關注 蘇州 昆山 跟進 蘇州市 疫情 聯防聯', '熱門 族群 蘇州 昆山 復工 家列 名單時報 台北 上海 蘇州 大陸 製造業 重鎮 陸續 實施 嚴格 疫情 防控 政策 導致 物流 企業 生產 大亂 呼籲 蘇州 上海 腳步 公布 產業 供應鏈 重點 企業 關鍵 配套 企業 名單 要求 蘇州 保障 企業 物流 通暢 友達 仁寶 緯創 和碩 台達電 矽品 日月光 關鍵 台廠 名列 其中 綜合 陸媒 報導 上海 經信委 公布 企業 復工 復產 指引 列出 名單 企業 外界 關注 蘇州 昆山 跟進', '焦點 費半 指數 強勢 台股 有望 挑戰中央社 記者 張建中 台北 日電 美股 多半 小幅 收低 道瓊 指數 下跌 跌幅 費城 半導體 指數 表現 強勢 揚升 漲幅 法人 表示 美國 科技股 轉強 有助 台股 回升 指數 機會 挑戰 關卡 市場 憂心 升息 經濟 產生 負面 效應 美股 上下 震盪 多半 小幅 收低 道瓊 工業 指數 跌幅 標準 普爾 指數 小跌 跌幅 那斯達克 指數 下跌 跌幅 費城 半導體 指數 上揚 漲幅 國內外 產業 訊息 方面 中國 疫情 採取 封控 措施', '昆山 無疫 企業 富士康 日月光 入列中央社 記者 鍾榮峰 台北 日電 中國 本土 疫情 降低 經濟 衝擊 台商 匯聚 昆山 地區 今天 公布 第一 企業 名單 鴻海 旗下 富士康 月光 半導體 環旭子 公司 環鴻 電子 緯創 神達 研華 台光電 正新 正崴 入列 準備 復工 中國 本土 冠狀 病毒 疾病 疫情 多點 爆發 昆山 台商 本營 防疫 當地 官方 陸續 發布 防疫 封控 措施 發布 通告 宣布 重新 調整 劃定 靜態 管理區 延長 靜默期 直至 今天', '蘇州 昆山 復工 家列 名單上海 蘇州 大陸 製造業 重鎮 陸續 實施 嚴格 疫情 防控 政策 導致 物流 企業 生產 大亂 呼籲 蘇州 上海 腳步 公布 產業 供應鏈 重點 企業 關鍵 配套 企業 名單 要求 蘇州 保障 這些 企業 物流 通暢 友達 仁寶 緯創 和碩 台達電 矽品 日月光 關鍵 台廠 名列 其中 綜合 陸媒 報導 上海市 經信委 公布 企業 復工 復產 指引 列出 名單 企業 外界 關注 蘇州 昆山 跟進 蘇州市 疫情 聯防聯', '熱門 族群 蘇州 昆山 復工 家列 名單時報 台北 上海 蘇州 大陸 製造業 重鎮 陸續 實施 嚴格 疫情 防控 政策 導致 物流 企業 生產 大亂 呼籲 蘇州 上海 腳步 公布 產業 供應鏈 重點 企業 關鍵 配套 企業 名單 要求 蘇州 保障 企業 物流 通暢 友達 仁寶 緯創 和碩 台達電 矽品 日月光 關鍵 台廠 名列 其中 綜合 陸媒 報導 上海 經信委 公布 企業 復工 復產 指引 列出 名單 企業 外界 關注 蘇州 昆山 跟進', '焦點 費半 指數 強勢 台股 有望 挑戰中央社 記者 張建中 台北 日電 美股 多半 小幅 收低 道瓊 指數 下跌 跌幅 費城 半導體 指數 表現 強勢 揚升 漲幅 法人 表示 美國 科技股 轉強 有助 台股 回升 指數 機會 挑戰 關卡 市場 憂心 升息 經濟 產生 負面 效應 美股 上下 震盪 多半 小幅 收低 道瓊 工業 指數 跌幅 標準 普爾 指數 小跌 跌幅 那斯達克 指數 下跌 跌幅 費城 半導體 指數 上揚 漲幅 國內外 產業 訊息 方面 中國 疫情 採取 封控 措施', '昆山 無疫 企業 富士康 日月光 入列中央社 記者 鍾榮峰 台北 日電 中國 本土 疫情 降低 經濟 衝擊 台商 匯聚 昆山 地區 今天 公布 第一 企業 名單 鴻海 旗下 富士康 月光 半導體 環旭子 公司 環鴻 電子 緯創 神達 研華 台光電 正新 正崴 入列 準備 復工 中國 本土 冠狀 病毒 疾病 疫情 多點 爆發 昆山 台商 本營 防疫 當地 官方 陸續 發布 防疫 封控 措施 發布 通告 宣布 重新 調整 劃定 靜態 管理區 延長 靜默期 直至 今天', '情報 上市 投信 買賣 排行排行 股票 名稱 張數 排行 股票 名稱 張數 旺宏 緯創 長榮 華航 中鋼 富邦金 華通 明基材 大成鋼 富采 永豐金 台表科 中鴻 億光 開發金 瑞鼎 仁寶 安集 英業達 瑞昱 友達 新唐 中信金 雄獅 第一金 南僑 遠東新 順德 元大金 嘉澤 兆豐金 臻鼎 宏碁 智易 台泥 乙盛 金像電 日月 投控 國泰 股利 精選 百和 欣興 新光金 光寶科 穎崴 聯強 景碩 台塑 遠傳', '情報 上市 外資 買賣 排行排行 股票 名稱 張數 排行 股票 名稱 張數 中鋼 華航 長榮 國泰智能 電動 友達 新光金 大成鋼 聯電 大同 群創 中信金 華邦電 旺宏 元大 台灣 華新 台積電 定穎 國泰 永續 日月光 投控 臺企銀 東鹼 欣興 金寶 萬海 鴻海 金像電 中環 益航 開發金 燁輝 富邦 特選 高股 中信電池 和益 富邦 未來車 緯創 建準 元大 股息 富邦 宇宙 泰金寶 台航 長榮鋼 國泰 費城', '新聞 短缺 外資 華碩 廣達原文 標題 短缺 外資 華碩 廣達 重申 持有 刪減 原文 標題 原文 連結 網址 超過 過長 網址 工具 發布 時間 原文 網頁 報紙 發布 時間 為準 原文 內容 記者 廖婕妤 綜合 報導 由於 短缺 問題 緩解 外資 預估 筆電廠 今年 出貨量 季減 控制 晶片 電源 管理 缺料 預計 筆電 出貨量 與去 年持平 看好 高殖利率 估價 便宜 華碩 廣達 重申', '情報 公股銀行 買賣手機 介面 圖片 讀版 以下 資訊 張數 排列 買超 排名 股票 張數 排名 股票 張數 華航 中鋼 聯電 長榮 國泰智能 電動車 友達 國泰 永續 股息 元大 股息 長榮航 大同 元大 滬深 中信金 新光金 定穎 國泰金 台新金 臺企銀 大成鋼 台積電 永豐金 富邦 宇宙 彩晶 華邦電 泰金寶 中信 關鍵 半導體 彰銀 中信電池 儲能 元大 美債 中信 資高價 榮運 兆豐金 和益 玉山金 金寶 萬海', '聯電 元真的人人 只有 聯電 緯創 媽咪 細微 部份 可以 分辨出 透強 目前 簡易 辨別 方式 買入 股票 就是', '統一 證券 晨訊 盤勢 震盪 加劇 擇優 操作日期 盤勢 分析 烏俄 紛擾 促使 盤勢 震盪 加劇 謹慎 擇優 操作 昨日 盤勢 美股 指數 下跌 影響 台股 開出 台積電 聯電 電子 權值股 表現 疲軟 拖累 指數 早盤 下跌 點至 不過 隨後 低接 買盤 進場 承接 電子 載材 散熱 逆勢 走揚 傳產 方面 長榮 陽明 萬海 扮演 撐盤 要角 加上 解封 題材 長榮航 鳳凰 雄獅 盤面 亮點 盤中 指數 緩步 拉抬 跌幅 收斂 終場 指數 下跌 收在', '亞系 外資 調高 華碩 廣達 仁寶 緯創 目標價 華碩 廣達財訊 快報 記者 劉居全 報導 亞系 外資 亞洲 科技 硬體 報告 表示 缺料 問題 持續 預估 首季 出貨 季減 主要 控制 晶片 電源 管理 晶片 儘管 商用 電競 市場 需求 支撐 不過 今年 出貨量 原先 預估 年增 降至 持平 不過 族群 具備 殖利率 股價 估值 便宜 標的 點名 看好 華碩 廣達 重申 買進 評等 其中 華碩 目標 價由 元調 廣達 目標 價由 元調 仁寶 重申 中立 評等 目標', '統一 證券 晨訊 盤勢 震盪 加劇 擇優 操作日期 盤勢 分析 烏俄 紛擾 促使 盤勢 震盪 加劇 謹慎 擇優 操作 昨日 盤勢 美股 指數 下跌 影響 台股 開出 台積電 聯電 電子 權值股 表現 疲軟 拖累 指數 早盤 下跌 點至 不過 隨後 低接 買盤 進場 承接 電子 載材 散熱 逆勢 走揚 傳產 方面 長榮 陽明 萬海 扮演 撐盤 要角 加上 解封 題材 長榮航 鳳凰 雄獅 盤面 亮點 盤中 指數 緩步 拉抬 跌幅 收斂 終場 指數 下跌 收在', '亞系 外資 調高 華碩 廣達 仁寶 緯創 目標價 華碩 廣達財訊 快報 記者 劉居全 報導 亞系 外資 亞洲 科技 硬體 報告 表示 缺料 問題 持續 預估 首季 出貨 季減 主要 控制 晶片 電源 管理 晶片 儘管 商用 電競 市場 需求 支撐 不過 今年 出貨量 原先 預估 年增 降至 持平 不過 族群 具備 殖利率 股價 估值 便宜 標的 點名 看好 華碩 廣達 重申 買進 評等 其中 華碩 目標 價由 元調 廣達 目標 價由 元調 仁寶 重申 中立 評等 目標', '工商 社論 面對 紅色 供應鏈 競爭 台灣 遠慮隨著 中美 貿易 科技戰 發展 美國 尋求 中化 同樣 中國 尋求 美化 美國 企業 擔心 中國大陸 報復 之下 慢慢 大陸 市場 代工 商機 轉交給 中國大陸 廠商 以便 中國大陸 政府 換取 未來 懲罰 籌碼 另外 透過 中國 大陸 廠商 第二 代工 來源 可以 台灣 廠商 競爭 降低 採購 價格 近年 中國大陸 廠商 立訊 藍思 舜宇 逐步 取代 台灣 可成 緯創 大立光 中國大陸 部份 市場 可見一斑 因此 中美 科技戰', '統一 證券 晨訊 指數料 高檔 震盪 建議 謹慎 選股日期 盤勢 分析 指數 高檔 震盪 慎選 操作 昨日 盤勢 美股 指數 上漲 激勵 昨日 台股 以上 開出 台積電 聯發科 聯電 大立光 電子 權值股 領軍 上攻 帶動 設計 世芯 晶豪科 南電 欣興 大漲 傳產股 華航 慧洋 宇隆 中鋼 富邦金 同步 上漲 尾盤 資金 拉抬 塑化 族群 台積電 指數 當日 相對 高點 作收 終場 指數 上漲 收在 成交量 觀察 盤面 變化 類股 全數 上漲', '工商 社論 面對 紅色 供應鏈 競爭 台灣 遠慮隨著 中美 貿易 科技戰 發展 美國 尋求 中化 同樣 中國 尋求 美化 美國 企業 擔心 中國大陸 報復 之下 慢慢 大陸 市場 代工 商機 轉交給 中國大陸 廠商 以便 中國大陸 政府 換取 未來 懲罰 籌碼 另外 透過 中國 大陸 廠商 第二 代工 來源 可以 台灣 廠商 競爭 降低 採購 價格 近年 中國大陸 廠商 立訊 藍思 舜宇 逐步 取代 台灣 可成 緯創 大立光 中國大陸 部份 市場 可見一斑 因此 中美 科技戰', '統一 證券 晨訊 指數料 高檔 震盪 建議 謹慎 選股日期 盤勢 分析 指數 高檔 震盪 慎選 操作 昨日 盤勢 美股 指數 上漲 激勵 昨日 台股 以上 開出 台積電 聯發科 聯電 大立光 電子 權值股 領軍 上攻 帶動 設計 世芯 晶豪科 南電 欣興 大漲 傳產股 華航 慧洋 宇隆 中鋼 富邦金 同步 上漲 尾盤 資金 拉抬 塑化 族群 台積電 指數 當日 相對 高點 作收 終場 指數 上漲 收在 成交量 觀察 盤面 變化 類股 全數 上漲', '情報 上市 外資 買賣 排行名次 股票 名稱 張數 名次 股票 名稱 張數 華航 群創 華邦電 聯電 國泰智能 電動車 友達 長榮航 臺企銀 華通 緯創 慧洋 中信中國 高股 玉山金 期街口 布蘭 特正 陽明 國泰金 開發金 力積電 中環 華晶科 新光金 景碩 元大 股息 中信金 中鋼 仁寶 和益 京元電子 旺宏 聯詠 欣興 永光 台新金 國喬 鴻海 技嘉 元大金 台積電 東和鋼鐵 南亞科 宏碁 宏達電', '情報 公股銀行 買賣 排行手機 介面 圖片 讀版 以下 資訊 張數 排列 買超 排名 股票 張數 排名 股票 張數 元大 台灣 長榮航 群創 華邦電 國泰 永續 股息 華航 中信金 開發金 臺企銀 高林 友達 元大金 力積電 陽明 期街口 布蘭 特正 國泰智能 電動車 緯創 中鋼 富邦 慧洋 富采 南亞科 京元 電子 長榮 國泰金 新金 期元 原油 期元 石油 台郡 虹冠電 仁寶 鈺創 彩晶 兆豐金 華晶科 新光金 國喬', '統一 證券 晨訊 俄烏 戰事 緩解 指數 可望 反彈日期 盤勢 分析 俄烏 戰事 降溫 台股 測試 季線 支撐 表現 昨日 盤勢 美股 指數 漲跌 互見 昨日 指數 小跌 開出 航空股 大漲 帶動 早盤 回穩 指數 大漲 站上 日均線 不過 上檔 面臨 日線 月均線 反壓 多方 嘗試 進場 拉抬 亞股 普遍 表現 不佳 拖累 台股 尾盤 創惟 世芯 聯發科 智原 晶焱 設計股 重挫 以及 權值 壓回 拖累 指數 急殺 終場 指數 下跌 作收 成交量 觀察', '興櫃股 電動車 加速 聯寶 營運 油門時報 記者 張漢綺 台北 報導 聯寶 電動車 市場 耕耘 逐步 開花 結果 打入 北美 品牌 車廠 聯通 網絡 系統 運用 高通 晶片 開發 磁性 元件 正式 認可 順利 切入 美國 汽車 供應鏈 應用 電動車 充電樁 隨著 主要 汽車 客戶 需求 持續 增加 公司 營運 增添 成長 動能 聯寶 電子 成立 耕耘 磁性 元件 領域 超過 經驗 磁性 元件 儲能 能量 訊號 轉換 電器 特性 隔離 必備 電力 電子 元件 幾乎', '追求 競合 策略 電子 代工廠 紛紛 養起 鯰魚近年 手機 筆電 應用 逐漸 飽和 電子 代工廠 業績 高檔 擔憂 成長 曲線 趨緩 併購 投資 方式 切入 工業 電腦 領域 仁寶 布局 安勤 普達 系統 鴻海 凌華 策略 聯盟 佳士達 投資 友通 拍檔 緯創 廣積 成立 緯昌 希望 透過 小而美 獲利 系統 整合 實力 扮演 鯰魚 發揮 效應 旗下 事業 部門 展開 競合 提升 集團 戰鬥力 緯創 總經理 沈慶堯 指出 緯創 一路 代工 面臨 思考 如何 運用 本身 技術 軟體 能力 尋求 加值', '取代 選擇 除息 平均 填息 如何周二 除息 包括 國泰 永績 股息 中信 關鍵 半導體 中信 小資 高價 可以 取代 國民 選擇 阿格力 頻道 阿格力博識 提出 看法 國泰 永績 股息 陣子 真的 無論 具有 大盤 代表性 或是 大盤 權重 半導體 甚至 產業 龍頭 以及 一些 高價股 集合 比較 沒有 來得 兇猛 甚至 創下 波段 新高 為什麼 明明 牛皮存股 集合 這麼 強勢 其實 環境 非常 關係', '統一 證券 晨訊 俄烏 戰事 緩解 指數 可望 反彈日期 盤勢 分析 俄烏 戰事 降溫 台股 測試 季線 支撐 表現 昨日 盤勢 美股 指數 漲跌 互見 昨日 指數 小跌 開出 航空股 大漲 帶動 早盤 回穩 指數 大漲 站上 日均線 不過 上檔 面臨 日線 月均線 反壓 多方 嘗試 進場 拉抬 亞股 普遍 表現 不佳 拖累 台股 尾盤 創惟 世芯 聯發科 智原 晶焱 設計股 重挫 以及 權值 壓回 拖累 指數 急殺 終場 指數 下跌 作收 成交量 觀察', '興櫃股 電動車 加速 聯寶 營運 油門時報 記者 張漢綺 台北 報導 聯寶 電動車 市場 耕耘 逐步 開花 結果 打入 北美 品牌 車廠 聯通 網絡 系統 運用 高通 晶片 開發 磁性 元件 正式 認可 順利 切入 美國 汽車 供應鏈 應用 電動車 充電樁 隨著 主要 汽車 客戶 需求 持續 增加 公司 營運 增添 成長 動能 聯寶 電子 成立 耕耘 磁性 元件 領域 超過 經驗 磁性 元件 儲能 能量 訊號 轉換 電器 特性 隔離 必備 電力 電子 元件 幾乎', '追求 競合 策略 電子 代工廠 紛紛 養起 鯰魚近年 手機 筆電 應用 逐漸 飽和 電子 代工廠 業績 高檔 擔憂 成長 曲線 趨緩 併購 投資 方式 切入 工業 電腦 領域 仁寶 布局 安勤 普達 系統 鴻海 凌華 策略 聯盟 佳士達 投資 友通 拍檔 緯創 廣積 成立 緯昌 希望 透過 小而美 獲利 系統 整合 實力 扮演 鯰魚 發揮 效應 旗下 事業 部門 展開 競合 提升 集團 戰鬥力 緯創 總經理 沈慶堯 指出 緯創 一路 代工 面臨 思考 如何 運用 本身 技術 軟體 能力 尋求 加值', '取代 選擇 除息 平均 填息 如何周二 除息 包括 國泰 永績 股息 中信 關鍵 半導體 中信 小資 高價 可以 取代 國民 選擇 阿格力 頻道 阿格力博識 提出 看法 國泰 永績 股息 陣子 真的 無論 具有 大盤 代表性 或是 大盤 權重 半導體 甚至 產業 龍頭 以及 一些 高價股 集合 比較 沒有 來得 兇猛 甚至 創下 波段 新高 為什麼 明明 牛皮存股 集合 這麼 強勢 其實 環境 非常 關係', '情報 緯創 營收 自結標題 緯創 營收 自結 來源 公開 資訊 觀測站 網址 內文 資料 上市 公司 緯創 公司 提供 民國 單位 新台幣 項目 營業 收入 淨額 去年 增減 金額 增減 百分比 累計 去年 累計 增減 金額 增減 百分比 備註 營收 變化 原因 說明 三成 最後 拉尾盤 明天 點解', '情報 投信 買賣名次 股票 名稱 張數 名次 股票 名稱 張數 長榮航 聯電 智原 泰鼎 華航 創意 華邦電 敬鵬 鴻海 晶技 景碩 正隆 欣興 國巨 富采 台積電 中信金 裕民 第一 聯詠 永豐金 瑞昱 仁寶 京鼎 兆豐金 嘉澤 英業達 聚陽 開發金 百和 奇鋐 美利達 台表科 中化生 緯創 樺漢 大成鋼 萬海 強茂 宏達電 元大金 世紀鋼 技嘉 力智 東和鋼鐵 宏碁 遠東 玉山金 華晶科 光寶', '情報 上市 投信 買賣 排行符合 以下 文章 格式 違者 刪除 分類 提供 以下 文章 搬運 每日 交易 數據 相關 法人 買買 資券 交易量 公司 重要 訊息 相關 營收 股利 股東會 法說會 內容 整理 現有 資訊 整理 相關 殖利率 排名 金融股 獲利 分布 詳閱 板規 參考 相關 規定 刪除 以上 內容 標題 上市 投信 買賣 排行 來源 公司名 網站名 網址 善用 網址 工具 內文 買超 名次 股票 名稱 收盤價 漲跌 漲跌幅 買進 賣出 買賣', '情報 公股銀行 買賣 排行手機 介面 圖片 讀版 以下 資訊 張數 排列 買超 排名 股票 張數 排名 股票 張數 元大 台灣 友達 國泰 永續 股息 群創 富邦 特選 股息 開發金 元大金 元大 股息 永豐金 位速 富邦 宇宙 欣興 期元 原油 中信金 國泰智能 電動車 彩晶 緯創 玉山金 臺企銀 華邦電 宏碁 中鋼 中信 關鍵 半導體 元大 滬深 陽明 彰銀 台積電 泰詠 元大 台灣 國泰金 台亞 聯電 中信電池 儲能 華航', '散戶 活水 投信 買超時報 台北電 投信 扮演 台股 多頭 總司令 狂敲 累計 投資 專家 一致 指出 隨著 內資 投資人 持續 湧進 股市 大舉 申購 動式 基金 大量 資金 流向 投信 帶動 投信 連日 加碼 回補 投信 政府 基金 並肩 作戰 立大功 外資 不停 投信 就是 台股 日金 虎年 開盤 第二 交易 投信 累計 呈現 合計 買超 進一步 統計 今年 來到 投信 買超 法人', '統一 證券 晨訊 萬八 關卡 邁進 建議 逢低 布局日期 盤勢 分析 指數 續彈 萬八 復失 透弱 逢低 布局 為宜 昨日 盤勢 台積電 上漲 激勵 昨日 台股 以上 開出 資金 進駐 華航 長榮航 長榮 陽明 萬海 航空 貨櫃 族群 加上 國泰金 兆豐金 合庫等 金融 權值股 續強 指數 大漲 突破 點整 關卡 盤中 指數 維持 上漲 強勢 整理 格局 不過 尾盤 時段 台積電 大單 賣出 壓低 指數 萬八 關卡 復失 終場 指數 上漲 成交量', '淡季 效應 緯穎 元月 營收 減逾 股價財訊 快報 記者 王宜弘 報導 工作 天數 較少 缺料 以及 庫存 盤點 延遲 因素 雲端 伺服器 大廠 緯穎 自結 元月 合併 營收 上月 大減 增逾 首季 傳統 淡季 加上 去年 第四 基期 單季 營收 雙位數 季減 優於 公司 上季 營收 雙創 新高 儘管 緯穎 主力 客戶 日前 公告 財報 不如 預期 股價 崩跌 市場 擔憂 影響 緯穎 業績 展望 重申 今年 資本 支出 維持 美元 目標 不變 法人', '公告 緯創 合併 營收 年增日期 上市 公司 緯創 單位', '電腦 設備 緯創 元月 營收 增逾 出貨 看俏時報 記者 任珮云 台北 報導 緯創 自結 元月 營收 年增 受到 元月 季節性 因素 影響 營收 月減 今年 首季 去年 公司 樂觀 展望 出貨 年增 可望 個位數 桌機 顯示器 出貨 年增 雙位數 產品線 緯創 今年 筆電 出貨 桌機 顯示器 筆電 出貨 基期 預期 業務 今年 首季 業績 呈現 季減 相比 個位數 增年 成長 至於 桌機 顯示器 相對', '緯創 營收 減逾 出貨 回升中央社 記者 吳家豪 台北 日電 筆電 代工廠 緯創 今天 公布 合併 營收 新台幣 去年 基期 年增 工作 天數 出貨 可能 預期 出貨 回升 緯創 今年 筆電 出貨 桌上型 電腦 出貨 顯示器 出貨 緯創 接受 中央社 記者 電訪 表示 今年 上半年 面臨 缺料 問題 難以 預測 趨緩 時間 受到 淡季 去年 基期 影響 預估 今年', '基期 淡季 效應 緯創 元月 營收 三成財訊 快報 記者 王宜弘 報導 筆電 代工 大廠 緯創 公告 元月 業績 單月 合併 營收 下滑 去年 增加 去年 以來 水準 了解 緯創 元月 營收 三成 主要 因為 去年 營收 創高 基期 加上 工作 天數 農曆 春節 縮短 工時 單月 營收 回升 出貨量 方面 元月 筆電 出貨 減少 桌機 顯示器 展望 首季 傳統 淡季 效應 加上 上季 基期', '資訊 服務 緯軟 營收 年增時報 台北 服務商 緯創 軟體 公告 自結 月份 營收 春節 假期 員工 提前 休假 影響 營收 去年 增長 三成 連續 突破 歷年 新高 創下 單月 歷史 記錄 展望 緯軟 表示 高科技 互聯網 智慧 製造 領域 資訊 服務 需求 旺盛 前期 佈局 投資 綜效 發揮 因此 樂觀 看待 營收 成長 趨勢 不變 預期 獲利 成長 表現 獲利 部分 緯創 軟體 第四 年度 淨利 年減', '緯軟 營收 創單 月次 精誠 減逾中央社 記者 吳家豪 台北 日電 服務商 緯創 軟體 今天 公布 合併 營收 新台幣 創單 歷史次 精誠 資訊 合併 收約 緯軟 發布 新聞 資料 指出 營收 去年 主要 春節 假期 員工 提前 休假 影響 今年 營收 連續 改寫 歷年 同期 新高 精誠 資訊 表示 營收 下滑 主要 因為 適逢 農曆年 結帳 時間 提早 年底 專案 認列 遞延 造成 大單 認列 導致 基期', '散戶 活水 投信 買超時報 台北電 投信 扮演 台股 多頭 總司令 狂敲 累計 投資 專家 一致 指出 隨著 內資 投資人 持續 湧進 股市 大舉 申購 動式 基金 大量 資金 流向 投信 帶動 投信 連日 加碼 回補 投信 政府 基金 並肩 作戰 立大功 外資 不停 投信 就是 台股 日金 虎年 開盤 第二 交易 投信 累計 呈現 合計 買超 進一步 統計 今年 來到 投信 買超 法人', '統一 證券 晨訊 萬八 關卡 邁進 建議 逢低 布局日期 盤勢 分析 指數 續彈 萬八 復失 透弱 逢低 布局 為宜 昨日 盤勢 台積電 上漲 激勵 昨日 台股 以上 開出 資金 進駐 華航 長榮航 長榮 陽明 萬海 航空 貨櫃 族群 加上 國泰金 兆豐金 合庫等 金融 權值股 續強 指數 大漲 突破 點整 關卡 盤中 指數 維持 上漲 強勢 整理 格局 不過 尾盤 時段 台積電 大單 賣出 壓低 指數 萬八 關卡 復失 終場 指數 上漲 成交量', '淡季 效應 緯穎 元月 營收 減逾 股價財訊 快報 記者 王宜弘 報導 工作 天數 較少 缺料 以及 庫存 盤點 延遲 因素 雲端 伺服器 大廠 緯穎 自結 元月 合併 營收 上月 大減 增逾 首季 傳統 淡季 加上 去年 第四 基期 單季 營收 雙位數 季減 優於 公司 上季 營收 雙創 新高 儘管 緯穎 主力 客戶 日前 公告 財報 不如 預期 股價 崩跌 市場 擔憂 影響 緯穎 業績 展望 重申 今年 資本 支出 維持 美元 目標 不變 法人', '公告 緯創 合併 營收 年增日期 上市 公司 緯創 單位', '電腦 設備 緯創 元月 營收 增逾 出貨 看俏時報 記者 任珮云 台北 報導 緯創 自結 元月 營收 年增 受到 元月 季節性 因素 影響 營收 月減 今年 首季 去年 公司 樂觀 展望 出貨 年增 可望 個位數 桌機 顯示器 出貨 年增 雙位數 產品線 緯創 今年 筆電 出貨 桌機 顯示器 筆電 出貨 基期 預期 業務 今年 首季 業績 呈現 季減 相比 個位數 增年 成長 至於 桌機 顯示器 相對', '緯創 營收 減逾 出貨 回升中央社 記者 吳家豪 台北 日電 筆電 代工廠 緯創 今天 公布 合併 營收 新台幣 去年 基期 年增 工作 天數 出貨 可能 預期 出貨 回升 緯創 今年 筆電 出貨 桌上型 電腦 出貨 顯示器 出貨 緯創 接受 中央社 記者 電訪 表示 今年 上半年 面臨 缺料 問題 難以 預測 趨緩 時間 受到 淡季 去年 基期 影響 預估 今年', '基期 淡季 效應 緯創 元月 營收 三成財訊 快報 記者 王宜弘 報導 筆電 代工 大廠 緯創 公告 元月 業績 單月 合併 營收 下滑 去年 增加 去年 以來 水準 了解 緯創 元月 營收 三成 主要 因為 去年 營收 創高 基期 加上 工作 天數 農曆 春節 縮短 工時 單月 營收 回升 出貨量 方面 元月 筆電 出貨 減少 桌機 顯示器 展望 首季 傳統 淡季 效應 加上 上季 基期', '資訊 服務 緯軟 營收 年增時報 台北 服務商 緯創 軟體 公告 自結 月份 營收 春節 假期 員工 提前 休假 影響 營收 去年 增長 三成 連續 突破 歷年 新高 創下 單月 歷史 記錄 展望 緯軟 表示 高科技 互聯網 智慧 製造 領域 資訊 服務 需求 旺盛 前期 佈局 投資 綜效 發揮 因此 樂觀 看待 營收 成長 趨勢 不變 預期 獲利 成長 表現 獲利 部分 緯創 軟體 第四 年度 淨利 年減', '緯軟 營收 創單 月次 精誠 減逾中央社 記者 吳家豪 台北 日電 服務商 緯創 軟體 今天 公布 合併 營收 新台幣 創單 歷史次 精誠 資訊 合併 收約 緯軟 發布 新聞 資料 指出 營收 去年 主要 春節 假期 員工 提前 休假 影響 今年 營收 連續 改寫 歷年 同期 新高 精誠 資訊 表示 營收 下滑 主要 因為 適逢 農曆年 結帳 時間 提早 年底 專案 認列 遞延 造成 大單 認列 導致 基期', '情報 上市 投信 買賣 排行符合 以下 文章 格式 違者 刪除 分類 提供 以下 文章 搬運 每日 交易 數據 相關 法人 買買 資券 交易量 公司 重要 訊息 相關 營收 股利 股東會 法說會 內容 整理 現有 資訊 整理 相關 殖利率 排名 金融股 獲利 分布 詳閱 板規 參考 相關 規定 刪除 以上 內容 標題 上市 投信 買賣 排行 來源 公司名 網站名 網址 善用 網址 工具 內文 名次 股票 名稱 收盤價 漲跌 漲跌幅 買進 賣出 買賣 超張數', '情報 上市 外資 買賣 排行符合 以下 文章 格式 違者 刪除 分類 提供 以下 文章 搬運 每日 交易 數據 相關 法人 買買 資券 交易量 公司 重要 訊息 相關 營收 股利 股東會 法說會 內容 整理 現有 資訊 整理 相關 殖利率 排名 金融股 獲利 分布 詳閱 板規 參考 相關 規定 刪除 以上 內容 標題 上市 外資 買賣 排行 來源 公司名 網站名 網址 善用 網址 工具 內文 買超 名次 股票 名稱 超張數 名次 股票 名稱 張數', '情報 公股銀行 買賣 排行手機 介面 圖片 讀版 以下 資訊 張數 排列 買超 排名 股票 張數 排名 股票 張數 元大 台灣 陽明 群創 華邦電 元大 滬深 永豐金 友達 中信金 國泰智能 電動車 長榮 京元電子 元大 股息 聯電 元大金 日月光 投控 台新金 中鋼 緯創 台積電 長興 華航 兆豐金 中信電池 儲能 龍燈 宏碁 合庫金 元大 台灣 華南金 醣聯 旺宏 國泰 臺灣加權 彰銀 遠東 開發金 國泰 永續 股息 強茂', '情報 上市櫃 外資 投信 買超 金額 排行外資 排行 股票 名稱 百萬 收盤價 漲跌 聯發科 長榮 鴻海 貿聯 大成鋼 華邦電 譜瑞 中租 旺宏 緯創 資料 來源 投信 排行 股票 名稱 百萬 收盤價 漲跌 南電 台積電 長榮航 強茂 智原 萬海 技嘉 長榮 創惟 資料 來源 以上 謝謝', '情報 上市 投信 買賣 排行排行 股票 名稱 張數 排行 股票 名稱 張數 金像電 聯電 東和鋼鐵 泰鼎 華航 聯詠 聯發科 正隆 臺企銀 晶豪科 貿聯 聚陽 開發金 國巨 中鋼 新唐 友達 超豐 仁寶 樺漢 南亞科 台塑 技嘉 創意 永豐金 嘉澤 台積電 新光金 華邦電 亞德客 英業達 全訊 宏碁 晶技 中信金 儒鴻 緯創 國票金 群創 世紀鋼 兆豐金 宏達電 強茂 元大金 遠東銀 第一 台灣 高鐵 義隆', '情報 上市 投信 買賣 排行符合 以下 文章 格式 違者 刪除 分類 提供 以下 文章 搬運 每日 交易 數據 相關 法人 買買 資券 交易量 公司 重要 訊息 相關 營收 股利 股東會 法說會 內容 整理 現有 資訊 整理 相關 殖利率 排名 金融股 獲利 分布 詳閱 板規 參考 相關 規定 刪除 以上 內容 標題 上市 投信 買賣 排行 來源 公司名 網站名 網址 善用 網址 工具 內文 買超 名次 股票 名稱 收盤價 漲跌 漲跌幅 買進 張數 賣出', '情報 上市 外資 買賣 排行圖片版 買超 排行 股票 名稱 張數 排行 股票 名稱 張數 中信金 聯電 大成鋼 華航 元大 台灣 群創 開發金 友達 玉山金 元大 台灣 街口 布蘭 特正 國泰智能 電動車 南亞科 臺企銀 國泰金 中鋼 陽明 長榮航 中環 國泰 台灣 南亞 長榮 力積電 元大金 台新金 中信電池 儲能 宏達電 力成 中鴻 富采 第一 統一 潤泰新 中信 關鍵 半導體 富邦 宇宙 京元 電子 榮成 誠美材 緯創', '情報 上市櫃 外資 投信 排行排行 股票 名稱 成交 漲跌 投信 外資 東和 鋼鐵 聯發科 貿聯 開發金 南亞科 技嘉 中信金 緯創 系統 兆豐金 強茂 第一 義隆 遠東新 聯強 資料 來源 以上 謝謝', '殖利率 紅包美國 聯準會 主席 鮑爾 發表 鷹派 言論 美股 年假 期間 走揚 投資 專家 認為 台股 短線 波動 難免 建議 留意 具有 防禦性 價值 殖利率 市場 避風港 緯創 第一 往年 殖利率 外資 封關 周卡位 虎年 紅盤 進可攻 退可守 群益投顧 董事長 蔡明彥 表示 根據 聲明 開始 首度 升息 機會 下半年 啟動 縮表 預估 縮表 行動 採取 漸進 方式 當前 物價 位處 高檔 縮表 規模 可能', '掃瞄 國內 消息 台股 迎補 行情 環球 晶大 擴產 千億 銀彈 上膛時報 台北 國內 消息 台股 虎年 紅盤 超級 財報 周屢傳 佳音 美股 指數 農曆年 封關 期間 累計 漲幅 台美 股市 連動性 外資 看好 雲端 相關 資本 支出 堅實 有利 台系 供應鏈 後勢 加上 台積電 元月 營收 明晟 季度 調整 公告 利多 消息 簇擁 國安基金 有意 心態 台股 紅盤 可期 虎年 到來 台北 匯市 新春 開盤 牛年 封關 新台幣 美元 匯價 收在 半月 當日 美元 指數 來到 個月 新高', '殖利率 紅包美國 聯準會 主席 鮑爾 發表 鷹派 言論 美股 年假 期間 走揚 投資 專家 認為 台股 短線 波動 難免 建議 留意 具有 防禦性 價值 殖利率 市場 避風港 緯創 第一 往年 殖利率 外資 封關 周卡位 虎年 紅盤 進可攻 退可守 群益投顧 董事長 蔡明彥 表示 根據 聲明 開始 首度 升息 機會 下半年 啟動 縮表 預估 縮表 行動 採取 漸進 方式 當前 物價 位處 高檔 縮表 規模 可能', '掃瞄 國內 消息 台股 迎補 行情 環球 晶大 擴產 千億 銀彈 上膛時報 台北 國內 消息 台股 虎年 紅盤 超級 財報 周屢傳 佳音 美股 指數 農曆年 封關 期間 累計 漲幅 台美 股市 連動性 外資 看好 雲端 相關 資本 支出 堅實 有利 台系 供應鏈 後勢 加上 台積電 元月 營收 明晟 季度 調整 公告 利多 消息 簇擁 國安基金 有意 心態 台股 紅盤 可期 虎年 到來 台北 匯市 新春 開盤 牛年 封關 新台幣 美元 匯價 收在 半月 當日 美元 指數 來到 個月 新高', '情報 緯創 第四 營收標題 緯創 第四 盈收 來源 公開 資訊 觀測站 網址 內文 事實 發生日 公司 名稱 緯創 通股份 有限 公司 公司 關係 輸入 公司 公司 公司 相互 持股 比例 適用 發生 緣由 公告 公司 第四季 合併 自結 損益 尚未 會計師 查核 單位 新台幣 營業 收入 營業 毛利 營業 淨利 稅前 淨利 淨利 淨利 歸屬於 公司 業主 基本 盈餘 因應 措施 其他 敘明 事項', '情報 上市 外資 買賣 排行圖片 讀版 排行 代號 名稱 張數 排行 代號 名稱 張數 國泰 臺灣 加權 台積電 和碩 中鋼 中信金 友達 上曜 國泰 費城 半導 金像電 富采 元大 台灣 國泰 台灣 聯電 和鑫 兆豐金 南茂 永豐金 開發金 乙特 華邦電 元大 台灣 宏碁 中信 中國高股 台新金 長榮航 合庫金 元大金 國泰金 億光 陽明 國碩 仁寶 緯創 彰銀 鉅祥 元大 滬深 群創 新光金 玉山金 台亞 富邦金', '情報 公股銀行 買賣 排行手機 介面 圖片 讀版 以下 資訊 張數 排列 買超 排名 股票 張數 排名 股票 張數 國泰 台灣 台新金 友達 永豐金 中鋼 期街口 布蘭 特正 國泰智能 電動車 富邦公司 治理 國泰 費城 半導體 群創 台積電 華通 元大 台灣 國泰金 王道銀行 彰銀 元大金 第一 和鑫 上曜 表科 富邦金 富邦 特選 股息 和碩 富采 兆豐金 南茂 期元大 石油 中工 矽格 正文 金像電 遠東 亞太電 期元 原油', '撐腰 連鎖業 搶進 竹北 房市 成長 帶勁台灣 人口 成長 加速 不過 不少 地區 人口 逆勢 增加 根據 統計 顯示 新竹縣 竹北市 人口 增加 高於 新北林口 淡水 台中北屯 近年 快速 成長 熱門 移民 區域 所得 出生率 遷入率 竹北 成為 人口 成長 快速 行政區 吸引 連鎖 企業 看好 竹北 消費力 擴展 據點 提供 房市 成長 穩固 動力 竹北市 去年 人口 突破 萬人 人口 成長 一成 人口 成長率 以外', '電腦 設備 緯創 上季 盈餘時報 台北 緯創 公告 自結 損益 第四季 結合 淨利 歸屬 公司 業主 基本 盈餘 淨利 歸屬於 公司 業主 基本 盈餘 創資 第四季 結合 營收 營業 淨利 淨利 淨利 歸屬於 母公司 業主 基本 盈餘 創資 結合 營收 營業 淨利 淨利 淨利 歸屬於 公司 業主 基本 盈餘 編輯 沈培華', '統一 價值 成長 季度 調整 新增 晶豪科 敦泰 矽創 設計股財訊 快報 記者 巫彩蓮 報導 統一 價值 成長 成分股 季度 調整 自明 日生效 增刪 個股 新增 物料 類股 以及 科技 其中 包含 設計 統一 金融 商品 部分析 指數 成分 科技 類股 佔比 其中 設計 比重 大幅 提升 新增 晶豪科 敦泰 以及 矽創 利基 科技股 有望 成為 盤面 主流 統一 價值 成長 新增 晶豪科 設計 設計 權重 另外 包含 面板廠 以及 通路商 刪除', '筆電 需求 暢旺 緯創 去年中央社 記者 江明晏 台北 日電 筆記型 電腦 需求 持續 暢旺 代工廠 緯創 今天 公布 淨利 新台幣 盈餘 高於 緯創 去年 合併 營收 新台幣 營業 淨利 稅前 淨利 稅後 淨利 盈餘 緯創 去年 單季 合併 營收 營業 淨利 稅前 淨利 稅後 淨利 盈餘 展望 今年 由於 筆電 基期 相對 緯創 預估', '撐腰 連鎖業 搶進 竹北 房市 成長 帶勁台灣 人口 成長 加速 不過 不少 地區 人口 逆勢 增加 根據 統計 顯示 新竹縣 竹北市 人口 增加 高於 新北林口 淡水 台中北屯 近年 快速 成長 熱門 移民 區域 所得 出生率 遷入率 竹北 成為 人口 成長 快速 行政區 吸引 連鎖 企業 看好 竹北 消費力 擴展 據點 提供 房市 成長 穩固 動力 竹北市 去年 人口 突破 萬人 人口 成長 一成 人口 成長率 以外', '電腦 設備 緯創 上季 盈餘時報 台北 緯創 公告 自結 損益 第四季 結合 淨利 歸屬 公司 業主 基本 盈餘 淨利 歸屬於 公司 業主 基本 盈餘 創資 第四季 結合 營收 營業 淨利 淨利 淨利 歸屬於 母公司 業主 基本 盈餘 創資 結合 營收 營業 淨利 淨利 淨利 歸屬於 公司 業主 基本 盈餘 編輯 沈培華', '統一 價值 成長 季度 調整 新增 晶豪科 敦泰 矽創 設計股財訊 快報 記者 巫彩蓮 報導 統一 價值 成長 成分股 季度 調整 自明 日生效 增刪 個股 新增 物料 類股 以及 科技 其中 包含 設計 統一 金融 商品 部分析 指數 成分 科技 類股 佔比 其中 設計 比重 大幅 提升 新增 晶豪科 敦泰 以及 矽創 利基 科技股 有望 成為 盤面 主流 統一 價值 成長 新增 晶豪科 設計 設計 權重 另外 包含 面板廠 以及 通路商 刪除', '筆電 需求 暢旺 緯創 去年中央社 記者 江明晏 台北 日電 筆記型 電腦 需求 持續 暢旺 代工廠 緯創 今天 公布 淨利 新台幣 盈餘 高於 緯創 去年 合併 營收 新台幣 營業 淨利 稅前 淨利 稅後 淨利 盈餘 緯創 去年 單季 合併 營收 營業 淨利 稅前 淨利 稅後 淨利 盈餘 展望 今年 由於 筆電 基期 相對 緯創 預估', '情報 上市 外資 買賣 排行圖片 讀版 排行 代號 名稱 張數 排行 代號 名稱 張數 聯電 長榮 台積電 友達 新光金 群創 金像電 中信 中國高股 華通 富邦金 京元電子 中工 億光 國泰 費城 半導 日月光 投控 宏達電 仁寶 台亞 華航 中鋼 欣興 旺宏 新金 大同 萬海 中信金 智原 中磊 國泰金 開發金 富邦 越南 元大 台灣 元大金 奇鋐 長榮航 中石化 玉山金 佳世達 永豐金 國泰台灣', '電腦 設備 緯創 三路 應用 商機時報 台北電 緯創 集團 積極 搶進 應用 商機 集結 緯創 資通 旗下 緯謙 科技 旗下 網通廠 啟碁 科技 雲端 運算 基礎 架構 解決 方案 供應商 緯穎 科技 兵分 三路 布局 階段 目標力 今年 第一季 分頭 電信 運營商 雲端 服務 供應商 合作 專網 解決 方案 落地 各自 智慧 工廠 場域 應用 產業 變革 發酵 提前 集團 營運動能 競爭力 備戰 緯創 去年 加速 布局 企業 專網 第一季 動作 攜手 國內 電信 龍頭 中華電信', '早報 金融股 走跌 買盤 低接 科技股 指數 漲多 跌少開盤日 出刊 蘋果 處理器 接受 台積電 奈米 漲價 訂單 利多連發 法人 導體 金融股 加碼 今年 產能 增加 搶搭 商機 獲利 新高 平均 國際 股市 分道瓊 指數 漲跌 幅度 點作 收日 指數 漲跌 幅度 作收 上證 指數 漲跌 幅度 作收 台股 籌碼 變化 外資 投信 自營 融資 餘額 融券 餘額 法人 買賣 買超 外資 投信 自營商 台積電 台積電', '公告 緯軟 董事會 決議 通過 緯創 軟件 北京 有限 公司 盈餘 轉增 資案 更正 事實 發生日公司 名稱 緯軟 緯軟 董事會 決議 通過 緯創 軟件 北京 有限 公司 盈餘 轉增 資案 事實 發生 發言人 長育禎 事實 發生 民國 民國 新增 減少 投資 方式 盈餘 增資 交易 單位 數量 單位 價格 交易 金額 人民幣 大陸 投資 公司 公司 名稱 緯創 軟件 北京 有限 公司 簡稱 大陸 投資 公司 收資 本額 人民幣 大陸 投資 公司 新增 資本額 人民幣', '電腦 設備 緯創 三路 應用 商機時報 台北電 緯創 集團 積極 搶進 應用 商機 集結 緯創 資通 旗下 緯謙 科技 旗下 網通廠 啟碁 科技 雲端 運算 基礎 架構 解決 方案 供應商 緯穎 科技 兵分 三路 布局 階段 目標力 今年 第一季 分頭 電信 運營商 雲端 服務 供應商 合作 專網 解決 方案 落地 各自 智慧 工廠 場域 應用 產業 變革 發酵 提前 集團 營運動能 競爭力 備戰 緯創 去年 加速 布局 企業 專網 第一季 動作 攜手 國內 電信 龍頭 中華電信', '早報 金融股 走跌 買盤 低接 科技股 指數 漲多 跌少開盤日 出刊 蘋果 處理器 接受 台積電 奈米 漲價 訂單 利多連發 法人 導體 金融股 加碼 今年 產能 增加 搶搭 商機 獲利 新高 平均 國際 股市 分道瓊 指數 漲跌 幅度 點作 收日 指數 漲跌 幅度 作收 上證 指數 漲跌 幅度 作收 台股 籌碼 變化 外資 投信 自營 融資 餘額 融券 餘額 法人 買賣 買超 外資 投信 自營商 台積電 台積電', '公告 緯軟 董事會 決議 通過 緯創 軟件 北京 有限 公司 盈餘 轉增 資案 更正 事實 發生日公司 名稱 緯軟 緯軟 董事會 決議 通過 緯創 軟件 北京 有限 公司 盈餘 轉增 資案 事實 發生 發言人 長育禎 事實 發生 民國 民國 新增 減少 投資 方式 盈餘 增資 交易 單位 數量 單位 價格 交易 金額 人民幣 大陸 投資 公司 公司 名稱 緯創 軟件 北京 有限 公司 簡稱 大陸 投資 公司 收資 本額 人民幣 大陸 投資 公司 新增 資本額 人民幣', '新聞 外資 觀點 美系 外資 調高 台股 指數 目標原文 標題 外資 觀點 美系 外資 調高 台股 指數 目標 點名 台積電 刪減 原文 標題 原文 連結 善用 網址 工具 發布 時間 原文 網頁 報紙 發布 時間 為準 原文 內容 美系 外資 出爐 報告 表示 看好 台股 企業 獲利 空間 外資 回補 重申 台股 加碼 評等 調高 台股 目標 指數 調高 至於 台股 組合 科技 族群 青睞 半導體 族群 電子 族群 看好 金融 對於 電信', '新聞 科技股 便宜 高盛 欽點 電金原文 標題 科技股 便宜 高盛 欽點 電金 台股 目標 喊上 原文 連結 發布 時間 週五 下午 原文 內容 今日 開高 走低 財報 亮眼 台積電 苦撐 盤面 雙拳 難敵 四手 大盤 一度 重挫 不過 外資 高盛 發佈 報告 力挺 台股 高呼 台灣 科技 全球 市場 顯得 便宜 預估 台股 宣布 維持 加碼 評等 今年 喊出 大關 法人 根據 高盛 發佈 報告 顯示 台股 企業 獲利在', '情報 上市 投信 買賣 排行符合 以下 文章 格式 違者 刪除 分類 提供 以下 文章 搬運 每日 交易 數據 相關 法人 買買 資券 交易量 公司 重要 訊息 相關 營收 股利 股東會 法說會 內容 整理 現有 資訊 整理 相關 殖利率 排名 金融股 獲利 分布 詳閱 板規 參考 相關 規定 刪除 以上 內容 標題 上市 投信 買賣 排行 來源 公司名 網站名 網址 善用 網址 工具 內文 買超 名次 股票 名稱 收盤價 漲跌 漲跌幅 買進 賣出 買賣', '情報 上市 外資 買賣 排行符合 以下 文章 格式 違者 刪除 分類 提供 以下 文章 搬運 每日 交易 數據 相關 法人 買買 資券 交易量 公司 重要 訊息 相關 營收 股利 股東會 法說會 內容 整理 現有 資訊 整理 相關 殖利率 排名 金融股 獲利 分布 詳閱 板規 參考 相關 規定 刪除 以上 內容 標題 上市 外資 買賣 排行 來源 公司名 網站名 網址 善用 網址 工具 內文 買超 名次 股票 名稱 超張數 名次 股票 名稱 張數', '美系 外資 調高 台股 指數 目標 點名 台積電財訊 快報 記者 劉居全 報導 美系 外資 出爐 報告 表示 看好 台股 企業 獲利在 空間 以及 外資 回補 重申 台股 加碼 評等 調高 台股 目標 指數 調高 至於 台股 組合 科技 族群 青睞 半導體 族群 電子 族群 看好 金融 對於 電信 消費 零售 負面 看待 點名 看好 台積電 個股 美系 外資 表示 台灣 漲幅 主要 企業 獲利 成長 帶動 宏觀 經濟 角度 全球 進入 疫情 時代 財政', '科技股 便宜 高盛 欽點 電金 台股 目標 喊上今日 開高 走低 財報 亮眼 台積電 苦撐 盤面 雙拳 難敵 四手 大盤 一度 重挫 不過 外資 高盛 發佈 報告 力挺 台股 高呼 台灣科技股 全球 市場 顯得 便宜 預估 台股 宣布 維持 加碼 評等 今年 喊出 萬大關 法人 根據 高盛 發佈 報告 顯示 台股 企業 獲利 空間 以及 外資 第四季 開始 回補 台灣 科技 類股 由於 台灣 科技 估值 全球 相比 處於 歷史 低位 預估 外資 繼續 回補', '外資 看好 企業 獲利 成長 調升 台股 目標中央社 記者 吳家豪 台北 日電 美系 外資 發布 研究 報告 指出 台股 企業 獲利 成長 空間 外資 有望 持續 回補 重申 台股 加碼 投資 評等 指數 目標 美系 外資 認為 外資 台股 連續 流出 美元 新台幣 去年 開始 回補 科技 類股 由於 台灣 科技股 估值 全球 相比 處於 歷史 低檔 外資 有望 繼續 流入 科技股 主軸 美系 外資 預期 台股 企業 盈餘 分別 年增', '美系 外資 調高 台股 指數 目標 點名 台積電財訊 快報 記者 劉居全 報導 美系 外資 出爐 報告 表示 看好 台股 企業 獲利在 空間 以及 外資 回補 重申 台股 加碼 評等 調高 台股 目標 指數 調高 至於 台股 組合 科技 族群 青睞 半導體 族群 電子 族群 看好 金融 對於 電信 消費 零售 負面 看待 點名 看好 台積電 個股 美系 外資 表示 台灣 漲幅 主要 企業 獲利 成長 帶動 宏觀 經濟 角度 全球 進入 疫情 時代 財政', '科技股 便宜 高盛 欽點 電金 台股 目標 喊上今日 開高 走低 財報 亮眼 台積電 苦撐 盤面 雙拳 難敵 四手 大盤 一度 重挫 不過 外資 高盛 發佈 報告 力挺 台股 高呼 台灣科技股 全球 市場 顯得 便宜 預估 台股 宣布 維持 加碼 評等 今年 喊出 萬大關 法人 根據 高盛 發佈 報告 顯示 台股 企業 獲利 空間 以及 外資 第四季 開始 回補 台灣 科技 類股 由於 台灣 科技 估值 全球 相比 處於 歷史 低位 預估 外資 繼續 回補', '外資 看好 企業 獲利 成長 調升 台股 目標中央社 記者 吳家豪 台北 日電 美系 外資 發布 研究 報告 指出 台股 企業 獲利 成長 空間 外資 有望 持續 回補 重申 台股 加碼 投資 評等 指數 目標 美系 外資 認為 外資 台股 連續 流出 美元 新台幣 去年 開始 回補 科技 類股 由於 台灣 科技股 估值 全球 相比 處於 歷史 低檔 外資 有望 繼續 流入 科技股 主軸 美系 外資 預期 台股 企業 盈餘 分別 年增', '情報 上市 投信 買賣 排行圖片 讀版 排行 代號 名稱 張數 排行 代號 名稱 張數 中信金 聯電 南茂 強茂 元大 台灣 矽創 國泰金 景碩 仁寶 長榮航 玉山金 揚明光 永豐金 光罩 英業達 台光電 緯創 華航 台中銀 順德 兆豐金 技嘉 上海商銀 同欣電 新光金 聯詠 友達 偉詮電 開發金 力成 第一 台塑化 台新金 玉晶光 台積電 嘉澤 台泥 智伸科 華南金 台塑 合庫金 台灣高鐵 國泰股利 精選', '情報 上市 外資 買賣 排行圖片 讀版 排行 代號 名稱 張數 排行 代號 名稱 張數 新光金 開發金 乙特 中鋼 友達 台新金 群創 聯電 開發金 中信金 華新 臺企銀 日月光 投控 元大金 富邦 越南 玉山金 辛耘 長榮航 國泰基 免疫 國泰金 大同 華航 誠美材 兆豐金 敬鵬 台積電 榮運 富邦金 長榮 彩晶 京元 電子 鉅祥 第一 京鼎 彰銀 晶豪科 中纖 緯創 台中銀 至上 中石化 台橡 宏碁 東森', '情報 公股銀行 買賣 排行手機 介面 圖片 讀版 以下 資訊 張數 排列 買超 排名 股票 張數 排名 股票 張數 元大 台灣 中信金 開發金 新光金 群創 國泰金 友達 中鋼 泰金寶 京元電子 南茂 元大金 台泥 頎邦 大成鋼 台新金 中石化 臺企銀 富邦 特選 股息 富邦金 南紡 永豐金 元大 滬深 長榮航 辛耘 兆豐金 國泰基 免疫 革命 長榮 欣銓 和益 聯電 國泰 股利 精選 玉山金 日月光 投控', '興櫃股 鼎恒 結盟 微軟 揪團 打造 雲端聯盟時報 記者 莊丙農 台北 報導 雲端 世代 來臨 鼎恒 台灣微軟 共同 號召 雲端 業者 透過 整合 資源 發揮 跨域 綜效 建立 雲端 聯盟 加速 產業 發展 一直 以來 提供 企業 雲端 人力 資源 解決 方案 幫助 企業 轉型 藉由 創新 人資 生態圈 打造 企業 社群 期望 透過 不同 雲端 業者 結盟 發揮 群體 力量 雲端 服務 價值 同時 規畫 拓展 海外 業務 去年 已經 接到 友邦人壽 越南 訂單 未來 逐步 拓展 海外 市場 微軟 亞太 地區 最佳 合作 夥伴', '興櫃股 鼎恒 結盟 微軟 揪團 打造 雲端聯盟時報 記者 莊丙農 台北 報導 雲端 世代 來臨 鼎恒 台灣微軟 共同 號召 雲端 業者 透過 整合 資源 發揮 跨域 綜效 建立 雲端 聯盟 加速 產業 發展 一直 以來 提供 企業 雲端 人力 資源 解決 方案 幫助 企業 轉型 藉由 創新 人資 生態圈 打造 企業 社群 期望 透過 不同 雲端 業者 結盟 發揮 群體 力量 雲端 服務 價值 同時 規畫 拓展 海外 業務 去年 已經 接到 友邦人壽 越南 訂單 未來 逐步 拓展 海外 市場 微軟 亞太 地區 最佳 合作 夥伴', '情報 上市 投信 買賣 排行符合 以下 文章 格式 違者 刪除 分類 提供 以下 文章 搬運 每日 交易 數據 相關 法人 買買 資券 交易量 公司 重要 訊息 相關 營收 股利 股東會 法說會 內容 整理 現有 資訊 整理 相關 殖利率 排名 金融股 獲利 分布 詳閱 板規 參考 相關 規定 刪除 以上 內容 標題 上市 投信 買賣 排行 來源 公司名 網站名 網址 善用 網址 工具 內文 買超 名次 股票 名稱 收盤價 漲跌 漲跌幅 買進 賣出 買賣', '情報 上市 外資 買賣 排行符合 以下 文章 格式 違者 刪除 分類 提供 以下 文章 搬運 每日 交易 數據 相關 法人 買買 資券 交易量 公司 重要 訊息 相關 營收 股利 股東會 法說會 內容 整理 現有 資訊 整理 相關 殖利率 排名 金融股 獲利 分布 詳閱 板規 參考 相關 規定 刪除 以上 內容 標題 上市 外資 買賣 排行 來源 公司名 網站名 網址 善用 網址 工具 內文 買超 名次 股票 名稱 超張數 名次 股票 名稱 張數', '台北 股市 官股 券商 買近 晶圓 雙雄時報 台北電 近日 外資 台股 整體 呈現 偏空 操作 官股 券商 穩盤 加碼 合計 買超 護盤 敲進 個股 聯電 台積電 晶圓 雙雄 買超 共有 買超 金額 以上 儘管 外資 台股 轉為 買超 上櫃 提款 賣超 因而 官股 券商 上市櫃 共計 呈現 買超 顯示 萬八 尚未 回穩 以及 指數 之下 政策', '公告 緯軟 董事會 決議 通過 緯創 軟件 北京 有限 公司 盈餘 增資案公司 名稱 緯軟 緯軟 董事會 決議 通過 緯創 軟件 北京 有限 公司 盈餘 轉增 資案 發言人 長育禎 事實 發生 民國 民國 新增 減少 投資 方式 盈餘 增資 交易 單位 數量 單位 價格 交易 金額 人民幣 大陸 投資 公司 公司 名稱 緯創 軟件 北京 有限 公司 簡稱 大陸 投資 公司 收資 本額 人民幣 大陸 投資 公司 新增 資本額 人民幣 大陸 投資', '台北 股市 官股 券商 買近 晶圓 雙雄時報 台北電 近日 外資 台股 整體 呈現 偏空 操作 官股 券商 穩盤 加碼 合計 買超 護盤 敲進 個股 聯電 台積電 晶圓 雙雄 買超 共有 買超 金額 以上 儘管 外資 台股 轉為 買超 上櫃 提款 賣超 因而 官股 券商 上市櫃 共計 呈現 買超 顯示 萬八 尚未 回穩 以及 指數 之下 政策', '公告 緯軟 董事會 決議 通過 緯創 軟件 北京 有限 公司 盈餘 增資案公司 名稱 緯軟 緯軟 董事會 決議 通過 緯創 軟件 北京 有限 公司 盈餘 轉增 資案 發言人 長育禎 事實 發生 民國 民國 新增 減少 投資 方式 盈餘 增資 交易 單位 數量 單位 價格 交易 金額 人民幣 大陸 投資 公司 公司 名稱 緯創 軟件 北京 有限 公司 簡稱 大陸 投資 公司 收資 本額 人民幣 大陸 投資 公司 新增 資本額 人民幣 大陸 投資', '情報 上市 外資 買賣 排行圖片 讀版 排行 代號 名稱 張數 排行 代號 名稱 張數 友達 永豐金 新光金 聯電 開發金 元大 台灣 富邦金 開發金 乙特 中鋼 國泰 臺灣 加權 鴻海 中信金 旺宏 元大 台灣 東森 臺企銀 揚智 兆豐金 元大金 華航 國喬 玉山金 國際中橡 長榮航 飛宏 台積電 智原 富邦 臺灣 加權 寶成 中信 中國 高股 誠美材 國泰金 長榮 緯創 台聚 第一 嘉里大榮 彰銀 國泰 台灣', '情報 公股銀行 買賣 排行手機 介面 圖片 讀版 以下 資訊 張數 排列 買超 排名 股票 張數 排名 股票 張數 元大金 友達 東森 新光金 國泰 台灣 臺企銀 聯電 開發金 永豐金 富邦金 國泰智能 電動車 國泰金 鴻海 台亞 宏達電 群創 世界 中信金 長榮 富邦公司 治理 富邦 特選 股息 和鑫 嘉里 大榮 新金 元大 台灣 台肥 緯創 開發金 乙特 陽明 富采 穩懋 中信中國 股息 康那香 兆豐金 國際 中橡 晶豪科 大同', '上市櫃時報 台北電 中美 貿易戰 持續 疫情 急單 效應 上市 櫃公司 營收 繳出 亮眼 成績單 第四季 營收 飆出 營收 首度 突破 兆元 兆元 第四 營收 兆元 季增 年增 一成 合併 營收 兆元 年增 紀錄 創下 台股 史上 新猷 展望 第一 投顧 董事長 陳奕光 認為 農曆 春節 備貨 車電 接單 動能 強勁 遞延 出貨 預計 合併 營收 有望續揚 月創 單月 新高 營收 兆元 上市 櫃公司', '上市櫃時報 台北電 中美 貿易戰 持續 疫情 急單 效應 上市 櫃公司 營收 繳出 亮眼 成績單 第四季 營收 飆出 營收 首度 突破 兆元 兆元 第四 營收 兆元 季增 年增 一成 合併 營收 兆元 年增 紀錄 創下 台股 史上 新猷 展望 第一 投顧 董事長 陳奕光 認為 農曆 春節 備貨 車電 接單 動能 強勁 遞延 出貨 預計 合併 營收 有望續揚 月創 單月 新高 營收 兆元 上市 櫃公司', '情報 上市 投信 買賣 排行圖片 讀版 排行 代號 名稱 張數 排行 代號 名稱 張數 友達 長榮 富采 華邦電 開發金 欣興 群創 景碩 聯嘉 萬海 仁寶 聯電 泰鼎 南電 表科 台泥 中信金 創意 文曄 台光電 宏碁 揚明光 兆豐金 智易 彩晶 美食 新光金 森崴 能源 玉山金 台聚 中鋼 天鈺 南紡 偉詮電 永豐金 奇鋐 新金 健策 第一 同欣電 錸寶 強茂 華南金 全訊 廣達 合庫金 華擎 致茂', '情報 上市 外資 買賣 排行圖片 讀版 排行 代號 名稱 張數 排行 代號 名稱 張數 友達 聯電 群創 長榮 富邦金 鴻海 中信金 永豐金 金寶 華航 玉山金 開發金 乙特 國產 長榮航 台亞 元大金 國泰金 國泰智能 電動 彩晶 元大 台灣 富采 國泰 台灣 中華電 國碩 富時 動產 台橡 惠特 富邦 未來車 台泥 陽明 浩鑫 寶成 兆豐金 國喬 中環 台聚 東鹼 國泰 費城 半導 英業達 旺宏 宏達電 聯發科 強茂', '情報 公股銀行 買賣 排行手機 介面 圖片 讀版 以下 資訊 張數 排列 買超 排名 股票 張數 排名 股票 張數 聯電 友達 華航 群創 富邦 特選 股息 中光電 長榮 國泰金 臺企銀 華邦電 長榮航 國產 鴻海 東森 泰金寶 富邦金 永豐金 彩晶 國泰智能 電動車 金寶 新光金 中環 國泰 台灣 同欣電 元大金 配通 兆豐金 期街口 布蘭 特正 國泰 費城 半導體 廷鑫 玉山金 毛寶 開發金 乙特 浩鑫 晶宏 光頡 元大 股息 四維航', '廣達 仁寶 緯創 營收 歷史 新高 首季 淡季短料 缺貨 狀況 紓緩 筆電 產品 出貨量 大幅 提升 廣達 營收 創下 單月 新高 緯創 合併 營收 歷史 新高 仁寶 單月 營收 跨越 去年 高峰 創下 歷史 新高 紀錄 累計 營收 兆元 高居 電子 代工廠 榜首 預估 第一季 料況 舒緩 整體 筆電 出貨量 季減 展望 持續 好轉 仁寶 自結 營收 金額 創下 單月 歷史 新高 累計 營收 規模 來到 兆元 歷史 紀錄 金額', '廣達 仁寶 緯創 營收 歷史 新高 首季 淡季短料 缺貨 狀況 紓緩 筆電 產品 出貨量 大幅 提升 廣達 營收 創下 單月 新高 緯創 合併 營收 歷史 新高 仁寶 單月 營收 跨越 去年 高峰 創下 歷史 新高 紀錄 累計 營收 兆元 高居 電子 代工廠 榜首 預估 第一季 料況 舒緩 整體 筆電 出貨量 季減 展望 持續 好轉 仁寶 自結 營收 金額 創下 單月 歷史 新高 累計 營收 規模 來到 兆元 歷史 紀錄 金額', '情報 緯創 營收標題 緯創 營收 來源 公開 資訊 觀測站 網址 內文 營收 去年 同期 營收 營收 成長率 營收 去年 同期 營收 營收 成長率 營收 去年 營收 營收 成長率 營收 去年 同期 營收 營收 成長率 心得 緯哥 回來 太久 看到 不過 可能 等到 出來 大家 確定 開始', '台北 股市 市場 動盪 風官 股愛時報 記者 任珮 台北 報導 變種 病毒 肆虐 加以 飛鷹 急衝 美股 指數 連續 交易日 收黑 台股 受到 波及 市場 波動 之際 觀察 國內 官股 近日 買超 績優 龍頭股 為主 包括 中鋼 中信金 台積電 陽明 緯創 神基 聯發科 南亞 長榮 環球晶 除了 參考 官股 買超 資訊 優質股 除息 作為 穩健 息收 投資標 大立光 除息 配息 預計 發放 股利 中美晶 除息 配息', '公告 緯創 合併 營收 年增日期 上市 公司 緯創 單位', '電腦 設備 廣達 驚奇 上月 上季 去年 營收 登頂時報 記者 任珮云 台北 報導 代工 大廠 廣達 緯創 去年 繳出 亮麗 成績 廣達 營收 緯創 單月 營收 雙雙 寫下 歷史 單月 新高 至於 營收 廣達 緯創 廣達 營收 新高 廣達 去年 營收 月增 年增 單月 營收 再度 改寫 歷史 新高 累計 廣達 去年 營收 年增 歷史 新高 紀錄 營收 季增 年增 單季 新高 廣達 去年 筆電 出貨', '緯軟 單月 單季 營收 三創 新高 資服 需求 暢旺 今年 營運 樂觀財訊 快報 記者 陳浩寧 報導 服務商 緯創 軟體 月份 單月 營收 突破 營收 首度 突破 大關 創下 單月 單季 營收 同步 刷新 歷史 紀錄 佳績 緯軟 成功 攻入 中國 指標 客群 人才 團隊 建置 逐步 到位 奠定 營收 穩健 增長 重要 基礎 指標 客群 帶來 收入 貢獻 挹注 大關 營收 新高 跨越 里程碑 月增 年增 第四 單季 合併 營收', '緯創 業績 刷新 紀錄 營收 逆轉財訊 快報 記者 王宜弘 報導 代工 大廠 緯創 公告 去年 業績 合併 營收 增加 大幅 成長 超乎 預期 歷史 新高 累計 公司 去年 全年 合併 營收 逆轉勝 年增 其中 第四 合併 營收 成長 一年 同期 成長 新高 緯創 筆電 出貨量 增加 累計 第四 筆電 出貨量 歷史 新高 累計 出貨量 年增 此外 月桌機 出貨', '代工廠 廣達 緯創 營收 同寫 新高 首季 淡季 不淡中央社 記者 吳家豪 台北 日電 筆記型 電腦 需求 持續 暢旺 代工廠 廣達 緯創 今天 公布 合併 營收 分別 新台幣 單月 歷史 新高 看好 今年 營運 淡季 廣達 合併 營收 月增 年增 單月 新高 累計 全年 合併 收約 年增 廣達 筆電 出貨 去年 筆電 出貨 季增 單季 新高 筆電 出貨 年增 締造 新猷 廣達 中央社 記者表', '台北 股市 市場 動盪 風官 股愛時報 記者 任珮 台北 報導 變種 病毒 肆虐 加以 飛鷹 急衝 美股 指數 連續 交易日 收黑 台股 受到 波及 市場 波動 之際 觀察 國內 官股 近日 買超 績優 龍頭股 為主 包括 中鋼 中信金 台積電 陽明 緯創 神基 聯發科 南亞 長榮 環球晶 除了 參考 官股 買超 資訊 優質股 除息 作為 穩健 息收 投資標 大立光 除息 配息 預計 發放 股利 中美晶 除息 配息', '公告 緯創 合併 營收 年增日期 上市 公司 緯創 單位', '電腦 設備 廣達 驚奇 上月 上季 去年 營收 登頂時報 記者 任珮云 台北 報導 代工 大廠 廣達 緯創 去年 繳出 亮麗 成績 廣達 營收 緯創 單月 營收 雙雙 寫下 歷史 單月 新高 至於 營收 廣達 緯創 廣達 營收 新高 廣達 去年 營收 月增 年增 單月 營收 再度 改寫 歷史 新高 累計 廣達 去年 營收 年增 歷史 新高 紀錄 營收 季增 年增 單季 新高 廣達 去年 筆電 出貨', '緯軟 單月 單季 營收 三創 新高 資服 需求 暢旺 今年 營運 樂觀財訊 快報 記者 陳浩寧 報導 服務商 緯創 軟體 月份 單月 營收 突破 營收 首度 突破 大關 創下 單月 單季 營收 同步 刷新 歷史 紀錄 佳績 緯軟 成功 攻入 中國 指標 客群 人才 團隊 建置 逐步 到位 奠定 營收 穩健 增長 重要 基礎 指標 客群 帶來 收入 貢獻 挹注 大關 營收 新高 跨越 里程碑 月增 年增 第四 單季 合併 營收', '緯創 業績 刷新 紀錄 營收 逆轉財訊 快報 記者 王宜弘 報導 代工 大廠 緯創 公告 去年 業績 合併 營收 增加 大幅 成長 超乎 預期 歷史 新高 累計 公司 去年 全年 合併 營收 逆轉勝 年增 其中 第四 合併 營收 成長 一年 同期 成長 新高 緯創 筆電 出貨量 增加 累計 第四 筆電 出貨量 歷史 新高 累計 出貨量 年增 此外 月桌機 出貨', '代工廠 廣達 緯創 營收 同寫 新高 首季 淡季 不淡中央社 記者 吳家豪 台北 日電 筆記型 電腦 需求 持續 暢旺 代工廠 廣達 緯創 今天 公布 合併 營收 分別 新台幣 單月 歷史 新高 看好 今年 營運 淡季 廣達 合併 營收 月增 年增 單月 新高 累計 全年 合併 收約 年增 廣達 筆電 出貨 去年 筆電 出貨 季增 單季 新高 筆電 出貨 年增 締造 新猷 廣達 中央社 記者表', '情報 上市 投信 買賣 排行圖片 讀版 排行 代號 名稱 張數 排行 代號 名稱 張數 華航 元大 台灣 友達 天鈺 仁寶 群創 富采 強茂 亞聚 聯電 台積電 華擎 開發金 長榮航 英業達 景碩 國巨 台勝科 元大金 帆宣 晶技 緯創 同欣電 中鋼 正隆 遠東新 創意 錸寶 威鋒 電子 聯強 智原 台泥 合勤控 宏碁 光罩 南亞 瑞昱 玉山金 欣興 廣達 晶豪科 台表科 揚明光 京鼎 富邦 未來車 彩晶', '情報 上市 外資 買賣 排行圖片 讀版 排行 代號 名稱 張數 排行 代號 名稱 張數 玉山金 群創 兆豐金 開發金 乙特 中信金 聯電 新光金 國泰智能 電動 新金 國碩 富邦 臺灣 加權 台積電 第一 國泰 台灣 長榮 國泰基 免疫 長榮航 中信 中國高股 台泥 宏碁 永豐金 鴻海 佳能 友達 合庫金 中信 關鍵 半導 華航 富邦 未來車 元大金 欣興 和益 元大 滬深 國泰金 元大台灣 富采 台聚 和碩 國泰 費城', '情報 公股銀行 買賣 排行手機 介面 圖片 讀版 以下 資訊 張數 排列 買超 排名 股票 張數 排名 股票 張數 南港 友達 國泰智能 電動車 永豐金 新光金 泰金寶 聯電 第一 元大 滬深 國泰金 華邦電 元大金 國泰基 免疫 革命 長榮航 國碩 玉山金 國泰 台灣 兆豐金 台積電 元大 台灣 鴻海 期街口 布蘭 特正 中信 關鍵 半導體 長榮 欣銓 台泥 彩晶 合庫金 南亞科 廷鑫 中信 中國 股息 元太 開發金 乙特 浩鑫 國泰', '檔元月 熱門股 農曆 封關 攻堅部隊 它們方亞申 加權 指數 去年 大漲 二三 六六 櫃買 大漲 二九 全球 股市 前茅 超過 美國 道瓊 上漲 十八 七三 二一 三八 幅度 亞洲 僅次於 越南 地緣 政治 中國 軍機 屢屢 加強 文攻武嚇 使得 外資 去年 台股 四五四 九億 連同 前年 五三九五億 合計 台股 九九三五億 但是 台股 內資 大力 加碼 尤其 政策 一九 獎勵 台商 返台 優惠 措施 資金 大舉 回流 加上 壽險 資金 強力加', '檔元月 熱門股 農曆 封關 攻堅部隊 它們方亞申 加權 指數 去年 大漲 二三 六六 櫃買 大漲 二九 全球 股市 前茅 超過 美國 道瓊 上漲 十八 七三 二一 三八 幅度 亞洲 僅次於 越南 地緣 政治 中國 軍機 屢屢 加強 文攻武嚇 使得 外資 去年 台股 四五四 九億 連同 前年 五三九五億 合計 台股 九九三五億 但是 台股 內資 大力 加碼 尤其 政策 一九 獎勵 台商 返台 優惠 措施 資金 大舉 回流 加上 壽險 資金 強力加', '情報 上市 外資 買賣 排行圖片 讀版 排行 代號 名稱 張數 排行 代號 名稱 張數 華航 開發金 乙特 長榮航 群創 宏碁 元大 台灣 富采 國泰基 免疫 仁寶 華通 日月光 投控 友達 玉山金 國泰智能 電動 新光金 聯電 中信金 鴻海 欣興 開發金 元大金 國泰 臺灣 加權 凌陽 中鋼 敬鵬 旺宏 元晶 元大 台灣 英業達 長榮 富邦台 兆豐金 燿華 台亞 飛宏 台積電 佳能 和益 和鑫 台中銀', '情報 公股銀行 買賣 排行手機 介面 圖片 讀版 以下 資訊 張數 排列 買超 排名 股票 張數 排名 股票 張數 泰金寶 華航 元大 台灣 街口 布蘭 特正 國泰基 免疫 革命 長榮航 華通 宏碁 開發金 乙特 新光金 台中銀 富采 臺企銀 富邦金 和鑫 友達 宏達電 玉山金 群創 日月光 投控 聯電 中環 中信 中國 股息 旺宏 佳能 鴻海 華邦電 京元電子 凌陽 富邦台 國泰台灣 金寶 元大金 中信金 元太 富邦公司 治理 彩晶', '情報 上市 投信 買賣 排行圖片 讀版 排行 代號 名稱 張數 排行 代號 名稱 張數 華邦電 華航 中鋼 長榮 玉山金 陽明 元晶 萬海 台表科 裕隆 奇鋐 華通 華擎 明基材 安集 鴻海 旭暉 應材 中信金 金像電 強茂 友達 智原 中磊 裕民 錸寶 大成鋼 穎崴 兆豐金 聯發科 台化 泰鼎 國泰金 大立光 景碩 京元電子 聯詠 順德 中華電 宇隆 欣興 開發金 聯電 世芯 百和 達興 材料 技嘉 鈺齊 富邦', '情報 上市 外資 買賣 排行圖片 讀版 排行 代號 名稱 張數 排行 代號 名稱 張數 華航 元大 台灣 華邦電 開發金 乙特 中環 開發金 群創 中石化 長榮航 長榮 聯電 力積電 友達 鴻海 和鑫 新光金 宏碁 永豐金 台新金 國產 大同 陽明 玉山金 臺企銀 中鋼 力成 南亞科 富發 台橡 東森 智原 中信金 華通 永光 彩晶 合庫金 兆豐金 神達 矽統 台玻 第一 廣達 台聚 國泰台灣 長華', '情報 公股銀行 買賣 排行手機 介面 圖片 讀版 以下 資訊 張數 排列 買超 排名 股票 張數 排名 股票 張數 開發金 華邦電 中石化 華航 友達 中環 錸德 聯電 興富發 長榮航 鴻海 南港 和鑫 群創 長榮 達運 元大 台灣 光罩 浩鑫 期街口 布蘭 特正 揚智 中磊 飛宏 華孚 土銀 富邦 京城樂富 聯傑 辛耘 十銓 南亞科 國產 矽統 緯創 兆豐金 台橡 大同 力積電 元太 萬旭 廣達 英業達 期元 石油 中工', '緯創 加碼 高雄 拚創 職缺緯創 資通 近期 持續 加碼 高雄 投資 併購 日本 面板廠 公司 高雄晶傑達 光電 科技 日前 宣布 前鎮 科技 產業 園區 興建廠 大樓 預計 當地 創造 就業 機會 方面 緯創 高雄 成立 第三處 研發中心 辦公室 近日 正式 進駐 高雄 亞灣 創新 園區 結合 產業鏈 加速 應用 服務 推動 高雄 成為 緯創 集團 新創 科技 服務 研發 重鎮 緯創 首度 落腳 高雄 成立 研發中心 聚焦 大數據 分析 機器 學習 軟體', '電腦 設備 緯創 加碼 高雄 拚創 職缺時報 台北 緯創 資通 近期 持續 加碼 高雄 投資 併購 日本 面板廠 孫公司 高雄晶傑達 光電 科技 日前 宣布 前鎮 科技 產業 園區 興建廠 大樓 預計 當地 創造 就業 機會 另一方面 緯創 高雄 成立 第三處 研發中心 辦公室 近日 正式 進駐 高雄 亞灣 創新 園區 結合 產業鏈 加速 應用 服務 推動 高雄 成為 緯創 集團 新創 科技 服務 研發 重鎮 緯創 首度 落腳 高雄 成立 研發中心 聚焦 大數據 分析', '情報 上市 投信 買賣 排行圖片 讀版 排行 代號 名稱 張數 排行 代號 名稱 張數 國泰金 華通 開發金 裕隆 元大 台灣 新唐 長榮航 明基材 群創 聯電 智易 鴻海 中磊 智原 宏碁 全新 聯發科 華邦電 彩晶 健策 友達 怡利電 建準 世紀鋼 迅得 南僑 台積電 南電 表科 康舒 仁寶 長榮 南亞 泰鼎 華航 英業達 南紡 玉晶光 慧洋 緯創 中信金 強茂 富采 達興 材料 百和 興富發 大同', '緯創 擴大 高雄 布局 創造 就業 機會中央社 記者 吳家豪 台北 日電 代工廠 緯創 今天 高雄 中華電信 成功 大樓 舉行 喬遷 開幕 儀式 擴大 高雄 在地 投資 布局 緯創 副董事長 黃柏漙 緯創 預計 創造 就業 機會 黃柏漙 表示 緯創集團 高雄 成立 研發中心 以來 累積 提供 超過 就業 機會 透過 集團子公司 高雄 晶傑達光電 科技 拓展 車載 工控 產品 相關 製造 領域 黃柏漙 指出 緯創 承租 前瞻 創新 大樓 層樓 建築 基地 興建廠', '緯創 加碼 投資 高雄 進駐 亞灣 創新 園區 就業 機會財訊 快報 記者 王宜弘 報導 緯創 集團 重兵 佈局 台灣 週三 高雄 研發中心 喬遷 開幕 儀式 舉行 副董事長 黃柏漙 表示 持續 深耕 高雄 擴大 在地 投資 佈局 週三 活動 高雄 中華 電信 成功 大樓 舉行 黃柏漙以 緯創 發展 視界 鼓動 高雄 活力 主題 致詞 高雄市 副市長 羅達生 經發局長 廖泰翔 以及 產官 學醫 各界 共襄盛舉 緯創 透過 高市 經發局 媒合 成立 高雄 研發中心 台北 薪資 高雄 生活 理念 招募 培育 高雄 在地 研發人', '情報 上市 投信 買賣 排行圖片 讀版 排行 代號 名稱 張數 排行 代號 名稱 張數 群創 華通 國泰金 明基 開發金 中信金 友達 金像電 陽明 智原 智易 裕隆 台積電 第一 國巨 中鴻 仁寶 南僑 宏碁 台塑 偉詮電 兆豐金 廣達 聯電 中鋼 世紀鋼 彩晶 新唐 合勤 台光電 旭暉 應材 富邦科技 南紡 大成鋼 泰鼎 健策 建準 鴻海 聯強 新光金 台灣 聯發科 聯茂 慧洋 全新 力積電', '情報 公股銀行 買賣 排行手機 介面 圖片 讀版 以下 資訊 張數 排列 買超 排名 股票 張數 排名 股票 張數 新美 新光金 華航 聯電 揚智 群創 和鑫 台積電 楠梓電 期街口布蘭 特正 大同 佳能 中環 元大 股息 金寶 玉山金 威健 開發金 宏達電 永豐金 聯傑 中信金 華東 華通 飛宏 華南金 元大 原油 國泰金 元山 期元 石油 元大台灣 中石化 集盛 第一 康舒 國泰台灣 光頡 仁寶', '新聞 富邦 股息 募集 宣告 持股 實際原文 標題 富邦 股息 募集 宣告 持股 實際 法人 原文 連結 發布 時間 週一 下午 原文 內容 富邦 特選 股息 分股 上市 持股 公告 持股 持股 唯一 廣達 法人 攝影 鄭國強 富邦 特選 股息 分股 上市 聲勢 浩大 資金 成為 台股 強力 買盤 不過 上市 以來 台股 小漲 許多 投資人', '標的 緯創 知道標的 緯創 分類 分析 正文 結論 宣布 股息 參加 明年 出清 以下 估算 過程 新手 小力 一點 這樣 估計 結論 立訊 收盤 現在 損失 持有 帳面 業外 損益 匯率 除以 發行 股數 緯穎 獲利 本業 根據 營收 估計 持平 小幅 增加 去年 營業 利益 估計 配發 股利 結論', '情報 上市 投信 買賣 排行圖片 讀版 排行 代號 名稱 張數 排行 代號 名稱 張數 群創 中鴻 友達 兆豐金 國泰金 金像電 中鋼 聯電 偉詮電 微星 仁寶 敦泰 亞泥 鴻海 英業達 國產 全新 台積電 台泥 大成鋼 中信金 南電 緯創 長榮 穎崴 新唐 聯強 創意 聯發科 百和 富發 美時 光寶科 精元 京元 電子 智原 技嘉 台灣 欣興 台光電 裕民 世紀鋼 群光 永豐金 大聯大 開發金 陽明 遠傳', '自營商 超股台股 今年 漲幅 內資 扮演 推手 統計 法人 投信 買超 外資 續提款 千億 證券 自營商 超千億 包括 權證 避險 部位 以上 造就 證券商 今年 獲利 豐收 自營商 買超 上市股 以上 計有 幾乎 中大型 現金 殖利率 包辦 統計 自營商 買超 台積電 最多 華碩 廣達 台泥 三十億 以上 其餘 之間 包括 聯發科 大聯大 亞泥 仁寶 緯創 微星 光寶', '產業 醫院 結盟 群架 揮軍時報 台北 通訊 生技 結合 迸出 火花 激勵 醫院 醫生 大舉 加入 研發 創業 領域 根據 生策會 統計 醫院 衍生 事業 醫生 掌舵 生技 公司 百花 爭鳴 投資 領域 過去 新藥 醫管 服務 延伸 數位 創新 醫材 掀起 火熱 發展 趨勢 醫生 創業 緊連 台灣 生技 產業 發展 脈動 新藥 醫管 服務 世代 代表 人物 基亞 高端 董事長 張世忠 心悅 生醫 蔡國荃 開刀 實務 經驗 豐富 林丕容 歐淑芳夫', '台北 股市 自營商 超股時報 台北電 台股 今年 漲幅 內資 扮演 推手 統計 法人 投信 買超 外資 續提款 千億 證券 營商 千億 包括 權證 避險 部位 以上 造就 證券商 今年 獲利 豐收 自營商 買超 上市股 以上 計有 幾乎 現金 殖利率 包辦 統計 自營商 買超 台積電 最多 華碩 廣達 台泥 三十億 以上 其餘 之間 包括 聯發科 大聯大 亞泥 仁寶', '爆卦 擔任 主管 職務 員工 薪資 資訊作者 黃卓盛 看板 標題 爆卦 擔任 主管 職務 全時 員工 薪資 資訊 時間 擔任 主管 職務 員工 薪資 資訊 員工 薪資 位數 員工 人數 年度 平均 累積 人數 公司 代號 公司 名稱 鴻準 聯詠 聯發科 智擎 原相 群聯 昇佳 電子 祥碩 聯陽 信驊 晶豪科 瑞昱 力旺 和泰車 矽創 台積電 敦泰 創意 凌通 鴻海 松翰 精成 華固 中鋼構 創惟 華擎 群光', '情報 上市 投信 買賣 排行名次 股票 名稱 張數 名次 股票 名稱 張數 開發金 華航 元大 台灣 群創 中鋼 陽明 日月光 投控 華通 金像電 長榮 仁寶 裕隆 宏碁 萬海 華晶科 長榮航 彩晶 聯電 智原 台肥 南紡 敦泰 華邦電 鴻海 聯強 南電 慧洋 聯茂 南亞 友達 廣達 智易 富發 美時 三福化 聯詠 台泥 精元 東和 鋼鐵 凱美 全新 元大 股息 技嘉 微星 統一 大成鋼 健策 南帝 新唐', '情報 公股銀行 買賣 排行手機 介面 圖片 讀版 以下 資訊 張數 排列 買超 排名 股票 張數 排名 股票 張數 金寶 康舒 富邦 特選 股息 聯電 元大 台灣 元大 台灣 中石化 華邦電 長榮航 街口 布蘭 特正 開發金 國泰 台灣 富邦 台灣 半導體 台新金 華泰 新光金 南紡 金像電 華航 元大 滬深 仁寶 彩晶 陽明 國泰金 強茂 中信 中國 股息 舜電 華紙 台半 兆豐金 威盛 大同 錸德 元大 股息 華通 宏達電', '光電股 大立光豪 台中 新廠時報 台北電 經濟部 斥資 擴大 投資 台灣 其中 矚目 光學 鏡頭 領導 廠商 大立光 一口 增加 投資案 估算 斥資 台中 工業區 新建 廠房 希望 持續 擴大 智慧型 手持 產品 應用 服務 扎根 高階 製程 技術 截至 目前 投資 台灣 方案 吸引 企業 超過 投資 預估 創造 就業 機會 後續 企業 排隊 待審 貿易戰 開打 大立光 遭遇 逆風 做好 布局 準備 額外', '自己 年終 分析師 透露 小鬼 鎖定 這些 中小型股陳儷文 宅女 小紅 表示 由於 今年 景氣 實在 景氣 據說 許多 企業 年終 獎金 縮水 數字 甚至 寫下 認為 定勝天 還是 可以 一己之力 自己 年終 提醒 時間 分析師 陳唯泰 建議 投資人 中小 型股 為主 鎖定 股票 詳細 分析 宅女 小紅 進擊 荷包 節目 公布 調查 數字 今年 意願 發放 年終獎 企業約 不過 平均 數字 年來 其中 金融 保險', '情報 信用 交易 統計標題 信用 交易 統計 來源 證券 櫃檯 買賣中心 公司 網址 善用 網址 工具 內文 信用 交易 統計 項目 買進 賣出 現金 償還 前日 餘額 今日 餘額 融資 交易 單位 融券 交易 單位 融資 金額 資增 台灣 資減 大哥 台積電 資增 聯電 資減 航運 陽明 資減 長榮', '情報 上市 外資 買賣 排行符合 以下 文章 格式 違者 刪除 分類 提供 以下 文章 搬運 交易 數據 相關 法人 買買 資券 交易量 公司 重要 訊息 相關 營收 股利 股東會 法說會 內容 整理 現有 資訊 整理 相關 殖利率 排名 金融股 獲利 分布 詳閱 板規 參考 相關 規定 刪除 以上 內容 標題 上市 外資 買賣 排行 來源 富邦證券 公司名 網站名 網址 善用 網址 工具 內文 名次 股票 名稱 收盤價 漲跌 漲跌幅 買賣 超張', '情報 公股銀行 買賣 排行金額 排名 股票 張數 金額 收盤價 漲跌 成交量 台積電 長榮 世界 台驊 投控 同欣電 聯詠 晶焱 萬海 鈺創 華新科 中鋼 漢磊 東森 世芯 樺漢 南亞科 宏碁 光磊 聯電 華邦電 宏捷科 全新 矽力 天鈺 瑞昱 創惟 頎邦 穩懋 中信中國 股息 富邦金 聯合 再生 金麗科 強茂 台表科 統一 宏達電 大立光 力成 中鴻 美琪瑪 彩晶 台半 新光鋼 期街口布蘭 特正 昇達科 威剛 南紡', '台股 持續 區間 震盪 留意 業績 亮眼財訊 快報 研究員 林宛儀 回顧 昨日 台股 表現 大盤 平盤 之上 遊走 震盪 幅度 高低點 高點 未能 週二 高點 終場 加權 股價 指數 上漲 成交量 交易日 明顯 縮小 盤面 強勢股 包括 台驊 投控 為首 航運股 當中 台驊 投控 亮燈 漲停 貨櫃 三雄 長榮 陽明 萬海 股價 漲於 停板 另外 被動 元件 大廠 華新科 亮燈 漲停 主要 因為 第三 股本 優於', '情報 上市 公司 投信 買賣標題 上市 公司 投信 買賣 網址 內文 買超 名次 股票 名稱 張數 漲跌 名次 股票 名稱 張數 漲跌 台達電 佳世達 智原 開發金 泰鼎 裕民 景碩 仁寶 奇鋐 友達 華通 群創 元大 股息 英業達 南電 偉詮電 技嘉 緯創 台塑 長榮 台表科 南亞科 元大 台灣 大聯大 國泰金 新唐 健策 元大金 貿聯 和碩 長榮航 台泥 台塑化 亞泥 同欣電 兆豐金 台聚 中鋼 華擎 福懋 大成鋼', '掃瞄 基本面 晶宏 今年 獲利 翻倍 感測 元件 擴產潮時報 掃瞄 基本面 交易日 新台幣 美元 收市 升值 成交值 美元 集中 市場 融資 減為 融券 增為 集中 市場 營商 買超 投信 外資 買超 設計廠 晶宏 電子 貨架 標籤 驅動 布局 雙動能 晶宏 前三季 合併 營收 繳出 成長 翻倍 成績單 法人 看好 晶宏 獲利 有望 達到 翻倍 成長 歷史 新高 水準 電子 標籤 出貨 動能 持續 受惠於 智慧 貨架 需求 成長 帶動 之外', '電腦 設備 緯潤 美商 電池 生產線時報 台北 綠色 永續 意識 抬頭 落實 企業 重視 投入 綠色 事業 緯創 集團 近日 旗下 緯潤 材料 宣布 策略 合作 美國 德州 共同 建置 直接 回收 電池 再生 產線 試點 專案 今年 下半年 啟動 期能將 回收 規模 再生 提供 標準 流程 聚焦 回收 電池 再生 電池 材料 製造 電池 高效電 容器 行動式 消費 電子品 電動 汽車 電池 綠色 電子 事業 開發出 經濟 效益 環保 回收 再生 技術', '雙控 風暴 來襲 綠電 台灣 經濟 動能 點名 大廠 拿下 主場 優勢中國 今年 加強 落實 雙控 政策 同時 加強 控制 能源 消耗量 總量 強度 地方 政府 工業 生產 旺季 祭出 限電 措施 諸多 企業 總產能 近乎腰斬 重創 工業 重鎮 中國 大規模 限電 凸顯出 全球 應求 挑戰 可能 影響 全球 下半年 經濟 成長 反觀 台灣 政府 積極 推動 能源 轉型 政策 目標 綠電 發電量 台灣 發電量 行政院 副院長 沈榮津 日前 台灣 離岸 風電 應商 接受 財信 傳媒 董事長 謝金河 老謝 世界 訪問', '情報 上市 投信 買賣 排行排行 代號 名稱 張數 排行 代號 名稱 張數 友達 聯電 台塑 欣興 亞聚 華夏 開發金 中鋼 永豐金 統一證 緯創 奇力 仁寶 世紀鋼 中信金 陽明 英業達 台玻 裕隆 長榮 第一 台光電 兆豐金 聚陽 東聯 敦泰 東新 台勝科 台積電 矽創 鴻海 台達電 國泰金 台揚 富邦金 華擎 台泥 通嘉 台塑 天鈺 奇鋐 台郡 正隆 智邦 創意 亞德客 界霖 立積 光寶科 祥碩', '電腦 設備 緯創 擴大 旗下 晶傑達時報 台北電 緯創 擴展 旗下 液晶 顯示 模組 業務 車載 工控 領域 持有 公司 鼎創 有限 公司 台子公司 台灣晶端 顯示 貿易 簽訂 股權 收購 協議 日幣 新台幣 取得 高雄 傑達 光電 科技 股權 緯創 先前 上旬 各自 召開 公司 董事會 通過 買賣 決議 簽署 買賣 標的 清單條款 預定 緯創 日圓 價格 收購 經過 議價 協商 緯創 最終 同意 高於 先前 預定 價格 收購', '掃瞄 國內 消息 張錫 年底 投信 基金 曝險時報 掃瞄 國內 消息 台股 修正 尾聲 投信 投顧 公會 理事長 張錫 提出 台股 支撐 注意 台股 主要 籌碼面 心理面 問題 投信 外資 小賣 主要 散戶 就是 底部 信號 即使 有限 看好 台股 萬點 張錫 表示 看法 依舊 甚至 年底 可能 看得到 大陸 房產商 財務 連環 金管會 緊盯 國內 金融業 是否 衝擊 境內外 基金 是否 踩雷 期局 副局長 蔡麗玲 指出 期局 統計', '早報 營收 雙增股 法人 逢低 承接開盤日 出刊 資金 回籠 大止跌 訊號 蘋果 機帶 鴻海 收創 同期 營收 雙增股 法人 承接 平均 國際 股市 道瓊 指數 漲跌 幅度 作收 指數 漲跌 幅度 作收 上證 指數 長假 休市 台股 籌碼 變化 外資 投信 自營 融資 餘額 融券 餘額 法人 買賣 超前 超前 外資 投信 自營商 長榮 台塑 台積電 陽明 台積電 聯電', '貿易 醫療 健康 照護展 揭幕時報 記者 沈培華 台北 報導 外貿協會 主辦 台灣 國際 醫療 健康 照護展 南港 展覽 二館 展出 協助 業者 擴大 國內外 醫療 產業 商機 市場 布局 除了 實體展 同步 開辦 展覽 提供 業者 虛實 整合 方案 協助 參展 業者 透過 線上展 平台 國際 買主 進行 交流 展覽 聚焦 醫療 器材 供應鏈 健康 產業 生態系 智慧 醫療 新創 呈現 醫材 產業 上下 完整 生產 供應鏈 智慧 醫療 新創 醫療 解決 方案 貿協 表示', '情報 上市 投信 買賣 排行排行 代號 名稱 超張數 排行 代號 名稱 張數 友達 長榮 台塑 台揚 亞聚 華通 兆豐金 中鋼 聯電 強茂 鴻海 億光 國產 日月 投控 台積電 統一證 順德 群創 世紀鋼 智原 南電 奇力 東聯 台郡 正隆 台玻 奇鋐 元大 台灣 創意 聚陽 仁寶 威鋒 電子 華夏 陽明 同欣電 虹冠電 緯創 富邦金 中信金 達邁 力成 中鴻 金像電 智邦 玉山金 技嘉 南亞 矽創 台灣 高鐵', '攜手 哈評 數位 轉型 鼎革獎 登台疫情 籠罩 全球 加速 台灣 企業 轉型 腳步 台灣 哈佛 商業 評論 全球 繁中版 共同 推動 數位 轉型 鼎革獎 收到 超過 企業 報獎 資料 最終 頒發 獎項 其中 鴻海 緯穎 眾多 競爭 脫穎而出 盛大 排場 熱鬧 掌聲 台灣 哈佛 商業 評論 全球 繁中版 共同 台灣 推動 數位 轉型 鼎革獎 頒獎 典禮 全球 副總裁 林偉德 全球 供應鏈 嚴重 打亂 透過 認知 台灣 企業 努力 精神 轉型 過程 透過 哈佛 商業 評論 合作 不少 指標', '公告 代子 公司 鼎創 有限 公司 簽訂 股權 收購 協議 取得 科技 公司 股權公司 名稱 緯創 代子 公司 鼎創 有限 公司 簽訂 股權 收購 協議 取得 高雄 晶傑達 光電 科技 公司 股權 發言人 石慶堂 名稱 性質 特別 標明 特別股 約定 發行 條件 股息率 科技 公司 簡稱 普通 事實 發生 交易 數量 單位 價格 交易 總金額 交易 價格 定為 日幣 交易 相對人 公司 關係 交易 相對人 自然人 公司 關係人', '電腦 設備 緯創子公司 鼎創 取得 高雄晶傑達 光電 股權時報 台北電 緯創 代子 公司 鼎創 有限 公司 公告 配合 集團 策略 業務 發展 需要 簽訂 股權 收購 協議 取得 高雄 晶傑達 光電 科技 公司 股權 雙方 同意 以下 簡稱 基準日 標的 公司 淨值 新台幣 基礎 綜合 考慮 其他 相關 定價 因素 交易 價格 定為 日幣 新台幣 編輯 整理 龍彩霖', '電腦 設備 緯創 收購 晶傑達 光電 金額 提高 完成 交割時報 記者 任珮云 台北 報導 緯創 今代 公司 公告 緯創 持有 投資 公司 董事會 通過 台灣晶端 顯示 貿易 簡稱 簽訂 股權 收購 協議 日幣 新台幣 取得 限公司 簡稱 股權 預計 第四季 完成 股權 交割 作業 緯創 月曾代 公司 鼎創 公告 投資 取得 高雄 晶傑達 光電 股權 當時 金額 日圓 新台幣 經過 雙邊 洽商', '緯創 日圓 全資 收購 正式 簽訂 股權 收購 協議財訊 快報 記者 王宜弘 報導 代工 大廠 緯創 月初 宣布 全資 收購 旗下 高雄 晶傑達 光電 週二 雙方 正式 簽訂 股權 收購 協議 緯創 表示 透過 收購 公司 進一步 深化 合作 關係 液晶 顯示 模組 事業 擴展 車載 工控 領域 進入 一線 客戶 供應鏈 同時 強化 全球 製造 佈局 股權 收購案 透過 緯創 旗下 投資 公司 鼎創 進行 鼎創 台灣 晶端 顯示 貿易 股份 有限 公司 簽訂 股權 收購 協議 日幣 台幣', '緯創子公司 斥資 取得 晶傑達 光電 股權中央社 記者 吳家豪 台北 日電 代工廠 緯創 今天 代子 公司 鼎創 公告 鼎創 董事會 通過 台灣晶端 顯示 貿易 簽訂 股權 收購 協議 日圓 新台幣 取得 高雄 股權 緯創 發布 重大 訊息 說明 交易 目的 配合 集團 策略 業務 發展 需要 雙方 同意 今年 日標 公司 淨值 新台幣 基礎 綜合 考慮 其他 相關 定價 因素 交易 價格 日圓 緯創 今年 宣布 收購案 除了', '情報 上市 投信 買賣 排行排行 代號 名稱 張數 排行 代號 名稱 張數 亞聚 長榮 台泥 台勝科 中鋼 金像 台塑 強茂 開發金 智邦 永豐金 晶豪科 智原 統一證 聯電 億光 大同 元大 台灣 中信金 陽明 仁寶 南茂 緯創 祥碩 台積電 台揚 第一 臻鼎 英業達 瑞昱 世紀鋼 台泥 乙特 友達 捷敏 南紡 聯邦銀甲 兆豐金 亞德客 國泰金 虹冠電 華航 貿聯 鴻海 台郡 遠東 萬海 亞泥 緯穎', '熱門 族群 伺服器廠 急拓 中產能時報 台北 伺服器廠 加速 擴大 產能 資策會 產業 情報 研究所 預估 今年 伺服器廠 中國大陸 總產量 比重 低於 五成 轉往 墨西哥 捷克 台灣 甚至 東南亞 地區 近年 包括 緯創 旗下 白牌 伺服器 大廠 緯穎 積極 擴增 台灣 墨西哥 產能 緯穎 加快 馬來西亞 建廠 腳步 英業 捷克 伺服器 產能 陸續 擴大 占比 資訊 電子 產研中心 資深 產業 顧問 主任 楊中傑 指出 近年 伺服器 產業 美中 貿易戰', '情報 上市 投信 買賣 排行排行 代號 名稱 張數 排行 代號 名稱 張數 華航 欣興 友達 長榮 群創 威鋒 電子 中鋼 強茂 裕民 智原 台泥 祥碩 聯電 遠雄 南亞科 宇隆 鴻海 天鈺 國產 巨大 亞聚 順德 世紀鋼 晶碩 偉詮電 統一 台積電 欣電 健策 景碩 南電 緯穎 正隆 聯詠 中信金 中興電 美利達 台塑 聯邦銀甲 緯創 鴻碩 仁寶 台勝科 世芯 陽明 美食 聚鼎 泰鼎 富邦金', '電腦 設備 緯創 醫學 攜手 高榮 建構 屏東 偏鄉 遠距 醫療 服務網時報 記者 任珮云 台北 報導 緯創 旗下 緯創 醫學 攜手 高榮 屏東 分院 優質 醫療 服務 醫療 普及 屏東 偏鄉 透過 遠距 方式 體現 醫學 中心級 醫療 服務 落實 台灣 分級 醫療 制度 減少 醫療 資源 浪費 以及 民眾 就醫 時間 經濟 成本 打破 地理 距離 限制 打造 衛生室 醫院 偏鄉 照護 精神 大力 支持 緯創 醫學 攜手 高榮 屏東 分院 優質 醫療 服務 醫療 普及於 地處 台灣 海岸線 旭海 衛生室 冀望 散播 醫療 照護 台灣 角落', '遠距 醫療 海岸線 緯創 醫學 攜手 旭海衛生室財訊 快報 記者 王宜弘 報導 緯創 旗下 緯創 醫學 科技 宣布 攜手 高榮 屏東 分院 前進 偏鄉 醫療 普及 屏東 旭海村 衛生室 希望 落實 醫療 資源 均衡 普及 願景 緯創 醫學 指出 屏東 旭海村 阿朗 壹古道 台灣 美麗 列為 原始 遺跡 古道 美稱 阿朗 壹古道 保留 豐富 自然 生態 景觀 海岸線 目前 台灣 少數 公路 鐵路 開通 地區 今年 適逢 旭海 觀音鼻 自然 保護區 成立 屆滿 周年 落實 醫療 資源 均衡 普及 偏鄉 居民 在地安老 願景 緯創', '緯創 切入 屏東 醫療 插旗 台灣 海岸線中央社 記者 吳家豪 台北 日電 代工廠 緯創 旗下 緯創醫學 科技 今天 宣布 攜手 高雄 榮民總醫院 屏東分院 醫療 服務 延伸 地處 台灣 海岸線 旭海 衛生室 緯創 醫學 表示 屏東縣 牡丹鄉 旭海村 緊鄰 太平洋 藉由 遠距 醫療 服務 平台 村民 就近 使用 醫療 設備 進行 遠距 會診 處置 行動 醫療箱 無線 音波 五官鏡 心電圖 電子 聽診器 旭海 衛生室 醫師 進行 疾病 檢傷 分類 輔助 診斷 病患 病患 資料 即時 傳輸 高雄 榮民', '雙控 選股 觀點方亞申 月份 果然 漲少 跌多 月份 聯準會 鷹派 抬頭 美股 快速 拉回 再來 就是 中秋節 中國 地產商 恆大 可能 倒閉 接管 中國 地產股 碧桂園 新力 融創 中國 股價 大跌 甚至 未來 要求 香港 地價 調降 香港 富豪公司 新鴻基 長實集團 股價 大跌 香港 恆生 國企股 嚴重 下跌 逐漸 回穩 最近 傳來 中國 雙控 力度 加大 點名 十二 實施 雙控 包括 江蘇 廣東 雲南 廣西', '情報 上市 投信 買賣 排行排行 股票 名稱 張數 排行 股票 名稱 張數 群創 金像電 華夏 日月光 投控 友達 欣興 亞聚 華新 台塑 國泰金 大成鋼 正隆 聯電 南亞科 南電 永豐金 台郡 偉詮電 聯茂 智原 遠雄 南亞 順德 緯創 台勝科 仁寶 南茂 台積電 捷敏 第一金 鴻海 英業達 新光鋼 宏碁 同欣電 開發金 威鋒 電子 國產 聚陽 健策 景碩 中信金 華擎 玉山金 天鈺 遠傳 宇隆 光寶科 帆宣', '新聞 仁寶 攜手 瑞昱 跨足 半導體仁寶 攜手 瑞昱 跨足 半導體 經濟日報 記者 謝佳雯 鐘惠玲 蕭君暉 台北 報導 代工廠 切入 半導體 鴻海集團 之後 仁寶 國內 第三 設計廠 瑞昱 合組 設計 公司 瑞半導體 跨入 微機電 麥克風 領域 仁寶 首度 涉足 半導體 並且 攜手 瑞昱 跨業 合作 顯示 雙方 關係 相當 密切 目前 台灣 代工廠 當中 鴻海集團 半導體 布局 最為 積極 廣達 緯創 英業達 同業 著重 布局 人工 智慧 電子 其他 應用', '情報 上市 投信 買賣 排行排行 代號 名稱 張數 排行 代號 名稱 張數 聯電 正新 開發金 允強 永豐金 群創 仁寶 亞泥 新唐 佳世達 英業達 日月光 投控 榮成 奇力 緯創 台泥 第一 大成鋼 台光電 東和鋼鐵 兆豐金 台玻 遠東新 表科 鴻海 晶豪科 景碩 光寶科 欣興 義隆 長榮 晶技 遠傳 台積電 力成 中信金 敦泰 廣達 智原 南亞科 華新科 國泰金 華擎 台灣 信邦 鴻準 健鼎', '情報 上市 外資 買賣 排行排行 代號 名稱 張數 排行 代號 名稱 張數 群創 聯電 仁寶 長榮 中信金 元大 台灣 富邦金 開發金 國泰金 臺企銀 第一 鴻海 華南金 台達電 東森 佳世達 玉山金 中鋼 宏碁 滬深 永豐金 華新 燁輝 關鍵 半導體 長榮航 元大金 中壽 旺宏 陽明 台積電 新光金 緯創 大成鋼 智能 電動車 兆豐金 中石化 中華電 菱生 聚亨 亞泥 富發 神達 富采 京元 電子 彩晶', '友達經濟日報 新聞 鴻海集團 上半年 厲害 鴻海 獲利 改寫 歷史 新高 群創 天鈺 鴻準 帆宣 鴻家 獲利 群創 獲利 鴻海 很少 宏碁 佳世達 緯創 廣達 集團 友達 持股 很少 自己 集團 雙虎 雙虎 吸血卡油', '台北 股市 投信 績效股 反彈時報 台北電 台股 近日 低迷 氣氛 瀰漫 步入 第三 下半場 投信 季度 績效 包括 聯電 中鋼 吸引 投信 著墨 以上 買超 累積 張數在 張不等 以來 累積 買超 便宜 卡位 反彈 意圖 台股 延續 跌勢 再度 震盪 走跌 加權 指數 大跌 終場 下跌 收在 半年線 宣告 失守 由於 短期 均線 空頭 排列 季線 死亡 交叉 法人 認為 中線 多方 格局 轉弱 值此 之際 外資 買超', '標的 緯創 死魚 布局買不到 星期 開盤 直接 破點 停損 目前 大盤 走向 沒有 反轉 跡像 緯創 不管 漲跌 凹單 不如 資金 套回 重新 布局 也許 真的 看到 價位 出現', '情報 上市 投信 買賣 排行排行 代號 名稱 張數 排行 代號 名稱 張數 中鋼 開發金 富采 允強 華通 華邦電 聯電 台玻 新唐 群創 永豐金 奇力 台郡 華新 長榮 萬海 仁寶 聯茂 第一 晶豪科 兆豐金 敦泰 景碩 表科 同欣電 南電 華夏 國巨 遠東新 台達電 台積電 東和鋼鐵 台泥 光寶科 英業達 智原 緯創 鴻海 大成鋼 美時 國泰金 聯強 健策 力成 富邦金 智邦 基材 正新 南亞科', '情報 上市 外資 買賣排行 代號 名稱 張數 排行 代號 名稱 張數 群創 開發金 長榮 友達 聯電 大同 元大金 陽明 國泰金 中石化 永豐金 中鋼 台玻 國泰 台灣 華南金 玉山金 矽格 長榮航 南亞科 鴻海 晶豪科 緯創 菱生 中壽 益航 中信金 滬深 國喬 宏碁 台灣 亞泥 鉅祥 兆豐金 集盛 永續 股息 華泰 中纖 中國 股息 統一 萬海 元大台灣 欣興 台新金 奇鋐 和桐 基材', '情報 公股銀行 買賣 排行排名 股票 張數 排名 股票 張數 開發金 矽格 元大 股息 聯電 友達 群創 新光金 富邦越南 中鋼構 元大金 統一 中壽 中鋼 陽明 鴻海 永豐金 中石化 長榮 國泰 台灣 益航 華新 南亞科 杜康 華航 長榮航 元大 滬深 國泰金 中信中國 股息 國泰 永續 股息 台玻 中信 關鍵 半導體 華邦電 國泰 臺灣 加權 康和證 兆豐金 榮剛 中信 小資 高價 新唐 亞泥 華泰 仁寶 晶豪科', '情報 投信 買賣 排行排行 代號 名稱 張數 排行 代號 名稱 張數 長榮 群創 京元電子 彩晶 開發金 智原 萬海 旺宏 聯電 友達 日月光 投控 中鋼 景碩 佳凌 大同 大成鋼 新唐 台玻 順德 台橡 基材 光罩 裕民 啟碁 天鈺 敦泰 永豐金 華通 仁寶 東和鋼 牧德 喬山 英業達 光寶科 南電 富鼎 中信金 強茂 第一 聚陽 緯創 瑞儀 力成 金像電 允強 榮科 健鼎 元大 股息 晶技', '情報 上市 外資 買賣 排行排行 代號 名稱 張數 排行 代號 名稱 張數 長榮 群創 中信金 旺宏 中石化 友達 萬海 華邦電 智能 電動車 宏碁 永豐金 菱生 聯電 東森 華通 開發金 威健 四維航 亞泥 瑞軒 緯創 國泰金 亞聚 華新 台玻 中鋼 智原 南亞科 兆豐金 矽統 大同 新光金 彩晶 欣興 台達化 益航 台塑 華航 富發 聯陽 英業達 京元電子 創見 聯益 和桐 合庫金 奇鋐', '情報 公股銀行 買賣 排行排名 股票 張數 排名 股票 張數 群創 聯電 旺宏 國泰金 華邦電 南茂 友達 元太 永豐金 仁寶 台泥 國泰智能 電動車 菱生 四維航 華通 宏碁 國產 街口 布蘭 特正 大同 長榮 長榮航 中信 中國 股息 瑞軒 上海商銀 富邦越南 京元電子 兆豐金 華泰 萬海 鴻海 富邦 証正 台化 陽明 南亞科 錸德 緯創 亞聚 新光金 英業達 威健 合庫金 誠美材 台達 華南金', '電腦 設備 緯創 獲利 高點時報 台北電 緯創 今年 第一 本業營 運動 居於 高檔 立訊 持股 收益 影響 獲利 表現 跌破 市場 法人 賬鏡 第二 終於 轉為 助力 加上 伺服器 顯示器 主力 業務 持續 升溫 帶動 單季 獲利 大幅 回穩 上半年 繳出 獲利 新高 表現 緯創 第二季 合併 營收 季增 毛利率 睽違 站回 以上 水位 營益率 提列 董事酬營 員工 紅利 費用 增加 小幅 下滑 至於 單季 淨利 增長', '台北 股市 動態 聯詠 穩懋 鈺太時報 台北電 個股 重大 訊息 聯詠 驅動 缺貨 明年 穩懋 營收 今年 新高 譜瑞 外資 共識 目標價 衝上 兩千 鈺太 樂觀 營運 瑞昱 收破 新高 緯創 獲利 高點 台灣 引擎 發威 大宇資 處分 資產 收益 華通 新品 助攻 營收 亮眼 編輯 整理 柳繼剛', '公告 緯創 合併 營收 年增日期 上市 公司 緯創 單位', '研調 筆電 需求 面臨 飽和 出貨 反轉 走弱中央社 記者 吳家豪 台北 日電 研究 機構 分析師 蕭聖倫 今天 表示 筆電 需求 面臨 飽和 供給 缺口未解 全球 筆電 出貨 預估 季增 以內 商用 領域 混合 工作 需求 支撐 全球 筆電 出貨 反轉走弱 指出 今年 主要 品牌 出貨 表現 龍頭惠普 聯想 面臨 教育 巿場 顯著 衰退 難以 透過 衝刺 消費 商務 領域 彌補 缺口 戴爾 面臨 長短料 問題 其他 品牌 嚴重 導致 出貨 顯著 低於 預期 努力', '研調 華碩 筆電 超越 蘋果 第四 全球 筆電 出貨 季增財訊 快報 記者 王宜弘 報導 評估 市場 需求 逐季 面臨 飽和 加上 缺貨 研調 機構 指出 第三 全球 筆電 出貨量 季增 第四 走弱 分析師 蕭聖倫 指出 第二 進入 教育 標案 需求 高峰 電競 商用 筆電 需求 相當 強勁 面板 顯卡 載板 供應 預期 惡化 部分 業者 零件 供給 短腳 導致 缺口 上季 全球 筆電 出貨 未計 卸式 機種 季增 幅度 不如 預期 認為 需求 面臨 飽和 供給面 缺口未解 全球 筆電', '料況 轉佳 英業達 業績 今年 緯創度財訊 快報 記者 王宜弘 報導 緯創 英業達 公告 業績 緯創 累計 英業達 今年 累計 面臨 缺料 窘境 緯創 英業達 第三 筆電 出貨 謹慎 評估 緯創 可望 水準 英業達 惠商 筆電 需求 增溫 訂單 高峰 出貨 狀況 供料 緯創 筆電 出貨量 減少 伺服器 出貨 增加', '情報 上市 投信 買賣 排行排行 代號 名稱 張數 排行 代號 名稱 張數 超豐 群創 台泥 彩晶 開發金 長榮 聯電 永豐金 晶技 中信金 旺宏 第一 順德 仁寶 景碩 兆豐金 東和鋼鐵 英業達 陽明 捷敏 台橡 遠東新 聯發科 緯創 欣興 台積電 台表科 國泰金 晶碩 中華電 界霖 億光 台達電 遠傳 瑞儀 玉山金 金像電 富邦金 台光電 光寶科 智易 鴻海 禾伸堂 矽創 允強 統一 京鼎 元大金', '情報 上市 外資 買賣 排行排行 代號 名稱 張數 排行 代號 名稱 張數 群創 聯電 友達 新光金 長榮 華邦電 陽明 元大 台灣 滬深 臺企銀 凌陽 旺宏 永豐金 萬海 台新金 台積電 華東 國泰 台灣 菱生 智能 電動車 長榮航 景碩 敦泰 光磊 聯發科 鉅祥 彩晶 晶技 聯詠 富邦 關鍵 半導體 金像電 廣達 集盛 台玻 茂矽 台灣 半導體 永豐餘 中鋼 仁寶 廷鑫 開發金 神基 中國 高股', '情報 公股銀行 買賣 排行排名 股票 張數 排名 股票 張數 聯電 元大 台灣 元大 台灣 友達 國泰金 長榮 國泰智能 電動車 街口 布蘭 特正 元大 股息 元大 滬深 新光金 光磊 旺宏 期元 石油 國泰 台灣 新唐 臺企銀 佳世達 彩晶 開發金 東森 凌陽 中鋼 緯創 敦泰 鴻準 中信 中國 股息 三商壽 亞泥 南亞 中信 關鍵 半導體 華南金 中信金 萬海 第一 國碩 富邦 台灣 半導體 陽明 台積電 嘉晶', '台灣 幫忙 海運股 抬轎聯強 神基 未來性 股價 反應 這樣 股息 出門 追殺 不只 問題 賣股 災難 正元大 投信 損失 投資人 承擔 成份股 同質性 仁寶 英業 廣達 緯創 華碩 自己 自己 組合', '台股 萬八 震盪 國泰 投信 建議 布局 高殖利率 績優股 護身財訊 快報 記者 劉居全 報導 台股 台積電 第二季 財報 遜於 預期 當日 跌破 萬八 大關 近期 病毒 肆虐 油價 暴跌 消息 衝擊 美股 起伏 會議 在即 投資人 暫時 觀望 國泰 投信 認為 以來 台股 呈現 驚驚 格局 主要 先前 盤勢 墊高 消息面 干擾 當前 台股 護國神山 台積電 法說會 中性 外資 看好 先進 製程 持續 驅動 營運 維持 調高 目標價 觀察 近期 台股 資金 電子 傳產 類股 快速', '情報 上市 投信 買賣 排行排行 代號 名稱 張數 排行 代號 名稱 張數 允強 長榮 開發金 景碩 矽創 中鋼 永豐金 國泰金 旺宏 晶技 億光 南茂 技嘉 南電 超豐 聯詠 東和 鋼鐵 台泥 台玻 仁寶 陽明 中信金 王品 東新 晶碩 第一 智易 英業達 友達 富采 順德 晶豪科 禾伸堂 南亞 百和 強茂 鈺齊 緯創 亞德客 兆豐金 智邦 微星 貿聯 惠特 萬海 華擎 盛群 聯強 瑞儀 台灣', '情報 上市 外資 買賣 排行排行 代號 名稱 張數 排行 代號 名稱 張數 萬海 開發金 布蘭 特正 群創 台玻 長榮 大成鋼 廣宇 富邦金 彩晶 鴻海 欣興 景碩 長榮航 中鴻 光磊 華新 新唐 聯詠 群益證 台灣 元大 台灣 敦泰 精英 榮運 中國 股息 燁輝 聯電 富邦越南 宏碁 四維航 廣達 華榮 台新金 玉山金 矽統 國泰金 台泥 聚亨 誠美材 和碩 金像 集盛 台達電 華南金 華東 南亞 鼎元', '公告 葳天 股東常會 董事 獨立 董事 當選 名單 董事 變動 三分之一 以上公司 名稱 葳天 葳天 股東常會 董事 獨立 董事 當選 名單 董事 變動 三分之一 以上 發言人 邢陳震崙 發生 變動 日期 選任 變動 人員別 輸入 法人 董事 法人 監察人 獨立 董事 自然人 董事 自然人 監察人 法人 董事 獨立 董事 舊任者 職稱 姓名 亮點 投資 公司 代表人 陳峰明 葳天 科技 公司 董事長 亮點 投資 公司 代表人 戴子翔 亮點 投資 公司', '情報 上市 投信 買賣 排行排行 代號 名稱 張數 排行 代號 名稱 張數 晶豪科 中鋼 強茂 友達 緯創 聯電 燁輝 金像電 廣達 天鈺 景碩 智原 日月 光投 晶技 盛群 茂矽 陽明 聚陽 光罩 台塑 群創 敦泰 威鋒電子 台積電 矽創 儒鴻 新唐 元大 台灣 奇力 長榮 美時 微星 榮科 健策 台灣 喬山 瑞昱 長榮航 技嘉 祥碩 健和興 晶碩 台塑 仁寶 中信金 福懋 啟碁 智邦', '情報 上市 外資 買賣 排行排行 代號 名稱 張數 排行 代號 名稱 張數 滬深 中鋼 華通 布蘭 特正 光磊 群創 台玻 陽明 日月光 投控 長榮 金像電 宏碁 欣興 華邦電 台揚 緯創 奇鋐 開發金 玉山金 燁輝 益航 友達 和桐 旺宏 新唐 新光金 永豐金 中石化 台驊投控 聯電 慧洋 台新金 南茂 萬海 景碩 臺企銀 裕民 大成鋼 通嘉 彩晶 遠傳 富邦越南 台光電 中信金 証正 華航 台航 長榮航', '友達 手工 倉庫筆電 客戶 訂單 能見度 緯創 需求 穩定 經濟 謝艾莉 緯創 舉辦 股東會 緯創 資通 總經理 緯創 科技 執行長 林建勳 強調 依照 客戶 預估 由於 缺料 問題 現在 客戶 甚至 未來 就是 預估 今年 下半年 明年 上半年 需求 穩定 信心 需求 問題 問題 組件 供貨 林建勳 表示 教育 筆電 因為 去年 開始 非常 最近 只是 回歸 正常 不過 一方面 商用 筆電 部分', '電腦 設備 林憲銘 緯創 去年 創近 維持 佳績時報 記者 任珮云 台北 報導 緯創 舉行 股東會 緯創 董事長 林憲銘 表示 緯創 去年 超過 新高 未來 希望 維持 水準 去年 獲利 增加 配息率 低於 往年 以上 今年 配息率 主要 儲備 未來 發展 所需 緯創 殖利率 今天 股價 元計 高達 優於 同業 林憲銘 表示 緯創 啟動 事業體 企業 架構 營業額 獲利 表現 穩健 成長 展望 未來 公司 期望 持續 完善 全球 佈局 整合 據點 在地 資源', '緯創股東會 通過 配息 林憲銘 疫情 小心 應付中央社 記者 吳家豪 台北 日電 緯創 今天 召開 股東常會 董事長 林憲銘 過去 緯創 盈餘 介於 新台幣 去年 開始 回到 以上 希望 以後 繼續 維持 成果 疫情 發展 現在 不可 預測 還是 小心 應付 林憲銘 表示 時間 因為 疫情 帶來 改變 過去 科技 產業 積極 因應 變化 取得 相當 不錯 位置 包括 美中 貿易戰 台灣 有利 位置 觀察 發展 我們 沒有 擊倒 相信 變得 競爭力', '商用 筆電 接棒 緯創 樂看 市場 後市 展望 訂單 能見度 長達財訊 快報 記者 王宜弘 報導 筆電 市況 現雜音 代工 大廠 緯創 信心 緯創 科技 總經理 林建勳 指出 目前 客戶 訂單 能見度 可以 預見 未來 需求 問題 儘管 教育 筆電 消費性 筆電 需求 趨緩 商用 筆電 升溫 整體 前景 看好 不過 階段 問題 缺料 範圍 涵蓋 面板 表示 目前 緯創 包括 監視器 伺服器 零組件 缺口 平均 約達 下半年 缺料 仍然 嚴峻 沒有 緩解 跡象 缺料 陰霾 國內 筆電 代工 大廠 第二季', '電腦 設備 緯創 智能 手機 生產 轉印 工控 成果 豐碩時報 記者 任珮云 台北 報導 緯創 智能 手機 生產 確定 中國 移轉到 印度 緯創 智能 總經理 沈慶堯 表示 印度 策略 求量 成長 印度 緯創 智能 手機 其他 國際化 布局 重要 據點 此外 年來 工控物 聯網 緯創 智能 產品 項目 成長 相當 快速 拜疫情 全球 電商 工業 自動化 需求 升溫 緯創 工控 聚焦 移動 工控 裝置 提早 材料 布局 所以 今年 受缺 影響 有限 最後 緯創 智能 車載 成長 目前 已經 中國', '電腦 設備 緯創 今年 營收 翻倍 成長 日本 辦公室時報 記者 任珮云 台北 報導 緯創 股東會 記者會 媒體 關注 緯創 車載 領域 發展 進度 緯創 智能 總經理 沈慶堯 表示 希望 今年 車載 營收 翻倍 成長 雖然 營業額 整體 緯創 仍然 如果 加入 併購 效應 今年 車載 營收 數字 緯創 今年 旗下 液晶 顯示 模組 事業 擴展 車載 工控 領域 新台幣 日本 中小 面板 晶端 顯示 貿易 公司 收購 高雄 晶傑達 光電 科技 同時 搶進 一線 客戶 模組 供應鏈 強化 全球', '緯創車 業務 今年 倍增 取得 高雄廠 打入 日系 車廠 供應財訊 快報 記者 王宜弘 報導 緯創 手機 業務 撤出 中國 前進 印度 緯創 總經理 緯創 智能 執行長 沈慶堯 指出 儘管 印度 成長 不如 中國 潛力 雄厚 緯創 全球 佈局 重心 追求 穩健 健康 成長 印度 三廠 完成 尋求 產能 此外 電動車 蔚為 趨勢 緯創 軍車 市場 搶攻 商機 日前 宣布 投資 日圓 收購 日本 中小型 面板 大廠 台灣 公司 高雄 晶傑達光電 股權 完成 交割 沈慶堯 表示 今年 業務 翻倍 成長', '緯創 印度 產能 當地 員工 疫苗中央社 記者 吳家豪 台北 日電 東南亞 疫情 升溫 代工廠 緯創 資通 總經理 緯創 智能 執行長 沈慶堯 今天 印度廠 員工 接種 疫苗 預計 馬來西亞 疫情 嚴重 安排 當地 員工 陸續 接種 疫苗 沈慶堯 今天 出席 緯創 股東會 記者會 表示 去年 緯創 昆山 手機 產能 轉移 立訊 手機 生產 重心 中國 移到 印度 今年 印度 策略 成長 因為 印度 基礎 建設 不如 中國 成長 速度', '緯創 通過 配息 殖利率 林憲銘 疫情 台科 技業 競爭力財訊 快報 記者 王宜弘 報導 緯創 週二 召開 股東會 通過 去年 財務 決算 表冊 盈餘 派案 舉行 董事 改選 事宜 董事長 林憲銘 指出 疫情 至今 包括 美中 貿易戰 演變 台灣 科技 產業 擊倒 反而 站在 有利 位置 整體 發展 競爭力 緯創 去年 商機 起飛 來到 獲利 股東會 通過 配發 現金 股利 週二 收盤價 計算 股息 殖利率 高達 預計 週三 發放 董事 改選 方面 當選 名單 包括 現任 董事長', '公告 緯創 息基 準日 股東常會 通過公司 名稱 緯創 緯創 除息基 準日 股東常會 通過 發言人 石慶堂 董事會 股東會 決議 公司 決定 日期 除權 類別 填入 除權 除息 權息 除息 發放 股利 種類 金額 現金 股利 配發 新台幣 新台幣 除權 交易日 最後 停止 過戶 起始 日期 停止 過戶 截止 日期 基準日 其他 明事項 現金 股利 發放 現金 股利 議案 股東常會 決議 通過', '公告 改選 董事案公司 名稱 緯創 緯創 股東 常會 改選 董事案 發言人 石慶堂 發生 變動 日期 選任 變動 人員 輸入 法人 董事 法人 監察人 獨立 董事 自然人 董事 自然人 監察人 自然人 董事 法人 董事 獨立 董事 舊任 職稱 姓名 簡歷 董事 林憲銘 緯創 資通 公司 董事長 策略長 董事 黃柏漙 緯創 資通 公司 董事長 事業 總經理 董事 啟碁 科技 公司 代表人 謝宏波 緯創 資通 公司 董事', '公告 緯創 董事會 一致 推舉 林憲銘 先生 黃柏漙 先生 續任為 董事長 副董事長公司 名稱 緯創 緯創 董事會 一致 推舉 林憲銘 先生 黃柏漙 先生 續任為 董事長 董事長 發言人 石慶堂 董事會 決議 日期 發生 變動 日期 人員別 輸入 董事長 總經理 董事長 副董事長 舊任 姓名 簡歷 董事長 林憲銘 先生 緯創 資通 公司 董事長 策略長 董事長 黃柏漙 先生 緯創 資通 公司 董事長 事業 總經理 新任 姓名 簡歷 董事長 林憲銘 先生 緯創資 公司 董事長', '公告 緯創 一一 股東常會 重要 決議 事項公司 名稱 緯創 緯創 股東常會 重要 決議 事項 發言人 石慶堂 股東常會 日期 重要 決議 事項 盈餘 分配 盈虧 撥補 通過 年度 盈餘 分配 承認案 現金 股利 重要 決議 事項 章程 修訂 通過 修訂 公司 公司 章程 部分 條文 討論案 重要 決議 事項 營業 報告書 財務 報表 通過 年度 營業 報告書 財務 報表 承認案 重要 決議 事項 董監事 選舉 第九 董事 獨立 董事 當選名', '產業 台廠 海外 員工 疫苗 施打率 高科技 關鍵 產業 勝傳產時報 記者 任珮云 台北 報導 台灣 企業 全球 布局 新冠 疫情 肆虐 全球 台廠 海外 員工 施打 疫苗 情況 受到 矚目 緯創 股東會 記者會 明確 表示 公司 印度 員工 已經 接種 第一 疫苗 安排 接種 第二 同時 台灣 紡織業 越南 工廠 接獲 配合 當地 政府 縮減 部分 產能 生產 反觀 緯創 越南 工廠 目前 完成 員工 第一 疫苗 接種 安排 第二 業者 表示 由於 疫苗 資源 有限 因此 國政府 施打 疫苗', '公告 駿熠電 第十三 董事 當選 名單公司 名稱 駿熠電 駿熠電 第十三 董事 當選 名單 發言人 張淑華 發生 變動 日期 選任 變動 人員 輸入 法人 董事 法人 監察人 獨立 董事 自然人 董事 自然人 監察人 法人 董事 獨立 董事 舊任者 職稱 姓名 簡歷 董事 昶泓 投資 有限 公司 代表人 劉憲治 進商會 資產 公司 董事長 董事 昶泓 投資 有限 公司 代表人 衛純菁 駿熠 電子 公司 副董事長 董事 昶泓 投資 有限 公司 代表人 李鈺', '變種 衝擊 全球 股市 外資 台股中央社 記者 韓婷婷 台北 日電 變種 病毒 迅速 蔓延 投資人 擔憂 經濟 復甦 步調 走弱 週一 歐美 股市 大跌 外資 大砍 台股 累積 賣超 新台幣 加權 指數 今天 失守 月線 支撐 台股 高點 點回 今天 法人 同步 賣超 營商 賣超 投信 賣超 外資 陸資 合計 賣超 累計 外資 台股 投信 賣超力道 同樣 猛烈 幾乎 大多 站在 賣方 以來', '新聞 台股 行情 啟動原文 標題 台股 行情 啟動 刪減 原文 標題 原文 連結 善用 網址 工具 發布 時間 原文 網頁 報紙 發布 時間 原文 內容 上市 公司 獲利 兆元 現金 股息 發達 創下 新高 紀錄 配息 六成二 市場 專家 表示 配息 加持 息潮 行情 開始 啟動 重點 聚焦 金融股 如何 發動 攻勢 帶領 台股 重返 萬八 關卡 儘管 全球 遭遇 嚴峻 新冠 肺炎 疫情 台灣 受惠於 疫情 控制', '情報 上市 外資 買賣 排行排行 代號 名稱 張數 排行 代號 名稱 張數 彩晶 開發金 炎洲 聯電 集盛 新光金 新纖 華邦電 富邦金 春源 台積電 華航 群創 冠德 台玻 永豐餘 國泰金 長榮航 鴻海 永豐金 陽明 元晶 華新 中石化 南亞科 石油 萬海 榮成 長榮 台聚 台新金 亞泥 富邦 越南 中環 玉山金 台船 緯創 兆豐金 中國 股息 台泥 臺企銀 和鑫 智能 電動車 光群雷 中信金 奇力', '美股 下挫 台股 留意 陽明法 說會財訊 快報 研究員 林宛儀 回顧 週五 台股 表現 由於 台積電 第二 毛利率 營益率 出現 雙降 情況 其中 毛利率 居於 財測 下緣 加上 公司 預估 第三 營收 季增 符合 法人 預估 季增 一成 預期 就是 驚豔 表現 致使 原本 法說會 看好 台積電 買進 外資 反手 賣出 週五 外資 台積電 投信 自營商 合計 法人 外資 龐大 賣壓 台股 低盤 開出 早盤 重挫逾', '資訊 服務 資服 市場 需求 強勁 緯軟 營運時報 台北 疫情 開始 蔓延 儘管 產業 帶來 衝擊 企業 加速 數位 轉型 腳步 服務 廠商 緯創 軟體 表示 今年 上半年 公司 營運 受惠於 中國大陸 互聯網 以及 電商 市場 指標 客戶 帶動 營收 快速 成長 預期 下半年 需求 仍然 強勁 後市 營運展 樂觀 看待 緯軟 今年 主要 動能 主要 來自 新興 科技 數據 雲端 帶動 上半年 營收 年增 月份 單月 營收 突破 大關 月增 年增 第二 營收', '情報 上市 外資 買賣 排行排名 股票 張數 排名 股票 張數 新光金 聯電 開發金 台積電 台玻 益航 中信金 布蘭 特正 元大金 華邦電 新金 彩晶 國泰金 榮運 富邦金 聚亨 永豐金 國泰智能 電動車 中壽 南亞科 遠東 華航 國碩 慧洋 三商壽 緯創 金像電 友達 兆豐金 中鴻 富喬 新興 長榮航 長榮 華新 大成鋼 英業達 裕民 南亞 中信中國 股息 敬鵬 元大 滬深 金寶 台航 鉅祥', '早報 鋼鐵股 反擊 買盤 回歸開盤日 出刊 台股 萬八 法人 預期 鋼鐵股 反擊 買盤 回歸 蘋果財報 公布 目標價 平均 國際 股市 道瓊 指數 漲跌 幅度 作收 指數 漲跌 幅度 作收 上證 指數 漲跌 幅度 作收 台股 籌碼 變化 外資 投信 自營 融資 餘額 融券 餘額 法人 買賣 超前 外資 投信 自營商 陽明 景碩 台積電 聯電 世芯 鴻海 萬海', '情報 上市 投信 買賣 排行名次 股票 名稱 張數 名次 股票 名稱 張數 日月光 投控 金像電 欣興 群創 台玻 中鋼 華邦電 裕民 盛群 永豐餘 啟碁 旺宏 華通 友達 台揚 聯電 台橡 鉅祥 南電 強茂 長榮 台郡 晶技 景碩 百和 南亞 新光鋼 台達電 奇鋐 橋椿 鴻海 世芯 仁寶 榮成 國巨 聯茂 聯強 台光電 中信金 新唐 順德 菱生 技嘉 威鋒電子 台塑 美利達 茂矽 同欣電 開發金 晶相光', '情報 上市 外資 買賣 排行排名 股票 買超 排名 股票 聯電 期街口 布蘭 特正 友達 台玻 群創 聚亨 開發金 華邦電 陽明 富邦越南 新光金 新興 日月光 投控 台航 萬海 國泰 智能 電動車 華航 緯創 鴻海 裕民 中鋼 長興 彩晶 宏碁 永豐金 華通 元大 滬深 台驊 投控 華新 中信 中國 股息 英業達 台虹 元大 台灣 旺宏 國泰 台灣 凌陽 群益證 中鴻 中石化 四維航 中纖 中航 寶成 期元大 石油 炎洲 宅配通', '在線 伺服器 缺料 惡化 大型 客戶 提早 下單新聞 記者 張以忠 報導 上半年 伺服器 缺料 情況 逐步 嚴峻 多少 壓抑 伺服器廠 出貨 情況 供應鏈 指出 下半年 伺服器 訂單 需求 持續 增溫 不過 缺料 情況 看到 緩解 跡象 實際 出貨 零組件 供應 情況 而定 不過 傳出 大型 伺服器 客戶 疑慮 缺料 情況 惡化 已經 提早 明年 訂單 提早 固料 等於 伺服器 訂單 能見度 交期 拉長 看至 明年 下半年 訂單 增溫 零組件 缺口 擴大 伺服器 廠商 訂單 需求 不錯 表現 但是 零組', '新聞 蘋果 新款 出貨 大增發文 提醒 發文 詳閱 新聞 分類 發文 規範 規範 發文 處份 連結 善用 網址 連結 點擊 板規 處份 心得 評論 盡量 充實 濫竽 充數 行文 規範 水桶 處份 發文 依照 格式 文章 標明 段落 符合 格式 刪文 處分 以上 注意 事項 刪除 原文 標題 蘋果 新款 出貨 大增 原文 連結 發文 時間 原文 內容 彭博 資訊 報導 根據 知情 人士 蘋果 要求 供應商 今年 生產 多達', '情報 上市 投信 買賣 排行名次 股票 名稱 張數 名次 股票 名稱 張數 華通 群創 華邦電 友達 南亞科 陽明 台達電 長榮 旺宏 裕民 國泰金 中鋼 盛群 新光鋼 富邦金 技嘉 聯電 台橡 台郡 永豐餘 台積電 金像電 新唐 智邦 台表科 榮成 緯創 東和鋼 台勝科 強茂 啟碁 鴻海 聯茂 開發金 聚鼎 台光電 景碩 大成鋼 祥碩 百和 兆豐金 建大 榮科 儒鴻 元大台灣 世紀鋼 美時 廣達', '情報 上市櫃 外資 投信 排行排行 股票 名稱 市場 成交 漲跌 投信 外資 南亞科 台達電 國泰金 富邦金 聯電 台郡 漢磊 台積電 頎邦 表科 緯創 聯茂 開發金 資料 來源 以上 謝謝', '航海王 落水 航運股 下半年 投資李若雯 王建棟 台股 叩關 萬九 熱度 持續 多久 市場 預期 今年 下半聯準會 可能 釋放 減少 訊息 一旦 熱錢 收回 股市 冷卻 台股 影響 變化 建議 佈局 下半年 投資 去年 疫情 爆發 為了 救市 美國 聯準會 狂撒幣 兆美元 不及 促進 實體 經濟 大批 資金 流入 股市 美股 市值 增加 兆美元 籮筐 股海 撈到 大魚 股市 榮景 持續 今年 標普 指數 上漲 道瓊 指數', '新聞 歲男 上半年 獲利 秘訣原文 標題 歲男 上半年 獲利 秘訣 原文 連結 發布 時間 週六 上午 原文 內容 投資 真的 容易 股海 找到 獲利 方式 並非 所有 時間 達成 有名 網友 分享 自己 今年 上半年 獲利 心得 透露 自己 如何 開竅 找到 屬於 自己 獲利 秘訣 網友 貼出 帳單 分享 自己 獲利 訣竅 翻攝 網友 貼出 自己 目前 為止 帳單 上半 成績 不含 手續', '情報 上市 投信 買賣 排行名次 股票 名稱 張數 名次 股票 名稱 張數 強茂 長榮航 金像電 陽明 智原 華航 新唐 長榮 奇力 群創 日月光 投控 富邦金 華通 技嘉 同欣電 永豐餘 景碩 中鋼 友達 微星 南亞 萬海 緯創 天鈺 京鼎 聯電 台郡 南亞科 健策 聯詠 台塑 儒鴻 榮科 敦泰 世紀鋼 美利達 台光電 力鵬 旺宏 台玻 南茂 順德 國喬 榮成 鴻海 京城銀 中信金 智邦 台達電', '在線 在缺 組裝 缺料 壓力 沉重新聞 記者 張以忠 報導 供應鏈 指出 下半年 消費性 電子 手機 伺服器 電子 產業 旺季 晶片 資源 排擠 可能 原本 吃緊 供應 缺口 問題 預期 訂單 需求 至少 持平 優於 因為 組件 缺口 並未 縮小 可能 影響 實際 出貨 旺季 營收 動能 增添 變數 缺料 無解 出貨 普遍 不如 預期 出貨 谷底 回升 不過 大部分 廠商 出貨量 低於 內部 預期 廣達', '情報 上市 投信 買賣 排行名次 股票 名稱 張數 名次 股票 名稱 張數 智原 聯電 華邦電 陽明 中鋼 旺宏 大成鋼 長榮 金像電 台塑 界霖 台泥 佳凌 裕民 開發金 中信金 英業達 聚陽 緯創 東和鋼鐵 台揚 晶豪科 順德 美利達 台光電 晶技 仁寶 技嘉 台玻 正新 群創 天鈺 華通 愛普 榮科 南茂 元大 台灣 聯詠 強茂 立隆電 福懋 儒鴻 威鋒電子 奇鋐 大聯大 台中銀 台郡 潤泰全 興富發', '情報 公股銀行 買賣 排行排名 股票 張數 排名 股票 張數 開發金 華紙 彩晶 元大 台灣 亞泥 杜康 元大金 榮成 新光金 華邦電 陽明 元大 股息 元大 滬深 界霖 英業達 強新 彰銀 新唐 華航 晶豪科 長榮 國喬 國泰智能 電動車 光磊 友達 光頡 中鋼 立敦 長榮航 富邦 越南 國泰金 宏齊 中信 中國 股息 強茂 寶成 尖點 華東 正文 菱生 千興 萬海 廷鑫 聯電 國泰 臺灣 加權 仁寶 恒耀', '友達緯創 投資 新台幣 取得 日本 中小型 面板 大廠 旗下 台灣子公司 高雄晶傑達 光電 股權 深化 合作 關係 液晶 顯示 模組 事業 擴展 工控 領域 交易 容易 獲得 績效 友達 去年 自家 股價 凌華 好像 看到 具體 績效 凌華 友達 權益法 認列 凌華 業外 收益 微乎其微 友達 領到 凌華 千多萬 現金 股利 微薄 現金 收益 算入 資產 負債表', '電腦 設備 緯創 併購 進軍 載工時報 台北電 緯創 宣布 旗下 液晶 顯示 模組 事業 擴展 車載 工控 領域 預計 日圓 新台幣 台灣晶端 顯示 貿易 公司 收購 高雄晶 傑達 光電 科技 同時 搶進 一線 客戶 模組 供應鏈 強化 全球 製造 布局 交易案 預計 第三季 完成 緯創 預期 完成 收購 進一步 深化 合作 關係 持續 擴充 高雄晶 傑達 光電 科技 產能 產品線 同時 繼續 聘用 既有 員工 今年 以來 持續 受到 供應鏈 缺料 拖累 出貨力道 緯創 第二季', '筆電 代工 大廠 營收 回升 缺料 衝擊 業績 遜於 預期財訊 快報 記者 王宜弘 報導 筆電 代工 大廠 公告 業績 儘管 季底 效應 包括 廣達 仁寶 緯創 英業達 成長 和碩 今年 缺料 陰霾 擴大 仁寶 之外 呈現 下滑 局面 第二 成績單 影響 龍頭 大廠 廣達 合併 營收 月增率 累計 上半年 合併 營收 年增 其中 第二 季減 年減 公司 出貨 增長 單季 筆電 出貨 上季 持平 優於', '情報 上市 投信 買賣 排行名次 股票 名稱 張數 名次 股票 名稱 張數 金像電 中鋼 智原 長榮 華通 群創 欣興 陽明 奇力 聯電 新唐 大成鋼 台郡 旺宏 開發金 裕民 同欣電 順德 全新 聚陽 聯茂 台積電 瑞昱 儒鴻 創意 技嘉 榮成 萬海 健策 世紀鋼 健和興 泰鼎 彩晶 聯發科 台玻 鴻海 新纖 強茂 晶相光 台表科 東和鋼鐵 國泰金 潤泰 友達 南紡 中環 美利達 啟碁 日月光 投控', '情報 上市 外資 買賣 排行名次 股票 名稱 張數 名次 股票 名稱 張數 中鋼 榮成 開發金 欣興 萬海 聯電 和桐 智能 電動車 華航 陽明 台泥 華泰 新纖 一詮 中信金 東森 永豐金 台郡 華通 玉山金 力鵬 宏碁 友達 四維航 南紡 旺宏 台玻 鴻海 亞泥 布蘭 特正 中環 智原 精成科 日月光 投控 新光金 南茂 永光 臺企銀 長榮航 台積電 寶成 彰銀 嘉里大榮 華紙 華新 長華 華邦電 全新 第一', '新聞 緯創 收購 日本 公司 液晶 顯示 模組原文 標題 緯創 收購 日本 公司 液晶 顯示 模組 擴展 車用 原文 連結 發布 時間 原文 內容 代工 大廠 緯創 日代 公司 鼎創 公告 投資 日圓 新台幣 取得 日本 中小型 面板 大廠 旗下 台灣 公司 高雄晶 傑達 光電 股權 深化 合作 關係 液晶 顯示 模組 事業 擴展 車載 工控 領域 緯創 指出 交易案 經過 依法 登記 備案 取得 相關 主管 機關 核准 預計 今年 完成 所有 程序 緯創 指出 透過 收購 加深', '緯穎 配息 下半年 訂單 克服 缺料中央社 記者 潘智義 台北 日電 資訊 電子 設備廠 緯穎 執行長 洪麗甯 今天 股東會 後線 記者會 表示 馬來西亞 預計 年底 投產 雖然 今年 上半年 營收 缺料 問題 延續 下半年 緯穎 股東會 決議 通過 年度 盈餘 分派 分配 現金 股利 配發 現金 股利 緯穎 營收 新台幣 增加 去年 減少 上半年 營收 歷年 新高 去年 增加 洪麗甯 指出', '公告 緯創 合併 營收 年增日期 上市 公司 緯創 單位', '公告 代子 公司 鼎創 有限 公司 簡稱 鼎創 取得 高雄 晶傑達 光電 科技 公司 股權公司 名稱 緯創 代子 公司 鼎創 有限 公司 簡稱 鼎創 取得 高雄 晶傑達 光電 科技 公司 股權 發言人 石慶堂 事實 發生日 公司 名稱 鼎創 有限 公司 公司 關係 輸入 公司 公司 公司 相互 持股 比例 公司 公司 發生 緣由 配合 集團 策略 發展 公司 鼎創 台灣 晶端 顯示 貿易 公司 取得 高雄 晶傑達 光電 科技 公司 股權 因應 措施 適用 其他 敘明 事項 配合', '電腦 設備 緯創 深化 合作 關係 切入 工控 一線 客戶 供應時報 記者 任珮云 台北 報導 緯創 今日 代子公司 公告 投資 日幣 暫定 取得 台灣晶端 顯示 貿易 持有 有限 公司 股權 實際 金額 投資 查核 完成 雙方 簽訂 股權 協議 確認 交易 未來 依法 登記 備案 取得 相關 主管 機關 核准 預計 今年 第三季 完成 所有 程序 緯創 表示 透過 收購 緯創 除了 進一步 加深 合作 關係 液晶 顯示 模組 事業', '緯創 斥資 日圓 取得 晶傑達 光電 所有 股權 拓展 業務 完成 收購財訊 快報 記者 王宜弘 報導 筆電 代工 大廠 緯創 週四 公告 旗下 全資子 公司 鼎創 投資 日幣 取得 台灣晶端 顯示 貿易 持有 有限 公司 股權 公司 實際 金額 投資 查核 完成 雙方 簽訂 股權 協議 確認 交易 未來 需要 依法 登記 備案 取得 相關 主管 機關 核准 預計 今年 第三季 完成 所有 程序 緯創 表示 透過 收購 公司 進一步 加深 合作 關係', '情報 上市 投信 買賣 排行名次 股票 名稱 張數 名次 股票 名稱 張數 中鋼 友達 正隆 長榮 南亞科 陽明 榮成 欣興 天鈺 台泥 敦泰 永豐餘 裕民 景碩 南亞 聯電 奇鋐 台達電 鴻海 晶豪科 長榮航 台郡 台光電 聯茂 日月光 投控 南茂 鈺齊 啟碁 兆豐金 康普 群創 騰輝 電子 順德 慧洋 緯創 聚陽 金像電 世紀鋼 亞泥 華擎 國泰金 台玻 同欣電 宇隆 光寶科 京鼎 台表科 億光 微星 晶相', '公告 圓展 民國 股東常會 補選 董事公司 名稱 圓展 圓展 民國 股東常會 補選 董事 發言人 陳淑娟 發生 變動 日期 選任 變動 人員 輸入 法人 董事 法人 監察人 獨立 董事 自然人 董事 自然人 監察人 法人 董事 舊任者 職稱 姓名 簡歷 適用 新任者 職稱 姓名 簡歷 董事 鼎創 有限 公司 法人 代表 林建勳 創資 公司 總經理 異動 情形 輸入 辭職 解任 任期 屆滿 逝世 新任 新任 異動 原因 股東會', '公告 緯創 息基 準日公司 名稱 緯創 緯創 除息基 準日 發言人 石慶堂 董事會 股東會 決議 公司 決定 日期 類別 填入 除權 除息 權息 除息 發放 股利 種類 金額 現金 股利 配發 新台幣 新台幣 除權 交易日 最後 戶日 停止 過戶 起始 日期 停止 過戶 截止 日期 除權 基準日 其他 明事項 現金 股利 發放日 現金 股利 議案 股東常會 決議 通過', '公告 緯創董事會 金管會 指示 決議 變更 股東常會 召開 日期公司 名稱 緯創 緯創 董事會 金管會 指示 決議 變更 股東常會 召開 日期 發言人 石慶堂 董事會 決議 日期 股東會 召開 日期 股東會 召開 時間 上午 股東會 召開 地點 新北市 汐止區 新台 五路 一段 東方 科學 園區 會議室 股東會 召集 事由 查閱 公司 發布 重大 訊息 重大 訊息 日期 股東會 召開 方式 實體 實體 並以 視訊 輔助 實體 其他 事項 列載', '公告 緯創 獲選為 臺北市 數位 內容 創新中心 新建 營運 移轉案 申請人公司 名稱 緯創 緯創 獲選為 臺北市 數位 內容 創新中心 新建 營運 移轉案 申請人 發言人 石慶堂 事實 發生日 公司 名稱 緯創 資通 股份 有限 公司 公司 關係 輸入 公司 公司 公司 相互 持股 比例 適用 發生 緣由 公司 申請 參與 臺北市 數位 內容 創新中心 新建 營運 移轉案 簡稱 今日 接獲 臺北市 政府 函文 通知 獲選為 前述 申請人 因應 措施 其他 敘明 事項', '情報 上市 投信 買賣 排行名次 股票 名稱 張數 名次 股票 名稱 張數 中鋼 友達 榮成 台泥 正隆 景碩 聯電 長榮航 強茂 台塑 大成鋼 陽明 天鈺 日月光 投控 裕民 長榮 世紀鋼 鈺齊 矽創 技嘉 亞聚 鴻海 晶豪科 立積 晶相光 群創 聯發科 南亞 凱美 台達電 台積電 允強 微星 新光鋼 瑞昱 喬山 順德 京鼎 建大 萬海 精元 智邦 台表科 台郡 南電 聯茂 東和鋼鐵 美時 南僑 燿華 晶碩', '友達鴻海 集團 印度 市場 興趣 過去 考察 投資 環境 幸好 郭董 面板 事業 一再 受挫 轉移 焦點 生技 事業 不然 郭董 可能 第一 率先 跑去 印度 面板廠 緯創 鴻海 和碩 印度 手機組 裝廠 緯創 過去 印度 投資 營運 效率 去年 勞資 糾紛 緯創 印度廠 工人 庫房 洗劫 經過 多月 調查 整頓 恢復 生產 中國 印度 敵對 中國 業者 可能 不會 過去 印度 蓋廠 印度', '科技 執行 長程世嘉 趨勢 軟體 新創 護國 群山時報 台北 台灣 不少 軟體 新創 今年 寫下 不錯 成績 包括 沛星 科技 東京 掛牌 成功 上櫃 台灣 新創 去年 獲得 緯創 集團 投資 美元 持續 拓展 亞洲 九國 市場 共同 創辦人 執行長 程世嘉 進入 資本 市場 指標性 意義 點燃 軟體 產業 新創 火焰 台灣 新創 需要 走向 海外 同時 引進 東南亞 優秀 軟體 人才 看好 台灣 人才 實力 堅強 認為 台灣 軟體 新創 有望 成為 台灣 護國群山 成立', '情報 上市 外資 買賣 排行名次 股票 名稱 張數 名次 股票 名稱 張數 聯電 群創 台積電 友達 燁輝 彩晶 旺宏 中鋼 春源 宏碁 榮運 萬海 聚亨 華新 台郡 布蘭 特正 志信 開發金 金像電 新光金 台玻 凌陽 官田鋼 中石化 光寶科 台聚 奇鋐 強茂 南紡 台灣 華邦電 允強 統一 台泥 和碩 國喬 晶技 和桐 云辰 裕民 元大 台灣 臺企銀 元大台灣 瑞軒 健和興 元大金 台達電 長榮航', '統一 證券 晨訊 中多 格局 沿續 持續 偏多 操作日期 盤勢 分析 傳產 電子 題材 指數 震盪 盤堅 昨日 盤勢 受到 美股 持續 上漲 激勵 台股 昨日 指數 小漲 開出 高檔 賣壓 出籠 指數 翻黑 下跌 點至 隨後 買盤 湧入 指數 再度 翻紅 揚升 其中 航運 鋼鐵 傳產股 走勢 萬海 陽明 長榮 中鋼 中鴻 燁輝 盛餘 大成鋼 走勢 指數 維持 高檔 震盪 尾盤 收高 終場 指數 上漲 作收 量能 觀察 盤面 變化', '白牌 伺服器 出頭天 台廠 惦惦作者 陳唯泰 疫情 帶動 資料中心 需求 根據 媒體 報導 蘋果 計劃 重啟 愛爾蘭 資料中心 計劃 其實 蘋果 公司 早在 購買 愛爾蘭 西部 戈爾韋 土地 計劃 之前 建造 數據 中心 預算 美元 可是 之後 由於 當地 抗議 活動 法律 訴訟 原因 資料 中心 計畫 甚至 傳出 蘋果 放棄 計劃 傳言 不過 消息 數據 中心 之前 建造 完成 事實 不只 蘋果 許多 國際 大廠 在近 快速 佈建 資料', '情報 上市 投信 買賣 排行名次 股票 名稱 張數 名次 股票 名稱 張數 台郡 旺宏 新光鋼 華邦電 中鋼 表科 啟碁 台泥 大成鋼 日月光 投控 晶豪科 長榮 聯電 景碩 康普 微星 南亞科 茂林 華擎 群創 聯茂 聯詠 喬山 英業達 宇隆 技嘉 聯陽 聯發科 開發金 長興 永豐金 南茂 榮成 台積電 智原 欣興 台玻 鈺齊 聚陽 瑞儀 同欣電 南電 乙盛 強茂 永豐餘 世芯 儒鴻 台塑 國巨 順德 緯創', '蘋果 疫情 期間 持續 評估 供應商 強迫 勞動 容忍中央社 記者 吳家豪 台北 日電 蘋果 公司 供應鏈 人員 環境 進度 報告 指出 蘋果 對於 強迫 勞動 採取 容忍 政策 疫情 期間 持續 相關 評估 所有 蘋果 生產線 發現 任何 自願 勞工 跡象 根據 蘋果 公布 會計 年度 供應鏈 名單 台廠 包括 台積電 鴻海 大立光 日月光 投控 國巨 可成 代工 哥廣達 緯創 仁寶 和碩 英業達 主要 廠商 負責 領導 蘋果 全球 供應鏈 包括 環境 供應鏈 創新 可汗 供應', '情報 上市 投信 買賣 排行名次 股票 名稱 張數 名次 股票 名稱 張數 友達 開發金 金像電 微星 南帝 台泥 強茂 長榮航 大成鋼 陽明 南亞科 中鋼 台玻 智邦 欣興 萬海 群創 台郡 順德 喬山 廣達 同欣電 聯詠 晶技 英業達 裕民 技嘉 億光 光寶科 華通 兆豐金 奇鋐 台達電 神基 敦泰 台表科 超豐 茂林 晶豪科 台化 旺宏 台塑 群光 界霖 大聯大 華邦電 仁寶 定穎 長榮', '情報 上市 外資 買賣 排行名次 股票 名稱 張數 名次 股票 名稱 張數 滬深 群創 開發金 旺宏 台玻 益航 聯電 台灣 彩晶 彰銀 中信金 華泰 萬海 友達 晶豪科 億光 玉山金 大成鋼 永豐金 和碩 南亞科 臺企銀 台郡 群益證 國泰 台灣 燁輝 台新金 永豐餘 強茂 聯強 中鴻 技嘉 富邦金 佳世達 元大金 光寶科 和桐 華碩 華邦電 華東 長榮航 國喬 鉅祥 裕民 金像電 力鵬 台積電 中工', '熱門 族群 緯穎 千金 伺服器 族群時報 台北 雲端 伺服器 大廠 緯穎 再度 挑戰 千金 大關 價位 觸及 日前 微軟 市值 兩兆 美元 雲端 優勢 矚目 法人 指出 美疫情 趨緩 谷歌 提出 工作 模式 列入 居家 遠距 工作 預期 美科 技業 廣泛 採用 伺服器 相關 專家 視為 電子 第三 亮點 包括 緯穎 譜瑞 信驊 嘉澤 博智 智邦 聯茂 勤誠 健策 台燿 廣達 聯亞 金像電 緯創 英業達 新唐 入列 伺服器 族群 成員 萬寶 投顧 總經理 蔡明彰 指出', '其他 電子 商模 創新 獲利 契機 鴻海 穩揚時報 記者 林資傑 台北 報導 鴻海 近期 電動車 領域 布局 動作 倡議 推動 聯盟 下午 舉行 成立 大會 雖然 中國大陸 立訊 首度 躋身 新款 高階 機種 供應商 投顧法人 認為 短期 鴻海 影響 看好 商業 模式 開創 獲利 契機 鴻海 股價 下探 低點 隨後 回升 元區 盤整 近日 穩步 走揚 日續 開高 穩揚 上漲 早盤 維持約 漲幅 法人 回補 買超 累計', '情報 上市 投信 買賣 排行名次 股票 名稱 張數 名次 股票 名稱 張數 友達 開發金 群創 聯強 聯電 英業達 長榮 慧洋 金像電 台泥 超豐 光寶科 晶技 元大金 台郡 神基 南帝 亞泥 鴻海 和碩 同欣電 兆豐金 晶豪科 華通 億光 東和鋼鐵 強茂 聯大 陽明 福懋 仁寶 台光電 中鋼 南電 廣達 界霖 緯創 興富發 技嘉 喬山 日月光 投控 宇隆 華碩 順德 京城銀 東台 健鼎 遠雄 義隆 康普', '情報 上市 外資 買賣 排行名次 股票 名稱 張數 名次 股票 名稱 張數 旺宏 友達 中鋼 群創 開發金 台灣 聯電 長榮航 中石化 彩晶 華邦電 益航 新興 欣興 元大金 國泰金 聯強 臺企銀 國喬 廣達 台泥 慧洋 彰源 超豐 中纖 華航 集盛 台玻 力鵬 宏碁 南紡 精成 鴻海 燁輝 亞聚 新光金 中鴻 台達電 英業達 元大 台灣 新纖 敬鵬 和碩 緯創 華新 陽明 大亞 群光 萬海 奇鋐 中信金', '標的 長榮 投信 股利今天 長榮 權重 來到 真的 看好 長榮 商品 代碼 商品 名稱 商品 數量 商品 權重 長榮 友達 群創 緯創 南帝 大聯大 華碩 仁寶 群光 台泥 光寶科 微星 廣達 和碩 興富發 福懋 技嘉 義隆 瑞儀 英業達 亞泥 健鼎 潤泰全 開發金 京元電子 超豐 兆豐金 漢唐 京城銀 遠雄 神基', '科技 拉貨 升溫 年底時報 台北 看好 全球 伺服器 市場 規模 直至 雙位 增幅 高速 成長 科技 年度 大會 宣布 併購 新創 公司 加速 擴展 存儲 服務 商機 維穩 超越 競業 競爭力 今年 以來 隨著 全球 疫情 逐步 趨緩 擴大 解封 受惠 產業 需求 回穩 拉貨 力道 逐步 增溫 主要 英業達 鴻海 帶來 能見度 訂單 需求 動能 可望 延續 年底 供應鏈 缺料 後續 出貨 挑戰 積極 推動 旗下 混合雲 基礎 硬體', '情報 上市 外資 買賣 排行名次 股票 名稱 張數 名次 股票 名稱 張數 聯電 中鋼 長榮 友達 華航 中纖 華邦電 東和鋼鐵 陽明 中石化 長榮航 富邦金 華紙 榮成 新光金 慧洋 新金 廣達 仁寶 新纖 欣興 台玻 宏碁 力麗 和桐 台橡 凌陽 國泰金 中信金 石油 智原 聯成 滬深 海光 台灣 正隆 長興 第一 億光 台航 敦泰 旺宏 中鴻 益航 南亞科 盛餘 誠美材 鴻海 南紡 彰源 彩晶 元大金', '熱門 族群 作帳 行情 啟動 投信時報 台北 時序 進入 台股 迎接 第二季 季底 作帳 高峰期 加上 先前 疫情 利空 大盤 拉回 投信 搶先 入場 彎腰 便宜 投信 近期 連續 買超 概念股 包括 豐泰 聯強 永豐餘 分別 投信 買超 上千 上萬 法人 指出 投信 營商 集團 內資 積極 卡位 尤其 投信 積極 作帳 布局 可望 成助 台股 戰前 關鍵 要角 台股 面臨 開高 走低 壓力 時序 進入 第二季 投信 布局 標的 深受 市場 關注 觀察 投信 近日', '統一 證券 晨訊 技術面 正向 短線 震盪 擇優 布局日期 昨日 盤勢 短線 震盪 無礙 多方 走勢 擇優 布局 業績 題材股 昨日 盤勢 道瓊 指數 上漲 激勵 昨日 台股 上漲 開出 早盤 貨櫃 散裝 航運 帶量 帶動 指數 震盪 走揚 上漲 然而 指數 來到 高檔區 解套 賣壓 出籠 台積電 鴻海 聯發科 國巨 聯詠 電子 權值股 走弱 拖累 指數 翻黑 所幸 富邦金 國泰金 力守 紅盤 加上 中鋼 台玻 華紙 傳產 類股 維持 人氣 不墜 終場 指數 小漲', '早報 記憶體 明年 台廠 有望 重返 資金 焦點開盤日 出刊 油價 走堅 石化股 蓄勢 待發 穆迪 台灣 挑戰 加權 美光 記憶體 明年 記憶體 台廠 重返 資金 焦點 平均 國際 股市 道瓊 指數 漲跌 幅度 作收 指數 漲跌 幅度 作收 上證 指數 漲跌 幅度 作收 台股 籌碼 變化 外資 投信 自營 融資 餘額 融券 餘額 法人 買賣 外資 投信 自營商 中鋼 長榮 台積', '情報 上市 投信 買賣 排行長榮 群創 緯創 友達 大成鋼 華邦電 亞泥 中鴻 台灣 敦泰 陽明 仁寶 中鋼 台橡 永豐餘 中興電 國泰金 宏全 長榮航 天鈺 聯電 聯詠 東和鋼鐵 遠傳 富邦金 南僑 景碩 祥碩 台玻 凱美 華航 嘉澤 智易 群光 聯強 聯發科 欣興 開發金 裕民 台揚 神基 京城銀 健策 美利達 鴻準 台表科 晶豪科 惠特 順德 台積電 技嘉 榮成 廣達 南電 儒鴻 中壽 巨大 奇鋐', '情報 上市 外資 買賣 排行名次 股票 名稱 張數 名次 股票 名稱 張數 中鋼 群創 新光金 長榮 華航 益航 中石化 陽明 台泥 鴻海 中信金 友達 台橡 群光 力鵬 廣達 金像電 緯創 元大金 國喬 新金 宏碁 華泰 關鍵 半導體 慧洋 華夏 亞泥 元晶 富邦金 台聚 超豐 集盛 彩晶 南茂 大成鋼 永豐金 台塑 南帝 奇鋐 矽統 台玻 開發金 和桐 布蘭 特正 大同 東和鋼鐵 永豐餘 榮成 中工', '情報 上市櫃 外資 投信 買超 金額 排行外資 排行 股票 名稱 市場 金額 百萬 收盤價 漲跌 中鋼 儒鴻 台達電 台塑 慧洋 台泥 富邦金 超豐 天鈺 金像電 資料 來源 投信 排行 股票 名稱 市場 金額 百萬 收盤價 漲跌 長榮 陽明 大成鋼 緯創 亞泥 台積電 美利達 景碩 漢磊 信驊 資料 來源 以上 謝謝', '友達今天 外資 投信 面板 外資 投信 面板 倒水 一樣 外資 排名 群創 長榮 益航 陽明 鴻海 友達 群光 廣達 緯創 國喬 投信 排名 群創 友達 華邦電 中鴻 敦泰 仁寶 台橡 中興電 宏全 天鈺 面板 可能 等到 財報 出來 續漲 大家 如何', '熱門 族群 法人 力挺 威風時報 台北電 法人 齊步 買超下 台股 順利 開出 紅盤 資金 動能 依舊 強勁 法人 迎接 季底 半年度 作帳 高峰 汰弱 留強 意識 鮮明 績優 電子股 解封 受惠股 基建 貨櫃 航運 成為 法人 投資 主線 包含 台積電 權值股 本土 疫情 乍見 曙光 股價 逐漸 回歸 本面 新台幣 持續 走強 法人 認為 機會 大於 風險 況且 外資 交易日 共計 買超 今年 以來 買超 加上 投信 積極 作帳 布局 籌碼面 依舊 偏多 外資', '熱門 族群 青睞 官股 狂敲時報 台北電 外資 三連 官股 券商 三連 持續 對作 官股 交易日 百億 可見 隨著 指數 拉上 萬七 大關 附近 官股 調節 持股 動作 明顯 逆勢 買超 華航 瑞昱 國巨 買超 金額 以上 跌停 高端 疫苗 出現 官股 買超 以上 名單 市場 錯愕 統計 外資 買超 金額 官股 券商 賣超 接近 百億 交易日 積極 買超 特定 個股 買超 高股 分別 華航', '早報 大立光 站穩 大關 矽力 爭奪 股王開盤日 出刊 航運 三雄 盤面 主流 台股 收復 股災跌點 自結 獲利 逼近 台驊 漲停 大立光 站穩 大關 矽力 爭奪 股王 平均 國際 股市 道瓊 指數 漲跌 幅度 作收 指數 漲跌 幅度 作收 上證 指數 漲跌 幅度 作收 台股 籌碼 變化 外資 投信 自營 融資 餘額 融券 餘額 法人 買賣 超前 買超 外資 投信 自營商 台積電 群創 台表科', '外資 金融 傳產 調節 航運 面板中央社 記者 潘智義 台北 外資 今天 新台幣 當中 包括 面板 雙虎 群創 友達 貨櫃 雙雄 長榮 陽明 金融 傳產股 為主 台股 今天 終場 小漲 漲幅 成交值 新台幣 外資 名有 電子股 傳產股 其中 航運股 群創 長榮 益航 陽明 鴻海 友達 群光 廣達 緯創 國喬 外資 幾乎 金融 傳產股 依序 中鋼 新光金 華航', '情報 上市 投信 買賣 排行名次 股票 名稱 張數 名次 股票 名稱 張數 群創 裕民 緯創 天鈺 友達 長榮 景碩 東新 華邦電 南紡 台玻 台橡 永豐餘 陽明 聯電 微星 聯強 順德 全新 宏全 欣興 聯發科 富邦金 奇鋐 元大 台灣 南亞 國光 世紀鋼 寶成 台塑 慧洋 豐興 億光 台驊 投控 中鋼 十銓 南電 儒鴻 世芯 勤誠 東和鋼鐵 中信金 金像電 開發金 建大 聯茂 美食 新光金 台表科 中興電', '情報 上市 外資 買賣 排行名次 股票 名稱 張數 名次 股票 名稱 張數 長榮 友達 陽明 群創 益航 富邦 華航 國際 中橡 大成鋼 彩晶 新光金 華邦電 中纖 中鋼 和桐 聯電 慧洋 關鍵 半導體 長榮航 中鴻 中信金 緯創 開發金 第一 聯合 再生 華新 新纖 聯詠 聯成 中石化 台積電 富鼎 集盛 宏達電 榮成 國泰金 菱生 鴻海 寶成 國喬 海光 南亞科 富邦金 廣達 台灣 台聚 第一 立德 榮運', '情報 上市櫃 外資 投信 買超 金額 排行外資 排行 股票 名稱 市場 金額 百萬 收盤價 漲跌 台積電 長榮 陽明 鈊象 慧洋 大成 微星 南帝 聚陽 日月 資料 來源 投信 排行 股票 名稱 市場 金額 百萬 收盤價 漲跌 群創 世芯 景碩 緯創 南電 友達 欣興 台積電 大田 資料 來源 以上 謝謝', '資訊 服務 市場 城略地 緯軟 樂看 今年 營運時報 台北 數位 科技 驅動 產業 積極 轉型 軟體 成為 新興 科技 核心 緯創 軟體 董事長 蕭清志 表示 展望 今年 營運 公司 積極 發展 市場 其中 大陸 基建 計畫 同步 帶動 資訊 服務 需求 緯軟 目前 來自 中國大陸 營收 貢獻 五成 陸續 打進 大陸 一級 指標 客戶 成為 供應商 營運 表現 有望 帶來 正面 助益 此外 隨著 日本 美國 疫苗 接種 增加 研判 疫情 經濟 影響 今年 逐步 淡化 預估 緯軟 今年 日本', '電腦 設備 緯創 醫療 事業 營收 翻倍時報 台北 全球 疫情 影響 緯創 集團 旗下 智慧 醫療 事業 持續 強化 營運 動能 其中 除了 海內外 取得 病毒 檢測 相關 醫材 產品 陸續 放量 出貨 去年 正式 落地 銷售 骨骼 智慧 行動 輔具 導入 部分 醫療院所 台灣 東洋 異業 結盟 進一步 擴展 經銷 代理 通路 推助 整體 智慧 醫療 事業 全年 營收 翻倍 成長 目標 去年 受到 疫情 影響 緯醫 智慧 醫院 相關 解決 方案 專案 落地 進程 走緩 不過 血液 疫病 相關 檢測 儀器', '早報 台北 國際 電腦展 登場 聚焦 為首 趨勢開盤日 出刊 蘋果 公布 供應鏈 台廠 新增 移除 超微 預訂 台積電 奈米 產能 客戶 台北 國際 電腦展 登場 主題 聚焦 趨勢 平均得分 國際 股市 道瓊 指數 休市 指數 漲跌 幅度 作收 上證 指數 漲跌 幅度 作收 台股 籌碼 變化 外資 投信 自營 融資 餘額 融券 餘額 法人 買賣 超前 外資 投信 自營商 台積電 緯創 長榮', '商機 緯創 旗下 緯育 推急 戰力 學習 專案 會員 數破財訊 快報 記者 王宜弘 報導 疫情 蔓延 企業 快速 轉居家 辦公 學校 面臨 遠距 教學 挑戰 轉線 企業 倍感 壓力 緯創 旗下 緯育 推出 接觸 保庇 急戰力 學習 專案 開放 遠距 教學 免費 課程 學校 企業 政府 難關 緯育 總經理 劉德泰 表示 新冠 疫情 擴大 之下 升級 警戒 國內 遠距 工作 培訓 需求 激增 企業 開始 面臨 問題 線下 轉線 頻寛 設備 軟體 到位 學習 心態 能否 適應 如何 創造 互動', '情報 上市 投信 買賣 排行名次 股票 名稱 張數 名次 股票 名稱 張數 友達 群創 緯創 開發金 佳凌 群光 仁寶 裕民 永豐餘 富邦金 南亞科 聯電 陽明 台泥 鴻準 國泰金 大成鋼 中鋼 華邦電 南亞 技嘉 南紡 微星 台積電 中信金 表科 長榮 可成 乙盛 順德 華碩 大聯大 世紀鋼 聯強 遠東新 旺宏 敦泰 豐泰 彰銀 同欣電 遠傳 敬鵬 景碩 國巨 盛餘 奇鋐 台灣高鐵 聯發科 廣達 統一', '情報 上市櫃 外資 投信 買超 金額 排行外資 排行 股票 名稱 市場 金額 百萬 收盤價 漲跌 陽明 聯詠 敦泰 南帝 鈊象 群創 天鈺 聯陽 友達 微星 資料 來源 投信 排行 股票 名稱 市場 金額 百萬 收盤價 漲跌 台積電 友達 聯發科 佳凌 國巨 陽明 鈊象 緯創 漢磊 可成 資料 來源 以上 謝謝', '新聞 外資 中鋼 提款 陽明 列買發文 提醒 發文 詳閱 新聞 分類 發文 規範 規範 發文 處份 連結 善用 網址 連結 點擊 板規 處份 心得 評論 盡量 充實 濫竽 充數 行文 規範 水桶 處份 發文 依照 格式 文章 標明 段落 符合 格式 刪文 處分 以上 注意 事項 刪除 原文 標題 外資 中鋼 提款 陽明 列買 首位 原文 連結 發布 時間 中央社 週四 下午 原文 內容 中央社 記者 江明晏 台北', '外資 中鋼 提款 陽明 列買 首位中央社 記者 江明晏 台北 日電 台股 今天 早盤 大跌 尾盤 台積電 神龍 擺尾 終場 小跌 力守 大關 外資 今天 中鋼 入列 全球 標準 指數 陽明 外資 買超 第一 台股 近期 連日 反彈 走升 今天 受到 美國 通膨 疑慮 市場 猜測 加上 明晟 年度 調整 生效 早盤 大跌 下探 跌破 日線 月線 季線 隨後 跌幅 收斂 站回 季線 關卡 終場', '情報 上市 外資 買賣 排行名次 股票 名稱 張數 名次 股票 名稱 張數 陽明 聯電 中鋼 群創 華航 彩晶 大成鋼 華邦電 長榮航 台聚 云辰 中壽 寶成 晶豪科 中信金 友達 萬海 廣達 永豐金 矽統 益航 華夏 長榮 廣宇 力麗 聯成 國泰金 華新 台橡 緯創 中纖 南亞科 中工 健和興 瑞軒 群光 大同 開發金 宏碁 技嘉 力鵬 菱生 兆豐金 飛宏 和碩 凱美 和桐 光罩 四維航 華東 台玻 南茂 台積', '金融 台企 去年 併購 動能 交易 金額 成長時報 記者 林資傑 台北 報導 台灣 併購 私募 股權 協會 公布 台灣 併購 白皮書 指出 新冠 肺炎 疫情 衝擊 全球 併購 交易 件數 總交易 金額 分別 減少 其中 台灣 併購 件數 減少 規模 超過 美元 總交易 金額 逆勢 增加 白皮書 指出 根據 去年 併購 趨勢 台灣 企業 主要 供應鏈 布局 調整 同業 整合 跨界 投資 併購 類型 為主 理事長 盧明光 建議 優勢 地位 台灣 企業 持續 透過 多元 合作 布局 加速 掌握 關鍵 技術', '新聞 疫情 海嘯 半導體業 陷空 挑戰原文 標題 疫情 海嘯 半導體業 空前 挑戰 原文 連結 發布 時間 聯合報 記者 簡永祥 何醒邦 編譯 林奕榮 晶晶 連線 報導 原文 內容 肺炎 疫情 嚴峻 竹科 可能 六月 一日 實施 五停 二限水 措施 夏季 用電 高峰 電調度 電力 再度 面臨 考驗 加上 建立 晶片 自主 聲浪 升高 台灣 一直 引以為傲 半導 產業 陷入 空前 挑戰 嚴峻 考驗 外媒 分析 台灣 必須 盡快 取得 疫苗 否則 不僅 全球 晶片 供應 危機 台灣 半導體 方面', '萬華 三重 支援 台灣 員工 確診新冠 疫情 升溫 電信業 金融業 員工 染疫 中華電信 台灣大哥大 門市 員工 確診 員工 原本 台北市 萬華區 門巿 服務 萬華 疫情 升溫 調到 三重 五華 門市 短期 支援 台灣大 關閉 三重 五華 門市 接觸 史門巿 全面 消毒 台灣大 表示 要求 家門市 員工 篩檢 居家 檢疫 隔離 期間 正常 目前 門市 採行 實聯制 台灣大 配合 政府 疫調 提醒 近期 前往 門市 客戶 留意 自身 健康 金融業 方面', '早報 疫情 重擊 台股 上市 櫃祭庫 藏股 自救開盤日 出刊 本土 疫苗 施打 高端 備妥 成品 原料 疫情 重擊 台股 上市 櫃祭 庫藏股 自救 指數 法人 分散 佈局 題材 平均 國際 股市 道瓊 指數 漲跌 幅度 作收 指數 漲跌 幅度 作收 上證 指數 漲跌 幅度 作收 台股 籌碼 變化 外資 投信 自營 融資 餘額 融券 餘額 法人 買賣 超前 外資 投信', '標的 韭菜 程式 選股 聚陽 聯陽多 緯創空昨天 一下 如果 追上去 可能 獲利 有限 不如 改盤 進場 試試 結果 剛剛 下單 額度 辦法 張聯陽 然後 看到 聚陽 出去 看起來 韭菜 程式 而是 韭菜 附上 韭菜 帳單 真的 看到 掛單 失敗 覺得 好笑 韭菜 韭菜 選股 賺錢', '新聞 緯創 汐止 員工 確診原文 標題 緯創 汐止 員工 確診 緯創 員工 最後 公司 上周五 原文 連結 發布 時間 濟日報 記者 謝艾莉 原文 內容 媒體 指出 代工 大廠 緯創 傳出 員工 確診 肺炎 緯創證 汐止 辦公室 同仁 確診 不過 緯創 說明 調查 沒有 公司 最後 公司 時間 周五 確診 染期 員工 已經 居家 上班 公司 實施 嚴格 分層 分流 公司', '情報 上市 投信 買賣名次 股票 名稱 張數 名次 股票 名稱 張數 聯電 群創 南電 華航 奇鋐 友達 欣興 中鋼 景碩 中鴻 泰鼎 技嘉 國泰金 長榮 嘉澤 華新科 華邦電 東和鋼鐵 廣達 敦泰 聯強 微星 長興 晶豪科 正隆 萬海 百和 興業 榮成 聚陽 建大 金像電 中華電 億光 貿聯 華碩 日月光 投控 台玻 裕民 光罩 聯成 富邦金 鴻碩 強茂 遠東 儒鴻 盛餘 新光鋼 天鈺 聯詠 鴻準 智原', '緯創 汐止 辦公區 員工 確診 影響 營運中央社 記者 吳家豪 台北 代工廠 緯創 今天 證實 汐止 辦公區 員工 確診 員工 最後 公司 時間 沒有 公司 緯創 沒有 其他 員工 匡列 影響 公司 營運 緯創 表示 原本 汐止 辦公區 實施 分棟 分層 分流 措施 確診 員工 相關 足跡 單純 所在 樓層 電梯 全面 消毒 公司 營運 沒有 影響 緯創 實施 分流 居家 上班 國內 疫情 尚未 趨緩 延長 加強 辦公區 進出 管制', '晚報 電金 傳齊漲 周線 紅強開盤日 出刊 今日 盤面 特色 失業金 人數 公布值 優於 市場 預期 低於 前值 疫情 低點 再度 強化 市場 經濟 復甦 憧憬 美國 財政部 發行 美元 年期 通脹 保值 債券 中標 收益率 發行 交易 收益率 高約 基點 需求 低於 先前 預期 顯示 市場 對於 通膨 暫時 支持 指數 終場 全數 收紅 漲幅 介於 其中 費半 漲幅 經濟部 公布 外銷 訂單 統計 數字 訂單 金額', '情報 上市 投信 買賣 排行名次 股票 名稱 張數 名次 股票 名稱 張數 台泥 群創 聯陽 友達 金像電 新興 旺宏 榮成 廣達 盛餘 華碩 晶豪科 義隆 緯創 順德 中鴻 奇鋐 華邦電 強茂 東和鋼鐵 祥碩 聯詠 豐泰 技嘉 晶碩 聯電 台玻 華新科 敦泰 陽明 英利 南亞科 國泰金 大成鋼 貿聯 微星 欣興 中鋼 新光鋼 中信金 台積電 長榮 鴻碩 京元電子 智原 建大 聚陽 大成 光罩 京鼎 勤誠 瑞祺電', '新聞 法人 周首 同步 賣超 連袂 倒貨 面板原文 標題 法人 周來 首見 同步 賣超 連袂 倒貨 面板 雙虎 原文 連結 發布 時間 原文 內容 台股 指數 終場 下跌 驚險 守住 萬六 關卡 成交值 放大 法人 周來 同步 轉賣超 合賣 其中 法人 標的 面板 雙虎 群創 友達 群創 遭賣 友達 遭賣 法人 同步 賣超 外資 賣超 呈現 投信 賣超 終結 自營商 外資 今日', '標的 聚陽 聯陽 韭菜 緯創空標的 聚陽 聯陽 韭菜 緯創 韭菜 分類 分析 正文 韭菜 最近 利用 第三 研究 神人 一些 邏輯 然後 選股 系統 裡面 籌碼 技術面 濾網 取之於 用之於 邏輯 簡單 就是 追高 可以 噴出 因為 風險 同樣 追空 可以 但是 大概 這樣 聚陽 系統 跳出 所以 看好 紡織 最近 防護衣 訂單 應該 不錯 籌碼 技術面 跳出來 聯陽', '鴻海 緯創 和碩 台廠 供應鏈 頭痛 晶片 印度 產能 急凍 蘋果 逆風蘋果 晶片 缺貨 印度 製造 腳步 逆風 解決 不了 難題 延續 下半年 考驗 蘋果 旗下 供應鏈 智慧 蘋果 財會 年度 業績 亮眼 僅僅 季度 美元 幾乎 追平 會年 獲利 美元 表現 熱銷 固然 蘋果 獲利 進補 關鍵 產品線 單季 營收 年增 成績 不容 小覷 計畫 趕不上 變化 蘋果 迎來 獲利 豐厚期 但是 晶片 持續 延燒 印度 製造 腳步 蘋果 接下來 帶來 營運', '緯軟 季財報 優於 預期 法人 今年 營收 獲利中央社 記者 吳家豪 台北 服務商 緯創 軟體 中國 台灣 地區 營收 大幅 成長 今年 財報 優於 預期 投顧 法人 表示 今年 緯軟 客戶 資訊 服務 需求 看好 營收 獲利 年增 緯軟 今年 合併 營收 新台幣 年增 淨利 盈餘 獲利 優於 市場 預期 營收 成長 主要 來自 金融業 電信業 分別 年增 毛利率 年增 百分點 展望 金融業 高科技 數位化 服務 需求 不變 法人 推算', '公告 緯創 金管會 指示 延期 召開 股東會公司 名稱 緯創 緯創 金管會 指示 延期 召開 股東會 發言人 石慶堂 事實 發生 因應 金管會 公告 疫情 公開 發行 公司 股東會 延期 召開 相關 措施 公司 停止 召開 原訂 股東會 後續 董事會 決議 通過 延至 期間 擇期 召開 停止 召開 原訂 股東會 日期 其他 事項', '情報 上市 外資 買賣 排行買超 買超 張數 張數 群創 宏碁 聯電 國喬 華邦電 元大 滬深 陽明 臺企銀 友達 廣達 國泰金 和桐 鴻海 榮成 富邦金 益航 永豐金 緯創 台積電 中纖 補充 航海王 萬海 買超 長榮 買超 小兒 今天 開始 電子股 明天', '科技 緯創 營運 方向 今年時報 台北 緯創 交出 獲利 新高 率同 高點 佳績 董事長 林憲銘 看好 集團 組織 再造 數位 轉型 效益 陸續 發酵 主要 營運 業務 市場 動能 持續 增溫 針對 營運 方向 力拚 今年 營收 獲利 穩健 成長 林憲銘 股東 報告書 指出 去年 疫情 蔓延 全球 加上 中美 貿易戰 持續 供應鏈 重整 台幣 匯率 升值 變局 持續 發酵 緯創 極為 不尋常 挑戰 情況 維持 營運 成長 同時 著手 進行 組織 改造', '公告 緯創 參加 花旗 環球 證券 舉辦 電話 說明會公司 名稱 緯創 緯創 參加 花旗 環球 證券 舉辦 電話 說明會 發言人 石慶堂 符合 條款 第四 事實 發生日 召開 法人 說明會 日期 召開 法人 說明會 時間 召開 法人 說明會 地點 電話 會議 法人 說明 訊息 公司 參加 花旗 環球 證券 舉辦 電話 說明會 說明 公司 業務 簡介 現況 說明 其他 敘明 事項 完整 財務 業務 資訊 公開 資訊 觀測站 法人 說明會 一覽表 法說會', '情報 上市 外資 買賣 排行買超 張數 張數 友達 元大 台灣 中鋼 集盛 長榮 元大 台灣 群創 廣達 開發金 彰銀 華航 緯創 街口 布蘭 特正 榮成 長榮航 國泰 臺灣 加權 聯電 寶成 華新 台灣高鐵 陽明 買超 小兒 邏輯 奇怪 禮拜 面板 今天 面板 小兒 隔日 不過 主力 還是 跌深 傳產', '情報 上市 外資 買賣 排行直接 全部 名次 股票 名稱 收盤價 漲跌 漲跌幅 買賣 張數 友達 中鋼 長榮 群創 開發金 華航 期街口 布蘭 特正 長榮航 聯電 華新 中信金 陽明 元大 滬深 大成鋼 中鴻 華邦電 裕民 台玻 期元 石油 燁輝 宏碁 國泰金 彩晶 新興 東和鋼 中纖 新纖 富采 台積電 台橡 萬海 仁寶 南亞科 大亞 宏達電 飛宏 國光生 精英 金像電 聯成 新光金 偉詮電 南紡 群益證 台塑', '科技 林靖德 交通 回歸 市場 機制時報 台北 台灣 創運點 科技 海外 市場 發展 拿下 彰化 營運權 新創 老店 競爭 因此 浮上 檯面 近期 微笑 單車 彰化縣 爆出 交接 拖延 爭議 引發 外界 關注 創辦人 執行長 林靖德 單車 走過 瘋狂 成長 時期 資本 回歸 理性 歐洲 市場 經營 角度 交通 回歸 市場 機制 開放 業者 良性 競爭 產業 健康 成長 成立 運點 科技 發展 快速 執行長 林靖德 摩拜 單車 擔任 國際 營運長 畢業 台大 哈佛', '筆電 代工廠 防疫 升級 啟動 分流 上班 居家 辦公中央社 記者 吳家豪 台北 日電 代工廠 和碩 員工 症狀 感染 啟動 分組 分流 上班 其他 筆電 代工廠 廣達 英業達 仁寶 緯創 沒有 員工 確診 提升 防疫 措施 包括 分區 分流 上班 部分 員工 居家 辦公 和碩 今天 證實 昨天 衛生 單位 通知 和碩 員工 症狀 感染 採檢 陽性 釐清 陽性 偽陽性 昨晚 時和碩 辦公 大樓 展開 消毒 研議 展開 分組 分流 上班 廣達 表示 疫情 警戒 升級 啟動', '情報 上市 投信 買賣 排行排行 排行 中鋼 群創 台玻 友達 慧洋 彩晶 國泰金 聯詠 亞聚 日月光 投控 富邦金 華航 南紡 緯創 中信金 聯電 開發金 景碩 中鴻 晶技 新興 台聚 聚陽 南茂 元大金 金像電 盛餘 旺宏 鴻海 聯發科 永豐金 台塑 仁寶 矽創 榮成 華邦電 長榮 南亞科 英業達 瑞祺 電通 新光鋼 上銀 台塑化 創意 遠傳 亞泥 東和鋼鐵 王品 正隆 松翰 台積電 台光電 遠東 力山 第一', '電腦 設備 和碩 成績單 揭曉 立訊 評價 損失 矚目時報 記者 任珮 台北 報導 和碩 營收 月增 今年 單月 新高 營收 表現 優於 法人 預期 累計 營收 外資 法人 指出 銷售 優於 預期 抵銷 銷量 不如 預期 衝擊 預計 和碩 營收 表現 上修 潛力 外資 給予 和碩 持有 評等 和碩 筆電 出貨 桌機 主板 出貨 減約 年減近 累計 筆電 出貨 桌機 主板 出貨 法人 預測 和碩 今天', '在線 代工 缺料 下修 出貨 旺季新聞 記者 張以忠 報導 供應 缺料 情況 持續 吃緊 預期 缺口 一季 擴大 代工廠 基於 開始 下修 出貨 增幅 不過 供應鏈 普遍 認為 目前 訂單 需求 大於 供給 情況 持續 部分 訂單 可能 遞延 預期 需求 不會 見到 反轉 現象 旺季 表現 缺口 擴大 代工廠 下修 增幅 受到 電子 伺服器 消費性 電子 產品 領域 成熟 製程 需求 增加 以及 市場 基於 上游 產能 吃緊 對於 交期 拉長 有所 疑慮 紛紛', '台股 人貓 沾到 慘跌 謝金河 緯創 恐凶多吉少立訊 台股 喜歡 爬山 沾到 植物 葉子 摸到 皮膚 刺痛 奇癢 難耐 沾到 抵抗力 不足 支倒地 資本 市場 台股 站在 以上 很多 漲幅 驚人 少數 四腳朝天 其中 過去 立訊 結盟 如今 股價 直接 立訊 香港 商聯滔 電子 人股 取得 經營權 宣德 股價 今天 股價 已經 腰斬 立訊 結盟 美律', '新聞 官股 轉賣 逢低 加碼 台塑 台泥官股 轉賣 逢低 加碼 台塑 台泥 法人 齊步 回頭 加碼 台股 推升 台股 加權 指數 收盤 勁揚 官股 券商 對作 反手 顯示 政府 基金 官股 券商 銀行 隨著 指數 高檔 操作 偏向 打帶跑 獲利 逢高 調節 整體 賣超 還是 逢低 加碼 台塑 台泥 產業 龍頭 台股 高檔 拉回 高檔 拉回 波段 超過 代表 政策 動向 官股 券商 過去 交易日 連續', '標的 鴻海充實 內文 多空 理由 充實 板規 處份 退場 機制 若非 長期 投資 輸入 停損價 否則 處份 格式 輸入 內容 格式 板規 處份 標題 使用 以下 格式 股號 市場碼 股名 分類 市場碼 台積電 長期 停損 特斯拉 馬斯克 火星 刪除 以上 內容 標的 鴻海 台積電 分類 分析 正文 炸彈 印度 疫情 已經 埋好 差點 大盤 修正 印度 封廠 基本面', '情報 上市 外資 買賣 排行排行 排行 中鋼 群創 新光金 友達 中信金 聯電 長榮 元大 滬深 台玻 國泰 台灣 元大 台灣 鴻海 大成鋼 期街口 布蘭 特正 開發金 長榮航 宏碁 中鴻 兆豐金 晶豪科 燁輝 中纖 台企銀 矽統 永豐金 期元 石油 合庫金 緯創 玉山金 光罩 南紡 飛宏 華航 臻鼎 台中銀 敦泰 華新 允強 新纖 榮成 陽明 聯發科 中石化 金寶 元大金 凌陽 力麗 旺宏 第一 立德 遠東銀', '熱門 族群 官股 轉賣 逢低 加碼 台塑 台泥時報 台北電 法人 齊步 回頭 加碼 台股 推升 台股 加權 指數 收盤 勁揚 官股 券商 對作 反手 顯示 政府 基金 官股 券商 銀行 隨著 指數 高檔 操作 偏向 打帶跑 獲利 逢高 調節 整體 賣超下 還是 逢低 加碼 台塑 台泥 產業 龍頭股 台股 高檔 拉回 高檔 拉回 波段 超過 代表 政策 動向 官股 券商 過去 交易日 連續 天天 合計 買超', '統一 證券 晨訊 長期 均線 排列 台股 格局日期 盤勢 分析 買盤 力道 轉強 多頭 格局 不變 持續 偏多 操作 昨日 盤勢 道瓊 指數 歷史 新高 激勵 台股 上漲 開出 台積電 聯電 國巨 台達電 電子 權值股 吹起 反攻 號角 加上 被動 元件 面板 設計 中小型 電子股 強彈 帶領 指數 堅向 陽明 長榮 慧洋 正德 貨櫃 散裝 航運 延續 漲勢 電子 金融 傳產 同步 拉抬 指數 漲幅 擴大 終場 上漲 作收 成交量 觀察 盤面 變化', '緯創 首季 立訊 拖累 法人 下修 今年 獲利 預估中央社 記者 吳家豪 台北 日電 代工廠 緯創 認列 立訊 股票 投資 價值 減損 導致 虧損 盈餘 新台幣 低於 市場 預期 儘管 法人 預估 隨著 產品 組合 轉佳 緯創 獲利率 可望 攀升 下修 盈餘 預估值 緯創 股價 今天 早盤 低點 來到 跌幅 成交量 超過 投顧 法人 分析 緯創 今年 認列 中國 組裝廠 立訊 投資 價值 減損 以上 侵蝕 稅前 獲利約 然而 營收規', '需求 品牌廠 旺季 規格 拉貨 全球 出貨 優於 雙位數財訊 快報 記者 王宜弘 報導 筆電 市場 需求 續旺 研調 機構 指出 首季 全球 筆電 出貨 未計 卸式 機種 首季 減少 第二季 進入 教育 標案 旺季 商務 消費 巿場 需求 刺激 整體 需求 高於 首季 儘管 缺料 問題 嚴重 品牌廠 旺季 規格 全力 拉貨 衝刺 預期 全球 筆電 出貨 可望 季增 一成 再度 突破 機構 指出 品牌 出貨 上季 成長 龍頭廠 惠普 繼續 衝刺 紀錄 出貨 第二 聯想 首季 日本 標案 進入', '新聞 資訊 服務 緯軟 首季資訊 服務 緯軟 首季 週五 上午 分鐘 閱讀 時間 時報 台北 服務 廠商 緯創 軟體 董事會 通過 第一 財務 報告 淨利 營收 歷年 新高 緯軟 公告 自結 營收 單月 歷史 新高 緯軟 表示 第一季 營收 表現 成績 亮眼 單季 營收 年增 季增 創下 歷年 同期 新高 寫下 單季 營收 歷史次 紀錄 獲利 第一季 單季 毛利率 第一 工作 天數 減少 影響', '其他 緯創財務 報告 提報 董事會 董事會 決議 日期 審計 委員會 通過 財務 報告 日期 財務 報告 報導 期間 日期 累計 營業 收入 累計 營業 毛利 毛損 累計 營業 利益 損失 累計 稅前 淨利 淨損 累計 淨利 淨損 累計 歸屬於 母公司 業主 淨利 累計 基本 盈餘 損失 期末 資產', '其他 上市 投信 買賣 排行排行 排行 中鋼 華航 群創 台塑 陽明 華夏 允強 緯創 開發金 榮成 中鴻 彩晶 友達 美利達 晶豪科 微星 台泥 新光鋼 超豐 旺宏 光寶科 長榮航 表科 台化 國泰金 南茂 大成鋼 台聚 順德 晶技 聯電 台光電 萬海 南亞科 聚陽 茂林 台驊 投控 佳凌 億光 國喬 世紀鋼 光罩 儒鴻 億豐 奇鋐 直得 聯詠 健策 鈺齊 百和 其他 其他 台積電 台玻 景碩 南亞 長榮', '標的 緯創 號令標的 緯創 分類 分析 正文 股價 互相 抬轎 今天 明天 一點 別人 這樣 股價 上去 越來越 當成 老鼠 經營 困難 大家 借急 沒關係 緯創 印度 這麼 良心 停工 大家 避難 之後 一定 凝聚 心力 獲利 應該 大增 帳單 緯創 現買 退場 機制 加碼 功德 停利 急用', '其他 上市 外資 買賣 排行排行 排行 長榮 中鋼 華航 集盛 華邦電 台泥 新光金 友達 長榮航 台玻 陽明 大成鋼 國泰金 宏碁 中信金 華新 華泰 台塑 國票金 國喬 台積電 期街口布蘭 特正 中石化 四維航 國泰 台灣 聯成 富邦金 南紡 鴻海 欣興 中纖 彰源 元大 台灣 第一 中環 台橡 誠美材 聯合 再生 日月光 投控 興富發 合庫金 幸福 開發金 冠軍 聯電 華榮 期元 石油 凌陽 兆赫 東聯 南亞科', '新聞 業外 損失 衝擊 緯創 純益 大減原文 標題 業外 損失 衝擊 緯創 純益 探逾 刪減 原文 標題 原文 連結 善用 網址 工具 發布 時間 原文 網頁 報紙 發布 時間 為準 原文 內容 代工 大廠 緯創 公布 首季 財報 持股 國立 訊集團 股票 評價 損失 衝擊 業外 損失 高達 衝擊 本業 獲利 單季 純益 純益 探近 緯創 首季 營收 季減 年增 毛利率 季增 百分點 年增 百分點 營益', '友達印度 代工 大廠 緯創 基本 盈餘 營業 利益 虧損 收盤價 緯創 印度 先前 台籍 幹部 確診 工廠 停工 檢疫 消毒 緯穎 基本 盈餘 收盤價 群創 鴻海 關係 企業 觸控 大廠 基本 盈餘 營業 利益 業外 利益 收盤價 中鋼 基本 盈餘 收盤價', '個人 研究 觀察 記錄 鴻海 分析 宏碁 轉型鴻海 旗下 公司 亞太電信 第一 獲利 鴻海 影響 第一季 鴻海 營收 第一季 成長 鴻海 本來 持有 亞太 電信 持股 獲利 關聯 企業 合資 本來 不會 影響 本業 毛利率 營利率 年底 亞太 私募 增資 台灣 大哥大 參與 增資 使得 鴻海 吃下 亞太電 股權 持有 比例 來到 這時 鴻海 亞太 電信 列到 本業 影響 本業 毛利率 營利率 第一 亞太 電信 營收', '友達新聞 代工 大廠 緯創 公布 首季 財報 持股 國立 訊集團 股票 評價 損失 衝擊 業外 損失 高達 衝擊 本業 獲利 單季 純益 季減 純益 緯創 去年 人民幣 新台幣 出售 旗下 昆山 江蘇 公司 同時 加深 雙方 策略 合作 夥伴 關係 透過 中國 家子 公司 取得 中國 立訊 精密 人民幣 新台幣 證券 持股 比達 立訊 股價 今年 以來 持續 下跌', '資訊 服務 緯軟 首季時報 台北電 服務 廠商 緯創 軟體 董事會 通過 第一季 財務 報告 淨利 營收 歷年 新高 緯軟 公告 自結 營收 單月 歷史 新高 緯軟 表示 第一季 營收 表現 成績 亮眼 單季 營收 年增 季增 創下 歷年 新高 寫下 單季 營收 歷史 紀錄 獲利 第一季 單季 毛利率 第一季 工作 天數 減少 影響 毛利率 季減 然而 第一季 獲利 表現 強勁 營業 利益 淨利', '統一 證券 晨訊 排列 中多 格局日期 盤勢 分析 指數 強勁 反彈 多方 格局 不變 持續 偏多 操作 昨日 盤勢 道瓊 指數 歷史 新高 激勵 昨日 台股 上漲 開出 早盤 台塑 四寶 水泥 鋼鐵 傳產 族群 領軍 帶領 指數 上漲 收復 萬七 關卡 然而 盤中 電子 族群 賣壓 再度 湧現 鴻海 聯發科 漲幅 收斂 加上 陽明 長榮 翻黑 拖累 指數 翻黑 震盪 走低 所幸 多頭 人氣 聚集 傳產 族群 低接 買盤 進場 承接 指數 緩步 回升 尾盤 台積電 大單 進助', '緯軟 獲利 營收 雙報喜 營運 再向財訊 快報 記者 陳浩寧 報導 服務 領導 廠商 緯創 軟體 營運 報喜 第一 獲利 創下 新高 元外 營收 單月 歷史 新高 紀錄 展望 第二 切入 中國 大型 互聯 客戶 加上 客戶 成長 緯軟 預期 營收 毛利 率機 第一季 持續 緯軟 第一 單季 合併 營收 年增 季增 創下 歷年 新高 寫下 單季 營收 歷史 次高 記錄 毛利率 首季 工作 天數 減少 影響 毛利率 季減 百分點 獲利 表現 強勁', '立訊 股價 崩跌 拖累 緯創 首季 反攻財訊 快報 記者 王宜弘 報導 代工 大廠 緯創 公告 首季 財報 單季 合併 營收 營業 淨利 淨利 淨利 財報 表現 低於 預期 創新 紀錄 緯創 指出 主因 提列 投資 立訊 金融 資產 評價 損失 公司 去年 出售 昆山廠 立訊 之後 斥資 億人民幣 投資 立訊 股票 持股 深化 合作 關係 立訊 今年 股價 元人民幣 崩跌 元人民幣 不過 緯創 本業 獲利 維持 相對 穩定 狀態 單季', '標的 緯創發文 詳閱 標的 分類 發文 規範 規範 發文 處份 發標 充實 內文 多空 理由 充實 板規 處份 退場 機制 若非 長期 投資 輸入 停損價 否則 板規 處份 長期 投資 充份 分析 理由 板規 處份 格式 輸入 內容 格式 板規 砍文 處份 分類 選填 請益 退場 機制 刪去 刪除 以上 內容 標的 緯創 分類 分析 正文 殖利率 保護 就是 股利 差價 外資', '其他 上市 投信 買賣 排行排行 排行 中鋼 友達 中鴻 華航 南紡 群創 長榮 聯電 台玻 緯創 中信金 旺宏 裕民 矽創 陽明 華通 光鋼 日月光投控 富邦金 東和鋼 東新 天鈺 華邦電 聯茂 國泰金 美利達 台塑 大成鋼 聯詠 台驊 投控 國巨 聚陽 景碩 南茂 萬海 南亞科 台達電 中興電 直得 台表科 光罩 台塑 臻鼎 欣興 茂林 儒鴻 禾伸堂 台積電 中華電 其他 買超 其他 智邦 微星', '其他 上市 外資 買賣 排行排行 排行 中信金 華新 永豐金 陽明 群創 大亞 台塑 開發金 友達 台橡 元大 台灣 富邦金 新光金 長榮 智原 華航 偉詮電 中鋼 宏碁 緯創 中鴻 華邦電 兆豐金 台泥 華南金 國泰金 台新金 台航 聯合 再生 聯電 國票金 中纖 彰源 元大金 中工 台玻 第一 和碩 玉山金 新光鋼 鴻海 萬海 台聚 金寶 亞泥 期街口 布蘭特正 英業達 南電 燁輝 佳世達 海光 日月光 投控', '新聞 逃離 印度 光寶 中橡 撤回 台幹 走不了原文 標題 逃離 印度 光寶 中橡 撤回 台幹 走不了 辭職 原文 連結 發布 時間 原文 內容 印度 第二 新冠 肺炎 疫情 沒有 好轉 之下 考量 員工 安全 光寶 中橡 台幹 台幹 打算 辭職 搭機 躲避 疫情 印度 五日 通報 單日 新增 卅八萬多 確診 病例 過去 印度 新增 病例 超過 卅萬 世界 衛生 組織 過去 全球 新增 病例 四成六 來自 印度 病歿 四分之一 印度 當地 醫療 系統 嚴重 缺乏 氧氣 病床', '台股 漲勢 回吐 何時 投顧 電子股 發動中央社 記者 江明晏 台北 日電 台股 今天 上漲 收在 萬七 關卡 差臨門 站回 引線 低點 今天 外資 投顧 認為 台股 重啟 漲勢 關鍵 電子 族群 重新 接棒 台股 今天 開出 上漲 早盤 衝高 大漲 成功 回到 關卡 之上 隨後 漲幅 回吐 午盤 翻黑 尾盤 台積電 買單 拉抬 終場 上漲 收在 漲幅 成交值 終止日 大法', '緯軟 首季 新高中央社 記者 江明晏 台北 日電 緯創 軟體 公布 第一 財報 營收 新台幣 盈餘 歷年 新高 主要 受惠 金融 科技 數位 轉型 帶動 服務廠商 緯創 軟體 董事會 通過 第一 財報 第一 合併 營收 新台幣 年增 季增 單季 毛利率 首季 工作 天數 減少 影響 毛利率 季減 分點 淨利 季增 相較 去年 同期 雙位數 成長 盈餘 營收 歷年 新高 緯軟 合併 營收 月增', '其他 上市 外資 買賣 排行排行 排行 中鋼 開發金 街口 布蘭 特正 群創 國泰金 聯電 元大 台灣 國泰 台灣 中鴻 華邦電 新光金 友達 期元 石油 旺宏 力麗 華航 中信金 緯創 集盛 金寶 大成鋼 瑞軒 國喬 燁輝 元大 滬深 台泥 晶豪科 華新 台航 南亞科 台橡 華泰 中工 鴻海 宏碁 日月光 投控 東聯 和碩 永豐金 長榮航 陽明 矽統 台玻 華通 東和鋼鐵 富邦金 華夏 台新金 聯成 晶技 中環', '熱門 族群 緯穎 信驊 前景 外資時報 台北 台股 大盤 殺聲 隆隆 獲利 回吐 賣壓 出籠 過去 一段 時間 強勢 族群 全數 下殺 航運 鋼鐵 面板 族群 全數 臉綠 部分 個股 無懼 大盤 疲軟 股價 登上 歷史 新高 伺服器 代工 大廠 緯穎 日盤 衝上 歷史 新高 俱樂 咫尺 高價 信驊 表現 首季 季報 成績 亮眼 股價 大漲 資料中心 市場 需求 去年 第四季 明顯 回溫 客戶 需求 年初 更為 強勁 加上 英特爾 第三 擴充 處理器 正式 上市', '緯創 印度廠 復工 出貨 估勝 首季 外資 逃殺 重創 股價財訊 快報 記者 王宜弘 報導 緯創 商機 持續 發酵 上半年 出貨量 淡季 不淡 第二季 包括 筆電 桌機 伺服器 顯示器 出貨 可望 優於 首季 智慧 裝置 印度廠 停工 週三 期滿 可望 重新 開工 整體 內部 第二 成長 審慎 樂觀 不過 受到 手機 進入 淡季 印度廠 疫情 嚴重 停工 影響 引爆 內外資 緯創 逃殺 重創 緯創 股價 表現 資料 顯示 外資 下旬 緯創 持股 一路 總計 倒貨', '新聞 台股 重殺 專家 小心 天鵝原文 標題 台股 重殺 專家 小心 天鵝 下跌 真正 原因 刪減 原文 標題 原文 連結 善用 網址 工具 發布 時間 原文 網頁 報紙 發布 時間 為準 原文 內容 記者 戴玉翔 台北 報導 台股 賣壓 湧現 指數 開低 不斷 走跌 台股 終盤 下跌 跌幅 資深 分析師 蔡明彰 表示 小心 如今 台股 面臨 黑天鵝 黑天鵝 電子股 財報 利空 萬寶 投顧 總監 蔡明彰 表示 今天 大跌 主要 原因 就是 因為', '其他 上市 投信 買賣 排行排行 排行 華邦電 群創 微星 仁寶 陽明 南亞科 長榮 萬海 中鴻 台泥 富邦金 友達 台橡 宏碁 中鋼 金像電 亞聚 亞泥 光鋼 永豐餘 台塑 健策 南電 敦泰 盛餘 光罩 大成鋼 文曄 南紡 聯電 慧洋 景碩 玉山金 立積 華航 欣興 儒鴻 順德 統一 佳凌 台塑 緯創 智邦 華擎 創意 元大 台灣 裕民 中信金 京鼎 其他 買超 其他 鴻海 聯發科 華新科 聯詠 國巨', '其他 上市 外資 買賣 排行排行 排行 開發金 長榮 元大 台灣 中石化 中鋼 陽明 期街口 布蘭 特正 南紡 華新 國泰 台灣 華航 台企銀 大亞 燁輝 中信金 中纖 鴻海 力鵬 國泰金 富邦金 金寶 台新金 聯成 群創 永光 中工 緯創 期元 石油 英業達 中鴻 仁寶 群益證 國喬 新光金 宏碁 華邦電 長榮航 元大 台灣 永豐金 華東 國泰 台灣 加權 亞泥 富邦 台灣 加權 力麗 元大 滬深 國泰 永續 股息', '其他 上市 投信 買賣排行 排行 中鋼 聯電 長榮 華航 大成鋼 南亞科 台玻 華邦電 陽明 友達 台橡 日月光 投控 亞聚 旺宏 台聚 天鈺 中鴻 緯創 萬海 景碩 台光電 遠傳 世紀鋼 華通 新光鋼 中信金 智原 國泰金 裕民 永豐餘 統一 開發金 美利達 台積電 建大 東和鋼鐵 國喬 微星 亞德客 兆豐金 全新 遠東 富邦金 永豐金 嘉澤 第一金 華擎 合庫金 台達電 新金 其他 買超 其他 彩晶', '其他 上市 外資 買賣 排行排行 排行 元大 台灣 友達 中石化 聯電 長榮 國泰 台灣 南紡 開發金 富邦金 中鋼 街口 布蘭 特正 中鴻 長榮航 台積電 旺宏 凌陽 國泰 台灣 加權 緯創 國泰金 台聚 集盛 群益證 中纖 台新金 京元電子 臻鼎 力鵬 和碩 台塑 國喬 新光金 聯成 金寶 群創 新纖 海光 鴻海 玉山金 光寶科 大同 期元大 石油 彩晶 矽統 華新 宏達電 大成鋼 微星 台企銀 三商壽 元大 滬深', '要聞 防疫 緯創 印度廠 暫休時報 台北 印度 疫情 升溫 尤在 北印度 疫情 幾近 失控 南印度 主要 地方政府 紛紛 祭出 防疫 管制 進行 預防性 應對 目前 位於 加羅爾 宣布 企業 停班 停工 防疫 法令 蘋果 代工廠 廠區 集中 緯創 配合 法令 休工 至於 當地 整體 營運 正常 緯創 表示 位於 印度 廠區 近日 因應 當地 政府 防疫 法令 要求 配合 暫休 其中 周末 周日', '掃瞄 國內 消息 鴻海 日法 日月光 投控 法人 狂升評時報 掃瞄 國內 消息 防疫 緯創 印度廠 暫休 被動 元件廠 改選 國巨 董事 候選人 名單 出爐 鼎元 可望 李秉傑 接掌 成為 友達 集團 台股 五月天 名師 喊攻 萬八 日月光 投控 內外資 狂升評 抑制 材料 上漲 營造 商聲 聲喚 諾富特 群聚 感染 人數 部桃 本土 再增 四確 病例 鴻海 日法 聚焦 議題 調降 友達 評等 瑞信 第一 歷年 表現 食品 電子 航運 類股 控制 毅力號 火星 群聯 打入 供應鏈', '美股 下挫 法人 台股 多頭 格局 不變 短線 保守 觀望中央社 記者 張建中 台北 美股 週五 走跌 那斯達克 指數 下挫 法人 預期 短線 可能 影響 台股 今天 表現 不過 台股 多頭 格局 維持 不變 美股 週五 市場 賣壓 出籠 指數 全面 收黑 道瓊 工業 指數 跌幅 標準 普爾 指數 跌幅 那斯達克 指數 跌幅 國內外 產業 訊息 方面 印度 第二 武漢 肺炎 疫情 惡化 鴻海 印度 廠區 營運 正常 疫情 影響 台達電 印度 台籍 幹部 狀況 正常 聯發科', '早報 美下達 印度 禁令 能源 晶片股 重挫 費半 收跌開盤日 出刊 產能 應求 法人 看好 晶圓 明年 鴻海 營收 歷年 新高 市場 期待 獲利 表現 台股 資金 派對 強勢 平均 國際 股市 道瓊 指數 漲跌 幅度 作收 指數 漲跌 幅度 作收 上證 指數 漲跌 幅度 作收 台股 籌碼 變化 外資 投信 自營 融資 餘額 融券 餘額 法人 買賣 外資 投信 自營商 台積電 中鋼', '台股 失守 日線 法人 短線 月線 支撐中央社 記者 張建中 台北 日電 台股 今天 走低 指數 終場 失守 日線 法人 預期 台股 短線 震盪 整理 月線 支撐 重要 觀察 指標 台股 今天 跌幅 成交值 新台幣 分析師 王兆立 表示 今天 大盤 下跌 比較 今天 開低 盤中 跌幅 稍微 收斂 不過 尾盤 還是 呈現下 殺走勢 終場 收在 今天 殺盤 重心 電子股 王兆立 指出 傳統 產業股 部分 鋼鐵 貨櫃 散裝 航運', '其他 上市 投信 買賣 排行排行 排行 中鋼 華邦電 中鴻 聯電 華航 旺宏 陽明 群創 台橡 富邦金 南紡 永豐餘 華夏 南亞 新光鋼 台塑 亞聚 天鈺 裕民 南亞科 東和鋼鐵 華通 欣興 緯創 長榮 義隆 敦泰 華晶科 南僑 健策 技嘉 景碩 智原 台化 超豐 瑞祺電通 嘉澤 國巨 仁寶 聚陽 廣達 鴻海 富邦科技 金像電 國泰金 玉山金 台玻 元大 滬深 日月光 投控 南電 其他 買超 其它 智邦 台積電', '其他 上市 外資 買賣 排行排行 排行 友達 開發金 華航 華邦電 群創 聯電 彩晶 陽明 中信金 長榮 欣興 大同 中纖 鴻海 台欣金 旺宏 新纖 台聚 智原 中鴻 燁輝 瑞軒 中環 台橡 矽格 中鋼 中石化 台泥 華通 長興 精成 仁寶 中工 中釉 南茂 台揚 兆赫 農林 鼎元 東聯 富邦越南 華泰 力鵬 元大金 榮成 力麗 華新 晶技 台航 國票金 宏達電 第一金 台積電 神達 南帝 富邦金 王道銀行', '其他 上市 投信 買賣 排行排行 排行 開發金 長榮航 陽明 景碩 中鴻 旺宏 台玻 南亞 長榮 台表科 友達 鴻海 華航 金像電 裕民 南電 群創 華夏 欣興 美利達 華邦電 台積電 中鋼 大成鋼 東和鋼鐵 國泰金 南茂 緯創 萬海 國產 技嘉 健策 南僑 創見 超豐 天鈺 光罩 京鼎 聯電 仁寶 神達 亞泥 偉詮電 矽創 元大 股息 中信金 玉山金 京城銀 其它 其它 元大台灣 敦泰 聯詠 台塑', '其他 上市 外資 買賣 排行排行 排行 彩晶 開發金 華邦電 聯電 國泰金 長榮 華航 中鋼 中信金 中鴻 大同 長榮航 南亞 華新 國泰 台灣 金寶 台積電 台泥 欣興 友達 中環 陽明 永豐金 元大金 台塑 元大 滬深 兆赫 華南金 期街口 布蘭 特正 緯創 元大 台灣 反一 聯成 中纖 鴻海 集盛 瑞軒 華泰 威建 元大 台灣 大成鋼 群創 矽統 富邦 越南 飛宏 旺宏 群益證 富邦金 台企銀 台新金 南紡 和桐 中工', '請益 台積電 股價 股息 有沒有 關係節目 應該 問題 陌生 主持人 再再 強調 台積電 只要 行情 橫向 整理 就是 災難 甚至 魏哲嘉 股利 外資 菜鳥法 資本 支出 浪費 問題 弟弟 本人 將近 認識 已經 開頭 時候 大家 認識 就是 產業 龍頭 成長 那照理 股票 比較 不會 股利 影響 股利 影響 行情 這點 當然 知道 宏碁 因為 股利 發布 開始 英業達 因為 股利 行情 緯創 因為 點少', '其他 上市 投信 買賣 排行排行 排行 友達 彩晶 開發金 長榮航 新光鋼 南電 華邦電 台塑 群創 華航 裕民 南亞科 聯電 南亞 中鋼 金像電 元大金 京元電 東和鋼鐵 緯創 偉詮電 鴻海 萬海 台積電 富邦金 奇鋐 南茂 上銀 欣興 國產 長榮 仁寶 陽明 旺宏 全新 美利達 微星 健策 矽創 佳凌 智邦 大成鋼 順德 英業達 聯詠 同欣電 國喬 百和 台泥 熱門股 買超 熱門股 日月光 投控 天鈺 聯發', '統一 證券 晨訊 格局 延續 類股 操作日期 盤勢 分析 週線 多頭 格局 延續 擇優 類股 操作 昨日 盤勢 雖然 美國 指數 同步 下跌 台股 逆勢 上漲 開出 早盤 航運 鋼鐵 族群 開高 走低 指數 平盤 游走 資金 轉進 電子 族群 台積電 回到 聯發科 突破 關卡 記憶體 晶圓 電子 漲價 概念股 大漲 帶動 指數 緩步 走揚 尾盤 大單 敲進 指數 拉抬 當日 高點 作收 終場 收在 成交量 觀察 盤面', '廣達 旗下 雲達 擴產 出貨 位數中央社 記者 吳家豪 台北 日電 代工廠 廣達 旗下 雲端 伺服器 大廠 雲達 科技 需求 持續 暢旺 今年 擴產 看好 出貨 季增 位數 分比 出貨 年增率 優於 原本 預估 美商 晶片 大廠 英特爾 今天 台灣 舉辦 擴充 處理器 平台 發表會 針對 雲端 企業 效能 運算 邊緣 應用 情境 打造 邀請 廣達 鴻海 緯創 英業達 研華 華碩 技嘉 台灣 微軟 合作 夥伴 企業 站台 廣達 資深 副總經理', '新聞 外資 破格 追蹤 瑞信 積電 目標價原文 標題 外資 破格 追蹤 瑞信 積電 目標價 刪減 原文 標題 原文 連結 善用 網址 工具 發布 時間 原文 網頁 報紙 發布 時間 為準 原文 內容 興櫃股 向來 外資 戰場 潛力 強大 可能 外資 破格 率先 追蹤 瑞士信 出具 積電 報告 認為 積電 受惠 晶圓 雙雄 台積電 聯電 產能 滿載 成熟 製程 需求 龐大 營運 大幅 漲價 循環 今年 晶圓 收入 毛利率 挑戰 給予 優於', '其他 緯創 重訊 年報 開獎自己 持股 自己 財務 報告 提報 董事會 董事會 決議 日期 審計 委員會 通過 財務 報告 日期 財務 報告 報導 期間 日期 累計 營業 收入 累計 營業 毛利 毛損 累計 營業 利益 損失 累計 稅前 淨利 淨損 累計 淨利 淨損 累計 屬於 公司 業主 淨利 累計 基本 盈餘 損失 期末', '新聞 緯創法 擴大 投資 台墨 昆山廠 處分 本季原文 標題 緯創法 擴大 投資 昆山廠 處分 利益 認列 原文 連結 發布 時間 原文 內容 鉅亨 記者 劉韋廷 台北 代工 大廠 緯創 召開 法說 展望 今年 董事長 林憲銘 表示 持續 價值 產品 布局 同時 擴充 全球 產能 董事會 分別 通過 擴大 投資 墨西哥 台灣 此外 昆山廠 處分 利益 人民幣 美元 新台幣 預計 本季 認列 林憲銘 表示 去年 雖然 疫情 影響 緯創 透過 轉型 繳出 亮眼 成績 今年', '金融 商品 理財 規劃 個人 務實 投資 紀錄台泥 國際 中橡 產業 指標 科技 資訊 中篇 前言 了解 股票 價值 掌握 趨勢 股值 瞬息萬變 最近 產業 話題 莫過於 台泥 國際 中橡 通過 董事會 決議 透過 公司 科技 公司 投資 設立 子公司 預計 投資 總額 上限 新台幣 決議 背後 龐大 資本 資出 未來 產業 走向 決定 台泥 國際 中橡 日後 重要 長線 發展 今日 同學 股票 聊聊 深入 產業 歷史 全球 電池 市場 韓大廠 壟斷', '公告 緯創 租地 委建 方式 新竹縣 國際 智慧 園區 興建廠 大樓公司 名稱 緯創 緯創 租地 委建 方式 新竹縣 國際 智慧 園區 興建廠 大樓 發言人 石慶堂 契約 種類 租地 委建 事實 發生日 契約 相對 公司 關係 尚未 確定 契約 主要 內容 契約 金額 預計 參與 投入 金額 契約 日期 限制 條款 其他 重要 約定 事項 金額 新台幣 專業 估價 事務所 公司 名稱 估價 結果 適用 動產 估價師 姓名 適用 不動產 估價師 開業 證書 字號', '公告 董事會 決議 公司 鼎創 有限 公司 增資公司 名稱 緯創 董事會 決議 公司 鼎創 有限 公司 增資 發言人 石慶堂 名稱 性質 特別 標明 特別股 約定 發行 條件 股息率 鼎創 有限 公司 所有權 事實 發生日 交易 數量 單位 價格 交易 金額 交易 金額 新台幣 仟元 交易 相對 公司 關係 交易 相對人 自然人 公司 關係 揭露 姓名 交易 相對人 鼎創 限公司 公司 關係 公司 直接 持股', '公告 董事會 決議 辦理 現金 增資 發行 普通股 參與 發行 海外 存託 憑證 現金 增資 發行 普通股公司 名稱 緯創 董事會 決議 辦理 現金 增資 發行 普通股 參與 發行 海外 存託 憑證 現金 增資 發行 普通股 發言人 石慶堂 董事會 決議 日期 增資 資金 來源 辦理 現金 增資 發行 普通股 參與 發行 海外 存託 憑證 現金 增資 發行 普通股 發行 股數 盈餘 公積 增資 配發給 員工 部分 提請 股東會 授權 董事會 普通股 超過 額度 市場 狀況 公司 需求 適當 時機 籌資 工具 相關法', '公告 董事會 決議 召開 一一 股東常會 相關 事宜公司 名稱 緯創 董事會 決議 召開 股東常會 相關 事宜 發言人 石慶堂 董事會 決議 日期 股東會 召開 日期 股東會 召開 地點 國際 會議中心 召集 事由 報告 事項 年度 營業 報告 審計 委員會 查核 報告 員工 酬勞 董事 酬勞 分派 情形 報告 召集 事由 承認 事項 年度 營業 報告書 財務 報表 承認案 年度 盈餘 分配 承認案 召集 事由 討論 事項 辦理 現金 增資 發行 普通', '公告 董事會 決議 私募 方式 辦理 現金 增資 發行 普通股 私募 方式 發行 新股 參與 海外 存託 憑證公司 名稱 緯創 董事會 決議 私募 方式 辦理 現金 增資 發行 普通股 私募 方式 發行 新股 參與 海外 存託 憑證 發言人 石慶堂 董事會 決議 日期 私募 有價 證券 種類 普通股 發行 新股 參與 海外 存託 憑證 私募 對象 公司 關係 策略性 投資人 私募 股數 張數 提請 股東會 授權 董事會 普通股 超過 額度 市場 狀況 公司 需求 擇適當 時機 籌資 工具 相關 法令 以下 籌資 方式', '公告 代子 公司 簡稱 委建 興建 廠房公司 名稱 緯創 代子 公司 簡稱 委建 興建 廠房 發言人 石慶堂 契約 種類 委建 事實 發生 契約 相對 公司 關係 尚未 確定 契約 主要 內容 契約 金額 預計 參與 投入 金額 契約 日期 限制 條款 其他 重要 約定 事項 超過 美金 仟元 專業 估價 事務所 公司 名稱 估價 結果 適用 動產 估價師 姓名 適用 動產 估價師 開業 證書 字號 適用 取得 具體目的', '公告 代子 公司 簡稱 取得 土地公司 名稱 緯創 代子 公司 簡稱 取得 土地 發言人 石慶堂 名稱 性質 坐落 台中市 北區 土地 墨西哥 土地 事實 發生 交易 單位 數量 平方 公尺 折合 單位 價格 交易 總金額 交易 單位 數量 平方 公尺 折合 交易 總金額 美金 交易 相對人 公司 關係 交易 相對人 自然人 公司 關係人 揭露 姓名 交易 相對人 自然人', '緯創 去年 元創 新高 配息中央社 記者 吳家豪 台北 日電 代工廠 緯創 今天 召開 董事會 通過 財報 盈餘 新台幣 年增 新高 緯創 配發 現金 股利 股息 配發 緯創 今天 董事會 通過 決議 出售子 公司 緯新 資通 昆山 有限 公司 緯創 投資 江蘇 有限 公司 相關 業務 中國 組裝廠 立訊 集團 最終 交易 價格 人民幣 處分 利益 總金額 人民幣 新台幣 帳列 營業 收益 業務 發展 策略 規劃 需要', '林憲銘 緯創 今年 獲利 聚焦 附加 價值中央社 記者 吳家豪 台北 日電 代工廠 緯創 今天 參加 券商 舉辦 法人 說明會 董事長 林憲銘 表示 今年 追求 營收 成長 獲利 去年 預告 緯創 未來 幾年 推動 重大 改變 持續 聚焦 附加 價值 商業 模式 林憲銘 受到 疫情 影響 非常 困難 今年 緯創 目標 並非 追求 營收 成長 而是 提升 附加 價值 今年 以來 緯創 整體 毛利率 超過 追求 毛利率 看好 營業 利益率 同步 改善 提到 緯創 目前 確實', '個人 研究 觀察 記錄 鴻海 分析 宏碁 轉型一般 投資人 常見 問題 我們 害怕 想像 基期 修正 崩盤 我們 資金 心理 弱點 過去 經驗 台股 大盤 淨值 之間 就是 就是 便宜 目前 大盤 淨值 所以 覺得 目前 台股 高點 但是 一下 什麼 原因 台股 淨值 了解 發覺 答案 台積電 年前 台積電 淨值 台積電 淨值 來到 目前 台股 扣掉 台積電 指數', '新聞 熱銷 伺服器 爆發 野村 鴻海 挑戰原文 標題 熱銷 伺服器 爆發 野村 鴻海 挑戰 原文 連結 發布 時間 原文 內容 美銀 美林 看好 鴻海 電動車 商機 爆發 報告 目標價 一口氣 升到 野村 證券 同時 發布 鴻海 報告 認為 電動車 確實 長線 業績 引爆點 今年 看到 效益 反觀 近期 看到 成效 鴻海 高階 拿下 更多 訂單 伺服器 事業 成長 目標價 提高到 野村 表示 鴻海 電動車 看到 顯著 成效 至少 之後 平台 策略 正確', '其他 電子 鴻海 今年 豐收 電動車 潛力 外資 升價時報 記者 林資傑 台北 報導 美系 外資 日系 外資 出具 報告 看好 鴻海 積極 進軍 電動車 領域 長期 發展 成長 潛力 可期 短期 受惠 蘋果 需求 持續 強勁 伺服器市 占率 提升 激勵 雙雙 維持 買進 評等 目標價 分別 調升 鴻海 股價 逐步 持平 開出 平盤 上下 微幅 震盪 小漲 分力守 平盤 法人 持續 買超 鴻海 上周 合計 買超 其中 外資 買超 最多', '資訊 服務 緯軟 殺進 電動車市 後市時報 台北電 資訊 服務 廠商 緯創 軟體 舉辦 法人 說明會 董事長 蕭清志 表示 緯軟 深耕 大型 客戶 主要 策略 預期 今年 高科技 製造業 金融 科技 業務 雙位數 成長 此外 緯軟 今年 順利 打入 中國大陸 駕車 電動車 市場 目前 幫助 客戶 開發 自動 駕駛 系統 以及 電動車 充電樁 平台 預期 今年 可以 看到 成果 緯軟 去年 繳出 營運 成績 毛利率 營業 利益率 稅後 淨利率 三率 齊揚 淨利 年增 盈餘', '美擬 全面 制裁 陸股 崩盤中國 和碩 營收 跌至 年減 積極 撤出 中國 和碩 對抗 美國 中化 積極 投資 台灣 東南亞 人民幣 穩定 開始 嘗到 嚴重 苦果 月份 收創 單月 但是 電子 五哥 另外 紛紛 筆電廠 投資 台灣 越南 菲律賓 獲得 美商 買主 信賴 業績 大幅 成長 中國 前途 得證 月份 營收 緯創 年增 年增 仁寶 年增 英業 達年增 鴻海 年增 越南 富士康 總經理 親口 證實 原本 已經', '美債 飆高 接下來 關注 高殖利率 概念股今天 媒體 已經 緯創 印度 工廠 廠區 復工 新聞 以下 影片 印度 工業部長 今天 特別 率隊 訪問 恢復 營運 緯創 工廠 表達 支持 之意 股利發 多少 按照 慣例 下週 公布 第四 開完 董事會 公告', '緯軟 今年 業績 位數 百分比 來自 中國 成長 加速中央社 記者 吳家豪 台北 服務商 緯創 軟體 今天 召開 法人 說明會 指出 去年 中國大陸 陸續 取得 指標 客戶 供應商 資格 今年 大陸 地區 成長 動能 加速 營收 機會 成長 位數 分比 緯軟 合併 營收 淨利 盈餘 歷史 新高 今年 合併 營收 年增 改寫 新高 產業 分析 緯軟 營收 比重 高科 技業 貢獻 營收 金融業 貢獻 電信業 製造業 其他', '美債 飆高 接下來 關注 高殖利率 概念股資金 風險 提高 環境 果然 開始 注意 殖利率股 大家 挑好 分批 佈局 殖利率股 相對 比較 安全 緯穎 擬配 現金 緯創 緯穎 左右 股息 收益 緯創 旗下 伺服器廠 緯穎 推出 新一代 邊緣 運算 伺服器 搶攻 雲端 企業 客戶 專網 商機 緯穎 打入 亞馬遜 供應鏈 開始 小量 出貨 雖然 營收 明年 出貨量 可望 顯著 成長 緯穎 全球 資料 中心 客戶 涵蓋 微軟 臉書 亞馬遜 客戶', '美國 大局 台股 即將 新高資金 熱錢 風險 提高 環境 果然 開始 流向 高殖利率股 大家 挑好 分批 佈局 殖利率股 相對 比較 安全 緯穎 擬配 現金 緯創 緯穎 左右 股息 收益 緯創 旗下 伺服器廠 緯穎 推出 新一代 邊緣 運算 伺服器 搶攻 雲端 企業 客戶 專網 商機 緯穎 打入 亞馬遜 供應鏈 開始 小量 出貨 雖然 營收 明年 出貨量 可望 顯著 成長 緯穎 全球 資料 中心 客戶 涵蓋 微軟 臉書 亞馬遜 客戶', '緯軟 去年 配息 殖利率中央社 記者 吳家豪 台北 服務商 緯創 軟體 今天 董事會 通過 財報 盈餘 歷史 新高 董事會 決議 分配 現金 股利 股利 發放率 今天 收盤價 計算 現金 殖利率 緯軟 合併 營收 毛利率 年增 百分點 營業 利益 年增 營益率 年增 分點 淨利 年增 淨利率 年增 百分點 緯軟 表示 歷經 全球 經濟 環境 嚴峻 考驗 緯軟 積極 提升 管理 綜效 利潤', '早報 一月 營收 全數 公布 法人 盤面 焦點開盤日 出刊 一月 營收 全數 公布 法人 盤面 焦點 台股 紅盤 被動 元件 其中 特幣 飆破 美元 大關 資金 焦板 卡廠 平均 國際 股市 道瓊 指數 漲跌 幅度 作收 指數 漲跌 幅度 作收 上證 指數 春節 假期 休市 台股 籌碼 變化 外資 投信 自營 融資 餘額 融券 餘額 法人 買賣 超前 外資 投信 自營商 台積電 國巨 台積', '台北 股市 元大 電動車 買氣 爆棚時報 台北 受惠 電動車 產業 話題 不斷 元大 電動車 發行 以來 備獲 投資人 關注 金牛 新春 紅盤 帶動 交易 買氣 爆發 累計 成交量 續創 歷史 新高 上市 累計 漲幅 全球 能源 用車 銷量 預估 去年 同期 增長 開啟 全球 浪潮 加上 減碳 綠色 產業 復甦 推波助瀾 造成 電動車 全球 銷量 爆發 加上 鴻海 積極 開發 帶動 全球 電動車 願景 台灣 電動車 供應', '熱門 族群 商機 族群 強強滾時報 台北電 受惠 疫情 帶動 上班 教學 商機 筆電 族群 外資 反手 超下 大舉 反攻 翻紅 品牌 宏碁 開高 走高 強勢 亮燈 漲停 直至 收盤 多達 以上 買單 高掛 短多 搶買 氣勢 帶動 筆電 相關 族群展 強勢 包括 華碩 技嘉 微星 鴻海 仁寶 英業達 緯創 和碩 外資 買盤 進駐 全面 翻紅 成為 台股 盤面 逆勢 上漲 亮眼 族群 國內外 疫情 持續 緊繃 遠距 工作', '熱門 族群 蘋果 概念股 閃亮時報 台北電 蘋果 財報 發布 發布 股價 市值 新高 台股 蘋果 相關 供應鏈 手機 銷售 跨足 雙重 題材 蘋概股 鴻海 集團 領軍 大漲 蘋概股 外資 獨鍾 股價 逆勢 高飛 統計 蘋概股 鴻海 友達 百和 緯創 和碩 仁寶 臻鼎 光寶科 可成 瑞昱 正崴 個股 股價 上漲 強於 大盤 上漲 獲得 外資 買盤 青睞 翻買 買超 期間 買超 張數', '電子 三雄 全面 台股 早盤 暴跌 超過 摜破 月線美股 指數 周三 全面 暴跌 台股 電子 權值股 電子 三雄 台積電 鴻海 聯發科 同步 下殺 聯電 大跌 停板 台塑 四寶 國泰金 富邦金 金融 權值股 同樣 壓盤 表現 指數 早盤 重挫 超過 下探 摜破 月線 美國聯準會 警告 美國 經濟 正在 放緩 加上 波音 財報 不如 市場 預期 投機性 交易 活動 加劇 恐慌 指數 猛飆逾 美股 指數 全面 下殺 道瓊 崩跌 超過 那斯達克 指數 下挫 費半 大跌逾 台積電', '熱門 族群 疫情 升溫 伺服器 概念 商機時報 台北 新冠 肺炎 疫情 持續 嚴峻 發燒 美國 總統 拜登 祭出 旅遊 禁令 法國 第三 封城 傳染力 變種 病毒 擴散 一向 控制 良好 台灣 出現 升溫 千計 民眾 居家 隔離 辦公 展覽等 需求 看增 包括 宏碁 金像電 概念股 商機 在望 新冠 肺炎 冬季 再度 活躍 筆電 需求 暢旺 兩岸 供應鏈 緊急 啟動 應變 機制 農曆 春節 留守 人數 明顯 高於 往年 台股 筆電 伺服器 概念股 包括 宏碁', '台股 電子股 回神 領軍 日線美股 企業 財報 優於 預期 電動車 題材 續攻 台股 早盤 以上 開出 隨後 電子 族群 回神 台積電 鴻海 權值股 穩盤 午盤 站上 高檔 賣壓 出籠 影響 台股 日線 復失 預估 成交量 觀察 權值股 表現 權王 台積電 經過 休息 力守 紅盤 鴻海 持續 受惠 電動車 題材 漲幅 接近 大立光 相對 弱勢 維持 平盤 震盪 聯發科 早盤 再度 挑戰 元大關 漲幅 接近 台塑四寶 表現 不俗 盤面', '焦點股 上班 商機 宏碁 飆漲 停逾 高掛全球 疫情 降溫 跡象 國內外 大型 企業 陸續 要求 員工 上班 再度 掀起 商機 品牌 大廠 宏碁 爆量 強勢 登上 漲停 站回 所有 均線 高掛 此外 華碩 微星 代工廠 緯創 廣達 獲得 買盤 青睞 防疫 國際 大廠 臉書 推特 微軟 陸續 實施 措施 國內 企業 相當 緊張 疫情 產線 鴻海 日前 啟動 網格 分流 上班 桃園 跨區 員工 調整 地廠區 台積電 要求 出入 部桃', '鴻家軍 撐盤 台股 多空 交戰 點收 日線 復失美股 周二 全面 收黑 台股 歷經 連日 修正 早盤 回神 權值股 台積電 持續 弱勢 筆電 鴻家 設計 族群 買氣 熱絡 指數 多空 拉鋸 數度 翻黑 最後 爆出 大量 漲勢 迅速 收斂 終場 上漲 日線 得而 復失 成交值 縮至 美股 財報 登場 科技 巨頭 陸續 發布 財報 市場 偏向 觀望 台積電 周二 持續 下挫 台積電 近來 外資 大砍 超過 今日 多空 交戰 股價 走勢 震盪', '電腦 設備 宏碁 掀爆 漲停 法人 看好 今年時報 台北電 概念股 反彈 宏碁 一早 股價 開高 走高 隨即 亮燈 漲停 攻上 來到 高點 直至 收盤 爆出 買單 高掛 國內外 疫情 持續 緊繃 遠距 工作 教學 需求 加速 增溫 帶動 周邊 設備 訂單 不斷 湧進 電腦 周邊 設備 產業 再度 成為 市場 投資人 焦點 宏碁 包括 華碩 微星 技嘉 相關 英業達 緯創 廣達 和碩 股價 全面 翻紅 法人 預期 品牌廠 目前 處於', '電腦 設備 殖息率 護體 緯創 走路時報 記者 任珮云 台北 報導 緯創 殖息率 加持 股價 收盤 大漲 百分點 法人 緯創 淨利 年增 假設 配息率 潛在 配息 以今 收盤價 元計 殖利率 收息 投資人 而言 息前 逢低 布局 法人 分析 緯創 伺服器 客戶 主要 品牌 客戶 網通 客戶 雖然 目前 品牌 客戶 企業 資本 支出 下滑 較為 保守 緯創 打入 客戶 產品 供貨 比重 提升 可望 營收 雙位數 成長 其次', '外資 投信 電子 經濟 電動車 概念股 追捧外資 日期 現貨 同步 做空 資金 電子 族群 輪動 鴻海 組裝 代工廠 此外 經濟 相關 以及 明基 友達 集團 友達 佳世達 以及 電動車 題材 廣宇 同樣 外資 投信 青睞 法人 合計 賣超 外資 昨天 狂砍 台股 今天 期貨 空單 增加 口至 投信 轉為 自營商 外資 今日 買宅 經濟 概念股 以及 下游 組裝 代工廠 包含 宏碁 緯創 和碩 英業達', '標的 緯創 牛皮發文 詳閱 標的 分類 發文 規範 規範 發文 處份 發標 充實 內文 多空 理由 充實 板規 處份 退場 機制 若非 長期 投資 輸入 停損價 否則 板規 處份 長期 投資 充份 分析 理由 板規 處份 格式 輸入 內容 格式 板規 砍文 處份 分類 選填 請益 退場 機制 刪去 刪除 以上 內容 標的 緯創 分類 分析 正文 去年 第四 參考 至少', '轉單 旗艦 助攻 鴻海 首季 業績 新高中央社 記者 鍾榮峰 台北 日電 法人 指出 鴻海 部分 訂單 同業 轉移 過來 加上 旗艦 機種 出貨 續看 鴻海 今年 業績 可望 歷年 新高 展望 鴻海 營運 表現 外資 法人 指出 去年 鴻海 營收 表現 優於 同業 以及 緯創 顯示 蘋果 旗艦 機種 出貨 優於 其他 因而 帶動 主要 組裝 代工 夥伴 鴻海 營收 表現 此外 法人 指出 和碩 集團 中國 上海 昌碩 勞資 糾紛 以及 印度廠 暴動 事件 部分', '台北 股市 存股 雙十 權重 報酬 指數 新增 光寶科時報 台北電 台灣 指數 公司 公布 台灣 指數 公司 雙十 權重 報酬 指數 成分股 定期 審核 結果 成分股 新增 光寶科 刪除 台化 成分股 納入 刪除 變動 生效 成分股 納入 包括 光寶科 聯強 廣達 可成 長榮 萬海 中壽 國泰金 緯創 大聯大 成分股 刪除 包括 台化 和泰車 國巨 南亞科 華新科 元大金 兆豐金 中信金 統一 健鼎 新聞 來源 工商 即時 呂淑美', '特斯拉 電動車 首當其衝 印度 預算案 調高 進口稅新聞 記者 李彥瑾 報導 知情 人士 透露 印度政府 即將 公佈 財政 年度 預算案 有意 智慧型 手機 電子 零件 家電 商品 進口 關稅 提高 藉此 強化 本土 製造業 發展 加速 推行 印度 總理 莫迪 印度 製造 政策 路透社 報導 其中 消息 人士 由於 武漢 肺炎 疫情 導致 經濟 大幅 放緩 印度 政府 需要 更多 財源 予以 支應 因此 擴大 稅率 下手 目標 增加 盧比 美元 額外 稅收 政府', '林憲銘 緯創 推動 數位 轉型 注重 面向中央社 記者 吳家豪 台北 日電 緯創 印度廠 暴動 董事長 林憲銘 今天 出席 數位力 年會 首度 露臉 表示 緯創 持續 推動 數位 轉型 注重 技術 組織 人才 面向 因此 面對 過去 國際 局勢 變化 能力 因應 林憲銘 今天 出席 緯創 旗下 育成 品牌 緯育 舉辦 數位力 年會 數位 轉型 數位 競爭力 主題 進行 演講 林憲銘 緯創 營運 體質 管理 翻轉 高科技 產業 方法 改變', '企業 數位 轉型 浪潮 緯創 林憲銘 重點緯創 旗下 數位 教育 平台 緯育 舉辦 年會 緯創 董事長 林憲銘 出席 活動 表示 數位 轉型 現代 企業 不得 面臨 選擇 認為 企業 數位 轉型 方向 重點 需要 關注 包含 掌握 技術 科技 組織 結構 調整 人才 林憲銘 表示 台灣 全球 唯一 可以 舉辦 實體 活動 地方 除了 政府 防疫 措施 得宜 背後 數位 能力 關鍵 緯創 數位 轉型 台灣 董事 總經理 簡立峰 啟發 林憲銘 進一步 指出 緯創 營運 翻轉 內部', '遠傳 企業 數位 轉型 要點 用戶 逼近遠傳 總經理 井琪今 針對 企業 數位 轉型 提出 主軸 包括 人才 組織 文化 加上 全體 員工 須要 心力 推動 企業 轉型 戶數 方面 井琪 提到 電信 用戶 去年 突破 百萬 遠傳 近期 逼近 緯創 旗下 數位 教育 平台 緯育 今日 舉辦 年會 井琪以 啟動 數位 育大 人物 人才 主題 進行 分享 針對 企業 轉型 方面 井琪 提出 人才 組織 文化 主軸 表示 人才 首要 條件 人才 能力 必須 解決 企業 問題', '熱門 族群 檔官股 券商 護盤時報 台北電 美國 總統 拜登上 任日 傳出 川粉 暴動 加上 國內 疫情 擴大 再度 發生 本土 案例 外資 多重 利空 衝擊 台股 急跌 以上 最後 官股 券商 積極 逢低 買超 台積電 群創 檔權值 護盤 買超 拉加 重回 關卡 台股 盤中 摜破 來到 大跌 最後 險守 關卡 官股 券商 居功厥偉 逢低 買超 創下 單日 買超 大舉鎖', '外資 大買 友達 台積電法 前夕台股 台積電 領軍 衝鋒 大漲 續寫 收盤 新高 外資 買賣股 不同調 現貨 友達 買超 敲進 聯電 不過 長榮 台積電法 前夕 外資 持續 調節 賣超 法人 方面 外資 狂買 投信 賣超 自營商 買超 法人 買超 期貨 方面 外資 加碼 空單 空單 未平倉 口數 增至 投信 回補 空單 空單 未平 倉口數 降至', '新聞 搭上 特斯拉 順風車 元大 電動車原文 連結 原文 內容 搭上 特斯拉 順風車 元大 電動車 爆量 元大 證券 發行 元大 電動車 搭上 特斯拉 強漲 有譜 順風車 掛牌 上市 交易 熱絡 掛牌 天量 收在 交易日 累計 漲幅 元大 證券 分析 全球 正在 加速 四化 進程 電動 智能 聯化 電動化 基礎 預期 今年 全球 能源 乘用車 銷量 年增 開啟 全球 浪潮 加上 減碳 綠色', '新聞 日本 科技 公司 分散 中國 供應日本 科技 公司 分散 中國 供應 關注 勞動 工作 準則 原文 連結 原文 內容 根據 日本 共同社 調查 發現 日本政府 承認 擁有 安全 相關 敏感 技術 以上 日本 公司 正在 轉移 製造 基地 來自 中國 零組件 供應 來源 以使 供應 多樣化 減少 日本 公司 中國 依賴 減輕 安全 風險 舉措 為了 中美 技術 甚至 經貿 議題 日益 激烈 競爭 以及 新型 冠狀 病毒 流行 引發 醫療 用品 短缺 情況 集中 製造 產生', '心得 實現 損益 分享雖然 只是 虛擬單 但是 看到 波動 還是 非常 心驚 膽戰 記得 今年 開始 時候 景氣 不錯 農曆年 籌碼 幾乎 打光 然後 幾乎 滿倉 過年 大過年 除夕 發燒 初三 然後 世界 休市 地方 暴跌 果真 台股 開市 一片 亂殺 籌碼 淨值 雲霄 飛車式 一直 下跌 判斷 一些 時間 景氣 不會 回轉 砍掉 股價 不會 快速 回彈 群創 華邦 智茂 台化 實現 還是 接近 撞毀 特斯拉 本業 大概 一直 以來 堅信 價值型 投資 任何', '科技 伺服器業 明年 營收時報 台北電 市調 機構 表示 超大型 資料中心 高效能 運算 高密度 機櫃 儲存 網通 產品 需求 增加 今年 台灣 伺服器 營收 超過 兆元 年增 北美 中國 超大型 資料中心 持續 擴張 台灣 伺服器 業者 營收 可望 今年 增加 超大型 資料中心 企業 市場 伺服器 需求 經過 高速 成長 下半年 企業 市場 需求 放緩 原先 市場 預期 今年 伺服器 需求 恐怕 持續 走弱 然而 疫情 工作 娛樂 教學 轉往 發展 加速 帶動 超大型', '早報 台股 封關 倒數 股價 歷史 新高開盤日 出刊 電動車 帶來 想像 法人 看好 惠股 台股 封關 倒數 股價 歷史 新高 內資 看好 明年 發展 估立積 至少 股本 平均 國際 股市 道瓊 指數 漲跌 幅度 作收 指數 漲跌 幅度 作收 上證 指數 漲跌 幅度 作收 台股 籌碼 變化 外資 投信 自營 融資 餘額 融券 餘額 法人 買賣 超前 外資 投信 自營商 聯發科 南亞科 聯電', '金融 元大 電動車時報 記者 莊丙農 台北 報導 元大 電動車 上市 交易 熱絡 統計 交易日 漲幅 元大 證券 指出 只要 新台幣 幾千 掌握 台灣 電動車 產業 概念股 搶先 投資 未來 重點 產業 提供 投資人 精準 投資 選擇 元大 電動車 連結 標的 台灣 指數 公司 財團 法人 車輛 合作 編制 特選 台灣 電動車 代表 報酬 指數 篩選 台灣 股市 電動車 產業 供應商 精選 符合 流動性 市值 篩選 個股 作為 成分股', '標的 緯創標的 緯創 分類 心得 分析 正文 原本 畫出 碗公 一路 結果 遇到 利空 直接 殺到 但是 投信 一直 外資 從頭 尾無腦賣 去年 股利 好歹 殖利率 要是 投信 股票 利空 利空 京元電 結果 今天 重返 均線 技術線 加持 一發 不能 沒有 理由 進退場 機制 損抓 支撐 理論 應該 不會 停利 轉空', '新聞 元大 電動車 搶搭原文 連結 原文 內容 元大 電動車 搶搭 特快車 元大 電動車 上市 交易 熱絡 統計 交易 漲幅 特色 在於 投資 數千 掌握 臺灣 電動車 產業 概念股 投資 重點 產業 搶搭 特斯拉 商機 全球 正在 加速 四化 進程 電動 智能 網聯 共享 其中 電動化 基礎 全球 能源 乘用車 銷量 增長 開啟 全球化 浪潮 加上 減碳 綠色 產業 復甦 推波助瀾 造成 電動車', '科技 台廠 式微 紅色 蘋果 陣容 擴大時報 台北電 和碩 緯創 傳掉 之後 陸資 蘋果 供應鏈 逆向 持續 壯大 立訊 關係 緊密 宣德 美律 近日 相繼 宣布 台灣 中小 公司 宣德 透過 收購 台橋 投資 入主 台翰 美律 認購 興能 轉換 公司 立訊 為首 山頭 持續 擴大 陣容 蘋果 供應鏈 勢力 彼長 可見 一斑 蘋果 供應鏈 易主 今年 金屬 機殼 大廠 可成 出售 大陸 泰州廠 開出 第一 可成 美元 天價 出售 大陸 可勝 可利 股權 藍思 玻璃 承接 廠房 訂單 員工 儘管 可成', '緯穎 攜手 瓦特 先生 明年 台北總部 使用 綠電緯創 旗下 雲端 伺服器廠 緯穎 宣布 售電 業者 瓦特 先生 完成 綠電 採購 合約 簽署 緯穎 成為 電業法 修法 台灣 資訊 服務 業者 透過 再生 能源 購電 合約 直接 售電 業者 購買 綠電 緯穎 預期 明年 台北 總部 能源 來自 綠電 緯穎 表示 隨著 超大型 資料 中心 客戶 宣示 未來 數年 達到 中和 使用 再生 能源 目標 緯穎 計畫 營運 出發 逐步 推動 節能 減碳 工作 今年 開始 規劃 綠電 採購 近期 公布 揭露 專案', '要聞 廣達 點名 印度 生產時報 台北電 廣達 印度 設廠 蘋果 生產 根據 印度 媒體 報導 蘋果 有意 更多 產品 產線 落腳 印度 相關 代工廠 包括 大陸 立訊 比亞迪 台灣 廣達 印度 設廠 計畫 進入 最後 定案 階段 廣達 表示 目前 台灣 中國 以外 製造 據點 泰國 其他 地點 評估 一直 沒有 具體 結論 緯創 印度 新廠 破壞 畫面 震驚 全球 雖然 調查 發現 緯創 新廠 近來 產線 作業員 增加 太多 薪資 計算 系統 早已 超過 負荷 故障', '今日 焦點 新聞 避險 台股 沖強 強滾時報 今日 焦點 新聞 國內 頭條 餘額 新高 活期 存款 暴增 台股 工商時報 台股 封關 成會 工商時報 失業率 工商時報 被動 元件 價潮 工商 時報 走出 谷底 力麗 力鵬 賺錢 工商時報 行政 命令 過關 萊豬 罷免 公投戰 開打 中國時報 避險 當道 台股 沖強 強滾 經濟日報 面板 超旺 雙虎 春節 不休假 經濟日報 台積電 訂單 排擠 效應 高通 回歸 難度 電子 時報 緯創', '個人 研究 觀察 記錄 鴻海 分析 宏碁 轉型鴻海 重回 兵器譜 排名 第一 大盤 台積電 鴻海 籌碼面 詳見 圖一 今天 高盛 繼續 強攻 大小 摩玩 擋吃 瑞士 信貸 今天 加入 行列 目前 外資群 方向 愈來愈 一致 近期 緯創 砸廠 和碩 抗議 廣達 算是 助攻 蘋果 高階 手機 頻頻 傳出 捷報 目前 外資群 開始 吃到 大筆 籌碼 原因 就是 散戶 覺得 鴻海 花板 所以 看到 接下來 外資群 一直 星期五 權保 股權 散戶 人數 大減 大家 不用 驚訝 美商 高盛 鴻海 瑞士 信貸', '新聞 緯創 印度廠 爆發 暴動 事件 蘋果 暫緩笑死 下面 六成 跌停 哈哈 看到 尤其 笑到 手機 弄到 證明 股板 股票 穩死 指標 記得 三四月 長空 現在 人身 何處 知道 跑到 國外 避難 時候 推爆 超多 被害 哈哈哈哈', '新聞 緯創 印度廠 損失 億台幣緯創 印度廠 損失 億台幣 原文 連結 原文 內容 國際中心 游雅嵐 報導 台灣 科技 巨擘 緯創 資通 印度 南部 廠房 發生 暴動 包括 生產 資訊 設備 砸毀 甚至 數千 偷走 主因為 抗議 薪資 問題 了解 緯創 損失 金額 高達 億盧比 大約 新台幣 緯創 蘋果 手機 組裝 大廠 位於 卡納塔卡省 柯拉爾縣 薩普爾 工業 園區 廠房 日遭 工人 圍廠 抗議 指控 薪資 不斷 調降 最後 演變', '新聞 緯創 印度廠 蘋果 調查 是否 違反 供應商發文 提醒 發文 詳閱 新聞 分類 發文 規範 規範 發文 處份 連結 善用 網址 連結 點擊 板規 處份 心得 評論 盡量 充實 濫竽 充數 行文 規範 水桶 處份 刪除 以上 內容 原文 連結 原文 內容 緯創 印度廠 蘋果 調查 違反 供應商 規定 中央社 新德里 綜合 外電 報導 蘋果 公司 調查 台灣 代工廠 緯創 設在 附近 生產 暴徒 毀損 工廠 違反供', '印度 可能 取代 中國 成為 世界 製造中心緯創 旗下 位於 工廠 周末 發生 暴動 逮捕 印度時報 報導 暴動 估計 緯創 損失 億盧比 億台幣 報導 緯創 當地 警方 表示 損失 來自 數千 以及 產線 工廠 設備 破壞 緯創 今日 表示 公司 查證 目前 無法 回應 由於 緯創 事件 客戶 主要 蘋果 據悉 蘋果 態度 備受 關注 不過 目前 同樣 計劃 投資 印度 和碩 鴻海 目前 投資 印度 相關 計畫 不變 印度 扶不起', '印度 可能 取代 中國 成為 世界 製造中心新聞 薪水 減到 什麼 薪水 超級 可能 派遣 公司 問題 問題 偉創 公司 責任 消息 人士 印度時報 透露 暴動 薪資 問題 員工 不滿 緯創 按照 合約 支付 薪資 緯創 承諾 支付 工程系 畢業生 月薪 盧比 新台幣 後來 砍到 盧比 新台幣 減至 盧比 新台幣 工程系 畢業生 月薪 盧比 新台幣 甚至 員工 收到', '跟到 聯電 灰心 機會筆電 便宜 考慮 需求 一下 筆電 看到 印象 明年 重點 應該 復甦 產業 挖礦 需求 機板 電腦 不用 機版 就是 電腦 電腦 主機板 看到 特幣 想到 筆電 代表 代工 受到 影響 仁寶 所以 最近 宏碁 緯穎 還是 一樣 緯創 印度廠 出事 剛好 說到 伺服器 想到', '緯創 印度 驚傳 暴動薪水 直接 發給 勞工 不會 出事', '緯創 印度 驚傳 暴動日本 印度 發展 知識 經濟 一直 輸給 中韓台 問題 一直 死握 血統 姻親 統治 利益', '緯創 印度 驚傳 暴動長期 勞資 糾紛 員工 肚子火 產線 生產 效率 良率 絕對 大幅 下降 發生 異常 產品 品質 穩定 難怪 印度廠 長期 虧損 如果 查明 長期 勞資 糾紛 存在 台灣 緯創 總部 應該 印度廠 負責 台幹 減資 降級 考績 處分 印度 大學生 月薪 一萬 台幣 大陸 台灣 便宜 太多 難怪 台商 急著 印度 設廠', '台股 半導體 庫存 調整 疑慮 緯創 印度廠 破壞 今日 重要 財經 新聞台股 重點 包括 半導體 庫存 調整 疑慮 升溫 緯創 印度廠 破壞 此外 央行 打炒 銀行 轉攻 自住 客房 市場 以下 重要 財經 新聞 備貨 預期 心理 大於 實質 需求 半導體 庫存 調整 疑慮 升溫 晶圓 代工 需求 暢旺 產能 供不 應求 產能 吃緊 引發 半導體 庫存 調整 疑慮 升溫 業者 認為 市場 多少 出現 重複 超額 下單 情況 業者 認為 目前 下游 廠商 備貨 預期 心理 大於 實質 需求 明年 第一 可能 出現 庫存 調整', '台北 股市 永續 指數 納上 臻鼎時報 台北 富時 羅素 公布 富時 國際 合編 臺灣 永續 指數 成分股 審核 結果 成分股 調整 收盤 生效 納入 成分股 上銀 臻鼎 長榮 台玻 智邦 中鋼 長榮航 臺灣 指數 公布 臺韓 資訊 科技 指數 成分股 定期 審核 結果 成分股 納入 臺灣 證交所 掛牌 股票 微星 南亞科 欣興 緯創 群創 韓國 證交所 掛牌 股票 臺韓 成分股 刪除 新聞 來源 工商時報 記者 呂淑', '電腦 設備 緯創 印度廠 暴動 訂單 變數時報 台北 蘋果 代工廠 創資 位於 印度 工業區 新廠 發生 暴動 產線 停擺 尚未 復工 緯創 發出 聲明 指出 事業 外界 不明 人士 闖入 進行 破壞 儘快 進行 復原 復工 由於 重要 生產 設備 存貨 倉庫 遭損 加上 其於 印度 其它 廠房 中國 昆山廠 因應 手機 產能 預估 暴動 事件 緯創 手機 營運 影響 有限 緯創 表示 意外 肇因 外界 不明 人士 闖入 廠區 造成 意圖 不明 破壞 公司 保障 職員 工作 權益', '今日 焦點 新聞 台積 周四 除息 內資 狂買時報 今日 焦點 新聞 國內 頭條 缺櫃 貨櫃 船運 周周漲 工商時報 壽險 狂吸金 金管會 縮手 工商時報 央行 售屋 周增 工商時報 供應鏈 缺口 擴大 面板 價續揚 工商時報 緯創 印度廠 暴動 訂單 變數 工商時報 沒有 局外人 網路 戒嚴 中國時報 台積 周四 除息 內資 狂買 經濟日報 鴻海 結盟 國巨 啟動 大拉貨 經濟日報 台積 薪資 挖角 人才 台灣 進入 量子 時代 電子 時報 產能 遭排擠', '早報 買氣 外資 投信 同步開盤 出刊 台積電 元股利 除息 市場 期待 填息 買氣強 外資 投信 同步 買超 仁寶 國巨 上榜 電子 帶動 需求 轉強 台廠 受惠 轉單 效應 平均 國際 股市 道瓊 指數 漲跌 幅度 作收 指數 漲跌 幅度 作收 上證 指數 漲跌 幅度 作收 台股 籌碼 變化 外資 投信 自營 融資 餘額 融券 餘額 法人 買賣 超前 外資 投信 自營商 鴻海', '晶圓 雙雄 走低 鴻海 買氣 分析師 台股 有望 高檔 震盪美股 周五 道瓊 收紅 台股 小幅 開低 指數 隨後 出現 下壓 不過 打到 日線 出現 買單 拉抬 翻紅 匯市 方面 新台幣 續升逾 晶圓 雙雄 走低 台積電 跌約 聯電 跌逾 聯發科 呈現 小跌 小漲 大立光 平盤 震盪 鴻海 相對 強勢 漲約 焦點股 日廠 跳電 停工 面板 供應鏈 缺口 擴大 群創 友達 彩晶 上漲 鴻家軍 台揚 天鈺 鎖上 漲停 貨櫃 船運 漲價 題材 不斷 長榮 陽明 回神 富鼎漲停 印度', '緯創 訂單 變數 印度廠 暴動 印媒 蘋果 調查蘋果 手機 組裝 大廠 緯創 位於 工廠 日前 傳出 暴動 廠區 不明 人士 攻擊 消息 引起 各界 高度 關注 印度 媒體 指出 蘋果 一直 以來 嚴格 處理 違反 供應商 行為 準則 代工 製造商 如今 緯創 調查 蘋果 動向 值得 留意 緯創 位於 印度 南部 廠房 發生 暴動 公司 指控 不斷 調降 按時 支付 薪資 進而 引起 員工 不滿 砸廠 緯創 發表 聲明 強調 意外 肇因 外界 不明 人士 闖入 廠區 造成 意圖 不明', '緯穎 受惠 資料中心 支出 回溫 日系 外資中央社 記者 吳家豪 台北 日電 日系 外資 首度 伺服器 代工廠 緯穎 納入 追蹤 個股 看好 持續 受惠 超大型 資料中心 資本 支出 回溫 主要 客戶 訂單 續揚 給予 優於 大盤 評等 目標價 緯穎 股價 今天 上漲 開出 早盤 高點 來到 漲幅 成交量 日系 外資 發布 研究 報告 表示 緯穎 全球 伺服器 代工廠 營收 規模 次於 廣達 今年 經過 超大型 資料 中心 客戶 調整 庫存 緯穎 營收 可望 成長 展望', '台北 股市 台韓 資訊 科技 指數 成分股 台股 新增時報 台北電 公布 台韓 資訊 科技 指數 成分股 定期 審核 結果 成分股 納入 其中 掛牌 股票 微星 南亞科 欣興 緯創 群創 另外 韓國 證券交易所 掛牌 股票 台韓 成分股 刪除 新聞 來源 工商 即時 呂淑美', '外資 砸近 金融股 聯電 華邦電 土洋 對作台股 金融股 接棒 撐盤 台積電 尾盤 攻下 終場 驚險 小漲 收在 成交量 法人 外資 買超 金融股 加碼 半導體 聯電 華邦電 不過 投信 反手 股票 列賣 法人 投信 買方 外資 自營商 法人 合計 外資 金融股 開發金 居冠 元大金 中信金 富邦金', '熱門 族群 拉貨 力道 英業達 緯創 營收時報 台北電 受惠 品牌 客戶 拉貨 力道 強勁 代工 大廠 英業達 緯創 營收 雙雙 繳出 年增 成績 英業 年增 緯創 年增 股價 獲得 激勵 英業達 股價 終場 上漲 緯創 股價 終場 上漲 法人 分析 英業達 營收 小幅 月減 年增 主要 受到 缺料 平台 轉換期 影響 營收 出現 衰退 預期 第四 筆電 伺服器 出貨 第三季 走緩 英業達 筆電 出貨 緯創 營收 月增', '友達 可以宏碁 零件 材料 不會 拿去 改買 零件廠 友達 股票 股票 業外 收益 電腦 還好 廣達 鴻海 業外 收益 宏碁 法人 代表 彭錦彬 長期 友達 獨董 宏碁 加碼 投資 友達 左邊 彭錦彬 中間 黃少華 左邊 現任 緯創 董事長 林憲銘 宏碁 董事長 王振堂 友達 董事長 李焜耀', '掃瞄 基本面 華邦電 營收 季增 五成 亞德客 傳產 千金時報 掃瞄 基本面 交易日 新台幣 元兌 美元 收市 升值 成交值 美元 集中 市場 融資 增為 融券 增為 集中 市場 營商 投信 買超 外資 買超 華邦電 營收 季增 五成 返年 月雙 成長 軌道 晶電 月營 收創 新高 晶圓 代工 吃緊 明年 看漲 宏碁 營收 增逾 四成 英業達 緯創 筆電 出貨 衝鋒 缺艙 汽車 零件 營運 好傷 法德藥 營收 歷史次', '熱門 族群 台股 造山 運動 條好漢 集結時報 編輯 葉時安 綜合 報導 周三 台股 開低 走揚 震盪 高達 紀錄 入囊 中物 台股 造山 運動 停歇 呈現 見關 現象 甩開 股市 壟罩 美國 總統 大選 不確性 美國 迎接 主人 冠疫苗 接連 傳出 消息 台積電 高峰 延綿 台股 新頁 台積電 元關 邁進 大盤 萬四 萬四 寫盤 收盤 新高點 分別', '緯穎 為何 跌跌不休廣達子 公司 一樣 產品 現在 鴻海 全力 伺服器 生意 緯創 鴻海 訂單 戲碼 如今 換成 搶食 伺服器 訂單 臉書 開心 以後 可以 越來越 便宜 產品', '你們 以為 半導體 漲完 結束開始 仁寶 鴻海 和碩 緯創 通通動 起來 大神機 妙算', '產業 拼圖 完成 明年 百花齊放時報 台北 台灣 醫療科技展 閉幕 生策會 會長 翁啟惠 表示 今年 通訊 結合 生技 正式 開花 結果 檢測 顯示器 智慧 醫療 產品 看到 預期 隨著 醫院 加入 醫療 試驗 場域 建構 拼圖 完成 明年 百花 齊放 榮景 機會 世界盃 成為 科技 大廠 醫療院 火拚 戰場 醫療科技展 今年 不僅 廣達 緯創 友達 群創 仁寶 佳世達 華碩 研華 中強光電 廠商 參展 包括 廣達電腦 集團 董事長 林百里', '公告 緯創 參加 美林 證券 舉辦 電話 說明會公司 名稱 緯創 緯創 參加 美林 證券 舉辦 電話 說明會 發言人 石慶堂 符合 條款 第四 事實 發生日 召開 法人 說明會 日期 召開 法人 說明會 時間 召開 法人 說明會 地點 電話 會議 法人 說明會 訊息 公司 參加 美林 證券 舉辦 電話 說明會 說明 公司 業務 簡介 現況 說明 其他 敘明 事項 完整 財務 業務 資訊 公開 資訊 觀測站 法人 說明會 一覽表 法說會 項目', '產業 世代 重要 產業 賴清德 台灣 生技 優勢時報 台北 副總統 賴清德 國家 創獎 表示 生技 一世代 重要 產業 台灣 具備 完善 臨床 試驗 系統 健保 制度 豐沛 研發 能量 人體 生物 資料 庫和 優勢 適合 發展 生技 產業 預期 結合 前進 國際 打出 台灣 品牌 第十七 國家 創獎 得主 出爐 正式 頒獎 即使 今年 新冠 肺炎 疫情 衝擊 產品 參賽 去年 成長 其中 項目 評審團 青睞 醫療 贏家 得獎 項目', '外資 大砍 聯電 台積電中央社 記者 張建中 台北 日電 台股 尾盤 權值股 爆量 摜壓 指數 重挫 成交值 歷史 天量 法人 外資 聯電 台積電 指數 編纂 公司 明晟 年度 調整 結果 今天 收盤 生效 台股 全球 新興 市場 指數 亞洲 日本 指數 全球 市場 指數 權重 分別 調降 引發 台股 尾盤 爆量 急殺 走勢 台股 最後 成交值 新台幣 指數 摜壓 超過 終場 指數 收在 跌幅 失守', '台北 股市 電子 大咖 取消 尾牙時報 台北 避免 大型 尾牙 導致 群聚 感染 台灣 大型 電子 下游 代工 業者 尾牙 取消 仁寶 第一 廣達 日和碩 鴻海 宣布 大型 集團 尾牙 目前 電子 下游 大廠 英業達 沒有 正式 決定 尾牙 不辦 台灣 大型 電子 下游 代工 業者 農曆年 集團 尾牙 景氣 定調 重要 場合 不過 仁寶 月初 率先 宣布 為了 防疫 今年 仁寶 集團 舉辦 集團 大型 尾牙 雖然 台灣 沒有 本土 疫情 然而 近來 台灣 幾乎', '產業 緯創 軟硬 整合 改變 世界時報 台北 平靜 肺炎 美中 貿易 戰未歇 因素 產業 增添 不確定性 企業 開始 思考 下一步 怎麼 今年 緯創 集團 投資 台灣 新創 美元 寫下 台灣 產業 軟硬 整合 佳話 共同 創辦人 執行長 程世嘉 表示 今年 疫情 帶來 巨變 成熟 產業 聚焦 挖掘 策略 機會 透過 軟硬 碰撞 交會 除了 市場 產業 環境 蓬勃 發展 帶有 個人 台灣 情感 台灣 人才 家鄉 改變 世界', '電腦 設備 緯創 交大 合體 孵育 新創 金雞時報 台北電 緯創 近年 傾全 集團 結合 旗下 包括 伺服器 供應商 緯穎 科技 網通廠 啟碁 科技 技術 能量 聚焦 創造 產業 優勢 交大 合作 成立 緯創 交大 嵌入式 研究 中心 智慧 交通 運輸到 後續 智慧 醫療 智慧 製造 領域 練兵 進一步 孵育 關鍵 技術 新創 金雞 緯創 技術 黃俊東 表示 緯創 幾年 持續 透過 面向 提升 軟實力 強化 集團 產業 優勢 目前 逐步 端出 成效 投入 研發 關鍵 技術 加速 建構', '在線 企業 網通 設備 採購 可望 逐步 恢復新聞 記者 許曉嘉 報導 疫情 造成 全球 經濟 步伐 大亂 產業 異軍 突起 逆勢 受惠 載浮載沉 網通 設備 推進 設備 規格 升級 產品 世代 交替 之外 因為 工作 遠距 教學 娛樂 線上 交流 經濟 需求 帶動 造成 網路 寬頻 設備 相關 訂單 急增 隨著 疫苗 問世 治療 藥物 眉目 業界 預期 沉寂 企業 網通 設備 標案 採購 需求 可望於 逐漸 復甦 台灣 網通廠 商像 交換器 大廠 智邦 啟碁', '印度 刻意 推遲 製品 進口 小米 智慧錶新聞 記者 郭妍希 報導 印度 中國 電子 產品 嚴格 品質 控管 據傳 拖慢 蘋果 新款 機種 進口 速度 小米 企業 生產 產品 直接 遭到 延遲 通關 路透社 獨家 引述 業界 消息 報導 品管 機構 印度 標準局 遞交 申請書 通常 天內 處理 完畢 現在 部分 花上 事實 自從 中印 邊境 爆發 衝突 奪走 印度 士兵 性命 開始 推遲 中國 電子 裝置 例如 智慧型 手機 智慧 手錶 筆電 審核', '新聞 力積電 興櫃 未來 每年 配息原文 連結 原文 內容 力晶集團 旗下 力積電 舉行 股東 臨時會 董事長 黃崇仁 親自 主持 正式 宣布 正式 登錄 興櫃 明年 銅鑼廠 動土 興建 未來 每年 配息 黃崇仁 表示 經過 努力 創下 台灣 證券史 奇蹟 當初 力晶 下市 之後 脫胎 換骨 今年 登錄 興櫃 經過 之後 申請 上市 國內 明年 銅鑼廠 動土 黃崇仁 先前 表示 面板 驅動 電源 管理 需求 暢旺 帶動 晶圓 代工 嚴重', '新聞 台企 紛紛 撤出 中國 為何 近年 台商 投資 中國 金額 經濟學台企 紛紛 撤出 中國 為何 近年 台商 投資 中國 金額 經濟學人 點出 因素 原文 連結 原文 內容 蔡娪嫣 富士康 位於 中國 廣東 深圳 工廠 中國 開放 台灣 投資 鴻海 富士康 深圳 建立 第一 台企 中國 工廠 開啟 台商 西進 淘金 風潮 台灣 成為 中國 外國 投資 來源 中國 外商 投資量 來自 台灣 然而 近年 隨著 兩岸 關係 改變 市場 環境 惡化 台企 逐漸 撤離 中國 投資 樂園', '經濟 學人 因素 台企 中國 黃金 時代 復返中央社 中國 昆山 綜合 外電 報導 英國 經濟學人 雜誌 報導 隨著 西方 中國 崛起 更加 警覺 北京 似乎 以往 渴望 強化 兩岸 商業 聯結 理由 造成 台灣 企業 中國 蓬勃 發展 黃金 時代 復返 中國 政府 為了 吸引 台商 年間 推出 條和 優惠 措施 今年 頒布 部門 連署 協助 企業 命令 台商 獲得 大陸 企業 相同 待遇 報導 指出 北京 至今 種種 努力 成效 有限 以來 每年', '緯創 攜手 交大 成立 嵌入式 人工 智慧 研究中心中央社 記者 吳家豪 台北 日電 代工廠 緯創 今天 宣布 交通大學 電機學院 合作 成立 嵌入式 人工 智慧 研究中心 貢獻 緯創 智慧 交通 專案 未來 中心 潛力 項目 時間 達到 準備 有助 縮短 新創 事業 準備期 緯創 技術長 黃俊東 出席 合作 記者會 表示 緯創 集團 近期 傾力 發展 人工 智慧 技術 因為 轉型 世代 必須 今天 展示 相關 應用 緯創 緯穎 啟碁 擁有 專業 技術 包括 智慧 製造 智慧 交通', '緯創 攜手 交大 瞄準 商機 成立 嵌入式 人工 智慧 研究中心代工廠 緯創 宣布 合作 成立 嵌入式 人工 智慧 研究中心 結合 緯創 緯穎 啟碁 集團 針對 智慧 交通 智慧 運輸 智能 技術 應用 展現 整合 嵌入式 技術 緯創 技術 黃俊東 表示 緯創 集團 瞄準 未來 產業 優勢 緯創 智慧 交通 智慧 製造 領域 進展 融合 緯穎 硬體 軟體 架構 邊緣 運算 伺服器 加上 啟碁 蜂巢式車 聯網 設備 可望 強化 能量 黃俊東 進一步 指出 緯創 集團 智慧 交通 應用', '車廠 找上 台灣 特斯拉 供應 台廠 告白 付出 慘痛 代價 中國 訂單撰文 周刊 編輯 團隊 下旬 終於 宣布 特斯拉 納入 成分股 股價 一陣 目眩 神迷 新高 同時 意味著 吸引 粉絲 崇拜 目光 特斯拉 神話 即將 結束 此後 全球 大型 基金 被迫 買進 特斯拉 走下 神壇 接受 法人 機構 現實 市場 評價 面對 工藝 車廠 急起直 甚至於 至今 債信 評等 停留 垃圾債 等級 困境 試煉 儘管 台廠 供應鏈 特斯拉 可能 隨時 變動 市場 地位 中國 市場 隱藏 地雷呆帳', '台灣 蘋果 供應商 加快 印度 布局 和碩 租地 蓋廠中央社 記者 康世人 新德里 專電 蘋果 台灣 供應商 加快 印度 布局 腳步 其中 和碩 進軍 印度 計劃 短道 超車 清奈 承租 土地 土地 準備 緯創 鴻海 興建 第二 中美 貿易戰 全球 供應鏈 冠狀 病毒 疾病 武漢 肺炎 疫情 重組 情況 蘋果 台灣 供應鏈 客戶 要求 台灣 供應商 一些 產能 轉移到 中國 之外 鴻海 緯創 印度 設廠 蘋果 第二 供應商 和碩 聯合科技 日前 批准', '電子 代工廠 因應 防疫 和碩 取消 大型 尾牙 活動防疫 考量 代工 大廠 仁寶 廣達 相繼 宣布 取消 大型 尾牙 活動 和碩 日也 證實 取消 今年度 大型 尾牙 活動 部門 舉辦 小型 尾牙 了解 英業達 傾向 舉辦 旺年會 緯創 表示 大型 餐宴 活動 調整 部門 自行 舉辦 和碩 證實 降低 群聚 風險 公司 內部 日前 公告 取消 大型 尾牙 活動 部門 舉辦 小型 尾牙 緯創 回應 今年 大型 餐宴 活動 進行 調整 公司 提供 費給 部門 自行 舉辦 小型 尾牙 摸彩 活動 保留', '抗中 印度 延遲 中國 進口 電子 商品 品管驗證中央社 記者 康世人 新德里 專電 印度 產業界 消息 人士 透露 擴大 經濟 中國 脫鉤 印度標準局 延後 核發 中國 進口 智慧型 手機 筆記型 電腦 電子 產品 管驗證 許可 減緩 這些 商品 進口 速度 今日 印度 印度 媒體 報導 產業界 人士 透露 印度 標準局 嚴格 控制 中國 進口 電子 產品品 管驗證 許可 核發 速度 導致 蘋果 中國 品牌 智慧型 手機 筆記型 電腦 智慧 手錶 電子 產品 進口速度 延遲 業界人', '美國 大局 台股 即將 新高其實 還是 基期股 如果 保守 差價 但是 股價 活潑 緯創 英業達 台灣高鐵 基期 他們 現在 位置 金融股', '美國 大局 台股 即將 新高武肺 疫苗 付訂金 採購量 起跳 疫苗 已經 到手 明年 第一季 可以 開始 施打 如果 資金 偏存 性質 就是 比較 保守派 推薦 緯創 英業達 你們 可以 注意 你們 反查 一下 殖利率 現在 價算 分批 買進 放到 明年 應該 最少 一成 收益', '公告 積電 董事 變動 三分之一 以上公司 名稱 積電 積電 董事 變動 三分之一 以上 發言人 譚仲民 發生 變動 日期 舊任 姓名 簡歷 董事 有限 公司 代表人 王其國 力晶 積成 電子 製造 股份 限公司 董事 董事 限公司 代表人 朱憲國 力晶 積成 電子 製造 股份 有限公司 董事 董事 智成 電子 代表人 吳元雄 力晶 積成 電子 製造 董事 董事 智特股份 限公司 代表人 謝明霖 力晶 積成 電子', '力積電股 臨會 補選 獨董 林憲銘 吳重雨 入列力晶集團 旗下 力積電 召開 股東 臨時會 通過 補選 獨立 董事 包括 緯創 董事長 林憲銘 交大 校長 聯發科 現任 獨董 吳重雨 宏達電 手機 事業 總經理 張嘉臨 力積電 正式 登錄 興櫃 明年 申請 上市 加速 重返 資本 市場 腳步 配合 申請 興櫃 股票 掛牌 規劃 力積電 今日 股東 臨時會 提請 補選 董事 包括 獨立 董事 董事 任期 今日 力積電 股東 臨時會 通過 前進 智能 創辦人', '緯穎 為何 跌跌不休最近 利多 新聞 不斷 緯創 集團 旗下 伺服器 代工 大廠 緯穎 臉書 微軟 亞馬遜 雲端 大咖 客戶 齊聲 催貨 產能 應求 公司 透露 目前 每天 客戶 法人 看好 客戶 齊聲 催貨 挹注 緯穎 營收 續寫 新猷 營收 季增率 可望 衝上 二成 傲視 同業 儘管 市場 對下 半年 伺服器 市況 展望 頻傳 雜音 緯穎 第三季 營運 交出 三率 成績 同時 包括 單季 營業 淨利 稅前 淨利 稅後 淨利 盈餘 數字 創下 歷年 單季', '金融 億上膛 政府 基金 敲定 代操時報 台北 看好 明年 行情 勞動 基金 運用局 火速 完成 遴選 公告 辦理 勞退 基金 勞保 基金 國保 基金 年度 國內 投資 委託 經營 業務 評選 結果 安聯 保德信 野村 國泰 統一 富邦 復華等 投信 公司 取得 簽約 資格 預計 近日 簽約 撥款 受到 關注 勞退 勞保 基金 委託 投信 代操 投資 標的 臺灣 指數 公司 臺灣 上市 上櫃 企業 社會 責任 中小型股 報酬 指數 編製 為限 臺灣', '聯盟 立案 社團 法人 推動 人才 以致中央社 記者 吳家豪 台北 日電 國內 首見 企業 主動 發起 學用 接軌 聯盟 今年 立案 成為 社團 法人 今天 舉辦 立案 記者會 宣布 代工廠 緯創 副董事長 黃柏漙 接任 理事長 友達光電 仁寶 電腦 緯創 資通 家企業 出資 百萬 推動 社團 正式 立案 邁向 永續 經營 緯創 集團 旗下 緯育 統籌 實習 培訓 運營 力成 科技 規劃 推動 教育 發展 事務 微星 科技 負責 聯盟 對外 宣傳 推廣 科技 投入 公關 事務 推動 黃柏漙 表示', '緯創 必要 適當 外移 中國 產能 避免 政治 風險中央社 記者 吳家豪 台北 日電 代工廠 緯創 副董事長 黃柏漙 今天 表示 緯創 還是 維持 明年 中國 產能 目標 因為 必要 透過 適當 外移 避免 政治 風險 黃柏漙 今天 出席 學用 接軌 聯盟 立案 記者會 媒體 關注 美國 總統 大選 台灣 廠商 如何 布局 因應 美中 貿易戰 黃柏漙 緯創 目前 布局 依照 美國 現任 總統 川普 政策 美國 總統 當選人 拜登會 調整 多少 現在 曉得 緯創會 思考 目前 方式 是否 先前 緯創 提出', '熱門 族群 英業達 緯創 營收 年增率 雙衰時報 記者 任珮云 台北 報導 英業達 緯創 相繼 公布 營收 公司 營收 增率 去年 衰退 英業達 營收 緯創 緯創 營收 增來 成長 英業達 營收 緯創 表示 出貨 增加 伺服器 出貨 成長 桌機 螢幕 顯示器 展望 第四季 出貨 可望 優於 伺服器 持平 緯創 全球 布局 持續 中國 地區 設立 新廠 目前', '其他 外資 買賣 排行代號 名稱 成交價 長榮 國喬 旺宏 正隆 中石化 敬鵬 景碩 台聚 中纖 智易 中興電 工信 益航 和桐 盛群 台達電 力麗 東和 鋼鐵 國產 華夏 英業達 東森 穩懋 京城銀 正文 華新科 長興 和鑫 中鴻 瑞儀 國巨 嘉聯益 頎邦 中環 精成 達欣工 台中銀 華新 飛宏 中租 康舒 晶技 中美晶 中華電 晶豪科 揚智 宏全 達方 代號 名稱 成交價 聯電 彩晶', '半導體 劉德音 台積 神化 要素時報 台北電 國際 情勢 日益 緊繃 全球 晶圓 代工 龍頭 台積電 不僅 本業 獲利 新高 重要 產業 地位 認為 台灣 護國神山 矽屏障 台積電 董事長 劉德音 指出 台積電 之所以 成為 現在 台積電 其實 要素 工研院 剛剛 舉辦 今年 院士 會議 新科 院士 劉德音 院士 會議 指出 台積電 成功 要素 首先 必須 創造 商業 模式 其次 必須 運用 台灣 優勢 例如 台灣 工程師 品質 即為 優勢 第三 世界 市場', '電腦 設備 事業 緯創 明年 成長時報 台北 緯創 近年 積極 布局 事業 版圖 鴨子 划水 逐步 端出 成果 除了 鎖定 智慧 醫療 緯創 醫學 科技 聚焦 服務 數位 轉型 緯謙 科技 搶攻 雲端 數位 教育 平台 緯育 快速 成長 內部 訂下 營收 翻倍 成長 高標 緯創 副董 事業 總經理 黃柏漙 表示 緯育 避開 地雷 市場 直接 市面 企業 既有 培訓 課程 數位 雲端 方面 捨棄 一般 企業 在職 訓練 課程 緯育 自行 規畫 找來 專業 領域 師資 針對 領域 設計', '新聞 美中 科技 冷戰 揭幕 供應鏈 轉移 現在 進行式原文 連結 原文 內容 科技 科技 供應鏈 決心 分散 製造 路透 美中 科技 戰戰火 升溫 美國 嘗試 中國 踢出 全球 科技 供應 美國 中國 企業 接連 制裁 導致 科技 供應商 部分 製造 移出 中國 日經 亞洲 評論 報導 美國 接連 制裁 如今 供應商 謹慎 態度 過去 川普 政府 加速 中國 企業 納入 名單 今年 新增 超過 中企 組織 新加坡 研究機構 研究員 表示 華盛頓 科技 供應鏈 武器', '其他 外資 買賣代號 名稱 外資 欣興 台積電 欣陸 京元電子 開發金 宏碁 景碩 長榮 矽統 廣達 華邦電 金像電 台新金 華通 國巨 工信 台達電 第一 冠德 友訊 南電 緯創 誠美材 中信金 健策 鴻海 中鋼 健鼎 聯發科 皇冠 鑽石 聯陽 台塑 中租 新唐 興富發 光洋科 上海 商銀 精成科 天鈺 金寶 合一 東和 鋼鐵 光罩 鎧勝 長興 聯詠 毅嘉 和桐 和碩 代號 名稱 外資', '個人 研究 觀察 記錄 鴻海 分析 宏碁 轉型電動車 倒是 期待 大別 悲觀 覺得 劉董 沒有 電動車 發展 程度 應該 不會 拿出來 展示 拭目以待 鴻海 以前 短線 已經 好幾 當初 短線 大不了 套利息 後來 實際 操作 很多 價差 賺錢 但是 蠅頭 小利 其中 判斷 錯誤 套到 領利息 意外 發現 利息 自己 操作 獲利 後來 開始 思考 躺著 領利息 殺進 殺出 效率 索性 鴻海', '科技 疫情 炒熱 雲端 伺服器 發燙時報 台北電 受惠 新冠 肺炎 疫情 加速 企業 推動 數位化 雲端 應用 需求 市調 單位 預期 今年 全球 伺服器 出貨量 去年 大幅 彈升 估計 逐年 增溫 複合 成長 疫情 今年 全球 帶來 遠距辦公 線上 教學 電子 商務 需求 大幅 增溫 加速 企業 雲端 步調 市調 單位 指出 部分 遠距 活動 商務 需求 增長 未來 成為 常態 包括 亞馬遜 旗下 微軟 谷歌 甲骨文 這些 大型 公有', '代工 營收 廣達 英業 達創 歷史 次高中央社 記者 江明晏 台北 日電 代工 哥廣達 緯創 仁寶 和碩 英業達 營收 出爐 筆記型 電腦 伺服器 產品 需求 暢旺 廣達 英業達 營收 歷史次 紀錄 廣達 電腦 公告 合併 營收 新台幣 累計 合併 營收 廣達 以來 單月 營收 維持 千億 水準 營收 今年 新高 寫下 單月 歷史 紀錄 廣達 看好 經濟 趨勢 持續 成為 常態 發展 樂觀 態度 看好 需求', '統一 證券 晨訊 台積電 大漲 台股 有望 挑戰 萬三日期 盤勢 分析 台積電 大漲 指數 挑戰 萬三 昨日 盤勢 美股 反彈 激勵 台股 週二 平盤 開出 盤面 主流 電子 領軍 聯電 半導體 設備 族群 族群 走勢 傳產 汽車 零組件 小塑 族群 台聚 華夏 達化 表現 台股 整日 盤勢 呈現 逐漸 緩步 墊高 收中 紅棒 終場 指數 上漲 作收 成交 量能 觀察 盤面 變化 電子 傳產 分別 上漲 金融 下跌 在次 族群 部份 生技 醫療 造紙 橡膠', '等等 蘋概股 台積電 先行 萬三中央社 記者 韓婷婷 台北 日電 蘋果 新機 新品 發表 沒有 現身 亮點 聚焦 台積電 奈米 晶片 激勵 台積電 大漲 台積電 今天 早盤 勁揚 開出 帶動 台股 指數 開高 百點 萬三 關卡 蘋果公司 今天 年度 產品 發表 沒有 公布 新款 果粉 失望 主要 新品 整合 蘋果 雲端 付費 服務 第一 採用 奈米 晶片 蘋果 產品 成為 亮點 視為 台積電 利多 台積電 大漲 連帶 聯電 上漲 月光', '熱門 族群 明年 選股 外資 點名 聯發科 聯電時報 記者 王逸芯 台北 報導 亞系 外資 出爐 報告 表示 科技 類股 可以 關注 電動車 族群 點名 看好 聯發科 聯電 鴻海 宏碁 個股 亞系 外資 表示 建議 聚焦 明年 能見度 題材 以及 獲利 成長 題材股 看好 電動車 族群 相對 看好 記憶體 數據中心 大陸 智慧機 產業 台股 點名 看好 聯電 聯發科 鴻海 宏碁 致茂 上銀 廣達 個股 相對 看好 台股 個股 包含 和碩 可成 緯創 聯詠 京元電 個股', '台積電 衝鋒 台股 觸及 萬三 點收 收盤 新高蘋果 秋季 發表 帶動 美股 指數 收漲 台股 台積電 大漲 拉抬 強勢 叩關 萬三 大關 聯電 聯發科 半導體股 人氣 爆棚 適逢 台指期 結算 尾盤 出現 大量 終場 指數 上漲 收盤 歷史 新高 成交值 放大 雖然 蘋果 發表 沒有 出現 新款 採用 奈米 晶片 蘋果 產品 激勵 台積電 周二 收漲 行情 帶動 台積電 今日 大漲 收在 歷史 高價 其他 蘋概股 如穩懋 玉晶光 臻鼎', '新聞 台股 站上 月線 外資 這些 推升 指數台股 站上 月線 外資 這些 推升 指數 記者 陳柔蓁 台北 報導 新台幣 強升 助攻 推動 台股 今天 開高 走高 終場 相對 高點 成交值 新台幣 台幣 今日 再現 強勁 走勢 新台幣 美元 台北 外匯 市場 開出 觸及 價位 法人 合計 買超 新台幣 營商 買超 投信 賣超 陸資 買超 外資 買超 名為 長榮 元大台灣', '友達 可以晶電 統計 台灣 廠區 產能 轉換成 相當於 集團 總產能 產能 完成 切換 終極 目標 台灣 廠區 產能 進行 轉換 明年 第一季 可望 達陣 大陸 廠區 目前 需求量 增加 一點 產能 產能 主力 鎖定 台灣 目前 主要 背光 模組 搭配 面板 使用 晶電 集中 台灣 生產 可能 為了 保密 防諜 降緩 技術 方盜 速度 也許 可能 面板 貨源 台灣 晶電 台灣 生產 晶粒 台灣 直接 結合 台廠 面板 出貨', '金融 友嘉集團 總裁 朱志洋 台灣 上市櫃 公司 協會 理事長時報 台北 台灣 上市櫃公司 產值 七成 台灣 上市櫃公司 協會 理事會 友嘉集團 總裁 朱志洋 接任 第三 台灣 上市櫃公司 協會 理事長 目標 會員 數從 增加 依據 不同 主題 針對 台灣 上市 上櫃 家企業 選拔 傑出 企業 家獎 舉辦 女力 論壇 社團 負責人 研討會 朱志洋 今日 中午 行政院長 蘇貞昌 監交 卸任 理事長 台達電子 副總裁 蔡榮騰 手中 接下 台灣 上市櫃 公司 協會 理事長 印信 副理事長 大聯大 投資', '元大 下市 機會 外資 逃命 殺盤 自營商 逆勢台股 終場 上漲 收復 月線 法人 合計 買超 其中 外資 值得 留意 元大 原油 下市 機會 外資 今天 逃命 殺盤 賣超 營商 持續 買合計達 外資 買超 呈現 投信 持續 賣超 營商 終止 今天 買超 法人 合計 買超 外資 買超 長榮 元大 台灣 買超 宏碁 元大 滬深 獲買', '其他 九月 權息 說會 行事曆權息 法說會 行事曆 周報 台達電法 說會 友達法 說會 環球 經法 說會 聯電 說會 仁寶 法說會 廣達法 說會 緯創法 說會 美德醫 權息 中興電 權息 創意法 說會 詳細 行事曆 下面 檢附 頁鍵 翻頁 閱讀 幫手 手機 使用 模式 資料 來源 公開 資訊 權息 代號 名稱 類別 配股率 增配 認購 股利 現價 殖利率 台光電 偉全', '新聞 打到 伺服器 鴻海 搶走 緯穎 大單原文 連結 原文 內容 鴻海 集團 強攻 毛利 伺服器 業務 傳出 緯創集團 旗下 緯穎手 搶下 微軟 伺服 代工 大單 引爆 伺服器 代工 搶單 大戰 時值 伺服器 市場 進入 庫存 調整期 鴻海集團 強勢 進攻 相關 領域 震撼 業界 鴻海 緯創 先前 蘋果 訂單 競逐 激烈 儘管 目前 代工 鴻海 獨大 緯創 攜手 紅色 供應鏈 指標廠 立訊 爭取 更多 訂單 鴻海 威脅 程度 擴大 隨著 鴻海 緯穎 搶走 微軟 伺服器 代工 大單 意味 鴻海 緯創 大集', '鴻海 搶下 微軟 伺服器 代工 訂單 緯穎 股價 重挫中央社 記者 蔡芃敏 台北 日電 媒體 報導 鴻海 集團 強攻 毛利 伺服器 業務 傳出 緯創 集團 旗下 緯穎 搶下 微軟 伺服器 代工 大單 消息 影響 緯穎 股價 今天 開低 走低 跌勢 擴大 跌幅 經濟日報 報導 鴻海集團 加強 布局 伺服器 鴻海 內部 更下 軍令 今年 全力 衝刺 伺服器 業務 傳出 鴻海 緯穎 搶下 微軟 伺服器 代工 大單 鴻海 緯穎 訂單 爭奪戰 延伸 伺服器 領域 觀察 微軟 伺服器 主要 代工廠 包含 英業達', '緯軟 客戶 需求 法人 看好 明年 營運 重返 成長中央社 記者 吳家豪 台北 投顧法人 表示 資訊 服務商 緯創 軟體 復工 今年 營運 衰退 幅度 縮小 客戶 資訊 服務 需求 預期 今年 下半年 營運 回溫 營運 重返 成長 投顧法人 分析 今年 上半年 受到 武漢 肺炎 冠狀 病毒 疾病 衝擊 緯軟 營收 年減 主因 中國 大陸 地區 營收 年減 展望 下半年 緯軟 復工率 緯軟 看好 金融業 電信業 數位 金融 應用 需求 今年 下半年 營收 上半 成長 以上', '公告 緯創 參加 瑞士 信貸 舉辦 電話 說明會公司 名稱 緯創 緯創 參加 瑞士 信貸 舉辦 電話 說明會 發言人 石慶堂 符合 條款 第四 事實 發生日 召開 法人 說明會 日期 召開 法人 說明 時間 召開 法人 說明會 地點 電話 會議 法人 說明會 訊息 公司 參加 瑞士 信貸 舉辦 電話 說明會 說明 公司 業務 簡介 現況 說明 其他 敘明 事項 完整 財務 業務 資訊 公開 資訊 觀測站 法人 說明會 一覽表 法說會', '外資 大買 富邦 避險 意味 面板 雙虎 外資 不同台股 美股 拖累 終場 下跌 成交值 法人 大賣 台股 其中 外資 大舉 買進 避險 富邦 不過 外資 面板 雙虎不同調 外資 合計 減碼 投信 持續 加碼 法人 投信 買方 外資 營商 同步 賣超 法人 總計 買超 期貨 方面 外資 淨多 單口數 增加 倉口數 升至 外資 超過 買進 富邦 避險 意味 位居 買超', '晚報 權王 震盪 面板 雙虎 助守開盤日 出刊 今日 盤面 特色 美國 就業 人數 公布 值僅 高於 前值 低於 市場 預期 股市 帶來 壓力 受到 美元 走揚 加於 刺激 法案 美國 達成 共識 並且 議院 預期 下週 完成 刺激 法案 制定 激勵 指數 終場 收紅 漲幅 介於 其中 費半 走勢 雖然 非農 不如 預期 金價 帶來 支撐 受到 褐皮書 揭示 經濟 活動 增加 加上 經濟 刺激 法案 出現 實質 進展 現貨 黃金 終場 收跌', '友達 可以粗估 友達 全球 托拉斯 官司 大概 百多億 另外 律師 費和 高層 苦牢 安家費 也許 花掉 幾十億 太陽能 大概 賠掉 百多億 虧錢 大洞 裝不下 千多 宏碁集團 幾百億 平常心 當年 明碁 李焜耀 跑去 收購 德國 西門子 手機 部門 明碁 賠掉 幾百億 宏碁集團 很多 投資 賠錢 宏碁 早期 美國 電腦 業務 網路 泡沫 事業 賠掉 幾百億 當時 總經理 林憲銘 緯創董', '友達 可以最近 交易日 外資 累計 買超 群創 買超 友達 萬多 明顯 大小眼 昨天 美銀 美林 今天 趕緊 回補 一些 很多 內資 跑去 外資 劵商 開戶 外資 避稅 群創 借劵 賣出 融劵 尚未 回補 多方 外資 拚命 一直 大量 借劵 達到 壓力 滿足 回補 空單 外資 抬轎 空方 小心 雙虎 公布 營收 數字 通常 營收 當年度 高峰 營收 數字 明顯 放大 今年 可能 一峰', '金融 政府 護盤 銀彈時報 台北 台股 活水 源源不絕 勞動部 勞動 基金 運用局 公告 第二 辦理 國內 投資 相對 報酬 新制 制勞 國保 基金 委託 招標 金額 共計 連同 退撫 國保 尚未 核撥 基金 動用 政府 基金 銀彈 估計 超過 由於 台股 加權 指數位 萬二 高檔 政府 代操 基金 核撥 速度 緩慢 第一 辦理 招標案 決標 並未 核撥 其他 勞退 環境 社會 公司 治理 相對 報酬 決標 代操 部位', '焦點 新高 法人 台股 震盪 量縮 為宜中央社 記者 鍾榮峰 台北 日電 美股 那斯達克 指數 新高 台股 大跌 失守 月線 法人 表示 主要 季度 調整 短線 比重 提高 易助漲助跌 台股 短線 震盪 回測 點整數 關卡 量縮 為宜 美股 今天 紅黑 交錯 科技股 上漲 推升 那斯達克 指數 新高 道瓊 工業 指數 回檔 道瓊 指數 大跌 作收 標準 普爾 指數 小跌 收在 那斯達克 指數 漲升 台股 加權股 指數 大跌', '大昌 投顧 晨訊 台股料 震盪 整理 萬三 關卡日期 大盤 分析 加權 指數價 跌量增 跌破 短期 均線 顯示 盤勢 多頭 較為 不利 萬三 明顯 關卡 行情 持續 震盪 整理 季度 調整 生效 尾盤 爆量 權值股 普騙 走弱 資金 轉往 概念股 航運股 低價 筆電 相關 族群 操作 突破 高點 表示 後市 看好 建議 持股 續抱 加碼 買進 跌破 表示 行情 可能 回測 季線 建議 指數 平量 所有 均線 之上 顯示 多空', '券商晨訊 台股 投資 組合 建議券商 推薦 友達 群創 廣達 仁寶 和碩 英業達 緯創 健鼎 華通 矽創 聯發科 世紀鋼 上緯 永冠 長榮 陽明 中鴻 燁輝 盛餘 新光鋼 正隆 榮成 券商 推薦 大昌 投顧 友達 群創 廣達 仁寶 和碩 英業達 緯創 金控 健鼎 華通 矽創 統一 證券 聯發科 世紀鋼 永冠 長榮 陽明 中鴻 燁輝 盛餘 新光鋼 正隆 榮成', '筆電 需求 續強 法人 估代 工廠 出貨 年增中央社 記者 吳家豪 台北 日電 投顧 法人 指出 今年 筆電 需求 維持 強勁 台灣 筆電 代工廠 包括 廣達 仁寶 和碩 英業達 緯創 出貨 年增 投顧 法人 分析 台灣 筆電 代工廠 今年 上半年 出貨量 年增約 全球 筆電 出貨 年增 優於 先前 預期 主因 疫情 爆發 推升 居家 辦公 遠距 學習 需求 多數 代工廠 近期 筆電 需求 預估 季減 上修 季增 走勢 動能 主要 來自 其中 零組件 料源 出貨 成長 關鍵 法人', '經濟 捷克 參議長 韋德齊 簽署時報 記者 沈培華 台北 報導 捷克參議院 議長 韋德齊 出席 經濟部 主辦 臺灣 捷克經貿 投資 論壇 國發會 主委 龔明鑫 經濟部 部長 王美花 共同 見證 亞洲 捷克 以及 捷臺商會 數位 時代 媒體集團 分別 簽署 合作 備忘錄 標誌 臺捷 雙方 智慧 城市 智慧 機械 以及 新創 社群 緊密 合作 里程 國發會 表示 韋德齊 議長 率團 實際 行動 表達 臺灣 支持', '外資 個股外資 累計 股票 彩晶 華航 中信金 聯電 華通 外資 累計 賣超 股票 華航 中信金 彩晶 合庫金 元大 滬深 外資 累計 賣超 股票 華航 彩晶 中信金 元大 滬深 緯創 外資 累計 賣超 股票 華航 元大 滬深 中信金 彩晶 新光金 外資 當日 股票 中信金 華航 元大 滬深 聯電 彩晶', '傳產 需求 工業 地產 燒燙時報 記者 郭鴻慧 台北 報導 半導體 物流 產業 升級 需求 力拱 今年 工業 地產 交易 總金額 去年 增加 去年 全年 記錄 買氣 暢旺 其中 廠房 部分 翻倍 成長 目前 為止 交易 去年 同期 成長 瑞普萊坊 總經理 劉美華 分析 中美 貿易 角力 疫情 因素 促成 半導體 產業 升級 物流 需求 力拱 工業 地產 投資 成為 席捲 不動產 市場 主力 劉美華 強調 近期 緯創 大陸 崑山廠', '瑞普萊坊 標脫 勝華 楊梅廠 今年 工業 地產 交易 第三製造業 加速 布局 刺激 外資 台商 加速 投資 台灣 工業 地產 截至 交易 金額 超過 瑞普萊坊 去年 今年 順利 標脫 勝華 科技 楊梅廠 土地 台中 工業區 廠房 動產 動產 設備 營業稅 標脫 楊梅幼獅 擴大 工業區 廠房 今年 工業 地產 交易 金額 第三 瑞普萊坊 總經理 劉美華 表示 勝華 科技 全球 第二 觸控 面板廠 蘋果 重要 觸控 面板 供應商 法院 申請 重整 獲准 瑞普萊坊 取得 資產', '惠普 戴爾 看旺 筆電 需求 組裝 代工廠 下半年 營運 喊衝個人 電腦 品牌 大廠 惠普 戴爾 公告 上季 財報 受惠 疫情 帶動 遠距 商機 需求 消費型 筆電 顯著 成長 激勵 財報 預期 展望 品牌 看好 筆電 需求 維持 高檔 有助 廣達 仁寶 緯創 英業達 營運動能 惠普 個人 電腦 部門 上季 營收 年增 其中 筆電 營收 年增 近年 增幅 執行長 表示 雖然 市場 面臨 不確定性 受惠 遠端 學習 工作 需求 個人 筆電 需求 大增 過去 家庭 個人 電腦 工作 學習 需求 現在 幾乎', '外資 個股外資 累計 股票 中信金 國泰 永續 股息 彩晶 華航 富邦 外資 累計 賣超 股票 彩晶 華航 中信金 華通 金像電 外資 累計 股票 華航 彩晶 中信金 金像電 工信 外資 累計 股票 華航 彩晶 中信金 緯創 華通 外資 當日 賣超 股票 華航 富邦 元大 滬深 金像電 燿華', '貿易戰 停歇 供應 系統 全球 趨勢中央社 記者 鍾榮峰 吳家豪 台北 日電 美中 貿易戰 升級 帶動 產業 環境 變化 台灣 供應鏈 被迫 接招 鴻海 和碩 緯創 指標 大廠 早已 啟動 因應 中國 重要 市場 生產 環境 業界 觀察 全球 演變出 美國 中國 供應鏈 系統 區域 製造 未來 可能 再度 盛行 美中 貿易 戰火 持續 升溫 美國 台協會 處長 酈英傑 日前 公開 場合 提到 美國 政府 希望 供應鏈 重組 方面 台灣 合作 酈英傑 席話 牽動 台廠 布局 策略 敏感 神經', '標的 緯創股版 大神 午安 推薦 緯創 小弟 今天 早上 獲利 賣出 五萬多 外資 一直 投信 好像 頂不住 跟到 恭喜 賺錢 繼續 尋找 目標', '新聞 疫情 加速 供應 重組 台商 把握 時機 全球 在地 美國 鼓勵原文 連結 原文 內容 李玟儀 台北 新冠 病毒 疫情 意識到 供應鏈 過度 仰賴 單一 國家 風險 尋求 建立 全球 在地 台灣 科技 製造業 此時 美國 國家 努力 重組 供應鏈 關鍵 夥伴 美國 協會 處長 酈英傑 台灣 併購 私募 股權 協會 主辦 論壇 許多 台灣 公司 美國 其他 印太 區域 理念 相近 經濟體 建立 夥伴 關係 一同 打造 未來 世代 供應鏈 方面 台灣 公司 可以 成為 世界 其他', '營收 可成 何去 何從獻給 可成 愛好 前陣子 緯創 中國 昆山 組裝廠 賣給 立訊 輪到 機殼 大廠 可成 宣布 中國 泰州 工廠 賣給 中國 保護 玻璃 大廠 藍思 科技 為什麼 大家 擠破 打進 主要 供應鏈 蘋果 近期 二連三 出現 賣廠 情況 其實 關鍵 第一 蘋果 毛利 真的 亮眼 蘋果 業務 營收 完全 大量 訂單 起來 第二 蘋果 不再 以前 這麼 主流 銷量 逐年 走下坡 趨勢 第三 如果 真的 轉型 吊子', '台北 股市 投信 狂敲 加碼時報 台北電 台股 近日 呈現 高檔 震盪 投信 交易 合計 賣超 投信 逆勢 逢低 加碼 開發金 仁寶 個股 出現 買超 期間 買超 進買 力道 相當 強勁 投信 內資 法人 中多頭急 先鋒 主要 國內 投資人 大舉 資金 投入 基金 帶動 投信 大舉 買盤 湧入 股市 統計 投信 月月 買超 買超 單月 買超 金額 合計 買超', '和碩 併鎧勝 外資 重申 持有 中立 評等中央社 記者 吳家豪 台北 日電 代工廠 整併 旗下 金屬 機殼廠 鎧勝 今天 股價 雙雙 大漲 外資 重申 和碩 持有 中立 評等 外資 維持 劣於 大盤 評等 重申 加碼 評等 目標價 和碩 今天 股價 來到 漲幅 成交量 超過 鎧勝 股價 跳空 開高 直奔 漲停 成交量 日系 外資 發布 研究 報告 表示 和碩 新台幣 收購 鎧勝 普通股 理解 併購案 策略性 考量 對和', '在線 教育 市場 帶勁 供應鏈 能見度 年底新聞 記者 張以忠 報導 全球 肺炎 疫情 擴散 之下 居家 工作 教學 帶動 拉貨 需求 到達 高峰 隨著 疫情 影響 時程 不斷 拉長 拉貨 需求 延續 下半年 教育 市場 標案 主要 成長 動力 其中 需求 最為 顯著 預期 下半年 品牌廠 營運 表現 支撐 供應鏈 指出 疫情 教育 標案 市場 需求 十分 強勁 包括 美國 歐洲 日本 教育 單位 為了 避免 學校 教育 中斷 眼看 疫情 無法 時間 解除 疫苗 沒辦法', '外資 看好 和碩 合併 綜效 買近 調節 金融股台股 終場 漲幅 周線連 收復 日線 成交值 降至 其中 外資 看好 和碩 收購 鎧勝 全數 股權 鎖定 金融 族群 法人 站在 買方 外資 持續 買超 投信 轉為 買超 營商 買超 合計 買超 期貨 方面 外資 口數 增加 未平 倉口數 升至 外資 今日 買超 其他 包括 元大 滬深 彩晶', '標的 緯創 請益標的 緯創 分類 請益 心得 請益 分析 正文 法人 嚇死 股價 走向 死人 法人 買法 應該 火星 結果 除息 之後 廠房 新聞 散戶 逃命 法人 大抄底 到底 什麼 問題 退場 機制 長期 投資者 必須 停損 機制', '友達 可以鴻海 召開 法說會 公司 預估 第三季 營收 季增 個位數 雙位數 董事長 劉揚偉 透露 主要 客戶 新機 上市 時間 遞延 影響 外界 關注 立訊 精密 跨足 代工 董事長 劉揚偉 表示 鴻海 組件 佈局 投入 技術 領先 優勢 客戶 關係 成為 世界 第一 那麼 容易 同業 進入 很多 消息 拭目 以待 劉揚偉 表示 自由 競爭 產業 市場 增加 競爭 對手 自然 只要 良性 競爭 產業 幫助 角度', '個人 研究 觀察 記錄 鴻海 分析 宏碁 轉型大盤 台積電 鴻海 籌碼面 技術面 請見 大盤 部份 今天 外資群 買賣 投信 買賣 自營商 買賣 法人 買賣 台股 收盤 漲跌 月份 以來 全球 經濟 重啟 外資群 買賣 投信 買賣 自營商 買賣 法人 買賣 新春 以來 武漢 肺炎 開始 交易 外資群 買賣 投信 買賣 自營商 買賣 法人 買賣 台積 部份 今天 外資群 買賣 投信 買賣', '掃瞄 基本面 華碩 爆賺 鴻海 獲利 上半時報 掃瞄 基本面 交易日 新台幣 美元 收市 貶值 成交值 美元 集中 市場 融資 增為 融券 減為 集中 市場 營商 投信 外資 華碩 爆賺 樂觀 明年 鴻海 獲利 第三季 不盡 理想 美德醫 上半年 獲利 狂增 熱映 泰博 躍居 生技 獲利王 統一 獲利 下滑 中租 報捷 上半年 股本 關貿 系統 開發 有成 上半年 獲利 年增 京鼎 第二季', '緯軟 調整 產業 布局 估計 下半年 營收 優於 上半年中央社 記者 吳家豪 台北 資訊 服務商 緯創 軟體 營收 逐漸 回溫 淨利 新高 金融 電信業 客戶 貢獻 看好 下半年 營收 優於 上半年 今年 追求 營收 大幅 成長 持續 調整 產業 布局 客戶 今年 部分 專案 延至 完成 驗收 緯軟 合併 營收 新台幣 季增 毛利率 分點 營業 利益率 季增 分點 淨利 季增 歷年 單季 新高 盈餘 上半年 緯軟', '公告 緯創 參加 花旗 環球 證券 舉辦 電話 說明會公司 名稱 緯創 緯創 參加 花旗 環球 證券 舉辦 電話 說明會 發言人 石慶堂 符合 條款 第四 事實 發生日 召開 法人 說明會 日期 召開 法人 說明會 時間 召開 法人 說明會 地點 電話 會議 法人 說明會 訊息 公司 參加 花旗 環球 證券 舉辦 電話 說明會 說明 公司 業務 簡介 現況 說明 其他 敘明 事項 完整 財務 業務 資訊 公開 資訊 觀測站 法人 說明會 覽表', '公告 緯創 參加 美林 證券 舉辦 電話 說明會公司 名稱 緯創 緯創 參加 美林 證券 舉辦 電話 說明會 發言人 石慶堂 符合 條款 第四 事實 發生日 召開 法人 說明會 日期 召開 法人 說明 時間 召開 法人 說明會 地點 電話 會議 法人 說明會 訊息 公司 參加 美林 證券 舉辦 電話 說明會 說明 公司 業務 簡介 現況 說明 其他 敘明 事項 完整 財務 業務 資訊 公開 資訊 觀測站 法人 說明會 一覽表 法說會', '外資 回頭 買超 台股 群益證 台積電 調節 富邦台股 台積電 撐盤 指數 終場 上漲 法人 合買 其中 外資 買超 第一 群益證 其次 台積電 不過 大力 調節 富邦 聯電 法人 外資 陸資 買超 投信 賣超 自營商 期貨 方面 外資 多單 口數 增加 未平倉 合約 口數 外資 今日 集中 市場 買超 依序 群益證 台積電 國泰金 中租 金像電 華碩 長榮航 奇鋐 華邦電 中信金 緯創 今天 外資 集中 市場', '私有 化鎧勝 結盟 緯創 立訊 鴻海 童子賢 消息 屬實近期 市場 傳出 和碩 緯創 中國立訊 結盟 擴大 搶攻 蘋果 訂單 進而 鴻海 競爭 和碩 董事長 童子賢 表示 結盟 消息 屬實 產業 競爭 常態 公司 追求 效率 發展 童子賢 表示 公司 營運 追求 效率 發展 球賽 形容 產業 只要 運動家 風度 球賽 好看 競爭 正常 事情 和碩 宣布 斥資 私有 旗下 機殼廠 鎧勝 打破 市場 傳言 引立 合作 入股 而是 整合', '新聞 和碩 鎧勝 停牌 立訊 無關 進行 內部原文 連結 原文 內容 鴻海 召開 法說會 代工 和碩 旗下 機殼廠 晚間 先後 發布 重大 公司 重大 訊息 公布 證交所 同意 暫停 交易 因此 暫時 停牌 由於 日前 緯創 宣布 大陸 立訊 市場 傳言 女版 郭董 立訊 董座 王來春 收購 台企 鎖定 和碩 集團 旗下 機殼廠 鎧勝 藉由 打造 陸版 鴻海 模式 代工 統包 零組件 獲得 更多 蘋果 訂單 雖然 鎧勝 第一 時間 對外 澄清 市場', '新聞 業績 概念 發酵 外資 押寶 鴻海 緯創 宏碁業績 概念 發酵 外資 押寶 鴻海 緯創 宏碁 記者 陳柔蓁 台北 報導 目前 台股 主流 業績 電子 旺季 到來 外資 押寶電子組 鴻海 緯創 宏碁 外資 買超 緯創 鴻海 宏碁 台股 今天 成交值 新台幣 法人 自營商 投信 外資 陸資 外資 聯電 富邦 元大 台灣 金像電 奇鋐', '看好 緯創今年 全年 應該 股價 應該 以上 伺服器 大單 持續 明年 代工 手機 營收 重要 毛利太', '個人 研究 觀察 記錄 鴻海 分析 宏碁 轉型鴻海 季財報 優於 預期 聽到 眼鏡 碎滿 聲音 知道 有沒有 一樣 聽到 昨天 大家 開出來 獲利 昨天 人民幣 匯率 剩下 營收 只要 去年 一樣 結果 昨天 非常 鴻海 第二季 營利 來到 非常 誇張 為什麼 誇張 昨天 營收 獲利 開出來 衰退 衰退 如果 外資群 一定', '世界 陸企 美國美國 財星 雜誌 公布 世界 企業 排行榜 中國 包括 香港 上榜 企業 家數 達到 首度 超越 美國 稱為 歷史性 跨越 台灣 包括 台積電 企業 上榜 企業 主要 營收 排名 今年 全球 企業 營收 達到 兆美元 創下 歷史 新高 接近 中美 總和 今年 進榜 營收 門檻 美元 提高到 美元 根據 排行榜 美國 零售業 龍頭 沃爾瑪 連續 奪冠 大陸 企業 分別 中國 石化', '蔚來 展望佳 出貨量 緯創 獨家 供應 受惠中國 電動車 大廠 汽車 電動車 出貨 去年 同期 倍增 持續 成長 單季 出貨 台廠 供應鏈 緯創 控制 系統 零件 獨家 供應商 營運 直接 受惠 緯創 近年 跨入 電動車 市場 布局 宣布 砸下 入股 汽車 電子 大廠 宗盈 廣積 合作 布局 電腦 市場 打入 中國 電動車廠 供應鏈 獨家 供應 電子 控制 系統 同時 緯創 股東 緯創 董事長 林憲銘 看好 醫療 電動車 事業 成為', '公告 董事會 決議 緯創 數技 投資 增資公司 名稱 緯創 董事會 決議 緯創 數技 投資 控股 股份 有限 公司 增資 發言人 石慶堂 名稱 性質 特別 股者 標明 特別股 約定 發行 條件 股息率 緯創 數技 投資 控股 股份 有限 公司 普通股 事實 發生 交易 數量 單位 價格 交易 金額 交易 金額 新台幣 交易 相對人 公司 關係 交易 相對人 自然人 公司 關係人者 揭露 姓名 交易 相對人 緯創 數技', '上市櫃 營收 今年 新高時報 台北電 台股 上市 公司 營收 攀升 兆億 今年 新高 月增 年增 其中 新高 家數 新高 家數 法人 指出 蘋果 新機 電子業 旺季 拉貨 效應 業績 可望 攀升 根據 公布 統計 上市 公司 營收 合計 今年 單月 新高 月增 年增 營收 超過 千億 科技 公司 鴻海 廣達 台積電 和碩 年增 幅度 鴻海 廣達 增幅度 分別 台積電 和碩月', '財星 企業 鴻海 排名 台積電 純益率 全球美國 財星 雜誌 周一 公布 世界 企業 排行榜 美國 零售業 龍頭 沃爾瑪 蟬聯 冠軍 台灣 共有 企業 進榜 鴻海 唯一 躋身 公司 排名 晶圓 代工 龍頭 台積電 純益 位居 全球 財星 雜誌 依據 全球 企業 營收 獲利 資產 資產 員工 數等 指標 進行 評比 企業 主要 營收 表現 排名 合計達 美元 歷史 新高 接近 美中 兩國 總和 進入 門檻 美元 提升 美元 台灣', '印度 可能 取代 中國 成為 世界 製造中心問問 三十 東莞 台商 怎麼 當時 中國 現在 印度 多少 當時 雇用 中國 員工 抱怨 連連 今天 看到 城市 白領 態度 世界 只有 中國 工人 螺絲 起子 印度 代工 很多 想像 進步 只是 目前 量體 歐洲 國家 委託 印度 發射 衛星 藥品 製造 已經 重點 印度 保護 代工 客戶 商業 機密 再者 鴻海 緯創 三星 擔心 飯碗 搶走 中國 一直 貶低 印度', '台北 股市 台股 降溫 資金 轉攻 常勝軍時報 台北電 台積電 連續 交易日 上演 漲停 走勢 資金 排擠下 台積電 漲停 打開 多數 波動 劇烈 市場 生技股 重挫 月線 下彎 短線 趨勢 反轉 觀察 法人 趁亂 悄悄 布局 第三 旺季 業績 成長 景碩 日月光 投控 康和證券 投資 總監 廖繼弘 表示 台股 大漲 越過 萬三 之際 指數 季線 乖離 超過 加上 萬三 短線 達到 賣壓 湧現 自然 合理 不過 產業 趨勢 熱門 產業 訂單 表現 仍然 強勁 台股 漲多 修正', '獨家 郭台銘 夢魘 被迫 蘋果 辦公室 立訊 董事長 王來春 剖析 優勢美中 熱戰 廠商 順應 局勢 調整 生產 基地 變動 已經 開始 台商 現在 策略 就是 中國 生產 來自 蘋果 壓力 印度 東南亞 設產能 至於 賣給 中國 市場 產品 交給 立訊 國內 電子業 大老 有感而發 對於 中國 組裝 廠立訊 近期 連番 出手 併購 台灣 蘋果 供應鏈 產能 說出 宏觀 無奈 見解 未來 產業 世界 分成 中國 中國 以外 至少 在事涉 資料 安全 產品 製造', '鴻海 立訊組裝廠 取代性 需要 只是 一點 時間 過去 印度 組裝 低階 現在 開始 生產 高階 機種 蘋果 開始 印度 組裝 生產 降低 中國 產線 依賴 印度 通訊 技術部 部長 近期 說明 蘋果 委任 鴻海 組裝 生產 目前 已經 開始 印度 清奈 工廠 投入 生產 成為 印度 境內 組裝 生產 高階 手機 產品 之前 蘋果 已經 印度 地區 組裝 生產 其中 鴻海 組裝 緯創 代工 組裝 之前 蘋果 印度 組裝 生產 早期 以及 蘋果', '印度 可能 取代 中國 成為 世界 製造中心見血 好狠 新聞 報導 鴻海 緯創 印度 清奈廠 生產 高階 清奈廠 應該 就是 我們 印度 衛生 條件 氣候 高溫 炎熱 台灣人 嬌貴 身體 容易 生病 甚麼 何況 現在 疫情 那麼 嚴重 傳染 我們 台灣人 無法 惡劣 環境 長久 假設 台灣 印度 建廠 台幹 用去 印度 應該 作夢', '熱門 族群 台股 檔法人 搶買時報 台北電 台股 衝上 台股 新高 紀錄 法人 土洋 對作 整體 法人 哪些 股票 聯電 台積電 晶圓 雙雄 同步 登上 漲停 法人 狂敲居功 統計 計有 個股 法人 買超 統計 法人 聯電 台積電 日月光 投控 晶電 超過 國巨 玉山金 緯創 金像電 友達 欣興 微星 宏碁 廣達 買超 聯電', '新聞 達人 爆料 新機 美國 時間 登場原文 連結 原文 內容 達人 爆料 新機 美國 時間 登場 頭殼 郜敏 綜合 報導 發布 萬眾矚目 系列 手機 何時 亮相 根據 達人 爆料 蘋果 美國 時間 舉辦 新品 發表會 正式 推出 手機 值得 注意 系列 可能 分成 梯次 開放 預購 出貨 相隔 果迷 耐心 先前 官網 率先 曝光 手機 外界 新機 有望 如期 亮相 如今 明確 日期 爆料 達人 表示 蘋果', '鴻海 立訊立訊 絕對 肥老鼠 任職於 緯創 認賠 殺出 正確 但是 鴻海 緯創 投資 印度 無法 苟同 當初 前往 印度 應該 配合 蘋果 樣子 如同 投資 越南 一樣 土地 增加 業外 收益', '鴻海 立訊緯創 示範 賣廠 立即 取得 立訊 精密約 億台幣 有價 證券 股數 萬餘 持股 比率', '熱門 族群 盤勢 投信時報 台北電 投信 連續 交易日 買超 集中 市場 合計 扮演 台股 主力 然而 整體 紀錄 不易 以上 買超 絕對 屬於 基本面 個股 統計 開發金 以及 仁寶 個股 不但 獲得 投信 買超 而且 累計 買超 以上 顯示 投信 買盤 十分 積極 統計 投信 集中 市場 以上 買超股計有 進一步 篩選 張數 以上 合計 開發金 仁寶 兆豐金 緯創 大聯大 第一', '外資 大盤 砸近 敲進 台積電台股 加權 指數 寫下 新高 紀錄 台積電 貢獻 漲點 然而 法人 買賣 外資 同調 內資 趁機 獲利 外資 終結 台積電 斥近 法人 認為 台幣 相當 強勢 接下來 外資 買盤 值得 期待 法人 今日 集中 市場 合計 買超 其中 外資 買超 終結 不過 投信 終結 轉為 賣超 自營商 賣超 明顯 外資 對作 外資 今日 買超 標的分', '緯創 賣廠 予立訊 短期 營收 有壓 早盤 重挫 逼近 跌停新聞 立讯 精密 控股 股东 一致行 减持 股份 比例 超过 公告 公告 立訊 股東 减持 人民幣 覺得 接盤 無誤 好處 中國 企業 能力 超強', '緯創 賣廠 予立訊 短期 營收 有壓 早盤 重挫 逼近 跌停賣廠 大事 郭董 知道 現在 大陸 環境 願意 接手 阿米', '印度 可能 取代 中國 成為 世界 製造中心以來 緯創 資通 已經 開始 生產 蘋果 平價 機型 如今 緯創資 班加羅爾 生產 其餘 部分 出口 三星 印度諾伊達 開設 全球 智慧型 手機 工廠 中國 很多 企業 早已 跑去 設廠 結果 這裡 印度 基礎 建設 什麼 蔡英文 推出 南向 政策 一些 無知 一直 不用 南向 他們 基礎 建設 差等 看看 中國 韓國 企業 南向 拼命 卡位 智慧 知道', '今日 焦點 新聞 緯創 入股 紅色 進逼 鴻海 龍頭 地位時報 今日 焦點 新聞 國內 頭條 聯發科 登高 高價 設計股 工商時報 富邦人壽 王朝 酒店 大樓 工商時報 失業率 跌破 工商時報 中美 人民幣 跳水 工商時報 投信 布局 下半年 行情 工商時報 限期 中國 撤休 士頓 總領館 北京 怒批 挑釁 中國時報 緯創 和碩 入股 紅色 進逼 鴻海 龍頭 地位 經濟日報 鴻海 股票 除息 指數 蒸發 經濟日報 仁寶 耕耘 伺服器 有成 戴爾 大單 敲門 電子 時報', '日盛 金控 晨訊 黃金 交叉 短線 有利 多方日期 盤勢 分析 美國政府 斥資 美元 購買 輝瑞和 研發 候選 疫苗 加上 延長 失業 補助 沖淡 關係 急遽 惡化 利空 終場 美股 指數 漲跌幅 介於 其中 道瓊 指數 最為 強勢 台積電 上漲 量價 技術面 量能 指數 上漲 成交量 放大 挑戰 歷史 高點 成交量 必須 放大 均線 下檔 支撐 日線 附近 上檔 壓力 附近 技術 指標 黃金 交叉 短線 有利多方 櫃買 指數 上漲', '券商晨訊 台股 投資 組合 建議券商 推薦 緯創 和碩 華碩 廣達 宜特 永冠 上緯 投控 中鋼構 亞力 華城 中興電 合一 中天 杏國 杏輝 美德醫 恆大 亞諾法 券商 推薦 日盛 金控 緯創 和碩 華碩 廣達 宜特 統一 證券 永冠 上緯 投控 中鋼構 亞力 華城 中興電 合一 中天 杏國 杏輝 美德醫 恆大 亞諾法', '鴻海 除息 影響 指數 早盤 貼息中央社 記者 鍾榮峰 台北 鴻海 今天 交易 配發 新台幣 影響 台股 指數 開盤 參考價 早盤 貼息 走勢 股價 翻紅 填息率 鴻海 早盤 股價 呈現 貼息 走勢 來到 跌幅 市值 來到 隨後 鴻海 跌幅 收斂 翻紅 來到 小漲 填息率 鴻海 配發 現金 股息 現金 配發 總額 高達 估計 鴻海 發行 市值 減少 影響 台股 指數 外資 法人 鴻海張', '緯創 擁抱 紅潮 蘋果 組裝廠 洗牌 分析師 鴻海 傻子儘管 美股 指數 續揚 受到 中美 關係 緊張 台股 高點 今日 回跌 權值股 台積電 大立光 聯發科 國泰金 走弱 台股 失守 匯市 方面 台幣 開盤 不過 隨後 貶轉升 焦點股 台積電 休息 晶圓 二哥聯電 接棒 上攻 飆上 漲停 川普 罕見 終於 民眾 戴上 口罩 口罩股 呈現 上漲 生技 類股 第二 回神 天國一輝 開盤 亮燈 漲停 隨後 杏國 合一 杏輝 鎖住 亞諾法 合世 永昕 美德醫', '緯創 和碩 投資 立訊 牽動 供應鏈 版圖中央社 記者 吳家豪 台北 日電 代工廠 緯創 昨天 公告 取得 中國 組裝廠 立訊 股權 和碩 加碼 投資 立訊 累計 持股 牽動 供應鏈 版圖 重整 短期 影響 台灣 蘋概股 表現 緯創 股價 今天 開出 來到 漲幅 成交量 和碩 股價 開高 走低 盤中 下探 跌幅 成交量 超過 主要 代工廠 鴻海 今天 息交易 平盤 附近 整理 根據 日系 外資 報告 緯創 組裝 代工 市占率 和碩 比約', '紅色 供應鏈 反噬 日媒 台廠 獨攬 代工 歷史 結束台灣 廠商 鴻海 緯創 和碩 一直 壟斷 美國 蘋果 智慧型 手機 生產 然而 日前 中國廠 商立訊 宣布 收購 緯創 中國廠 壟斷 局面 即將 面臨 改變 日經 新聞 報導 早年 中國 優惠 政策 吸引 台廠 前往 設廠 中國 變成 世界 工廠 如今 轉而 策略性 扶植 中企 甚至 台廠 選擇 立訊 共築 戰線 中企 優勢 上風 台廠 代工 領域 壟斷 歷史 宣告 落幕 日經 新聞 指出 半導體 專業 電子 代工 服務 支柱 成長 起來 台灣 高科技 産業 面臨', '其他 電子 台股 亂流 鴻海 填息 行情 陷牛步時報 台北 鴻海 首日 台股 亂流 加上 立訊 打進 供應鏈 搶單 陰霾 罩頂 拖累 鴻海 填息 走勢 陷入 牛步 周四 高價 上漲 來到 息值 換算 填息率 二成 台股 進入 權息 旺季 上市 個股 除息 指數 因而 蒸發 其中 鴻海 指數 蒸發 受到 台股 先天 不良 影響 鴻海 填息 行情 跟隨 大盤 腳步 同步 開低 開盤價 貼息 鴻海 力圖 振作 高價 來到', '鴻海 說會 立訊 搶進 代工 焦點中央社 記者 鍾榮峰 台北 日電 鴻海 新北市 土城 虎躍 總部 舉行 法說會 外界 預期 中國大陸 立訊 精密 搶進 組裝 代工 以及 鴻海 下半年 營運 展望 出席 法人 關注 焦點 展望 鴻海 下半年 營運 表現 法人 指出 第二 銷售 帶動 鴻海 產能 利用率 有助 既有 良率 鴻海 毛利率 機會 上揚 伺服器 網通 產品 法人 表示 鴻海 伺服器 客戶 受惠 居家 辦公 應用 需求 預估 伺服器 出貨 穩健 鴻海', '外資 台灣 提款 台積電台股 終場 下跌 外資 大賣 創近 交易 以來 金額 大舉 佈局 反向 台灣 超近 不過 外資 轉賣 富邦 同時 持續 提款 台積電 法人 今日 土洋 對作 外資 大賣 投信 持續 買超 自營商 法人 外資 創近 交易日 以來 金額 大量 期貨 方面 外資 減碼 多單 多單未平 倉口數 降至', '新聞 緯創 出售 昆山 江蘇 公司 立訊原文 連結 原文 內容 鉅亨 記者 劉韋廷 台北 代工 大廠 緯創 發布 重訊 公告 出售 旗下 昆山 江蘇 公司 國立 訊集團 交易 對價 金額 暫定 人民幣 新台幣 預計 年底 市場 解讀 立訊 此舉 有助 打入 蘋果 供應鏈 取得 更多 蘋果 訂單 立訊 近期 積極 布局 蘋果 取得 蘋果 訂單 計畫 搶進 應鏈 買下 緯創 昆山 江蘇 公司 市場 解讀 瞄準 蘋果 訂單 緯創 近年 組裝 業務 重心 移往', '新聞 劍指 和碩 證實 印度 註冊 設立原文 連結 原文 內容 劍指 和碩 證實 印度 註冊 設立 子公司 經濟日報 記者 吳凱中 即時 報導 外電 報導 第二 大代 工廠 印度 清奈 註冊 設立 子公司 準備 印度 設廠 製造 和碩 證實 完成 子公司 印度 註冊 單一 產品 不予 評論 了解 和碩 印度 設立 子公司 就是 為了 當地 生產 製造 印度 經濟時報 引述 知情 人士 說法 和碩 清奈 註冊 印度 子公司 印度 政府 討論 尋找', '早報 台積電法 報喜 法人 預期 資金 財報股開盤日 出刊 台積法 說報 新高 紀錄 添未來 強勁 需求 台積法 報喜 法人 預期 資金 巴菲特 名人 帳號 遭駭 推特 股價 平均 國際 股市 道瓊 指數 漲跌 幅度 作收 指數 漲跌 幅度 作收 上證 指數 漲跌 幅度 作收 台股 籌碼 變化 外資 投信 自營 融資 餘額 融券 餘額 法人 買賣 超前 外資 投信 自營商 玉晶光 雙鴻 台積電', '國際 產業 配合 蘋果 腳步 碩傳 印度 子公司時報 編譯 張朝欽 綜合 外電 報導 蘋果 重要 代工 夥伴 和碩 周五 傳出 已經 印度 註冊子 公司 外界 評估 可能 用於 蘋果 生產 知情 人士 印度 經濟時報 傳遞 消息 指出 和碩 已經 印度 南方 清奈市 註冊子 公司 近期 公司 人員 印度 地方 政府 進行 協商 尋找 土地 設立 工廠 隨後 他們 進口 工廠 機器 如果 消息 為真 顯示 蘋果 推動 供應鏈 多樣化 努力 避免 集中於 中國 和碩 日前 股東會 回覆 有關 印度 布局 問題 指出', '立訊 大手筆 斥資 收購 緯創 中國 公司中央社 記者 江明晏 台北 日電 代工 大廠 緯創 董事會 今天 拍板 通過 出售 旗下 資通 昆山廠 緯創 投資 江蘇 公司 由立訊集團 新台幣 取得 緯創 表示 未來 加重 台灣 投資 全球 中國 製造 據點 持續 發展 中國 立訊 精密集團 大陸 電子 產品 代工廠 外界 認為 蘋果 策略性 栽培 中國 工廠 立訊 獲得 蘋果 部分 零組件 訂單 蘋果 無線 耳機 訂單 同年 蘋果 執行長 庫克造 訪立 位於 江蘇 昆山廠 稱讚', '法人 小買 內外資 聯手 富邦台股 獲利 賣壓 出籠 失守 日線 法人 轉賣為 買超 金額 市場 追價 意願 低落 其中 外資 自營商 聯手 大砍 富邦 合計 賣超 台積電 營運 利多 拉抬 帶動 股價 強漲 不敵 國際 疫情 反覆 美股 下跌 利空 因素 衝擊 台股 最終 小漲 作收 法人 包括 外資 投信 分別 買超 自營商 反手 賣超 外資 買超 標的 包括 宏碁 台灣 買超 張數 分別 台積電 獲買超', '紅色 供應鏈 來襲 立訊 跨足 組裝 代工 領域 和碩 鴻海 備戰中國 代工 廠立訊 精密 取得 緯創 昆山廠 正式 跨入 代工 組裝 領域 法人 分析 預期 立訊 初期 瞄準 中低階 訂單 和碩 首當其衝 鴻海 雖然 主要 代工 機種 高階 為主 後續 面臨 訂單 遭瓜分 壓力 立訊 人民幣 新台幣 取得 緯創 公司 緯創 資通 昆山 以及 緯創 投資 江蘇 預計 年底 完成 交割 其中 緯創 投資 江蘇 旗下 緯新 資通 昆山 主要 生產 智慧 手持 裝置 據悉 產品 蘋果 天風 證券 分析師', '紅色 供應鏈 來襲 立訊 跨足 組裝 代工 領域 和碩 鴻海 備戰中國 代工 廠立訊 精密 取得 緯創 昆山廠 正式 跨入 代工 組裝 領域 法人 分析 預期 立訊 初期 瞄準 中低階 訂單 和碩 首當其衝 鴻海 雖然 主要 代工 機種 高階 為主 後續 面臨 訂單 遭瓜分 壓力 立訊 人民幣 新台幣 取得 緯創 公司 緯創 資通 昆山 以及 緯創 投資 江蘇 預計 年底 完成 交割 其中 緯創 投資 江蘇 旗下 緯新 資通 昆山 主要 生產 智慧 手持 裝置 據悉 產品 蘋果 天風 證券 分析師', '分析 台積電 拉回 法說會 台股 收黑 量縮 力守 日線財訊 快報 研究員 方亞申 美國 指數 週三 震盪 收紅 導體 指數 拉回 不過 亞洲 股市 週四 幾乎 全面 下跌 台股 開小 走低 拉下 影線 台積電法 股價 所幸 鴻海 上漲 生技股 合一 中天 一度 打開 跌停 還是 收黑 使得 上市 指數 同步 走低 加權 指數 終場 下跌 收在 成交量 降至 以下 上市 指數 力守 日線 櫃買 指數 持續 月線 尋求 支撐 美國 新冠 肺炎 疫情 持續 升溫 佛羅里達 阿拉巴馬', '晚報 權王法 買盤 觀望 台股 暫失 防線開盤日 出刊 今日 盤面 特色 武漢 肺炎 確診 死亡 人數 持續 上增 受到 疫苗 試驗 結果 捷報 相抵 加上 第二 財報 營收 美元 年增 歷史次 水準 美元 優於 市場 預期 持續 穩定 市場 對於 復甦 憧憬 美股 指數 漲多 跌少 漲跌幅 介於 其中 費半 獨黑 寬鬆 方向 不變 美元 走疲 疫情 確診 死亡數 止勢 黃金 帶來 支撐 力道 只是 美企 財報 亮眼 疫苗 進展 持續 削弱 避險 需求 現貨 黃金 終場 美元 盎司作', '熱門 族群 國家隊 挹注 定心丸 大紅 燈籠 高高時報 台北電 台積電 開低 走低 壓抑 短多 觀望 窘境 不過 國安基金 例會 決定 退場 說明 國家 隊法人 台股 萬二 高檔 有意 持續 護盤 投信 法人 營商 股東 主力群 中實戶 市場 大戶 等同 劑定 心丸 台股 波段 輪動 攻堅 正向 上市股 強勢 漲停 包括 辛耘 大洋 利奇 懷特 高力 元晶 股票 單日 漲幅 進一步 股票 股票 強勢 登頂 包括 同致 金利 曜越 系統電', '看好 緯創短線 融資 增加 融資 大舉 進場 幾乎 反轉 走勢 不過 仍舊 看好 長多 走勢', '外資 大舉 提款 富邦 前連 調節 台積電台股 早盤 強漲 突破 大關 新高 多空 交戰 終場 小跌 外資 敲進 富邦 今日 調節 台積電 召開 法說會 前夕 外資 調節 提款 超過 法人 今日 營商 賣方 賣超 外資 買超 投信 買超 合計 法人 買超 期貨 方面 外資 減碼 多單 多單未平 倉口數 投信 回補 空單 空單 未平 倉口數', '標的 緯創 短多發文 詳閱 標的 分類 發文 規範 規範 發文 處份 發標 充實 內文 多空 理由 充實 板規 處份 退場 機制 若非 長期 投資 輸入 停損價 否則 板規 處份 長期 投資 充份 分析 理由 板規 處份 格式 輸入 內容 格式 板規 砍文 處份 分類 選填 請益 退場 機制 刪去 刪除 以上 內容 標的 緯創 分類 分析 正文 價位 持續 吃貨 尾盤 機會 股目', '新聞 柯文哲 看壞 台灣 看好 謝金河台灣 經濟 好不起來 主要 除了 科技 代工業 之外 其他 產業 科技 代工 產業 而是 台灣 人口 這麼多 代工業 國家 經濟 甚至 越來越 發達 困難 去年 財富 雜誌 公布 世界 五百 名單 台灣 上榜 名單 鴻海 和碩 台積電 廣達 仁寶 中油 緯創 國泰 富邦 台塑 其中 代工 為主 企業 例子 假設 今天 台灣 然後 蘋果 代工 訂單 晶片 記憶體 螢幕', '電腦 設備 英業達 緯創 筆電 出貨 衝鋒時報 台北電 受惠 居家 辦公 效益 帶來 強勁 拉貨 力道 英業達 緯創 筆電 出貨量 衝上 高峰 拉抬 單月 營收 雙創 新高 第二 營收 表現 持穩 增長 第一季 位數 報復性 彈升 成長 展望 第三 業者 認為 筆電 需求 回歸 正常 季節性 水位 因此 呈現 季減 走勢 伺服器 產品 出貨 持續 增溫 筆電 伺服器 客戶 拉貨 力道 強勁 英業達 單月 營收 字頭 創下 歷年 單月 新高 紀錄 增長', '掃瞄 基本面 宏碁 營收 新高 英業達 緯創 筆電 出貨 衝鋒時報 掃瞄 基本面 交易日 新台幣 美元 收市 貶值 成交 值為 美元 集中 市場 融資 增為 融券 減為 集中 市場 營商 買超 投信 外資 事業 發力 宏碁 營收 新高 聚鼎 電動車 散熱 營收 翻倍 自結 華星 光業 外進 轉盈 聯陽 月營 報喜 續戰 英業達 緯創 月筆電 出貨 衝鋒 岱宇 出貨 上半年 營收 攀峰 出貨 暢旺 智原', '早報 內資 櫃買 續創 上市櫃 漲停開盤日 出刊 重頭戲 大立光 金控 召開 蘋果 拉貨 瑞儀 營收 季增 內資 帶頭 上市櫃 漲停 平均 國際 股市 道瓊 指數 漲跌 幅度 作收 指數 漲跌 幅度 作收 上證 指數 漲跌 幅度 作收 台股 籌碼 變化 外資 投信 自營 融資 餘額 融券 餘額 法人 買賣 超前 超前 外資 投信 自營商 穩懋 創意 台積電 玉晶光 穩懋', '統一 證券 晨訊 偏多 操作 預設 指數 高點 評價 提升 業績 題材股 勝出日期 盤勢 分析 昨日 盤勢 美股 指數 集體 拉回 拖累 台股 昨日 以下 點至 開出 買盤 隨即 積極 進駐 權值 類股 電子 族群 領頭 台積電 聯發科 台達電 廣達 穩懋 瑞昱 聯詠 表現 強勁 推升 指數 緩步 收復 關卡 相對 作收 終場 台股 上漲 作收 成交量 觀察 盤面 變化 類股 全數 上漲 其中 電子 傳產 金融 分別 上漲 在次 族群 部份 橡膠 造紙 生技 醫療', '光電股 高通 華晶科 聯手 邊緣 瞄準 聯網 市場時報 台北 高通 宣布 視覺 智慧 平台 增添 新生力軍 當中 人工 智慧 效能 相較 產品 增加 瞄準 聯網 市場 產品 邊緣 系統 華晶科 聯手 打造 相關 解決 方案 預計 第三季 上市 高通旗下 公司 高通 技術 公司 宣布 高通 系統 晶片 導入 高通 視覺 智慧 平台 高通 表示 透過 可以 過去 高階 裝置 強大 機器 學習 功能 頂級 相機 技術 得以 進入 中階 相機 市場 了解 高通 視覺 智慧 平台 搭載', '個股 英業達 緯創 業績 高歌 亮眼 股價 開高 大漲財訊 快報 記者 王宜弘 報導 筆電 代工 大廠 緯創 英業達 業績 分別 分別 創下 今年 新高 歷史 新高 紀錄 激勵 週四 開高 商機 發酵 之下 緯創 合併 營收 上月 增加 去年 同期 成長 續創 今年 新高 新高 累計 上半年 合併 營收 年減 其中 第二季 合併 營收 來到 上季 增加 去年 同期 成長 緯創 表示 公司 筆電 出貨量 高峰 伺服器 出貨 優於', '新聞 生技 條例原文 連結 原文 內容 工商時報 杜蕙蓉 生技 產業 大利多 原訂 落日 生技 新藥 產業 發展 條例 小英 政府 規劃 延長 適用 範圍 原本 新藥 風險 醫材 動植物 用藥 再生 精準 醫療 擴大 數位 醫療 國家 策略 生技 產品 項目 帶動 產業 力拚 上兆 產值 修法 矚目 新增 數位 醫療 國家 策略 生技 產品 生策會 會長 翁啟惠 表示 數位 醫療 列入 條例 啟動 資通訊 生醫 對話 以台', '請益 股市 新手 奈米戶 自營商 操作法小弟 股價 壓力 買進 緯創 然後 外資 開始 繼續 反正 除息 結果 外資 一萬多 然後 幾乎 自營商 買走 除息 當天 開盤 股價 下殺 完全 回頭 小弟 出清 獲利 了結 收盤 完看 自營商 幾乎 賣掉 這樣 他們 股息 股價 高手 解釋 這樣 操作 什麼 含意 謝謝 大大', '標的 緯創標的 緯創 分類 分析 正文 大綠棒 外資 基本面 不錯 股票 短線 應該 反彈 機會 希望 可以 便當 退場 機制 目標 停損', '看好 緯創收盤價 大人 倒貨 危險', '看好 緯創大師 鐵口 真的 厲害', '生技 條例時報 台北 生技 產業 大利多 原訂 落日 生技 新藥 產業 發展 條例 小英 政府 規劃 延長 適用 範圍 原本 新藥 風險 醫材 植物 用藥 再生 精準 醫療 擴大 數位 醫療 國家 策略 生技 產品 項目 帶動 產業 力拚 產值 修法 矚目 新增 數位 醫療 國家 策略 生技 產品 生策會 會長 翁啟惠 表示 數位 醫療 列入 條例 啟動 資通訊 生醫 對話 台灣 高科技業 完整 供應 技術', '早報 外資 以上 至少開盤日 出刊 外資 以上 至少 特斯拉 股價 歷史 電池 概念股 漲停 作收 賺贏 法人 下半年 平均 得分 國際 股市 道瓊 指數 漲跌 幅度 作收 指數 漲跌 幅度 作收 上證 指數 漲跌 幅度 作收 台股 籌碼 變化 外資 投信 自營 融資 餘額 融券 餘額 法人 買賣 超前 外資 投信 自營 商台 積電 創意 聯發科', '公告 緯創 合併 營收 年增日期 上市 公司 緯創 單位', '辦公 需求 緯創 英業達 收創 今年 新高中央社 記者 吳家豪 台北 日電 筆電 代工廠 緯創 英業達 今天 公布 合併 營收 分別 年增 新台幣 改寫 今年 單月 新高 持續 受惠於 辦公 需求 緯創 今年 上半年 累計 營收 去年 減少 緯創 筆電 出貨 優於 部分 動能 來自 辦公 需求 伺服器 出貨 優於 桌機 出貨 低於 顯示器 出貨 持平 緯創 表示', '外資 加碼 富邦 買近 反向 面板 雙虎台股 終場 收在 上漲 成交值 下滑 法人 台股 其中 外資 持續 富邦 累計 買超 不過 賣超 反向 元大 台灣 面板 雙虎 法人 自營商 買方 外資 終止 轉為 賣超 投信 賣超 自營商 買超 法人 合計 期貨 部分 外資 減碼 多單 多單 倉口數 外資 買超 標的 富邦 居冠 仁寶 居次', '熱門 族群 投信 布局 績效 搶進時報 台北電 資金 行情 持續 翻騰 外資 回流 受矚 進入 投信 第三季 績效 默默 耕耘 包括 緯創 英業達 青睞 累積 買超 技術面 排列 可望 揮軍 邁向 行情 上周 投信 青睞股 包括 緯創 英業達 景碩 旺矽 晶技 台郡 光環 精材 義隆 台光電 瑞昱 聯詠 南電 聯發科 技術面 籌碼面 雙優 全數 電子股 天下 義隆 包括 聯發科', '統一 證券 晨訊 資金 不止 持續 業績 勝出日期 盤勢 分析 昨日 盤勢 受到 美股 指數 全數 上漲 激勵 周五 台股 以上 點至 開出 早盤 由於 台幣 升值 帶動 權值股 廣達 台達電 台積電 聯發科 大立光 富邦金 台塑 南亞 台灣 元大金 領漲 指數 漲幅 迅速 擴大 攻克 關卡 指數 尾盤 小幅 拉回 相對 高點 終場 指數 上漲 成交量 觀察 盤面 變化 類股 全面 上漲 電子 傳產 金融類', '心得 擔任 主管 職務 全時 員工 薪資原始 資料 來源 公開 資訊 觀測站 整理 原始 資料 擔任 主管 職務 全時 員工 資訊 員工 薪資 位數 公司 代號 公司 名稱 聯詠 鴻準 聯發科 原相 揚智 智擎 新潤 群聯 瑞昱 華固 創意 和泰車 力旺 聯陽 矽創 台積電 義隆 晶豪科 凌通 鴻海 杰力 群光 九暘 宏觀 中華電 環球晶 中鋼 祥碩 廣宇 神基 智原 聚積 菱光 智易 創惟 敦泰 新興 亞泰 中聯 資源', '個人 研究 觀察 記錄 鴻海 分析 宏碁 轉型今天 法人 台股 其中 外資 投信 自營商 自營 避險 來到 繼續 年線 以上 新春 以來 交易日 武漢 肺炎 開始 月份 以來 交易日 全球 經濟 重啟 大盤 今天 周線 月線 季線 半年線 年線 三年線 今天 台股 高點 來到 當初 大家', '統一 證券 晨訊 維持 偏多 操作 建議 聚焦 題材 業績 類股日期 盤勢 分析 維持 偏多 操作 建議 聚焦 題材 業績 類股 昨日 盤勢 惠美股 昨日 大漲 激勵 台股 昨日 以上 開出 電子 權值股 大立光 聯發科 聯電 塑化股 拉抬 指數 攻上 不過 追高 買盤 轉為 觀望 壓抑 指數 狹幅 震盪 震幅 終場 指數 開高 走高 上漲 收在 成交量 觀察 盤面 變化 類股 全數 上漲 其中 電子 傳產 金融 分別 族群 部份 觀光 光電 電器', '產業 台灣 大型 企業 排名 鴻海時報 記者 任珮云 台北 報導 根據 中華徵信 公布 台灣 地區 大型 企業 排名 研究 顯示 台灣 企業 營收 淨額 企業 去年 相同 僅有 名次 變化 富邦金 旗下 富邦人壽 營收 成長 成長 幅度 上升 台積電 營收 成長 擠下 台灣 中油 重回 企業 地位 台塑 原油 需求 減少 油價 下跌 營收 下滑 衰幅 退居 即使 中美 貿易 戰影', '晨間 解析 台股 高檔 震盪 端午 變盤 多空財訊 快報 研究員 鄭心丹 白宮澄清 美中 貿易 協議 並未 結束 加上 可能 通過 刺激 法案 道瓊 週二 收漲 科技 領軍 那斯達克 歷史 新高 牙股 齊揚 蘋果 上漲 美元 市值 美元 特斯拉 大關 價格 走低 美光 下挫 台積電 上漲 全球 疫情 爆發 美中 經濟體 疲弱 預計 全球 調降 負成長 企業 債務 急劇 攀升 可能 年去 槓桿化 原本 預期 經濟 復甦 可能 修正', '熱門 族群 蘋果 股價 新高 蘋概時報 台北 蘋果 執行長 庫克 全球 開發 大會 宣布 新款 電腦 英特爾 改採 架構 自製 晶片 展出 運用 軟硬 兼施 惠利多 加持 蘋果 股價 新高 帶動 緯創 欣興 持續 法人 青睞 蘋果 美國 時間 台灣 時間 凌晨 舉辦 透過 虛擬線 方式 進行 全球 超過 蘋果 開發者 社群 齊聚 市場 預期 架構 電腦 新機 年底 上市 帶動 日股', '工商時報 晨訊蘋果 晶片 台積 贏家 發威 工業 生產 指數 達美 航空 明日 西雅圖 上海浦東 疫情 美國 解封 重啟 中美 航線 華航 停止 減薪 減班 聯貸銀行 救急 文華 東方 紓困 疫情 蘋果 股價 新高 亮點 即時 翻譯 鑰匙 時代 影視 中嘉 遠傳 先機 戰局 林敏雄 全聯 競爭 台灣 本業 轉盈 教華 太陽 出來 彰銀 爭議 金管會 常董 不必 自然人 合庫金 改選', '熱門 族群 外資 追捧 熱錢 行情時報 台北電 外資 台股 大舉 回補 累積 買超 加上 內資 自營商 持續 加碼 推升 台股 走揚 法人 前夕 動態 備受 關注 包括 台積電 檔獲 外資 同步 敲進 以上 股價 全數 收紅 其中 精材 衝上 漲停 氣勢 驚人 保德信 成長 基金 經理人 葉獻文 表示 觀察 近來 外資 買超 台股 多於 賣超 年初 流出 幅度 水準 加上 新台幣 維持 強勢 估計 外資 回補 權值股 可能性 台股 長期 激勵', '台灣 關鍵 技術 全球 加速 數位 醫療 轉型台灣 醫療 科技展 疫情 常態 全球 數位 醫療 應用 升級 轉型 需求 劇增 台灣 第一 電子業 生產 製造 半導體 出貨 持續 全球 維持 成長 成為 全球 醫療 科技 穩健 合作 夥伴 台灣 醫療 科技展 一線 科技 大廠 聯合 醫療 體系 共同 展出 完整 展現 顯示 技術 以及 通訊 傳輸 醫療 健康 照護 應用 全球展 醫療 科技 如何 帶來 生活 經濟 型態 新聞稿 包含 多媒體 資訊 完整 新聞稿 請見 通訊 科技 提供 接觸 健康 照護 解決 方案 台灣', '新聞 投信 作帳 還是 結帳原文 連結 原文 內容 投信 作帳 還是 結帳 經濟日報 記者 黃力 台北 即時 報導 引領 內資 走過 疫情 嚴峻 考驗 投信 接連 買超 之後 以來 可見 積極 隨時 進入 季底 投信 作帳 行情 有望 持續 發酵 法人 看好 業績 穩健股 高息股 吸引 投信 資金 進駐 引領 多方 外資 終止 投信 終止 轉賣 之後 加碼 進場 買超 由於 投信 買超 進入', '公告 康控 年度 股東常會 董事 改選 當選 名單公司 名稱 康控 康控 年度 股東常會 董事 改選 當選 名單 發言人 黃翹生 發生 變動 日期 選任 變動 人員 輸入 法人 董事 法人 監察人 獨立 董事 自然人 董事 自然人 監察人 法人 董事 獨立 董事 自然人 董事 任者 職稱 姓名 簡歷 董事 代表人 呂朝勝 董事 代表人 李國基 董事 李主清 公司 製工部 總監 獨立 董事 張紫吟 緯創 執業 會計師 獨立 董事', '請益 何時 長期 進場 買點四月 發完 之後 財報 電子 五哥 其實 財報 因為 疫情 停工 關係 幾乎 不過 注意 緯創 毛利率 其中 英業達 因為 上海 浦東 筆電 舊廠 挹注 業外 比較 好看 受到 疫情 距離 關係 帶動 筆電 銷售 另外 伺服器 需求 於是 四月 開始 進場 月份 外資 不過 庫藏股 根本 跌不太下去 加上 配息 基本 勝率 開始 布局 財報 出來 繼續 加碼 果然', '集中 市場 券商 緯創 南亞時報 集中 市場 券商 代碼 股票 名稱 今日 累計 緯創 南亞 聯強 台積電 國泰金 仁寶 玉山金 國光生 合庫金', '投信 買超 友達 景碩 欣興時報 投信 買超 綜合 帳戶 名稱 買進 賣出 買超 股價 買超 交易 變動 成交量 成交量 友達 景碩 欣興 群創 南電 東鋼 光寶科 緯創 英業達 正隆', '碰護 國神山 台積電威剛 走嘎空 行情 加上 主力 盯上 不過 深入 研究 基本面 不要 勉強 下手 接下來 大家 英業達 緯創 廣達 聯電 它們 甚麼 共通點', '晨間 解析 美股 漲多 震盪 台股 禁空令 解封 上演 多空 交戰財訊 快報 研究員 鄭心丹 美股 週一 震盪 道瓊 下挫 終止 經濟 重啟 大漲 航空股 遭逢 賣壓 電動車 大廠 特斯拉 漲多 拉回 尖牙股 領軍 蘋果 亞馬遜 微軟 臉書 那斯達克 一度 衝破 終場 漲幅 收斂 作收 費半 指數 下跌 台積電 投資人 焦點 轉向 聯準會 決策 會議 經濟 預測 疫情 趨緩 台股 限空令 措施 解封 再度 正面 對決 美國 新增 就業 數據 增加', '個股 筆電廠 營收 華碩 年雙 三成 廣達 緯創 同創 今年 新高財訊 快報 記者 王宜弘 報導 筆電 大廠 公告 業績 合併 營收 廣達 緯創 呈現 亮眼 同步 創下 今年 新高 仁寶 英業達 格局 品牌廠 華碩 大增 三成 今年 新高 廣達 合併 營收 今年 新高 累計 營收 幅度 收斂 居家 辦公 遠距 教學 需求 激勵 筆電 出貨量 續增 累計 出貨 出貨 維持 高檔', '統一 晨盤 偏多 格局 持續 逢低 佈局 業績股財訊 快報 編輯部 昨日 盤勢 受到 美國 周五 大漲 激勵 台股 昨日 以上 點至 開出 電子 權值股 台積電 大立光 台達電 台達電 國巨 環球晶 緯穎 瑞昱 穩懋 走揚 指數 開高 震盪 走高 持續 終場 指數 上漲 收在 成交 量能 觀察 盤面 變化 類股 全數 上揚 其中 電子 傳產 金融 分別 上漲 族群 部份 汽車 紡織 半導體 走勢 分別 上漲 資金 動向', '券商晨訊 台股 投資 組合 建議券商 重複 推薦 台積電 智伸科 券商 推薦 兆豐金 帆宣 緯創 英業達 和泰車 聚碩 關貿 宇隆 劍麟 皇田 江興鍛 怡利電 券商 推薦 日盛 金控 兆豐金 帆宣 台積電 智伸科 緯創 英業達 國票 金控 和泰車 台積電 聚碩 關貿 統一 證券 宇隆 智伸科 劍麟 皇田 江興鍛 怡利電', '新聞 中國 愛國 消費 華為 全球 智慧機 銷量原文 連結 原文 內容 中國 愛國 消費 華為 全球 智慧機 銷量 超越 三星 居冠 記者 蔡承啟 報導 受惠 愛國 消費 帶動 中國 智慧 手機 市佔率 暴增 競爭 對手 三星 新型 冠狀 病毒 肺炎 俗稱 武漢 肺炎 疫情 影響 導致 旗艦 機種 系列 銷售 不振 加上 三星 握有 市佔率 印度 疫情 實施 封城 導致 銷量 暴減 華為 全球 智慧 手機 銷量 超越 三星 躍居 全球 龍頭 南韓 媒體 中央日報 日文版 報導 市場 調查 公司 指出', '個人 研究 觀察 記錄 鴻海 分析 宏碁 轉型今天 法人 台股 其中 外資群 投信 自營商 自營 避險 來到 繼續 穩穩 年線 以上 交易日 外資 貿易戰 明朗 新春 以來 交易日 武漢 肺炎 開始 大盤 今天 周線 月線 季線 半年線 年線 三年線 台積電 部份 今天 外資群 交易日 中美 貿易戰 平穩 外資群 台積電', '外資 超股 群創 友達 聯電時報 台北電 統計 交易日 外資 連續 買超 以上 股票 台積電 南亞 興富發 台泥 聯電 友達 群創 合庫金 開發金 第一 新光金 廣達 仁寶 金寶 緯創 英業達 巨大 華夏 福懋 裕民 華航 中菲行 穩懋 先豐 台達電 晶采 連續 股票 華碩 大同 長榮航 連續 股票 隆達 如興 日盛金 微星 台塑 國喬 南紡 陽明 益航 類比 世界 南亞科 隆興 國統 千附 光環', '個股 緯創 營收 今年 新高 新高 業績 季增率 上探財訊 快報 記者 王宜弘 報導 緯創 合併 營收 年增率 今年 新高 新高 累計 幅度 收斂 緯創 業績 持續 走高 主因 第二季 居家 辦公 教學 激勵 筆電 銷售量 上升 所致 預估 高峰 可期 維持 年增 格局 單季 業績 季增率 上探 公司 筆電 出貨量 持平 伺服器 出貨量 桌機 出貨 顯示器 預估 筆電 持平 上半 伺服器', '緯創 筆電 出貨 優於 預期 營收 今年 新高中央社 記者 吳家豪 台北 日電 代工廠 緯創 今天 公布 合併 營收 新台幣 寫下 今年 新高 其中 筆電 出貨 優於 預期 推估 出貨 個位 分比 緯創 筆電 出貨 持平 優於 原本 預期 兩位數 百分比 伺服器 出貨 桌機 出貨 低於 顯示器 出貨 優於 展望 緯創 預期 筆電 出貨量 基期 影響', '台股 衝高 內外資 不同調 自營商 大賣 外資 回補台股 資金 簇擁 指數 站上 法人 外資 投信 聯手 百億 合計 法人 買超 其中 台灣 外資 買超 自營商 大賣 萬餘 法人 外資 買超 投信 買超 自營商 反手 賣超 調節約 外資 買超 元大 台灣 買超 新光金 友達 買超 華新 台積電 分別 另外 中信金 買超 萬餘 開發金 新金 合庫金 富邦金', '外資 加碼 面板 雙虎 台積電台股 權值 傳產 族群 領軍 終場 上漲 新高 法人 合計 買超 其中 外資 買超 加碼 面板 雙虎 台積電 群創 友達 台積電 期貨 方面 外資 加碼 多單 多單 未平 口數 來到 投信 減碼 空單 空單 倉口數 來到 自營商 加碼 多單 合計 多單 未平 倉口數 外資 今日 青睞 面板 族群 買超 標的 群創 友達 分居', '印度 祭出 美元 激勵 方案 打造 全球 智慧 手機 製造中心吸引 國內外 科技 企業 投資 幫助 提升 國內 電子 製造業 發展 印度政府 週二 宣布 祭出 總額 億盧比 美元 獎勵 措施 印度 打造 全球 智慧 手機 生產中心 印度 電子 資訊 技術部 週二 指出 計畫 初期 針對 全球 供應商 年內 生產 產品 增量 銷售 提供 財政 獎勵 部長 表示 計畫 有望 印度 成為 全球 手機 製造中心 屆時 手機 成為 印度 出口 產品 勞動力 市場 創造 就業 機會 表示', '大陸 產業 小鵬 汽車 秘密時報 台北 美國 縮緊 中概股 監管 政策 影響 中國 新創 企業 上市 決心 報導 中國 能源 動車廠 小鵬汽車 美國交易所 秘密 提交 文件 預計 今年 第三 上市 掛牌 計畫 籌資 美元 報導 引述 消息 人士 透露 小鵬汽車 已經 聘請 摩根大 高盛等 投行 參與 上市 計畫 摩根大通 擔任 承銷商 公司 希望 可以 完成 上市 接近 小鵬 汽車 高層 消息 人士 指出 小鵬 汽車 海外 上市 架構', '外資 一手 大力 加碼 電金 權值 增持 反向 居高思危台股 法人 買下 收復 半年線 外資 期現貨 同步 偏多 台積電 鴻海 新光金 電金 權值 同時 買進 富邦 元大 台灣 呈現 高思危 避險 操作 外資 今日 買超 投信 買超 自營商 買超 法人 合計 買超 呈現 期貨 方面 法人 同步 加碼 當中 外資 淨多單 增加 來到 股部分 外資 今日 買超 電子 指標 包括 聯電 面板 雙虎群創 友達 其餘', '分散 投資 價值 投資 討論區權息 行情 開跑 強勢 填息 出列 台灣 投資人 瘋高 殖利率 股票 開始 股民 收割 股息 重頭 大戲 不過 對於 掌握 權息 行情 投資人 法人 認為 今年 疫情 影響 選擇 務必 產業 前景佳 搭上 趨勢 公司 為主 如此 同時 把握到 填息 股價 上漲 機會 股東會 旺季 投資人 關心 莫過於 股利 發放 台積電 今年 配出 現金 中華電 台塑化 分別 發放 南亞科 受到 市場 關注', '台北 股市 雙王 電子 強彈 法人 作價 台股 登高 萬一時報 台北電 美國 總統 川普 上周末 港版 國安法 強烈 反應 市場 解讀 雷聲 雨點 並未 美中 貿易 協議 局面 不僅 刺激 港股 周一 大幅 反彈 激勵 包括 台股 亞洲 地區 主要 股市 大漲 台股 再度 重返 年線 萬一 短線 機會 伺機 半年線 挑戰 受惠 法人 股東 主力群 業內實戶 市場 大戶 積極 逢低 回補 股票 加上 散戶 台股 波段 重拾 信心 雙王 權王 台積電 股王 大立光猛醒 電子 族群', '說會 近期 召開 國內 法說會 上市 櫃公司 一覽表財訊 快報 編輯部 近期 召開 國內 法說會 上市 公司 時程 如下 台達電 聯亞 致茂 緯創 群光 廣達 力旺 群電 貿聯 台光電 旺宏 華碩 光寶科 國巨 聯發科 泰博 可成 精測 亞聚 台達化 台汽電 東典 鎧勝 中磊 聯華 智原 華固 敦泰 美吉吉 世豐 崇友 南亞科 耕興 旭隼 力旺 奇鋐 創意 力成 大聯大 三商壽 第一 亞德客 台驊投控 敦泰 國際 京城銀 旺宏 旺宏 亞德客', '調整 生效 外資 元大金 第一中央社 記者 張建中 台北 日電 明晟 半年度 權重 調整 今天 收盤 生效 台股 指數 權重 調降 尾盤 爆量 指數 終場 收跌 外資 賣超 新台幣 元大金 賣超 第一 台股 今天 開低 震盪 走高 指數 翻紅 尾盤 爆出 大量 指數 餘點 加權 指數 終場 收在 跌幅 成交值 自營商 買超 投信 買超 外資 陸資 賣超 土洋 法人 對作 局面 法人 合計 賣超', '緯軟 庫藏股 執行率 平均中央社 記者 吳家豪 台北 日電 資訊 服務商 緯創 軟體 今天 公告 庫藏股 買回 期間 屆滿 買回 執行率 平均 買回 價格 新台幣 緯軟 今年 董事會 決議 通過 買回 股份 讓予 員工案 預計 買回 買回 區間 價格 維護 股東 權益 兼顧 市場 機制 緯軟 股價 變化 成交量 情況 分批 買回 策略 庫藏股 執行 完畢 實際 買回 執行率 平均 買回 價格 總金', '外資 終止 富邦 掉頭 回補 避險 意味明晟 權重 調整 日盤 生效 台股 尾盤 爆量紅 翻黑 終場 小跌 收在 其中 外資 金成 空方 標的 美國 總統 川普 周五 發表 談話 外資 終止 富邦 回補 避險 意味 濃厚 法人 今日 土洋 對作 外資 投信 買超 自營商 買超 期貨 方面 外資 加碼 多單 多單 未平 倉口數 升至 中國 港版 國安法 美國 總統 川普 預計 周五 中國 議題 召開 記者會 隨著', '緯軟 庫藏股 執行 屆滿 執行緯創 旗下 資訊 服務商 緯軟 公告 庫藏股 執行 屆滿 情形 累計 買回 張庫藏股 平均 價格 發行 股數 買回 金額 執行率 緯軟 宣布 祭出 庫藏股 護盤 買回 庫藏股 最終 買回 執行率 執行 完畢 緯軟 表示 維護 整體 股東 權益 兼顧 市場 機制 變化 價格 區間 分批 買回 策略 因此 執行 完畢 展望 今年 緯軟 表示 雖然 疫情 干擾 上半 營運 持續 調整 體質 追求 穩健 獲利', '早報 鬆綁 禁令 觀光 概念開盤日 出刊 紡織廠 疫情 轉攻 隔離衣 股價 緩緩 發酵 奈米 出貨 放量 家登 獲利 可望 鬆綁 禁令 觀光 概念股 歡騰 平均 國際 股市 道瓊 指數 漲跌 幅度 作收 指數 漲跌 幅度 作收 上證 指數 漲跌 幅度 作收 台股 籌碼 變化 外資 投信 自營 融資 餘額 融券 餘額 法人 買賣 超前 外資 投信 自營 商台 積電 健策 原相 聯發科', '熱門 族群 遠距 辦公 概念股 吸睛時報 台北 全球 主要 城市 陸續 解封 代表 疫情 疫苗 問世 一段 時間 因而 辦公 市場 趨勢 投資 顯學 相關 概念股 金像電 緯創 英業達 宏碁 近日 市場 焦點 法人 火力全開 強力 買超 計有 相關 概念股 股價 表現 亮眼 關注 投資 專家 指出 全球 肺炎 疫情 高峰 人數 不斷 攀升 疫苗 傳出 佳音 距離 未來 疫苗 問世 正式 打入 人體 時間 可能 時間 為了 預防 未來 疫情', '說會 近期 召開 國內 法說會 上市 櫃公司 一覽表財訊 快報 編輯部 近期 召開 國內 法說會 上市 公司 時程 如下 台達電 聯亞 致茂 緯創 群光 廣達 力旺 群電 貿聯 台光電 旺宏 華碩 光寶科 國巨 聯發科 泰博 可成 亞德客 美律 新光金 開發金 神基 國票金 嘉泥 奈米 醫材 精測 宜鼎 國電 友通 英業達 台積電 耕興 聯茂 仁寶 和碩 麗豐 信邦 聖暉 雙美 聯詠 耿鼎 神盾 譜瑞 義隆 集雅社 智原 朋億', '台股 六千 分析師 點出 通點台股 迎來 四千 六千 時代 即將 來臨 目前 大立光 站穩 股王 寶座 矽力 信驊 祥碩 設計 大廠 股價 現階段 股后 人選 另外 高價 俱樂部 成員 譜瑞 緯穎 朝向 行列 邁進 台股 市場 火熱 股價 衝到 以上 千金股 股民 關注 千金 陣容 未有 原來 大立光 矽力 信驊 祥碩 現在 即將 迎向 六千 譜瑞 緯穎 後頭 追趕 除了 股王 大立光 逼近 四千 股價 獨秀 股后 寶座', '說會 近期 召開 國內 法說會 上市 櫃公司 一覽表財訊 快報 編輯部 近期 召開 國內 法說會 上市 公司 時程 如下 可成 華通 中裕 嘉基 大聯大 興農 台勝科 可寧衛 大江 鼎翰 健喬 桂盟 精誠 太醫 大學 力旺 材料 台光電 台達電 聯亞 致茂 緯創 群光 廣達 力旺 群電 貿聯 亞德客 美律 新光金 開發金 神基 國票金 嘉泥 奈米醫材 精測 宜鼎 國電 友通 原相 英業達 台積電 聯茂 仁寶 和碩 麗豐 信邦 聖暉', '說會 近期 召開 國內 法說會 上市 櫃公司 一覽表財訊 快報 編輯部 近期 召開 國內 法說會 上市櫃 公司 時程 如下 可成 美律 永豐金 台達電 耕興 聯茂 上海商銀 台光電 緯創 長科 群光 英業達 廣達 晟田 聚陽 和碩 華通 中裕 嘉基 大聯大 興農 台勝科 可寧衛 大江 鼎翰 台光電 台達電 聯亞 緯創 群光 廣達 力旺 亞德客 美律 新光金 開發金 神基 國票金 嘉泥 奈米醫材 精測 宜鼎 國電 友通 英業達 台積電', '要聞 疫情 推波 結盟 世界盃時報 台北電 新冠 肺炎 疫情 風暴 國民生 醫療 照護 產業 經濟 造成 巨大 衝擊 台灣 成功 防疫 打響 全球 知名度 激勵 和生 醫業 乘勝 追擊 結盟 方式 世界盃 了解 超象 台積電 合作 開模 科脈 採用 大立光 鏡頭 瑞磁 福寶 分別 緯創 合作 生醫 產業 開創 新局 台安創投 總經理 林世嘉 表示 組合 生技 產業 勝利 方程式 再生 醫療 美國 日本 日立 富士 大廠 投入 細胞 量產 製程 設備 這些 國際 大廠', '說會 近期 召開 國內 法說會 上市 櫃公司 一覽表財訊 快報 編輯部 近期 召開 國內 法說會 上市 公司 時程 如下 可成 台聚 華夏 美律 晶電 中壽 富邦金 國泰金 美律 永豐金 台達電 耕興 聯茂 上海商銀 台光電 緯創 長科 群光 英業達 華通 中裕 嘉基 大聯大 興農 台達電 聯亞 緯創 群光 亞德客 美律 新光金 開發金 神基 國票金 嘉泥 奈米 醫材 精測 宜鼎 國電 友通 原相 英業達 台積電 精測 亞聚 台達 台汽電', '個股 達方 斥資 千萬 美元 越南子 公司 明年 投產 鍵盤 月產能財訊 快報 記者 巫彩蓮 報導 美中 貿易戰 成為 製造 供應鏈 轉移到 東南亞 市場 觸媒 今年 肺炎 疫情 催化 廠商 降低 中國 生產 依賴 程度 配合 客戶 腳步 達方 斥資 千萬 美元 成立 越南子 公司 籌設 鍵盤 生產 基地 今年 下半年 啟動 建廠 作業 暫訂 明年 投產 初期 產能 規劃 週邊 產品 筆記型 桌上型 電腦 鍵盤 攜式 鍵盤 滑鼠 遙控器 耳機 車用 平板 電腦 手機 周邊 配件 達方 營收 比重 其中 鍵盤 主力', '其他 台灣 集中 市場 法人 買賣 三十台灣 集中 市場 法人 買賣 三十 代碼 名稱 外資 投信 自營商 合計 買賣 元大 台灣 晶電 旺宏 友達 富邦 景碩 奇鋐 南茂 和碩 智邦 同欣電 康那香 大毅 台表科 金像電 群光 友訊 華通 國揚 禾伸堂 永豐金 聯鈞 奇力 敦泰 愛普 世芯 南六 亞泥 正文 代碼 名稱 外資 投信 自營商 合計 買賣 第一 元大 滬深 兆豐金 中信金 聯電 元大 石油 統一 臺企銀', '公告 緯創 買回 庫藏股 金額 新台幣 三億 以上公司 名稱 緯創 緯創 買回 庫藏股 金額 新台幣 三億 以上 發言人 石慶堂 買回 股份 數量 累積 公司 發行 股份 總額 百分之二 金額 新台幣 三億 以上 日期 買回 股份 數量 買回 股份 金額 平均 買回 價格 買回 期間 累積 持有 自己 公司 股份 數量 買回 期間 累積 持有 自己 公司 股份 數量 公司 發行 總數 比率 其他 敘明 事項', '緯創 累計 買回 庫藏股 均價公告 公司 買回 庫藏股 金額 新台幣 三億 以上 買回 股份 數量 累積 公司 發行 股份 總額 百分之二 金額 新台幣 三億 以上 日期 買回 股份 數量 買回 金額 平均 買回 價格 買回 期間 累積 持有 自己 公司 股份 數量 買回 期間 累積 持有 自己 公司 股份 數量 公司 發行 股份 總數 比率 其他 敘明 事項', '電腦 設備 緯創 庫藏股 買回 均價時報 台北電 緯創 庫藏股 買回 金額 均價 累積 持有 公司 股份 發行 股份 總數 編輯 整理 廖小蕎', '個股 急單 湧現 緯創 上修 筆電 出貨 成長 目標 走強財訊 快報 記者 王宜弘 報導 品牌 客戶 拉貨 筆電 代工 大廠 第二 業績 噴出 其中 緯創 評估 單季 出貨 雙位數 成長 無虞 可望 呈現 逐月 走揚 局面 急單 湧現 上調 季度 出貨 目標 筆電 出貨 雙位數 月減 預估 提升 至近持平 公司 宣布 回購 庫藏股 用以 員工 週五 進一步 公告 買回 股票 耗資 平均 買回 單價 週五 收在 元平盤價 短線 股災 低點 反彈 回到 元價位', '戴爾 大單 台廠時報 報要聞 筆電 需求 好旺 疫情 擴散 導致 實施 工作 學校 停課 帶動 筆電 需求 沖天 供應鏈 透露 戴爾 第二 筆電 單量 高達 相當 戴爾 去年 筆電 出貨量 一半 主要 代工廠 仁寶 緯創 鍵盤 供應商 群光 達方 電源 供應器 業者 台達電 光寶 群電 可望 受惠 筆電 代工廠 群聚 中國 疫情 影響 市調 機構 評估 全球 筆電 出貨量 幾乎 預估 腰斬 隨著 中國 復工 順暢 筆電 代工廠 營收', '集中 市場 中小兵 法人時報 台北 原油 史詩級 崩盤 周二 美股 連續 第二 大跌 指數 全黑 北韓 金正恩 傳出 病危 消息 擔憂 東北 地緣 政治 疫情 風險 不減 周三 台股 早盤 開跌 點至 電金 消風 蘋概 王同 走低 指數 摜破 隨後 政府 基金 國安基金 國家隊 護盤 力道 雙王 電子 回神 金融 收斂 跌幅 中小股 衝鋒 電子 零件股 強勢 回歸 台指期 率先 反彈 台股 低點 彈升 大盤 震盪 回檔 翻紅 守住 終場 收漲', '其他 台灣 集中 市場 法人 買賣 三十台灣 集中 市場 法人 買賣 三十 代碼 名稱 外資 投信 自營商 合計 買賣 富邦 晶電 南電 金像電 中壽 智邦 仁寶 台泥 富邦 晶豪科 國泰 網路 資安 富邦 印度 世芯 國泰 臺灣 加權 茂矽 松翰 申豐 景碩 敦泰 富邦 富邦 神達 義隆 微星 大同 國泰 中國 愛普 瑞祺 電通 賣出 代碼 名稱 外資 投信 自營商 合計 買賣 中信金 元大 滬深 友達 元大 石油', '請益 賣出 逢低 還是 續留韭菜 希望 專家 鞭小力 一點 週四 買進 京元電子 緯創 高點 今天 京元電 跌幅 有點 嚇到 明天 台股 可能 樣子 請問 京元電 應該 賣出 然後 逢低 買進 還是 續抱', '個股 建碁 首季 虧損 業績 可望 優於財訊 快報 記者 王宜弘 報導 宏碁 旗下 建碁 受到 新冠 疫情 衝擊 首季 虧損 虧損 虧損 首季 虧損 虧損 建碁 指出 第二季 歐美 終端 市場 受到 疫情 影響 展望 保守 不過 部分 訂單 掌握度 首季 基期 偏低 之下 預期 業績 首季 回升 下半年 疫情 發展 進一步 觀察 建碁 宏碁 參與 私募 持股 成為 宏碁 公司 股東 緯創 持有 股份 公司 電腦 零組件 起家', '法人 小賣 外資 族群 面板 雙虎不同台股 終場 下跌 作收 外資 上周 台股 今日 縮手 投信 自營商 分別 轉為 合計 法人 外資 上周 回補 台積電 今日 調節 持續 賣超 富邦 累計 賣超 超過 買超 族群 青睞 不過 面板 雙虎 不同調 友達 群創 期貨 部分 外資 減碼 多單 多單 倉口數 自營商 加碼 多單 倉口數 來到 投信 加碼 空單', '新聞 外資 買超 億創 今年 單日原文 連結 原文 內容 外資 買超 億創 今年 台股 大漲 收在 法人 買超 外資 買超 創下 今年 外資 單日 買超 金額 紀錄 統計 買超 除了 之外 權值股 金融股 居多 買超 冠軍 富邦 中信金 台積電 分居二 台股 今日 開高 走高 國安基金 安定 投資人 信心 宣布 護盤 疫情 結束 權值股 領軍 上攻 權王 台積 電收 上漲 漲幅 股王 大立光收', '個人 研究 觀察 記錄 鴻海 分析 宏碁 轉型今天 法人 台股 其中 外資群 投信 自營商 自營 避險 來到 繼續 穩穩 年線 以上 交易日 外資 貿易戰 明朗 新春 以來 交易日 武漢 肺炎 開始 知道 大家 有沒有 注意到 今天 外資群 新春 開盤 以來 第一 台股 超過 來到 去年 外資群 然後 開始 天天 買到', '外資 單日 大量 富邦台股 日電金 傳產 權值股 同步 點火 終場 大漲 創近 高價 外資 現貨 創近 買超 大量 期貨 加碼 減碼 多單 不過 外資 富邦 終止 避險 味道 根據 證交所 統計 外資 陸資 買超 投信 買超 自營商 買超 擺脫 投信 苦撐 行情 局面 法人 買超 以來 單日 買超 大量 期貨 方面 外資 中止', '經濟日 報晨訊國安 基金 例會 聚焦 護盤 退場 柏南克 經濟 萎縮 美國 加碼 紓困 共識 白宮 研擬 計畫 重回 正軌 市場 力量 發揮 效用 調降 原油 產量 預測 訊號 大陸 恢復 正常 澳洲 月鐵 礦砂 出口 激增 資金 潮助攻 台股 重返 谷月涵 台股 反彈 只是 短暫 狂歡 營收 家數 攀升 科技部 領軍 廣達 集團 肺炎 快篩 突破 廣明 重啟 藍光 鍊金術 肺炎 快篩報捷 科技廠 防疫 設備 商機 出口 微減 預期', '電腦 設備 緯創 筆電 拉貨 業績 回溫時報 台北電 產線 復工 回升 帶動 緯創 產品線 出貨 動能 明顯 回溫 拉抬 營收 超過 五成 增長 筆電 產品 受惠 工作 教學 需求 帶動 客戶 拉貨 出貨 倍增 出貨 動能 可望 延續 第二 營運 後市 挹注 成長 動力 緯創 合併 營收 月增 不過 同時 受到 產能 完全 恢復 加上 印度廠 防疫 停工 影響 整體 表現 去年 同期 走弱 營收 年減 隨著 緯創 中國昆山 中山 重慶 主要', '早報 溫槍 需求 概念股 三月 營收開盤日 出刊 石油 減產 會議 召開 前夕 國際 油價 伺服器 應用 帶動 瀚宇博 月營 收創 貿易 戰後 疫情 工具 機族群 營運 平均 國際 股市 道瓊 指數 漲跌 幅度 作收 指數 漲跌 幅度 作收 上證 指數 漲跌 幅度 作收 台股 籌碼 變化 外資 投信 自營 融資 餘額 融券 餘額 法人 買賣 超前 外資 投信 自營商台 積電', '電腦 設備 緯創 擴大 資本 支出 外資 看好時報 記者 任珮云 台北 報導 緯創 累計 今年 合併 營收 季減 年減 疫情 影響 營收 創近 單季 公司 日前 公告 私募 發行 普通股 私募 方式 發行 參與 海外 存託 憑證 超過 額度 籌資 緯創 日前 法說 宣布 兩年 砸下 合計 美元 台幣 投資 擴充 印度 越南 產能 其中 美元 資本 支出 今年 外資 對於 緯創 今年 維持 相當 規模 資本 支出 給予 正向 解讀', '個人 研究 觀察 記錄 鴻海 分析 宏碁 轉型今天 法人 台股 其中 外資群 投信 自營商 自營 避險 來到 繼續 穩穩 年線 以上 交易日 外資 貿易戰 明朗 新春 以來 交易日 武漢 肺炎 開始 昨天 五月 正常 清明 長假 散戶 重重 一擊 台股 大漲 打破 放假 神奇 思考 直接 漲到 散戶 懷疑 人生 接下來 懷疑 人生', '統一 晨盤 卡關 指數 區間 震盪 逢低 佈局 操作財訊 快報 編輯部 昨日 盤勢 受到 前晚 美股 大漲 激勵 台股 昨日 以上 點至 開出 買盤 強勁 指數 衝高 挑戰 大關 權值股 積電 大立光 鴻海 聯發科 大型 權值股 並未 波段 先前 股華碩 宏碁 緯創 英業達 相對 轉弱 加上 金融股 賣壓 沉重 萬點 曇花一現 指數 亞股 走強 並未 大幅 回檔 終場 指數 上揚 成交量 觀察 盤面 變化 類股 上漲', '統一 證券 晨訊 指數 區間 震盪 逢低 佈局 操作日期 盤勢 分析 卡關 指數 區間 震盪 逢低 佈局 操作 昨日 盤勢 受到 前晚 美股 大漲 激勵 台股 昨日 以上 開出 買盤 強勁 指數 一度 衝高 挑戰 大關 權值股 台積電 大立光 鴻海 聯發科 大型 權值股 並未 波段 先前 華碩 宏碁 緯創 英業達 相對 轉弱 加上 金融股 賣壓 沉重 曇花一現 指數 亞股 走強 並未 大幅 回檔 終場 指數 上揚 收在 成交量', '遞延 出貨 緯創 營收中央社 記者 潘智義 台北 日電 武漢 肺炎 影響 出貨 遞延 緯創 資通 今天 公布 合併 營收 新台幣 去年 減少 合併 營收 緯創 統計 筆電 出貨 伺服器 桌上型 電腦 顯示器 緯創 指出 疫情 影響 筆電 部分 延遲 出貨 加上 辦公 教學 需求 筆電 出貨 去年 大增 不過 緯創 預期 接下來 出貨 回歸 正常 季筆電', '新聞 投資人 注意 逼近 行庫 布局原文 內容 投資人 注意 逼近 行庫 布局 記者 陳柔蓁 台北 報導 台北 加權 指數 今日 站上 終場 做收 投資 心情 現在 容易 回到 行庫 布局 大盤 表現 商品 富邦 元大 台灣 分析師 建議 投資人 後市 謹慎以待 今日 行庫 台股 買超 行庫 依序 友達 富邦 寶成 元大 台灣 遠東 國泰美國 道瓊 華航 元大 原油', '台北 股市 利多 匯集 反彈 外資 認錯 回補時報 台北 亞洲 股市 全面 反彈 受惠 美國 總統 川普 紐約州 疫情 和緩 跡象 以及 俄羅斯 沙烏地 達成 協議 利多 激勵 外資 回補 其中 認錯 回補 集中 電子股 金融股 聯電 開發金 台股 呈現 清明節 假期 報復性 反彈 終場 漲幅 上漲 收在 其餘 亞洲 股市 全面 走揚 擺脫 上周 重挫 干擾 由於 新冠 肺炎 疫情 持續 美國 蔓延 德信證券 副總 吳文彬 認為 台股 反彈 屬於 軋空頭 軋空手', '統一 證券 晨訊 逢低 佈局 震盪 區間 操作日期 盤勢 分析 逢低 佈局 震盪 區間 操作 昨日 盤勢 受到 亞股 道瓊 期指 走強 激勵 台股 昨日 以上 開出 指數 一度 衝高 拉回 平盤 翻黑 權值 積電 大立光 聯發科 環球晶 國巨 和泰車 走揚 指數 逐步 脫離 平盤 推高 加上 尾盤 追價 買盤 拉升 指數 盤堅 收高 終場 指數 上揚 收在 成交量 觀察 盤面 變化 類股 上漲 其中 電子 傳產 金融 分別 上漲 在次 族群 部份', '個人 研究 觀察 記錄 鴻海 分析 宏碁 轉型鴻海 營收 成長 鴻海 月份 營收 月增 年減 記得 鴻海 第一 法人 說明會 原本 預計 三月 恢復 產能 三月 初時 產能 以上 三月 二十 左右 鴻海 產能 恢復 百分之一百 如果 產能 百分之一百 營收 去年 一樣 持分 三月份 鴻海 營收 年減 算是 表現 非常 最後 大家 記得 鴻海 股價 不然 怎樣 股價 為了 反應 什麼 鴻海', '公司 公告 股息 市場 焦點已經 進入 月份 去年 財報 數字 已經 公告 差不多 我們 除了 關心 去年 公司 獲利 之外 關心 我們 可以 拿到 多少 股息 統計 上市 公司 之中 已經 公告 股利 政策 公司 已經 將近 不過 公司 股利 給得 漂亮 公司 股息 殖利率 公司 股息 殖利率 偏低 公司 配發 股息 大方 公司 配發 股息 小器 所以 我們 到底 哪些 今天 一起 看看 由於 已經 公告 股利 政策', '法人 同步 買超 外資 加碼 代工 五哥 大砍 友達台股 終場 大漲 今日 法人 連假 同步 買超 合計 買超 外資 鎖定 代工 友達 總計 買超 投信 自營商 分別 買超 期貨 方面 外資 減碼 多單 多單未平 口數 投信 減碼 空單 空單 口數 來到 自營商 加碼 多單 合計 多單 倉口數 外資 今日 代工 其中 買超 英業達 張居冠 廣達 仁寶 緯創 和碩 分別 買超 外資', '外資 回頭 買超 台股 代工 青睞中央社 記者 韓婷婷 台北 日電 台股 今天 上漲 法人 全數 買超 其中 外資 回頭 買超 新台幣 除了 連續 買超 台積電 代工 五哥 獲得 外資 青睞 擠進 買超 台股 今天 美股 期指 電子盤 走高 亞股 全面 反彈 帶動 開高 震盪 走高 電子股 尤其 筆電 伺服器 雲端 相關 族群 扮演 多頭 領軍 角色 推動 指數 大漲 漲幅 成交值 新台幣 法人 全數 買方 合計 買超 外資', '其他 台灣 集中 市場 法人 買賣 三十台灣 集中 市場 法人 買賣 三十 代碼 名稱 外資 投信 自營商 合計 買賣 宏碁 富邦 國泰 網路 資安 新金 玉山金 兆豐金 華南金 中信金 第一 合庫金 聯電 富邦 中環 國泰中國 緯創 燿華 中石化 奇鋐 元大 全球 未來 通訊 正隆 元大 正文 群益 深証 中小 友訊 元大 黃金 仁寶 南亞 富邦 印度 貿聯 嘉聯益 代碼 名稱 外資 投信 自營商 合計 買賣 元大台灣', '新聞 外資期 現貨 不同調 回頭 轉買 富邦外資 期現貨 不同調 回頭 轉買 富邦 調節 台積電 鉅亨網 記者 林薏茹 台北 台股 失守 午盤 跌幅 收斂 終場 下跌 日線 復得 外資 期現貨 操作 再度 不同調 加碼 期貨 多單 不過 持續 賣超 現貨 賣超 其中 外資 轉買 富邦 調節 台積電 法人 今日 現貨 賣方 賣超 其中 外資 陸資 自營商 投信 買超 期貨 方面 外資 多單', '個人 研究 觀察 記錄 鴻海 分析 宏碁 轉型財報 鴻海 淨利 歸屬 公司 財報 碩業 內外 去年 元創 新高 配息 殖利率 財報 廣達 去年 配息 殖利率 財報 緯創 淨利 歸屬 公司 業主 財報 仁寶 歸屬 公司 淨利 鴻海 去年 第四 營收 季增 年減 毛利率 季增 分點 分點 營益率 季增 百分點 分點 純益 季增', '個人 研究 觀察 記錄 鴻海 分析 宏碁 轉型鴻海 去年 第四 營收 季增 年減 毛利率 季增 分點 年減 分點 營益率 季增 分點 百分點 純益 季增 淨利率 季增 分點 分點 純益 電子 五哥 財報 開出來 稅後 獲利 第一 鴻海 奪得 冠軍 今天 收盤 股價 去年 第三季 淨值 第二 和碩 元配 今天 收盤價 去年 第三季 淨值 第三 廣達 元配 今天', '自己 股價 自己 實施 庫藏股時報 報要聞 台股 以來 大跌 共有 上市 櫃公司 宣布 實施 庫藏股 合計 斥資 進場 護盤 其中 可成 聯發科 宏碁 台郡 緯創 買進 金額 有望 帶動 意願 參與 權息 行情 投資人 股東 一起 買進 根據 統計 以來 上市 櫃公司 宣布 實施 庫藏股 其中 現金 殖利率 老牌 企業 台泥 嘉泥 新光鋼 率先 自救 蘋概股 可成 台郡 緯創 全新 進場 護盤 股利 麗豐 德麥 伸興 冠星', '券商晨訊 台股 投資 組合 建議券商 重複 推薦 智伸科 祥碩 券商 推薦 台積電 聯發科 大立光 宏碁 亞太電 緯創 華碩 微星 穩懋 全新 裕日車 裕隆 和泰車 昭輝 愛普 鈺太 力旺 義隆 瑞昱 茂達 券商 推薦股 大昌 投顧 台積電 聯發科 大立光 日盛 金控 智伸科 宏碁 祥碩 亞太電 緯創 華碩 微星 統一 證券 穩懋 全新 裕日車 智伸科 裕隆 和泰車 昭輝 愛普 鈺太 力旺 義隆 祥碩', '緯軟 獲利公開 資訊 觀測站 重大 訊息 公告 緯軟 公告 公司 第一 董事會 重大 決議 事項 事實 發生日 公司 名稱 緯創 軟體股份 有限 公司 公司 關係 輸入 公司 子公司 公司 相互 持股 比例 適用 發生 緣由 通過 公司 年度 個體 財務 報告 年度 個體 財務 報告 編製 完成 安侯 建業 聯合 會計師 事務所 陳雅琳 黃明宏 會計師 查核 單位 新台幣 營業 收入 營業 毛利 營業 淨利 稅前 淨利 淨利 稅後 基本 盈餘', '公告 緯軟 第一 董事會 重大 決議 事項公司 名稱 緯軟 緯軟 第一 董事會 重大 決議 事項 發言人 長育禎 事實 發生 公司 名稱 緯創 軟體 股份 有限 公司 公司 關係 輸入 公司 公司 公司 相互 持股 比例 適用 發生 緣由 通過 公司 年度 個體 財務 報告 年度 個體 財務 報告業 編製 完成 安侯 陳雅琳 黃明宏 會計師 查核 單位 新台幣 營業 收入 營業 毛利 營業 淨利 稅前 淨利', '公告 緯軟 董事會 決議 買回 緯軟股份公司 名稱 緯軟 董事會 決議 買回 緯軟 股份 發言人 長育禎 董事會 決議 日期 買回 股份 目的 轉讓 股份 員工 買回 股份 種類 普通股 買回 股份 金額 上限 預定 買回 期間 預定 買回 數量 買回 區間 價格 公司 股價 低於 區間 價格 下限 繼續 買回 買回 方式 集中 交易 市場 買回 預定 買回 股份 公司 發行 股份 總數 比率 申報 持有 公司 股份 累積 股數 申報 買回', '新聞 今日 台股 重點 掃描今日 台股 重點 掃描 經濟日報 記者 廖賢龍 即時 報導 禁空令 生效 美國 參議院 未能 通過 防疫 紓困 方案 導致 日美 電子盤 大跌 亞股 重挫 台股 開盤 跳水 國安基金 進場 護盤 終場 大跌 點收 拉出 下影線 表現 股市 穩健 權王 台積電 股王 大立光 禁空令 生效 有助 今日 盤勢 回穩 觀光 紓困 補貼 員工 觀光 旅館業 新冠 肺炎 疫情 衝擊 交通部長 林佳龍 邀集', '今年 紀錄 持續 更多更新 今天 美股 大漲 回血 一點 禮拜 今天 為止 等於 希望 早點 然後 配息 記錄 一下 明天 應該 華南金 均價 現價 目前 玉山金 現價 目前 台中銀 均價 現價 目前 合庫金 均價 現價 目前 臺企銀 均價 現價 目前', '新聞 衝刺 雲端 事業 代工廠原文 連結 原文 內容 衝刺 雲端 事業 代工廠 有喜 經濟日報 經濟日報 記者 吳凱中 即時 報導 網路 巨頭 衝刺 雲端 業務 制定 計畫 力求 超越 市場 第二 微軟 市場 看好 除了 擴增 旗下 服務 進一步 帶動 資料中心 建置量 有利 相關 應鏈 廣達 英業達 緯穎 伺服器 業務 營運 外電 報導 湯瑪斯 庫里安 內部 制定 計畫 成為 雲端 產業 第二 業者 擠下 現在 市佔率 第二 微軟 領先 亞馬 構成 嚴重', '證交所 完成 檔新權證 發行 申請案 審核發行人 名稱 名稱 元富證券 元大 標普 傘型 證券 投資 信託 基金 標普 單日 正向 證券 投資 信託 基金 大立光電 大立光電 大立光電 大立光電 元大台灣 卓越 證券 投資 信託 基金 光電科技 宏達國際 電子 宏達國際 電子 旺宏 電子 欣興 電子 華通電腦 華新科技 華新科技 瑞昱 半導體 聯發科技 中國 信託 證券 富邦 標普 波動率 短期 期貨 指數 股票型 期貨 信託 基金 台光 電子 材料 元大 台灣 卓越 證券 投資 信託 基金 美律', '看好 緯創好像 愈來愈', '個人 研究 觀察 記錄 鴻海 分析 宏碁 轉型今天 法人 台股 其中 外資群 投信 自營商 自營 避險 來到 交易日 外資群 貿易戰 明朗 新春 以來 交易日 武漢 肺炎 開始 外資群 算是 清倉 接下來 觀察 外資群 波段 是否 大量 籌碼 或是 已經 台積電 部份 今天 外資群 今天 交易日 台積電 新春 交易日 以來 台積電', '要聞 搶救 企業 座談 登場 打頭新冠 肺炎 蔓延 全球 國際 油價 衝擊 經濟 行政院 政委 龔明鑫 經濟部長 沈榮津 聯手 梯次 密集 產業界 座談 瞭解 產業 想法 制定 因應 疫情 政策 依據 半導體 面板 網通業 資通訊 產業 打頭陣 包括 電子 五哥 和碩 廣達 緯創 半導體 產業 日月光 聯電 力晶 業者 派員 出席 值得 注意 國際 油價 崩跌 引發 全球性 恐慌 沈榮津 表示 只是 短時現象 鬆口 電價 凍漲 穩定 物價 機會', '光電股 還是 獨家 茂林 蘋果 發光 鍵盤 掉單天風 國際 證券 分析師 郭明錤 指出 精元 供貨 蘋果 剪刀腳 鍵盤 導光板 打破 茂林 獨家 供應 地位 不過 根據 側面 聽到 公司 方面 消息 指出 目前 茂林 百分之百 供應商 沒有 聽聞 掉單 報告 內容 指出 緯創 茂林 採購 導光板 實際 茂林 供貨 緯創 茂林 去年 重回 美系 客戶 剪刀腳 按鍵式 鍵盤 導光板 供應鏈 帶動 營收 表現 強勁 單季 合併 營收 季增 成長 營收 年減 茂林 重回 發光 鍵盤 供應鏈', '產業 肺炎 疫情 衝擊 第一 損失中央社 記者 吳柏緯 台北 日電 受到 武漢 肺炎 疫情 升溫 國際 油價 暴跌 衝擊 台灣 產業 受到 影響 理事長 李長明 指出 今年 第一季 台灣 中國大陸 產業 損失 大約 全球 爆發 武漢 肺炎 疫情 加上 國際 油價 崩跌 產業 造成 衝擊 經濟部長 沈榮津 昨天 立院 備詢 透露 經濟部 通訊 民生 化工 金屬 機電 以及 內需型 服務業 業者 座談 作為 擬訂 相關 政策 依據 第一 座談 鎖定 產業 今天 中午 經濟部 舉行', '台北 股市 陸廠 持續 復工 台股 醞釀 反彈新冠 肺炎 疫情 大陸 獲得 控制 大陸 企業 陸續 復工 台股 上市 櫃公司 營運 恢復 正常 隨著 大陸 國家 主席 習近平 考察 武漢 利多 激勵 信心 復工 概念股 日多數 翻紅 跌幅 收斂 國巨 展開 報復性 反彈 大陸 國家 主席 習近平 飛機 武漢 考察 湖北 武漢 防制 疫情 情況 給予 投資 市場 信心 亞洲 股市 翻紅 因為 武漢 今年 封城 以來 近平 首度 視察 武漢 疫情 隨著 肺炎 疫情 大陸 獲得 控制 大陸', '台北 股市 上市櫃 營收肺炎 疫情 風暴 來襲 陸廠 復工 困難 重重 拖累 上市櫃 企業 營收 總額 滑落 年減 創下 以來 累計 營收 去年 減少 功率 大器 設計 通路 逆境 成長 類股 營收 分別 年增 七成 三成 二成 根據 統計 營收 歷史 新高 家數 從前 大幅 降低 所幸 去年 同期 持平 綜觀 上市櫃 公司 營收 鴻海 台積電 和碩 廣達 國泰金 持續 坐穩 寶座 廣達 國泰', '外資 觀點 亞系 美系 外資 喊賣 可成 下修 目標價 投信 轉賣可成 營收 七成 亞系 美系 外資 出爐 報告 同步 保守 看待 可成 喊賣 其中 亞系 外資 目標價 原先 下修 重申 減碼 評等 外資 重申 減碼 評等 目標價 投信 轉為 賣超 亞系 外資 表示 由於 可成 機殼 滲透率 緩慢 鴻海 透過 價格 獲取 市佔 今年 下半年 看到 毛利率 回到 恐難度 加上 全球 經濟 趨緩 決定 調降 明年 獲利 預估 調降 可成 盈餘 預估值 分別', '獲利 低於 預期 亞系 外資 下修 目標價中央社 記者 吳家豪 台北 金屬 機殼廠 可成 去年 獲利 低於 市場 預期 外資 表示 全球 智慧型 手機 下修 維持 可成 減碼 評等 目標價 降至 外資 重申 減碼 評等 目標價 可成 股價 今天 下跌 開出 盤中 來到 成交量 超過 外資 發布 研究 報告 分析 可成 盈餘 新台幣 季增 儘管 出貨 帶動 可成 營收 成長 毛利率 營業 利益率 低於 預期', '顯示器 出貨 減幅 擴大 代工廠 營運 復甦武漢 肺炎 疫情 衝擊 代工廠 中國 廠區 復工 出貨 狀況 代工廠 廣達 仁寶 緯創 和碩 英業達 營收 普遍 滑落 強調 營運 可望 逐步 回穩 根據 市調 機構 預期 今年 個人 電腦 顯示器 疫情 衝擊 出貨 年減 表示 去年 個人 電腦 顯示器 更新 帶動 全年 出貨 逆勢 成長 隨著 更新 結束 預期 今年 個人 電腦 顯示器 放緩 近期 肺炎 疫情 升溫 衰退 幅度 預期 今年 整體 出貨量 降低', '心得 畢業 等等 刪文 不要看到 已經 涼透 滷肉 張緯創 張紅茶 帳戶 反正 大概 目前 明天 出去 絕望 意見 不要 出來', '新聞 電子 報復性 反彈 可望 恢復 季節電子 報復性 反彈 可望 恢復 季節性 正常 產能 聯合晚報 記者 吳凱中 台北 報導 中國大陸 復工 台灣 電子 五哥 恢復 正常 季節性 人力 水準 力求 報復性 反彈 出貨 肺炎 疫情 大陸 逐漸 得到 控制 大陸 官方 加速 催促 復工 鴻海 集團 宣示 人力 正常 季節性 緯創 跟進 表態 回復 正常性 人力水 英業達 仁寶 表示 改善 復工 大陸 官方 就業 政策', '類股 緯創 英業達 出貨 跌破 百萬肺炎 疫情 升高 筆電 代工廠 復工 延遲 產能 降至 低點 之際 緯創 英業達 筆電 年貨量 雙雙 跌破 百萬 營收 位數 跌幅 呈現 進入 月後 出貨 動能 回溫 第一季 雙位 幅度 進一步 擴大 緯創 合併 營收 下滑 衰退 年減 以來 單月 新低 累計 其今 二月 合併 營收 年減 受到 旗下 主要 生產 重地 包括 昆山 中山 重慶 中國 廠區 疫情 拖累 復工 進程', '緯創 出貨 看回 今年 營運 成長 目標新聞 記者 張以忠 報導 緯創 公告 營收 年減 單月 主因 受到 武漢 肺炎 疫情 影響 除了 顯示器 之外 產品線 下滑 展望 後市 緯創 指出 復工 回到 常軌 預期 伺服器 出貨 月增 桌上型 電腦 倍數 成長 顯示器 月增 個位數 整體 出貨 可望 好轉 目前 展望 明朗 不過 目前 客戶 下修 展望 後續 供應 完全 恢復 之後 確認 後續 市場 需求 緯創', '晚報 三王 甩尾 聯發科 助攻 台股 終場 重登 萬一開盤日 出刊 疫情 受控 跡象 油市 恐慌 下殺 美油 布油 重挫 加上 美債 殖利率 破底 昨日 美股 出現 融斷 恢復 交易 恐慌 賣壓 上演 逃殺 指數 終場 跌幅 介於 其中 費半 跌幅 道瓊 重挫 無力 搶回 年線 現貨 黃金 跳空 開高 一度 上攻 美元 盎司 終場 回落 美元 盎司 漲幅 收斂 美股 恐慌 逃殺 重挫 背景 今日 台股 受到 新台幣 走揚 道瓊 期指 原油期 出現 回彈 跡象 早盤 開低 午盤', '個股 代工廠 業績 慘淡 和碩 逆勢 同比 後市 營運 可望 逐漸 回復 正軌新冠 肺炎 疫情 衝擊 大陸廠 延遲 開工 以及 復工率 偏低 因素 筆電 大廠 營收 慘淡 普遍 去年 農曆 春節 長假 效應 下滑 不過 和碩 異軍突起 合併 營收 去年 表現 至於 英業達 筆電 出貨 剩下 元月 銳減 幅度 單月 合併 營收 跌幅 大減 去年 同期 衰退 不過 業績 之下 業績 慘淡 市場 預期 之中 因此', '代工廠 營收 減逾 和碩 持平 去年 同期代工廠 營收 出爐 反應 武漢 肺炎 疫情 衝擊 營運 廣達 和碩 筆電 出貨量 減逾 廣達 單月 營收 跌破 和碩 產品 組合 調整 抵銷 部分 疫情 衝擊 持平 去年 表現 相對 穩健 廣達 合併 營收 以來 單月 筆電 出貨量 累計 今年 合併 營收 年減 廣達 表示 中國 廠區 陸續 復工 部分 員工 自主 隔離 物流 問題 導致 營運 理想', '如果 台股 跌破 本宮存在 難怪 仁寶 不會 緯創 早已 低點 拜託 趕快 出清 仁寶 持股', '營收 緯創 營收 月增率 年增率緯創 自結 營收 相較 減少 金額 減少 相較 減少 金額 減少 累計 營收 相較 減少 金額 同期 減少', '緯創 營收 年減緯創 營收 資料 單位 累計 營收 去年 增減 增減 百分比 資料 來源 理財網', '熱門 族群 營收 兩樣 華碩 年減 仁寶 緯創 重跌品牌 陸續 公布 營收 目前 看來 品牌廠 營收 衰退 情況 輕微 華碩 集團 營收 年減 其餘 仁寶 緯創 營收 年減 以上 華碩 月份 合併 營收 新台幣 年減 累計 合併 營收 新台幣 品牌 營收 華碩 表示 新型 肺炎 疫情 快速 變化 公眾 利益 優先 啟動 防疫 政策 勢將 短期 消費 需求 供應鏈 產出 造成 壓力 華碩 審慎 關注 疫情 變化 妥善 調配 營運 重心 資源', '法人 觀點 外資 台股 創史 單日 第三 第一 投信 短線受到 國際 油價 暴跌 加上 肺炎 疫情 衝擊 全球 股市 外資 台加大 金額 統計 外資 台股 集中 市場 創史 單日 第三 外自 之後 年多 單日 台股 最多 台股 今天 帶量 重挫 收在 成交量 帶量 下殺 了解 外資 單日 金額 最多 當時 受到 美國 次級 房貸 風暴 衝擊 第二 當時 主要 受到 飛利浦 釋股 台積', '台股 美股 急崩蘋概 疲軟 重挫 防疫 族群 獨秀全球 肺炎 疫情 持續 升溫 美股 再度 崩跌 亞股 跟進 走跌 蘋概 三王 跛腳 加上 傳產 權值 台塑 四寶 金融股 同步 疲軟 跌幅 持續 擴大 重挫 回測 支撐 多數 走弱 買盤 點火集 防疫 概念股 成交量 美股 重挫 大跌 影響 蘋概 三王 走弱 台積電 下跌 探至 鴻海 開低 震盪 跌幅約 力守 關卡 股王 大立光 平盤 遊走 其他 權值股 方面 和泰車 儒鴻 上海 商銀 緯創 友達', '台股 美股 急崩蘋概 疲軟 重挫 防疫 族群 獨秀全球 肺炎 疫情 持續 升溫 美股 再度 崩跌 亞股 跟進 走跌 蘋概 三王 跛腳 加上 傳產 權值 台塑 四寶 金融股 同步 疲軟 跌幅 持續 擴大 重挫 回測 支撐 多數 走弱 買盤 點火集 防疫 概念股 成交量 美股 重挫 大跌 影響 蘋概 三王 走弱 台積電 下跌 探至 鴻海 開低 震盪 跌幅約 力守 關卡 股王 大立光 平盤 遊走 其他 權值股 方面 和泰車 儒鴻 上海 商銀 緯創 友達', '美股 重挫 拖累 台股 被動 基金 贖回 外資中央社 記者 潘智義 台北 日電 武漢 肺炎 疫情 歐美 蔓延 美股 道瓊 指數 重挫 台股 遭殃 動式 基金 贖回 影響 外資 今天 台股 新台幣 大型 權值股 名是 台積電 台股 今天 大跌 成交值 新台幣 法人 合計 其中 自營商 投信 買超 外資 陸資 華南 投顧 董事長 儲祥生 表示 疫情 中國大陸 擴散 歐美 國家 超出 原本 預期', '代工 龍頭台積電 大立光 技術 贏過 第二 太多 鴻海 包給 鴻海 包給 碩緯 創作 差不多 自然 不會 太多 利潤', '瘋狂 大疊 瘋狂 大疊小心 不要 昏頭 套牢 不要 小心 套牢 股票 代號 股票 名稱 買進 賣出 現金 償還 前日 餘額 今日 餘額 限額 買進 賣出 現券 償還 前日 餘額 今日 餘額 限額 資券 註記 首利 信錦 川湖 光寶科 麗正 聯電 全友 台達電 金寶 華通 台揚 楠梓電 鴻海 東訊 中環 仁寶 國巨 廣宇 華泰 台積電 精英 友訊 旺宏 光罩 光磊 茂矽 華邦電 智邦 聯強 錸德 順德 佳世達 宏碁 鴻準 敬鵬', '心得 大盤連休 第一 真的 有點 小忙 開盤 看到 大盤 跳空 年線 小弟 朋友 根本 直接 開底 破底 需要 可以 資料 看看 看看 小心 摸到 上去 看到 大盤 拉掛 看看 不會 任務 後來 觀察 一下 金融指 發現 今天 金融 強勢 只好 中途 任務 結束 回家 至於 今天 唯一 其實 怎麼 擔心 因為 白銀 買入 股票 週五 非常 漂亮 洗盤 賣出 賠賣 隔夜沖 券商 炒底', '今晚 美股 走勢 預言博士 羅比尼 警告 美股 今年 可能 跌掉 四成 川普 連任 岌岌可危 穆迪 分析 首席 經濟學家 警告 華爾街 嚴重 低估 武漢 肺炎 演變成 全球 流行 美國 經濟 造成 傷害 美國 總統 川普 可能 因此 付出 連任失敗 代價 首利 信錦 川湖 光寶科 麗正 聯電 全友 台達電 金寶 華通 台揚 楠梓電 鴻海 東訊 中環 仁寶 國巨 廣宇 華泰 台積電 精英 友訊 旺宏 光罩 光磊 茂矽 華邦電 智邦 聯強 錸德 順德', '新聞 路透 緯創 印度 蘋果 組裝路透 緯創 印度 蘋果 組裝 路透 引述 知情 人士 說法 蘋果 供應鏈 台灣 緯創 資通 計畫 印度 南部 工廠 組裝 印刷 路板 緯創 開始 印度 南部 科技中心 加羅爾 生產 蘋果 機型 目前 組裝 緯創 當地 組裝 印刷 路板 消息 人士 緯創 第二 工廠 加羅爾約 公里 預計 投入 營運 生產 部分 手機 出口 工廠 預計 生產 最多 智慧 手機 計畫', '證交所 完成 檔新權證 發行 申請案 審核發行人 名稱 名稱 旺宏電子 矽創 電子 冠德 建設 南亞 電路板 電裝 工業 科技 國泰 金融 控股 科技 智原 科技 貿聯 控股 新光 金融 控股 瑞儀光電 義隆電子 嘉聯益 科技 緯創 資通 臻鼎 科技 控股 聯發科技 聯發科技 聯詠科技 瀚宇博德 鴻海 精密 工業 鴻海 精密 工業 鴻海 精密 工業 富邦證券 台灣 積體 電路 製造 台灣 積體 電路 製造 華新科技 貿聯 控股 鴻海 精密 工業 元大證券', '熱門 族群 武漢 疫情 手機 供應鏈 外資 暖點新型 冠狀 病毒 武漢 肺炎 疫情 持續 延燒 歐系 外資 針對 大中華區 智慧 手機 供應鏈 出具 報告 外資 認為 目前 看來 影響 有限 蘋果 組裝股 機會 蘋果 預計 推出 急單 效應 另外 大立光 聯發科 點名 相對 保險 公司 主要 因為 主要 設計 生產中心 台灣 外資 指出 新型 冠狀 病毒 大中華區 智慧 手機 供應鏈 鴻海 大立光 可成 聯發科 瑞聲 舜宇光學 以及 立訊 基本面 生產 能力 影響 有限 外資', '外資 重申 聯發科 持有 評等 鴻海 大立光中央社 記者 吳家豪 台北 日電 歐系 外資 表示 聯發科 手機 供應鏈 廠商 中國 產能 有限 加上 大部分 供應商 產能 移出 中國 武漢 肺炎 影響 有限 重申 聯發科 持有 評等 看好 鴻海 大立光 浮現 歐系 外資 發布 研究 報告 指出 武漢 肺炎 疫情 中華區 智慧型 手機 供應鏈 基本面 生產 能力 影響 有限 原因 大部分 相關 企業 並未 疫情中心 湖北省 設廠 即使 湖北省 設廠 手機 供應鏈 廠商 例如 台灣 代工廠 鴻海 中國', '外資 觀點 外資 重申 聯發科 中立 評等 目標價外資 出爐 報告 表示 武漢 肺炎 疫情 大中華區 智慧型 手機 供應鏈 基本面 生產 能力 影響 有限 即使 湖北省 設廠 手機 供應鏈 廠商 例如 台灣 代工廠 鴻海 中國 連接器 廠立訊 當地 產能 營收 貢獻 低於 重申 聯發科 中立 評等 目標價 外資 預期 鴻海 光學 鏡頭廠 大立光 股價 重挫 有望 浮現 買點 尤其 中國 農曆 春節 假期 造成 月底 供應商 趕工 生產 交貨期 良率 鴻海 因應 急單', '上市 認購 權證 彙總表認購 美式 代號 簡稱 標的 數量 單位 存續 期間 履約價 認購 美式 聯發科 聯發科 認售 歐式 台光電 亞東 台光電 認購 美式 鴻海 統一 鴻海 認購 美式 全新 統一 全新 認購 美式 奇鋐 統一 奇鋐 認購 美式 泰碩 統一 泰碩 個月 認售 歐式 國巨 統一 國巨 個月 認售 歐式 台積電 統一 台積電 個月 認售 歐式', '富邦 證券 認購 權證 終止 上市 總表簡稱 代號 標的 最後 交易日 終止 上市日 履約價 行使 比例 滬深 富邦 元大 滬深 欣興 富邦 欣興 智邦 富邦 智邦 貿聯 富邦 貿聯 緯穎 富邦 緯穎 石油 富邦 元大 石油 美律 富邦 美律 表科 富邦 表科 滬深 富邦 元大 滬深 大立光 富邦 大立光 群創 富邦 群創 緯創 富邦 緯創 富邦 元大 群創 富邦 群創 台積電 富邦', '產業 新型 冠狀 病毒 疫情 影響 緯創 印度 新廠 關鍵 組件 生產 計畫 推遲台灣 代工 業者 緯創 位在 印度 南部 新廠 生產 印刷 電路板 凸顯出 蘋果 努力 拓展 全球 第二 智能 手機 市場 生產 其中 消息 人士 提到 中國 新型 冠狀 病毒 肺炎 疫情 可能 導致 緯創 蘋果 印度 計畫 推遲 緯創 印度 當地 生產 專業 代工 行業 首見 緯創 年起 班加羅爾 生產 蘋果 低價 目前 當地 工廠 生產 消息 人士 提到 緯創 第二 工廠 位在 距離 班加羅爾約 公里 預料 運營 他們 生產 當中', '緯軟 緯創 軟件 北京 緯創 軟件 武漢 延長 春節 假期公開 資訊 觀測站 重大 訊息 公告 緯軟 重要 公司 緯創 軟件 北京 有限公司 緯創 軟件 武漢 有限 公司 公告 有關 新型 冠狀 病毒 疫情 影響 相關 說明 事實 發生日 公司 名稱 緯創 軟件 北京 有限 公司 緯創 軟件 武漢 有限 公司 公司 關係 輸入 公司 公司 子孫 公司 相互 持股 比例 適用 發生 緣由 配合 大陸 當局 防疫 措施 延長 春節 假期 因應 措施 配合 大陸 當局 防疫 措施 緯創 軟件 北京 有限 公司 緯創 軟件 武漢', '個股 緯軟 旗下 北京 武漢 緯創 軟件 配合 冠狀 病毒 防疫 延長 春節 假期重要 公司 緯創 軟件 北京 有限 公司 緯創 軟件 武漢 有限 公司 公告 有關 新型 冠狀 病毒 疫情 影響 相關 說明 事實 發生 公司 名稱 緯創 軟件 北京 有限 公司 緯創 軟件 武漢 有限 公司 公司 關係 輸入 公司 子公司 子孫 公司 相互 持股 比例 適用 發生 緣由 配合 大陸 當局 防疫 措施 延長 春節 假期 措施 配合 大陸 當局 防疫 措施 緯創 軟件 北京 有限 公司 緯創 軟件 武漢 有限 公司 延長 春節 假期 營業', '台北 股市 台股 殖利率 外資豬年 封關 收盤 指數 第九 封關 收在 之上 證交所 總經理 簡立忠 指出 目前 股價 指數 本益比 殖利率 股價 淨值 觀察 目前 呈現 上升 殖利率 微降 水準 外資 具有 一定 吸引力 年底 外資 持股 比重 創下 歷史 新高 豬年 封關日 外資 回頭 買超 台股 金鼠年 迎來 兆頭 累計 豬年 買超 統計 買超 鴻海 最多 其次 台積電 大立光 蘋果', '台北 股市 焦點股 南六 美吾華 太景 恆大 雙邦 國光生台積電 奈米 產能 國際 大廠 破頭 昨夜 武漢 肺炎 嚇壞 早盤 放量 探至 華邦電 看俏 大盤 崩跌 衝擊 股價 重挫 摔出 季線 南亞科 豬年 封關日 外資 鼠年 開盤 跟隨 大盤 跌近 京元電 公告 武漢 肺炎 疫情 公司 大陸 子公司 財務 業務 重大 影響 早盤 股價 跌逾 探至 低點 日月光 投控 昨夜 早盤 不敵 空軍 壓境 帶量 跌逾 精材 豬年 封關 日外資 轉賣 衝擊 今日 開盤 股價 跳空', '科技 疫情 蔓延 精英 英業達 廣達 緯創 部分 陸廠 延後 開工隨著 武漢 肺炎 疫情 升溫 台灣 系統廠 中國 廠區 春節 開工 時程 配合 新型 冠狀 病毒 防疫 工作 在地 政府 機關 發布 延遲 復工 通知 調整 目前 台廠 宣布 春節 復工 時間 延後 精英 電腦 旗下 位於 廣東 子公司 興英科技 配合 廣東省 人民 政府 發布 延遲 復工 通知 要求 境內 企業 不得 早於 時前 復工 因此 延遲 日才 正式 復工 配合 新型 冠狀 病毒 防疫 工作 精英 表示 公司 成立 專責 防疫 管理 小組 密切', '武漢 肺炎 疫情 升溫 台股 狂瀉 新春 慘開 紅盤 止跌 訊號 重點武漢 肺炎 疫情 擴散 台股 紅盤 重挫 失守 大關 跌幅 超過 創近 新春 紅盤 跌勢 預估 成交值 爆出 大量 大舉 湧現 補跌 賣壓 法人 提醒 武漢 封城 留意 武漢 設廠 上市 櫃公司 營運 停工 衝擊 程度 台股 跌多 重要 止跌 訊號 指標 武漢 肺炎 疫情 擴散 人數 死亡 人數 不斷 攀升 台股 盤中 爆量 摜壓到 重挫 跌幅 超過 法人 表示 跌勢沒收斂 改寫 新春 開紅', '個股 緯創 大陸 公司 配合 當地政府 延長 春節 假期 全球 生產 營運 機動 調整有關 武漢 肺炎 影響 說明 事實 發生日 公司 名稱 緯創 大陸 公司 公司 關係 輸入 公司 公司 公司 相互 持股 比例 適用 發生 緣由 有關 武漢 肺炎 影響 說明 因應 措施 公司 內部 成立 新型 肺炎 防疫 專責 單位 廠區 加強 新型 冠狀 病毒 感染 肺炎疫 防控 措施 有效 阻斷 疫情 傳播 保障 員工 生命 安全 身體 健康 公司 大陸 子公司 配合 當地 政府 延長 春節 假期 所在地 政府 規定 時間 開工 配合', '蘋果 財報 不敵 肺炎 病毒 蘋概 倒地中央社 記者 韓婷婷 台北 日電 武漢 肺炎 影響 投資人 信心 儘管 蘋果 財報 表現 亮眼 後續 影響 評估 衝擊 台灣 相關 蘋概 今天 新春 開盤 首日 先行 補跌 鴻海 玉晶光 重挫 跌停 生產 重鎮 大陸 鴻海 由於 湖北 武漢 地區 受到 肺炎 疫情 影響 市場 擔憂 今天 鴻海 股票 賣壓 湧現 開低 走低 觸及 跌停價 量能 快速 放大 收盤 跌停 成交量 高達 蘋概股 弱勢 表現 盤面 擴散 包括 正崴 嘉聯益 欣興', '武漢 肺炎 疫情 升溫 代工廠 配合 中國政府 延後 復工 營收 影響新型 冠狀 病毒 簡稱 武漢 肺炎 疫情 持續 蔓延 台灣 代工廠 廣達 緯創 和碩 仁寶 英業達 表示 中國 廠區 開工 時程 配合 當地 政府 機動 調整 法人 指出 雖然 代工廠 主要 生產 據點 武漢 受到 中國 整體 開工 時間 延後 出貨 營收 影響 廣達 表示 中國 上海 重慶 配合 當地 政府 延後 復工 相關 配套 措施 備妥 人員 進行 動態 調整 營運 方面 由於 去年 客戶 因應 農曆年 提早 拉貨 表現 優於 預期', '電腦 設備 創設 防疫 專責 單位 全球 生產 營運 機動 因應因應 武漢 肺炎 緯創 發布 重訊 強調 公司 內部 成立 新型 肺炎 防疫 專責 單位 廠區 加強 新型 冠狀 病毒 感染 肺炎 疫情 防控 措施 有效 阻斷 疫情 傳播 保障 員工 生命 安全 身體 健康 了解 緯創 武漢 研發 服務 據點 緯創 強調 大陸 公司 配合 當地 政府 延長 春節 假期 所在 地政府 規定 時間 開工 另外 配合 復工 產品 生產 需求 全球 生產 營運 地區 機動 調整 緯創 董事長 林憲銘 日前 旺年 表示 雖然 去年 印度 投資 明顯 成長', '上市 自營商 排行股票 名稱 買進 張數 賣出 張數 買賣 張數 元大 台灣 元大 原油 元大 全球 未來 通訊 華新 兆豐金 第一 仁寶 台泥 英業達 大成鋼 亞泥 元大 黃金 大聯大 富邦 臺灣 加權 聯強 群益 深証 廣達 神基 緯創 光寶科 資料 來源 理財', '緯創 集團 緯軟 武漢 設廠 所在地 政府 規定 開工中央社 記者 潘智義 台北 日電 因應 武漢 肺炎 疫情 緯創 資通 指出 並未 武漢 設廠 集團 所屬 緯軟 武漢 公司 中國大陸 公司 配合 當地 政府 延長 春節 假期 在地 政府 規定 時間 開工 緯創 資通 指出 成立 新型 肺炎 防疫 專責 單位 廠區 加強 新型 冠狀 病毒 感染 肺炎 疫情 防控 措施 有效 阻斷 疫情 傳播 保障 員工 生命 安全 身體 健康 緯創 資通 說明 中國大陸 子公司 配合 當地政府 延長 春節 假期 在地 政府 規定', '竹科 半導 體廠 開工 土地 公廟 頭香武漢 中國大陸 半導體 重鎮 如今 疫情 持續 延燒 外界 憂心 台灣 半導體 產業 恐怕 波及 開工 東森 財經 直擊 新竹科學 園區 員工 戴上 口罩 如期 開工 台積電 聯電 力晶 信心 喊話 表示 目前 公司 營運 產能 一切 正常 農曆 竹科 大廠 集福宮 聯電 搶得 頭香 東森 新聞 資料 畫面 鮮花 素果 乖乖 零食 象徵 財富 金元寶 堆滿 供桌 農曆 初六 竹科 大廠 必拜 集福宮 聯電 搶得 頭香 武漢 疫情 持續 延燒 參拜人', '獨得 大獎 樂翻 科技 尾牙 總獎金 破億 新高中美 貿易戰 影響 電子業 上半年 表現 理想 下半年 開始 好轉 電子業 尾牙 備受 關注 其中 廣達 尾牙 送出 高達 總獎金 單一 獎金 高達 現金 現場 員工 接下來 鴻海 仁寶 和碩 緯創 尾牙 陸續 登場 廣達 尾牙 送出 高達 總獎金 單一 獎金 高達 現金 東森 新聞 正值 月企業 尾牙 旺季 吸睛 尾牙場 莫過於 科技業 電子', '台灣 集中 市場 投信 買賣 超前台北 交易日 買超 代碼 股票 名稱 張數 華邦電 南亞科 長榮 奇鋐 華新科 榮成 牧德 聯茂 鴻海 美時 旺宏 惠特 奇力 台郡 臻鼎 台虹 友達 訊芯 致茂 智原 台表科 鈺齊 玉晶光 金像電 台泥 國巨 元大 台灣 元大 滬深 昇陽 半導體 代碼 股票 名稱 張數 華通 晶電 京元 電子 景碩 欣興 聯詠 聯發科 大成 同欣電 聯電 台積電 緯創 中租 南電 日月光', '台灣 集中 市場 法人 買賣 超前台北 交易日 代碼 股票 名稱 自營商 買賣 買賣 買賣 買賣 元大 滬深 旺宏 聯電 元大 台灣 金像電 元大 全球 未來 通訊 榮成 元大 黃金 友達 亞太電 國泰中國 金寶 富邦 上証 彩晶 元大 群益 深証 滬深 國票金 台塑 富邦 中証 百和 上海 商銀 緯創 富邦 台紙 可成 大成鋼 富邦 上証 國泰中國 代碼 股票 名稱', '台灣 集中 市場 自營商 庫存 張數台北 交易日 代碼 股票 名稱 張數 發行 張數 持股率 元大 台灣 元大寶 滬深 元大 滬深 元大金 富邦 上証 開發金 元大 上證 元大 中壽 台灣 彩晶 富邦 滬深 華航 國喬 富邦 旺宏 富邦金 官田鋼 三鼎 台泥 中信金 土銀 國泰 大眾銀 仁寶 元大 金融 奇美電 國泰金 亞泥 緯創', '台灣 集中 市場 外資 買賣 超前 初步 統計台北 交易日 買超 代碼 股票 名稱 買超 張數 持有 張數 持股率 旺宏 聯電 元大 滬深 金像電 華通 友達 榮成 元大 原油 亞太電 彩晶 金寶 群益 深証 國票金 緯創 台紙 上海商銀 可成 台塑 百和 大成鋼 大成 富邦 中証 富邦 玉晶光 聯嘉 中鴻 台光電 華新 晶技 大亞 代碼 股票 名稱 張數 持有 張數 持股率 中石化 華邦電 元大 原油 台積電 開發金 富邦', '證交所 完成 檔新權證 發行 申請案 審核發行人 名稱 名稱 亞東證券 上海 商業 儲蓄 銀行 上銀科技 華通電腦 第一 證券 中環 聯茂 電子 統一 證券 台光 電子 材料 健策 精密 工業 國巨 國泰美國 傘型 證券 投資 信託 基金 道瓊 工業 平均 指數 單日 反向 證券 投資 信託 基金 元富證券 奇鋐科技 華通電腦 中國 信託 證券 元大 傘型 證券 投資 信託 基金 台灣 單日 反向 證券 投資 信託 基金 可成 科技 國泰美國 傘型 證券 投資 信託 基金 道瓊工業 平均 指數', '台灣 集中 市場 投信 買賣 超前台北 交易日 買超 代碼 股票 名稱 買超 張數 華新 亞泥 大成鋼 華新科 仁寶 台光電 華邦電 大聯大 漢唐 奇力 南亞科 聯強 晶豪科 兆豐金 百和 亞光 超眾 英業達 泰鼎 鈺齊 台化 惠特 臻鼎 貿聯 同欣電 群創 創見 聯鈞 台泥 台勝科 代碼 股票 名稱 張數 欣興 佳世達 京元 電子 潤泰新 華通 興富發 晶電 力成 智邦 緯創 景碩 旺宏 長榮航 友達 京鼎 鴻準', '台灣 集中 市場 自營商 庫存 張數台北 交易日 代碼 股票 名稱 張數 發行 張數 持股率 元大 台灣 元大寶 滬深 元大金 開發金 富邦 元大 上證 元大 中壽 台灣 彩晶 元大 滬深 富邦 滬深 華航 國喬 富邦金 旺宏 官田鋼 三鼎 台泥 中信金 富邦 土銀 國泰 仁寶 大眾銀 元大 金融 奇美電 國泰金 緯創 亞泥', '其他 外資 買賣 超前代號 名稱 成交 張數 外資 買賣 張數 群創 友達 彩晶 中信金 聯電 佳世達 元大金 華邦電 上海商銀 旺宏 永豐金 緯創 亞光 京元電子 潤泰新 玉山金 新光金 台灣高鐵 華通 力成 大同 國泰金 遠東新 欣銓 寶成 興富發 宏碁 日月光 富邦金 和碩 代號 名稱 成交 張數 外資 買賣 張數 台積電 長榮航 華新 亞泥 南亞科 開發金 中環 遠東銀 燿華 台泥 中石化 群益證 華航 台表科 長榮', '看好 緯創從來 基本面 因為 上漲 下跌 時候 基本面 永遠 永遠 快要 不過 之後 精采 至於 依據 什麼 呵呵 依據 反正 痛不癢 唬爛 以後 發言 網路 太多 喜歡 無端 攻擊 這裡 只是 打發 時間 而已 現在 玩膩 繼續 就是 出國 或者 打電 打發 時間', '請問 緯創 如何', '請問 緯創 如何', '上市 融資 減少 排行名次 股票 名稱 增減 張數 收盤價 漲跌 融資 餘額 昨日 餘額 群創 友達 精元 元大 滬深 新光金 華邦電 彩晶 聯電 泰金寶 開發金 元大金 晶豪科 緯創 富邦金 表科 美律 玉晶光 今國光 富邦 証正 富邦 資料 來源 理財', '電腦 設備 緯創 越南 擴產 筆電緯創 日前 取得 越南 位於 同文 工業 園區 土地 董事會 通過 成立 新子 公司 投入 建廠 擴產 初期 筆電 產線 為主 預計 明年 下半年 完工 上半年 開始 投產 緯創 召開 董事會 通過 美元 新台幣 越南 公司 投資 南盾 兆元 美元 新台幣 建置 新產線 產能 擴充 所需 緯創 下旬 取得 位於 越南 河南省 工業 園區 萬餘 土地', '掃瞄 國內 消息 穩台幣 央行 出手 看好 明年 景氣 利率國內 消息 麗豐 大計 衝刺 美麗 商機 楊金龍 台幣 央行 出手 東南亞 工資 台商 成本 貨幣 價量 指標 央行 調整 房市 回暖 銷售 新案 衝高 看好 明年 景氣 利率 中經院 上調 明年 成長率 得標 價金 億挺進 緯創 越南 擴產 筆電 明年 報稅 今年', '緯創 董事會 決議 公司 計約 美元公開 資訊 觀測 重大 訊息 公告 緯創 董事會 決議 新設 簡稱 名稱 性質 特別 標明 特別股 約定 發行 條件 股息率 股權 事實 發生日 交易 數量 單位 價格 交易 總金額 交易 金額 美金 交易 相對 公司 關係 交易 相對人 自然人 公司 關係 人者 揭露 姓名 交易 相對人 公司 關係 設立 公司 直接 持股 公司 交易 相對人 關係人者 公告 選定 關係人 交易 對象', '緯創 公司 取得 廠房 設備 計約 南盾公開 資訊 觀測站 重大 訊息 公告 緯創 計畫 設立 公司 公告 取得 廠房 設備 標的物 名稱 性質 坐落 台中市 北區 土地 廠房 設備 事實 發生 交易 單位 數量 平方 公尺 折合 單位 價格 交易 總金額 交易 金額 越南盾 美金 仟元 交易 相對人 公司 關係 交易 相對人 自然人 公司 關係 人者 揭露 姓名 尚未 確定 交易 關係人者 公告 選定 關係人 交易 對象', '緯創 設置 企業 永續 發展 委員會公開 資訊 觀測 重大 訊息 公告 緯創 公告 公司 設置 企業 永續 發展 委員會 發生 變動 日期 功能性 委員會 名稱 企業 永續 發展 委員會 舊任 姓名 簡歷 新任者 姓名 簡歷 黃柏漙 先生 緯創 資通 公司 副董事長 總經理 李明山 先生 緯創 資通 公司 獨立 董事 林福謙 先生 緯創 資通 公司 幕僚長 林建勳 先生 緯創 資通 公司 緯創 科技 執行長 沈慶堯 先生 緯創 資通 公司 緯創 智能 執行長 黃俊東 先生 緯創資', '緯創 新設 提名 委員會公開 資訊 觀測 重大 訊息 公告 緯創 公告 公司 新設 提名 委員會 發生 變動 日期 功能性 委員會 名稱 提名 委員會 舊任 姓名 簡歷 新任者 姓名 簡歷 林憲銘 先生 緯創 資通 公司 董事長 策略長 簡學仁 先生 緯創 資通 公司 獨立 董事 張良吉 先生 緯創 資通 公司 獨立 董事 李明山 先生 緯創 資通 公司 獨立 董事 異動 情形 輸入 辭職 解任 任期 屆滿 逝世 新任 新任 異動 原因 公司 提名 委員', '電腦 設備 緯創 越南 生產 基地 伺服器 明年 主帥緯創 董事會 通過 成立 新子 公司 美元 新台幣 新設 越南 公司 投資 南盾 美元 新台幣 建置 新產線 因應 產能 擴充 所需 預計 明年 完工 開始 投產 越南 成為 緯創 第二 生產 基地 展望 受到 總體 經濟 狀況 不確定性 美中 貿易戰 持續 停止 改善 負面 因素 之下 預估 緯創 呈現持 平至 小幅 衰退 方面 緯創 自身 代工 傳統 企業型 伺服器 緯穎', '明年 春季 廉價版 新機 印度 生產中央社 記者 鍾榮峰 台北 日電 蘋果 規劃 印度 製造 進展 日媒 報導 蘋果 印度 擴大 生產 明年 春季 銷售 廉價版 機型 可能 印度 生產 合作 夥伴 鴻海 印度 出貨 日本 經濟 新聞 中文版 今天 報導 蘋果 印度 擴大 生產 蘋果 年底 開始 要求 主要 合作 對象 避免 集中 中國 生產 推動 中國 生產 分散 海外 報導 指出 蘋果 代工 廠商 鴻海 最近 開始 印度 出貨 機型 印度 先前 緯創 負責 機型', '國際 產業 蘋果 擴大 印度 生產 鴻海 助攻日經 中文網 報導 蘋果 印度 擴大 生產 代工廠 鴻海 開始 印度 出貨 機型 從前 蘋果 部分 手機 中國 製造 川普 中美 貿易戰 開打 蘋果 年底 開始 要求 主要 合作 對象 避免 集中 中國 生產 敦促 中國 生產 分散到 海外 之前 印度 一直 代工 廠商 創資 負責 機型 組裝 現在 鴻海 開始 印度 南部 欽奈 生產 預估 春季 開始 銷售 廉價版 機型 可能 印度 生產 編輯 整理 莊雅珍', '台灣 集中 市場 投信 買賣 超前台北 交易日 買超 代碼 股票 名稱 買超 張數 收盤價 漲跌 華新 亞泥 大成鋼 新光金 華新科 仁寶 漢唐 兆豐金 泰鼎 華邦電 聯大 聯強 茂林 台化 華通 台泥 永豐金 聯電 百和 國泰金 創見 新興 南亞科 美律 奇力 統一 超眾 玉山金 開發金 鴻海 代碼 股票 名稱 張數 收盤價 漲跌 佳世達 潤泰新 興富發 聯詠 京元 電子 力成 緯創 友達 和碩 精元 潤泰全 國巨', '台灣 集中 市場 投信 買賣 超前台北 交易日 買超 代碼 股票 名稱 買超 張數 華新 第一 群益證 群創 華邦電 南亞科 亞泥 聯電 友達 大成鋼 大成 永豐餘 光金 華新科 台灣 大聯大 漢唐 超眾 美律 泰鼎 茂林 遠雄 百和 新興 遠東新 聯強 神達 台化 裕民 創見 代碼 股票 名稱 張數 佳世達 晶電 潤泰新 興富發 聯詠 京元電子 欣興 中信金 華通 遠東銀 聯茂 力成 長榮航 國際 中橡 兆豐金', '台灣 集中 市場 外資 買賣 超前 初步 統計台北 交易日 買超 代碼 股票 名稱 買超 張數 持有 張數 持股率 群創 友達 彩晶 聯電 中信金 佳世達 元大金 華邦電 上海商銀 旺宏 永豐金 緯創 亞光 京元電子 潤泰新 玉山金 富邦 新光金 台灣 高鐵 華通 力成 大同 國泰金 遠東新 寶成 富發 月光 投控 富邦金 和碩 代碼 股票 名稱 張數 持有 張數 持股率 台積電 長榮航 華新 亞泥 南亞科 開發金 中環 遠東銀', '台灣 集中 市場 法人 買賣 張數台北 交易日 代碼 股票 名稱 自營商 買賣 買賣 買賣 買賣 元大 滬深 友達 新光金 華新 中信金 華邦電 第一 鴻海 富邦 証正 油正 緯創 聯電 中鋼 永豐金 合庫金 國泰中國 遠東新 上海商銀 國泰金 群益證 榮成 長榮 台新金 和碩 元大 股息 亞光 美律 臺企銀 台塑 華南金 代碼 股票 名稱 自營商', '台灣 集中 市場 自營商 庫存 張數台北 交易日 代碼 股票 名稱 張數 發行 張數 持股率 元大 台灣 元大寶 滬深 元大金 開發金 富邦 元大 上證 元大 中壽 台灣 彩晶 富邦深 滬深 華航 國喬 元大 滬深 富邦金 官田鋼 三鼎 旺宏 台泥 土銀 國泰 仁寶 大眾銀 元大 金融 富邦 中信金 亞泥 奇美電 國泰金 緯創', '台灣 集中 市場 融資 融券 餘額 增減台北 交易日 融資 餘額 增加 代碼 股票 名稱 融資 增加 融資 餘額 融資 餘額 仲琦 新光金 元大 原油 台積電 旺宏 金寶 元大 原油 泰鼎 欣興 技嘉 佳世達 東森 元大 台灣 和鑫 中環 國喬 大成鋼 強茂 聯嘉 南亞科 宏達電 奇力 基泰 晶豪科 鈞寶 聯茂 台開 晶電 聯鈞 亞翔 融資 餘額 減少 代碼 股票 名稱 融資 減少 融資 餘額 融資 餘額 群創 聯電', '台灣 集中 市場 外資 持股 增減台北 交易日 買超 代碼 股票 名稱 買超 張數 持有 張數 持股率 元大 台灣 鴻海 中信金 中鋼 友達 新光金 緯創 永豐金 貿聯 華邦電 國泰金 富邦金 彩晶 新金 遠東 合庫金 上海商銀 京元電子 佳世達 華南金 玉山金 和碩 榮成 第一 亞光 月光 投控 臺企銀 元大金 仁寶 代碼 股票 名稱 張數 持有 張數 持股率 台積電 群創 南亞科 長榮航 旺宏 元大 滬深', '緯創 今天感恩', '在線 缺口 明年 上半年 出貨 變數新聞 記者 張以忠 報導 低階 缺貨 歷經 好不容易 下半年 獲得 紓解 傳出 高階 系列 以上 供應 吃緊 據傳 供應 主要 品牌 缺口達 預計 缺貨 影響 持續 代工廠 明年 上半年 出貨 表現 存在 供貨 情況 變數 近期 傳出 製程 產能 供貨 短缺 製程 良率 提升 遭遇 瓶頸 整體 供貨 不順 甚至 供應商 發布 歉信 證實 供貨 緊繃 現況 供應鏈 指出 下半 開始 缺得', '外資 對作 外資 縮手 投信 轉賣創 大量台股 指數 震盪 走弱 跌逾 午盤 過後 轉強 終場 上漲 總計 法人 集中 市場 買超 買盤 主要 來自 外資 呈現 反觀 投信 轉賣 金額 單日 內資 年底 結帳 需求 增溫 法人 今日 連續 交易 集中 市場 買超 合計 不過 看到 內資 有意 先行 獲利 了結 其中 外資 買超 自營商 買超 縮至 投信 一口氣 超金', '台灣 集中 市場 法人 買賣 超前台北 交易日 買超 代碼 股票 名稱 自營商 買賣 買賣 買賣 買賣 友達 鴻海 群創 新光金 長榮 合庫金 第一 元大 原油 富邦 中鋼 元大 滬深 中信金 國泰金 華南金 和碩 緯創 新金 富邦金 台塑 榮成 群益證 元大 股息 大成 玉山金 富邦 英業達 永豐金 技嘉 中壽 代碼 股票 名稱 自營商 買賣', '台灣 集中 市場 外資 買賣 超前 初步 統計台北 交易日 買超 代碼 股票 名稱 買超 張數 持有 張數 持股率 鴻海 友達 中信金 新光金 合庫金 中鋼 國泰金 緯創 華南金 富邦金 榮成 和碩 台塑 永豐金 英業達 長榮 元大 寶滬深 玉山金 臺企銀 中壽 第一 大同 光寶科 彰銀 華新 聯強 開發金 中華電 代碼 股票 名稱 張數 持有 張數 持股率 聯電 台積電 南亞科 華通 晶電 東元 光罩 宏達電 富邦 元大', '台灣 集中 市場 自營商 買賣 超前台北 交易日 代碼 股票 名稱 富邦 長榮 元大 滬深 元大 原油 群創 元大 股息 鴻海 國泰中國 富邦 証正 友達 宏達電 大成鋼 元大 全球 未來 通訊 富邦 特選 蘋果 群益 中小 國泰中國 泰鼎 晶豪科 元大 富邦 和碩 元大 石油 光罩 技嘉 百和 群益 臺灣 加權 新光金 元大 台灣', '台灣 集中 市場 自營商 買賣 超前台北 交易日 代碼 股票 名稱 元大 滬深 元大 原油 富邦 富邦 國泰中國 元大 股息 群創 長榮 鴻海 富邦 富邦公司 治理 宏達電 元大 石油 元大 全球 未來 通訊 亞光 群益 深証 國泰中國 元大 中信中國 亞泥 台積電 聯電 金寶 元大 華邦電 華新 台新 中國 光磊 聯茂 代碼 股票 名稱 元大 原油 元大 台灣', '台灣 集中 市場 自營商 庫存 張數台北 交易日 代碼 股票 名稱 張數 發行 張數 持股率 元大 台灣 元大寶 滬深 元大金 開發金 富邦 元大 上證 元大 中壽 台灣 彩晶 富邦深 滬深 華航 國喬 富邦金 官田鋼 三鼎 旺宏 台泥 土銀 國泰 仁寶 大眾銀 中信金 元大 金融 亞泥 奇美電 國泰金 富邦 緯創 土銀 富邦', '台灣 集中 市場 法人 買賣 張數台北 交易日 代碼 股票 名稱 自營商 買賣 買賣 買賣 買賣 元大 滬深 友達 群創 新光金 中信金 元大 鴻海 富邦 第一 永豐金 華邦電 中鋼 國泰金 富邦金 榮成 緯創 國泰中國 合庫金 台泥 京元電子 群益證 月光 投控 台達電 台塑 中壽 金寶 臺企銀 和碩 華南金 華新 代碼 股票 名稱 自營商', '台灣 集中 市場 融資 融券 餘額 增減台北 交易日 融資 餘額 增加 代碼 股票 名稱 融資 增加 融資 餘額 融資 餘額 友達 元大 原油 新光金 金寶 華邦電 仲琦 泰金寶 精元 亞光 中華電 宏達電 晶豪科 台積電 中環 富邦金 元大金 正文 技嘉 光罩 聯茂 泰鼎 帆宣 中鴻 宇瞻 基泰 台灣 台郡 康控 裕隆 訊舟 融資 餘額 減少 代碼 股票 名稱 融資 減少 融資 餘額 融資 餘額 元大 滬深 群創 南亞科', '上市 外資 買超 排行名次 股票 名稱 買賣 張數 收盤價 漲跌 友達 群創 彩晶 國產 旺宏 晶電 華通 新光金 晶技 中環 遠雄 文曄 康舒 緯創 台表科 立積 陽明 如興 台塑 華固 資料 來源 理財網', '看好 緯創今天 收盤 要是 低於 轉弱 回到 盤整', '研發 次世代 面板 量產 時間新聞 記者 蔡承啟 報導 中小 尺寸 液晶 面板 巨擘 以下 簡稱 發布 新聞稿 宣布 研發出 視為 世代 面板 面板 產品 預計 日本 市幕 展覽館 舉行 液晶 感測器 技術展 展示 作品 表示 面板 需要 液晶 面板 背光 模組 光板 彩色 光片 特徵為 擁有 亮度 廣視野 角度 展示 作品 使用 美國 晶片 螢幕 尺寸 畫素數 解析度 亮度', '證交所 完成 檔新權證 發行 申請案 審核發行人 名稱 名稱 凱基證券 元大 傘型 證券 投資 信託 基金 台灣 單日 反向 證券 投資 信託 基金 元大 傘型 證券 投資 信託 基金 台灣 單日 反向 證券 投資 信託 基金 富邦中國 傘型 證券 投資 信託 基金 富邦 上証 單日 正向 兩倍 證券 投資 信託 基金 大立光電 台灣 表面 科技 奇力 電子 欣興 電子 國巨 開曼康而 富控股 喬山 健康 科技 華邦 電子 緯創 資通 聯詠科技 富邦 證券 科技 景碩 科技 群創 光電 元大 滬深', '產業 分析 童子賢 投資 電子 毛利率 玄機 偏愛 投資法費雪 投資 公司 創辦人 執行長 董事長 肯恩 費雪 日前 發表 演說 特別 提醒 投資人 分析 基本面 重要 毛利率 毛利率 企業 奶水 還是 就是 以下 股市 後期 毛利率 公司 存活 比較 費雪 營收 數千億 甚至 破兆 電子 投資人 玻璃心 恐怕 碎滿地 台灣 電子 和碩 廣達 仁寶 英業達 緯創 毛利率 不但 以下 有時 甚至 對於 台灣 毛利率 偏低', '台北 股市 焦點股 昱泉 太景 新唐 愛普 穎漢 泰碩貿聯 特斯拉利多 持續 發酵 外資 買超 帶領 股價 之上 克服 反壓 迅得 營運 重回 成長 軌道 法人 進駐 買超 一早 高點 短線 漲多 隨後 漲幅 收斂 冠德 營運 逐步 走揚 外資 投信 積極 買超 反彈 格局 持續 早盤 逆勢 走高 億豐 業績 優勢 回檔 破底 多方 安心 回攻 漲逾 昱泉 營運 改善 漲停板 部分 獲利 賣壓 出籠 漲幅 佰研 瞄準 植物 新藥 力拚 進軍 大陸市', '在線 醫療資 通訊 整合 老調重 新意新聞 記者 蕭燕翔 報導 通訊 醫療 無疑 台灣 優勢 產業 結合 美好 實質 成果 不如 預期 成大 醫院 新任 院長 沈孟儒 研討會 直言 血管 攝影 設備 面板 翻面 發現 同樣 位於 南科 群創 生產 報價 不過 貼上 日系 大廠 醫療 整機 面板 價格 升到 背後 即使 隱含 醫療 品牌 價值 信任 溢價 呈現 台灣 優勢 產業 無法 整合 無奈 現況 產業 整合 有何', '有線 電視業 轉型 台數科 切入 自駕車中央社 記者 江明晏 台北 日電 台數科 日前 宣布 完成 整併 台南 新永安 嘉義 大揚 完成 中南部 布局 開始 貢獻 營收 獲利 台數科 董事長 廖紫岑 表示 合作 之外 耕耘 駕車 領域 邁向 智慧 網路 科技 集團 廖紫岑 表示 數科 業界 反應 靈敏 業者 除了 擴展 有線 電視 版圖 合作 跨螢 產業 加入 駕車 智慧 領域 分別 擴展 有線 電視 跨螢 創新 人工 智能 加值 內容 產業 區塊 布局 正式 傳統', '數科 轉型 切入 駕車 應用 領域新聞 記者 新聞中心 報導 有線 電視 系統 業者 台數科 切入 自駕車 應用 領域 宣布 因應 時代 明年 申請 台中 自駕 巴士 開放 場域 上路 利用 數科 廣域 光纖 內網 設備 團隊 成員 包括 豐榮 客運 理立 系統 台灣大學 緯創 星瑞林 鼎漢 工程 顧問 數科 指出 公司 日前 整併 台南 新永安 嘉義 大揚 完成 中南部 布局 預計 月起 開始 貢獻 營收 獲利 數科 雖然 業界 反應 靈敏 業者 除了 擴展', '熱門 族群 投信 大禮 認養股 先鋒年底 作帳 行情 發酵 部分 個股 面臨 結帳 賣壓 投信 買盤 持續 績優股 盤面 甚至 先前 常態 轉為 外資 投信 格局 投信 近期 持續 買超 認養股 成為 盤面 領頭 包括 表科 金像電 中美 貿易 第一 階段 協議 簽署 延宕 明年 外資 賣超 加權 指數 底部 起漲 以來 賣超 反觀 投信 連續 買超 呈現 土洋 法人 對作 情形 投信 買超 個股 包括 旺宏 定穎 金像電 晶電 台表', '證交所 完成 檔新權證 發行 申請案 審核發行人 名稱 名稱 群益 金鼎 證券 元大 傘型 證券 投資 信託 基金 台灣 單日 反向 證券 投資 信託 基金 力成 科技 大立光電 大立光電 日月光 投資 控股 台灣 積體 電路 製造 新光金融 控股 凱基證券 力成科技 日月光 投資 控股 台光 電子 材料 台達電子 工業 全新光電 科技 宏達國際 電子 旺宏電子 國巨 開曼康 控股 超眾 科技 聯發科技 富邦證券 台灣 積體 電路 製造 美律實業 聯華電子 元大 證券 力成 科技 友達光電', '上市 認購 權證 彙總表認購 美式 代號 簡稱 標的 數量 單位 存續 期間 履約價 認售 歐式 康控 國票 康控 認售 歐式 國票 認購 歐式 台達電台 台達電 認購 美式 致茂康和 致茂 認購 美式 廣達 康和 廣達 認購 美式 緯創 康和 緯創 認購 美式 超眾 康和 超眾 認購 美式 國泰 元大 台灣 認購 美式 台泥 國泰', '上市 投信 買超 排行證券 代號 證券 名稱 買進 張數 賣出 張數 買賣 張數 金像電 晶電 定穎 台表科 帆宣 緯創 南茂 聯電 敦泰 力成 京鼎 台光電 元大 股息 義隆 南亞科 瑞祺 電通 建準 健策 開發金 中鋼 資料 來源 理財網', '看好 緯創上漲 保衛戰 有如 中國 軍隊 死守潼關 保衛戰 知道 之前 時候 認為 上去 甚至 很多 看好 站上 不過 就是 看好 站上', '看好 緯創來到 知道 一定', '看好 緯創時候', '看好 緯創尼馬 請問 申請 可以 討論 串沉 為什麼 大家 持有 股票 一直 開樓 狂推 便宜 一點 明天 點等 小樂 開獎', '熱門 族群 外資 布局 強勢股 優質股 出籠美國 總統 川普 近期 釋放出 對於 大陸 貿易 協商 激勵 言論 全球 股市 激烈 反應 川普 指出 大陸 關稅 拖累 亞洲 股市 走低 所幸 外資 持續 偏多 台股 中小型股 重挫 分析師 認為 台股 布局 外資 靠山 趨吉避凶 包括 旺宏 緯創 有望 受惠 外資 買超 台股 買超 無畏 川普 言論 依舊 台股 偏多 德信證券 副總 吳文彬 表示 顯示 外資 台股 指數 新台幣 走向 經濟 體質', '證交所 完成 檔新權證 發行 申請案 審核發行人 名稱 名稱 日盛 證券 大立光電 大立光電 台光 電子 材料 香港 麥格理 資本 力成 科技 統一 證券 台光 電子 材料 矽力杰 超眾 科技 鴻海 精密 工業 鴻海 精密 工業 鴻海 精密 工業 鴻海 精密 工業 鴻海 精密 工業 元富證券 華頓 標普 高盛 黃豆 數股 票型 期貨 信託 基金 台郡 科技 旺宏 電子 健策 精密 工業 國巨 中國 信託 證券 元大 傘型 證券 投資 信託 基金 台灣 單日 反向 證券 投資 信託 基金 台灣 水泥 台郡 科技 台灣', '上市 認購 權證 彙總表認購 美式 代號 簡稱 標的 數量 單位 存續 期間 履約價 認購 美式 日月 光國票 日月 投控 認售 歐式 台積電 國票 台積電 認售 歐式 健策 國票 健策 認購 歐式 緯創 緯創 認購 歐式 百和 百和 認購 美式 滬深 群益 元大 滬深 認購 美式 鴻海 群益 鴻海 個月 認購 美式 鴻海 群益 鴻海 認購', '其他 集中 市場 法人 買賣 超前代碼 名稱 外資 投信 自營商 合計 買賣 國泰 中國 中信金 緯創 和碩 永豐金 晶電 神達 鴻海 華通 大成 國產 南港 喬山 國巨 台泥 大同 大聯大 甲特 華固 志超 創見 嘉聯益 光寶科 台光電 元大 台灣 長榮航 聲寶 金寶 立積 表科 代碼 名稱 外資 投信 自營商 合計 買賣 群創 元大 滬深 欣興 友達 微星 第一 南亞科 中鋼 燿華 元大金 新光金', '緯創 雙率 雙升 獲利 增長 工商時報 內文資料 來源 理財網', '股利 電腦 設備 緯創 雙率 雙升 獲利 增長緯創 受惠 產品線 同步 增溫 帶動 第三季 營收 增逾 來到 高峰 去年 同期 走滑 毛利率 營業 利益率 同步 走升 拉抬 單季 獲利 增長 優於 法人 預期 受到 部分 零組件 價格 持續 走跌 加上 產能 利用率 提升 緯創 第三季 毛利率 回升 營業 利益率 揚升 上季 去年 增長 單季 淨利 季增 年增 幅度 今年 以來 新點 累計 今年 淨利 年增近', '個股 重大 訊息 個股 動態 台積電 智邦個股 重大 訊息 威潤 啟動 庫藏股 智邦 單季 新高 光耀 低潮 終止 事欣科 處分 中壢廠 挹注 獲利 登峰 緯創 率雙升 獲利 增長 台積電 配息 明年 麗豐 麗豐 趙承佑 總經理 編輯 整理 廖小蕎', '個股 緯創 雙率 業績 看升緯創 公告 第三 財報 毛利率 營益率 同步 增長 單季 營業 利益 季增 年增 盈餘 季增率 年增 累計 緯創 合併 營收 月增 年減 今年 新高 累計 合併 營收 筆電 出貨量 優於 預期 伺服器 出貨 增加 桌機 出貨 減少 第三季 業績 結構 緯創 第三 筆電 比約', '台北 股市 焦點股 品安 創見 文曄 大聯大 宏全台積電 配息 拍板 交易日 明年 外資 轉賣 早盤 股價 開低 日成 總座 喊話 虧損 止血 明年 轉盈 多頭 賞臉 股價 升約 一舉 收復 日線 月線 品安 出貨 暢旺 外資 終止 轉買 激勵 早盤 股價 漲逾 受惠 節令 商機 展店 千萬 會員 貢獻 創下 新高 早盤 股價 力守 紅盤 京元電 相關 訂單 加持 營收 可望', '緯創 獲利 優於 預期 外資 上修 目標價中央社 記者 吳家豪 台北 日電 外資 指出 代工廠 緯創 獲利 優於 預期 主因 組件 成本 降低 後段 模組 出貨 增加 明年 後段 模組 業務 確定性 升高 重申 持有 評等 目標價 上修到 緯創 股價 今天 開低 走高 早盤 高點 來到 漲幅 左右 成交量 放大 外資 今天 發布 研究 報告 指出 緯創 今年 盈餘 新台幣 季增 年增 優於 市場 預期 雖然 伺服器 業務 衰退 導致 營收', '台北 股市 悍將 外資 同行 蘋概 金融 聲響外資 一路 連續 買超 以來 累計 買超 金額 高達 追平 歷史 第五 紀錄 台股 強注 動能 登上 新高 紀錄 寫下 即便 周一 台股 成績 不佳 失去 大半 疆土 外資 不棄 目前 指數 高檔 震盪 獲利 了結 周三 開低 走低 再度 失守 外資 周三 能否 持續 買超 明朗 法人 表示 台股 陷入 下跌 反彈 無量 震盪 格局 外資 連續 買超 期間 買超 張數', '上市 認購 權證 彙總表認購 美式 代號 簡稱 標的 數量 單位 存續 期間 履約價 認售 歐式 台積電 國票 台積電 認售 歐式 台積電 國票 台積電 認購 歐式 鈺齊 鈺齊 認售 歐式 台積電台 台積電 認購 美式 瑞昱 康和 瑞昱 認購 美式 聯茂康和 聯茂 個月 認購 美式 中小 國泰 群益 認購 美式 力山國泰 力山 認購', '上市 認購 權證 彙總表認購 美式 代號 簡稱 標的 數量 單位 存續 期間 履約價 認購 美式 緯創 日盛 緯創 認購 歐式 智邦 麥證 智邦 認購 歐式 聯發科 麥證 聯發科 認購 歐式 可成 麥證 可成 認購 歐式 華新科 麥證 華新科 認購 歐式 瀚宇博麥證 瀚宇博 認售 歐式 鴻海 統一 鴻海 認購 美式 欣興 元富 欣興 認購 美式', '台股 跌破 外資 中止 期貨 平倉 跌破美中 貿易戰 談判 進度 明朗 加上 港股 重挫 台股 終場 下跌 其中 投信 自營商 買超 外資 中止 轉大賣 法人 賣超 外資 同步 減碼 多單 未平 倉口數 跌破 台指期 部分 外資 減碼 淨多單 多單 未平 倉口數 降至 投信 增持 空單 空單 口數 增至 自營商 回補 空單 空單 口數 降至 外資 今日 買盤 集中 電子 中信金 緯創 和碩 外資 買超 上萬', '新聞 緯創 年前 盈餘原文 連結 原文 內容 財訊 快報 編輯部 緯創 公佈 民國 年前 三季 會計師 核閱 財報 累計 營收 營業 毛利 毛利率 營業 淨利 營益率 盈餘 淨利 合併 盈餘 增率 心得 評論 英業達 緯創 接續 開出 季報 英業達 收盤價 仁寶 收盤價 緯創 收盤價', '緯創 今天第三季 財報 明天 市場 如何 反應', '營收 上市櫃 今年 單月 新高上市 櫃公司 營收 出爐 單月 合併 營收 兆元 今年 以來 單月 新高 月增 年減 家數 以來 累計 合併 營收 兆元 年減 法人 看好 營收 兆元 高峰 投資 專家 指出 第四 營運 謹慎 樂觀 預估 月單 營收 力守 兆元 以上 營收 兆元 機會 去年 歷史 新高 兆元 高下 蘋果 華為 拉貨潮 高峰 即將 見頂 提防 部份 組裝廠 業績 下滑 另外 第三 財報 最後 公布期限', '經濟日報 頭條 上市櫃 營收 今年 新高上市櫃 公司 營收 全數 出爐 營收 今年 單月 最佳 去年 減少 營收 上市櫃 公司 營收 優於 主要 動能 來自 鴻海 台積電 仁寶 廣達 緯創 台塑 大聯大 英業達 業績 走揚 統計 營收 新高 家數 去年 減少 減少', '證交所 完成 檔新權證 發行 申請案 審核發行人 名稱 名稱 群益 金鼎 證券 貿聯 控股 日興 緯創 資通 鈺齊 國際 凱基證券 元大 標普 傘型 證券 投資 信託 基金 標普 單日 反向 證券 投資 信託 基金 元大 標普 金日 傘型 期貨 信託 基金 標普 高盛 黃金 單日 正向 倍指 數股 票型 期貨 信託 基金 可成 科技 台灣 積體 電路 製造 台灣 積體 電路 製造 和碩 聯合 科技 和碩 聯合 科技 欣興 電子 智邦科技 智邦科技 華通電腦 鴻海 精密 工業 鴻海 精密 工業 元大 證券 台灣 積體 電路', '證交所 完成 檔新權證 發行 申請案 審核發行人 名稱 名稱 日盛 證券 緯創 資通 香港商 麥格理 資本 可成 科技 智邦科技 華新 科技 聯發科技 瀚宇 博德 統一 證券 鴻海 精密 工業 元富證券 台郡 科技 欣興 電子 嘉聯益科技 元大 傘型 證券 投資 信託 基金 台灣 單日 反向 證券 投資 信託 基金 元大 台灣 股息 證券 投資 信託 基金 兆豐 證券 南茂科技 健鼎 科技 日興 瑞昱 半導體 群創 光電 國票 證券 力山工業 富邦中國 傘型 證券 投資 信託 基金', '營收 族群 群光 伸創 板卡 微星 華擎 亮眼新聞 記者 張以忠 報導 代工 營收 出爐 受到 缺貨 問題 部分 廠商 提前 拉貨 營收 普遍 沒有 突出 表現 廣達 仁寶 英業達 緯創 營收 個位數 成長 和碩 小幅 衰退 符合 預期 相關 族群 群光 歷史 新高 不過 主要 產品 成長 帶動 板卡廠 微星 華擎 歷史 新高 代工 受到 缺貨 問題 部分 廠商 提前 拉貨 出貨 較為 平淡', '緯創 合併 獲利公開 資訊 觀測站 重大 訊息 公告 緯創 公告 公司 第六 董事會 重大 決議 事項 事實 發生日 公司 名稱 緯創 股份 有限 公司 公司 關係 輸入 公司 公司 公司 相互 持股 比例 適用 發生 緣由 通過 公司 第三季 合併 財務 報告 八年 第三季 合併 財務 報告 編製 完成 安侯 建業 聯合 會計師 事務所 陳雅琳 唐嘉鍵 會計師 核閱 單位 新台幣 營業 收入 營業 毛利 營業 利益 稅前 淨利 淨利 歸屬於', '業績 電腦 設備 緯創緯創 召開 董事會 通過 第三 財務 報表 緯創 合併 營收 新台幣 營業 淨利 淨利 淨利 盈餘 新台幣 緯創 第三 合併 收達 新台幣 營業 淨利 稅前 淨利 稅後 淨利 盈餘 新台幣', '緯創 盈餘中央社 記者 潘智義 台北 日電 緯創 資通 今天 公布 合併 營收 新台幣 營業 淨利 淨利 淨利 盈餘 緯創 統計 合併 營收 營業 淨利 淨利 淨利 盈餘 緯創 開始 印度班 加羅爾 設廠 生產 拿到 蘋果 訂單 印度 製造 製造商 對於 蘋果 任何 事情 緯創 一概 評論 緯創 資通 先前 指出 推動 智慧 駕駛 系統 精準 定位', '新聞 外資 挑戰原文 連結 原文 內容 外資 挑戰 經濟日報 記者 趙于萱 台北 報導 美中 貿易 談判 可望 達成 協議 周五 美股 指數 全面 走揚 法人 預期 國際 股市 彈升 有利 外資 持續 加碼 台股 外資 金額 今日 加碼 機會 挑戰 波段 紀錄 甚至 排除 連續 買超 金額 周五 外資 台股 買超 金額 降至 熱錢 換手 買入 低基 金融 集團股 期貨 多單', '其他 集中 市場 法人 買賣 超前代碼 名稱 外資 投信 自營商 合計 買賣 鴻海 新光金 華通 欣興 和碩 元大 原油 開發金 國泰金 健鼎 晶電 旺宏 國產 緯創 光寶科 長榮航 南茂 兆豐金 富邦金 中租 中鋼 日月光 投控 上海商銀 台新金 英業達 帆宣 華南金 興能 南亞 台積電 代碼 名稱 外資 投信 自營商 合計 買賣 元大 滬深 群創 友達 中信金 彩晶 臺企銀 統一 華航 富邦 証正 台泥', '財報 緯軟 淨利 單季公告 公司 第六 董事會 重大 決議 事項 事實 發生日 公司 名稱 緯創 軟體股份 有限 公司 公司 關係 輸入 公司 公司 公司 相互 持股 比例 適用 發生 緣由 通過 公司 第三季 合併 財務 報告 第三季 合併 財務 報告業 編製 完成 安侯 建業 聯合 會計師 事務所 陳雅琳 黃明宏 會計師 核閱 單位 新台幣 營業 收入 營業 毛利 營業 淨利 稅前 淨利 稅後 淨利 稅後 基本 盈餘', '電子時報 貿易戰 曙光 生產 線照 單轉 觀望中美 貿易戰 變化 多端 雙方 似乎 即將 和解 傳出 加徵 關稅 可能 取消 原本 持續 進行 產業鏈 遷移 態度 轉變 諸如 廣達 英業達 指出 目前 客戶 搬遷 中國 以外 製造 態度 不變 下單 急迫 程度 趨緩 緯創 指出 客戶 出貨 原本 預估值 推測 可能 因應 月中旬 加徵 關稅', '早報 年底 作帳 行情 醞釀 傳產股 買氣 增溫開盤日 出刊 手機 大廠 戰火 延燒 智慧表 供應商 蘋果 軟板 供應商 出貨 不順 轉單 面板 需求 收窄 明年 面臨 嚴重 過於 平均 國際 股市 道瓊 指數 上漲 幅度 作收 指數 上漲 幅度 作收 上證 指數 下跌 幅度 作收 台股 籌碼 變化 外資 投信 自營 融資 餘額 融券 餘額 法人 買賣 買超 外資 投信 自營商 鴻海 台積電', '統一 證券 晨訊 格局 持續 偏多 操作日期 盤勢 分析 昨日 盤勢 受到 美股 道瓊 指數 歷史 新高 激勵 台股 以上 點至 開出 電子股 受到 短線 賣壓 抑制 使得 指數 早盤 迅速 翻黑 呈現 狹幅 震盪 整理 量能 縮減 權值 類股 包括 台積電 聯發科 環球晶 日月光 震盪 拉回 大立光 遠傳 廣達 股力 盤勢 尾盤 指數 作收 下跌 收在 成交量 觀察 盤面 變化 類股 下跌 作收 其中 電子 金融 傳產 分別 下跌', '上市 外資 陸資 買超 排行單位 陸資 外自 外資 自營 陸資 代號 名稱 買進 賣出 買賣 買進 賣出 買賣 買賣 鴻海 新光金 華通 欣興 和碩 元大 原油 開發金 國泰金 健鼎 旺宏 國產 光寶科 緯創 長榮航 兆豐金 日月光 投控 富邦金 中租 中鋼 上海商銀 外資 自營商 表示 外國 證券商 分支 機構 證券 自營商 專戶 資料 來源 理財網', '證交所 完成 檔新權證 發行 申請案 審核發行人 名稱 名稱 國票 證券 建準 電機 工業 國泰金融 控股 康友 製藥 控股 有限公司 開曼 康而富 控股 燿華電子 台新證券 台光 電子 材料 華通電腦 華新科技 臻鼎 科技 控股 聯發科技 國泰證券 康友 製藥 控股 有限 公司 緯穎 科技 服務 鴻海 精密 工業 瀚宇博德 群益 金鼎證券 牧德 科技 華新科技 嘉晶電子 鴻海 精密 工業 凱基證券 可成 科技 台光電子 材料 台灣 積體 電路 製造 台灣 積體 電路 製造 奇鋐科技', '證交所 完成 檔新權證 發行 申請案 審核發行人 名稱 名稱 日盛證券 發行 量加權 股價 指數 香港 麥格理 資本 台灣 卜蜂 企業 台達電子 工業 同欣電子 工業 國泰金融 控股 瑞昱 半導體 嘉聯益科技 緯創 資通 亞東證券 可成 科技 華新科技 群創 光電 鴻海 精密 工業 統一 證券 上銀 科技 大立光電 大立光電 可成 科技 台灣 積體 電路 製造 亞德客 國際 集團 牧德 科技 國巨 聯發科技 聯詠科技 聯詠科技 鴻海 精密 工業 元富證券 國巨 鴻海 精密 工業', '證交所 完成 檔新權證 發行 申請案 審核發行人 名稱 名稱 富邦證券 新光 金融 控股 樺漢 科技 聯詠科技 元大 證券 中國 信託 金融 控股 仁寶 電腦 工業 可成 科技 台郡 科技 金融 控股 台灣 積體 電路 製造 台灣 積體 電路 製造 光寶科技 矽創電子 南亞科技 泰鼎國際 國巨 國巨 國巨 國泰美國 傘型 證券 投資 信託 基金 道瓊 工業 平均 指數 單日 反向 證券 投資 信託 基金 緯創 資通 臻鼎 科技 控股 聯發科技 聯發科技 聯發科技 鴻海 精密 工業 鴻海', '上市 認購 權證 彙總表認購 美式 代號 簡稱 標的 數量 單位 存續 期間 履約價 認購 美式 可成 兆豐 可成 認購 美式 緯創 兆豐 緯創 認購 美式 日興 兆豐 日興 認售 歐式 鴻海 兆豐 鴻海 認售 智邦 智邦 認售 歐式 大立光台 大立光 認購 美式 光寶科 國泰 光寶科 認購 美式 鈺齊 國泰 鈺齊 認售 歐式', '外資 買超 台股 買超 金額 衝上 買超 鴻海 居冠台股 大盤 收黑 終場 下跌 不過 外資 連續 交易日 台股 買超 買超 金額 持續 買超 鴻海 今日 鴻海 買超 今日 集中 市場 自營商 投信 賣超 外資 陸資 買超 期貨 市場 外資 口數 減少 未平倉 合約 口數 降為 外資 集中 市場 買超 鴻海 新光金 友達 新金 群創 聯電 南茂 中壽 富邦金 光寶科 欣興 玉山金', '其他 集中 市場 法人 買賣 超前代碼 名稱 外資 投信 自營商 合計 買賣 元大 原油 群創 鴻海 新光金 國泰金 友達 富邦金 富邦 兆豐金 聯電 中信金 元大 石油 緯創 奇力 佳世達 日月光 投控 台新金 台積電 中壽 上海商銀 永豐金 和碩 廣達 聯發科 台表科 台達電 正崴 彰銀 台塑 代碼 名稱 外資 投信 自營商 合計 買賣 元大 滬深 元大 原油 欣興 元大 黃金 元大 股息 元大 台灣', '統一 晨盤 指數 高點 可期 擇優 佈局 偏多 操作受到 美股 上漲 激勵 台股 昨日 以上 開出 量級 權值股 台積電 鴻海 聯發科 大立光 台達電 南亞科 環球晶 買盤 簇擁 指數 突破 點整數 關卡 氣勢 強盛 終場 指數 拉升 作收 上漲 成交量 觀察 盤面 變化 類股 全數 上揚 其中 電子 傳產 金融 分別 上漲 族群 部份 電子 零組件 半導體 汽車 走勢 分別 上漲 法人 合計 買超 其中 外資 買超', '證交所 完成 檔新權證 發行 申請案 審核發行人 名稱 名稱 凱基證券 發行 量加權 股價 指數 發行 量加權 股價 指數 聯發 科技 富邦證券 證券 投資 信託 基金 台灣 百和 工業 美律 實業 國巨 康友 製藥 控股 限公司 證券 投資 信託 基金 創意 電子 華新科技 國泰美國 傘型 證券 投資 信託 基金 道瓊 工業 平均 指數 單日 反向 證券 投資 信託 基金 鴻海 精密 工業 元大 證券 大立 光電 中磊', '統一 證券 台股 維持 格局 不變受到 美股 上漲 激勵 台股 昨日 以上 開出 量級 權值股 台積電 鴻海 聯發科 大立光 台達電 南亞科 環球晶 買盤 簇擁 指數 突破 點整數 關卡 氣勢 強盛 終場 指數 拉升 作收 上漲 成交量 觀察 盤面 變化 類股 全數 上揚 其中 電子 傳產 金融 分別 上漲 族群 部份 電子 零組件 半導體 汽車 走勢 分別 上漲 法人 合計 買超 其中 外資 買超', '台北 股市 焦點股 華固 億豐 潤泰 浩鑫 訊連 大立光台積電 股價 市值 新高 昨夜 續漲 疲態 顯露 回調 中鋼構 百億 大單 挹注 營運 能量 早盤 股價 逆勢 續彈 豐興 國際 鋼價 加上 鋼筋 接單 大增 銷盤價 跟漲 上檔 季線 早盤 股價 下跌 中鴻 鋼市 回穩 外資 擴大 買超 爆量 拉出 長紅 休憩 股價 回調 南亞科 法人 聯手 買超 加上 麥格理證 升評 優於 大盤', '貿易 貿協 領軍 前進 菲律賓 投資 熱點外貿 協會 董事長 黃志芳 利用 舉辦 菲律賓 台灣 形象展 機會 率領 業者 前往 菲律賓 蘇比克 拜訪 經濟 特區 主管 機關 特首 大田 鞋業 執行 董事 陳丙材 台灣 同鄉會 會長 蘇國芳 實地 瞭解 中美 貿易 戰後 台商 蘇比克 投資 現況 布局 規畫 黃志芳 表示 蘇比克 經濟 特區 美軍 軍事 基地 基礎 開發 具有 完備 機場 港口 加上 台灣 距離 成為 第一 南向 政策 海外 稱產 據點 近期 美中 貿易戰 影響 許多 台商 積極 尋找 海外 生產 基地 蘇比', '其他 集中 市場 法人 買賣 超前代碼 名稱 外資 投信 自營商 合計 買賣 元大 原油 元大 台灣 鴻海 台積電 晶電 友達 元大 石油 緯創 台泥 欣興 台表科 力成 景碩 兆豐金 中信金 群創 元大 台灣 日月光 投控 和碩 華南金 仁寶 永豐金 宏碁 光寶科 華新科 金像電 彰銀 技嘉 代碼 名稱 外資 投信 自營商 合計 買賣 元大 滬深 旺宏 元大 股息 富邦 瑞儀 元大 原油 嘉聯益', '外資 今年 買超 台股 破千億工商時報 國際 資金 台股 潮水 買超 台股 連續 交易日 加碼 台股 買超 金額 再度 站上 千億 大關 市場 今年 獲得 外資 買超 百億 加持 台股 千百億 願意 法人 直指 外資 帶頭 加碼 行動 正在 重現 台股 淹腳目 榮景 外資 單日 大幅度 買超 推升 加權 指數 外資圈 人士 剖析 國際 資金 台股 愛其來 大利多 首先 中美 貿易戰 目前 進入 暫時 休兵期 全球', '外資 今年 台股 破千億國際 資金 台股 愛如 潮水 買超 台股 連續 交易日 加碼 台股 全年 買超 金額 再度 站上 千億 大關 市場 今年 獲得 外資 買超 百億 加持 台股 千百億 願意 法人 直指 外資 帶頭 加碼 行動 正在 重現 台股 淹腳目 榮景 外資 單日 大幅度 買超 推升 加權 指數 新高 外資圈 人士 剖析 國際 資金 台股 愛其來 共有 大利多 首先 中美 貿易戰 目前 進入 暫時 休兵期 全球 市場 獲得', '電腦 設備 緯創 切入 照護 市場 催生 智能 寶寶 系統緯創 集團 旗下 緯創醫學 璽悅 國際 攜手 合作 新生兒 智能 照護 解決 方案 應用 璽悅 護理 透過 物聯網 科技 提升 新生兒 照護 安全性 便利性 緯創 醫學 近年 積極 投入 智能 照護 解決 方案 領域 應用 大數據 分析 預測 智慧 物聯網 技術 打造 新生兒 智能 照護 解決 方案 緯創 醫學 璽悅 國際 攜手 智能 照護 服務 導入 護理 緯創 資通 技術長 緯創 醫學 總經理 黃俊東 表示 我們 高興 台灣 標竿 品牌 璽悅產 護理 合作 新生', '緯創 切入 新生兒 照護 應用 數據 智慧物 聯網中央社 記者 潘智義 台北 日電 緯創 資通 旗下 今天 宣布 璽悅 國際 合作 新生兒 智慧 照護 解決 方案 透過 聯網 科技 提升 新生兒 間斷 照護 安全 便利性 緯創 資通 技術長 緯創醫學 總經理 黃俊東 表示 應用 數據 分析 預測 智慧 聯網 技術 新生兒 智慧 照護 解決 方案 更多 新生兒 獲得 有效 照護 量測 管理 塑造 安全 產後 護理 環境 黃俊東 說明 傳統 取得 呼吸 心率 生理 資訊 需要 接觸 人體', '緯創 醫學 智能 照護 系統 打入 照護 體系新聞 記者 張以忠 報導 緯創集團 旗下 以下 簡稱 緯創 醫學 照護 業者 璽悅 國際 攜手 合作 新生兒 智能 照護 解決 方案 應用 璽悅 護理 透過 聯網 科技 提升 新生兒 照護 安全性 便利性 緯創 醫學 近年 積極 投入 智能 照護 解決 方案 領域 應用 數據 分析 預測 智慧 聯網 技術 打造 新生兒 智能 照護 解決 方案 緯創 資通 技術長 緯創 醫學 總經理 黃俊東 附圖 表示 璽悅 護理 家合', '個股 搶食 高端 月子 商機 緯創 攜手 璽悅 國際 打造 新生兒 智能 照護 方案看好 高端 月子 商機 緯創 旗下 緯創醫學 國內 護理 高端 品牌 璽悅 國際 攜手 新生兒 智能 照護 解決 方案 璽悅產 護理 透過 科技 提升 新生兒 照護 安全性 便利性 週五 雙方 舉行 簽約 儀式 緯創 醫學 近年 積極 投入 智能 照護 解決 方案 領域 應用 數據 分析 預測 智慧物 聯網 技術 打造 新生兒 智能 照護 解決 方案 緯創 醫學 璽悅 國際 攜手 合作 智能 照護 服務 導入 璽悅產 護理 分館 更多 新生兒 獲得', '外資 台股 買超 金額 鴻海 外資 敲進台股 早盤 驚驚 漲上 續創 年半 新高 終場 下跌 成交值 外資 台股 買超 外資 連續 交易日 買超 累計 買超 金額 法人 今日 合計 買超 台股 其中 自營商 賣超 投信 賣超 外資 買超 外資 台股 鴻海 連續 大力 調節 旺宏 持股 賣超 超過 外資 今日 集中 市場 買超 個股 鴻海 群創 台積電 欣興 友達', '其他 集中 市場 法人 買賣 超前代碼 名稱 外資 投信 自營商 合計 買賣 元大 原油 聯電 鴻海 台泥 友達 上海商銀 廣達 日月光 投控 台積電 長榮航 群益證 和碩 華通 寶成 台光電 台達電 元大 石油 英業達 聲寶 中鋼 緯創 華新 東和鋼鐵 崇越 京元電子 國巨 南亞 台中銀 台化 代碼 名稱 外資 投信 自營商 合計 買賣 元大 滬深 富邦 群創 元大金 元大 原油 元大 股息 臺企銀 旺宏', '電腦 設備 伺服器 大單 明年 動能 續旺 廣達 再戰 月線廣達 伺服器 雲端 產業 蓬勃 發展 平台 上市 帶動 需求 可望 持續 成長 廣達 科技 巨頭 伺服器 供應鏈 法人 廣達 伺服器 產品 持續 雙位數 成長 空間 營收 比重 來自 較為 成熟 筆電 產品 元來 目前 價本益比 位於 歷史 本益比 中緣 股價 評價 合理 早盤 廣達 挑戰 月線 反壓 廣達 全球 代工廠 主要 組裝 產品 包括 筆電 伺服器 智慧 手錶 智慧 音箱 生產 基地 包括 上海 江蘇', '筆電 代工 族群 平淡 廣達 無人車 傳試 股價 走揚中央社 記者 潘智義 台北 日電 廣達電腦 積極 研發 人工 智慧 產品 自駕 美國 試跑 消息 傳出 今天 股價 走高 蘋果 代工 組裝 和碩 股價 平淡 筆電 代工 族群 逆勢 上漲 廣達盤 來到 上漲 和碩 來到 上漲 英業達 平盤價 附近 游走 緯創 平盤價 附近 整理 仁寶 平盤 附近 對於 無人車 美國 試跑 廣達 表示 主管 公司 活動 場合 談話 內容 不便 評論 因應', '外資 不停 灌頂 權值股外資 買超 以來 回補 法人 指出 台股 關卡 穩守好 權值股 重點 部隊 進一步 挑戰 去年 高點 電子 電子 輪番 上陣 一氣呵成 台股 權值股 權王 台積電 上揚 貢獻 台股 漲點 另外 鴻海 台塑 中華電 台塑 國泰金 作收 帶動 加權 指數 上揚 作收 權值股 儼然 成為 台股 萬一 重要 先鋒 部隊 根據 統計 外資 以來 買超 台股 其中 台積', '台北 股市 黃金 開跑 台廠 沾光美國 黃金 開跑 摩根大通 聯合 健康 嬌生 表現 優於 預期 帶動 道瓊 指數 飆破 關卡 科技 報由 打頭陣 法人 認為 美科技 台灣 科技股 連動性 旺季 效應 資金 效應 帶動 美台 科技 漲勢 根據 台新 投顧 資料 顯示 主要 美企 財報 公布 時程 日由 率先 上場 日半 導體 大廠 德儀 緊接 微軟 特斯拉 超微 波音 賽靈思 接棒 公布 台股 這些 公司 相關 個股 包括 台積電 日月光 聯電 緯創', '統一 證券 晨訊 指數 穩健攻堅 偏多 布局日期 盤勢 分析 指數 穩健 攻堅 偏多 布局 昨日 盤勢 美股 指數 再度 攻高 激勵 昨日 台股 以上 開出 上漲 盤面 出現 短線 獲利 了結 賣壓 權值 類股 台積電 台塑 國泰金 和泰車 表現 大立光 聯發科 個股 漲多 拉回 指數 平盤 呈現 狹幅 震盪 格局 尾盤 收高 終場 指數 上漲 收在 成交量 提升 觀察 盤面 變化 類股 上揚 其中 電子 傳產 金融 分別 上漲', '統一 證券 台股 技術面 籌碼面 強勢美股 指數 再度 攻高 激勵 昨日 台股 以上 開出 連日 上漲 盤面 出現 短線 獲利 賣壓 權值 類股 台積電 台塑 國泰金 和泰車 表現 大立光 聯發科 個股 漲多 拉回 指數 平盤 呈現 狹幅 震盪 格局 尾盤 收高 終場 指數 上漲 成交量 提升 觀察 盤面 變化 類股 上揚 其中 電子 傳產 金融 分別 上漲 族群 部份 橡膠 營建 油電 燃氣類 走勢 分別 上漲', '緯創 宗盈 國際 科技 投資 公司 屬子 公司 公司 實質 控制力公開 資訊 觀測站 重大 訊息 公告 緯創 說明 媒體 報導 事實 發生日 公司 名稱 緯創 資通股份 有限 公司 公司 關係 輸入 公司 公司 公司 相互 持股 比例 適用 傳播 媒體 名稱 蘋果 日報 報導 內容 緯創 公司 賊現形 神鬼 業務 貨款 發生 緣由 報導 緯創集團 子公司 驚爆 神鬼 業務 走近 貨款 弊案 台北地檢署 報查出 緯創集團 負責 公司 產品 外銷 中國 汽車 業務 林政賢', '電腦 設備 宗盈 業務 貨款 弊案 緯創 公司 財務 無礙緯創 媒體 報導 緯創集團 子公司 驚爆 神鬼 業務 貨款 弊案 台北地檢署 獲報 查出 緯創集團 旗下 汽車 電子 公司 宗盈 國際 科技 負責 公司 產品 外銷 中國 汽車 業務 林政賢 涉嫌 境外 公司 第三 支付 貨款 名義 侵吞 中方 交付 貨款 拿去 投資 內蒙 礦產 偽造 中方 應付 帳款 資料 業務 侵佔 偽造 文書 林男 起訴 公司 說明 宗盈 國際 科技 公司 公司 投資 公司 屬子 公司 緯創', '新聞 新台幣 持續 升值 代工廠 積極 避險原文 連結 原文 內容 新台幣 強勢 上揚 開盤 回跌 漲勢 持續 升破 美中 貿易 戰出現 雜音 新台幣 熱錢 持續 湧入 統計 單日 成交量 美元 昨日 匯率 強漲 之後 今日 持續 挺升 美元 新台幣 匯率 開盤 開出 午盤 收在 持續 創下 今年 新高 近日 強勢 亞洲 貨幣 當然 部分 利潤 代工廠 而言 什麼 消息 趨勢 持續 和碩 廣達 仁寶 緯創', '其他 集中 市場 法人 買賣 超前代碼 名稱 外資 投信 自營商 合計 買賣 群創 新光金 鴻海 中信金 緯創 欣興 元大 滬深 華新 長榮 正新 富邦 証正 景碩 台積電 中石化 長榮航 廣達 聯電 大同 台泥 中鋼 彩晶 華南金 京元電子 南亞 富邦金 聯合 再生 國泰 中國 臺企銀 益登 代碼 名稱 外資 投信 自營商 合計 買賣 元大 原油 富邦 燿華 元大台灣 仁寶 聯茂 元大 石油 統一 元大', '看好 緯創只要 達到 達到', '看好 緯創股票 催眠 巴菲特 基本面 其實 巴菲特 技術 分析 順勢 操作 因為 巴菲特 書本 不會 但是 研究 出手 歷史 紀錄 知道 答案 回到 正題 只要 達到 達到 加油', '看好 緯創請問 元跟 依據 什麼 獲利 成長 地步 遷廠 應該 容易', '鴻海 布局 印度 傳新 進展 開始 生產中央社 記者 鍾榮峰 台北 日電 鴻海 集團 印度 布局 進展 印度 媒體 報導 鴻海 印度 廠區 開始 製造 產品 蘋果 規劃 印度 量產 推出 系列 機種 印度 媒體 網站 引述 知情 人士 報導 蘋果 有意 印度 打造成 全球 製造 樞紐 其中 蘋果 開始 透過 鴻海 集團 清奈 附近 廠區 量產 產品 針對 量產 報導 指出 鴻海 印度 廠區 已經 進行 為期 試產 作業 此外 蘋果 進一步 規劃 印度 量產 推出 系列 機種 報導 指出 透過', '在線 代工 不同調 仁寶 和碩 正向新聞 記者 張以忠 報導 代工 五哥 因為 客戶 業務 不同 以及 產能 遷移 計畫 步調 差異 對於 展望 相同 以往 代工 五哥 營收 優於 或是 持平 今年 而言 法人 預期 仁寶 和碩 營收 持續 廣達 英業達 修正 今年 以來 代工 五哥 普遍 受到 缺貨 中美 貿易 不確性 因素 產能 轉移 出貨 受到 影響 部分 品牌廠 旺季 之前 提前 拉貨 導致 旺季 不旺等 因素 影響 營運 節奏 或少 受到 影響 近期代', '上市 自營商 排行股票 名稱 買進 張數 賣出 張數 買賣 張數 元大 滬深 國泰中國 元大 原油 富邦 新光金 元大 臺灣 永續 國泰 費城 半導體 台肥 中國 農林 國泰中國 國泰 美國 道瓊 京元電子 群益 深証 中小 景碩 奇鋐 富邦 印度 緯創 富邦 百和 資料 來源 理財網', '台北 股市 上市櫃 營收 衰退中美 貿易戰 影響 程度 擴大 油價 干擾 今年 合併 營收 第三季 合併 營收 九月 合併 營收 去年 衰退 英國 脫歐 再度 出現 衰退 訊號 不過 台新 投顧 副總 黃文清 分析 合併 營收 概況 接下來 台股 中美 貿易 轉單 技術 惠股 台股 大局 中美 貿易戰 開打 至今 相當 程度 影響 全球 經濟 活動 台股 上市櫃 公司 發布 合併 營收 數字 觀察 合併 營收 年減 中斷 以來 營收', '營收 提前 拉貨 代工 普遍新聞 記者 張以忠 報導 代工 營收 出爐 由於 品牌 客戶 基於 貿易戰 不確定性 普遍 提前 拉貨 基期 因素 拉貨 需求 旺季 現象 代工 出貨 成長 不過 整體 出貨 呈現 旺季 現象 代工 營收 突出 和碩 仁寶 緯創 營收 分別 月增 以及 和碩 營收 月增 年增 五哥 成長 幅度 和碩 出貨 持平', '科技 緯創 駕車 上路緯創 近年 積極 科技 世代 提前 布局 年多 國內 參與 自動 駕駛 後台 相關 資訊 整合 系統 建置 車路 整合 服務 陸續 合作 夥伴 資源 介接 推出 自動 駕駛 運行 資訊 整合 平台 高精 地圖 智慧 運輸 創新 整合 應用 預計 落地 同時 軍車 聯網 領域 練兵 緯創 開展 台灣 創新 技術 博覽會 端出 中華電信 合作 建置 自動 駕駛 運行 資訊 整合 平台 擬定 統一 標準 資訊 交換 通訊', '通信 網路 轉機 題材 點火 譁裕飆 高價譁裕 隨著 時序 進入 下半年 傳統 旺季 下半年 表現 可望 優於 上半年 由於 美中 貿易戰 關係 譁裕 機會 迎來 轉單 現階段 處於 接洽 譁裕 股價 強勢 開高 漲幅 不僅 站上 元大關 寫下 月初 以來 高點 早盤 過後 漲幅 收斂 附近 股價 震幅 劇烈 譁裕 儘管 上半年 虧損 隨著 時序 進入 旺季 美中 貿易戰 轉單 機會 明朗化 法人 看好 譁裕 下半年 營運 表現 優於 美中 貿易 戰未完待續 因應 客戶 要求 產線移', '創新 技術 博覽會 駕車 技術 亮點中央社 記者 潘姿羽 台北 日電 台灣 創新 技術 博覽會 台北世貿 舉行 其中 未來 科技館 特別 展出 駕車 技術 表示 駕車 目前 重要 產業 發展 方向 今天 發布 新聞稿 指出 台灣 創新 技術 博覽會 未來 科技館 未來 移動 生態系 共有 廠商 展出 台灣 駕車 載資 通訊 相關 技術 完整 呈現 國內 自駕車 產業 生態系 未來 移動 生態系 展出 成果 包括 勤崴 國際 車聯網 自駕車 系統 高清 地圖', '新聞 蘋果 攜手 鴻海 斥資 擴大 印度發文 提醒 發文 詳閱 新聞 分類 發文 規範 規範 發文 處份 連結 善用 網址 連結 點擊 板規 處份 心得 評論 盡量 充實 心得 濫竽 充數 行文 規範 水桶 處份 刪除 以上 內容 原文 連結 蘋果 攜手 鴻海 斥資 擴大 印度 工廠 產能 原文 內容 美中 貿易戰 持續 況況 美國 品牌 相關 產品 製造 加速 撤離 中國 根據 外媒 報導 新機 蘋果 斥資 美元 新台幣', '科技 筆電 全球 出貨 下滑受惠 英特爾 供貨 情況 持續 好轉 加上 品牌廠 第二季 以來 提前 備貨 效益 明顯 全球 筆電 組裝廠 出貨量 上半年 維穩 增長 第三季 微幅 增長 走勢 第四季 先前 備貨 待去 美中 貿易 戰前景不明 影響 出貨 總量 出現 下滑 國際 數據 資訊 發布 全球 筆記型 電腦 組裝 產業 季報 指出 第二季 全球 筆電 處理器 缺貨 狀況 緩解 加上 品牌廠 因應 貿易 戰而 提前 備貨 訂單 挹注 出貨量 大幅 季增 大廠', '擴大 印度 生產 蘋果 鴻海 加碼 美元中央社 記者 鍾榮峰 台北 日電 鴻海 印度 布局 進展 印度 媒體 報導 蘋果 有意 透過 鴻海集團 印度 投資 美元 擴大 印度 製造 規模 印度時報 網站 報導 蘋果 有意 印度 投資 美元 規劃 出口 印度 製造 產品 全球 報導 指出 正值 美中 貿易戰 期間 視為 蘋果 有意 尋求 中國 以外 生產 製造 據點 報導 引述 官員 消息 人士 指出 蘋果 規劃 透過 合作 夥伴 印度 投資 美元 合作 夥伴 可能 鴻海集', '產業 蘋果 擴大 印度 生產 合作 鴻海 美元根據 印度 媒體 消息 蘋果 有意 透過 鴻海集團 印度 投資 美元 擴大 印度 製造 生產 主要 就是 為了 正值 貿易戰 視為 蘋果 有意 尋求 中國 以外 生產 製造 據點 規劃 出口 印度 製造 產品 全球 鴻海 印度 清奈 工廠 製造 蘋果 因應 全球 市場 產品 而且 鴻海 旗下 眾多 零組件 供應商 規劃 當地 設廠 蘋果 代工 企業 印度 沒有 組裝廠 今年 已經 增加到 其中 隸屬 計劃 生產 系列 手機 鴻海 富士康 緯創', '國際 產業 透過 鴻海 加碼 美元 蘋果 擴大 印度 製造根據 印度 媒體 消息 蘋果 有意 透過 鴻海集團 印度 投資 美元 擴大 印度 製造 生產 主要 就是 為了 正值 貿易戰 視為 蘋果 有意 尋求 中國 以外 生產 製造 據點 規劃 出口 印度 製造 產品 全球 鴻海 印度 清奈 工廠 製造 蘋果 因應 全球 市場 產品 而且 鴻海 旗下 眾多 零組件 供應商 規劃 當地 設廠 蘋果 代工 企業 印度 沒有 組裝廠 今年 已經 增加到 其中 隸屬 計劃 生產 系列 手機 鴻海 富士康 緯創', '證交所 零股 交易 成交 股數 排行證券 代號 證券 名稱 成交 股數 成交 金額 成交價 中環 鴻海 華南金 新金 玉山金 台泥 楠梓電 旺宏 台積電 新光金 中石化 聯益 第一 元大 股息 中鋼 緯創 彰銀 聯電 元大 台灣 錸德 單位 資料 來源 理財網', '外資 台股 超近 強力 加碼 旺宏台股 早盤 關卡 拉回 終場 下跌 作收 成交值 法人 外資 陸資 投信 買超 自營商 合計 買超 外資 台股 買超 金額 個股 部分 旺宏 同步 法人 買超 首位 法人 合買 台股 今日 自營商 賣超 投信 買超 外資 陸資 買超 外資 期貨 多單 減少 未平倉 口數 降到 證券 分析師 黃漢成 指出 台指期 明日 結算 外資 留倉 口數', '新聞 第一 蘋果 揭露 組裝 使用原文 連結 原文 內容 第一 蘋果 揭露 組裝 使用 綠能 記者 黃佩君 台北 報導 新款 推出 售價 誠意 加上 漂亮 新色 夜幕 不少 果粉 心動 推出 新款 綠色 蘋果 同步 釋出 產品 環境 報告 揭露 新機 組裝 使用 綠能 不但 蘋果 系列 手機 歷來 承諾 推升 後續 台廠 蘋鏈 需求 正式 亮相 新款 定價 相對 降價 加上 推出 鏡頭 新機 絕美 新款 夜幕 不少 過去 為所動 果粉 大呼心動 綠色', '證交所 完成 檔新權證 發行 申請案 審核發行人 名稱 名稱 凱基證券 聯發科技 聯發科技 聯發科技 鴻海 精密 工業 鴻海 精密 工業 燿華電子 燿華電子 燿華電子 發行 量加權 股價 指數 發行 量加權 股價 指數 臺灣證券 交易 發行 量加權 股價 指數 發行 量加權 股價 指數 富邦證券 元大 標普 油金 傘型 期貨 信託 基金 標普 高盛 原油 單日 反向 倍指數 股票型 期貨 信託 基金 元大 滬深 傘型 證券 投資 信託 基金 滬深', '新聞 台商 飆破作者 看板 標題 新聞 台商 飆破 時間 自由時報 機械 龍頭 台商 飆破 記者 黃佩君 台北 報導 台商 再度 通過 包括 台灣 工具機 指標 廠商 銀科技 以及 瀚宇博德 譁裕 實業 全球 知名 天線 保護 元件廠 康那香 帶來 投資 金額 截至 目前 廠商 投資 金額 超過 經濟部 投資 台灣事務所 召開 歡迎 台商 回台 聯審 會議 通過 銀科技 瀚宇博德 譁裕 實業 全球', '其他 集中 市場 法人 買賣 超前代碼 名稱 外資 投信 自營商 合計 買賣 富邦 元大 台灣 京元電子 華通 欣興 中環 群創 元大 滬深 聯益 光寶科 南電 瀚宇博 緯創 神基 富邦 証正 金像電 燿華 聯電 華泰 南亞科 奇鋐 晶技 富邦 臺灣 加權 茂林 中磊 廣達 強茂 代碼 名稱 外資 投信 自營商 合計 買賣 英業達 仁寶 元大 旺宏 新光金 鴻海 元大 台灣 國泰金 中信', '財報 代工 哥廣達 緯創 本業 成長 最為 突出新聞 記者 張以忠 報導 電子 代工 五哥 受惠 提前 拉貨 產品 持續 增長 帶動 本業 表現 當中 廣達 年增 緯創 年增 和碩 年增 最為 突出 仁寶 本業 去年 持平 上下 英業 調整 產線 影響 本業 去年 衰退 以上 廣達 營收 季增 年增 其中 出貨 季增 出貨 上季 成長 毛利率 季增 百分點 年增 百分點 營業 利益 季增 年增 稅後 淨利', '機械 龍頭 投資 擴增 智慧 工廠中央社 記者 廖禹揚 台北 日電 經濟部 投資 台灣事務所 今天 通過 台商 投資案 其中 上銀 科技 預計 加碼 投資 新台幣 擴建 廠房 產線 擴大 實現 智慧 工廠 目標 預計 帶來 就業 機會 投資 台灣 事務所 今天 通過 上銀 科技 瀚宇博德 譁裕 實業 全球 知名 天線 保護 元件廠 康那香 台商 投資案 投資額 超過 投資處 表示 目前 通過 台商 投資 行動 方案 企業 成都 科技 客戶 降低 貿易', '看好 天線 龐大 需求 譁裕 台建 製造中心中央社 記者 潘智義 台北 日電 台灣 無線 通訊 天線廠 譁裕 實業 今天 經濟部 投資 台灣 事務所 通過 投資案 譁裕 表示 看好 基地 天線 龐大 需求 電子 市場 新建 製造中心 譁裕 指出 台灣 位於 新竹市 設在 新竹縣 鳳山 工業區 預計 年後 完工 啟用 生產 銷美 台灣 內銷 高階 機種 提供 工作 機會 另外 中國大陸 維持 東莞 蘇州廠 譁裕 主要 客戶 包括 中磊 鴻海', '熱門 族群 外資 逆轉勝台股 再度 回測 年線 外資 擴大 賣超 不過 逆勢 大舉 買超 奇鋐 立積 健鼎 力山 泰碩 以上 統計 總計 七月 營收 成長 報優 第三季 展望 個股 獲得 外資 買超 一億 元元 以上 股價 同上 留長 影線 翻揚 大漲 上市 櫃公司 營收 截止 公告 整體 表現 不俗 進入 第三季 旺季 整體 營收 寫下 歷年 緊接著 半年 截止 公告 近日 公司 公告 結果 許多 公司 題材 散熱', '統一 證券 晨訊 熱線 聯絡 趁機 降低 持股 因應日期 盤勢 分析 熱線 聯絡 良機 降低 因應 昨日 盤勢 國際 情勢 並未 好轉 前日 美股 大跌 作收 導致 昨日 開盤 台股 以下 點至 開出 權值股 賣壓 持續 出籠 壓抑 指數 大跌 隨後 權值股 低接 買單 進駐 跌幅 小幅 收斂 亞股 表現 不佳 拉抬 力道 有限 盤中 跌深 台塑 四寶 金融股 小幅 拉抬 蘋概股 嘉聯益 續強 指數 再度 失守 關卡 終場 指數 下跌 作收 成交量 觀察', '日盛 金控 晨訊 貿易 戰現 轉圜 利多 連動 上漲日期 盤勢 分析 美國 關稅 產品 延後 課稅 今日 台股 早盤 利多 美國 貿易 代表署 宣布 原訂 美元 關稅 清單 已經 修改 其中 手機 筆電 產品 延遲 課以 關稅 消息 激勵 美股 出現 大漲 指數 漲跌幅 介於 其中 費半 指數 漲幅 量價 技術 量能 成交量 縮小 之下 後勢 下跌 量縮 反彈 量增 支撐 附近 上檔 壓力 附近 技術', '外資 超股 旺宏 奇鋐 緯創統計 交易日 外資 連續 買超 以上 股票 連續 股票 連續 股票 群雷 連續 買超 股票 聯發科 大成 南亞科 鎧勝 光洋科 轉賣 股票 亞太電 上海銀', '統一 證券 台股 上檔 套牢 賣壓 沉重 技術面 偏空國際 情勢 並未 好轉 前日 美股 大跌 作收 導致 昨日 開盤 台股 以下 開出 權值股 賣壓 持續 出籠 壓抑 指數 大跌 隨後 權值股 低接 買單 進駐 跌幅 小幅 收斂 亞股 表現 不佳 拉抬 力道 有限 盤中 跌深 台塑 四寶 金融股 小幅 拉抬 概股 嘉聯益 續強 指數 再度 失守 關卡 終場 指數 下跌 作收 成交量 觀察 盤面 變化 類股 全數 下跌 其中 電子 傳產 金融 分別 收低 在次 族群 部份 僅有', '券商晨訊 台股 投資 組合 建議券商 推薦 鴻海 廣達 仁寶 緯創 英業達 台積電 巨大 嘉聯益 臻鼎 券商 推薦 鴻海 廣達 仁寶 緯創 英業達 台積電 巨大 嘉聯益 臻鼎', '代工 四雄避 關稅 林百里 轉移 廠區 必然儘管 美國 總統 川普 宣布 延緩 大陸 電子 產品 課稅 不過 台灣 代工廠 準備好 短期 因應 措施 包括 廣達 仁寶 緯創 英業達 全面 改從 台灣 出貨 增加 成本 客戶 負擔 關稅 上升 長期 遷移 部分 產能 東南亞 根據 經濟日報 報導 對於 生產線 遷出 大陸 廣達 董事長 林百里 法說會 表示 一向 謹慎 準備好 之前 產品 台灣 生產 已經 客人 台灣 生產 什麼 我們 飯店', '獲利 優於 預期 廣達法 股價 走強中央社 記者 潘智義 台北 日電 筆電 代工廠 昨天 密集 舉行 法人 說明會 今天 股價 獲利 優於 預期 廣達 表現 最佳 來到 上漲 仁寶 英業達 小漲 小跌 昨天 舉行 法說會 筆電 代工廠 廣達 上半年 盈餘 仁寶 盈餘 英業達 盈餘 除了 廣達 股價 走強 之外 仁寶 來到 小漲 隨後 來到 下跌 英業 來到 小漲 來到 下跌 日前 公布 財報 和碩', '熱門 族群 科嘉 攻頂 電腦 周邊 續攻中美 雙方 熱線 貿易 談判 再度 露出 曙光 美國 宣布 推遲 手機 筆電 玩具 加徵 關稅 激勵 周二 美股 大漲 中華股市 同步 強彈 台股 開高 走高 上漲 衝回 台積電 熄火 大盤 收漲 電腦 周邊 近日 力挺 多方 早盤 科嘉 領軍 代工廠 廣達 緯創 和碩 蘋果 鍵盤股 精元 概念 奇鋐 財報 利多 威強電 樺漢 勤誠 華擎 以及 新美齊 飛捷 華孚 達方 個股 集體 上攻 蘋果 鍵盤 改款 昨日 證交所法', '新聞 筆電 代工 營收 廣達 和碩 小幅 成長代工廠 廣達 緯創 仁寶 和碩 英業達 陸續 公布 營收 法人 表示 客戶 因應 貿易戰 提早 拉貨 影響 整體 代工廠 筆電 出貨 衰退 進入 產業 傳統 旺季 預期 出貨 營收 成長 表現 可望 優於 廣達 合併 營收 累計 今年 合併 廣達 表示 筆電 出貨 累積 今年 出貨 由於 今年 消費筆 產品 出貨 政經 局勢 變化 影響 因此 展望 保守', '緯創 今天昨天 公告 營收 第二 財報 今天 市場 表現 代表 符合 多數 期望 可以 預期 第三 第二 加油', '經濟日 報晨訊上市櫃 營收 最好 薪資 驚見 負成長 韓扶植 面板 明年 預算 調高 股息 入帳 金控 獲利 九成 中信 北富銀 債券 操作 不同調 和泰車 上半年 統一 業績 飆新高 台積 轉旺 千億 晶華 上半年 配息 顧立雄 網銀 禁併 實體 銀行 抗爭 加劇 衝擊 跨國 企業 大同 集團 第四 搶地 推案 夆典 售地 入帳 國有地 活化 釋出 大案 蘋果 系鏈 蘋果 布局 背光 模組廠 營運', '個股 緯創 上季 雙率 獲利 同比 上半年緯創 公告 年報 營收 年增 營業 淨利 年增 盈餘 年增 其中 第二 營收 季減 年增 營業 淨利 上季 大增 年增 盈餘 季增 年增 第二季 財報 優於 預期 獲利 成長 大幅 優於 營收 成長 毛利率 攀升到 營益率 首季 顯著 成長 展望 第三季 受到 貿易戰 提前 拉貨 效應 激勵 業績 提升 公司 同步 公告 業績 單月 合併 營收 月減 年增', '科技 美國 專利榜 台積 排第 華為美國 智慧 財產權 所有人 協會 近日 公布 全球 機構 美國 專利榜 大幅 優勢 蟬聯 榜首 台積電 排行 高居 專利 數量 增幅 最為 強勁 大陸 華為 京東方 擠入 根據 美國 專利 商標局 數據 定期 製作 全球 機構 專利 榜單 網站 公布 美國 實用 新型 專利 授予 機構 名單 顯示 發布 專利 有所 減少 美國 機構 大宗 囊括 韓國 台灣 日本 台積電 榜單', '科技 貿易戰 衝擊 出貨 下滑客戶 季初 減少 拉貨 仁寶 廣達 出貨量 跌幅 兩成 緯創 超過 不過 廣達 伺服器 旺季 帶動 營收 逆勢 月增 仁寶 緯創 營收 月減 上下 緯創 公布 第二 認列 緯穎 獲利 年增 高達 上半 獲利 年來 新高 一季 季初 客戶 拉貨 動能 季底 明顯 減少 尤其 中美 貿易 戰正 緊張 客戶 明顯 提前 拉貨 月工廠 出貨量 明顯 減少 緯創 出貨量', '台北 股市 焦點股 智伸科 晶華 美利達 宏璟 緯創 凌巨華泰 營收 月增 年增 不理 外資 轉賣 早盤 股價 逆漲逾 聯電 月營 收創 以來 新高 月增 外資 轉賣 早盤 股價 逆勢 小漲 抗跌 力道 和泰 登上 汽車 獲利王 賺逾 股本 帶動 早盤 股價 彈上 獨撐 汽車 類股 宏泰 標售 大園 部分 動產 底價 激勵 早盤 股價 大漲 躍過 月線 日成 營收 月增率 負轉正 年減率 降至 帶動 早盤 股價 大漲 收復 月線 統一 月營收 雙創', '經濟 證券 頭條 緯軟 獲利 創新緯創 集團 旗下 資訊 委外 服務商 緯軟 受惠 客戶 下單 暢旺 獲利 增逾 純益 單季 新高 優於 公司 預期 上半年 獲利 去年 勁揚 純益 歷來 緯軟 近期 業績 持續 增溫 公司 公告 營收 增至 新猷 年增 累計 七月 合併 營收 去年 增加 法人 預估 緯軟 上季 財報 亮眼 營收 持續 創高 凸顯 營運動能 無虞 預料 公司 毛利率 可望 維持在 今年 營收 有機', '財報 緯軟 淨利 單季公告 公司 第五 董事會 重大 決議 事項 事實 發生日 公司 名稱 緯創 軟體股份 有限 公司 公司 關係 輸入 公司 公司 公司 相互 持股 比例 適用 發生 緣由 通過 公司 第二季 合併 財務 報告 第二季 合併 財務 報告業 編製 完成 安侯 建業 聯合 會計師 事務所 陳雅琳 黃明宏 會計師 核閱 單位 新台幣 營業 收入 營業 毛利 營業 淨利 稅前 淨利 稅後 淨利 稅後 基本 盈餘', '台股 開低 震盪 整理 逼近中央社 記者 潘智義 台北 日電 美股 道瓊 工業 指數 週五 下跌 台北 股市 今天 低盤 開出 迅速 下跌 隨即 走揚 來到 平盤 之上 維持 小紅 格局 逼近 時止 加權 指數 來到 小漲 成交值 新台幣 類股 當中 食品 機電 營建 類股 其餘 類股 下跌 晶圓 代工 龍頭 台積電 來到 小漲 翻黑 來到 下跌 股王 大立光 來到 小跌 回到', '營收 緯創 營收 月增率 年增率緯創 自結 營收 相較 減少 金額 減少 相較 增加 金額 增加 累計 營收 相較 增加 金額 同期 增加', '熱門 族群 利奇馬 加持 颱風財利奇馬 颱風 今年 第一 北北基 桃竹 縣市 停班 停課 匯市 休市 上班族 學生 颱風 颱風 颱風 潤泰全 鈊象 傳奇 業績 股價 多數 上漲 慶賀 颱風 過境 蔬果 水果 零食 飲用水 消費 防颱 需求 大增 超市 量販 通路 備貨量 拉高 平日 因應 民眾 採購 包括 泰山 潤泰 潤泰 富邦 超商 量販店 電商 通路 業者 業績 直接 受惠 北部 地區 百貨 公司', '財報 緯創 上半年 盈餘緯創 公佈 民國 上半年 會計師 核閱 財報 累計 營收 營業 毛利 毛利率 營業 淨利 營益率 盈餘 淨利 合併 盈餘 年增率', '財報 緯創 上半年 淨利 歸屬 公司公告 公司 第五 董事會 重大 決議 事項 事實 發生日 公司 名稱 緯創 資通 股份 有限 公司 公司 關係 輸入 公司 公司 公司 相互 持股 比例 適用 發生 緣由 通過 公司 第二季 合併 財務 報告 第二季 合併 財務 報告業 編製 完成 安侯 建業 聯合 會計師 事務所 陳雅琳 唐嘉鍵 會計師 核閱 單位 新台幣 營業 收入 營業 毛利 營業 利益 稅前 淨利 淨利 屬於 母公司 業主 盈餘 措施', '董事會 緯創 決議 辦理 註銷 庫藏 減資 減資 比率董事會 決議 辦理 註銷 第一 買回 庫藏股 訂定 減資 基準日 董事會 決議 日期 減資 緣由 依據 上市 上櫃 公司 買回 公司 股份 辦法 公司 第一 買回 公司 股份 轉讓 員工 辦法 規定 辦理 減資 金額 新台幣 消除 股份 減資 比率 減資 股本 新台幣 預定 股東會 日期 適用 預計 減資 新股 上市 上市 普通股 股數 適用 預計 減資 新股 上市 上市 普通 股數 發行 普通股 比率 減資 上市 普通 股股', '業績 電腦 設備 緯創 盈餘緯創 營業 收入 營業 毛利 營業 利益 淨利 歸屬於 公司 業主 淨利 盈餘 編輯 整理 莊雅珍', '佳世達 投資 增溫 緯創 盈餘 年增中央社 記者 潘智義 台北 佳世達 科技 持續 投資 其他 公司 發揮 互補 功能 今天 公布 上半年 歸屬 公司 淨利 新台幣 年增 盈餘 緯創 上半年 年增 佳世達 董事會 通過 投資案 包括 聚碩 科技 勝品 電通 明基 血液 淨化 公司 持續 擴大 智慧 方案 醫療 布局 優化 現有 事業 今年 以來 新增 陽科技 合眾 專訊 成員 擴大 佳世達 集團 轉型 成長 利基 佳世達 指出', '證交所 完成 檔新權證 發行 申請案 審核發行人 名稱 名稱 凱基證券 可成 科技 可成 科技 台光 電子 材料 台光 電子 材料 台灣 積體 電路 製造 亞洲光學 英業達 智易 科技 華邦電子 新光 金融 控股 瑞儀光電 裕隆汽車 製造 嘉聯益科技 元大 滬深 傘型 證券 投資 信託 基金 滬深 單日 正向 證券 投資 信託 基金 潤泰全球 緯創 資通 樺漢科技 聯詠科技 聯鈞 光電 鴻海 精密 工業 鴻海 精密 工業 麗豐 鈺齊 國際 富邦證券 元大 標普 油金 傘型 期貨 信託 基金 標普 高盛', '新聞 人民幣 貶破 台灣 代工廠 鬆口氣原文 內容 人民幣 貶破 台灣 代工廠 鬆口氣 人民幣 美元 貶破 字頭 台幣 重貶 出口 導向 生產 基地 中國大陸 台灣 電子 業者 包括 台積電 鴻海 廣達 可成 台廠 可望 享有 正面 效益 不過 宏碁 品牌廠 產品 賣到 大陸 收取 人民幣 美元 支付 代工廠 協力 夥伴 貨款 因此 面臨 壓力 法人 指出 台積電 接單 美元 計價 台幣 重貶 有助 以台幣 計價 營收 提升 鴻海 廣達 組裝 代工廠 以及', '晨間 解析 中韓 雙殺 台股 續跌 測試 年線 支撐美國 週五 股市 大跌 亞洲 匯市 週一 持續 下挫 韓國 跌破 今年 新低 香港 部分 罷工 股市 大跌 中國 人民幣 貶破 國際 匯市 動盪 台股 跳空 開低 走低 外資 持續 賣壓 以及 新台幣 連動 貶值 可能 時間 觀察 才可 指數 終場下跌 收在 成交量 美國 週五 延續 川普 突然 中國 開徵 剩下 美元 關稅 跌勢 指數 全部 下跌 市場 傳聞 壓低 指數 迫聯 準會 降息 指數 全面 季線 靠攏 大致 季線', '資金 逃殺 電子 成重 災區美中 貿易 戰火 持續 延燒 美元 商品 關稅 市場 憂心 手機 筆記型 電腦 成本 轉嫁 壓力 分散 下游 組裝 侵蝕 原先 毛三 代工廠 獲利 鴻海 英業達 廣達 緯創 仁寶 電子 五哥 法人 齊提款 股價 同步 下挫 短短 交易 市值 蒸發 千億 擔心 上游 轉嫁 成本 外資 大舉 撤出 影響 台股 電子 族群 調節 賣壓 美國 總統 川普 美元 關稅 大刀 預計 正式 開鍘 影響 包括 智慧型', '科技 關稅 蘋果 自行 吸收美國 總統 川普 揚言 起對 美元 中國 進口 商品 加徵 關稅 涵蓋 筆電 手機 產品 使得 中美 貿易 戰火 天風 國際 證券 分析師 郭明錤 即時 預言 蘋果 初期 自行 吸收 關稅 增加 額外 成本 變局 加速 訂單 中國 外移 速度 供應鏈 顯然 買單 代工廠 包括 鴻海 和碩 緯創 股價 持續 跳水 和碩 元關卡 失守 中美 貿易 戰火 再度 延燒 筆電 手機 產業 波及 蘋果 恐怕 全身而退 釋疑', '新聞 美祭 關稅 郭明錤 蘋果 吸收 關稅美祭 關稅 郭明錤 蘋果 吸收 關稅 成本 擴大 中國 生產 據點 美國 總統 川普 宣布 輸美 剩餘 高達 美元 商品 加徵 關稅 市場 分析 蘋果 成為 重災戶 天風 國際 分析師 郭明錤 認為 短期 蘋果 自行 吸收 關稅 成本 長期 應商 鴻海 和碩 廣達 緯創 廠商 擴大 中國 生產 據點 郭明錤 指出 雖然 市場 預期 美國 關稅 制裁 衝擊 蘋果 商品 美國 售價 出貨 表現 蘋果 做好 準備 維持', '外資 自信 專業 佛手掌心 降評 水泥股 後勢 判斷錯殺 法人 低接 便宜 台股 風雲 變色 選股 重質 中美 貿易 戰停火 破局 台股 跳水 重挫 餘點 統計 股價 淨值 低於 公司 其中 亞泥 慧洋 上半年 營收 搶鏡 錯殺 個股 股價 明顯 受屈 法人 悄悄 現蹤撿便宜 台股 重挫 宏遠 投顧 副總 陳國清 指出 中美 貿易 衝突 台股 跌破 季線 年線 後續 見止跌 大盤 個股 股價 修正 風險 升溫 畢竟 漲多 大利空 下檔', '科技 育兒 花錢 手軟 益智 遊戲 登上 半年群 冠軍台灣 群眾 募資 去年 創下 人次 國內外 集資 總額 新高 紀錄 包括 千萬 募資案 柯文哲 競選 集資案 寢具 產品 名列 前茅 今年 截至 國內 集資 總額 集資案 千萬 集資額 益智 磁吸 軌道 玩具 見識 現代 父母 育兒 花錢 手軟 台灣 群募 市場 增幅 穩定 成長 引領 市場 話題 包括 太陽花 學運 滑板 翻轉 背包 訴求 變換 風格', '台北 股市 貿易 烽火 外資 多空 攻略開盤 收盤 國內外 紛擾 台股 外資 期間 法人 然旺宏 外資 稱霸 華邦電 上海商銀 分列 二三 量能 隨後 依序 第一 永豐金 臺企銀 燿華 中美晶 華南金 如興 長榮 南亞科 緯創 聯發科 冠德 台新金 智邦 中工 味全 萬海 京元電子 聯邦銀 茂迪 中華電 和鑫 志超 群光 台中銀 百和 光寶科 上述 外資', '美再 中國 關稅 分析師 蘋果 自行 吸收中央社 記者 鍾榮峰 台北 日電 美國 中國 加徵 關稅 涵蓋 筆電 手機 產品 分析師 預估 蘋果 銷售 硬體 售價 出貨 預估 可能 關稅 影響 預期 年後 蘋果 中國 生產 據點 滿足 大部分 美國 市場 需求 美國 總統 川普 日前 表示 美元 中國 進口 商品 加徵 關稅 涵蓋 筆電 手機 產品 引發 市場 美中 貿易 戰再起 憂慮 擔心 蘋果 是否 受到 衝擊 天風 國際 證券 分析師 郭明錤 出具 報告 分析 蘋果 美銷', '緯創 今天請問 半年線 需要 寰銓 還是 畢竟 很多', '任正非 準備 日子反而 比較 在乎 鴻海 印度 量產 加上 緯創 已經 量產 印度 市場 第四季 完成 部分 印度 製造 目前 緯創 生產 已經 開始 外銷 歐洲 初期 印度 開始 逐漸 侵蝕 中國 製造 手機 比重 逐漸 中國 產生 失業 壓力 出口 減少 年報 顯示 中國 手機 銷售量 增加 市占率 上升 可是 中國 手機 銷售 總量 上半 下滑 超過 由此 可知 中國 砍掉 其他 手機 公司 救華為 態勢 明顯 華為 手機', '中貿 結束 所有 陸輸美 商品 加徵 關稅一兩 不會 美國 至少 不會 撤除 中國 損失 慘重 美國 消費者 享受到 便宜 產品 中國 失業 越來越 嚴重 出口 市場 越來越 縮小 呵呵 反而 比較 在乎 鴻海 印度 量產 加上 緯創 已經 量產 印度 市場 第四季 完成 部分 印度 製造 目前 緯創 生產 已經 開始 外銷 歐洲 初期 印度 開始 逐漸 侵蝕 中國 製造 手機 比重 逐漸 中國 產生 失業 壓力', '個人 研究 觀察 記錄 鴻海 分析 宏碁 轉型今天 法人 鴻海 其中 外資群 投信 自營商 其中 自行 買賣 部份 避險 部份 累計 權息 交易日 外資 投信 自營商 其中 自營商 自行 買賣 部份 避險 部份 趨勢 自營商 自行 買賣 部份 應該 賣出 避險 權證 今天 已經 明天 大概 就是 營收 自行 買賣 壓力 外資群 力道 應該', '電腦 設備 除息 行情 失利 和碩 走低和碩 除息 發放 現金 股利 參考價 早盤 股價 貼息 走勢 除息 績優 廣達 和碩 首日 表現 順暢 電子 代工 大廠 和碩 印尼 巴淡島 正式 落成 和碩 集團 東南亞 第一 據點 用來 生產 網通 產品 開啟 集團 東南亞 投資 里程碑 和碩 鴻海 緯創 仁寶 英業達 之後 電子 大廠 東南亞 設點 生產 藉此 避開 美中 貿易戰 可能 關稅 影響 此外 市場 傳出 第三 設計 輕量化', '筆電 代工 族群 股價 持平 碩連 走低中央社 記者 潘智義 台北 日電 筆電 代工 族群 股價 走勢 持平 傳出 機會 獲得 擴增 實境 眼鏡 代工 訂單 和碩 外資 股價 下跌 廣達 仁寶 英業達 緯創 平盤 附近 游走 和碩 公布 稅後 盈餘 新台幣 外資 昨天 和碩 加上 市場 傳出 和碩 財報 理想 連續 交易 股價 下跌 今天 來到 下跌 廣達盤 來到 上漲 下跌 仁寶 平盤 元附近 徘徊', '請益 一千萬 定存股 路線 怎麼 分配一千萬 定存股 路線 怎麼 分配 金融股 科技股 電信股 傳產股 這樣 分配 實在 傳產 可能 統一 建築業 科技 廣達 緯創 英業達 仁寶 金融股 玉山 台中銀 兆豐 富邦 等等 股神 大大 其他 建議 指教 謝謝', '科技 全球 伺服器 出貨 季增全球 伺服器 歷經 上半年 客戶 去化 庫存 整期 下半年 恢復 成長 研調 單位 指出 第三 全球 伺服器 出貨量 第二 超過 增長 去年 持平 表現 第四 年增 以上 出貨量 估值 下修 小幅 年增 轉為 走衰 分析師 徐康沛 調查 分析 全球 伺服器 市場 部分 客戶 積極 拉貨 出現 強勁 增長 力道 整體 需求 並未 預期 增加 墊高 庫存 水位 導致 過去 以來 業者 處於', '緯軟 月份 背書 保證 資訊公開 資訊 觀測 重大 訊息 公告 緯軟 公司 月份 背書 保證 資訊 事實 發生日 公司 名稱 緯創 軟體 股份 有限 公司 公司 關係 輸入 公司 公司 公司 相互 比例 適用 發生 緣由 背書 保證 公告 部份 內容 誤植 資訊 項目 報表 名稱 背書 保證 細表 正前 金額 內容 頁次 公司 背書 保證 實際 動支 金額 公司 背書 保證 實際 動支 金額 公司 背書', '緯創 今天沒有 國際 情勢 現階段 應該 整理 等待 營收 重點 第二 財報 期望 加油', '國票 證券 認購 權證 終止 上市 總表簡稱 代號 標的 最後 交易日 終止 上市 履約價 行使 比例 台積電 國票 台積電 智邦 國票 智邦 大同 國票 大同 可成 國票 可成 緯創 國票 緯創 創意 國票 創意 日月光 國票 日月光 投控 臻鼎 國票 臻鼎 祥碩 國票 祥碩 表科 國票 表科 樺漢 國票 樺漢 國票 富邦 技嘉 國票 技嘉 微星 國票 微星 漢唐 國票 漢唐 華新科 國票 華新科 新光', '台股盤 台積電 鴻海 壓盤 翻黑 跌破台股 蘋概 三王 走弱 影響 終場 翻黑 下跌 失守 關卡 不過 太陽能 印刷 電路版 相關 族群 逆勢 突圍 成為 盤面 亮點 今日 大盤 成交量 盤勢 陷入 觀望 權值股 方面 蘋概 三王 今日 走勢 震盪 大立光 收跌 台積電 鴻海 翻紅 尾盤 爆量 殺回 平盤 拖累 指數 翻黑 失守 其餘 大型 蘋概股 漲跌 互見 可成 下挫逾 甄鼎 和碩 廣達 同步 走弱 不過 玉晶光 上漲 緯創 同步 收漲 半導體', '緯創 今天無法 突破 轉為 保衛戰 如果 守住 呈現 整理 格局 後市 如果 守不住 換守 其實 最近 建議 牛皮股 車半 導體 相關 產業 例如', '個人 研究 觀察 記錄 鴻海 分析 宏碁 轉型鴻海 股價 淨值 廣達 股價 淨值 仁寶 股價 淨值 緯創 股價 淨值 和碩 股價 淨值 下面 電子 淨值 毛利率 營利率 業外 獲利 變化 其實 明顯 看到 第一季 和碩 毛利率 已經 剩下 營利率 鴻海 毛利率 營利率 當初 電子 代工廠 功德 還是 利潤 不然 股東 交代 目前 代工廠 營利率 變負', '緯創 今天可是 跌回 除息 價格', '個人 研究 觀察 記錄 鴻海 分析 宏碁 轉型今天 法人 鴻海 外資 投信 自營商 自營商 自行 買賣 部份 避險 部份 很多 法人 自營商 自行 買賣 部份 屬於 短線 為了 大戶 中實戶 便宜 因為 大戶 中實戶 息納 所得稅 太多 所得稅 所以 然後 今天 買回 自營商 避險 部份 屬於 權證 自營商 股票 暫時 避險 今天', '證交所 完成 檔新權證 發行 申請案 審核發行人 名稱 名稱 凱基證券 廣宇 科技 廣宇 科技 緯穎 科技 服務 緯穎 科技 服務 聯鈞 光電 鈺齊 國際 富邦證券 國泰 傘型 證券 投資 信託 基金 富時 中國 單日 正向 證券 投資 信託 基金 台灣 積體 電路 製造 元大 滬深 傘型 證券 投資 信託 基金 滬深 單日 正向 證券 投資 信託 基金 元大 證券 中磊 電子 台光 電子 材料 台郡 科技 合勤 投資 控股 亞洲光學 工業 奇力 電子 旺宏 電子 易華電子 欣興 電子 南亞電 路板 美律', '上市 認購 權證 彙總表認購 美式 代號 簡稱 標的 數量 單位 存續 期間 履約價 認購 美式 元油 日盛 元大 原油 認購 美式 台光電 日盛 台光電 認購 美式 宏達電 日盛 宏達電 認購 歐式 南亞科 麥證 南亞科 認購 歐式 華新科麥證 華新科 認購 美式 可成 亞東 可成 認購 美式 臻鼎 亞東 臻鼎 認購 美式 矽創 亞東 矽創', '上市 認購 權證 彙總表認購 美式 代號 簡稱 標的 數量 單位 存續 期間 履約價 認售 歐式 凱基 認售 歐式 南亞科 凱基 南亞科 認售 歐式 緯創 凱基 緯創 認售 歐式 泰鼎 凱基 泰鼎 認售 歐式 瑞儀 凱基 瑞儀 認售 歐式 超眾 凱基 超眾 認購 美式 儒鴻 富邦 儒鴻 個月 認購 美式 奇力 富邦 奇力 認售 歐式 元油', '傳產 輔具展 生活 照護 育樂 旅遊 滿足台灣 輔具 長期 照護 大展 輔具展 今日 南港 展覽館 熱鬧 開展 去年 集結 會員 聯展 台灣 銀髮產協館 產協館 民眾 蒐羅 多元 面向 輔具 資訊 獲得 熱烈 迴響 今年 產協館 繼續 跨域 整合 方式 提供 民眾 滿足 精心 規劃 出發 主題 和豐 國際 新光 保全 耆妙屋 多扶 假期 高城 輔具 結合 實用 生活 輔具 智慧 照護 科技 強調 跨出 居家 利用 輔具 租賃 障礙 交通 旅遊 服務 享樂', '早報 台股 原息值 衝破開盤日 出刊 傳美 官員 上海 羅斯 淡化 迅速 達成 協議 可能性 美企 華為 交易 川普准 展望 今年 全球 經濟 成長 下修 平均 國際 股市 道瓊 指數 上漲 幅度 作收 指數 上漲 幅度 作收 上證 指數 上漲 幅度 作收 台股 籌碼 變化 外資 投信 自營 融資 餘額 融券 餘額 法人 買賣 超前 外資 投信 自營商 台積電 南亞科 鴻海 聯發科', '外資 超股 緯創 台積電 奇鋐統計 交易日 外資 連續 買超 以上 股票 永豐金 聯發科 慧洋 南亞科 同欣電 連續 買超 股票 鈺齊 連續 買超 股票 台積電 日月光 投控 世芯 台中銀 京元電 中美晶 環球晶 精成科 日興 連續 股票', '上市 自營商 排行股票 名稱 買進 張數 賣出 張數 買賣 張數 國泰中國 亞泥 南亞 台積電 國泰中國 元大 原油 永豐金 華通 第一金 中信金 台灣高鐵 緯創 華邦電 兆豐金 開發金 群益 深証 中小 合庫金 國泰金 佳世達 華南金 資料 來源 理財', '標的 緯穎標的 緯穎 分類 分析 正文 亞馬遜 伺服器 訂單 加持 加上 微軟 臉書 伺服器 庫存 盤整 結束 今年 下半年 明年 成長 動能 必然 回溫 加上 墨西哥 關稅 問題 消失 今年 營運 谷底 確立 預估 今年 可達 相對 目前 價本益比 出頭 緯創法 強調 伺服器 未來 數年 雙位數 成長 幅度 技術面 走完 型態 收斂 量縮 不錯 介入點 法人 籌碼 持續 買方 適合 波段 操作 進退場 機制 停利 停損', '緯創 今天今天 外資 大買 外資 動向 一直 散戶 注意 方向 看到 聽到 聞到 什麼 資訊 還是 操作 手法 繼續 觀察 加油', '大陸 經濟 財星 新增 陸企美國 商業 雜誌 財富 公布 世界 企業 排行榜 上榜 中國 企業 共有 緊追 美國 此外 上榜 中國 企業 共有 成立 手機 大廠 小米 成為 企業 年輕 公司 小米 創辦人 雷軍 因此 宣布 員工 獲贈 股票 新浪 財經 報導 上榜 公司 營業 收入 美元 榜單 增加 利潤 紀錄 達到 美元 年增率 高達 利潤率 達到 資產 收益率 達到 超過 排名', '新聞 外資力原文 連結 原文 內容 經濟日報 記者 趙于萱 台北 報導 上市櫃 公司 營收 發布 接續 公告 季財報 摩根士丹利 資本 外資券 依據 獲利 可望 表現 強勁 評價 低估 推薦 布局 旺宏 創意 黑馬股 後市 摩根士丹利 摩根大通 花旗 環球 瑞士 信貸 資本 高盛 里昂 滙豐證券 外資 推薦 下半年 布局 攻守 兼備 喊進 個股 防禦型 金融股 轉機 想像 汽車 零組 攻擊力 半導體', '新聞 離開 不會 回頭 更多 公司 中國 出走原文 連結 原文 內容 大紀元 記者 許禎祺 綜合 報導 美中 貿易戰 去年 持續 今年 明顯 效應 大批 美國 公司 正在 生產 轉移 中國 以外 國家 趨勢 不可 逆轉 另一方面 貿易戰 暫時 休戰 造成 不確定性 進一步 削弱 中國 世界 工廠 地位 目前 美國 美元 中國 商品 徵收 關稅 中方 美元 美國 商品 徵收 報復性 關稅 雖然 日本 大阪川 習會 同意 暫時 休戰 貿易 談判 期間 美國 美元 中國商', '新聞 檔面 面俱到 蓄勢 攻堅原文 連結 原文 內容 美股 大漲 激勵 台股 周線 終結 氣勢 大盤日 齊揚 個股 反彈 走勢 法人 建議 挑選 籌碼面 法人 買盤 助陣 基本面 營收 成長 技術 偏多 燿華 緯創 華航 檔面 機會向 攻堅 兆豐 投顧 董事長 李秀利 指出 大盤 呈現 盤堅 格局 美股 反應 降息 預期 表現 更為 亮眼 市場 資金 陸續 回籠 基本面 貿易戰 雜音暫歇 第三季 旺季 效應 逐漸 發酵', '其他 台灣 集中 市場 外資 買賣 超前買超 代碼 股票 名稱 張數 持有 張數 持股率 旺宏 華通 和鑫 南亞科 元大 台灣 鴻海 台積電 中壽 百和 元大 台灣 京元電子 嘉聯益 台泥 大同 新美齊 長榮 台塑 仁寶 日月光 投控 裕隆 華南金 緯創 技嘉 美律 味全 台達電 泰碩 統一 國泰 費城 半導體 代碼 股票 名稱 張數 持有 張數 持股率 中信金 群創 聯電 新光金 富邦 國泰金 臺企銀 友達 中鋼 台新金 燿華', '熱門 族群 檔面 面俱到 蓄勢 攻堅美股 大漲 激勵 台股 周線 終結 氣勢 大盤日 齊揚 個股 上演 反彈 走勢 法人 建議 挑選 籌碼面 法人 買盤 助陣 基本面 營收 成長 技術面 偏多 燿華 緯創 華航 檔面 機會 攻堅 兆豐 投顧 董事長 李秀利 指出 大盤 呈現 盤堅 格局 美股 反應 降息 預期 表現 更為 亮眼 市場 資金 陸續 回籠 基本面 貿易戰 雜音暫歇 第三季 旺季 效應 逐漸 發酵 技術 架構 指數 可望 季線', '經濟 證券 頭條 碩印尼 新廠 專攻 網通電子 代工 大廠 和碩 印尼巴淡島 新廠 正式 落成 和碩 集團 東南亞 第一 據點 用來 生產 網通 產品 開啟 集團 東南亞 投資 里程碑 和碩 鴻海 緯創 仁寶 英業達 之後 又一 電子 大廠 東南亞 設點 生產 藉此 避開 美中 貿易戰 可能 關稅 影響 台灣 主要 電子 代工廠 當中 目前 廣達 東南亞 設點', '熱門 族群 高殖利率股 外資 卡位今年 台股 除息 行情 表現 外資 一起 卡位 現金 殖利率股 投資 專家 建議 台股 行情 高檔 震盪 除息 旺季 可以 殖利率 外資 超股 標的 亞泥 中光電 緯創 除息 逢低 留意 布局 統計 計有 亞泥 中光電 志超 緯創 元太 台航 台半 國巨 力成 盛群 千附 聯強 欣陸 欣銓 福懋科 個股 陸續 除息 部分 個股 尚未 公布 息日 現金 殖利率 以上', '科技 拉貨 旺季 提前 代工 成長 收斂今年 第二季 品牌 商用 機款 提前 拉貨 拉抬 仁寶 廣達 英業達 緯創 等代 工廠 單季 筆電 出貨 一季 明顯 增長 表現 過往 進入 第三 出貨 高峰期 今年 客戶 提前 拉貨 第三 出貨 季增 表現 略為 收斂 供貨 順暢度 影響 消費型 市況 市調 機構 針對 全球 第二 市況 調查 顯示 由於 受惠 英特爾 供貨 情況 逐漸 好轉 加上 終止 服務 加速 推升 升級', '標的 擔任 主管 職務 全時 員工 薪資整理 原始 資料 擔任 主管 職務 全時 員工 資訊 員工 薪資 平均數 公司 代號 公司 名稱 聯發科 聯詠 鴻準 晶焱 原相 鴻海 創意 電子 信驊科技 智擎 力旺 台積電 瑞昱 和泰汽車 群聯電子 杰力 祥碩科技 晶豪 科技 矽創 電子 南亞科 凌通科技 華邦電 聯陽 晶相光 宏觀 大中 中鋼 揚智 台苯 智原 聚積 敦泰 創惟 科技 神基 科技 宏碁 愛普 義隆 華航 牧德 長榮 航空 達興', '個股 緯創 調整 現金 股利 配息率 配發 現金公告 公司 調整 現金 股利 配息率 董事會 股東會 決議 日期 發放 股利 種類 金額 現金 股利 配發 新台幣 變更 發放 股利 種類 金額 現金 股利 配發 新台幣 變更 原因 公司 轉讓 庫藏股 員工 累積 庫藏股 股數 致使 流通 股份 總數 產生 異動 現金 股利 發放 比率 隨之 調整 其他 敘明 事項', '個股 緯創 交易日公告 公司 息基 準日 董事會 股東會 決議 公司 決定 日期 類別 填入 權息 發放 股利 種類 金額 現金 股利 每仟 配發 新台幣 交易日 最後 戶日 停止 過戶 起始 日期 停止 過戶 截止 日期 基準日 其他 敘明 事項', '權息 緯創緯創 除息 最後 過戶 停止 過戶 起始 日期 停止 過戶 截止 日期 息基 編輯 整理 莊雅珍', '中貿 結束 所有 陸輸美 商品 加徵 關稅中國 沒用 嘴巴 美國 實際 行動 美元 變成 美國 就是 不然 中國 怎樣 中國 什麼 人家 到底 中國 武器 山洞 至於 美元 部分 美國 公司 已經 乖乖 筆電 手機 電視 運動服 衛材 玩具 沒有 正在 搬出 中國 川普 只是 美國 公司 時間 中國 時間 英業達 桃園廠 已經 開始 生產 而且 擴產 廣達林口 新廠 即將 進入 量產 緯創', '早報 資金 回流 楊金龍 示警 新台幣 升壓 爆表開盤日 出刊 央行 總裁 楊金龍 示警 資金 回流 新台幣 升壓 爆表 中市府 要求 中火 擴大 減煤 台電 做不到 減產 需求 疑慮 油價 重挫 金價 反彈 平均 國際 股市 道瓊 指數 上漲 幅度 作收 指數 上漲 幅度 作收 上證 指數 下跌 幅度 作收 台股 籌碼 變化 外資 投信 自營 融資 餘額 融券 餘額 法人 買賣 超前 買超 外資 投信 自營商 智邦 華新科', '電腦 設備 緯創 布局 智慧 醫療 加快 步伐看好 預防 醫學 商機 緯創 持續 加緊 智慧 醫療 相關 領域 布局 除了 旗下 包括 緯創 生技 投資 控股 緯創 醫學 科技 緯謙科技 公司 緯創 策略 投資 相關 公司 董事長 林憲銘 指出 台灣 醫療 世界級 水準 結合 產業 資源 台灣 帶來 動能 國家 價值 提升到 層次 緯創 在近 年多 透過 多元 投資 領域 合作 佈局 醫療 事業 陸續 成立 緯創 生技 緯創 醫學 緯謙 科技 公司 策略 投資 海內外 醫療 相關', '台北 股市 奇摩 股市 爆紅股進入 全球 當前 政經 局勢 緊繃 牽動 投資人 敏感 神經 奇摩 股市 剖析 網友 關注 台灣 股市 根據 台股 瀏覽 成長 幅度 奇摩 股市 公布 第二 爆紅 股號 爆紅 榜單 比起 年底 榜單 當時 爆紅 股號 全數 電子 囊括 此次 過往 季度 榜單 科技 類股 領軍 態勢 截然 不同 同時 充分 顯示 短短 因為 總體 經濟 逐漸 露出 轉折 訊號 即使 指數 波動 投資人 風險 承受度 篩選 標的 基準', '高人 指點 存股 選擇 英業 適合 存股樓主 眼光 仁寶 緯創 廣達 英業達 其實 不錯', '上市 融資 減少 排行名次 股票 名稱 增減 張數 收盤價 漲跌 融資 餘額 昨日 餘額 元大 滬深 中石化 富邦 証正 友達 元大 台灣 旺宏 皇昌 中工 開發金 華通 國泰中國 緯創 大同 味全 晶電 臻鼎 瀚宇博 如興 南茂 華邦電', '其他 台灣 集中 市場 法人 買賣 超前代碼 股票 名稱 自營商 買賣 買賣 買賣 買賣 元大 滬深 元大 台灣 大同 元大金 富邦 証正 中信金 合庫金 旺宏 華南金 台新金 臺企銀 仁寶 開發金 長榮航 中石化 緯創 國泰中國 台灣 高鐵 南亞 統一 兆豐金 泰鼎 友達 南茂 冠德 國泰 臺灣 加權 永豐金 元大 原油 元大 黃金 聯發科 代碼 股票 名稱 自營商', '上市 外資 買超 排行名次 股票 名稱 買賣 張數 收盤價 漲跌 新光金 長榮航 旺宏 欣興 富邦 永豐金 玉山金 兆豐新光 第一 中壽 緯創 臺企銀 裕隆 國泰金 仁寶 中信金 亞泥 冠德 華通', '新聞 蘋概 跌完 現在 適合原文 連結 原文 內容 蘋概股 跌完 現在 適合 預期 明年 銷量 兩成 大摩 發布 台積電 日月光 目標價 下調 報告 針對 蘋概股 出具 現在 適合 警告 預期 美國 加徵 大陸 總值 美元 商品 關稅 明年 銷量 銳減 概股 承擔 三分之二 關稅 成本 股價 跌完 大摩 日前 蘋果 分析師 胡柏蒂 發布 美中 貿易戰 蘋果 影響 估計 一旦 加徵 美元 關稅 蘋果 列入 清單 總部 可能 宣布 提高', '其他 台灣 集中 市場 外資 買賣 超前買超 代碼 股票 名稱 張數 持有 張數 持股率 新光金 長榮航 旺宏 欣興 富邦 永豐金 玉山金 中壽 緯創 臺企銀 裕隆 國泰金 仁寶 中信金 亞泥 冠德 華通 中工 華南金 台中銀 和桐 喬山 聯發科 台灣 萬海 中華電 長虹 南茂 代碼 股票 名稱 張數 持有 張數 持股率 元大 滬深 聯電 鴻海 台積電 大同 富邦 証正 華新 元大台灣 兆豐金 台泥 京元', '緯創 今天公司 高層 先前 今年 看法 第二季 第一季 下半年 所以 營收 基本 但是 美國 其他 貿易戰 發生 發生 確定 干擾 無法 控制 保留 現金 口袋 重要 公司 去年 通過 發行 成功 今年 捲土 重來 碰上 川普 知道 不會 去年 一樣 資金 需求 降低 價格 慢慢 下去', '產業 國際 醫療 醫材展 登場 台商 全球 健康 照護 商機台灣 國際 醫療 健康 照護展 台灣 國際 醫材 製造 零組件展 聯合 登場 共計 廠商 參展 使用 攤位 下游 產業鏈 涵蓋 醫療 健康 照護 領域 醫療 產業 生態系 智慧 醫療 智慧 照護 產業 藍海 指標 醫院 通訊 醫材 供應商 集結 展出 醫院 包括 北市 聯醫 北醫附醫 中國附醫 台大醫院 馬偕醫院 高雄 參與 展出 其中 北醫附醫 展出 區塊 技術 發展 病例 智鏈護', '上市 外資 陸資 買超 排行單位 陸資 外自 外資 自營 陸資 代號 名稱 買進 賣出 買賣 買進 賣出 買賣 買賣 新光金 長榮航 旺宏 欣興 富邦 永豐金 玉山金 兆豐新光 第一 中壽 緯創 企銀 裕隆 國泰金 仁寶 中信金 新金 亞泥 冠德 華通 外資 自營商 表示 外國 證券商 分支 機構 證券 自營商 專戶', '貿易 醫療 醫材展 月底 登場 醫療 健康 照護台灣 國際 醫療 健康 照護展 台灣 國際 醫材 製造 零組件展 世貿 一館 聯合 展出 共計 廠商 參展 使用 攤位 產業鏈 涵蓋 醫療 健康 照護 領域 醫療 產業 生態系 外貿協會 副秘書長 林芳苗 表示 年度 展覽 不僅 因應 科技 趨勢 發展 加入 智慧 醫療 智慧 照護 通訊 智慧 解決 方案 預計 超過 來自 海外 國際 買主 促成 採購 洽談會 匯集 重量級生 醫活', '標的 緯創標的 分類 分析 正文 緯創 印度 投資 億台幣 擴廠 今年 印度政府 批准 然而 川普 上周 宣布 取消 印度 貿易 優惠 貿易 普惠 國家 移除 川普 一陣子 宣布 墨西哥 課徵 關稅 解決 非法 移民 問題 逐步 調升 關稅 緯創 墨西哥 擁有 產能 公司 緯穎 墨西哥 擁有 大約 產能 小弟 認為 短期 貿易戰 議題 影響 緯創 首創 退場 機制 長期 投資者 必須 停損 機制 短期 目標價 停損價', '外資 明星 分析師 王嘉樞 台股 補跌 壓力工商時報 美國 總統 川普 開啟 大陸 貿易戰 端出華 禁令 炮口 墨西哥 甚至 終止 印度 關稅 優惠 導致 美股 回檔 幅度 加大 外資 明星 分析師 王嘉樞 資金 大舉 躲進 公債 市場 避險 年期 公債 殖利率 狂降 下探 台灣 電子 產業 影響 程度 不得 不慎 近期 相對 強勢 台股 必須 提防 補跌 壓力 王嘉樞 指出 美國 總統 川普 開啟 風險 三部曲 局面 變得 愈來愈 不可 預料 先是 因為 貿易 出入 超不平等 關係 大陸 開啟 關稅戰 嚴重 第二 美國', '台北 股市 外資 明星 分析師 王嘉樞 台股 防補跌 壓力美國 總統 川普 開啟 大陸 貿易戰 端出 禁令 炮口 墨西哥 甚至 終止 印度 關稅 優惠 導致 美股 回檔 幅度 加大 外資 明星 分析師 王嘉樞 資金 大舉 躲進 公債 市場 避險 年期 公債 殖利率 狂降 下探 台灣 電子 產業 影響 程度 不得 不慎 近期 相對 強勢 台股 必須 提防 補跌 壓力 王嘉樞 指出 美國 總統 川普 開啟 風險 三部曲 局面 變得 愈來愈 不可 預料 因為 貿易 出入 超不平等 關係 大陸 開啟 關稅戰 嚴重 第二 美國 華為發布', '上市 融資 增加 排行名次 股票 名稱 增減 張數 收盤價 漲跌 融資 餘額 昨日 餘額 元大 原油 元大 台灣 榮成 和鑫 玉山金 群創 緯創 國際 中橡 和桐 中石化 臺企銀 訊舟 合勤 裕隆 永豐金 國泰中國 台表科 大亞 國建 中釉', '上市 融券 增加 排行名次 股票 名稱 增減 張數 收盤價 漲跌 融券 餘額 昨日 餘額 緯創 元大 滬深 玉晶光 南亞科 合勤 健策 欣興 國泰中國 聯電 康舒 富邦 証正 佳能 揚明光 華新科 聯發科 台灣高鐵 瀚宇博 喬山 新光金 康控', '統一 證券 晨訊 貿易 戰火 擴大 降低 持股 因應日期 盤勢 分析 貿易 戰火 擴大 降低 持股 因應 昨日 盤勢 台股 指數 以上 開出 亞幣 貶勢 暫時 趨緩 市場 投資 氣氛 短暫 回溫 跌深 類股 集體 拉抬 權值股 台積電 大立光 聯發科 領軍 帶動 指數 持續 上攻 收復 年線 壓力 觸及 關卡 終場 指數 上漲 長紅 作收 成交量 放大 觀察 盤面 變化 類股 全數 上漲 其中 電子 金融 傳產 分別 上漲 族群 部份 光電', '上市 外資 排行名次 股票 名稱 買賣 張數 收盤價 漲跌 緯創 鴻海 榮成 元大 原油 玉山金 中石化 英業達 元大金 台積電 元大 台灣 東元 日月光 投控 可成 友達 台虹 寶成 聯詠 智易 臻鼎', '早報 法人 貿易戰 後市 謹慎開盤日 出刊 大摩 貿易戰 不停 全球 經濟 衰退 關稅戰 推升 物價 恐怕 通縮 怪獸 貿易 油價 今年 全球 航空 獲利 下修 平均 得分 國際 股市 道瓊 指數 下跌 幅度 作收 指數 下跌 幅度 作收 上證 指數 下跌 幅度 作收 台股 籌碼 變化 外資 投信 自營 融資 餘額 融券 餘額 法人 買賣 超前 買超 外資 投信 自營商 聯發科 聯發科', '外資 超股 緯創 鴻海 榮成統計 交易日 外資 連續 以上 股票 台積電 日月光 投控 美材 連續 股票 達控 中石化 東隆興 連續 股票 泰鼎 中探 連續 股票 易華電 群益證 合勤控', '統一 證券 台股 上檔 壓力 重重 下探台股 指數 以上 開出 亞幣 貶勢 暫時 趨緩 市場 投資 氣氛 短暫 回溫 跌深 類股 集體 拉抬 權值股 台積電 大立光 聯發科 領軍 帶動 指數 持續 上攻 收復 年線 壓力 觸及 關卡 終場 指數 上漲 長紅 作收 成交量 放大 觀察 盤面 變化 類股 全數 上漲 其中 電子 金融 傳產 分別 上漲 族群 部份 光電 半導體 電子 零組件 類股 走勢 分別 上漲 法人 合計 買超', '台北 股市 焦點股 佳龍 大宇資 奇偶 聯茂 高鐵 瑞昱台積電 週五 收漲 合台幣 外資 自營商 持續 賣超 早盤 股價 世紀鋼 風電 題材 加持 週五 外資 自營商 聯手 買超 支撐 今日 股價 逆勢 上漲 冠軍 外資 買超 激勵 早盤 股價 漲逾 益航 週五 外資 投信 聯手 買超 人民幣 美元 中間 匯價 升值 帶動 股價 逆漲約 佳龍 可能 禁止 稀土 材料 出口 美國 題材 續熱 早盤 強漲約 喬山 週五 外資 買超 降低 融資', '友達 可以新聞 川普 宣布 所有 墨西哥 進入 美國 貨物 加徵 關稅 關稅 逐步 增加 日後 增加 直到 墨西哥 解決 非法 移民 經由 墨西哥 進入 美國 問題 停止 關稅 品牌 貨品 電視機 電腦 過去 墨西哥 華雷斯城 代工廠 組裝 中國 業者 原本 透過 北美 貿區 墨西哥 產地 進入 美國 躲避 關稅 制裁 現在 川普 打算 中國 業者 如意 算盤 鴻海 緯創 台灣 代工廠 墨西哥 設廠', '中貿 結束 所有 陸輸美 商品 加徵 關稅新聞 川普 宣布 所有 墨西哥 進入 美國 貨物 加徵 關稅 關稅 逐步 增加 日後 增加 直到 墨西哥 解決 非法 移民 經由 墨西哥 進入 美國 問題 停止 關稅 品牌 貨品 電視機 電腦 過去 墨西哥 代工廠 組裝 中國 業者 原本 透過 北美 自貿區 墨西哥 洗產地 進入 美國 躲避 關稅 制裁 現在 川普 打算 中國 業者 如意 算盤 鴻海 緯創 台灣 代工廠 墨西哥 華雷斯 設廠', '緯創 今天緯創 緯穎 今天 發生 怎麼 暴跌阿', '緯創 今天川普 發威 所有 墨西哥 輸美 商品 祭出 關稅', '緯創 今天川普 放空 高手', '緯創 今天除了 美國 生產 國家 逃脫 川普 戰爭 貿易 往來 時間 往後 發現 墨西哥 影響', '緯創 今天世事 難料 昨天 緯創 巨庭 川普 墨西哥 關稅 消息 大盤 上漲 唯獨 緯創 肚子 來到 成交量 放大 下影線 一般 低檔 放量 好事 今天 明天 跑掉 自營商 一路 悶虧 今天 緯創 巨庭 繼續 觀察 星期一 走勢', '緯創 今天美國 所有 墨西哥 進口 商品 徵收 關稅 遞增 意味著 關稅 稅率 升至 要不 今天 大盤 那麼多 可能 直接 跌破 下周 觀察 看看 持續 走低 可以 考慮 小接', '緯創 今天尾盤 放空 嘎空 還是', '緯創 今天標記 今天 抖抖', '緯創 今天國際 情勢 變化 今年 還是 現金 為主 殺低 買進 緯創 基本 持股 可以 觀察', '緯創 今天一下 今天 賣壓 來自 外資 兩萬 自營商 還是 一路 買進 奇怪 自營商 一般 短線 星期一 外資 態度 今天 低接 獲利 短線 賣出 賣壓 喚回 信心 持續 觀察', '焦點股 川普 墨西哥 出手 緯穎 股價 重挫 啟動 生產 廠區 轉移 備案美國 總統 川普又 出手 宣布 來自 墨西哥 所有 進口 商品 加徵 關稅 消息 影響 緯穎 開盤 股價 隨即 重挫 甚至 一度 打到 跌停 價位 緯穎 啟動 生產 廠區 轉移 力求 影響 降到 川普 發表 聲明 宣布 進口 墨西哥 所有 商品 徵收 關稅 甚至 進一步 提到 如果 危機 持續 關稅 稅率 逐月 上調 墨西哥 關稅 稅率 達到 近年 墨西哥 已經 逐步 成為 台灣 業者 組裝 基地', '產業 川普 墨西哥 啟用 關稅戰 組裝 基地 墨西哥 台廠 影響美國 總統 川普 中國大陸 啟用 貿易 關稅 宣布 墨西哥 進口 商品 課徵 關稅 考量 近年 台灣 系統 組裝廠 伺服器 業者 前進 墨西哥 設廠 作為 進入 北美 市場 前哨 關稅 政策 相關 台廠 不論 股價 實質 營運面 造成 衝擊 川普 啟動 關稅戰 近日 聲明 宣布 進口 墨西哥 所有 商品 徵收 關稅 甚至 進一步 提到 如果 危機 持續 關稅 稅率 逐月 上調 墨西哥', '台北 股市 焦點股 世紀鋼 玉晶光 康控 揚明光 順藥 微星勤益控 交易日 外資 連續 超計 帶動 股價 持續 墊高 今日 衝上 年多 波段 高點 聯鈞 股價 跌深 空轉 持續 日線 世紀鋼 沃旭能源 簽署 風場 基礎 基樁 合約 吸引 多頭 搶進 早盤 爆量 強漲逾 躍過 日線 月線 大亞 外資 以來 持續 買超 交投 升溫 股價 漲逾 突破 日線 日馳 突破 日線 續強 股價 漲逾 突破 日線 空轉 永冠 風電 題材 激勵 早盤 挾量強', '解析 川普 台股 電續 反彈美國 總統 川普 放話 關稅 槍口 墨西哥 市場 解讀 美中 貿易戰 出現 短暫 喘息 空間 美股 指數 收漲 亞股 漲跌 互見 台股 隨後 指數 一路 走高 上漲 電子 蘋概 設計 網通 散熱 模組 強勢領漲 大盤 持續 進行 技術性 反彈 指數 接近 平均線 邊緣 目前 外資 已經 連續 台股 創下 歷史 第二 連續 賣超 台股 震盪 年線 以下 以上 預估 天量 落在 左右 後續 持續 關注', '台股 蘋概 領軍 上漲中央社 記者 潘智義 台北 日電 美股 止跌 台股 今天 蘋概股 領軍 持續 上漲 雖然 美國 墨西哥 商品 課稅 造成 墨西哥 設廠 概念股 受挫 台股 上漲 加權 指數 來到 大漲 成交值 新台幣 類股 幾乎 全面 上揚 機電 類股 漲勢 明顯 蘋果 概念股 王走強 台積電 來到 上漲 昨天 下跌 大立光 今天 來到 大漲 鴻海 來到 墨西哥 概念股 弱勢 墨西哥 設廠', '上市 認購 權證 彙總表認購 美式 代號 簡稱 標的 數量 單位 存續 期間 履約價 認售 歐式 台灣 麥證 台灣 認購 美式 廣達 第一 廣達 認購 美式 第一 認購 美式 新光金 統一 新光金 認購 美式 聯詠 統一 聯詠 認售 歐式 宏達電 統一 宏達電 認售 歐式 大立光 統一 大立光 個月 認購 美式 卜蜂 元富 卜蜂 個月', '台股 蘋概 領軍 大漲 周線 終止 月線 大跌美股 止跌 台股 蘋概 三王 領軍 持續 上漲 雖然 美國 墨西哥 商品 課稅 造成 墨西哥 設廠 概念股 受挫 電子 金融 扮演 強勁 穩盤 角色 加權 指數 終場 大漲 成交值 周線 上漲 終止 周線 不過 月線 無法 中國 確定 蘋果 開刀 概股 鬆口氣 股王 大立光 狂飆 不但 市值 重新 站上 收復 日線 但是 日線 形成 上檔 短壓 台積電 收漲 作收 一口 站回', '晚報 中國 蘋果 開刀 台股 強漲 收復 年線開盤日 出刊 由於 雙方 不斷 放話 貿易戰 緊張 局勢 再度 緊張 市場 情緒 仍然 偏向 保守 美債 殖利率 持續 維持 倒掛 部分公司 財報 利多 激勵 以及 先前 指數 跌深 美股 反彈 指數 全面 小漲 漲幅 介於 費城 半導體 表現 族群 方面 尖牙股 亞馬遜 下跌 其餘 小漲 作收 漲幅 以內 半導體 類股 股價 漲跌 互見 銀行股 受到 美債 殖利率 維持 低檔 拖累 股價 表現 美國 銀行 花旗 高盛 大摩 全數 走跌 台股', '上市 外資 陸資 排行單位 陸資 外自 外資 自營 陸資 代號 名稱 買進 賣出 買賣 買進 賣出 買賣 買賣 緯創 鴻海 榮成 元大 玉山金 中石化 英業達 元大金 台積電 元大 台灣 東元 月光 投控 可成 友達 台虹 寶成 聯詠 智易 外資 自營商 表示 外國 證券商 分支 機構 證券 自營商 專戶', '緯軟 發言人 長育禎 擔任公開 資訊 觀測站 重大 訊息 公告 緯軟 公告 公司 發言人 異動 人員 變動別 輸入 發言人 代理 發言人 重要 營運 主管 名稱 財務 主管 會計 主管 公司 治理 主管 研發 主管 內部 稽核 主管 訴訟 代理人 發言人 發生 變動 日期 舊任者 姓名 級職 簡歷 曾永豐 緯創 軟體 公司 處長 新任者 姓名 級職 簡歷 長育禎 緯創 軟體 公司 資深 處長 異動 情形 輸入 辭職 職務 調整 資遣 退休 死亡 新任 解任 辭職', '其他 台灣 集中 市場 外資 買賣 超前買超 代碼 股票 名稱 買超 張數 持有 張數 持股率 元大 滬深 富邦 証正 如興 上海商銀 三商壽 中鋼 中信金 亞泥 緯創 統一 元大 台灣 智邦 中工 台灣 高鐵 國泰中國 台肥 台聚 玉山金 台開 泰碩 冠德 合庫金 裕隆 華南金 台苯 萬海 富邦 聯電 元大 代碼 股票 名稱 張數 持有 張數 持股率 友達 鴻海 元大金 富邦 台積電 國泰金 日月光 投控 元大台', '緯創 今天緯創 已經 貼文 今天 緯創 今天 最後 買進 一定 意義 今天 緯創 超越 巨庭 今天 表示 過去 時間 緯創 巨庭 有利', '緯創 今天巨庭 破底 長期 還是 格局 中期 整理 格局 短期 走空', '緯創 今天謝謝 討論', '台北 股市 法人 承接 電子 緩步 墊高中美 貿易 協商 破局 至今 進入 第四 電子股 跌幅 陸續 收斂 重量級 台積電 交易日 股價 不再 低點 電子股 具有 止跌 契機 股價 法人 資金 進駐 電子股 台灣 中美晶 中美 貿易戰 雖然 減緩 美國 貿易 逆差 不過 實際 主戰 打擊 華為 技術 市場 擔心 大陸 祭出 蘋果 進行 報復 台股 華為 蘋果 品牌 供應鏈 關係 相當 緊密 因此 遭到 法人 猛烈 拋售 相關 供應鏈 不少 跌幅 超過 三成', '統一 晨盤 貿易 惡戰 持續 蔓延 謹慎 保守 減碼 因應受到 美股 上揚 激勵 台股 昨日 以上 開出 傳產 權值股 台塑 四寶 和泰車 豐泰 拉升 指數 上漲 隨即 貿易戰 隱憂 再現 電子股 再度 承壓 台積電 大立光 可成 瑞昱 賣壓 沈重 使得 指數 退回 平盤 附近 整理 尾盤 收小紅 觀察 盤面 變化 類股 漲跌 互見 其中 傳產 金融 分別 上漲 電子 下跌 族群 部份 汽車 營建 食品 走勢 分別 上漲 終場 指數 上漲 收在', '統一 證券 晨訊 貿易 惡戰 持續 蔓延 謹慎 保守 減碼 因應日期 盤勢 分析 貿易 惡戰 持續 蔓延 謹慎 保守 減碼 因應 昨日 盤勢 受到 上周五 美股 上揚 激勵 台股 昨日 以上 開出 傳產 權值股 台塑 四寶 和泰車 豐泰 拉升 指數 上漲 隨即 貿易戰 隱憂 再現 電子股 再度 承壓 台積電 大立光 可成 瑞昱 賣壓 沈重 使得 指數 退回 平盤 附近 整理 尾盤 收小紅 觀察 盤面 變化 類股 漲跌 互見 其中 傳產 金融 分別 上漲 電子 下跌 在次 族群 部份', '統一 證券 台股 月線 下跌 季線 下檔 半年線 支撐 薄弱受到 美股 上揚 激勵 台股 昨日 以上 開出 傳產 權值股 台塑 四寶 和泰車 豐泰 拉升 指數 上漲 隨即 貿易戰 隱憂 再現 電子股 再度 承壓 台積電 大立光 可成 瑞昱 賣壓 沈重 使得 指數 退回 平盤 附近 整理 尾盤 收小紅 觀察 盤面 變化 類股 漲跌 互見 其中 傳產 金融 分別 上漲 電子 下跌 族群 部份 汽車 營建 食品 走勢 分別 上漲 終場 指數 上漲 收在', '證交所 定價 交易 成交 金額 排行證券 代號 證券 名稱 成交 數量 成交 金額 成交價 台積電 玉晶光 欣興 大立光 國巨 亞德客 華通 鴻海 創意 台灣高鐵 上海商銀 美律 元大 台灣 聯發科 華新科 智邦 緯創 單位', '上市 外資 陸資 買超 排行單位 陸資 外自 外資 自營 陸資 代號 名稱 買進 賣出 買賣 買進 賣出 買賣 買賣 元大 滬深 富邦 如興 上海商銀 商壽 中鋼 中信金 亞泥 緯創 統一 元大 台灣 智邦 中工 台灣 高鐵 國泰中國 台肥 台聚 玉山金 台開 外資 自營商 表示 外國 證券商 分支 機構 證券 自營商 專戶', '電腦 設備 磐儀 技術 論壇 發表 應用 方案台北 國際 電腦展 開幕 工業 電腦廠 磐儀 表示 主題 舉辦 技術 論壇 發表 技術 解決 方案 磐儀 總裁 李明 表示 集團 致力 工控 結合 通訊 技術 通訊 滿足 產業 需求 打造 客製 物聯網 解決 方案 包括 即將 發布 技術 股東 聯發科 漢威聯合等 集團 生態 系統 合作 夥伴 技術 論壇 發表 演說 李明 指出 策略 布局 磐儀 聯發科 行業 晶片 加上 磐旭 開發 模組', '其他 外資 累計 買賣 排行過去 交易日 外資 累計 買賣 排行 統計 張數 以上 成交價 漲跌價 代號 名稱 買超 成交價 漲跌價 張數 台灣高鐵 亞泥 中工 兆豐金 上海商銀 統一 中美晶 臺企銀 如興 台肥 聯邦銀 長榮航 喬山 冠德 元太 日盛金 合勤 正崴 元大金 陽明 代號 名稱 成交價 漲跌價 張數 群創 台積電 國泰金 新光金 鴻海 開發金 旺宏 友達 中鋼 中信金 富邦金 彩晶 南亞科 華邦', '科技 美元 輸美 商品 課稅 手機 筆電 影響中美 貿易戰 談判 未果 美國 總統 川普 揚言 中國大陸 剩餘 美元 輸美 商品 啟動 加徵 關稅 商議 程序 指出 手機 筆記型 電腦 影響 金額 監視器 伺服器 影響 蘋果 手機 平板 加徵 關稅 衝擊 分析師 林俊吉 指出 中國大陸 美元 輸美 商品 手機 美元 美國 蘋果 受創 緯創 鴻海 提升 印度 產能 年底 因應 需求 首選 轉向 越南 生產 金額 次於 智慧型', '美對 中加稅 清單 擴大 手機 衝擊新聞 記者 新聞中心 報導 歷經 磋商 中美 貿易 談判 最終 無法 達成 協議 美國 正式 中國 價值 美元 產品 關稅 稅率 調高 針對 最後 美元 產品 加徵 關稅 商議 程序 正式 啟動 分析師 林俊吉 表示 手機 美元 金額 商品 美元 關稅 課徵 影響 蘋果 美國 手機 手機 生產 非常 仰賴 位處 大陸 代工廠 緯創 鴻海 印度 產能 提升', '上市 自營商 排行股票 名稱 買進 張數 賣出 張數 買賣 張數 富邦 元大 原油 群創 南亞 彩晶 華通 中工 國泰美國 道瓊 富邦 臺灣 加權 旺宏 中信金 新光金 仁寶 富邦 英業達 京元電子 緯創 兆豐金 友達', '中貿 結束 所有 陸輸美 商品 加徵 關稅供應鏈 其實 已經 全球 手機 銷售量 越南 已經 超過 朝向 目標 發展 當然 便宜 供應鏈 那裏 印度 今年 手機 產量 達到 緯創 蘋果 工廠 已經 啟用 目前 印度 政府 計畫 補貼 比給 緯創 希望 加速 華碩 印尼 組裝廠 完工 陸續 代工 客戶 移到 印尼', '個人 研究 觀察 記錄 宏碁 轉型 路篇比較 電子 五哥業 毛利率 營利率 業外 其它 收入 其他 利益 損失 財務 成本 關聯 企業 合資 損益 獲利 能力 擔心 貿易 鴻海 撐不住 或是 獲利 下降 其實 代工廠 如果 代工廠 品牌廠 蘋果 毛利率 台積電 毛利率 如果 沒有 代工廠 產品組 出來 遊廠 品牌廠 不用 所以 擔心 鴻海 不會 貿易 戰下 不如 我們 鴻海 對於 其它 代工廠 競爭力 反正 危機 轉機', '電子 貿易戰 衝擊 經長 高階 製程會中央社 記者 蔡芃敏 台北 日電 美中 貿易戰 持續 延燒 經濟部長 沈榮津 表示 信心 電子 十哥會 陸續 投資 廣達 高階 伺服器 回來 確定 很多 高階 製程會 移回 台灣 立法院 經濟 外交 國防 委員會第 聯席 會議 今天 審查 外國人 投資 條例 修正 草案 華僑 回國 投資 條例 修正 草案 經濟部長 沈榮津 今天 列席 備詢 民進黨 立委 賴瑞隆 關心 台商 回流 議題 美中 貿易戰 延燒 經濟部長 沈榮津 是否 親自 打電話', '新聞 川普 關稅 代工廠 伺服器 影響美國 總統 川普 揚言 美元 關稅 項目 調高 首當其衝 就是 伺服器 業務 英業達 指出 產能 轉移 早已 因應 因此 沒有 影響 具名 代工 業者 指出 對於 業者 擔心 還是 後續 美元 關稅 項目 產品面 勢必 涵蓋到 手機 筆電 穿戴 裝置 台廠 主要 產品線 英業達 表示 關稅 真的 調到 沒有 影響 主因 伺服器 業務 方面 傳統型 本來 墨西哥 最後 組裝銷 美國 至於 資料 中心 部分 因應 去年 美貿', '其他 台股 上市櫃 公司 股息 殖利率 排行收盤價 備註 代表 連續 配發 現金 股利 代號 名稱 殖利率 現金 股票 收盤價 股利 股利 禾昌 大東 國巨 上曜 松普 潤隆 日電 順天 南亞科 中連貨 大將 弘憶股 新美齊 佳穎 亞昕 致和證 神達 永捷 華祺 友聯 博智 漢科 根基 台泥 強盛 華新科 鴻碩 興采 富晶通 泰詠 伸堂 美亞 冠好 振曜 宏正 奇力 綠意 日成 中石化 思達 橘子 中光電', '緯創 今天營收 第一 財報 結果 平淡 穩健 小幅 成長 目前 沒有 看壞 理由', '緯創 今天沒有 驚喜 整理', '緯創 今天產業 淡季 緯創 純益 季減 鉅亨 記者 劉韋廷 台北 代工 大廠 緯創 公布 財報 純益 季減 年增 純益 緯創 今日 公布 營收 客戶 季底 拉貨 調整 上月 小幅 衰退 月減 年增 緯創 營收 季減 年減 毛利率 分點 年增 分點 營益率 季減 分點 年增 分點 純益 季減 年增 純益 由於 首季', '個人 研究 觀察 記錄 宏碁 轉型 路篇今天 出來 消息 第一 鴻海 營收 年增 電子 五哥 四月 營收 普遍 位數 成長 除了 不行 和碩 營收 財報 鴻海 電子 四月 營收 成長 排名 第三 值得 注意 鴻海 減資 兩成 記得 昨天 減資 兩成 毛利率 營利率 獲利 保持 原本 情況 效果 如果 鴻海 就是 只要 營收 毛利率 營利率 維持 去年 一樣 機會 不用 營收', '資訊 服務 緯軟 營運 獲利 年增資訊 服務 廠商 緯創 軟體 今年 營運 持續 公布 第一 營運 成績 淨利 去年 同期 增長 單季 盈餘 優於 上季 去年 展望 今年 營運 法人 表示 隨著 科技 物聯網 人工 智慧 興起 市場 需求 龐大 緯軟 今年 全年 營收 有望 持續 雙位數 成長 動能 強勁 緯創 軟體 第一季 單季 營收 去年 同期 成長 上季 成長 稅後 淨利 年增 季增 第一季 單季 盈餘 表現 去年 季度', '上市 認購 權證 彙總表認購 美式 代號 簡稱 標的 數量 單位 存續 期間 履約價 認購 美式 認售 歐式 認售 歐式 認售 歐式 京元電 京元 電子 認售 歐式 大立光 大立光 認售 歐式 認售 歐式 嘉澤 凱基 嘉澤 認購 美式 華新科 富邦 華新科', '證交所 零股 交易 成交 股數 排行證券 代號 證券 名稱 成交 股數 成交 金額 成交價 鴻海 中信金 玉山金 合庫金 中鋼 緯創 第一 華南金 企銀 兆豐金 元大 股息 錸德 台積電 元大 台灣 華映 國泰金 元大金 台中銀 國巨 單位', '上市 外資 陸資 買超 排行單位 陸資 外自 外資 自營 陸資 代號 名稱 買進 賣出 買賣 買進 賣出 買賣 買賣 富邦 元大 滬深 中信金 富邦 欣興 統一 華南金 企銀 仁寶 合庫金 永豐金 國泰中國 元大 上海商銀 緯創 大同 台灣 高鐵 智邦 台塑 外資 自營商 表示 外國 證券商 分支 機構 證券 自營商 專戶', '緯創 合併 獲利公開 資訊 觀測站 重大 訊息 公告 緯創 公告 公司 第三 董事會 重大 決議 事項 事實 發生日 公司 名稱 緯創 資通股份 有限 公司 公司 關係 輸入 公司 公司 公司 相互 比例 適用 發生 緣由 第一季 合併 財務 報告業 編製 完成 安侯 建業 聯合 會計師 事務所 陳雅琳 唐嘉鍵 會計師 核閱 單位 新台幣 營業 收入 營業 毛利 營業 利益 稅前 淨利 淨利 屬於 公司 業主 盈餘 因應 措施 公開', '業績 電腦 設備 緯創 首季 年增緯創 董事會 通過 第一 財務 報表 第一 合併 營收 新台幣 營業 淨利 淨利 淨利 盈餘 新台幣 毛利 率為 營益率 優於 去年 緯創 今天 公布 營收 累計 營收 營收 主要 受到 季底 拉貨 影響 緯創 出貨 伺服器 出貨 桌機 出貨 監視器 出貨 上述 產品線 出貨', '淡季 業績 優於 去年 緯創 首季中央社 記者 潘智義 台北 日電 雖然 淡季 筆電 代工 系統 組裝廠 緯創 資通 今天 公布 淨利 新台幣 去年 增加 盈餘 緯創 統計 合併 營收 去年 減少 營業 淨利 稅前 淨利 緯創 今天 公布 合併 營收 去年 增加 累計 緯創 統計 筆電 出貨 伺服器 出貨 桌上型 電腦 出貨 電視', '緯創 今天今天 不少 殺低 下車 內線 消息 營收 財報 中美 貿易戰 變化 落袋', '上市 外資 買超 排行名次 股票 名稱 買賣 張數 收盤價 漲跌 富邦 統一 元大 台灣 元大 滬深 京元 電子 新金 華通 臺企銀 聯發科 中華電 緯創 聯合 再生 合勤 長榮 宏達電 友訊 台光電 台虹 台達電 奇鋐', '緯軟 第一季 合併 獲利公開 資訊 觀測站 重大 訊息 公告 緯軟 公告 公司 第二 董事會 重大 決議 事項 事實 發生日 公司 名稱 緯創 公司 關係 輸入 公司 公司 公司 相互 比例 適用 發生 緣由 通過 公司 第一季 合併 財務 報告 八年 第一季 合併 財務 報告 編製 完成 安侯 建業 聯合 會計師 事務所 陳雅琳 黃明宏 會計師 核閱 年第 單位 新台幣 營業 收入 營業 毛利 營業 淨利 稅前 淨利', '上市 自營商 排行股票 名稱 買進 張數 賣出 張數 買賣 張數 富邦 元大 台灣 國泰 臺灣 加權 富邦 台泥 國喬 元大 滬深 富邦 臺灣 加權 永豐金 仁寶 第一 彩晶 國泰中國 微星 玉山金 元大 台積電 京元 電子 緯創 宏盛', '緯創 今天就是', '緯創 今天公佈 四月 營收 第一 財報 日子 公司 預防針 營收 營收 第二季 營收 第一 個人 看法 第一 財報 和碩 公佈 第一 財報 公司 預防針 第二季 今年 谷底', '中美 貿易戰 聯軍 第二 中國會 拚死 相抗不管 中國 落後 沒用 中國 官員 已經 承認 無法 星期五 期限 之前 美方 達成 文本 協議 因此 美元 加徵 關稅 已經 九成 確定 川普 星期五 不能 正常 上班 而已 郭台銘 剛剛 打電話 韓國瑜 深圳 伺服器 網通廠 產能 遷往 高雄 高雄 投資 先進 工廠 廣達 英業達 之後 鴻海 貿易 報復 關稅 伺服器 網通 產品 拉回 台灣 緯創 蘇比克灣 基本 伺服器 跑光 華碩 而已 反正 今年', '緯創 今天看來 不少 戰友 你們 好硬 不可能 那邊 很多 看看 不能 最近 外資 還是 續買', '統一 晨盤 短線 波動 加速 整理 業績 題材 各自 表現貿易 變數 前日 美股 跌幅 收斂 悲觀 情緒 降低 台股 昨日 以上 點至 開出 前日 大跌 權值 電子 台積電 鴻海 聯發科 鴻準 廣達 買單 積極 指數 逐步 開高 走高 指數 再度 拉升 收盤 站上 明顯 賣壓 出現 指數 盤堅 格局 觀察 盤面 變化 類股 全數 上漲 其中 電子 傳產 金融 分別 上漲 族群 部份 其他 電子 其他 電子 零組件 走勢 分別 上漲 終場 指數 上漲', '上市 外資 買超 排行名次 股票 名稱 買賣 張數 收盤價 漲跌 鴻海 兆豐新光 富邦 証正 元大 原油 緯創 聯電 元大 台灣 富邦 聯發科 南亞科 統一 欣興 元大 滬深 京元電子 廣達 仁寶 富邦 第一 上海商銀 廣宇', '統一 證券 晨訊 格局 貿易戰 留意 轉單 概念股日期 盤勢 分析 短線 波動 加速 整理 業績 題材 各自 表現 昨日 盤勢 貿易 變數 前日 美股 跌幅 收斂 悲觀 情緒 降低 台股 昨日 以上 點至 開出 前日 大跌 權值 電子 台積電 鴻海 聯發科 鴻準 廣達 買單 積極 指數 逐步 開高 走高 指數 再度 拉升過 收盤 雖未 站上 明顯 賣壓 出現 指數 盤堅 格局 觀察 盤面 變化 類股 全數 上漲 其中 電子 傳產 金融 分別 上漲 在次 族群 部份', '統一 證券 台股 成為 有力 下檔 支撐貿易 變數 前日 美股 跌幅 收斂 悲觀 情緒 降低 台股 昨日 以上 點至 開出 前日 大跌 權值 電子 台積電 鴻海 聯發科 鴻準 廣達 買單 積極 指數 逐步 開高 走高 指數 再度 拉升 收盤 站上 明顯 賣壓 出現 指數 盤堅 格局 觀察 盤面 變化 類股 全數 上漲 其中 電子 傳產 金融 分別 上漲 族群 部份 其他 電子 其他 電子 零組件 走勢 分別 上漲 終場 指數 上漲', '證交所 零股 交易 成交 股數 排行證券 代號 證券 名稱 成交 股數 成交 金額 成交價 鴻海 新金 玉山金 中鋼 華南金 第一 合庫金 兆豐金 中信金 企銀 永豐金 統一 旺宏 元大 台灣 緯創 立積 聯電 台積電 漢唐 台中銀 單位', '上市 外資 陸資 買超 排行單位 陸資 外自 外資 自營 陸資 代號 名稱 買進 賣出 買賣 買進 賣出 買賣 買賣 富邦 統一 元大 台灣 元大 滬深 京元 電子 新金 華通 企銀 聯發科 中華電 緯創 聯合 再生 合勤 長榮 宏達電 友訊 台光電 台虹 台達電 外資 自營商 表示 外國 證券商 分支 機構 證券 自營商 專戶', '中美 貿易 戰破 川普 千億 美元 中國 貨物 關稅緯創 已經 印度 建立 龐大 生產線 印度 工資 便宜 人工 素質 不如 中國 印度 政府 行政 效率 低落 緯創 印度 生產 效率 還是 不如 鴻海 中國廠 主要 訂單 交給 緯創 印度廠 座廠 還是 低度 運轉 如果 貿易 戰真 走到 全面 開戰 被迫 訂單 轉到 印度廠 生產 生產 效率 變差 成本 增加 避開 關稅 損失 相害取其輕 應該 施壓 鴻海 盡快 印度 籌建 生產線 以防 萬一 中共 郭董 逼急 等於 逼鴻', '天下 調查 雲端 製造業 戰場 石化中央社 記者 韋樞 台北 日電 天下 雜誌 兩千 企業 調查 發現 關鍵 手機 時代 雲端 概念 成為 製造業 主力 石化業 賺錢 產業 去年 被動 元件 巨頭 華新科 國巨 業績 最佳 營運 績效 第一 天下 雜誌 體檢 製造業 服務業 金融業 金控業 去年 營運 成果 結果 發現 關鍵 其中 製造業 變革年 雲端 成為 戰場 主要 全球 智慧型 手機 出貨量 季衰退 台灣 通訊 電子業 去年 面臨 逆風', '緯創 今天緯創 權益法 認列 緯穎 所以 公司 配發 現金 股利 不會 增加 而且 認列 緯穎 獲利 已經 年度 認列 所以 緯穎 發現 股利 引響 緯創 現金 以及 權益法 投資 科目', '其他 台灣 集中 市場 外資 買賣 超前買超 代碼 股票 名稱 張數 持有 張數 持股率 中信金 元大台灣 台積電 聯發科 新光金 元大金 元大 滬深 台虹 友訊 南亞科 富邦 上海商銀 遠東 仁寶 可成 台灣高鐵 瑞昱 合庫金 華夏 緯創 亞太電 智邦 易華電 華邦電 晶技 力山 京元電子 瀚宇博 緯穎 明泰 代碼 股票 名稱 張數 持有 張數 持股率 聯電 玉山金 元大台灣 富邦 証正 中鴻 友達 富邦金 中石化', '電子 廣達 投資 風險 個人 研究 記錄研調 伺服器 今年 低迷 聯合晚報 記者 吳凱中 馬瑞璿 台北 報導 晶片 大廠 英特爾 日前 全球 伺服器 市場 示警 研調 機構 報告 指出 全球 伺服器 出貨 低迷 儘管 個別 客戶 需求量 可望 以上 幅度 增長 整體 成長率 可能 創下 以來 分析師 徐康沛 分析 整體 需求 減弱 客戶 拉貨 影響 庫存 水位 上升 年第 全球 伺服器 出貨量 減幅 高於 上季 預期 與去 比較 陷入 衰退 展望 年第', '緯穎 現增 緯創 好樂 股票 入袋 潛在 利益個股 緯穎 首季 獲利 年增 去年 盈餘 配息', '科技 以來 今年 全球 伺服器 出貨歷經 資料 中心 需求 增長 商務 機潮 帶動 全球 伺服器 出貨 維持 成長 今年 以來 整體 出貨 市況 走低 市場 研調 單位 預估 上半年 出貨 出現 雙位數 整體 出貨量 微幅 增長 成長率 以來 今年 以來 全球 伺服器 出貨 市況 低迷 第一 季減 幅度 大於 市場 預期 分析師 徐康沛 指出 受到 客戶 拉貨 力道 強勁 伺服器 庫存 水位 上升 今年 首季 出貨 陷入 衰退 預期 第二季 需求 持續不振 整體 伺服器 出貨 減幅', '證交所 零股 交易 成交 股數 排行證券 代號 證券 名稱 成交 股數 成交 金額 成交價 華映 鴻海 中信金 第一 元大金 華南金 玉山金 聯電 緯創 台積電 企銀 合庫金 中鋼 兆豐金 新光金 元大 台灣 永豐金 長榮 台中銀 單位', '緯創 今天所以 標準 散戶 覺得 所以 已經 遇到 遇到 跌到 幸好 緯創 股利 股息 銀行 太多 其實 不會 現在 賣掉 但是 至少 以上 最好 還好 這裡 大家 吝嗇 分享 學習 很多 謝謝', '緯創 今天緯穎 股息 貢獻 緯創約 預計 可以 認列 緯穎 貢獻 緯創約 去年 相當 所以 緯創 維持 種種 跡象 看出 外資 為何 慢慢 步局', '緯創 今天緯創 檯面 金雞 獲利 不錯 公司 貢獻 加分 檯面 孵育 雞蛋 很多 所以 自己 強大 獲利 表現', '台北 股市 外資 壓寶 高唱 五月天台股 近期 壓力 重重 外資 走人 疑慮 擴散 不過 無論 外資 布局 績優 轉機 操作 原則 統計 過去 以來 包括 聯電 台積電 緯創 新金 欣興 個股 波段 外資 買超 突破 大有 月我 氣勢 聯電 堪稱 第一 財報 驚奇 業外 挹注 轉虧為 同步 宣告 庫藏股 外資 升評 中立 氣勢 吸引 國際 資金 過去 態度 轉為 連續性 加碼 買超 顯示 熱錢', '熱門 族群 高股 月領台股 進入 能否 拉出 月線 市場 屏息 投資 專家 一致 認為 現金 股利 發放率 現金 殖利率 法人 超等 機會 成為 月領頭 扮演 台股 衝鋒 指標股 投資 專家 指出 台股 目前 附近 本益比 相對 股價 大漲 之後 估值 因此 選股 選市 宜以 現金 發放率 現金 殖利率 選股 原則 現金 發放率 代表 公司 大方 配息 意味著 公司 作多心態濃', '統一 證券 晨訊 均線 排列 中長多 格局 延續日期 盤勢 分析 企業 財報 正向 維持 偏多 操作 昨日 盤勢 指數 新高 之下 台股 週二 以上 開出 早盤 蘋果 供應鏈 台郡 可成 鎧勝 景碩 財報 利空 影響 拖累 指數 平盤 上下 震盪 尾盤 概念股 散熱 載板 族群 重新 表態 拉升 指數 收在 當日 高點 終場 台股 影線 紅棒 作收 觀察 盤面 變化 類股 全數 上漲 電子 金融 傳產 分別 上漲 在次 族群 部份 汽車 電子 零組件 造紙類 走勢', '科技 全球 伺服器 市況 低迷 出貨 創新今年 以來 全球 伺服器 出貨 市況 低迷 第一季 季減 幅度 大於 市場 預期 指出 預估 展望 第二季 包括 谷歌 超微 出貨 反彈 可望 強勁 帶動 神達 緯創 廣達 環鴻 華泰 供應鏈 出貨 季增 預期 全球 伺服器 成長率 可能 創下 以來 根據 分析師 徐康沛 統計 分析 整體 需求 減弱 客戶 拉貨 影響 庫存 水位 上升 年第 一季 全球 伺服器 出貨量 減幅 高於 上季 預期 去年 同期 比較 陷入 衰退 展望 第二', '科技 伺服器 出貨 低迷 成長 估寫 低點指出 首季 全球 伺服器 出貨量 季減幅 高於 預期 去年 衰退 第二季 預期 可望 反彈 需求 持續 不振 庫存 消化 出貨 減幅 擴大 預期 今年 伺服器 出貨量 成長 成長率 縮減 年以來近 分析師 徐康沛 表示 台廠 客戶 角度 觀察 需求量 低迷 表現 耀眼 工廠 廣達 緯穎 受惠 廣達 出貨量 季增幅 超微 持續 晶片門 事件 衝擊 出貨量 持續 遞減 工廠 觀察 徐康沛 指出', '新聞 第一 金融股 超過 百萬 外資 為何 新光金原文 連結 原文 內容 台灣 壽險業 金融 資產 實現 部位 損益 雲霄飛車 股東 嚇破 圖片 來源 維基百科 台股 今年 第一季 氣勢 強勁 加權 指數 大漲 因為 去年 美中 貿易戰 緩和 吸引 外資 回流 今年 首季 買超 台股 觀察 外資 買超 最多 股票 當中 電子股 包括 群創 台積電 緯創 傳產股 包括 中鋼 高鐵 外資 青睞 個股 今年 漲幅在 之間 但是 外資 首季 超前 個股 當中 壽險 相關', '其他 台灣 集中 市場 外資 買賣 超前買超 代碼 股票 名稱 買超 張數 持有 張數 持股率 聯電 元大 滬深 中信金 元大 台灣 緯創 鴻海 華邦電 聯合 再生 富邦 東元 國泰中國 第一 台新金 國喬 台積電 晶電 元大 油正 富邦 奇力 華新科 上海 商銀 友達 富邦 宏達電 金像電 永豐金 群創 長榮 和碩 泰碩 代碼 股票 名稱 張數 持有 張數 持股率 元大 台灣 新光金 國泰金 欣興 遠東新 華新 富邦金', '緯創 今天散戶 希望 失去 回到 口袋 所以 不過 時侯 而已', '緯創 今天低調 鈔票 更多 不過 落袋 之前', '緯創 今天欣興 拿來 研究 觀察 股息 昨天 收盤 雖然 來到 漲停 很多 不服氣 現有 資料 放空 一路 軋到 昨天 放空 張數 依然 所以 放空 不像 緯創 放空 股票 這時 或許 不過 運氣 可能 高點 真的 觀察 教材', '緯創 今天星期二 收盤 緯創 今天 第一 盤整 成交量 最後 可惜 不能 突破 可能 即將 公佈 月份 業績 影響 欣興 回檔 大家 觀望 量縮 終於 震盪 可能 進入 之間 盤整 過去 關注 京元電 股息 強茂 股息 減資 值得 總統 不再 關注 鴻海 欣興 股息 終於 回檔 明天 公佈 月份 營收 可能 大家 觀望 公佈 股東常會 日期 公佈', '希望 大家 抬轎 因為 覺得 手運 大家 一起第二 翻紅 持續 獲利 鴻準 元大金 頂晶 元大 全球 緯創 昨日 相較 下降 虧轉盈 富邦公司 治理 元大 股息 仁寶 台橡 東元 轉盈 持續 虧損 天然 昨日 比較 小升 台中銀 昨日 比較 上升 亞太電 持續 下降 日盛金 持續 下降 慶豐 維持', '緯創 今天星期二 籌碼 動向 外資 持續 買進 驚無險 明天 走勢 正面 外資 持續 買進 投信 營商 短線 進出 行庫 連續 調節 今天 外資 買超 緯創 排名 沒有 放空 緯創 奇怪 今天 公佈 月份 營收 筆記 參考', '欣興 仁寶 錯車緯創 去年 後來 酸民 突然 消失 徒弟 高手 下去 仁寶 發展', '緯創 今天營收 應該 沒有 非常 漂亮 如果 非常 漂亮 公佈 重點 第一 財報 表現', '緯創 今天好棒 觀點 學到 好多 非常 感謝', '上市 外資 買超 排行名次 股票 名稱 買賣 張數 收盤價 漲跌 華邦電 元大 滬深 台積電 富邦 証正 群創 緯創 欣興 長榮航 鴻海 聯合 再生 友達 易華電 晶電 永豐金 元大金 台達電 彩晶 南亞科 聯電 臻鼎', '外資 集中 市場 買超 買超 鴻海 最多外資 集中 市場 買超 買超 鴻海 最多 新光金 最多 根據 統計 外資 集中 市場 買進 金額 賣出 金額 買超 統計 年年 外資 買進 金額 賣出 金額 累計 買超 外資 持有 股票 包括 原始 股東 持股 集中 市場 買進 持股 市值 新台幣 全體 上市 股票 市值', '統一 證券 晨訊 指數 乖離 風險日期 盤勢 分析 指數 乖離 風險 日增 昨日 盤勢 受到 清明 連假 期間 美股 上漲 激勵 台股 昨日 以上 開出 台積電 大立光 聯發科 台達電 環球晶 穩懋 電子 權值股 拉抬 指數 開高 震盪 走高 終場 多頭 一城 站上 關卡 長紅 作收 觀察 盤面 變化 類股 漲跌 互見 其中 電子 傳產 分別 上漲 金融 下跌 族群 部份 汽車 半導體 光電 走勢 分別 上漲 終場 指數 上漲', '統一 證券 台股 修正 風險 應居高思危受到 清明 連假 期間 美股 上漲 激勵 台股 昨日 以上 開出 台積電 大立光 聯發科 台達電 環球晶 穩懋 電子 權值股 拉抬 指數 開高 震盪 走高 終場 多頭 一城 站上 點整數 關卡 長紅 作收 觀察 盤面 變化 類股 漲跌 互見 其中 電子 傳產 分別 上漲 金融 下跌 族群 部份 汽車 半導體 光電 走勢 分別 上漲 終場 指數 上漲 收在 成交量 法人 合計 買超', '日本 軟銀 願景 基金 美元 融資融資 累計 美元 台北 美通社 全球 領先 旅遊 體驗 預訂 平台 今日 宣佈 完成 美元 融資 目前 融資 總計 美元 融資 日本 軟體 銀行 願景 基金 領投 紅杉 資本 經緯 創投 繼續 跟投 融資 總額 全球 目的地 旅遊 活動 領域 經歷 發展 成為 全球 搜尋量 旅遊 體驗 預訂 平台 拓展 亞洲 以外 地區 澳洲 歐洲 美國 擴大 業務 獨特 豐富 旅遊', '證交所 零股 交易 成交 股數 排行證券 代號 證券 名稱 成交 股數 成交 金額 成交價 鴻海 奇力 南茂 緯創 聯電 華泰 玉山金 第一 中鋼 元大金 新金 大同 台積電 聯合 再生 中信金 合庫金 中壽 彩晶 國泰金 華南金 單位', '台股 法人 合買 同步 加碼 大立光台股 台積電 大立光 交叉 掩護 之下 收盤 指數 收盤 上漲 法人 合計 買超 同步 加碼 大立光達 法人 自營商 買超 投信 外資 陸資 買超 期貨 部分 外資 倉口數 增加 倉口數 合計為 外資 今日 集中 市場 買超 個股 分別 聯電 中信金 緯創 鴻海 華邦電 聯合 再生 東元 第一 新金 國喬 外資 今日 集中 市場 新光金 國泰金 欣興', '緯創 今天星期一 收盤 緯創 今天 還是 正面 成交量 最後 收盤 來到 正常 成交量 溫和 上升 從來 沒有 緯創 這麼 佛心 漲法 京元電 強茂 練兵 忽下 過去 關注 京元電 股息 強茂 股息 減資 值得 鴻海 總統 後續 廣宇 股息 欣興 股息 就是 筆記', '緯創 今天加碼 感謝 分享 持續 關注 明天 繼續 加碼', '緯創 今天欣興 現在 是否', '緯創 今天沒有 持股 提供 看法 有所 那麼 成交量 外資 天天 大筆 買進 所以 很多 喜歡 口味 欣興 參考 緯創 走勢', '緯創 今天星期一 籌碼 動向 明後天 公佈 月份 營收 公佈 股東 常會 日期 公佈 日期 外資 持續 買進 明天 走勢 正面 外資 投信 自營商 行庫 今天 外資 買超 緯創 排名 融卷慌 最近 緯創 一路 喊好 股價 往下 正面 看法 欣興 什麼 緯創 參考 消息 美股 大盤 外資 散戶 希望 歷史 高點 低點 權息 收盤 筆記 參考', '個人 研究 觀察 記錄 宏碁 轉型 路篇電子 代工 緯創 鴻海 去年 第四季 開出 亮眼 財報 緯創 鴻海 我們 外資群 緯創 行為 推測 外資群 鴻海 行為 自從 緯創 開出 亮眼 財報 外資群 連續 緯創 緯創 股價 緯創 開完 亮眼 財報 鴻海 開出 亮眼 財報 我們 推測 外資群 鴻海 買超 應該 類似 緯創 這樣 天天 時間 過去 外資群 連續 買超 鴻海 股價 鴻海 財報', '緯創 今天緯創 今天 外資 持續', '熱門 族群 外資 連日 投信 跟進市場 投資 氛圍 回暖 美國 升息 周期 可能 段落 有利 熱錢 回流 新興 市場 外資 近日 台股 透露 先機 盤面 包括 緯創 台積電 外資 青睞 連日 投信 轉而 跟進 資金 行情 連假 機會 持續 發酵 入列 觀察 名單 基金 經理人 廖哲宏 表示 殖利率 倒掛 現象 短線 市場 影響 逐步 鈍化 美聯準會 持續 維持 鴿派 立場 以及 總體 經濟 數據 轉佳 正面 消息 不但 外資 轉為 買超 外資 連三 累積金', '台北 股市 外資 保庇 檔人 小志氣中美 貿易 談判 轉向 謹慎 樂觀 國際 貨幣 寬鬆 政策 引爆 熱錢 湧入 激勵 外資 加碼 台股 外資 今年 以來 集中 市場 態度 持續 偏多 台股 外資 聯手 買超 加上 國際 股市 走強 帶動 大盤 指數 登上 再度 改寫 今年 以來 新高 紀錄 第一金投顧 董事長 陳奕光 表示 熱錢 效應 持續 發酵 尚未 結束 投資人 外資 投資 腳步 近日 三雄 大立光 鴻海 台積電 領軍 台股 士氣 大增 價股 同樣 孤單 法人 低點 撈進', '統一 證券 晨訊 穩健 操作 持盈 保泰日期 盤勢 分析 漲多 拉回 風險 日增 穩健 操作 持盈 保泰 昨日 盤勢 美股 道瓊 指數 上漲 激勵 台股 以上 開出 一度 拉升 但是 由於 清明節 連假 市場 觀望 氣氛 濃厚 願意 抱股 過節 意願 下降 加上 獲利 賣壓 出籠 指數 回吐 漲幅 拉回 之後 大型 權值股 台達電 南亞科 環球晶 國巨 買盤 撐場 推升 指數 平盤 狹幅 震盪 終場 小漲 並以 小黑 作收 觀察 盤面 變化 類股', '上市 外資 買超 排行名次 股票 名稱 買賣 張數 收盤價 漲跌 欣興 華邦電 緯創 長榮航 第一 玉山金 元大金 正崴 彭博高 收益 元大 滬深 台積電 景碩 元大 台灣 元大 原油 美材 京元 電子 永豐金 燿華 長榮 鴻海', '外資 超股 欣興 華邦電 緯創統計 交易日 外資 連續 買超 以上 股票 上海銀 京元電 華邦電 連續 股票 台積電 星光 嘉碩 連續 買超 股票 日月光 投控 環球 連續 買超 股票 元大金 第一', '統一 證券 台股 指數 空間 有限美股 道瓊 指數 上漲 激勵 台股 以上 開出 一度 拉升 高點 但是 由於 清明節 市場 觀望 氣氛 濃厚 願意 抱股 過節 意願 下降 加上 獲利 賣壓 出籠 指數 回吐 漲幅 拉回 之後 大型 權值股 台達電 南亞科 環球晶 國巨 買盤 撐場 推升 指數 平盤 狹幅 震盪 終場 小漲 並以 小黑 作收 觀察 盤面 變化 類股 全數 呈現 上漲 電子 傳產 金融 分別 族群 部份 電子 零組件', '上市 外資 陸資 買超 排行單位 陸資 外自 外資 自營 陸資 代號 名稱 買進 賣出 買賣 買進 賣出 買賣 買賣 華邦電 元大 滬深 台積電 富邦 群創 緯創 欣興 長榮航 鴻海 聯合 再生 友達 晶電 永豐金 元大金 台達電 彩晶 南亞科 聯電 元大 台灣 外資 自營商 表示 外國 證券商 分支 機構 證券 自營商 專戶', '新聞 法人 合買 鴻海原文 連結 原文 內容 台股 虎頭 蛇尾 衝到 雖然 一度 突破 成功 創下 今年 新高 開高 走低 終場 小漲 相對 低點 爆量 收黑 形成 短線 突破 不過 今天 搶眼 強攻 漲停 鴻海 獲得 法人 全面 青睞 合計 其中 外資 投信 鴻海 買超 外資 狂掃 力拱 鴻海 重返 台股 市值 觀察 法人 操作 外資 陸資 買超 已經 投信 自營商', '標的 緯創標的 緯創 分類 分析 正文 目前 法人 持續 不用 擔心 緯穎 題材 發酵 相當 看好 退場 機制 長期 投資 必須 停損 機制 進場 停損 分批 加碼 停利 可以 自己 選擇 沒有 強迫 只是 提供 看法', '個人 研究 觀察 記錄 宏碁 轉型 路篇鴻海 第四 基本面 開出來 毛利率 營利率 獲利 其實 方向 出來 我們 推測 外資群 應該 緯創 一樣 連續 回補 鴻海 持股 今天 外資群 第二 鴻海 今天 已經 外資群 第六 緯創 股票 一般 外資群 專業 機構 一定 差不多 鴻海 第四 財報 不會 緯創 比例 鴻海 第四 財報 緯創 加上 鴻海 第四季 財報 出來 不論 散戶 外資群 一致 看壞 鴻海 大家 看壞 時代表 大家', '緯創 今天緯創 印度 製造 出貨 中央社 中央社 中央社 記者 康世人 新德里 專電 拉抬 銷售 蘋果 公司 證實 台灣 緯創 工廠 生產 手機 印度 手機 銷售 業者 今天 告訴 中央社 記者 預計 印度 製造 上市 蘋果 公司 今天 答覆 印度 經濟時報 電子 郵件 證實 蘋果 自豪 當地 客戶 班加羅爾 製造 深化 蘋果 印度 長期 承諾 蘋果 系列 產品 印度 交由 台灣 緯創 位於 印度 科技', '緯創 今天', '緯創 今天外資 持續 超共 假如 銜接到 可以 撐到 月份 財報 開出 應該 期待', '台北 股市 台積 元後 歸零 倒貨台積電 早盤 勇猛 衝上 大漲 波段 高價 鴻海 大漲 攻上 共同 領軍 台股 波段 高點 法人 助攻 合力 買超 台積電 虎頭 蛇尾 攻高 獲利 回吐 賣壓 湧現 最後 平盤 台股 小漲 點收 指數 波段 新高 放量 長黑 留近 長黑 成交值 鴻海 去年 第四季 財報 股價 大牛 翻身 帶動 單日 市值 進帳 千億 順利 坐穩 市值 亞軍 寶座 貢獻 台股 第一 投顧 董事長 陳奕光 指出 台股 負利率', '上市 外資 買超 排行名次 股票 名稱 買賣 張數 收盤價 漲跌 鴻海 欣興 元大 滬深 台積電 中華電 華通 富邦 緯創 群創 元大 原油 國泰中國 元大 台灣 亞泥 可成 華邦電 京元電子 富邦 上海 商銀 廣宇 元大 寶滬深', '熱門 族群 微星 緯創 今年 營運展 望佳微星 緯創 業績 成長 呈現 高檔 震盪 趨堅 走勢 微星 股價 收高 上揚 緯創 收盤價 上漲 股價 波段 檔區 留意 相關 認購 權證 微星 去年 業績 出色 營收 獲利 元為 年來 業績 高點 雖然 去年 下半年 去化 庫存 影響 毛利率 營業 利益率 下降 公司 看好 今年 首季 毛利率 回穩 而且 顯示卡 筆電 庫存 去化 結束 電競 市場 需求 動能 今年 營收 維持 成長 獲利 穩定 表現 微星 持續', '外資 集中 市場 超國票金 最多外資 集中 市場 國票金 最多 買超 緯創 最多 根據 統計 外資 集中 市場 買進 金額 賣出 金額 超為 統計 年年 外資 買進 金額 賣出 金額 累計 買超 外資 持有 股票 包括 原始 股東 持股 集中 市場 買進 持股 市值 新台幣 全體 上市 股票 市值', '電子 零件 工業 伺服器 市況 不佳 博智 保守博智 去年 上半年 獲利 表現 出色 盈餘 成長 創下 歷史 新高 盈餘 由於 工業 電腦 伺服器 市況 不佳 博智 保守 看待 營運 博智 預估 今年 上半年 業績 去年 衰退 期待 下半年 營運 回穩 博智 主攻 伺服器板 雲端 儲存 設備 工業 電腦 用板 信賴 必須 持續 運作 高階 產品 主要 股東 仁寶 金仁寶 工業 電腦 大廠 研華 目前 仁寶 集團 持股約 研華 股約 博智 伺服器 產品 主要 透過', '上市 認購 權證 履約價 重設 總表代號 名稱 類型 標的 原始 履約價 重設 履約價 到期日 大同國泰 認購 大同 中工 國泰 認購 中工 群創 國泰 認購 群創 泰山永豐 認購 泰山 勤美永豐 認購 勤美 台肥永豐 認購 台肥 聯強 永豐 認購 聯強 新興 永豐 認購 新興 東森 永豐 認購 東森 台航 永豐 認購 台航 嘉澤 永豐 認購 嘉澤 台新 認購 元大台灣 玉晶光 認購', '上市 認購 權證 彙總表認購 美式 代號 簡稱 標的 數量 單位 存續 期間 履約價 認購 美式 可成 兆豐 可成 認購 美式 富邦金 兆豐 富邦金 個月 認購 美式 緯創 兆豐 緯創 認購 美式 智易 兆豐 智易 認購 美式 日月 兆豐 日月 投控 認購 美式 臻鼎 兆豐 臻鼎 認購 美式 台郡 兆豐 台郡 認購 美式 樺漢兆豐 樺漢 認售 歐式', '上市 認購 權證 彙總表認購 美式 代號 簡稱 標的 數量 單位 存續 期間 履約價 認購 美式 長榮航 群益 長榮航 認購 美式 奇鋐 群益 奇鋐 個月 認購 美式 欣興 群益 欣興 認購 美式 電貿 群益 電貿 認購 美式 晶睿 群益 晶睿 認購 美式 揚明光 群益 揚明光 個月 認購 美式 揚明光 群益 揚明光 個月 認購 美式 日月光 群益 日月光 投控', '上市 認購 權證 彙總表認購 美式 代號 簡稱 標的 數量 單位 存續 期間 履約價 認售 歐式 易華電 群益 易華電 認購 美式 上証 凱基 富邦 認購 美式 滬深 凱基 元大 滬深 認購 美式 可成 凱基 可成 認購 美式 台航 凱基 台航 認售 歐式 可成 凱基 可成 認購 美式 東聯 富邦 東聯 個月 認購 美式 國巨 富邦 國巨 認購', '國際 產業 蘋果 兌現 承諾 緯創 開始 印度 生產印度 媒體 報導 除了 蘋果 已經 開始 印度 製造 擴大 印度 製造 產品 組合 展現 公司 印度 打造成 製造 中心 意圖 蘋果 電郵 印度 媒體 證實 蘋果 自豪 班加羅爾 顧客 生產 持續 推進 蘋果 印度 長期 承諾 緯創 班加羅爾 郊區 工廠 蘋果 生產 月初 開始 印度 生產 知情 人士 透露 印度 價格 可能 調降 分析師 表示 蘋果 取得 利潤 投入 積極 銷售 行銷 活動 緯創 月初', '上市 外資 陸資 買超 排行單位 陸資 外自 外資 自營 陸資 代號 名稱 買進 賣出 買賣 買進 賣出 買賣 買賣 鴻海 緯創 月光 投控 富邦 旺宏 群創 台積電 亞泥 國泰 中國 元大 油正 永豐金 上銀 華邦電 國泰金 富邦 京元電子 聯發科 欣興 廣宇 外資 營商 表示 外國 證券商 分支 機構 證券 自營商 專戶', '上市 自營商 排行股票 名稱 買進 張數 賣出 張數 買賣 張數 元大 滬深 元大 原油 國泰中國 富邦 富邦 富邦 元大 台灣 宏達電 國泰中國 元大 香港 長榮 緯創 元大 石油 元大 寶滬深 南電 大同 上銀 台積電 元大 股息', '證交所 零股 交易 成交 股數 排行證券 代號 證券 名稱 成交 股數 成交 金額 成交價 鴻海 緯創 義隆 玉山金 中鋼 大同 中信金 企銀 新金 台泥 聯電 錸德 旺宏 新光金 華南金 台積電 合庫金 永豐金 開發金 單位', '緯創 印度 製造 出貨中央社 記者 康世人 新德里 專電 拉抬 銷售 蘋果 公司 證實 台灣 緯創 工廠 生產 手機 印度 手機 銷售 業者 今天 告訴 中央社 記者 預計 印度 製造 上市 蘋果 公司 今天 答覆 印度 經濟時報 電子 郵件 證實 蘋果 自豪 當地 客戶 班加羅爾 製造 深化 蘋果 印度 長期 承諾 蘋果 系列 產品 印度 交由 台灣 緯創 位於 印度 科技 大城 班加羅爾 第一 廠房 製造 生產 過去 生產 願意', '鴻海 一點 看法看看 和碩 廣達 緯創 英業達 仁寶 鴻海 股價 確實 委屈 低估', '緯創 今天星期一 緯創 今天 還是 正面 成交量 最後 繼續 化解 天量 掛賣 什麼 意思 良心 附近盤 天數 一點 後市 有利 突破 就是 攀升 開始 過去 關注 京元電 強茂 突然 冒出 年淨利 年增 大利 可惜 值得 鴻海 漲停 傳言 總統 爆量 看好 清明節 放假 確定 因素 注意 收盤 看法 晚上 外資 動態 筆記', '緯創 今天感謝 無私 分享', '緯創 今天感謝 大無私 分享', '緯創 今天謝謝 鼓勵', '緯創 今天今天 外資 繼續 買進 投信 自營商 轉賣 消息 行庫 政府 基金 調節 鴻海 今天 買盤 緯創 一樣 行庫 調節 最近 緯創 一路 喊好 股價 沒有 正面 看法 希望 明天 盤整 攀升 筆記 參考', '緯創 今天謝謝 請問 覺得 遠雄 信義 值得 注意', '緯創 今天一般 成交量 股票 關注 遠雄 現金 股利 今天 收盤 成交量 已經 好幾 股利 顯然 優勢 信義 現金 股利 今天 收盤 成交量 股利 是否 值得 股票 籌碼戰 股票 萬一 反而 下跌 股利 值得 成交量 很少 沒有 主力 炒作 因為 沒有 本來 發表 看法', '個人 研究 觀察 記錄 宏碁 轉型 路篇一陣子 研究 觀察 記錄篇 版友 個股 練習 版友 提出 觀察 標的 然後 分析 練習 其中 就是 鴻海 版友 開槍 瞄準 非常 具有 賭徒 準確 直覺 只是 耐心不足 抱不住 接下來 群組 建議 基本面 由於 財報 困難度 非常 所以 好幾 幫忙 分析 加上 之前 鴻海 操作 短線 知道 之前 鴻海 減過資 接著 大盤反', '台北 股市 股價 委屈 法人 關愛台股 強勢 站回 之上 高檔 壓力 輪動 加快 緯創 開發金 永豐金 偏低 股價 委屈 上周 獲法人 青睞 推升 股價 穩步 走揚 後市 可期 台股 大漲 台新 投顧 協理 范婉瑜 指出 美債 出現 殖利率 倒掛 以來 市場 信心 減弱 市場 尾盤 集中 市場 交投 微幅 降溫 盤面 傾向 個股 表現 近期 評價 偏低 個股 出現 一波 攻勢 范婉瑜 建議 年財報 公布 不確定性 降低 可選', '上市 外資 買超 排行名次 股票 名稱 買賣 張數 收盤價 漲跌 元大 滬深 富邦 証正 新光金 元大 台灣 開發金 緯創 臺企銀 中鋼 京元電子 國泰中國 華南金 上海商銀 玉山金 新金 微星 永豐金 元大 群創 聯合 再生 華通', '台北 股市 外資時序 進入 去年 財報 申報 截止 基本面 焦點 轉向 緊接著 登場 首季 財報 回顧 三月 台股 指數 回測 月線 日線 緩步 上揚 收漲 喊水 結凍 變肉粽 外資 買超 台股 千億 加碼 力道 急凍 小幅 買超 不過 台積電 台達電 大立光 深獲 外資 青睞 外資 狂敲 大力 加碼 外資 買盤 縮手 加碼 掃貨股 熱度 買超 張數 外資 鍾愛 元大金 買超 緯創 上海商', '上市 融資 減少 排行名次 股票 名稱 增減 張數 收盤價 漲跌 融資 餘額 昨日 餘額 元大 滬深 富邦 証正 國泰中國 中石化 長榮航 新光金 中工 京元電子 中環 緯創 開發金 欣興 微星 毅嘉 友達 瀚宇博 臺企銀 長榮 玉晶光 亞泥', '統一 證券 晨訊 季底 作帳 基本面 利空 減碼 操作 持盈 保泰日期 盤勢 分析 季底 作帳 基本面 利空 減碼 操作 持盈 保泰 昨日 盤勢 由於 美股 指數 彈升 帶動 周五 台股 以上 開出 早盤 呈現 狹幅 震盪 美中 貿易 談判 傳出 進展 順利 陸股 強勢 大漲 帶動 市場 情緒 提升 權值 類股 包括 台積電 台塑四寶 鴻海 國泰金 富邦金 迅速 拉升 指數 逐步 墊高 尾盤 出量 拉抬 終場 長紅 作收 觀察 盤面 變化 類股 全數 收漲 電子 金融 傳產 分別 上漲', '統一 證券 台股 指數 拉回 風險 偏高由於 美股 指數 彈升 帶動 台股 以上 開出 早盤 呈現 狹幅 震盪 美中 貿易 談判 傳出 進展 順利 陸股 強勢 大漲 帶動 市場 情緒 提升 權值 類股 包括 台積電 台塑 四寶 鴻海 國泰金 富邦金 迅速 拉升 指數 逐步 墊高 尾盤 出量 拉抬 終場 長紅 作收 觀察 盤面 變化 類股 全數 收漲 電子 金融 傳產 分別 上漲 族群 部份 其他 電子 油電 燃氣 百貨 貿易類 走勢 分別 上漲 終場 指數', '外資 超股 新光金 開發金 緯創統計 交易日 外資 連續 買超 以上 股票 上海銀 興富發 永豐金 連續 買超 股票 中華電 開發金 群益證 聯合 再生 華新科 連續 買超 股票 京元電 華邦電 連續 股票 玉山金 臺企銀', '證交所 外資 上市 公司台股 上周 收高 漲幅 外資 買賣 接近 持平 根據 統計 外資 集中 市場 賣超 今年 以來 外資 買進 金額 賣出 金額 累計 買超 外資 持有 股票 市值 新台幣 全體 上市 股票 市值 新台幣 減少 方面 上周 買超 最多 上市 公司 緯創 累計 買超 開發金 永豐金 金融股 分居 買超 第二', '香港 麥格理 資本 證券 認購 權證 終止 上市 總表簡稱 代號 標的 最後 交易日 終止 上市日 履約價 行使 比例 聯發科 麥證 聯發科 大立光麥證 大立光 大立光麥證 大立光 緯創 麥證 緯創 大麥證 大麥證 華新麥證 華新 華新麥證 華新 可成麥證 可成 可成麥證 可成 新光 金麥證 新光金 新光 金麥證 新光金 群創 麥證 群創 群創 麥證 群創 台勝科麥證 台勝科 台勝科麥證', '上市 認購 權證 履約價 重設 總表代號 名稱 類型 標的 原始 履約價 重設 履約價 到期日 緯創 永豐 認購 緯創 日月光 永豐 認購 日月光 投控 日月光 認購 日月光 投控 聯發科 統一 認購 聯發科 聯詠國泰 認購 聯詠 智伸科國泰 認購 智伸科 玉晶光 永豐 認售 玉晶光', '上市 認購 權證 彙總表認購 美式 代號 簡稱 標的 數量 單位 存續 期間 履約價 認售 歐式 國巨 元富 國巨 認售 歐式 國泰金 元富 國泰金 認售 歐式 緯創 元富 緯創 認購 歐式 台光電 中信 台光電 認購 歐式 欣興 中信 欣興 認購 美式 台泥 國票 台泥 個月 認購 美式 榮成 國票 榮成 認購 美式 景碩 國票 景碩 認購 美式 麗豐', '上市 認購 權證 彙總表認購 美式 代號 簡稱 標的 數量 單位 存續 期間 履約價 認購 美式 國巨 凱基 國巨 認購 美式 可成 凱基 可成 認購 美式 可成 凱基 可成 認購 美式 禾伸堂 凱基 禾伸堂 認購 美式 聯詠 凱基 聯詠 認購 美式 欣興 凱基 欣興 認購 美式 緯創 凱基 緯創 個月 認購 美式 創意 凱基 創意 認購 美式 台郡 凱基', '上市 認購 權證 彙總表認購 美式 代號 簡稱 標的 數量 單位 存續 期間 履約價 認購 美式 冠德 元大 冠德 認購 美式 裕民 裕民 認購 美式 長榮航 元大 長榮航 認購 美式 中壽 中壽 認購 美式 康控 元大 康控 認購 美式 表科 元大 表科 個月 認購 美式 南電 元大 南電 個月 認售 歐式 儒鴻 元大 儒鴻 認售 歐式 亞德客', '上市 外資 陸資 買超 排行單位 外自 外資 自營 代號 名稱 買進 賣出 買賣 買進 賣出 買賣 買賣 鴻海 欣興 元大 滬深 台積電 中華電 華通 富邦 緯創 群創 元大 油正 國泰中國 元大 台灣 亞泥 可成 華邦電 京元電子 富邦 上海商銀 廣宇 元大 滬深 外資 自營商 表示 外國 證券商 分支 機構 證券 自營商 專戶', '證交所 零股 交易 成交 股數 排行證券 代號 證券 名稱 成交 股數 成交 金額 成交價 鴻海 中鋼 緯創 玉山金 中信金 義隆 第一 大同 合庫金 中壽 企銀 開發金 聯電 永豐金 台積電 華南金 新光金 南茂 單位', '標的 廣達我們 肉鬆大 將軍 可以 正名 指標 可喜可賀 三月 尾巴 最後 工作日 廣達 帶量 收紅 高價 並且 創新 收盤 早盤 提到 依照 目前 內外盤 支撐 壓力線 可以 看出 主力 大舉 籌碼 動作 短線 從以前 提過 帶量 上攻 無量 下跌 屬於 震盪 洗盤 籌碼 法式 之前 閒聊 可以 看出 廣達 主力 拉抬 手式 觸碰 通道 收回 後續 上攻 去年 提到 廣達', '緯創 今天今天 盤整 小跌 外資 還是 大買 一萬多 繼續', '緯創 今天本來 看到 好像 自言 自語 自己 筆記 不再 公開 自己 看法 今天 緯創 守住 來到 尾盤 拉到 成交量 外資 大戰 投信 自營商 行庫 看來 外資 買方 行庫 大賣 爆量 已經 消化 盤整 只要 外資 棄守 盤整 畢竟 緯創 現金 股利 難道 京元電 來到 以上 筆記 參考', '上市 融資 減少 排行名次 股票 名稱 增減 張數 收盤價 漲跌 融資 餘額 昨日 餘額 誠美材 元大 滬深 富邦 友訊 友達 緯創 大同 奇鋐 廣宇 金像電 再生 志超 華邦電 味全 亞光 燿華 福懋油 光罩 聯電 微星', '上市 外資 買超 排行名次 股票 名稱 買賣 張數 收盤價 漲跌 富邦 緯創 開發金 玉山金 上海商銀 臺企銀 永豐金 中信金 中華電 統一 聯電 元大 台灣 華邦電 台灣高鐵 南電 和碩 聯合 再生 台塑 東元', '上市 自營商 排行名次 股票 名稱 買賣 張數 收盤價 漲跌 買進 張數 賣出 張數 富邦 元大 台灣 元大 原油 友達 華頓 黃豆 誠美 緯創 南亞科 元大 台灣 中石化 晶電 臻鼎 富邦 中証 華通 嘉聯益 元大 原油 富邦 臺灣 加權 群益 臺灣 加權', '統一 證券 晨訊 震盪 拉回 逢高 減碼 因應日期 盤勢 分析 震盪 拉回 逢高 減碼 因應 昨日 盤勢 受到 美股費半 指數 走弱 拖累 台股 昨日 開出 早盤 回測 防守 關卡 市場 國際 股市 震盪 劇烈 季底 結帳 因素 影響 觀望 情緒 濃厚 交投 清淡 量能 顯著 縮減 權值股 包括 國泰金 聯發科 日月光 表現 疲軟 指數 整日 平盤 之下 狹幅 震盪 終場 小跌 作收 觀察 盤面 變化 電子 金融 分別 下跌 傳產 上漲 族群 部份 玻璃 陶瓷', '日盛 金控 晨訊 成交量 降溫 後續 不宜 出量 下殺日期 盤勢 分析 周四 加權 指數 小幅 跳空 低開 終場 加權 收在 美股 指數 周四 收盤 漲跌 互見 跌幅 介於 其中 科技股 窄幅 波動 亞馬遜 台積電 美光 微幅 上漲 谷歌 下跌 以內 特斯拉 超過 相對 表現 周四 加權 指數 小幅 跳空 低開 成交量 隨即 震盪 下行 失守 日線 接近 陸股 逐漸 轉強 帶動 台股 回穩 加上 尾盤 進行 摩台 結算 指數 緩步 收斂 跌幅 終場 加權 下跌', '早報 亞股 走弱 台股 量縮開盤日 出刊 川普 經濟 顧問 庫德洛 做好 貿易 談判 延長 準備 巴菲特 認為 投資 航空股 安全 達美 航空 意外 神秘 買盤 大同 股價 甩尾 平均 國際 股市 道瓊 指數 上漲 幅度 作收 日經 指數 下跌 幅度 作收 上證 指數 下跌 幅度 作收 台股 籌碼 變化 外資 投信 自營 融資 餘額 融券 餘額 法人 買賣 買超 外資 投信 自營商 穩懋', '外資 超股 緯創 開發金 玉山金統計 交易日 外資 連續 買超 以上 股票 上海銀 興富發 永豐金 連續 買超 股票 連續 股票 中華電 開發金 群益證 聯合 再生 華新科 連續 股票 國票金 京元電 華邦電', '統一 證券 台股 居高思危 提防 拉回 風險受到 美股 費半 指數 走弱 拖累 台股 昨日 以下 開出 早盤 回測 防守 關卡 市場 國際 股市 震盪 劇烈 季底 結帳 因素 影響 觀望 情緒 濃厚 交投 清淡 量能 顯著 縮減 權值股 包括 國泰金 聯發科 日月光 表現 疲軟 指數 整日 平盤 之下 狹幅 震盪 終場 小跌 作收 觀察 盤面 變化 電子 金融 分別 下跌 傳產 上漲 族群 部份 玻璃 陶瓷 汽車 觀光類 走勢 分別 終場 指數 下跌 收在', '券商晨訊 台股 投資 組合 建議券商 重複 推薦 聚陽 晶彩科 力致 嘉裕 券商 推薦 利勤 美利達 巨大 寶齡 逸達 旭富 保瑞 義隆 聯詠 亞信 敦陽 晉泰 智邦 上詮 健策 元山 由田 優群 良維 正崴 矽碼 欣興 高技 志超 光聯 晶采 豐達科 拓凱 尚凡 松普 閎暉 中環 緯穎 緯創 緯軟 新普 友輝 宏捷科 穩懋 全新 環球 台泥 亞泥 嘉泥 國建 太子 皇翔 中華 裕隆 裕日車 聯華 儒鴻 中和', '上市 認購 權證 彙總表認購 美式 代號 簡稱 標的 數量 單位 存續 期間 履約價 認購 美式 國巨 統一 國巨 認購 美式 聯發科 統一 聯發科 認購 美式 大立光 統一 大立光 認售 歐式 滬深 統一 元大 滬深 認購 美式 東聯 元富 東聯 個月 認購 美式 台船元 台船 認購 美式 元富 個月 認購 美式 豐祥 元富 豐祥 個月 認購', '上市 認購 權證 彙總表認購 美式 代號 簡稱 標的 數量 單位 存續 期間 履約價 認購 美式 智伸科 國泰 智伸科 認購 美式 康控 國泰 康控 認購 美式 麗豐 群益 麗豐 認購 美式 康控群 康控 認售 歐式 群益 認購 美式 儒鴻 儒鴻 個月 認購 美式 台達電 台達電 認購 美式 國巨 凱基 國巨 認購', '上市 認購 權證 彙總表認購 美式 代號 簡稱 標的 數量 單位 存續 期間 履約價 認購 美式 廣宇 元大 廣宇 認購 美式 全新 全新 認購 美式 可成 可成 認購 美式 緯創 元大 緯創 認購 美式 智易 元大 智易 認購 美式 日月 元大 月光 投控 個月 認購 美式 麗豐 麗豐 個月 認購 美式 康控 元大 康控 認售 歐式 可成', '上市 投信 排行證券 代號 證券 名稱 買進 張數 賣出 張數 買賣 張數 緯創 華新 廣達 京元 電子 順德 台灣高鐵 強茂 台泥 義隆 聯茂 興能 玉山金 明基材 長榮 台積電 葡萄王 金像電 嘉澤 晶技', '上市 外資 陸資 買超 排行單位 陸資 外自 外資 自營 陸資 代號 名稱 買進 賣出 買賣 買進 賣出 買賣 買賣 元大 滬深 富邦 新光金 元大 台灣 開發金 緯創 企銀 中鋼 京元電子 國泰中國 華南金 上海商銀 玉山金 新金 微星 永豐金 元大 原油 群創 聯合 再生 華通 外資 自營商 表示 外國 證券商 分支 機構 證券 自營商 專戶', '閒聊 閒聊櫃買指 指期 自營商 投信 外資 指選 自營商 投信 外資 強勢 類股 光電 生技 醫療 電子 零組件 化學生醫 半導體 電子 塑膠 弱勢 類股 橡膠 電器 電纜 水泥 漲停 家數 跌停 家數 成交量 排行 欣興 緯創 新光金 誠美材 嘉聯益 成交值 排行 台積電 亞光 玉晶光 大立光 欣興 人生 只要 朋友 陪伴 就算 偶爾 迷失 方向 關係', '其他 台灣 集中 市場 外資 買賣 超前買超 代碼 股票 名稱 張數 持有 張數 持股率 緯創 群創 開發金 第一 玉山金 上海商銀 永豐金 台新金 台達電 日月光 投控 明基材 台光電 台積電 台灣高鐵 燿華 聯合 再生 友達 華新科 廣達 台灣 兆豐金 景碩 群益證 淳安 和碩 合庫金 統一 瑞昱 元大金 代碼 股票 名稱 張數 持有 張數 持股率 元大 滬深 新光金 欣興 元大 台灣 富邦 証正 華新 國泰金', '緯創 今天那麼多 看好 不如 一點 看壞 放空 如何', '緯創 今天不會 賺錢 股票 玩玩 證明 自己 眼光 百來 這邊 實在 最近 操作 重點 欣興 巨庭 威宏 股票 值得 百來 緯創 多少 真的', '緯創 今天多少 大少 一點點', '緯創 今天目前 獲利 態度 持股 數量 股東 一樣 變動 目前 觀察 成交量 失控 之前 續抱 失控量 萬多 誠實 面對 自己 買賣 成交 帳單 不管 賠錢 還是 賺錢', '緯創 今天真是 野人 這樣 上下 算算 不少 飛走 已經 飛走 如何 得到 比較 重要', '緯創 今天緯創 今天 開盤 跳空 拉到 然後 下殺 以為 後來 發現 操盤 尾盤 成交量 最後 敲進 正面 看法 不同於 去年 緯創 開法 說會 就是 下殺 開始 外資 買進 目標價 認為 現象 還是 預設 目標價 今天 經過 操盤 洗盤 應當 失控量 所以 繼續 持股 續抱 明天 成交量 較少 以上 個人 看法 一定 正確', '緯創 今天董事長 今年 展望 保守 務實 調整 組織 結構 追求 營收 快速 成長 獲利 知道 手機 業務 燒錢 蘋果 好吃 明天 成員 報到 緯穎 看好 今年 表現', '上市 融資 增加 排行名次 股票 名稱 增減 張數 收盤價 漲跌 融資 餘額 昨日 餘額 緯創 元大 滬深 晶彩科 益航 華頓 黃豆 元大 台灣 定穎 志超 鴻海 富邦 証正 南亞科 元大 原油 再生 晶電 元大 道瓊 白銀 聯電 安集 嘉聯益', '熱門 族群 智慧 城市 概念股 出擊 台達電 緯創 吸金智慧 城市展 助攻 概念股 出頭 智慧 城市 開展 主打 智慧 醫療 智慧 教育 智慧 建築 智慧 交通 擴大 人工 智慧 聯網 跨業 深度 應用 概念股 水漲 船高 台達電 緯創 買盤 明顯 升溫 晉升 台股 吸金 族群 智慧 城市 概念股 包含 電子 族群 台達電 緯創 中華電 佳世達 台灣 研華 仲琦 飛捷 亞信 遠傳 中磊 營建股 遠雄 玻璃 陶瓷股 台玻 後市 值得 留意 觀察 籌碼 進出 狀況 法人 大舉敲 台達電', '個股 緯創 董事會 決議 召開 股東常會董事會 決議 召開 股東常會 相關 事宜 董事會 決議 日期 股東會 召開 日期 股東會 召開 地點 張榮發 基金會 召集 事由 報告 事項 年度 營業 報告 審計 委員會 查核 報告 員工 酬勞 董事 酬勞 分派 情形 報告 修訂 董事會 議事 規範 報告 修訂 道德行 準則 報告 召集 事由 承認 事項 七年度 營業 報告書 財務 報表 承認案 七年度 盈餘 分配 承認案 召集 事由 討論 事項 辦理 現金 增資 發行 普通股 參與', '電腦 設備 手機 營收 下滑 緯創 營運 成長緯創資 年度 營收 創高 毛利率 營業 利益率 雙率 雙升 站上 高點 緯創 董事長 林憲銘 日法 說會 指出 今年 整體 營運 事業 表現 有所 增長 法人 關注 智慧 手機 業務 走滑 策略性 調整 方向 損平 目標 繼續 前進 去年 第四季 美系 客戶 提前 拉貨 動能 強勁 拉抬 緯創 單季 營運 站上 高點 淨利 季增 增逾 拉升 單季 緯創 公布 年度 財報', '上市 外資 排行名次 股票 名稱 買賣 張數 收盤價 漲跌 國票金 新光金 聯電 仁寶 富邦金 鴻海 國泰金 台泥 南亞科 中信金 南電 大同 晶電 誠美材 華新 元大 台灣 台積電 友達 緯創 彰銀', '上市 自營商 排行名次 股票 名稱 買賣 張數 收盤價 漲跌 買進 張數 賣出 張數 緯創 中石化 富邦 群益 深証 元大 國泰中國 晶電 元大寶 滬深 華通 群益 臺灣 加權 富邦 印度 國喬 誠美材 富邦 康控 元大 敦南 台達電 京城銀 富邦', '早報 美股 小漲 回穩 台股 挑戰 收復 日線開盤日 出刊 三星 發布 獲利 預警 財報 低於 市場 預期 成長 疑慮 美股 小跌 蘋果 發布 服務 股價 走低 平均 國際 股市 道瓊 指數 上漲 幅度 作收 指數 下跌 幅度 作收 上證 指數 下跌 幅度 作收 台股 籌碼 變化 外資 投信 自營 融資 餘額 融券 餘額 法人 買賣 買超 外資 投信 自營商 台塑 欣興 緯創 台達電 群聯 大立光 群聯 邦特', '緯創 公司 緯新資通 昆山 租地 委建 方式 取得 動產 契約 總金額 人民幣公開 資訊 觀測 重大 訊息 公告 緯創 代子 公司 緯新 資通 昆山 有限 公司 簡稱 公告 租地 委建 方式 取得 不動產 契約 種類 租地 委建 事實 發生日 契約 相對 公司 關係 契約 相對 振華集團 昆山 建設 工程 股份 有限 公司 公司 關係 契約 主要 內容 契約 金額 預計 參與 投入 金額 契約 日期 限制 條款 其他 重要 約定 事項 契約 金額 人民幣 專業 估價 事務所 公司 名稱 估價 結果 適用 動產', '緯創 設置 治理 主管 林福謙 擔任公開 資訊 觀測 重大 訊息 公告 緯創 公告 公司 設置 公司 治理 主管 人員 變動別 輸入 發言人 代理 發言人 重要 營運 主管 執行長 營運長 行銷長 策略長 財務 主管 會計 主管 公司 治理 主管 研發 主管 內部 稽核 主管 訴訟 非訟 代理人 公司 治理 主管 發生 變動 日期 舊任者 姓名 級職 簡歷 適用 新任者 姓名 級職 簡歷 林福謙 資深 副總經理 緯創 資通 公司 幕僚長 異動 情形 輸入 辭職 職務 調整 資遣', '緯創 辦理 現增 發行 普通股 參與 發行 海外 存託 憑證 現增 超過 億股公開 資訊 觀測 重大 訊息 公告 緯創 董事會 決議 辦理 現金 增資 發行 普通股 參與 發行 海外 存託 憑證 現金 增資 發行 普通股 董事會 決議 日期 增資 資金 來源 辦理 現金 增資 發行 普通股 參與 發行 海外 存託 憑證 現金 增資 發行 普通股 發行 股數 盈餘 公積 增資 發給 員工 部分 提請 股東會 授權 董事會 普通股 超過 額度 市場 狀況 公司 需求 適當 時機 籌資 工具 相關 法令 以下 籌資 方式 辦理 原則', '緯創 私募現 增及 私募 發行 新股 參與 海外 存託 憑證 超過 億股公開 資訊 觀測站 重大 訊息 公告 緯創 董事會 決議 私募 方式 辦理 現金 增資 發行 普通股 私募 方式 發行 新股 參與 海外 存託 憑證 董事會 決議 日期 私募 有價 證券 種類 普通股 發行 新股 參與 海外 存託 憑證 私募 對象 公司 關係 策略性 投資人 私募 股數 張數 提請 股東會 授權 董事會 普通股 超過 額度 市場 狀況 公司 需求 適當 時機 籌資 工具 相關 法令 以下 籌資 方式 辦理 原則 擇一 搭配 方式', '台北 股市 焦點股 淘帝 美材 台光電 緯創 樂斯科廣穎 殖息率 題材 早盤 量價 續揚 漲逾 南茂 法人 偏多 操作 吸引 人氣 匯集 推升 價盤 初續 漲約 台積電 不理 法人 聯手 賣超 早盤 彈升 企圖 挑戰 日線 中鋼 配息 員工 加薪 上調 早盤 股價 開高 小漲 收復 日線 裕日車 去年 法人 今年 有望 配息 殖利率 早盤 股價 鑽全 配息 昨日 收盤價 計算 殖息率 早盤 股價 漲約 淘帝', '分析 權值股 領軍 台股 止跌 反彈 重登 關卡美股 周一 漲跌 互見 道瓊 小紅 納斯達克 小黑 費半 指數 跌幅 蘋果 股價 收跌 美元 亞股 今日 震盪 表現 指數 開高 走高 漲幅 韓國 香港 陸股 止跌 反彈 台股 跳空 衝上 挑戰 日線 關卡 大型 權值股 穩定 軍心 電子 塑膠 營建 類股 領漲 富邦金 國泰金 投資 評價 回升 短線 可望 回穩 台股 漲多 國際盤 震盪 影響 法人 聯手 股票 指期 方面 法人 淨多單減', '解析 收復美股 昨夜 回穩 亞股 隨之 回神 台股 期指 跟上 腳步 整齊開 隨後 集中 市場 上漲 店頭 市場 上漲 權值 巨頭 台積電 大立光 鴻海 聯袂 彈升 高檔 坐鎮 輔以亞光 康控 緯創 玉晶光 強勢 助攻 之下 大盤 指數 快攻 意圖 收復 日線 分析師 表示 外資 昨日 調節 賣壓 不如 預期 台股 今日 反彈 重回 預估 今日 落在 左右 櫃買 指數 強於 現貨 站回 五日線 目前', '外資 緯創 獲利 結構 外資緯創 法說會 港系 外資 給予 買進 評等 看好 緯創 獲利 穩定 成長 以及 客戶 產品 分散 因素 同樣 外資 比較 過去 緯創 鴻海 和碩 股價 表現 緯創 去年 以來 股價 上漲 鴻海 下跌 和碩 下跌 緯創 目前 唯一 已經 中國 地區 設立 生產 基地 業者 了解 緯創 印度 政府 提出 申請 未來 五年 斥資 億盧比 新台幣 擴建 旗下 位於 印度 生產 設施 印度 政府 可望 提供 緯創 億盧比', '台北 股市中央社 台北 日電 台北 股市 今天 收盤 漲幅 成交 金額 新台幣 加權 指數 開盤 金融股 指數 類股 漲跌幅 泥窯股 食品股 塑化股 紡織股 機電股 造紙股 營建股 金融股 張數 張數 成交 張數 收盤 下跌 持平 成交量 元大 滬深 富邦 欣興', '晚報 台股 強於 美股 反彈 收復開盤日 出刊 晚美 整體 呈現 弱勢 指數 漲少 跌多 殖利率 倒掛 投資人 心存 疑慮 另外 蘋果 春季 發表會 登場 內容 揭露 服務 包括 股價 意外 走弱 收跌 科技 道瓊 成分股 方面 波音 開拓 重工 漲幅 分別 上漲 美股 指數 漲幅 介於 台股 日止 跌勢 今日 開高 嘗試 挑戰 收復 關卡 早盤 來到 遇壓走出盤 走勢 台股 三王 大立光 漲幅 收漲 台積電 鴻海 不錯', '證交所 零股 交易 成交 股數 排行證券 代號 證券 名稱 成交 股數 成交 金額 成交價 鴻海 華映 緯創 華泰 中鋼 玉山金 中壽 第一 台新金 錸德 新光金 中信金 華南金 合庫金 永豐金 台積電 兆豐金 南茂 聯合 再生 台泥', '其他 緯創 現金 股利董事會 決議 日期 股東 配發 內容 盈餘 分配 現金 股利 法定 盈餘 公積 資本 公積 發放 現金 股東 配發 現金 股利 金額 盈餘 增資 配股 法定 盈餘 公積 資本 公積 轉增資 配股 股東 配股 總股數 其他 敘明 事項 普通 面額 欄位 新台幣 今年 現金 去年 現金 股票 算是 往年 持平 而且 現在 打算 現金 增資 參與 海外 存託憑證 發行 除了 公開 募資 私募', '緯創 今天強茂 昨天 忍不住 付出 代價 今天 下跌 今天 觀察 股利 業績 年減 買進 理由 只是 主力 突來 變動 強茂 公告 減資 股息 看來 凶多吉少 停損 賣出 代價', '緯創 今天實話 緯創 今天 表現 美股 大跌 我們 大盤 要是 今天 緯創 跌到 認為 正常 可是 緯創 拉到 今天 成交量 放大到 正面 看法', '緯創 今天說好 下跌', '緯創 今天今天 表現 代表 什麼 訊號 緯創法 說會 卡位 蘋果 發表會 利多 代工廠 營收 新高 獲利 跟不上', '緯創 今天緯創 的確 做頭 危機 化解 回補 洗掉', '緯創 今天股票 就是 籌碼戰 緯創 股票 今天 自營商 大買 外資 行庫 值得 注意 自營商 短線 倒出 因為 美股 走勢 不明 戰線 京元電 特殊 走勢 繼續 觀察 股息 觀察到 怎麼樣', '緯創 今天緯創配', '緯創 今天希望 股息 股利 不要 股票 股利', '緯創 今天去年 整體 獲利 不錯 第四季 表現 最佳 今天 卡位 應該 內線 消息 完全 現金 股利', '緯創 今天', '緯創 今天經濟日報 記者 吳凱中 即時 報導 代工廠 緯創 財報 淨利 年增 盈餘 緯創 同時 通過 去年 股利 政策 配發 現金 股利 以今 收盤價 計算 殖利率 緯創 去年 營收 年增 毛利率 年增 百分點 營益率 年增 毛利率 營益率 雙雙 成長 帶動 淨利 來到 年增 盈餘 優於 水準 緯創 年第 單季 合併 營收 季增 年減', '緯創 今天緯創 跌破 突破 雖然 有點 可惜 如果 意外 壓力 會在 如果 突破 後續 真的 海闊 天空', '財經 行事今日 國內外 財經 焦點 台灣 法說會 國泰金 揚智 凌華 緯創 美時 兆利 億豐 公布 工業 生產 公布 零售 銷售 日本 公布 所有 產業 活動 指數 歐洲 德國 公布 商業 景氣 資料 來源 富貴 贏家 鉅亨', '財報 緯軟 合併 財報 淨利公告 公司 第一 董事會 重大 決議 事項 事實 發生日 公司 名稱 緯創 軟體股份 有限 公司 公司 關係 輸入 公司 公司 公司 相互 持股 比例 適用 發生 緣由 通過 公司 七年度 個體 財務 報告 七年度 個體 財務 報告業 編製 完成 安侯 建業 聯合 會計師 事務所 陳雅琳 黃明宏 會計師 查核 單位 新台幣 營業 收入 營業 毛利 營業 淨利 稅前 淨利 淨利 稅後 基本 盈餘 通過 公司 七年度 合併', '緯軟 獲利公開 資訊 觀測站 重大 訊息 公告 緯軟 公告 公司 第一 董事會 重大 決議 事項 事實 發生日 公司 名稱 緯創 軟體股份 有限 公司 公司 關係 輸入 公司 子公司 公司 相互 持股 比例 適用 發生 緣由 通過 公司 年度 個體 財務 報告 七年度 個體 財務 報告 編製 完成 安侯 建業 聯合 會計師 事務所 陳雅琳 黃明宏 會計師 查核 單位 新台幣 營業 收入 營業 毛利 營業 淨利 稅前 淨利 淨利 稅後 基本 盈餘', '上市 融資 增加 排行名次 股票 名稱 增減 張數 收盤價 漲跌 融資 餘額 昨日 餘額 富邦 新光金 日馳 晶彩科 廣宇 元大 原油 揚智 智易 中壽 元大 滬深 利華 緯創 統一證 柏承 台中銀 味全 運錩 華通 國建', '上市 外資 買超 排行名次 股票 名稱 買賣 張數 收盤價 漲跌 友達 群創 永豐金 台積電 玉山金 開發金 南茂 台達電 日月光 投控 元大台灣 聯發科 南亞科 欣興 富邦 彩晶 南電 中鋼 緯創 旺宏 鴻海', '焦點 套牢 反壓 高檔 震盪 機會中央社 記者 吳家豪 台北 日電 投資人 全球 經濟 展望 感到 緊張 週五 美股 指數 全數 下挫 道瓊 工業 指數 大跌 法人 認為 台股 套牢 反壓 季線 乖離 拉大 高檔 震盪 機會 增溫 題材股 美股 道瓊 工業 指數 終場 下跌 收在 標準 普爾 指數 收在 科技股 為主 那斯達克 指數 下跌 由於 美國聯準會 台灣 央行 升息 外資 台股 期現貨 資金 行情 推升 台股', '台北 股市 股市 備忘股市 備忘錄 法說會 緯創 揚智 凌華 統一證 兆利 海外 說明會 日月光 投控 瑞昱 億豐 聚陽 台積電 可成 注意 股票 神盾 台原藥 晶彩科 達能 隆達 處置 股票 台原藥 恢復 融資 比率 融券 保證金 成數 中宇 新至陞 致振 立端 降低 融資 比率 一成 提高 融券 保證金 艾美 健策 尚立 融券 最後 回補 暫停 融券 賣出 龍巖 德微 崇越電 福邦證 迅德 新聞 來源 工商時報 方歆婷', '日盛 金控 晨訊 開口 縮小 短線 壓力 漸增日期 盤勢 分析 美債 殖利率 曲線 年期 期利差 出現 倒掛 以來 首見 市場 擔憂 經濟 衰退 指數 分別 下跌 由於 週五 歐美 股市 全面 重挫 台股 短線 形成 壓力 台股 上周五 早盤 高盤 開出 新高 來到 受到 外圍 市場 走跌 影響 指數 回到 平盤 附近 整理 終場 台積電 拉高 帶動 指數 上漲 作收 成交量 指數 群聯 世界 走強 帶動 指數 突破 年線 之後 目前', '上市 認購 權證 彙總表認購 美式 代號 簡稱 標的 數量 單位 存續 期間 履約價 認購 美式 高鐵 群益 台灣 高鐵 認購 美式 大立光 群益 大立光 認購 美式 亞光 群益 亞光 認購 美式 景碩 群益 景碩 認購 美式 臻鼎 群益 臻鼎 認購 美式 康友 群益 康友 個月 認售 歐式 滬深 群益 元大 滬深 認售 歐式 群益 認售', '財報 緯創 合併 財報 淨利 歸屬 業主公告 公司 第二 董事會 重大 決議 事項 事實 發生日 公司 名稱 緯創 資通 股份 有限 公司 公司 關係 輸入 公司 公司 公司 相互 持股 比例 適用 發生 緣由 通過 公司 七年度 個體 財務 報告 七年度 個體 財務 報告業 編製 完成 安侯 建業 聯合 會計師 事務所 呂莉莉 張嘉信 會計師 查核 單位 新台幣 銷貨 收入 淨額 營業 毛利 淨額 營業 利益 稅前 淨利 淨利 盈餘 通過 公司 七年度 合併', '股利 電腦 設備 緯創 配息緯創 董事會 決議 配息 編輯 整理 莊雅珍', '其他 小小 程式 選股大家 小弟 心血 整理 漲幅 資料 因為 小弟 看盤 知道 其他 已經 寫好 功能 整理 資料 因為 一般 看盤 軟體 今天 漲跌 如果 比如 累積 漲跌 股票 慢慢 股票 一點點 等到 看盤 軟體 看到 時候 已經 如果 累積 日數 漲跌幅 那麼 烏龜 成長 股票 現形 所以 小弟 下載 收盤價 跑出 收盤價', '緯創 今天緯創 終於 突破 來到 收盤 溫和 放量 正面 看法 功臣 應當 外資 持續 買進 大家 公司 公佈 什麼 時候 股東 常會 股息 股利 消息 京元電 今天 殺到 不過 因為 昨天 強茂 下跌 繼續 觀察 股息 強茂 昨天 忍不住 付出 代價 今天 下跌 今天 觀察 股利 業績 年減 買進 理由 只是 主力 錯過 股票 已經 只有 放棄 放棄 國光 股利', '緯創 今天近期 緩步 希望 緯創 去年 第四 獲利 可以 以上 股息 去年 一樣', '產業 北市 明辦 實習 就業 博覽會 釋逾 職缺台北市 就業 服務處 因應 年後 職潮 鼓勵 學生 體驗 職場 上午 下午 花博 爭艷館 舉行 實習 職場 體驗 實習 就業 博覽會 聯合 廠商 提供 正職 實習 機會 現場 立即 面試 提供 求職 多元 就業 機會 北市 服處 表示 就業 博覽會 住宿 餐飲業 製造業 批發 零售業 最多 其中 住宿 餐飲業 提供 正職 工作 機會 專業 科學 技術 服務業 正職 工作 平均 月薪 高達', '證交所 零股 交易 成交 股數 排行證券 代號 證券 名稱 成交 股數 成交 金額 成交價 鴻海 中壽 玉山金 台積電 中鋼 合庫金 第一 聯電 新金 永豐金 中信金 南茂 大同 錸德 緯創 元大金 聯合 再生 國泰金 華南金 日月光 投控', '緯創 軟體 去年 盈餘 歷年 新高中央社 記者 吳家豪 台北 日電 資訊 服務 廠商 緯軟 今天 召開 董事會 通過 財報 合併 營收 新台幣 年增 純益 年增 盈餘 歷年 緯軟 董事會 通過 配發 股利 股票 股利 召開 股東常會 提請 承認 今年 營收 獲利 展望 樂觀 保持 審慎 緯軟 營收 動能 主要 來自 中國大陸 台灣 成長 引擎 客戶 產業 集中於 網際 網路 金融 電信 製造業', '緯創 今天緯創 真的 容易 過關 來到 上攻 無力 收盤 京元電 繼續 觀察 強茂 忍不住 上漲 尾盤 買進 股利 業績 年減 買進 理由 只是 主力 錯過 股票 已經 只有 放棄 國光 南茂', '宏碁 目標價宏碁 未來 展望 宏碁 未來 發展 引擎 帶動 日報 中時電子報 宏碁 董事長 陳俊聖 出席 年度 供應商 大會 指出 宏碁 未來 發展 關鍵 在於 引擎 成長 短期 營運 目標 出貨 持續 倍增 電競 今年 美國 擠下 戴爾 奪市 第一 引擎 商用 市場 布局 宏碁 年度 供應商 大會 眾多 產業 大咖 出席 包括 英業達 董事長 卓桐華 友達 董事長 彭双浪 廣達 副董 梁次震 和碩 執行長 廖賜政 緯創 執行長 黃柏漙 到場 參與 陳俊聖', '上市 認購 權證 彙總表認購 美式 代號 簡稱 標的 數量 單位 存續 期間 履約價 認購 美式 貿聯 貿聯 認購 美式 認購 美式 敦南 凱基 認購 美式 訊芯 訊芯 認購 美式 認購 美式 美利達 凱基 美利達 個月 認售 歐式 國巨 凱基 國巨 個月 認售 歐式 旺宏 旺宏 個月 認售', '證交所 零股 交易 成交 股數 排行證券 代號 證券 名稱 成交 股數 成交 金額 成交價 鴻海 玉山金 南茂 中信金 中鋼 合庫金 第一 錸德 台積電 永豐金 華南金 漢唐 楠梓電 緯創 元大 台灣 旺宏 新光金 聯電 單位', '緯創 今天京元電 拉到 不過 碰到 問題 緯創 一樣 外資 投信 倒貨 目前 價位 只有 大量 守不住 不會 拉下 一點 緯創 真的 希望 突破 高點 放心 強茂 繼續 觀察 不會 止跌', '上市 外資 買超 排行名次 股票 名稱 買賣 張數 收盤價 漲跌 國泰金 新光金 玉山金 兆豐金 元大金 元大 台灣 開發金 大成鋼 緯創 富邦 聯電 鴻海 富邦金 永豐金 台灣高鐵 英業達 元大 原油 上海商銀 南帝', '產業 學用 接軌 聯盟 擴大 整合 校企 資源企業 主動 發起 學用 接軌 聯盟 友達 仁寶 緯創 號召 成立 以來 企業 學校 加入 整合 公司 豐富 培訓 實習 資源 提供 數位 課程 實習 職缺 促進 學校 教育 產業 需求 人才 能力 接軌 結合 企業 學校 力量 開創 產學 雙向 串聯 資源 共享 創新 合作 模式 友達 仁寶 緯創 共同 發起 學用 接軌 聯盟 邀集 國內 科技 製造 業者 會計師 事務 包括 康舒 智易 志聖 群光電 勤業 眾信', '緯創 參加 花旗 環球 證券 舉辦 電話 說明會公開 資訊 觀測站 重大 訊息 公告 緯創 公司 參加 花旗 環球 證券 舉辦 電話 說明會 符合 條款 第四 事實 發生日 召開 法人 說明會 日期 召開 法人 說明會 時間 召開 法人 說明會 地點 電話 會議 法人 說明會 訊息 公司 參加 花旗 環球 證券 舉辦 電話 說明會 說明 公司 業務 簡介 現況 說明 其他 敘明 事項 完整 財務 業務 資訊 公開 資訊 觀測站 法人 說明會 一覽表 法說會 項目 查閱', '個股 緯創 參加 花旗 環球 證券 舉辦 電話 說明會公司 參加 花旗 環球 證券 舉辦 電話 說明會 符合 條款 第四 事實 發生日 召開 法人 說明會 日期 召開 法人 說明會 時間 召開 法人 說明會 地點 電話 會議 法人 說明會 訊息 公司 參加 花旗 環球 證券 舉辦 電話 說明會 說明 公司 業務 簡介 現況 說明 其他 敘明 事項 完整 財務 業務 資訊 公開 資訊 觀測站 法人 說明會 一覽表 法說會 項目 查閱', '電腦 設備 緯創 電話法緯創 參加 花旗 環球 證券 舉辦 法說會 電話 會議 進行 編輯 整理 廖小蕎', '證交所 零股 交易 成交 股數 排行證券 代號 證券 名稱 成交 股數 成交 金額 成交價 鴻海 合庫金 玉山金 第一 華映 南茂 元大金 中鋼 華南金 中信金 聯電 國泰金 新金 義隆 企銀 新光金 緯創 永豐金 開發金 中華電 單位', '其他 台灣 集中 市場 法人 買賣 二十台灣 集中 市場 法人 買賣 二十 買超 代碼 名稱 外資 投信 自營商 合計 買賣 國泰金 新光金 元大 股息 玉山金 開發金 兆豐金 元大金 元大 原油 富邦 元大 台灣 大成鋼 緯創 聯電 富邦金 永豐金 台灣 高鐵 敦泰 中信金 英業達 代碼 名稱 外資 投信 自營商 合計 買賣 友達 元大 滬深 華航 富邦 宏達電 台泥 亞泥 元大 台灣 欣興 國泰中國', '法說會 近期 召開 國內 外法 說會 上市櫃 公司 一覽表近期 召開 國內 法說會 上市櫃 公司 時程 如下 可成 尚凡 中租 環球晶 晶技 巨路 聚積 立積 創意 時碩 工業 合庫金 羅麗芬 宅配通 淳安 神盾 慧洋 富邦媒 旭富 環宇 美琪瑪 勤誠 聚陽 耕興 世芯 晶相光 友訊 矽創 胡連 敦泰 萬潤 永豐金 明泰 勤誠 矽力 信邦 飛捷 聯電 鈺齊 緯創 波若威 聯亞 英業達 中華電 鼎炫 華碩 智原 富邦金 桂盟 亞德客 致茂 瑞昱 大江 聯詠', '上市 認購 權證 彙總表認購 美式 代號 簡稱 標的 數量 單位 存續 期間 履約價 認購 美式 嘉澤群 嘉澤 認購 美式 易華電 易華電 認售 歐式 台積電 群益 台積電 認購 美式 中小 群益 中小 認購 美式 富邦 認購 美式 亞泥 亞泥 個月 認購 美式 華夏 凱基 華夏 認購 美式 磊凱', '上市 外資 陸資 買超 排行單位 陸資 外自 外資 自營 陸資 代號 名稱 買進 賣出 買賣 買進 賣出 買賣 買賣 國泰金 新光金 玉山金 兆豐金 元大金 元大 台灣 開發金 大成鋼 緯創 富邦 聯電 鴻海 富邦金 永豐金 台灣 高鐵 英業達 元大 原油 上海商銀 南帝 外資 自營商 表示 外國 證券商 分支 機構 證券 自營商 專戶', '證交所 零股 交易 成交 股數 排行證券 代號 證券 名稱 成交 股數 成交 金額 成交價 鴻海 玉山金 華映 合庫金 中鋼 新金 第一 中信金 華南金 台中銀 錸德 國泰金 新光金 企銀 佳能 元大金 永豐金 富邦金 緯創 中華電 單位', '新聞 緯創 軟體 公告 相關 訊息 以利 投資人 區別瞭原文 連結 原文 內容 去年 增減 營業 收入 新台幣 百萬 淨利 新台幣 百萬 純益 新台幣 百萬 盈餘 最近 累計 去年 增減 營業 收入 新台幣 百萬 淨利 新台幣 百萬 稅後 純益 新台幣 百萬 盈餘 心得 評論 去年 三月 股價 左右 今日 收盤 收盤 新高 投顧 買進 現在 沒人', '緯創 今天緯創 大牛 外資 投信 自營商 行庫 散戶 只有 不用 看盤 無法 價差 因為 振幅 手續費 所以 還好 目前 實現 損益 二月 辦法 所以 出來 打工 那些 股票 小額 買賣 賠錢 刺激 強茂 賣出 今天 收盤 京元 電子 今天 大早 賣出 今天 收盤 膽量 還是 這樣 一些 花錢', '緯創 今天京元電 不錯 怎麼 不早 分享 一下', '緯創 今天緯穎金 雞母 抽籤 上市 緯創 機會', '緯創 今天京元電子 預定 股息 主力 要不要 上拉 今天 大量 波段 新高 明天 樂觀 主力 習性 大殺 然後 可惜 功力 缺欠 膽量 落袋 其他 下殺 股票 刺激', '上市 外資 排行名次 股票 名稱 買賣 張數 收盤價 漲跌 群創 中信金 和碩 富邦 緯創 新光金 富邦金 誠美材 智易 燿華 晶電 奇鋐 台橡 華新 正崴 統一 英業達 仁寶 明基材', '統一 證券 晨訊 年線 壓力 沉重 切勿 追高日期 盤勢 分析 年線 壓力 沉重 切勿 追高 選股 重於 選市 優先 昨日 盤勢 周五 亞洲 股市 投資 氣氛 轉佳 帶動 台股 以上 點至 開出 市場 買盤 力道 增強 權值 類股 台積電 台塑化 聯發科 和泰車 走勢 強勁 帶動 指數 緩步 攻堅 尾盤 富時 指數 調整 影響 爆出 大量 台股 指數 終場 長紅 作收 觀察 盤面 變化 類股 全數 上漲 其中 電子 金融 傳產 分別 族群 部份 汽車 油電 燃氣', '統一 證券 台股 延續 震盪 格局周五 亞洲 股市 投資 氣氛 轉佳 帶動 台股 以上 開出 市場 買盤 力道 增強 權值 類股 台積電 台塑化 聯發科 和泰車 走勢 強勁 帶動 指數 緩步 攻堅 尾盤 指數 調整 影響 爆出 大量 台股 指數 終場 長紅 作收 觀察 盤面 變化 類股 全數 上漲 其中 電子 金融 傳產 分別 上漲 族群 部份 汽車 油電 燃氣 造紙類 走勢 分別 上漲 終場 指數 周線以紅 作收 成交量', '法說會 近期 召開 國內 外法 說會 上市櫃 公司 一覽表近期 召開 國內 法說會 之上 公司 時程 如下 可成 精測 中磊 瑞昱 台達電 日興 建準 安成 晶技 儒鴻 研華 創意 易華電 正文 嘉澤 錸德 生華科 豐祥 寶雅 景碩 統一 尚凡 中租 環球晶 晶技 巨路 聚積 立積 創意 時碩 工業 合庫金 羅麗芬 敦泰 永豐金 明泰 勤誠 矽力 信邦 飛捷 聯電 鈺齊 緯創 波若威 聯亞 亞德客 致茂 瑞昱 大江 精測 南茂 台達電 研華 矽力', '科技 資安 大會 全景 軟體 重點 訴求緯創 集團 旗下 資訊 安全 軟體 公司 全景 軟體 身份 證認 以及 手寫 簽名 應用 重點 訴求 參與 明天 開展 資安大會 資安大會 資訊 全界 盛會 軟體 台灣 資安館展 展出 自主 研發 解決 方案 身份 證認 以及 手寫 簽名 應用 主軸 包括 具備 生物 認證 機制 多樣化 身份 認證 方案 簡便 快捷 手寫 簽名 系統 以及 進行 身份 識別 安全 運算 電子 憑證 智慧卡 全景 智慧卡 軟體 期望 產業 提供', '請益 持股 滿手虧滿手 請益 緯創 美律 中磊 鴻海 智易 請問 哪些 股性 未來性 不錯 哪些 可以 留下來 高手 一下 漲跌 分析 預測 性質 產業 未來性', '緯創 緯穎 事件 台灣 公司 治理其實 台灣 上市 公司 這樣 沒有 另外 緯穎 因為 興櫃 股王 關係 所以 注意 股東 就是 可憐', '緯創 緯穎 事件 台灣 公司 治理請問 關於 緯穎 股票 申購 問題 看法 值得 發生 開盤價 跌破 承銷價', '個人 研究 觀察 記錄 宏碁 轉型 路篇昨天 和碩 報出來 中美 貿易戰 美金 美金 是否 影響 電子 代工 宏碁 華碩 微星 由此 可以 看出 一些 端倪 大盤 今天 鴻海 仁寶 股價 緯創 股價 廣達 股價 和碩 股價 昨天 財報 出來 看起來 電子 代工 五哥 大盤 大漲 表現 相對 弱勢 部份 原因 外資群 法人 預期性 和碩 如果 鴻海 也許 受到 影響 以下 去年 電子 五哥 分析 其實 方法', '緯創 參加 美林 證券 舉辦 法說會公開 資訊 觀測站 重大 訊息 公告 緯創 公司 參加 美林證券 舉辦 法人 說明會 符合 條款 第四 事實 發生日 召開 法人 說明會 日期 召開 法人 說明會 時間 召開 法人 說明會 地點 台北 國際 飯店 法人 說明會 訊息 公司 美林證券 邀請 台北 參加 法人 說明會 說明 公司 業務 簡介 現況 說明 其他 敘明 事項 完整 財務 業務 資訊 公開 資訊 觀測站 法人 說明會 一覽表 法說會 項目 查閱', '電腦 設備 緯創 邀法緯創 參加 美林 證券 舉辦 法人 說明會 地點 台北 國際 飯店 說明 公司 業務 簡介 現況 說明 編輯 整理 葉時安', '上市 外資 陸資 排行單位 陸資 外自 外資 自營 陸資 代號 名稱 買進 賣出 買賣 買進 賣出 買賣 買賣 群創 中信金 和碩 富邦 緯創 新光金 富邦金 誠美材 智易 晶電 華新 正崴 統一 英業達 仁寶 基材 外資 自營商 表示 外國 證券商 分支 機構 證券 自營商 專戶', '上市 認購 權證 彙總表認購 美式 代號 簡稱 標的 數量 單位 存續 期間 履約價 認購 美式 滬深 日盛 元大 滬深 認購 美式 統一 元大 台灣 認購 美式 中小 統一 群益 中小 認購 美式 統一 認購 美式 華新科 統一 華新科 個月 認購 美式 高鐵 統一 台灣 高鐵 個月 認購 美式 台勝科 統一 台勝科 個月 認售 歐式 華新科', '其他 台灣 集中 市場 法人 買賣 超前台灣 集中 市場 法人 買賣 代碼 名稱 外資 投信 自營商 合計 買賣 中信金 元大 原油 永豐金 京元電子 元大金 台積電 光寶科 兆豐金 合庫金 國泰中國 中華電 第一 中租 緯創 表科 中鋼 上海商銀 國際 中橡 元大 股息 寶成 臻鼎 大同 華邦電 元大 石油 台達電 華南金 力山 東元 開發金 代碼 名稱 外資 投信 自營商 合計 買賣 富邦 元大 滬深', '其他 加權 股價 指數 成分股 市值 比重今天 區間 這麼 失智 打單 明天 周三 莊家 逞凶 價差 單貼 感覺 死掉 默默 祈禱 大家 賺錢 以下 資料 個人 試算 可能 有誤 參考 一切 資料 證券 交易 公布 大權 重股 影響 點數 排行 代碼 商品 收盤 權重 變動 元時 影響 加權 點數 加權 指數 收盤 台積電 台塑化 鴻海 中華電 台塑 台化 南亞 國泰金 大立光 富邦金 統一 中信金 中鋼 台達電 聯發科 台灣 兆豐金 統一', '緯創 今天去年 第四季 獲利 配息 往年 一樣 日尾牙 期待 今年 風向球 加油', '緯創 今天昨天 突破 放心', '緯創 今天應該 就是 聰明 知道 趨勢 散戶 反倒 認為 跌回 逢低 買進', '上市 外資 陸資 買超 排行單位 陸資 外自 外資 自營 陸資 代號 名稱 買進 賣出 買賣 買進 賣出 買賣 買賣 中信金 永豐金 新金 元大金 兆豐金 光寶科 第一 台積電 合庫金 中華電 中租 京元電子 中鋼 上海商銀 緯創 聯電 大同 國際 寶成 外資 自營商 表示 外國 證券商 分支 機構 證券 自營商 專戶', '新聞 超車 蘋果 台廠 擔憂 傷害原文 連結 原文 內容 超車 蘋果 台廠 擔憂 傷害 中央社 記者 江明晏 台北 日電 今年 有望 超車 蘋果 台灣 許多 科技廠 蘋果 關係 密切 客戶 重要性 俱增 市場 普遍 認為 銷量 下滑 台廠 還是 不利 蘋果 改變 策略 挽救 頹勢 智慧 手機 市場 受到 中美 貿易戰 影響 不確定 因素 增加 全球 排名 預估 今年 三星 冠軍 頭銜 超越 蘋果 成為 全球 第二 手機 品牌廠 蘋果 下滑', '其他 加權 股價 指數 成分股 市值 比重今天 偷偷 站上 雖然 以往 明天 樂觀 隨緣 隨緣 以下 資料 個人 試算 可能 有誤 參考 一切 資料 證券 交易 公布 權重股 影響 點數 排行 代碼 商品 收盤 權重 變動 元時 影響 加權 點數 加權 指數 收盤 台積電 台塑 鴻海 中華電 台塑 台化 南亞 國泰金 大立光 富邦金 統一 台達電 中信金 中鋼 聯發科 台灣 兆豐金 統一 日月光 第一 遠傳 玉山金 合庫金 廣達', '上市 融資 減少 排行名次 股票 名稱 增減 張數 收盤價 漲跌 融資 餘額 昨日 餘額 元大 滬深 國泰中國 富邦 証正 欣興 晶電 元大 原油 台中銀 玉晶光 群創 智邦 華通 華邦電 台泥 元大金 緯創 瀚宇博 華新科 大同 亞光 強茂', '台北 股市 殖利率股 外資 搶進外資 以來 回頭 買超 台股 除了 鎖定 大型 權值股 高殖利率 吸引 長線 外資 布局 現階段 外資 搶進 殖利率股 元大金 群創 聯電 友達 台股 權王 台積電 日法 釋出 今年 合併 營收 超過 訊息 台積電 股價 利空 終場 收在 小跌 台股 站回 點達 點為 近期 高點 主因 台積電 殖利率 題材 發酵 支撐 股價 日盛 投顧 總經理 李秀利 台積電 去年 盈餘', '上市 外資 買超 排行名次 股票 名稱 買賣 張數 收盤價 漲跌 群創 合庫金 聯電 華南金 元大金 華邦電 第一 富邦 玉山金 中鋼 永豐金 大同 欣興 中環 開發金 友達 國泰中國 緯創 元大 滬深 聯發科', '熱門 族群 外資 雲端 伺服器 業者 營收 降到 個位數外資 指出 過去 雲端 伺服器 相關 業者 資本 支出 大幅 擴增 今年 硬體 升及 腳步 可能 放慢 此外 中美 貿易戰 間接 衝擊 產業 擴張 最後 就是 雖然 英特爾 去年 發布 處理器 下游 業者 似乎 期待 今年 奈米 處理器 問世 今年 台灣 雲端 伺服器 業者 營收 成長 可能 放緩 去年 平均 年增 下滑 外資 給予 廣達 英業達 緯創 中立 評等 英特爾 去年 發布 系列 以及 處理', '科技部 延攬 企業 合作 夥伴 新創中央社 記者 潘姿羽 台北 日電 科技部 找來 強力 盟友 今天 宣布 正式 成為 科技部 位於 台北 巨蛋 國際 青年 創業 基地 企業 合作 夥伴 有助於 加強 台灣 矽谷 科技 創新 鏈結 科技部 政務次 長許 進在 展落幕 除了 率領 台灣 科技 新創 團隊 抵達 舊金山 矽谷 舉行 相關 活動 舊金山 時間 下午 參訪 舊金山 總部 前瞻 科技中心 宣布 成為 企業 合作 夥伴 許有 表示 舊金山 全球 獨角 獸重鎮 科技部 榮幸', '證交所 零股 交易 成交 股數 排行證券 代號 證券 名稱 成交 股數 成交 金額 成交價 義隆 鴻海 玉山金 合庫金 表科 華映 新金 中鋼 中信金 元大金 元大 台灣 台中銀 華南金 企銀 台積電 中華電 第一 緯創 國泰金 錸德 單位', '其他 台灣 集中 市場 法人 買賣 超前台灣 集中 市場 法人 買賣 超前 代碼 名稱 外資 投信 自營商 合計 買賣 元大 滬深 元大 原油 富邦 群創 國泰中國 合庫金 聯電 華南金 欣興 華邦電 元大金 第一 玉山金 中環 中鋼 永豐金 國際 中橡 友達 元大 台灣 大同 元大 股息 開發金 義隆 聯發科 緯創 台泥 晶電 鴻海 台灣 高鐵 玉晶光 代碼 名稱 外資 投信 自營商 合計 買賣 元大 台灣', '新聞 庫克 坦承 蘋果 遭遇 瓶頸 減少 招聘酸民 看到 蘋果 衰洨 大舉 進攻 覺得 好笑 年第 蘋果 拿下 全球 手機 獲利 居次 廠商 起來 文青愛 科技 宅推 根本 車尾燈 看不到 手機 裡面 保值 就是 蘋果 新機 二手 網購 知道 盤商 蘋果 其他 機子 根本 定價 信用卡 優惠 加上 信用卡 本身 回饋 覺得 因為 蘋果 目標 客群 銷售 趨緩 正常 台灣', '緯創 今天希望 能夠 緩步 半年線 只是 最近 突破 以上', '緯創 今天今年 過年 還是 去年 過年 就是 時候 建議 親戚 緯創 當時 據說 緯創 印度 蘋果 供應 股利 大方 但是 品管 問題 新聞 幾乎 當時 親戚 說看 要不要 目前 股利 應該 沒什麼 問題', '經濟日 報晨訊跌破 眼鏡 台積 營收 大減 台灣 房市 掀推案 狂潮 洗錢 防制 簡政便民 美中 貿易 戰露 曙光 春節 可望 共識 陸資 違規 罰罰 同案 爭議 陸企 從事 房地 產業 大同 資產 主管 機關 喊卡 壽險 活用 準備金 碰軟 釘子 華映 副總 鍾兆其 請辭 蘋果 風暴 來襲 手機鏈 警報 不動 蘋果 縮減 招聘 台積 去年 每天 賺近 台積 資本 支出 維持 百億 美元 外資 台積 股價 回檔 華為 中興 恐斷鏈 衝擊 台廠', '上市 外資 買超 排行名次 股票 名稱 買賣 張數 收盤價 漲跌 元大金 群創 旺宏 國際 中橡 百和 中鋼 鴻海 友達 富邦 証正 緯創 聯電 華邦電 國喬 台積電 廣達 中環 光寶科 京元電子 台灣高鐵 台光電', '上市 外資 陸資 買超 排行單位 陸資 外自 外資 自營 陸資 代號 名稱 買進 賣出 買賣 買進 賣出 買賣 買賣 群創 合庫金 聯電 華南金 元大金 華邦電 第一 富邦 玉山金 中鋼 永豐金 大同 欣興 中環 開發金 友達 國泰中國 緯創 元大 滬深 聯發科 外資 營商 表示 外國 證券商 分支 機構 證券 自營商 專戶', '證交所 零股 交易 成交 股數 排行證券 代號 證券 名稱 成交 股數 成交 金額 成交價 鴻海 義隆 華映 合庫金 第一 國際 玉山金 企銀 奇力 元大金 中信金 華南金 華泰 中鋼 台積電 新光金 國泰金 緯創 錸德 單位', '標的 緯創標的 緯創 分類 分析 正文 單純 一些 過年 時候 茶品 不然 可以 拿來 遊戲 禮包 不錯 注意 紅棒 直接 回補 跳空 缺口 強勢股 基本 指標 回測 帶量 上攻 站上 代表 法人 主力 確立 買回 外資 集中 港商 麥格理 麥格理 應該 籌碼 大人 籌碼 價格 持平 技術 轉正 均線 扣底', '其他 台灣 集中 市場 法人 買賣 超前台灣 集中 市場 法人 買賣 代碼 名稱 外資 投信 自營商 合計 買賣 元大 滬深 元大金 富邦 群創 國際 中橡 元大 原油 旺宏 國泰中國 百和 元大 台灣 廣達 國喬 中鋼 友達 緯創 鴻海 聯電 中環 華邦電 光寶科 台光電 台積電 元大 股息 泰鼎 富邦 上証 華南金 台灣 高鐵 永豐金 英業達 中租 代碼 名稱 外資 投信 自營商 合計 買賣 富邦 玉山金', '其他 加權 股價 指數 成分股 市值 比重今天 以為 死魚 所以 開心 放假 結果 發現 錯過 行情 明天 市場 怎麼 反映 台積電 偷偷 一下 台積 比重 高達 所以 不要 時候 摩台 漲跌 怎樣 怎樣 貿然 操作 台期 以下 資料 個人 試算 可能 有誤 參考 一切 資料 證券 交易 公布 為準 權重股 影響 點數 排行 代碼 商品 收盤 權重 變動 元時 影響 加權 點數 加權 指數 收盤 台積電 台塑化 鴻海 中華電 台塑 台化 南亞 國泰金 大立光 富邦金', '要聞 美科技 回神 概念股 振奮美國 尖牙股 財報 隱憂 齊步 強彈 外資 出現 回補 買盤 激勵 台廠 相關 概念股 奮起 廣達 金像電 獲法人 加碼 敲進 股價 投資 專家 強調 接棒 科技股 跌深 反彈 行情 可期 不管 美國 尖牙股 臉書 蘋果 亞馬遜 網飛 谷哥 加上 微軟 美國 科技股 緩步 上攻 收盤 同步勁揚 以上 帶動 台廠 相關 概念股 跌深 反彈 國泰證期 顧問處 協理 簡伯儀 指出 全球 股市 目前 架構 都處', '電腦 設備 緯創 整合 駕車 運行 數據 切入 智慧 交通 行動 服務緯創 參與 豐榮 汽車 客運 台灣 佳光電訊 星瑞林 鼎漢 國際 工程 顧問 國立 台灣大學 合組 台灣 駕車 旗艦 團隊 共同 出席 逢甲大學 舉辦 台中 水湳 智慧城 駕車 運行 計畫 成果 發表會 緯創 車路 整合 服務 結合 駕車 行車 控制 感知 系統 整合 提供 數據 分析 中控 示範 平台 結合 提供 自駕 數據 收集 服務 智慧 交通 行動 服務 引入 技術 人工 智慧 結合 物聯網 智慧 城市 首要 議題 緯創 資通', '電子 零件 業績 股息 優群 衝鋒連接器 優群 去年 盈餘 創下 歷年 新高 由於 公司 取得 認證 預估 今年 出貨 可望 放量 營收 比重 可望 拉升 以上 出貨 穩定 成長 優群 預估 今年 業績 可望 去年 位數 成長 獲利 可望 挑戰 歷史 新高 加上 公司 股息 題材 今天 盤中 股價 創下 以後 高價 合併 營收 成長 公司 稅後 盈餘 成長 盈餘 累計 合併 營收 成長', '緯創 整合 車路 攜手 市府 推花博 自駕車中央社 記者 潘智義 台北 日電 看好 駕車 市場 前景 緯創 資通 今天 表示 台中 市政府 合作 提供 路雲 整合 服務 台中 花博 園區 推出 水湳 智慧城 駕車 運行 活動 超過 試乘 緯創 資通 指出 台中 政府 合作 駕車 營運 活動 源自 參與 豐榮 汽車 客運 台灣佳光電 瑞林 鼎漢國際 工程 顧問 國立 臺灣大學 合組 台灣 駕車 旗艦 團隊 緯創說 提供 車路 整合 服務 結合 自駕車 行車 控制與感', '上市 外資 陸資 買超 排行單位 陸資 外自 外資 自營 陸資 代號 名稱 買進 賣出 買賣 買進 賣出 買賣 買賣 元大金 群創 旺宏 國際 百和 中鋼 鴻海 友達 富邦 緯創 聯電 華邦電 國喬 台積電 廣達 中環 光寶科 京元電子 台灣高鐵 台光電 外資 自營商 表示 外國 證券商 分支 機構 證券 自營商 專戶', '其他 加權 股價 指數 成分股 市值 比重今天 大膽 賭徒 午餐 撿到 摳真 溫馨 不知不覺 已經 過半 回來 本人 研究生 知道 資料 沒有 那麼 需要 歡迎 推文 一點 建議 以下 資料 個人 試算 可能 有誤 參考 一切 資料 證券 交易 公布 大權 重股 影響 點數 排行 代碼 商品 收盤 權重 變動 元時 影響 加權 點數 加權 指數 收盤 台積電 台塑化 鴻海 中華電 台塑 台化 南亞 國泰金 大立光 富邦金 統一 中鋼 中信', '緯創 今天新聞 預測 年度 財報 應該 新高 預估 分析 預測 營收 營收 毛利 毛利率 營業費 預測 營益率', '緯創 今天謝謝 分享 不過 排版 看無', '緯創 今天放開 財報 研究 你們 投資 理財 效率 絕對 很多', '緯創 今天月大 技術面 建議 目前 日線', '上市 自營商 排行股票 名稱 買進 張數 賣出 張數 買賣 張數 富邦 元大 台灣 富邦 元大 台灣 元大 金融 元大 華新 富邦 大成鋼 元大 原油 友訊 富邦 遠東 彩晶 榮化 緯創 元大道瓊 白銀 鴻海', '新聞 第二 砍單 摩根 大通 台廠原文 連結 原文 內容 科技股 利空 外資 摩根大通 發布 台灣 供應鏈 報告 內容 包括 蘋概 第二 砍單 半導體 庫存 調整 不如 預期 產業 報告 台積電 台廠 目標 價遭 下調 個股 報告 其中 代工大廠 和碩 同步 降評 劣於 大盤 摩根大通 報告 科技 產業 研究部 主管 哈戈谷 負責 產業 分析 旗下 分析師 發表 砍價 報告 包括 台股 權王 台積電 目標價 降到 鴻海 降到 日月光', '新聞 蘋果 麻煩 銷售量 下滑第一 蘋果 當年 老路 銷售 產品 超過 大多數 消費者 預算 舉例 比起 超跑 品牌 就是 超級 爽賺 因為 質感 第二 賈伯斯 簡化 產品線 策略 成功 庫克 雖然 機海 但是 已經 機河 第三 全球 供應鏈 能力 庫克 基礎 供應鏈 賈伯斯 無敵 天下 目前 知道 原因 為什麼 蘋果 自我 毀滅 供應鏈 第四 建立 技術 市場 壁壘 賈伯斯 戰略 蘋果 壓制 市場 主招式 供應鏈', '其他 加權 股價 指數 成分股 市值 比重今天盤 超慢 超鳥 早早 離開 不過 可以 加油 以下 資料 個人 試算 可能 有誤 參考 一切 資料 證券 交易 公布 權重股 影響 點數 排行 代碼 商品 收盤 權重 變動 元時 影響 加權 點數 加權 指數 收盤 台積電 台塑 鴻海 中華電 台塑 台化 南亞 國泰金 大立光 富邦金 統一 中信金 中鋼 台灣 台達電 聯發科 兆豐金 統一 第一 日月 光投 遠傳 合庫金 玉山金 華南金', '鴻海 一點 看法聯合報 財經 新聞 外資 摩根大通 發布 台灣 供應鏈 報告 內容 包括 蘋概股 迎來 第二 砍單 半導體庫 調整 不如 預期 產業 報告 台積電 台廠 目標價 下調 報告 其中 代工 大廠 同步 降評至 劣於 大盤 摩根大通 報告 科技 產業 研究部 主管 哈戈谷 負責 產業 分析 接力 旗下 分析師 發表 砍價 報告 包括 台股 權王 台積電 目標價 降到 鴻海 日月光 投控 降到 聯電 降至', '熱門 族群 族群 吸睛 檔法人台股 權值股 領軍 半導體 電子股 聯袂 齊揚 加權 指數 眾望 歸收 復季線 可謂 遲來 元月 行情 落幕 科技業 春意 包括 電動車 電子 市場 關注 包括 頎邦 檔本益 小於 上周 獲法人 挺進 後續 行情 發揮 空間 副總 陳冠升 指出 去年 月底 美股 大跌 台股 內資 奮起 作帳 行情 訴求 建置 網通 散熱 生技股 股價 大漲 選股 邏輯 偏重 成長 趨勢 包括 電動車', '緯創 今天去年 瞬息萬變 可以 營收 成長 齊格 期待 獲利 一樣 可以 成長 期許 今年 明年 穩定 獲利 加油', '上市 融資 增加 排行名次 股票 名稱 增減 張數 收盤價 漲跌 融資 餘額 昨日 餘額 富邦 合勤 光磊 大同 燿華 宏達電 富邦 國泰中國 亞光 元大 原油 大亞 華新 勤美 國喬 台泥 益航 緯創 全新 義隆 敦泰', '去年 上市櫃 營收上市 櫃公司 營收 全數 公布 營收 高達 刷新 歷史 新高 營收 兆元 年減 營收 新高 家數 下滑 法人 表示 中美 貿易 衝突 蘋果 訂單 下滑 因素 上市櫃 營運 強轉弱 全球 景氣自 第四季 高峰 反轉 上市 櫃公司 面臨 傳統 淡季 蘋果 終端 產品 銷售 不振 影響 營收 金額 兆元 月減 年減 表現 人意 營收 高達 兆元 創下 歷史 新高 法人 認為 全球 景氣 持續', '熱門 族群 拉貨 強勁 廣達 緯創 上季 高歌受惠 年第 蘋果 相關 新品 拉貨 力道 強勁 廣達 和碩 單季 營運 雙雙 高峰 年度 營收 年增 兆元 以上 大關 緯創 產品線 出貨 動能 大幅 優於 預期 帶動 拉抬 營收 新高 受到 蘋果 新款 新一代 拉貨 動能 增溫 帶動 廣達 營收 站上 千億 拉抬 單季 合併 營收 季增 年增 幅度 超過 累計 廣達 年度 營收 表現 持平 年微幅 增長 其中 筆電 單季 出貨 表現 平穩 單月 出貨', '台北 股市 去年 營收 電子業上市 營收 公司 不變 名次 變動 台積電 廣達 對調 國泰金 大聯大 英業達 受到 關注 去年 毛利率 毛利率 毛三 相當 微利 台新 投顧 副總 黃文清 表示 台積電 毛利率 台塑 鴻海 險守 之上 其他 之間 去年 營收 鴻海 和碩 台積電 廣達 仁寶 緯創 台塑化 大聯大 英業達', '外資 外資 降評 台股 減碼 今年 企業 獲利 年增港系 外資 出具 台股 策略 報告 降評 台股 中立 降至 減碼 年底 目標價 下修 港系 外資 認為 除了 全球 貿易 磨擦 升溫 推動 企業 獲利 動能 顯不足 台股 評價 相對 其他 市場 還是 唯一 吸引力 平均 股票 殖利率 亞洲 日本 平均 殖利率 亞洲 日本 國家 外資點 加碼 國家 中國 南韓 新加破 泰國 港系 外資 點出 今年 台股 企業 獲利 年增 僅約 大幅 低於 過去 年均值 港系 外資 認為', '個股 筆電 大廠 上季 業績 廣達 和碩 仁寶 寫下 新高筆電 大廠 業績 全數 出爐 龍頭 廣達 最為 突出 第四 單月 業績 首度 千億 大關 單季 營收 一舉 突破 千億 季增 年增 歷史 新高 推升 營收 增率 正達 了解 廣達 上季 業績 突出 主要 因為 蘋果 出貨 筆電 機種 效應 儘管 蘋果 近期 下修 財測 廣達 沒有 使得 業績 表現 相對 穩健 此外 英業達 營收 來到 月增 年增 表現 穩健 上季 營收 季減 年增 累計 營收', '上市櫃公司 去年 營收 新高 破兆中央社 記者 韓婷婷 台北 日電 上市櫃公司 去年 營收 出爐 成績單 確定 根據 統計 去年 上市 公司 合併 營收 新台幣 兆元 年增 歷史 其中 包括 鴻海 和碩 台積電 廣達 去年 營收 兆元 尤以 鴻海 兆元 傲視 台股 根據 統計 去年 上市 公司 鴻海 自結 單月 營收 亮麗 成績 高居 排行榜 首位 老二 老三 廣達 維持 以上 規模 如果 排上 需要', '新聞 聯盟 成立 中科院 軍通 技術原文 連結 原文 內容 聯盟 中科院 舉辦 成立 大會 聯盟 代言人 施振榮 國家 法人 院長 杲中興 號召 國內 產業 聯手 國際盃 施振榮 杲中興 號召 國內 產業 聯手 國際盃 聯盟 成立 全波 科技 總經理 童玉瑋 說明 成立 宗旨 分享 搶攻 全球 物聯網 傳輸 商機 短中 長程 目標 中科院 軍民 通用 技術 釋商 年度 亮點 推選 中興 聯盟 主席 童玉瑋 指出 美國 大廠 擁有 過去 幾年 物聯網', '其他 加權 股價 指數 成分股 市值 比重高低差 超級 魚盤 持股 怎麼 嗚嗚 最近 採樣股 變化 大家 看看 以下 資料 個人 試算 可能 有誤 參考 一切 資料 證券 交易 公布 重股 影響 點數 排行 代碼 商品 收盤 權重 變動 元時 影響 加權 點數 加權 指數 收盤 台積電 台塑 鴻海 中華電 台塑 台化 南亞 國泰金 富邦金 大立光 統一 中信金 中鋼 台達電 台灣 聯發科 兆豐金 統一 第一 日月光投', '緯創 今天大家 營收 公布 營收 增加 營收 去年 增加 勉強 接受', '鴻海 一點 看法其實 去年 代工廠 鴻海 廣達 仁寶 和碩 緯創 英業達 營收 全部 歷史 新高 結果 現在 股價 高峰 時期', '緯創 今天捲爸 我們 繼續 看下去 希望 今年', '業績 資訊 服務 緯軟 去年 營收 改寫 新高服務 廠商 緯創 軟體 業績 表現 強勁 去年 營收 月增 寫下 單月 歷史 新猷 緯軟 去年 單月 歷史 新高 展望 緯軟 執行長 蕭清志 表示 受到 科技 興起 帶動 預期 全球 企業 需求 持續 強勁 緯軟 營運 去年 樂觀 緯軟 去年 第四季 營收 上季 成長 前年 成長 寫下 單季 歷史 新高 累計 緯軟 營收 年增 同樣 創下 歷年 紀錄 獲利 角度 緯軟 去年 淨利', '緯軟 今年 樂觀 審慎 股價 漲逾中央社 記者 吳家豪 台北 日電 服務 廠商 緯創 軟體 展望 樂觀 審慎 處理 業務 客戶 持續 部分 服務 委外 緯軟 今天 價盤 新台幣 開盤 分鐘 成交量 超過 緯軟 自結 去年 營收 新台幣 營收 年增 投顧 表示 緯軟 營運 提供 服務 軟體 開發 銷售 目前 員工 人數 超過 大陸 台灣 日本 服務 內容 圍繞 人工 智慧 大數據 金融', '業績 電腦 設備 緯創 去年 營收 新高 桌機 出貨 表現緯創 合併 營收 增加 年增 第四季 單季 營收 去年 季度 高點 累計 去年 營收 歷史 緯創 去年 出貨 持平 伺服器 出貨 增加 桌機 出貨 增加 出貨 持平 監視器 出貨 增加 去年 全年 緯創 出貨 伺服器 出貨 桌機 出貨 出貨 監視器 出貨 去年 產品 出貨 桌機', '筆電 代工廠 營收 創高 廣達 碩續中央社 記者 韋樞 台北 日電 筆電 代工 大廠 廣達 和碩 緯創 今天 公布 去年 合併 營收 大廠 紀錄 廣達 突破 和碩 營收 緯創 桌機 帶動 營收 增長 廣達 合併 營收 新台幣 年增 營收 年增 受惠 伺服器 亮麗 出貨 營收 歷史 新高 連續 合併 營收 破元 廣達 出貨 出貨 雖然 年減逾', '其他 加權 股價 指數 成分股 市值 比重昨天 問題 資料 怎麼 加權 指數 不過 加權 指數 自己 到底 今天 下空單 然後 位置 然後 然後 不過 分享 資訊 純粹 因為 本來 期交 所有 後來 沒有 剛好 就來 分享 數據 資料 到處 有心 多少 多少 怎麼 還是 個人 以下 資料 個人 試算 可能 有誤 參考 一切 資料 證券', '緯創 子公司 昆山緯隆 電腦 技術 服務 取得 人民幣 理財產品 人民幣公開 資訊 觀測 重大 訊息 公告 緯創 代子 公司 昆山緯隆 電腦 技術 服務 有限 公司 公告 取得 理財 產品 名稱 性質 特別 標明 特別 約定 發行 條件 股息率 中信 理財 共贏利率 結購 人民幣 結購性 存款 事實 發生日 交易 數量 單位 價格 交易 總金額 取得 總金額 人民幣 交易 相對人 公司 關係 交易 相對人 自然人 公司 關係 人者 揭露 姓名 中信銀行 公司 關係 交易 相對 關係人', '全球 會展 重心 位移 黃志芳 台灣 掌握 商機中央社 記者 江明晏 拉斯維加斯 日電 會展 重心 亞洲 經濟 崛起板 位移 貿協 董事長 黃志芳 表示 傳統 上來 概念 停辦 漢諾威 技術 台灣 電腦展 產品 台灣 會展 撐起 概念 技術 產品 美國 消費性 電子展 登場 中華民國 貿易 發展協會 董事長 黃志芳 率領 台灣 精品 團隊 參展 今天 開展 舉辦 台灣 精品 發表會 現場 訊連科技 淨科技 群創 光電 雷虎 科技 家台廠 代表 發表 新品 技術', '資訊 服務 緯軟明 邀法緯創 軟體 凱基 證券 邀請 參加 舉辦 法人 座談會 說明 公司 財務 營運 狀況 地點 台北市 中山區 明水路 編輯 整理 郭亮均', '營收 緯軟 營收 續創 新高 月增率 年增率緯創 軟體 自結 營收 元續 新高 相較 增加 金額 增加 相較 增加 金額 增加 累計 營收 相較 增加 金額 同期 增加', '其他 加權 股價 指數 成分股 市值 比重心情 今天 大盤 真的 狠狠 修正 電子股 不過 起來 總是 有些 台積電 如果 大盤 剩下 說法 其實 有點 瑕疵 因為 權重 說法 適用 隔天 台積電 到達 價位 台股 跌幅 限制 所以 就算 台積電 激烈 方式 到達 價位 實際 大盤 影響 隨著 市值 減少 降低 影響 當然 台積電 作為 第一 權值 就算 市值 減半 大盤 還是 舉足 輕重 影響 總之 還是 大家 順利', '上市 自營商 排行名次 股票 名稱 買賣 張數 收盤價 漲跌 買進 張數 賣出 張數 元大 台灣 元大 滬深 新光金 富邦 國泰中國 國泰中國 富邦 臺灣 加權 彩晶 國泰 臺灣 旺宏 欣興 台積電 友達 中信金 兆豐金 佳世達 仁寶 台泥 緯創 群創', '台股 蘋果 自爆 美股 血洗 台股 難逃 殺機 難守國際 情勢 台股 指數 表現 不佳 蘋果 財測 利空 襲擊 終場 跌幅 今晨 美股 指數 血洗 跌幅 沉重 不等 台股 今天 殺機 法人 昨天 同步 賣超 外資 大賣 投信 賣超 自營商 買超 合計 法人 賣超 外資 多單 減少 外資 紅盤 以來 大幅 滅碼 外資 大逃殺 出現 匯雙殺 新台幣 出現重貶 後續 如果 美股 外資 賣壓 可能 持續 蘋果 在中', '上櫃 認購 權證 彙總表認購 美式 代號 簡稱 標的 數量 單位 存續 期間 履約價 認購 美式 第一 認購 美式 智崴 國票 智崴 認購 美式 緯軟 國票 緯創 認售 歐式 昂寶 國票 昂寶 認購 歐式 智崴 智崴 認購 美式 耕興 康和 耕興 認購 美式 田國泰 認購 美式 國泰 認購 美式 兆利國泰']\n",
      "{'up': {'種種', '超象', '外資', '加緊', '觀望', '擴建', '札卡利亞', '看法', '影視', '拖延', '多頭', '轉機', '傾力', '登上', '物聯網', '遇壓走出盤', '高點', '富邦恒生', '台電', '台郡', '開心', '月單', '醫學', '骨骼', '通用', '回流', '重心', '難逃', '加強', '第四季', '高人', '趙承佑', '一展', '華南金', '抗跌', '良性', '連鎖業', '開低', '泡沫', '每年', '輸出', '移轉', '壽險', '逼近', '北區', '預算', '創見', '貨架', '縣長', '參與', '多達', '家台廠', '恥股', '付出', '夜幕', '客戶', '分組', '角落', '歐洲', '未來性', '喊好', '機動', '宗盈', '國碩', '啟用', '產學', '租約', '回春', '地檢署', '純益', '廣泛', '補貨', '日線', '康世人', '瀚宇', '黃文清', '槓桿化', '人者', '高盛', '公布', '晶圓廠', '疫情', '收回', '線上', '醞釀', '嘉碩', '同鄉會', '權重', '事情', '車載', '長者', '文全', '風扇', '請益', '晶豪科', '臨床', '程度', '信託', '存在感', '邀請', '抬轎', '我們', '航海王', '居次', '所長', '物價', '出場', '垂直', '廣積', '威健', '三四月', '大師', '卡位', '國人', '美吾華', '朋億', '規範', '友通', '科技股', '設施', '共產', '環景', '刺激', '大宗', '利奇馬', '互見', '變局', '啟碁', '達控', '康控群', '加計', '穩穩', '侵蝕', '嚴格', '高科技業', '買單', '韓婷婷', '八貫', '多單', '爆出', '青年', '追捧', '高速', '勤益控', '原始', '範圍', '造紙股', '晶相', '竹科', '上市日', '表科', '募資案', '允強', '建廠', '頹勢', '交給', '太子', '地上', '張居冠', '機會', '群眾', '士氣', '疫情中心', '議案', '前茅', '整理', '檢疫', '不用', '微幅', '出口', '泰金寶', '本益', '額外', '大半', '五哥', '新竹', '聯化', '漲約', '春意', '竹科管理局', '攻勢', '桃竹苗', '高榮', '前年', '間斷', '部門營', '庫和', '驚驚', '能力', '長科', '亞東', '三創', '防控', '類別', '巫彩蓮', '大事', '滿足', '基地', '率先', '豐達科', '神腦剩', '分列', '焦板', '日電貿', '當地', '奪得', '季報', '船高', '可憐', '一致', '灌壓', '動力', '高手', '編製', '安心', '上漲', '完備', '艾蜜莉', '收益率', '突破', '空間', '容易', '侯靜蘭', '萬三', '籌碼', '狂敲', '旗下', '總之', '原則', '滑鼠', '京元電子', '方向', '智易', '貿易戰', '合計', '監管', '素果', '關係人者', '搭配', '消費機', '關係人', '下一步', '東森', '回補', '症狀', '物流', '翻倍', '季筆電', '許勝雄', '轉賣', '骨文', '老店', '大局', '中砂', '上述', '力晶集團', '殖利率股', '漲勢', '明日', '身歷其境', '大選', '聯合', '必然', '月續', '預計', '不辦', '納入', '群聯', '中華', '意向書', '邏輯', '類型', '三部曲', '製作', '沿續', '領息', '授權', '房產商', '冷風', '元來', '充分', '航運', '甚至', '聚焦', '創新中心', '好幾', '振華集團', '研發出', '大勢所趨', '缺貨', '和泰', '覺得', '委任', '其餘', '長榮豪', '發言人', '製造商', '週四', '郭台銘', '張數', '熱點', '行車', '熱銷', '財信', '要不', '三十', '經濟體', '南部', '效應', '公開', '看升', '聽診器', '辦公室', '值此', '陸廠', '獨立', '全界', '維田', '群雷', '大單', '九億', '進一步', '量增', '一起', '輕則', '投靠', '撐腰', '最為', '出席', '填入', '新北市', '發文者', '經濟學', '剩餘', '起跑', '辛耘', '備忘', '軟體', '打亂', '跌多', '常見', '審查', '連環', '配出', '停下', '雞母', '選後', '億美金', '聯鈞', '短中', '華邦電子', '中共省', '俱樂部', '大昌', '染期', '對抗', '中標', '大聯大', '冀望', '指數', '命令', '恒生', '有感', '成立', '轉弱', '車尾燈', '校長', '案例', '部份', '買點', '負轉正', '專賣店', '金像電', '認錯', '經濟日', '甩尾', '權保', '利率', '台灣事務所', '程式', '當選', '外界', '第二', '舉足', '蛇尾', '免疫', '上品', '買近', '完工', '敏感', '微軟', '台股週報', '發行', '日文版', '興櫃', '外交', '家數', '最終', '追求', '台船元', '下彎', '崛起', '變型', '追價', '添動能', '中國', '文展', '遞交', '敦泰', '堪憂', '下滑', '張文赫', '管理局', '不棄', '出籠', '截止', '四維航', '運營', '疲軟所致', '收跌', '新台幣', '處於', '抬頭', '從事', '客人', '機電', '解任', '被害', '賠錢', '手寫', '標售', '移出', '而言', '風電', '林伯豐', '討論店', '首推', '郭董', '豐厚期', '加霜', '出入', '資本', '供應鏈', '初步', '導體', '雜音暫歇', '申購', '模組', '集福宮', '緯創傳', '摩台', '市幕', '發放率', '回神', '一些', '鴻碩', '電資', '急凍', '名單', '新創獎', '建準', '網站名', '職場', '進補', '緩和', '晶豪', '泓格', '專賣', '機場', '放量', '健鼎', '常會', '賈伯斯', '左右', '顯疲軟', '時侯', '入帳', '合作', '充電樁', '全面', '不動', '舊任', '公司', '明星', '接連', '蔡承啟', '就業', '中租', '聯貸銀行', '設備', '勞動法', '續創', '嘉澤', '富邦金', '平均', '影響力', '買方', '策進院', '關卡約', '附上', '法律', '陳柔蓁', '賣到', '復能', '美金', '深耕', '失控', '蔡麗玲', '環科', '成熟', '戰略', '跌少', '跟不上', '貴貴', '同欣電子', '台苯', '說好', '可寧衛', '重塑', '訊映', '對調', '基本', '印度', '變數', '收盤價', '前夕', '甲特', '光聯', '銅板股', '效用', '外自', '代理人', '中國時報', '蘋概', '排除', '挫傷', '雙控', '出脫', '許有', '大摩', '湖北省', '祭出', '砸近', '轉攻', '主持人', '常態', '逃殺', '除權', '活化', '累積', '封鎖', '豐收', '晶電', '簡政便民', '貨物', '協助', '搶買', '月營收', '什麼', '均衡', '等到', '永信', '佈局', '王永壯', '避免', '兼施', '需要', '事務', '銳減', '濃厚', '為何', '生態系', '成交量能', '環境', '盧比', '支應', '去年', '聯貸案', '中控', '升到', '確立', '立訊', '聯袂', '為什麼', '代工業', '美材', '盤勢', '深証', '發電', '位於', '陳建仁', '業界', '日電', '橫盤', '報獎', '窄幅', '守穩', '陳昱光', '月起', '電商', '技術性', '點名', '停辦', '回溫', '心率', '僅僅', '特正', '防颱', '崇拜', '華邦', '聯益', '台半', '王宜弘', '假設', '智能', '聯醫', '停滯', '進場', '引爆點', '元時', '細胞', '沿著', '捷報', '桂盟', '一季', '至上', '現與', '清奈廠', '兆豐', '聯亞', '聯發科技', '不敵', '往下', '滿手', '史上', '墨西哥', '行事', '擬發', '決定', '踩雷', '威強電', '承認', '下週', '振奮', '超商', '重訊', '傷害', '傳產股', '終場', '億股', '獸重鎮', '狂歡', '調查', '龍頭股', '鴨子', '泰山', '小型股', '東陽', '電電公會', '中探', '小兒', '喊上', '通道', '轉正', '隱憂', '不容', '醫療集團', '匯兌', '新法', '照護', '不確性', '感知', '練兵', '轉單', '高階', '債信', '見解', '廖小蕎', '胡柏蒂', '獲得', '莫過於', '續航力', '性質', '變種', '興能', '大秀', '百萬', '大綠棒', '法令', '內鬼', '行為', '中華電信', '張不等', '華僑', '分居', '染疫', '元躍', '實驗', '減碳', '跟進', '多數', '頭條', '普安', '蔡明忠', '智伸科', '短壓', '地價', '和緩', '大無私', '經營', '直言', '暴動', '醫師', '南向', '正題', '樓層', '林建勳', '實力', '洗盤', '養兵', '台指公司', '院長', '潘文虎', '神腦', '剩下', '週三', '設計師', '中山', '削弱', '日才', '月份', '限公司', '年多', '年時', '降到', '追趕', '明後天', '採樣股', '須慎', '作收', '強彈', '委外', '佔比', '保障', '利益約', '遺跡', '特幣', '育兒', '兩倍', '前景', '總額', '自從', '最後', '新任者', '手機組', '調節', '聯嘉', '好像', '平穩', '泰碩', '時初', '毛三', '向醫院', '不俗', '肯定', '進帳', '月線', '系鏈', '延攬', '順暢', '擠破', '電纜', '周期', '綠電', '詳見', '乖乖', '博智', '摩拜', '緯育', '挑選', '涵蓋', '稽核', '美琪瑪', '層面', '公佈', '自然人', '實體', '證券史', '福懋油', '高通', '新低', '精神', '跌逾', '虎頭', '運價', '筆記', '相關', '醫業', '交通', '揚明光', '消除', '小龍', '沈榮津', '百億', '緯創會', '追擊', '曾任諾', '成分股', '缺口', '走低', '線纜', '萬潤', '自然', '殖息率', '續增', '重返', '高呼', '初衷', '醫療院', '單轉', '經濟發', '主持', '股數', '低開', '操作', '以往', '吸納', '下鄉', '風險', '地雷', '所屬', '印度班', '知道', '合機', '感測', '副院長', '疲軟', '亞翔', '電視業', '和益', '美吉吉', '大立光麥證', '起家', '人事', '反彈勁揚', '充滿', '達美', '安成', '近期代', '即為', '韭菜', '簡單', '當中', '大戶', '上周五', '轉賣超', '場次', '車電', '達到', '季增率', '攜式', '迅德', '而已', '建立', '年微幅', '週邊', '長紅', '月初', '社區', '昆山', '反撲', '緊縮', '信邦', '據悉', '營收史', '代工', '普通股', '基準日', '三年線', '解套', '可惜', '期許', '中和', '一樣', '獲報', '物料', '提防', '組合', '帶動', '趕工', '目標', '緊追', '現金', '早點', '位在', '西進', '平靜', '新鴻基', '邊境', '強勁', '賣掉', '收復', '不同於', '製藥', '默默', '總太', '腫瘤', '集團股', '攻頂', '狹幅', '結合', '藥物', '好多', '價遭', '天線廠', '執行率', '李主清', '快攻', '備忘錄', '視覺', '松瑞藥', '科技人', '輔以亞光', '渴望', '梯次', '間接', '技術處', '印尼巴淡島', '宗旨', '高標', '期次', '初六', '今代', '台紙', '事業群', '風場', '兵分', '約定', '詳閱', '學名藥', '衝刺', '兆豐金', '跌近', '總體', '蘇比', '發標', '光耀', '刷新', '友訊', '變換', '推花博', '財政', '加以', '誠實', '有限公司', '摔苦', '便利', '笑死', '代價', '淘金', '顧問', '遞延', '友邦人壽', '算是', '台中市', '達人', '紐約州', '彈性', '巨路', '作價', '南帝', '電金', '掀推案', '介面', '減少', '資安館展', '年期', '標的', '急殺', '傳齊漲', '毀滅', '曉得', '年報', '智慧園', '新聞中心', '時前', '股權', '低檔', '十二', '堆滿', '搬出', '攻略', '台達電子', '日立', '舉行', '上海', '列為', '起對', '老三', '日月光', '好吃', '深獲', '開設', '單月', '基點', '盛餘', '內線', '下滑逾', '車輛', '固然', '大早', '觀測', '商業街', '排擠下', '警戒', '內銷', '燃氣', '關注', '總裁', '興英科技', '五哥業', '領軍', '賭徒', '產能', '口數', '升幅', '新金', '領導', '建造', '氣候', '天數', '短料', '惠普', '上班族', '財政部', '重災區', '資策會', '跑去', '兌現', '黃豆', '天鈺', '突顯', '金價', '前瞻', '上海商銀', '擋吃', '用板', '暫訂', '往往', '電梯', '莫名其妙', '終端', '益智', '群架', '著眼', '出現重貶', '元大金', '集結', '小資', '進攻', '特區', '下修', '六月', '車路', '權證', '義隆電子', '元寫', '哈戈谷', '立端', '監視器', '角響', '疫調', '生物', '父母', '貨款', '周刊', '雙向', '瑞昱', '嘉義', '攤位', '武力', '超計', '寬頻', '高盤', '黃金', '展區', '產品品', '遊戲', '另外', '行情', '深圳', '邁入', '林佳龍', '相較', '引領', '帶給', '電動', '心電圖', '關渡總部', '尖牙股', '悶虧', '純益與', '強迫', '差不多', '配息率', '夏季', '券商', '重挫', '研發', '連鎖', '民進黨', '製工部', '華纜', '變得', '大陸市', '營運動', '功力', '億售', '產品', '二九', '全時', '呂莉莉', '交易中心', '廣場', '鞋業', '助攻', '盤面', '中山區', '庫里安', '顯不足', '偏愛', '投資人', '立即', '頻頻', '衝鋒', '降至', '開盤價', '盡頭', '至近持平', '還是', '盛群', '劉居全', '銅礦場', '吸收', '管制', '英利', '只有', '怎樣', '京東方', '工業', '希望', '精準', '鼎恒', '買回', '太平洋', '發佈會', '小幅', '國泰臺灣', '身體', '智慧醫', '買進', '文化基金會', '榮景', '食品', '陸企', '昌碩', '部分析', '美時', '大中', '金麥證', '走近', '美光', '週刊', '展覽館', '跌停', '推爆', '腰斬', '接單', '持平', '經貿', '狂降', '部隊', '力致', '類比', '考察', '短多', '股市', '拿下', '櫃祭庫', '行庫', '研訓', '起來', '機族群', '英國', '百分比', '小鵬', '敦吉', '消毒', '紐約', '在地安老', '誠美材', '再生', '週期', '政務次長', '難敵', '有點', '興富發剩', '使用', '熱度', '交投', '不了', '找上', '盤堅', '美科技股', '碰到', '賽制', '烏龜', '拿來', '武漢', '歐式', '魚盤', '鉅亨網', '照護展', '更多', '國揚', '設置', '所在地', '同調', '因傷', '新普', '商業', '莊家', '專電', '太陽', '期街口', '進邁', '開發出', '保留', '浩鑫', '庫藏股', '編號', '官股', '霍蘇爾', '波若威', '彈近', '共有', '應鏈', '小型', '醫療箱', '自主', '新光', '工程師', '耐心', '何處', '狂潮', '服務處', '出頭天不遠', '閎暉', '鈔票', '總會', '動車', '總理', '時和碩', '財富', '和解', '應該', '寵妃', '元月', '台商', '新創', '步伐', '端出華', '陳淑娟', '金寶', '發力', '中釉', '正職', '工商時', '記者', '一向', '愛爾蘭', '膽量', '肆虐', '工信', '集雅社', '屏東縣', '挖掘', '得分', '將軍', '說明會', '金仁寶', '暢旺', '賺逾', '一半', '倒閉', '觸媒', '偏存', '除此', '一手', '高端', '常勝軍', '路透', '歡顏', '個股', '英業達', '號召', '進度', '醫療資', '莊丙農', '看下去', '接獲', '亞東證券', '宜特', '境內外', '調節約', '五百', '不佳', '登台', '安侯', '先機', '水果', '首勝', '必要', '健人', '中石化', '壓回', '遊艇', '摔出', '迫使', '自製', '低調', '策略性', '榮成', '摜破', '攻綠', '溫馨', '中信', '統一', '浪費', '光寶科', '糾紛', '鋼鐵', '非訟', '黃柏漙', '機子', '進口', '化學生醫', '一點點', '停工', '如興', '倍指數', '藥業', '陳碧芬', '變成為', '飆破', '緯新', '點收', '辦法', '中心級', '仍然', '轉增資', '無人車', '移轉案', '斥資', '三月', '遷廠', '矽格', '深化', '電調度', '催生', '特殊', '補充', '維持約', '醫活', '到底', '製鞋業', '運氣', '瀰漫', '創高', '倡議', '季節性', '興建', '申請案', '撐到', '台灣微軟', '相對抗跌', '月曾代', '見識', '季初', '編輯', '商用', '堅稱', '下限', '廖紫岑', '大牛', '品質', '段落', '遷入率', '台中', '豐祥', '策略長', '四成', '藏股', '真心', '發布', '浮現', '板卡廠', '日前', '強大', '動工', '多元', '白牌', '呂俊儀', '開放', '首要', '榮剛', '相繼', '企業庫', '跌幅', '標籤', '合作為', '坐落', '欄位', '因素', '緣由', '自語', '迅速', '裝機', '凸顯', '中國大陸', '成長率', '有關', '長期', '有撐', '難守', '下跌', '族群', '開口', '雷達', '經濟環', '大舉', '唯一', '個位數', '逆勢', '區別瞭', '曾炎裕', '處理', '增溫', '新竹縣', '惠特', '受惠於', '聯合報', '存款', '多萬', '大學', '中小兵', '半導體', '奮起', '在後', '虛實', '興農', '搭上', '八年', '逐漸', '新手', '格式', '鼎革獎', '政策', '得到', '道瓊', '旺年', '更加', '原先', '租金', '背後', '中華股市', '短道', '表述', '停課', '新生力軍', '互聯網', '開打', '清淡', '一口氣', '日圓', '簽署', '特派', '新南', '奪市', '勞動節', '振盪', '健喬', '小賣', '頎邦', '台指期', '台航', '酸民', '不早', '亞利桑那州', '等代', '轉型', '日盤', '應當', '觀測站', '確實', '台玻', '息低波', '有望', '星期二', '進程', '柯文哲', '矽谷', '生產', '要素', '謝佳雯', '台化', '比例', '強勁股', '違規', '效益', '劉德音', '放大', '無虞', '郊區', '挖寶', '五日線', '項目', '穩健股', '三軌', '型態', '曾永豐', '大增', '看待', '漲價', '兩岸', '座喊', '公關', '巨大', '寶座', '十分', '簡介', '三陽', '續抱', '支付', '市場', '競爭力', '力成', '實用', '銅鑼廠', '何從', '百分點', '步調', '首創', '台幹', '課徵', '擴產潮', '續跌', '正軌', '晶體', '部長', '美擬', '尾牙場', '福懋科', '陶瓷股', '不易', '沛星', '旭海', '大約', '看盤', '灌溉', '慶豐', '傳出', '核心', '毅嘉', '之中', '股利', '一萬多', '股息', '聲浪', '好不起來', '具備', '憑證', '國光生', '發達', '加分', '包含', '日增', '紅強', '醫界', '一陣', '期利差', '企圖', '玉山金', '南光', '衰退', '家鄉', '許可', '拿去', '接軌', '一波', '用以', '免揭', '就近', '在地', '備貨量', '籌碼戰', '檢傷', '紅盤', '檔有望', '產值', '高峰', '華固', '國防', '排場', '看出', '為期', '未能', '雲端子', '生策會', '投資處', '為例', '隱含', '三陽工業', '收入', '資案', '電郵', '資安大會', '貿然', '幫水', '組織', '延期', '周瑩慈', '英尺', '吳東亮', '兩兆', '楊泮池', '台大醫院', '貨品', '華映', '驊訊', '正式', '強調', '產業', '出手', '淨多單', '提高到', '申請', '漢翔', '分別', '說明', '轉趨', '隱藏', '崇友', '七三', '修訂', '鏈幣圈', '淘帝', '全數', '中階', '分比', '累積金', '建漢', '知識', '隨著', '晶端', '美聯準會', '作者', '頻繁', '增添', '嘉聯益科技', '衝上', '華通電腦', '誠美', '現任', '年年', '差異', '以下', '位移', '新東進', '維穩', '短期', '喊出', '勝利', '陳俊聖', '名義', '牛皮', '生技股', '運錩', '連接性', '標記', '根據', '狂飆', '鍵盤', '印度政府', '暴力', '楊金龍', '金管會', '禁止', '主席', '雜誌', '來勁', '保泰', '加盟', '建置量', '風風', '失去', '前來', '大筆', '生達', '到手', '祥碩科技', '創新', '保護', '大止跌', '亞太', '擴展', '投顧法人', '入賣', '舒緩', '無線', '年雙', '彭博高', '壓軸', '畫素數', '推薦股', '機制', '現在', '把握到', '潘智義', '反正', '上周末', '心存', '用去', '獨家', '廖哲宏', '群電', '買不到', '鎧勝', '醫療', '橫跨', '付訂金', '買盤', '美林', '大規模', '產線移', '權王發威', '文書', '之際', '音箱', '陳良基', '虧滿手', '連同', '電子所', '爆量紅', '夏志豪', '開出然終場', '建碁', '良維', '趙于萱', '買氣', '派遣', '境外', '曝光', '白宮澄清', '勝利國中', '陳依旻', '一九', '增來', '備案', '續留', '能見度', '氛圍', '次高', '電信', '下降', '日盛', '專責', '全聯', '時候', '接洽', '挹注', '交由', '欽點', '匯市', '獨撐', '顯露', '禁空令', '利多', '競爭', '貿戰', '安集', '驚人', '加減', '興櫃股', '加值', '王走強', '鏡頭', '雙位', '美利達', '出生率', '師資', '缺料', '飛走', '陳鑫', '投資額', '鼠年', '記憶體', '進駐', '零件股', '熱門股', '上調', '止跌', '葉時安', '搶得', '桌機', '積電', '大膽', '組件', '小額', '香港商', '油正', '作夢', '歡騰', '亞軍', '難度', '著手', '取而代', '意思', '警覺', '央行', '反觀', '訊芯', '增持', '元後', '人家', '三分之一', '先豐', '成交量', '香港', '實踐', '中線', '突出', '公司名', '平均線', '股號', '寶雅', '會員', '發生', '偉詮電', '電競', '目的地', '華碩', '電線', '消風', '從來', '樺漢', '條件', '之一', '清奈', '諸如', '三商電', '台北港', '生命', '冠西電', '京城銀', '邱景宏', '統一實', '委建', '體系', '穩健', '兆元', '路板', '比重', '報告業', '停留', '刻意', '晶彩科', '緯創', '件數', '出走', '招生', '傳聞', '思考', '母以子貴', '主攻', '凱美', '勤美永豐', '百來', '眾信', '選擇', '胡連', '象徵', '如果', '崩盤', '俱增', '聯審', '董事會', '你們', '企業家', '之上', '健和興', '彈逾', '平價', '爽賺', '高市府', '脫鉤', '取代性', '後段', '川普', '塑膠', '權值', '崩跌', '重磅', '一城', '小漲', '變革', '普及', '大轉股', '江明晏', '批發', '險守', '博德', '表達', '弱點', '息收', '黑馬股', '中印', '惡化', '東協', '多月', '近來', '美台', '破頭', '融創', '預估', '燒錢', '彰銀', '臺北市', '飛捷', '共伴', '升級', '識別', '試試', '上市', '水岸', '營業', '平戴', '存託憑證', '延長', '首因', '中興', '年淨利', '檔本益', '車款', '品管驗證', '直覺', '人員', '願景', '蘇州廠', '率隊', '轉折', '佼佼者', '公頃', '蔡芃敏', '放空', '瞬息萬變', '廣達', '病危', '全部', '收到', '緩步', '小紅', '元排第', '立案', '教育部', '月減', '雙率', '中市府', '台光電', '點為', '世界盃', '成交', '骨折', '風力', '順利', '敦南', '緊繃', '軟體股份', '翻揚', '農林', '增量', '血液', '內容', '樞紐', '國統', '股后', '永冠', '緊張', '緊鄰', '泥窯股', '寄望', '稍微', '侵吞', '立隆電', '通膨', '意識', '確定', '得主', '重工', '檔面', '回穩', '封關日', '獨得', '台灣科技股', '証正', '現價', '公司戶', '行銷', '運作', '列載', '鴿派', '投產', '推算', '太久', '堅強', '對岸', '開始', '場合', '三鼎', '暫緩', '指標', '中光電', '比給', '非常', '攻堅', '幅度', '董事', '景氣自', '小跌', '題材', '澳洲', '承業醫', '融資', '至今', '達方', '東鋼', '武肺', '風向球', '手段', '口罩', '樺漢兆豐', '攻入', '增率', '證認', '翻轉', '劍麟', '美股費半', '股網', '頭痛', '裕隆汽車', '夆典', '大揚', '一度', '本額', '廣域', '貨幣', '幕後', '日子', '大學光', '危險', '中華電', '可是', '翻黑', '多空', '點火', '優質', '評審團', '鼓勵', '遭遇', '仁寶', '相像', '新春', '跟到', '軍心', '虛擬線', '不淡', '中國昆山', '春季', '商場', '待遇', '緯成', '採用', '技術展', '減資', '題材股', '稅後', '大同', '電子展', '飆高', '四年', '報優', '登高', '官媒', '集中於', '明晟', '追空', '放心', '收集', '湧入', '企銀', '低盤', '續寫', '友達', '減幅', '慢慢', '大國鋼', '全體', '走過', '均價', '帶槍', '中鋼', '成交動能', '訊連科技', '繼續', '和大', '望佳', '走下', '大牛股', '計劃', '上證', '代工大廠', '博士', '報由', '風格', '萬餘', '留下來', '超慢', '人工', '受屈', '周來', '審慎', '中緣', '收黑', '李彥瑾', '亮麗', '認購', '偏高', '下挫', '鈺創', '藉此', '凌巨', '賴言曦', '品安', '線上展', '創業家', '數千億', '德信證券', '嘴巴', '過半', '所趨', '發展協會', '居民', '不再', '運動服', '況況', '通訊', '減半', '專家', '綜效', '大致', '新股', '前三季', '精剛', '國神山', '系統廠', '銷貨', '發威', '量體', '續彈', '大逃殺', '看漲', '調升', '電子資', '發表', '失智', '日電金', '高清', '工商時報', '地位', '見頂', '舉辦', '兆豐新光', '真的', '低接', '業務', '承啟', '變形', '齊聚', '新藥', '中時', '本業', '百分之一百', '總計', '勞資', '拓雲端', '電業', '例子', '泰州', '歷史次', '正名', '局面', '代買', '體廠', '興建中', '以今', '代理', '漲逾', '武器', '投資標', '公路', '滑落', '聯想', '房地', '鍾愛', '目標價', '萬點', '場效', '晶采', '朋友', '土地', '九國', '鏡頭廠', '餘點', '克服', '兇猛', '線照', '復返', '營收約', '跌至', '服務網', '傾向', '首當其衝', '影響', '年底', '下去', '難題', '嬌貴', '含意', '智邦科技', '大少', '凶多吉少', '下市', '維基百科', '美祭', '市況', '分配', '自由時報', '路篇', '聰明', '大呼心動', '首度', '員工', '高級', '恆生', '外觀', '富豪公司', '漢諾威', '保險', '交易所', '接受', '林芳苗', '文攻武嚇', '籌資', '交替', '廣宇', '台勝科', '結構', '驚見', '街口', '延至', '嘗試', '美系', '股性', '總經理', '主力', '市長', '第五', '比賽', '速度', '驚傳', '單日', '破元', '國泰金', '真正', '電續', '出門', '小小', '大田', '自救', '有些', '世紀鋼', '國家型', '達邁', '中宇', '升高', '嚇唬人', '季線', '台亞', '價分', '收購案', '家企業', '不尋常', '運點', '第四', '試算', '原本', '京鼎', '超中', '國泰全球', '外貿', '中環', '視晶', '統籌', '千金', '發佈', '台積', '據說', '著墨', '葡萄王', '熱鬧', '不一定', '休市', '暴跌', '版圖', '南六', '千禧蟲', '觀音鼻', '東和鋼鐵', '居首', '頒布', '獲利', '晶睿', '陳浩寧', '鼎立', '小英', '急起直', '配件', '轉為', '台北地檢署', '上市櫃', '戰局', '三億', '工商', '僅約', '逆漲約', '元大寶', '破萬', '算算', '眾望', '數據', '典禮', '運輸到', '親口', '搶食', '金控股', '偏多', '代及', '研究所', '官網', '用來', '台企', '外貿協會', '光纖', '拉高', '切入', '套牢', '陳洲任', '超越', '追隨', '量縮', '艾訊', '退燒', '展位', '理事長', '營運長', '航線', '千萬', '股王', '答覆', '條和', '如此', '藝術節', '期望', '創近', '年增近', '嗚嗚', '釘子', '買超', '閱讀', '股份', '官學', '黃俊東', '權值王', '路程', '傳產', '大樓', '順風車', '特別', '訊連', '凱基證券', '促進', '錢利忠', '股票型', '緯創資', '聘請', '頗多', '實在', '高雄晶傑達', '不論', '佛手掌心', '情況', '晨間', '台美', '確定性', '醫療科技', '副董事長', '評等', '群體', '賣給', '預設', '盤中', '新款', '微減', '合體', '為限', '重災戶', '標普', '信貸', '生態', '成都', '任者', '結果', '趕不上', '舊任者', '委員會', '擁有', '多單未平', '高歌', '奪下', '三星', '完看', '台新證券', '推選', '腳勤', '活潑', '測試', '鼎漢國際', '顯學', '出頭', '毛利', '條款', '周邊', '運輸', '不像', '祈禱', '預算案', '餐飲業', '減碼', '帶量', '落在', '普通', '低價', '親戚', '過後', '近日', '以後', '二手', '肯恩', '宏璟', '低潮', '順勢', '電視機', '領頭', '英特爾', '大銀行', '桃竹', '管驗證', '票型', '變肉粽', '分析', '不旺', '擎邦', '海神針', '賣方', '本益比', '特徵為', '沒什麼', '亞光', '做收', '管理層', '推估', '周首', '高思危', '經長', '撤出', '中時電子報', '試驗', '供應', '大利多', '神鬼', '群聚', '挑戰', '大會', '除息', '客群', '相當', '漲破', '私募', '曙光', '再者', '歷來', '論壇', '壹古道', '挺進', '下半場', '揪團', '驗證', '大幅', '接近', '分支', '製品', '請見', '預告', '汐止', '熱戰', '反倒', '國際', '連連', '基期', '價盤', '集體', '碩在', '壁壘', '嘉裕', '急劇', '量測', '點整數', '賣盤', '過戶', '億光', '手軟', '打工', '國泰證期', '持有', '隨緣', '視訊', '為止', '銅價', '科脈', '實聯制', '避難', '四千', '估值', '零售商', '楊中傑', '擠進', '緩解', '業內實戶', '台子公司', '反彈', '台船', '居高思危', '截至', '入主', '息基', '環球', '準則', '宏全', '長程世嘉', '蘇國芳', '肉鬆大', '配股', '正面', '不等', '果然', '現場', '不但', '看起來', '掌舵', '鬆口氣', '環球晶', '期元大', '大榮', '旅館業', '新潤', '神話', '產研中心', '大江', '折合', '自行', '參賽', '真是', '營業費', '奈米', '返鄉', '下旬', '終止', '聚碩', '現蹤撿便宜', '華新麗華', '尤其', '午後', '單貼', '美疫情', '土洋', '學運', '有助', '眾多', '波段', '電子', '難超中', '異軍突起', '雨點', '可成', '史門巿', '定穎', '阿拉伯', '嵌入式', '跟隨', '聯結', '搶攻', '設立', '賢急組', '聲寶', '後勢', '流感', '帶有', '效電', '午盤', '榮民總醫院', '小量', '存託', '換手', '大立光台', '沒用', '產量', '莊雅珍', '態度', '直擊', '耕耘', '負成長', '財經', '富邦公司', '大同國泰', '報酬', '理監事', '異軍', '可望', '戰未完待續', '開幕式', '見諒', '強茂', '跟上', '負擔', '母公司', '港土地', '泰國', '分散式', '建大剩', '嚴重', '龐大', '身價', '重大', '顯然', '健康', '電池', '宅配通', '花旗', '年半', '勤崴', '開徵', '擴增', '上詮', '微降', '領投', '穩增', '報導', '摩擦', '中貿', '百元股', '附醫', '法等罪', '德微', '商辦', '每天', '台光', '新聞稿', '複製', '雙創', '有感而發', '五官鏡', '掉頭', '解釋', '知情', '硬體', '精元', '車廠', '冷清', '上拉', '台中北屯', '大盤日', '一千', '產業鏈', '增為', '背包', '請辭', '巿場', '正值', '代工廠', '網銀', '倒貨', '解讀', '自己', '水桶', '更新', '公會', '月增', '忍不住', '放大到', '企業', '單量', '科技館', '前哨', '神壇', '張嘉信', '選出', '聯茂', '永豐', '巴士', '法定', '預定', '文章', '心情', '焦點', '安勤', '瞭解', '減過資', '當天', '邁進', '外資圈', '模式', '取消', '挺升', '力道', '富邦證券', '中文', '發展', '小弟', '亮度', '橫掃', '此次', '燃氣類', '釋出', '啟發', '日生效', '習性', '碰護', '緯創證', '握有', '息後', '公債', '平倉', '孤單', '電金傳疲憊', '了結', '聯詠國泰', '前景佳', '積成', '長庚醫院', '證明', '富邦集團', '復甦', '回饋', '活動', '品牌廠', '中裕', '當時', '碼頭', '萬寶', '華東', '美國聯準會', '金融時報', '樂觀', '準備金', '下檔', '歐美', '專業', '元多', '小減', '斷崖式', '座談會', '身分', '一直', '改善', '認售', '高鐵', '整體', '華擎', '沉寂', '尾巴', '投入', '代言人', '戰前景不明', '因而', '月桌機', '奇摩', '力守', '發放', '由此', '緯創說', '失分', '外移', '慶賀', '構成', '華頓', '更為', '看到', '晶宏', '原油', '尺寸', '技術面', '整日', '填息', '認知', '開高', '自已', '廣視野', '戰下', '緩緩', '佛心', '新永安', '避風港', '提過', '驚爆', '作為', '修改', '玻璃心', '牧德', '林男', '大眾銀', '前連', '要聞', '關切', '成品', '已經', '前陣子', '跡象', '潮助攻', '揚言', '可以', '周四', '跡像', '顧立雄', '所有', '消費', '原文', '超張數', '國內', '中石油', '噴出', '上場', '追高', '減產', '奇怪', '國企', '看得到', '事項', '門巿', '指示', '漲法', '陽科技', '精能', '全球展', '短短', '節令', '賴瑞隆', '燃器', '並未', '不便', '倍速', '愈來愈', '觀察到', '製造中心', '資本額', '假如', '更換', '月鐵', '卡廠', '競選', '同上', '三三會', '光寶', '鄭家福', '喚回', '新生兒', '前晚', '效能', '那斯達克', '振樺電', '報喜', '興業', '釋逾', '三王', '顧問處', '流動性', '報價', '科學', '鼎翰', '中立', '升破', '一世代', '天內', '掛單', '突起', '林之晨', '黃晶琳', '力度', '台廠', '台企銀', '改變', '合約', '基金會', '不順', '手續費', '逐月', '加持', '儀式', '回應', '太醫', '動產', '報復性', '轉變', '長程', '融程電', '直指', '會年', '喊進', '江蘇', '佳凌', '聯詠科技', '縮小', '狂敲居功', '畢業', '即使', '大立光電', '觸及', '轉圜', '兩位數', '謹慎以待', '三成', '光罩', '反向', '外銷', '印度廠', '縮緊', '體質', '大成鋼', '美銷', '組裝股', '萬人', '現形', '基石', '智慧物', '休憩', '昨夜', '國泰股利', '技展', '復得', '蔓延', '單晶片', '書本', '捷敏', '勇猛', '全球', '炒作', '內蒙', '興建廠', '負面', '晚上', '巴菲特', '對象', '慣例', '緯創法', '時代', '介於', '低階', '演講', '量加權', '月營', '能源', '第三者', '法案', '重則', '運用', '蘋鏈', '王嘉樞', '收高', '迎作', '息日', '雙增', '解封', '標竿', '落地', '毛寶', '損失', '延後', '基本面', '規模', '股東', '此後', '專案', '上午', '相互', '拉貨潮', '美企', '鴻準', '斥近', '烏戰爭', '緊盯', '公正', '共享', '長許', '報到', '小志氣', '專訊', '聯成', '推高', '業者', '雙減', '健保', '整機', '美亞', '交易日', '金牛', '加大', '展碁', '分頭', '減班', '跨越', '三重', '壓制', '強烈', '吸睛', '排列', '脫穎而出', '因為', '年終', '密集', '衝突', '點至', '連續', '航空股', '預估值', '連線', '內資', '南韓', '老路', '月刊', '鈺德', '三晃', '課以', '副秘書長', '印度塔塔', '緯創醫學', '迫聯', '龍頭', '定價', '科嘉', '台南', '鋼鐵股', '創運點', '裕日車', '注意', '亞信', '早於', '所致', '超共', '數科', '重量級生', '親子', '耳機', '耿鼎', '表態', '睛航生', '善用', '推波', '增減', '責任', '潤泰全', '內外盤', '開學', '華航', '落幕', '捲土', '季度', '家電', '迷失', '矽碼', '跌不太下去', '等級', '海內外', '經理人', '載資', '揭幕', '威鋒', '計畫', '亞泥', '下面', '財政部長', '產品線', '整頓', '門檻', '於是', '軍通', '上任', '迎接', '衝破', '備受', '王同', '嚇壞', '中產能', '外殼', '開通', '方程式', '飆升', '上萬', '俗稱', '浪潮', '漂亮', '聖暉', '資服', '數據力', '台肥永豐', '指出', '併購', '曝險', '面板', '苦果', '合勤', '寄望法', '可汗', '四化', '財務', '美律', '催化', '碰軟', '台汽電', '佳音', '國際盤', '初時', '分工', '醫揚', '既有', '崇越', '長假', '接著', '疲態', '預訂', '增資案', '例如', '同樣', '添動', '減薪', '辦公區', '出現', '光電', '跌倒', '熱絡', '扣底', '衝到', '研究院', '飆新高', '點到', '參加', '美洲', '敵對', '半年群', '息稅', '國發會', '早報', '三大', '豐泰', '拉到', '電源', '和桐', '語言', '上修', '率先表', '光光', '趁機', '釐清', '智能化', '量能', '欣興', '先是', '連署', '疑慮', '淨額', '國建', '地緣', '上市櫃公司', '財訊', '遭到', '上升', '戰停火', '率同', '學用', '備獲', '上半', '上季', '伸創', '歷史', '逃脫', '承壓', '租地', '學到', '一路', '負利率', '虹冠電', '境內', '重拾', '生力軍', '黃俊超', '小組', '兆利', '神山', '英建', '大之列', '轉買', '搜尋量', '錸德', '元大道瓊', '遊說', '上週', '常董', '南僑', '實習', '副校長', '曇花一現', '李純君', '勝品', '張嘉臨', '適用', '壽險業', '晟田', '促使', '拉大', '好難', '台燿', '康和證券', '假期', '巨蛋', '廣東', '葉憶如', '明朗', '正向', '今晨', '回購', '越南子', '單車', '發文', '麗豐', '亮燈', '印尼', '規定', '出售', '嘉基', '總座', '同創', '轉盈', '網飛', '記者會', '機型', '雙邊', '條例', '負責人', '估計', '大老', '自有', '留意', '台灣佳光電', '致茂', '頂級', '中央日報', '商品', '第一季', '空轉', '健策', '內外', '好狠', '神人', '資安', '高居', '喊水', '優惠', '性購', '致使', '二成', '達年增', '議價', '火焰', '異動', '材料', '平盤價', '止穩', '收益', '報晨訊', '生策年會', '國家隊', '晨訊', '和泰車', '兩年', '越來越', '加油', '國光', '平台', '面向', '合庫金', '綠色', '致命病', '友達光電', '量價', '瑞磁', '勞動', '森崴', '連袂', '網購', '配通', '跟投', '國產', '乘用車', '懷疑', '鬆綁', '之所以', '有成', '主任', '上傳', '衰洨', '收盤', '亮眼', '施振榮', '產業界代', '陽程', '大人', '獲法人', '分流', '遠東新', '東和', '視為', '線走', '居冠', '雷虎', '連假', '蕭君暉', '平淡', '現象', '散熱', '體重', '導致', '郭鴻慧', '修法', '張以忠', '中小股', '午餐', '完全', '競業', '期交', '相同', '超鳥', '觀點', '尚立', '太多', '建設', '台光電子', '自軟', '領域', '縮短', '打單', '銷美', '執行長', '燁輝', '那裏', '亞力', '淹腳目', '運算', '列買', '中小型股', '林奕榮', '帳戶', '散播', '榮星', '慘兮兮', '瓶頸', '股民', '投資案', '自營商台', '迎向', '林資傑', '雲端', '聯茂康和', '離開', '殖利率', '尾盤', '亮相', '接棒', '賴清德', '飯店', '問問', '歸零', '立益', '專戶', '抵達', '不銹鋼', '充實', '高盛等', '和泰汽車', '報名', '時期', '拉出', '篩檢', '瀚宇博德', '融合', '隸屬', '偏重', '擔憂', '儘管', '稀土', '戰線', '原訂', '放到', '自言', '不知不覺', '二限水', '美再', '愛如', '力山工業', '拜登會', '晶圓議', '合勤控', '趨緩', '北京', '不動產', '脫離', '鰭式', '對作', '抱逾', '波動', '訊號', '納智捷', '似乎', '市佔率', '感染', '頭號', '升壓', '今日', '傳來', '法說會', '有機', '大獎', '農糧原', '隨之', '同業', '買買', '業界人', '甚至於', '盤點', '大利', '出爐', '重質', '自爆', '失守月線約', '嘗到', '委員會第', '迎來', '設下', '工程', '登峰', '承銷商', '曲線', '示警', '台安創投', '簡立忠', '升至', '月大', '流通', '三雄', '仲琦', '力旺', '法寶', '金雞', '之下', '配息', '接下來', '輔助', '減逾', '陸股', '果迷', '蔡明彰', '緯謙科技', '康和', '粉絲', '提早', '獲選', '院士', '潮水', '期待', '翻面', '風起色', '台驊投控', '賣出', '負眾望', '岱宇', '後天', '超乎', '無奈', '行業', '組裝', '後來', '不停', '燿華電子', '虧轉盈', '助陣', '雙王', '蘋果鏈', '前述', '科技業', '高下', '股力', '晶晶', '垃圾債', '打響', '大幅度', '同步', '展覽', '包給', '特選', '任期', '支持', '新聞', '急拓', '備戰', '分批', '機器', '明基', '國際級', '雲端服', '考驗', '推測', '其它', '次世代', '攻高', '合一', '依然', '淨值', '商店', '黯淡', '處理器', '臉書', '聚落', '宏碁集團', '中斷', '以內', '公園', '賣超', '蘋概股來勁', '電纜股', '創生', '大麥證', '家合', '攝影', '緯謙', '抗爭', '中纖', '遭逢', '課稅', '電通', '頒獎', '緯創代', '挾量強', '不要', '輔具', '針對', '多媒體', '是否', '南港', '鄭文燦', '衝高', '裝置', '回攻', '釋疑', '推波助瀾', '敲進', '展出', '生態圈', '抽籤', '大盤反', '期街', '今年', '黃翹生', '黃漢成', '做好', '自動化', '湯瑪斯', '第六', '地產商', '群光', '共推', '學研界', '操作法', '莫德納', '外國', '陳其邁', '外資群', '聚陽', '二月', '康那香', '萬六', '一舉', '調降', '雇用', '參拜人', '風機', '星期一', '獎項', '貿協', '碎滿地', '瀏覽', '鼓吹', '打電話', '超過', '大量', '萬華', '矽屏障', '甚麼', '奇美電', '花板', '要是', '蕭燕翔', '早早', '羅門', '軍事化', '首座', '高精', '展望', '國際化', '下探', '買走', '共產黨', '緯軟', '璽悅產', '張聯陽', '頻傳', '加徵', '九月', '經過', '有意', '圖一', '富邦金等', '一口', '逆轉勝', '然後', '變動', '簡述', '位速', '感測器', '重重', '通知', '電信業', '創下', '捲爸', '鈊象', '烽火', '帶頭', '人數', '堆高', '德州', '週二', '寢具', '排名', '日也', '股約', '轉強', '郵件', '戴爾', '友輝', '轉由', '繳出', '華夏', '電動車市', '國際中橡', '流程', '柏承', '進口速度', '金融', '彈上', '緯新資通', '力拱', '基因', '高峰期', '守住', '新台', '殺機', '許禎祺', '心態', '工作日', '壓境', '加速', '交通部長', '主辦', '力智', '越南', '逢甲大學', '技術部', '賽靈思', '能夠', '如同', '公廟', '去化', '治理', '強轉弱', '影片', '桃園', '自明', '愛之味', '半導體業', '科技廠', '好棒', '跨螢', '嘎空', '礦產', '營建', '工研院', '復華等', '悍將', '中南部', '實際', '寫下', '美墨', '護國神山', '擴大', '鋼市', '樂富', '呼應', '稅收', '萬芳', '傳試', '到處', '何在', '在事涉', '明年', '力量', '最少', '任務', '張建中', '河南省', '危機', '隆達', '走強', '棟數', '齊提款', '大利空', '住宿', '君悅', '檔元月', '協商', '議事', '完整', '出貨量', '套回', '百分之二', '熱氣', '七月', '逢低', '所有人', '中興電', '人民', '警報', '成大', '換骨', '今年度', '所幸', '單一', '零售業', '掛牌', '流向', '協會', '漲少', '勝出', '續收', '齊頭並進', '占比', '優於', '豐興', '國安法', '杏輝', '砍價', '乙盛', '飛到', '減緩', '憂慮', '透過', '復工', '移機', '人生', '榮民', '意圖', '總金', '封城', '通脹', '類股', '四五四', '進行', '悄悄', '層級', '西方', '磊凱', '基金', '竹北市', '元為', '電力', '上陣', '海纜', '平盤', '面積', '停損價', '智崴', '永光', '醫療人', '同行', '過來', '雙十', '人體', '國泰智能', '旺年會', '屏東分院', '湖北', '週五', '定位', '振幅', '半導體庫', '自營商', '急迫', '南緯', '手持', '生醫園區', '欣電', '收紅', '穩揚', '港股', '檔新權證', '生醫股', '月光', '富邦越南', '評論', '追平', '廖繼弘', '戰正', '當年', '公里', '中壢廠', '蕭清志', '陳國清', '小覷', '儲存', '居於', '系統', '連鎖店', '端到', '庫德洛', '洗錢', '年線', '伸興', '近乎腰斬', '互補', '回來', '一定可行', '共贏利率', '營建股', '大毅', '發行人', '磁吸', '攻元', '一變', '回歸', '在乎', '海岸線', '不及', '六六', '陶瓷', '證券商', '橡膠', '鼎漢', '焦點股', '股者', '選填', '方亞申', '所在', '花博', '業外', '對於', '臺灣大學', '依據', '級職', '導向', '價位帶', '瑞儀光電', '新建', '回測', '伊雲谷', '跑出', '存貨', '銀行業', '東和鋼', '產業界', '何去', '東洋', '廣達林口', '循環', '蓬勃', '鞭小力', '每日', '廣東省', '全年', '保證金', '路透社', '訴求', '謹慎', '盛達', '偷偷', '日標', '部分', '日半', '推手', '牙股', '場域', '扮演', '摳真', '修正', '不可', '介入', '品管', '雙虎群創', '聯貸案量', '群益證', '瑞鼎', '槍投', '恢復', '以台幣', '怪獸', '限電', '鮮花', '策略', '到任', '呼吸', '楠梓電', '擠入', '徒弟', '三率', '引述', '童子', '關聯', '電子股', '減為', '鐘惠玲', '報告書', '發起', '盈收', '強度', '林明蓉', '撤離', '提供', '成交值', '想法', '張庫藏股', '牽動', '留長', '加速器', '明事項', '離岸', '現有', '原因', '惠者', '步入', '戰現', '封關', '史詩級', '移到', '解析', '中國商', '冠德', '基礎', '泰鼎國際', '地處', '槍口', '永豐優', '不然', '尋找', '新竹市', '三季', '長榮下跌', '中國政府', '保護區', '玄機', '春節', '水漲', '共振', '光洋科', '宏普', '萬大關', '資通股份', '德國', '日經', '碩業', '消費支', '溢價', '授予', '以利', '川普又', '奈格', '櫃公司', '。映泰', '合力', '兼顧', '會計', '月中旬', '行政院', '延緩', '任何', '市府', '優質股', '屬子', '批准', '堪稱', '卸式', '新局', '茂矽', '福寶', '尚未', '啟動能', '外商', '景氣', '方法', '稅率', '東南亞', '信義', '心理面', '陽性', '通路', '起子', '緯創空', '雙動能', '重要', '兆頭', '科技部', '海外', '背信', '鴻華', '他們', '京元電', '奇鋐', '收達', '讓予', '凱基', '日均線', '綜合', '新一代', '凜冬', '邊緣', '掛賣', '吳家豪', '這時', '提升', '同時', '銘鈺', '過程', '台達化', '質感', '天然', '實質', '比較', '光學', '熱議', '收漲', '掌控', '涉足', '簽訂', '果粉', '主流', '鄭心丹', '林政賢', '重股', '外國人', '勁揚', '周一', '年減逾', '同仁', '輪番', '動態', '每仟', '戴海茜', '鳳山', '興富發', '造紙', '小時', '飯碗', '重摔', '諾華', '搬運', '同意', '法式', '勝率', '職務', '火力全開', '成交價', '萬八', '審核', '債務', '政府', '喘息', '鎳礦', '廠區', '接力', '護盤', '占率', '部會', '本質', '最多', '打出', '攻上', '轉讓', '環保', '敘明', '濟日報', '點燃', '契約', '隆興', '日美', '轉入', '宏遠', '電路', '預期性', '否則', '光隆', '延伸', '股板', '走下坡', '展現', '冠狀', '召開', '創史', '天線', '泰鼎', '供應商', '嬌生', '為題', '續戰', '沾光', '緯潤', '升評', '跨界', '光寶科技', '力麗', '新唐', '群聯電子', '捷波', '內外資', '註銷', '緯穎金', '知名學', '區域', '偏鄉', '估價', '僅有', '半年線', '流出', '徵收', '衝擊', '文化', '立法院', '續攻', '創編', '千百億', '勤業', '三路', '先鋒', '摩玩', '驚訝', '白銀', '吳元雄', '華雷斯城', '揚升', '紡織', '日續', '工藝', '撈進', '國票', '中信電池', '老謝', '未平', '交易法', '出刊', '吃到', '看看', '看板', '兩萬', '黃力', '率雙升', '雙虎', '驚奇', '元大關', '利多連發', '能量', '新色', '觀光類', '定為', '一成', '感到', '力拚', '緯創配', '回落', '台灣大', '利華', '收斂', '國泰中國', '證實', '外資期', '前途', '跌完', '提款', '不會', '後續', '大老任', '攻擊力', '寶齡', '檔人', '基材', '新力', '攜甲', '富邦中國', '肥老鼠', '年後', '職缺', '動向', '軋鋼廠', '螢幕', '串連', '緯軟明', '成功', '鈺齊', '遞增', '中信中國', '班加羅爾約', '然而', '換算', '麥格理', '籌組', '實現', '今天盤', '第一', '大園', '手式', '一再', '好事', '採檢', '銷售量', '紅止步', '漲上', '重頭戲', '走跌', '下午', '世界級', '軟硬', '隨後', '正崴', '屏東', '就醫', '如今', '宣傳', '華為', '採購量', '基準', '標準', '零組件', '東鹼', '上探', '沉重', '協力', '板規', '碰上', '證交所', '董座', '五三九五億', '多雲', '孵育', '富控股', '臺企銀', '閎康', '塑造', '花上', '管理局長', '蔡長海', '親自', '破底', '行動', '不銹鋼廠', '雙增股', '評估', '煙台', '一陣子', '礦砂', '啟動', '林百里', '五計', '力山', '台資', '愛好', '保庇', '雙雄', '財會', '開完', '磐儀', '手錶', '傳輸', '穩死', '英業', '亞洲光學', '部位', '醫電', '磨擦', '朱憲國', '精誠', '留近', '感覺', '客運', '帶來', '申請書', '續漲', '日數', '機殼', '搶眼', '皇翔', '困境', '研究生', '不少', '機率', '準備', '茶品', '機河', '發現', '商標局', '裕隆', '承認案', '署名', '關係', '就算', '方歆婷', '汐止區', '當日', '矽統', '想像', '杜蕙蓉', '淨利', '記錄篇', '軍機', '達約', '跌破', '震盪', '年度', '元創', '分成', '研揚', '守在', '股東會', '年減', '清明', '子公司', '維斯', '車用', '行列', '檔尖兵', '譚仲民', '短暫', '日尾牙', '威潤', '屆時', '預購', '地步', '新光鋼', '屢屢', '萬一', '囊括', '運營商', '基期股', '肺炎', '捷克', '身兼', '奇蹟', '榮幸', '引爆', '匯價', '景碩', '陷困境', '把握', '通點', '中保科', '拉抬', '注入', '成就', '買下', '改從', '個人', '紛紛', '原來', '回台', '刪去', '六暉', '趕上', '肺炎疫', '下游', '實話', '世貿', '逐步', '有誤', '稻穗', '心得', '高於', '極為', '穩固', '康而富', '團隊', '插旗', '在線', '旭海村', '小黑', '恢復到', '佳光電訊', '不慎', '本身', '資料庫', '義大利', '制裁', '第九', '富士康', '停損', '大陸', '不服氣', '郭明錤', '沖銷', '低波', '停止', '舉例', '伺服器板', '盤整', '中油', '風雨無阻', '攀高', '主計', '政黨', '喊話', '晶焱', '震撼', '站上', '北市', '只要', '藍思', '籌碼面', '美通社', '三點', '改造', '年均值', '電話', '高效電', '業績', '現階段', '都處', '名稱', '限空令', '絕對', '享有', '昆山緯隆', '官員', '面對', '再度', '動植物', '感謝', '齊格', '中華區', '防護衣', '茂林', '凌華', '中工', '廷鑫', '資產', '移民', '經濟', '控制', '大批', '擬議', '清單條款', '到達', '萬海', '努力', '李秀利', '看俏', '明水路', '周二', '客戶群', '彰化縣', '檢方', '標題', '面試', '停班', '下單', '平方', '神經', '蔬果', '上揚', '市集', '陳丙材', '結盟', '匯率', '漢唐', '晶相光', '失守', '初期', '元件廠', '總股數', '日緯醫', '新纖', '撰文', '一線', '轉嫁', '殺到', '提交', '致振', '推廣', '準會', '股息率', '東北', '豐富', '邀集', '來自', '緯創董事會', '國泰智能電', '技業', '巿值', '債券', '雲南', '廣達盤', '看淡', '日興', '不理', '聚積', '備詢', '就來', '不必', '課程', '狀況', '失控量', '研究員', '音波', '課題', '請問', '研議', '拓凱', '立委', '移回', '獨董', '裕民', '融卷慌', '應居高思危', '英媒', '試乘', '許多', '微調', '趁亂', '歷年', '一氣呵成', '財源', '傳奇', '道德行', '元富證券', '顯示', '盤商', '延遲', '動車廠', '聲明', '學習', '搬遷', '超前', '華新科', '歲末', '措施', '信任', '收低', '力山國泰', '輪到', '長實集團', '金橋', '富錦', '協理', '王逸芯', '穩步', '紡織股', '甲骨文', '產品組', '晚美', '凱喬', '務必', '紓困', '京元', '立積', '蜂巢式車', '在次', '跌幅約', '急增', '過節', '國泰美', '侵佔', '奇力', '螺絲', '聯大', '反手', '風潮', '林偉德', '當前', '猛虎', '承接', '訂定', '履約價', '盡快', '二二', '韋樞', '可能性', '總表', '福懋', '富鼎', '期間', '走升', '下行', '大通', '南亞科技', '登頂', '日月', '蘋果公司', '財產權', '明辦', '抱不住', '資料中心', '大買', '億豐', '機海', '利潤率', '建大', '萬五', '智世代', '領導人', '遠百', '偏空', '跑到', '嘉聯益', '情報', '本來', '華通', '科技展', '統一證', '台塑四寶', '存儲', '經銷商', '華邦電', '東京', '局長', '遊廠', '市值', '應商', '緊接著', '有用', '教材', '台原藥', '月薪', '體現', '保值', '新點', '配合', '大方', '研究部', '賺錢', '順藥', '吊子', '通貨', '優勢', '智邦', '動土', '反查', '施崇棠', '打進', '傳播', '分類', '獨特', '爆量', '松翰', '弱勢', '小器', '東協醫院', '空軍', '年第', '時報', '承諾', '監察人', '篩選', '台虹', '帳款', '大阪川', '賺近', '展開', '沙烏地', '嚴峻', '廠商', '未來車', '提高', '港系', '南茂', '通及', '接觸', '產線', '容忍', '連手', '光電股', '奈米戶', '穆迪', '做頭', '志強', '隔離', '群創', '吸引力', '一日', '接到', '準備期', '中火', '落袋', '夢幻', '實體展', '給予', '關稅戰', '爭艷館', '理念', '夥伴秀', '梯隊', '盛大', '哈哈哈哈', '三商壽', '陽明', '街口布蘭', '增刪', '不如', '率領', '相比', '供貨', '最好', '遷出', '金鼎證券', '連結', '黃志芳', '之內', '掌握度', '下周', '新意', '李國基', '計價', '開啟', '收割', '為了', '處長', '設點', '全友', '告訴', '專利', '淳安', '卓桐華', '陳奕光', '列席', '十哥會', '沃爾瑪', '回到', '事業', '支援', '提到', '區間', '鎳價', '銷量', '開出', '凹單', '相機', '蓄勢', '樂事', '往來', '純粹', '攀升到', '陣容', '止血', '工廠', '儼然', '檯面', '過去', '永信剩', '基於', '說看', '金額', '谷哥', '齊步', '決心', '飆漲', '明確', '迅得', '組裝廠', '高適', '社群', '群募', '尤以', '走到', '創造', '義隆', '上曜', '近年', '譜瑞', '對話', '無法', '王其國', '網址', '昂寶', '梁次震', '永崴', '感冒', '回血', '比達', '本體', '難道', '買入', '萬物', '洗產地', '必拜', '創意', '速器', '這邊', '世芯', '北美', '指標性', '順暢度', '預警', '車聯網', '得以', '內網', '造紙類', '晶技', '距離', '彰源', '電機學院', '慧洋', '設廠', '重鎮', '長空', '內文', '隨即', '其中', '平均數', '外資點', '晶傑達', '鋼價', '俑者', '累計', '擴廠', '零組件展', '股部分', '翁毓嵐', '益登', '切勿', '出列', '公共', '高度', '選任', '驚無險', '躋身', '雙位數', '狠狠', '躲避', '熱線', '共通點', '五年', '台新', '癌症', '預期', '衛星', '重要性', '概念', '國泰', '地產股', '體驗', '落日', '角度', '交大', '神達', '配套', '終結', '展落幕', '豬年', '進軍', '顏瑞田', '稅前', '位科技', '成交金額', '副會長', '半年', '基樁', '可期', '加碼', '攻堅部隊', '資通訊', '業主', '超車', '林薏茹', '總是', '任珮', '會計師', '對手', '連番', '首日', '購物中心', '開發者', '有譜', '增可達', '轉移到', '特首', '來到', '堤維西', '政務次', '為準', '跳躍', '快篩報捷', '同欣電', '詮欣', '革命', '打造', '台幣', '報查出', '美股', '維持在', '皇昌', '鐵口', '班加羅爾', '城市展', '智慧', '激盪', '查核', '大成', '好看', '審計', '共計', '選市', '開曼', '到來', '營銷', '源自', '第三季', '美元', '處份', '營運權', '摩根大通', '事欣科', '股票', '湧現', '兼緯謙', '鑽全', '個體', '庫房', '淡水', '味全', '見臻', '有望續揚', '產生', '鴻家', '遙控器', '智慧表', '信用卡', '站回', '中樞', '抱股', '九成', '售價', '大盤', '預料', '酒店', '元件', '回國', '移動', '帳單', '興起', '主導權', '剛好', '重現', '風官', '田國泰', '名列', '嘉泥', '變色', '困難度', '一概', '廖禹揚', '來頡', '龜速', '歸屬於', '委託', '台北世貿', '貶破', '人資', '國電', '撐盤', '據點', '聲響', '矽力', '副局長', '股價', '屬於', '分院', '炎熱', '休戰', '旺季', '激烈', '資源', '光業', '戰再起', '飛宏', '轉佳', '自動', '因應', '小升', '鍵盤股', '瘋狂', '不同', '說到', '開發金', '控制力', '遲來', '表面', '增逾', '日法說會', '高科技', '不一', '戶日', '疾病', '強漲', '抑制', '演出', '口袋', '中午', '出清', '隔離衣', '過境', '顯得', '呈現', '台建', '鹽業', '不過', '檔獲', '電子業', '登場', '何況', '國家', '喜歡', '高約', '京城', '前進', '五月', '強漲約', '日馳', '醫材展', '形象展', '實施', '日盛證券', '突然', '彩色', '旺宏電子', '日幣', '一館', '印度時報', '膨脹', '上游', '工業部長', '滑板', '可能', '承擔', '依舊', '政治', '餘額', '集團', '報出來', '租賃', '瑞軒', '威剛', '停產', '裡面', '吸引', '求職', '推案', '降低', '太景', '選舉', '開放式', '美中', '欣銓', '低於', '濾網', '關心', '匯集', '譁裕', '熱門', '杲中興', '簽約', '來襲', '上月', '著重', '毛利率', '專注', '跳水', '電股', '南科', '有利基', '擺尾', '增幅', '傳播力', '多少', '恩智浦', '機種', '直至', '失業金', '查出', '排版', '獎金', '致詞', '千附', '以上', '瑞祺', '元大證券', '直接', '研擬', '藉由', '給得', '降息', '第三', '萬難', '擬配', '智慧型', '節奏', '防補跌', '利用', '集資額', '以來', '展示', '價本益比', '副總', '華新麥證', '堅持', '特別股', '訓練', '轉旺', '旅遊', '蘋果', '昭輝', '選股', '核發', '研判', '用電', '睛航生醫', '跨國', '陸續', '勞動力', '退場', '試產', '設產能', '即便', '兆利國泰', '主場', '時止', '意味', '擴張', '虹堡', '易華電', '指期', '杰力', '要求', '關愛', '鄭文宗', '評選', '里程碑', '元區', '美國交易所', '訂單', '優化', '逆漲逾', '核准', '一般', '適逢', '塔塔', '關閉', '第三生技', '形成', '公積', '資訊', '玉晶光', '那斯達', '廠房', '樓主', '放話', '寶成剩', '張真卿', '翻身', '困難', '價位股', '經濟主', '第十七', '滅碼', '喬山', '減弱', '屹立不搖', '錯殺', '佳龍', '平板', '指選', '長榮代子', '東元', '附近', '全波', '成效', '動盪', '年增', '期能將', '淨多單減', '練習', '鍊金術', '報表', '人士', '土銀', '行政區', '海嘯', '白皮書', '激勵', '亞德客', '幫助', '掃貨股', '通路商', '年財報', '正文', '擇期', '石慶堂', '自願', '台北', '股東常會', '刪減', '搭載', '分鐘', '取之於', '話題', '中概股', '重慶', '反攻', '撐起', '理想', '傳言', '鄭州', '服務商', '台耀', '經濟學人', '謝惠全', '亞幣', '凌陽', '資遣', '合併', '惠業', '數位化', '上銀', '很多', '性命', '締造史', '何美如', '放開', '情形', '龍巖', '巨擘', '單純', '力鵬', '精材', '東隆興', '現貨', '躍過', '被動', '開槍', '房市', '法說', '變更', '周五', '存股', '核閱', '新猷', '網友', '強勢', '員工案', '願意', '鑰匙', '優先', '應付', '低碳', '行動式', '理財', '傳統', '耐心不足', '指期貨', '二一', '生鐵', '推行', '液晶', '炮口', '銀科技', '傾全', '回收', '報要聞', '傲視', '提前', '走滑', '逐季', '中間', '走揚', '群組', '錯過', '福裕', '白領', '認識', '另一方面', '設計廠', '釋股', '優群', '股本', '月義隆', '倍指', '邁向', '康舒', '理由', '冤枉', '分層', '月增率', '留下', '營業額', '中央', '浦東', '精品', '走弱', '規畫', '年美債', '以台', '深入', '落實', '卜蜂', '銜接到', '誠意', '超多', '船長', '普遍', '微星', '調高', '因此', '人選', '大戰', '倍增', '在於', '辦公', '大風', '包括', '上旬', '合賣', '矽谷銀行', '眼鏡', '跌回', '名次', '變盤', '資料照', '菱生', '精測', '出資', '資通', '出來', '光磊', '發酵', '摩根大', '只是', '均線', '聯電', '整齊', '層次', '正德', '歐系', '例會', '強勢領漲', '瑞士央行', '畢竟', '克羅馬', '撥款', '增加到', '五成', '高殖利率', '文曄', '暴跌阿', '有喜', '中心', '大賣', '水準', '暴增', '墊高', '教育', '重新', '重登', '頒發', '順應', '重金', '維航', '塔塔集團', '大力', '訴訟', '東進', '傍晚', '投控', '震旦行', '怡利電', '聚鼎', '掩護', '或少', '高溫', '副總統', '三分之二', '海闊', '機款', '半數', '隨時', '組團', '電視', '逢高', '此外', '後市', '加班', '高殖利率股', '名為', '一億', '製程會', '上周', '冠軍', '千億', '看好', '智擎', '參展', '金元寶', '心動', '身為', '緯視晶', '帆宣', '姓名', '成重', '違反', '發行量', '簡稱', '變化', '掌握', '散落', '乖離', '國泰金融', '元關卡', '抗議', '摜壓到', '加上', '廖賜政', '登錄', '大城', '發完', '緯創集團', '早上', '社會', '分道瓊', '銘旺科', '燦星網', '合組', '中央社', '熊市', '實業', '憂心', '美式', '關於', '其陽', '菜鳥', '日股', '郭亮均', '緯創子公司', '福祉', '士兵', '新抗原', '偽造', '下手', '始作', '可見', '林福謙', '委員', '機帶', '有價', '引以為傲', '庫存', '仰賴', '網通', '拜登', '位置', '商銀', '移除', '分力守', '理財產品', '零組', '陸輸美', '向來', '大減', '補選', '凌通科技', '宣佈', '低點', '奇鋐科技', '王道銀行', '遷移', '穎漢', '力晶', '冠星', '往年', '縮減', '說會', '多樣化', '簡歷', '近期', '約當', '連接器', '開法', '即時', '電器', '暴減', '北醫附醫', '六千', '日本', '馬偕醫院', '宏普建設', '通信', '第一金', '版友', '資料', '美軍', '發放日', '電子品', '點數', '回顧', '討論區', '理立', '四月', '依賴', '連日', '協議', '目眩', '反映', '走嘎空', '火速', '恆大', '函文', '六成', '確診', '洗劫', '壓抑', '偏向', '聯盟', '地政府', '入手價', '大砍', '機關', '站穩', '中華徵信', '難料', '氣勢', '謝明霖', '譁裕飆', '秘密', '漲點', '拓展', '齊聲', '世豐', '南電', '氣氛', '兼備', '愛國', '郜敏', '紅杉', '德儀', '成為', '餐飲', '連三', '部門', '先進', '台數科', '政經', '年產', '聯邦銀甲', '擺脫', '締造', '達成', '專攻', '分派', '總產能', '保證', '山洞', '匯雙殺', '漲幅', '天風', '未來', '興勤', '和鑫', '增及', '舊廠', '續任', '破千億', '改款', '走高', '培訓', '打入', '恐斷鏈', '台中銀', '貨盤', '消散', '年前', '手機鏈', '吳文彬', '積極', '智齡', '躲進', '成長型', '發生日', '晉泰', '上機', '台塑', '合理', '光環', '徐衍珍', '關卡', '為主', '增資', '首見', '印度標準局', '多端', '附圖', '殺進', '大廠', '沒有', '生活', '備貨', '奠定', '種類', '新北林口', '亞聚', '建地', '樂斯科', '一覽表', '調到', '同步勁揚', '墨西哥廠', '獨角', '家登', '子孫', '金融業', '高低', '富時', '逆轉', '嘉里', '十八', '貿剩', '分區', '先前', '強盛', '牽手', '瑕疵', '電動車', '共識', '穩健攻堅', '深厚', '紅棒', '應求', '高技', '行政院長', '正隆', '再戰', '怎麼', '拖垮', '合台幣', '終場下跌', '楊文科', '云辰', '奶水', '淨化', '超約', '等於', '拜訪', '帶勁', '金正恩', '萬多', '依照', '主動', '開出來', '台積電', '訊息', '雷聲', '至少', '消化', '消費者', '推升', '成果', '總產量', '鈺太', '四小龍', '盧明光', '上來', '集盛', '勞工', '偽陽性', '谷月涵', '一段', '恐怕', '拉升', '資深', '替代', '聯貸', '元大', '加快', '新竹科學', '熱錢', '無疑', '台肥', '港口', '輪動', '彙總表', '勤美', '稱產', '趨勢', '貿易', '高力', '中美', '仍舊', '比率', '櫃檯', '跳出來', '接任', '正新', '制定', '志超', '態勢', '元大美債', '專門', '長榮航', '晚報', '不能', '加羅爾約', '面額', '戰火', '國內外', '加劇', '中國高股', '暖點', '參議院', '簡伯儀', '中化生', '所得', '雜音', '半導', '視野', '消失', '便宜', '軟板', '賣廠', '內部', '行文', '中証', '預測', '開盤', '之意', '老闆', '精英', '中方', '持分', '全黑', '學人', '普及於', '麥克風', '元富', '過年', '五路', '展演中心', '圖片', '北北基', '安控', '回籠', '巨庭', '引入', '主要', '電裝', '華泰', '比如', '收取', '禁併', '快報', '血洗', '採取', '徵信', '同比', '北部', '盛電', '兩成', '嘉澤群', '敦陽', '穩定', '月底', '軍民', '清明節', '爆紅股', '過於', '而且', '有助於', '期現貨', '縮手', '合攻', '店頭', '立場', '昨日', '標的分', '台揚', '復季線', '主軸', '擬定', '返台', '藍綠', '之初', '戰露', '貿區', '設計', '首先', '空前', '聯強', '醫療展', '麻煩', '戈爾韋', '重於', '增強', '沈孟儒', '試點', '古道', '勞工部', '地區', '掃描', '之後', '出貨', '鼎創', '收購', '無力', '賞臉', '考量', '災區', '潤泰全球', '自結', '卡關', '強勢股', '明天', '公布期限', '到場', '目光', '美債', '無量', '巨頭', '濫竽', '關貿', '作品', '加權', '週線', '一年', '戴上', '上海商', '法規', '小米', '未平倉', '發揮', '陳蕙綾', '定調', '當然', '受惠', '圍繞', '創業', '通嘉', '保持', '樣子', '宏捷科', '經濟部', '企業界', '成分', '專利榜', '沃旭能源', '足跡', '月企業', '開始不振', '榜單', '差價', '代號', '獲利在', '申請人', '大勢', '好轉', '中嘉', '降評', '刪除', '內湖', '台塑化', '控制與感', '利勤', '投行', '璽悅', '哈評', '消費性', '談判', '跨入', '擇一', '事宜', '起訴', '完畢', '軋空頭', '被迫', '地圖', '奇偶', '研發處', '不變', '樂園', '沖天', '頂晶', '股提值', '桃園廠', '機構', '上限', '記錄', '樺漢科技', '檔法人', '投片', '架構', '扣掉', '消費力', '推遲', '金控', '晉升', '新紀元', '美國廠', '廠立訊', '事件', '視陽', '自身', '台期', '重擊', '嘉晶電子', '擔任', '神龍', '希華', '銷盤價', '通過', '矽創', '春源', '國泰基', '財測', '市調', '多方棄守', '有時', '售地', '中信銀行', '南亞', '驚跌', '到齊', '撐不住', '寬鬆', '全新', '鉅祥', '明顯', '投顧', '防制', '康控', '星期五', '溫槍', '對決', '寶鋼', '軟實力', '回跌', '學費', '表示', '惡劣', '下季', '升息', '重複', '永續', '矚目', '教華', '錯車', '端出', '爆棚', '不振', '可選', '智成', '那麼', '年來', '新加破', '顧客', '醫材', '聯詠', '幕僚長', '華孚', '提振', '光片', '中華民國', '拖累', '這些', '衝回', '承租', '黃明宏', '點亮', '慘開', '發電量', '不準', '時程', '金成', '價格', '倒掛', '期盼', '帶領', '亞馬遜', '儒鴻', '往後', '童玉瑋', '造成', '健康集', '草案', '全景', '串聯', '調整', '恐慌', '良好', '地理', '貶勢', '肚子', '台泥', '昨晚', '穿泳褲', '看不到', '廣達法', '儲能', '通常', '砸下', '漲跌幅', '外圍', '分散', '鷹派', '投下', '要不要', '商機', '貼上', '智慧錶', '強於', '有心', '精密', '機會向', '林全', '無礙', '元宇宙', '改口', '瑞儀', '代表', '統計', '來臨', '阻斷', '中華徵信所', '秩序', '規畫出', '大樹', '世界', '倒出', '亮點', '觀光', '柏南克', '採行', '自豪', '倉口數', '信賴', '晨盤', '持股約', '周三', '掏空', '北韓', '良率', '強注', '病毒', '年代', '布蘭', '獎勵', '超豐', '美國', '超近', '私募現', '限於', '蔡娪嫣', '微利', '延燒', '舜宇光學', '大亂', '哪些', '國企股', '鋼筋', '最近', '法人', '營邦', '碰撞', '大殺', '區塊', '警告', '薪資', '概股來勁', '時代表', '大宇資', '綠能', '角色', '校企', '專注於', '權益', '中壽', '任珮云', '脫胎', '單季', '護國', '雙虎不同', '聯絡', '內嵌', '二館', '大案', '穩盤', '台橡', '殺出', '取代', '超跑', '星期', '地方', '略為', '清零', '謝謝', '服處', '規格', '建議', '分布', '晟銘電', '元太', '投資量', '信驊', '採樣', '新光金', '幾乎', '耗資', '抗中', '始終', '情勢', '撐住', '建構', '會診', '超市', '通股份', '慘痛', '起跳', '位數', '勞退', '很少', '宜鼎', '存活', '少數', '科技界', '上櫃', '科技中心', '行使', '大小', '擔心', '眉目', '反彈行情', '威盛', '不得', '大立光猛醒', '華雷斯', '權重股', '權息', '永豐金', '傳媒', '增加', '本土', '席福', '蒸發約', '大同醫院', '台大', '郭妍希', '認賠', '公國', '工人', '送出', '光板', '經常性', '天天', '稱霸', '日益', '會展', '或許', '低基', '日報', '變成', '菲律賓', '事務所', '人氣', '網通廠', '滙豐證券', '上下', '營運展', '併營', '鄧振中', '代操', '反壓', '干擾', '功能', '主管', '攻守', '無私', '金鼎', '充數', '散戶', '能否', '南亞科', '轉移', '顯著', '的確', '整齊開', '效率', '安全', '經濟日報', '支出', '電腦', '揭露', '攜手', '林靖德', '再造', '轉增', '同案', '上海銀', '蕭聖倫', '紛擾', '資格', '目標力', '嘉里大榮', '逐年', '在近', '鎖定', '遠傳', '新德里', '彰化', '布局', '緯穎', '中多', '台灣證交所', '民國', '當選人', '四雄避', '上緯', '華星', '首季', '就是', '五停', '宏碁', '受到', '外媒', '前往', '地雷呆帳', '台灣人', '舊宗段', '交流', '案件', '清單', '信號', '抖抖', '進入', '神迷', '進在', '從以前', '媒體', '供桌', '宇宙', '抱怨', '特斯拉', '實地', '半年度', '載浮載沉', '開紅', '金鼠年', '定海', '負責', '葉獻文', '打破', '數位', '管理', '購物', '後頭', '朝向', '認列', '發展出', '費給', '三八', '匡列', '顯示器', '處置', '過度', '開辦', '格局', '做不到', '分點', '國泰證券', '上緯投控', '攀峰', '潘姿羽', '敘明事', '神盾', '生技', '過往', '僅次於', '採購', '元山', '學界', '航空', '建業', '之間', '之前', '元股息', '手機', '商像', '持盈', '全文', '人次', '國安基金', '當地政府', '盛會', '背景', '開跌', '數股', '透露', '整併', '幫忙', '變動別', '貢獻', '持股率', '年減率', '光頡', '迎戰', '冒出', '但是', '印刷', '混合雲', '浮上', '傘型', '蒸蒸日', '自貿區', '端倪', '樂見', '擇優', '職潮', '翁啟惠', '績效股', '正常', '強力加', '科技', '竹科生', '角逐', '便當', '單價', '亞灣', '人部隊', '狂掃', '操盤', '回檔', '國保', '苦撐', '機電股', '游走', '遠東銀', '供應鍊', '三月份', '一擊', '交換器', '融券', '亞洲', '端午', '避開', '台新銀行', '跌停價', '制度', '量販店', '巨量', '分級', '上任甫', '重來', '守不住', '激增', '更正', '流入', '首位', '升值', '貶值', '有線', '地下', '周年', '矽創電子', '電路板', '比約', '作業', '收創', '剖析', '東莞', '寶寶', '助攻三', '附近盤', '萬華區', '跑掉', '促成', '野村', '回調', '博覽會', '疆土', '華為發布', '反轉', '期元', '榮化', '事故', '強力', '消費型', '重量級', '漲到', '診斷', '老調重', '顯示卡', '元續', '營運面', '瑞祺電', '普誠', '佈建', '藝文', '我國', '攀升', '手運', '打頭陣', '范婉瑜', '而是', '早在', '生產線', '經緯', '重申', '任職', '遠雄', '永豐餘', '靜下心', '賣壓', '季增', '參選', '榜首', '天災', '降評至', '觀察', '上榜', '代表人', '納斯達克', '升及', '國喬', '開源', '生醫', '長興', '欣陸', '開展', '中橡', '上路', '情緒', '多方', '較少', '看衰', '支撐', '電子盤', '跌深', '東新', '鍾兆其', '最佳', '陷空', '處分', '相對人', '新亮點', '城市', '助力', '台聚', '電子時報', '價位', '重啟', '蓋廠', '不同調', '持穩', '大紀元', '重視', '文華', '知名度', '大立', '序言', '推舉', '召集', '出色', '高低差', '增揚', '新冠', '編譯', '外資券', '存續', '周線以紅', '申豐', '高漲', '出具', '翻黑下跌', '謝金河', '金屬', '跌到', '洞悉', '交戰', '學生', '示範', '除了', '釋商', '數字', '升約', '受挫', '長大', '廣西', '尾聲', '揚智', '油價', '電貿', '衛生室', '臺灣', '創惟', '美科', '募資', '追蹤', '美林證券', '碧桂園', '待去', '意義', '巧合', '軟銀', '旺宏', '看無', '防守', '引擎', '隔日', '廣穎', '摜壓', '竹北', '知名', '自駕', '研究中心', '參考', '經由', '留倉', '羅麗芬', '驚險', '張錫', '外進', '直到', '揭曉', '低估', '有利', '降溫', '億台幣', '全身而退', '底價', '跌跌不休', '經歷', '股災', '吳凱中', '原相', '年內', '問題', '新增', '療科', '錸寶', '吃貨', '潛力', '生意', '工具機', '料況', '上修到', '自我', '航運股', '庫藏', '大數據', '機密', '底部', '大部分', '嚇破', '用藥', '一旦', '保德信', '林憲銘', '國巨', '提出', '達能', '病例', '跳空', '智富', '倫飛', '使用權', '它們', '畫面', '第七', '踴躍', '屆滿', '贏家', '金傳', '理事', '筆電', '昱泉', '死掉', '護身', '回升', '林杰宏', '生病', '晶片', '目前', '辭職', '銷售', '開曼康而', '續強', '天量', '智伸科國泰', '聯合科技', '完成', '續旺', '居家', '群益', '桌上型', '東哥', '元配', '一切', '非法', '導入', '新型', '運行', '全資', '日和碩', '林敏雄', '威宏', '零件', '監事', '如何', '淨科技', '也許', '拉下', '日由', '交會', '冠蓋雲集', '摸彩', '萬眾矚目', '杜康', '時序', '信驊科技', '服務', '跨業', '天空', '全訊', '意味著', '隔天', '超為', '點擊', '按照', '撐場', '扶持', '投信', '發射', '算盤', '建達', '類似', '人民幣', '管齊', '理性', '推出', '板卡', '掃瞄', '交付', '火熱', '補跌', '空襲', '漲多', '成功大學', '農曆', '躍居', '陷入', '黃崇仁', '不減', '地點', '餐宴', '股股', '國外', '太陽能', '寒冬', '瑞林', '限制', '許曉嘉', '上檔', '大刀', '軋空手', '活用', '台達電', '集資', '群光電', '億盧比', '挽救', '面板股', '價算', '星光', '放棄', '接班', '兵器譜', '同寫', '市面', '棄守', '智慧卡', '瀚宇博', '長多', '空單', '個位', '愛普', '商模', '可喜可賀', '美好', '支腳', '歷經', '偶爾', '防漲', '晶碩', '坐穩', '績優', '接續', '昨天', '雙拳', '智特股份', '精成', '增達', '結購性', '職稱', '截然', '元跟', '漢磊', '放慢', '藍光', '柯文昌', '容器', '情感', '技嘉', '酬勞', '和碩', '名藥', '陳冠升', '花錢', '升價', '功臣', '狂瀉', '微機電', '這樣', '財星', '台北電', '生華科', '閉幕', '推進', '益航', '前值', '概念股', '大漲', '志聖', '發表會', '開跑', '載具', '建物', '買主', '副總經理', '代碼', '副董', '裝廠', '意願', '競因', '精密約', '藥廠', '公布值', '富采', '罰罰', '不確定', '景觀', '貓大', '國安', '漲幅在', '亞太電', '先行', '公告', '追上去', '國泰台灣', '精選', '小接', '深度', '塑化', '林世嘉', '伺機', '東典', '教練', '改採', '盈餘', '中鼎', '試煉', '跳出', '惠利多', '共同', '標準局', '年初', '成績單', '輕重', '季財報', '接管', '美稱', '元元', '那麼多', '快速', '抗生素', '破點', '四手', '倫敦', '不宜', '成本', '明泰', '兩班制', '零售', '總數', '開工', '庫克', '傳染', '豐榮', '時間', '雙衰', '重頭', '西部', '臨會', '防疫', '軋到', '特色', '輸美', '續熱', '不旺等', '預防', '南茂科技', '未有', '逝世', '目的', '上兆', '營商', '現代', '莫迪', '持股', '害怕', '傳新', '拉斯維加斯', '玩具', '陸資', '絕美', '平日', '完善', '中信金', '集資案', '獲選為', '國民生', '價值', '入列', '總統', '得證', '休兵期', '王來春', '力挺', '新任', '憧憬', '製造業', '高主', '優異', '勤誠', '逆風', '這麼多', '黃佩君', '進出', '民間', '可成麥證', '後第', '里昂', '工具', '哥廣達', '會場', '門市', '其次', '打開', '洽商', '佳話', '破億', '漸漸', '月產能', '學校', '研討會', '瞄準', '會在', '洽談會', '汽車', '鄭州廠', '沒人', '創設', '龍彩霖', '產地', '作帳', '萎縮', '電腦廠', '日法', '大中華區', '世紀', '訂下', '厲害', '泰山永豐', '推薦', '總量', '萬四', '大關', '谷歌', '翻紅', '掌聲', '上証', '創辦人', '報紙', '力積電股', '微笑', '研華', '唯獨', '佳績', '葉倫', '莫德納尋寶', '雙雙', '眼光', '水位', '績效', '進口稅', '和生', '靈敏', '總交易', '消息', '還好', '敘明事項', '榮運', '自營', '弄到', '勉強', '怎麼樣', '零食', '有何', '不明', '生理', '爆表', '領漲', '壓力線', '戰未歇', '中秋節', '廖賢龍', '徵信所', '一下', '控管', '千金股', '時機', '惠股', '重設', '重創', '元排', '走勢', '權值股', '高股', '主題', '編輯部', '承銷價', '那時', '由於', '聯手', '電網', '點王', '點出', '飆出', '不僅', '設在', '議題', '網路', '打到', '失敗', '關鍵', '放假', '登次高', '長育禎', '虧損', '白宮', '歸收', '拖慢', '罷工', '計有', '忽下', '國立', '跌勢沒收斂', '建置', '電話法', '新東', '瀚宇博麥證', '推文', '理財網', '志業', '穩懋', '元平盤價', '新至陞', '展演', '製造', '雙升', '國有地', '宏泰', '再來', '舊金山', '石油', '品牌', '佳能', '何時', '颱風財', '大型', '好旺', '陳唯泰', '搶鏡', '瘋高', '環宇', '智慧機', '不斷', '生產中心', '值為', '檔區', '重量法', '環顧', '必須', '銀行', '台灣', '產後', '範疇', '年會', '大大', '新北', '打造成', '破局', '繁中版', '漲停', '群雄', '沈培華', '崇越電', '星瑞林', '結帳', '改盤', '營運', '颱風', '應邀', '晶心科', '拿到', '市立', '盡量', '年輕', '鑫創', '利基', '恒耀', '襲擊', '大家', '為首', '方式', '周線', '福壽', '或是', '爆料', '事實', '表現', '符合', '拉回', '終於', '漲跌', '抗震', '提值', '聯陽', '之外', '驅動', '觸碰', '收日', '熄火', '豐沛', '費雪', '月創', '越過', '護國群山', '費城', '收約', '缺欠', '比起', '挑好', '賺贏', '遴選', '合晶', '落成', '順德', '交割', '光投', '不管', '紓緩', '砍文', '日盛金', '死亡', '長榮', '台北市', '越南和印尼', '出去', '成長', '研究', '尋求', '鐵路', '概股', '改選', '塑造成', '控股', '概況', '縣市', '總值', '到期日', '新高', '甲骨', '飲用水', '人力', '決策', '商台', '前日', '道阻', '治療', '價差', '元晶', '將近', '貼息', '這麼', '開創', '哈哈', '利空', '重點', '水泥', '台灣高鐵', '交叉', '淨利率', '超國票金', '伺服器', '筆記型', '神化', '搶購', '頭殼', '亞洲區', '探至', '鼎炫', '台灣大學', '跨足', '中韓', '擴充', '一百', '人口', '買賣', '公股銀行', '融合資', '早期', '標明', '擴產', '據傳', '神秘', '避險', '台海', '哈佛', '鴻海', '張榮發', '推廣給', '麥格理證', '期貨', '彈升', '三足', '對外', '增長', '電機', '死魚', '伺服器廠', '旭隼', '會議', '農曆年', '量產', '期指', '俄羅斯', '季減', '安聯', '加入', '看來', '編纂', '指點', '宅推', '高雄', '高息低波', '擋不住', '申報', '臨時會', '消費筆', '護體', '開模', '青睞', '新美齊', '阿朗', '階段', '了解', '快篩', '加羅爾', '美商', '緊接', '結束', '雲霄飛車', '泰博', '貶低', '製程', '邦特', '遠東', '身份', '笑到', '定期', '大聯', '點作', '日期', '逸達', '幾年', '利益率', '富士', '聯上', '聯發科', '普爾', '技術長', '原料', '轉而', '訪問', '營利率', '聯席', '頭銜', '放緩', '憑藉', '吉茂', '萬芳醫院', '心血', '洗掉', '中小', '得獎', '皇田', '諾華腫瘤', '長線', '高息股', '溫和', '總處', '告白', '招募', '經濟時報', '紛紛西', '出量', '馬來西亞', '以外', '邀法', '西雅圖', '無縫', '重整', '猜測', '百貨', '新機', '過關', '劣於', '結購', '呂朝勝', '頭香', '摩根士丹利', '創投', '網站', '引發', '丹麥', '政務', '苟同', '台達', '年增率', '商務', '下半年', '當初', '上看', '規劃', '一早', '神針', '地產', '元價位', '簡永祥', '反應', '櫃買', '發覺', '予以', '分館', '創獎', '動作', '上雲', '多於', '反而', '中鴻', '吃穿', '聯網', '日月光投', '當局', '日止', '金士頓', '華新科技', '晚間', '好笑', '老牌', '損益', '韓國', '成交比', '大戲', '達欣工', '短線', '見血', '減煤', '方案', '如意', '賊現形', '奈米醫材', '營運動能', '存在', '簇擁', '蔡英文', '台積電台', '逞凶', '以為', '台灣晶端', '提請', '時碩', '事由', '碩續', '新科', '主板', '演說', '投資法', '外電', '北富銀', '國泰美國', '中鋼構', '爭取', '高興', '投資', '高科', '如下', '明基材', '何醒邦', '引進', '市政府', '強漲逾', '太平戴維斯', '文件', '交換', '護理', '加薪', '解析度', '本人', '拉貨', '利益', '金融股', '分析師', '二十', '增至', '貿易類', '代表性', '興趣', '催貨', '智慧城', '爆發', '敬鵬', '有沒有', '各自', '第二季', '醫療科技展', '報告', '不足', '人身', '日外資', '口味', '貿聯', '交易量', '財團', '其他', '凌群', '蘇比克', '心理', '轉向', '雲品', '爆紅', '下空單', '禾伸堂', '鈍化', '戰而', '夢魘', '借用', '崛起板', '講座', '台驊', '華新', '良機', '大多數', '高價', '櫃買指', '創立', '鴻海集團', '尚凡', '分棟', '碩印尼', '合夥人', '根本', '映泰', '櫃祭', '東台', '富發', '合資', '局勢', '划水', '適合', '上半年', '超級', '駕車', '國際盃', '重組', '元大台灣', '代表署', '上岸', '外資力', '坐鎮', '答案', '超微', '復健', '極權', '大立光達', '轉往', '建築', '禮包', '面板廠', '台東', '日成', '在中', '納智', '軟件', '中美晶', '籌設', '旭富', '打算', '跌勢', '整合', '殺低', '玻璃', '系列', '會長', '天下', '宏達電', '值得', '談話', '影線', '文青愛', '擠下', '股目', '十分之一', '世事', '震幅', '備妥', '伙伴', '上演', '便利性', '無敵', '早盤', '副總裁', '若非', '腦部', '考慮', '搶地', '市占率', '中旬', '美麗', '宣布', '期局', '佳世達', '進步', '聯發', '提及', '務實', '快捷', '統治', '費半', '禁令', '才可', '拍板', '開策', '股利發', '買貴', '創資', '九九三五億', '穩居', '即將', '藥品', '月筆電', '購買', '中保', '權王', '通關', '尾牙', '社團', '吸血卡油', '軌道', '交出', '亞股', '大風吹', '童子賢', '水湳', '維護', '跨域', '續揚', '雄獅', '聯邦銀', '自駕車', '應用', '合計為', '優秀', '滬深', '推動', '在職', '競賽', '洗禮', '大立光', '主因', '獲利王', '正確', '排行', '現況', '為所動', '想要', '生效', '安全性', '重貶', '信心', '乙特', '村民', '麥證', '臺灣證券', '準備好', '出頭天', '模組廠', '分享', '軍車', '世代', '第一金投顧', '落入', '轉大賣', '七年度', '強攻', '現實', '兆勁', '不到', '松普', '相對', '聯華', '漲停板', '空頭', '新廠', '零股', '惦惦', '新興', '祥碩', '波及', '降價', '智原', '大億', '超不平等', '緯醫', '康普', '料件', '券商晨訊', '喊卡', '保守派', '具有', '合眾', '二連三', '趨堅', '準確', '字頭', '公尺', '達興', '股華碩', '承受度', '延續', '高檔', '雙殺', '點報', '解決', '雙方', '年起', '有所', '同期', '疫苗', '脫歐', '對下', '康友', '由田', '神基', '筆電廠', '新巨', '普生生技', '預言', '波音', '消耗量', '結凍', '壓力', '整合商', '積體', '月均線', '衛生', '利潤', '期街口布蘭', '簽名', '施打', '唐嘉鍵', '開刀', '並且', '盟友', '日加權', '摩根', '上攻', '學術', '那些', '光鋼', '大亞', '疲弱', '中磊', '資券', '做法', '交接', '空方', '美食', '價股', '彭双浪', '不鏽鋼', '康和證', '相隔', '高達', '發給', '準日', '續看', '上班', '瑞半導體', '外法', '技術', '成員', '靠攏', '總金額', '陪伴', '防禦型', '並非', '夥伴', '雙重', '股愛', '自信', '雙邦', '富邦台', '不畏', '任職於', '剛剛', '總監', '起始', '至於', '然旺宏', '招聘', '樂翻', '電晶體', '遭受', '評價', '齊頭', '排第', '業績股', '齊揚', '台灣大哥大', '走向', '面俱到', '取得', '現增', '風暴', '旗艦', '雲端聯盟', '軍事', '聯準會', '跨向', '建築中心', '爭議', '額度', '長黑', '可望於', '背光', '有關係', '重回', '排上', '百和', '開發', '穩守好', '遭賣', '上海浦東', '涉嫌', '億上膛', '眼球', '池上秋', '教授', '週一', '貨櫃', '聚亨', '中科院', '補貼', '缺席', '面臨', '持續', '研調', '福邦證', '台股', '合買', '國票金', '禮拜', '人才', '大跌', '開拓', '突來', '萬台', '飛鷹', '來源', '依序', '東方', '華晶科', '量級', '運用局', '型股', '精確', '交易', '下殺', '巨變', '新漢', '聯貸圈', '鉅亨', '宣告', '宏觀', '使得', '民眾', '看壞', '不確定性', '耕興', '辦理', '買超股計有', '成績', '倒地', '東聯', '老二', '領先', '敲定', '紀錄', '紡織廠', '服務業', '瑞聲', '漸增', '零星', '報復', '工控', '韓扶植', '智鏈護', '救急', '駕駛', '劇增', '牡丹鄉', '一定', '晶圓', '砍單', '坦承', '提醒', '判斷', '急衝', '衛材', '回暖', '明朗化', '大舉敲', '張數在', '月工廠', '簡化', '奇翼', '不只', '連動', '見止跌', '食品股', '以及', '日系', '單週', '華城', '原菌', '搶走', '搶進', '特斯拉利多', '四寶', '盯上', '又一', '樺電', '回吐', '點達', '器材', '籠罩', '到位', '高層', '野人', '投資者', '閒聊', '陳雅琳', '茂迪', '卡納塔卡省', '出擊', '娛樂', '德麥', '正達', '季底', '收資', '藍海', '日後', '凸顯出', '鰭式場', '展店', '收窄', '蔡明介', '充份', '網際', '演唱會', '捨棄', '臻鼎', '小於', '趨緊', '緯軟股份', '用車', '財報', '化解', '奪走', '席次', '蘊釀', '設計股', '結算', '路雲', '低位', '三虎', '圓展', '宇隆', '長久', '主招式', '愛其來', '鏈結', '工作', '港版', '富邦媒', '油金', '開鍘', '病患', '數量', '代子', '其實', '利用率', '輸入', '交通大學', '全漲', '不錯', '翻譯', '獨角獸', '劇烈', '風雲', '部分公司', '認證', '可謂', '破兆', '板接', '查閱', '偏低', '昇陽', '銀行股', '保守', '騰輝', '當成', '記得', '亞馬', '總成交值', '寶滬深', '後期', '工業區', '開盤日', '鴻海集', '美銀', '交貨期', '連動性', '空窗期', '月俄', '官田鋼', '標案', '晶華', '拉尾盤', '美科技', '中菲行', '呂淑美', '主力群', '習會', '血管', '潤泰', '學院', '有限', '不利', '月子', '進展', '參訪', '神木', '主打', '彩晶', '認為', '吳重雨', '壓低', '露出', '會議室', '供應器', '遠距', '高通旗下', '適當', '從即', '正在', '次於', '營收', '營益率', '兆赫', '今天', '量販', '戰出現', '暫停', '行銷長', '新品', '個月', '關稅', '水泥股', '台新金', '二三', '界霖', '鍾榮峰', '經驗', '乘勝', '集中', '試跑', '改寫', '經濟部長', '低迷', '動能', '群山', '教學', '讀版', '新生', '弊案', '普惠', '配發', '評級', '電動化', '園區', '雙美', '獻給', '緯創作', '艾美', '連宇', '吸金', '倘若', '升溫', '良心', '多元化', '台表科', '催眠', '單位', '收市', '寫好', '損平', '油電', '並以', '凌晨', '大權', '總部', '決議', '運動會', '瑞士', '蒸發', '諸多', '中化', '港商', '營利', '廣達電腦', '富貴', '機械', '冰鎳', '找來', '戰後', '醫療科', '樓宇', '媒合', '戰爭', '國健署', '違者', '人意', '委屈', '鐵板', '二二八', '暫時', '資金', '退休', '擴散', '寶成', '拚守', '急單', '折舊', '刪文', '程世嘉', '簡便', '支撐股', '勞保', '提升到', '收在', '跟漲', '創去', '用之於', '腳步', '以致', '如期', '專網', '超股', '年去', '植物', '專才', '除息基', '灌頂', '討論', '證交所法', '有效', '蟬聯', '玩玩', '金像', '列入', '神奇', '不熟', '中止', '說法', '金日', '急於', '嚇到', '停利', '江興鍛', '力求', '董事長', '小鵬汽車', '總獎金', '通縮', '茂達', '廣明', '砸廠', '需求', '長虹', '成數', '富邦', '軌跡', '下載', '網頁', '南紡', '電腦展', '歸屬', '再成', '搶搭', '永日', '所以', '搭配到', '扛住', '蘋概股', '意外', '密切', '太陽花', '淡季', '張紫吟', '執業', '塑化股', '活力', '佰研', '較為', '撿到', '幸好', '五華', '獨秀', '狂砍', '維持', '謝艾莉', '大咖', '燿華', '傑達', '執行', '回頭', '訊舟', '記者表', '一點', '方面', '太極', '下影線', '家門市', '以前', '進榜', '紅利', '聯陽多', '強化', '問世', '證券', '指標股', '老朋友', '專訪', '伺服器市', '一夜', '降為', '醫院', '台勝科麥證', '說出', '中國附醫', '介接', '初續', '緯哥', '搖身', '歡迎', '複雜', '計算', '後台', '排行榜', '保瑞', '一月', '下調', '旭海衛生室', '年間', '工業局', '契機', '美國銀行', '力積電', '大概', '雖然', '志信', '典範', '眾達'}, 'down': {'種種', '外資', '觀望', '正常性', '擴建', '看法', '月間', '章程', '聘用', '多頭', '指數位', '轉機', '登上', '物聯網', '股东', '高點', '扶植', '台郡', '開心', '慘重', '骨骼', '偷走', '通用', '新浪', '回流', '重心', '急跌', '殺走勢', '加強', '第四季', '以待', '華南金', '良性', '扎根', '一一', '台協會', '開低', '泡沫', '調配', '彎腰', '組裝銷', '壽險', '逼近', '北區', '預算', '創見', '參與', '多達', '付出', '客戶', '歐洲', '未來性', '宗盈', '國碩', '環鴻', '看回', '起漲', '純益', '通告', '日線', '人者', '高盛', '公布', '疫情', '收回', '醞釀', '線上', '權重', '張朝欽', '事情', '免費', '車載', '請益', '晶豪科', '應材', '程度', '信託', '砍掉', '抬轎', '邀請', '我們', '航海王', '回家', '物價', '大集', '上銀科技', '廣積', '威健', '更下', '卡位', '規範', '沈重', '友通', '科技股', '思達', '借急', '難耐', '刺激', '導光板', '互見', '啟碁', '加計', '穩穩', '侵蝕', '嚴格', '捷克經貿', '買單', '韓婷婷', '罩頂', '多單', '爆出', '推特', '追捧', '高速', '賠賣', '原始', '見關', '範圍', '苦牢', '編寫', '表科', '走人', '副理事長', '允強', '建廠', '交給', '機會', '議案', '整理', '檢疫', '泰詠', '出口', '不用', '微幅', '聽聞', '泰金寶', '額外', '五哥', '李洲', '有壓', '漲約', '列到', '攻勢', '排擠', '天價', '驚驚', '能力', '磋商', '淨損', '亞東', '防控', '類別', '基建', '大事', '滿足', '千多萬', '基地', '率先', '當地', '季報', '一致', '股版', '動力', '編製', '上漲', '特性', '收益率', '空間', '突破', '容易', '萬三', '籌碼', '狂敲', '旗下', '原則', '京元電子', '方向', '協作', '智易', '法德藥', '貿易戰', '合計', '轉居家', '中長多', '鄭國強', '關係人者', '搭配', '自購', '手續', '關係人', '下一步', '臺股', '東森', '回補', '凍漲', '物流', '翻倍', '巨大子', '轉賣', '解除', '再增', '印太', '網格', '中砂', '創單', '上述', '漲勢', '普騙', '探逾', '集團子公司', '大選', '聯合', '必然', '預計', '休假', '本面', '納入', '群聯', '中華', '大計', '停牌', '冷卻', '數技', '授權', '劉德泰', '多半', '航運', '甚至', '聚焦', '好幾', '缺貨', '覺得', '其餘', '翻買', '無端', '發言人', '製造商', '週四', '營收規', '郭台銘', '張數', '林進財', '金控業', '財信', '打電', '經濟體', '南部', '效應', '公開', '聚集', '辦公室', '陸廠', '獨立', '露臉', '岌岌可危', '大單', '進一步', '最為', '填入', '出席', '新北市', '剩餘', '滷肉', '辛耘', '媒體集團', '軟體', '跳電', '貶轉升', '凝聚', '張世忠', '聯鈞', '乍見', '大昌', '線下', '大聯大', '指數', '命令', '恒生', '成立', '攻克', '案例', '部份', '死守潼關', '金像電', '百分之百', '甩尾', '網通業', '利率', '網絡', '程式', '當選', '外界', '第二', '爬山', '免疫', '買近', '完工', '敏感', '微軟', '發行', '定義', '條好漢', '家數', '最終', '追求', '各界', '輕量化', '追價', '中國', '敦泰', '下滑', '培育', '出籠', '拼圖', '截止', '四維航', '收跌', '扶不起', '新台幣', '處於', '蔚來', '從事', '機電', '解任', '賠錢', '縮至', '綜觀', '負債表', '移出', '而言', '林伯豐', '郭董', '雷軍', '見到', '出入', '幫手', '資本', '供應鏈', '初步', '申購', '導體', '模組', '權益法', '移轉到', '註冊', '發放率', '回神', '一些', '鴻碩', '名單', '江蘇省', '建準', '網站名', '大哥大', '放量', '健鼎', '常會', '主委', '合作', '充電樁', '全面', '舊任', '公司', '漲升', '接連', '狂鷹', '就業', '新產線', '中租', '素質', '易助漲助跌', '設備', '單口數', '醫管', '嘉澤', '戰戰火', '富邦金', '平均', '買方', '午安', '陳柔蓁', '深耕', '美金', '失控', '董事案', '廉價版', '用在', '成熟', '跌少', '好傷', '定案', '台苯', '蔚為', '呈現持', '基本', '印度', '變數', '收盤價', '集合', '前夕', '外自', '大法', '大立光豪', '中國時報', '家子', '蘋概', '排除', '詹顯德', '經濟學家', '祭出', '砸近', '轉攻', '逃殺', '主持人', '常態', '除權', '上增', '號令', '華爾街', '累積', '呼籲', '豐收', '晶電', '基泰', '貨物', '收小紅', '協助', '搶買', '什麼', '難免', '等到', '佈局', '避免', '自行車', '需要', '銳減', '呂世民', '為何', '環境', '盧比', '去年', '確立', '立訊', '為什麼', '月後', '葳天', '盤勢', '揭示', '發電', '深証', '花掉', '位於', '業界', '日電', '固料', '電商', '點名', '回溫', '特正', '華邦', '聯益', '台半', '王宜弘', '假設', '智能', '數據中心', '進場', '鑽石', '捷報', '一季', '兆豐', '聯發科技', '席捲', '不敵', '新制', '往下', '墨西哥', '決定', '承認', '下週', '欽奈', '重訊', '傷害', '傳產股', '終場', '調查', '龍頭股', '泰山', '昶泓', '東陽', '隱憂', '避稅', '穿戴', '匯兌', '西門子', '照護', '不確性', '轉單', '高階', '破格', '獲得', '莫過於', '交易案', '變種', '性質', '跨區', '興能', '暫休', '百萬', '慘跌', '法令', '行為', '鎖住', '中華電信', '決標', '減碳', '美方', '跟進', '多數', '頭條', '鎖上', '幹部', '緯昌', '台達電台', '習慣', '經營', '直言', '暴動', '南向', '林建勳', '實力', '洗盤', '貨運', '益得', '剩下', '週三', '活躍', '中山', '年多', '削弱', '月份', '限公司', '作收', '強彈', '保障', '特幣', '買賣股', '統包', '前景', '有利多方', '總額', '賣超下', '最後', '新任者', '效果', '調節', '聯嘉', '好像', '有名', '泰碩', '納上', '壓寶', '不俗', '井琪以', '月線', '順暢', '綠電', '匯聚', '博智', '討論案', '回轉', '緯育', '涵蓋', '美琪瑪', '大於', '領利息', '回復', '公佈', '自然人', '實體', '高通', '新低', '跌逾', '玉山', '相關', '羅素', '交通', '台系', '沈榮津', '百億', '中韓台', '成分股', '缺口', '走低', '定存股', '自然', '殖息率', '同學', '病床', '重返', '百多億', '醫療院', '股數', '操作', '復工率', '風險', '續提款', '無知', '俄烏', '知道', '尖點', '疲軟', '三十億', '亞翔', '和益', '房價', '工型', '當中', '大戶', '上周五', '發出', '籮筐', '達到', '注意到', '而已', '永昕', '壓盤', '建立', '拭目以待', '相當於', '經銷', '崑山廠', '社區', '昆山', '晶傑達光電', '聲喚', '據悉', '三年線', '代工', '普通股', '基準日', '留強', '解套', '點等', '中和', '一樣', '重挫逾', '組合', '帶動', '目標', '緊追', '現金', '隊法人', '強勁', '賣掉', '收復', '默默', '攻下', '山頭', '紡織業', '狹幅', '結合', '備忘錄', '柯拉爾縣', '晶粒', '開市', '作多心態濃', '勝傳產', '公有', '中文網', '梯次', '長短料', '代子公司', '搶先', '軟硬體', '屬實', '約定', '詳閱', '亞太電信', '衝刺', '兆豐金', '總體', '發標', '輝瑞和', '萬二', '大洋', '友訊', '報捷', '供需', '今國光', '陳峰明', '代價', '時段', '遞延', '算是', '台中市', '彈性', '營業利益', '南帝', '介面', '減少', '標的', '急殺', '錯誤', '年報', '新聞中心', '商壽', '四成六', '配發給', '股權', '台韓', '台達電子', '早已', '李長明', '舉行', '上海', '強滾', '列為', '驊陞', '日月光', '開設', '單月', '盛餘', '內線', '止勢', '車輛', '觀測', '優選', '警戒', '關注', '總裁', '領軍', '名師', '入場', '產能', '口數', '長達', '新金', '領導', '天數', '設備廠', '惠普', '跑去', '黃豆', '天鈺', '立敦', '金價', '前瞻', '上海商銀', '遠距辦公', '融斷', '等逾', '振曜', '跑光', '群架', '元大金', '搶單', '集結', '小資', '創攻', '價續揚', '進攻', '下修', '個別', '權證', '績優股', '股海', '此舉', '缺口未解', '監視器', '派案', '羅達生', '瑞昱', '施打率', '主帥', '工控物', '黃金', '聽到', '另外', '行情', '深圳', '偏鴿', '相較', '電動', '其今', '差不多', '配息率', '券商', '重挫', '趨吉避凶', '研發', '落腳', '變得', '拍檔', '等同', '產品', '全時', '助攻', '盤面', '趕緊', '投資人', '電訪', '張淑華', '美德醫', '衝鋒', '降至', '開盤價', '烏俄', '翻攝', '還是', '盛群', '劉居全', '拼命', '涵蓋到', '管制', '只有', '工業', '希望', '精準', '總領館', '買回', '亞昕', '小幅', '馬瑞璿', '買進', '榮景', '食品', '陸企', '美時', '驊盛', '美光', '跌停', '展覽館', '腰斬', '持平', '經貿', '幾千', '考察', '短多', '股市', '大禮', '起來', '意見', '百分比', '消毒', '確保', '誠美材', '再生', '有點', '使用', '熱度', '盤堅', '電業法', '武漢', '歐式', '更多', '精采', '設置', '凌通', '商業', '遭致', '賣股', '期街口', '開發出', '浩鑫', '庫藏股', '公投戰', '官股', '波若威', '標脫', '共有', '應鏈', '管理區', '自主', '新光', '入股', '新臺幣', '小鬼', '驚豔', '長華', '發動', '財富', '應該', '元月', '台商', '驗收', '新創', '金寶', '中釉', '大馬', '日一早', '一向', '記者', '遭瓜分', '肆虐', '工信', '周增', '說明會', '售屋', '達創', '暢旺', '鼎元', '吃緊', '氧氣', '自住', '多久', '高端', '路透', '個股', '英業達', '美對', '進度', '莊丙農', '接獲', '亞東證券', '宜特', '台橋', '不佳', '安侯', '獲取', '悲觀', '磐旭', '中石化', '遊艇', '壓回', '策略性', '榮成', '摜破', '撤回', '雄厚', '中信', '統一', '金利', '浪費', '光寶科', '糾紛', '鋼鐵', '黃柏漙', '和碩月', '完美', '進口', '隆隆', '出售子', '停工', '如興', '緯新', '點收', '仍然', '年貨量', '超过', '斥資', '角力', '矽格', '深化', '別人', '載材', '到底', '創高', '季節性', '興建', '鮮明', '挖角', '申請案', '編輯', '商用', '四確', '挖礦', '傳遞', '品質', '段落', '根基', '倒水', '富喬', '里程', '台中', '策略長', '四成', '發布', '日前', '強大', '動工', '多元', '開放', '首要', '榮剛', '相繼', '跌幅', '坐落', '因素', '緣由', '超等', '輔具展', '迅速', '中國大陸', '闖入', '成長率', '有關', '金融指', '長期', '有撐', '下跌', '贏過', '族群', '而定', '主機板', '唯一', '大舉', '逆勢', '個位數', '處理', '地方政府', '新竹縣', '增溫', '惠特', '進助', '受惠於', '大疊', '存款', '半導體', '接招', '在後', '依循', '興農', '八年', '逐漸', '井琪今', '雞蛋', '新手', '格式', '政策', '得到', '綠意', '道瓊', '原先', '阿米', '享受到', '背後', '後線', '元大台', '如穩懋', '互聯網', '開打', '走衰', '一口氣', '日圓', '簽署', '負荷', '入袋', '魏哲嘉', '健喬', '宣示', '台航', '頎邦', '台指期', '漲跌價', '受創', '轉型', '日盤', '觀測站', '確實', '台玻', '主戰', '加重', '同質性', '有望', '昆山廠', '劑定', '比亞迪', '進程', '共築', '生產', '位居', '以便', '反轉走弱', '台化', '比例', '效益', '價潮', '放大', '節目', '項目', '缺乏', '呂理達', '型態', '大增', '看待', '毛利太', '漲價', '兩岸', '低量', '巨大', '寶座', '十分', '簡介', '三陽', '季增幅', '續抱', '支付', '學醫', '建築業', '市場', '競爭力', '力成', '年減近', '實用', '百分點', '步調', '台幹', '課徵', '火星', '九暘', '正軌', '油門', '頻道', '三廠', '部長', '供給', '劉董', '月領', '好不容易', '大約', '轉賣為', '伺服器業', '傳出', '核心', '毅嘉', '之中', '兩百', '股利', '股息', '具備', '憑證', '國光生', '發達', '加分', '包含', '韓國瑜', '華紙', '玉山金', '衰退', '許可', '拿去', '月月', '在地', '息值', '通通動', '紅盤', '產值', '高峰', '停擺', '資增', '華固', '看出', '未能', '自由', '不予', '生策會', '按時', '三陽工業', '精品獎', '收入', '組織', '甩開', '華映', '正式', '強調', '產業', '出手', '提高到', '申請', '漢翔', '分別', '說明', '轉趨', '遷往', '修訂', '全數', '分比', '建漢', '知識', '隨著', '晶端', '美聯準會', '顯見', '友嘉集團', '作者', '超張', '增添', '旺盛', '應對', '衝上', '終盤', '華通電腦', '大小眼', '現任', '差異', '以下', '小力', '短期', '交期', '慎選', '陳俊聖', '深刻', '賣完', '生技股', '待發', '經發局', '根據', '進逼', '鍵盤', '產官', '楊金龍', '金管會', '主席', '雜誌', '接盤', '高飛', '一同', '創新', '保護', '秘訣', '亞太', '擴展', '投顧法人', '無線', '細微', '台達電法', '圍廠', '機制', '現在', '潘智義', '反正', '獨家', '原油期', '鎧勝', '醫療', '幾十億', '閃亮', '買盤', '美林', '超彙', '之際', '連同', '阿格力', '分辨出', '買氣', '派遣', '曝光', '呵呵', '障礙', '備案', '能見度', '次高', '電信', '下降', '日盛', '炒熱', '時候', '寫盤', '挹注', '匯市', '耀眼', '併購案', '競爭', '利多', '選定', '安集', '驚人', '興櫃股', '加值', '手工', '鏡頭', '雙位', '美利達', '當年度', '創意法', '陸媒', '缺料', '外部', '記憶體', '進駐', '熱門股', '上調', '止跌', '葉時安', '通暢', '嘉晶', '桌機', '拉掛', '戰力', '積電', '組件', '油正', '難度', '太坊', '央行', '反觀', '三分之一', '成交量', '香港', '利奇', '主人', '公司名', '股號', '氣期貨', '會員', '雖未', '發生', '偉詮電', '電競', '限制案', '華碩', '推助', '從來', '條件', '樺漢', '清奈', '京城銀', '委建', '穩健', '兆元', '估立積', '中國立訊', '路板', '比重', '報告業', '緯創', '達陣', '思考', '醫生', '凱美', '連休', '選擇', '如果', '習近平', '董事會', '高效能', '穩站', '你們', '直得', '之上', '健和興', '待審', '平價', '後段', '川普', '套到', '營造', '權值', '無人', '崩跌', '小漲', '江明晏', '募集', '險守', '儲祥生', '表達', '惡化', '近來', '預估', '彰銀', '升級', '上市', '營業', '延長', '旭暉', '拚創', '找到', '覽表', '人員', '爭奪', '科技戰', '蔡芃敏', '瞬息萬變', '劍指', '廣達', '收到', '緩步', '小紅', '月減', '有如', '台光電', '世界盃', '成交', '順利', '緊繃', '血液', '農林', '內容', '轉到', '永冠', '緊張', '連網', '誤植', '亂流', '稍微', '靠山', '立隆電', '通膨', '意識', '確定', '回穩', '証正', '現價', '痛不癢', '中大型', '投產', '聯華電子', '換成', '打壓', '對岸', '回觸', '審批', '開始', '場合', '撞毀', '三鼎', '暫緩', '搭車', '指標', '中光電', '非常', '攻堅', '董事', '幅度', '東訊', '台加大', '小跌', '題材', '融資', '戴子翔', '蘇比克灣', '至今', '口罩', '翻轉', '宏達國際', '耆妙屋', '一度', '逆差', '貨幣', '日子', '不行', '秋季', '中華電', '可是', '翻黑', '多空', '點火', '鼓勵', '遭遇', '仁寶', '現券', '所需', '在即', '新春', '跟到', '育大', '不淡', '春季', '採用', '減資', '形容', '題材股', '稅後', '大同', '震驚', '候選人', '登高', '小利', '集中於', '明晟', '遠慮', '拭目', '湧入', '企銀', '低盤', '續寫', '友達', '搶下', '減幅', '日多數', '慢慢', '左邊', '全體', '那邊', '自動化展', '走過', '一千萬', '中鋼', '繼續', '上證', '殺盤', '計劃', '博士', '運轉', '萬餘', '股名', '行政', '做到', '人工', '中篇', '川湖', '審慎', '收黑', '派員', '認購', '籌建', '下挫', '鈺創', '藉此', '凌巨', '成助', '德信證券', '不再', '通訊', '專家', '綜效', '新股', '中低階', '發威', '續彈', '閉環', '看漲', '標的物', '職員', '發表', '攜工研院', '短時現象', '日電金', '張紅茶', '運動', '微乎其微', '事業體', '強新', '工商時報', '地位', '見頂', '舉辦', '青睞股', '兆豐新光', '真的', '座談', '低接', '業務', '新藥', '總計', '本業', '勞資', '歷史次', '局面', '以今', '代理', '油市', '好歹', '武器', '力圖', '轉印', '等待', '滑落', '聯想', '目標價', '手法', '售電', '朋友', '土地', '抵抗力', '中天', '聯傑', '克服', '兇猛', '數度', '連任', '開小', '首當其衝', '影響', '年底', '駿熠電', '下市', '加深', '交棒', '市況', '分配', '路篇', '遞減', '首度', '員工', '換取', '臺灣加權', '保險', '遭排擠', '五萬多', '踢出', '接受', '籌資', '可見一斑', '廣宇', '台勝科', '海運股', '結構', '街口', '嘗試', '延至', '入囊', '美系', '總經理', '主力', '酈英傑', '可利', '速度', '驚傳', '呂淑', '單日', '難以', '國泰金', '真正', '押寶', '出門', '緯創約', '大田', '世紀鋼', '達邁', '升高', '季線', '收破', '台亞', '防護', '機潮', '變差', '家企業', '碩連', '第四', '原本', '京鼎', '添未來', '中環', '得而', '千金', '發佈', '台積', '據說', '熱鬧', '演變出', '暴跌', '休市', '版圖', '東和鋼鐵', '躺著', '財報股', '求量', '獲利', '陳浩寧', '牛步', '轉為', '下班', '上市櫃', '工商', '元大寶', '數據', '計約', '搶食', '偏多', '用來', '台企', '鴻家軍', '切入', '套牢', '超越', '具體', '量縮', '具體目的', '千萬', '理事長', '股王', '惠美股', '如此', '期望', '創近', '大神', '買超', '閱讀', '股份', '私有', '黃俊東', '傳產', '轉空', '大樓', '簡易', '特別', '凱基證券', '促進', '股票型', '緯創資', '實在', '獲買', '一己之力', '高雄晶傑達', '服務型', '情況', '台美', '贖回', '副董事長', '評等', '全球廠區', '盤中', '新款', '誇張', '標普', '信貸', '本季', '包辦', '進擊', '生態', '結果', '舊任者', '委員會', '擁有', '一片', '多單未平', '第三處', '三星', '測試', '出頭', '毛利', '條款', '周邊', '肚子火', '士頓', '瑞士信', '病歿', '減碼', '房貸', '帶量', '普通', '退居', '走堅', '低價', '過後', '近日', '以後', '領頭', '英特爾', '票型', '分析', '戰事', '賣方', '本益比', '算入', '亞光', '接種', '熱映', '海光', '撤出', '可勝', '試驗', '供應', '群聚', '挑戰', '除息', '相當', '私募', '曙光', '論壇', '人機', '立大功', '狂升評', '犀動', '台墨', '廣達子', '驗證', '大幅', '接近', '分支', '請見', '預告', '朱志洋', '在缺', '經營權', '國際', '有力', '基期', '高價股', '客機', '點整數', '過戶', '元關', '透強', '億光', '持有', '鬆口', '中航', '強升', '為止', '避難', '估值', '會議中心', '緩解', '反彈', '名是', '台船', '截至', '環球', '息基', '萬七', '入主', '意識到', '準則', '宏全', '正面', '總司令', '訊集團', '掌舵', '蕭錫鍊', '環球晶', '期元大', '新潤', '開曼康', '劃定', '依序為華', '折合', '自行', '奈米', '下旬', '終止', '尤其', '缺櫃', '土洋', '分散到', '有助', '大神機', '波段', '南科廠', '電子', '出貨力道', '異軍突起', '可成', '定穎', '通報', '跟隨', '搶攻', '設立', '幾近', '美化', '後勢', '其於', '午盤', '走路', '絕望', '存託', '宜以', '上風', '沒用', '現買', '莊雅珍', '惡戰', '稱為', '態度', '耕耘', '林丕容', '財經', '壟斷', '不需', '暫失', '富邦公司', '報酬', '大陸廠', '可望', '強茂', '母公司', '泰國', '嚴重', '龐大', '重大', '健康', '電池', '宅配通', '花旗', '式微', '擴增', '供料', '王美花', '領投', '討電', '報導', '四川人', '中貿', '下挫逾', '反一', '台光', '幸福', '新聞稿', '雙創', '知情', '硬體', '精元', '百分百', '車廠', '增年', '產業鏈', '增為', '巿場', '飽和', '代工廠', '盎司作', '倒貨', '無關', '解讀', '自己', '水桶', '更新', '月增', '企業', '出國', '拜疫情', '飆上', '聯茂', '滿倉', '文章', '保密', '焦點', '安勤', '瞭解', '邁進', '模式', '力道', '揮軍', '富邦證券', '殘局', '發展', '小弟', '啟發', '量子', '證券交易所', '產業股', '了結', '復甦', '活動', '品牌廠', '光國票', '當時', '萬寶', '華東', '美國聯準會', '台科', '樂觀', '先後', '下檔', '歐美', '專業', '果真', '一直', '改善', '認售', '控觸', '高鐵', '整體', '豐厚', '華擎', '增配', '投入', '因而', '開獎', '力守', '發放', '由此', '超下', '合世', '華頓', '更為', '看到', '流行', '蘇貞昌', '人命', '原油', '技術面', '黑天鵝', '整日', '填息', '開高', '避風港', '捷臺商會', '作為', '牧德', '大眾銀', '蘋果財報', '要聞', '大多', '已經', '金麗科', '跡象', '揚言', '紅黑', '可以', '周四', '突圍', '所有', '樂看', '消費', '原文', '張世穎', '超張數', '國內', '追高', '國企', '事項', '十銓', '催促', '並未', '愈來愈', '製造中心', '資本額', '失業率', '矽力杰', '媽咪', '三三會', '決算', '光寶', '只好', '駿熠', '受控', '數年', '徐康沛', '效能', '那斯達克', '報喜', '三王', '缺艙', '齊放', '流動性', '中立', '宅女', '葉子', '台廠', '合約', '改變', '台企銀', '不順', '遜於', '加持', '儀式', '回應', '動產', '人力水', '總和', '報復性', '江蘇', '佳凌', '嚇死', '亞泰', '縮小', '畢業', '洗牌', '即使', '大立光電', '觸及', '億行', '三成', '光罩', '反向', '外銷', '印度廠', '體質', '大成鋼', '基石', '接掌', '見證', '技展', '副市長', '蔓延', '破壞', '捷敏', '全球', '起伏', '興建廠', '負面', '對象', '巴菲特', '緯創法', '時代', '介於', '低階', '逆境', '演講', '仟元', '華南', '月營', '能源', '法案', '本營', '運用', '快要', '倍感', '疫病', '提報', '載工', '解封', '互聯', '落地', '損失', '主人翁', '基本面', '死握', '下來', '規模', '股東', '專案', '上午', '相互', '美企', '鴻準', '共享', '慘淡', '聯成', '下半聯準會', '業者', '傑出', '美亞', '交易日', '居多', '走疲', '壓制', '跨越', '排列', '因為', '短腳', '罷免', '年終', '密集', '點至', '連續', '航空股', '預估值', '內資', '王建棟', '虎躍', '龍頭', '定價', '鄭奕立', '台南', '鋼鐵股', '要點', '超額', '注意', '雙報喜', '虎年', '帳面', '耳機', '耿鼎', '昆山市', '表態', '善用', '增減', '接手', '責任', '潤泰全', '華航', '落幕', '季度', '早年', '緯創董', '等級', '海內外', '揭幕', '炒底', '計畫', '亞泥', '下面', '主機', '相關法', '元調', '產品線', '門檻', '陌生', '迎接', '衝破', '備受', '翻騰', '飆升', '上萬', '競業行', '工程系', '週六', '浪潮', '漂亮', '資服', '指出', '併購', '估勝', '面板', '卓越', '合勤', '緯創度', '四化', '火花', '財務', '人貓', '美律', '佳音', '供不', '既有', '長假', '預訂', '例如', '同樣', '弟弟', '出現', '心丸', '光電', '熱絡', '陳儷文', '參加', '聲音', '早報', '國發會', '暴徒', '豐泰', '明碁', '電源', '和桐', '上修', '砸毀', '孫公司', '鬧電', '首席', '量能', '欣興', '先是', '舜電', '大別', '疑慮', '淨額', '上市櫃公司', '財訊', '遭到', '上升', '懲罰', '上半', '上季', '歷史', '承壓', '租地', '一路', '進買', '虹冠電', '富邦科技', '小組', '鼎鎂', '公信', '錸德', '晶大', '南僑', '全資子', '無論', '適用', '注重', '促使', '純益率', '假期', '明朗', '正向', '市佔', '行事曆', '估價師', '李明山', '發文', '麗豐', '亮燈', '鳳凰', '印尼', '規定', '出售', '减持', '相信', '記者會', '機型', '刺痛', '負責人', '大老', '估計', '自有', '擇適當', '留意', '初三', '致茂', '商品', '第一季', '招標案', '評比', '健策', '反擊', '救市', '資安', '反噬', '優惠', '致使', '加權股', '二成', '牛皮股', '大拉貨', '異動', '材料', '回彈', '止穩', '收益', '惠商', '華新科麥證', '支柱', '國家隊', '晨訊', '和泰車', '越來越', '急崩蘋概', '聯寶', '加油', '國光', '出任', '平台', '吹起', '面向', '合庫金', '綠色', '友達光電', '股神', '量價', '勞動', '森崴', '堅實', '兩千', '國產', '乘用車', '亞系', '麗正', '有成', '六億', '收盤', '亮眼', '平至', '黃少華', '分流', '化鎧勝', '遠東新', '搶救', '東和', '視為', '相抵', '居冠', '薄弱', '存證', '平淡', '現象', '散熱', '首選', '四季', '裝不下', '導致', '猛飆逾', '郭鴻慧', '修法', '張以忠', '新子', '全球性', '完全', '競業', '相同', '觀點', '太多', '建設', '億創', '大手筆', '領域', '縮短', '台積電法', '執行長', '燁輝', '亞力', '運算', '中小型股', '帳戶', '王朝', '戶數', '冠好', '瓶頸', '投資案', '瑞祺電通', '灰心', '林資傑', '雲端', '人人', '殖利率', '尾盤', '李秉傑', '接棒', '飯店', '幅射', '達運', '專戶', '轉換期', '充實', '拉出', '中文版', '受惠股', '擔憂', '周線連', '儘管', '戰線', '國民', '估算', '趨緩', '北京', '不動產', '受矚', '對作', '緯穎手', '訊號', '波動', '儘快', '感染', '今日', '法說會', '買買', '同業', '盤點', '産業', '出爐', '感恩', '工程', '怒批', '曲線', '示警', '拉斯', '南印度', '升至', '三雄', '拉升過', '力旺', '仲琦', '拜登上', '金雞', '之下', '法國', '配息', '接下來', '減逾', '蔡明彰', '康和', '提早', '購電', '期待', '立德', '台驊投控', '賣出', '鼓動', '行業', '組裝', '不停', '後來', '列賣', '休工', '視界', '科技業', '立讯', '同步', '張憶漩', '包給', '特選', '任期', '新聞', '支持', '擊倒', '備戰', '機器', '明基', '其它', '合一', '淨值', '處理器', '臉書', '宏碁集團', '中斷', '張漢綺', '以內', '賣超', '攝影', '中纖', '課稅', '合庫等', '電通', '幾百億', '不要', '輔具', '針對', '南港', '是否', '衝高', '裝置', '價由', '研究機構', '推波助瀾', '敲進', '點火集', '年終獎', '狂吸金', '苛責', '今年', '做好', '心驚', '自動化', '群光', '狂買', '機板', '莫德納', '外國', '外資群', '聚陽', '二月', '企業約', '回覆', '高市', '大跌逾', '拉鋸', '甄鼎', '橘子', '調降', '可知', '互相', '盎司', '直奔', '打電話', '超過', '大量', '奇美電', '要是', '首座', '展望', '爆滿', '國際化', '下探', '緯軟', '廖婕妤', '頻傳', '加徵', '堅向', '本業營', '經過', '九月', '黃卓盛', '有意', '迴響', '一口', '然後', '變動', '發燒', '位速', '重重', '南方', '雙優', '電信業', '創下', '鈊象', '人數', '台表', '週二', '排名', '大抄底', '背書', '轉強', '戴爾', '繳出', '華夏', '阿格力博識', '金融', '姻親', '中性', '新光金融', '華榮', '聊聊', '力拱', '高峰期', '守住', '擴容', '戰場', '引線', '鄭詠翔', '心態', '加速', '主辦', '力智', '越南', '佛羅里達', '微薄', '如同', '去化', '富晶通', '警方', '治理', '桃園', '昏頭', '未計', '法院', '開戶', '獲准', '營建', '工研院', '台股盤', '實際', '寫下', '先天', '護國神山', '擴大', '率機', '樂富', '明年', '任務', '張建中', '河南省', '走強', '畢業生', '感嘆', '協商', '中小型', '完整', '出貨量', '當道', '次級', '陸版', '逢低', '電路版', '李明', '中興電', '買氣強', '大不了', '尤在', '市場碼', '點回', '台股料', '一斑', '拿出來', '所幸', '單一', '零售業', '掛牌', '流向', '協會', '辨別', '展覽等', '勝出', '優於', '豐興', '杏輝', '乙盛', '減緩', '透過', '復工', '元外', '意圖', '封城', '類股', '雲霄', '元人民幣', '進行', '一發', '基金', '月次', '電力', '平盤', '領到', '停損價', '冷戰', '永光', '國泰智能', '湖北', '億人民幣', '大將', '週五', '自營商', '上市股', '調整完', '手持', '不墜', '托拉斯', '收紅', '用戶', '檔新權證', '月光', '富邦越南', '評論', '當年', '蕭清志', '釋放出', '儲存', '逃離', '居於', '系統', '佳士達', '年線', '無懼', '縮水', '劵商', '庫克造', '發行人', '光金', '回歸', '在乎', '不及', '證券商', '降緩', '橡膠', '息納', '焦點股', '遭殃', '股者', '降級', '選填', '方亞申', '信錦', '業外', '對於', '依據', '常軌', '導向', '新建', '回測', '兩國', '小買', '存貨', '東和鋼', '產業界', '東洋', '逼急', '循環', '這點', '每日', '全年', '謹慎', '部分', '推手', '不良', '場域', '扮演', '礦工費', '修正', '不可', '中實戶', '本宮', '化工', '群益證', '恭喜', '瑞鼎', '恢復', '限電', '百花', '策略', '逆向', '並肩', '楠梓電', '月雙', '勝華', '引述', '關聯', '女力', '電子股', '減為', '季衰退', '活水', '報告書', '小而美', '提供', '富邦人壽', '成交值', '想法', '核撥', '牽動', '明事項', '現有', '原因', '封關', '移到', '冠德', '基礎', '彭博', '大魚', '矽品', '不然', '尋找', '元真的', '跛腳', '春節', '不含', '死人', '光洋科', '封廠', '資通股份', '德國', '日經', '虧錢', '劉揚偉', '恐難度', '櫃公司', '褐皮書', '行政院', '蔡榮騰', '任何', '優質股', '游雅嵐', '堪稱', '保衛戰', '卸式', '茂矽', '心法', '中期', '尚未', '鮑爾', '景氣', '方法', '高密度', '年率', '超強', '稅率', '好硬', '東南亞', '通路', '演變成', '重要', '適應', '戰友', '海外', '他們', '超千億', '達化', '板廠', '京元電', '房間數', '奇鋐', '周屢傳', '獨鍾', '凱基', '日均線', '綜合', '貶值約', '強固', '邊緣', '動用', '吳家豪', '輸給', '這時', '提升', '同時', '過程', '台達化', '天然', '實質', '比較', '光學', '收漲', '簽訂', '果粉', '主流', '百點', '勁揚', '需求量', '周一', '借劵', '動態', '興富發', '造紙', '拉加', '越南盾', '搬運', '同意', '燈籠', '職務', '簡立峰', '成交價', '萬八', '審核', '狂推', '政府', '廠區', '五日', '護盤', '最多', '攻上', '敘明', '值錢', '昇達科', '連任失敗', '編制', '契約', '楊梅廠', '電路', '醫療院所', '否則', '延伸', '浩大', '冠狀', '鯰魚', '京城樂富', '召開', '創史', '毛損', '泰鼎', '供應商', '上海廠', '熱浪', '醣聯', '亂殺', '分別於', '升評', '力麗', '新唐', '嚴責', '血統', '內外資', '科目', '區域', '緩慢', '說起', '估價', '脈動', '僅有', '半年線', '衝擊', '文化', '續攻', '嚴以', '超旺', '前段', '不窮', '先鋒', '王兆立', '白銀', '揚升', '味道', '國票', '中信電池', '未平', '出刊', '和豐', '看看', '看板', '反托', '雙虎', '復原', '驚奇', '漸進', '大展', '元大關', '打擊', '能量', '暫定', '川普准', '系統電', '肇因', '一成', '回落', '台灣大', '收斂', '國泰中國', '證實', '提款', '不會', '後續', '寶齡', '股災跌點', '基材', '點少', '律師', '職缺', '致和證', '動向', '成功', '鈺齊', '中連貨', '中信中國', '然而', '換算', '楊梅幼獅', '麥格理', '實現', '第一', '銷售量', '走跌', '下午', '軟硬', '隨後', '正崴', '如今', '議長', '華為', '標準', '零組件', '東鹼', '沉重', '率團', '板規', '國政府', '證交所', '董座', '不可能', '致伸', '孵育', '歉信', '臺企銀', '陳有諒', '須要', '破底', '行動', '狀態', '評估', '啟動', '指引', '群益投顧', '林百里', '程序', '看增', '標誌', '力山', '台資', '點解', '保庇', '雙雄', '沒關係', '張良吉', '磐儀', '胡鈞陽', '狂撒幣', '部位', '英業', '亞洲光學', '調整期', '理論', '精誠', '帶來', '旺矽', '續漲', '機殼', '獲買超', '定勝天', '不少', '準備', '消息面', '發現', '裕隆', '承認案', '署名', '資工系', '關係', '當日', '矽統', '想像', '淨利', '陰霾', '跌破', '鴻海張', '震盪', '年度', '元創', '大有', '股東會', '年減', '子公司', '重中', '車用', '萬旭', '屆時', '新光鋼', '萬一', '肺炎', '緊急', '捷克', '引爆', '匯價', '社論', '養起', '景碩', '數位力', '瘋傳', '喬遷', '把握', '拉抬', '買下', '與去', '紛紛', '個人', '城略地', '進可攻', '刪去', '交代', '紅潮', '下游', '精密集團', '逐步', '新頁', '心得', '高於', '演變', '買超下', '拉斯法', '團隊', '在線', '中物', '喊攻', '本身', '第九', '制裁', '候選', '富士康', '停損', '得從', '大陸', '年正', '郭明錤', '停止', '尼馬', '倒數', '轉換成', '倍數', '中油', '盤整', '晶焱', '逼鴻', '震撼', '站上', '返年', '晶片股', '只要', '藍思', '虛擬單', '籌碼面', '現階段', '電話', '業績', '獲利約', '中經院', '名稱', '絕對', '官員', '數破', '面對', '再度', '茂林', '頁次', '所有權', '凌華', '中工', '黃冠寰', '資產', '廷鑫', '永遠', '經濟', '控制', '大批', '封控', '到達', '萬海', '努力', '看俏', '周二', '客戶群', '標題', '押寶電子組', '玩膩', '季減幅', '停班', '下單', '紓解', '平方', '儲備', '神經', '上揚', '結盟', '匯率', '漢唐', '晶相光', '放鷹派', '失守', '初期', '元件廠', '新纖', '一線', '殺到', '友達法', '客房', '股息率', '女版', '掀爆', '台北總部', '豐富', '來自', '精成科', '技業', '廣達盤', '日興', '聚積', '備詢', '易建男', '課程', '狀況', '研究員', '蔚華', '請問', '獨董', '裕民', '榮科', '許多', '歷年', '備註', '炸彈', '大學生', '資出', '元富證券', '寰銓', '顯示', '延遲', '聲明', '學習', '超前', '華新科', '付費', '支倒地', '措施', '麗清', '信任', '收低', '金橋', '俱樂', '富錦', '發言', '王逸芯', '預防針', '甲骨文', '衛純菁', '京元', '立積', '殺回', '在次', '非農', '進商會', '跌幅約', '國泰美', '奇力', '期末', '聯大', '反手', '當前', '蠅頭', '萊豬', '承接', '數等', '言論', '再現', '履約價', '側面', '盡快', '韋樞', '可能性', '總表', '富鼎', '福懋', '頂不住', '期間', '下行', '登頂', '神隆', '開戰', '日月', '蘋果公司', '資料中心', '大買', '億豐', '利潤率', '建大', '緯創股東會', '宏盛', '情報', '本來', '華通', '率為', '台塑四寶', '華邦電', '釋放', '聯軍', '市值', '推急', '月薪', '多重', '配合', '李玟儀', '大方', '洪麗甯', '賺錢', '視察', '智邦', '優勢', '打進', '位處', '分類', '返回', '弱勢', '松翰', '爆量', '派對', '中聯', '年第', '爆賺', '時報', '一致行', '穩台幣', '承諾', '監察人', '新美', '篩選', '台虹', '展開', '嚴峻', '廠商', '聯防聯', '未來車', '提高', '供給面', '經發局長', '南茂', '接觸', '產線', '光電股', '穆迪', '隔離', '群創', '布油', '落袋', '收息', '給予', '理念', '三商壽', '陽明', '擁抱', '電收', '改買', '不如', '相比', '供貨', '最好', '連結', '開啟', '為了', '在望', '停逾', '泰州廠', '處長', '設點', '終止日', '全友', '站在', '資減', '沃爾瑪', '違反供', '紅色', '台欣金', '回到', '事業', '聯通', '提到', '區間', '銷量', '開出', '蓄勢', '純粹', '陣容', '無疫', '基於', '工廠', '檯面', '過去', '金額', '齊步', '決心', '飆漲', '明確', '安排', '迅得', '組裝廠', '社群', '撤除', '走到', '創造', '義隆', '上曜', '近年', '譜瑞', '期限', '無法', '合編', '網址', '局外人', '比達', '輕微', '買入', '顯卡', '信用', '追殺', '毀損', '特快車', '創意', '源源不絕', '世芯', '北美', '得以', '造紙類', '晶技', '王振堂', '彰源', '元股利', '慧洋', '設廠', '重鎮', '以防', '兩樣', '內文', '隨即', '遊走', '其中', '制勞', '龍頭廠', '晶傑達', '翻頁', '妙算', '檢附', '累計', '擴廠', '飛利浦', '光電科技', '原息值', '緯創車', '選任', '高度', '躋身', '雙位數', '躲避', '滲透率', '台新', '預期', '轉換', '概念', '國泰', '房屋', '必備', '指標廠', '居功厥偉', '角度', '神達', '配套', '底下', '進軍', '稅前', '異常', '印信', '成交金額', '退撫', '可期', '加碼', '資通訊', '業主', '轉線', '月我', '任珮', '會計師', '對手', '享樂', '首日', '所得稅', '董監事', '來到', '三連', '小心', '為準', '同欣電', '革命', '打造', '台幣', '美股', '宿舍', '排隊', '班加羅爾', '智慧', '查核', '大成', '審計', '好看', '共計', '選市', '到來', '第三季', '美元', '處份', '股票', '湧現', '限期', '產生', '鴻家', '站回', '蔡國荃', '九成', '大盤', '酒店', '元件', '移動', '下壓', '帳單', '息交易', '興起', '諾富特', '剛好', '名列', '抵銷', '美油', '走不了', '歸屬於', '委託', '金融類', '撐盤', '據點', '跌回穩', '減損', '矽力', '王品', '股價', '屬於', '旺季', '激烈', '資源', '思維', '飛宏', '轉佳', '因應', '口至', '瘋狂', '不同', '說到', '開發金', '增逾', '實務', '高科技', '疾病', '移往', '強漲', '抑制', '環旭子', '牛年', '出清', '中午', '重複性', '估寫', '呈現', '不過', '電子業', '登場', '國家', '喜歡', '京城', '瓦特', '前進', '實施', '歷史性', '粗估', '劉美華', '旺宏電子', '日幣', '印度時報', '上游', '死亡數', '可能', '承擔', '依舊', '新加坡', '餘額', '瑞普萊坊', '集團', '攻擊', '租賃', '瑞軒', '威剛', '停產', '賬鏡', '吸引', '條文', '彼長', '降低', '選舉', '美中', '欣銓', '低於', '熱門', '簽約', '篡改', '來襲', '上月', '羅斯', '落後', '毛利率', '打發', '專注', '跳水', '衰幅', '宇瞻', '增幅', '官方', '多少', '盛行', '直至', '機種', '排版', '獎金', '畫出', '奪冠', '劉韋廷', '致詞', '以上', '撈到', '炎洲', '瑞祺', '直接', '藉由', '助守', '第三', '研發人', '智慧型', '小樂', '併鎧勝', '利用', '傳統型', '以來', '展示', '價本益比', '副總', '堅持', '特別股', '旅遊', '蘋果', '選股', '稱讚', '研判', '像樣', '華盛頓', '攻車', '陸續', '皇冠', '退場', '膽戰', '補助', '意味', '擴張', '虹堡', '易華電', '杰力', '要求', '稀少', '道路', '里程碑', '一萬', '訂單', '占有', '族群展', '核准', '一般', '適逢', '國際中心', '公積', '剪刀腳', '資訊', '玉晶光', '廠房', '困難', '再向', '張梗圖', '展望佳', '普達', '喬山', '減弱', '平板', '七成', '東元', '附近', '年增', '復產', '報表', '人士', '土銀', '駭客', '激勵', '亞德客', '幫助', '正文', '石慶堂', '皮膚', '台北', '股東常會', '刪減', '分鐘', '話題', '龍燈', '遭駭', '重慶', '潤隆', '反攻', '確效', '月生', '段龍輝', '價金', '前鎮', '理想', '傳言', '服務商', '台耀', '凌陽', '掉單', '合併', '數位化', '上銀', '很多', '情形', '巨擘', '力鵬', '精材', '現貨', '被動', '一峰', '大過年', '喊賣', '房市', '法說', '周五', '核閱', '網友', '強勢', '查證', '願意', '優先', '應付', '理解', '複合', '來得', '理財', '戰真', '傳統', '停歇', '液晶', '育成', '提前', '逐季', '中間', '走揚', '做空', '價量', '群組', '開業', '火拚', '另一方面', '認識', '釋股', '歲男', '股本', '邁向', '康舒', '理由', '長榮鋼', '谷底', '月增率', '林俊吉', '營業額', '走弱', '規畫', '深入', '落實', '權王法', '作戰', '動式', '普遍', '微星', '調高', '因此', '大戰', '倍增', '菜鳥法', '在於', '辦公', '包括', '開花', '戰鬥力', '眼鏡', '跌回', '名次', '伸堂', '威風', '菱生', '資通', '出來', '償還', '光磊', '連帶', '發酵', '只是', '均線', '元計', '聯電', '過渡期', '潤泰新', '體檢', '正德', '頻寛', '例會', '蘇州', '依法', '畢竟', '報稅', '五成', '高殖利率', '文曄', '戲碼', '地廠區', '中心', '先發', '大賣', '水準', '暴增', '墊高', '教育', '重新', '重登', '技術線', '大力', '投控', '怡利電', '敲門', '聚鼎', '高溫', '高掛', '缺口達', '同致', '電視', '逢高', '此外', '後市', '名為', '上周', '冠軍', '千億', '成會', '看好', '定心丸', '智擎', '參展', '帆宣', '姓名', '元油', '違反', '劉憲治', '簡稱', '貨源', '掌握', '變化', '抗議', '加上', '主線', '相近', '緯創集團', '撤休', '早上', '社會', '中央社', '日廠', '憂心', '美式', '拚命', '營益', '中強光電', '拚死', '可見', '林福謙', '委員', '有價', '二哥聯電', '仰賴', '庫存', '網通', '拜登', '位置', '商銀', '至近', '移除', '零組', '陸輸美', '向來', '大減', '救華為', '低點', '奇鋐科技', '王道銀行', '力晶', '往年', '縮減', '說會', '多樣化', '傳染力', '簡歷', '近期', '電器', '即時', '日本', '息潮', '第一金', '防諜', '資料', '沈慶堯', '不止', '回顧', '走出', '四月', '光群雷', '依賴', '連日', '協議', '恆大', '函文', '確診', '壓抑', '偏向', '聯盟', '大砍', '機關', '站穩', '中華徵信', '氣勢', '差等', '拓展', '聯合晚報', '小塑', '降雨', '南電', '氣氛', '殺聲', '配股率', '減到', '成為', '熱烈', '家列', '撥補', '深受', '部門', '同文', '先進', '半月', '台灣子公司', '擺脫', '戰前', '達成', '專攻', '分派', '總產能', '保證', '證書', '漲幅', '天風', '未來', '和鑫', '沾到', '首利', '勢將', '飛機', '走高', '或者', '培訓', '打入', '台中銀', '聲勢', '年前', '吳文彬', '造山', '積極', '照片', '發生日', '台塑', '光環', '彌補', '估代', '關卡', '為主', '增資', '名有', '商議', '冬季', '殺進', '理事會', '淡化', '猛烈', '大廠', '挨轟', '沒有', '生活', '具名', '備貨', '臺韓', '好樂', '施壓', '種類', '亞聚', '一覽表', '銀彈', '調到', '墨西哥廠', '伺服', '平量', '參議長', '金融業', '作業員', '富時', '先前', '強盛', '新華社', '正前', '高林', '電動車', '安家費', '共識', '層樓', '紅棒', '應求', '行政院長', '正隆', '六成二', '怎麼', '高雄市', '未果', '中企', '做出', '等於', '萬多', '帶勁', '依照', '汰弱', '自家', '開出來', '台積電', '訊息', '至少', '消化', '消費者', '推升', '買法', '成果', '鈺太', '集盛', '勞工', '一段', '毅力號', '恐怕', '拉升', '資深', '元大', '加快', '前期', '熱錢', '台肥', '倒是', '輪動', '彙總表', '育樂', '災難', '趨勢', '貿易', '高力', '中美', '商立訊', '櫃檯', '接任', '制定', '正新', '步局', '志超', '超眾', '態勢', '長榮航', '晚報', '不能', '戰火', '國內外', '加劇', '以使', '中化生', '半導', '急遽', '文本', '低落', '消失', '便宜', '賣廠', '內部', '行文', '喊衝', '預測', '開盤', '招標', '政委', '精英', '過年', '圖片', '確認', '巨庭', '主要', '美律實業', '華泰', '掀起', '堅信', '快報', '迎補', '逃命', '鄭顯聰', '採取', '同比', '混合', '兩成', '穩定', '圖片版', '增幅度', '走空', '拜託', '轉虧為', '力成科技', '獨大', '而且', '不盡', '無解', '縮手', '挑釁', '防線', '昨日', '台揚', '主軸', '開頭', '設計', '首先', '聯強', '人員別', '地區', '之後', '出貨', '千多', '鼎創', '收購', '無力', '考量', '宣德', '大代', '日媒', '獲贈', '印象', '自結', '強勢股', '明天', '年假', '美債', '濫竽', '巨頭', '關貿', '雙降', '尾無腦賣', '加權', '週線', '戴上', '除夕', '未平倉', '小米', '謝宏波', '發揮', '當然', '下車', '受惠', '創業', '通嘉', '節能', '保持', '宏捷科', '經濟部', '資安新', '年以來近', '差價', '榜單', '代號', '好轉', '刪除', '台塑化', '徘徊', '評析', '消費性', '談判', '跨入', '事宜', '上海市', '被迫', '不變', '再再', '機構', '台籍', '敦促', '上限', '記錄', '智茂', '架構', '錯愕', '金控', '競合', '超大型', '廠立訊', '放鬆', '事件', '自身', '平常心', '中加稅', '擔任', '希華', '註冊子', '通過', '矽創', '春源', '國泰基', '財測', '前言', '市調', '南亞', '撐不住', '寬鬆', '全新', '鉅祥', '杏國', '打炒', '明顯', '投顧', '防制', '康控', '低度', '星期五', '靜默期', '回跌', '勢必', '現雜音', '表示', '升息', '重複', '半導體股', '永續', '矚目', '偉創', '爆棚', '不振', '細表', '威鋒電子', '那麼', '年來', '有餘', '醫材', '聯詠', '幕僚長', '華孚', '約達', '經法', '終極', '隔夜沖', '拖累', '安定', '這些', '承租', '黃明宏', '指數價', '砍到', '聞到', '時程', '價格', '差點', '帶領', '儒鴻', '亞馬遜', '易主', '造成', '龔明鑫', '傳掉', '調整', '融劵', '恐慌', '良好', '貶勢', '三福化', '台泥', '成份股', '不滿', '廣達法', '儲能', '公文', '這裡', '興采', '通常', '砸下', '漲跌幅', '新設', '分散', '價值型', '鷹派', '續任為', '商機', '重兵', '強於', '精密', '無礙', '瑞儀', '航居冠', '代表', '統計', '來臨', '北印度', '世界', '亮點', '正元大', '上千', '逮捕', '觀光', '擬訂', '倉口數', '介入點', '利息', '萬九', '晨盤', '周三', '良率', '漢科', '病毒', '布蘭', '超豐', '過長', '美國', '超近', '方盜', '穎崴', '大亂', '最近', '法人', '印媒', '名人', '區塊', '警告', '薪資', '短缺', '大宇資', '權益', '中壽', '任珮云', '單季', '呈現下', '沒辦法', '吝嗇', '昇佳', '靜待', '日月光投控', '穩盤', '台橡', '殺出', '取代', '自建', '石化股', '地方', '全新光電', '紅包', '謝謝', '艱困期', '規格', '建議', '分布', '晟銘電', '元太', '投機性', '信驊', '新光金', '幾乎', '軍令', '力麒', '奇癢', '情勢', '客製', '建構', '漲於', '位數', '高唱', '勞退', '荷包', '少數', '帳號', '上櫃', '電動車界', '想到', '行使', '擔心', '威盛', '不得', '終場收在', '指教', '權息', '永豐金', '傳媒', '起飛', '增加', '本土', '井琪', '工人', '豐碩', '檔官股', '功德', '亞諾法', '土城', '天天', '日益', '變成', '值僅', '全球化', '網聯', '事務所', '換守', '人氣', '無畏', '網通廠', '爆卦', '跌掉', '得宜', '上下', '營運展', '代操', '反壓', '干擾', '功能', '主管', '金鼎', '充數', '散戶', '能否', '南亞科', '轉移', '退出', '遭損', '顯著', '休息', '效率', '安全', '經濟日報', '支出', '電腦', '揭露', '攜手', '紛擾', '蕭聖倫', '訣竅', '嘉里大榮', '逐年', '鎖定', '遠傳', '新德里', '碩緯', '布局', '緯穎', '中多', '黃柏漙以', '民國', '上緯', '巴淡島', '首季', '就是', '官司', '跨出', '宏碁', '受到', '前往', '認可', '清單', '進入', '媒體', '商聯滔', '宇宙', '特斯拉', '中國會', '半年度', '友聯', '負責', '威脅', '打破', '管理', '數位', '碎滿', '認列', '結論', '散裝', '四腳朝天', '顯示器', '過度', '格局', '分點', '緊連', '用於', '生技', '研發中心', '四川', '採購', '元山', '建業', '航空', '之間', '落水', '之前', '手機', '傻子', '偉全', '國安基金', '宏正', '活期', '背景', '橫向', '數股', '透露', '幫忙', '整併', '貢獻', '持股率', '車半', '光頡', '對和', '但是', '印刷', '傘型', '擇優', '強強滾', '盛力', '平均得分', '翁啟惠', '百花齊放', '正常', '科技', '表冊', '分股', '產協館', '亞灣', '操盤', '回檔', '國保', '選拔', '苦撐', '游走', '遠東銀', '易華電子', '高低點', '融券', '亞洲', '避開', '台翰', '發光', '引響', '守不住', '激增', '流入', '高雄廠', '貶值', '升值', '同年', '比約', '認罪', '收創', '吳柏緯', '數千', '日遭', '促成', '博覽會', '反覆', '懷特', '反轉', '期元', '強力', '消費型', '檔權值', '重量級', '普誠', '球賽', '訪立', '攀升', '清倉', '打頭陣', '而是', '周報', '生產線', '明明', '重申', '遠雄', '永豐餘', '賣壓', '監交', '季增', '重跌', '順天', '觀察', '代表人', '上榜', '國喬', '預防性', '長興', '生醫', '欣陸', '超出', '吃下', '開展', '中橡', '電動車廠', '情緒', '多方', '較少', '支撐', '指數料', '跌深', '東新', '列出', '大立光收', '最佳', '處分', '相對人', '摸到', '買宅', '城市', '除以', '助力', '考績', '台聚', '價位', '重啟', '不同調', '高檔區', '填息率', '壯大', '日代', '推舉', '召集', '爭鳴', '機器人', '陣子', '風度', '新冠', '編譯', '存續', '此時', '出具', '謝金河', '一詮', '透弱', '金屬', '跌到', '交戰', '屏息', '除了', '數字', '點整', '續升逾', '延綿', '揚智', '相害取其輕', '油價', '臺灣', '創惟', '募資', '追蹤', '某些', '意義', '兆億', '旺宏', '引擎', '高城', '打頭', '臉綠', '參考', '布蘭特正', '軍隊', '驚險', '水力', '揭曉', '低估', '有利', '降溫', '億台幣', '開竅', '損抓', '跌跌不休', '吳凱中', '原相', '大哥', '變負', '問題', '新增', '舉措', '字號', '錸寶', '共襄盛舉', '創作', '潛力', '工具機', '宏齊', '生意', '料況', '航運股', '大數據', '驚喜', '新案', '底部', '大部分', '由立訊集團', '坦言', '一旦', '林憲銘', '國巨', '提出', '碩傳', '羅比尼', '病例', '跳空', '靜態', '畫面', '心悅', '屆滿', '筆電', '護身', '回升', '台辦', '飛車式', '晶片', '目前', '辭職', '銷售', '看至', '續強', '開底', '涼透', '完成', '富邦深', '續旺', '桌上型', '居家', '群益', '東哥', '導入', '新型', '企業型', '季節', '零件', '差臨門', '重殺', '如何', '也許', '拉下', '急戰力', '息前', '杜康', '時序', '服務', '全訊', '意味著', '點擊', '按照', '投信', '人民幣', '索性', '推出', '掃瞄', '出事', '拉長', '致力', '火熱', '漲多', '農曆', '躍居', '光鼎', '陷入', '地點', '太陽能', '限制', '人物', '上檔', '台達電', '五月天', '億盧比', '汽油', '家獎', '對價', '龍頭惠普', '實境', '遇到', '瀚宇博', '外匯', '空單', '機版', '從頭', '李焜耀', '獲利率', '愛普', '高油價', '爭奪戰', '歷經', '晶碩', '坐穩', '績優', '昨天', '彭錦彬', '精成', '職稱', '接下', '搶回', '漢磊', '曜越', '認同', '探近', '技嘉', '持續不振', '酬勞', '石化業', '和碩', '難得', '貼出', '獨攬', '這樣', '財星', '台北電', '閉幕', '益航', '前值', '大漲', '概念股', '美貿', '發表會', '載具', '周卡位', '副總經理', '全力', '代碼', '意願', '保全', '復失', '限額', '富采', '機櫃', '亞太電', '帳列', '先行', '公告', '卅萬', '四分之一', '國泰台灣', '戰影', '精選', '電價', '塑化', '雅茗', '盈餘', '中鼎', '共同', '年初', '成績單', '互動', '季財報', '卅八萬多', '異業', '快速', '不休假', '當選名', '急著', '成本', '明泰', '引起', '弘憶股', '開工', '緊密', '缺得', '千興', '時間', '從前', '防疫', '馬斯克', '特色', '輸美', '漢威聯合等', '戰破', '審議', '逝世', '減輕', '減約', '營商', '現代', '持股', '張郁禮', '陸資', '完善', '中信金', '價值', '入列', '總統', '大東', '王來春', '力挺', '層出', '新任', '磁性', '南盾', '憧憬', '製造業', '戒嚴', '跌量增', '勤誠', '逆風', '失利', '打帶跑', '衍生', '工具', '哥廣達', '民生', '陽明法', '其次', '打開', '卸任', '學校', '研討會', '瞄準', '共通', '汽車', '廖泰翔', '作帳', '電腦廠', '日法', '中電', '工時', '推薦', '總量', '萬四', '大關', '谷歌', '翻紅', '出發', '創辦人', '報紙', '勞動部', '研華', '佳績', '雙雙', '大器', '眼光', '水位', '一級', '績效', '發燙', '消息', '還好', '頁鍵', '榮運', '自營', '碗公', '不明', '今晚', '領漲', '一下', '元兌', '時機', '惠股', '旗下車', '重創', '多扶', '走勢', '權值股', '高股', '主題', '由於', '聯手', '不僅', '設在', '議題', '網路', '打到', '關鍵', '虧損', '產品面', '計有', '國立', '建置', '時值', '理財網', '穩懋', '先生', '製造', '費用', '石油', '品牌', '年持平', '佳能', '何時', '雙虎不同調', '大型', '陳唯泰', '新高點', '那照理', '特定', '智慧機', '不斷', '阿拉巴馬', '必須', '銀行', '台灣', '年會', '大大', '罕見', '破局', '漲停', '沈培華', '結帳', '營運', '基亞', '壟罩', '晶心科', '盡量', '年輕', '剔除', '勢力', '恒耀', '提名', '大家', '為首', '方式', '福壽', '或是', '柳繼剛', '周線', '事實', '表現', '符合', '拉回', '終於', '漲跌', '月領頭', '聯陽', '之外', '蘇州市', '驅動', '費城', '收約', '況且', '合晶', '落成', '順德', '光投', '交割', '不管', '砍文', '日盛金', '死亡', '長榮', '縮表', '出去', '成長', '研究', '尋求', '大洞', '天國一輝', '改選', '精心', '控股', '故障', '新高', '急用', '人力', '決策', '前日', '提列', '價差', '元晶', '將近', '貼息', '這麼', '手中', '買賣中心', '利空', '重點', '水泥', '台灣高鐵', '交叉', '伺服器', '號角', '進而', '筆記型', '韋德齊', '買合計達', '探至', '得標', '儀器', '跨足', '銀髮產協館', '按鍵式', '石化', '買到', '擴充', '買賣', '公股銀行', '早期', '擴產', '標明', '高雄晶', '據傳', '交錯', '家庭', '避險', '鴻海', '營業稅', '期貨', '處長段', '彈升', '對外', '增長', '前後', '伺服器廠', '內需型', '會議', '農曆年', '量產', '期指', '晶片門', '季減', '加入', '看來', '高雄', '護體', '要角', '青睞', '席話', '新美齊', '階段', '打光', '川粉', '了解', '車子', '周日', '經信委', '加羅爾', '美商', '結束', '泰博', '製程', '遠東', '橋椿', '貼近', '加於', '滿載', '定期', '日期', '幾年', '利益率', '聯發科', '普爾', '轉而', '迅猛', '營利率', '放緩', '無誤', '中小', '數從', '工資', '長線', '招募', '重地', '經濟時報', '馬來西亞', '以外', '難關', '重整', '下半', '新機', '過關', '劣於', '拋售', '振作', '創投', '網站', '引發', '台達', '年增率', '商務', '下半年', '退回', '議院', '當初', '規劃', '一早', '商聲', '地產', '合計達', '反應', '櫃買', '功率', '年增約', '認養股', '動作', '反而', '中鴻', '聯網', '轉賣創', '戴玉翔', '華新科技', '晚間', '損益', '韓國', '冠疫苗', '捷克參議院', '短線', '方案', '一兩', '營運動能', '威建', '失業', '存在', '簇擁', '蔡英文', '以為', '台灣晶端', '提請', '收中', '事由', '主板', '演說', '外電', '國泰美國', '中鋼構', '爭取', '佳穎', '用品', '投資', '明基材', '費和', '本人', '拉貨', '利益', '金融股', '分析師', '增至', '立院', '任正非', '代表性', '上膛', '路線', '退可守', '迸出', '爆發', '敬鵬', '有沒有', '薪水', '各自', '第二季', '醫療科技展', '陷牛步', '拉上', '不足', '報告', '中途', '貿聯', '交易量', '財團', '其他', '鈞寶', '心理', '中國廠', '轉向', '唬爛', '下緣', '附加', '禾伸堂', '禾昌', '台驊', '華新', '載板', '董座力', '薩普爾', '高價', '周末', '鴻海集團', '電量', '根本', '功能性', '元附近', '富發', '合資', '局勢', '適合', '上半年', '超級', '多點', '重組', '元大台灣', '應變', '超微', '轉往', '走完', '建築', '面板廠', '相抗', '日成', '跌約', '座廠', '中美晶', '打算', '跌勢', '整合', '玻璃', '殺低', '系列', '埋好', '南亞電', '會長', '天下', '宏達電', '值得', '難怪', '邢陳震崙', '影線', '擠下', '震幅', '上演', '截圖', '早盤', '副總裁', '若非', '考慮', '市占率', '美麗', '宣布', '佳世達', '億挺進', '聯發', '提及', '務實', '股值', '統治', '費半', '禁令', '拍板', '所謂', '創資', '即將', '購買', '進退場', '轉進', '權王', '社團', '軌道', '超金', '亞股', '童子賢', '跨域', '續揚', '睽違', '電信股', '貼文', '雄獅', '聯邦銀', '應用', '國道瓊', '進行式', '滬深', '資高價', '推動', '大立光', '主因', '獲利王', '排行', '現況', '船運', '安全性', '生效', '查明', '運動家', '信心', '乙特', '走緩', '等等', '動支', '麥證', '分享', '軍車', '世代', '搶訂單', '檢測', '人股', '強攻', '松普', '相對', '獨黑', '空頭', '新廠', '零股', '恐凶多吉少', '零件廠', '新興', '沖強', '大紅', '祥碩', '降價', '分拆', '潛在', '日本政府', '智原', '緯醫', '康普', '串沉', '券商晨訊', '傳美', '日金', '受缺', '雜音不斷', '具有', '咫尺', '李若雯', '分居二', '公尺', '達興', '延續', '機殼廠', '高檔', '牛皮存股', '妥善', '近平', '致茂康和', '解決', '雙方', '有所', '同期', '雲達', '清奈市', '疫苗', '產出', '神基', '筆電廠', '預言', '波音', '壓力', '整合商', '千計', '積體', '月均線', '衛生', '利潤', '期街口布蘭', '施打', '唐嘉鍵', '開刀', '並且', '情境', '上攻', '光鋼', '大亞', '永捷', '中磊', '資券', '燒燙', '空方', '金虎', '共同社', '淨多', '現身', '美食', '高達', '發給', '準日', '上班', '技術', '總金額', '並非', '夥伴', '雙重', '司法', '剛剛', '總監', '起始', '心力', '沖淡', '部桃', '登記', '至於', '評價', '栽培', '走向', '留守', '防禦性', '取得', '現增', '風暴', '聯準會', '額度', '背光', '重回', '出海', '說報', '料源', '百和', '開發', '沈書緯', '搭機', '教授', '瑞信', '註記', '週一', '站台', '中多頭急', '貨櫃', '聚亨', '面臨', '持續', '研調', '台股', '減至', '合買', '國票金', '人才', '大跌', '開幕', '參考價', '來源', '依序', '華晶科', '盈虧', '為之', '運用局', '型股', '精確', '交易', '下殺', '李鈺', '鉅亨', '宣告', '宏觀', '使得', '民眾', '看壞', '不確定性', '看旺', '辦理', '成績', '韓大廠', '東聯', '領先', '林宛儀', '天鵝', '紀錄', '漲完', '服務業', '報復', '舜宇', '工控', '抓住', '澄清', '雙鴻', '一定', '晶圓', '大舉鎖', '砍單', '提醒', '判斷', '回暖', '狂增', '不只', '德律', '以及', '日系', '值從', '華城', '變革年', '搶走', '搶進', '賣超力道', '好處', '四寶', '預見', '上去', '回吐', '到位', '助益', '高層', '投資者', '陳雅琳', '卡納塔卡省', '娛樂', '趕快', '季底', '日後', '聯展', '蒐羅', '充份', '予立訊', '臻鼎', '指控', '為宜', '財報', '設計股', '結算', '宇隆', '工作', '窘境', '數量', '其實', '代子', '利用率', '輸入', '不錯', '續買', '偏低', '昇陽', '臺捷', '保守', '小忙', '當成', '記得', '寶滬深', '工業區', '開盤日', '美銀', '波動率', '連動性', '標案', '官田鋼', '晶華', '拉尾盤', '叩關', '呂淑美', '主力群', '失望', '潤泰', '有限', '不利', '進展', '彩晶', '壓低', '認為', '公眾', '遠距', '適當', '正在', '次於', '營收', '營益率', '簡學仁', '外包', '連續性', '兆赫', '今天', '暫停', '新品', '切換', '個月', '關稅', '台新金', '界霖', '鍾榮峰', '經驗', '集中', '改寫', '經濟部長', '低迷', '動能', '美下達', '教學', '讀版', '配發', '歐淑芳夫', '菱光', '電動化', '園區', '兆美元', '升溫', '良心', '台表科', '詳細', '道瓊工業', '單位', '收市', '總部', '決議', '倉庫', '瑞士', '蒸發', '中化', '營利', '廣達電腦', '機械', '張緯創', '媒合', '眼看', '違者', '可達', '服務廠商', '高高', '觸控', '暫時', '資金', '蔡明彥', '期滿', '擴散', '寶成', '刪文', '收在', '開樓', '腳步', '超股', '一方面', '植物', '除息基', '討論', '永績', '有效', '第十三', '蟬聯', '金像', '口罩股', '中止', '說法', '造就', '停利', '力求', '董事長', '月中', '引立', '套利息', '砸廠', '需求', '遠端', '富邦', '走軟', '網頁', '南紡', '電腦展', '搶搭', '華祺', '所以', '為真', '蘋概股', '意外', '淡季', '老鼠', '延宕', '塑化股', '活力', '較為', '幸好', '獨秀', '狂砍', '維持', '謝艾莉', '燿華', '傑達', '整期', '賠掉', '回頭', '訊舟', '台積法', '一點', '方面', '以前', '進榜', '紅利', '強化', '主因為', '證券', '指標股', '醫院', '停板', '美國政府', '董事酬營', '複雜', '計算', '富鼎漲停', '儲蓄', '湧進', '中共', '競逐', '任日', '台開', '排行榜', '下調', '席一般', '轉交給', '印度諾伊達', '契機', '力積電', '大概', '周周漲', '雖然', '眾達'}}\n"
     ]
    }
   ],
   "source": [
    "print(content)\n",
    "print(term_dict)"
   ]
  },
  {
   "attachments": {},
   "cell_type": "markdown",
   "metadata": {},
   "source": [
    "### Chi Square Value calculation"
   ]
  },
  {
   "cell_type": "code",
   "execution_count": 132,
   "metadata": {},
   "outputs": [
    {
     "name": "stdout",
     "output_type": "stream",
     "text": [
      "up Token: 413\n",
      "down Token: 162\n",
      "Drop Featrue: up : 4156 , down : 2016 Zero : 5098\n"
     ]
    }
   ],
   "source": [
    "import pandas\n",
    "import re\n",
    "import numpy as np\n",
    "from collections import Counter\n",
    "from sklearn.feature_extraction.text import CountVectorizer,TfidfVectorizer,TfidfTransformer\n",
    "from scipy.stats import chisquare\n",
    "\n",
    "chi_term_trend_df = pd.read_csv(\"Group3_wistron.csv\")\n",
    "\n",
    "all_term = list(term_dict['up'])+list(term_dict['down'])\n",
    "chi_vocab=Counter(all_term) #用於建立向量空間模型\n",
    "\n",
    "def remove_tag_num(sentence):\n",
    "  processed_word=[]\n",
    "  processed_sentence=''\n",
    "  try:\n",
    "    # processed_sentence = re.sub(r'<[^>]+>', '', sentence) # remove html tag\n",
    "    processed_sentence = re.sub(r'[^\\w\\s]',' ', sentence) # remove punctuation\n",
    "    # processed_sentence = re.sub(r'[^\\u4e00-\\u9fa5]+', '', sentence) #將字串以正則化處理去除中文字元以外的字元\n",
    "    for word in processed_sentence.split():\n",
    "      if not word.isdigit():\n",
    "        processed_word.append(word)\n",
    "    processed_sentence=' '.join(processed_word)\n",
    "  except:\n",
    "    print(sentence)\n",
    "  return processed_word\n",
    "\n",
    "chi_term_trend_df[\"label\"]=chi_term_trend_df[\"label\"].map({\"up\":1,\"down\":0})\n",
    "chi_term_trend_df[\"title\"]=chi_term_trend_df[\"title\"].apply(remove_tag_num)\n",
    "chi_term_trend_df[\"content\"]=chi_term_trend_df[\"content\"].apply(remove_tag_num)\n",
    "chi_term_trend_df[\"word_bag\"]=chi_term_trend_df[\"content\"]+chi_term_trend_df[\"title\"]\n",
    "chi_term_trend_df[\"word_bag\"]=chi_term_trend_df[\"word_bag\"].apply(set)\n",
    "chi_term_trend_df[\"word_bag\"]=chi_term_trend_df[\"word_bag\"].apply(list)\n",
    "chi_term_trend_df=chi_term_trend_df.drop(columns=[\"date\",\"title\",\"content\"])\n",
    "chi_tfidf_label=chi_term_trend_df[\"label\"].to_numpy().reshape(-1)\n",
    "# print(len(chi_term_trend_df[chi_term_trend_df[\"label\"]==1]))\n",
    "# print(len(chi_term_trend_df[chi_term_trend_df[\"label\"]==0]))\n",
    "vectorizer=CountVectorizer()\n",
    "transformer=TfidfTransformer()\n",
    "\n",
    "X_1=vectorizer.fit_transform(content)\n",
    "x_tf=pd.DataFrame(X_1.toarray(),columns=vectorizer.get_feature_names_out())\n",
    "# print(x_tf) ## TF 值\n",
    "X_2 = transformer.fit_transform(X_1)\n",
    "x_idf = pd.DataFrame([transformer.idf_],columns=vectorizer.get_feature_names_out())\n",
    "# print(x_idf) ## idf 值\n",
    "\n",
    "tfidf_vetorize = TfidfVectorizer(vocabulary = chi_vocab, use_idf = True) #用給定的termset建構向量，並使用idf加權\n",
    "X = vectorizer.fit_transform(content) #用給定的文件集做計算\n",
    "x_tfidf = pd.DataFrame(X_2.toarray(),columns=vectorizer.get_feature_names_out())\n",
    "# print(x_tfidf.head())\n",
    "\n",
    "tf_chi=(chisquare(np.sqrt(x_tf.to_numpy()))[0]) ## chi TF 取根號\n",
    "idf_chi=(chisquare(np.sqrt(np.exp(x_idf.to_numpy())))[0]) ## chi idf 取根號\n",
    "# print(tf_chi.shape)\n",
    "# print(idf_chi.shape)\n",
    "chi_tf_idf_sqrt=np.multiply(tf_chi,idf_chi)\n",
    "# print(chi_tf_idf_sqrt.shape)\n",
    "\n",
    "\n",
    "for idx,rows in x_tfidf.iterrows():\n",
    "    r=np.array(rows)\n",
    "    rows=np.multiply(r,chi_tf_idf_sqrt)\n",
    "\n",
    "chi_tfidf=np.max(x_tfidf.to_numpy(),axis=0)\n",
    "# print(chi_tfidf.shape)\n",
    "\n",
    "chi_mask=(chi_tfidf<0.3)\n",
    "featrue_best=list(vectorizer.get_feature_names_out()*chi_mask)\n",
    "chival=list(chi_tfidf*chi_mask)\n",
    "\n",
    "up_word={}\n",
    "down_word={}\n",
    "zero=[]\n",
    "for idfval,fea in zip(chival,featrue_best):\n",
    "  if fea in term_dict[\"up\"]:\n",
    "    up_word[fea]=idfval\n",
    "  elif fea in term_dict[\"down\"]:\n",
    "    down_word[fea]=idfval\n",
    "  else:\n",
    "    zero.append(fea)\n",
    "\n",
    "upup=sorted(up_word.keys())\n",
    "downdown=sorted(down_word.keys())\n",
    "up_feature =len(term_dict[\"up\"])-len(upup)\n",
    "down_feature =len(term_dict[\"down\"])-len(downdown)\n",
    "print(f\"up Token: {up_feature}\")\n",
    "print(f\"down Token: {down_feature}\")\n",
    "drop_feature=set(upup+downdown+zero)\n",
    "drop_feature.discard(\"\")\n",
    "print(f\"Drop Featrue: up : {len(upup)} , down : {len(downdown)} Zero : {len(zero)}\")\n",
    "\n",
    "x_chi_tfidf=pd.DataFrame(x_tfidf,columns=vectorizer.get_feature_names_out()).drop(columns=drop_feature)\n",
    "# print(x_chi_tfidf)\n",
    "# print(chi_tfidf_label)"
   ]
  },
  {
   "attachments": {},
   "cell_type": "markdown",
   "metadata": {},
   "source": [
    "### Step13. Filter duplicated term between up & down trend"
   ]
  },
  {
   "cell_type": "code",
   "execution_count": 29,
   "metadata": {},
   "outputs": [
    {
     "name": "stdout",
     "output_type": "stream",
     "text": [
      "up trend terms: 4569\n",
      "down trend terms: 2178\n"
     ]
    }
   ],
   "source": [
    "remove = []\n",
    "\n",
    "for term in term_dict['down']:\n",
    "    if term in term_dict['up']:\n",
    "        remove.append(term)\n",
    "\n",
    "for term in remove:\n",
    "    term_dict['up'].remove(term)\n",
    "    term_dict['down'].remove(term)\n",
    "\n",
    "print('up trend terms:',len(term_dict['up']))\n",
    "print('down trend terms:',len(term_dict['down']))\n"
   ]
  },
  {
   "cell_type": "code",
   "execution_count": 30,
   "metadata": {},
   "outputs": [
    {
     "name": "stdout",
     "output_type": "stream",
     "text": [
      "{'超象', '加緊', '札卡利亞', '影視', '拖延', '傾力', '遇壓走出盤', '富邦恒生', '台電', '月單', '醫學', '難逃', '高人', '趙承佑', '一展', '抗跌', '連鎖業', '每年', '輸出', '移轉', '貨架', '縣長', '家台廠', '恥股', '夜幕', '分組', '角落', '喊好', '機動', '啟用', '產學', '租約', '回春', '地檢署', '廣泛', '補貨', '康世人', '瀚宇', '黃文清', '槓桿化', '晶圓廠', '嘉碩', '同鄉會', '長者', '文全', '風扇', '臨床', '存在感', '居次', '所長', '出場', '垂直', '三四月', '大師', '國人', '美吾華', '朋億', '設施', '共產', '環景', '大宗', '利奇馬', '變局', '達控', '康控群', '高科技業', '八貫', '青年', '勤益控', '造紙股', '晶相', '竹科', '上市日', '募資案', '頹勢', '太子', '地上', '張居冠', '群眾', '士氣', '疫情中心', '前茅', '本益', '大半', '新竹', '聯化', '春意', '竹科管理局', '桃竹苗', '高榮', '前年', '間斷', '部門營', '庫和', '長科', '三創', '巫彩蓮', '豐達科', '神腦剩', '分列', '焦板', '日電貿', '奪得', '船高', '可憐', '灌壓', '高手', '安心', '完備', '艾蜜莉', '侯靜蘭', '總之', '滑鼠', '監管', '素果', '消費機', '症狀', '季筆電', '許勝雄', '骨文', '老店', '大局', '力晶集團', '殖利率股', '明日', '身歷其境', '月續', '不辦', '意向書', '邏輯', '類型', '三部曲', '製作', '沿續', '領息', '房產商', '冷風', '元來', '充分', '創新中心', '振華集團', '研發出', '大勢所趨', '和泰', '委任', '長榮豪', '熱點', '行車', '熱銷', '要不', '三十', '看升', '聽診器', '值此', '全界', '維田', '群雷', '九億', '量增', '一起', '輕則', '投靠', '撐腰', '發文者', '經濟學', '起跑', '備忘', '打亂', '跌多', '常見', '審查', '連環', '配出', '停下', '雞母', '選後', '億美金', '短中', '華邦電子', '中共省', '俱樂部', '染期', '對抗', '中標', '冀望', '有感', '轉弱', '車尾燈', '校長', '買點', '負轉正', '專賣店', '認錯', '經濟日', '權保', '台灣事務所', '舉足', '蛇尾', '上品', '台股週報', '日文版', '興櫃', '外交', '台船元', '下彎', '崛起', '變型', '添動能', '文展', '遞交', '堪憂', '張文赫', '管理局', '不棄', '運營', '疲軟所致', '抬頭', '客人', '被害', '手寫', '標售', '風電', '討論店', '首推', '豐厚期', '加霜', '雜音暫歇', '集福宮', '緯創傳', '摩台', '市幕', '電資', '急凍', '新創獎', '職場', '進補', '緩和', '晶豪', '泓格', '專賣', '機場', '賈伯斯', '左右', '顯疲軟', '時侯', '入帳', '不動', '明星', '蔡承啟', '聯貸銀行', '勞動法', '續創', '影響力', '策進院', '關卡約', '附上', '法律', '賣到', '復能', '蔡麗玲', '環科', '戰略', '跟不上', '貴貴', '同欣電子', '說好', '可寧衛', '重塑', '訊映', '對調', '甲特', '光聯', '銅板股', '效用', '代理人', '挫傷', '雙控', '出脫', '許有', '大摩', '湖北省', '活化', '封鎖', '簡政便民', '月營收', '均衡', '永信', '王永壯', '兼施', '事務', '濃厚', '生態系', '成交量能', '支應', '聯貸案', '中控', '升到', '聯袂', '代工業', '美材', '陳建仁', '橫盤', '報獎', '窄幅', '守穩', '陳昱光', '月起', '技術性', '停辦', '心率', '僅僅', '防颱', '崇拜', '聯醫', '停滯', '引爆點', '元時', '細胞', '沿著', '桂盟', '至上', '現與', '清奈廠', '聯亞', '滿手', '史上', '行事', '擬發', '踩雷', '威強電', '振奮', '超商', '億股', '獸重鎮', '狂歡', '鴨子', '小型股', '電電公會', '中探', '小兒', '喊上', '通道', '轉正', '不容', '醫療集團', '新法', '感知', '練兵', '債信', '見解', '廖小蕎', '胡柏蒂', '續航力', '大秀', '大綠棒', '內鬼', '張不等', '華僑', '分居', '染疫', '元躍', '實驗', '普安', '蔡明忠', '智伸科', '短壓', '地價', '和緩', '大無私', '醫師', '正題', '樓層', '養兵', '台指公司', '院長', '潘文虎', '神腦', '設計師', '日才', '年時', '降到', '追趕', '明後天', '採樣股', '須慎', '委外', '佔比', '利益約', '遺跡', '育兒', '兩倍', '自從', '手機組', '平穩', '時初', '毛三', '向醫院', '肯定', '進帳', '系鏈', '延攬', '擠破', '電纜', '周期', '詳見', '乖乖', '摩拜', '挑選', '稽核', '層面', '證券史', '福懋油', '精神', '虎頭', '運價', '筆記', '醫業', '揚明光', '消除', '小龍', '緯創會', '追擊', '曾任諾', '線纜', '萬潤', '續增', '高呼', '初衷', '單轉', '經濟發', '主持', '低開', '以往', '吸納', '下鄉', '地雷', '所屬', '印度班', '合機', '感測', '副院長', '電視業', '美吉吉', '大立光麥證', '起家', '人事', '反彈勁揚', '充滿', '達美', '安成', '近期代', '即為', '韭菜', '簡單', '轉賣超', '場次', '車電', '季增率', '攜式', '迅德', '年微幅', '週邊', '長紅', '月初', '反撲', '緊縮', '信邦', '營收史', '可惜', '期許', '獲報', '物料', '提防', '趕工', '早點', '位在', '西進', '平靜', '新鴻基', '邊境', '不同於', '製藥', '總太', '腫瘤', '集團股', '攻頂', '藥物', '好多', '價遭', '天線廠', '執行率', '李主清', '快攻', '視覺', '松瑞藥', '科技人', '輔以亞光', '渴望', '間接', '技術處', '印尼巴淡島', '宗旨', '高標', '期次', '初六', '今代', '台紙', '事業群', '風場', '兵分', '學名藥', '跌近', '蘇比', '光耀', '刷新', '變換', '推花博', '財政', '加以', '誠實', '有限公司', '摔苦', '便利', '笑死', '淘金', '顧問', '友邦人壽', '達人', '紐約州', '巨路', '作價', '電金', '掀推案', '資安館展', '年期', '傳齊漲', '毀滅', '曉得', '智慧園', '時前', '低檔', '十二', '堆滿', '搬出', '攻略', '日立', '起對', '老三', '好吃', '深獲', '基點', '下滑逾', '固然', '大早', '商業街', '排擠下', '內銷', '燃氣', '興英科技', '五哥業', '賭徒', '升幅', '建造', '氣候', '短料', '上班族', '財政部', '重災區', '資策會', '兌現', '突顯', '擋吃', '用板', '暫訂', '往往', '電梯', '莫名其妙', '終端', '益智', '著眼', '出現重貶', '特區', '六月', '車路', '義隆電子', '元寫', '哈戈谷', '立端', '角響', '疫調', '生物', '父母', '貨款', '周刊', '雙向', '嘉義', '攤位', '武力', '超計', '寬頻', '高盤', '展區', '產品品', '遊戲', '邁入', '林佳龍', '引領', '帶給', '心電圖', '關渡總部', '尖牙股', '悶虧', '純益與', '強迫', '夏季', '連鎖', '民進黨', '製工部', '華纜', '大陸市', '營運動', '功力', '億售', '二九', '呂莉莉', '交易中心', '廣場', '鞋業', '中山區', '庫里安', '顯不足', '偏愛', '立即', '頻頻', '盡頭', '至近持平', '銅礦場', '吸收', '英利', '怎樣', '京東方', '鼎恒', '太平洋', '發佈會', '國泰臺灣', '身體', '智慧醫', '文化基金會', '昌碩', '部分析', '大中', '金麥證', '走近', '週刊', '推爆', '接單', '狂降', '部隊', '力致', '類比', '拿下', '櫃祭庫', '行庫', '研訓', '機族群', '英國', '小鵬', '敦吉', '紐約', '在地安老', '週期', '政務次長', '難敵', '興富發剩', '交投', '不了', '找上', '美科技股', '碰到', '賽制', '烏龜', '拿來', '魚盤', '鉅亨網', '照護展', '國揚', '所在地', '同調', '因傷', '新普', '莊家', '專電', '太陽', '進邁', '保留', '編號', '霍蘇爾', '彈近', '小型', '醫療箱', '工程師', '耐心', '何處', '狂潮', '服務處', '出頭天不遠', '閎暉', '鈔票', '總會', '動車', '總理', '時和碩', '和解', '寵妃', '步伐', '端出華', '陳淑娟', '發力', '正職', '工商時', '愛爾蘭', '膽量', '集雅社', '屏東縣', '挖掘', '得分', '將軍', '金仁寶', '賺逾', '一半', '倒閉', '觸媒', '偏存', '除此', '一手', '常勝軍', '歡顏', '號召', '醫療資', '看下去', '境內外', '調節約', '五百', '登台', '先機', '水果', '首勝', '必要', '健人', '摔出', '迫使', '自製', '低調', '攻綠', '溫馨', '非訟', '機子', '化學生醫', '一點點', '倍指數', '藥業', '陳碧芬', '變成為', '飆破', '辦法', '中心級', '轉增資', '無人車', '移轉案', '三月', '遷廠', '電調度', '催生', '特殊', '補充', '維持約', '醫活', '製鞋業', '運氣', '瀰漫', '倡議', '撐到', '台灣微軟', '相對抗跌', '月曾代', '見識', '季初', '堅稱', '下限', '廖紫岑', '大牛', '遷入率', '豐祥', '藏股', '真心', '浮現', '板卡廠', '白牌', '呂俊儀', '企業庫', '標籤', '合作為', '欄位', '自語', '裝機', '凸顯', '難守', '開口', '雷達', '經濟環', '區別瞭', '曾炎裕', '聯合報', '多萬', '大學', '中小兵', '奮起', '虛實', '搭上', '鼎革獎', '旺年', '更加', '租金', '中華股市', '短道', '表述', '停課', '新生力軍', '清淡', '特派', '新南', '奪市', '勞動節', '振盪', '小賣', '酸民', '不早', '亞利桑那州', '等代', '應當', '息低波', '星期二', '柯文哲', '矽谷', '要素', '謝佳雯', '強勁股', '違規', '劉德音', '無虞', '郊區', '挖寶', '五日線', '穩健股', '三軌', '曾永豐', '座喊', '公關', '銅鑼廠', '何從', '首創', '擴產潮', '續跌', '晶體', '美擬', '尾牙場', '福懋科', '陶瓷股', '不易', '沛星', '旭海', '看盤', '灌溉', '慶豐', '一萬多', '聲浪', '好不起來', '日增', '紅強', '醫界', '一陣', '期利差', '企圖', '南光', '家鄉', '接軌', '一波', '用以', '免揭', '就近', '備貨量', '籌碼戰', '檢傷', '檔有望', '國防', '排場', '為期', '雲端子', '投資處', '為例', '隱含', '資案', '電郵', '資安大會', '貿然', '幫水', '延期', '周瑩慈', '英尺', '吳東亮', '兩兆', '楊泮池', '台大醫院', '貨品', '驊訊', '淨多單', '隱藏', '崇友', '七三', '鏈幣圈', '淘帝', '中階', '累積金', '頻繁', '嘉聯益科技', '誠美', '年年', '位移', '新東進', '維穩', '喊出', '勝利', '名義', '牛皮', '運錩', '連接性', '標記', '狂飆', '印度政府', '暴力', '禁止', '來勁', '保泰', '加盟', '建置量', '風風', '失去', '前來', '大筆', '生達', '到手', '祥碩科技', '大止跌', '入賣', '舒緩', '年雙', '彭博高', '壓軸', '畫素數', '推薦股', '把握到', '上周末', '心存', '用去', '廖哲宏', '群電', '買不到', '橫跨', '付訂金', '大規模', '產線移', '權王發威', '文書', '音箱', '陳良基', '虧滿手', '電子所', '爆量紅', '夏志豪', '開出然終場', '建碁', '良維', '趙于萱', '境外', '白宮澄清', '勝利國中', '陳依旻', '一九', '增來', '續留', '氛圍', '專責', '全聯', '接洽', '交由', '欽點', '獨撐', '顯露', '禁空令', '貿戰', '加減', '王走強', '出生率', '師資', '飛走', '陳鑫', '投資額', '鼠年', '零件股', '搶得', '大膽', '小額', '香港商', '作夢', '歡騰', '亞軍', '著手', '取而代', '意思', '警覺', '訊芯', '增持', '元後', '人家', '先豐', '實踐', '中線', '突出', '平均線', '寶雅', '目的地', '電線', '消風', '之一', '諸如', '三商電', '台北港', '生命', '冠西電', '邱景宏', '統一實', '體系', '停留', '刻意', '晶彩科', '件數', '出走', '招生', '傳聞', '母以子貴', '主攻', '勤美永豐', '百來', '眾信', '胡連', '象徵', '崩盤', '俱增', '聯審', '企業家', '彈逾', '爽賺', '高市府', '脫鉤', '取代性', '塑膠', '重磅', '一城', '變革', '普及', '大轉股', '批發', '博德', '弱點', '息收', '黑馬股', '中印', '東協', '多月', '美台', '破頭', '融創', '燒錢', '臺北市', '飛捷', '共伴', '識別', '試試', '水岸', '平戴', '存託憑證', '首因', '中興', '年淨利', '檔本益', '車款', '品管驗證', '直覺', '願景', '蘇州廠', '率隊', '轉折', '佼佼者', '公頃', '放空', '病危', '全部', '元排第', '立案', '教育部', '雙率', '中市府', '點為', '骨折', '風力', '敦南', '軟體股份', '翻揚', '增量', '樞紐', '國統', '股后', '緊鄰', '泥窯股', '寄望', '侵吞', '得主', '重工', '檔面', '封關日', '獨得', '台灣科技股', '公司戶', '行銷', '運作', '列載', '鴿派', '推算', '太久', '堅強', '比給', '景氣自', '澳洲', '承業醫', '達方', '東鋼', '武肺', '風向球', '手段', '樺漢兆豐', '攻入', '增率', '證認', '劍麟', '美股費半', '股網', '頭痛', '裕隆汽車', '夆典', '大揚', '本額', '廣域', '幕後', '大學光', '危險', '優質', '評審團', '相像', '軍心', '虛擬線', '中國昆山', '商場', '待遇', '緯成', '技術展', '電子展', '飆高', '四年', '報優', '官媒', '追空', '放心', '收集', '大國鋼', '均價', '帶槍', '成交動能', '訊連科技', '和大', '望佳', '走下', '大牛股', '代工大廠', '報由', '風格', '留下來', '超慢', '受屈', '周來', '中緣', '李彥瑾', '亮麗', '偏高', '賴言曦', '品安', '線上展', '創業家', '數千億', '嘴巴', '過半', '所趨', '發展協會', '居民', '運動服', '況況', '減半', '大致', '前三季', '精剛', '國神山', '系統廠', '銷貨', '量體', '大逃殺', '調升', '電子資', '失智', '高清', '承啟', '變形', '齊聚', '中時', '百分之一百', '拓雲端', '電業', '例子', '泰州', '正名', '代買', '體廠', '興建中', '漲逾', '投資標', '公路', '房地', '鍾愛', '萬點', '場效', '晶采', '九國', '鏡頭廠', '餘點', '線照', '復返', '營收約', '跌至', '服務網', '傾向', '下去', '難題', '嬌貴', '含意', '智邦科技', '大少', '凶多吉少', '維基百科', '美祭', '自由時報', '聰明', '大呼心動', '高級', '恆生', '外觀', '富豪公司', '漢諾威', '交易所', '林芳苗', '文攻武嚇', '交替', '驚見', '股性', '市長', '第五', '比賽', '破元', '電續', '小小', '自救', '有些', '國家型', '中宇', '嚇唬人', '價分', '收購案', '不尋常', '運點', '試算', '超中', '國泰全球', '外貿', '視晶', '統籌', '著墨', '葡萄王', '不一定', '南六', '千禧蟲', '觀音鼻', '居首', '頒布', '晶睿', '鼎立', '小英', '急起直', '配件', '台北地檢署', '戰局', '三億', '僅約', '逆漲約', '破萬', '算算', '眾望', '典禮', '運輸到', '親口', '金控股', '代及', '研究所', '官網', '外貿協會', '光纖', '拉高', '陳洲任', '追隨', '艾訊', '退燒', '展位', '營運長', '航線', '答覆', '條和', '藝術節', '年增近', '嗚嗚', '釘子', '官學', '權值王', '路程', '順風車', '訊連', '錢利忠', '聘請', '頗多', '不論', '佛手掌心', '晨間', '確定性', '醫療科技', '群體', '賣給', '預設', '微減', '合體', '為限', '重災戶', '成都', '任者', '趕不上', '高歌', '奪下', '完看', '台新證券', '推選', '腳勤', '活潑', '鼎漢國際', '顯學', '運輸', '不像', '祈禱', '預算案', '餐飲業', '落在', '親戚', '二手', '肯恩', '宏璟', '低潮', '順勢', '電視機', '大銀行', '桃竹', '管驗證', '變肉粽', '不旺', '擎邦', '海神針', '特徵為', '沒什麼', '做收', '管理層', '推估', '周首', '高思危', '經長', '中時電子報', '大利多', '神鬼', '大會', '客群', '漲破', '再者', '歷來', '壹古道', '挺進', '下半場', '揪團', '製品', '汐止', '熱戰', '反倒', '連連', '價盤', '集體', '碩在', '壁壘', '嘉裕', '急劇', '量測', '賣盤', '手軟', '打工', '國泰證期', '隨緣', '視訊', '銅價', '科脈', '實聯制', '四千', '零售商', '楊中傑', '擠進', '業內實戶', '台子公司', '居高思危', '長程世嘉', '蘇國芳', '肉鬆大', '配股', '不等', '果然', '現場', '不但', '看起來', '鬆口氣', '大榮', '旅館業', '神話', '產研中心', '大江', '參賽', '真是', '營業費', '返鄉', '聚碩', '現蹤撿便宜', '華新麗華', '午後', '單貼', '美疫情', '學運', '眾多', '難超中', '雨點', '史門巿', '阿拉伯', '嵌入式', '聯結', '賢急組', '聲寶', '流感', '帶有', '效電', '榮民總醫院', '小量', '換手', '大立光台', '產量', '直擊', '負成長', '大同國泰', '理監事', '異軍', '戰未完待續', '開幕式', '見諒', '跟上', '負擔', '港土地', '分散式', '建大剩', '身價', '顯然', '年半', '勤崴', '開徵', '上詮', '微降', '穩增', '摩擦', '百元股', '附醫', '法等罪', '德微', '商辦', '每天', '複製', '有感而發', '五官鏡', '掉頭', '解釋', '冷清', '上拉', '台中北屯', '大盤日', '一千', '背包', '請辭', '正值', '網銀', '公會', '忍不住', '放大到', '單量', '科技館', '前哨', '神壇', '張嘉信', '選出', '永豐', '巴士', '法定', '預定', '心情', '減過資', '當天', '外資圈', '取消', '挺升', '中文', '亮度', '橫掃', '此次', '燃氣類', '釋出', '日生效', '習性', '碰護', '緯創證', '握有', '息後', '公債', '平倉', '孤單', '電金傳疲憊', '聯詠國泰', '前景佳', '積成', '長庚醫院', '證明', '富邦集團', '回饋', '中裕', '碼頭', '金融時報', '準備金', '元多', '小減', '斷崖式', '座談會', '身分', '沉寂', '尾巴', '代言人', '戰前景不明', '月桌機', '奇摩', '緯創說', '失分', '外移', '慶賀', '構成', '晶宏', '尺寸', '認知', '自已', '廣視野', '戰下', '緩緩', '佛心', '新永安', '提過', '驚爆', '修改', '玻璃心', '林男', '前連', '關切', '成品', '前陣子', '潮助攻', '跡像', '顧立雄', '中石油', '噴出', '上場', '減產', '奇怪', '看得到', '門巿', '指示', '漲法', '陽科技', '精能', '全球展', '短短', '節令', '賴瑞隆', '燃器', '不便', '倍速', '觀察到', '假如', '更換', '月鐵', '卡廠', '競選', '同上', '鄭家福', '喚回', '新生兒', '前晚', '振樺電', '興業', '釋逾', '顧問處', '報價', '科學', '鼎翰', '升破', '一世代', '天內', '掛單', '突起', '林之晨', '黃晶琳', '力度', '基金會', '手續費', '逐月', '太醫', '轉變', '長程', '融程電', '直指', '會年', '喊進', '聯詠科技', '狂敲居功', '轉圜', '兩位數', '謹慎以待', '縮緊', '美銷', '組裝股', '萬人', '現形', '智慧物', '休憩', '昨夜', '國泰股利', '復得', '單晶片', '書本', '勇猛', '炒作', '內蒙', '晚上', '慣例', '量加權', '第三者', '重則', '蘋鏈', '王嘉樞', '收高', '迎作', '息日', '雙增', '標竿', '毛寶', '延後', '此後', '拉貨潮', '斥近', '烏戰爭', '緊盯', '公正', '長許', '報到', '小志氣', '專訊', '推高', '雙減', '健保', '整機', '金牛', '加大', '展碁', '分頭', '減班', '三重', '強烈', '吸睛', '脫穎而出', '衝突', '連線', '南韓', '老路', '月刊', '鈺德', '三晃', '課以', '副秘書長', '印度塔塔', '緯創醫學', '迫聯', '科嘉', '創運點', '裕日車', '亞信', '早於', '所致', '超共', '數科', '重量級生', '親子', '睛航生', '推波', '內外盤', '開學', '捲土', '家電', '迷失', '矽碼', '跌不太下去', '經理人', '載資', '威鋒', '財政部長', '整頓', '於是', '軍通', '上任', '王同', '嚇壞', '中產能', '外殼', '開通', '方程式', '俗稱', '聖暉', '數據力', '台肥永豐', '曝險', '苦果', '寄望法', '可汗', '催化', '碰軟', '台汽電', '國際盤', '初時', '分工', '醫揚', '崇越', '接著', '疲態', '增資案', '添動', '減薪', '辦公區', '跌倒', '扣底', '衝到', '研究院', '飆新高', '點到', '美洲', '敵對', '半年群', '息稅', '三大', '拉到', '語言', '率先表', '光光', '趁機', '釐清', '智能化', '連署', '國建', '地緣', '戰停火', '率同', '學用', '備獲', '伸創', '逃脫', '學到', '負利率', '境內', '重拾', '生力軍', '黃俊超', '兆利', '神山', '英建', '大之列', '轉買', '搜尋量', '元大道瓊', '遊說', '上週', '常董', '實習', '副校長', '曇花一現', '李純君', '勝品', '張嘉臨', '壽險業', '晟田', '拉大', '好難', '台燿', '康和證券', '巨蛋', '廣東', '葉憶如', '今晨', '回購', '越南子', '單車', '嘉基', '總座', '同創', '轉盈', '網飛', '雙邊', '條例', '台灣佳光電', '頂級', '中央日報', '空轉', '內外', '好狠', '神人', '高居', '喊水', '性購', '達年增', '議價', '火焰', '平盤價', '報晨訊', '生策年會', '兩年', '致命病', '瑞磁', '連袂', '網購', '配通', '跟投', '懷疑', '鬆綁', '之所以', '主任', '上傳', '衰洨', '施振榮', '產業界代', '陽程', '大人', '獲法人', '線走', '雷虎', '連假', '蕭君暉', '體重', '中小股', '午餐', '期交', '超鳥', '尚立', '台光電子', '自軟', '打單', '銷美', '那裏', '淹腳目', '列買', '林奕榮', '散播', '榮星', '慘兮兮', '股民', '自營商台', '迎向', '聯茂康和', '離開', '亮相', '賴清德', '問問', '歸零', '立益', '抵達', '不銹鋼', '高盛等', '和泰汽車', '報名', '時期', '篩檢', '瀚宇博德', '融合', '隸屬', '偏重', '稀土', '原訂', '放到', '自言', '不知不覺', '二限水', '美再', '愛如', '力山工業', '拜登會', '晶圓議', '合勤控', '脫離', '鰭式', '抱逾', '納智捷', '似乎', '市佔率', '頭號', '升壓', '傳來', '有機', '大獎', '農糧原', '隨之', '業界人', '甚至於', '大利', '重質', '自爆', '失守月線約', '嘗到', '委員會第', '迎來', '設下', '登峰', '承銷商', '台安創投', '簡立忠', '月大', '流通', '法寶', '輔助', '陸股', '果迷', '緯謙科技', '粉絲', '獲選', '院士', '潮水', '翻面', '風起色', '負眾望', '岱宇', '後天', '超乎', '無奈', '燿華電子', '虧轉盈', '助陣', '雙王', '蘋果鏈', '前述', '高下', '股力', '晶晶', '垃圾債', '打響', '大幅度', '展覽', '急拓', '分批', '國際級', '雲端服', '考驗', '推測', '次世代', '攻高', '依然', '商店', '黯淡', '聚落', '公園', '蘋概股來勁', '電纜股', '創生', '大麥證', '家合', '緯謙', '抗爭', '遭逢', '頒獎', '緯創代', '挾量強', '多媒體', '鄭文燦', '回攻', '釋疑', '展出', '生態圈', '抽籤', '大盤反', '期街', '黃翹生', '黃漢成', '湯瑪斯', '第六', '地產商', '共推', '學研界', '操作法', '陳其邁', '康那香', '萬六', '一舉', '雇用', '參拜人', '風機', '星期一', '獎項', '貿協', '碎滿地', '瀏覽', '鼓吹', '萬華', '矽屏障', '甚麼', '花板', '蕭燕翔', '早早', '羅門', '軍事化', '高精', '買走', '共產黨', '璽悅產', '張聯陽', '圖一', '富邦金等', '逆轉勝', '簡述', '感測器', '通知', '捲爸', '烽火', '帶頭', '堆高', '德州', '寢具', '日也', '股約', '郵件', '友輝', '轉由', '電動車市', '國際中橡', '流程', '柏承', '進口速度', '彈上', '緯新資通', '基因', '新台', '殺機', '許禎祺', '工作日', '壓境', '交通部長', '逢甲大學', '技術部', '賽靈思', '能夠', '公廟', '強轉弱', '影片', '自明', '愛之味', '半導體業', '科技廠', '好棒', '跨螢', '嘎空', '礦產', '復華等', '悍將', '中南部', '美墨', '鋼市', '呼應', '稅收', '萬芳', '傳試', '到處', '何在', '在事涉', '力量', '最少', '危機', '隆達', '棟數', '齊提款', '大利空', '住宿', '君悅', '檔元月', '議事', '套回', '百分之二', '熱氣', '七月', '所有人', '人民', '警報', '成大', '換骨', '今年度', '漲少', '續收', '齊頭並進', '占比', '國安法', '砍價', '飛到', '憂慮', '移機', '人生', '榮民', '總金', '通脹', '四五四', '悄悄', '層級', '西方', '磊凱', '竹北市', '元為', '上陣', '海纜', '面積', '智崴', '醫療人', '同行', '過來', '雙十', '人體', '旺年會', '屏東分院', '定位', '振幅', '半導體庫', '急迫', '南緯', '生醫園區', '欣電', '穩揚', '港股', '生醫股', '追平', '廖繼弘', '戰正', '公里', '中壢廠', '陳國清', '小覷', '連鎖店', '端到', '庫德洛', '洗錢', '伸興', '近乎腰斬', '互補', '回來', '一定可行', '共贏利率', '營建股', '大毅', '磁吸', '攻元', '一變', '海岸線', '六六', '陶瓷', '鼎漢', '所在', '花博', '臺灣大學', '級職', '價位帶', '瑞儀光電', '伊雲谷', '跑出', '銀行業', '何去', '廣達林口', '蓬勃', '鞭小力', '廣東省', '保證金', '路透社', '訴求', '盛達', '偷偷', '日標', '日半', '牙股', '摳真', '介入', '品管', '雙虎群創', '聯貸案量', '槍投', '以台幣', '怪獸', '鮮花', '到任', '呼吸', '擠入', '徒弟', '三率', '童子', '鐘惠玲', '發起', '盈收', '強度', '林明蓉', '撤離', '張庫藏股', '留長', '加速器', '離岸', '惠者', '步入', '戰現', '史詩級', '解析', '中國商', '泰鼎國際', '地處', '槍口', '永豐優', '新竹市', '三季', '長榮下跌', '中國政府', '保護區', '玄機', '水漲', '共振', '宏普', '萬大關', '碩業', '消費支', '溢價', '授予', '以利', '川普又', '奈格', '。映泰', '合力', '兼顧', '會計', '月中旬', '延緩', '市府', '屬子', '批准', '新局', '福寶', '啟動能', '外商', '信義', '心理面', '陽性', '起子', '緯創空', '雙動能', '兆頭', '科技部', '背信', '鴻華', '收達', '讓予', '新一代', '凜冬', '掛賣', '銘鈺', '質感', '熱議', '掌控', '涉足', '鄭心丹', '林政賢', '重股', '外國人', '年減逾', '同仁', '輪番', '每仟', '戴海茜', '鳳山', '小時', '飯碗', '重摔', '諾華', '法式', '勝率', '火力全開', '債務', '喘息', '鎳礦', '接力', '占率', '部會', '本質', '打出', '轉讓', '環保', '濟日報', '點燃', '隆興', '日美', '轉入', '宏遠', '預期性', '光隆', '股板', '走下坡', '展現', '天線', '嬌生', '為題', '續戰', '沾光', '緯潤', '跨界', '光寶科技', '群聯電子', '捷波', '註銷', '緯穎金', '知名學', '偏鄉', '流出', '徵收', '立法院', '創編', '千百億', '勤業', '三路', '摩玩', '驚訝', '吳元雄', '華雷斯城', '紡織', '日續', '工藝', '撈進', '老謝', '交易法', '吃到', '兩萬', '黃力', '率雙升', '利多連發', '新色', '觀光類', '定為', '感到', '力拚', '緯創配', '利華', '外資期', '前途', '跌完', '大老任', '攻擊力', '檔人', '新力', '攜甲', '富邦中國', '肥老鼠', '年後', '軋鋼廠', '螢幕', '串連', '緯軟明', '遞增', '班加羅爾約', '籌組', '今天盤', '大園', '手式', '一再', '好事', '採檢', '紅止步', '漲上', '重頭戲', '世界級', '屏東', '就醫', '宣傳', '採購量', '基準', '上探', '協力', '碰上', '五三九五億', '多雲', '富控股', '閎康', '塑造', '花上', '管理局長', '蔡長海', '親自', '不銹鋼廠', '雙增股', '煙台', '一陣子', '礦砂', '五計', '愛好', '財會', '開完', '手錶', '傳輸', '穩死', '醫電', '磨擦', '朱憲國', '留近', '感覺', '客運', '申請書', '日數', '搶眼', '皇翔', '困境', '研究生', '機率', '茶品', '機河', '商標局', '就算', '方歆婷', '汐止區', '杜蕙蓉', '記錄篇', '軍機', '達約', '分成', '研揚', '守在', '清明', '維斯', '行列', '檔尖兵', '譚仲民', '短暫', '日尾牙', '威潤', '預購', '地步', '屢屢', '囊括', '運營商', '基期股', '身兼', '奇蹟', '榮幸', '陷困境', '通點', '中保科', '注入', '成就', '改從', '原來', '回台', '六暉', '趕上', '肺炎疫', '實話', '世貿', '有誤', '稻穗', '極為', '穩固', '康而富', '插旗', '旭海村', '小黑', '恢復到', '佳光電訊', '不慎', '資料庫', '義大利', '不服氣', '沖銷', '低波', '舉例', '伺服器板', '風雨無阻', '攀高', '主計', '政黨', '喊話', '北市', '美通社', '三點', '改造', '年均值', '高效電', '都處', '限空令', '享有', '昆山緯隆', '動植物', '感謝', '齊格', '中華區', '防護衣', '移民', '擬議', '清單條款', '李秀利', '明水路', '彰化縣', '檢方', '面試', '蔬果', '市集', '陳丙材', '總股數', '日緯醫', '撰文', '轉嫁', '提交', '致振', '推廣', '準會', '東北', '邀集', '緯創董事會', '國泰智能電', '巿值', '債券', '雲南', '看淡', '不理', '就來', '不必', '失控量', '音波', '課題', '研議', '拓凱', '立委', '移回', '融卷慌', '應居高思危', '英媒', '試乘', '微調', '趁亂', '一氣呵成', '財源', '傳奇', '道德行', '盤商', '動車廠', '搬遷', '歲末', '力山國泰', '輪到', '長實集團', '協理', '穩步', '紡織股', '產品組', '晚美', '凱喬', '務必', '紓困', '蜂巢式車', '急增', '過節', '侵佔', '螺絲', '風潮', '林偉德', '猛虎', '訂定', '二二', '走升', '大通', '南亞科技', '財產權', '明辦', '抱不住', '機海', '萬五', '智世代', '領導人', '遠百', '偏空', '跑到', '嘉聯益', '科技展', '統一證', '存儲', '經銷商', '東京', '局長', '遊廠', '應商', '緊接著', '有用', '教材', '台原藥', '體現', '保值', '新點', '研究部', '順藥', '吊子', '通貨', '動土', '反查', '施崇棠', '傳播', '獨特', '小器', '東協醫院', '空軍', '帳款', '大阪川', '賺近', '沙烏地', '港系', '通及', '容忍', '連手', '奈米戶', '做頭', '志強', '吸引力', '一日', '接到', '準備期', '中火', '夢幻', '實體展', '關稅戰', '爭艷館', '夥伴秀', '梯隊', '盛大', '哈哈哈哈', '街口布蘭', '增刪', '率領', '遷出', '金鼎證券', '黃志芳', '之內', '掌握度', '下周', '新意', '李國基', '計價', '收割', '告訴', '專利', '淳安', '卓桐華', '陳奕光', '列席', '十哥會', '支援', '鎳價', '凹單', '相機', '樂事', '往來', '攀升到', '止血', '儼然', '永信剩', '說看', '谷哥', '高適', '群募', '尤以', '對話', '王其國', '昂寶', '梁次震', '永崴', '感冒', '回血', '本體', '難道', '萬物', '洗產地', '必拜', '速器', '這邊', '指標性', '順暢度', '預警', '車聯網', '內網', '距離', '電機學院', '長空', '平均數', '外資點', '鋼價', '俑者', '零組件展', '股部分', '翁毓嵐', '益登', '切勿', '出列', '公共', '驚無險', '狠狠', '熱線', '共通點', '五年', '癌症', '衛星', '重要性', '地產股', '體驗', '落日', '交大', '終結', '展落幕', '豬年', '顏瑞田', '位科技', '副會長', '半年', '基樁', '攻堅部隊', '超車', '林薏茹', '總是', '連番', '購物中心', '開發者', '有譜', '增可達', '轉移到', '特首', '堤維西', '政務次', '跳躍', '快篩報捷', '詮欣', '報查出', '維持在', '皇昌', '鐵口', '城市展', '激盪', '開曼', '營銷', '源自', '營運權', '摩根大通', '事欣科', '兼緯謙', '鑽全', '個體', '庫房', '淡水', '味全', '見臻', '有望續揚', '遙控器', '智慧表', '信用卡', '中樞', '抱股', '售價', '預料', '回國', '主導權', '重現', '風官', '田國泰', '嘉泥', '變色', '困難度', '一概', '廖禹揚', '來頡', '龜速', '台北世貿', '貶破', '人資', '國電', '聲響', '副局長', '分院', '炎熱', '休戰', '光業', '戰再起', '自動', '小升', '鍵盤股', '控制力', '遲來', '表面', '日法說會', '不一', '戶日', '演出', '口袋', '隔離衣', '過境', '顯得', '台建', '鹽業', '檔獲', '何況', '高約', '五月', '強漲約', '日馳', '醫材展', '形象展', '日盛證券', '突然', '彩色', '一館', '膨脹', '工業部長', '滑板', '政治', '報出來', '裡面', '求職', '推案', '太景', '開放式', '濾網', '關心', '匯集', '譁裕', '杲中興', '著重', '電股', '南科', '有利基', '擺尾', '傳播力', '恩智浦', '失業金', '查出', '千附', '元大證券', '研擬', '給得', '降息', '萬難', '擬配', '節奏', '防補跌', '集資額', '華新麥證', '訓練', '轉旺', '昭輝', '核發', '用電', '睛航生醫', '跨國', '勞動力', '試產', '設產能', '即便', '兆利國泰', '主場', '時止', '指期', '關愛', '鄭文宗', '評選', '元區', '美國交易所', '優化', '逆漲逾', '塔塔', '關閉', '第三生技', '形成', '那斯達', '樓主', '放話', '寶成剩', '張真卿', '翻身', '價位股', '經濟主', '第十七', '滅碼', '屹立不搖', '錯殺', '佳龍', '指選', '長榮代子', '全波', '成效', '動盪', '期能將', '淨多單減', '練習', '鍊金術', '行政區', '海嘯', '白皮書', '掃貨股', '通路商', '年財報', '擇期', '自願', '搭載', '取之於', '中概股', '撐起', '鄭州', '經濟學人', '謝惠全', '亞幣', '資遣', '惠業', '性命', '締造史', '何美如', '放開', '龍巖', '單純', '東隆興', '躍過', '開槍', '變更', '存股', '新猷', '員工案', '鑰匙', '低碳', '行動式', '耐心不足', '指期貨', '二一', '生鐵', '推行', '炮口', '銀科技', '傾全', '回收', '報要聞', '傲視', '走滑', '錯過', '福裕', '白領', '設計廠', '優群', '月義隆', '倍指', '冤枉', '分層', '留下', '中央', '浦東', '精品', '年美債', '以台', '卜蜂', '銜接到', '誠意', '超多', '船長', '人選', '大風', '上旬', '合賣', '矽谷銀行', '變盤', '資料照', '精測', '出資', '摩根大', '整齊', '層次', '歐系', '強勢領漲', '瑞士央行', '克羅馬', '撥款', '增加到', '暴跌阿', '有喜', '頒發', '順應', '重金', '維航', '塔塔集團', '訴訟', '東進', '傍晚', '震旦行', '掩護', '或少', '副總統', '三分之二', '海闊', '機款', '半數', '隨時', '組團', '加班', '高殖利率股', '一億', '製程會', '金元寶', '心動', '身為', '緯視晶', '成重', '發行量', '散落', '乖離', '國泰金融', '元關卡', '摜壓到', '廖賜政', '登錄', '大城', '發完', '分道瓊', '銘旺科', '燦星網', '合組', '熊市', '實業', '關於', '其陽', '菜鳥', '日股', '郭亮均', '緯創子公司', '福祉', '士兵', '新抗原', '偽造', '下手', '始作', '機帶', '引以為傲', '分力守', '理財產品', '補選', '凌通科技', '宣佈', '遷移', '穎漢', '冠星', '約當', '連接器', '開法', '暴減', '北醫附醫', '六千', '馬偕醫院', '宏普建設', '通信', '版友', '美軍', '發放日', '電子品', '點數', '討論區', '理立', '目眩', '反映', '走嘎空', '火速', '六成', '洗劫', '地政府', '入手價', '難料', '謝明霖', '譁裕飆', '秘密', '漲點', '齊聲', '世豐', '兼備', '愛國', '郜敏', '紅杉', '德儀', '餐飲', '連三', '台數科', '政經', '年產', '聯邦銀甲', '締造', '山洞', '匯雙殺', '興勤', '增及', '舊廠', '續任', '破千億', '改款', '恐斷鏈', '貨盤', '消散', '手機鏈', '智齡', '躲進', '成長型', '晉泰', '上機', '合理', '徐衍珍', '首見', '印度標準局', '多端', '附圖', '奠定', '新北林口', '建地', '樂斯科', '同步勁揚', '獨角', '家登', '子孫', '高低', '逆轉', '嘉里', '十八', '貿剩', '分區', '牽手', '瑕疵', '穩健攻堅', '深厚', '高技', '再戰', '拖垮', '合台幣', '終場下跌', '楊文科', '云辰', '奶水', '淨化', '超約', '拜訪', '金正恩', '主動', '雷聲', '總產量', '四小龍', '盧明光', '上來', '偽陽性', '谷月涵', '替代', '聯貸', '新竹科學', '無疑', '港口', '勤美', '稱產', '仍舊', '比率', '跳出來', '元大美債', '專門', '加羅爾約', '面額', '中國高股', '暖點', '參議院', '簡伯儀', '所得', '雜音', '視野', '軟板', '中証', '之意', '老闆', '中方', '持分', '全黑', '學人', '普及於', '麥克風', '元富', '五路', '展演中心', '北北基', '安控', '回籠', '引入', '電裝', '比如', '收取', '禁併', '血洗', '徵信', '北部', '盛電', '嘉澤群', '敦陽', '月底', '軍民', '清明節', '爆紅股', '過於', '有助於', '期現貨', '合攻', '店頭', '立場', '標的分', '復季線', '擬定', '返台', '藍綠', '之初', '戰露', '貿區', '空前', '醫療展', '麻煩', '戈爾韋', '重於', '增強', '沈孟儒', '試點', '古道', '勞工部', '掃描', '賞臉', '災區', '潤泰全球', '卡關', '公布期限', '到場', '目光', '無量', '作品', '一年', '上海商', '法規', '陳蕙綾', '定調', '圍繞', '樣子', '企業界', '成分', '專利榜', '沃旭能源', '足跡', '月企業', '開始不振', '獲利在', '申請人', '大勢', '中嘉', '降評', '內湖', '控制與感', '利勤', '投行', '璽悅', '哈評', '擇一', '起訴', '完畢', '軋空頭', '地圖', '奇偶', '研發處', '樂園', '沖天', '頂晶', '股提值', '桃園廠', '樺漢科技', '檔法人', '投片', '扣掉', '消費力', '推遲', '晉升', '新紀元', '美國廠', '視陽', '台期', '重擊', '嘉晶電子', '神龍', '銷盤價', '多方棄守', '有時', '售地', '中信銀行', '驚跌', '到齊', '溫槍', '對決', '寶鋼', '軟實力', '學費', '惡劣', '下季', '教華', '錯車', '端出', '可選', '智成', '新加破', '顧客', '提振', '光片', '中華民國', '衝回', '點亮', '慘開', '發電量', '不準', '金成', '倒掛', '期盼', '往後', '童玉瑋', '健康集', '草案', '全景', '串聯', '地理', '肚子', '昨晚', '穿泳褲', '看不到', '外圍', '投下', '要不要', '貼上', '智慧錶', '有心', '機會向', '林全', '元宇宙', '改口', '阻斷', '中華徵信所', '秩序', '規畫出', '大樹', '倒出', '柏南克', '採行', '自豪', '信賴', '持股約', '掏空', '北韓', '強注', '年代', '獎勵', '私募現', '限於', '蔡娪嫣', '微利', '延燒', '舜宇光學', '哪些', '國企股', '鋼筋', '營邦', '碰撞', '大殺', '概股來勁', '時代表', '綠能', '角色', '校企', '專注於', '脫胎', '護國', '雙虎不同', '聯絡', '內嵌', '二館', '大案', '超跑', '星期', '略為', '清零', '服處', '投資量', '採樣', '耗資', '抗中', '始終', '撐住', '會診', '超市', '通股份', '慘痛', '起跳', '很少', '宜鼎', '存活', '科技界', '科技中心', '大小', '眉目', '反彈行情', '大立光猛醒', '華雷斯', '權重股', '席福', '蒸發約', '大同醫院', '台大', '郭妍希', '認賠', '公國', '送出', '光板', '經常性', '稱霸', '會展', '或許', '低基', '日報', '菲律賓', '滙豐證券', '併營', '鄧振中', '攻守', '無私', '的確', '整齊開', '林靖德', '再造', '轉增', '同案', '上海銀', '資格', '目標力', '在近', '彰化', '台灣證交所', '當選人', '四雄避', '華星', '五停', '外媒', '地雷呆帳', '台灣人', '舊宗段', '交流', '案件', '信號', '抖抖', '神迷', '進在', '從以前', '供桌', '抱怨', '實地', '載浮載沉', '開紅', '金鼠年', '定海', '葉獻文', '購物', '後頭', '朝向', '發展出', '費給', '三八', '匡列', '處置', '開辦', '做不到', '國泰證券', '上緯投控', '攀峰', '潘姿羽', '敘明事', '神盾', '過往', '僅次於', '學界', '元股息', '商像', '持盈', '全文', '人次', '當地政府', '盛會', '開跌', '變動別', '年減率', '迎戰', '冒出', '混合雲', '浮上', '蒸蒸日', '自貿區', '端倪', '樂見', '職潮', '績效股', '強力加', '竹科生', '角逐', '便當', '單價', '人部隊', '狂掃', '機電股', '供應鍊', '三月份', '一擊', '交換器', '端午', '台新銀行', '跌停價', '制度', '量販店', '巨量', '分級', '上任甫', '重來', '更正', '首位', '有線', '地下', '周年', '矽創電子', '電路板', '作業', '剖析', '東莞', '寶寶', '助攻三', '附近盤', '萬華區', '跑掉', '野村', '回調', '疆土', '華為發布', '榮化', '事故', '漲到', '診斷', '老調重', '顯示卡', '元續', '營運面', '瑞祺電', '佈建', '藝文', '我國', '手運', '范婉瑜', '早在', '經緯', '任職', '靜下心', '參選', '榜首', '天災', '降評至', '納斯達克', '升及', '開源', '上路', '看衰', '電子盤', '鍾兆其', '陷空', '新亮點', '電子時報', '蓋廠', '持穩', '大紀元', '重視', '文華', '知名度', '大立', '序言', '出色', '高低差', '增揚', '外資券', '周線以紅', '申豐', '高漲', '翻黑下跌', '洞悉', '學生', '示範', '釋商', '升約', '受挫', '長大', '廣西', '尾聲', '電貿', '衛生室', '美科', '美林證券', '碧桂園', '待去', '巧合', '軟銀', '看無', '防守', '隔日', '廣穎', '摜壓', '竹北', '知名', '自駕', '研究中心', '經由', '留倉', '羅麗芬', '張錫', '外進', '直到', '全身而退', '底價', '經歷', '股災', '年內', '療科', '吃貨', '上修到', '自我', '庫藏', '機密', '嚇破', '用藥', '保德信', '達能', '智富', '倫飛', '使用權', '它們', '第七', '踴躍', '贏家', '金傳', '理事', '昱泉', '死掉', '林杰宏', '生病', '開曼康而', '天量', '智伸科國泰', '聯合科技', '元配', '一切', '非法', '運行', '全資', '日和碩', '林敏雄', '威宏', '監事', '淨科技', '日由', '交會', '冠蓋雲集', '摸彩', '萬眾矚目', '信驊科技', '跨業', '天空', '隔天', '超為', '撐場', '扶持', '發射', '算盤', '建達', '類似', '管齊', '理性', '板卡', '交付', '補跌', '空襲', '成功大學', '黃崇仁', '不減', '餐宴', '股股', '國外', '寒冬', '瑞林', '許曉嘉', '大刀', '軋空手', '活用', '集資', '群光電', '挽救', '面板股', '價算', '星光', '放棄', '接班', '兵器譜', '同寫', '市面', '棄守', '智慧卡', '長多', '個位', '商模', '可喜可賀', '美好', '支腳', '偶爾', '防漲', '接續', '雙拳', '智特股份', '增達', '結購性', '截然', '元跟', '放慢', '藍光', '柯文昌', '容器', '情感', '名藥', '陳冠升', '花錢', '升價', '功臣', '狂瀉', '微機電', '生華科', '推進', '志聖', '開跑', '建物', '買主', '副董', '裝廠', '競因', '精密約', '藥廠', '公布值', '罰罰', '不確定', '景觀', '貓大', '國安', '漲幅在', '追上去', '小接', '深度', '林世嘉', '伺機', '東典', '教練', '改採', '試煉', '跳出', '惠利多', '標準局', '輕重', '接管', '美稱', '元元', '那麼多', '抗生素', '破點', '四手', '倫敦', '不宜', '兩班制', '零售', '總數', '庫克', '傳染', '豐榮', '雙衰', '重頭', '西部', '臨會', '軋到', '續熱', '不旺等', '預防', '南茂科技', '未有', '目的', '上兆', '莫迪', '害怕', '傳新', '拉斯維加斯', '玩具', '絕美', '平日', '集資案', '獲選為', '國民生', '得證', '休兵期', '高主', '優異', '這麼多', '黃佩君', '進出', '民間', '可成麥證', '後第', '里昂', '會場', '門市', '洽商', '佳話', '破億', '漸漸', '月產能', '會在', '洽談會', '鄭州廠', '沒人', '創設', '龍彩霖', '產地', '萎縮', '大中華區', '世紀', '訂下', '厲害', '泰山永豐', '掌聲', '上証', '力積電股', '微笑', '唯獨', '葉倫', '莫德納尋寶', '進口稅', '和生', '靈敏', '總交易', '敘明事項', '弄到', '勉強', '怎麼樣', '零食', '有何', '生理', '爆表', '壓力線', '戰未歇', '中秋節', '廖賢龍', '徵信所', '控管', '千金股', '重設', '元排', '編輯部', '承銷價', '那時', '電網', '點王', '點出', '飆出', '失敗', '放假', '登次高', '長育禎', '白宮', '歸收', '拖慢', '罷工', '忽下', '跌勢沒收斂', '電話法', '新東', '瀚宇博麥證', '推文', '志業', '元平盤價', '新至陞', '展演', '雙升', '國有地', '宏泰', '再來', '舊金山', '颱風財', '好旺', '搶鏡', '瘋高', '環宇', '生產中心', '值為', '檔區', '重量法', '環顧', '產後', '範疇', '新北', '打造成', '繁中版', '群雄', '崇越電', '星瑞林', '改盤', '颱風', '應邀', '拿到', '市立', '鑫創', '利基', '襲擊', '爆料', '抗震', '提值', '觸碰', '收日', '熄火', '豐沛', '費雪', '月創', '越過', '護國群山', '缺欠', '比起', '挑好', '賺贏', '遴選', '紓緩', '台北市', '越南和印尼', '鐵路', '概股', '塑造成', '概況', '縣市', '總值', '到期日', '甲骨', '飲用水', '商台', '道阻', '治療', '開創', '哈哈', '淨利率', '超國票金', '神化', '搶購', '頭殼', '亞洲區', '鼎炫', '台灣大學', '中韓', '一百', '人口', '融合資', '神秘', '台海', '哈佛', '張榮發', '推廣給', '麥格理證', '三足', '電機', '死魚', '旭隼', '俄羅斯', '安聯', '編纂', '指點', '宅推', '高息低波', '擋不住', '申報', '臨時會', '消費筆', '開模', '阿朗', '快篩', '緊接', '雲霄飛車', '貶低', '邦特', '身份', '笑到', '大聯', '點作', '逸達', '富士', '聯上', '技術長', '原料', '訪問', '聯席', '頭銜', '憑藉', '吉茂', '萬芳醫院', '心血', '洗掉', '得獎', '皇田', '諾華腫瘤', '高息股', '溫和', '總處', '告白', '紛紛西', '出量', '邀法', '西雅圖', '無縫', '猜測', '百貨', '結購', '呂朝勝', '頭香', '摩根士丹利', '丹麥', '政務', '苟同', '上看', '神針', '元價位', '簡永祥', '發覺', '予以', '分館', '創獎', '上雲', '多於', '吃穿', '日月光投', '當局', '日止', '金士頓', '好笑', '老牌', '成交比', '大戲', '達欣工', '見血', '減煤', '如意', '賊現形', '奈米醫材', '台積電台', '逞凶', '時碩', '碩續', '新科', '投資法', '北富銀', '高興', '高科', '如下', '何醒邦', '引進', '市政府', '強漲逾', '太平戴維斯', '文件', '交換', '護理', '加薪', '解析度', '二十', '貿易類', '興趣', '催貨', '智慧城', '人身', '日外資', '口味', '凌群', '蘇比克', '雲品', '爆紅', '下空單', '鈍化', '戰而', '夢魘', '借用', '崛起板', '講座', '良機', '大多數', '櫃買指', '創立', '尚凡', '分棟', '碩印尼', '合夥人', '映泰', '櫃祭', '東台', '划水', '駕車', '國際盃', '代表署', '上岸', '外資力', '坐鎮', '答案', '復健', '極權', '大立光達', '禮包', '台東', '在中', '納智', '軟件', '籌設', '旭富', '談話', '文青愛', '股目', '十分之一', '世事', '備妥', '伙伴', '便利性', '無敵', '腦部', '搶地', '中旬', '期局', '進步', '快捷', '才可', '開策', '股利發', '買貴', '九九三五億', '穩居', '藥品', '月筆電', '中保', '通關', '尾牙', '吸血卡油', '交出', '大風吹', '水湳', '維護', '自駕車', '合計為', '優秀', '在職', '競賽', '洗禮', '正確', '為所動', '想要', '重貶', '村民', '臺灣證券', '準備好', '出頭天', '模組廠', '第一金投顧', '落入', '轉大賣', '七年度', '現實', '兆勁', '不到', '聯華', '漲停板', '惦惦', '波及', '大億', '超不平等', '料件', '喊卡', '保守派', '合眾', '二連三', '趨堅', '準確', '字頭', '股華碩', '承受度', '雙殺', '點報', '年起', '脫歐', '對下', '康友', '由田', '新巨', '普生生技', '消耗量', '結凍', '簽名', '盟友', '日加權', '摩根', '學術', '那些', '疲弱', '做法', '交接', '價股', '彭双浪', '不鏽鋼', '康和證', '相隔', '續看', '瑞半導體', '外法', '成員', '靠攏', '陪伴', '防禦型', '股愛', '自信', '雙邦', '富邦台', '不畏', '任職於', '然旺宏', '招聘', '樂翻', '電晶體', '遭受', '齊頭', '排第', '業績股', '齊揚', '台灣大哥大', '面俱到', '旗艦', '雲端聯盟', '軍事', '跨向', '建築中心', '爭議', '長黑', '可望於', '有關係', '排上', '穩守好', '遭賣', '上海浦東', '涉嫌', '億上膛', '眼球', '池上秋', '中科院', '補貼', '缺席', '福邦證', '禮拜', '開拓', '突來', '萬台', '飛鷹', '東方', '量級', '巨變', '新漢', '聯貸圈', '耕興', '買超股計有', '倒地', '老二', '敲定', '紡織廠', '瑞聲', '漸增', '零星', '韓扶植', '智鏈護', '救急', '駕駛', '劇增', '牡丹鄉', '坦承', '急衝', '衛材', '明朗化', '大舉敲', '張數在', '月工廠', '簡化', '奇翼', '連動', '見止跌', '食品股', '單週', '原菌', '特斯拉利多', '盯上', '又一', '樺電', '點達', '器材', '籠罩', '野人', '閒聊', '茂迪', '出擊', '德麥', '正達', '收資', '藍海', '凸顯出', '鰭式場', '展店', '收窄', '蔡明介', '網際', '演唱會', '捨棄', '小於', '趨緊', '緯軟股份', '用車', '化解', '奪走', '席次', '蘊釀', '路雲', '低位', '三虎', '圓展', '長久', '主招式', '愛其來', '鏈結', '港版', '富邦媒', '油金', '開鍘', '病患', '交通大學', '全漲', '翻譯', '獨角獸', '劇烈', '風雲', '部分公司', '認證', '可謂', '破兆', '板接', '查閱', '銀行股', '騰輝', '亞馬', '總成交值', '後期', '鴻海集', '交貨期', '空窗期', '月俄', '美科技', '中菲行', '習會', '血管', '學院', '月子', '參訪', '神木', '主打', '吳重雨', '露出', '會議室', '供應器', '高通旗下', '從即', '量販', '戰出現', '行銷長', '水泥股', '二三', '乘勝', '試跑', '群山', '新生', '弊案', '普惠', '評級', '雙美', '獻給', '緯創作', '艾美', '連宇', '吸金', '倘若', '多元化', '催眠', '寫好', '損平', '油電', '並以', '凌晨', '大權', '運動會', '諸多', '港商', '富貴', '冰鎳', '找來', '戰後', '醫療科', '樓宇', '戰爭', '國健署', '人意', '委屈', '鐵板', '二二八', '退休', '拚守', '急單', '折舊', '程世嘉', '簡便', '支撐股', '勞保', '提升到', '跟漲', '創去', '用之於', '以致', '如期', '專網', '年去', '專才', '灌頂', '證交所法', '玩玩', '列入', '神奇', '不熟', '金日', '急於', '嚇到', '江興鍛', '小鵬汽車', '總獎金', '通縮', '茂達', '廣明', '長虹', '成數', '軌跡', '下載', '歸屬', '再成', '永日', '搭配到', '扛住', '密切', '太陽花', '張紫吟', '執業', '佰研', '撿到', '五華', '大咖', '執行', '記者表', '太極', '下影線', '家門市', '聯陽多', '問世', '老朋友', '專訪', '伺服器市', '一夜', '降為', '台勝科麥證', '說出', '中國附醫', '介接', '初續', '緯哥', '搖身', '歡迎', '後台', '保瑞', '一月', '旭海衛生室', '年間', '工業局', '美國銀行', '志信', '典範'}\n",
      "{'正常性', '月間', '章程', '聘用', '指數位', '股东', '扶植', '慘重', '偷走', '新浪', '急跌', '殺走勢', '以待', '扎根', '一一', '台協會', '調配', '彎腰', '組裝銷', '環鴻', '看回', '起漲', '通告', '張朝欽', '免費', '應材', '砍掉', '回家', '大集', '上銀科技', '更下', '沈重', '思達', '借急', '難耐', '導光板', '捷克經貿', '罩頂', '推特', '賠賣', '見關', '苦牢', '編寫', '走人', '副理事長', '泰詠', '聽聞', '李洲', '有壓', '列到', '排擠', '天價', '磋商', '淨損', '基建', '千多萬', '股版', '特性', '協作', '法德藥', '轉居家', '中長多', '鄭國強', '自購', '手續', '臺股', '凍漲', '巨大子', '解除', '再增', '印太', '網格', '創單', '普騙', '探逾', '集團子公司', '休假', '本面', '大計', '停牌', '冷卻', '數技', '劉德泰', '多半', '翻買', '無端', '營收規', '林進財', '金控業', '打電', '聚集', '露臉', '岌岌可危', '滷肉', '媒體集團', '跳電', '貶轉升', '凝聚', '張世忠', '乍見', '線下', '攻克', '死守潼關', '百分之百', '網通業', '網絡', '爬山', '定義', '條好漢', '各界', '輕量化', '培育', '拼圖', '扶不起', '蔚來', '縮至', '綜觀', '負債表', '雷軍', '見到', '幫手', '權益法', '移轉到', '註冊', '江蘇省', '大哥大', '主委', '漲升', '狂鷹', '新產線', '素質', '易助漲助跌', '單口數', '醫管', '戰戰火', '午安', '董事案', '廉價版', '用在', '好傷', '定案', '蔚為', '呈現持', '集合', '大法', '大立光豪', '家子', '詹顯德', '經濟學家', '上增', '號令', '華爾街', '呼籲', '基泰', '收小紅', '難免', '自行車', '呂世民', '月後', '葳天', '揭示', '花掉', '固料', '數據中心', '鑽石', '席捲', '新制', '欽奈', '昶泓', '避稅', '穿戴', '西門子', '破格', '交易案', '跨區', '暫休', '慘跌', '鎖住', '決標', '美方', '鎖上', '幹部', '緯昌', '台達電台', '習慣', '貨運', '益得', '活躍', '買賣股', '統包', '有利多方', '賣超下', '效果', '有名', '納上', '壓寶', '井琪以', '匯聚', '討論案', '回轉', '大於', '領利息', '回復', '玉山', '羅素', '台系', '中韓台', '定存股', '同學', '病床', '百多億', '復工率', '續提款', '無知', '俄烏', '尖點', '三十億', '房價', '工型', '發出', '籮筐', '注意到', '永昕', '壓盤', '拭目以待', '相當於', '經銷', '崑山廠', '晶傑達光電', '聲喚', '留強', '點等', '重挫逾', '隊法人', '攻下', '山頭', '紡織業', '柯拉爾縣', '晶粒', '開市', '作多心態濃', '勝傳產', '公有', '中文網', '長短料', '代子公司', '搶先', '軟硬體', '屬實', '亞太電信', '輝瑞和', '萬二', '大洋', '報捷', '供需', '今國光', '陳峰明', '時段', '營業利益', '錯誤', '商壽', '四成六', '配發給', '台韓', '早已', '李長明', '強滾', '驊陞', '止勢', '優選', '名師', '入場', '長達', '設備廠', '立敦', '遠距辦公', '融斷', '等逾', '振曜', '跑光', '搶單', '創攻', '價續揚', '個別', '績優股', '股海', '此舉', '缺口未解', '派案', '羅達生', '施打率', '主帥', '工控物', '聽到', '偏鴿', '其今', '趨吉避凶', '落腳', '拍檔', '等同', '趕緊', '電訪', '張淑華', '美德醫', '烏俄', '翻攝', '拼命', '涵蓋到', '總領館', '亞昕', '馬瑞璿', '驊盛', '幾千', '大禮', '意見', '確保', '電業法', '精采', '凌通', '遭致', '賣股', '公投戰', '標脫', '管理區', '入股', '新臺幣', '小鬼', '驚豔', '長華', '發動', '驗收', '大馬', '日一早', '遭瓜分', '周增', '售屋', '達創', '鼎元', '吃緊', '氧氣', '自住', '多久', '美對', '台橋', '獲取', '悲觀', '磐旭', '撤回', '雄厚', '金利', '和碩月', '完美', '隆隆', '出售子', '年貨量', '超过', '角力', '別人', '載材', '鮮明', '挖角', '四確', '挖礦', '傳遞', '根基', '倒水', '富喬', '里程', '超等', '輔具展', '闖入', '金融指', '贏過', '而定', '主機板', '地方政府', '進助', '大疊', '接招', '依循', '井琪今', '雞蛋', '綠意', '阿米', '享受到', '後線', '元大台', '如穩懋', '走衰', '負荷', '入袋', '魏哲嘉', '宣示', '漲跌價', '受創', '主戰', '加重', '同質性', '昆山廠', '劑定', '比亞迪', '共築', '位居', '以便', '反轉走弱', '價潮', '節目', '缺乏', '呂理達', '毛利太', '低量', '季增幅', '學醫', '建築業', '年減近', '火星', '九暘', '油門', '頻道', '三廠', '供給', '劉董', '月領', '好不容易', '轉賣為', '伺服器業', '兩百', '韓國瑜', '華紙', '月月', '息值', '通通動', '停擺', '資增', '自由', '不予', '按時', '精品獎', '甩開', '遷往', '顯見', '友嘉集團', '超張', '旺盛', '應對', '終盤', '大小眼', '小力', '交期', '慎選', '深刻', '賣完', '待發', '經發局', '進逼', '產官', '接盤', '高飛', '一同', '秘訣', '細微', '台達電法', '圍廠', '原油期', '幾十億', '閃亮', '超彙', '阿格力', '分辨出', '呵呵', '障礙', '炒熱', '寫盤', '耀眼', '併購案', '選定', '手工', '當年度', '創意法', '陸媒', '外部', '通暢', '嘉晶', '拉掛', '戰力', '太坊', '利奇', '主人', '氣期貨', '雖未', '限制案', '推助', '估立積', '中國立訊', '達陣', '醫生', '連休', '習近平', '高效能', '穩站', '直得', '待審', '套到', '營造', '無人', '募集', '儲祥生', '旭暉', '拚創', '找到', '覽表', '爭奪', '科技戰', '劍指', '有如', '轉到', '連網', '誤植', '亂流', '靠山', '痛不癢', '中大型', '聯華電子', '換成', '打壓', '回觸', '審批', '撞毀', '搭車', '東訊', '台加大', '戴子翔', '蘇比克灣', '宏達國際', '耆妙屋', '逆差', '不行', '秋季', '現券', '所需', '在即', '育大', '形容', '震驚', '候選人', '小利', '遠慮', '拭目', '搶下', '日多數', '左邊', '那邊', '自動化展', '一千萬', '殺盤', '運轉', '股名', '行政', '做到', '中篇', '川湖', '派員', '籌建', '成助', '中低階', '閉環', '標的物', '職員', '攜工研院', '短時現象', '張紅茶', '運動', '微乎其微', '事業體', '強新', '青睞股', '座談', '油市', '好歹', '力圖', '轉印', '等待', '手法', '售電', '抵抗力', '中天', '聯傑', '數度', '連任', '開小', '駿熠電', '加深', '交棒', '遞減', '換取', '臺灣加權', '遭排擠', '五萬多', '踢出', '可見一斑', '海運股', '入囊', '酈英傑', '可利', '呂淑', '難以', '押寶', '緯創約', '收破', '防護', '機潮', '變差', '碩連', '添未來', '得而', '演變出', '躺著', '財報股', '求量', '牛步', '下班', '計約', '鴻家軍', '具體', '具體目的', '惠美股', '大神', '私有', '轉空', '簡易', '獲買', '一己之力', '服務型', '贖回', '全球廠區', '誇張', '本季', '包辦', '進擊', '一片', '第三處', '肚子火', '士頓', '瑞士信', '病歿', '房貸', '退居', '走堅', '戰事', '算入', '接種', '熱映', '海光', '可勝', '人機', '立大功', '狂升評', '犀動', '台墨', '廣達子', '朱志洋', '在缺', '經營權', '有力', '高價股', '客機', '元關', '透強', '鬆口', '中航', '強升', '會議中心', '名是', '萬七', '意識到', '總司令', '訊集團', '蕭錫鍊', '開曼康', '劃定', '依序為華', '缺櫃', '分散到', '大神機', '南科廠', '出貨力道', '通報', '幾近', '美化', '其於', '走路', '絕望', '宜以', '上風', '現買', '惡戰', '稱為', '林丕容', '壟斷', '不需', '暫失', '大陸廠', '式微', '供料', '王美花', '討電', '四川人', '下挫逾', '反一', '幸福', '百分百', '增年', '飽和', '盎司作', '無關', '出國', '拜疫情', '飆上', '滿倉', '保密', '揮軍', '殘局', '量子', '證券交易所', '產業股', '光國票', '台科', '先後', '果真', '控觸', '豐厚', '增配', '開獎', '超下', '合世', '流行', '蘇貞昌', '人命', '黑天鵝', '捷臺商會', '蘋果財報', '大多', '金麗科', '紅黑', '突圍', '樂看', '張世穎', '十銓', '催促', '失業率', '矽力杰', '媽咪', '決算', '只好', '駿熠', '受控', '數年', '徐康沛', '缺艙', '齊放', '宅女', '葉子', '遜於', '人力水', '總和', '嚇死', '亞泰', '洗牌', '億行', '接掌', '見證', '副市長', '破壞', '起伏', '逆境', '仟元', '華南', '本營', '快要', '倍感', '疫病', '提報', '載工', '互聯', '主人翁', '死握', '下來', '慘淡', '下半聯準會', '傑出', '居多', '走疲', '短腳', '罷免', '王建棟', '虎躍', '鄭奕立', '要點', '超額', '雙報喜', '虎年', '帳面', '昆山市', '接手', '早年', '緯創董', '炒底', '主機', '相關法', '元調', '陌生', '翻騰', '競業行', '工程系', '週六', '估勝', '卓越', '緯創度', '火花', '人貓', '供不', '弟弟', '心丸', '陳儷文', '聲音', '暴徒', '明碁', '砸毀', '孫公司', '鬧電', '首席', '舜電', '大別', '懲罰', '進買', '富邦科技', '鼎鎂', '公信', '晶大', '全資子', '無論', '注重', '純益率', '市佔', '行事曆', '估價師', '李明山', '鳳凰', '减持', '相信', '刺痛', '擇適當', '初三', '招標案', '評比', '反擊', '救市', '反噬', '加權股', '牛皮股', '大拉貨', '回彈', '惠商', '華新科麥證', '支柱', '急崩蘋概', '聯寶', '出任', '吹起', '股神', '堅實', '兩千', '亞系', '麗正', '六億', '平至', '黃少華', '化鎧勝', '搶救', '相抵', '薄弱', '存證', '首選', '四季', '裝不下', '猛飆逾', '新子', '全球性', '億創', '大手筆', '台積電法', '王朝', '戶數', '冠好', '瑞祺電通', '灰心', '人人', '李秉傑', '幅射', '達運', '轉換期', '中文版', '受惠股', '周線連', '國民', '估算', '受矚', '緯穎手', '儘快', '産業', '感恩', '怒批', '拉斯', '南印度', '拉升過', '拜登上', '法國', '購電', '立德', '鼓動', '列賣', '休工', '視界', '立讯', '張憶漩', '擊倒', '張漢綺', '合庫等', '幾百億', '價由', '研究機構', '點火集', '年終獎', '狂吸金', '苛責', '心驚', '狂買', '機板', '企業約', '回覆', '高市', '大跌逾', '拉鋸', '甄鼎', '橘子', '可知', '互相', '盎司', '直奔', '爆滿', '廖婕妤', '堅向', '本業營', '黃卓盛', '迴響', '發燒', '南方', '雙優', '台表', '大抄底', '背書', '阿格力博識', '姻親', '中性', '新光金融', '華榮', '聊聊', '擴容', '戰場', '引線', '鄭詠翔', '佛羅里達', '微薄', '富晶通', '警方', '昏頭', '未計', '法院', '開戶', '獲准', '台股盤', '先天', '率機', '畢業生', '感嘆', '中小型', '當道', '次級', '陸版', '電路版', '李明', '買氣強', '大不了', '尤在', '市場碼', '點回', '台股料', '一斑', '拿出來', '辨別', '展覽等', '元外', '雲霄', '元人民幣', '一發', '月次', '領到', '冷戰', '億人民幣', '大將', '上市股', '調整完', '不墜', '托拉斯', '用戶', '釋放出', '逃離', '佳士達', '無懼', '縮水', '劵商', '庫克造', '光金', '降緩', '息納', '遭殃', '降級', '信錦', '常軌', '兩國', '小買', '逼急', '這點', '不良', '礦工費', '中實戶', '本宮', '化工', '恭喜', '百花', '逆向', '並肩', '月雙', '勝華', '女力', '季衰退', '活水', '小而美', '富邦人壽', '核撥', '彭博', '大魚', '矽品', '元真的', '跛腳', '不含', '死人', '封廠', '虧錢', '劉揚偉', '恐難度', '褐皮書', '蔡榮騰', '游雅嵐', '保衛戰', '心法', '中期', '鮑爾', '高密度', '年率', '超強', '好硬', '演變成', '適應', '戰友', '超千億', '達化', '板廠', '房間數', '周屢傳', '獨鍾', '貶值約', '強固', '動用', '輸給', '百點', '需求量', '借劵', '拉加', '越南盾', '燈籠', '簡立峰', '狂推', '五日', '值錢', '昇達科', '連任失敗', '編制', '楊梅廠', '醫療院所', '浩大', '鯰魚', '京城樂富', '毛損', '上海廠', '熱浪', '醣聯', '亂殺', '分別於', '嚴責', '血統', '科目', '緩慢', '說起', '脈動', '嚴以', '超旺', '前段', '不窮', '王兆立', '味道', '和豐', '反托', '復原', '漸進', '大展', '打擊', '暫定', '川普准', '系統電', '肇因', '股災跌點', '點少', '律師', '致和證', '中連貨', '楊梅幼獅', '議長', '率團', '國政府', '不可能', '致伸', '歉信', '陳有諒', '須要', '狀態', '指引', '群益投顧', '程序', '看增', '標誌', '點解', '沒關係', '張良吉', '胡鈞陽', '狂撒幣', '調整期', '理論', '旺矽', '獲買超', '定勝天', '消息面', '資工系', '陰霾', '鴻海張', '大有', '重中', '萬旭', '緊急', '社論', '養起', '數位力', '瘋傳', '喬遷', '與去', '城略地', '進可攻', '交代', '紅潮', '精密集團', '新頁', '演變', '買超下', '拉斯法', '中物', '喊攻', '候選', '得從', '年正', '尼馬', '倒數', '轉換成', '倍數', '逼鴻', '返年', '晶片股', '虛擬單', '獲利約', '中經院', '數破', '頁次', '所有權', '黃冠寰', '永遠', '封控', '押寶電子組', '玩膩', '季減幅', '紓解', '儲備', '放鷹派', '友達法', '客房', '女版', '掀爆', '台北總部', '精成科', '易建男', '蔚華', '榮科', '備註', '炸彈', '大學生', '資出', '寰銓', '付費', '支倒地', '麗清', '俱樂', '發言', '預防針', '衛純菁', '殺回', '非農', '進商會', '期末', '蠅頭', '萊豬', '數等', '言論', '再現', '側面', '頂不住', '神隆', '開戰', '緯創股東會', '宏盛', '率為', '釋放', '聯軍', '推急', '多重', '李玟儀', '洪麗甯', '視察', '位處', '返回', '派對', '中聯', '爆賺', '一致行', '穩台幣', '新美', '聯防聯', '供給面', '經發局長', '布油', '收息', '擁抱', '電收', '改買', '在望', '停逾', '泰州廠', '終止日', '站在', '資減', '違反供', '紅色', '台欣金', '聯通', '無疫', '安排', '撤除', '期限', '合編', '局外人', '輕微', '顯卡', '信用', '追殺', '毀損', '特快車', '源源不絕', '王振堂', '元股利', '以防', '兩樣', '遊走', '制勞', '龍頭廠', '翻頁', '妙算', '檢附', '飛利浦', '光電科技', '原息值', '緯創車', '滲透率', '轉換', '房屋', '必備', '指標廠', '居功厥偉', '底下', '異常', '印信', '退撫', '轉線', '月我', '享樂', '所得稅', '董監事', '三連', '小心', '宿舍', '排隊', '限期', '蔡國荃', '下壓', '息交易', '諾富特', '抵銷', '美油', '走不了', '金融類', '跌回穩', '減損', '王品', '思維', '口至', '實務', '移往', '環旭子', '牛年', '重複性', '估寫', '瓦特', '歷史性', '粗估', '劉美華', '死亡數', '新加坡', '瑞普萊坊', '攻擊', '賬鏡', '條文', '彼長', '篡改', '羅斯', '落後', '打發', '衰幅', '宇瞻', '官方', '盛行', '畫出', '奪冠', '劉韋廷', '撈到', '炎洲', '助守', '研發人', '小樂', '併鎧勝', '傳統型', '稱讚', '像樣', '華盛頓', '攻車', '皇冠', '膽戰', '補助', '稀少', '道路', '一萬', '占有', '族群展', '國際中心', '剪刀腳', '再向', '張梗圖', '展望佳', '普達', '七成', '復產', '駭客', '皮膚', '龍燈', '遭駭', '潤隆', '確效', '月生', '段龍輝', '價金', '前鎮', '掉單', '一峰', '大過年', '喊賣', '查證', '理解', '複合', '來得', '戰真', '停歇', '育成', '做空', '價量', '開業', '火拚', '歲男', '長榮鋼', '谷底', '林俊吉', '權王法', '作戰', '動式', '菜鳥法', '開花', '戰鬥力', '伸堂', '威風', '償還', '連帶', '元計', '過渡期', '潤泰新', '體檢', '頻寛', '蘇州', '依法', '報稅', '戲碼', '地廠區', '先發', '技術線', '敲門', '高掛', '缺口達', '同致', '成會', '定心丸', '元油', '劉憲治', '貨源', '主線', '相近', '撤休', '日廠', '拚命', '營益', '中強光電', '拚死', '二哥聯電', '至近', '救華為', '傳染力', '息潮', '防諜', '沈慶堯', '不止', '走出', '光群雷', '差等', '聯合晚報', '小塑', '降雨', '殺聲', '配股率', '減到', '熱烈', '家列', '撥補', '深受', '同文', '半月', '台灣子公司', '戰前', '證書', '沾到', '首利', '勢將', '飛機', '或者', '聲勢', '造山', '照片', '彌補', '估代', '名有', '商議', '冬季', '理事會', '淡化', '猛烈', '挨轟', '具名', '臺韓', '好樂', '施壓', '銀彈', '伺服', '平量', '參議長', '作業員', '新華社', '正前', '高林', '安家費', '層樓', '六成二', '高雄市', '未果', '中企', '做出', '汰弱', '自家', '買法', '毅力號', '前期', '倒是', '育樂', '災難', '商立訊', '步局', '超眾', '以使', '急遽', '文本', '低落', '喊衝', '招標', '政委', '確認', '美律實業', '掀起', '堅信', '迎補', '逃命', '鄭顯聰', '混合', '圖片版', '增幅度', '走空', '拜託', '轉虧為', '力成科技', '獨大', '不盡', '無解', '挑釁', '防線', '開頭', '人員別', '千多', '宣德', '大代', '日媒', '獲贈', '印象', '年假', '雙降', '尾無腦賣', '除夕', '謝宏波', '下車', '節能', '資安新', '年以來近', '徘徊', '評析', '上海市', '再再', '台籍', '敦促', '智茂', '錯愕', '競合', '超大型', '放鬆', '平常心', '中加稅', '註冊子', '前言', '杏國', '打炒', '低度', '靜默期', '勢必', '現雜音', '半導體股', '偉創', '細表', '威鋒電子', '有餘', '約達', '經法', '終極', '隔夜沖', '安定', '指數價', '砍到', '聞到', '差點', '易主', '龔明鑫', '傳掉', '融劵', '三福化', '成份股', '不滿', '公文', '這裡', '興采', '新設', '價值型', '續任為', '重兵', '航居冠', '北印度', '正元大', '上千', '逮捕', '擬訂', '介入點', '利息', '萬九', '漢科', '過長', '方盜', '穎崴', '印媒', '名人', '短缺', '呈現下', '沒辦法', '吝嗇', '昇佳', '靜待', '日月光投控', '自建', '石化股', '全新光電', '紅包', '艱困期', '投機性', '軍令', '力麒', '奇癢', '客製', '漲於', '高唱', '荷包', '帳號', '電動車界', '想到', '終場收在', '指教', '起飛', '井琪', '豐碩', '檔官股', '功德', '亞諾法', '土城', '值僅', '全球化', '網聯', '換守', '無畏', '爆卦', '跌掉', '得宜', '退出', '遭損', '休息', '訣竅', '碩緯', '黃柏漙以', '巴淡島', '官司', '跨出', '認可', '商聯滔', '中國會', '友聯', '威脅', '碎滿', '結論', '散裝', '四腳朝天', '緊連', '用於', '研發中心', '四川', '落水', '傻子', '偉全', '宏正', '活期', '橫向', '車半', '對和', '強強滾', '盛力', '平均得分', '百花齊放', '表冊', '分股', '產協館', '選拔', '易華電子', '高低點', '台翰', '發光', '引響', '高雄廠', '同年', '認罪', '吳柏緯', '數千', '日遭', '反覆', '懷特', '檔權值', '球賽', '訪立', '清倉', '周報', '明明', '監交', '重跌', '順天', '預防性', '超出', '吃下', '電動車廠', '指數料', '列出', '大立光收', '摸到', '買宅', '除以', '考績', '高檔區', '填息率', '壯大', '日代', '爭鳴', '機器人', '陣子', '風度', '此時', '一詮', '透弱', '屏息', '點整', '續升逾', '延綿', '相害取其輕', '某些', '兆億', '高城', '打頭', '臉綠', '布蘭特正', '軍隊', '水力', '開竅', '損抓', '大哥', '變負', '舉措', '字號', '共襄盛舉', '創作', '宏齊', '驚喜', '新案', '由立訊集團', '坦言', '碩傳', '羅比尼', '靜態', '心悅', '台辦', '飛車式', '看至', '開底', '涼透', '富邦深', '企業型', '季節', '差臨門', '重殺', '急戰力', '息前', '索性', '出事', '拉長', '致力', '光鼎', '人物', '五月天', '汽油', '家獎', '對價', '龍頭惠普', '實境', '遇到', '外匯', '機版', '從頭', '李焜耀', '獲利率', '高油價', '爭奪戰', '彭錦彬', '接下', '搶回', '曜越', '認同', '探近', '持續不振', '石化業', '難得', '貼出', '獨攬', '美貿', '周卡位', '全力', '保全', '復失', '限額', '機櫃', '帳列', '卅萬', '四分之一', '戰影', '電價', '雅茗', '互動', '卅八萬多', '異業', '不休假', '當選名', '急著', '引起', '弘憶股', '緊密', '缺得', '千興', '從前', '馬斯克', '漢威聯合等', '戰破', '審議', '減輕', '減約', '張郁禮', '大東', '層出', '磁性', '南盾', '戒嚴', '跌量增', '失利', '打帶跑', '衍生', '民生', '陽明法', '卸任', '共通', '廖泰翔', '中電', '工時', '出發', '勞動部', '大器', '一級', '發燙', '頁鍵', '碗公', '今晚', '元兌', '旗下車', '多扶', '產品面', '時值', '先生', '費用', '年持平', '雙虎不同調', '新高點', '那照理', '特定', '阿拉巴馬', '罕見', '基亞', '壟罩', '剔除', '勢力', '提名', '柳繼剛', '月領頭', '蘇州市', '況且', '縮表', '大洞', '天國一輝', '精心', '故障', '急用', '提列', '手中', '買賣中心', '號角', '進而', '韋德齊', '買合計達', '得標', '儀器', '銀髮產協館', '按鍵式', '石化', '買到', '高雄晶', '交錯', '家庭', '營業稅', '處長段', '前後', '內需型', '晶片門', '要角', '席話', '打光', '川粉', '車子', '周日', '經信委', '橋椿', '貼近', '加於', '滿載', '迅猛', '無誤', '數從', '工資', '重地', '難關', '下半', '拋售', '振作', '退回', '議院', '商聲', '合計達', '功率', '年增約', '認養股', '轉賣創', '戴玉翔', '冠疫苗', '捷克參議院', '一兩', '威建', '失業', '收中', '佳穎', '用品', '費和', '立院', '任正非', '上膛', '路線', '退可守', '迸出', '薪水', '陷牛步', '拉上', '中途', '鈞寶', '中國廠', '唬爛', '下緣', '附加', '禾昌', '載板', '董座力', '薩普爾', '周末', '電量', '功能性', '元附近', '多點', '應變', '走完', '相抗', '跌約', '座廠', '埋好', '南亞電', '難怪', '邢陳震崙', '截圖', '億挺進', '股值', '所謂', '進退場', '轉進', '超金', '睽違', '電信股', '貼文', '國道瓊', '進行式', '資高價', '船運', '查明', '運動家', '走緩', '等等', '動支', '搶訂單', '檢測', '人股', '獨黑', '恐凶多吉少', '零件廠', '沖強', '大紅', '分拆', '潛在', '日本政府', '串沉', '傳美', '日金', '受缺', '雜音不斷', '咫尺', '李若雯', '分居二', '機殼廠', '牛皮存股', '妥善', '近平', '致茂康和', '雲達', '清奈市', '產出', '千計', '情境', '永捷', '燒燙', '金虎', '共同社', '淨多', '現身', '司法', '心力', '沖淡', '部桃', '登記', '栽培', '留守', '防禦性', '出海', '說報', '料源', '沈書緯', '搭機', '瑞信', '註記', '站台', '中多頭急', '減至', '開幕', '參考價', '盈虧', '為之', '李鈺', '看旺', '韓大廠', '林宛儀', '天鵝', '漲完', '舜宇', '抓住', '澄清', '雙鴻', '大舉鎖', '狂增', '德律', '值從', '變革年', '賣超力道', '好處', '預見', '上去', '助益', '趕快', '聯展', '蒐羅', '予立訊', '指控', '為宜', '窘境', '續買', '臺捷', '小忙', '波動率', '叩關', '失望', '公眾', '簡學仁', '外包', '連續性', '切換', '美下達', '歐淑芳夫', '菱光', '兆美元', '詳細', '道瓊工業', '倉庫', '張緯創', '眼看', '可達', '服務廠商', '高高', '觸控', '蔡明彥', '期滿', '開樓', '一方面', '永績', '第十三', '口罩股', '造就', '月中', '引立', '套利息', '遠端', '走軟', '華祺', '為真', '老鼠', '延宕', '整期', '賠掉', '台積法', '主因為', '停板', '美國政府', '董事酬營', '富鼎漲停', '儲蓄', '湧進', '中共', '競逐', '任日', '台開', '席一般', '轉交給', '印度諾伊達', '周周漲'}\n"
     ]
    }
   ],
   "source": [
    "print(term_dict['up'])\n",
    "print(term_dict['down'])"
   ]
  },
  {
   "attachments": {},
   "cell_type": "markdown",
   "metadata": {},
   "source": [
    "### Step14. Build the vocabulary"
   ]
  },
  {
   "cell_type": "code",
   "execution_count": 31,
   "metadata": {},
   "outputs": [
    {
     "name": "stdout",
     "output_type": "stream",
     "text": [
      "{'超象': 0, '加緊': 1, '札卡利亞': 2, '影視': 3, '拖延': 4, '傾力': 5, '遇壓走出盤': 6, '富邦恒生': 7, '台電': 8, '月單': 9, '醫學': 10, '難逃': 11, '高人': 12, '趙承佑': 13, '一展': 14, '抗跌': 15, '連鎖業': 16, '每年': 17, '輸出': 18, '移轉': 19, '貨架': 20, '縣長': 21, '家台廠': 22, '恥股': 23, '夜幕': 24, '分組': 25, '角落': 26, '喊好': 27, '機動': 28, '啟用': 29, '產學': 30, '租約': 31, '回春': 32, '地檢署': 33, '廣泛': 34, '補貨': 35, '康世人': 36, '瀚宇': 37, '黃文清': 38, '槓桿化': 39, '晶圓廠': 40, '嘉碩': 41, '同鄉會': 42, '長者': 43, '文全': 44, '風扇': 45, '臨床': 46, '存在感': 47, '居次': 48, '所長': 49, '出場': 50, '垂直': 51, '三四月': 52, '大師': 53, '國人': 54, '美吾華': 55, '朋億': 56, '設施': 57, '共產': 58, '環景': 59, '大宗': 60, '利奇馬': 61, '變局': 62, '達控': 63, '康控群': 64, '高科技業': 65, '八貫': 66, '青年': 67, '勤益控': 68, '造紙股': 69, '晶相': 70, '竹科': 71, '上市日': 72, '募資案': 73, '頹勢': 74, '太子': 75, '地上': 76, '張居冠': 77, '群眾': 78, '士氣': 79, '疫情中心': 80, '前茅': 81, '本益': 82, '大半': 83, '新竹': 84, '聯化': 85, '春意': 86, '竹科管理局': 87, '桃竹苗': 88, '高榮': 89, '前年': 90, '間斷': 91, '部門營': 92, '庫和': 93, '長科': 94, '三創': 95, '巫彩蓮': 96, '豐達科': 97, '神腦剩': 98, '分列': 99, '焦板': 100, '日電貿': 101, '奪得': 102, '船高': 103, '可憐': 104, '灌壓': 105, '高手': 106, '安心': 107, '完備': 108, '艾蜜莉': 109, '侯靜蘭': 110, '總之': 111, '滑鼠': 112, '監管': 113, '素果': 114, '消費機': 115, '症狀': 116, '季筆電': 117, '許勝雄': 118, '骨文': 119, '老店': 120, '大局': 121, '力晶集團': 122, '殖利率股': 123, '明日': 124, '身歷其境': 125, '月續': 126, '不辦': 127, '意向書': 128, '邏輯': 129, '類型': 130, '三部曲': 131, '製作': 132, '沿續': 133, '領息': 134, '房產商': 135, '冷風': 136, '元來': 137, '充分': 138, '創新中心': 139, '振華集團': 140, '研發出': 141, '大勢所趨': 142, '和泰': 143, '委任': 144, '長榮豪': 145, '熱點': 146, '行車': 147, '熱銷': 148, '要不': 149, '三十': 150, '看升': 151, '聽診器': 152, '值此': 153, '全界': 154, '維田': 155, '群雷': 156, '九億': 157, '量增': 158, '一起': 159, '輕則': 160, '投靠': 161, '撐腰': 162, '發文者': 163, '經濟學': 164, '起跑': 165, '備忘': 166, '打亂': 167, '跌多': 168, '常見': 169, '審查': 170, '連環': 171, '配出': 172, '停下': 173, '雞母': 174, '選後': 175, '億美金': 176, '短中': 177, '華邦電子': 178, '中共省': 179, '俱樂部': 180, '染期': 181, '對抗': 182, '中標': 183, '冀望': 184, '有感': 185, '轉弱': 186, '車尾燈': 187, '校長': 188, '買點': 189, '負轉正': 190, '專賣店': 191, '認錯': 192, '經濟日': 193, '權保': 194, '台灣事務所': 195, '舉足': 196, '蛇尾': 197, '上品': 198, '台股週報': 199, '日文版': 200, '興櫃': 201, '外交': 202, '台船元': 203, '下彎': 204, '崛起': 205, '變型': 206, '添動能': 207, '文展': 208, '遞交': 209, '堪憂': 210, '張文赫': 211, '管理局': 212, '不棄': 213, '運營': 214, '疲軟所致': 215, '抬頭': 216, '客人': 217, '被害': 218, '手寫': 219, '標售': 220, '風電': 221, '討論店': 222, '首推': 223, '豐厚期': 224, '加霜': 225, '雜音暫歇': 226, '集福宮': 227, '緯創傳': 228, '摩台': 229, '市幕': 230, '電資': 231, '急凍': 232, '新創獎': 233, '職場': 234, '進補': 235, '緩和': 236, '晶豪': 237, '泓格': 238, '專賣': 239, '機場': 240, '賈伯斯': 241, '左右': 242, '顯疲軟': 243, '時侯': 244, '入帳': 245, '不動': 246, '明星': 247, '蔡承啟': 248, '聯貸銀行': 249, '勞動法': 250, '續創': 251, '影響力': 252, '策進院': 253, '關卡約': 254, '附上': 255, '法律': 256, '賣到': 257, '復能': 258, '蔡麗玲': 259, '環科': 260, '戰略': 261, '跟不上': 262, '貴貴': 263, '同欣電子': 264, '說好': 265, '可寧衛': 266, '重塑': 267, '訊映': 268, '對調': 269, '甲特': 270, '光聯': 271, '銅板股': 272, '效用': 273, '代理人': 274, '挫傷': 275, '雙控': 276, '出脫': 277, '許有': 278, '大摩': 279, '湖北省': 280, '活化': 281, '封鎖': 282, '簡政便民': 283, '月營收': 284, '均衡': 285, '永信': 286, '王永壯': 287, '兼施': 288, '事務': 289, '濃厚': 290, '生態系': 291, '成交量能': 292, '支應': 293, '聯貸案': 294, '中控': 295, '升到': 296, '聯袂': 297, '代工業': 298, '美材': 299, '陳建仁': 300, '橫盤': 301, '報獎': 302, '窄幅': 303, '守穩': 304, '陳昱光': 305, '月起': 306, '技術性': 307, '停辦': 308, '心率': 309, '僅僅': 310, '防颱': 311, '崇拜': 312, '聯醫': 313, '停滯': 314, '引爆點': 315, '元時': 316, '細胞': 317, '沿著': 318, '桂盟': 319, '至上': 320, '現與': 321, '清奈廠': 322, '聯亞': 323, '滿手': 324, '史上': 325, '行事': 326, '擬發': 327, '踩雷': 328, '威強電': 329, '振奮': 330, '超商': 331, '億股': 332, '獸重鎮': 333, '狂歡': 334, '鴨子': 335, '小型股': 336, '電電公會': 337, '中探': 338, '小兒': 339, '喊上': 340, '通道': 341, '轉正': 342, '不容': 343, '醫療集團': 344, '新法': 345, '感知': 346, '練兵': 347, '債信': 348, '見解': 349, '廖小蕎': 350, '胡柏蒂': 351, '續航力': 352, '大秀': 353, '大綠棒': 354, '內鬼': 355, '張不等': 356, '華僑': 357, '分居': 358, '染疫': 359, '元躍': 360, '實驗': 361, '普安': 362, '蔡明忠': 363, '智伸科': 364, '短壓': 365, '地價': 366, '和緩': 367, '大無私': 368, '醫師': 369, '正題': 370, '樓層': 371, '養兵': 372, '台指公司': 373, '院長': 374, '潘文虎': 375, '神腦': 376, '設計師': 377, '日才': 378, '年時': 379, '降到': 380, '追趕': 381, '明後天': 382, '採樣股': 383, '須慎': 384, '委外': 385, '佔比': 386, '利益約': 387, '遺跡': 388, '育兒': 389, '兩倍': 390, '自從': 391, '手機組': 392, '平穩': 393, '時初': 394, '毛三': 395, '向醫院': 396, '肯定': 397, '進帳': 398, '系鏈': 399, '延攬': 400, '擠破': 401, '電纜': 402, '周期': 403, '詳見': 404, '乖乖': 405, '摩拜': 406, '挑選': 407, '稽核': 408, '層面': 409, '證券史': 410, '福懋油': 411, '精神': 412, '虎頭': 413, '運價': 414, '筆記': 415, '醫業': 416, '揚明光': 417, '消除': 418, '小龍': 419, '緯創會': 420, '追擊': 421, '曾任諾': 422, '線纜': 423, '萬潤': 424, '續增': 425, '高呼': 426, '初衷': 427, '單轉': 428, '經濟發': 429, '主持': 430, '低開': 431, '以往': 432, '吸納': 433, '下鄉': 434, '地雷': 435, '所屬': 436, '印度班': 437, '合機': 438, '感測': 439, '副院長': 440, '電視業': 441, '美吉吉': 442, '大立光麥證': 443, '起家': 444, '人事': 445, '反彈勁揚': 446, '充滿': 447, '達美': 448, '安成': 449, '近期代': 450, '即為': 451, '韭菜': 452, '簡單': 453, '轉賣超': 454, '場次': 455, '車電': 456, '季增率': 457, '攜式': 458, '迅德': 459, '年微幅': 460, '週邊': 461, '長紅': 462, '月初': 463, '反撲': 464, '緊縮': 465, '信邦': 466, '營收史': 467, '可惜': 468, '期許': 469, '獲報': 470, '物料': 471, '提防': 472, '趕工': 473, '早點': 474, '位在': 475, '西進': 476, '平靜': 477, '新鴻基': 478, '邊境': 479, '不同於': 480, '製藥': 481, '總太': 482, '腫瘤': 483, '集團股': 484, '攻頂': 485, '藥物': 486, '好多': 487, '價遭': 488, '天線廠': 489, '執行率': 490, '李主清': 491, '快攻': 492, '視覺': 493, '松瑞藥': 494, '科技人': 495, '輔以亞光': 496, '渴望': 497, '間接': 498, '技術處': 499, '印尼巴淡島': 500, '宗旨': 501, '高標': 502, '期次': 503, '初六': 504, '今代': 505, '台紙': 506, '事業群': 507, '風場': 508, '兵分': 509, '學名藥': 510, '跌近': 511, '蘇比': 512, '光耀': 513, '刷新': 514, '變換': 515, '推花博': 516, '財政': 517, '加以': 518, '誠實': 519, '有限公司': 520, '摔苦': 521, '便利': 522, '笑死': 523, '淘金': 524, '顧問': 525, '友邦人壽': 526, '達人': 527, '紐約州': 528, '巨路': 529, '作價': 530, '電金': 531, '掀推案': 532, '資安館展': 533, '年期': 534, '傳齊漲': 535, '毀滅': 536, '曉得': 537, '智慧園': 538, '時前': 539, '低檔': 540, '十二': 541, '堆滿': 542, '搬出': 543, '攻略': 544, '日立': 545, '起對': 546, '老三': 547, '好吃': 548, '深獲': 549, '基點': 550, '下滑逾': 551, '固然': 552, '大早': 553, '商業街': 554, '排擠下': 555, '內銷': 556, '燃氣': 557, '興英科技': 558, '五哥業': 559, '賭徒': 560, '升幅': 561, '建造': 562, '氣候': 563, '短料': 564, '上班族': 565, '財政部': 566, '重災區': 567, '資策會': 568, '兌現': 569, '突顯': 570, '擋吃': 571, '用板': 572, '暫訂': 573, '往往': 574, '電梯': 575, '莫名其妙': 576, '終端': 577, '益智': 578, '著眼': 579, '出現重貶': 580, '特區': 581, '六月': 582, '車路': 583, '義隆電子': 584, '元寫': 585, '哈戈谷': 586, '立端': 587, '角響': 588, '疫調': 589, '生物': 590, '父母': 591, '貨款': 592, '周刊': 593, '雙向': 594, '嘉義': 595, '攤位': 596, '武力': 597, '超計': 598, '寬頻': 599, '高盤': 600, '展區': 601, '產品品': 602, '遊戲': 603, '邁入': 604, '林佳龍': 605, '引領': 606, '帶給': 607, '心電圖': 608, '關渡總部': 609, '尖牙股': 610, '悶虧': 611, '純益與': 612, '強迫': 613, '夏季': 614, '連鎖': 615, '民進黨': 616, '製工部': 617, '華纜': 618, '大陸市': 619, '營運動': 620, '功力': 621, '億售': 622, '二九': 623, '呂莉莉': 624, '交易中心': 625, '廣場': 626, '鞋業': 627, '中山區': 628, '庫里安': 629, '顯不足': 630, '偏愛': 631, '立即': 632, '頻頻': 633, '盡頭': 634, '至近持平': 635, '銅礦場': 636, '吸收': 637, '英利': 638, '怎樣': 639, '京東方': 640, '鼎恒': 641, '太平洋': 642, '發佈會': 643, '國泰臺灣': 644, '身體': 645, '智慧醫': 646, '文化基金會': 647, '昌碩': 648, '部分析': 649, '大中': 650, '金麥證': 651, '走近': 652, '週刊': 653, '推爆': 654, '接單': 655, '狂降': 656, '部隊': 657, '力致': 658, '類比': 659, '拿下': 660, '櫃祭庫': 661, '行庫': 662, '研訓': 663, '機族群': 664, '英國': 665, '小鵬': 666, '敦吉': 667, '紐約': 668, '在地安老': 669, '週期': 670, '政務次長': 671, '難敵': 672, '興富發剩': 673, '交投': 674, '不了': 675, '找上': 676, '美科技股': 677, '碰到': 678, '賽制': 679, '烏龜': 680, '拿來': 681, '魚盤': 682, '鉅亨網': 683, '照護展': 684, '國揚': 685, '所在地': 686, '同調': 687, '因傷': 688, '新普': 689, '莊家': 690, '專電': 691, '太陽': 692, '進邁': 693, '保留': 694, '編號': 695, '霍蘇爾': 696, '彈近': 697, '小型': 698, '醫療箱': 699, '工程師': 700, '耐心': 701, '何處': 702, '狂潮': 703, '服務處': 704, '出頭天不遠': 705, '閎暉': 706, '鈔票': 707, '總會': 708, '動車': 709, '總理': 710, '時和碩': 711, '和解': 712, '寵妃': 713, '步伐': 714, '端出華': 715, '陳淑娟': 716, '發力': 717, '正職': 718, '工商時': 719, '愛爾蘭': 720, '膽量': 721, '集雅社': 722, '屏東縣': 723, '挖掘': 724, '得分': 725, '將軍': 726, '金仁寶': 727, '賺逾': 728, '一半': 729, '倒閉': 730, '觸媒': 731, '偏存': 732, '除此': 733, '一手': 734, '常勝軍': 735, '歡顏': 736, '號召': 737, '醫療資': 738, '看下去': 739, '境內外': 740, '調節約': 741, '五百': 742, '登台': 743, '先機': 744, '水果': 745, '首勝': 746, '必要': 747, '健人': 748, '摔出': 749, '迫使': 750, '自製': 751, '低調': 752, '攻綠': 753, '溫馨': 754, '非訟': 755, '機子': 756, '化學生醫': 757, '一點點': 758, '倍指數': 759, '藥業': 760, '陳碧芬': 761, '變成為': 762, '飆破': 763, '辦法': 764, '中心級': 765, '轉增資': 766, '無人車': 767, '移轉案': 768, '三月': 769, '遷廠': 770, '電調度': 771, '催生': 772, '特殊': 773, '補充': 774, '維持約': 775, '醫活': 776, '製鞋業': 777, '運氣': 778, '瀰漫': 779, '倡議': 780, '撐到': 781, '台灣微軟': 782, '相對抗跌': 783, '月曾代': 784, '見識': 785, '季初': 786, '堅稱': 787, '下限': 788, '廖紫岑': 789, '大牛': 790, '遷入率': 791, '豐祥': 792, '藏股': 793, '真心': 794, '浮現': 795, '板卡廠': 796, '白牌': 797, '呂俊儀': 798, '企業庫': 799, '標籤': 800, '合作為': 801, '欄位': 802, '自語': 803, '裝機': 804, '凸顯': 805, '難守': 806, '開口': 807, '雷達': 808, '經濟環': 809, '區別瞭': 810, '曾炎裕': 811, '聯合報': 812, '多萬': 813, '大學': 814, '中小兵': 815, '奮起': 816, '虛實': 817, '搭上': 818, '鼎革獎': 819, '旺年': 820, '更加': 821, '租金': 822, '中華股市': 823, '短道': 824, '表述': 825, '停課': 826, '新生力軍': 827, '清淡': 828, '特派': 829, '新南': 830, '奪市': 831, '勞動節': 832, '振盪': 833, '小賣': 834, '酸民': 835, '不早': 836, '亞利桑那州': 837, '等代': 838, '應當': 839, '息低波': 840, '星期二': 841, '柯文哲': 842, '矽谷': 843, '要素': 844, '謝佳雯': 845, '強勁股': 846, '違規': 847, '劉德音': 848, '無虞': 849, '郊區': 850, '挖寶': 851, '五日線': 852, '穩健股': 853, '三軌': 854, '曾永豐': 855, '座喊': 856, '公關': 857, '銅鑼廠': 858, '何從': 859, '首創': 860, '擴產潮': 861, '續跌': 862, '晶體': 863, '美擬': 864, '尾牙場': 865, '福懋科': 866, '陶瓷股': 867, '不易': 868, '沛星': 869, '旭海': 870, '看盤': 871, '灌溉': 872, '慶豐': 873, '一萬多': 874, '聲浪': 875, '好不起來': 876, '日增': 877, '紅強': 878, '醫界': 879, '一陣': 880, '期利差': 881, '企圖': 882, '南光': 883, '家鄉': 884, '接軌': 885, '一波': 886, '用以': 887, '免揭': 888, '就近': 889, '備貨量': 890, '籌碼戰': 891, '檢傷': 892, '檔有望': 893, '國防': 894, '排場': 895, '為期': 896, '雲端子': 897, '投資處': 898, '為例': 899, '隱含': 900, '資案': 901, '電郵': 902, '資安大會': 903, '貿然': 904, '幫水': 905, '延期': 906, '周瑩慈': 907, '英尺': 908, '吳東亮': 909, '兩兆': 910, '楊泮池': 911, '台大醫院': 912, '貨品': 913, '驊訊': 914, '淨多單': 915, '隱藏': 916, '崇友': 917, '七三': 918, '鏈幣圈': 919, '淘帝': 920, '中階': 921, '累積金': 922, '頻繁': 923, '嘉聯益科技': 924, '誠美': 925, '年年': 926, '位移': 927, '新東進': 928, '維穩': 929, '喊出': 930, '勝利': 931, '名義': 932, '牛皮': 933, '運錩': 934, '連接性': 935, '標記': 936, '狂飆': 937, '印度政府': 938, '暴力': 939, '禁止': 940, '來勁': 941, '保泰': 942, '加盟': 943, '建置量': 944, '風風': 945, '失去': 946, '前來': 947, '大筆': 948, '生達': 949, '到手': 950, '祥碩科技': 951, '大止跌': 952, '入賣': 953, '舒緩': 954, '年雙': 955, '彭博高': 956, '壓軸': 957, '畫素數': 958, '推薦股': 959, '把握到': 960, '上周末': 961, '心存': 962, '用去': 963, '廖哲宏': 964, '群電': 965, '買不到': 966, '橫跨': 967, '付訂金': 968, '大規模': 969, '產線移': 970, '權王發威': 971, '文書': 972, '音箱': 973, '陳良基': 974, '虧滿手': 975, '電子所': 976, '爆量紅': 977, '夏志豪': 978, '開出然終場': 979, '建碁': 980, '良維': 981, '趙于萱': 982, '境外': 983, '白宮澄清': 984, '勝利國中': 985, '陳依旻': 986, '一九': 987, '增來': 988, '續留': 989, '氛圍': 990, '專責': 991, '全聯': 992, '接洽': 993, '交由': 994, '欽點': 995, '獨撐': 996, '顯露': 997, '禁空令': 998, '貿戰': 999, '加減': 1000, '王走強': 1001, '出生率': 1002, '師資': 1003, '飛走': 1004, '陳鑫': 1005, '投資額': 1006, '鼠年': 1007, '零件股': 1008, '搶得': 1009, '大膽': 1010, '小額': 1011, '香港商': 1012, '作夢': 1013, '歡騰': 1014, '亞軍': 1015, '著手': 1016, '取而代': 1017, '意思': 1018, '警覺': 1019, '訊芯': 1020, '增持': 1021, '元後': 1022, '人家': 1023, '先豐': 1024, '實踐': 1025, '中線': 1026, '突出': 1027, '平均線': 1028, '寶雅': 1029, '目的地': 1030, '電線': 1031, '消風': 1032, '之一': 1033, '諸如': 1034, '三商電': 1035, '台北港': 1036, '生命': 1037, '冠西電': 1038, '邱景宏': 1039, '統一實': 1040, '體系': 1041, '停留': 1042, '刻意': 1043, '晶彩科': 1044, '件數': 1045, '出走': 1046, '招生': 1047, '傳聞': 1048, '母以子貴': 1049, '主攻': 1050, '勤美永豐': 1051, '百來': 1052, '眾信': 1053, '胡連': 1054, '象徵': 1055, '崩盤': 1056, '俱增': 1057, '聯審': 1058, '企業家': 1059, '彈逾': 1060, '爽賺': 1061, '高市府': 1062, '脫鉤': 1063, '取代性': 1064, '塑膠': 1065, '重磅': 1066, '一城': 1067, '變革': 1068, '普及': 1069, '大轉股': 1070, '批發': 1071, '博德': 1072, '弱點': 1073, '息收': 1074, '黑馬股': 1075, '中印': 1076, '東協': 1077, '多月': 1078, '美台': 1079, '破頭': 1080, '融創': 1081, '燒錢': 1082, '臺北市': 1083, '飛捷': 1084, '共伴': 1085, '識別': 1086, '試試': 1087, '水岸': 1088, '平戴': 1089, '存託憑證': 1090, '首因': 1091, '中興': 1092, '年淨利': 1093, '檔本益': 1094, '車款': 1095, '品管驗證': 1096, '直覺': 1097, '願景': 1098, '蘇州廠': 1099, '率隊': 1100, '轉折': 1101, '佼佼者': 1102, '公頃': 1103, '放空': 1104, '病危': 1105, '全部': 1106, '元排第': 1107, '立案': 1108, '教育部': 1109, '雙率': 1110, '中市府': 1111, '點為': 1112, '骨折': 1113, '風力': 1114, '敦南': 1115, '軟體股份': 1116, '翻揚': 1117, '增量': 1118, '樞紐': 1119, '國統': 1120, '股后': 1121, '緊鄰': 1122, '泥窯股': 1123, '寄望': 1124, '侵吞': 1125, '得主': 1126, '重工': 1127, '檔面': 1128, '封關日': 1129, '獨得': 1130, '台灣科技股': 1131, '公司戶': 1132, '行銷': 1133, '運作': 1134, '列載': 1135, '鴿派': 1136, '推算': 1137, '太久': 1138, '堅強': 1139, '比給': 1140, '景氣自': 1141, '澳洲': 1142, '承業醫': 1143, '達方': 1144, '東鋼': 1145, '武肺': 1146, '風向球': 1147, '手段': 1148, '樺漢兆豐': 1149, '攻入': 1150, '增率': 1151, '證認': 1152, '劍麟': 1153, '美股費半': 1154, '股網': 1155, '頭痛': 1156, '裕隆汽車': 1157, '夆典': 1158, '大揚': 1159, '本額': 1160, '廣域': 1161, '幕後': 1162, '大學光': 1163, '危險': 1164, '優質': 1165, '評審團': 1166, '相像': 1167, '軍心': 1168, '虛擬線': 1169, '中國昆山': 1170, '商場': 1171, '待遇': 1172, '緯成': 1173, '技術展': 1174, '電子展': 1175, '飆高': 1176, '四年': 1177, '報優': 1178, '官媒': 1179, '追空': 1180, '放心': 1181, '收集': 1182, '大國鋼': 1183, '均價': 1184, '帶槍': 1185, '成交動能': 1186, '訊連科技': 1187, '和大': 1188, '望佳': 1189, '走下': 1190, '大牛股': 1191, '代工大廠': 1192, '報由': 1193, '風格': 1194, '留下來': 1195, '超慢': 1196, '受屈': 1197, '周來': 1198, '中緣': 1199, '李彥瑾': 1200, '亮麗': 1201, '偏高': 1202, '賴言曦': 1203, '品安': 1204, '線上展': 1205, '創業家': 1206, '數千億': 1207, '嘴巴': 1208, '過半': 1209, '所趨': 1210, '發展協會': 1211, '居民': 1212, '運動服': 1213, '況況': 1214, '減半': 1215, '大致': 1216, '前三季': 1217, '精剛': 1218, '國神山': 1219, '系統廠': 1220, '銷貨': 1221, '量體': 1222, '大逃殺': 1223, '調升': 1224, '電子資': 1225, '失智': 1226, '高清': 1227, '承啟': 1228, '變形': 1229, '齊聚': 1230, '中時': 1231, '百分之一百': 1232, '拓雲端': 1233, '電業': 1234, '例子': 1235, '泰州': 1236, '正名': 1237, '代買': 1238, '體廠': 1239, '興建中': 1240, '漲逾': 1241, '投資標': 1242, '公路': 1243, '房地': 1244, '鍾愛': 1245, '萬點': 1246, '場效': 1247, '晶采': 1248, '九國': 1249, '鏡頭廠': 1250, '餘點': 1251, '線照': 1252, '復返': 1253, '營收約': 1254, '跌至': 1255, '服務網': 1256, '傾向': 1257, '下去': 1258, '難題': 1259, '嬌貴': 1260, '含意': 1261, '智邦科技': 1262, '大少': 1263, '凶多吉少': 1264, '維基百科': 1265, '美祭': 1266, '自由時報': 1267, '聰明': 1268, '大呼心動': 1269, '高級': 1270, '恆生': 1271, '外觀': 1272, '富豪公司': 1273, '漢諾威': 1274, '交易所': 1275, '林芳苗': 1276, '文攻武嚇': 1277, '交替': 1278, '驚見': 1279, '股性': 1280, '市長': 1281, '第五': 1282, '比賽': 1283, '破元': 1284, '電續': 1285, '小小': 1286, '自救': 1287, '有些': 1288, '國家型': 1289, '中宇': 1290, '嚇唬人': 1291, '價分': 1292, '收購案': 1293, '不尋常': 1294, '運點': 1295, '試算': 1296, '超中': 1297, '國泰全球': 1298, '外貿': 1299, '視晶': 1300, '統籌': 1301, '著墨': 1302, '葡萄王': 1303, '不一定': 1304, '南六': 1305, '千禧蟲': 1306, '觀音鼻': 1307, '居首': 1308, '頒布': 1309, '晶睿': 1310, '鼎立': 1311, '小英': 1312, '急起直': 1313, '配件': 1314, '台北地檢署': 1315, '戰局': 1316, '三億': 1317, '僅約': 1318, '逆漲約': 1319, '破萬': 1320, '算算': 1321, '眾望': 1322, '典禮': 1323, '運輸到': 1324, '親口': 1325, '金控股': 1326, '代及': 1327, '研究所': 1328, '官網': 1329, '外貿協會': 1330, '光纖': 1331, '拉高': 1332, '陳洲任': 1333, '追隨': 1334, '艾訊': 1335, '退燒': 1336, '展位': 1337, '營運長': 1338, '航線': 1339, '答覆': 1340, '條和': 1341, '藝術節': 1342, '年增近': 1343, '嗚嗚': 1344, '釘子': 1345, '官學': 1346, '權值王': 1347, '路程': 1348, '順風車': 1349, '訊連': 1350, '錢利忠': 1351, '聘請': 1352, '頗多': 1353, '不論': 1354, '佛手掌心': 1355, '晨間': 1356, '確定性': 1357, '醫療科技': 1358, '群體': 1359, '賣給': 1360, '預設': 1361, '微減': 1362, '合體': 1363, '為限': 1364, '重災戶': 1365, '成都': 1366, '任者': 1367, '趕不上': 1368, '高歌': 1369, '奪下': 1370, '完看': 1371, '台新證券': 1372, '推選': 1373, '腳勤': 1374, '活潑': 1375, '鼎漢國際': 1376, '顯學': 1377, '運輸': 1378, '不像': 1379, '祈禱': 1380, '預算案': 1381, '餐飲業': 1382, '落在': 1383, '親戚': 1384, '二手': 1385, '肯恩': 1386, '宏璟': 1387, '低潮': 1388, '順勢': 1389, '電視機': 1390, '大銀行': 1391, '桃竹': 1392, '管驗證': 1393, '變肉粽': 1394, '不旺': 1395, '擎邦': 1396, '海神針': 1397, '特徵為': 1398, '沒什麼': 1399, '做收': 1400, '管理層': 1401, '推估': 1402, '周首': 1403, '高思危': 1404, '經長': 1405, '中時電子報': 1406, '大利多': 1407, '神鬼': 1408, '大會': 1409, '客群': 1410, '漲破': 1411, '再者': 1412, '歷來': 1413, '壹古道': 1414, '挺進': 1415, '下半場': 1416, '揪團': 1417, '製品': 1418, '汐止': 1419, '熱戰': 1420, '反倒': 1421, '連連': 1422, '價盤': 1423, '集體': 1424, '碩在': 1425, '壁壘': 1426, '嘉裕': 1427, '急劇': 1428, '量測': 1429, '賣盤': 1430, '手軟': 1431, '打工': 1432, '國泰證期': 1433, '隨緣': 1434, '視訊': 1435, '銅價': 1436, '科脈': 1437, '實聯制': 1438, '四千': 1439, '零售商': 1440, '楊中傑': 1441, '擠進': 1442, '業內實戶': 1443, '台子公司': 1444, '居高思危': 1445, '長程世嘉': 1446, '蘇國芳': 1447, '肉鬆大': 1448, '配股': 1449, '不等': 1450, '果然': 1451, '現場': 1452, '不但': 1453, '看起來': 1454, '鬆口氣': 1455, '大榮': 1456, '旅館業': 1457, '神話': 1458, '產研中心': 1459, '大江': 1460, '參賽': 1461, '真是': 1462, '營業費': 1463, '返鄉': 1464, '聚碩': 1465, '現蹤撿便宜': 1466, '華新麗華': 1467, '午後': 1468, '單貼': 1469, '美疫情': 1470, '學運': 1471, '眾多': 1472, '難超中': 1473, '雨點': 1474, '史門巿': 1475, '阿拉伯': 1476, '嵌入式': 1477, '聯結': 1478, '賢急組': 1479, '聲寶': 1480, '流感': 1481, '帶有': 1482, '效電': 1483, '榮民總醫院': 1484, '小量': 1485, '換手': 1486, '大立光台': 1487, '產量': 1488, '直擊': 1489, '負成長': 1490, '大同國泰': 1491, '理監事': 1492, '異軍': 1493, '戰未完待續': 1494, '開幕式': 1495, '見諒': 1496, '跟上': 1497, '負擔': 1498, '港土地': 1499, '分散式': 1500, '建大剩': 1501, '身價': 1502, '顯然': 1503, '年半': 1504, '勤崴': 1505, '開徵': 1506, '上詮': 1507, '微降': 1508, '穩增': 1509, '摩擦': 1510, '百元股': 1511, '附醫': 1512, '法等罪': 1513, '德微': 1514, '商辦': 1515, '每天': 1516, '複製': 1517, '有感而發': 1518, '五官鏡': 1519, '掉頭': 1520, '解釋': 1521, '冷清': 1522, '上拉': 1523, '台中北屯': 1524, '大盤日': 1525, '一千': 1526, '背包': 1527, '請辭': 1528, '正值': 1529, '網銀': 1530, '公會': 1531, '忍不住': 1532, '放大到': 1533, '單量': 1534, '科技館': 1535, '前哨': 1536, '神壇': 1537, '張嘉信': 1538, '選出': 1539, '永豐': 1540, '巴士': 1541, '法定': 1542, '預定': 1543, '心情': 1544, '減過資': 1545, '當天': 1546, '外資圈': 1547, '取消': 1548, '挺升': 1549, '中文': 1550, '亮度': 1551, '橫掃': 1552, '此次': 1553, '燃氣類': 1554, '釋出': 1555, '日生效': 1556, '習性': 1557, '碰護': 1558, '緯創證': 1559, '握有': 1560, '息後': 1561, '公債': 1562, '平倉': 1563, '孤單': 1564, '電金傳疲憊': 1565, '聯詠國泰': 1566, '前景佳': 1567, '積成': 1568, '長庚醫院': 1569, '證明': 1570, '富邦集團': 1571, '回饋': 1572, '中裕': 1573, '碼頭': 1574, '金融時報': 1575, '準備金': 1576, '元多': 1577, '小減': 1578, '斷崖式': 1579, '座談會': 1580, '身分': 1581, '沉寂': 1582, '尾巴': 1583, '代言人': 1584, '戰前景不明': 1585, '月桌機': 1586, '奇摩': 1587, '緯創說': 1588, '失分': 1589, '外移': 1590, '慶賀': 1591, '構成': 1592, '晶宏': 1593, '尺寸': 1594, '認知': 1595, '自已': 1596, '廣視野': 1597, '戰下': 1598, '緩緩': 1599, '佛心': 1600, '新永安': 1601, '提過': 1602, '驚爆': 1603, '修改': 1604, '玻璃心': 1605, '林男': 1606, '前連': 1607, '關切': 1608, '成品': 1609, '前陣子': 1610, '潮助攻': 1611, '跡像': 1612, '顧立雄': 1613, '中石油': 1614, '噴出': 1615, '上場': 1616, '減產': 1617, '奇怪': 1618, '看得到': 1619, '門巿': 1620, '指示': 1621, '漲法': 1622, '陽科技': 1623, '精能': 1624, '全球展': 1625, '短短': 1626, '節令': 1627, '賴瑞隆': 1628, '燃器': 1629, '不便': 1630, '倍速': 1631, '觀察到': 1632, '假如': 1633, '更換': 1634, '月鐵': 1635, '卡廠': 1636, '競選': 1637, '同上': 1638, '鄭家福': 1639, '喚回': 1640, '新生兒': 1641, '前晚': 1642, '振樺電': 1643, '興業': 1644, '釋逾': 1645, '顧問處': 1646, '報價': 1647, '科學': 1648, '鼎翰': 1649, '升破': 1650, '一世代': 1651, '天內': 1652, '掛單': 1653, '突起': 1654, '林之晨': 1655, '黃晶琳': 1656, '力度': 1657, '基金會': 1658, '手續費': 1659, '逐月': 1660, '太醫': 1661, '轉變': 1662, '長程': 1663, '融程電': 1664, '直指': 1665, '會年': 1666, '喊進': 1667, '聯詠科技': 1668, '狂敲居功': 1669, '轉圜': 1670, '兩位數': 1671, '謹慎以待': 1672, '縮緊': 1673, '美銷': 1674, '組裝股': 1675, '萬人': 1676, '現形': 1677, '智慧物': 1678, '休憩': 1679, '昨夜': 1680, '國泰股利': 1681, '復得': 1682, '單晶片': 1683, '書本': 1684, '勇猛': 1685, '炒作': 1686, '內蒙': 1687, '晚上': 1688, '慣例': 1689, '量加權': 1690, '第三者': 1691, '重則': 1692, '蘋鏈': 1693, '王嘉樞': 1694, '收高': 1695, '迎作': 1696, '息日': 1697, '雙增': 1698, '標竿': 1699, '毛寶': 1700, '延後': 1701, '此後': 1702, '拉貨潮': 1703, '斥近': 1704, '烏戰爭': 1705, '緊盯': 1706, '公正': 1707, '長許': 1708, '報到': 1709, '小志氣': 1710, '專訊': 1711, '推高': 1712, '雙減': 1713, '健保': 1714, '整機': 1715, '金牛': 1716, '加大': 1717, '展碁': 1718, '分頭': 1719, '減班': 1720, '三重': 1721, '強烈': 1722, '吸睛': 1723, '脫穎而出': 1724, '衝突': 1725, '連線': 1726, '南韓': 1727, '老路': 1728, '月刊': 1729, '鈺德': 1730, '三晃': 1731, '課以': 1732, '副秘書長': 1733, '印度塔塔': 1734, '緯創醫學': 1735, '迫聯': 1736, '科嘉': 1737, '創運點': 1738, '裕日車': 1739, '亞信': 1740, '早於': 1741, '所致': 1742, '超共': 1743, '數科': 1744, '重量級生': 1745, '親子': 1746, '睛航生': 1747, '推波': 1748, '內外盤': 1749, '開學': 1750, '捲土': 1751, '家電': 1752, '迷失': 1753, '矽碼': 1754, '跌不太下去': 1755, '經理人': 1756, '載資': 1757, '威鋒': 1758, '財政部長': 1759, '整頓': 1760, '於是': 1761, '軍通': 1762, '上任': 1763, '王同': 1764, '嚇壞': 1765, '中產能': 1766, '外殼': 1767, '開通': 1768, '方程式': 1769, '俗稱': 1770, '聖暉': 1771, '數據力': 1772, '台肥永豐': 1773, '曝險': 1774, '苦果': 1775, '寄望法': 1776, '可汗': 1777, '催化': 1778, '碰軟': 1779, '台汽電': 1780, '國際盤': 1781, '初時': 1782, '分工': 1783, '醫揚': 1784, '崇越': 1785, '接著': 1786, '疲態': 1787, '增資案': 1788, '添動': 1789, '減薪': 1790, '辦公區': 1791, '跌倒': 1792, '扣底': 1793, '衝到': 1794, '研究院': 1795, '飆新高': 1796, '點到': 1797, '美洲': 1798, '敵對': 1799, '半年群': 1800, '息稅': 1801, '三大': 1802, '拉到': 1803, '語言': 1804, '率先表': 1805, '光光': 1806, '趁機': 1807, '釐清': 1808, '智能化': 1809, '連署': 1810, '國建': 1811, '地緣': 1812, '戰停火': 1813, '率同': 1814, '學用': 1815, '備獲': 1816, '伸創': 1817, '逃脫': 1818, '學到': 1819, '負利率': 1820, '境內': 1821, '重拾': 1822, '生力軍': 1823, '黃俊超': 1824, '兆利': 1825, '神山': 1826, '英建': 1827, '大之列': 1828, '轉買': 1829, '搜尋量': 1830, '元大道瓊': 1831, '遊說': 1832, '上週': 1833, '常董': 1834, '實習': 1835, '副校長': 1836, '曇花一現': 1837, '李純君': 1838, '勝品': 1839, '張嘉臨': 1840, '壽險業': 1841, '晟田': 1842, '拉大': 1843, '好難': 1844, '台燿': 1845, '康和證券': 1846, '巨蛋': 1847, '廣東': 1848, '葉憶如': 1849, '今晨': 1850, '回購': 1851, '越南子': 1852, '單車': 1853, '嘉基': 1854, '總座': 1855, '同創': 1856, '轉盈': 1857, '網飛': 1858, '雙邊': 1859, '條例': 1860, '台灣佳光電': 1861, '頂級': 1862, '中央日報': 1863, '空轉': 1864, '內外': 1865, '好狠': 1866, '神人': 1867, '高居': 1868, '喊水': 1869, '性購': 1870, '達年增': 1871, '議價': 1872, '火焰': 1873, '平盤價': 1874, '報晨訊': 1875, '生策年會': 1876, '兩年': 1877, '致命病': 1878, '瑞磁': 1879, '連袂': 1880, '網購': 1881, '配通': 1882, '跟投': 1883, '懷疑': 1884, '鬆綁': 1885, '之所以': 1886, '主任': 1887, '上傳': 1888, '衰洨': 1889, '施振榮': 1890, '產業界代': 1891, '陽程': 1892, '大人': 1893, '獲法人': 1894, '線走': 1895, '雷虎': 1896, '連假': 1897, '蕭君暉': 1898, '體重': 1899, '中小股': 1900, '午餐': 1901, '期交': 1902, '超鳥': 1903, '尚立': 1904, '台光電子': 1905, '自軟': 1906, '打單': 1907, '銷美': 1908, '那裏': 1909, '淹腳目': 1910, '列買': 1911, '林奕榮': 1912, '散播': 1913, '榮星': 1914, '慘兮兮': 1915, '股民': 1916, '自營商台': 1917, '迎向': 1918, '聯茂康和': 1919, '離開': 1920, '亮相': 1921, '賴清德': 1922, '問問': 1923, '歸零': 1924, '立益': 1925, '抵達': 1926, '不銹鋼': 1927, '高盛等': 1928, '和泰汽車': 1929, '報名': 1930, '時期': 1931, '篩檢': 1932, '瀚宇博德': 1933, '融合': 1934, '隸屬': 1935, '偏重': 1936, '稀土': 1937, '原訂': 1938, '放到': 1939, '自言': 1940, '不知不覺': 1941, '二限水': 1942, '美再': 1943, '愛如': 1944, '力山工業': 1945, '拜登會': 1946, '晶圓議': 1947, '合勤控': 1948, '脫離': 1949, '鰭式': 1950, '抱逾': 1951, '納智捷': 1952, '似乎': 1953, '市佔率': 1954, '頭號': 1955, '升壓': 1956, '傳來': 1957, '有機': 1958, '大獎': 1959, '農糧原': 1960, '隨之': 1961, '業界人': 1962, '甚至於': 1963, '大利': 1964, '重質': 1965, '自爆': 1966, '失守月線約': 1967, '嘗到': 1968, '委員會第': 1969, '迎來': 1970, '設下': 1971, '登峰': 1972, '承銷商': 1973, '台安創投': 1974, '簡立忠': 1975, '月大': 1976, '流通': 1977, '法寶': 1978, '輔助': 1979, '陸股': 1980, '果迷': 1981, '緯謙科技': 1982, '粉絲': 1983, '獲選': 1984, '院士': 1985, '潮水': 1986, '翻面': 1987, '風起色': 1988, '負眾望': 1989, '岱宇': 1990, '後天': 1991, '超乎': 1992, '無奈': 1993, '燿華電子': 1994, '虧轉盈': 1995, '助陣': 1996, '雙王': 1997, '蘋果鏈': 1998, '前述': 1999, '高下': 2000, '股力': 2001, '晶晶': 2002, '垃圾債': 2003, '打響': 2004, '大幅度': 2005, '展覽': 2006, '急拓': 2007, '分批': 2008, '國際級': 2009, '雲端服': 2010, '考驗': 2011, '推測': 2012, '次世代': 2013, '攻高': 2014, '依然': 2015, '商店': 2016, '黯淡': 2017, '聚落': 2018, '公園': 2019, '蘋概股來勁': 2020, '電纜股': 2021, '創生': 2022, '大麥證': 2023, '家合': 2024, '緯謙': 2025, '抗爭': 2026, '遭逢': 2027, '頒獎': 2028, '緯創代': 2029, '挾量強': 2030, '多媒體': 2031, '鄭文燦': 2032, '回攻': 2033, '釋疑': 2034, '展出': 2035, '生態圈': 2036, '抽籤': 2037, '大盤反': 2038, '期街': 2039, '黃翹生': 2040, '黃漢成': 2041, '湯瑪斯': 2042, '第六': 2043, '地產商': 2044, '共推': 2045, '學研界': 2046, '操作法': 2047, '陳其邁': 2048, '康那香': 2049, '萬六': 2050, '一舉': 2051, '雇用': 2052, '參拜人': 2053, '風機': 2054, '星期一': 2055, '獎項': 2056, '貿協': 2057, '碎滿地': 2058, '瀏覽': 2059, '鼓吹': 2060, '萬華': 2061, '矽屏障': 2062, '甚麼': 2063, '花板': 2064, '蕭燕翔': 2065, '早早': 2066, '羅門': 2067, '軍事化': 2068, '高精': 2069, '買走': 2070, '共產黨': 2071, '璽悅產': 2072, '張聯陽': 2073, '圖一': 2074, '富邦金等': 2075, '逆轉勝': 2076, '簡述': 2077, '感測器': 2078, '通知': 2079, '捲爸': 2080, '烽火': 2081, '帶頭': 2082, '堆高': 2083, '德州': 2084, '寢具': 2085, '日也': 2086, '股約': 2087, '郵件': 2088, '友輝': 2089, '轉由': 2090, '電動車市': 2091, '國際中橡': 2092, '流程': 2093, '柏承': 2094, '進口速度': 2095, '彈上': 2096, '緯新資通': 2097, '基因': 2098, '新台': 2099, '殺機': 2100, '許禎祺': 2101, '工作日': 2102, '壓境': 2103, '交通部長': 2104, '逢甲大學': 2105, '技術部': 2106, '賽靈思': 2107, '能夠': 2108, '公廟': 2109, '強轉弱': 2110, '影片': 2111, '自明': 2112, '愛之味': 2113, '半導體業': 2114, '科技廠': 2115, '好棒': 2116, '跨螢': 2117, '嘎空': 2118, '礦產': 2119, '復華等': 2120, '悍將': 2121, '中南部': 2122, '美墨': 2123, '鋼市': 2124, '呼應': 2125, '稅收': 2126, '萬芳': 2127, '傳試': 2128, '到處': 2129, '何在': 2130, '在事涉': 2131, '力量': 2132, '最少': 2133, '危機': 2134, '隆達': 2135, '棟數': 2136, '齊提款': 2137, '大利空': 2138, '住宿': 2139, '君悅': 2140, '檔元月': 2141, '議事': 2142, '套回': 2143, '百分之二': 2144, '熱氣': 2145, '七月': 2146, '所有人': 2147, '人民': 2148, '警報': 2149, '成大': 2150, '換骨': 2151, '今年度': 2152, '漲少': 2153, '續收': 2154, '齊頭並進': 2155, '占比': 2156, '國安法': 2157, '砍價': 2158, '飛到': 2159, '憂慮': 2160, '移機': 2161, '人生': 2162, '榮民': 2163, '總金': 2164, '通脹': 2165, '四五四': 2166, '悄悄': 2167, '層級': 2168, '西方': 2169, '磊凱': 2170, '竹北市': 2171, '元為': 2172, '上陣': 2173, '海纜': 2174, '面積': 2175, '智崴': 2176, '醫療人': 2177, '同行': 2178, '過來': 2179, '雙十': 2180, '人體': 2181, '旺年會': 2182, '屏東分院': 2183, '定位': 2184, '振幅': 2185, '半導體庫': 2186, '急迫': 2187, '南緯': 2188, '生醫園區': 2189, '欣電': 2190, '穩揚': 2191, '港股': 2192, '生醫股': 2193, '追平': 2194, '廖繼弘': 2195, '戰正': 2196, '公里': 2197, '中壢廠': 2198, '陳國清': 2199, '小覷': 2200, '連鎖店': 2201, '端到': 2202, '庫德洛': 2203, '洗錢': 2204, '伸興': 2205, '近乎腰斬': 2206, '互補': 2207, '回來': 2208, '一定可行': 2209, '共贏利率': 2210, '營建股': 2211, '大毅': 2212, '磁吸': 2213, '攻元': 2214, '一變': 2215, '海岸線': 2216, '六六': 2217, '陶瓷': 2218, '鼎漢': 2219, '所在': 2220, '花博': 2221, '臺灣大學': 2222, '級職': 2223, '價位帶': 2224, '瑞儀光電': 2225, '伊雲谷': 2226, '跑出': 2227, '銀行業': 2228, '何去': 2229, '廣達林口': 2230, '蓬勃': 2231, '鞭小力': 2232, '廣東省': 2233, '保證金': 2234, '路透社': 2235, '訴求': 2236, '盛達': 2237, '偷偷': 2238, '日標': 2239, '日半': 2240, '牙股': 2241, '摳真': 2242, '介入': 2243, '品管': 2244, '雙虎群創': 2245, '聯貸案量': 2246, '槍投': 2247, '以台幣': 2248, '怪獸': 2249, '鮮花': 2250, '到任': 2251, '呼吸': 2252, '擠入': 2253, '徒弟': 2254, '三率': 2255, '童子': 2256, '鐘惠玲': 2257, '發起': 2258, '盈收': 2259, '強度': 2260, '林明蓉': 2261, '撤離': 2262, '張庫藏股': 2263, '留長': 2264, '加速器': 2265, '離岸': 2266, '惠者': 2267, '步入': 2268, '戰現': 2269, '史詩級': 2270, '解析': 2271, '中國商': 2272, '泰鼎國際': 2273, '地處': 2274, '槍口': 2275, '永豐優': 2276, '新竹市': 2277, '三季': 2278, '長榮下跌': 2279, '中國政府': 2280, '保護區': 2281, '玄機': 2282, '水漲': 2283, '共振': 2284, '宏普': 2285, '萬大關': 2286, '碩業': 2287, '消費支': 2288, '溢價': 2289, '授予': 2290, '以利': 2291, '川普又': 2292, '奈格': 2293, '。映泰': 2294, '合力': 2295, '兼顧': 2296, '會計': 2297, '月中旬': 2298, '延緩': 2299, '市府': 2300, '屬子': 2301, '批准': 2302, '新局': 2303, '福寶': 2304, '啟動能': 2305, '外商': 2306, '信義': 2307, '心理面': 2308, '陽性': 2309, '起子': 2310, '緯創空': 2311, '雙動能': 2312, '兆頭': 2313, '科技部': 2314, '背信': 2315, '鴻華': 2316, '收達': 2317, '讓予': 2318, '新一代': 2319, '凜冬': 2320, '掛賣': 2321, '銘鈺': 2322, '質感': 2323, '熱議': 2324, '掌控': 2325, '涉足': 2326, '鄭心丹': 2327, '林政賢': 2328, '重股': 2329, '外國人': 2330, '年減逾': 2331, '同仁': 2332, '輪番': 2333, '每仟': 2334, '戴海茜': 2335, '鳳山': 2336, '小時': 2337, '飯碗': 2338, '重摔': 2339, '諾華': 2340, '法式': 2341, '勝率': 2342, '火力全開': 2343, '債務': 2344, '喘息': 2345, '鎳礦': 2346, '接力': 2347, '占率': 2348, '部會': 2349, '本質': 2350, '打出': 2351, '轉讓': 2352, '環保': 2353, '濟日報': 2354, '點燃': 2355, '隆興': 2356, '日美': 2357, '轉入': 2358, '宏遠': 2359, '預期性': 2360, '光隆': 2361, '股板': 2362, '走下坡': 2363, '展現': 2364, '天線': 2365, '嬌生': 2366, '為題': 2367, '續戰': 2368, '沾光': 2369, '緯潤': 2370, '跨界': 2371, '光寶科技': 2372, '群聯電子': 2373, '捷波': 2374, '註銷': 2375, '緯穎金': 2376, '知名學': 2377, '偏鄉': 2378, '流出': 2379, '徵收': 2380, '立法院': 2381, '創編': 2382, '千百億': 2383, '勤業': 2384, '三路': 2385, '摩玩': 2386, '驚訝': 2387, '吳元雄': 2388, '華雷斯城': 2389, '紡織': 2390, '日續': 2391, '工藝': 2392, '撈進': 2393, '老謝': 2394, '交易法': 2395, '吃到': 2396, '兩萬': 2397, '黃力': 2398, '率雙升': 2399, '利多連發': 2400, '新色': 2401, '觀光類': 2402, '定為': 2403, '感到': 2404, '力拚': 2405, '緯創配': 2406, '利華': 2407, '外資期': 2408, '前途': 2409, '跌完': 2410, '大老任': 2411, '攻擊力': 2412, '檔人': 2413, '新力': 2414, '攜甲': 2415, '富邦中國': 2416, '肥老鼠': 2417, '年後': 2418, '軋鋼廠': 2419, '螢幕': 2420, '串連': 2421, '緯軟明': 2422, '遞增': 2423, '班加羅爾約': 2424, '籌組': 2425, '今天盤': 2426, '大園': 2427, '手式': 2428, '一再': 2429, '好事': 2430, '採檢': 2431, '紅止步': 2432, '漲上': 2433, '重頭戲': 2434, '世界級': 2435, '屏東': 2436, '就醫': 2437, '宣傳': 2438, '採購量': 2439, '基準': 2440, '上探': 2441, '協力': 2442, '碰上': 2443, '五三九五億': 2444, '多雲': 2445, '富控股': 2446, '閎康': 2447, '塑造': 2448, '花上': 2449, '管理局長': 2450, '蔡長海': 2451, '親自': 2452, '不銹鋼廠': 2453, '雙增股': 2454, '煙台': 2455, '一陣子': 2456, '礦砂': 2457, '五計': 2458, '愛好': 2459, '財會': 2460, '開完': 2461, '手錶': 2462, '傳輸': 2463, '穩死': 2464, '醫電': 2465, '磨擦': 2466, '朱憲國': 2467, '留近': 2468, '感覺': 2469, '客運': 2470, '申請書': 2471, '日數': 2472, '搶眼': 2473, '皇翔': 2474, '困境': 2475, '研究生': 2476, '機率': 2477, '茶品': 2478, '機河': 2479, '商標局': 2480, '就算': 2481, '方歆婷': 2482, '汐止區': 2483, '杜蕙蓉': 2484, '記錄篇': 2485, '軍機': 2486, '達約': 2487, '分成': 2488, '研揚': 2489, '守在': 2490, '清明': 2491, '維斯': 2492, '行列': 2493, '檔尖兵': 2494, '譚仲民': 2495, '短暫': 2496, '日尾牙': 2497, '威潤': 2498, '預購': 2499, '地步': 2500, '屢屢': 2501, '囊括': 2502, '運營商': 2503, '基期股': 2504, '身兼': 2505, '奇蹟': 2506, '榮幸': 2507, '陷困境': 2508, '通點': 2509, '中保科': 2510, '注入': 2511, '成就': 2512, '改從': 2513, '原來': 2514, '回台': 2515, '六暉': 2516, '趕上': 2517, '肺炎疫': 2518, '實話': 2519, '世貿': 2520, '有誤': 2521, '稻穗': 2522, '極為': 2523, '穩固': 2524, '康而富': 2525, '插旗': 2526, '旭海村': 2527, '小黑': 2528, '恢復到': 2529, '佳光電訊': 2530, '不慎': 2531, '資料庫': 2532, '義大利': 2533, '不服氣': 2534, '沖銷': 2535, '低波': 2536, '舉例': 2537, '伺服器板': 2538, '風雨無阻': 2539, '攀高': 2540, '主計': 2541, '政黨': 2542, '喊話': 2543, '北市': 2544, '美通社': 2545, '三點': 2546, '改造': 2547, '年均值': 2548, '高效電': 2549, '都處': 2550, '限空令': 2551, '享有': 2552, '昆山緯隆': 2553, '動植物': 2554, '感謝': 2555, '齊格': 2556, '中華區': 2557, '防護衣': 2558, '移民': 2559, '擬議': 2560, '清單條款': 2561, '李秀利': 2562, '明水路': 2563, '彰化縣': 2564, '檢方': 2565, '面試': 2566, '蔬果': 2567, '市集': 2568, '陳丙材': 2569, '總股數': 2570, '日緯醫': 2571, '撰文': 2572, '轉嫁': 2573, '提交': 2574, '致振': 2575, '推廣': 2576, '準會': 2577, '東北': 2578, '邀集': 2579, '緯創董事會': 2580, '國泰智能電': 2581, '巿值': 2582, '債券': 2583, '雲南': 2584, '看淡': 2585, '不理': 2586, '就來': 2587, '不必': 2588, '失控量': 2589, '音波': 2590, '課題': 2591, '研議': 2592, '拓凱': 2593, '立委': 2594, '移回': 2595, '融卷慌': 2596, '應居高思危': 2597, '英媒': 2598, '試乘': 2599, '微調': 2600, '趁亂': 2601, '一氣呵成': 2602, '財源': 2603, '傳奇': 2604, '道德行': 2605, '盤商': 2606, '動車廠': 2607, '搬遷': 2608, '歲末': 2609, '力山國泰': 2610, '輪到': 2611, '長實集團': 2612, '協理': 2613, '穩步': 2614, '紡織股': 2615, '產品組': 2616, '晚美': 2617, '凱喬': 2618, '務必': 2619, '紓困': 2620, '蜂巢式車': 2621, '急增': 2622, '過節': 2623, '侵佔': 2624, '螺絲': 2625, '風潮': 2626, '林偉德': 2627, '猛虎': 2628, '訂定': 2629, '二二': 2630, '走升': 2631, '大通': 2632, '南亞科技': 2633, '財產權': 2634, '明辦': 2635, '抱不住': 2636, '機海': 2637, '萬五': 2638, '智世代': 2639, '領導人': 2640, '遠百': 2641, '偏空': 2642, '跑到': 2643, '嘉聯益': 2644, '科技展': 2645, '統一證': 2646, '存儲': 2647, '經銷商': 2648, '東京': 2649, '局長': 2650, '遊廠': 2651, '應商': 2652, '緊接著': 2653, '有用': 2654, '教材': 2655, '台原藥': 2656, '體現': 2657, '保值': 2658, '新點': 2659, '研究部': 2660, '順藥': 2661, '吊子': 2662, '通貨': 2663, '動土': 2664, '反查': 2665, '施崇棠': 2666, '傳播': 2667, '獨特': 2668, '小器': 2669, '東協醫院': 2670, '空軍': 2671, '帳款': 2672, '大阪川': 2673, '賺近': 2674, '沙烏地': 2675, '港系': 2676, '通及': 2677, '容忍': 2678, '連手': 2679, '奈米戶': 2680, '做頭': 2681, '志強': 2682, '吸引力': 2683, '一日': 2684, '接到': 2685, '準備期': 2686, '中火': 2687, '夢幻': 2688, '實體展': 2689, '關稅戰': 2690, '爭艷館': 2691, '夥伴秀': 2692, '梯隊': 2693, '盛大': 2694, '哈哈哈哈': 2695, '街口布蘭': 2696, '增刪': 2697, '率領': 2698, '遷出': 2699, '金鼎證券': 2700, '黃志芳': 2701, '之內': 2702, '掌握度': 2703, '下周': 2704, '新意': 2705, '李國基': 2706, '計價': 2707, '收割': 2708, '告訴': 2709, '專利': 2710, '淳安': 2711, '卓桐華': 2712, '陳奕光': 2713, '列席': 2714, '十哥會': 2715, '支援': 2716, '鎳價': 2717, '凹單': 2718, '相機': 2719, '樂事': 2720, '往來': 2721, '攀升到': 2722, '止血': 2723, '儼然': 2724, '永信剩': 2725, '說看': 2726, '谷哥': 2727, '高適': 2728, '群募': 2729, '尤以': 2730, '對話': 2731, '王其國': 2732, '昂寶': 2733, '梁次震': 2734, '永崴': 2735, '感冒': 2736, '回血': 2737, '本體': 2738, '難道': 2739, '萬物': 2740, '洗產地': 2741, '必拜': 2742, '速器': 2743, '這邊': 2744, '指標性': 2745, '順暢度': 2746, '預警': 2747, '車聯網': 2748, '內網': 2749, '距離': 2750, '電機學院': 2751, '長空': 2752, '平均數': 2753, '外資點': 2754, '鋼價': 2755, '俑者': 2756, '零組件展': 2757, '股部分': 2758, '翁毓嵐': 2759, '益登': 2760, '切勿': 2761, '出列': 2762, '公共': 2763, '驚無險': 2764, '狠狠': 2765, '熱線': 2766, '共通點': 2767, '五年': 2768, '癌症': 2769, '衛星': 2770, '重要性': 2771, '地產股': 2772, '體驗': 2773, '落日': 2774, '交大': 2775, '終結': 2776, '展落幕': 2777, '豬年': 2778, '顏瑞田': 2779, '位科技': 2780, '副會長': 2781, '半年': 2782, '基樁': 2783, '攻堅部隊': 2784, '超車': 2785, '林薏茹': 2786, '總是': 2787, '連番': 2788, '購物中心': 2789, '開發者': 2790, '有譜': 2791, '增可達': 2792, '轉移到': 2793, '特首': 2794, '堤維西': 2795, '政務次': 2796, '跳躍': 2797, '快篩報捷': 2798, '詮欣': 2799, '報查出': 2800, '維持在': 2801, '皇昌': 2802, '鐵口': 2803, '城市展': 2804, '激盪': 2805, '開曼': 2806, '營銷': 2807, '源自': 2808, '營運權': 2809, '摩根大通': 2810, '事欣科': 2811, '兼緯謙': 2812, '鑽全': 2813, '個體': 2814, '庫房': 2815, '淡水': 2816, '味全': 2817, '見臻': 2818, '有望續揚': 2819, '遙控器': 2820, '智慧表': 2821, '信用卡': 2822, '中樞': 2823, '抱股': 2824, '售價': 2825, '預料': 2826, '回國': 2827, '主導權': 2828, '重現': 2829, '風官': 2830, '田國泰': 2831, '嘉泥': 2832, '變色': 2833, '困難度': 2834, '一概': 2835, '廖禹揚': 2836, '來頡': 2837, '龜速': 2838, '台北世貿': 2839, '貶破': 2840, '人資': 2841, '國電': 2842, '聲響': 2843, '副局長': 2844, '分院': 2845, '炎熱': 2846, '休戰': 2847, '光業': 2848, '戰再起': 2849, '自動': 2850, '小升': 2851, '鍵盤股': 2852, '控制力': 2853, '遲來': 2854, '表面': 2855, '日法說會': 2856, '不一': 2857, '戶日': 2858, '演出': 2859, '口袋': 2860, '隔離衣': 2861, '過境': 2862, '顯得': 2863, '台建': 2864, '鹽業': 2865, '檔獲': 2866, '何況': 2867, '高約': 2868, '五月': 2869, '強漲約': 2870, '日馳': 2871, '醫材展': 2872, '形象展': 2873, '日盛證券': 2874, '突然': 2875, '彩色': 2876, '一館': 2877, '膨脹': 2878, '工業部長': 2879, '滑板': 2880, '政治': 2881, '報出來': 2882, '裡面': 2883, '求職': 2884, '推案': 2885, '太景': 2886, '開放式': 2887, '濾網': 2888, '關心': 2889, '匯集': 2890, '譁裕': 2891, '杲中興': 2892, '著重': 2893, '電股': 2894, '南科': 2895, '有利基': 2896, '擺尾': 2897, '傳播力': 2898, '恩智浦': 2899, '失業金': 2900, '查出': 2901, '千附': 2902, '元大證券': 2903, '研擬': 2904, '給得': 2905, '降息': 2906, '萬難': 2907, '擬配': 2908, '節奏': 2909, '防補跌': 2910, '集資額': 2911, '華新麥證': 2912, '訓練': 2913, '轉旺': 2914, '昭輝': 2915, '核發': 2916, '用電': 2917, '睛航生醫': 2918, '跨國': 2919, '勞動力': 2920, '試產': 2921, '設產能': 2922, '即便': 2923, '兆利國泰': 2924, '主場': 2925, '時止': 2926, '指期': 2927, '關愛': 2928, '鄭文宗': 2929, '評選': 2930, '元區': 2931, '美國交易所': 2932, '優化': 2933, '逆漲逾': 2934, '塔塔': 2935, '關閉': 2936, '第三生技': 2937, '形成': 2938, '那斯達': 2939, '樓主': 2940, '放話': 2941, '寶成剩': 2942, '張真卿': 2943, '翻身': 2944, '價位股': 2945, '經濟主': 2946, '第十七': 2947, '滅碼': 2948, '屹立不搖': 2949, '錯殺': 2950, '佳龍': 2951, '指選': 2952, '長榮代子': 2953, '全波': 2954, '成效': 2955, '動盪': 2956, '期能將': 2957, '淨多單減': 2958, '練習': 2959, '鍊金術': 2960, '行政區': 2961, '海嘯': 2962, '白皮書': 2963, '掃貨股': 2964, '通路商': 2965, '年財報': 2966, '擇期': 2967, '自願': 2968, '搭載': 2969, '取之於': 2970, '中概股': 2971, '撐起': 2972, '鄭州': 2973, '經濟學人': 2974, '謝惠全': 2975, '亞幣': 2976, '資遣': 2977, '惠業': 2978, '性命': 2979, '締造史': 2980, '何美如': 2981, '放開': 2982, '龍巖': 2983, '單純': 2984, '東隆興': 2985, '躍過': 2986, '開槍': 2987, '變更': 2988, '存股': 2989, '新猷': 2990, '員工案': 2991, '鑰匙': 2992, '低碳': 2993, '行動式': 2994, '耐心不足': 2995, '指期貨': 2996, '二一': 2997, '生鐵': 2998, '推行': 2999, '炮口': 3000, '銀科技': 3001, '傾全': 3002, '回收': 3003, '報要聞': 3004, '傲視': 3005, '走滑': 3006, '錯過': 3007, '福裕': 3008, '白領': 3009, '設計廠': 3010, '優群': 3011, '月義隆': 3012, '倍指': 3013, '冤枉': 3014, '分層': 3015, '留下': 3016, '中央': 3017, '浦東': 3018, '精品': 3019, '年美債': 3020, '以台': 3021, '卜蜂': 3022, '銜接到': 3023, '誠意': 3024, '超多': 3025, '船長': 3026, '人選': 3027, '大風': 3028, '上旬': 3029, '合賣': 3030, '矽谷銀行': 3031, '變盤': 3032, '資料照': 3033, '精測': 3034, '出資': 3035, '摩根大': 3036, '整齊': 3037, '層次': 3038, '歐系': 3039, '強勢領漲': 3040, '瑞士央行': 3041, '克羅馬': 3042, '撥款': 3043, '增加到': 3044, '暴跌阿': 3045, '有喜': 3046, '頒發': 3047, '順應': 3048, '重金': 3049, '維航': 3050, '塔塔集團': 3051, '訴訟': 3052, '東進': 3053, '傍晚': 3054, '震旦行': 3055, '掩護': 3056, '或少': 3057, '副總統': 3058, '三分之二': 3059, '海闊': 3060, '機款': 3061, '半數': 3062, '隨時': 3063, '組團': 3064, '加班': 3065, '高殖利率股': 3066, '一億': 3067, '製程會': 3068, '金元寶': 3069, '心動': 3070, '身為': 3071, '緯視晶': 3072, '成重': 3073, '發行量': 3074, '散落': 3075, '乖離': 3076, '國泰金融': 3077, '元關卡': 3078, '摜壓到': 3079, '廖賜政': 3080, '登錄': 3081, '大城': 3082, '發完': 3083, '分道瓊': 3084, '銘旺科': 3085, '燦星網': 3086, '合組': 3087, '熊市': 3088, '實業': 3089, '關於': 3090, '其陽': 3091, '菜鳥': 3092, '日股': 3093, '郭亮均': 3094, '緯創子公司': 3095, '福祉': 3096, '士兵': 3097, '新抗原': 3098, '偽造': 3099, '下手': 3100, '始作': 3101, '機帶': 3102, '引以為傲': 3103, '分力守': 3104, '理財產品': 3105, '補選': 3106, '凌通科技': 3107, '宣佈': 3108, '遷移': 3109, '穎漢': 3110, '冠星': 3111, '約當': 3112, '連接器': 3113, '開法': 3114, '暴減': 3115, '北醫附醫': 3116, '六千': 3117, '馬偕醫院': 3118, '宏普建設': 3119, '通信': 3120, '版友': 3121, '美軍': 3122, '發放日': 3123, '電子品': 3124, '點數': 3125, '討論區': 3126, '理立': 3127, '目眩': 3128, '反映': 3129, '走嘎空': 3130, '火速': 3131, '六成': 3132, '洗劫': 3133, '地政府': 3134, '入手價': 3135, '難料': 3136, '謝明霖': 3137, '譁裕飆': 3138, '秘密': 3139, '漲點': 3140, '齊聲': 3141, '世豐': 3142, '兼備': 3143, '愛國': 3144, '郜敏': 3145, '紅杉': 3146, '德儀': 3147, '餐飲': 3148, '連三': 3149, '台數科': 3150, '政經': 3151, '年產': 3152, '聯邦銀甲': 3153, '締造': 3154, '山洞': 3155, '匯雙殺': 3156, '興勤': 3157, '增及': 3158, '舊廠': 3159, '續任': 3160, '破千億': 3161, '改款': 3162, '恐斷鏈': 3163, '貨盤': 3164, '消散': 3165, '手機鏈': 3166, '智齡': 3167, '躲進': 3168, '成長型': 3169, '晉泰': 3170, '上機': 3171, '合理': 3172, '徐衍珍': 3173, '首見': 3174, '印度標準局': 3175, '多端': 3176, '附圖': 3177, '奠定': 3178, '新北林口': 3179, '建地': 3180, '樂斯科': 3181, '同步勁揚': 3182, '獨角': 3183, '家登': 3184, '子孫': 3185, '高低': 3186, '逆轉': 3187, '嘉里': 3188, '十八': 3189, '貿剩': 3190, '分區': 3191, '牽手': 3192, '瑕疵': 3193, '穩健攻堅': 3194, '深厚': 3195, '高技': 3196, '再戰': 3197, '拖垮': 3198, '合台幣': 3199, '終場下跌': 3200, '楊文科': 3201, '云辰': 3202, '奶水': 3203, '淨化': 3204, '超約': 3205, '拜訪': 3206, '金正恩': 3207, '主動': 3208, '雷聲': 3209, '總產量': 3210, '四小龍': 3211, '盧明光': 3212, '上來': 3213, '偽陽性': 3214, '谷月涵': 3215, '替代': 3216, '聯貸': 3217, '新竹科學': 3218, '無疑': 3219, '港口': 3220, '勤美': 3221, '稱產': 3222, '仍舊': 3223, '比率': 3224, '跳出來': 3225, '元大美債': 3226, '專門': 3227, '加羅爾約': 3228, '面額': 3229, '中國高股': 3230, '暖點': 3231, '參議院': 3232, '簡伯儀': 3233, '所得': 3234, '雜音': 3235, '視野': 3236, '軟板': 3237, '中証': 3238, '之意': 3239, '老闆': 3240, '中方': 3241, '持分': 3242, '全黑': 3243, '學人': 3244, '普及於': 3245, '麥克風': 3246, '元富': 3247, '五路': 3248, '展演中心': 3249, '北北基': 3250, '安控': 3251, '回籠': 3252, '引入': 3253, '電裝': 3254, '比如': 3255, '收取': 3256, '禁併': 3257, '血洗': 3258, '徵信': 3259, '北部': 3260, '盛電': 3261, '嘉澤群': 3262, '敦陽': 3263, '月底': 3264, '軍民': 3265, '清明節': 3266, '爆紅股': 3267, '過於': 3268, '有助於': 3269, '期現貨': 3270, '合攻': 3271, '店頭': 3272, '立場': 3273, '標的分': 3274, '復季線': 3275, '擬定': 3276, '返台': 3277, '藍綠': 3278, '之初': 3279, '戰露': 3280, '貿區': 3281, '空前': 3282, '醫療展': 3283, '麻煩': 3284, '戈爾韋': 3285, '重於': 3286, '增強': 3287, '沈孟儒': 3288, '試點': 3289, '古道': 3290, '勞工部': 3291, '掃描': 3292, '賞臉': 3293, '災區': 3294, '潤泰全球': 3295, '卡關': 3296, '公布期限': 3297, '到場': 3298, '目光': 3299, '無量': 3300, '作品': 3301, '一年': 3302, '上海商': 3303, '法規': 3304, '陳蕙綾': 3305, '定調': 3306, '圍繞': 3307, '樣子': 3308, '企業界': 3309, '成分': 3310, '專利榜': 3311, '沃旭能源': 3312, '足跡': 3313, '月企業': 3314, '開始不振': 3315, '獲利在': 3316, '申請人': 3317, '大勢': 3318, '中嘉': 3319, '降評': 3320, '內湖': 3321, '控制與感': 3322, '利勤': 3323, '投行': 3324, '璽悅': 3325, '哈評': 3326, '擇一': 3327, '起訴': 3328, '完畢': 3329, '軋空頭': 3330, '地圖': 3331, '奇偶': 3332, '研發處': 3333, '樂園': 3334, '沖天': 3335, '頂晶': 3336, '股提值': 3337, '桃園廠': 3338, '樺漢科技': 3339, '檔法人': 3340, '投片': 3341, '扣掉': 3342, '消費力': 3343, '推遲': 3344, '晉升': 3345, '新紀元': 3346, '美國廠': 3347, '視陽': 3348, '台期': 3349, '重擊': 3350, '嘉晶電子': 3351, '神龍': 3352, '銷盤價': 3353, '多方棄守': 3354, '有時': 3355, '售地': 3356, '中信銀行': 3357, '驚跌': 3358, '到齊': 3359, '溫槍': 3360, '對決': 3361, '寶鋼': 3362, '軟實力': 3363, '學費': 3364, '惡劣': 3365, '下季': 3366, '教華': 3367, '錯車': 3368, '端出': 3369, '可選': 3370, '智成': 3371, '新加破': 3372, '顧客': 3373, '提振': 3374, '光片': 3375, '中華民國': 3376, '衝回': 3377, '點亮': 3378, '慘開': 3379, '發電量': 3380, '不準': 3381, '金成': 3382, '倒掛': 3383, '期盼': 3384, '往後': 3385, '童玉瑋': 3386, '健康集': 3387, '草案': 3388, '全景': 3389, '串聯': 3390, '地理': 3391, '肚子': 3392, '昨晚': 3393, '穿泳褲': 3394, '看不到': 3395, '外圍': 3396, '投下': 3397, '要不要': 3398, '貼上': 3399, '智慧錶': 3400, '有心': 3401, '機會向': 3402, '林全': 3403, '元宇宙': 3404, '改口': 3405, '阻斷': 3406, '中華徵信所': 3407, '秩序': 3408, '規畫出': 3409, '大樹': 3410, '倒出': 3411, '柏南克': 3412, '採行': 3413, '自豪': 3414, '信賴': 3415, '持股約': 3416, '掏空': 3417, '北韓': 3418, '強注': 3419, '年代': 3420, '獎勵': 3421, '私募現': 3422, '限於': 3423, '蔡娪嫣': 3424, '微利': 3425, '延燒': 3426, '舜宇光學': 3427, '哪些': 3428, '國企股': 3429, '鋼筋': 3430, '營邦': 3431, '碰撞': 3432, '大殺': 3433, '概股來勁': 3434, '時代表': 3435, '綠能': 3436, '角色': 3437, '校企': 3438, '專注於': 3439, '脫胎': 3440, '護國': 3441, '雙虎不同': 3442, '聯絡': 3443, '內嵌': 3444, '二館': 3445, '大案': 3446, '超跑': 3447, '星期': 3448, '略為': 3449, '清零': 3450, '服處': 3451, '投資量': 3452, '採樣': 3453, '耗資': 3454, '抗中': 3455, '始終': 3456, '撐住': 3457, '會診': 3458, '超市': 3459, '通股份': 3460, '慘痛': 3461, '起跳': 3462, '很少': 3463, '宜鼎': 3464, '存活': 3465, '科技界': 3466, '科技中心': 3467, '大小': 3468, '眉目': 3469, '反彈行情': 3470, '大立光猛醒': 3471, '華雷斯': 3472, '權重股': 3473, '席福': 3474, '蒸發約': 3475, '大同醫院': 3476, '台大': 3477, '郭妍希': 3478, '認賠': 3479, '公國': 3480, '送出': 3481, '光板': 3482, '經常性': 3483, '稱霸': 3484, '會展': 3485, '或許': 3486, '低基': 3487, '日報': 3488, '菲律賓': 3489, '滙豐證券': 3490, '併營': 3491, '鄧振中': 3492, '攻守': 3493, '無私': 3494, '的確': 3495, '整齊開': 3496, '林靖德': 3497, '再造': 3498, '轉增': 3499, '同案': 3500, '上海銀': 3501, '資格': 3502, '目標力': 3503, '在近': 3504, '彰化': 3505, '台灣證交所': 3506, '當選人': 3507, '四雄避': 3508, '華星': 3509, '五停': 3510, '外媒': 3511, '地雷呆帳': 3512, '台灣人': 3513, '舊宗段': 3514, '交流': 3515, '案件': 3516, '信號': 3517, '抖抖': 3518, '神迷': 3519, '進在': 3520, '從以前': 3521, '供桌': 3522, '抱怨': 3523, '實地': 3524, '載浮載沉': 3525, '開紅': 3526, '金鼠年': 3527, '定海': 3528, '葉獻文': 3529, '購物': 3530, '後頭': 3531, '朝向': 3532, '發展出': 3533, '費給': 3534, '三八': 3535, '匡列': 3536, '處置': 3537, '開辦': 3538, '做不到': 3539, '國泰證券': 3540, '上緯投控': 3541, '攀峰': 3542, '潘姿羽': 3543, '敘明事': 3544, '神盾': 3545, '過往': 3546, '僅次於': 3547, '學界': 3548, '元股息': 3549, '商像': 3550, '持盈': 3551, '全文': 3552, '人次': 3553, '當地政府': 3554, '盛會': 3555, '開跌': 3556, '變動別': 3557, '年減率': 3558, '迎戰': 3559, '冒出': 3560, '混合雲': 3561, '浮上': 3562, '蒸蒸日': 3563, '自貿區': 3564, '端倪': 3565, '樂見': 3566, '職潮': 3567, '績效股': 3568, '強力加': 3569, '竹科生': 3570, '角逐': 3571, '便當': 3572, '單價': 3573, '人部隊': 3574, '狂掃': 3575, '機電股': 3576, '供應鍊': 3577, '三月份': 3578, '一擊': 3579, '交換器': 3580, '端午': 3581, '台新銀行': 3582, '跌停價': 3583, '制度': 3584, '量販店': 3585, '巨量': 3586, '分級': 3587, '上任甫': 3588, '重來': 3589, '更正': 3590, '首位': 3591, '有線': 3592, '地下': 3593, '周年': 3594, '矽創電子': 3595, '電路板': 3596, '作業': 3597, '剖析': 3598, '東莞': 3599, '寶寶': 3600, '助攻三': 3601, '附近盤': 3602, '萬華區': 3603, '跑掉': 3604, '野村': 3605, '回調': 3606, '疆土': 3607, '華為發布': 3608, '榮化': 3609, '事故': 3610, '漲到': 3611, '診斷': 3612, '老調重': 3613, '顯示卡': 3614, '元續': 3615, '營運面': 3616, '瑞祺電': 3617, '佈建': 3618, '藝文': 3619, '我國': 3620, '手運': 3621, '范婉瑜': 3622, '早在': 3623, '經緯': 3624, '任職': 3625, '靜下心': 3626, '參選': 3627, '榜首': 3628, '天災': 3629, '降評至': 3630, '納斯達克': 3631, '升及': 3632, '開源': 3633, '上路': 3634, '看衰': 3635, '電子盤': 3636, '鍾兆其': 3637, '陷空': 3638, '新亮點': 3639, '電子時報': 3640, '蓋廠': 3641, '持穩': 3642, '大紀元': 3643, '重視': 3644, '文華': 3645, '知名度': 3646, '大立': 3647, '序言': 3648, '出色': 3649, '高低差': 3650, '增揚': 3651, '外資券': 3652, '周線以紅': 3653, '申豐': 3654, '高漲': 3655, '翻黑下跌': 3656, '洞悉': 3657, '學生': 3658, '示範': 3659, '釋商': 3660, '升約': 3661, '受挫': 3662, '長大': 3663, '廣西': 3664, '尾聲': 3665, '電貿': 3666, '衛生室': 3667, '美科': 3668, '美林證券': 3669, '碧桂園': 3670, '待去': 3671, '巧合': 3672, '軟銀': 3673, '看無': 3674, '防守': 3675, '隔日': 3676, '廣穎': 3677, '摜壓': 3678, '竹北': 3679, '知名': 3680, '自駕': 3681, '研究中心': 3682, '經由': 3683, '留倉': 3684, '羅麗芬': 3685, '張錫': 3686, '外進': 3687, '直到': 3688, '全身而退': 3689, '底價': 3690, '經歷': 3691, '股災': 3692, '年內': 3693, '療科': 3694, '吃貨': 3695, '上修到': 3696, '自我': 3697, '庫藏': 3698, '機密': 3699, '嚇破': 3700, '用藥': 3701, '保德信': 3702, '達能': 3703, '智富': 3704, '倫飛': 3705, '使用權': 3706, '它們': 3707, '第七': 3708, '踴躍': 3709, '贏家': 3710, '金傳': 3711, '理事': 3712, '昱泉': 3713, '死掉': 3714, '林杰宏': 3715, '生病': 3716, '開曼康而': 3717, '天量': 3718, '智伸科國泰': 3719, '聯合科技': 3720, '元配': 3721, '一切': 3722, '非法': 3723, '運行': 3724, '全資': 3725, '日和碩': 3726, '林敏雄': 3727, '威宏': 3728, '監事': 3729, '淨科技': 3730, '日由': 3731, '交會': 3732, '冠蓋雲集': 3733, '摸彩': 3734, '萬眾矚目': 3735, '信驊科技': 3736, '跨業': 3737, '天空': 3738, '隔天': 3739, '超為': 3740, '撐場': 3741, '扶持': 3742, '發射': 3743, '算盤': 3744, '建達': 3745, '類似': 3746, '管齊': 3747, '理性': 3748, '板卡': 3749, '交付': 3750, '補跌': 3751, '空襲': 3752, '成功大學': 3753, '黃崇仁': 3754, '不減': 3755, '餐宴': 3756, '股股': 3757, '國外': 3758, '寒冬': 3759, '瑞林': 3760, '許曉嘉': 3761, '大刀': 3762, '軋空手': 3763, '活用': 3764, '集資': 3765, '群光電': 3766, '挽救': 3767, '面板股': 3768, '價算': 3769, '星光': 3770, '放棄': 3771, '接班': 3772, '兵器譜': 3773, '同寫': 3774, '市面': 3775, '棄守': 3776, '智慧卡': 3777, '長多': 3778, '個位': 3779, '商模': 3780, '可喜可賀': 3781, '美好': 3782, '支腳': 3783, '偶爾': 3784, '防漲': 3785, '接續': 3786, '雙拳': 3787, '智特股份': 3788, '增達': 3789, '結購性': 3790, '截然': 3791, '元跟': 3792, '放慢': 3793, '藍光': 3794, '柯文昌': 3795, '容器': 3796, '情感': 3797, '名藥': 3798, '陳冠升': 3799, '花錢': 3800, '升價': 3801, '功臣': 3802, '狂瀉': 3803, '微機電': 3804, '生華科': 3805, '推進': 3806, '志聖': 3807, '開跑': 3808, '建物': 3809, '買主': 3810, '副董': 3811, '裝廠': 3812, '競因': 3813, '精密約': 3814, '藥廠': 3815, '公布值': 3816, '罰罰': 3817, '不確定': 3818, '景觀': 3819, '貓大': 3820, '國安': 3821, '漲幅在': 3822, '追上去': 3823, '小接': 3824, '深度': 3825, '林世嘉': 3826, '伺機': 3827, '東典': 3828, '教練': 3829, '改採': 3830, '試煉': 3831, '跳出': 3832, '惠利多': 3833, '標準局': 3834, '輕重': 3835, '接管': 3836, '美稱': 3837, '元元': 3838, '那麼多': 3839, '抗生素': 3840, '破點': 3841, '四手': 3842, '倫敦': 3843, '不宜': 3844, '兩班制': 3845, '零售': 3846, '總數': 3847, '庫克': 3848, '傳染': 3849, '豐榮': 3850, '雙衰': 3851, '重頭': 3852, '西部': 3853, '臨會': 3854, '軋到': 3855, '續熱': 3856, '不旺等': 3857, '預防': 3858, '南茂科技': 3859, '未有': 3860, '目的': 3861, '上兆': 3862, '莫迪': 3863, '害怕': 3864, '傳新': 3865, '拉斯維加斯': 3866, '玩具': 3867, '絕美': 3868, '平日': 3869, '集資案': 3870, '獲選為': 3871, '國民生': 3872, '得證': 3873, '休兵期': 3874, '高主': 3875, '優異': 3876, '這麼多': 3877, '黃佩君': 3878, '進出': 3879, '民間': 3880, '可成麥證': 3881, '後第': 3882, '里昂': 3883, '會場': 3884, '門市': 3885, '洽商': 3886, '佳話': 3887, '破億': 3888, '漸漸': 3889, '月產能': 3890, '會在': 3891, '洽談會': 3892, '鄭州廠': 3893, '沒人': 3894, '創設': 3895, '龍彩霖': 3896, '產地': 3897, '萎縮': 3898, '大中華區': 3899, '世紀': 3900, '訂下': 3901, '厲害': 3902, '泰山永豐': 3903, '掌聲': 3904, '上証': 3905, '力積電股': 3906, '微笑': 3907, '唯獨': 3908, '葉倫': 3909, '莫德納尋寶': 3910, '進口稅': 3911, '和生': 3912, '靈敏': 3913, '總交易': 3914, '敘明事項': 3915, '弄到': 3916, '勉強': 3917, '怎麼樣': 3918, '零食': 3919, '有何': 3920, '生理': 3921, '爆表': 3922, '壓力線': 3923, '戰未歇': 3924, '中秋節': 3925, '廖賢龍': 3926, '徵信所': 3927, '控管': 3928, '千金股': 3929, '重設': 3930, '元排': 3931, '編輯部': 3932, '承銷價': 3933, '那時': 3934, '電網': 3935, '點王': 3936, '點出': 3937, '飆出': 3938, '失敗': 3939, '放假': 3940, '登次高': 3941, '長育禎': 3942, '白宮': 3943, '歸收': 3944, '拖慢': 3945, '罷工': 3946, '忽下': 3947, '跌勢沒收斂': 3948, '電話法': 3949, '新東': 3950, '瀚宇博麥證': 3951, '推文': 3952, '志業': 3953, '元平盤價': 3954, '新至陞': 3955, '展演': 3956, '雙升': 3957, '國有地': 3958, '宏泰': 3959, '再來': 3960, '舊金山': 3961, '颱風財': 3962, '好旺': 3963, '搶鏡': 3964, '瘋高': 3965, '環宇': 3966, '生產中心': 3967, '值為': 3968, '檔區': 3969, '重量法': 3970, '環顧': 3971, '產後': 3972, '範疇': 3973, '新北': 3974, '打造成': 3975, '繁中版': 3976, '群雄': 3977, '崇越電': 3978, '星瑞林': 3979, '改盤': 3980, '颱風': 3981, '應邀': 3982, '拿到': 3983, '市立': 3984, '鑫創': 3985, '利基': 3986, '襲擊': 3987, '爆料': 3988, '抗震': 3989, '提值': 3990, '觸碰': 3991, '收日': 3992, '熄火': 3993, '豐沛': 3994, '費雪': 3995, '月創': 3996, '越過': 3997, '護國群山': 3998, '缺欠': 3999, '比起': 4000, '挑好': 4001, '賺贏': 4002, '遴選': 4003, '紓緩': 4004, '台北市': 4005, '越南和印尼': 4006, '鐵路': 4007, '概股': 4008, '塑造成': 4009, '概況': 4010, '縣市': 4011, '總值': 4012, '到期日': 4013, '甲骨': 4014, '飲用水': 4015, '商台': 4016, '道阻': 4017, '治療': 4018, '開創': 4019, '哈哈': 4020, '淨利率': 4021, '超國票金': 4022, '神化': 4023, '搶購': 4024, '頭殼': 4025, '亞洲區': 4026, '鼎炫': 4027, '台灣大學': 4028, '中韓': 4029, '一百': 4030, '人口': 4031, '融合資': 4032, '神秘': 4033, '台海': 4034, '哈佛': 4035, '張榮發': 4036, '推廣給': 4037, '麥格理證': 4038, '三足': 4039, '電機': 4040, '死魚': 4041, '旭隼': 4042, '俄羅斯': 4043, '安聯': 4044, '編纂': 4045, '指點': 4046, '宅推': 4047, '高息低波': 4048, '擋不住': 4049, '申報': 4050, '臨時會': 4051, '消費筆': 4052, '開模': 4053, '阿朗': 4054, '快篩': 4055, '緊接': 4056, '雲霄飛車': 4057, '貶低': 4058, '邦特': 4059, '身份': 4060, '笑到': 4061, '大聯': 4062, '點作': 4063, '逸達': 4064, '富士': 4065, '聯上': 4066, '技術長': 4067, '原料': 4068, '訪問': 4069, '聯席': 4070, '頭銜': 4071, '憑藉': 4072, '吉茂': 4073, '萬芳醫院': 4074, '心血': 4075, '洗掉': 4076, '得獎': 4077, '皇田': 4078, '諾華腫瘤': 4079, '高息股': 4080, '溫和': 4081, '總處': 4082, '告白': 4083, '紛紛西': 4084, '出量': 4085, '邀法': 4086, '西雅圖': 4087, '無縫': 4088, '猜測': 4089, '百貨': 4090, '結購': 4091, '呂朝勝': 4092, '頭香': 4093, '摩根士丹利': 4094, '丹麥': 4095, '政務': 4096, '苟同': 4097, '上看': 4098, '神針': 4099, '元價位': 4100, '簡永祥': 4101, '發覺': 4102, '予以': 4103, '分館': 4104, '創獎': 4105, '上雲': 4106, '多於': 4107, '吃穿': 4108, '日月光投': 4109, '當局': 4110, '日止': 4111, '金士頓': 4112, '好笑': 4113, '老牌': 4114, '成交比': 4115, '大戲': 4116, '達欣工': 4117, '見血': 4118, '減煤': 4119, '如意': 4120, '賊現形': 4121, '奈米醫材': 4122, '台積電台': 4123, '逞凶': 4124, '時碩': 4125, '碩續': 4126, '新科': 4127, '投資法': 4128, '北富銀': 4129, '高興': 4130, '高科': 4131, '如下': 4132, '何醒邦': 4133, '引進': 4134, '市政府': 4135, '強漲逾': 4136, '太平戴維斯': 4137, '文件': 4138, '交換': 4139, '護理': 4140, '加薪': 4141, '解析度': 4142, '二十': 4143, '貿易類': 4144, '興趣': 4145, '催貨': 4146, '智慧城': 4147, '人身': 4148, '日外資': 4149, '口味': 4150, '凌群': 4151, '蘇比克': 4152, '雲品': 4153, '爆紅': 4154, '下空單': 4155, '鈍化': 4156, '戰而': 4157, '夢魘': 4158, '借用': 4159, '崛起板': 4160, '講座': 4161, '良機': 4162, '大多數': 4163, '櫃買指': 4164, '創立': 4165, '尚凡': 4166, '分棟': 4167, '碩印尼': 4168, '合夥人': 4169, '映泰': 4170, '櫃祭': 4171, '東台': 4172, '划水': 4173, '駕車': 4174, '國際盃': 4175, '代表署': 4176, '上岸': 4177, '外資力': 4178, '坐鎮': 4179, '答案': 4180, '復健': 4181, '極權': 4182, '大立光達': 4183, '禮包': 4184, '台東': 4185, '在中': 4186, '納智': 4187, '軟件': 4188, '籌設': 4189, '旭富': 4190, '談話': 4191, '文青愛': 4192, '股目': 4193, '十分之一': 4194, '世事': 4195, '備妥': 4196, '伙伴': 4197, '便利性': 4198, '無敵': 4199, '腦部': 4200, '搶地': 4201, '中旬': 4202, '期局': 4203, '進步': 4204, '快捷': 4205, '才可': 4206, '開策': 4207, '股利發': 4208, '買貴': 4209, '九九三五億': 4210, '穩居': 4211, '藥品': 4212, '月筆電': 4213, '中保': 4214, '通關': 4215, '尾牙': 4216, '吸血卡油': 4217, '交出': 4218, '大風吹': 4219, '水湳': 4220, '維護': 4221, '自駕車': 4222, '合計為': 4223, '優秀': 4224, '在職': 4225, '競賽': 4226, '洗禮': 4227, '正確': 4228, '為所動': 4229, '想要': 4230, '重貶': 4231, '村民': 4232, '臺灣證券': 4233, '準備好': 4234, '出頭天': 4235, '模組廠': 4236, '第一金投顧': 4237, '落入': 4238, '轉大賣': 4239, '七年度': 4240, '現實': 4241, '兆勁': 4242, '不到': 4243, '聯華': 4244, '漲停板': 4245, '惦惦': 4246, '波及': 4247, '大億': 4248, '超不平等': 4249, '料件': 4250, '喊卡': 4251, '保守派': 4252, '合眾': 4253, '二連三': 4254, '趨堅': 4255, '準確': 4256, '字頭': 4257, '股華碩': 4258, '承受度': 4259, '雙殺': 4260, '點報': 4261, '年起': 4262, '脫歐': 4263, '對下': 4264, '康友': 4265, '由田': 4266, '新巨': 4267, '普生生技': 4268, '消耗量': 4269, '結凍': 4270, '簽名': 4271, '盟友': 4272, '日加權': 4273, '摩根': 4274, '學術': 4275, '那些': 4276, '疲弱': 4277, '做法': 4278, '交接': 4279, '價股': 4280, '彭双浪': 4281, '不鏽鋼': 4282, '康和證': 4283, '相隔': 4284, '續看': 4285, '瑞半導體': 4286, '外法': 4287, '成員': 4288, '靠攏': 4289, '陪伴': 4290, '防禦型': 4291, '股愛': 4292, '自信': 4293, '雙邦': 4294, '富邦台': 4295, '不畏': 4296, '任職於': 4297, '然旺宏': 4298, '招聘': 4299, '樂翻': 4300, '電晶體': 4301, '遭受': 4302, '齊頭': 4303, '排第': 4304, '業績股': 4305, '齊揚': 4306, '台灣大哥大': 4307, '面俱到': 4308, '旗艦': 4309, '雲端聯盟': 4310, '軍事': 4311, '跨向': 4312, '建築中心': 4313, '爭議': 4314, '長黑': 4315, '可望於': 4316, '有關係': 4317, '排上': 4318, '穩守好': 4319, '遭賣': 4320, '上海浦東': 4321, '涉嫌': 4322, '億上膛': 4323, '眼球': 4324, '池上秋': 4325, '中科院': 4326, '補貼': 4327, '缺席': 4328, '福邦證': 4329, '禮拜': 4330, '開拓': 4331, '突來': 4332, '萬台': 4333, '飛鷹': 4334, '東方': 4335, '量級': 4336, '巨變': 4337, '新漢': 4338, '聯貸圈': 4339, '耕興': 4340, '買超股計有': 4341, '倒地': 4342, '老二': 4343, '敲定': 4344, '紡織廠': 4345, '瑞聲': 4346, '漸增': 4347, '零星': 4348, '韓扶植': 4349, '智鏈護': 4350, '救急': 4351, '駕駛': 4352, '劇增': 4353, '牡丹鄉': 4354, '坦承': 4355, '急衝': 4356, '衛材': 4357, '明朗化': 4358, '大舉敲': 4359, '張數在': 4360, '月工廠': 4361, '簡化': 4362, '奇翼': 4363, '連動': 4364, '見止跌': 4365, '食品股': 4366, '單週': 4367, '原菌': 4368, '特斯拉利多': 4369, '盯上': 4370, '又一': 4371, '樺電': 4372, '點達': 4373, '器材': 4374, '籠罩': 4375, '野人': 4376, '閒聊': 4377, '茂迪': 4378, '出擊': 4379, '德麥': 4380, '正達': 4381, '收資': 4382, '藍海': 4383, '凸顯出': 4384, '鰭式場': 4385, '展店': 4386, '收窄': 4387, '蔡明介': 4388, '網際': 4389, '演唱會': 4390, '捨棄': 4391, '小於': 4392, '趨緊': 4393, '緯軟股份': 4394, '用車': 4395, '化解': 4396, '奪走': 4397, '席次': 4398, '蘊釀': 4399, '路雲': 4400, '低位': 4401, '三虎': 4402, '圓展': 4403, '長久': 4404, '主招式': 4405, '愛其來': 4406, '鏈結': 4407, '港版': 4408, '富邦媒': 4409, '油金': 4410, '開鍘': 4411, '病患': 4412, '交通大學': 4413, '全漲': 4414, '翻譯': 4415, '獨角獸': 4416, '劇烈': 4417, '風雲': 4418, '部分公司': 4419, '認證': 4420, '可謂': 4421, '破兆': 4422, '板接': 4423, '查閱': 4424, '銀行股': 4425, '騰輝': 4426, '亞馬': 4427, '總成交值': 4428, '後期': 4429, '鴻海集': 4430, '交貨期': 4431, '空窗期': 4432, '月俄': 4433, '美科技': 4434, '中菲行': 4435, '習會': 4436, '血管': 4437, '學院': 4438, '月子': 4439, '參訪': 4440, '神木': 4441, '主打': 4442, '吳重雨': 4443, '露出': 4444, '會議室': 4445, '供應器': 4446, '高通旗下': 4447, '從即': 4448, '量販': 4449, '戰出現': 4450, '行銷長': 4451, '水泥股': 4452, '二三': 4453, '乘勝': 4454, '試跑': 4455, '群山': 4456, '新生': 4457, '弊案': 4458, '普惠': 4459, '評級': 4460, '雙美': 4461, '獻給': 4462, '緯創作': 4463, '艾美': 4464, '連宇': 4465, '吸金': 4466, '倘若': 4467, '多元化': 4468, '催眠': 4469, '寫好': 4470, '損平': 4471, '油電': 4472, '並以': 4473, '凌晨': 4474, '大權': 4475, '運動會': 4476, '諸多': 4477, '港商': 4478, '富貴': 4479, '冰鎳': 4480, '找來': 4481, '戰後': 4482, '醫療科': 4483, '樓宇': 4484, '戰爭': 4485, '國健署': 4486, '人意': 4487, '委屈': 4488, '鐵板': 4489, '二二八': 4490, '退休': 4491, '拚守': 4492, '急單': 4493, '折舊': 4494, '程世嘉': 4495, '簡便': 4496, '支撐股': 4497, '勞保': 4498, '提升到': 4499, '跟漲': 4500, '創去': 4501, '用之於': 4502, '以致': 4503, '如期': 4504, '專網': 4505, '年去': 4506, '專才': 4507, '灌頂': 4508, '證交所法': 4509, '玩玩': 4510, '列入': 4511, '神奇': 4512, '不熟': 4513, '金日': 4514, '急於': 4515, '嚇到': 4516, '江興鍛': 4517, '小鵬汽車': 4518, '總獎金': 4519, '通縮': 4520, '茂達': 4521, '廣明': 4522, '長虹': 4523, '成數': 4524, '軌跡': 4525, '下載': 4526, '歸屬': 4527, '再成': 4528, '永日': 4529, '搭配到': 4530, '扛住': 4531, '密切': 4532, '太陽花': 4533, '張紫吟': 4534, '執業': 4535, '佰研': 4536, '撿到': 4537, '五華': 4538, '大咖': 4539, '執行': 4540, '記者表': 4541, '太極': 4542, '下影線': 4543, '家門市': 4544, '聯陽多': 4545, '問世': 4546, '老朋友': 4547, '專訪': 4548, '伺服器市': 4549, '一夜': 4550, '降為': 4551, '台勝科麥證': 4552, '說出': 4553, '中國附醫': 4554, '介接': 4555, '初續': 4556, '緯哥': 4557, '搖身': 4558, '歡迎': 4559, '後台': 4560, '保瑞': 4561, '一月': 4562, '旭海衛生室': 4563, '年間': 4564, '工業局': 4565, '美國銀行': 4566, '志信': 4567, '典範': 4568, '正常性': 4569, '月間': 4570, '章程': 4571, '聘用': 4572, '指數位': 4573, '股东': 4574, '扶植': 4575, '慘重': 4576, '偷走': 4577, '新浪': 4578, '急跌': 4579, '殺走勢': 4580, '以待': 4581, '扎根': 4582, '一一': 4583, '台協會': 4584, '調配': 4585, '彎腰': 4586, '組裝銷': 4587, '環鴻': 4588, '看回': 4589, '起漲': 4590, '通告': 4591, '張朝欽': 4592, '免費': 4593, '應材': 4594, '砍掉': 4595, '回家': 4596, '大集': 4597, '上銀科技': 4598, '更下': 4599, '沈重': 4600, '思達': 4601, '借急': 4602, '難耐': 4603, '導光板': 4604, '捷克經貿': 4605, '罩頂': 4606, '推特': 4607, '賠賣': 4608, '見關': 4609, '苦牢': 4610, '編寫': 4611, '走人': 4612, '副理事長': 4613, '泰詠': 4614, '聽聞': 4615, '李洲': 4616, '有壓': 4617, '列到': 4618, '排擠': 4619, '天價': 4620, '磋商': 4621, '淨損': 4622, '基建': 4623, '千多萬': 4624, '股版': 4625, '特性': 4626, '協作': 4627, '法德藥': 4628, '轉居家': 4629, '中長多': 4630, '鄭國強': 4631, '自購': 4632, '手續': 4633, '臺股': 4634, '凍漲': 4635, '巨大子': 4636, '解除': 4637, '再增': 4638, '印太': 4639, '網格': 4640, '創單': 4641, '普騙': 4642, '探逾': 4643, '集團子公司': 4644, '休假': 4645, '本面': 4646, '大計': 4647, '停牌': 4648, '冷卻': 4649, '數技': 4650, '劉德泰': 4651, '多半': 4652, '翻買': 4653, '無端': 4654, '營收規': 4655, '林進財': 4656, '金控業': 4657, '打電': 4658, '聚集': 4659, '露臉': 4660, '岌岌可危': 4661, '滷肉': 4662, '媒體集團': 4663, '跳電': 4664, '貶轉升': 4665, '凝聚': 4666, '張世忠': 4667, '乍見': 4668, '線下': 4669, '攻克': 4670, '死守潼關': 4671, '百分之百': 4672, '網通業': 4673, '網絡': 4674, '爬山': 4675, '定義': 4676, '條好漢': 4677, '各界': 4678, '輕量化': 4679, '培育': 4680, '拼圖': 4681, '扶不起': 4682, '蔚來': 4683, '縮至': 4684, '綜觀': 4685, '負債表': 4686, '雷軍': 4687, '見到': 4688, '幫手': 4689, '權益法': 4690, '移轉到': 4691, '註冊': 4692, '江蘇省': 4693, '大哥大': 4694, '主委': 4695, '漲升': 4696, '狂鷹': 4697, '新產線': 4698, '素質': 4699, '易助漲助跌': 4700, '單口數': 4701, '醫管': 4702, '戰戰火': 4703, '午安': 4704, '董事案': 4705, '廉價版': 4706, '用在': 4707, '好傷': 4708, '定案': 4709, '蔚為': 4710, '呈現持': 4711, '集合': 4712, '大法': 4713, '大立光豪': 4714, '家子': 4715, '詹顯德': 4716, '經濟學家': 4717, '上增': 4718, '號令': 4719, '華爾街': 4720, '呼籲': 4721, '基泰': 4722, '收小紅': 4723, '難免': 4724, '自行車': 4725, '呂世民': 4726, '月後': 4727, '葳天': 4728, '揭示': 4729, '花掉': 4730, '固料': 4731, '數據中心': 4732, '鑽石': 4733, '席捲': 4734, '新制': 4735, '欽奈': 4736, '昶泓': 4737, '避稅': 4738, '穿戴': 4739, '西門子': 4740, '破格': 4741, '交易案': 4742, '跨區': 4743, '暫休': 4744, '慘跌': 4745, '鎖住': 4746, '決標': 4747, '美方': 4748, '鎖上': 4749, '幹部': 4750, '緯昌': 4751, '台達電台': 4752, '習慣': 4753, '貨運': 4754, '益得': 4755, '活躍': 4756, '買賣股': 4757, '統包': 4758, '有利多方': 4759, '賣超下': 4760, '效果': 4761, '有名': 4762, '納上': 4763, '壓寶': 4764, '井琪以': 4765, '匯聚': 4766, '討論案': 4767, '回轉': 4768, '大於': 4769, '領利息': 4770, '回復': 4771, '玉山': 4772, '羅素': 4773, '台系': 4774, '中韓台': 4775, '定存股': 4776, '同學': 4777, '病床': 4778, '百多億': 4779, '復工率': 4780, '續提款': 4781, '無知': 4782, '俄烏': 4783, '尖點': 4784, '三十億': 4785, '房價': 4786, '工型': 4787, '發出': 4788, '籮筐': 4789, '注意到': 4790, '永昕': 4791, '壓盤': 4792, '拭目以待': 4793, '相當於': 4794, '經銷': 4795, '崑山廠': 4796, '晶傑達光電': 4797, '聲喚': 4798, '留強': 4799, '點等': 4800, '重挫逾': 4801, '隊法人': 4802, '攻下': 4803, '山頭': 4804, '紡織業': 4805, '柯拉爾縣': 4806, '晶粒': 4807, '開市': 4808, '作多心態濃': 4809, '勝傳產': 4810, '公有': 4811, '中文網': 4812, '長短料': 4813, '代子公司': 4814, '搶先': 4815, '軟硬體': 4816, '屬實': 4817, '亞太電信': 4818, '輝瑞和': 4819, '萬二': 4820, '大洋': 4821, '報捷': 4822, '供需': 4823, '今國光': 4824, '陳峰明': 4825, '時段': 4826, '營業利益': 4827, '錯誤': 4828, '商壽': 4829, '四成六': 4830, '配發給': 4831, '台韓': 4832, '早已': 4833, '李長明': 4834, '強滾': 4835, '驊陞': 4836, '止勢': 4837, '優選': 4838, '名師': 4839, '入場': 4840, '長達': 4841, '設備廠': 4842, '立敦': 4843, '遠距辦公': 4844, '融斷': 4845, '等逾': 4846, '振曜': 4847, '跑光': 4848, '搶單': 4849, '創攻': 4850, '價續揚': 4851, '個別': 4852, '績優股': 4853, '股海': 4854, '此舉': 4855, '缺口未解': 4856, '派案': 4857, '羅達生': 4858, '施打率': 4859, '主帥': 4860, '工控物': 4861, '聽到': 4862, '偏鴿': 4863, '其今': 4864, '趨吉避凶': 4865, '落腳': 4866, '拍檔': 4867, '等同': 4868, '趕緊': 4869, '電訪': 4870, '張淑華': 4871, '美德醫': 4872, '烏俄': 4873, '翻攝': 4874, '拼命': 4875, '涵蓋到': 4876, '總領館': 4877, '亞昕': 4878, '馬瑞璿': 4879, '驊盛': 4880, '幾千': 4881, '大禮': 4882, '意見': 4883, '確保': 4884, '電業法': 4885, '精采': 4886, '凌通': 4887, '遭致': 4888, '賣股': 4889, '公投戰': 4890, '標脫': 4891, '管理區': 4892, '入股': 4893, '新臺幣': 4894, '小鬼': 4895, '驚豔': 4896, '長華': 4897, '發動': 4898, '驗收': 4899, '大馬': 4900, '日一早': 4901, '遭瓜分': 4902, '周增': 4903, '售屋': 4904, '達創': 4905, '鼎元': 4906, '吃緊': 4907, '氧氣': 4908, '自住': 4909, '多久': 4910, '美對': 4911, '台橋': 4912, '獲取': 4913, '悲觀': 4914, '磐旭': 4915, '撤回': 4916, '雄厚': 4917, '金利': 4918, '和碩月': 4919, '完美': 4920, '隆隆': 4921, '出售子': 4922, '年貨量': 4923, '超过': 4924, '角力': 4925, '別人': 4926, '載材': 4927, '鮮明': 4928, '挖角': 4929, '四確': 4930, '挖礦': 4931, '傳遞': 4932, '根基': 4933, '倒水': 4934, '富喬': 4935, '里程': 4936, '超等': 4937, '輔具展': 4938, '闖入': 4939, '金融指': 4940, '贏過': 4941, '而定': 4942, '主機板': 4943, '地方政府': 4944, '進助': 4945, '大疊': 4946, '接招': 4947, '依循': 4948, '井琪今': 4949, '雞蛋': 4950, '綠意': 4951, '阿米': 4952, '享受到': 4953, '後線': 4954, '元大台': 4955, '如穩懋': 4956, '走衰': 4957, '負荷': 4958, '入袋': 4959, '魏哲嘉': 4960, '宣示': 4961, '漲跌價': 4962, '受創': 4963, '主戰': 4964, '加重': 4965, '同質性': 4966, '昆山廠': 4967, '劑定': 4968, '比亞迪': 4969, '共築': 4970, '位居': 4971, '以便': 4972, '反轉走弱': 4973, '價潮': 4974, '節目': 4975, '缺乏': 4976, '呂理達': 4977, '毛利太': 4978, '低量': 4979, '季增幅': 4980, '學醫': 4981, '建築業': 4982, '年減近': 4983, '火星': 4984, '九暘': 4985, '油門': 4986, '頻道': 4987, '三廠': 4988, '供給': 4989, '劉董': 4990, '月領': 4991, '好不容易': 4992, '轉賣為': 4993, '伺服器業': 4994, '兩百': 4995, '韓國瑜': 4996, '華紙': 4997, '月月': 4998, '息值': 4999, '通通動': 5000, '停擺': 5001, '資增': 5002, '自由': 5003, '不予': 5004, '按時': 5005, '精品獎': 5006, '甩開': 5007, '遷往': 5008, '顯見': 5009, '友嘉集團': 5010, '超張': 5011, '旺盛': 5012, '應對': 5013, '終盤': 5014, '大小眼': 5015, '小力': 5016, '交期': 5017, '慎選': 5018, '深刻': 5019, '賣完': 5020, '待發': 5021, '經發局': 5022, '進逼': 5023, '產官': 5024, '接盤': 5025, '高飛': 5026, '一同': 5027, '秘訣': 5028, '細微': 5029, '台達電法': 5030, '圍廠': 5031, '原油期': 5032, '幾十億': 5033, '閃亮': 5034, '超彙': 5035, '阿格力': 5036, '分辨出': 5037, '呵呵': 5038, '障礙': 5039, '炒熱': 5040, '寫盤': 5041, '耀眼': 5042, '併購案': 5043, '選定': 5044, '手工': 5045, '當年度': 5046, '創意法': 5047, '陸媒': 5048, '外部': 5049, '通暢': 5050, '嘉晶': 5051, '拉掛': 5052, '戰力': 5053, '太坊': 5054, '利奇': 5055, '主人': 5056, '氣期貨': 5057, '雖未': 5058, '限制案': 5059, '推助': 5060, '估立積': 5061, '中國立訊': 5062, '達陣': 5063, '醫生': 5064, '連休': 5065, '習近平': 5066, '高效能': 5067, '穩站': 5068, '直得': 5069, '待審': 5070, '套到': 5071, '營造': 5072, '無人': 5073, '募集': 5074, '儲祥生': 5075, '旭暉': 5076, '拚創': 5077, '找到': 5078, '覽表': 5079, '爭奪': 5080, '科技戰': 5081, '劍指': 5082, '有如': 5083, '轉到': 5084, '連網': 5085, '誤植': 5086, '亂流': 5087, '靠山': 5088, '痛不癢': 5089, '中大型': 5090, '聯華電子': 5091, '換成': 5092, '打壓': 5093, '回觸': 5094, '審批': 5095, '撞毀': 5096, '搭車': 5097, '東訊': 5098, '台加大': 5099, '戴子翔': 5100, '蘇比克灣': 5101, '宏達國際': 5102, '耆妙屋': 5103, '逆差': 5104, '不行': 5105, '秋季': 5106, '現券': 5107, '所需': 5108, '在即': 5109, '育大': 5110, '形容': 5111, '震驚': 5112, '候選人': 5113, '小利': 5114, '遠慮': 5115, '拭目': 5116, '搶下': 5117, '日多數': 5118, '左邊': 5119, '那邊': 5120, '自動化展': 5121, '一千萬': 5122, '殺盤': 5123, '運轉': 5124, '股名': 5125, '行政': 5126, '做到': 5127, '中篇': 5128, '川湖': 5129, '派員': 5130, '籌建': 5131, '成助': 5132, '中低階': 5133, '閉環': 5134, '標的物': 5135, '職員': 5136, '攜工研院': 5137, '短時現象': 5138, '張紅茶': 5139, '運動': 5140, '微乎其微': 5141, '事業體': 5142, '強新': 5143, '青睞股': 5144, '座談': 5145, '油市': 5146, '好歹': 5147, '力圖': 5148, '轉印': 5149, '等待': 5150, '手法': 5151, '售電': 5152, '抵抗力': 5153, '中天': 5154, '聯傑': 5155, '數度': 5156, '連任': 5157, '開小': 5158, '駿熠電': 5159, '加深': 5160, '交棒': 5161, '遞減': 5162, '換取': 5163, '臺灣加權': 5164, '遭排擠': 5165, '五萬多': 5166, '踢出': 5167, '可見一斑': 5168, '海運股': 5169, '入囊': 5170, '酈英傑': 5171, '可利': 5172, '呂淑': 5173, '難以': 5174, '押寶': 5175, '緯創約': 5176, '收破': 5177, '防護': 5178, '機潮': 5179, '變差': 5180, '碩連': 5181, '添未來': 5182, '得而': 5183, '演變出': 5184, '躺著': 5185, '財報股': 5186, '求量': 5187, '牛步': 5188, '下班': 5189, '計約': 5190, '鴻家軍': 5191, '具體': 5192, '具體目的': 5193, '惠美股': 5194, '大神': 5195, '私有': 5196, '轉空': 5197, '簡易': 5198, '獲買': 5199, '一己之力': 5200, '服務型': 5201, '贖回': 5202, '全球廠區': 5203, '誇張': 5204, '本季': 5205, '包辦': 5206, '進擊': 5207, '一片': 5208, '第三處': 5209, '肚子火': 5210, '士頓': 5211, '瑞士信': 5212, '病歿': 5213, '房貸': 5214, '退居': 5215, '走堅': 5216, '戰事': 5217, '算入': 5218, '接種': 5219, '熱映': 5220, '海光': 5221, '可勝': 5222, '人機': 5223, '立大功': 5224, '狂升評': 5225, '犀動': 5226, '台墨': 5227, '廣達子': 5228, '朱志洋': 5229, '在缺': 5230, '經營權': 5231, '有力': 5232, '高價股': 5233, '客機': 5234, '元關': 5235, '透強': 5236, '鬆口': 5237, '中航': 5238, '強升': 5239, '會議中心': 5240, '名是': 5241, '萬七': 5242, '意識到': 5243, '總司令': 5244, '訊集團': 5245, '蕭錫鍊': 5246, '開曼康': 5247, '劃定': 5248, '依序為華': 5249, '缺櫃': 5250, '分散到': 5251, '大神機': 5252, '南科廠': 5253, '出貨力道': 5254, '通報': 5255, '幾近': 5256, '美化': 5257, '其於': 5258, '走路': 5259, '絕望': 5260, '宜以': 5261, '上風': 5262, '現買': 5263, '惡戰': 5264, '稱為': 5265, '林丕容': 5266, '壟斷': 5267, '不需': 5268, '暫失': 5269, '大陸廠': 5270, '式微': 5271, '供料': 5272, '王美花': 5273, '討電': 5274, '四川人': 5275, '下挫逾': 5276, '反一': 5277, '幸福': 5278, '百分百': 5279, '增年': 5280, '飽和': 5281, '盎司作': 5282, '無關': 5283, '出國': 5284, '拜疫情': 5285, '飆上': 5286, '滿倉': 5287, '保密': 5288, '揮軍': 5289, '殘局': 5290, '量子': 5291, '證券交易所': 5292, '產業股': 5293, '光國票': 5294, '台科': 5295, '先後': 5296, '果真': 5297, '控觸': 5298, '豐厚': 5299, '增配': 5300, '開獎': 5301, '超下': 5302, '合世': 5303, '流行': 5304, '蘇貞昌': 5305, '人命': 5306, '黑天鵝': 5307, '捷臺商會': 5308, '蘋果財報': 5309, '大多': 5310, '金麗科': 5311, '紅黑': 5312, '突圍': 5313, '樂看': 5314, '張世穎': 5315, '十銓': 5316, '催促': 5317, '失業率': 5318, '矽力杰': 5319, '媽咪': 5320, '決算': 5321, '只好': 5322, '駿熠': 5323, '受控': 5324, '數年': 5325, '徐康沛': 5326, '缺艙': 5327, '齊放': 5328, '宅女': 5329, '葉子': 5330, '遜於': 5331, '人力水': 5332, '總和': 5333, '嚇死': 5334, '亞泰': 5335, '洗牌': 5336, '億行': 5337, '接掌': 5338, '見證': 5339, '副市長': 5340, '破壞': 5341, '起伏': 5342, '逆境': 5343, '仟元': 5344, '華南': 5345, '本營': 5346, '快要': 5347, '倍感': 5348, '疫病': 5349, '提報': 5350, '載工': 5351, '互聯': 5352, '主人翁': 5353, '死握': 5354, '下來': 5355, '慘淡': 5356, '下半聯準會': 5357, '傑出': 5358, '居多': 5359, '走疲': 5360, '短腳': 5361, '罷免': 5362, '王建棟': 5363, '虎躍': 5364, '鄭奕立': 5365, '要點': 5366, '超額': 5367, '雙報喜': 5368, '虎年': 5369, '帳面': 5370, '昆山市': 5371, '接手': 5372, '早年': 5373, '緯創董': 5374, '炒底': 5375, '主機': 5376, '相關法': 5377, '元調': 5378, '陌生': 5379, '翻騰': 5380, '競業行': 5381, '工程系': 5382, '週六': 5383, '估勝': 5384, '卓越': 5385, '緯創度': 5386, '火花': 5387, '人貓': 5388, '供不': 5389, '弟弟': 5390, '心丸': 5391, '陳儷文': 5392, '聲音': 5393, '暴徒': 5394, '明碁': 5395, '砸毀': 5396, '孫公司': 5397, '鬧電': 5398, '首席': 5399, '舜電': 5400, '大別': 5401, '懲罰': 5402, '進買': 5403, '富邦科技': 5404, '鼎鎂': 5405, '公信': 5406, '晶大': 5407, '全資子': 5408, '無論': 5409, '注重': 5410, '純益率': 5411, '市佔': 5412, '行事曆': 5413, '估價師': 5414, '李明山': 5415, '鳳凰': 5416, '减持': 5417, '相信': 5418, '刺痛': 5419, '擇適當': 5420, '初三': 5421, '招標案': 5422, '評比': 5423, '反擊': 5424, '救市': 5425, '反噬': 5426, '加權股': 5427, '牛皮股': 5428, '大拉貨': 5429, '回彈': 5430, '惠商': 5431, '華新科麥證': 5432, '支柱': 5433, '急崩蘋概': 5434, '聯寶': 5435, '出任': 5436, '吹起': 5437, '股神': 5438, '堅實': 5439, '兩千': 5440, '亞系': 5441, '麗正': 5442, '六億': 5443, '平至': 5444, '黃少華': 5445, '化鎧勝': 5446, '搶救': 5447, '相抵': 5448, '薄弱': 5449, '存證': 5450, '首選': 5451, '四季': 5452, '裝不下': 5453, '猛飆逾': 5454, '新子': 5455, '全球性': 5456, '億創': 5457, '大手筆': 5458, '台積電法': 5459, '王朝': 5460, '戶數': 5461, '冠好': 5462, '瑞祺電通': 5463, '灰心': 5464, '人人': 5465, '李秉傑': 5466, '幅射': 5467, '達運': 5468, '轉換期': 5469, '中文版': 5470, '受惠股': 5471, '周線連': 5472, '國民': 5473, '估算': 5474, '受矚': 5475, '緯穎手': 5476, '儘快': 5477, '産業': 5478, '感恩': 5479, '怒批': 5480, '拉斯': 5481, '南印度': 5482, '拉升過': 5483, '拜登上': 5484, '法國': 5485, '購電': 5486, '立德': 5487, '鼓動': 5488, '列賣': 5489, '休工': 5490, '視界': 5491, '立讯': 5492, '張憶漩': 5493, '擊倒': 5494, '張漢綺': 5495, '合庫等': 5496, '幾百億': 5497, '價由': 5498, '研究機構': 5499, '點火集': 5500, '年終獎': 5501, '狂吸金': 5502, '苛責': 5503, '心驚': 5504, '狂買': 5505, '機板': 5506, '企業約': 5507, '回覆': 5508, '高市': 5509, '大跌逾': 5510, '拉鋸': 5511, '甄鼎': 5512, '橘子': 5513, '可知': 5514, '互相': 5515, '盎司': 5516, '直奔': 5517, '爆滿': 5518, '廖婕妤': 5519, '堅向': 5520, '本業營': 5521, '黃卓盛': 5522, '迴響': 5523, '發燒': 5524, '南方': 5525, '雙優': 5526, '台表': 5527, '大抄底': 5528, '背書': 5529, '阿格力博識': 5530, '姻親': 5531, '中性': 5532, '新光金融': 5533, '華榮': 5534, '聊聊': 5535, '擴容': 5536, '戰場': 5537, '引線': 5538, '鄭詠翔': 5539, '佛羅里達': 5540, '微薄': 5541, '富晶通': 5542, '警方': 5543, '昏頭': 5544, '未計': 5545, '法院': 5546, '開戶': 5547, '獲准': 5548, '台股盤': 5549, '先天': 5550, '率機': 5551, '畢業生': 5552, '感嘆': 5553, '中小型': 5554, '當道': 5555, '次級': 5556, '陸版': 5557, '電路版': 5558, '李明': 5559, '買氣強': 5560, '大不了': 5561, '尤在': 5562, '市場碼': 5563, '點回': 5564, '台股料': 5565, '一斑': 5566, '拿出來': 5567, '辨別': 5568, '展覽等': 5569, '元外': 5570, '雲霄': 5571, '元人民幣': 5572, '一發': 5573, '月次': 5574, '領到': 5575, '冷戰': 5576, '億人民幣': 5577, '大將': 5578, '上市股': 5579, '調整完': 5580, '不墜': 5581, '托拉斯': 5582, '用戶': 5583, '釋放出': 5584, '逃離': 5585, '佳士達': 5586, '無懼': 5587, '縮水': 5588, '劵商': 5589, '庫克造': 5590, '光金': 5591, '降緩': 5592, '息納': 5593, '遭殃': 5594, '降級': 5595, '信錦': 5596, '常軌': 5597, '兩國': 5598, '小買': 5599, '逼急': 5600, '這點': 5601, '不良': 5602, '礦工費': 5603, '中實戶': 5604, '本宮': 5605, '化工': 5606, '恭喜': 5607, '百花': 5608, '逆向': 5609, '並肩': 5610, '月雙': 5611, '勝華': 5612, '女力': 5613, '季衰退': 5614, '活水': 5615, '小而美': 5616, '富邦人壽': 5617, '核撥': 5618, '彭博': 5619, '大魚': 5620, '矽品': 5621, '元真的': 5622, '跛腳': 5623, '不含': 5624, '死人': 5625, '封廠': 5626, '虧錢': 5627, '劉揚偉': 5628, '恐難度': 5629, '褐皮書': 5630, '蔡榮騰': 5631, '游雅嵐': 5632, '保衛戰': 5633, '心法': 5634, '中期': 5635, '鮑爾': 5636, '高密度': 5637, '年率': 5638, '超強': 5639, '好硬': 5640, '演變成': 5641, '適應': 5642, '戰友': 5643, '超千億': 5644, '達化': 5645, '板廠': 5646, '房間數': 5647, '周屢傳': 5648, '獨鍾': 5649, '貶值約': 5650, '強固': 5651, '動用': 5652, '輸給': 5653, '百點': 5654, '需求量': 5655, '借劵': 5656, '拉加': 5657, '越南盾': 5658, '燈籠': 5659, '簡立峰': 5660, '狂推': 5661, '五日': 5662, '值錢': 5663, '昇達科': 5664, '連任失敗': 5665, '編制': 5666, '楊梅廠': 5667, '醫療院所': 5668, '浩大': 5669, '鯰魚': 5670, '京城樂富': 5671, '毛損': 5672, '上海廠': 5673, '熱浪': 5674, '醣聯': 5675, '亂殺': 5676, '分別於': 5677, '嚴責': 5678, '血統': 5679, '科目': 5680, '緩慢': 5681, '說起': 5682, '脈動': 5683, '嚴以': 5684, '超旺': 5685, '前段': 5686, '不窮': 5687, '王兆立': 5688, '味道': 5689, '和豐': 5690, '反托': 5691, '復原': 5692, '漸進': 5693, '大展': 5694, '打擊': 5695, '暫定': 5696, '川普准': 5697, '系統電': 5698, '肇因': 5699, '股災跌點': 5700, '點少': 5701, '律師': 5702, '致和證': 5703, '中連貨': 5704, '楊梅幼獅': 5705, '議長': 5706, '率團': 5707, '國政府': 5708, '不可能': 5709, '致伸': 5710, '歉信': 5711, '陳有諒': 5712, '須要': 5713, '狀態': 5714, '指引': 5715, '群益投顧': 5716, '程序': 5717, '看增': 5718, '標誌': 5719, '點解': 5720, '沒關係': 5721, '張良吉': 5722, '胡鈞陽': 5723, '狂撒幣': 5724, '調整期': 5725, '理論': 5726, '旺矽': 5727, '獲買超': 5728, '定勝天': 5729, '消息面': 5730, '資工系': 5731, '陰霾': 5732, '鴻海張': 5733, '大有': 5734, '重中': 5735, '萬旭': 5736, '緊急': 5737, '社論': 5738, '養起': 5739, '數位力': 5740, '瘋傳': 5741, '喬遷': 5742, '與去': 5743, '城略地': 5744, '進可攻': 5745, '交代': 5746, '紅潮': 5747, '精密集團': 5748, '新頁': 5749, '演變': 5750, '買超下': 5751, '拉斯法': 5752, '中物': 5753, '喊攻': 5754, '候選': 5755, '得從': 5756, '年正': 5757, '尼馬': 5758, '倒數': 5759, '轉換成': 5760, '倍數': 5761, '逼鴻': 5762, '返年': 5763, '晶片股': 5764, '虛擬單': 5765, '獲利約': 5766, '中經院': 5767, '數破': 5768, '頁次': 5769, '所有權': 5770, '黃冠寰': 5771, '永遠': 5772, '封控': 5773, '押寶電子組': 5774, '玩膩': 5775, '季減幅': 5776, '紓解': 5777, '儲備': 5778, '放鷹派': 5779, '友達法': 5780, '客房': 5781, '女版': 5782, '掀爆': 5783, '台北總部': 5784, '精成科': 5785, '易建男': 5786, '蔚華': 5787, '榮科': 5788, '備註': 5789, '炸彈': 5790, '大學生': 5791, '資出': 5792, '寰銓': 5793, '付費': 5794, '支倒地': 5795, '麗清': 5796, '俱樂': 5797, '發言': 5798, '預防針': 5799, '衛純菁': 5800, '殺回': 5801, '非農': 5802, '進商會': 5803, '期末': 5804, '蠅頭': 5805, '萊豬': 5806, '數等': 5807, '言論': 5808, '再現': 5809, '側面': 5810, '頂不住': 5811, '神隆': 5812, '開戰': 5813, '緯創股東會': 5814, '宏盛': 5815, '率為': 5816, '釋放': 5817, '聯軍': 5818, '推急': 5819, '多重': 5820, '李玟儀': 5821, '洪麗甯': 5822, '視察': 5823, '位處': 5824, '返回': 5825, '派對': 5826, '中聯': 5827, '爆賺': 5828, '一致行': 5829, '穩台幣': 5830, '新美': 5831, '聯防聯': 5832, '供給面': 5833, '經發局長': 5834, '布油': 5835, '收息': 5836, '擁抱': 5837, '電收': 5838, '改買': 5839, '在望': 5840, '停逾': 5841, '泰州廠': 5842, '終止日': 5843, '站在': 5844, '資減': 5845, '違反供': 5846, '紅色': 5847, '台欣金': 5848, '聯通': 5849, '無疫': 5850, '安排': 5851, '撤除': 5852, '期限': 5853, '合編': 5854, '局外人': 5855, '輕微': 5856, '顯卡': 5857, '信用': 5858, '追殺': 5859, '毀損': 5860, '特快車': 5861, '源源不絕': 5862, '王振堂': 5863, '元股利': 5864, '以防': 5865, '兩樣': 5866, '遊走': 5867, '制勞': 5868, '龍頭廠': 5869, '翻頁': 5870, '妙算': 5871, '檢附': 5872, '飛利浦': 5873, '光電科技': 5874, '原息值': 5875, '緯創車': 5876, '滲透率': 5877, '轉換': 5878, '房屋': 5879, '必備': 5880, '指標廠': 5881, '居功厥偉': 5882, '底下': 5883, '異常': 5884, '印信': 5885, '退撫': 5886, '轉線': 5887, '月我': 5888, '享樂': 5889, '所得稅': 5890, '董監事': 5891, '三連': 5892, '小心': 5893, '宿舍': 5894, '排隊': 5895, '限期': 5896, '蔡國荃': 5897, '下壓': 5898, '息交易': 5899, '諾富特': 5900, '抵銷': 5901, '美油': 5902, '走不了': 5903, '金融類': 5904, '跌回穩': 5905, '減損': 5906, '王品': 5907, '思維': 5908, '口至': 5909, '實務': 5910, '移往': 5911, '環旭子': 5912, '牛年': 5913, '重複性': 5914, '估寫': 5915, '瓦特': 5916, '歷史性': 5917, '粗估': 5918, '劉美華': 5919, '死亡數': 5920, '新加坡': 5921, '瑞普萊坊': 5922, '攻擊': 5923, '賬鏡': 5924, '條文': 5925, '彼長': 5926, '篡改': 5927, '羅斯': 5928, '落後': 5929, '打發': 5930, '衰幅': 5931, '宇瞻': 5932, '官方': 5933, '盛行': 5934, '畫出': 5935, '奪冠': 5936, '劉韋廷': 5937, '撈到': 5938, '炎洲': 5939, '助守': 5940, '研發人': 5941, '小樂': 5942, '併鎧勝': 5943, '傳統型': 5944, '稱讚': 5945, '像樣': 5946, '華盛頓': 5947, '攻車': 5948, '皇冠': 5949, '膽戰': 5950, '補助': 5951, '稀少': 5952, '道路': 5953, '一萬': 5954, '占有': 5955, '族群展': 5956, '國際中心': 5957, '剪刀腳': 5958, '再向': 5959, '張梗圖': 5960, '展望佳': 5961, '普達': 5962, '七成': 5963, '復產': 5964, '駭客': 5965, '皮膚': 5966, '龍燈': 5967, '遭駭': 5968, '潤隆': 5969, '確效': 5970, '月生': 5971, '段龍輝': 5972, '價金': 5973, '前鎮': 5974, '掉單': 5975, '一峰': 5976, '大過年': 5977, '喊賣': 5978, '查證': 5979, '理解': 5980, '複合': 5981, '來得': 5982, '戰真': 5983, '停歇': 5984, '育成': 5985, '做空': 5986, '價量': 5987, '開業': 5988, '火拚': 5989, '歲男': 5990, '長榮鋼': 5991, '谷底': 5992, '林俊吉': 5993, '權王法': 5994, '作戰': 5995, '動式': 5996, '菜鳥法': 5997, '開花': 5998, '戰鬥力': 5999, '伸堂': 6000, '威風': 6001, '償還': 6002, '連帶': 6003, '元計': 6004, '過渡期': 6005, '潤泰新': 6006, '體檢': 6007, '頻寛': 6008, '蘇州': 6009, '依法': 6010, '報稅': 6011, '戲碼': 6012, '地廠區': 6013, '先發': 6014, '技術線': 6015, '敲門': 6016, '高掛': 6017, '缺口達': 6018, '同致': 6019, '成會': 6020, '定心丸': 6021, '元油': 6022, '劉憲治': 6023, '貨源': 6024, '主線': 6025, '相近': 6026, '撤休': 6027, '日廠': 6028, '拚命': 6029, '營益': 6030, '中強光電': 6031, '拚死': 6032, '二哥聯電': 6033, '至近': 6034, '救華為': 6035, '傳染力': 6036, '息潮': 6037, '防諜': 6038, '沈慶堯': 6039, '不止': 6040, '走出': 6041, '光群雷': 6042, '差等': 6043, '聯合晚報': 6044, '小塑': 6045, '降雨': 6046, '殺聲': 6047, '配股率': 6048, '減到': 6049, '熱烈': 6050, '家列': 6051, '撥補': 6052, '深受': 6053, '同文': 6054, '半月': 6055, '台灣子公司': 6056, '戰前': 6057, '證書': 6058, '沾到': 6059, '首利': 6060, '勢將': 6061, '飛機': 6062, '或者': 6063, '聲勢': 6064, '造山': 6065, '照片': 6066, '彌補': 6067, '估代': 6068, '名有': 6069, '商議': 6070, '冬季': 6071, '理事會': 6072, '淡化': 6073, '猛烈': 6074, '挨轟': 6075, '具名': 6076, '臺韓': 6077, '好樂': 6078, '施壓': 6079, '銀彈': 6080, '伺服': 6081, '平量': 6082, '參議長': 6083, '作業員': 6084, '新華社': 6085, '正前': 6086, '高林': 6087, '安家費': 6088, '層樓': 6089, '六成二': 6090, '高雄市': 6091, '未果': 6092, '中企': 6093, '做出': 6094, '汰弱': 6095, '自家': 6096, '買法': 6097, '毅力號': 6098, '前期': 6099, '倒是': 6100, '育樂': 6101, '災難': 6102, '商立訊': 6103, '步局': 6104, '超眾': 6105, '以使': 6106, '急遽': 6107, '文本': 6108, '低落': 6109, '喊衝': 6110, '招標': 6111, '政委': 6112, '確認': 6113, '美律實業': 6114, '掀起': 6115, '堅信': 6116, '迎補': 6117, '逃命': 6118, '鄭顯聰': 6119, '混合': 6120, '圖片版': 6121, '增幅度': 6122, '走空': 6123, '拜託': 6124, '轉虧為': 6125, '力成科技': 6126, '獨大': 6127, '不盡': 6128, '無解': 6129, '挑釁': 6130, '防線': 6131, '開頭': 6132, '人員別': 6133, '千多': 6134, '宣德': 6135, '大代': 6136, '日媒': 6137, '獲贈': 6138, '印象': 6139, '年假': 6140, '雙降': 6141, '尾無腦賣': 6142, '除夕': 6143, '謝宏波': 6144, '下車': 6145, '節能': 6146, '資安新': 6147, '年以來近': 6148, '徘徊': 6149, '評析': 6150, '上海市': 6151, '再再': 6152, '台籍': 6153, '敦促': 6154, '智茂': 6155, '錯愕': 6156, '競合': 6157, '超大型': 6158, '放鬆': 6159, '平常心': 6160, '中加稅': 6161, '註冊子': 6162, '前言': 6163, '杏國': 6164, '打炒': 6165, '低度': 6166, '靜默期': 6167, '勢必': 6168, '現雜音': 6169, '半導體股': 6170, '偉創': 6171, '細表': 6172, '威鋒電子': 6173, '有餘': 6174, '約達': 6175, '經法': 6176, '終極': 6177, '隔夜沖': 6178, '安定': 6179, '指數價': 6180, '砍到': 6181, '聞到': 6182, '差點': 6183, '易主': 6184, '龔明鑫': 6185, '傳掉': 6186, '融劵': 6187, '三福化': 6188, '成份股': 6189, '不滿': 6190, '公文': 6191, '這裡': 6192, '興采': 6193, '新設': 6194, '價值型': 6195, '續任為': 6196, '重兵': 6197, '航居冠': 6198, '北印度': 6199, '正元大': 6200, '上千': 6201, '逮捕': 6202, '擬訂': 6203, '介入點': 6204, '利息': 6205, '萬九': 6206, '漢科': 6207, '過長': 6208, '方盜': 6209, '穎崴': 6210, '印媒': 6211, '名人': 6212, '短缺': 6213, '呈現下': 6214, '沒辦法': 6215, '吝嗇': 6216, '昇佳': 6217, '靜待': 6218, '日月光投控': 6219, '自建': 6220, '石化股': 6221, '全新光電': 6222, '紅包': 6223, '艱困期': 6224, '投機性': 6225, '軍令': 6226, '力麒': 6227, '奇癢': 6228, '客製': 6229, '漲於': 6230, '高唱': 6231, '荷包': 6232, '帳號': 6233, '電動車界': 6234, '想到': 6235, '終場收在': 6236, '指教': 6237, '起飛': 6238, '井琪': 6239, '豐碩': 6240, '檔官股': 6241, '功德': 6242, '亞諾法': 6243, '土城': 6244, '值僅': 6245, '全球化': 6246, '網聯': 6247, '換守': 6248, '無畏': 6249, '爆卦': 6250, '跌掉': 6251, '得宜': 6252, '退出': 6253, '遭損': 6254, '休息': 6255, '訣竅': 6256, '碩緯': 6257, '黃柏漙以': 6258, '巴淡島': 6259, '官司': 6260, '跨出': 6261, '認可': 6262, '商聯滔': 6263, '中國會': 6264, '友聯': 6265, '威脅': 6266, '碎滿': 6267, '結論': 6268, '散裝': 6269, '四腳朝天': 6270, '緊連': 6271, '用於': 6272, '研發中心': 6273, '四川': 6274, '落水': 6275, '傻子': 6276, '偉全': 6277, '宏正': 6278, '活期': 6279, '橫向': 6280, '車半': 6281, '對和': 6282, '強強滾': 6283, '盛力': 6284, '平均得分': 6285, '百花齊放': 6286, '表冊': 6287, '分股': 6288, '產協館': 6289, '選拔': 6290, '易華電子': 6291, '高低點': 6292, '台翰': 6293, '發光': 6294, '引響': 6295, '高雄廠': 6296, '同年': 6297, '認罪': 6298, '吳柏緯': 6299, '數千': 6300, '日遭': 6301, '反覆': 6302, '懷特': 6303, '檔權值': 6304, '球賽': 6305, '訪立': 6306, '清倉': 6307, '周報': 6308, '明明': 6309, '監交': 6310, '重跌': 6311, '順天': 6312, '預防性': 6313, '超出': 6314, '吃下': 6315, '電動車廠': 6316, '指數料': 6317, '列出': 6318, '大立光收': 6319, '摸到': 6320, '買宅': 6321, '除以': 6322, '考績': 6323, '高檔區': 6324, '填息率': 6325, '壯大': 6326, '日代': 6327, '爭鳴': 6328, '機器人': 6329, '陣子': 6330, '風度': 6331, '此時': 6332, '一詮': 6333, '透弱': 6334, '屏息': 6335, '點整': 6336, '續升逾': 6337, '延綿': 6338, '相害取其輕': 6339, '某些': 6340, '兆億': 6341, '高城': 6342, '打頭': 6343, '臉綠': 6344, '布蘭特正': 6345, '軍隊': 6346, '水力': 6347, '開竅': 6348, '損抓': 6349, '大哥': 6350, '變負': 6351, '舉措': 6352, '字號': 6353, '共襄盛舉': 6354, '創作': 6355, '宏齊': 6356, '驚喜': 6357, '新案': 6358, '由立訊集團': 6359, '坦言': 6360, '碩傳': 6361, '羅比尼': 6362, '靜態': 6363, '心悅': 6364, '台辦': 6365, '飛車式': 6366, '看至': 6367, '開底': 6368, '涼透': 6369, '富邦深': 6370, '企業型': 6371, '季節': 6372, '差臨門': 6373, '重殺': 6374, '急戰力': 6375, '息前': 6376, '索性': 6377, '出事': 6378, '拉長': 6379, '致力': 6380, '光鼎': 6381, '人物': 6382, '五月天': 6383, '汽油': 6384, '家獎': 6385, '對價': 6386, '龍頭惠普': 6387, '實境': 6388, '遇到': 6389, '外匯': 6390, '機版': 6391, '從頭': 6392, '李焜耀': 6393, '獲利率': 6394, '高油價': 6395, '爭奪戰': 6396, '彭錦彬': 6397, '接下': 6398, '搶回': 6399, '曜越': 6400, '認同': 6401, '探近': 6402, '持續不振': 6403, '石化業': 6404, '難得': 6405, '貼出': 6406, '獨攬': 6407, '美貿': 6408, '周卡位': 6409, '全力': 6410, '保全': 6411, '復失': 6412, '限額': 6413, '機櫃': 6414, '帳列': 6415, '卅萬': 6416, '四分之一': 6417, '戰影': 6418, '電價': 6419, '雅茗': 6420, '互動': 6421, '卅八萬多': 6422, '異業': 6423, '不休假': 6424, '當選名': 6425, '急著': 6426, '引起': 6427, '弘憶股': 6428, '緊密': 6429, '缺得': 6430, '千興': 6431, '從前': 6432, '馬斯克': 6433, '漢威聯合等': 6434, '戰破': 6435, '審議': 6436, '減輕': 6437, '減約': 6438, '張郁禮': 6439, '大東': 6440, '層出': 6441, '磁性': 6442, '南盾': 6443, '戒嚴': 6444, '跌量增': 6445, '失利': 6446, '打帶跑': 6447, '衍生': 6448, '民生': 6449, '陽明法': 6450, '卸任': 6451, '共通': 6452, '廖泰翔': 6453, '中電': 6454, '工時': 6455, '出發': 6456, '勞動部': 6457, '大器': 6458, '一級': 6459, '發燙': 6460, '頁鍵': 6461, '碗公': 6462, '今晚': 6463, '元兌': 6464, '旗下車': 6465, '多扶': 6466, '產品面': 6467, '時值': 6468, '先生': 6469, '費用': 6470, '年持平': 6471, '雙虎不同調': 6472, '新高點': 6473, '那照理': 6474, '特定': 6475, '阿拉巴馬': 6476, '罕見': 6477, '基亞': 6478, '壟罩': 6479, '剔除': 6480, '勢力': 6481, '提名': 6482, '柳繼剛': 6483, '月領頭': 6484, '蘇州市': 6485, '況且': 6486, '縮表': 6487, '大洞': 6488, '天國一輝': 6489, '精心': 6490, '故障': 6491, '急用': 6492, '提列': 6493, '手中': 6494, '買賣中心': 6495, '號角': 6496, '進而': 6497, '韋德齊': 6498, '買合計達': 6499, '得標': 6500, '儀器': 6501, '銀髮產協館': 6502, '按鍵式': 6503, '石化': 6504, '買到': 6505, '高雄晶': 6506, '交錯': 6507, '家庭': 6508, '營業稅': 6509, '處長段': 6510, '前後': 6511, '內需型': 6512, '晶片門': 6513, '要角': 6514, '席話': 6515, '打光': 6516, '川粉': 6517, '車子': 6518, '周日': 6519, '經信委': 6520, '橋椿': 6521, '貼近': 6522, '加於': 6523, '滿載': 6524, '迅猛': 6525, '無誤': 6526, '數從': 6527, '工資': 6528, '重地': 6529, '難關': 6530, '下半': 6531, '拋售': 6532, '振作': 6533, '退回': 6534, '議院': 6535, '商聲': 6536, '合計達': 6537, '功率': 6538, '年增約': 6539, '認養股': 6540, '轉賣創': 6541, '戴玉翔': 6542, '冠疫苗': 6543, '捷克參議院': 6544, '一兩': 6545, '威建': 6546, '失業': 6547, '收中': 6548, '佳穎': 6549, '用品': 6550, '費和': 6551, '立院': 6552, '任正非': 6553, '上膛': 6554, '路線': 6555, '退可守': 6556, '迸出': 6557, '薪水': 6558, '陷牛步': 6559, '拉上': 6560, '中途': 6561, '鈞寶': 6562, '中國廠': 6563, '唬爛': 6564, '下緣': 6565, '附加': 6566, '禾昌': 6567, '載板': 6568, '董座力': 6569, '薩普爾': 6570, '周末': 6571, '電量': 6572, '功能性': 6573, '元附近': 6574, '多點': 6575, '應變': 6576, '走完': 6577, '相抗': 6578, '跌約': 6579, '座廠': 6580, '埋好': 6581, '南亞電': 6582, '難怪': 6583, '邢陳震崙': 6584, '截圖': 6585, '億挺進': 6586, '股值': 6587, '所謂': 6588, '進退場': 6589, '轉進': 6590, '超金': 6591, '睽違': 6592, '電信股': 6593, '貼文': 6594, '國道瓊': 6595, '進行式': 6596, '資高價': 6597, '船運': 6598, '查明': 6599, '運動家': 6600, '走緩': 6601, '等等': 6602, '動支': 6603, '搶訂單': 6604, '檢測': 6605, '人股': 6606, '獨黑': 6607, '恐凶多吉少': 6608, '零件廠': 6609, '沖強': 6610, '大紅': 6611, '分拆': 6612, '潛在': 6613, '日本政府': 6614, '串沉': 6615, '傳美': 6616, '日金': 6617, '受缺': 6618, '雜音不斷': 6619, '咫尺': 6620, '李若雯': 6621, '分居二': 6622, '機殼廠': 6623, '牛皮存股': 6624, '妥善': 6625, '近平': 6626, '致茂康和': 6627, '雲達': 6628, '清奈市': 6629, '產出': 6630, '千計': 6631, '情境': 6632, '永捷': 6633, '燒燙': 6634, '金虎': 6635, '共同社': 6636, '淨多': 6637, '現身': 6638, '司法': 6639, '心力': 6640, '沖淡': 6641, '部桃': 6642, '登記': 6643, '栽培': 6644, '留守': 6645, '防禦性': 6646, '出海': 6647, '說報': 6648, '料源': 6649, '沈書緯': 6650, '搭機': 6651, '瑞信': 6652, '註記': 6653, '站台': 6654, '中多頭急': 6655, '減至': 6656, '開幕': 6657, '參考價': 6658, '盈虧': 6659, '為之': 6660, '李鈺': 6661, '看旺': 6662, '韓大廠': 6663, '林宛儀': 6664, '天鵝': 6665, '漲完': 6666, '舜宇': 6667, '抓住': 6668, '澄清': 6669, '雙鴻': 6670, '大舉鎖': 6671, '狂增': 6672, '德律': 6673, '值從': 6674, '變革年': 6675, '賣超力道': 6676, '好處': 6677, '預見': 6678, '上去': 6679, '助益': 6680, '趕快': 6681, '聯展': 6682, '蒐羅': 6683, '予立訊': 6684, '指控': 6685, '為宜': 6686, '窘境': 6687, '續買': 6688, '臺捷': 6689, '小忙': 6690, '波動率': 6691, '叩關': 6692, '失望': 6693, '公眾': 6694, '簡學仁': 6695, '外包': 6696, '連續性': 6697, '切換': 6698, '美下達': 6699, '歐淑芳夫': 6700, '菱光': 6701, '兆美元': 6702, '詳細': 6703, '道瓊工業': 6704, '倉庫': 6705, '張緯創': 6706, '眼看': 6707, '可達': 6708, '服務廠商': 6709, '高高': 6710, '觸控': 6711, '蔡明彥': 6712, '期滿': 6713, '開樓': 6714, '一方面': 6715, '永績': 6716, '第十三': 6717, '口罩股': 6718, '造就': 6719, '月中': 6720, '引立': 6721, '套利息': 6722, '遠端': 6723, '走軟': 6724, '華祺': 6725, '為真': 6726, '老鼠': 6727, '延宕': 6728, '整期': 6729, '賠掉': 6730, '台積法': 6731, '主因為': 6732, '停板': 6733, '美國政府': 6734, '董事酬營': 6735, '富鼎漲停': 6736, '儲蓄': 6737, '湧進': 6738, '中共': 6739, '競逐': 6740, '任日': 6741, '台開': 6742, '席一般': 6743, '轉交給': 6744, '印度諾伊達': 6745, '周周漲': 6746}\n",
      "6747\n"
     ]
    }
   ],
   "source": [
    "all_term = list(term_dict['up'])+list(term_dict['down'])\n",
    "vocab={} #用於建立向量空間模型\n",
    "\n",
    "for idx, term in enumerate(all_term):\n",
    "    vocab[term] = idx\n",
    "print(vocab)\n",
    "print(len(vocab))"
   ]
  },
  {
   "attachments": {},
   "cell_type": "markdown",
   "metadata": {},
   "source": [
    "### Step15.建立向量空間模型"
   ]
  },
  {
   "cell_type": "code",
   "execution_count": null,
   "metadata": {},
   "outputs": [],
   "source": [
    "print(content)"
   ]
  },
  {
   "cell_type": "code",
   "execution_count": 33,
   "metadata": {},
   "outputs": [
    {
     "data": {
      "text/plain": [
       "<1921x6747 sparse matrix of type '<class 'numpy.float64'>'\n",
       "\twith 12036 stored elements in Compressed Sparse Row format>"
      ]
     },
     "execution_count": 33,
     "metadata": {},
     "output_type": "execute_result"
    }
   ],
   "source": [
    "from sklearn.feature_extraction.text import TfidfVectorizer\n",
    "vectorizer = TfidfVectorizer(vocabulary = vocab, use_idf = True) #用給定的termset建構向量，並使用idf加權\n",
    "X = vectorizer.fit_transform(content) #用給定的文件集做計算\n",
    "X"
   ]
  },
  {
   "cell_type": "code",
   "execution_count": 34,
   "metadata": {},
   "outputs": [],
   "source": [
    "from scipy import sparse\n",
    "sparse.save_npz(\"Group3_wistron.npz\", X) #寫入整個稀疏矩陣"
   ]
  },
  {
   "cell_type": "code",
   "execution_count": 35,
   "metadata": {},
   "outputs": [],
   "source": [
    "from scipy import sparse\n",
    "X = sparse.load_npz(\"Group3_wistron.npz\") #讀入稀疏矩陣"
   ]
  },
  {
   "attachments": {},
   "cell_type": "markdown",
   "metadata": {},
   "source": [
    "### Remove Stopwords & Use Chi2"
   ]
  },
  {
   "cell_type": "code",
   "execution_count": 36,
   "metadata": {},
   "outputs": [
    {
     "name": "stderr",
     "output_type": "stream",
     "text": [
      "c:\\ProgramData\\Anaconda3\\lib\\site-packages\\sklearn\\feature_extraction\\text.py:396: UserWarning: Your stop_words may be inconsistent with your preprocessing. Tokenizing the stop words generated tokens ['lex', '①①', '①②', '①③', '①④', '①⑤', '①⑥', '①⑦', '①⑧', '①⑨', '①ａ', '①ｂ', '①ｃ', '①ｄ', '①ｅ', '①ｆ', '①ｇ', '①ｈ', '①ｉ', '①ｏ', '②①', '②②', '②③', '②④', '②⑤', '②⑥', '②⑦', '②⑧', '②⑩', '②ａ', '②ｂ', '②ｄ', '②ｅ', '②ｆ', '②ｇ', '②ｈ', '②ｉ', '②ｊ', '③①', '③⑩', '③ａ', '③ｂ', '③ｃ', '③ｄ', '③ｅ', '③ｆ', '③ｇ', '③ｈ', '④ａ', '④ｂ', '④ｃ', '④ｄ', '④ｅ', '⑤ａ', '⑤ｂ', '⑤ｄ', '⑤ｅ', '⑤ｆ', '１２', 'ｌｉ', 'ｚｘｆｉｔｌ'] not in stop_words.\n",
      "  warnings.warn(\n",
      "c:\\ProgramData\\Anaconda3\\lib\\site-packages\\sklearn\\utils\\deprecation.py:87: FutureWarning: Function get_feature_names is deprecated; get_feature_names is deprecated in 1.0 and will be removed in 1.2. Please use get_feature_names_out instead.\n",
      "  warnings.warn(msg, category=FutureWarning)\n"
     ]
    },
    {
     "data": {
      "text/html": [
       "<div>\n",
       "<style scoped>\n",
       "    .dataframe tbody tr th:only-of-type {\n",
       "        vertical-align: middle;\n",
       "    }\n",
       "\n",
       "    .dataframe tbody tr th {\n",
       "        vertical-align: top;\n",
       "    }\n",
       "\n",
       "    .dataframe thead th {\n",
       "        text-align: right;\n",
       "    }\n",
       "</style>\n",
       "<table border=\"1\" class=\"dataframe\">\n",
       "  <thead>\n",
       "    <tr style=\"text-align: right;\">\n",
       "      <th></th>\n",
       "      <th>一世代</th>\n",
       "      <th>一九</th>\n",
       "      <th>一億</th>\n",
       "      <th>一再</th>\n",
       "      <th>一千</th>\n",
       "      <th>一千萬</th>\n",
       "      <th>一半</th>\n",
       "      <th>一口</th>\n",
       "      <th>一口氣</th>\n",
       "      <th>一同</th>\n",
       "      <th>...</th>\n",
       "      <th>龍彩霖</th>\n",
       "      <th>龍燈</th>\n",
       "      <th>龍頭</th>\n",
       "      <th>龍頭台積電</th>\n",
       "      <th>龍頭廠</th>\n",
       "      <th>龍頭惠普</th>\n",
       "      <th>龍頭股</th>\n",
       "      <th>龐大</th>\n",
       "      <th>龔明鑫</th>\n",
       "      <th>龜速</th>\n",
       "    </tr>\n",
       "  </thead>\n",
       "  <tbody>\n",
       "    <tr>\n",
       "      <th>0</th>\n",
       "      <td>0.0</td>\n",
       "      <td>0.0</td>\n",
       "      <td>0.0</td>\n",
       "      <td>0.0</td>\n",
       "      <td>0.0</td>\n",
       "      <td>0.0</td>\n",
       "      <td>0.0</td>\n",
       "      <td>0.0</td>\n",
       "      <td>0.0</td>\n",
       "      <td>0.0</td>\n",
       "      <td>...</td>\n",
       "      <td>0.0</td>\n",
       "      <td>0.0</td>\n",
       "      <td>0.0</td>\n",
       "      <td>0.0</td>\n",
       "      <td>0.0</td>\n",
       "      <td>0.0</td>\n",
       "      <td>0.0</td>\n",
       "      <td>0.0</td>\n",
       "      <td>0.0</td>\n",
       "      <td>0.0</td>\n",
       "    </tr>\n",
       "    <tr>\n",
       "      <th>1</th>\n",
       "      <td>0.0</td>\n",
       "      <td>0.0</td>\n",
       "      <td>0.0</td>\n",
       "      <td>0.0</td>\n",
       "      <td>0.0</td>\n",
       "      <td>0.0</td>\n",
       "      <td>0.0</td>\n",
       "      <td>0.0</td>\n",
       "      <td>0.0</td>\n",
       "      <td>0.0</td>\n",
       "      <td>...</td>\n",
       "      <td>0.0</td>\n",
       "      <td>0.0</td>\n",
       "      <td>0.0</td>\n",
       "      <td>0.0</td>\n",
       "      <td>0.0</td>\n",
       "      <td>0.0</td>\n",
       "      <td>0.0</td>\n",
       "      <td>0.0</td>\n",
       "      <td>0.0</td>\n",
       "      <td>0.0</td>\n",
       "    </tr>\n",
       "    <tr>\n",
       "      <th>2</th>\n",
       "      <td>0.0</td>\n",
       "      <td>0.0</td>\n",
       "      <td>0.0</td>\n",
       "      <td>0.0</td>\n",
       "      <td>0.0</td>\n",
       "      <td>0.0</td>\n",
       "      <td>0.0</td>\n",
       "      <td>0.0</td>\n",
       "      <td>0.0</td>\n",
       "      <td>0.0</td>\n",
       "      <td>...</td>\n",
       "      <td>0.0</td>\n",
       "      <td>0.0</td>\n",
       "      <td>0.0</td>\n",
       "      <td>0.0</td>\n",
       "      <td>0.0</td>\n",
       "      <td>0.0</td>\n",
       "      <td>0.0</td>\n",
       "      <td>0.0</td>\n",
       "      <td>0.0</td>\n",
       "      <td>0.0</td>\n",
       "    </tr>\n",
       "    <tr>\n",
       "      <th>3</th>\n",
       "      <td>0.0</td>\n",
       "      <td>0.0</td>\n",
       "      <td>0.0</td>\n",
       "      <td>0.0</td>\n",
       "      <td>0.0</td>\n",
       "      <td>0.0</td>\n",
       "      <td>0.0</td>\n",
       "      <td>0.0</td>\n",
       "      <td>0.0</td>\n",
       "      <td>0.0</td>\n",
       "      <td>...</td>\n",
       "      <td>0.0</td>\n",
       "      <td>0.0</td>\n",
       "      <td>0.0</td>\n",
       "      <td>0.0</td>\n",
       "      <td>0.0</td>\n",
       "      <td>0.0</td>\n",
       "      <td>0.0</td>\n",
       "      <td>0.0</td>\n",
       "      <td>0.0</td>\n",
       "      <td>0.0</td>\n",
       "    </tr>\n",
       "    <tr>\n",
       "      <th>4</th>\n",
       "      <td>0.0</td>\n",
       "      <td>0.0</td>\n",
       "      <td>0.0</td>\n",
       "      <td>0.0</td>\n",
       "      <td>0.0</td>\n",
       "      <td>0.0</td>\n",
       "      <td>0.0</td>\n",
       "      <td>0.0</td>\n",
       "      <td>0.0</td>\n",
       "      <td>0.0</td>\n",
       "      <td>...</td>\n",
       "      <td>0.0</td>\n",
       "      <td>0.0</td>\n",
       "      <td>0.0</td>\n",
       "      <td>0.0</td>\n",
       "      <td>0.0</td>\n",
       "      <td>0.0</td>\n",
       "      <td>0.0</td>\n",
       "      <td>0.0</td>\n",
       "      <td>0.0</td>\n",
       "      <td>0.0</td>\n",
       "    </tr>\n",
       "    <tr>\n",
       "      <th>...</th>\n",
       "      <td>...</td>\n",
       "      <td>...</td>\n",
       "      <td>...</td>\n",
       "      <td>...</td>\n",
       "      <td>...</td>\n",
       "      <td>...</td>\n",
       "      <td>...</td>\n",
       "      <td>...</td>\n",
       "      <td>...</td>\n",
       "      <td>...</td>\n",
       "      <td>...</td>\n",
       "      <td>...</td>\n",
       "      <td>...</td>\n",
       "      <td>...</td>\n",
       "      <td>...</td>\n",
       "      <td>...</td>\n",
       "      <td>...</td>\n",
       "      <td>...</td>\n",
       "      <td>...</td>\n",
       "      <td>...</td>\n",
       "      <td>...</td>\n",
       "    </tr>\n",
       "    <tr>\n",
       "      <th>1916</th>\n",
       "      <td>0.0</td>\n",
       "      <td>0.0</td>\n",
       "      <td>0.0</td>\n",
       "      <td>0.0</td>\n",
       "      <td>0.0</td>\n",
       "      <td>0.0</td>\n",
       "      <td>0.0</td>\n",
       "      <td>0.0</td>\n",
       "      <td>0.0</td>\n",
       "      <td>0.0</td>\n",
       "      <td>...</td>\n",
       "      <td>0.0</td>\n",
       "      <td>0.0</td>\n",
       "      <td>0.0</td>\n",
       "      <td>0.0</td>\n",
       "      <td>0.0</td>\n",
       "      <td>0.0</td>\n",
       "      <td>0.0</td>\n",
       "      <td>0.0</td>\n",
       "      <td>0.0</td>\n",
       "      <td>0.0</td>\n",
       "    </tr>\n",
       "    <tr>\n",
       "      <th>1917</th>\n",
       "      <td>0.0</td>\n",
       "      <td>0.0</td>\n",
       "      <td>0.0</td>\n",
       "      <td>0.0</td>\n",
       "      <td>0.0</td>\n",
       "      <td>0.0</td>\n",
       "      <td>0.0</td>\n",
       "      <td>0.0</td>\n",
       "      <td>0.0</td>\n",
       "      <td>0.0</td>\n",
       "      <td>...</td>\n",
       "      <td>0.0</td>\n",
       "      <td>0.0</td>\n",
       "      <td>0.0</td>\n",
       "      <td>0.0</td>\n",
       "      <td>0.0</td>\n",
       "      <td>0.0</td>\n",
       "      <td>0.0</td>\n",
       "      <td>0.0</td>\n",
       "      <td>0.0</td>\n",
       "      <td>0.0</td>\n",
       "    </tr>\n",
       "    <tr>\n",
       "      <th>1918</th>\n",
       "      <td>0.0</td>\n",
       "      <td>0.0</td>\n",
       "      <td>0.0</td>\n",
       "      <td>0.0</td>\n",
       "      <td>0.0</td>\n",
       "      <td>0.0</td>\n",
       "      <td>0.0</td>\n",
       "      <td>0.0</td>\n",
       "      <td>0.0</td>\n",
       "      <td>0.0</td>\n",
       "      <td>...</td>\n",
       "      <td>0.0</td>\n",
       "      <td>0.0</td>\n",
       "      <td>0.0</td>\n",
       "      <td>0.0</td>\n",
       "      <td>0.0</td>\n",
       "      <td>0.0</td>\n",
       "      <td>0.0</td>\n",
       "      <td>0.0</td>\n",
       "      <td>0.0</td>\n",
       "      <td>0.0</td>\n",
       "    </tr>\n",
       "    <tr>\n",
       "      <th>1919</th>\n",
       "      <td>0.0</td>\n",
       "      <td>0.0</td>\n",
       "      <td>0.0</td>\n",
       "      <td>0.0</td>\n",
       "      <td>0.0</td>\n",
       "      <td>0.0</td>\n",
       "      <td>0.0</td>\n",
       "      <td>0.0</td>\n",
       "      <td>0.0</td>\n",
       "      <td>0.0</td>\n",
       "      <td>...</td>\n",
       "      <td>0.0</td>\n",
       "      <td>0.0</td>\n",
       "      <td>0.0</td>\n",
       "      <td>0.0</td>\n",
       "      <td>0.0</td>\n",
       "      <td>0.0</td>\n",
       "      <td>0.0</td>\n",
       "      <td>0.0</td>\n",
       "      <td>0.0</td>\n",
       "      <td>0.0</td>\n",
       "    </tr>\n",
       "    <tr>\n",
       "      <th>1920</th>\n",
       "      <td>0.0</td>\n",
       "      <td>0.0</td>\n",
       "      <td>0.0</td>\n",
       "      <td>0.0</td>\n",
       "      <td>0.0</td>\n",
       "      <td>0.0</td>\n",
       "      <td>0.0</td>\n",
       "      <td>0.0</td>\n",
       "      <td>0.0</td>\n",
       "      <td>0.0</td>\n",
       "      <td>...</td>\n",
       "      <td>0.0</td>\n",
       "      <td>0.0</td>\n",
       "      <td>0.0</td>\n",
       "      <td>0.0</td>\n",
       "      <td>0.0</td>\n",
       "      <td>0.0</td>\n",
       "      <td>0.0</td>\n",
       "      <td>0.0</td>\n",
       "      <td>0.0</td>\n",
       "      <td>0.0</td>\n",
       "    </tr>\n",
       "  </tbody>\n",
       "</table>\n",
       "<p>1921 rows × 10754 columns</p>\n",
       "</div>"
      ],
      "text/plain": [
       "      一世代   一九   一億   一再   一千  一千萬   一半   一口  一口氣   一同  ...  龍彩霖   龍燈   龍頭  \\\n",
       "0     0.0  0.0  0.0  0.0  0.0  0.0  0.0  0.0  0.0  0.0  ...  0.0  0.0  0.0   \n",
       "1     0.0  0.0  0.0  0.0  0.0  0.0  0.0  0.0  0.0  0.0  ...  0.0  0.0  0.0   \n",
       "2     0.0  0.0  0.0  0.0  0.0  0.0  0.0  0.0  0.0  0.0  ...  0.0  0.0  0.0   \n",
       "3     0.0  0.0  0.0  0.0  0.0  0.0  0.0  0.0  0.0  0.0  ...  0.0  0.0  0.0   \n",
       "4     0.0  0.0  0.0  0.0  0.0  0.0  0.0  0.0  0.0  0.0  ...  0.0  0.0  0.0   \n",
       "...   ...  ...  ...  ...  ...  ...  ...  ...  ...  ...  ...  ...  ...  ...   \n",
       "1916  0.0  0.0  0.0  0.0  0.0  0.0  0.0  0.0  0.0  0.0  ...  0.0  0.0  0.0   \n",
       "1917  0.0  0.0  0.0  0.0  0.0  0.0  0.0  0.0  0.0  0.0  ...  0.0  0.0  0.0   \n",
       "1918  0.0  0.0  0.0  0.0  0.0  0.0  0.0  0.0  0.0  0.0  ...  0.0  0.0  0.0   \n",
       "1919  0.0  0.0  0.0  0.0  0.0  0.0  0.0  0.0  0.0  0.0  ...  0.0  0.0  0.0   \n",
       "1920  0.0  0.0  0.0  0.0  0.0  0.0  0.0  0.0  0.0  0.0  ...  0.0  0.0  0.0   \n",
       "\n",
       "      龍頭台積電  龍頭廠  龍頭惠普  龍頭股   龐大  龔明鑫   龜速  \n",
       "0       0.0  0.0   0.0  0.0  0.0  0.0  0.0  \n",
       "1       0.0  0.0   0.0  0.0  0.0  0.0  0.0  \n",
       "2       0.0  0.0   0.0  0.0  0.0  0.0  0.0  \n",
       "3       0.0  0.0   0.0  0.0  0.0  0.0  0.0  \n",
       "4       0.0  0.0   0.0  0.0  0.0  0.0  0.0  \n",
       "...     ...  ...   ...  ...  ...  ...  ...  \n",
       "1916    0.0  0.0   0.0  0.0  0.0  0.0  0.0  \n",
       "1917    0.0  0.0   0.0  0.0  0.0  0.0  0.0  \n",
       "1918    0.0  0.0   0.0  0.0  0.0  0.0  0.0  \n",
       "1919    0.0  0.0   0.0  0.0  0.0  0.0  0.0  \n",
       "1920    0.0  0.0   0.0  0.0  0.0  0.0  0.0  \n",
       "\n",
       "[1921 rows x 10754 columns]"
      ]
     },
     "execution_count": 36,
     "metadata": {},
     "output_type": "execute_result"
    }
   ],
   "source": [
    "with open('stopwords_zh.txt', 'r') as file:\n",
    "    stopwords = file.read().splitlines() \n",
    "file.close()\n",
    "\n",
    "vectorizer = TfidfVectorizer(stop_words=stopwords)\n",
    "X_train = vectorizer.fit_transform(content)\n",
    "X_train = pd.DataFrame(X_train.toarray(),columns=vectorizer.get_feature_names())\n",
    "X_train"
   ]
  },
  {
   "cell_type": "code",
   "execution_count": 37,
   "metadata": {},
   "outputs": [
    {
     "data": {
      "text/html": [
       "<div>\n",
       "<style scoped>\n",
       "    .dataframe tbody tr th:only-of-type {\n",
       "        vertical-align: middle;\n",
       "    }\n",
       "\n",
       "    .dataframe tbody tr th {\n",
       "        vertical-align: top;\n",
       "    }\n",
       "\n",
       "    .dataframe thead th {\n",
       "        text-align: right;\n",
       "    }\n",
       "</style>\n",
       "<table border=\"1\" class=\"dataframe\">\n",
       "  <thead>\n",
       "    <tr style=\"text-align: right;\">\n",
       "      <th></th>\n",
       "      <th>一千萬</th>\n",
       "      <th>一半</th>\n",
       "      <th>一同</th>\n",
       "      <th>一城</th>\n",
       "      <th>一展</th>\n",
       "      <th>一峰</th>\n",
       "      <th>一己之力</th>\n",
       "      <th>一年</th>\n",
       "      <th>一度</th>\n",
       "      <th>一斑</th>\n",
       "      <th>...</th>\n",
       "      <th>鼓勵原文</th>\n",
       "      <th>齊揚</th>\n",
       "      <th>齊放</th>\n",
       "      <th>齊格</th>\n",
       "      <th>龍燈</th>\n",
       "      <th>龍頭台積電</th>\n",
       "      <th>龍頭廠</th>\n",
       "      <th>龍頭惠普</th>\n",
       "      <th>龐大</th>\n",
       "      <th>龔明鑫</th>\n",
       "    </tr>\n",
       "  </thead>\n",
       "  <tbody>\n",
       "    <tr>\n",
       "      <th>0</th>\n",
       "      <td>0.0</td>\n",
       "      <td>0.0</td>\n",
       "      <td>0.0</td>\n",
       "      <td>0.0</td>\n",
       "      <td>0.0</td>\n",
       "      <td>0.0</td>\n",
       "      <td>0.0</td>\n",
       "      <td>0.0</td>\n",
       "      <td>0.0</td>\n",
       "      <td>0.0</td>\n",
       "      <td>...</td>\n",
       "      <td>0.0</td>\n",
       "      <td>0.0</td>\n",
       "      <td>0.0</td>\n",
       "      <td>0.0</td>\n",
       "      <td>0.0</td>\n",
       "      <td>0.0</td>\n",
       "      <td>0.0</td>\n",
       "      <td>0.0</td>\n",
       "      <td>0.0</td>\n",
       "      <td>0.0</td>\n",
       "    </tr>\n",
       "    <tr>\n",
       "      <th>1</th>\n",
       "      <td>0.0</td>\n",
       "      <td>0.0</td>\n",
       "      <td>0.0</td>\n",
       "      <td>0.0</td>\n",
       "      <td>0.0</td>\n",
       "      <td>0.0</td>\n",
       "      <td>0.0</td>\n",
       "      <td>0.0</td>\n",
       "      <td>0.0</td>\n",
       "      <td>0.0</td>\n",
       "      <td>...</td>\n",
       "      <td>0.0</td>\n",
       "      <td>0.0</td>\n",
       "      <td>0.0</td>\n",
       "      <td>0.0</td>\n",
       "      <td>0.0</td>\n",
       "      <td>0.0</td>\n",
       "      <td>0.0</td>\n",
       "      <td>0.0</td>\n",
       "      <td>0.0</td>\n",
       "      <td>0.0</td>\n",
       "    </tr>\n",
       "    <tr>\n",
       "      <th>2</th>\n",
       "      <td>0.0</td>\n",
       "      <td>0.0</td>\n",
       "      <td>0.0</td>\n",
       "      <td>0.0</td>\n",
       "      <td>0.0</td>\n",
       "      <td>0.0</td>\n",
       "      <td>0.0</td>\n",
       "      <td>0.0</td>\n",
       "      <td>0.0</td>\n",
       "      <td>0.0</td>\n",
       "      <td>...</td>\n",
       "      <td>0.0</td>\n",
       "      <td>0.0</td>\n",
       "      <td>0.0</td>\n",
       "      <td>0.0</td>\n",
       "      <td>0.0</td>\n",
       "      <td>0.0</td>\n",
       "      <td>0.0</td>\n",
       "      <td>0.0</td>\n",
       "      <td>0.0</td>\n",
       "      <td>0.0</td>\n",
       "    </tr>\n",
       "    <tr>\n",
       "      <th>3</th>\n",
       "      <td>0.0</td>\n",
       "      <td>0.0</td>\n",
       "      <td>0.0</td>\n",
       "      <td>0.0</td>\n",
       "      <td>0.0</td>\n",
       "      <td>0.0</td>\n",
       "      <td>0.0</td>\n",
       "      <td>0.0</td>\n",
       "      <td>0.0</td>\n",
       "      <td>0.0</td>\n",
       "      <td>...</td>\n",
       "      <td>0.0</td>\n",
       "      <td>0.0</td>\n",
       "      <td>0.0</td>\n",
       "      <td>0.0</td>\n",
       "      <td>0.0</td>\n",
       "      <td>0.0</td>\n",
       "      <td>0.0</td>\n",
       "      <td>0.0</td>\n",
       "      <td>0.0</td>\n",
       "      <td>0.0</td>\n",
       "    </tr>\n",
       "    <tr>\n",
       "      <th>4</th>\n",
       "      <td>0.0</td>\n",
       "      <td>0.0</td>\n",
       "      <td>0.0</td>\n",
       "      <td>0.0</td>\n",
       "      <td>0.0</td>\n",
       "      <td>0.0</td>\n",
       "      <td>0.0</td>\n",
       "      <td>0.0</td>\n",
       "      <td>0.0</td>\n",
       "      <td>0.0</td>\n",
       "      <td>...</td>\n",
       "      <td>0.0</td>\n",
       "      <td>0.0</td>\n",
       "      <td>0.0</td>\n",
       "      <td>0.0</td>\n",
       "      <td>0.0</td>\n",
       "      <td>0.0</td>\n",
       "      <td>0.0</td>\n",
       "      <td>0.0</td>\n",
       "      <td>0.0</td>\n",
       "      <td>0.0</td>\n",
       "    </tr>\n",
       "    <tr>\n",
       "      <th>...</th>\n",
       "      <td>...</td>\n",
       "      <td>...</td>\n",
       "      <td>...</td>\n",
       "      <td>...</td>\n",
       "      <td>...</td>\n",
       "      <td>...</td>\n",
       "      <td>...</td>\n",
       "      <td>...</td>\n",
       "      <td>...</td>\n",
       "      <td>...</td>\n",
       "      <td>...</td>\n",
       "      <td>...</td>\n",
       "      <td>...</td>\n",
       "      <td>...</td>\n",
       "      <td>...</td>\n",
       "      <td>...</td>\n",
       "      <td>...</td>\n",
       "      <td>...</td>\n",
       "      <td>...</td>\n",
       "      <td>...</td>\n",
       "      <td>...</td>\n",
       "    </tr>\n",
       "    <tr>\n",
       "      <th>1916</th>\n",
       "      <td>0.0</td>\n",
       "      <td>0.0</td>\n",
       "      <td>0.0</td>\n",
       "      <td>0.0</td>\n",
       "      <td>0.0</td>\n",
       "      <td>0.0</td>\n",
       "      <td>0.0</td>\n",
       "      <td>0.0</td>\n",
       "      <td>0.0</td>\n",
       "      <td>0.0</td>\n",
       "      <td>...</td>\n",
       "      <td>0.0</td>\n",
       "      <td>0.0</td>\n",
       "      <td>0.0</td>\n",
       "      <td>0.0</td>\n",
       "      <td>0.0</td>\n",
       "      <td>0.0</td>\n",
       "      <td>0.0</td>\n",
       "      <td>0.0</td>\n",
       "      <td>0.0</td>\n",
       "      <td>0.0</td>\n",
       "    </tr>\n",
       "    <tr>\n",
       "      <th>1917</th>\n",
       "      <td>0.0</td>\n",
       "      <td>0.0</td>\n",
       "      <td>0.0</td>\n",
       "      <td>0.0</td>\n",
       "      <td>0.0</td>\n",
       "      <td>0.0</td>\n",
       "      <td>0.0</td>\n",
       "      <td>0.0</td>\n",
       "      <td>0.0</td>\n",
       "      <td>0.0</td>\n",
       "      <td>...</td>\n",
       "      <td>0.0</td>\n",
       "      <td>0.0</td>\n",
       "      <td>0.0</td>\n",
       "      <td>0.0</td>\n",
       "      <td>0.0</td>\n",
       "      <td>0.0</td>\n",
       "      <td>0.0</td>\n",
       "      <td>0.0</td>\n",
       "      <td>0.0</td>\n",
       "      <td>0.0</td>\n",
       "    </tr>\n",
       "    <tr>\n",
       "      <th>1918</th>\n",
       "      <td>0.0</td>\n",
       "      <td>0.0</td>\n",
       "      <td>0.0</td>\n",
       "      <td>0.0</td>\n",
       "      <td>0.0</td>\n",
       "      <td>0.0</td>\n",
       "      <td>0.0</td>\n",
       "      <td>0.0</td>\n",
       "      <td>0.0</td>\n",
       "      <td>0.0</td>\n",
       "      <td>...</td>\n",
       "      <td>0.0</td>\n",
       "      <td>0.0</td>\n",
       "      <td>0.0</td>\n",
       "      <td>0.0</td>\n",
       "      <td>0.0</td>\n",
       "      <td>0.0</td>\n",
       "      <td>0.0</td>\n",
       "      <td>0.0</td>\n",
       "      <td>0.0</td>\n",
       "      <td>0.0</td>\n",
       "    </tr>\n",
       "    <tr>\n",
       "      <th>1919</th>\n",
       "      <td>0.0</td>\n",
       "      <td>0.0</td>\n",
       "      <td>0.0</td>\n",
       "      <td>0.0</td>\n",
       "      <td>0.0</td>\n",
       "      <td>0.0</td>\n",
       "      <td>0.0</td>\n",
       "      <td>0.0</td>\n",
       "      <td>0.0</td>\n",
       "      <td>0.0</td>\n",
       "      <td>...</td>\n",
       "      <td>0.0</td>\n",
       "      <td>0.0</td>\n",
       "      <td>0.0</td>\n",
       "      <td>0.0</td>\n",
       "      <td>0.0</td>\n",
       "      <td>0.0</td>\n",
       "      <td>0.0</td>\n",
       "      <td>0.0</td>\n",
       "      <td>0.0</td>\n",
       "      <td>0.0</td>\n",
       "    </tr>\n",
       "    <tr>\n",
       "      <th>1920</th>\n",
       "      <td>0.0</td>\n",
       "      <td>0.0</td>\n",
       "      <td>0.0</td>\n",
       "      <td>0.0</td>\n",
       "      <td>0.0</td>\n",
       "      <td>0.0</td>\n",
       "      <td>0.0</td>\n",
       "      <td>0.0</td>\n",
       "      <td>0.0</td>\n",
       "      <td>0.0</td>\n",
       "      <td>...</td>\n",
       "      <td>0.0</td>\n",
       "      <td>0.0</td>\n",
       "      <td>0.0</td>\n",
       "      <td>0.0</td>\n",
       "      <td>0.0</td>\n",
       "      <td>0.0</td>\n",
       "      <td>0.0</td>\n",
       "      <td>0.0</td>\n",
       "      <td>0.0</td>\n",
       "      <td>0.0</td>\n",
       "    </tr>\n",
       "  </tbody>\n",
       "</table>\n",
       "<p>1921 rows × 5000 columns</p>\n",
       "</div>"
      ],
      "text/plain": [
       "      一千萬   一半   一同   一城   一展   一峰  一己之力   一年   一度   一斑  ...  鼓勵原文   齊揚   齊放  \\\n",
       "0     0.0  0.0  0.0  0.0  0.0  0.0   0.0  0.0  0.0  0.0  ...   0.0  0.0  0.0   \n",
       "1     0.0  0.0  0.0  0.0  0.0  0.0   0.0  0.0  0.0  0.0  ...   0.0  0.0  0.0   \n",
       "2     0.0  0.0  0.0  0.0  0.0  0.0   0.0  0.0  0.0  0.0  ...   0.0  0.0  0.0   \n",
       "3     0.0  0.0  0.0  0.0  0.0  0.0   0.0  0.0  0.0  0.0  ...   0.0  0.0  0.0   \n",
       "4     0.0  0.0  0.0  0.0  0.0  0.0   0.0  0.0  0.0  0.0  ...   0.0  0.0  0.0   \n",
       "...   ...  ...  ...  ...  ...  ...   ...  ...  ...  ...  ...   ...  ...  ...   \n",
       "1916  0.0  0.0  0.0  0.0  0.0  0.0   0.0  0.0  0.0  0.0  ...   0.0  0.0  0.0   \n",
       "1917  0.0  0.0  0.0  0.0  0.0  0.0   0.0  0.0  0.0  0.0  ...   0.0  0.0  0.0   \n",
       "1918  0.0  0.0  0.0  0.0  0.0  0.0   0.0  0.0  0.0  0.0  ...   0.0  0.0  0.0   \n",
       "1919  0.0  0.0  0.0  0.0  0.0  0.0   0.0  0.0  0.0  0.0  ...   0.0  0.0  0.0   \n",
       "1920  0.0  0.0  0.0  0.0  0.0  0.0   0.0  0.0  0.0  0.0  ...   0.0  0.0  0.0   \n",
       "\n",
       "       齊格   龍燈  龍頭台積電  龍頭廠  龍頭惠普   龐大  龔明鑫  \n",
       "0     0.0  0.0    0.0  0.0   0.0  0.0  0.0  \n",
       "1     0.0  0.0    0.0  0.0   0.0  0.0  0.0  \n",
       "2     0.0  0.0    0.0  0.0   0.0  0.0  0.0  \n",
       "3     0.0  0.0    0.0  0.0   0.0  0.0  0.0  \n",
       "4     0.0  0.0    0.0  0.0   0.0  0.0  0.0  \n",
       "...   ...  ...    ...  ...   ...  ...  ...  \n",
       "1916  0.0  0.0    0.0  0.0   0.0  0.0  0.0  \n",
       "1917  0.0  0.0    0.0  0.0   0.0  0.0  0.0  \n",
       "1918  0.0  0.0    0.0  0.0   0.0  0.0  0.0  \n",
       "1919  0.0  0.0    0.0  0.0   0.0  0.0  0.0  \n",
       "1920  0.0  0.0    0.0  0.0   0.0  0.0  0.0  \n",
       "\n",
       "[1921 rows x 5000 columns]"
      ]
     },
     "execution_count": 37,
     "metadata": {},
     "output_type": "execute_result"
    }
   ],
   "source": [
    "from sklearn.feature_selection import SelectKBest\n",
    "from sklearn.feature_selection import chi2\n",
    "\n",
    "y_train = wistron_term_trend_df['label']\n",
    "\n",
    "chi2_selector = SelectKBest(chi2, k = 5000)\n",
    "chi2_selector.fit_transform(X_train, y_train)\n",
    "kbest_vocabs = X_train.columns[chi2_selector.get_support()]\n",
    "X_train = X_train[kbest_vocabs]\n",
    "X_train"
   ]
  },
  {
   "cell_type": "code",
   "execution_count": 38,
   "metadata": {},
   "outputs": [
    {
     "data": {
      "text/plain": [
       "0.9963560645497137"
      ]
     },
     "execution_count": 38,
     "metadata": {},
     "output_type": "execute_result"
    }
   ],
   "source": [
    "from sklearn.ensemble import GradientBoostingClassifier\n",
    "clf = GradientBoostingClassifier(n_estimators=100, learning_rate=1, max_depth=10, random_state=1)\n",
    "clf.fit(X_train, y_train)\n",
    "clf.score(X_train, y_train)"
   ]
  },
  {
   "attachments": {},
   "cell_type": "markdown",
   "metadata": {},
   "source": [
    "# Load Model & Use classifier"
   ]
  },
  {
   "cell_type": "code",
   "execution_count": 39,
   "metadata": {},
   "outputs": [
    {
     "data": {
      "text/plain": [
       "<1921x6747 sparse matrix of type '<class 'numpy.float64'>'\n",
       "\twith 12036 stored elements in Compressed Sparse Row format>"
      ]
     },
     "execution_count": 39,
     "metadata": {},
     "output_type": "execute_result"
    }
   ],
   "source": [
    "from scipy import sparse\n",
    "X = sparse.load_npz(\"Group3_wistron.npz\") #讀入稀疏矩陣\n",
    "X"
   ]
  },
  {
   "cell_type": "code",
   "execution_count": 40,
   "metadata": {},
   "outputs": [
    {
     "name": "stdout",
     "output_type": "stream",
     "text": [
      "1292 629\n"
     ]
    }
   ],
   "source": [
    "up_row=len(wistron_term_trend_df[wistron_term_trend_df[\"label\"]==\"up\"])\n",
    "down_row=len(wistron_term_trend_df[wistron_term_trend_df[\"label\"]==\"down\"])\n",
    "print(up_row,down_row)"
   ]
  },
  {
   "cell_type": "code",
   "execution_count": 41,
   "metadata": {},
   "outputs": [
    {
     "name": "stdout",
     "output_type": "stream",
     "text": [
      "(1921,)\n"
     ]
    }
   ],
   "source": [
    "y=[] #用以儲存已知類別\n",
    "for i in range(up_row): #已知前1292篇為漲停，標記為看漲 (此為取巧權宜作法)\n",
    "  y.append(['看漲'])\n",
    "for i in range(down_row): #已知後629篇為跌停，標記為看跌\n",
    "  y.append(['看跌'])\n",
    "  \n",
    "y=np.array(y).reshape(-1)\n",
    "print(y.shape)"
   ]
  },
  {
   "attachments": {},
   "cell_type": "markdown",
   "metadata": {},
   "source": [
    "### Naive Bayes 分類器"
   ]
  },
  {
   "cell_type": "code",
   "execution_count": 42,
   "metadata": {},
   "outputs": [
    {
     "data": {
      "text/plain": [
       "MultinomialNB()"
      ]
     },
     "execution_count": 42,
     "metadata": {},
     "output_type": "execute_result"
    }
   ],
   "source": [
    "from sklearn.naive_bayes import MultinomialNB\n",
    "classifier = MultinomialNB() #naive bayes classifier\n",
    "classifier.fit(X, y) #訓練"
   ]
  },
  {
   "cell_type": "code",
   "execution_count": 43,
   "metadata": {},
   "outputs": [
    {
     "name": "stdout",
     "output_type": "stream",
     "text": [
      "[0.67272727 0.68229167 0.67708333 0.68489583 0.66666667]\n",
      "Avg. Accuracy: 0.6767329545454546\n"
     ]
    }
   ],
   "source": [
    "from sklearn.model_selection import cross_val_score\n",
    "scores = cross_val_score(classifier,X,y,cv=5,scoring='accuracy') #交叉驗證，計算準確率\n",
    "print(scores)\n",
    "print(\"Avg. Accuracy:\",scores.mean())"
   ]
  },
  {
   "cell_type": "code",
   "execution_count": 44,
   "metadata": {},
   "outputs": [
    {
     "data": {
      "text/plain": [
       "MultinomialNB()"
      ]
     },
     "execution_count": 44,
     "metadata": {},
     "output_type": "execute_result"
    }
   ],
   "source": [
    "#以下將自身資料切成train及test兩組，重新訓練一次，測試模型準確率\n",
    "from sklearn.model_selection import train_test_split\n",
    "X_train, X_test, y_train, y_test = train_test_split(X, y, test_size=0.30) #隨機挑選30%當測試資料\n",
    "classifier = MultinomialNB()\n",
    "classifier.fit(X_train, y_train) #訓練"
   ]
  },
  {
   "cell_type": "code",
   "execution_count": 45,
   "metadata": {},
   "outputs": [
    {
     "name": "stdout",
     "output_type": "stream",
     "text": [
      "Accuracy: 0.7244367417677643\n"
     ]
    }
   ],
   "source": [
    "from sklearn import metrics \n",
    "from sklearn.metrics import accuracy_score\n",
    "y_pred= classifier.predict(X_test) #用測試資料預測\n",
    "print(\"Accuracy:\",metrics.accuracy_score(y_test, y_pred)) #比對答案，計算準確率"
   ]
  },
  {
   "attachments": {},
   "cell_type": "markdown",
   "metadata": {},
   "source": [
    "### Naive Bayes 分類器 with CHI_TFIDF"
   ]
  },
  {
   "cell_type": "code",
   "execution_count": 133,
   "metadata": {},
   "outputs": [
    {
     "name": "stdout",
     "output_type": "stream",
     "text": [
      "[0.67012987 0.67447917 0.65104167 0.66145833 0.65364583]\n",
      "Avg. Accuracy: 0.662150974025974\n"
     ]
    }
   ],
   "source": [
    "from sklearn.model_selection import cross_val_score\n",
    "from sklearn.naive_bayes import MultinomialNB\n",
    "classifier = MultinomialNB() #naive bayes classifier\n",
    "classifier.fit(x_chi_tfidf, chi_tfidf_label) #訓練\n",
    "scores = cross_val_score(classifier,x_chi_tfidf,chi_tfidf_label,cv=5,scoring='accuracy') #交叉驗證，計算準確率\n",
    "print(scores)\n",
    "print(\"Avg. Accuracy:\",scores.mean())"
   ]
  },
  {
   "cell_type": "code",
   "execution_count": 47,
   "metadata": {},
   "outputs": [
    {
     "name": "stdout",
     "output_type": "stream",
     "text": [
      "Accuracy: 0.6811091854419411\n",
      "              precision    recall  f1-score   support\n",
      "\n",
      "           0       1.00      0.02      0.03       187\n",
      "           1       0.68      1.00      0.81       390\n",
      "\n",
      "    accuracy                           0.68       577\n",
      "   macro avg       0.84      0.51      0.42       577\n",
      "weighted avg       0.78      0.68      0.56       577\n",
      "\n",
      "[[390   0]\n",
      " [184   3]]\n"
     ]
    }
   ],
   "source": [
    "#以下將自身資料切成train及test兩組，重新訓練一次，測試模型準確率\n",
    "from sklearn.model_selection import train_test_split\n",
    "chi_X_train, chi_X_test,chi_y_train, chi_y_test = train_test_split(x_chi_tfidf, chi_tfidf_label, test_size=0.30) #隨機挑選30%當測試資料\n",
    "classifier = MultinomialNB()\n",
    "classifier.fit(chi_X_train, chi_y_train) #訓練\n",
    "from sklearn import metrics \n",
    "from sklearn.metrics import accuracy_score\n",
    "chi_y_pred= classifier.predict(chi_X_test) #用測試資料預測\n",
    "print(\"Accuracy:\",metrics.accuracy_score(chi_y_test, chi_y_pred)) #比對答案，計算準確率\n",
    "from sklearn.metrics import classification_report  \n",
    "print(classification_report(chi_y_test, chi_y_pred)) #印出分類報告\n",
    "from sklearn.metrics import confusion_matrix  \n",
    "print(confusion_matrix(chi_y_test, chi_y_pred, labels=[1,0])) #印出混淆矩陣\n",
    "# test/predicted 看漲   看跌\n",
    "#    看漲         TN     FP\n",
    "#    看跌         FN     TP"
   ]
  },
  {
   "attachments": {},
   "cell_type": "markdown",
   "metadata": {},
   "source": [
    "### 決策樹"
   ]
  },
  {
   "cell_type": "code",
   "execution_count": 70,
   "metadata": {},
   "outputs": [
    {
     "name": "stdout",
     "output_type": "stream",
     "text": [
      "[0.64155844 0.46875    0.38020833 0.34635417 0.6484375 ]\n",
      "Avg. Accuracy: 0.49706168831168834\n"
     ]
    }
   ],
   "source": [
    "from sklearn.tree import DecisionTreeClassifier\n",
    "classifier = DecisionTreeClassifier(criterion=\"entropy\") #naive bayes classifier\n",
    "classifier.fit(X, y) #訓練\n",
    "from sklearn.model_selection import cross_val_score\n",
    "scores = cross_val_score(classifier,X,y,cv=5,scoring='accuracy') #交叉驗證，計算準確率\n",
    "print(scores)\n",
    "print(\"Avg. Accuracy:\",scores.mean())"
   ]
  },
  {
   "cell_type": "code",
   "execution_count": 71,
   "metadata": {},
   "outputs": [
    {
     "data": {
      "text/plain": [
       "DecisionTreeClassifier(criterion='entropy')"
      ]
     },
     "execution_count": 71,
     "metadata": {},
     "output_type": "execute_result"
    }
   ],
   "source": [
    "#以下將自身資料切成train及test兩組，重新訓練一次，測試模型準確率\n",
    "from sklearn.model_selection import train_test_split\n",
    "X_train, X_test, y_train, y_test = train_test_split(X, y, test_size=0.30) #隨機挑選30%當測試資料\n",
    "classifier = DecisionTreeClassifier(criterion=\"entropy\")\n",
    "classifier.fit(X_train, y_train) #訓練"
   ]
  },
  {
   "cell_type": "code",
   "execution_count": 72,
   "metadata": {},
   "outputs": [
    {
     "name": "stdout",
     "output_type": "stream",
     "text": [
      "Accuracy: 0.6412478336221837\n"
     ]
    }
   ],
   "source": [
    "from sklearn import metrics \n",
    "from sklearn.metrics import accuracy_score\n",
    "y_pred= classifier.predict(X_test) #用測試資料預測\n",
    "print(\"Accuracy:\",metrics.accuracy_score(y_test, y_pred)) #比對答案，計算準確率"
   ]
  },
  {
   "cell_type": "code",
   "execution_count": 73,
   "metadata": {},
   "outputs": [
    {
     "name": "stdout",
     "output_type": "stream",
     "text": [
      "              precision    recall  f1-score   support\n",
      "\n",
      "          看漲       0.91      0.52      0.66       390\n",
      "          看跌       0.47      0.89      0.62       187\n",
      "\n",
      "    accuracy                           0.64       577\n",
      "   macro avg       0.69      0.71      0.64       577\n",
      "weighted avg       0.77      0.64      0.65       577\n",
      "\n"
     ]
    }
   ],
   "source": [
    "from sklearn.metrics import classification_report  \n",
    "print(classification_report(y_test, y_pred)) #印出分類報告"
   ]
  },
  {
   "cell_type": "code",
   "execution_count": 74,
   "metadata": {},
   "outputs": [
    {
     "name": "stdout",
     "output_type": "stream",
     "text": [
      "[[204 186]\n",
      " [ 21 166]]\n"
     ]
    }
   ],
   "source": [
    "from sklearn.metrics import confusion_matrix  \n",
    "print(confusion_matrix(y_test, y_pred, labels=['看漲','看跌'])) #印出混淆矩陣\n",
    "# test/predicted 看漲   看跌\n",
    "#    看漲         TN     FP\n",
    "#    看跌         FN     TP"
   ]
  },
  {
   "attachments": {},
   "cell_type": "markdown",
   "metadata": {},
   "source": [
    "### 決策樹 with ChI_TFIDF"
   ]
  },
  {
   "cell_type": "code",
   "execution_count": 134,
   "metadata": {},
   "outputs": [
    {
     "name": "stdout",
     "output_type": "stream",
     "text": [
      "[0.58701299 0.55729167 0.52083333 0.5546875  0.57552083]\n",
      "Avg. Accuracy: 0.559069264069264\n"
     ]
    }
   ],
   "source": [
    "from sklearn.model_selection import cross_val_score\n",
    "from sklearn.tree import DecisionTreeClassifier\n",
    "classifier = DecisionTreeClassifier(criterion=\"entropy\") #naive bayes classifier\n",
    "classifier.fit(x_chi_tfidf, chi_tfidf_label) #訓練\n",
    "scores = cross_val_score(classifier,x_chi_tfidf, chi_tfidf_label,cv=5,scoring='accuracy') #交叉驗證，計算準確率\n",
    "print(scores)\n",
    "print(\"Avg. Accuracy:\",scores.mean())"
   ]
  },
  {
   "cell_type": "code",
   "execution_count": 135,
   "metadata": {},
   "outputs": [
    {
     "name": "stdout",
     "output_type": "stream",
     "text": [
      "Accuracy: 0.6845753899480069\n",
      "              precision    recall  f1-score   support\n",
      "\n",
      "           0       0.52      0.50      0.51       191\n",
      "           1       0.76      0.78      0.77       386\n",
      "\n",
      "    accuracy                           0.68       577\n",
      "   macro avg       0.64      0.64      0.64       577\n",
      "weighted avg       0.68      0.68      0.68       577\n",
      "\n",
      "[[300  86]\n",
      " [ 96  95]]\n"
     ]
    }
   ],
   "source": [
    "#以下將自身資料切成train及test兩組，重新訓練一次，測試模型準確率\n",
    "from sklearn.model_selection import train_test_split\n",
    "chi_X_train, chi_X_test,chi_y_train, chi_y_test = train_test_split(x_chi_tfidf, chi_tfidf_label, test_size=0.30) #隨機挑選30%當測試資料\n",
    "classifier = DecisionTreeClassifier(criterion=\"entropy\")\n",
    "classifier.fit(chi_X_train, chi_y_train) #訓練\n",
    "from sklearn import metrics \n",
    "from sklearn.metrics import accuracy_score\n",
    "chi_y_pred= classifier.predict(chi_X_test) #用測試資料預測\n",
    "print(\"Accuracy:\",metrics.accuracy_score(chi_y_test, chi_y_pred)) #比對答案，計算準確率\n",
    "from sklearn.metrics import classification_report  \n",
    "print(classification_report(chi_y_test, chi_y_pred)) #印出分類報告\n",
    "from sklearn.metrics import confusion_matrix  \n",
    "print(confusion_matrix(chi_y_test, chi_y_pred, labels=[1,0])) #印出混淆矩陣\n",
    "# test/predicted 看漲   看跌\n",
    "#    看漲         TN     FP\n",
    "#    看跌         FN     TP"
   ]
  },
  {
   "attachments": {},
   "cell_type": "markdown",
   "metadata": {},
   "source": [
    "### kNN"
   ]
  },
  {
   "cell_type": "code",
   "execution_count": 77,
   "metadata": {},
   "outputs": [
    {
     "name": "stdout",
     "output_type": "stream",
     "text": [
      "[0.47272727 0.52604167 0.421875   0.4375     0.55208333]\n",
      "Avg. Accuracy: 0.48204545454545455\n"
     ]
    },
    {
     "name": "stderr",
     "output_type": "stream",
     "text": [
      "c:\\ProgramData\\Anaconda3\\lib\\site-packages\\sklearn\\neighbors\\_classification.py:228: FutureWarning: Unlike other reduction functions (e.g. `skew`, `kurtosis`), the default behavior of `mode` typically preserves the axis it acts along. In SciPy 1.11.0, this behavior will change: the default value of `keepdims` will become False, the `axis` over which the statistic is taken will be eliminated, and the value None will no longer be accepted. Set `keepdims` to True or False to avoid this warning.\n",
      "  mode, _ = stats.mode(_y[neigh_ind, k], axis=1)\n",
      "c:\\ProgramData\\Anaconda3\\lib\\site-packages\\sklearn\\neighbors\\_classification.py:228: FutureWarning: Unlike other reduction functions (e.g. `skew`, `kurtosis`), the default behavior of `mode` typically preserves the axis it acts along. In SciPy 1.11.0, this behavior will change: the default value of `keepdims` will become False, the `axis` over which the statistic is taken will be eliminated, and the value None will no longer be accepted. Set `keepdims` to True or False to avoid this warning.\n",
      "  mode, _ = stats.mode(_y[neigh_ind, k], axis=1)\n",
      "c:\\ProgramData\\Anaconda3\\lib\\site-packages\\sklearn\\neighbors\\_classification.py:228: FutureWarning: Unlike other reduction functions (e.g. `skew`, `kurtosis`), the default behavior of `mode` typically preserves the axis it acts along. In SciPy 1.11.0, this behavior will change: the default value of `keepdims` will become False, the `axis` over which the statistic is taken will be eliminated, and the value None will no longer be accepted. Set `keepdims` to True or False to avoid this warning.\n",
      "  mode, _ = stats.mode(_y[neigh_ind, k], axis=1)\n",
      "c:\\ProgramData\\Anaconda3\\lib\\site-packages\\sklearn\\neighbors\\_classification.py:228: FutureWarning: Unlike other reduction functions (e.g. `skew`, `kurtosis`), the default behavior of `mode` typically preserves the axis it acts along. In SciPy 1.11.0, this behavior will change: the default value of `keepdims` will become False, the `axis` over which the statistic is taken will be eliminated, and the value None will no longer be accepted. Set `keepdims` to True or False to avoid this warning.\n",
      "  mode, _ = stats.mode(_y[neigh_ind, k], axis=1)\n",
      "c:\\ProgramData\\Anaconda3\\lib\\site-packages\\sklearn\\neighbors\\_classification.py:228: FutureWarning: Unlike other reduction functions (e.g. `skew`, `kurtosis`), the default behavior of `mode` typically preserves the axis it acts along. In SciPy 1.11.0, this behavior will change: the default value of `keepdims` will become False, the `axis` over which the statistic is taken will be eliminated, and the value None will no longer be accepted. Set `keepdims` to True or False to avoid this warning.\n",
      "  mode, _ = stats.mode(_y[neigh_ind, k], axis=1)\n"
     ]
    }
   ],
   "source": [
    "from sklearn.neighbors import KNeighborsClassifier\n",
    "classifier = KNeighborsClassifier(n_neighbors=7)\n",
    "\n",
    "from sklearn.model_selection import cross_val_score\n",
    "scores = cross_val_score(classifier,X,y,cv=5,scoring='accuracy') #交叉驗證，計算準確率\n",
    "print(scores)\n",
    "print(\"Avg. Accuracy:\",scores.mean())"
   ]
  },
  {
   "cell_type": "code",
   "execution_count": 78,
   "metadata": {},
   "outputs": [
    {
     "data": {
      "text/plain": [
       "KNeighborsClassifier(n_neighbors=7)"
      ]
     },
     "execution_count": 78,
     "metadata": {},
     "output_type": "execute_result"
    }
   ],
   "source": [
    "#以下將自身資料切成train及test兩組，重新訓練一次，測試模型準確率\n",
    "from sklearn.model_selection import train_test_split\n",
    "X_train, X_test, y_train, y_test = train_test_split(X, y, test_size=0.30) #隨機挑選30%當測試資料\n",
    "classifier = KNeighborsClassifier(n_neighbors=7)\n",
    "classifier.fit(X_train, y_train) #訓練"
   ]
  },
  {
   "cell_type": "code",
   "execution_count": 79,
   "metadata": {},
   "outputs": [
    {
     "name": "stdout",
     "output_type": "stream",
     "text": [
      "Accuracy: 0.6013864818024264\n"
     ]
    },
    {
     "name": "stderr",
     "output_type": "stream",
     "text": [
      "c:\\ProgramData\\Anaconda3\\lib\\site-packages\\sklearn\\neighbors\\_classification.py:228: FutureWarning: Unlike other reduction functions (e.g. `skew`, `kurtosis`), the default behavior of `mode` typically preserves the axis it acts along. In SciPy 1.11.0, this behavior will change: the default value of `keepdims` will become False, the `axis` over which the statistic is taken will be eliminated, and the value None will no longer be accepted. Set `keepdims` to True or False to avoid this warning.\n",
      "  mode, _ = stats.mode(_y[neigh_ind, k], axis=1)\n"
     ]
    }
   ],
   "source": [
    "from sklearn import metrics \n",
    "from sklearn.metrics import accuracy_score\n",
    "y_pred= classifier.predict(X_test) #用測試資料預測\n",
    "print(\"Accuracy:\",metrics.accuracy_score(y_test, y_pred)) #比對答案，計算準確率"
   ]
  },
  {
   "cell_type": "code",
   "execution_count": 80,
   "metadata": {},
   "outputs": [
    {
     "name": "stdout",
     "output_type": "stream",
     "text": [
      "              precision    recall  f1-score   support\n",
      "\n",
      "          看漲       0.78      0.54      0.64       377\n",
      "          看跌       0.45      0.71      0.55       200\n",
      "\n",
      "    accuracy                           0.60       577\n",
      "   macro avg       0.62      0.63      0.60       577\n",
      "weighted avg       0.67      0.60      0.61       577\n",
      "\n"
     ]
    }
   ],
   "source": [
    "from sklearn.metrics import classification_report  \n",
    "print(classification_report(y_test, y_pred)) #印出分類報告"
   ]
  },
  {
   "cell_type": "code",
   "execution_count": 81,
   "metadata": {},
   "outputs": [
    {
     "name": "stdout",
     "output_type": "stream",
     "text": [
      "[[205 172]\n",
      " [ 58 142]]\n"
     ]
    }
   ],
   "source": [
    "from sklearn.metrics import confusion_matrix  \n",
    "print(confusion_matrix(y_test, y_pred, labels=['看漲','看跌'])) #印出混淆矩陣\n",
    "# test/predicted 看漲   看跌\n",
    "#    看漲         TN     FP\n",
    "#    看跌         FN     TP"
   ]
  },
  {
   "attachments": {},
   "cell_type": "markdown",
   "metadata": {},
   "source": [
    "### KNN with CHI_TFIDF"
   ]
  },
  {
   "cell_type": "code",
   "execution_count": 82,
   "metadata": {},
   "outputs": [
    {
     "name": "stderr",
     "output_type": "stream",
     "text": [
      "c:\\ProgramData\\Anaconda3\\lib\\site-packages\\sklearn\\neighbors\\_classification.py:228: FutureWarning: Unlike other reduction functions (e.g. `skew`, `kurtosis`), the default behavior of `mode` typically preserves the axis it acts along. In SciPy 1.11.0, this behavior will change: the default value of `keepdims` will become False, the `axis` over which the statistic is taken will be eliminated, and the value None will no longer be accepted. Set `keepdims` to True or False to avoid this warning.\n",
      "  mode, _ = stats.mode(_y[neigh_ind, k], axis=1)\n",
      "c:\\ProgramData\\Anaconda3\\lib\\site-packages\\sklearn\\neighbors\\_classification.py:228: FutureWarning: Unlike other reduction functions (e.g. `skew`, `kurtosis`), the default behavior of `mode` typically preserves the axis it acts along. In SciPy 1.11.0, this behavior will change: the default value of `keepdims` will become False, the `axis` over which the statistic is taken will be eliminated, and the value None will no longer be accepted. Set `keepdims` to True or False to avoid this warning.\n",
      "  mode, _ = stats.mode(_y[neigh_ind, k], axis=1)\n",
      "c:\\ProgramData\\Anaconda3\\lib\\site-packages\\sklearn\\neighbors\\_classification.py:228: FutureWarning: Unlike other reduction functions (e.g. `skew`, `kurtosis`), the default behavior of `mode` typically preserves the axis it acts along. In SciPy 1.11.0, this behavior will change: the default value of `keepdims` will become False, the `axis` over which the statistic is taken will be eliminated, and the value None will no longer be accepted. Set `keepdims` to True or False to avoid this warning.\n",
      "  mode, _ = stats.mode(_y[neigh_ind, k], axis=1)\n",
      "c:\\ProgramData\\Anaconda3\\lib\\site-packages\\sklearn\\neighbors\\_classification.py:228: FutureWarning: Unlike other reduction functions (e.g. `skew`, `kurtosis`), the default behavior of `mode` typically preserves the axis it acts along. In SciPy 1.11.0, this behavior will change: the default value of `keepdims` will become False, the `axis` over which the statistic is taken will be eliminated, and the value None will no longer be accepted. Set `keepdims` to True or False to avoid this warning.\n",
      "  mode, _ = stats.mode(_y[neigh_ind, k], axis=1)\n"
     ]
    },
    {
     "name": "stdout",
     "output_type": "stream",
     "text": [
      "[0.61038961 0.578125   0.57291667 0.578125   0.6328125 ]\n",
      "Avg. Accuracy: 0.5944737554112554\n"
     ]
    },
    {
     "name": "stderr",
     "output_type": "stream",
     "text": [
      "c:\\ProgramData\\Anaconda3\\lib\\site-packages\\sklearn\\neighbors\\_classification.py:228: FutureWarning: Unlike other reduction functions (e.g. `skew`, `kurtosis`), the default behavior of `mode` typically preserves the axis it acts along. In SciPy 1.11.0, this behavior will change: the default value of `keepdims` will become False, the `axis` over which the statistic is taken will be eliminated, and the value None will no longer be accepted. Set `keepdims` to True or False to avoid this warning.\n",
      "  mode, _ = stats.mode(_y[neigh_ind, k], axis=1)\n"
     ]
    }
   ],
   "source": [
    "from sklearn.neighbors import KNeighborsClassifier\n",
    "classifier = KNeighborsClassifier(n_neighbors=7)\n",
    "\n",
    "from sklearn.model_selection import cross_val_score\n",
    "scores = cross_val_score(classifier,x_chi_tfidf, chi_tfidf_label,cv=5,scoring='accuracy') #交叉驗證，計算準確率\n",
    "print(scores)\n",
    "print(\"Avg. Accuracy:\",scores.mean())"
   ]
  },
  {
   "cell_type": "code",
   "execution_count": 136,
   "metadata": {},
   "outputs": [
    {
     "name": "stdout",
     "output_type": "stream",
     "text": [
      "Accuracy: 0.708838821490468\n",
      "              precision    recall  f1-score   support\n",
      "\n",
      "           0       0.49      0.45      0.47       164\n",
      "           1       0.79      0.81      0.80       413\n",
      "\n",
      "    accuracy                           0.71       577\n",
      "   macro avg       0.64      0.63      0.63       577\n",
      "weighted avg       0.70      0.71      0.71       577\n",
      "\n",
      "[[335  78]\n",
      " [ 90  74]]\n"
     ]
    },
    {
     "name": "stderr",
     "output_type": "stream",
     "text": [
      "c:\\ProgramData\\Anaconda3\\lib\\site-packages\\sklearn\\neighbors\\_classification.py:228: FutureWarning: Unlike other reduction functions (e.g. `skew`, `kurtosis`), the default behavior of `mode` typically preserves the axis it acts along. In SciPy 1.11.0, this behavior will change: the default value of `keepdims` will become False, the `axis` over which the statistic is taken will be eliminated, and the value None will no longer be accepted. Set `keepdims` to True or False to avoid this warning.\n",
      "  mode, _ = stats.mode(_y[neigh_ind, k], axis=1)\n"
     ]
    }
   ],
   "source": [
    "#以下將自身資料切成train及test兩組，重新訓練一次，測試模型準確率\n",
    "from sklearn.model_selection import train_test_split\n",
    "chi_X_train, chi_X_test,chi_y_train, chi_y_test = train_test_split(x_chi_tfidf, chi_tfidf_label, test_size=0.30) #隨機挑選30%當測試資料\n",
    "classifier = KNeighborsClassifier(n_neighbors=7)\n",
    "classifier.fit(chi_X_train, chi_y_train) #訓練\n",
    "from sklearn import metrics \n",
    "from sklearn.metrics import accuracy_score\n",
    "chi_y_pred= classifier.predict(chi_X_test) #用測試資料預測\n",
    "print(\"Accuracy:\",metrics.accuracy_score(chi_y_test, chi_y_pred)) #比對答案，計算準確率\n",
    "from sklearn.metrics import classification_report  \n",
    "print(classification_report(chi_y_test, chi_y_pred)) #印出分類報告\n",
    "from sklearn.metrics import confusion_matrix  \n",
    "print(confusion_matrix(chi_y_test, chi_y_pred, labels=[1,0])) #印出混淆矩陣\n",
    "# test/predicted 看漲   看跌\n",
    "#    看漲         TN     FP\n",
    "#    看跌         FN     TP"
   ]
  },
  {
   "attachments": {},
   "cell_type": "markdown",
   "metadata": {},
   "source": [
    "### SVC"
   ]
  },
  {
   "cell_type": "code",
   "execution_count": 87,
   "metadata": {},
   "outputs": [
    {
     "name": "stdout",
     "output_type": "stream",
     "text": [
      "[0.67792208 0.69010417 0.6796875  0.703125   0.6484375 ]\n",
      "Avg. Accuracy: 0.6798552489177488\n"
     ]
    }
   ],
   "source": [
    "from sklearn.svm import SVC\n",
    "classifier = SVC(kernel='linear')\n",
    "\n",
    "from sklearn.model_selection import cross_val_score\n",
    "scores = cross_val_score(classifier,X,y,cv=5,scoring='accuracy') #交叉驗證，計算準確率\n",
    "print(scores)\n",
    "print(\"Avg. Accuracy:\",scores.mean())"
   ]
  },
  {
   "cell_type": "code",
   "execution_count": 88,
   "metadata": {},
   "outputs": [
    {
     "data": {
      "text/plain": [
       "SVC(kernel='linear')"
      ]
     },
     "execution_count": 88,
     "metadata": {},
     "output_type": "execute_result"
    }
   ],
   "source": [
    "#以下將自身資料切成train及test兩組，重新訓練一次，測試模型準確率\n",
    "from sklearn.model_selection import train_test_split\n",
    "X_train, X_test, y_train, y_test = train_test_split(X, y, test_size=0.30) #隨機挑選30%當測試資料\n",
    "classifier = SVC(kernel='linear')\n",
    "classifier.fit(X_train, y_train) #訓練"
   ]
  },
  {
   "cell_type": "code",
   "execution_count": 89,
   "metadata": {},
   "outputs": [
    {
     "name": "stdout",
     "output_type": "stream",
     "text": [
      "Accuracy: 0.7469670710571924\n"
     ]
    }
   ],
   "source": [
    "from sklearn import metrics \n",
    "from sklearn.metrics import accuracy_score\n",
    "y_pred= classifier.predict(X_test) #用測試資料預測\n",
    "print(\"Accuracy:\",metrics.accuracy_score(y_test, y_pred)) #比對答案，計算準確率"
   ]
  },
  {
   "cell_type": "code",
   "execution_count": 90,
   "metadata": {},
   "outputs": [
    {
     "name": "stdout",
     "output_type": "stream",
     "text": [
      "              precision    recall  f1-score   support\n",
      "\n",
      "          看漲       0.74      0.98      0.84       400\n",
      "          看跌       0.82      0.23      0.35       177\n",
      "\n",
      "    accuracy                           0.75       577\n",
      "   macro avg       0.78      0.60      0.60       577\n",
      "weighted avg       0.76      0.75      0.69       577\n",
      "\n"
     ]
    }
   ],
   "source": [
    "from sklearn.metrics import classification_report  \n",
    "print(classification_report(y_test, y_pred)) #印出分類報告"
   ]
  },
  {
   "cell_type": "code",
   "execution_count": 91,
   "metadata": {},
   "outputs": [
    {
     "name": "stdout",
     "output_type": "stream",
     "text": [
      "[[391   9]\n",
      " [137  40]]\n"
     ]
    }
   ],
   "source": [
    "from sklearn.metrics import confusion_matrix  \n",
    "print(confusion_matrix(y_test, y_pred, labels=['看漲','看跌'])) #印出混淆矩陣\n",
    "# test/predicted 看漲   看跌\n",
    "#    看漲         TN     FP\n",
    "#    看跌         FN     TP"
   ]
  },
  {
   "attachments": {},
   "cell_type": "markdown",
   "metadata": {},
   "source": [
    "### SVC with CHI_TFIDF"
   ]
  },
  {
   "cell_type": "code",
   "execution_count": 93,
   "metadata": {},
   "outputs": [
    {
     "name": "stdout",
     "output_type": "stream",
     "text": [
      "[0.65714286 0.640625   0.56770833 0.58854167 0.65364583]\n",
      "Avg. Accuracy: 0.6215327380952381\n"
     ]
    }
   ],
   "source": [
    "from sklearn.svm import SVC\n",
    "classifier = SVC(kernel='sigmoid')\n",
    "\n",
    "from sklearn.model_selection import cross_val_score\n",
    "scores = cross_val_score(classifier,x_chi_tfidf, chi_tfidf_label,cv=5,scoring='accuracy') #交叉驗證，計算準確率\n",
    "print(scores)\n",
    "print(\"Avg. Accuracy:\",scores.mean())"
   ]
  },
  {
   "cell_type": "code",
   "execution_count": 137,
   "metadata": {},
   "outputs": [
    {
     "name": "stdout",
     "output_type": "stream",
     "text": [
      "Accuracy: 0.7383015597920277\n",
      "              precision    recall  f1-score   support\n",
      "\n",
      "           0       0.67      0.27      0.38       175\n",
      "           1       0.75      0.94      0.83       402\n",
      "\n",
      "    accuracy                           0.74       577\n",
      "   macro avg       0.71      0.61      0.61       577\n",
      "weighted avg       0.72      0.74      0.70       577\n",
      "\n",
      "[[379  23]\n",
      " [128  47]]\n"
     ]
    }
   ],
   "source": [
    "#以下將自身資料切成train及test兩組，重新訓練一次，測試模型準確率\n",
    "from sklearn.model_selection import train_test_split\n",
    "chi_X_train, chi_X_test,chi_y_train, chi_y_test = train_test_split(x_chi_tfidf, chi_tfidf_label, test_size=0.30) #隨機挑選30%當測試資料\n",
    "classifier = SVC(kernel='sigmoid')\n",
    "classifier.fit(chi_X_train, chi_y_train) #訓練\n",
    "from sklearn import metrics \n",
    "from sklearn.metrics import accuracy_score\n",
    "chi_y_pred= classifier.predict(chi_X_test) #用測試資料預測\n",
    "print(\"Accuracy:\",metrics.accuracy_score(chi_y_test, chi_y_pred)) #比對答案，計算準確率\n",
    "from sklearn.metrics import classification_report  \n",
    "print(classification_report(chi_y_test, chi_y_pred)) #印出分類報告\n",
    "from sklearn.metrics import confusion_matrix  \n",
    "print(confusion_matrix(chi_y_test, chi_y_pred, labels=[1,0])) #印出混淆矩陣\n",
    "# test/predicted 看漲   看跌\n",
    "#    看漲         TN     FP\n",
    "#    看跌         FN     TP"
   ]
  },
  {
   "attachments": {},
   "cell_type": "markdown",
   "metadata": {},
   "source": [
    "### Random Forest"
   ]
  },
  {
   "cell_type": "code",
   "execution_count": 95,
   "metadata": {},
   "outputs": [
    {
     "name": "stdout",
     "output_type": "stream",
     "text": [
      "[0.67792208 0.69010417 0.67708333 0.70572917 0.66666667]\n",
      "Avg. Accuracy: 0.6835010822510822\n"
     ]
    }
   ],
   "source": [
    "from sklearn.ensemble  import RandomForestClassifier                          \n",
    "from sklearn.model_selection import train_test_split\n",
    "\n",
    "from sklearn.model_selection import cross_val_score\n",
    "scores = cross_val_score(classifier,X,y,cv=5,scoring='accuracy') #交叉驗證，計算準確率\n",
    "print(scores)\n",
    "print(\"Avg. Accuracy:\",scores.mean())"
   ]
  },
  {
   "cell_type": "code",
   "execution_count": 96,
   "metadata": {},
   "outputs": [
    {
     "data": {
      "text/plain": [
       "RandomForestClassifier()"
      ]
     },
     "execution_count": 96,
     "metadata": {},
     "output_type": "execute_result"
    }
   ],
   "source": [
    "#以下將自身資料切成train及test兩組，重新訓練一次，測試模型準確率\n",
    "from sklearn.model_selection import train_test_split\n",
    "X_train, X_test, y_train, y_test = train_test_split(X, y, test_size=0.30) #隨機挑選30%當測試資料\n",
    "classifier = RandomForestClassifier()\n",
    "classifier.fit(X_train, y_train) #訓練"
   ]
  },
  {
   "cell_type": "code",
   "execution_count": 97,
   "metadata": {},
   "outputs": [
    {
     "name": "stdout",
     "output_type": "stream",
     "text": [
      "Accuracy: 0.6637781629116117\n"
     ]
    }
   ],
   "source": [
    "from sklearn import metrics \n",
    "from sklearn.metrics import accuracy_score\n",
    "y_pred= classifier.predict(X_test) #用測試資料預測\n",
    "print(\"Accuracy:\",metrics.accuracy_score(y_test, y_pred)) #比對答案，計算準確率"
   ]
  },
  {
   "cell_type": "code",
   "execution_count": 98,
   "metadata": {},
   "outputs": [
    {
     "name": "stdout",
     "output_type": "stream",
     "text": [
      "              precision    recall  f1-score   support\n",
      "\n",
      "          看漲       0.88      0.60      0.71       398\n",
      "          看跌       0.48      0.82      0.60       179\n",
      "\n",
      "    accuracy                           0.66       577\n",
      "   macro avg       0.68      0.71      0.66       577\n",
      "weighted avg       0.75      0.66      0.68       577\n",
      "\n"
     ]
    }
   ],
   "source": [
    "from sklearn.metrics import classification_report  \n",
    "print(classification_report(y_test, y_pred)) #印出分類報告"
   ]
  },
  {
   "cell_type": "code",
   "execution_count": 99,
   "metadata": {},
   "outputs": [
    {
     "name": "stdout",
     "output_type": "stream",
     "text": [
      "[[237 161]\n",
      " [ 33 146]]\n"
     ]
    }
   ],
   "source": [
    "from sklearn.metrics import confusion_matrix  \n",
    "print(confusion_matrix(y_test, y_pred, labels=['看漲','看跌'])) #印出混淆矩陣\n",
    "# test/predicted 看漲   看跌\n",
    "#    看漲         TN     FP\n",
    "#    看跌         FN     TP"
   ]
  },
  {
   "attachments": {},
   "cell_type": "markdown",
   "metadata": {},
   "source": [
    "### Random Forest with CHi_TFIDF"
   ]
  },
  {
   "cell_type": "code",
   "execution_count": 100,
   "metadata": {},
   "outputs": [
    {
     "name": "stdout",
     "output_type": "stream",
     "text": [
      "[0.66753247 0.63802083 0.578125   0.62239583 0.6640625 ]\n",
      "Avg. Accuracy: 0.6340273268398269\n"
     ]
    }
   ],
   "source": [
    "from sklearn.ensemble  import RandomForestClassifier                          \n",
    "from sklearn.model_selection import train_test_split\n",
    "\n",
    "from sklearn.model_selection import cross_val_score\n",
    "scores = cross_val_score(classifier,x_chi_tfidf, chi_tfidf_label,cv=5,scoring='accuracy') #交叉驗證，計算準確率\n",
    "print(scores)\n",
    "print(\"Avg. Accuracy:\",scores.mean())\n"
   ]
  },
  {
   "cell_type": "code",
   "execution_count": 101,
   "metadata": {},
   "outputs": [
    {
     "name": "stdout",
     "output_type": "stream",
     "text": [
      "Accuracy: 0.6949740034662045\n",
      "              precision    recall  f1-score   support\n",
      "\n",
      "           0       0.70      0.27      0.39       208\n",
      "           1       0.69      0.93      0.80       369\n",
      "\n",
      "    accuracy                           0.69       577\n",
      "   macro avg       0.70      0.60      0.59       577\n",
      "weighted avg       0.70      0.69      0.65       577\n",
      "\n",
      "[[345  24]\n",
      " [152  56]]\n"
     ]
    }
   ],
   "source": [
    "#以下將自身資料切成train及test兩組，重新訓練一次，測試模型準確率\n",
    "from sklearn.model_selection import train_test_split\n",
    "chi_X_train, chi_X_test,chi_y_train, chi_y_test = train_test_split(x_chi_tfidf, chi_tfidf_label, test_size=0.30) #隨機挑選30%當測試資料\n",
    "classifier = RandomForestClassifier()\n",
    "classifier.fit(chi_X_train, chi_y_train) #訓練\n",
    "from sklearn import metrics \n",
    "from sklearn.metrics import accuracy_score\n",
    "chi_y_pred= classifier.predict(chi_X_test) #用測試資料預測\n",
    "print(\"Accuracy:\",metrics.accuracy_score(chi_y_test, chi_y_pred)) #比對答案，計算準確率\n",
    "from sklearn.metrics import classification_report  \n",
    "print(classification_report(chi_y_test, chi_y_pred)) #印出分類報告\n",
    "from sklearn.metrics import confusion_matrix  \n",
    "print(confusion_matrix(chi_y_test, chi_y_pred, labels=[1,0])) #印出混淆矩陣\n",
    "# test/predicted 看漲   看跌\n",
    "#    看漲         TN     FP\n",
    "#    看跌         FN     TP"
   ]
  },
  {
   "attachments": {},
   "cell_type": "markdown",
   "metadata": {},
   "source": [
    "### 投票法"
   ]
  },
  {
   "cell_type": "code",
   "execution_count": 102,
   "metadata": {},
   "outputs": [
    {
     "data": {
      "text/plain": [
       "VotingClassifier(estimators=[('dt', DecisionTreeClassifier(random_state=1)),\n",
       "                             ('knn', KNeighborsClassifier(n_neighbors=7)),\n",
       "                             ('rf', RandomForestClassifier()),\n",
       "                             ('nb', MultinomialNB(alpha=0.01)),\n",
       "                             ('svc', SVC(kernel='linear'))])"
      ]
     },
     "execution_count": 102,
     "metadata": {},
     "output_type": "execute_result"
    }
   ],
   "source": [
    "from sklearn.ensemble import VotingClassifier\n",
    "from sklearn.tree import DecisionTreeClassifier\n",
    "from sklearn.neighbors import KNeighborsClassifier\n",
    "from sklearn.ensemble import RandomForestClassifier\n",
    "from sklearn.naive_bayes import MultinomialNB\n",
    "from sklearn.svm import SVC\n",
    "\n",
    "# 定義分類器\n",
    "clf1 = DecisionTreeClassifier(random_state=1)\n",
    "clf2 = KNeighborsClassifier(n_neighbors=7)\n",
    "clf3 = RandomForestClassifier()\n",
    "clf4 = MultinomialNB(alpha=0.01)\n",
    "clf5 = SVC(kernel='linear')\n",
    "\n",
    "# 使用投票法組合分類器\n",
    "clf_vote = VotingClassifier(estimators=[('dt', clf1), ('knn', clf2), ('rf', clf3), ('nb', clf4), ('svc', clf5)], voting='hard')\n",
    "\n",
    "# 訓練投票法分類器\n",
    "clf_vote.fit(X_train, y_train)\n",
    "\n",
    "# # 計算精度\n",
    "# from sklearn.metrics import accuracy_score\n",
    "# accuracy = accuracy_score(y_test, y_pred)\n",
    "# print(\"Accuracy: \" ,metrics.accuracy_score(y_test, y_pred)) "
   ]
  },
  {
   "cell_type": "code",
   "execution_count": 103,
   "metadata": {},
   "outputs": [
    {
     "data": {
      "text/plain": [
       "VotingClassifier(estimators=[('dt', DecisionTreeClassifier(random_state=1)),\n",
       "                             ('knn', KNeighborsClassifier(n_neighbors=7)),\n",
       "                             ('rf', RandomForestClassifier()),\n",
       "                             ('nb', MultinomialNB(alpha=0.01)),\n",
       "                             ('svc', SVC(kernel='linear'))])"
      ]
     },
     "execution_count": 103,
     "metadata": {},
     "output_type": "execute_result"
    }
   ],
   "source": [
    "#以下將自身資料切成train及test兩組，重新訓練一次，測試模型準確率\n",
    "from sklearn.model_selection import train_test_split\n",
    "X_train, X_test, y_train, y_test = train_test_split(X, y, test_size=0.30) #隨機挑選30%當測試資料\n",
    "classifier = VotingClassifier(estimators=[('dt', clf1), ('knn', clf2), ('rf', clf3), ('nb', clf4), ('svc', clf5)], voting='hard')\n",
    "classifier.fit(X_train, y_train) #訓練"
   ]
  },
  {
   "cell_type": "code",
   "execution_count": 104,
   "metadata": {},
   "outputs": [
    {
     "name": "stdout",
     "output_type": "stream",
     "text": [
      "Accuracy: 0.7504332755632582\n"
     ]
    },
    {
     "name": "stderr",
     "output_type": "stream",
     "text": [
      "c:\\ProgramData\\Anaconda3\\lib\\site-packages\\sklearn\\neighbors\\_classification.py:228: FutureWarning: Unlike other reduction functions (e.g. `skew`, `kurtosis`), the default behavior of `mode` typically preserves the axis it acts along. In SciPy 1.11.0, this behavior will change: the default value of `keepdims` will become False, the `axis` over which the statistic is taken will be eliminated, and the value None will no longer be accepted. Set `keepdims` to True or False to avoid this warning.\n",
      "  mode, _ = stats.mode(_y[neigh_ind, k], axis=1)\n"
     ]
    }
   ],
   "source": [
    "from sklearn import metrics \n",
    "from sklearn.metrics import accuracy_score\n",
    "y_pred= classifier.predict(X_test) #用測試資料預測\n",
    "print(\"Accuracy:\",metrics.accuracy_score(y_test, y_pred)) #比對答案，計算準確率"
   ]
  },
  {
   "cell_type": "code",
   "execution_count": 105,
   "metadata": {},
   "outputs": [
    {
     "name": "stdout",
     "output_type": "stream",
     "text": [
      "              precision    recall  f1-score   support\n",
      "\n",
      "          看漲       0.74      0.95      0.83       377\n",
      "          看跌       0.80      0.37      0.51       200\n",
      "\n",
      "    accuracy                           0.75       577\n",
      "   macro avg       0.77      0.66      0.67       577\n",
      "weighted avg       0.76      0.75      0.72       577\n",
      "\n"
     ]
    }
   ],
   "source": [
    "from sklearn.metrics import classification_report  \n",
    "print(classification_report(y_test, y_pred)) #印出分類報告"
   ]
  },
  {
   "cell_type": "code",
   "execution_count": 106,
   "metadata": {},
   "outputs": [
    {
     "name": "stdout",
     "output_type": "stream",
     "text": [
      "[[359  18]\n",
      " [126  74]]\n"
     ]
    }
   ],
   "source": [
    "from sklearn.metrics import confusion_matrix  \n",
    "print(confusion_matrix(y_test, y_pred, labels=['看漲','看跌'])) #印出混淆矩陣\n",
    "# test/predicted 看漲   看跌\n",
    "#    看漲         TN     FP\n",
    "#    看跌         FN     TP"
   ]
  },
  {
   "attachments": {},
   "cell_type": "markdown",
   "metadata": {},
   "source": [
    "### 投票法 with CHI_TFIDF"
   ]
  },
  {
   "cell_type": "code",
   "execution_count": 107,
   "metadata": {},
   "outputs": [
    {
     "data": {
      "text/plain": [
       "VotingClassifier(estimators=[('dt', DecisionTreeClassifier(random_state=1)),\n",
       "                             ('knn', KNeighborsClassifier(n_neighbors=7)),\n",
       "                             ('rf', RandomForestClassifier()),\n",
       "                             ('nb', MultinomialNB(alpha=0.01)),\n",
       "                             ('svc', SVC(kernel='linear'))])"
      ]
     },
     "execution_count": 107,
     "metadata": {},
     "output_type": "execute_result"
    }
   ],
   "source": [
    "from sklearn.ensemble import VotingClassifier\n",
    "from sklearn.tree import DecisionTreeClassifier\n",
    "from sklearn.neighbors import KNeighborsClassifier\n",
    "from sklearn.ensemble import RandomForestClassifier\n",
    "from sklearn.naive_bayes import MultinomialNB\n",
    "from sklearn.svm import SVC\n",
    "\n",
    "# 定義分類器\n",
    "clf1 = DecisionTreeClassifier(random_state=1)\n",
    "clf2 = KNeighborsClassifier(n_neighbors=7)\n",
    "clf3 = RandomForestClassifier()\n",
    "clf4 = MultinomialNB(alpha=0.01)\n",
    "clf5 = SVC(kernel='linear')\n",
    "\n",
    "# 使用投票法組合分類器\n",
    "clf_vote = VotingClassifier(estimators=[('dt', clf1), ('knn', clf2), ('rf', clf3), ('nb', clf4), ('svc', clf5)], voting='hard')\n",
    "\n",
    "# 訓練投票法分類器\n",
    "clf_vote.fit(x_chi_tfidf, chi_tfidf_label)\n",
    "\n",
    "# # 計算精度\n",
    "# from sklearn.metrics import accuracy_score\n",
    "# accuracy = accuracy_score(y_test, y_pred)\n",
    "# print(\"Accuracy: \" ,metrics.accuracy_score(y_test, y_pred)) "
   ]
  },
  {
   "cell_type": "code",
   "execution_count": 108,
   "metadata": {},
   "outputs": [
    {
     "data": {
      "text/plain": [
       "VotingClassifier(estimators=[('dt', DecisionTreeClassifier(random_state=1)),\n",
       "                             ('knn', KNeighborsClassifier(n_neighbors=7)),\n",
       "                             ('rf', RandomForestClassifier()),\n",
       "                             ('nb', MultinomialNB(alpha=0.01)),\n",
       "                             ('svc', SVC(kernel='linear'))])"
      ]
     },
     "execution_count": 108,
     "metadata": {},
     "output_type": "execute_result"
    }
   ],
   "source": [
    "#以下將自身資料切成train及test兩組，重新訓練一次，測試模型準確率\n",
    "from sklearn.model_selection import train_test_split\n",
    "chi_X_train, chi_X_test,chi_y_train, chi_y_test = train_test_split(x_chi_tfidf, chi_tfidf_label, test_size=0.30) #隨機挑選30%當測試資料\n",
    "classifier = VotingClassifier(estimators=[('dt', clf1), ('knn', clf2), ('rf', clf3), ('nb', clf4), ('svc', clf5)], voting='hard')\n",
    "classifier.fit(chi_X_train, chi_y_train) #訓練"
   ]
  },
  {
   "cell_type": "code",
   "execution_count": 109,
   "metadata": {},
   "outputs": [
    {
     "name": "stderr",
     "output_type": "stream",
     "text": [
      "c:\\ProgramData\\Anaconda3\\lib\\site-packages\\sklearn\\neighbors\\_classification.py:228: FutureWarning: Unlike other reduction functions (e.g. `skew`, `kurtosis`), the default behavior of `mode` typically preserves the axis it acts along. In SciPy 1.11.0, this behavior will change: the default value of `keepdims` will become False, the `axis` over which the statistic is taken will be eliminated, and the value None will no longer be accepted. Set `keepdims` to True or False to avoid this warning.\n",
      "  mode, _ = stats.mode(_y[neigh_ind, k], axis=1)\n"
     ]
    },
    {
     "name": "stdout",
     "output_type": "stream",
     "text": [
      "Accuracy: 0.7746967071057193\n"
     ]
    }
   ],
   "source": [
    "from sklearn import metrics \n",
    "from sklearn.metrics import accuracy_score\n",
    "chi_y_pred= classifier.predict(chi_X_test) #用測試資料預測\n",
    "print(\"Accuracy:\",metrics.accuracy_score(chi_y_test, chi_y_pred)) #比對答案，計算準確率"
   ]
  },
  {
   "cell_type": "code",
   "execution_count": 110,
   "metadata": {},
   "outputs": [
    {
     "name": "stdout",
     "output_type": "stream",
     "text": [
      "              precision    recall  f1-score   support\n",
      "\n",
      "           0       0.77      0.40      0.53       181\n",
      "           1       0.78      0.94      0.85       396\n",
      "\n",
      "    accuracy                           0.77       577\n",
      "   macro avg       0.77      0.67      0.69       577\n",
      "weighted avg       0.77      0.77      0.75       577\n",
      "\n"
     ]
    }
   ],
   "source": [
    "from sklearn.metrics import classification_report  \n",
    "print(classification_report(chi_y_test, chi_y_pred)) #印出分類報告"
   ]
  },
  {
   "cell_type": "code",
   "execution_count": 111,
   "metadata": {},
   "outputs": [
    {
     "name": "stdout",
     "output_type": "stream",
     "text": [
      "[[374  22]\n",
      " [108  73]]\n"
     ]
    }
   ],
   "source": [
    "from sklearn.metrics import confusion_matrix  \n",
    "print(confusion_matrix(chi_y_test, chi_y_pred, labels=[1,0])) #印出混淆矩陣\n",
    "# test/predicted 看漲   看跌\n",
    "#    看漲         TN     FP\n",
    "#    看跌         FN     TP"
   ]
  },
  {
   "attachments": {},
   "cell_type": "markdown",
   "metadata": {},
   "source": [
    "# 測試集文章向量化處理, 移動回測"
   ]
  },
  {
   "attachments": {},
   "cell_type": "markdown",
   "metadata": {},
   "source": [
    "### 文章向量化處理：透過 sklearn 套件中 TfidfVectorizer 將斷詞結果去除停用詞後轉為空間向量"
   ]
  },
  {
   "cell_type": "code",
   "execution_count": 112,
   "metadata": {},
   "outputs": [],
   "source": [
    "from sklearn.feature_extraction.text import TfidfVectorizer\n",
    "from sklearn.feature_selection import SelectKBest\n",
    "from sklearn.feature_selection import chi2"
   ]
  },
  {
   "cell_type": "code",
   "execution_count": 113,
   "metadata": {},
   "outputs": [
    {
     "data": {
      "text/plain": [
       "<1344x6747 sparse matrix of type '<class 'numpy.float64'>'\n",
       "\twith 8469 stored elements in Compressed Sparse Row format>"
      ]
     },
     "execution_count": 113,
     "metadata": {},
     "output_type": "execute_result"
    }
   ],
   "source": [
    "X_train"
   ]
  },
  {
   "cell_type": "code",
   "execution_count": 114,
   "metadata": {},
   "outputs": [
    {
     "data": {
      "text/plain": [
       "<1921x6747 sparse matrix of type '<class 'numpy.float64'>'\n",
       "\twith 12036 stored elements in Compressed Sparse Row format>"
      ]
     },
     "execution_count": 114,
     "metadata": {},
     "output_type": "execute_result"
    }
   ],
   "source": [
    "vectorizer = TfidfVectorizer(vocabulary = vocab, use_idf = True) #用給定的termset建構向量，並使用idf加權\n",
    "X = vectorizer.fit_transform(content) #用給定的文件集做計算\n",
    "X"
   ]
  },
  {
   "cell_type": "code",
   "execution_count": 115,
   "metadata": {},
   "outputs": [
    {
     "name": "stderr",
     "output_type": "stream",
     "text": [
      "c:\\ProgramData\\Anaconda3\\lib\\site-packages\\sklearn\\utils\\deprecation.py:87: FutureWarning: Function get_feature_names is deprecated; get_feature_names is deprecated in 1.0 and will be removed in 1.2. Please use get_feature_names_out instead.\n",
      "  warnings.warn(msg, category=FutureWarning)\n"
     ]
    },
    {
     "data": {
      "text/html": [
       "<div>\n",
       "<style scoped>\n",
       "    .dataframe tbody tr th:only-of-type {\n",
       "        vertical-align: middle;\n",
       "    }\n",
       "\n",
       "    .dataframe tbody tr th {\n",
       "        vertical-align: top;\n",
       "    }\n",
       "\n",
       "    .dataframe thead th {\n",
       "        text-align: right;\n",
       "    }\n",
       "</style>\n",
       "<table border=\"1\" class=\"dataframe\">\n",
       "  <thead>\n",
       "    <tr style=\"text-align: right;\">\n",
       "      <th></th>\n",
       "      <th>超象</th>\n",
       "      <th>加緊</th>\n",
       "      <th>札卡利亞</th>\n",
       "      <th>影視</th>\n",
       "      <th>拖延</th>\n",
       "      <th>傾力</th>\n",
       "      <th>遇壓走出盤</th>\n",
       "      <th>富邦恒生</th>\n",
       "      <th>台電</th>\n",
       "      <th>月單</th>\n",
       "      <th>...</th>\n",
       "      <th>儲蓄</th>\n",
       "      <th>湧進</th>\n",
       "      <th>中共</th>\n",
       "      <th>競逐</th>\n",
       "      <th>任日</th>\n",
       "      <th>台開</th>\n",
       "      <th>席一般</th>\n",
       "      <th>轉交給</th>\n",
       "      <th>印度諾伊達</th>\n",
       "      <th>周周漲</th>\n",
       "    </tr>\n",
       "  </thead>\n",
       "  <tbody>\n",
       "    <tr>\n",
       "      <th>0</th>\n",
       "      <td>0.0</td>\n",
       "      <td>0.0</td>\n",
       "      <td>0.0</td>\n",
       "      <td>0.0</td>\n",
       "      <td>0.0</td>\n",
       "      <td>0.0</td>\n",
       "      <td>0.0</td>\n",
       "      <td>0.0</td>\n",
       "      <td>0.0</td>\n",
       "      <td>0.0</td>\n",
       "      <td>...</td>\n",
       "      <td>0.0</td>\n",
       "      <td>0.0</td>\n",
       "      <td>0.0</td>\n",
       "      <td>0.0</td>\n",
       "      <td>0.0</td>\n",
       "      <td>0.0</td>\n",
       "      <td>0.0</td>\n",
       "      <td>0.0</td>\n",
       "      <td>0.0</td>\n",
       "      <td>0.0</td>\n",
       "    </tr>\n",
       "    <tr>\n",
       "      <th>1</th>\n",
       "      <td>0.0</td>\n",
       "      <td>0.0</td>\n",
       "      <td>0.0</td>\n",
       "      <td>0.0</td>\n",
       "      <td>0.0</td>\n",
       "      <td>0.0</td>\n",
       "      <td>0.0</td>\n",
       "      <td>0.0</td>\n",
       "      <td>0.0</td>\n",
       "      <td>0.0</td>\n",
       "      <td>...</td>\n",
       "      <td>0.0</td>\n",
       "      <td>0.0</td>\n",
       "      <td>0.0</td>\n",
       "      <td>0.0</td>\n",
       "      <td>0.0</td>\n",
       "      <td>0.0</td>\n",
       "      <td>0.0</td>\n",
       "      <td>0.0</td>\n",
       "      <td>0.0</td>\n",
       "      <td>0.0</td>\n",
       "    </tr>\n",
       "    <tr>\n",
       "      <th>2</th>\n",
       "      <td>0.0</td>\n",
       "      <td>0.0</td>\n",
       "      <td>0.0</td>\n",
       "      <td>0.0</td>\n",
       "      <td>0.0</td>\n",
       "      <td>0.0</td>\n",
       "      <td>0.0</td>\n",
       "      <td>0.0</td>\n",
       "      <td>0.0</td>\n",
       "      <td>0.0</td>\n",
       "      <td>...</td>\n",
       "      <td>0.0</td>\n",
       "      <td>0.0</td>\n",
       "      <td>0.0</td>\n",
       "      <td>0.0</td>\n",
       "      <td>0.0</td>\n",
       "      <td>0.0</td>\n",
       "      <td>0.0</td>\n",
       "      <td>0.0</td>\n",
       "      <td>0.0</td>\n",
       "      <td>0.0</td>\n",
       "    </tr>\n",
       "    <tr>\n",
       "      <th>3</th>\n",
       "      <td>0.0</td>\n",
       "      <td>0.0</td>\n",
       "      <td>0.0</td>\n",
       "      <td>0.0</td>\n",
       "      <td>0.0</td>\n",
       "      <td>0.0</td>\n",
       "      <td>0.0</td>\n",
       "      <td>0.0</td>\n",
       "      <td>0.0</td>\n",
       "      <td>0.0</td>\n",
       "      <td>...</td>\n",
       "      <td>0.0</td>\n",
       "      <td>0.0</td>\n",
       "      <td>0.0</td>\n",
       "      <td>0.0</td>\n",
       "      <td>0.0</td>\n",
       "      <td>0.0</td>\n",
       "      <td>0.0</td>\n",
       "      <td>0.0</td>\n",
       "      <td>0.0</td>\n",
       "      <td>0.0</td>\n",
       "    </tr>\n",
       "    <tr>\n",
       "      <th>4</th>\n",
       "      <td>0.0</td>\n",
       "      <td>0.0</td>\n",
       "      <td>0.0</td>\n",
       "      <td>0.0</td>\n",
       "      <td>0.0</td>\n",
       "      <td>0.0</td>\n",
       "      <td>0.0</td>\n",
       "      <td>0.0</td>\n",
       "      <td>0.0</td>\n",
       "      <td>0.0</td>\n",
       "      <td>...</td>\n",
       "      <td>0.0</td>\n",
       "      <td>0.0</td>\n",
       "      <td>0.0</td>\n",
       "      <td>0.0</td>\n",
       "      <td>0.0</td>\n",
       "      <td>0.0</td>\n",
       "      <td>0.0</td>\n",
       "      <td>0.0</td>\n",
       "      <td>0.0</td>\n",
       "      <td>0.0</td>\n",
       "    </tr>\n",
       "    <tr>\n",
       "      <th>...</th>\n",
       "      <td>...</td>\n",
       "      <td>...</td>\n",
       "      <td>...</td>\n",
       "      <td>...</td>\n",
       "      <td>...</td>\n",
       "      <td>...</td>\n",
       "      <td>...</td>\n",
       "      <td>...</td>\n",
       "      <td>...</td>\n",
       "      <td>...</td>\n",
       "      <td>...</td>\n",
       "      <td>...</td>\n",
       "      <td>...</td>\n",
       "      <td>...</td>\n",
       "      <td>...</td>\n",
       "      <td>...</td>\n",
       "      <td>...</td>\n",
       "      <td>...</td>\n",
       "      <td>...</td>\n",
       "      <td>...</td>\n",
       "      <td>...</td>\n",
       "    </tr>\n",
       "    <tr>\n",
       "      <th>1916</th>\n",
       "      <td>0.0</td>\n",
       "      <td>0.0</td>\n",
       "      <td>0.0</td>\n",
       "      <td>0.0</td>\n",
       "      <td>0.0</td>\n",
       "      <td>0.0</td>\n",
       "      <td>0.0</td>\n",
       "      <td>0.0</td>\n",
       "      <td>0.0</td>\n",
       "      <td>0.0</td>\n",
       "      <td>...</td>\n",
       "      <td>0.0</td>\n",
       "      <td>0.0</td>\n",
       "      <td>0.0</td>\n",
       "      <td>0.0</td>\n",
       "      <td>0.0</td>\n",
       "      <td>0.0</td>\n",
       "      <td>0.0</td>\n",
       "      <td>0.0</td>\n",
       "      <td>0.0</td>\n",
       "      <td>0.0</td>\n",
       "    </tr>\n",
       "    <tr>\n",
       "      <th>1917</th>\n",
       "      <td>0.0</td>\n",
       "      <td>0.0</td>\n",
       "      <td>0.0</td>\n",
       "      <td>0.0</td>\n",
       "      <td>0.0</td>\n",
       "      <td>0.0</td>\n",
       "      <td>0.0</td>\n",
       "      <td>0.0</td>\n",
       "      <td>0.0</td>\n",
       "      <td>0.0</td>\n",
       "      <td>...</td>\n",
       "      <td>0.0</td>\n",
       "      <td>0.0</td>\n",
       "      <td>0.0</td>\n",
       "      <td>0.0</td>\n",
       "      <td>0.0</td>\n",
       "      <td>0.0</td>\n",
       "      <td>0.0</td>\n",
       "      <td>0.0</td>\n",
       "      <td>0.0</td>\n",
       "      <td>0.0</td>\n",
       "    </tr>\n",
       "    <tr>\n",
       "      <th>1918</th>\n",
       "      <td>0.0</td>\n",
       "      <td>0.0</td>\n",
       "      <td>0.0</td>\n",
       "      <td>0.0</td>\n",
       "      <td>0.0</td>\n",
       "      <td>0.0</td>\n",
       "      <td>0.0</td>\n",
       "      <td>0.0</td>\n",
       "      <td>0.0</td>\n",
       "      <td>0.0</td>\n",
       "      <td>...</td>\n",
       "      <td>0.0</td>\n",
       "      <td>0.0</td>\n",
       "      <td>0.0</td>\n",
       "      <td>0.0</td>\n",
       "      <td>0.0</td>\n",
       "      <td>0.0</td>\n",
       "      <td>0.0</td>\n",
       "      <td>0.0</td>\n",
       "      <td>0.0</td>\n",
       "      <td>0.0</td>\n",
       "    </tr>\n",
       "    <tr>\n",
       "      <th>1919</th>\n",
       "      <td>0.0</td>\n",
       "      <td>0.0</td>\n",
       "      <td>0.0</td>\n",
       "      <td>0.0</td>\n",
       "      <td>0.0</td>\n",
       "      <td>0.0</td>\n",
       "      <td>0.0</td>\n",
       "      <td>0.0</td>\n",
       "      <td>0.0</td>\n",
       "      <td>0.0</td>\n",
       "      <td>...</td>\n",
       "      <td>0.0</td>\n",
       "      <td>0.0</td>\n",
       "      <td>0.0</td>\n",
       "      <td>0.0</td>\n",
       "      <td>0.0</td>\n",
       "      <td>0.0</td>\n",
       "      <td>0.0</td>\n",
       "      <td>0.0</td>\n",
       "      <td>0.0</td>\n",
       "      <td>0.0</td>\n",
       "    </tr>\n",
       "    <tr>\n",
       "      <th>1920</th>\n",
       "      <td>0.0</td>\n",
       "      <td>0.0</td>\n",
       "      <td>0.0</td>\n",
       "      <td>0.0</td>\n",
       "      <td>0.0</td>\n",
       "      <td>0.0</td>\n",
       "      <td>0.0</td>\n",
       "      <td>0.0</td>\n",
       "      <td>0.0</td>\n",
       "      <td>0.0</td>\n",
       "      <td>...</td>\n",
       "      <td>0.0</td>\n",
       "      <td>0.0</td>\n",
       "      <td>0.0</td>\n",
       "      <td>0.0</td>\n",
       "      <td>0.0</td>\n",
       "      <td>0.0</td>\n",
       "      <td>0.0</td>\n",
       "      <td>0.0</td>\n",
       "      <td>0.0</td>\n",
       "      <td>0.0</td>\n",
       "    </tr>\n",
       "  </tbody>\n",
       "</table>\n",
       "<p>1921 rows × 6747 columns</p>\n",
       "</div>"
      ],
      "text/plain": [
       "       超象   加緊  札卡利亞   影視   拖延   傾力  遇壓走出盤  富邦恒生   台電   月單  ...   儲蓄   湧進  \\\n",
       "0     0.0  0.0   0.0  0.0  0.0  0.0    0.0   0.0  0.0  0.0  ...  0.0  0.0   \n",
       "1     0.0  0.0   0.0  0.0  0.0  0.0    0.0   0.0  0.0  0.0  ...  0.0  0.0   \n",
       "2     0.0  0.0   0.0  0.0  0.0  0.0    0.0   0.0  0.0  0.0  ...  0.0  0.0   \n",
       "3     0.0  0.0   0.0  0.0  0.0  0.0    0.0   0.0  0.0  0.0  ...  0.0  0.0   \n",
       "4     0.0  0.0   0.0  0.0  0.0  0.0    0.0   0.0  0.0  0.0  ...  0.0  0.0   \n",
       "...   ...  ...   ...  ...  ...  ...    ...   ...  ...  ...  ...  ...  ...   \n",
       "1916  0.0  0.0   0.0  0.0  0.0  0.0    0.0   0.0  0.0  0.0  ...  0.0  0.0   \n",
       "1917  0.0  0.0   0.0  0.0  0.0  0.0    0.0   0.0  0.0  0.0  ...  0.0  0.0   \n",
       "1918  0.0  0.0   0.0  0.0  0.0  0.0    0.0   0.0  0.0  0.0  ...  0.0  0.0   \n",
       "1919  0.0  0.0   0.0  0.0  0.0  0.0    0.0   0.0  0.0  0.0  ...  0.0  0.0   \n",
       "1920  0.0  0.0   0.0  0.0  0.0  0.0    0.0   0.0  0.0  0.0  ...  0.0  0.0   \n",
       "\n",
       "       中共   競逐   任日   台開  席一般  轉交給  印度諾伊達  周周漲  \n",
       "0     0.0  0.0  0.0  0.0  0.0  0.0    0.0  0.0  \n",
       "1     0.0  0.0  0.0  0.0  0.0  0.0    0.0  0.0  \n",
       "2     0.0  0.0  0.0  0.0  0.0  0.0    0.0  0.0  \n",
       "3     0.0  0.0  0.0  0.0  0.0  0.0    0.0  0.0  \n",
       "4     0.0  0.0  0.0  0.0  0.0  0.0    0.0  0.0  \n",
       "...   ...  ...  ...  ...  ...  ...    ...  ...  \n",
       "1916  0.0  0.0  0.0  0.0  0.0  0.0    0.0  0.0  \n",
       "1917  0.0  0.0  0.0  0.0  0.0  0.0    0.0  0.0  \n",
       "1918  0.0  0.0  0.0  0.0  0.0  0.0    0.0  0.0  \n",
       "1919  0.0  0.0  0.0  0.0  0.0  0.0    0.0  0.0  \n",
       "1920  0.0  0.0  0.0  0.0  0.0  0.0    0.0  0.0  \n",
       "\n",
       "[1921 rows x 6747 columns]"
      ]
     },
     "execution_count": 115,
     "metadata": {},
     "output_type": "execute_result"
    }
   ],
   "source": [
    "X_train = pd.DataFrame(X.toarray(),columns=vectorizer.get_feature_names())\n",
    "X_train"
   ]
  },
  {
   "cell_type": "code",
   "execution_count": 116,
   "metadata": {},
   "outputs": [
    {
     "data": {
      "text/html": [
       "<div>\n",
       "<style scoped>\n",
       "    .dataframe tbody tr th:only-of-type {\n",
       "        vertical-align: middle;\n",
       "    }\n",
       "\n",
       "    .dataframe tbody tr th {\n",
       "        vertical-align: top;\n",
       "    }\n",
       "\n",
       "    .dataframe thead th {\n",
       "        text-align: right;\n",
       "    }\n",
       "</style>\n",
       "<table border=\"1\" class=\"dataframe\">\n",
       "  <thead>\n",
       "    <tr style=\"text-align: right;\">\n",
       "      <th></th>\n",
       "      <th>札卡利亞</th>\n",
       "      <th>傾力</th>\n",
       "      <th>遇壓走出盤</th>\n",
       "      <th>富邦恒生</th>\n",
       "      <th>台電</th>\n",
       "      <th>月單</th>\n",
       "      <th>醫學</th>\n",
       "      <th>高人</th>\n",
       "      <th>趙承佑</th>\n",
       "      <th>一展</th>\n",
       "      <th>...</th>\n",
       "      <th>儲蓄</th>\n",
       "      <th>湧進</th>\n",
       "      <th>中共</th>\n",
       "      <th>競逐</th>\n",
       "      <th>任日</th>\n",
       "      <th>台開</th>\n",
       "      <th>席一般</th>\n",
       "      <th>轉交給</th>\n",
       "      <th>印度諾伊達</th>\n",
       "      <th>周周漲</th>\n",
       "    </tr>\n",
       "  </thead>\n",
       "  <tbody>\n",
       "    <tr>\n",
       "      <th>0</th>\n",
       "      <td>0.0</td>\n",
       "      <td>0.0</td>\n",
       "      <td>0.0</td>\n",
       "      <td>0.0</td>\n",
       "      <td>0.0</td>\n",
       "      <td>0.0</td>\n",
       "      <td>0.0</td>\n",
       "      <td>0.0</td>\n",
       "      <td>0.0</td>\n",
       "      <td>0.0</td>\n",
       "      <td>...</td>\n",
       "      <td>0.0</td>\n",
       "      <td>0.0</td>\n",
       "      <td>0.0</td>\n",
       "      <td>0.0</td>\n",
       "      <td>0.0</td>\n",
       "      <td>0.0</td>\n",
       "      <td>0.0</td>\n",
       "      <td>0.0</td>\n",
       "      <td>0.0</td>\n",
       "      <td>0.0</td>\n",
       "    </tr>\n",
       "    <tr>\n",
       "      <th>1</th>\n",
       "      <td>0.0</td>\n",
       "      <td>0.0</td>\n",
       "      <td>0.0</td>\n",
       "      <td>0.0</td>\n",
       "      <td>0.0</td>\n",
       "      <td>0.0</td>\n",
       "      <td>0.0</td>\n",
       "      <td>0.0</td>\n",
       "      <td>0.0</td>\n",
       "      <td>0.0</td>\n",
       "      <td>...</td>\n",
       "      <td>0.0</td>\n",
       "      <td>0.0</td>\n",
       "      <td>0.0</td>\n",
       "      <td>0.0</td>\n",
       "      <td>0.0</td>\n",
       "      <td>0.0</td>\n",
       "      <td>0.0</td>\n",
       "      <td>0.0</td>\n",
       "      <td>0.0</td>\n",
       "      <td>0.0</td>\n",
       "    </tr>\n",
       "    <tr>\n",
       "      <th>2</th>\n",
       "      <td>0.0</td>\n",
       "      <td>0.0</td>\n",
       "      <td>0.0</td>\n",
       "      <td>0.0</td>\n",
       "      <td>0.0</td>\n",
       "      <td>0.0</td>\n",
       "      <td>0.0</td>\n",
       "      <td>0.0</td>\n",
       "      <td>0.0</td>\n",
       "      <td>0.0</td>\n",
       "      <td>...</td>\n",
       "      <td>0.0</td>\n",
       "      <td>0.0</td>\n",
       "      <td>0.0</td>\n",
       "      <td>0.0</td>\n",
       "      <td>0.0</td>\n",
       "      <td>0.0</td>\n",
       "      <td>0.0</td>\n",
       "      <td>0.0</td>\n",
       "      <td>0.0</td>\n",
       "      <td>0.0</td>\n",
       "    </tr>\n",
       "    <tr>\n",
       "      <th>3</th>\n",
       "      <td>0.0</td>\n",
       "      <td>0.0</td>\n",
       "      <td>0.0</td>\n",
       "      <td>0.0</td>\n",
       "      <td>0.0</td>\n",
       "      <td>0.0</td>\n",
       "      <td>0.0</td>\n",
       "      <td>0.0</td>\n",
       "      <td>0.0</td>\n",
       "      <td>0.0</td>\n",
       "      <td>...</td>\n",
       "      <td>0.0</td>\n",
       "      <td>0.0</td>\n",
       "      <td>0.0</td>\n",
       "      <td>0.0</td>\n",
       "      <td>0.0</td>\n",
       "      <td>0.0</td>\n",
       "      <td>0.0</td>\n",
       "      <td>0.0</td>\n",
       "      <td>0.0</td>\n",
       "      <td>0.0</td>\n",
       "    </tr>\n",
       "    <tr>\n",
       "      <th>4</th>\n",
       "      <td>0.0</td>\n",
       "      <td>0.0</td>\n",
       "      <td>0.0</td>\n",
       "      <td>0.0</td>\n",
       "      <td>0.0</td>\n",
       "      <td>0.0</td>\n",
       "      <td>0.0</td>\n",
       "      <td>0.0</td>\n",
       "      <td>0.0</td>\n",
       "      <td>0.0</td>\n",
       "      <td>...</td>\n",
       "      <td>0.0</td>\n",
       "      <td>0.0</td>\n",
       "      <td>0.0</td>\n",
       "      <td>0.0</td>\n",
       "      <td>0.0</td>\n",
       "      <td>0.0</td>\n",
       "      <td>0.0</td>\n",
       "      <td>0.0</td>\n",
       "      <td>0.0</td>\n",
       "      <td>0.0</td>\n",
       "    </tr>\n",
       "    <tr>\n",
       "      <th>...</th>\n",
       "      <td>...</td>\n",
       "      <td>...</td>\n",
       "      <td>...</td>\n",
       "      <td>...</td>\n",
       "      <td>...</td>\n",
       "      <td>...</td>\n",
       "      <td>...</td>\n",
       "      <td>...</td>\n",
       "      <td>...</td>\n",
       "      <td>...</td>\n",
       "      <td>...</td>\n",
       "      <td>...</td>\n",
       "      <td>...</td>\n",
       "      <td>...</td>\n",
       "      <td>...</td>\n",
       "      <td>...</td>\n",
       "      <td>...</td>\n",
       "      <td>...</td>\n",
       "      <td>...</td>\n",
       "      <td>...</td>\n",
       "      <td>...</td>\n",
       "    </tr>\n",
       "    <tr>\n",
       "      <th>1916</th>\n",
       "      <td>0.0</td>\n",
       "      <td>0.0</td>\n",
       "      <td>0.0</td>\n",
       "      <td>0.0</td>\n",
       "      <td>0.0</td>\n",
       "      <td>0.0</td>\n",
       "      <td>0.0</td>\n",
       "      <td>0.0</td>\n",
       "      <td>0.0</td>\n",
       "      <td>0.0</td>\n",
       "      <td>...</td>\n",
       "      <td>0.0</td>\n",
       "      <td>0.0</td>\n",
       "      <td>0.0</td>\n",
       "      <td>0.0</td>\n",
       "      <td>0.0</td>\n",
       "      <td>0.0</td>\n",
       "      <td>0.0</td>\n",
       "      <td>0.0</td>\n",
       "      <td>0.0</td>\n",
       "      <td>0.0</td>\n",
       "    </tr>\n",
       "    <tr>\n",
       "      <th>1917</th>\n",
       "      <td>0.0</td>\n",
       "      <td>0.0</td>\n",
       "      <td>0.0</td>\n",
       "      <td>0.0</td>\n",
       "      <td>0.0</td>\n",
       "      <td>0.0</td>\n",
       "      <td>0.0</td>\n",
       "      <td>0.0</td>\n",
       "      <td>0.0</td>\n",
       "      <td>0.0</td>\n",
       "      <td>...</td>\n",
       "      <td>0.0</td>\n",
       "      <td>0.0</td>\n",
       "      <td>0.0</td>\n",
       "      <td>0.0</td>\n",
       "      <td>0.0</td>\n",
       "      <td>0.0</td>\n",
       "      <td>0.0</td>\n",
       "      <td>0.0</td>\n",
       "      <td>0.0</td>\n",
       "      <td>0.0</td>\n",
       "    </tr>\n",
       "    <tr>\n",
       "      <th>1918</th>\n",
       "      <td>0.0</td>\n",
       "      <td>0.0</td>\n",
       "      <td>0.0</td>\n",
       "      <td>0.0</td>\n",
       "      <td>0.0</td>\n",
       "      <td>0.0</td>\n",
       "      <td>0.0</td>\n",
       "      <td>0.0</td>\n",
       "      <td>0.0</td>\n",
       "      <td>0.0</td>\n",
       "      <td>...</td>\n",
       "      <td>0.0</td>\n",
       "      <td>0.0</td>\n",
       "      <td>0.0</td>\n",
       "      <td>0.0</td>\n",
       "      <td>0.0</td>\n",
       "      <td>0.0</td>\n",
       "      <td>0.0</td>\n",
       "      <td>0.0</td>\n",
       "      <td>0.0</td>\n",
       "      <td>0.0</td>\n",
       "    </tr>\n",
       "    <tr>\n",
       "      <th>1919</th>\n",
       "      <td>0.0</td>\n",
       "      <td>0.0</td>\n",
       "      <td>0.0</td>\n",
       "      <td>0.0</td>\n",
       "      <td>0.0</td>\n",
       "      <td>0.0</td>\n",
       "      <td>0.0</td>\n",
       "      <td>0.0</td>\n",
       "      <td>0.0</td>\n",
       "      <td>0.0</td>\n",
       "      <td>...</td>\n",
       "      <td>0.0</td>\n",
       "      <td>0.0</td>\n",
       "      <td>0.0</td>\n",
       "      <td>0.0</td>\n",
       "      <td>0.0</td>\n",
       "      <td>0.0</td>\n",
       "      <td>0.0</td>\n",
       "      <td>0.0</td>\n",
       "      <td>0.0</td>\n",
       "      <td>0.0</td>\n",
       "    </tr>\n",
       "    <tr>\n",
       "      <th>1920</th>\n",
       "      <td>0.0</td>\n",
       "      <td>0.0</td>\n",
       "      <td>0.0</td>\n",
       "      <td>0.0</td>\n",
       "      <td>0.0</td>\n",
       "      <td>0.0</td>\n",
       "      <td>0.0</td>\n",
       "      <td>0.0</td>\n",
       "      <td>0.0</td>\n",
       "      <td>0.0</td>\n",
       "      <td>...</td>\n",
       "      <td>0.0</td>\n",
       "      <td>0.0</td>\n",
       "      <td>0.0</td>\n",
       "      <td>0.0</td>\n",
       "      <td>0.0</td>\n",
       "      <td>0.0</td>\n",
       "      <td>0.0</td>\n",
       "      <td>0.0</td>\n",
       "      <td>0.0</td>\n",
       "      <td>0.0</td>\n",
       "    </tr>\n",
       "  </tbody>\n",
       "</table>\n",
       "<p>1921 rows × 5000 columns</p>\n",
       "</div>"
      ],
      "text/plain": [
       "      札卡利亞   傾力  遇壓走出盤  富邦恒生   台電   月單   醫學   高人  趙承佑   一展  ...   儲蓄   湧進  \\\n",
       "0      0.0  0.0    0.0   0.0  0.0  0.0  0.0  0.0  0.0  0.0  ...  0.0  0.0   \n",
       "1      0.0  0.0    0.0   0.0  0.0  0.0  0.0  0.0  0.0  0.0  ...  0.0  0.0   \n",
       "2      0.0  0.0    0.0   0.0  0.0  0.0  0.0  0.0  0.0  0.0  ...  0.0  0.0   \n",
       "3      0.0  0.0    0.0   0.0  0.0  0.0  0.0  0.0  0.0  0.0  ...  0.0  0.0   \n",
       "4      0.0  0.0    0.0   0.0  0.0  0.0  0.0  0.0  0.0  0.0  ...  0.0  0.0   \n",
       "...    ...  ...    ...   ...  ...  ...  ...  ...  ...  ...  ...  ...  ...   \n",
       "1916   0.0  0.0    0.0   0.0  0.0  0.0  0.0  0.0  0.0  0.0  ...  0.0  0.0   \n",
       "1917   0.0  0.0    0.0   0.0  0.0  0.0  0.0  0.0  0.0  0.0  ...  0.0  0.0   \n",
       "1918   0.0  0.0    0.0   0.0  0.0  0.0  0.0  0.0  0.0  0.0  ...  0.0  0.0   \n",
       "1919   0.0  0.0    0.0   0.0  0.0  0.0  0.0  0.0  0.0  0.0  ...  0.0  0.0   \n",
       "1920   0.0  0.0    0.0   0.0  0.0  0.0  0.0  0.0  0.0  0.0  ...  0.0  0.0   \n",
       "\n",
       "       中共   競逐   任日   台開  席一般  轉交給  印度諾伊達  周周漲  \n",
       "0     0.0  0.0  0.0  0.0  0.0  0.0    0.0  0.0  \n",
       "1     0.0  0.0  0.0  0.0  0.0  0.0    0.0  0.0  \n",
       "2     0.0  0.0  0.0  0.0  0.0  0.0    0.0  0.0  \n",
       "3     0.0  0.0  0.0  0.0  0.0  0.0    0.0  0.0  \n",
       "4     0.0  0.0  0.0  0.0  0.0  0.0    0.0  0.0  \n",
       "...   ...  ...  ...  ...  ...  ...    ...  ...  \n",
       "1916  0.0  0.0  0.0  0.0  0.0  0.0    0.0  0.0  \n",
       "1917  0.0  0.0  0.0  0.0  0.0  0.0    0.0  0.0  \n",
       "1918  0.0  0.0  0.0  0.0  0.0  0.0    0.0  0.0  \n",
       "1919  0.0  0.0  0.0  0.0  0.0  0.0    0.0  0.0  \n",
       "1920  0.0  0.0  0.0  0.0  0.0  0.0    0.0  0.0  \n",
       "\n",
       "[1921 rows x 5000 columns]"
      ]
     },
     "execution_count": 116,
     "metadata": {},
     "output_type": "execute_result"
    }
   ],
   "source": [
    "y_train = wistron_term_trend_df['label']\n",
    "\n",
    "chi2_selector = SelectKBest(chi2, k = 5000)\n",
    "chi2_selector.fit(X_train, y_train)\n",
    "kbest_vocabs = X_train.columns[chi2_selector.get_support()]\n",
    "X_train = X_train[kbest_vocabs]\n",
    "X_train"
   ]
  },
  {
   "cell_type": "code",
   "execution_count": 117,
   "metadata": {},
   "outputs": [
    {
     "data": {
      "text/plain": [
       "0.9442998438313378"
      ]
     },
     "execution_count": 117,
     "metadata": {},
     "output_type": "execute_result"
    }
   ],
   "source": [
    "from sklearn.ensemble import GradientBoostingClassifier\n",
    "clf = GradientBoostingClassifier(n_estimators=100, learning_rate=1, max_depth=7, random_state=0)\n",
    "clf.fit(X_train, y_train)\n",
    "clf.score(X_train, y_train)"
   ]
  },
  {
   "attachments": {},
   "cell_type": "markdown",
   "metadata": {},
   "source": [
    "##### 透過 7-9 月的向量維度將 10 月份的文章也轉成 tf-idf 的向量空間"
   ]
  },
  {
   "cell_type": "code",
   "execution_count": 118,
   "metadata": {},
   "outputs": [],
   "source": [
    "import datetime\n",
    "def clearSentence(sentence):\n",
    "    return re.sub(r'[^\\u4e00-\\u9fa5]+', '', sentence)\n",
    "wistron_term_trend_df['date'] = pd.to_datetime(wistron_term_trend_df['date']).dt.date\n",
    "# 設定訓練資料集的開始日期與結束日期\n",
    "train_startDate = datetime.date(2022,5,1)\n",
    "train_endDate = datetime.date(2022,7,30)\n",
    "\n",
    "# 透過monpa對文章進行斷詞處理，並將個別斷詞結果寫在tokenStr這個字串變數中，最後再將訓練集中所有字串存在tokenStr_list中\n",
    "train_tokenStr_list = []\n",
    "for i in list(wistron_term_trend_df[wistron_term_trend_df['date'].between(train_startDate, train_endDate)].index):\n",
    "    try:\n",
    "#         txt = clearSentence(bbs23_ase['content'][i])\n",
    "        sentence_list = utils.short_sentence(wistron_term_trend_df['content'][i])\n",
    "        tokenStr = str()\n",
    "        for sentence in sentence_list:\n",
    "            sentence = clearSentence(sentence)\n",
    "            tokens = monpa.cut(sentence)\n",
    "            tokenStr += ' '.join(tokens)\n",
    "        train_tokenStr_list.append(tokenStr)\n",
    "    except:\n",
    "        train_tokenStr_list.append('')"
   ]
  },
  {
   "cell_type": "code",
   "execution_count": 119,
   "metadata": {},
   "outputs": [],
   "source": [
    "# 首先先計算指定月份的文章個別的tfidf\n",
    "test_startDate = datetime.date(2021,8,1)\n",
    "test_endDate = datetime.date(2021,8,30)\n",
    "\n",
    "test_tokenStr_list = []\n",
    "for i in list(wistron_term_trend_df[wistron_term_trend_df['date'].between(test_startDate, test_endDate)].index):\n",
    "    try:\n",
    "        txt = clearSentence(wistron_term_trend_df['content'][i])\n",
    "        sentence_list = utils.short_sentence(txt)\n",
    "        tokenStr = str()\n",
    "        for sentence in sentence_list:\n",
    "            tokens = monpa.cut(sentence)\n",
    "            tokenStr += ' '.join(tokens)\n",
    "        test_tokenStr_list.append(tokenStr)\n",
    "    except:\n",
    "        test_tokenStr_list.append('')"
   ]
  },
  {
   "cell_type": "code",
   "execution_count": 120,
   "metadata": {},
   "outputs": [
    {
     "name": "stderr",
     "output_type": "stream",
     "text": [
      "c:\\ProgramData\\Anaconda3\\lib\\site-packages\\sklearn\\utils\\deprecation.py:87: FutureWarning: Function get_feature_names is deprecated; get_feature_names is deprecated in 1.0 and will be removed in 1.2. Please use get_feature_names_out instead.\n",
      "  warnings.warn(msg, category=FutureWarning)\n"
     ]
    },
    {
     "data": {
      "text/html": [
       "<div>\n",
       "<style scoped>\n",
       "    .dataframe tbody tr th:only-of-type {\n",
       "        vertical-align: middle;\n",
       "    }\n",
       "\n",
       "    .dataframe tbody tr th {\n",
       "        vertical-align: top;\n",
       "    }\n",
       "\n",
       "    .dataframe thead th {\n",
       "        text-align: right;\n",
       "    }\n",
       "</style>\n",
       "<table border=\"1\" class=\"dataframe\">\n",
       "  <thead>\n",
       "    <tr style=\"text-align: right;\">\n",
       "      <th></th>\n",
       "      <th>札卡利亞</th>\n",
       "      <th>傾力</th>\n",
       "      <th>遇壓走出盤</th>\n",
       "      <th>富邦恒生</th>\n",
       "      <th>台電</th>\n",
       "      <th>月單</th>\n",
       "      <th>醫學</th>\n",
       "      <th>高人</th>\n",
       "      <th>趙承佑</th>\n",
       "      <th>一展</th>\n",
       "      <th>...</th>\n",
       "      <th>儲蓄</th>\n",
       "      <th>湧進</th>\n",
       "      <th>中共</th>\n",
       "      <th>競逐</th>\n",
       "      <th>任日</th>\n",
       "      <th>台開</th>\n",
       "      <th>席一般</th>\n",
       "      <th>轉交給</th>\n",
       "      <th>印度諾伊達</th>\n",
       "      <th>周周漲</th>\n",
       "    </tr>\n",
       "  </thead>\n",
       "  <tbody>\n",
       "    <tr>\n",
       "      <th>0</th>\n",
       "      <td>0.0</td>\n",
       "      <td>0.0</td>\n",
       "      <td>0.0</td>\n",
       "      <td>0.0</td>\n",
       "      <td>0.0</td>\n",
       "      <td>0.0</td>\n",
       "      <td>0.0</td>\n",
       "      <td>0.0</td>\n",
       "      <td>0.0</td>\n",
       "      <td>0.0</td>\n",
       "      <td>...</td>\n",
       "      <td>0.0</td>\n",
       "      <td>0.0</td>\n",
       "      <td>0.0</td>\n",
       "      <td>0.0</td>\n",
       "      <td>0.0</td>\n",
       "      <td>0.0</td>\n",
       "      <td>0.0</td>\n",
       "      <td>0.0</td>\n",
       "      <td>0.0</td>\n",
       "      <td>0.0</td>\n",
       "    </tr>\n",
       "    <tr>\n",
       "      <th>1</th>\n",
       "      <td>0.0</td>\n",
       "      <td>0.0</td>\n",
       "      <td>0.0</td>\n",
       "      <td>0.0</td>\n",
       "      <td>0.0</td>\n",
       "      <td>0.0</td>\n",
       "      <td>0.0</td>\n",
       "      <td>0.0</td>\n",
       "      <td>0.0</td>\n",
       "      <td>0.0</td>\n",
       "      <td>...</td>\n",
       "      <td>0.0</td>\n",
       "      <td>0.0</td>\n",
       "      <td>0.0</td>\n",
       "      <td>0.0</td>\n",
       "      <td>0.0</td>\n",
       "      <td>0.0</td>\n",
       "      <td>0.0</td>\n",
       "      <td>0.0</td>\n",
       "      <td>0.0</td>\n",
       "      <td>0.0</td>\n",
       "    </tr>\n",
       "    <tr>\n",
       "      <th>2</th>\n",
       "      <td>0.0</td>\n",
       "      <td>0.0</td>\n",
       "      <td>0.0</td>\n",
       "      <td>0.0</td>\n",
       "      <td>0.0</td>\n",
       "      <td>0.0</td>\n",
       "      <td>0.0</td>\n",
       "      <td>0.0</td>\n",
       "      <td>0.0</td>\n",
       "      <td>0.0</td>\n",
       "      <td>...</td>\n",
       "      <td>0.0</td>\n",
       "      <td>0.0</td>\n",
       "      <td>0.0</td>\n",
       "      <td>0.0</td>\n",
       "      <td>0.0</td>\n",
       "      <td>0.0</td>\n",
       "      <td>0.0</td>\n",
       "      <td>0.0</td>\n",
       "      <td>0.0</td>\n",
       "      <td>0.0</td>\n",
       "    </tr>\n",
       "    <tr>\n",
       "      <th>3</th>\n",
       "      <td>0.0</td>\n",
       "      <td>0.0</td>\n",
       "      <td>0.0</td>\n",
       "      <td>0.0</td>\n",
       "      <td>0.0</td>\n",
       "      <td>0.0</td>\n",
       "      <td>0.0</td>\n",
       "      <td>0.0</td>\n",
       "      <td>0.0</td>\n",
       "      <td>0.0</td>\n",
       "      <td>...</td>\n",
       "      <td>0.0</td>\n",
       "      <td>0.0</td>\n",
       "      <td>0.0</td>\n",
       "      <td>0.0</td>\n",
       "      <td>0.0</td>\n",
       "      <td>0.0</td>\n",
       "      <td>0.0</td>\n",
       "      <td>0.0</td>\n",
       "      <td>0.0</td>\n",
       "      <td>0.0</td>\n",
       "    </tr>\n",
       "    <tr>\n",
       "      <th>4</th>\n",
       "      <td>0.0</td>\n",
       "      <td>0.0</td>\n",
       "      <td>0.0</td>\n",
       "      <td>0.0</td>\n",
       "      <td>0.0</td>\n",
       "      <td>0.0</td>\n",
       "      <td>0.0</td>\n",
       "      <td>0.0</td>\n",
       "      <td>0.0</td>\n",
       "      <td>0.0</td>\n",
       "      <td>...</td>\n",
       "      <td>0.0</td>\n",
       "      <td>0.0</td>\n",
       "      <td>0.0</td>\n",
       "      <td>0.0</td>\n",
       "      <td>0.0</td>\n",
       "      <td>0.0</td>\n",
       "      <td>0.0</td>\n",
       "      <td>0.0</td>\n",
       "      <td>0.0</td>\n",
       "      <td>0.0</td>\n",
       "    </tr>\n",
       "    <tr>\n",
       "      <th>5</th>\n",
       "      <td>0.0</td>\n",
       "      <td>0.0</td>\n",
       "      <td>0.0</td>\n",
       "      <td>0.0</td>\n",
       "      <td>0.0</td>\n",
       "      <td>0.0</td>\n",
       "      <td>0.0</td>\n",
       "      <td>0.0</td>\n",
       "      <td>0.0</td>\n",
       "      <td>0.0</td>\n",
       "      <td>...</td>\n",
       "      <td>0.0</td>\n",
       "      <td>0.0</td>\n",
       "      <td>0.0</td>\n",
       "      <td>0.0</td>\n",
       "      <td>0.0</td>\n",
       "      <td>0.0</td>\n",
       "      <td>0.0</td>\n",
       "      <td>0.0</td>\n",
       "      <td>0.0</td>\n",
       "      <td>0.0</td>\n",
       "    </tr>\n",
       "    <tr>\n",
       "      <th>6</th>\n",
       "      <td>0.0</td>\n",
       "      <td>0.0</td>\n",
       "      <td>0.0</td>\n",
       "      <td>0.0</td>\n",
       "      <td>0.0</td>\n",
       "      <td>0.0</td>\n",
       "      <td>0.0</td>\n",
       "      <td>0.0</td>\n",
       "      <td>0.0</td>\n",
       "      <td>0.0</td>\n",
       "      <td>...</td>\n",
       "      <td>0.0</td>\n",
       "      <td>0.0</td>\n",
       "      <td>0.0</td>\n",
       "      <td>0.0</td>\n",
       "      <td>0.0</td>\n",
       "      <td>0.0</td>\n",
       "      <td>0.0</td>\n",
       "      <td>0.0</td>\n",
       "      <td>0.0</td>\n",
       "      <td>0.0</td>\n",
       "    </tr>\n",
       "    <tr>\n",
       "      <th>7</th>\n",
       "      <td>0.0</td>\n",
       "      <td>0.0</td>\n",
       "      <td>0.0</td>\n",
       "      <td>0.0</td>\n",
       "      <td>0.0</td>\n",
       "      <td>0.0</td>\n",
       "      <td>0.0</td>\n",
       "      <td>0.0</td>\n",
       "      <td>0.0</td>\n",
       "      <td>0.0</td>\n",
       "      <td>...</td>\n",
       "      <td>0.0</td>\n",
       "      <td>0.0</td>\n",
       "      <td>0.0</td>\n",
       "      <td>0.0</td>\n",
       "      <td>0.0</td>\n",
       "      <td>0.0</td>\n",
       "      <td>0.0</td>\n",
       "      <td>0.0</td>\n",
       "      <td>0.0</td>\n",
       "      <td>0.0</td>\n",
       "    </tr>\n",
       "    <tr>\n",
       "      <th>8</th>\n",
       "      <td>0.0</td>\n",
       "      <td>0.0</td>\n",
       "      <td>0.0</td>\n",
       "      <td>0.0</td>\n",
       "      <td>0.0</td>\n",
       "      <td>0.0</td>\n",
       "      <td>0.0</td>\n",
       "      <td>0.0</td>\n",
       "      <td>0.0</td>\n",
       "      <td>0.0</td>\n",
       "      <td>...</td>\n",
       "      <td>0.0</td>\n",
       "      <td>0.0</td>\n",
       "      <td>0.0</td>\n",
       "      <td>0.0</td>\n",
       "      <td>0.0</td>\n",
       "      <td>0.0</td>\n",
       "      <td>0.0</td>\n",
       "      <td>0.0</td>\n",
       "      <td>0.0</td>\n",
       "      <td>0.0</td>\n",
       "    </tr>\n",
       "    <tr>\n",
       "      <th>9</th>\n",
       "      <td>0.0</td>\n",
       "      <td>0.0</td>\n",
       "      <td>0.0</td>\n",
       "      <td>0.0</td>\n",
       "      <td>0.0</td>\n",
       "      <td>0.0</td>\n",
       "      <td>0.0</td>\n",
       "      <td>0.0</td>\n",
       "      <td>0.0</td>\n",
       "      <td>0.0</td>\n",
       "      <td>...</td>\n",
       "      <td>0.0</td>\n",
       "      <td>0.0</td>\n",
       "      <td>0.0</td>\n",
       "      <td>0.0</td>\n",
       "      <td>0.0</td>\n",
       "      <td>0.0</td>\n",
       "      <td>0.0</td>\n",
       "      <td>0.0</td>\n",
       "      <td>0.0</td>\n",
       "      <td>0.0</td>\n",
       "    </tr>\n",
       "    <tr>\n",
       "      <th>10</th>\n",
       "      <td>0.0</td>\n",
       "      <td>0.0</td>\n",
       "      <td>0.0</td>\n",
       "      <td>0.0</td>\n",
       "      <td>0.0</td>\n",
       "      <td>0.0</td>\n",
       "      <td>0.0</td>\n",
       "      <td>0.0</td>\n",
       "      <td>0.0</td>\n",
       "      <td>0.0</td>\n",
       "      <td>...</td>\n",
       "      <td>0.0</td>\n",
       "      <td>0.0</td>\n",
       "      <td>0.0</td>\n",
       "      <td>0.0</td>\n",
       "      <td>0.0</td>\n",
       "      <td>0.0</td>\n",
       "      <td>0.0</td>\n",
       "      <td>0.0</td>\n",
       "      <td>0.0</td>\n",
       "      <td>0.0</td>\n",
       "    </tr>\n",
       "    <tr>\n",
       "      <th>11</th>\n",
       "      <td>0.0</td>\n",
       "      <td>0.0</td>\n",
       "      <td>0.0</td>\n",
       "      <td>0.0</td>\n",
       "      <td>0.0</td>\n",
       "      <td>0.0</td>\n",
       "      <td>0.0</td>\n",
       "      <td>0.0</td>\n",
       "      <td>0.0</td>\n",
       "      <td>0.0</td>\n",
       "      <td>...</td>\n",
       "      <td>0.0</td>\n",
       "      <td>0.0</td>\n",
       "      <td>0.0</td>\n",
       "      <td>0.0</td>\n",
       "      <td>0.0</td>\n",
       "      <td>0.0</td>\n",
       "      <td>0.0</td>\n",
       "      <td>0.0</td>\n",
       "      <td>0.0</td>\n",
       "      <td>0.0</td>\n",
       "    </tr>\n",
       "    <tr>\n",
       "      <th>12</th>\n",
       "      <td>0.0</td>\n",
       "      <td>0.0</td>\n",
       "      <td>0.0</td>\n",
       "      <td>0.0</td>\n",
       "      <td>0.0</td>\n",
       "      <td>0.0</td>\n",
       "      <td>0.0</td>\n",
       "      <td>0.0</td>\n",
       "      <td>0.0</td>\n",
       "      <td>0.0</td>\n",
       "      <td>...</td>\n",
       "      <td>0.0</td>\n",
       "      <td>0.0</td>\n",
       "      <td>0.0</td>\n",
       "      <td>0.0</td>\n",
       "      <td>0.0</td>\n",
       "      <td>0.0</td>\n",
       "      <td>0.0</td>\n",
       "      <td>0.0</td>\n",
       "      <td>0.0</td>\n",
       "      <td>0.0</td>\n",
       "    </tr>\n",
       "    <tr>\n",
       "      <th>13</th>\n",
       "      <td>0.0</td>\n",
       "      <td>0.0</td>\n",
       "      <td>0.0</td>\n",
       "      <td>0.0</td>\n",
       "      <td>0.0</td>\n",
       "      <td>0.0</td>\n",
       "      <td>0.0</td>\n",
       "      <td>0.0</td>\n",
       "      <td>0.0</td>\n",
       "      <td>0.0</td>\n",
       "      <td>...</td>\n",
       "      <td>0.0</td>\n",
       "      <td>0.0</td>\n",
       "      <td>0.0</td>\n",
       "      <td>0.0</td>\n",
       "      <td>0.0</td>\n",
       "      <td>0.0</td>\n",
       "      <td>0.0</td>\n",
       "      <td>0.0</td>\n",
       "      <td>0.0</td>\n",
       "      <td>0.0</td>\n",
       "    </tr>\n",
       "    <tr>\n",
       "      <th>14</th>\n",
       "      <td>0.0</td>\n",
       "      <td>0.0</td>\n",
       "      <td>0.0</td>\n",
       "      <td>0.0</td>\n",
       "      <td>0.0</td>\n",
       "      <td>0.0</td>\n",
       "      <td>0.0</td>\n",
       "      <td>0.0</td>\n",
       "      <td>0.0</td>\n",
       "      <td>0.0</td>\n",
       "      <td>...</td>\n",
       "      <td>0.0</td>\n",
       "      <td>0.0</td>\n",
       "      <td>0.0</td>\n",
       "      <td>0.0</td>\n",
       "      <td>0.0</td>\n",
       "      <td>0.0</td>\n",
       "      <td>0.0</td>\n",
       "      <td>0.0</td>\n",
       "      <td>0.0</td>\n",
       "      <td>0.0</td>\n",
       "    </tr>\n",
       "    <tr>\n",
       "      <th>15</th>\n",
       "      <td>0.0</td>\n",
       "      <td>0.0</td>\n",
       "      <td>0.0</td>\n",
       "      <td>0.0</td>\n",
       "      <td>0.0</td>\n",
       "      <td>0.0</td>\n",
       "      <td>0.0</td>\n",
       "      <td>0.0</td>\n",
       "      <td>0.0</td>\n",
       "      <td>0.0</td>\n",
       "      <td>...</td>\n",
       "      <td>0.0</td>\n",
       "      <td>0.0</td>\n",
       "      <td>0.0</td>\n",
       "      <td>0.0</td>\n",
       "      <td>0.0</td>\n",
       "      <td>0.0</td>\n",
       "      <td>0.0</td>\n",
       "      <td>0.0</td>\n",
       "      <td>0.0</td>\n",
       "      <td>0.0</td>\n",
       "    </tr>\n",
       "    <tr>\n",
       "      <th>16</th>\n",
       "      <td>0.0</td>\n",
       "      <td>0.0</td>\n",
       "      <td>0.0</td>\n",
       "      <td>0.0</td>\n",
       "      <td>0.0</td>\n",
       "      <td>0.0</td>\n",
       "      <td>0.0</td>\n",
       "      <td>0.0</td>\n",
       "      <td>0.0</td>\n",
       "      <td>0.0</td>\n",
       "      <td>...</td>\n",
       "      <td>0.0</td>\n",
       "      <td>0.0</td>\n",
       "      <td>0.0</td>\n",
       "      <td>0.0</td>\n",
       "      <td>0.0</td>\n",
       "      <td>0.0</td>\n",
       "      <td>0.0</td>\n",
       "      <td>0.0</td>\n",
       "      <td>0.0</td>\n",
       "      <td>0.0</td>\n",
       "    </tr>\n",
       "    <tr>\n",
       "      <th>17</th>\n",
       "      <td>0.0</td>\n",
       "      <td>0.0</td>\n",
       "      <td>0.0</td>\n",
       "      <td>0.0</td>\n",
       "      <td>0.0</td>\n",
       "      <td>0.0</td>\n",
       "      <td>0.0</td>\n",
       "      <td>0.0</td>\n",
       "      <td>0.0</td>\n",
       "      <td>0.0</td>\n",
       "      <td>...</td>\n",
       "      <td>0.0</td>\n",
       "      <td>0.0</td>\n",
       "      <td>0.0</td>\n",
       "      <td>0.0</td>\n",
       "      <td>0.0</td>\n",
       "      <td>0.0</td>\n",
       "      <td>0.0</td>\n",
       "      <td>0.0</td>\n",
       "      <td>0.0</td>\n",
       "      <td>0.0</td>\n",
       "    </tr>\n",
       "  </tbody>\n",
       "</table>\n",
       "<p>18 rows × 5000 columns</p>\n",
       "</div>"
      ],
      "text/plain": [
       "    札卡利亞   傾力  遇壓走出盤  富邦恒生   台電   月單   醫學   高人  趙承佑   一展  ...   儲蓄   湧進   中共  \\\n",
       "0    0.0  0.0    0.0   0.0  0.0  0.0  0.0  0.0  0.0  0.0  ...  0.0  0.0  0.0   \n",
       "1    0.0  0.0    0.0   0.0  0.0  0.0  0.0  0.0  0.0  0.0  ...  0.0  0.0  0.0   \n",
       "2    0.0  0.0    0.0   0.0  0.0  0.0  0.0  0.0  0.0  0.0  ...  0.0  0.0  0.0   \n",
       "3    0.0  0.0    0.0   0.0  0.0  0.0  0.0  0.0  0.0  0.0  ...  0.0  0.0  0.0   \n",
       "4    0.0  0.0    0.0   0.0  0.0  0.0  0.0  0.0  0.0  0.0  ...  0.0  0.0  0.0   \n",
       "5    0.0  0.0    0.0   0.0  0.0  0.0  0.0  0.0  0.0  0.0  ...  0.0  0.0  0.0   \n",
       "6    0.0  0.0    0.0   0.0  0.0  0.0  0.0  0.0  0.0  0.0  ...  0.0  0.0  0.0   \n",
       "7    0.0  0.0    0.0   0.0  0.0  0.0  0.0  0.0  0.0  0.0  ...  0.0  0.0  0.0   \n",
       "8    0.0  0.0    0.0   0.0  0.0  0.0  0.0  0.0  0.0  0.0  ...  0.0  0.0  0.0   \n",
       "9    0.0  0.0    0.0   0.0  0.0  0.0  0.0  0.0  0.0  0.0  ...  0.0  0.0  0.0   \n",
       "10   0.0  0.0    0.0   0.0  0.0  0.0  0.0  0.0  0.0  0.0  ...  0.0  0.0  0.0   \n",
       "11   0.0  0.0    0.0   0.0  0.0  0.0  0.0  0.0  0.0  0.0  ...  0.0  0.0  0.0   \n",
       "12   0.0  0.0    0.0   0.0  0.0  0.0  0.0  0.0  0.0  0.0  ...  0.0  0.0  0.0   \n",
       "13   0.0  0.0    0.0   0.0  0.0  0.0  0.0  0.0  0.0  0.0  ...  0.0  0.0  0.0   \n",
       "14   0.0  0.0    0.0   0.0  0.0  0.0  0.0  0.0  0.0  0.0  ...  0.0  0.0  0.0   \n",
       "15   0.0  0.0    0.0   0.0  0.0  0.0  0.0  0.0  0.0  0.0  ...  0.0  0.0  0.0   \n",
       "16   0.0  0.0    0.0   0.0  0.0  0.0  0.0  0.0  0.0  0.0  ...  0.0  0.0  0.0   \n",
       "17   0.0  0.0    0.0   0.0  0.0  0.0  0.0  0.0  0.0  0.0  ...  0.0  0.0  0.0   \n",
       "\n",
       "     競逐   任日   台開  席一般  轉交給  印度諾伊達  周周漲  \n",
       "0   0.0  0.0  0.0  0.0  0.0    0.0  0.0  \n",
       "1   0.0  0.0  0.0  0.0  0.0    0.0  0.0  \n",
       "2   0.0  0.0  0.0  0.0  0.0    0.0  0.0  \n",
       "3   0.0  0.0  0.0  0.0  0.0    0.0  0.0  \n",
       "4   0.0  0.0  0.0  0.0  0.0    0.0  0.0  \n",
       "5   0.0  0.0  0.0  0.0  0.0    0.0  0.0  \n",
       "6   0.0  0.0  0.0  0.0  0.0    0.0  0.0  \n",
       "7   0.0  0.0  0.0  0.0  0.0    0.0  0.0  \n",
       "8   0.0  0.0  0.0  0.0  0.0    0.0  0.0  \n",
       "9   0.0  0.0  0.0  0.0  0.0    0.0  0.0  \n",
       "10  0.0  0.0  0.0  0.0  0.0    0.0  0.0  \n",
       "11  0.0  0.0  0.0  0.0  0.0    0.0  0.0  \n",
       "12  0.0  0.0  0.0  0.0  0.0    0.0  0.0  \n",
       "13  0.0  0.0  0.0  0.0  0.0    0.0  0.0  \n",
       "14  0.0  0.0  0.0  0.0  0.0    0.0  0.0  \n",
       "15  0.0  0.0  0.0  0.0  0.0    0.0  0.0  \n",
       "16  0.0  0.0  0.0  0.0  0.0    0.0  0.0  \n",
       "17  0.0  0.0  0.0  0.0  0.0    0.0  0.0  \n",
       "\n",
       "[18 rows x 5000 columns]"
      ]
     },
     "execution_count": 120,
     "metadata": {},
     "output_type": "execute_result"
    }
   ],
   "source": [
    "# 接著將4月份的結果透過df.reindex這個方法映射到訓練集的向量空間中\n",
    "y_test = wistron_term_trend_df['label']\n",
    "\n",
    "vectorizer = TfidfVectorizer(vocabulary = vocab, use_idf = True)\n",
    "X_test = vectorizer.fit_transform(test_tokenStr_list)\n",
    "X_test = pd.DataFrame(X_test.toarray(),columns=vectorizer.get_feature_names())\n",
    "X_test = X_test.reindex(kbest_vocabs, axis=1, fill_value=0)\n",
    "X_test"
   ]
  },
  {
   "attachments": {},
   "cell_type": "markdown",
   "metadata": {},
   "source": [
    "### 建立預測模型"
   ]
  },
  {
   "cell_type": "code",
   "execution_count": 121,
   "metadata": {},
   "outputs": [],
   "source": [
    "from sklearn.ensemble import GradientBoostingClassifier"
   ]
  },
  {
   "cell_type": "code",
   "execution_count": 122,
   "metadata": {},
   "outputs": [
    {
     "data": {
      "text/plain": [
       "0.9442998438313378"
      ]
     },
     "execution_count": 122,
     "metadata": {},
     "output_type": "execute_result"
    }
   ],
   "source": [
    "# Train\n",
    "clf = GradientBoostingClassifier(n_estimators=100, learning_rate=1, max_depth=7, random_state=0)\n",
    "clf.fit(X_train, y_train)\n",
    "clf.score(X_train, y_train)"
   ]
  },
  {
   "attachments": {},
   "cell_type": "markdown",
   "metadata": {},
   "source": [
    "### 檢視預測結果"
   ]
  },
  {
   "cell_type": "code",
   "execution_count": 123,
   "metadata": {},
   "outputs": [
    {
     "name": "stdout",
     "output_type": "stream",
     "text": [
      "8月份預測準確率: 1.0\n"
     ]
    },
    {
     "name": "stderr",
     "output_type": "stream",
     "text": [
      "C:\\Users\\User\\AppData\\Local\\Temp\\ipykernel_28372\\1055319402.py:7: SettingWithCopyWarning: \n",
      "A value is trying to be set on a copy of a slice from a DataFrame.\n",
      "Try using .loc[row_indexer,col_indexer] = value instead\n",
      "\n",
      "See the caveats in the documentation: https://pandas.pydata.org/pandas-docs/stable/user_guide/indexing.html#returning-a-view-versus-a-copy\n",
      "  test_data['predict_label'] = clf.predict(X_test)\n"
     ]
    }
   ],
   "source": [
    "new_df_ase['date'] = pd.to_datetime(new_df_ase['date']).dt.date\n",
    "new_df_ase['date-1'] = new_df_ase['date'] - datetime.timedelta(days=1)\n",
    "\n",
    "test_label = new_df_ase[new_df_ase['date-1'].between(test_startDate, test_endDate)]['label']\n",
    "\n",
    "test_data = wistron_term_trend_df[wistron_term_trend_df['date'].between(test_startDate, test_endDate)]\n",
    "test_data['predict_label'] = clf.predict(X_test)\n",
    "predict_label = pd.merge(\n",
    "    new_df_ase[new_df_ase['date-1'].between(test_startDate, test_endDate)], \n",
    "    test_data.groupby(['date', 'predict_label']).count().sort_values('label', ascending = False).sort_index(level=[0], sort_remaining=False).groupby(level=0).head(1).reset_index(), \n",
    "    left_on='date-1', right_on='date', how='left').fillna(method='ffill').fillna(method='bfill')['predict_label']\n",
    "\n",
    "from sklearn.metrics import accuracy_score\n",
    "print('{}月份預測準確率:'.format(test_startDate.month), accuracy_score(test_label, predict_label))\n"
   ]
  },
  {
   "cell_type": "code",
   "execution_count": 124,
   "metadata": {},
   "outputs": [
    {
     "data": {
      "text/html": [
       "<div>\n",
       "<style scoped>\n",
       "    .dataframe tbody tr th:only-of-type {\n",
       "        vertical-align: middle;\n",
       "    }\n",
       "\n",
       "    .dataframe tbody tr th {\n",
       "        vertical-align: top;\n",
       "    }\n",
       "\n",
       "    .dataframe thead th {\n",
       "        text-align: right;\n",
       "    }\n",
       "</style>\n",
       "<table border=\"1\" class=\"dataframe\">\n",
       "  <thead>\n",
       "    <tr style=\"text-align: right;\">\n",
       "      <th></th>\n",
       "      <th>label</th>\n",
       "      <th>predict_label</th>\n",
       "    </tr>\n",
       "  </thead>\n",
       "  <tbody>\n",
       "    <tr>\n",
       "      <th>0</th>\n",
       "      <td>up</td>\n",
       "      <td>up</td>\n",
       "    </tr>\n",
       "    <tr>\n",
       "      <th>1</th>\n",
       "      <td>up</td>\n",
       "      <td>up</td>\n",
       "    </tr>\n",
       "  </tbody>\n",
       "</table>\n",
       "</div>"
      ],
      "text/plain": [
       "  label predict_label\n",
       "0    up            up\n",
       "1    up            up"
      ]
     },
     "execution_count": 124,
     "metadata": {},
     "output_type": "execute_result"
    }
   ],
   "source": [
    "pd.DataFrame([test_label.reset_index(drop=True), predict_label]).T"
   ]
  }
 ],
 "metadata": {
  "kernelspec": {
   "display_name": "yuchi_msp",
   "language": "python",
   "name": "python3"
  },
  "language_info": {
   "codemirror_mode": {
    "name": "ipython",
    "version": 3
   },
   "file_extension": ".py",
   "mimetype": "text/x-python",
   "name": "python",
   "nbconvert_exporter": "python",
   "pygments_lexer": "ipython3",
   "version": "3.9.13"
  },
  "orig_nbformat": 4
 },
 "nbformat": 4,
 "nbformat_minor": 2
}
